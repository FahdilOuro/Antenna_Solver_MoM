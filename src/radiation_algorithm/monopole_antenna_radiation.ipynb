{
 "cells": [
  {
   "cell_type": "code",
   "execution_count": 1,
   "metadata": {},
   "outputs": [],
   "source": [
    "from src.radiation_algorithm.radiation_algorithm import *\n",
    "from rwg.rwg6 import plot_surface_current_distribution"
   ]
  },
  {
   "cell_type": "code",
   "execution_count": 2,
   "metadata": {},
   "outputs": [],
   "source": [
    "def traitement_de_(filename):\n",
    "    base_name = os.path.splitext(os.path.basename(filename))[0]\n",
    "    print(f\"Traitement de l'antenne {base_name}\")"
   ]
  },
  {
   "cell_type": "code",
   "execution_count": 3,
   "metadata": {},
   "outputs": [],
   "source": [
    "filename_mesh_plate_monopole = 'data/antennas_mesh/plate_monopole.mat'"
   ]
  },
  {
   "cell_type": "code",
   "execution_count": 4,
   "metadata": {},
   "outputs": [
    {
     "name": "stdout",
     "output_type": "stream",
     "text": [
      "Traitement de l'antenne plate_monopole\n",
      "length of antenna plate_monopole = 2.0 meter\n",
      "width of antenna plate_monopole = 2.000002 meter\n",
      "height of antenna plate_monopole = 0.0 meter\n",
      "Total numbers of Edges is = 383\n",
      "Aucune jonction complexe trouvée....\n",
      "Data saved successfully to data/antennas_mesh1/plate_monopole_mesh1.mat\n",
      "Data saved successfully to data/antennas_mesh2/plate_monopole_mesh2.mat\n"
     ]
    },
    {
     "name": "stderr",
     "output_type": "stream",
     "text": [
      "D:\\Doctorat LEAT\\Projets_Github\\Antenna_Solver_MoM\\utils\\impmet.py:69: RuntimeWarning: divide by zero encountered in divide\n",
      "  g_function = np.exp(-parameter_k * norm_of_distances) / norm_of_distances                # Dimension [1, 9, total_of_triangles]\n",
      "D:\\Doctorat LEAT\\Projets_Github\\Antenna_Solver_MoM\\utils\\impmet.py:69: RuntimeWarning: invalid value encountered in divide\n",
      "  g_function = np.exp(-parameter_k * norm_of_distances) / norm_of_distances                # Dimension [1, 9, total_of_triangles]\n"
     ]
    },
    {
     "name": "stdout",
     "output_type": "stream",
     "text": [
      "Temps écoulé pour le calcul de la matrice Z : 0.201673 secondes\n",
      "Data saved successfully to data/antennas_impedance/plate_monopole_impedance.mat\n",
      "Data loaded from data/antennas_mesh2/plate_monopole_mesh2.mat\n",
      "Data loaded from data/antennas_impedance/plate_monopole_impedance.mat\n",
      "La valeur de l'impédance d'entrée de l'antenne plate_monopole =  nan - nani Ohm\n",
      "La valeur de feed_power  = nan\n",
      "Data saved successfully to data/antennas_current/plate_monopole_current.mat\n",
      "Sauvegarde du fichier : plate_monopole_current.mat effectué avec succès !\n",
      "Fréquence de l'onde incidente : 75000000.0 Hz\n",
      "Max Current = nan [A/m]\n",
      "plate_monopole antenna surface current in receiving mode view is successfully created at frequency 75000000.0 Hz\n"
     ]
    },
    {
     "name": "stderr",
     "output_type": "stream",
     "text": [
      "D:\\Doctorat LEAT\\Projets_Github\\Antenna_Solver_MoM\\rwg\\rwg4.py:157: RuntimeWarning: invalid value encountered in scalar divide\n",
      "  impedance = gap_voltage / gap_current   # Impédance d'entrée\n"
     ]
    },
    {
     "ename": "IndexError",
     "evalue": "list index out of range",
     "output_type": "error",
     "traceback": [
      "\u001b[1;31m---------------------------------------------------------------------------\u001b[0m",
      "\u001b[1;31mIndexError\u001b[0m                                Traceback (most recent call last)",
      "Cell \u001b[1;32mIn[4], line 8\u001b[0m\n\u001b[0;32m      5\u001b[0m voltage_amplitude \u001b[38;5;241m=\u001b[39m \u001b[38;5;241m1\u001b[39m  \u001b[38;5;66;03m# Valeur de l'amplitude égale à 1 volt\u001b[39;00m\n\u001b[0;32m      7\u001b[0m traitement_de_(filename_mesh_plate_monopole)\n\u001b[1;32m----> 8\u001b[0m \u001b[43mradiation_algorithm\u001b[49m\u001b[43m(\u001b[49m\u001b[43mfilename_mesh_plate_monopole\u001b[49m\u001b[43m,\u001b[49m\u001b[43m \u001b[49m\u001b[38;5;241;43m75e6\u001b[39;49m\u001b[43m,\u001b[49m\u001b[43m \u001b[49m\u001b[43mfeed_point_strip2\u001b[49m\u001b[43m,\u001b[49m\u001b[43m \u001b[49m\u001b[43mvoltage_amplitude\u001b[49m\u001b[43m)\u001b[49m\n\u001b[0;32m     10\u001b[0m elapsed_time \u001b[38;5;241m=\u001b[39m time\u001b[38;5;241m.\u001b[39mtime() \u001b[38;5;241m-\u001b[39m start_time\n\u001b[0;32m     11\u001b[0m \u001b[38;5;28mprint\u001b[39m(\u001b[38;5;124mf\u001b[39m\u001b[38;5;124m\"\u001b[39m\u001b[38;5;124mTemps écoulé pour le traitement de l\u001b[39m\u001b[38;5;124m'\u001b[39m\u001b[38;5;124mantenne étudiée : \u001b[39m\u001b[38;5;132;01m{\u001b[39;00melapsed_time\u001b[38;5;132;01m:\u001b[39;00m\u001b[38;5;124m.6f\u001b[39m\u001b[38;5;132;01m}\u001b[39;00m\u001b[38;5;124m secondes\u001b[39m\u001b[38;5;124m\"\u001b[39m)\n",
      "File \u001b[1;32mD:\\Doctorat LEAT\\Projets_Github\\Antenna_Solver_MoM\\src\\radiation_algorithm\\radiation_algorithm.py:89\u001b[0m, in \u001b[0;36mradiation_algorithm\u001b[1;34m(mesh1, frequency, feed_point, voltage_amplitude, load_from_matlab)\u001b[0m\n\u001b[0;32m     87\u001b[0m antennas_name \u001b[38;5;241m=\u001b[39m os\u001b[38;5;241m.\u001b[39mpath\u001b[38;5;241m.\u001b[39msplitext(os\u001b[38;5;241m.\u001b[39mpath\u001b[38;5;241m.\u001b[39mbasename(filename_mesh2_to_load))[\u001b[38;5;241m0\u001b[39m]\u001b[38;5;241m.\u001b[39mreplace(\u001b[38;5;124m'\u001b[39m\u001b[38;5;124m_mesh2\u001b[39m\u001b[38;5;124m'\u001b[39m, \u001b[38;5;124m'\u001b[39m\u001b[38;5;124m antenna surface current in receiving mode\u001b[39m\u001b[38;5;124m'\u001b[39m)\n\u001b[0;32m     88\u001b[0m \u001b[38;5;28mprint\u001b[39m(\u001b[38;5;124mf\u001b[39m\u001b[38;5;124m\"\u001b[39m\u001b[38;5;132;01m{\u001b[39;00mantennas_name\u001b[38;5;132;01m}\u001b[39;00m\u001b[38;5;124m view is successfully created at frequency \u001b[39m\u001b[38;5;132;01m{\u001b[39;00mfrequency\u001b[38;5;132;01m}\u001b[39;00m\u001b[38;5;124m Hz\u001b[39m\u001b[38;5;124m\"\u001b[39m)\n\u001b[1;32m---> 89\u001b[0m fig \u001b[38;5;241m=\u001b[39m \u001b[43mvisualize_surface_current\u001b[49m\u001b[43m(\u001b[49m\u001b[43mpoints\u001b[49m\u001b[43m,\u001b[49m\u001b[43m \u001b[49m\u001b[43mtriangles\u001b[49m\u001b[43m,\u001b[49m\u001b[43m \u001b[49m\u001b[43msurface_current_density\u001b[49m\u001b[43m \u001b[49m\u001b[38;5;241;43m/\u001b[39;49m\u001b[43m \u001b[49m\u001b[38;5;28;43mmax\u001b[39;49m\u001b[43m(\u001b[49m\u001b[43msurface_current_density\u001b[49m\u001b[43m)\u001b[49m\u001b[43m,\u001b[49m\u001b[43m \u001b[49m\u001b[43mantennas_name\u001b[49m\u001b[43m)\u001b[49m\n\u001b[0;32m     90\u001b[0m fig\u001b[38;5;241m.\u001b[39mshow()\n",
      "File \u001b[1;32mD:\\Doctorat LEAT\\Projets_Github\\Antenna_Solver_MoM\\rwg\\rwg5.py:148\u001b[0m, in \u001b[0;36mvisualize_surface_current\u001b[1;34m(points_data, triangles_data, surface_current_density, title)\u001b[0m\n\u001b[0;32m    145\u001b[0m aspect_ratios \u001b[38;5;241m=\u001b[39m compute_aspect_ratios(points_data\u001b[38;5;241m.\u001b[39mpoints)\n\u001b[0;32m    147\u001b[0m \u001b[38;5;66;03m# Création de la figure avec trisurf\u001b[39;00m\n\u001b[1;32m--> 148\u001b[0m fig \u001b[38;5;241m=\u001b[39m \u001b[43mff\u001b[49m\u001b[38;5;241;43m.\u001b[39;49m\u001b[43mcreate_trisurf\u001b[49m\u001b[43m(\u001b[49m\n\u001b[0;32m    149\u001b[0m \u001b[43m    \u001b[49m\u001b[43mx\u001b[49m\u001b[38;5;241;43m=\u001b[39;49m\u001b[43mx_\u001b[49m\u001b[43m,\u001b[49m\n\u001b[0;32m    150\u001b[0m \u001b[43m    \u001b[49m\u001b[43my\u001b[49m\u001b[38;5;241;43m=\u001b[39;49m\u001b[43my_\u001b[49m\u001b[43m,\u001b[49m\n\u001b[0;32m    151\u001b[0m \u001b[43m    \u001b[49m\u001b[43mz\u001b[49m\u001b[38;5;241;43m=\u001b[39;49m\u001b[43mz_\u001b[49m\u001b[43m,\u001b[49m\n\u001b[0;32m    152\u001b[0m \u001b[43m    \u001b[49m\u001b[43msimplices\u001b[49m\u001b[38;5;241;43m=\u001b[39;49m\u001b[43msimplices\u001b[49m\u001b[43m,\u001b[49m\n\u001b[0;32m    153\u001b[0m \u001b[43m    \u001b[49m\u001b[43mcolormap\u001b[49m\u001b[38;5;241;43m=\u001b[39;49m\u001b[38;5;124;43m\"\u001b[39;49m\u001b[38;5;124;43mRainbow\u001b[39;49m\u001b[38;5;124;43m\"\u001b[39;49m\u001b[43m,\u001b[49m\n\u001b[0;32m    154\u001b[0m \u001b[43m    \u001b[49m\u001b[43mcolor_func\u001b[49m\u001b[38;5;241;43m=\u001b[39;49m\u001b[43msurface_current_density\u001b[49m\u001b[43m,\u001b[49m\u001b[43m  \u001b[49m\u001b[38;5;66;43;03m# Utilisation de la densité de courant pour colorer\u001b[39;49;00m\n\u001b[0;32m    155\u001b[0m \u001b[43m    \u001b[49m\u001b[43mshow_colorbar\u001b[49m\u001b[38;5;241;43m=\u001b[39;49m\u001b[38;5;28;43;01mTrue\u001b[39;49;00m\u001b[43m,\u001b[49m\n\u001b[0;32m    156\u001b[0m \u001b[43m    \u001b[49m\u001b[43mtitle\u001b[49m\u001b[38;5;241;43m=\u001b[39;49m\u001b[43mtitle\u001b[49m\u001b[43m,\u001b[49m\n\u001b[0;32m    157\u001b[0m \u001b[43m    \u001b[49m\u001b[43maspectratio\u001b[49m\u001b[38;5;241;43m=\u001b[39;49m\u001b[43maspect_ratios\u001b[49m\u001b[43m,\u001b[49m\n\u001b[0;32m    158\u001b[0m \u001b[43m\u001b[49m\u001b[43m)\u001b[49m\n\u001b[0;32m    159\u001b[0m \u001b[38;5;28;01mreturn\u001b[39;00m fig\n",
      "File \u001b[1;32m~\\AppData\\Local\\Programs\\Python\\Python313\\Lib\\site-packages\\plotly\\figure_factory\\_trisurf.py:476\u001b[0m, in \u001b[0;36mcreate_trisurf\u001b[1;34m(x, y, z, simplices, colormap, show_colorbar, scale, color_func, title, plot_edges, showbackground, backgroundcolor, gridcolor, zerolinecolor, edges_color, height, width, aspectratio)\u001b[0m\n\u001b[0;32m    471\u001b[0m clrs\u001b[38;5;241m.\u001b[39mvalidate_colors(colormap)\n\u001b[0;32m    472\u001b[0m colormap, scale \u001b[38;5;241m=\u001b[39m clrs\u001b[38;5;241m.\u001b[39mconvert_colors_to_same_type(\n\u001b[0;32m    473\u001b[0m     colormap, colortype\u001b[38;5;241m=\u001b[39m\u001b[38;5;124m\"\u001b[39m\u001b[38;5;124mtuple\u001b[39m\u001b[38;5;124m\"\u001b[39m, return_default_colors\u001b[38;5;241m=\u001b[39m\u001b[38;5;28;01mTrue\u001b[39;00m, scale\u001b[38;5;241m=\u001b[39mscale\n\u001b[0;32m    474\u001b[0m )\n\u001b[1;32m--> 476\u001b[0m data1 \u001b[38;5;241m=\u001b[39m \u001b[43mtrisurf\u001b[49m\u001b[43m(\u001b[49m\n\u001b[0;32m    477\u001b[0m \u001b[43m    \u001b[49m\u001b[43mx\u001b[49m\u001b[43m,\u001b[49m\n\u001b[0;32m    478\u001b[0m \u001b[43m    \u001b[49m\u001b[43my\u001b[49m\u001b[43m,\u001b[49m\n\u001b[0;32m    479\u001b[0m \u001b[43m    \u001b[49m\u001b[43mz\u001b[49m\u001b[43m,\u001b[49m\n\u001b[0;32m    480\u001b[0m \u001b[43m    \u001b[49m\u001b[43msimplices\u001b[49m\u001b[43m,\u001b[49m\n\u001b[0;32m    481\u001b[0m \u001b[43m    \u001b[49m\u001b[43mshow_colorbar\u001b[49m\u001b[38;5;241;43m=\u001b[39;49m\u001b[43mshow_colorbar\u001b[49m\u001b[43m,\u001b[49m\n\u001b[0;32m    482\u001b[0m \u001b[43m    \u001b[49m\u001b[43mcolor_func\u001b[49m\u001b[38;5;241;43m=\u001b[39;49m\u001b[43mcolor_func\u001b[49m\u001b[43m,\u001b[49m\n\u001b[0;32m    483\u001b[0m \u001b[43m    \u001b[49m\u001b[43mcolormap\u001b[49m\u001b[38;5;241;43m=\u001b[39;49m\u001b[43mcolormap\u001b[49m\u001b[43m,\u001b[49m\n\u001b[0;32m    484\u001b[0m \u001b[43m    \u001b[49m\u001b[43mscale\u001b[49m\u001b[38;5;241;43m=\u001b[39;49m\u001b[43mscale\u001b[49m\u001b[43m,\u001b[49m\n\u001b[0;32m    485\u001b[0m \u001b[43m    \u001b[49m\u001b[43medges_color\u001b[49m\u001b[38;5;241;43m=\u001b[39;49m\u001b[43medges_color\u001b[49m\u001b[43m,\u001b[49m\n\u001b[0;32m    486\u001b[0m \u001b[43m    \u001b[49m\u001b[43mplot_edges\u001b[49m\u001b[38;5;241;43m=\u001b[39;49m\u001b[43mplot_edges\u001b[49m\u001b[43m,\u001b[49m\n\u001b[0;32m    487\u001b[0m \u001b[43m\u001b[49m\u001b[43m)\u001b[49m\n\u001b[0;32m    489\u001b[0m axis \u001b[38;5;241m=\u001b[39m \u001b[38;5;28mdict\u001b[39m(\n\u001b[0;32m    490\u001b[0m     showbackground\u001b[38;5;241m=\u001b[39mshowbackground,\n\u001b[0;32m    491\u001b[0m     backgroundcolor\u001b[38;5;241m=\u001b[39mbackgroundcolor,\n\u001b[0;32m    492\u001b[0m     gridcolor\u001b[38;5;241m=\u001b[39mgridcolor,\n\u001b[0;32m    493\u001b[0m     zerolinecolor\u001b[38;5;241m=\u001b[39mzerolinecolor,\n\u001b[0;32m    494\u001b[0m )\n\u001b[0;32m    495\u001b[0m layout \u001b[38;5;241m=\u001b[39m graph_objs\u001b[38;5;241m.\u001b[39mLayout(\n\u001b[0;32m    496\u001b[0m     title\u001b[38;5;241m=\u001b[39mtitle,\n\u001b[0;32m    497\u001b[0m     width\u001b[38;5;241m=\u001b[39mwidth,\n\u001b[1;32m   (...)\u001b[0m\n\u001b[0;32m    506\u001b[0m     ),\n\u001b[0;32m    507\u001b[0m )\n",
      "File \u001b[1;32m~\\AppData\\Local\\Programs\\Python\\Python313\\Lib\\site-packages\\plotly\\figure_factory\\_trisurf.py:150\u001b[0m, in \u001b[0;36mtrisurf\u001b[1;34m(x, y, z, simplices, show_colorbar, edges_color, scale, colormap, color_func, plot_edges, x_edge, y_edge, z_edge, facecolor)\u001b[0m\n\u001b[0;32m    148\u001b[0m         facecolor \u001b[38;5;241m=\u001b[39m []\n\u001b[0;32m    149\u001b[0m     \u001b[38;5;28;01mfor\u001b[39;00m index \u001b[38;5;129;01min\u001b[39;00m \u001b[38;5;28mrange\u001b[39m(\u001b[38;5;28mlen\u001b[39m(mean_dists)):\n\u001b[1;32m--> 150\u001b[0m         color \u001b[38;5;241m=\u001b[39m \u001b[43mmap_face2color\u001b[49m\u001b[43m(\u001b[49m\n\u001b[0;32m    151\u001b[0m \u001b[43m            \u001b[49m\u001b[43mmean_dists\u001b[49m\u001b[43m[\u001b[49m\u001b[43mindex\u001b[49m\u001b[43m]\u001b[49m\u001b[43m,\u001b[49m\u001b[43m \u001b[49m\u001b[43mcolormap\u001b[49m\u001b[43m,\u001b[49m\u001b[43m \u001b[49m\u001b[43mscale\u001b[49m\u001b[43m,\u001b[49m\u001b[43m \u001b[49m\u001b[43mmin_mean_dists\u001b[49m\u001b[43m,\u001b[49m\u001b[43m \u001b[49m\u001b[43mmax_mean_dists\u001b[49m\n\u001b[0;32m    152\u001b[0m \u001b[43m        \u001b[49m\u001b[43m)\u001b[49m\n\u001b[0;32m    153\u001b[0m         facecolor\u001b[38;5;241m.\u001b[39mappend(color)\n\u001b[0;32m    155\u001b[0m \u001b[38;5;66;03m# Make sure facecolor is a list so output is consistent across Pythons\u001b[39;00m\n",
      "File \u001b[1;32m~\\AppData\\Local\\Programs\\Python\\Python313\\Lib\\site-packages\\plotly\\figure_factory\\_trisurf.py:63\u001b[0m, in \u001b[0;36mmap_face2color\u001b[1;34m(face, colormap, scale, vmin, vmax)\u001b[0m\n\u001b[0;32m     60\u001b[0m     low_color_index \u001b[38;5;241m+\u001b[39m\u001b[38;5;241m=\u001b[39m \u001b[38;5;241m1\u001b[39m\n\u001b[0;32m     62\u001b[0m low_scale_val \u001b[38;5;241m=\u001b[39m scale[low_color_index]\n\u001b[1;32m---> 63\u001b[0m high_scale_val \u001b[38;5;241m=\u001b[39m \u001b[43mscale\u001b[49m\u001b[43m[\u001b[49m\u001b[43mlow_color_index\u001b[49m\u001b[43m \u001b[49m\u001b[38;5;241;43m+\u001b[39;49m\u001b[43m \u001b[49m\u001b[38;5;241;43m1\u001b[39;49m\u001b[43m]\u001b[49m\n\u001b[0;32m     65\u001b[0m face_color \u001b[38;5;241m=\u001b[39m clrs\u001b[38;5;241m.\u001b[39mfind_intermediate_color(\n\u001b[0;32m     66\u001b[0m     colormap[low_color_index],\n\u001b[0;32m     67\u001b[0m     colormap[low_color_index \u001b[38;5;241m+\u001b[39m \u001b[38;5;241m1\u001b[39m],\n\u001b[0;32m     68\u001b[0m     (t \u001b[38;5;241m-\u001b[39m low_scale_val) \u001b[38;5;241m/\u001b[39m (high_scale_val \u001b[38;5;241m-\u001b[39m low_scale_val),\n\u001b[0;32m     69\u001b[0m )\n\u001b[0;32m     71\u001b[0m face_color \u001b[38;5;241m=\u001b[39m clrs\u001b[38;5;241m.\u001b[39mconvert_to_RGB_255(face_color)\n",
      "\u001b[1;31mIndexError\u001b[0m: list index out of range"
     ]
    }
   ],
   "source": [
    "# Mesure du temps de début\n",
    "start_time = time.time()\n",
    "\n",
    "feed_point_strip2 = [0, 0, 0]\n",
    "voltage_amplitude = 1  # Valeur de l'amplitude égale à 1 volt\n",
    "\n",
    "traitement_de_(filename_mesh_plate_monopole)\n",
    "radiation_algorithm(filename_mesh_plate_monopole, 75e6, feed_point_strip2, voltage_amplitude)\n",
    "\n",
    "elapsed_time = time.time() - start_time\n",
    "print(f\"Temps écoulé pour le traitement de l'antenne étudiée : {elapsed_time:.6f} secondes\")\n",
    "print('\\n')"
   ]
  },
  {
   "cell_type": "code",
   "execution_count": null,
   "metadata": {},
   "outputs": [],
   "source": [
    "filename_mesh2_plate_monopole = 'data/antennas_mesh2/plate_monopole_mesh2.mat'\n",
    "filename_current_plate_monopole = 'data/antennas_current/plate_monopole_current.mat'\n",
    "\n",
    "plot_surface_current_distribution(filename_mesh2_plate_monopole, filename_mesh2_plate_monopole)"
   ]
  }
 ],
 "metadata": {
  "kernelspec": {
   "display_name": "Python 3 (ipykernel)",
   "language": "python",
   "name": "python3"
  },
  "language_info": {
   "codemirror_mode": {
    "name": "ipython",
    "version": 3
   },
   "file_extension": ".py",
   "mimetype": "text/x-python",
   "name": "python",
   "nbconvert_exporter": "python",
   "pygments_lexer": "ipython3",
   "version": "3.13.0"
  }
 },
 "nbformat": 4,
 "nbformat_minor": 2
}
