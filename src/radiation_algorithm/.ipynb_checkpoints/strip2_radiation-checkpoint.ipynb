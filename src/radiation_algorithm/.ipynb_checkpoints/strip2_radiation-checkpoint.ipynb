{
 "cells": [
  {
   "cell_type": "code",
   "execution_count": null,
   "metadata": {
    "vscode": {
     "languageId": "plaintext"
    }
   },
   "outputs": [],
   "source": [
    "from src.radiation_algorithm.radiation_algorithm import *"
   ]
  },
  {
   "cell_type": "code",
   "execution_count": null,
   "metadata": {
    "vscode": {
     "languageId": "plaintext"
    }
   },
   "outputs": [],
   "source": [
    "def traitement_de_(filename):\n",
    "    base_name = os.path.splitext(os.path.basename(filename))[0]\n",
    "    print(f\"Traitement de l'antenne {base_name}\")"
   ]
  },
  {
   "cell_type": "code",
   "execution_count": null,
   "metadata": {
    "vscode": {
     "languageId": "plaintext"
    }
   },
   "outputs": [],
   "source": [
    "filename_mesh1_strip2 = 'data/antennas_mesh/strip2.mat'\n",
    "\n",
    "if not os.path.exists(filename_mesh1_strip2):\n",
    "    print(f\"Le fichier '{filename_mesh1_strip2}' est introuvable.\")\n",
    "else:\n",
    "    # Mesure du temps de début\n",
    "    start_time = time.time()\n",
    "\n",
    "    traitement_de_(filename_mesh1_strip2)\n",
    "    radiation_algorithm(filename_mesh1_strip2, 75e6)\n",
    "\n",
    "    elapsed_time = time.time() - start_time\n",
    "    print(f\"Temps écoulé pour le traitement de l'antenne étudiée : {elapsed_time:.6f} secondes\")\n",
    "    print('\\n')\n"
   ]
  }
 ],
 "metadata": {
  "language_info": {
   "name": "python"
  }
 },
 "nbformat": 4,
 "nbformat_minor": 2
}
