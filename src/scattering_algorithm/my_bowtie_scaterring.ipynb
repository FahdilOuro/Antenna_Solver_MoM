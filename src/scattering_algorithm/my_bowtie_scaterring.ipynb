{
 "cells": [
  {
   "cell_type": "code",
   "execution_count": null,
   "metadata": {
    "vscode": {
     "languageId": "plaintext"
    }
   },
   "outputs": [],
   "source": [
    "from src.scattering_algorithm.scattering_algorithm import *"
   ]
  },
  {
   "cell_type": "code",
   "execution_count": null,
   "metadata": {
    "vscode": {
     "languageId": "plaintext"
    }
   },
   "outputs": [],
   "source": [
    "def traitement_de_(filename):\n",
    "    base_name = os.path.splitext(os.path.basename(filename))[0]\n",
    "    print(f\"Traitement de l'antenne {base_name}\")"
   ]
  },
  {
   "cell_type": "code",
   "execution_count": null,
   "metadata": {
    "vscode": {
     "languageId": "plaintext"
    }
   },
   "outputs": [],
   "source": [
    "filename_mesh_bowtie = 'data/antennas_mesh/BOWTIE_by_TRI.mat'"
   ]
  },
  {
   "cell_type": "code",
   "execution_count": null,
   "metadata": {
    "vscode": {
     "languageId": "plaintext"
    }
   },
   "outputs": [],
   "source": [
    "frequency = 75e6  # La fréquence du champ électromagnétique peut être défini pour chaque antenne\n",
    "# Definition des vecteurs de direction d'onde et de polarisation\n",
    "wave_incident_direction = np.array([0, 0, -1])"
   ]
  },
  {
   "cell_type": "code",
   "execution_count": null,
   "metadata": {
    "vscode": {
     "languageId": "plaintext"
    }
   },
   "outputs": [],
   "source": [
    "start_time = time.time()\n",
    "\n",
    "traitement_de_(filename_mesh_bowtie)\n",
    "scattering_algorithm(filename_mesh_bowtie, 75e7, wave_incident_direction, polarization=np.array([0, 1, 0]), load_from_matlab=False)\n",
    "\n",
    "elapsed_time = time.time() - start_time\n",
    "print(f\"Temps écoulé pour le traitement de l'antenne étudiée : {elapsed_time:.6f} secondes\")\n",
    "print('\\n')"
   ]
  }
 ],
 "metadata": {
  "language_info": {
   "name": "python"
  }
 },
 "nbformat": 4,
 "nbformat_minor": 2
}
