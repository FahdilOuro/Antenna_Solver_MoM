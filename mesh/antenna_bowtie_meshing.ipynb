{
 "cells": [
  {
   "cell_type": "code",
   "execution_count": null,
   "metadata": {},
   "outputs": [],
   "source": [
    "from adaptive_mesh_refiner.adaptive_meshing import AdaptiveMeshRefiner\n",
    "from src.radiation_algorithm.radiation_algorithm import radiation_algorithm\n",
    "from efield.efield1 import calculate_electric_magnetic_field_at_point\n",
    "from efield.efield2 import radiation_intensity_distribution_over_sphere_surface\n",
    "from efield.efield3 import antenna_directivity_pattern\n",
    "\n",
    "import numpy as np\n",
    "import os\n",
    "import time"
   ]
  },
  {
   "cell_type": "code",
   "execution_count": null,
   "metadata": {},
   "outputs": [],
   "source": [
    "def traitement_de_(filename):\n",
    "    base_name = os.path.splitext(os.path.basename(filename))[0]\n",
    "    print(f\"Traitement de l'antenne {base_name}\")\n",
    "\n",
    "filename_mesh1_bowtie2 = 'data/antennas_mesh/bowtie2.mat'"
   ]
  },
  {
   "cell_type": "code",
   "execution_count": null,
   "metadata": {},
   "outputs": [],
   "source": [
    "W = 25 / 1000\n",
    "H = 50 / 1000\n",
    "wf = 2 / 1000\n",
    "\n",
    "points = {\n",
    "    'point_0' : (-W/2, -H/2),\n",
    "    'point_1' : (-wf/2, 0),\n",
    "    'point_2' : (-W/2, H/2),\n",
    "    'point_3' : (W/2, H/2),\n",
    "    'point_4' : (wf/2, 0),\n",
    "    'point_5' : (W/2, -H/2)\n",
    "}\n",
    "\n",
    "# Declaration des points du contour\n",
    "vertices = [points[point] for point in points]\n",
    "\n",
    "# Indices des segments formant le contour\n",
    "segments = [(0, 1), (1, 2), (2, 3), (3, 4), (4, 5), (5, 0), (1, 4)]\n",
    "\n",
    "# Construire le dictionnaire pour Triangle\n",
    "bowtie2_antenna = dict(vertices=vertices, segments=segments)\n"
   ]
  },
  {
   "cell_type": "code",
   "execution_count": null,
   "metadata": {},
   "outputs": [],
   "source": [
    "feed_point_bowtie2 = [0, 0, 0]\n",
    "voltage_amplitude = 1  # Valeur de l'amplitude égale à 1 volt"
   ]
  },
  {
   "cell_type": "code",
   "execution_count": null,
   "metadata": {},
   "outputs": [],
   "source": [
    "bowtie2_name = \"bowtie2\"\n",
    "bowtie2_folder = \"data/antennas_mesh/\"\n",
    "\n",
    "# Création de l'objet de raffinage\n",
    "mesh_bowtie2 = AdaptiveMeshRefiner()\n",
    "\n",
    "# Étape 1 : Génération de la triangulation initiale avec un niveau moyen\n",
    "mesh_bowtie2.initial_meshing(bowtie2_antenna, bowtie2_name, bowtie2_folder, refinement_level=\"ultra\")\n",
    "\n",
    "# show_mesh(points, triangles, feed_point_IFA)  # Change \"black\" si besoin\n",
    "mesh_bowtie2.show_mesh(feed_point_bowtie2)"
   ]
  },
  {
   "cell_type": "code",
   "execution_count": null,
   "metadata": {},
   "outputs": [],
   "source": [
    "number_of_refinement = 5  # Nombre maximum d'itérations\n",
    "\n",
    "tolerance = 1e-2  # Seuil de variation relatif (1%)\n",
    "\n",
    "previous_impedance = None  # Stocke l'impédance de l'itération précédente\n",
    "actual_iterations = 0  # Compteur d'itérations effectives\n",
    "\n",
    "for i in range(number_of_refinement):\n",
    "    start_time = time.time()\n",
    "    \n",
    "    traitement_de_(filename_mesh1_bowtie2)\n",
    "    impedance, selected_triangles = radiation_algorithm(filename_mesh1_bowtie2, 75e6, feed_point_bowtie2, voltage_amplitude, load_from_matlab=False)\n",
    "    \n",
    "    elapsed_time = time.time() - start_time\n",
    "    print(f\"Temps écoulé pour le traitement de l'antenne étudiée : {elapsed_time:.6f} secondes\")\n",
    "    print(f\"Impédance actuelle : {impedance}\\n\")\n",
    "\n",
    "    actual_iterations += 1\n",
    "    \n",
    "    # Vérifier la convergence de l'impédance\n",
    "    if previous_impedance is not None:\n",
    "        delta_impedance = np.abs(impedance - previous_impedance) / np.abs(previous_impedance)\n",
    "        print(f\"Variation relative de l'impédance : {delta_impedance:.6f}\")\n",
    "\n",
    "        if delta_impedance < tolerance:\n",
    "            print(\"La variation de l'impédance est inférieure au seuil. Arrêt du raffinage.\")\n",
    "            break  # Sortir de la boucle\n",
    "\n",
    "    previous_impedance = impedance  # Mettre à jour l'impédance précédente\n",
    "\n",
    "    # Tentative d'affinage du maillage\n",
    "    try:\n",
    "        mesh_bowtie2.adaptative_meshing(bowtie2_antenna, selected_triangles, bowtie2_name, bowtie2_folder)\n",
    "    except ValueError as e:\n",
    "        print(f\"Exception attrapée : {e}\")\n",
    "        break  # Arrêter si une erreur survient\n",
    "\n",
    "# Affichage du nombre d'itérations utilisées\n",
    "print(f\"Nombre total d'itérations effectuées : {actual_iterations}\")\n"
   ]
  }
 ],
 "metadata": {
  "kernelspec": {
   "display_name": "Python 3 (ipykernel)",
   "language": "python",
   "name": "python3"
  },
  "language_info": {
   "codemirror_mode": {
    "name": "ipython",
    "version": 3
   },
   "file_extension": ".py",
   "mimetype": "text/x-python",
   "name": "python",
   "nbconvert_exporter": "python",
   "pygments_lexer": "ipython3",
   "version": "3.13.0"
  }
 },
 "nbformat": 4,
 "nbformat_minor": 2
}
