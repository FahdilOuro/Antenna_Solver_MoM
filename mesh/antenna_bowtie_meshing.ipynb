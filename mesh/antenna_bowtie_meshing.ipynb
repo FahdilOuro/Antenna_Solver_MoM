{
 "cells": [
  {
   "cell_type": "code",
   "execution_count": 11,
   "metadata": {},
   "outputs": [],
   "source": [
    "from adaptive_mesh_refiner.adaptive_meshing import AdaptiveMeshRefiner\n",
    "from src.radiation_algorithm.radiation_algorithm import radiation_algorithm\n",
    "from efield.efield1 import calculate_electric_magnetic_field_at_point\n",
    "from efield.efield2 import radiation_intensity_distribution_over_sphere_surface\n",
    "from efield.efield3 import antenna_directivity_pattern\n",
    "\n",
    "import numpy as np\n",
    "import os\n",
    "import time"
   ]
  },
  {
   "cell_type": "code",
   "execution_count": 12,
   "metadata": {},
   "outputs": [],
   "source": [
    "def traitement_de_(filename):\n",
    "    base_name = os.path.splitext(os.path.basename(filename))[0]\n",
    "    print(f\"Traitement de l'antenne {base_name}\")"
   ]
  },
  {
   "cell_type": "code",
   "execution_count": 13,
   "metadata": {},
   "outputs": [],
   "source": [
    "W = 0.198\n",
    "H = 0.2\n",
    "wc = 0.012\n",
    "hc = 0.014\n",
    "\n",
    "points = {\n",
    "    'point_0' : (-W/2, -H/2),\n",
    "    'point_1' : (-wc/2, -hc/2),\n",
    "    'point_2' : (-wc/2, hc/2),\n",
    "    'point_3' : (-W/2, H/2),\n",
    "    'point_4' : (W/2, H/2),\n",
    "    'point_5' : (wc/2, hc/2),\n",
    "    'point_6' : (wc/2, -hc/2),\n",
    "    'point_7' : (W/2, -H/2),\n",
    "    'point_8' : (-wc/2, 0),\n",
    "    'point_9' : (wc/2, 0)\n",
    "}\n",
    "\n",
    "# Declaration des points du contour\n",
    "vertices = [points[point] for point in points]\n",
    "\n",
    "# Indices des segments formant le contour\n",
    "segments = [(0, 1), (1, 2), (2, 3), (3, 4), (4, 5), (5, 6), (6, 7), (7, 0), (8, 9)]\n",
    "\n",
    "# Construire le dictionnaire pour Triangle\n",
    "bowtie2_antenna = dict(vertices=vertices, segments=segments)\n"
   ]
  },
  {
   "cell_type": "code",
   "execution_count": 14,
   "metadata": {},
   "outputs": [],
   "source": [
    "feed_point_bowtie2 = [0, 0, 0]\n",
    "voltage_amplitude = 1  # Valeur de l'amplitude égale à 1 volt"
   ]
  },
  {
   "cell_type": "code",
   "execution_count": null,
   "metadata": {},
   "outputs": [
    {
     "name": "stdout",
     "output_type": "stream",
     "text": [
      "Utilisation des options de triangulation : pq20a0.01\n",
      "Nombre de points = 18\n",
      "Nombre de triangles = 18\n",
      "Matrice points shape = (3, 18)\n",
      "Matrice triangles shape = (4, 18)\n",
      "Data saved successfully to data/antennas_mesh/bowtie2.mat\n"
     ]
    },
    {
     "data": {
      "application/vnd.plotly.v1+json": {
       "config": {
        "plotlyServerURL": "https://plot.ly"
       },
       "data": [
        {
         "facecolor": [
          "rgb(31, 119, 180)",
          "rgb(44, 119, 170)",
          "rgb(57, 120, 160)",
          "rgb(71, 120, 151)",
          "rgb(84, 121, 141)",
          "rgb(97, 121, 131)",
          "rgb(110, 122, 121)",
          "rgb(123, 122, 112)",
          "rgb(136, 123, 102)",
          "rgb(150, 123, 92)",
          "rgb(163, 124, 82)",
          "rgb(176, 124, 73)",
          "rgb(189, 125, 63)",
          "rgb(202, 125, 53)",
          "rgb(215, 126, 43)",
          "rgb(229, 126, 34)",
          "rgb(242, 127, 24)",
          "rgb(255, 127, 14)"
         ],
         "i": [
          16,
          1,
          3,
          2,
          2,
          5,
          1,
          16,
          17,
          1,
          7,
          6,
          5,
          9,
          12,
          6,
          13,
          17
         ],
         "j": [
          10,
          13,
          10,
          14,
          8,
          14,
          6,
          14,
          11,
          15,
          11,
          15,
          12,
          5,
          4,
          9,
          0,
          15
         ],
         "k": [
          14,
          15,
          16,
          10,
          9,
          2,
          8,
          12,
          15,
          6,
          17,
          11,
          14,
          2,
          16,
          8,
          17,
          13
         ],
         "name": "",
         "type": "mesh3d",
         "x": [
          -0.099,
          -0.006,
          -0.006,
          -0.099,
          0.099,
          0.006,
          0.006,
          0.099,
          -0.006,
          0.006,
          -0.0525,
          0.0525,
          0.052500000000000005,
          -0.052500000000000005,
          0,
          0,
          -0.025999999999999995,
          0.025999999999999995
         ],
         "y": [
          -0.1,
          -0.007,
          0.007,
          0.1,
          0.1,
          0.007,
          -0.007,
          -0.1,
          0,
          0,
          0.0535,
          -0.0535,
          0.053500000000000006,
          -0.053500000000000006,
          0.03932630637182095,
          -0.03932630637182095,
          0.1,
          -0.1
         ],
         "z": [
          0,
          0,
          0,
          0,
          0,
          0,
          0,
          0,
          0,
          0,
          0,
          0,
          0,
          0,
          0,
          0,
          0,
          0
         ]
        },
        {
         "line": {
          "color": "rgb(50, 50, 50)",
          "width": 1.5
         },
         "mode": "lines",
         "showlegend": false,
         "type": "scatter3d",
         "x": [
          -0.025999999999999995,
          -0.0525,
          0,
          -0.025999999999999995,
          null,
          -0.006,
          -0.052500000000000005,
          0,
          -0.006,
          null,
          -0.099,
          -0.0525,
          -0.025999999999999995,
          -0.099,
          null,
          -0.006,
          0,
          -0.0525,
          -0.006,
          null,
          -0.006,
          -0.006,
          0.006,
          -0.006,
          null,
          0.006,
          0,
          -0.006,
          0.006,
          null,
          -0.006,
          0.006,
          -0.006,
          -0.006,
          null,
          -0.025999999999999995,
          0,
          0.052500000000000005,
          -0.025999999999999995,
          null,
          0.025999999999999995,
          0.0525,
          0,
          0.025999999999999995,
          null,
          -0.006,
          0,
          0.006,
          -0.006,
          null,
          0.099,
          0.0525,
          0.025999999999999995,
          0.099,
          null,
          0.006,
          0,
          0.0525,
          0.006,
          null,
          0.006,
          0.052500000000000005,
          0,
          0.006,
          null,
          0.006,
          0.006,
          -0.006,
          0.006,
          null,
          0.052500000000000005,
          0.099,
          -0.025999999999999995,
          0.052500000000000005,
          null,
          0.006,
          0.006,
          -0.006,
          0.006,
          null,
          -0.052500000000000005,
          -0.099,
          0.025999999999999995,
          -0.052500000000000005,
          null,
          0.025999999999999995,
          0,
          -0.052500000000000005,
          0.025999999999999995,
          null
         ],
         "y": [
          0.1,
          0.0535,
          0.03932630637182095,
          0.1,
          null,
          -0.007,
          -0.053500000000000006,
          -0.03932630637182095,
          -0.007,
          null,
          0.1,
          0.0535,
          0.1,
          0.1,
          null,
          0.007,
          0.03932630637182095,
          0.0535,
          0.007,
          null,
          0.007,
          0,
          0,
          0.007,
          null,
          0.007,
          0.03932630637182095,
          0.007,
          0.007,
          null,
          -0.007,
          -0.007,
          0,
          -0.007,
          null,
          0.1,
          0.03932630637182095,
          0.053500000000000006,
          0.1,
          null,
          -0.1,
          -0.0535,
          -0.03932630637182095,
          -0.1,
          null,
          -0.007,
          -0.03932630637182095,
          -0.007,
          -0.007,
          null,
          -0.1,
          -0.0535,
          -0.1,
          -0.1,
          null,
          -0.007,
          -0.03932630637182095,
          -0.0535,
          -0.007,
          null,
          0.007,
          0.053500000000000006,
          0.03932630637182095,
          0.007,
          null,
          0,
          0.007,
          0.007,
          0,
          null,
          0.053500000000000006,
          0.1,
          0.1,
          0.053500000000000006,
          null,
          -0.007,
          0,
          0,
          -0.007,
          null,
          -0.053500000000000006,
          -0.1,
          -0.1,
          -0.053500000000000006,
          null,
          -0.1,
          -0.03932630637182095,
          -0.053500000000000006,
          -0.1,
          null
         ],
         "z": [
          0,
          0,
          0,
          0,
          null,
          0,
          0,
          0,
          0,
          null,
          0,
          0,
          0,
          0,
          null,
          0,
          0,
          0,
          0,
          null,
          0,
          0,
          0,
          0,
          null,
          0,
          0,
          0,
          0,
          null,
          0,
          0,
          0,
          0,
          null,
          0,
          0,
          0,
          0,
          null,
          0,
          0,
          0,
          0,
          null,
          0,
          0,
          0,
          0,
          null,
          0,
          0,
          0,
          0,
          null,
          0,
          0,
          0,
          0,
          null,
          0,
          0,
          0,
          0,
          null,
          0,
          0,
          0,
          0,
          null,
          0,
          0,
          0,
          0,
          null,
          0,
          0,
          0,
          0,
          null,
          0,
          0,
          0,
          0,
          null,
          0,
          0,
          0,
          0,
          null
         ]
        },
        {
         "marker": {
          "color": "red",
          "opacity": 1,
          "size": 6
         },
         "mode": "markers",
         "name": "Point d'alimentation",
         "type": "scatter3d",
         "x": [
          0
         ],
         "y": [
          0
         ],
         "z": [
          0
         ]
        }
       ],
       "layout": {
        "height": 800,
        "scene": {
         "aspectratio": {
          "x": 0.99,
          "y": 1,
          "z": 0.3
         },
         "xaxis": {
          "backgroundcolor": "rgb(230, 230, 230)",
          "gridcolor": "rgb(255, 255, 255)",
          "showbackground": true,
          "zerolinecolor": "rgb(255, 255, 255)"
         },
         "yaxis": {
          "backgroundcolor": "rgb(230, 230, 230)",
          "gridcolor": "rgb(255, 255, 255)",
          "showbackground": true,
          "zerolinecolor": "rgb(255, 255, 255)"
         },
         "zaxis": {
          "backgroundcolor": "rgb(230, 230, 230)",
          "gridcolor": "rgb(255, 255, 255)",
          "showbackground": true,
          "zerolinecolor": "rgb(255, 255, 255)"
         }
        },
        "template": {
         "data": {
          "bar": [
           {
            "error_x": {
             "color": "#2a3f5f"
            },
            "error_y": {
             "color": "#2a3f5f"
            },
            "marker": {
             "line": {
              "color": "#E5ECF6",
              "width": 0.5
             },
             "pattern": {
              "fillmode": "overlay",
              "size": 10,
              "solidity": 0.2
             }
            },
            "type": "bar"
           }
          ],
          "barpolar": [
           {
            "marker": {
             "line": {
              "color": "#E5ECF6",
              "width": 0.5
             },
             "pattern": {
              "fillmode": "overlay",
              "size": 10,
              "solidity": 0.2
             }
            },
            "type": "barpolar"
           }
          ],
          "carpet": [
           {
            "aaxis": {
             "endlinecolor": "#2a3f5f",
             "gridcolor": "white",
             "linecolor": "white",
             "minorgridcolor": "white",
             "startlinecolor": "#2a3f5f"
            },
            "baxis": {
             "endlinecolor": "#2a3f5f",
             "gridcolor": "white",
             "linecolor": "white",
             "minorgridcolor": "white",
             "startlinecolor": "#2a3f5f"
            },
            "type": "carpet"
           }
          ],
          "choropleth": [
           {
            "colorbar": {
             "outlinewidth": 0,
             "ticks": ""
            },
            "type": "choropleth"
           }
          ],
          "contour": [
           {
            "colorbar": {
             "outlinewidth": 0,
             "ticks": ""
            },
            "colorscale": [
             [
              0,
              "#0d0887"
             ],
             [
              0.1111111111111111,
              "#46039f"
             ],
             [
              0.2222222222222222,
              "#7201a8"
             ],
             [
              0.3333333333333333,
              "#9c179e"
             ],
             [
              0.4444444444444444,
              "#bd3786"
             ],
             [
              0.5555555555555556,
              "#d8576b"
             ],
             [
              0.6666666666666666,
              "#ed7953"
             ],
             [
              0.7777777777777778,
              "#fb9f3a"
             ],
             [
              0.8888888888888888,
              "#fdca26"
             ],
             [
              1,
              "#f0f921"
             ]
            ],
            "type": "contour"
           }
          ],
          "contourcarpet": [
           {
            "colorbar": {
             "outlinewidth": 0,
             "ticks": ""
            },
            "type": "contourcarpet"
           }
          ],
          "heatmap": [
           {
            "colorbar": {
             "outlinewidth": 0,
             "ticks": ""
            },
            "colorscale": [
             [
              0,
              "#0d0887"
             ],
             [
              0.1111111111111111,
              "#46039f"
             ],
             [
              0.2222222222222222,
              "#7201a8"
             ],
             [
              0.3333333333333333,
              "#9c179e"
             ],
             [
              0.4444444444444444,
              "#bd3786"
             ],
             [
              0.5555555555555556,
              "#d8576b"
             ],
             [
              0.6666666666666666,
              "#ed7953"
             ],
             [
              0.7777777777777778,
              "#fb9f3a"
             ],
             [
              0.8888888888888888,
              "#fdca26"
             ],
             [
              1,
              "#f0f921"
             ]
            ],
            "type": "heatmap"
           }
          ],
          "heatmapgl": [
           {
            "colorbar": {
             "outlinewidth": 0,
             "ticks": ""
            },
            "colorscale": [
             [
              0,
              "#0d0887"
             ],
             [
              0.1111111111111111,
              "#46039f"
             ],
             [
              0.2222222222222222,
              "#7201a8"
             ],
             [
              0.3333333333333333,
              "#9c179e"
             ],
             [
              0.4444444444444444,
              "#bd3786"
             ],
             [
              0.5555555555555556,
              "#d8576b"
             ],
             [
              0.6666666666666666,
              "#ed7953"
             ],
             [
              0.7777777777777778,
              "#fb9f3a"
             ],
             [
              0.8888888888888888,
              "#fdca26"
             ],
             [
              1,
              "#f0f921"
             ]
            ],
            "type": "heatmapgl"
           }
          ],
          "histogram": [
           {
            "marker": {
             "pattern": {
              "fillmode": "overlay",
              "size": 10,
              "solidity": 0.2
             }
            },
            "type": "histogram"
           }
          ],
          "histogram2d": [
           {
            "colorbar": {
             "outlinewidth": 0,
             "ticks": ""
            },
            "colorscale": [
             [
              0,
              "#0d0887"
             ],
             [
              0.1111111111111111,
              "#46039f"
             ],
             [
              0.2222222222222222,
              "#7201a8"
             ],
             [
              0.3333333333333333,
              "#9c179e"
             ],
             [
              0.4444444444444444,
              "#bd3786"
             ],
             [
              0.5555555555555556,
              "#d8576b"
             ],
             [
              0.6666666666666666,
              "#ed7953"
             ],
             [
              0.7777777777777778,
              "#fb9f3a"
             ],
             [
              0.8888888888888888,
              "#fdca26"
             ],
             [
              1,
              "#f0f921"
             ]
            ],
            "type": "histogram2d"
           }
          ],
          "histogram2dcontour": [
           {
            "colorbar": {
             "outlinewidth": 0,
             "ticks": ""
            },
            "colorscale": [
             [
              0,
              "#0d0887"
             ],
             [
              0.1111111111111111,
              "#46039f"
             ],
             [
              0.2222222222222222,
              "#7201a8"
             ],
             [
              0.3333333333333333,
              "#9c179e"
             ],
             [
              0.4444444444444444,
              "#bd3786"
             ],
             [
              0.5555555555555556,
              "#d8576b"
             ],
             [
              0.6666666666666666,
              "#ed7953"
             ],
             [
              0.7777777777777778,
              "#fb9f3a"
             ],
             [
              0.8888888888888888,
              "#fdca26"
             ],
             [
              1,
              "#f0f921"
             ]
            ],
            "type": "histogram2dcontour"
           }
          ],
          "mesh3d": [
           {
            "colorbar": {
             "outlinewidth": 0,
             "ticks": ""
            },
            "type": "mesh3d"
           }
          ],
          "parcoords": [
           {
            "line": {
             "colorbar": {
              "outlinewidth": 0,
              "ticks": ""
             }
            },
            "type": "parcoords"
           }
          ],
          "pie": [
           {
            "automargin": true,
            "type": "pie"
           }
          ],
          "scatter": [
           {
            "fillpattern": {
             "fillmode": "overlay",
             "size": 10,
             "solidity": 0.2
            },
            "type": "scatter"
           }
          ],
          "scatter3d": [
           {
            "line": {
             "colorbar": {
              "outlinewidth": 0,
              "ticks": ""
             }
            },
            "marker": {
             "colorbar": {
              "outlinewidth": 0,
              "ticks": ""
             }
            },
            "type": "scatter3d"
           }
          ],
          "scattercarpet": [
           {
            "marker": {
             "colorbar": {
              "outlinewidth": 0,
              "ticks": ""
             }
            },
            "type": "scattercarpet"
           }
          ],
          "scattergeo": [
           {
            "marker": {
             "colorbar": {
              "outlinewidth": 0,
              "ticks": ""
             }
            },
            "type": "scattergeo"
           }
          ],
          "scattergl": [
           {
            "marker": {
             "colorbar": {
              "outlinewidth": 0,
              "ticks": ""
             }
            },
            "type": "scattergl"
           }
          ],
          "scattermapbox": [
           {
            "marker": {
             "colorbar": {
              "outlinewidth": 0,
              "ticks": ""
             }
            },
            "type": "scattermapbox"
           }
          ],
          "scatterpolar": [
           {
            "marker": {
             "colorbar": {
              "outlinewidth": 0,
              "ticks": ""
             }
            },
            "type": "scatterpolar"
           }
          ],
          "scatterpolargl": [
           {
            "marker": {
             "colorbar": {
              "outlinewidth": 0,
              "ticks": ""
             }
            },
            "type": "scatterpolargl"
           }
          ],
          "scatterternary": [
           {
            "marker": {
             "colorbar": {
              "outlinewidth": 0,
              "ticks": ""
             }
            },
            "type": "scatterternary"
           }
          ],
          "surface": [
           {
            "colorbar": {
             "outlinewidth": 0,
             "ticks": ""
            },
            "colorscale": [
             [
              0,
              "#0d0887"
             ],
             [
              0.1111111111111111,
              "#46039f"
             ],
             [
              0.2222222222222222,
              "#7201a8"
             ],
             [
              0.3333333333333333,
              "#9c179e"
             ],
             [
              0.4444444444444444,
              "#bd3786"
             ],
             [
              0.5555555555555556,
              "#d8576b"
             ],
             [
              0.6666666666666666,
              "#ed7953"
             ],
             [
              0.7777777777777778,
              "#fb9f3a"
             ],
             [
              0.8888888888888888,
              "#fdca26"
             ],
             [
              1,
              "#f0f921"
             ]
            ],
            "type": "surface"
           }
          ],
          "table": [
           {
            "cells": {
             "fill": {
              "color": "#EBF0F8"
             },
             "line": {
              "color": "white"
             }
            },
            "header": {
             "fill": {
              "color": "#C8D4E3"
             },
             "line": {
              "color": "white"
             }
            },
            "type": "table"
           }
          ]
         },
         "layout": {
          "annotationdefaults": {
           "arrowcolor": "#2a3f5f",
           "arrowhead": 0,
           "arrowwidth": 1
          },
          "autotypenumbers": "strict",
          "coloraxis": {
           "colorbar": {
            "outlinewidth": 0,
            "ticks": ""
           }
          },
          "colorscale": {
           "diverging": [
            [
             0,
             "#8e0152"
            ],
            [
             0.1,
             "#c51b7d"
            ],
            [
             0.2,
             "#de77ae"
            ],
            [
             0.3,
             "#f1b6da"
            ],
            [
             0.4,
             "#fde0ef"
            ],
            [
             0.5,
             "#f7f7f7"
            ],
            [
             0.6,
             "#e6f5d0"
            ],
            [
             0.7,
             "#b8e186"
            ],
            [
             0.8,
             "#7fbc41"
            ],
            [
             0.9,
             "#4d9221"
            ],
            [
             1,
             "#276419"
            ]
           ],
           "sequential": [
            [
             0,
             "#0d0887"
            ],
            [
             0.1111111111111111,
             "#46039f"
            ],
            [
             0.2222222222222222,
             "#7201a8"
            ],
            [
             0.3333333333333333,
             "#9c179e"
            ],
            [
             0.4444444444444444,
             "#bd3786"
            ],
            [
             0.5555555555555556,
             "#d8576b"
            ],
            [
             0.6666666666666666,
             "#ed7953"
            ],
            [
             0.7777777777777778,
             "#fb9f3a"
            ],
            [
             0.8888888888888888,
             "#fdca26"
            ],
            [
             1,
             "#f0f921"
            ]
           ],
           "sequentialminus": [
            [
             0,
             "#0d0887"
            ],
            [
             0.1111111111111111,
             "#46039f"
            ],
            [
             0.2222222222222222,
             "#7201a8"
            ],
            [
             0.3333333333333333,
             "#9c179e"
            ],
            [
             0.4444444444444444,
             "#bd3786"
            ],
            [
             0.5555555555555556,
             "#d8576b"
            ],
            [
             0.6666666666666666,
             "#ed7953"
            ],
            [
             0.7777777777777778,
             "#fb9f3a"
            ],
            [
             0.8888888888888888,
             "#fdca26"
            ],
            [
             1,
             "#f0f921"
            ]
           ]
          },
          "colorway": [
           "#636efa",
           "#EF553B",
           "#00cc96",
           "#ab63fa",
           "#FFA15A",
           "#19d3f3",
           "#FF6692",
           "#B6E880",
           "#FF97FF",
           "#FECB52"
          ],
          "font": {
           "color": "#2a3f5f"
          },
          "geo": {
           "bgcolor": "white",
           "lakecolor": "white",
           "landcolor": "#E5ECF6",
           "showlakes": true,
           "showland": true,
           "subunitcolor": "white"
          },
          "hoverlabel": {
           "align": "left"
          },
          "hovermode": "closest",
          "mapbox": {
           "style": "light"
          },
          "paper_bgcolor": "white",
          "plot_bgcolor": "#E5ECF6",
          "polar": {
           "angularaxis": {
            "gridcolor": "white",
            "linecolor": "white",
            "ticks": ""
           },
           "bgcolor": "#E5ECF6",
           "radialaxis": {
            "gridcolor": "white",
            "linecolor": "white",
            "ticks": ""
           }
          },
          "scene": {
           "xaxis": {
            "backgroundcolor": "#E5ECF6",
            "gridcolor": "white",
            "gridwidth": 2,
            "linecolor": "white",
            "showbackground": true,
            "ticks": "",
            "zerolinecolor": "white"
           },
           "yaxis": {
            "backgroundcolor": "#E5ECF6",
            "gridcolor": "white",
            "gridwidth": 2,
            "linecolor": "white",
            "showbackground": true,
            "ticks": "",
            "zerolinecolor": "white"
           },
           "zaxis": {
            "backgroundcolor": "#E5ECF6",
            "gridcolor": "white",
            "gridwidth": 2,
            "linecolor": "white",
            "showbackground": true,
            "ticks": "",
            "zerolinecolor": "white"
           }
          },
          "shapedefaults": {
           "line": {
            "color": "#2a3f5f"
           }
          },
          "ternary": {
           "aaxis": {
            "gridcolor": "white",
            "linecolor": "white",
            "ticks": ""
           },
           "baxis": {
            "gridcolor": "white",
            "linecolor": "white",
            "ticks": ""
           },
           "bgcolor": "#E5ECF6",
           "caxis": {
            "gridcolor": "white",
            "linecolor": "white",
            "ticks": ""
           }
          },
          "title": {
           "x": 0.05
          },
          "xaxis": {
           "automargin": true,
           "gridcolor": "white",
           "linecolor": "white",
           "ticks": "",
           "title": {
            "standoff": 15
           },
           "zerolinecolor": "white",
           "zerolinewidth": 2
          },
          "yaxis": {
           "automargin": true,
           "gridcolor": "white",
           "linecolor": "white",
           "ticks": "",
           "title": {
            "standoff": 15
           },
           "zerolinecolor": "white",
           "zerolinewidth": 2
          }
         }
        },
        "title": {
         "text": "Maillage triangulaire"
        },
        "width": 800
       }
      },
      "text/html": [
       "<div>                            <div id=\"bca63003-a4c0-4cf2-a99f-ea6468b26671\" class=\"plotly-graph-div\" style=\"height:800px; width:800px;\"></div>            <script type=\"text/javascript\">                require([\"plotly\"], function(Plotly) {                    window.PLOTLYENV=window.PLOTLYENV || {};                                    if (document.getElementById(\"bca63003-a4c0-4cf2-a99f-ea6468b26671\")) {                    Plotly.newPlot(                        \"bca63003-a4c0-4cf2-a99f-ea6468b26671\",                        [{\"facecolor\":[\"rgb(31, 119, 180)\",\"rgb(44, 119, 170)\",\"rgb(57, 120, 160)\",\"rgb(71, 120, 151)\",\"rgb(84, 121, 141)\",\"rgb(97, 121, 131)\",\"rgb(110, 122, 121)\",\"rgb(123, 122, 112)\",\"rgb(136, 123, 102)\",\"rgb(150, 123, 92)\",\"rgb(163, 124, 82)\",\"rgb(176, 124, 73)\",\"rgb(189, 125, 63)\",\"rgb(202, 125, 53)\",\"rgb(215, 126, 43)\",\"rgb(229, 126, 34)\",\"rgb(242, 127, 24)\",\"rgb(255, 127, 14)\"],\"i\":[16,1,3,2,2,5,1,16,17,1,7,6,5,9,12,6,13,17],\"j\":[10,13,10,14,8,14,6,14,11,15,11,15,12,5,4,9,0,15],\"k\":[14,15,16,10,9,2,8,12,15,6,17,11,14,2,16,8,17,13],\"name\":\"\",\"x\":[-0.099,-0.006,-0.006,-0.099,0.099,0.006,0.006,0.099,-0.006,0.006,-0.0525,0.0525,0.052500000000000005,-0.052500000000000005,0.0,0.0,-0.025999999999999995,0.025999999999999995],\"y\":[-0.1,-0.007,0.007,0.1,0.1,0.007,-0.007,-0.1,0.0,0.0,0.0535,-0.0535,0.053500000000000006,-0.053500000000000006,0.03932630637182095,-0.03932630637182095,0.1,-0.1],\"z\":[0.0,0.0,0.0,0.0,0.0,0.0,0.0,0.0,0.0,0.0,0.0,0.0,0.0,0.0,0.0,0.0,0.0,0.0],\"type\":\"mesh3d\"},{\"line\":{\"color\":\"rgb(50, 50, 50)\",\"width\":1.5},\"mode\":\"lines\",\"showlegend\":false,\"x\":[-0.025999999999999995,-0.0525,0.0,-0.025999999999999995,null,-0.006,-0.052500000000000005,0.0,-0.006,null,-0.099,-0.0525,-0.025999999999999995,-0.099,null,-0.006,0.0,-0.0525,-0.006,null,-0.006,-0.006,0.006,-0.006,null,0.006,0.0,-0.006,0.006,null,-0.006,0.006,-0.006,-0.006,null,-0.025999999999999995,0.0,0.052500000000000005,-0.025999999999999995,null,0.025999999999999995,0.0525,0.0,0.025999999999999995,null,-0.006,0.0,0.006,-0.006,null,0.099,0.0525,0.025999999999999995,0.099,null,0.006,0.0,0.0525,0.006,null,0.006,0.052500000000000005,0.0,0.006,null,0.006,0.006,-0.006,0.006,null,0.052500000000000005,0.099,-0.025999999999999995,0.052500000000000005,null,0.006,0.006,-0.006,0.006,null,-0.052500000000000005,-0.099,0.025999999999999995,-0.052500000000000005,null,0.025999999999999995,0.0,-0.052500000000000005,0.025999999999999995,null],\"y\":[0.1,0.0535,0.03932630637182095,0.1,null,-0.007,-0.053500000000000006,-0.03932630637182095,-0.007,null,0.1,0.0535,0.1,0.1,null,0.007,0.03932630637182095,0.0535,0.007,null,0.007,0.0,0.0,0.007,null,0.007,0.03932630637182095,0.007,0.007,null,-0.007,-0.007,0.0,-0.007,null,0.1,0.03932630637182095,0.053500000000000006,0.1,null,-0.1,-0.0535,-0.03932630637182095,-0.1,null,-0.007,-0.03932630637182095,-0.007,-0.007,null,-0.1,-0.0535,-0.1,-0.1,null,-0.007,-0.03932630637182095,-0.0535,-0.007,null,0.007,0.053500000000000006,0.03932630637182095,0.007,null,0.0,0.007,0.007,0.0,null,0.053500000000000006,0.1,0.1,0.053500000000000006,null,-0.007,0.0,0.0,-0.007,null,-0.053500000000000006,-0.1,-0.1,-0.053500000000000006,null,-0.1,-0.03932630637182095,-0.053500000000000006,-0.1,null],\"z\":[0.0,0.0,0.0,0.0,null,0.0,0.0,0.0,0.0,null,0.0,0.0,0.0,0.0,null,0.0,0.0,0.0,0.0,null,0.0,0.0,0.0,0.0,null,0.0,0.0,0.0,0.0,null,0.0,0.0,0.0,0.0,null,0.0,0.0,0.0,0.0,null,0.0,0.0,0.0,0.0,null,0.0,0.0,0.0,0.0,null,0.0,0.0,0.0,0.0,null,0.0,0.0,0.0,0.0,null,0.0,0.0,0.0,0.0,null,0.0,0.0,0.0,0.0,null,0.0,0.0,0.0,0.0,null,0.0,0.0,0.0,0.0,null,0.0,0.0,0.0,0.0,null,0.0,0.0,0.0,0.0,null],\"type\":\"scatter3d\"},{\"marker\":{\"color\":\"red\",\"opacity\":1.0,\"size\":6},\"mode\":\"markers\",\"name\":\"Point d'alimentation\",\"x\":[0],\"y\":[0],\"z\":[0],\"type\":\"scatter3d\"}],                        {\"height\":800,\"scene\":{\"aspectratio\":{\"x\":0.99,\"y\":1.0,\"z\":0.3},\"xaxis\":{\"backgroundcolor\":\"rgb(230, 230, 230)\",\"gridcolor\":\"rgb(255, 255, 255)\",\"showbackground\":true,\"zerolinecolor\":\"rgb(255, 255, 255)\"},\"yaxis\":{\"backgroundcolor\":\"rgb(230, 230, 230)\",\"gridcolor\":\"rgb(255, 255, 255)\",\"showbackground\":true,\"zerolinecolor\":\"rgb(255, 255, 255)\"},\"zaxis\":{\"backgroundcolor\":\"rgb(230, 230, 230)\",\"gridcolor\":\"rgb(255, 255, 255)\",\"showbackground\":true,\"zerolinecolor\":\"rgb(255, 255, 255)\"}},\"title\":{\"text\":\"Maillage triangulaire\"},\"width\":800,\"template\":{\"data\":{\"histogram2dcontour\":[{\"type\":\"histogram2dcontour\",\"colorbar\":{\"outlinewidth\":0,\"ticks\":\"\"},\"colorscale\":[[0.0,\"#0d0887\"],[0.1111111111111111,\"#46039f\"],[0.2222222222222222,\"#7201a8\"],[0.3333333333333333,\"#9c179e\"],[0.4444444444444444,\"#bd3786\"],[0.5555555555555556,\"#d8576b\"],[0.6666666666666666,\"#ed7953\"],[0.7777777777777778,\"#fb9f3a\"],[0.8888888888888888,\"#fdca26\"],[1.0,\"#f0f921\"]]}],\"choropleth\":[{\"type\":\"choropleth\",\"colorbar\":{\"outlinewidth\":0,\"ticks\":\"\"}}],\"histogram2d\":[{\"type\":\"histogram2d\",\"colorbar\":{\"outlinewidth\":0,\"ticks\":\"\"},\"colorscale\":[[0.0,\"#0d0887\"],[0.1111111111111111,\"#46039f\"],[0.2222222222222222,\"#7201a8\"],[0.3333333333333333,\"#9c179e\"],[0.4444444444444444,\"#bd3786\"],[0.5555555555555556,\"#d8576b\"],[0.6666666666666666,\"#ed7953\"],[0.7777777777777778,\"#fb9f3a\"],[0.8888888888888888,\"#fdca26\"],[1.0,\"#f0f921\"]]}],\"heatmap\":[{\"type\":\"heatmap\",\"colorbar\":{\"outlinewidth\":0,\"ticks\":\"\"},\"colorscale\":[[0.0,\"#0d0887\"],[0.1111111111111111,\"#46039f\"],[0.2222222222222222,\"#7201a8\"],[0.3333333333333333,\"#9c179e\"],[0.4444444444444444,\"#bd3786\"],[0.5555555555555556,\"#d8576b\"],[0.6666666666666666,\"#ed7953\"],[0.7777777777777778,\"#fb9f3a\"],[0.8888888888888888,\"#fdca26\"],[1.0,\"#f0f921\"]]}],\"heatmapgl\":[{\"type\":\"heatmapgl\",\"colorbar\":{\"outlinewidth\":0,\"ticks\":\"\"},\"colorscale\":[[0.0,\"#0d0887\"],[0.1111111111111111,\"#46039f\"],[0.2222222222222222,\"#7201a8\"],[0.3333333333333333,\"#9c179e\"],[0.4444444444444444,\"#bd3786\"],[0.5555555555555556,\"#d8576b\"],[0.6666666666666666,\"#ed7953\"],[0.7777777777777778,\"#fb9f3a\"],[0.8888888888888888,\"#fdca26\"],[1.0,\"#f0f921\"]]}],\"contourcarpet\":[{\"type\":\"contourcarpet\",\"colorbar\":{\"outlinewidth\":0,\"ticks\":\"\"}}],\"contour\":[{\"type\":\"contour\",\"colorbar\":{\"outlinewidth\":0,\"ticks\":\"\"},\"colorscale\":[[0.0,\"#0d0887\"],[0.1111111111111111,\"#46039f\"],[0.2222222222222222,\"#7201a8\"],[0.3333333333333333,\"#9c179e\"],[0.4444444444444444,\"#bd3786\"],[0.5555555555555556,\"#d8576b\"],[0.6666666666666666,\"#ed7953\"],[0.7777777777777778,\"#fb9f3a\"],[0.8888888888888888,\"#fdca26\"],[1.0,\"#f0f921\"]]}],\"surface\":[{\"type\":\"surface\",\"colorbar\":{\"outlinewidth\":0,\"ticks\":\"\"},\"colorscale\":[[0.0,\"#0d0887\"],[0.1111111111111111,\"#46039f\"],[0.2222222222222222,\"#7201a8\"],[0.3333333333333333,\"#9c179e\"],[0.4444444444444444,\"#bd3786\"],[0.5555555555555556,\"#d8576b\"],[0.6666666666666666,\"#ed7953\"],[0.7777777777777778,\"#fb9f3a\"],[0.8888888888888888,\"#fdca26\"],[1.0,\"#f0f921\"]]}],\"mesh3d\":[{\"type\":\"mesh3d\",\"colorbar\":{\"outlinewidth\":0,\"ticks\":\"\"}}],\"scatter\":[{\"fillpattern\":{\"fillmode\":\"overlay\",\"size\":10,\"solidity\":0.2},\"type\":\"scatter\"}],\"parcoords\":[{\"type\":\"parcoords\",\"line\":{\"colorbar\":{\"outlinewidth\":0,\"ticks\":\"\"}}}],\"scatterpolargl\":[{\"type\":\"scatterpolargl\",\"marker\":{\"colorbar\":{\"outlinewidth\":0,\"ticks\":\"\"}}}],\"bar\":[{\"error_x\":{\"color\":\"#2a3f5f\"},\"error_y\":{\"color\":\"#2a3f5f\"},\"marker\":{\"line\":{\"color\":\"#E5ECF6\",\"width\":0.5},\"pattern\":{\"fillmode\":\"overlay\",\"size\":10,\"solidity\":0.2}},\"type\":\"bar\"}],\"scattergeo\":[{\"type\":\"scattergeo\",\"marker\":{\"colorbar\":{\"outlinewidth\":0,\"ticks\":\"\"}}}],\"scatterpolar\":[{\"type\":\"scatterpolar\",\"marker\":{\"colorbar\":{\"outlinewidth\":0,\"ticks\":\"\"}}}],\"histogram\":[{\"marker\":{\"pattern\":{\"fillmode\":\"overlay\",\"size\":10,\"solidity\":0.2}},\"type\":\"histogram\"}],\"scattergl\":[{\"type\":\"scattergl\",\"marker\":{\"colorbar\":{\"outlinewidth\":0,\"ticks\":\"\"}}}],\"scatter3d\":[{\"type\":\"scatter3d\",\"line\":{\"colorbar\":{\"outlinewidth\":0,\"ticks\":\"\"}},\"marker\":{\"colorbar\":{\"outlinewidth\":0,\"ticks\":\"\"}}}],\"scattermapbox\":[{\"type\":\"scattermapbox\",\"marker\":{\"colorbar\":{\"outlinewidth\":0,\"ticks\":\"\"}}}],\"scatterternary\":[{\"type\":\"scatterternary\",\"marker\":{\"colorbar\":{\"outlinewidth\":0,\"ticks\":\"\"}}}],\"scattercarpet\":[{\"type\":\"scattercarpet\",\"marker\":{\"colorbar\":{\"outlinewidth\":0,\"ticks\":\"\"}}}],\"carpet\":[{\"aaxis\":{\"endlinecolor\":\"#2a3f5f\",\"gridcolor\":\"white\",\"linecolor\":\"white\",\"minorgridcolor\":\"white\",\"startlinecolor\":\"#2a3f5f\"},\"baxis\":{\"endlinecolor\":\"#2a3f5f\",\"gridcolor\":\"white\",\"linecolor\":\"white\",\"minorgridcolor\":\"white\",\"startlinecolor\":\"#2a3f5f\"},\"type\":\"carpet\"}],\"table\":[{\"cells\":{\"fill\":{\"color\":\"#EBF0F8\"},\"line\":{\"color\":\"white\"}},\"header\":{\"fill\":{\"color\":\"#C8D4E3\"},\"line\":{\"color\":\"white\"}},\"type\":\"table\"}],\"barpolar\":[{\"marker\":{\"line\":{\"color\":\"#E5ECF6\",\"width\":0.5},\"pattern\":{\"fillmode\":\"overlay\",\"size\":10,\"solidity\":0.2}},\"type\":\"barpolar\"}],\"pie\":[{\"automargin\":true,\"type\":\"pie\"}]},\"layout\":{\"autotypenumbers\":\"strict\",\"colorway\":[\"#636efa\",\"#EF553B\",\"#00cc96\",\"#ab63fa\",\"#FFA15A\",\"#19d3f3\",\"#FF6692\",\"#B6E880\",\"#FF97FF\",\"#FECB52\"],\"font\":{\"color\":\"#2a3f5f\"},\"hovermode\":\"closest\",\"hoverlabel\":{\"align\":\"left\"},\"paper_bgcolor\":\"white\",\"plot_bgcolor\":\"#E5ECF6\",\"polar\":{\"bgcolor\":\"#E5ECF6\",\"angularaxis\":{\"gridcolor\":\"white\",\"linecolor\":\"white\",\"ticks\":\"\"},\"radialaxis\":{\"gridcolor\":\"white\",\"linecolor\":\"white\",\"ticks\":\"\"}},\"ternary\":{\"bgcolor\":\"#E5ECF6\",\"aaxis\":{\"gridcolor\":\"white\",\"linecolor\":\"white\",\"ticks\":\"\"},\"baxis\":{\"gridcolor\":\"white\",\"linecolor\":\"white\",\"ticks\":\"\"},\"caxis\":{\"gridcolor\":\"white\",\"linecolor\":\"white\",\"ticks\":\"\"}},\"coloraxis\":{\"colorbar\":{\"outlinewidth\":0,\"ticks\":\"\"}},\"colorscale\":{\"sequential\":[[0.0,\"#0d0887\"],[0.1111111111111111,\"#46039f\"],[0.2222222222222222,\"#7201a8\"],[0.3333333333333333,\"#9c179e\"],[0.4444444444444444,\"#bd3786\"],[0.5555555555555556,\"#d8576b\"],[0.6666666666666666,\"#ed7953\"],[0.7777777777777778,\"#fb9f3a\"],[0.8888888888888888,\"#fdca26\"],[1.0,\"#f0f921\"]],\"sequentialminus\":[[0.0,\"#0d0887\"],[0.1111111111111111,\"#46039f\"],[0.2222222222222222,\"#7201a8\"],[0.3333333333333333,\"#9c179e\"],[0.4444444444444444,\"#bd3786\"],[0.5555555555555556,\"#d8576b\"],[0.6666666666666666,\"#ed7953\"],[0.7777777777777778,\"#fb9f3a\"],[0.8888888888888888,\"#fdca26\"],[1.0,\"#f0f921\"]],\"diverging\":[[0,\"#8e0152\"],[0.1,\"#c51b7d\"],[0.2,\"#de77ae\"],[0.3,\"#f1b6da\"],[0.4,\"#fde0ef\"],[0.5,\"#f7f7f7\"],[0.6,\"#e6f5d0\"],[0.7,\"#b8e186\"],[0.8,\"#7fbc41\"],[0.9,\"#4d9221\"],[1,\"#276419\"]]},\"xaxis\":{\"gridcolor\":\"white\",\"linecolor\":\"white\",\"ticks\":\"\",\"title\":{\"standoff\":15},\"zerolinecolor\":\"white\",\"automargin\":true,\"zerolinewidth\":2},\"yaxis\":{\"gridcolor\":\"white\",\"linecolor\":\"white\",\"ticks\":\"\",\"title\":{\"standoff\":15},\"zerolinecolor\":\"white\",\"automargin\":true,\"zerolinewidth\":2},\"scene\":{\"xaxis\":{\"backgroundcolor\":\"#E5ECF6\",\"gridcolor\":\"white\",\"linecolor\":\"white\",\"showbackground\":true,\"ticks\":\"\",\"zerolinecolor\":\"white\",\"gridwidth\":2},\"yaxis\":{\"backgroundcolor\":\"#E5ECF6\",\"gridcolor\":\"white\",\"linecolor\":\"white\",\"showbackground\":true,\"ticks\":\"\",\"zerolinecolor\":\"white\",\"gridwidth\":2},\"zaxis\":{\"backgroundcolor\":\"#E5ECF6\",\"gridcolor\":\"white\",\"linecolor\":\"white\",\"showbackground\":true,\"ticks\":\"\",\"zerolinecolor\":\"white\",\"gridwidth\":2}},\"shapedefaults\":{\"line\":{\"color\":\"#2a3f5f\"}},\"annotationdefaults\":{\"arrowcolor\":\"#2a3f5f\",\"arrowhead\":0,\"arrowwidth\":1},\"geo\":{\"bgcolor\":\"white\",\"landcolor\":\"#E5ECF6\",\"subunitcolor\":\"white\",\"showland\":true,\"showlakes\":true,\"lakecolor\":\"white\"},\"title\":{\"x\":0.05},\"mapbox\":{\"style\":\"light\"}}}},                        {\"responsive\": true}                    ).then(function(){\n",
       "                            \n",
       "var gd = document.getElementById('bca63003-a4c0-4cf2-a99f-ea6468b26671');\n",
       "var x = new MutationObserver(function (mutations, observer) {{\n",
       "        var display = window.getComputedStyle(gd).display;\n",
       "        if (!display || display === 'none') {{\n",
       "            console.log([gd, 'removed!']);\n",
       "            Plotly.purge(gd);\n",
       "            observer.disconnect();\n",
       "        }}\n",
       "}});\n",
       "\n",
       "// Listen for the removal of the full notebook cells\n",
       "var notebookContainer = gd.closest('#notebook-container');\n",
       "if (notebookContainer) {{\n",
       "    x.observe(notebookContainer, {childList: true});\n",
       "}}\n",
       "\n",
       "// Listen for the clearing of the current output cell\n",
       "var outputEl = gd.closest('.output');\n",
       "if (outputEl) {{\n",
       "    x.observe(outputEl, {childList: true});\n",
       "}}\n",
       "\n",
       "                        })                };                });            </script>        </div>"
      ]
     },
     "metadata": {},
     "output_type": "display_data"
    }
   ],
   "source": [
    "bowtie2_name = \"bowtie2\"\n",
    "bowtie2_folder = \"data/antennas_mesh/\"\n",
    "\n",
    "# Création de l'objet de raffinage\n",
    "mesh_bowtie2 = AdaptiveMeshRefiner()\n",
    "\n",
    "# Étape 1 : Génération de la triangulation initiale avec un niveau moyen\n",
    "mesh_bowtie2.initial_meshing(bowtie2_antenna, bowtie2_name, bowtie2_folder, refinement_level=\"high\")\n",
    "\n",
    "# show_mesh(points, triangles, feed_point_IFA)  # Change \"black\" si besoin\n",
    "mesh_bowtie2.show_mesh(feed_point_bowtie2)"
   ]
  },
  {
   "cell_type": "code",
   "execution_count": null,
   "metadata": {},
   "outputs": [],
   "source": [
    "print(points)\n",
    "print(f\"taille de points : {points.shape}\")"
   ]
  },
  {
   "cell_type": "code",
   "execution_count": null,
   "metadata": {},
   "outputs": [],
   "source": [
    "print(triangles)\n",
    "print(f\"taille de triangles : {triangles.shape}\")"
   ]
  },
  {
   "cell_type": "code",
   "execution_count": null,
   "metadata": {},
   "outputs": [],
   "source": [
    "# Normalisation pour l'aspect ratio\n",
    "x_, y_, z_ = points\n",
    "fig_scale = max(max(x_) - min(x_), max(y_) - min(y_))\n",
    "x_scale = (max(x_) - min(x_)) / fig_scale\n",
    "y_scale = (max(y_) - min(y_)) / fig_scale\n",
    "z_scale = 0.3  # Z scale arbitraire pour une meilleure visualisation\n",
    "\n",
    "# Création de la figure 3D avec Plotly\n",
    "fig = ff.create_trisurf(\n",
    "    x=x_,\n",
    "    y=y_,\n",
    "    z=z_,\n",
    "    simplices=triangles[:3, :].T,\n",
    "    color_func=list(range(len(triangles[:3, :].T))),  # Couleurs basées sur les indices des triangles\n",
    "    show_colorbar=True,\n",
    "    title=\"Maillage triangulaire\",\n",
    "    aspectratio=dict(x=x_scale, y=y_scale, z=z_scale)\n",
    ")\n",
    "# Afficher la figure\n",
    "fig.show()"
   ]
  },
  {
   "cell_type": "code",
   "execution_count": null,
   "metadata": {},
   "outputs": [],
   "source": [
    "# Crée un dictionnaire contenant toutes les données à sauvegarder\n",
    "data = {\n",
    "    'p' : points,\n",
    "    't' : triangles\n",
    "}\n",
    "save_folder_name = 'data/antennas_mesh/'\n",
    "save_file_name = 'adaptative_bowtie.mat'\n",
    "full_save_path = os.path.join(save_folder_name, save_file_name)  # Chemin complet pour la sauvegarde\n",
    "\n",
    "# Vérifie si le dossier existe, sinon crée le dossier\n",
    "if not os.path.exists(save_folder_name): # Vérification et création du dossier si nécessaire\n",
    "    os.makedirs(save_folder_name)\n",
    "    print(f\"Directory '{save_folder_name}' created.\")\n",
    "\n",
    "# Sauvegarde les données dans le fichier MAT\n",
    "savemat(full_save_path, data)\n",
    "print(f\"Data saved successfully to {full_save_path}\")"
   ]
  },
  {
   "cell_type": "code",
   "execution_count": null,
   "metadata": {},
   "outputs": [],
   "source": [
    "filename_adaptative_mesh_bowtie = 'data/antennas_mesh/adaptative_bowtie.mat'"
   ]
  },
  {
   "cell_type": "code",
   "execution_count": null,
   "metadata": {},
   "outputs": [],
   "source": [
    "wave_incident_direction = np.array([0, 0, -1])"
   ]
  },
  {
   "cell_type": "code",
   "execution_count": null,
   "metadata": {},
   "outputs": [],
   "source": [
    "start_time = time.time()\n",
    "\n",
    "traitement_de_(filename_adaptative_mesh_bowtie)\n",
    "scattering_algorithm(filename_adaptative_mesh_bowtie, 75e7, wave_incident_direction, polarization=np.array([0, 1, 0]), load_from_matlab=False)\n",
    "\n",
    "elapsed_time = time.time() - start_time\n",
    "print(f\"Temps écoulé pour le traitement de l'antenne étudiée : {elapsed_time:.6f} secondes\")\n",
    "print('\\n')"
   ]
  },
  {
   "cell_type": "code",
   "execution_count": null,
   "metadata": {},
   "outputs": [],
   "source": [
    "filename_adaptative_mesh_bowtie_current = 'data/antennas_current/adaptative_bowtie_current.mat'\n",
    "filename_adaptative_mesh_bowtie_mesh1 = 'data/antennas_mesh1/adaptative_bowtie_mesh1.mat'"
   ]
  },
  {
   "cell_type": "code",
   "execution_count": null,
   "metadata": {},
   "outputs": [],
   "source": [
    "*_, current = DataManager_rwg4.load_data(filename_adaptative_mesh_bowtie_current)\n",
    "*_, edges = DataManager_rwg1.load_data(filename_adaptative_mesh_bowtie_mesh1)\n",
    "print(current.shape)\n",
    "print(edges.first_points.shape)\n",
    "print(edges.second_points.shape)\n"
   ]
  },
  {
   "cell_type": "code",
   "execution_count": null,
   "metadata": {},
   "outputs": [],
   "source": [
    "current_norm = np.abs(current)\n",
    "print(current_norm.shape)\n",
    "average_current_norm = np.mean(current_norm)\n",
    "print(f\"Le courant moyen sur la surface de l'antenne est : {average_current_norm} A\")"
   ]
  },
  {
   "cell_type": "code",
   "execution_count": null,
   "metadata": {},
   "outputs": [],
   "source": [
    "# Fonction pour estimer l'erreur basée sur les courants de surface\n",
    "def estimate_error(triangles, current_norm, average_current_norm):\n",
    "    errors = np.zeros(len(triangles.T))\n",
    "    for i in range(len(triangles.T)):\n",
    "        # Calculer l'erreur pour les courants supérieurs au courant moyen\n",
    "        current_value = current_norm[i]\n",
    "        if current_value > average_current_norm:\n",
    "            errors[i] = current_value - average_current_norm\n",
    "    return errors"
   ]
  },
  {
   "cell_type": "code",
   "execution_count": null,
   "metadata": {},
   "outputs": [],
   "source": [
    "def estimate_error(triangles, edges, current_norm, average_current_norm):\n",
    "    \"\"\"\n",
    "    Estime les erreurs au niveau des triangles en se basant sur les courants des arêtes.\n",
    "\n",
    "    Paramètres :\n",
    "        - triangles (ndarray) : Les indices des sommets définissant les triangles (shape : 3, n_triangles).\n",
    "        - edges (Edges) : L'objet Edges contenant les arêtes et leurs relations avec les points.\n",
    "        - current_norm (ndarray) : Les normes des courants calculées pour chaque arête (shape : n_edges).\n",
    "        - average_current_norm (float) : La norme moyenne des courants.\n",
    "\n",
    "    Retourne :\n",
    "        - errors (ndarray) : Un tableau contenant les erreurs estimées pour chaque triangle.\n",
    "    \"\"\"\n",
    "    errors = np.zeros(triangles.shape[1])  # Une erreur par triangle\n",
    "    edge_currents = {}\n",
    "\n",
    "    # Associe les courants aux arêtes\n",
    "    for i in range(edges.total_number_of_edges):\n",
    "        edge_currents[(edges.first_points[i], edges.second_points[i])] = current_norm[i]\n",
    "        edge_currents[(edges.second_points[i], edges.first_points[i])] = current_norm[i]  # Pour gérer les deux orientations\n",
    "\n",
    "    # Calcule l'erreur pour chaque triangle\n",
    "    for i, triangle in enumerate(triangles.T):\n",
    "        triangle_edges = [\n",
    "            (triangle[0], triangle[1]),\n",
    "            (triangle[1], triangle[2]),\n",
    "            (triangle[2], triangle[0])\n",
    "        ]\n",
    "        # Moyenne des courants des arêtes du triangle\n",
    "        triangle_current = np.mean([edge_currents[edge] for edge in triangle_edges])\n",
    "        if triangle_current > average_current_norm:\n",
    "            errors[i] = triangle_current - average_current_norm\n",
    "\n",
    "    return errors\n"
   ]
  },
  {
   "cell_type": "code",
   "execution_count": null,
   "metadata": {},
   "outputs": [],
   "source": [
    "errors = estimate_error(triangles, edges, current_norm, average_current_norm)\n",
    "print(errors.shape)\n",
    "print(errors)"
   ]
  },
  {
   "cell_type": "code",
   "execution_count": null,
   "metadata": {},
   "outputs": [],
   "source": [
    "threshold = 1e-03"
   ]
  },
  {
   "cell_type": "code",
   "execution_count": null,
   "metadata": {},
   "outputs": [],
   "source": [
    "def refine_mesh(points, triangles, errors, threshold):\n",
    "    refine_indices = np.where(errors > threshold)[0]\n",
    "    for idx in refine_indices:\n",
    "        triangle = triangles[:3, idx]    \n",
    "        midpoints = (points[:, triangle] + points[:, np.roll(triangle, -1)]) / 2\n",
    "        points = np.hstack([points, midpoints])\n",
    "    return points[:2, :].T"
   ]
  },
  {
   "cell_type": "code",
   "execution_count": null,
   "metadata": {},
   "outputs": [],
   "source": [
    "# mesh_adaptative_bowtie['vertices'] = refine_mesh(triangles, errors, threshold)\n",
    "mesh_adaptative_bowtie['vertices'] = refine_mesh(points, triangles, errors, threshold)\n",
    "mesh_adaptative_bowtie_2 = tr.triangulate(mesh_adaptative_bowtie, 'pq30a0.00001Dj')"
   ]
  },
  {
   "cell_type": "code",
   "execution_count": null,
   "metadata": {},
   "outputs": [],
   "source": [
    "# Extraire les sommets et les triangles\n",
    "points = np.zeros((3, mesh_adaptative_bowtie_2['vertices'].shape[0]))\n",
    "points[:2, :] = np.array(mesh_adaptative_bowtie_2['vertices']).T\n",
    "triangles = np.ones((4, mesh_adaptative_bowtie_2['triangles'].shape[0]), dtype=int)\n",
    "triangles[:3, :] = np.array(mesh_adaptative_bowtie_2['triangles']).T\n",
    "\n",
    "\n",
    "# Normalisation pour l'aspect ratio\n",
    "x_, y_, z_ = points\n",
    "fig_scale = max(max(x_) - min(x_), max(y_) - min(y_))\n",
    "x_scale = (max(x_) - min(x_)) / fig_scale\n",
    "y_scale = (max(y_) - min(y_)) / fig_scale\n",
    "z_scale = 0.3  # Z scale arbitraire pour une meilleure visualisation\n",
    "\n",
    "# Création de la figure 3D avec Plotly\n",
    "fig = ff.create_trisurf(\n",
    "    x=x_,\n",
    "    y=y_,\n",
    "    z=z_,\n",
    "    simplices=triangles[:3, :].T,\n",
    "    color_func=list(range(len(triangles[:3, :].T))),  # Couleurs basées sur les indices des triangles\n",
    "    show_colorbar=True,\n",
    "    title=\"Maillage triangulaire\",\n",
    "    aspectratio=dict(x=x_scale, y=y_scale, z=z_scale)\n",
    ")\n",
    "# Afficher la figure\n",
    "fig.show()"
   ]
  }
 ],
 "metadata": {
  "kernelspec": {
   "display_name": "Python 3 (ipykernel)",
   "language": "python",
   "name": "python3"
  },
  "language_info": {
   "codemirror_mode": {
    "name": "ipython",
    "version": 3
   },
   "file_extension": ".py",
   "mimetype": "text/x-python",
   "name": "python",
   "nbconvert_exporter": "python",
   "pygments_lexer": "ipython3",
   "version": "3.13.0"
  }
 },
 "nbformat": 4,
 "nbformat_minor": 2
}
