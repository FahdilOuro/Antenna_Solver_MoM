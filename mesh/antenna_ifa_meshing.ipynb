{
 "cells": [
  {
   "cell_type": "code",
   "execution_count": 46,
   "metadata": {},
   "outputs": [],
   "source": [
    "import triangle as tr\n",
    "import numpy as np\n",
    "import plotly.figure_factory as ff\n",
    "import plotly.graph_objects as go\n",
    "import os\n",
    "from scipy.io import savemat"
   ]
  },
  {
   "cell_type": "markdown",
   "metadata": {},
   "source": [
    "def show_mesh(points, triangles):\n",
    "    # Normalisation pour l'aspect ratio\n",
    "    x_, y_, z_ = points\n",
    "    fig_scale = max(max(x_) - min(x_), max(y_) - min(y_))\n",
    "    x_scale = (max(x_) - min(x_)) / fig_scale\n",
    "    y_scale = (max(y_) - min(y_)) / fig_scale\n",
    "    z_scale = 0.3  # Z scale arbitraire pour une meilleure visualisation\n",
    "\n",
    "    # Création de la figure 3D avec Plotly\n",
    "    fig = ff.create_trisurf(\n",
    "        x=x_,\n",
    "        y=y_,\n",
    "        z=z_,\n",
    "        simplices=triangles[:3, :].T,\n",
    "        color_func=list(range(len(triangles[:3, :].T))),  # Couleurs basées sur les indices des triangles\n",
    "        show_colorbar=True,\n",
    "        title=\"Maillage triangulaire\",\n",
    "        aspectratio=dict(x=x_scale, y=y_scale, z=z_scale)\n",
    "    )\n",
    "    # Afficher la figure\n",
    "    fig.show()"
   ]
  },
  {
   "cell_type": "code",
   "execution_count": 47,
   "metadata": {},
   "outputs": [],
   "source": [
    "def show_mesh(points, triangles, feed_point, color=\"red\"):\n",
    "    # Normalisation pour l'aspect ratio\n",
    "    x_, y_, z_ = points\n",
    "    fig_scale = max(max(x_) - min(x_), max(y_) - min(y_))\n",
    "    x_scale = (max(x_) - min(x_)) / fig_scale\n",
    "    y_scale = (max(y_) - min(y_)) / fig_scale\n",
    "    z_scale = 0.3  # Z scale arbitraire pour une meilleure visualisation\n",
    "\n",
    "    # Création de la figure 3D avec Plotly\n",
    "    fig = ff.create_trisurf(\n",
    "        x=x_,\n",
    "        y=y_,\n",
    "        z=z_,\n",
    "        simplices=triangles[:3, :].T,\n",
    "        color_func=list(range(len(triangles[:3, :].T))),  # Couleurs basées sur les indices des triangles\n",
    "        show_colorbar=False,\n",
    "        title=\"Maillage triangulaire\",\n",
    "        aspectratio=dict(x=x_scale, y=y_scale, z=z_scale)\n",
    "    )\n",
    "\n",
    "    # Ajouter le point spécifique\n",
    "    scatter = go.Scatter3d(\n",
    "        x=[feed_point[0]],\n",
    "        y=[feed_point[1]],\n",
    "        z=[feed_point[2]],\n",
    "        mode=\"markers\",\n",
    "        marker=dict(size=6, color=color, opacity=1.0),\n",
    "        name=\"Point d'alimentation\"\n",
    "    )\n",
    "\n",
    "    # Ajouter le point à la figure\n",
    "    fig.add_trace(scatter)\n",
    "\n",
    "    # Afficher la figure\n",
    "    fig.show()"
   ]
  },
  {
   "cell_type": "code",
   "execution_count": 48,
   "metadata": {},
   "outputs": [],
   "source": [
    "# Fonction pour générer les points de l'antenne IFA\n",
    "def generate_ifa_antenna_points(L, H, ML, MH, gap, Lp):\n",
    "    points = np.array([\n",
    "        [0, 0], [L, 0], [L, H], [0, H], [0, H + MH], [L, H + MH], [L, H + gap], \n",
    "        [L - ML, H + gap], [L - ML, H + MH - ML], [2 * ML + Lp, H + MH - ML], \n",
    "        [2 * ML + Lp, H], [ML + Lp, H], [ML + Lp, H + MH - ML], [ML, H + MH - ML], [ML, H]\n",
    "    ])\n",
    "    return points"
   ]
  },
  {
   "cell_type": "code",
   "execution_count": 49,
   "metadata": {},
   "outputs": [],
   "source": [
    "# Fonction pour générer les segments de l'antenne IFA\n",
    "def generate_ifa_antenna_segments():\n",
    "    segments = np.array([\n",
    "        [0, 1], [1, 2], [2, 10], [10, 9], [9, 8], [8, 7], [7, 6], [6, 5], [5, 4], [4, 3], \n",
    "        [0, 3], [11, 12], [12, 13], [13, 14], [11, 14]\n",
    "    ])\n",
    "    return segments"
   ]
  },
  {
   "cell_type": "code",
   "execution_count": 50,
   "metadata": {},
   "outputs": [],
   "source": [
    "def data_save(filename, save_folder_name, points, triangle):\n",
    "    data = {'p': points, 't': triangle}\n",
    "    save_file_name = filename + '.mat'\n",
    "    full_save_path = os.path.join(save_folder_name, save_file_name)\n",
    "    if not os.path.exists(save_folder_name):\n",
    "        os.makedirs(save_folder_name)\n",
    "        print(f\"Directory '{save_folder_name}' created.\")\n",
    "    savemat(full_save_path, data)\n",
    "    print(f\"Data saved successfully to {full_save_path}\")\n",
    "    return save_file_name"
   ]
  },
  {
   "cell_type": "code",
   "execution_count": 51,
   "metadata": {},
   "outputs": [],
   "source": [
    "# Définition des dimensions de l'antenne IFA\n",
    "L = 0.04\n",
    "H = 0.035\n",
    "ML = 0.004\n",
    "MH = 0.015\n",
    "gap = 0.0015\n",
    "Lp = 0.01\n",
    "\n",
    "# Génération des points et des segments\n",
    "vertices = generate_ifa_antenna_points(L, H, ML, MH, gap, Lp)\n",
    "segments = generate_ifa_antenna_segments()"
   ]
  },
  {
   "cell_type": "code",
   "execution_count": 52,
   "metadata": {},
   "outputs": [],
   "source": [
    "# Définition des trous (un point à l'intérieur de la zone à exclure)\n",
    "holes = np.array([\n",
    "    [(ML + ML + Lp) / 2, (H + (H + MH - ML)) / 2]\n",
    "])\n",
    "\n",
    "'''feed_point_IFA = np.array([0.016, 0.046])\n",
    "# Création d'une petite arête autour de ce point\n",
    "delta = L / 2\n",
    "\n",
    "p1 = feed_point_IFA + np.array([-delta, 0])  # Point à gauche\n",
    "p2 = feed_point_IFA + np.array([delta, 0])   # Point à droite\n",
    "\n",
    "print(\"p1 = \", p1)\n",
    "print(\"p2 = \", p2)\n",
    "\n",
    "# Ajouter ces points au maillage\n",
    "extra_points = np.array([p1, p2])\n",
    "\n",
    "# Indice des nouveaux points\n",
    "index_p1 = len(vertices)\n",
    "index_p2 = len(vertices) + 1\n",
    "\n",
    "# Ajout du segment contraint entre p1 et p2\n",
    "extra_segment = np.array([[index_p1, index_p2]])\n",
    "\n",
    "# Préparation des données pour la bibliothèque Triangle\n",
    "ifa_antenna = {\n",
    "    'vertices': np.vstack((vertices, extra_points)),\n",
    "    'segments': np.vstack((segments, extra_segment)),\n",
    "    'holes': holes\n",
    "}'''\n",
    "\n",
    "ifa_antenna = {\n",
    "    'vertices': vertices,\n",
    "    'segments': segments,\n",
    "    'holes': holes\n",
    "}\n"
   ]
  },
  {
   "cell_type": "code",
   "execution_count": 58,
   "metadata": {},
   "outputs": [
    {
     "name": "stdout",
     "output_type": "stream",
     "text": [
      "Nombre de points = 38\n",
      "Nombre de triangles = 43\n",
      "Matrice points shape = (3, 38)\n",
      "Matrice triangles shape = (4, 43)\n"
     ]
    },
    {
     "data": {
      "application/vnd.plotly.v1+json": {
       "config": {
        "plotlyServerURL": "https://plot.ly"
       },
       "data": [
        {
         "facecolor": [
          "rgb(31, 119, 180)",
          "rgb(36, 119, 176)",
          "rgb(42, 119, 172)",
          "rgb(47, 120, 168)",
          "rgb(52, 120, 164)",
          "rgb(58, 120, 160)",
          "rgb(63, 120, 156)",
          "rgb(68, 120, 152)",
          "rgb(74, 121, 148)",
          "rgb(79, 121, 144)",
          "rgb(84, 121, 140)",
          "rgb(90, 121, 137)",
          "rgb(95, 121, 133)",
          "rgb(100, 121, 129)",
          "rgb(106, 122, 125)",
          "rgb(111, 122, 121)",
          "rgb(116, 122, 117)",
          "rgb(122, 122, 113)",
          "rgb(127, 122, 109)",
          "rgb(132, 123, 105)",
          "rgb(138, 123, 101)",
          "rgb(143, 123, 97)",
          "rgb(148, 123, 93)",
          "rgb(154, 123, 89)",
          "rgb(159, 124, 85)",
          "rgb(164, 124, 81)",
          "rgb(170, 124, 77)",
          "rgb(175, 124, 73)",
          "rgb(180, 124, 69)",
          "rgb(186, 125, 65)",
          "rgb(191, 125, 61)",
          "rgb(196, 125, 57)",
          "rgb(202, 125, 54)",
          "rgb(207, 125, 50)",
          "rgb(212, 125, 46)",
          "rgb(218, 126, 42)",
          "rgb(223, 126, 38)",
          "rgb(228, 126, 34)",
          "rgb(234, 126, 30)",
          "rgb(239, 126, 26)",
          "rgb(244, 127, 22)",
          "rgb(250, 127, 18)",
          "rgb(255, 127, 14)"
         ],
         "i": [
          32,
          31,
          13,
          13,
          13,
          3,
          3,
          22,
          8,
          9,
          32,
          22,
          12,
          34,
          25,
          15,
          28,
          32,
          25,
          17,
          27,
          26,
          7,
          4,
          9,
          9,
          27,
          9,
          34,
          10,
          18,
          31,
          14,
          34,
          11,
          35,
          2,
          34,
          35,
          1,
          34,
          37,
          37
         ],
         "j": [
          34,
          32,
          4,
          21,
          12,
          20,
          14,
          11,
          5,
          15,
          11,
          10,
          24,
          37,
          30,
          9,
          10,
          29,
          18,
          18,
          5,
          27,
          6,
          13,
          24,
          12,
          26,
          22,
          19,
          28,
          17,
          29,
          3,
          29,
          32,
          33,
          10,
          0,
          2,
          35,
          36,
          33,
          36
         ],
         "k": [
          28,
          14,
          21,
          20,
          16,
          21,
          20,
          10,
          17,
          24,
          14,
          23,
          16,
          28,
          15,
          25,
          11,
          34,
          30,
          8,
          8,
          8,
          26,
          16,
          12,
          22,
          6,
          23,
          0,
          33,
          30,
          32,
          31,
          19,
          28,
          37,
          33,
          36,
          33,
          37,
          37,
          28,
          1
         ],
         "name": "",
         "type": "mesh3d",
         "x": [
          0,
          0.04,
          0.04,
          0,
          0,
          0.04,
          0.04,
          0.036000000000000004,
          0.036000000000000004,
          0.018000000000000002,
          0.018000000000000002,
          0.014,
          0.014,
          0.004,
          0.004,
          0.02,
          0.01,
          0.03,
          0.027000000000000003,
          0,
          0.004,
          0,
          0.014,
          0.018000000000000002,
          0.015,
          0.022500000000000003,
          0.036000000000000004,
          0.04,
          0.016,
          0,
          0.025,
          0,
          0.0067851562499999995,
          0.029,
          0.010829586692594062,
          0.04,
          0.02,
          0.022621733666742923
         ],
         "y": [
          0,
          0,
          0.035,
          0.035,
          0.05,
          0.05,
          0.036500000000000005,
          0.036500000000000005,
          0.046,
          0.046,
          0.035,
          0.035,
          0.046,
          0.046,
          0.035,
          0.05,
          0.05,
          0.05,
          0.046,
          0.0175,
          0.0405,
          0.0425,
          0.0405,
          0.0405,
          0.05,
          0.046,
          0.040406250000000005,
          0.043250000000000004,
          0.02790910346561913,
          0.026250000000000002,
          0.05,
          0.030625000000000003,
          0.028437500000000004,
          0.028069930354732226,
          0.01835514861360326,
          0.0175,
          0,
          0.018149510202434466
         ],
         "z": [
          0,
          0,
          0,
          0,
          0,
          0,
          0,
          0,
          0,
          0,
          0,
          0,
          0,
          0,
          0,
          0,
          0,
          0,
          0,
          0,
          0,
          0,
          0,
          0,
          0,
          0,
          0,
          0,
          0,
          0,
          0,
          0,
          0,
          0,
          0,
          0,
          0,
          0
         ]
        },
        {
         "line": {
          "color": "rgb(50, 50, 50)",
          "width": 1.5
         },
         "mode": "lines",
         "showlegend": false,
         "type": "scatter3d",
         "x": [
          0.0067851562499999995,
          0.010829586692594062,
          0.016,
          0.0067851562499999995,
          null,
          0,
          0.0067851562499999995,
          0.004,
          0,
          null,
          0.004,
          0,
          0,
          0.004,
          null,
          0.004,
          0,
          0.004,
          0.004,
          null,
          0.004,
          0.014,
          0.01,
          0.004,
          null,
          0,
          0.004,
          0,
          0,
          null,
          0,
          0.004,
          0.004,
          0,
          null,
          0.014,
          0.014,
          0.018000000000000002,
          0.014,
          null,
          0.036000000000000004,
          0.04,
          0.03,
          0.036000000000000004,
          null,
          0.018000000000000002,
          0.02,
          0.015,
          0.018000000000000002,
          null,
          0.0067851562499999995,
          0.014,
          0.004,
          0.0067851562499999995,
          null,
          0.014,
          0.018000000000000002,
          0.018000000000000002,
          0.014,
          null,
          0.014,
          0.015,
          0.01,
          0.014,
          null,
          0.010829586692594062,
          0.022621733666742923,
          0.016,
          0.010829586692594062,
          null,
          0.022500000000000003,
          0.025,
          0.02,
          0.022500000000000003,
          null,
          0.02,
          0.018000000000000002,
          0.022500000000000003,
          0.02,
          null,
          0.016,
          0.018000000000000002,
          0.014,
          0.016,
          null,
          0.0067851562499999995,
          0,
          0.010829586692594062,
          0.0067851562499999995,
          null,
          0.022500000000000003,
          0.027000000000000003,
          0.025,
          0.022500000000000003,
          null,
          0.03,
          0.027000000000000003,
          0.036000000000000004,
          0.03,
          null,
          0.04,
          0.04,
          0.036000000000000004,
          0.04,
          null,
          0.036000000000000004,
          0.04,
          0.036000000000000004,
          0.036000000000000004,
          null,
          0.036000000000000004,
          0.04,
          0.036000000000000004,
          0.036000000000000004,
          null,
          0,
          0.004,
          0.01,
          0,
          null,
          0.018000000000000002,
          0.015,
          0.014,
          0.018000000000000002,
          null,
          0.018000000000000002,
          0.014,
          0.014,
          0.018000000000000002,
          null,
          0.04,
          0.036000000000000004,
          0.04,
          0.04,
          null,
          0.018000000000000002,
          0.014,
          0.018000000000000002,
          0.018000000000000002,
          null,
          0.010829586692594062,
          0,
          0,
          0.010829586692594062,
          null,
          0.018000000000000002,
          0.016,
          0.029,
          0.018000000000000002,
          null,
          0.027000000000000003,
          0.03,
          0.025,
          0.027000000000000003,
          null,
          0,
          0,
          0.0067851562499999995,
          0,
          null,
          0.004,
          0,
          0,
          0.004,
          null,
          0.010829586692594062,
          0,
          0,
          0.010829586692594062,
          null,
          0.014,
          0.0067851562499999995,
          0.016,
          0.014,
          null,
          0.04,
          0.029,
          0.022621733666742923,
          0.04,
          null,
          0.04,
          0.018000000000000002,
          0.029,
          0.04,
          null,
          0.010829586692594062,
          0,
          0.02,
          0.010829586692594062,
          null,
          0.04,
          0.04,
          0.029,
          0.04,
          null,
          0.04,
          0.04,
          0.022621733666742923,
          0.04,
          null,
          0.010829586692594062,
          0.02,
          0.022621733666742923,
          0.010829586692594062,
          null,
          0.022621733666742923,
          0.029,
          0.016,
          0.022621733666742923,
          null,
          0.022621733666742923,
          0.02,
          0.04,
          0.022621733666742923,
          null
         ],
         "y": [
          0.028437500000000004,
          0.01835514861360326,
          0.02790910346561913,
          0.028437500000000004,
          null,
          0.030625000000000003,
          0.028437500000000004,
          0.035,
          0.030625000000000003,
          null,
          0.046,
          0.05,
          0.0425,
          0.046,
          null,
          0.046,
          0.0425,
          0.0405,
          0.046,
          null,
          0.046,
          0.046,
          0.05,
          0.046,
          null,
          0.035,
          0.0405,
          0.0425,
          0.035,
          null,
          0.035,
          0.035,
          0.0405,
          0.035,
          null,
          0.0405,
          0.035,
          0.035,
          0.0405,
          null,
          0.046,
          0.05,
          0.05,
          0.046,
          null,
          0.046,
          0.05,
          0.05,
          0.046,
          null,
          0.028437500000000004,
          0.035,
          0.035,
          0.028437500000000004,
          null,
          0.0405,
          0.035,
          0.0405,
          0.0405,
          null,
          0.046,
          0.05,
          0.05,
          0.046,
          null,
          0.01835514861360326,
          0.018149510202434466,
          0.02790910346561913,
          0.01835514861360326,
          null,
          0.046,
          0.05,
          0.05,
          0.046,
          null,
          0.05,
          0.046,
          0.046,
          0.05,
          null,
          0.02790910346561913,
          0.035,
          0.035,
          0.02790910346561913,
          null,
          0.028437500000000004,
          0.026250000000000002,
          0.01835514861360326,
          0.028437500000000004,
          null,
          0.046,
          0.046,
          0.05,
          0.046,
          null,
          0.05,
          0.046,
          0.046,
          0.05,
          null,
          0.043250000000000004,
          0.05,
          0.046,
          0.043250000000000004,
          null,
          0.040406250000000005,
          0.043250000000000004,
          0.046,
          0.040406250000000005,
          null,
          0.036500000000000005,
          0.036500000000000005,
          0.040406250000000005,
          0.036500000000000005,
          null,
          0.05,
          0.046,
          0.05,
          0.05,
          null,
          0.046,
          0.05,
          0.046,
          0.046,
          null,
          0.046,
          0.046,
          0.0405,
          0.046,
          null,
          0.043250000000000004,
          0.040406250000000005,
          0.036500000000000005,
          0.043250000000000004,
          null,
          0.046,
          0.0405,
          0.0405,
          0.046,
          null,
          0.01835514861360326,
          0.0175,
          0,
          0.01835514861360326,
          null,
          0.035,
          0.02790910346561913,
          0.028069930354732226,
          0.035,
          null,
          0.046,
          0.05,
          0.05,
          0.046,
          null,
          0.030625000000000003,
          0.026250000000000002,
          0.028437500000000004,
          0.030625000000000003,
          null,
          0.035,
          0.035,
          0.030625000000000003,
          0.035,
          null,
          0.01835514861360326,
          0.026250000000000002,
          0.0175,
          0.01835514861360326,
          null,
          0.035,
          0.028437500000000004,
          0.02790910346561913,
          0.035,
          null,
          0.0175,
          0.028069930354732226,
          0.018149510202434466,
          0.0175,
          null,
          0.035,
          0.035,
          0.028069930354732226,
          0.035,
          null,
          0.01835514861360326,
          0,
          0,
          0.01835514861360326,
          null,
          0.0175,
          0.035,
          0.028069930354732226,
          0.0175,
          null,
          0,
          0.0175,
          0.018149510202434466,
          0,
          null,
          0.01835514861360326,
          0,
          0.018149510202434466,
          0.01835514861360326,
          null,
          0.018149510202434466,
          0.028069930354732226,
          0.02790910346561913,
          0.018149510202434466,
          null,
          0.018149510202434466,
          0,
          0,
          0.018149510202434466,
          null
         ],
         "z": [
          0,
          0,
          0,
          0,
          null,
          0,
          0,
          0,
          0,
          null,
          0,
          0,
          0,
          0,
          null,
          0,
          0,
          0,
          0,
          null,
          0,
          0,
          0,
          0,
          null,
          0,
          0,
          0,
          0,
          null,
          0,
          0,
          0,
          0,
          null,
          0,
          0,
          0,
          0,
          null,
          0,
          0,
          0,
          0,
          null,
          0,
          0,
          0,
          0,
          null,
          0,
          0,
          0,
          0,
          null,
          0,
          0,
          0,
          0,
          null,
          0,
          0,
          0,
          0,
          null,
          0,
          0,
          0,
          0,
          null,
          0,
          0,
          0,
          0,
          null,
          0,
          0,
          0,
          0,
          null,
          0,
          0,
          0,
          0,
          null,
          0,
          0,
          0,
          0,
          null,
          0,
          0,
          0,
          0,
          null,
          0,
          0,
          0,
          0,
          null,
          0,
          0,
          0,
          0,
          null,
          0,
          0,
          0,
          0,
          null,
          0,
          0,
          0,
          0,
          null,
          0,
          0,
          0,
          0,
          null,
          0,
          0,
          0,
          0,
          null,
          0,
          0,
          0,
          0,
          null,
          0,
          0,
          0,
          0,
          null,
          0,
          0,
          0,
          0,
          null,
          0,
          0,
          0,
          0,
          null,
          0,
          0,
          0,
          0,
          null,
          0,
          0,
          0,
          0,
          null,
          0,
          0,
          0,
          0,
          null,
          0,
          0,
          0,
          0,
          null,
          0,
          0,
          0,
          0,
          null,
          0,
          0,
          0,
          0,
          null,
          0,
          0,
          0,
          0,
          null,
          0,
          0,
          0,
          0,
          null,
          0,
          0,
          0,
          0,
          null,
          0,
          0,
          0,
          0,
          null,
          0,
          0,
          0,
          0,
          null,
          0,
          0,
          0,
          0,
          null,
          0,
          0,
          0,
          0,
          null,
          0,
          0,
          0,
          0,
          null
         ]
        },
        {
         "marker": {
          "color": "red",
          "opacity": 1,
          "size": 6
         },
         "mode": "markers",
         "name": "Point d'alimentation",
         "type": "scatter3d",
         "x": [
          0.016
         ],
         "y": [
          0.035
         ],
         "z": [
          0
         ]
        }
       ],
       "layout": {
        "height": 800,
        "scene": {
         "aspectratio": {
          "x": 0.7999999999999999,
          "y": 1,
          "z": 0.3
         },
         "xaxis": {
          "backgroundcolor": "rgb(230, 230, 230)",
          "gridcolor": "rgb(255, 255, 255)",
          "showbackground": true,
          "zerolinecolor": "rgb(255, 255, 255)"
         },
         "yaxis": {
          "backgroundcolor": "rgb(230, 230, 230)",
          "gridcolor": "rgb(255, 255, 255)",
          "showbackground": true,
          "zerolinecolor": "rgb(255, 255, 255)"
         },
         "zaxis": {
          "backgroundcolor": "rgb(230, 230, 230)",
          "gridcolor": "rgb(255, 255, 255)",
          "showbackground": true,
          "zerolinecolor": "rgb(255, 255, 255)"
         }
        },
        "template": {
         "data": {
          "bar": [
           {
            "error_x": {
             "color": "#2a3f5f"
            },
            "error_y": {
             "color": "#2a3f5f"
            },
            "marker": {
             "line": {
              "color": "#E5ECF6",
              "width": 0.5
             },
             "pattern": {
              "fillmode": "overlay",
              "size": 10,
              "solidity": 0.2
             }
            },
            "type": "bar"
           }
          ],
          "barpolar": [
           {
            "marker": {
             "line": {
              "color": "#E5ECF6",
              "width": 0.5
             },
             "pattern": {
              "fillmode": "overlay",
              "size": 10,
              "solidity": 0.2
             }
            },
            "type": "barpolar"
           }
          ],
          "carpet": [
           {
            "aaxis": {
             "endlinecolor": "#2a3f5f",
             "gridcolor": "white",
             "linecolor": "white",
             "minorgridcolor": "white",
             "startlinecolor": "#2a3f5f"
            },
            "baxis": {
             "endlinecolor": "#2a3f5f",
             "gridcolor": "white",
             "linecolor": "white",
             "minorgridcolor": "white",
             "startlinecolor": "#2a3f5f"
            },
            "type": "carpet"
           }
          ],
          "choropleth": [
           {
            "colorbar": {
             "outlinewidth": 0,
             "ticks": ""
            },
            "type": "choropleth"
           }
          ],
          "contour": [
           {
            "colorbar": {
             "outlinewidth": 0,
             "ticks": ""
            },
            "colorscale": [
             [
              0,
              "#0d0887"
             ],
             [
              0.1111111111111111,
              "#46039f"
             ],
             [
              0.2222222222222222,
              "#7201a8"
             ],
             [
              0.3333333333333333,
              "#9c179e"
             ],
             [
              0.4444444444444444,
              "#bd3786"
             ],
             [
              0.5555555555555556,
              "#d8576b"
             ],
             [
              0.6666666666666666,
              "#ed7953"
             ],
             [
              0.7777777777777778,
              "#fb9f3a"
             ],
             [
              0.8888888888888888,
              "#fdca26"
             ],
             [
              1,
              "#f0f921"
             ]
            ],
            "type": "contour"
           }
          ],
          "contourcarpet": [
           {
            "colorbar": {
             "outlinewidth": 0,
             "ticks": ""
            },
            "type": "contourcarpet"
           }
          ],
          "heatmap": [
           {
            "colorbar": {
             "outlinewidth": 0,
             "ticks": ""
            },
            "colorscale": [
             [
              0,
              "#0d0887"
             ],
             [
              0.1111111111111111,
              "#46039f"
             ],
             [
              0.2222222222222222,
              "#7201a8"
             ],
             [
              0.3333333333333333,
              "#9c179e"
             ],
             [
              0.4444444444444444,
              "#bd3786"
             ],
             [
              0.5555555555555556,
              "#d8576b"
             ],
             [
              0.6666666666666666,
              "#ed7953"
             ],
             [
              0.7777777777777778,
              "#fb9f3a"
             ],
             [
              0.8888888888888888,
              "#fdca26"
             ],
             [
              1,
              "#f0f921"
             ]
            ],
            "type": "heatmap"
           }
          ],
          "heatmapgl": [
           {
            "colorbar": {
             "outlinewidth": 0,
             "ticks": ""
            },
            "colorscale": [
             [
              0,
              "#0d0887"
             ],
             [
              0.1111111111111111,
              "#46039f"
             ],
             [
              0.2222222222222222,
              "#7201a8"
             ],
             [
              0.3333333333333333,
              "#9c179e"
             ],
             [
              0.4444444444444444,
              "#bd3786"
             ],
             [
              0.5555555555555556,
              "#d8576b"
             ],
             [
              0.6666666666666666,
              "#ed7953"
             ],
             [
              0.7777777777777778,
              "#fb9f3a"
             ],
             [
              0.8888888888888888,
              "#fdca26"
             ],
             [
              1,
              "#f0f921"
             ]
            ],
            "type": "heatmapgl"
           }
          ],
          "histogram": [
           {
            "marker": {
             "pattern": {
              "fillmode": "overlay",
              "size": 10,
              "solidity": 0.2
             }
            },
            "type": "histogram"
           }
          ],
          "histogram2d": [
           {
            "colorbar": {
             "outlinewidth": 0,
             "ticks": ""
            },
            "colorscale": [
             [
              0,
              "#0d0887"
             ],
             [
              0.1111111111111111,
              "#46039f"
             ],
             [
              0.2222222222222222,
              "#7201a8"
             ],
             [
              0.3333333333333333,
              "#9c179e"
             ],
             [
              0.4444444444444444,
              "#bd3786"
             ],
             [
              0.5555555555555556,
              "#d8576b"
             ],
             [
              0.6666666666666666,
              "#ed7953"
             ],
             [
              0.7777777777777778,
              "#fb9f3a"
             ],
             [
              0.8888888888888888,
              "#fdca26"
             ],
             [
              1,
              "#f0f921"
             ]
            ],
            "type": "histogram2d"
           }
          ],
          "histogram2dcontour": [
           {
            "colorbar": {
             "outlinewidth": 0,
             "ticks": ""
            },
            "colorscale": [
             [
              0,
              "#0d0887"
             ],
             [
              0.1111111111111111,
              "#46039f"
             ],
             [
              0.2222222222222222,
              "#7201a8"
             ],
             [
              0.3333333333333333,
              "#9c179e"
             ],
             [
              0.4444444444444444,
              "#bd3786"
             ],
             [
              0.5555555555555556,
              "#d8576b"
             ],
             [
              0.6666666666666666,
              "#ed7953"
             ],
             [
              0.7777777777777778,
              "#fb9f3a"
             ],
             [
              0.8888888888888888,
              "#fdca26"
             ],
             [
              1,
              "#f0f921"
             ]
            ],
            "type": "histogram2dcontour"
           }
          ],
          "mesh3d": [
           {
            "colorbar": {
             "outlinewidth": 0,
             "ticks": ""
            },
            "type": "mesh3d"
           }
          ],
          "parcoords": [
           {
            "line": {
             "colorbar": {
              "outlinewidth": 0,
              "ticks": ""
             }
            },
            "type": "parcoords"
           }
          ],
          "pie": [
           {
            "automargin": true,
            "type": "pie"
           }
          ],
          "scatter": [
           {
            "fillpattern": {
             "fillmode": "overlay",
             "size": 10,
             "solidity": 0.2
            },
            "type": "scatter"
           }
          ],
          "scatter3d": [
           {
            "line": {
             "colorbar": {
              "outlinewidth": 0,
              "ticks": ""
             }
            },
            "marker": {
             "colorbar": {
              "outlinewidth": 0,
              "ticks": ""
             }
            },
            "type": "scatter3d"
           }
          ],
          "scattercarpet": [
           {
            "marker": {
             "colorbar": {
              "outlinewidth": 0,
              "ticks": ""
             }
            },
            "type": "scattercarpet"
           }
          ],
          "scattergeo": [
           {
            "marker": {
             "colorbar": {
              "outlinewidth": 0,
              "ticks": ""
             }
            },
            "type": "scattergeo"
           }
          ],
          "scattergl": [
           {
            "marker": {
             "colorbar": {
              "outlinewidth": 0,
              "ticks": ""
             }
            },
            "type": "scattergl"
           }
          ],
          "scattermapbox": [
           {
            "marker": {
             "colorbar": {
              "outlinewidth": 0,
              "ticks": ""
             }
            },
            "type": "scattermapbox"
           }
          ],
          "scatterpolar": [
           {
            "marker": {
             "colorbar": {
              "outlinewidth": 0,
              "ticks": ""
             }
            },
            "type": "scatterpolar"
           }
          ],
          "scatterpolargl": [
           {
            "marker": {
             "colorbar": {
              "outlinewidth": 0,
              "ticks": ""
             }
            },
            "type": "scatterpolargl"
           }
          ],
          "scatterternary": [
           {
            "marker": {
             "colorbar": {
              "outlinewidth": 0,
              "ticks": ""
             }
            },
            "type": "scatterternary"
           }
          ],
          "surface": [
           {
            "colorbar": {
             "outlinewidth": 0,
             "ticks": ""
            },
            "colorscale": [
             [
              0,
              "#0d0887"
             ],
             [
              0.1111111111111111,
              "#46039f"
             ],
             [
              0.2222222222222222,
              "#7201a8"
             ],
             [
              0.3333333333333333,
              "#9c179e"
             ],
             [
              0.4444444444444444,
              "#bd3786"
             ],
             [
              0.5555555555555556,
              "#d8576b"
             ],
             [
              0.6666666666666666,
              "#ed7953"
             ],
             [
              0.7777777777777778,
              "#fb9f3a"
             ],
             [
              0.8888888888888888,
              "#fdca26"
             ],
             [
              1,
              "#f0f921"
             ]
            ],
            "type": "surface"
           }
          ],
          "table": [
           {
            "cells": {
             "fill": {
              "color": "#EBF0F8"
             },
             "line": {
              "color": "white"
             }
            },
            "header": {
             "fill": {
              "color": "#C8D4E3"
             },
             "line": {
              "color": "white"
             }
            },
            "type": "table"
           }
          ]
         },
         "layout": {
          "annotationdefaults": {
           "arrowcolor": "#2a3f5f",
           "arrowhead": 0,
           "arrowwidth": 1
          },
          "autotypenumbers": "strict",
          "coloraxis": {
           "colorbar": {
            "outlinewidth": 0,
            "ticks": ""
           }
          },
          "colorscale": {
           "diverging": [
            [
             0,
             "#8e0152"
            ],
            [
             0.1,
             "#c51b7d"
            ],
            [
             0.2,
             "#de77ae"
            ],
            [
             0.3,
             "#f1b6da"
            ],
            [
             0.4,
             "#fde0ef"
            ],
            [
             0.5,
             "#f7f7f7"
            ],
            [
             0.6,
             "#e6f5d0"
            ],
            [
             0.7,
             "#b8e186"
            ],
            [
             0.8,
             "#7fbc41"
            ],
            [
             0.9,
             "#4d9221"
            ],
            [
             1,
             "#276419"
            ]
           ],
           "sequential": [
            [
             0,
             "#0d0887"
            ],
            [
             0.1111111111111111,
             "#46039f"
            ],
            [
             0.2222222222222222,
             "#7201a8"
            ],
            [
             0.3333333333333333,
             "#9c179e"
            ],
            [
             0.4444444444444444,
             "#bd3786"
            ],
            [
             0.5555555555555556,
             "#d8576b"
            ],
            [
             0.6666666666666666,
             "#ed7953"
            ],
            [
             0.7777777777777778,
             "#fb9f3a"
            ],
            [
             0.8888888888888888,
             "#fdca26"
            ],
            [
             1,
             "#f0f921"
            ]
           ],
           "sequentialminus": [
            [
             0,
             "#0d0887"
            ],
            [
             0.1111111111111111,
             "#46039f"
            ],
            [
             0.2222222222222222,
             "#7201a8"
            ],
            [
             0.3333333333333333,
             "#9c179e"
            ],
            [
             0.4444444444444444,
             "#bd3786"
            ],
            [
             0.5555555555555556,
             "#d8576b"
            ],
            [
             0.6666666666666666,
             "#ed7953"
            ],
            [
             0.7777777777777778,
             "#fb9f3a"
            ],
            [
             0.8888888888888888,
             "#fdca26"
            ],
            [
             1,
             "#f0f921"
            ]
           ]
          },
          "colorway": [
           "#636efa",
           "#EF553B",
           "#00cc96",
           "#ab63fa",
           "#FFA15A",
           "#19d3f3",
           "#FF6692",
           "#B6E880",
           "#FF97FF",
           "#FECB52"
          ],
          "font": {
           "color": "#2a3f5f"
          },
          "geo": {
           "bgcolor": "white",
           "lakecolor": "white",
           "landcolor": "#E5ECF6",
           "showlakes": true,
           "showland": true,
           "subunitcolor": "white"
          },
          "hoverlabel": {
           "align": "left"
          },
          "hovermode": "closest",
          "mapbox": {
           "style": "light"
          },
          "paper_bgcolor": "white",
          "plot_bgcolor": "#E5ECF6",
          "polar": {
           "angularaxis": {
            "gridcolor": "white",
            "linecolor": "white",
            "ticks": ""
           },
           "bgcolor": "#E5ECF6",
           "radialaxis": {
            "gridcolor": "white",
            "linecolor": "white",
            "ticks": ""
           }
          },
          "scene": {
           "xaxis": {
            "backgroundcolor": "#E5ECF6",
            "gridcolor": "white",
            "gridwidth": 2,
            "linecolor": "white",
            "showbackground": true,
            "ticks": "",
            "zerolinecolor": "white"
           },
           "yaxis": {
            "backgroundcolor": "#E5ECF6",
            "gridcolor": "white",
            "gridwidth": 2,
            "linecolor": "white",
            "showbackground": true,
            "ticks": "",
            "zerolinecolor": "white"
           },
           "zaxis": {
            "backgroundcolor": "#E5ECF6",
            "gridcolor": "white",
            "gridwidth": 2,
            "linecolor": "white",
            "showbackground": true,
            "ticks": "",
            "zerolinecolor": "white"
           }
          },
          "shapedefaults": {
           "line": {
            "color": "#2a3f5f"
           }
          },
          "ternary": {
           "aaxis": {
            "gridcolor": "white",
            "linecolor": "white",
            "ticks": ""
           },
           "baxis": {
            "gridcolor": "white",
            "linecolor": "white",
            "ticks": ""
           },
           "bgcolor": "#E5ECF6",
           "caxis": {
            "gridcolor": "white",
            "linecolor": "white",
            "ticks": ""
           }
          },
          "title": {
           "x": 0.05
          },
          "xaxis": {
           "automargin": true,
           "gridcolor": "white",
           "linecolor": "white",
           "ticks": "",
           "title": {
            "standoff": 15
           },
           "zerolinecolor": "white",
           "zerolinewidth": 2
          },
          "yaxis": {
           "automargin": true,
           "gridcolor": "white",
           "linecolor": "white",
           "ticks": "",
           "title": {
            "standoff": 15
           },
           "zerolinecolor": "white",
           "zerolinewidth": 2
          }
         }
        },
        "title": {
         "text": "Maillage triangulaire"
        },
        "width": 800
       }
      },
      "text/html": [
       "<div>                            <div id=\"30e5a505-388e-466c-ae97-f0a35c4e8afa\" class=\"plotly-graph-div\" style=\"height:800px; width:800px;\"></div>            <script type=\"text/javascript\">                require([\"plotly\"], function(Plotly) {                    window.PLOTLYENV=window.PLOTLYENV || {};                                    if (document.getElementById(\"30e5a505-388e-466c-ae97-f0a35c4e8afa\")) {                    Plotly.newPlot(                        \"30e5a505-388e-466c-ae97-f0a35c4e8afa\",                        [{\"facecolor\":[\"rgb(31, 119, 180)\",\"rgb(36, 119, 176)\",\"rgb(42, 119, 172)\",\"rgb(47, 120, 168)\",\"rgb(52, 120, 164)\",\"rgb(58, 120, 160)\",\"rgb(63, 120, 156)\",\"rgb(68, 120, 152)\",\"rgb(74, 121, 148)\",\"rgb(79, 121, 144)\",\"rgb(84, 121, 140)\",\"rgb(90, 121, 137)\",\"rgb(95, 121, 133)\",\"rgb(100, 121, 129)\",\"rgb(106, 122, 125)\",\"rgb(111, 122, 121)\",\"rgb(116, 122, 117)\",\"rgb(122, 122, 113)\",\"rgb(127, 122, 109)\",\"rgb(132, 123, 105)\",\"rgb(138, 123, 101)\",\"rgb(143, 123, 97)\",\"rgb(148, 123, 93)\",\"rgb(154, 123, 89)\",\"rgb(159, 124, 85)\",\"rgb(164, 124, 81)\",\"rgb(170, 124, 77)\",\"rgb(175, 124, 73)\",\"rgb(180, 124, 69)\",\"rgb(186, 125, 65)\",\"rgb(191, 125, 61)\",\"rgb(196, 125, 57)\",\"rgb(202, 125, 54)\",\"rgb(207, 125, 50)\",\"rgb(212, 125, 46)\",\"rgb(218, 126, 42)\",\"rgb(223, 126, 38)\",\"rgb(228, 126, 34)\",\"rgb(234, 126, 30)\",\"rgb(239, 126, 26)\",\"rgb(244, 127, 22)\",\"rgb(250, 127, 18)\",\"rgb(255, 127, 14)\"],\"i\":[32,31,13,13,13,3,3,22,8,9,32,22,12,34,25,15,28,32,25,17,27,26,7,4,9,9,27,9,34,10,18,31,14,34,11,35,2,34,35,1,34,37,37],\"j\":[34,32,4,21,12,20,14,11,5,15,11,10,24,37,30,9,10,29,18,18,5,27,6,13,24,12,26,22,19,28,17,29,3,29,32,33,10,0,2,35,36,33,36],\"k\":[28,14,21,20,16,21,20,10,17,24,14,23,16,28,15,25,11,34,30,8,8,8,26,16,12,22,6,23,0,33,30,32,31,19,28,37,33,36,33,37,37,28,1],\"name\":\"\",\"x\":[0.0,0.04,0.04,0.0,0.0,0.04,0.04,0.036000000000000004,0.036000000000000004,0.018000000000000002,0.018000000000000002,0.014,0.014,0.004,0.004,0.02,0.01,0.03,0.027000000000000003,0.0,0.004,0.0,0.014,0.018000000000000002,0.015,0.022500000000000003,0.036000000000000004,0.04,0.016,0.0,0.025,0.0,0.0067851562499999995,0.029,0.010829586692594062,0.04,0.02,0.022621733666742923],\"y\":[0.0,0.0,0.035,0.035,0.05,0.05,0.036500000000000005,0.036500000000000005,0.046,0.046,0.035,0.035,0.046,0.046,0.035,0.05,0.05,0.05,0.046,0.0175,0.0405,0.0425,0.0405,0.0405,0.05,0.046,0.040406250000000005,0.043250000000000004,0.02790910346561913,0.026250000000000002,0.05,0.030625000000000003,0.028437500000000004,0.028069930354732226,0.01835514861360326,0.0175,0.0,0.018149510202434466],\"z\":[0.0,0.0,0.0,0.0,0.0,0.0,0.0,0.0,0.0,0.0,0.0,0.0,0.0,0.0,0.0,0.0,0.0,0.0,0.0,0.0,0.0,0.0,0.0,0.0,0.0,0.0,0.0,0.0,0.0,0.0,0.0,0.0,0.0,0.0,0.0,0.0,0.0,0.0],\"type\":\"mesh3d\"},{\"line\":{\"color\":\"rgb(50, 50, 50)\",\"width\":1.5},\"mode\":\"lines\",\"showlegend\":false,\"x\":[0.0067851562499999995,0.010829586692594062,0.016,0.0067851562499999995,null,0.0,0.0067851562499999995,0.004,0.0,null,0.004,0.0,0.0,0.004,null,0.004,0.0,0.004,0.004,null,0.004,0.014,0.01,0.004,null,0.0,0.004,0.0,0.0,null,0.0,0.004,0.004,0.0,null,0.014,0.014,0.018000000000000002,0.014,null,0.036000000000000004,0.04,0.03,0.036000000000000004,null,0.018000000000000002,0.02,0.015,0.018000000000000002,null,0.0067851562499999995,0.014,0.004,0.0067851562499999995,null,0.014,0.018000000000000002,0.018000000000000002,0.014,null,0.014,0.015,0.01,0.014,null,0.010829586692594062,0.022621733666742923,0.016,0.010829586692594062,null,0.022500000000000003,0.025,0.02,0.022500000000000003,null,0.02,0.018000000000000002,0.022500000000000003,0.02,null,0.016,0.018000000000000002,0.014,0.016,null,0.0067851562499999995,0.0,0.010829586692594062,0.0067851562499999995,null,0.022500000000000003,0.027000000000000003,0.025,0.022500000000000003,null,0.03,0.027000000000000003,0.036000000000000004,0.03,null,0.04,0.04,0.036000000000000004,0.04,null,0.036000000000000004,0.04,0.036000000000000004,0.036000000000000004,null,0.036000000000000004,0.04,0.036000000000000004,0.036000000000000004,null,0.0,0.004,0.01,0.0,null,0.018000000000000002,0.015,0.014,0.018000000000000002,null,0.018000000000000002,0.014,0.014,0.018000000000000002,null,0.04,0.036000000000000004,0.04,0.04,null,0.018000000000000002,0.014,0.018000000000000002,0.018000000000000002,null,0.010829586692594062,0.0,0.0,0.010829586692594062,null,0.018000000000000002,0.016,0.029,0.018000000000000002,null,0.027000000000000003,0.03,0.025,0.027000000000000003,null,0.0,0.0,0.0067851562499999995,0.0,null,0.004,0.0,0.0,0.004,null,0.010829586692594062,0.0,0.0,0.010829586692594062,null,0.014,0.0067851562499999995,0.016,0.014,null,0.04,0.029,0.022621733666742923,0.04,null,0.04,0.018000000000000002,0.029,0.04,null,0.010829586692594062,0.0,0.02,0.010829586692594062,null,0.04,0.04,0.029,0.04,null,0.04,0.04,0.022621733666742923,0.04,null,0.010829586692594062,0.02,0.022621733666742923,0.010829586692594062,null,0.022621733666742923,0.029,0.016,0.022621733666742923,null,0.022621733666742923,0.02,0.04,0.022621733666742923,null],\"y\":[0.028437500000000004,0.01835514861360326,0.02790910346561913,0.028437500000000004,null,0.030625000000000003,0.028437500000000004,0.035,0.030625000000000003,null,0.046,0.05,0.0425,0.046,null,0.046,0.0425,0.0405,0.046,null,0.046,0.046,0.05,0.046,null,0.035,0.0405,0.0425,0.035,null,0.035,0.035,0.0405,0.035,null,0.0405,0.035,0.035,0.0405,null,0.046,0.05,0.05,0.046,null,0.046,0.05,0.05,0.046,null,0.028437500000000004,0.035,0.035,0.028437500000000004,null,0.0405,0.035,0.0405,0.0405,null,0.046,0.05,0.05,0.046,null,0.01835514861360326,0.018149510202434466,0.02790910346561913,0.01835514861360326,null,0.046,0.05,0.05,0.046,null,0.05,0.046,0.046,0.05,null,0.02790910346561913,0.035,0.035,0.02790910346561913,null,0.028437500000000004,0.026250000000000002,0.01835514861360326,0.028437500000000004,null,0.046,0.046,0.05,0.046,null,0.05,0.046,0.046,0.05,null,0.043250000000000004,0.05,0.046,0.043250000000000004,null,0.040406250000000005,0.043250000000000004,0.046,0.040406250000000005,null,0.036500000000000005,0.036500000000000005,0.040406250000000005,0.036500000000000005,null,0.05,0.046,0.05,0.05,null,0.046,0.05,0.046,0.046,null,0.046,0.046,0.0405,0.046,null,0.043250000000000004,0.040406250000000005,0.036500000000000005,0.043250000000000004,null,0.046,0.0405,0.0405,0.046,null,0.01835514861360326,0.0175,0.0,0.01835514861360326,null,0.035,0.02790910346561913,0.028069930354732226,0.035,null,0.046,0.05,0.05,0.046,null,0.030625000000000003,0.026250000000000002,0.028437500000000004,0.030625000000000003,null,0.035,0.035,0.030625000000000003,0.035,null,0.01835514861360326,0.026250000000000002,0.0175,0.01835514861360326,null,0.035,0.028437500000000004,0.02790910346561913,0.035,null,0.0175,0.028069930354732226,0.018149510202434466,0.0175,null,0.035,0.035,0.028069930354732226,0.035,null,0.01835514861360326,0.0,0.0,0.01835514861360326,null,0.0175,0.035,0.028069930354732226,0.0175,null,0.0,0.0175,0.018149510202434466,0.0,null,0.01835514861360326,0.0,0.018149510202434466,0.01835514861360326,null,0.018149510202434466,0.028069930354732226,0.02790910346561913,0.018149510202434466,null,0.018149510202434466,0.0,0.0,0.018149510202434466,null],\"z\":[0.0,0.0,0.0,0.0,null,0.0,0.0,0.0,0.0,null,0.0,0.0,0.0,0.0,null,0.0,0.0,0.0,0.0,null,0.0,0.0,0.0,0.0,null,0.0,0.0,0.0,0.0,null,0.0,0.0,0.0,0.0,null,0.0,0.0,0.0,0.0,null,0.0,0.0,0.0,0.0,null,0.0,0.0,0.0,0.0,null,0.0,0.0,0.0,0.0,null,0.0,0.0,0.0,0.0,null,0.0,0.0,0.0,0.0,null,0.0,0.0,0.0,0.0,null,0.0,0.0,0.0,0.0,null,0.0,0.0,0.0,0.0,null,0.0,0.0,0.0,0.0,null,0.0,0.0,0.0,0.0,null,0.0,0.0,0.0,0.0,null,0.0,0.0,0.0,0.0,null,0.0,0.0,0.0,0.0,null,0.0,0.0,0.0,0.0,null,0.0,0.0,0.0,0.0,null,0.0,0.0,0.0,0.0,null,0.0,0.0,0.0,0.0,null,0.0,0.0,0.0,0.0,null,0.0,0.0,0.0,0.0,null,0.0,0.0,0.0,0.0,null,0.0,0.0,0.0,0.0,null,0.0,0.0,0.0,0.0,null,0.0,0.0,0.0,0.0,null,0.0,0.0,0.0,0.0,null,0.0,0.0,0.0,0.0,null,0.0,0.0,0.0,0.0,null,0.0,0.0,0.0,0.0,null,0.0,0.0,0.0,0.0,null,0.0,0.0,0.0,0.0,null,0.0,0.0,0.0,0.0,null,0.0,0.0,0.0,0.0,null,0.0,0.0,0.0,0.0,null,0.0,0.0,0.0,0.0,null,0.0,0.0,0.0,0.0,null,0.0,0.0,0.0,0.0,null],\"type\":\"scatter3d\"},{\"marker\":{\"color\":\"red\",\"opacity\":1.0,\"size\":6},\"mode\":\"markers\",\"name\":\"Point d'alimentation\",\"x\":[0.016],\"y\":[0.035],\"z\":[0],\"type\":\"scatter3d\"}],                        {\"height\":800,\"scene\":{\"aspectratio\":{\"x\":0.7999999999999999,\"y\":1.0,\"z\":0.3},\"xaxis\":{\"backgroundcolor\":\"rgb(230, 230, 230)\",\"gridcolor\":\"rgb(255, 255, 255)\",\"showbackground\":true,\"zerolinecolor\":\"rgb(255, 255, 255)\"},\"yaxis\":{\"backgroundcolor\":\"rgb(230, 230, 230)\",\"gridcolor\":\"rgb(255, 255, 255)\",\"showbackground\":true,\"zerolinecolor\":\"rgb(255, 255, 255)\"},\"zaxis\":{\"backgroundcolor\":\"rgb(230, 230, 230)\",\"gridcolor\":\"rgb(255, 255, 255)\",\"showbackground\":true,\"zerolinecolor\":\"rgb(255, 255, 255)\"}},\"title\":{\"text\":\"Maillage triangulaire\"},\"width\":800,\"template\":{\"data\":{\"histogram2dcontour\":[{\"type\":\"histogram2dcontour\",\"colorbar\":{\"outlinewidth\":0,\"ticks\":\"\"},\"colorscale\":[[0.0,\"#0d0887\"],[0.1111111111111111,\"#46039f\"],[0.2222222222222222,\"#7201a8\"],[0.3333333333333333,\"#9c179e\"],[0.4444444444444444,\"#bd3786\"],[0.5555555555555556,\"#d8576b\"],[0.6666666666666666,\"#ed7953\"],[0.7777777777777778,\"#fb9f3a\"],[0.8888888888888888,\"#fdca26\"],[1.0,\"#f0f921\"]]}],\"choropleth\":[{\"type\":\"choropleth\",\"colorbar\":{\"outlinewidth\":0,\"ticks\":\"\"}}],\"histogram2d\":[{\"type\":\"histogram2d\",\"colorbar\":{\"outlinewidth\":0,\"ticks\":\"\"},\"colorscale\":[[0.0,\"#0d0887\"],[0.1111111111111111,\"#46039f\"],[0.2222222222222222,\"#7201a8\"],[0.3333333333333333,\"#9c179e\"],[0.4444444444444444,\"#bd3786\"],[0.5555555555555556,\"#d8576b\"],[0.6666666666666666,\"#ed7953\"],[0.7777777777777778,\"#fb9f3a\"],[0.8888888888888888,\"#fdca26\"],[1.0,\"#f0f921\"]]}],\"heatmap\":[{\"type\":\"heatmap\",\"colorbar\":{\"outlinewidth\":0,\"ticks\":\"\"},\"colorscale\":[[0.0,\"#0d0887\"],[0.1111111111111111,\"#46039f\"],[0.2222222222222222,\"#7201a8\"],[0.3333333333333333,\"#9c179e\"],[0.4444444444444444,\"#bd3786\"],[0.5555555555555556,\"#d8576b\"],[0.6666666666666666,\"#ed7953\"],[0.7777777777777778,\"#fb9f3a\"],[0.8888888888888888,\"#fdca26\"],[1.0,\"#f0f921\"]]}],\"heatmapgl\":[{\"type\":\"heatmapgl\",\"colorbar\":{\"outlinewidth\":0,\"ticks\":\"\"},\"colorscale\":[[0.0,\"#0d0887\"],[0.1111111111111111,\"#46039f\"],[0.2222222222222222,\"#7201a8\"],[0.3333333333333333,\"#9c179e\"],[0.4444444444444444,\"#bd3786\"],[0.5555555555555556,\"#d8576b\"],[0.6666666666666666,\"#ed7953\"],[0.7777777777777778,\"#fb9f3a\"],[0.8888888888888888,\"#fdca26\"],[1.0,\"#f0f921\"]]}],\"contourcarpet\":[{\"type\":\"contourcarpet\",\"colorbar\":{\"outlinewidth\":0,\"ticks\":\"\"}}],\"contour\":[{\"type\":\"contour\",\"colorbar\":{\"outlinewidth\":0,\"ticks\":\"\"},\"colorscale\":[[0.0,\"#0d0887\"],[0.1111111111111111,\"#46039f\"],[0.2222222222222222,\"#7201a8\"],[0.3333333333333333,\"#9c179e\"],[0.4444444444444444,\"#bd3786\"],[0.5555555555555556,\"#d8576b\"],[0.6666666666666666,\"#ed7953\"],[0.7777777777777778,\"#fb9f3a\"],[0.8888888888888888,\"#fdca26\"],[1.0,\"#f0f921\"]]}],\"surface\":[{\"type\":\"surface\",\"colorbar\":{\"outlinewidth\":0,\"ticks\":\"\"},\"colorscale\":[[0.0,\"#0d0887\"],[0.1111111111111111,\"#46039f\"],[0.2222222222222222,\"#7201a8\"],[0.3333333333333333,\"#9c179e\"],[0.4444444444444444,\"#bd3786\"],[0.5555555555555556,\"#d8576b\"],[0.6666666666666666,\"#ed7953\"],[0.7777777777777778,\"#fb9f3a\"],[0.8888888888888888,\"#fdca26\"],[1.0,\"#f0f921\"]]}],\"mesh3d\":[{\"type\":\"mesh3d\",\"colorbar\":{\"outlinewidth\":0,\"ticks\":\"\"}}],\"scatter\":[{\"fillpattern\":{\"fillmode\":\"overlay\",\"size\":10,\"solidity\":0.2},\"type\":\"scatter\"}],\"parcoords\":[{\"type\":\"parcoords\",\"line\":{\"colorbar\":{\"outlinewidth\":0,\"ticks\":\"\"}}}],\"scatterpolargl\":[{\"type\":\"scatterpolargl\",\"marker\":{\"colorbar\":{\"outlinewidth\":0,\"ticks\":\"\"}}}],\"bar\":[{\"error_x\":{\"color\":\"#2a3f5f\"},\"error_y\":{\"color\":\"#2a3f5f\"},\"marker\":{\"line\":{\"color\":\"#E5ECF6\",\"width\":0.5},\"pattern\":{\"fillmode\":\"overlay\",\"size\":10,\"solidity\":0.2}},\"type\":\"bar\"}],\"scattergeo\":[{\"type\":\"scattergeo\",\"marker\":{\"colorbar\":{\"outlinewidth\":0,\"ticks\":\"\"}}}],\"scatterpolar\":[{\"type\":\"scatterpolar\",\"marker\":{\"colorbar\":{\"outlinewidth\":0,\"ticks\":\"\"}}}],\"histogram\":[{\"marker\":{\"pattern\":{\"fillmode\":\"overlay\",\"size\":10,\"solidity\":0.2}},\"type\":\"histogram\"}],\"scattergl\":[{\"type\":\"scattergl\",\"marker\":{\"colorbar\":{\"outlinewidth\":0,\"ticks\":\"\"}}}],\"scatter3d\":[{\"type\":\"scatter3d\",\"line\":{\"colorbar\":{\"outlinewidth\":0,\"ticks\":\"\"}},\"marker\":{\"colorbar\":{\"outlinewidth\":0,\"ticks\":\"\"}}}],\"scattermapbox\":[{\"type\":\"scattermapbox\",\"marker\":{\"colorbar\":{\"outlinewidth\":0,\"ticks\":\"\"}}}],\"scatterternary\":[{\"type\":\"scatterternary\",\"marker\":{\"colorbar\":{\"outlinewidth\":0,\"ticks\":\"\"}}}],\"scattercarpet\":[{\"type\":\"scattercarpet\",\"marker\":{\"colorbar\":{\"outlinewidth\":0,\"ticks\":\"\"}}}],\"carpet\":[{\"aaxis\":{\"endlinecolor\":\"#2a3f5f\",\"gridcolor\":\"white\",\"linecolor\":\"white\",\"minorgridcolor\":\"white\",\"startlinecolor\":\"#2a3f5f\"},\"baxis\":{\"endlinecolor\":\"#2a3f5f\",\"gridcolor\":\"white\",\"linecolor\":\"white\",\"minorgridcolor\":\"white\",\"startlinecolor\":\"#2a3f5f\"},\"type\":\"carpet\"}],\"table\":[{\"cells\":{\"fill\":{\"color\":\"#EBF0F8\"},\"line\":{\"color\":\"white\"}},\"header\":{\"fill\":{\"color\":\"#C8D4E3\"},\"line\":{\"color\":\"white\"}},\"type\":\"table\"}],\"barpolar\":[{\"marker\":{\"line\":{\"color\":\"#E5ECF6\",\"width\":0.5},\"pattern\":{\"fillmode\":\"overlay\",\"size\":10,\"solidity\":0.2}},\"type\":\"barpolar\"}],\"pie\":[{\"automargin\":true,\"type\":\"pie\"}]},\"layout\":{\"autotypenumbers\":\"strict\",\"colorway\":[\"#636efa\",\"#EF553B\",\"#00cc96\",\"#ab63fa\",\"#FFA15A\",\"#19d3f3\",\"#FF6692\",\"#B6E880\",\"#FF97FF\",\"#FECB52\"],\"font\":{\"color\":\"#2a3f5f\"},\"hovermode\":\"closest\",\"hoverlabel\":{\"align\":\"left\"},\"paper_bgcolor\":\"white\",\"plot_bgcolor\":\"#E5ECF6\",\"polar\":{\"bgcolor\":\"#E5ECF6\",\"angularaxis\":{\"gridcolor\":\"white\",\"linecolor\":\"white\",\"ticks\":\"\"},\"radialaxis\":{\"gridcolor\":\"white\",\"linecolor\":\"white\",\"ticks\":\"\"}},\"ternary\":{\"bgcolor\":\"#E5ECF6\",\"aaxis\":{\"gridcolor\":\"white\",\"linecolor\":\"white\",\"ticks\":\"\"},\"baxis\":{\"gridcolor\":\"white\",\"linecolor\":\"white\",\"ticks\":\"\"},\"caxis\":{\"gridcolor\":\"white\",\"linecolor\":\"white\",\"ticks\":\"\"}},\"coloraxis\":{\"colorbar\":{\"outlinewidth\":0,\"ticks\":\"\"}},\"colorscale\":{\"sequential\":[[0.0,\"#0d0887\"],[0.1111111111111111,\"#46039f\"],[0.2222222222222222,\"#7201a8\"],[0.3333333333333333,\"#9c179e\"],[0.4444444444444444,\"#bd3786\"],[0.5555555555555556,\"#d8576b\"],[0.6666666666666666,\"#ed7953\"],[0.7777777777777778,\"#fb9f3a\"],[0.8888888888888888,\"#fdca26\"],[1.0,\"#f0f921\"]],\"sequentialminus\":[[0.0,\"#0d0887\"],[0.1111111111111111,\"#46039f\"],[0.2222222222222222,\"#7201a8\"],[0.3333333333333333,\"#9c179e\"],[0.4444444444444444,\"#bd3786\"],[0.5555555555555556,\"#d8576b\"],[0.6666666666666666,\"#ed7953\"],[0.7777777777777778,\"#fb9f3a\"],[0.8888888888888888,\"#fdca26\"],[1.0,\"#f0f921\"]],\"diverging\":[[0,\"#8e0152\"],[0.1,\"#c51b7d\"],[0.2,\"#de77ae\"],[0.3,\"#f1b6da\"],[0.4,\"#fde0ef\"],[0.5,\"#f7f7f7\"],[0.6,\"#e6f5d0\"],[0.7,\"#b8e186\"],[0.8,\"#7fbc41\"],[0.9,\"#4d9221\"],[1,\"#276419\"]]},\"xaxis\":{\"gridcolor\":\"white\",\"linecolor\":\"white\",\"ticks\":\"\",\"title\":{\"standoff\":15},\"zerolinecolor\":\"white\",\"automargin\":true,\"zerolinewidth\":2},\"yaxis\":{\"gridcolor\":\"white\",\"linecolor\":\"white\",\"ticks\":\"\",\"title\":{\"standoff\":15},\"zerolinecolor\":\"white\",\"automargin\":true,\"zerolinewidth\":2},\"scene\":{\"xaxis\":{\"backgroundcolor\":\"#E5ECF6\",\"gridcolor\":\"white\",\"linecolor\":\"white\",\"showbackground\":true,\"ticks\":\"\",\"zerolinecolor\":\"white\",\"gridwidth\":2},\"yaxis\":{\"backgroundcolor\":\"#E5ECF6\",\"gridcolor\":\"white\",\"linecolor\":\"white\",\"showbackground\":true,\"ticks\":\"\",\"zerolinecolor\":\"white\",\"gridwidth\":2},\"zaxis\":{\"backgroundcolor\":\"#E5ECF6\",\"gridcolor\":\"white\",\"linecolor\":\"white\",\"showbackground\":true,\"ticks\":\"\",\"zerolinecolor\":\"white\",\"gridwidth\":2}},\"shapedefaults\":{\"line\":{\"color\":\"#2a3f5f\"}},\"annotationdefaults\":{\"arrowcolor\":\"#2a3f5f\",\"arrowhead\":0,\"arrowwidth\":1},\"geo\":{\"bgcolor\":\"white\",\"landcolor\":\"#E5ECF6\",\"subunitcolor\":\"white\",\"showland\":true,\"showlakes\":true,\"lakecolor\":\"white\"},\"title\":{\"x\":0.05},\"mapbox\":{\"style\":\"light\"}}}},                        {\"responsive\": true}                    ).then(function(){\n",
       "                            \n",
       "var gd = document.getElementById('30e5a505-388e-466c-ae97-f0a35c4e8afa');\n",
       "var x = new MutationObserver(function (mutations, observer) {{\n",
       "        var display = window.getComputedStyle(gd).display;\n",
       "        if (!display || display === 'none') {{\n",
       "            console.log([gd, 'removed!']);\n",
       "            Plotly.purge(gd);\n",
       "            observer.disconnect();\n",
       "        }}\n",
       "}});\n",
       "\n",
       "// Listen for the removal of the full notebook cells\n",
       "var notebookContainer = gd.closest('#notebook-container');\n",
       "if (notebookContainer) {{\n",
       "    x.observe(notebookContainer, {childList: true});\n",
       "}}\n",
       "\n",
       "// Listen for the clearing of the current output cell\n",
       "var outputEl = gd.closest('.output');\n",
       "if (outputEl) {{\n",
       "    x.observe(outputEl, {childList: true});\n",
       "}}\n",
       "\n",
       "                        })                };                });            </script>        </div>"
      ]
     },
     "metadata": {},
     "output_type": "display_data"
    }
   ],
   "source": [
    "# mesh = tr.triangulate(ifa_antenna, 'pq30a0.00001')\n",
    "\n",
    "mesh = tr.triangulate(ifa_antenna, 'pq30a0.01')\n",
    "\n",
    "nbr_of_points = mesh['vertices'].shape[0]\n",
    "nbr_of_triangles = mesh['triangles'].shape[0]\n",
    "print(f\"Nombre de points = {nbr_of_points}\")\n",
    "print(f\"Nombre de triangles = {nbr_of_triangles}\")\n",
    "\n",
    "triangles = np.zeros((4, nbr_of_triangles), dtype=int)\n",
    "triangles[:3, :] = mesh['triangles'].T\n",
    "points = np.zeros((3, nbr_of_points))\n",
    "points[:2, :] = mesh['vertices'].T\n",
    "\n",
    "print(f\"Matrice points shape = {points.shape}\")\n",
    "print(f\"Matrice triangles shape = {triangles.shape}\")\n",
    "\n",
    "# feed_point_IFA = [0.016, 0.046, 0]\n",
    "# feed_point_IFA = [0.004, 0.035, 0]\n",
    "feed_point_IFA = [0.016, 0.035, 0]\n",
    "show_mesh(points, triangles, feed_point_IFA)  # Change \"black\" si besoin\n"
   ]
  },
  {
   "cell_type": "code",
   "execution_count": 54,
   "metadata": {},
   "outputs": [
    {
     "name": "stdout",
     "output_type": "stream",
     "text": [
      "Data saved successfully to data/antennas_mesh/IFA2.mat\n"
     ]
    },
    {
     "data": {
      "text/plain": [
       "'IFA2.mat'"
      ]
     },
     "execution_count": 54,
     "metadata": {},
     "output_type": "execute_result"
    }
   ],
   "source": [
    "data_save(\"IFA2\", \"data/antennas_mesh/\", points, triangles)"
   ]
  }
 ],
 "metadata": {
  "kernelspec": {
   "display_name": "Python 3 (ipykernel)",
   "language": "python",
   "name": "python3"
  },
  "language_info": {
   "codemirror_mode": {
    "name": "ipython",
    "version": 3
   },
   "file_extension": ".py",
   "mimetype": "text/x-python",
   "name": "python",
   "nbconvert_exporter": "python",
   "pygments_lexer": "ipython3",
   "version": "3.13.0"
  }
 },
 "nbformat": 4,
 "nbformat_minor": 2
}
