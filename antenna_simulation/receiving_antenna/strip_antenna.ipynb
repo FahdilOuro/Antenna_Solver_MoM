{
 "cells": [
  {
   "cell_type": "code",
   "execution_count": 22,
   "metadata": {},
   "outputs": [],
   "source": [
    "from mesh.uniform_mesh.create_antenna import strip_gmsh\n",
    "from utils.gmsh_function import *\n",
    "from src.scattering_algorithm.scattering_algorithm import *"
   ]
  },
  {
   "cell_type": "code",
   "execution_count": 23,
   "metadata": {},
   "outputs": [],
   "source": [
    "def traitement_de_(filename):\n",
    "    base_name = os.path.splitext(os.path.basename(filename))[0]\n",
    "    print(f\"Traitement de l'antenne {base_name}\")"
   ]
  },
  {
   "cell_type": "code",
   "execution_count": 24,
   "metadata": {},
   "outputs": [],
   "source": [
    "# Dimensions de la strip\n",
    "Longueur = 0.05  # Longueur en X\n",
    "largeur = 2  # Largeur en Y\n",
    "mesh_size = 0.05\n",
    "mesh_name = \"strip_gmsh.msh\"\n",
    "save_mesh_folder = 'data/gmsh_files/'"
   ]
  },
  {
   "cell_type": "code",
   "execution_count": 25,
   "metadata": {},
   "outputs": [
    {
     "name": "stdout",
     "output_type": "stream",
     "text": [
      "strip_gmsh.msh saved in data/gmsh_files/strip_gmsh.msh successfully\n"
     ]
    }
   ],
   "source": [
    "strip_msh_gmsh = strip_gmsh(Longueur, largeur, mesh_name, save_mesh_folder, mesh_size)\n",
    "open_mesh(strip_msh_gmsh)"
   ]
  },
  {
   "cell_type": "code",
   "execution_count": 26,
   "metadata": {},
   "outputs": [
    {
     "name": "stdout",
     "output_type": "stream",
     "text": [
      "matlab file stored in data/antennas_mesh/strip_gmsh.mat successfully\n"
     ]
    }
   ],
   "source": [
    "strip_mat_gmsh = 'data/antennas_mesh/strip_gmsh.mat'\n",
    "extract_msh_to_msh(strip_msh_gmsh, strip_mat_gmsh)"
   ]
  },
  {
   "cell_type": "code",
   "execution_count": 27,
   "metadata": {},
   "outputs": [],
   "source": [
    "wave_incident_direction = np.array([0, 0, -1])\n",
    "polarization=np.array([0, 1, 0])"
   ]
  },
  {
   "cell_type": "code",
   "execution_count": 28,
   "metadata": {},
   "outputs": [
    {
     "name": "stdout",
     "output_type": "stream",
     "text": [
      "Traitement de l'antenne strip_gmsh\n",
      "\n",
      "\n",
      "length of antenna strip_gmsh = 0.05 meter\n",
      "width of antenna strip_gmsh = 2.0 meter\n",
      "height of antenna strip_gmsh = 0.0 meter\n",
      "\n",
      "Aucune jonction complexe trouvée....\n",
      "\n",
      "Nombre d'elements de maillage (edges) = 99\n",
      "\n",
      "Data saved successfully to data/antennas_mesh1/strip_gmsh_mesh1.mat\n",
      "Data saved successfully to data/antennas_mesh2/strip_gmsh_mesh2.mat\n",
      "Temps écoulé pour le calcul de la matrice Z : 0.034069 secondes\n",
      "Data saved successfully to data/antennas_impedance/strip_gmsh_impedance.mat\n",
      "Data loaded from data/antennas_mesh2/strip_gmsh_mesh2.mat\n",
      "Data loaded from data/antennas_impedance/strip_gmsh_impedance.mat\n",
      "Temps écoulé pour le calcul du courant : 0.000376 secondes\n",
      "Data saved successfully to data/antennas_current/strip_gmsh_current.mat\n",
      "\n",
      "Sauvegarde du fichier : strip_gmsh_current.mat effectué avec succès !\n",
      "\n",
      "Fréquence de l'onde incidente : 75000000.0 Hz\n",
      "Max Current value = 0.28325291108610456 [A/m]\n",
      "\n",
      "strip_gmsh antenna surface current in receiving mode view is successfully created at frequency 75000000.0 Hz\n"
     ]
    },
    {
     "data": {
      "application/vnd.plotly.v1+json": {
       "config": {
        "plotlyServerURL": "https://plot.ly"
       },
       "data": [
        {
         "facecolor": [
          "rgb(36, 237, 168)",
          "rgb(0, 16, 234)",
          "rgb(0, 16, 234)",
          "rgb(36, 237, 168)",
          "rgb(45, 255, 148)",
          "rgb(255, 168, 0)",
          "rgb(255, 153, 0)",
          "rgb(246, 236, 0)",
          "rgb(231, 239, 0)",
          "rgb(255, 0, 0)",
          "rgb(150, 0, 90)",
          "rgb(150, 0, 90)",
          "rgb(255, 84, 0)",
          "rgb(255, 43, 0)",
          "rgb(255, 0, 0)",
          "rgb(255, 8, 0)",
          "rgb(255, 43, 0)",
          "rgb(255, 36, 0)",
          "rgb(255, 84, 0)",
          "rgb(255, 153, 0)",
          "rgb(255, 168, 0)",
          "rgb(246, 236, 0)",
          "rgb(231, 239, 0)",
          "rgb(153, 255, 0)",
          "rgb(45, 255, 148)",
          "rgb(0, 10, 222)",
          "rgb(0, 10, 222)",
          "rgb(153, 255, 0)",
          "rgb(255, 94, 0)",
          "rgb(255, 36, 0)",
          "rgb(136, 255, 21)",
          "rgb(255, 8, 0)",
          "rgb(255, 12, 0)",
          "rgb(0, 137, 255)",
          "rgb(255, 12, 0)",
          "rgb(255, 94, 0)",
          "rgb(136, 255, 21)",
          "rgb(0, 137, 255)",
          "rgb(0, 111, 255)",
          "rgb(0, 111, 255)",
          "rgb(32, 0, 177)",
          "rgb(32, 0, 177)",
          "rgb(32, 0, 177)",
          "rgb(32, 0, 177)",
          "rgb(0, 45, 255)",
          "rgb(16, 189, 217)",
          "rgb(91, 255, 83)",
          "rgb(193, 246, 0)",
          "rgb(255, 205, 0)",
          "rgb(255, 121, 0)",
          "rgb(255, 62, 0)",
          "rgb(255, 23, 0)",
          "rgb(255, 3, 0)",
          "rgb(255, 3, 0)",
          "rgb(255, 23, 0)",
          "rgb(255, 62, 0)",
          "rgb(255, 121, 0)",
          "rgb(255, 205, 0)",
          "rgb(193, 246, 0)",
          "rgb(91, 255, 83)",
          "rgb(16, 189, 217)",
          "rgb(0, 45, 255)",
          "rgb(0, 45, 255)",
          "rgb(16, 189, 217)",
          "rgb(91, 255, 83)",
          "rgb(193, 246, 0)",
          "rgb(255, 205, 0)",
          "rgb(255, 121, 0)",
          "rgb(255, 62, 0)",
          "rgb(255, 23, 0)",
          "rgb(255, 3, 0)",
          "rgb(255, 3, 0)",
          "rgb(255, 23, 0)",
          "rgb(255, 62, 0)",
          "rgb(255, 121, 0)",
          "rgb(255, 205, 0)",
          "rgb(193, 246, 0)",
          "rgb(91, 255, 83)",
          "rgb(16, 189, 217)",
          "rgb(0, 45, 255)"
         ],
         "i": [
          20,
          23,
          4,
          39,
          6,
          36,
          9,
          8,
          37,
          32,
          1,
          3,
          10,
          34,
          13,
          31,
          15,
          30,
          29,
          28,
          17,
          27,
          18,
          26,
          25,
          22,
          41,
          7,
          35,
          11,
          38,
          12,
          33,
          5,
          14,
          16,
          19,
          24,
          40,
          21,
          0,
          4,
          2,
          23,
          5,
          6,
          7,
          8,
          9,
          10,
          11,
          12,
          13,
          14,
          15,
          16,
          17,
          18,
          19,
          20,
          21,
          22,
          24,
          25,
          26,
          27,
          28,
          29,
          30,
          31,
          32,
          33,
          34,
          35,
          36,
          37,
          38,
          39,
          40,
          41
         ],
         "j": [
          52,
          61,
          54,
          44,
          55,
          42,
          58,
          42,
          56,
          57,
          53,
          43,
          45,
          45,
          46,
          46,
          47,
          60,
          47,
          48,
          49,
          49,
          50,
          50,
          51,
          43,
          53,
          56,
          58,
          59,
          55,
          57,
          59,
          44,
          60,
          48,
          51,
          52,
          54,
          61,
          53,
          53,
          43,
          43,
          54,
          44,
          55,
          56,
          42,
          58,
          45,
          59,
          57,
          46,
          60,
          47,
          48,
          49,
          50,
          51,
          52,
          61,
          61,
          52,
          51,
          50,
          49,
          48,
          47,
          60,
          46,
          57,
          59,
          45,
          58,
          42,
          56,
          55,
          44,
          54
         ],
         "k": [
          25,
          22,
          41,
          6,
          39,
          9,
          36,
          37,
          8,
          13,
          0,
          2,
          35,
          11,
          32,
          14,
          30,
          15,
          16,
          17,
          28,
          18,
          27,
          19,
          20,
          23,
          4,
          38,
          10,
          34,
          7,
          33,
          12,
          40,
          31,
          29,
          26,
          21,
          5,
          24,
          41,
          1,
          22,
          3,
          4,
          5,
          6,
          7,
          8,
          9,
          10,
          11,
          12,
          13,
          14,
          15,
          16,
          17,
          18,
          19,
          20,
          21,
          23,
          24,
          25,
          26,
          27,
          28,
          29,
          30,
          31,
          32,
          33,
          34,
          35,
          36,
          37,
          38,
          39,
          40
         ],
         "name": "",
         "type": "mesh3d",
         "x": [
          0,
          0.05,
          0.05,
          0,
          0.05,
          0.05,
          0.05,
          0.05,
          0.05,
          0.05,
          0.05,
          0.05,
          0.05,
          0.05,
          0.05,
          0.05,
          0.05,
          0.05,
          0.05,
          0.05,
          0.05,
          0.05,
          0.05,
          0,
          0,
          0,
          0,
          0,
          0,
          0,
          0,
          0,
          0,
          0,
          0,
          0,
          0,
          0,
          0,
          0,
          0,
          0,
          0.025,
          0.025,
          0.025,
          0.025,
          0.025,
          0.025,
          0.025,
          0.025,
          0.025,
          0.025,
          0.025,
          0.025,
          0.025,
          0.025,
          0.025,
          0.025,
          0.025,
          0.025,
          0.025,
          0.025
         ],
         "y": [
          0,
          0,
          2,
          2,
          0.1,
          0.2,
          0.3,
          0.4,
          0.5,
          0.6,
          0.7,
          0.8,
          0.9,
          1,
          1.1,
          1.2,
          1.3,
          1.4,
          1.5,
          1.6,
          1.7,
          1.8,
          1.9,
          1.9,
          1.8,
          1.7,
          1.6,
          1.5,
          1.4,
          1.3,
          1.2,
          1.1,
          1,
          0.8999999999999999,
          0.8,
          0.7,
          0.6000000000000001,
          0.5,
          0.3999999999999999,
          0.3,
          0.2,
          0.1000000000000001,
          0.55,
          1.95,
          0.25,
          0.75,
          1.05,
          1.25,
          1.35,
          1.45,
          1.55,
          1.65,
          1.75,
          0.05000000000000004,
          0.15,
          0.3500000000000001,
          0.45,
          0.95,
          0.65,
          0.85,
          1.15,
          1.85
         ],
         "z": [
          0,
          0,
          0,
          0,
          0,
          0,
          0,
          0,
          0,
          0,
          0,
          0,
          0,
          0,
          0,
          0,
          0,
          0,
          0,
          0,
          0,
          0,
          0,
          0,
          0,
          0,
          0,
          0,
          0,
          0,
          0,
          0,
          0,
          0,
          0,
          0,
          0,
          0,
          0,
          0,
          0,
          0,
          0,
          0,
          0,
          0,
          0,
          0,
          0,
          0,
          0,
          0,
          0,
          0,
          0,
          0,
          0,
          0,
          0,
          0,
          0,
          0
         ]
        },
        {
         "line": {
          "color": "rgb(50, 50, 50)",
          "width": 1.5
         },
         "mode": "lines",
         "showlegend": false,
         "type": "scatter3d",
         "x": [
          0.05,
          0.025,
          0,
          0.05,
          null,
          0,
          0.025,
          0.05,
          0,
          null,
          0.05,
          0.025,
          0,
          0.05,
          null,
          0,
          0.025,
          0.05,
          0,
          null,
          0.05,
          0.025,
          0,
          0.05,
          null,
          0,
          0.025,
          0.05,
          0,
          null,
          0.05,
          0.025,
          0,
          0.05,
          null,
          0.05,
          0.025,
          0,
          0.05,
          null,
          0,
          0.025,
          0.05,
          0,
          null,
          0,
          0.025,
          0.05,
          0,
          null,
          0.05,
          0.025,
          0,
          0.05,
          null,
          0,
          0.025,
          0.05,
          0,
          null,
          0.05,
          0.025,
          0,
          0.05,
          null,
          0,
          0.025,
          0.05,
          0,
          null,
          0.05,
          0.025,
          0,
          0.05,
          null,
          0,
          0.025,
          0.05,
          0,
          null,
          0.05,
          0.025,
          0,
          0.05,
          null,
          0,
          0.025,
          0.05,
          0,
          null,
          0,
          0.025,
          0.05,
          0,
          null,
          0,
          0.025,
          0.05,
          0,
          null,
          0.05,
          0.025,
          0,
          0.05,
          null,
          0,
          0.025,
          0.05,
          0,
          null,
          0.05,
          0.025,
          0,
          0.05,
          null,
          0,
          0.025,
          0.05,
          0,
          null,
          0,
          0.025,
          0.05,
          0,
          null,
          0.05,
          0.025,
          0,
          0.05,
          null,
          0,
          0.025,
          0.05,
          0,
          null,
          0.05,
          0.025,
          0,
          0.05,
          null,
          0,
          0.025,
          0.05,
          0,
          null,
          0.05,
          0.025,
          0,
          0.05,
          null,
          0,
          0.025,
          0.05,
          0,
          null,
          0.05,
          0.025,
          0,
          0.05,
          null,
          0,
          0.025,
          0.05,
          0,
          null,
          0.05,
          0.025,
          0,
          0.05,
          null,
          0.05,
          0.025,
          0,
          0.05,
          null,
          0.05,
          0.025,
          0,
          0.05,
          null,
          0.05,
          0.025,
          0,
          0.05,
          null,
          0,
          0.025,
          0.05,
          0,
          null,
          0,
          0.025,
          0.05,
          0,
          null,
          0.05,
          0.025,
          0,
          0.05,
          null,
          0,
          0.025,
          0,
          0,
          null,
          0.05,
          0.025,
          0.05,
          0.05,
          null,
          0.05,
          0.025,
          0.05,
          0.05,
          null,
          0,
          0.025,
          0,
          0,
          null,
          0.05,
          0.025,
          0.05,
          0.05,
          null,
          0.05,
          0.025,
          0.05,
          0.05,
          null,
          0.05,
          0.025,
          0.05,
          0.05,
          null,
          0.05,
          0.025,
          0.05,
          0.05,
          null,
          0.05,
          0.025,
          0.05,
          0.05,
          null,
          0.05,
          0.025,
          0.05,
          0.05,
          null,
          0.05,
          0.025,
          0.05,
          0.05,
          null,
          0.05,
          0.025,
          0.05,
          0.05,
          null,
          0.05,
          0.025,
          0.05,
          0.05,
          null,
          0.05,
          0.025,
          0.05,
          0.05,
          null,
          0.05,
          0.025,
          0.05,
          0.05,
          null,
          0.05,
          0.025,
          0.05,
          0.05,
          null,
          0.05,
          0.025,
          0.05,
          0.05,
          null,
          0.05,
          0.025,
          0.05,
          0.05,
          null,
          0.05,
          0.025,
          0.05,
          0.05,
          null,
          0.05,
          0.025,
          0.05,
          0.05,
          null,
          0.05,
          0.025,
          0.05,
          0.05,
          null,
          0.05,
          0.025,
          0.05,
          0.05,
          null,
          0,
          0.025,
          0,
          0,
          null,
          0,
          0.025,
          0,
          0,
          null,
          0,
          0.025,
          0,
          0,
          null,
          0,
          0.025,
          0,
          0,
          null,
          0,
          0.025,
          0,
          0,
          null,
          0,
          0.025,
          0,
          0,
          null,
          0,
          0.025,
          0,
          0,
          null,
          0,
          0.025,
          0,
          0,
          null,
          0,
          0.025,
          0,
          0,
          null,
          0,
          0.025,
          0,
          0,
          null,
          0,
          0.025,
          0,
          0,
          null,
          0,
          0.025,
          0,
          0,
          null,
          0,
          0.025,
          0,
          0,
          null,
          0,
          0.025,
          0,
          0,
          null,
          0,
          0.025,
          0,
          0,
          null,
          0,
          0.025,
          0,
          0,
          null,
          0,
          0.025,
          0,
          0,
          null,
          0,
          0.025,
          0,
          0,
          null
         ],
         "y": [
          1.7,
          1.75,
          1.7,
          1.7,
          null,
          1.9,
          1.85,
          1.9,
          1.9,
          null,
          0.1,
          0.15,
          0.1000000000000001,
          0.1,
          null,
          0.3,
          0.25,
          0.3,
          0.3,
          null,
          0.3,
          0.3500000000000001,
          0.3,
          0.3,
          null,
          0.6000000000000001,
          0.55,
          0.6,
          0.6000000000000001,
          null,
          0.6,
          0.65,
          0.6000000000000001,
          0.6,
          null,
          0.5,
          0.55,
          0.5,
          0.5,
          null,
          0.5,
          0.45,
          0.5,
          0.5,
          null,
          1,
          0.95,
          1,
          1,
          null,
          0,
          0.05000000000000004,
          0,
          0,
          null,
          2,
          1.95,
          2,
          2,
          null,
          0.7,
          0.75,
          0.7,
          0.7,
          null,
          0.8,
          0.75,
          0.8,
          0.8,
          null,
          1,
          1.05,
          1,
          1,
          null,
          1.1,
          1.05,
          1.1,
          1.1,
          null,
          1.2,
          1.25,
          1.2,
          1.2,
          null,
          1.2,
          1.15,
          1.2,
          1.2,
          null,
          1.3,
          1.25,
          1.3,
          1.3,
          null,
          1.4,
          1.35,
          1.4,
          1.4,
          null,
          1.4,
          1.45,
          1.4,
          1.4,
          null,
          1.5,
          1.45,
          1.5,
          1.5,
          null,
          1.5,
          1.55,
          1.5,
          1.5,
          null,
          1.6,
          1.55,
          1.6,
          1.6,
          null,
          1.7,
          1.65,
          1.7,
          1.7,
          null,
          1.9,
          1.95,
          1.9,
          1.9,
          null,
          0.1000000000000001,
          0.05000000000000004,
          0.1,
          0.1000000000000001,
          null,
          0.4,
          0.45,
          0.3999999999999999,
          0.4,
          null,
          0.7,
          0.65,
          0.7,
          0.7,
          null,
          0.8,
          0.85,
          0.8,
          0.8,
          null,
          0.3999999999999999,
          0.3500000000000001,
          0.4,
          0.3999999999999999,
          null,
          0.9,
          0.95,
          0.8999999999999999,
          0.9,
          null,
          0.8999999999999999,
          0.85,
          0.9,
          0.8999999999999999,
          null,
          0.2,
          0.25,
          0.2,
          0.2,
          null,
          1.1,
          1.15,
          1.1,
          1.1,
          null,
          1.3,
          1.35,
          1.3,
          1.3,
          null,
          1.6,
          1.65,
          1.6,
          1.6,
          null,
          1.8,
          1.75,
          1.8,
          1.8,
          null,
          0.2,
          0.15,
          0.2,
          0.2,
          null,
          1.8,
          1.85,
          1.8,
          1.8,
          null,
          0,
          0.05000000000000004,
          0.1000000000000001,
          0,
          null,
          0.1,
          0.05000000000000004,
          0,
          0.1,
          null,
          2,
          1.95,
          1.9,
          2,
          null,
          1.9,
          1.95,
          2,
          1.9,
          null,
          0.2,
          0.15,
          0.1,
          0.2,
          null,
          0.3,
          0.25,
          0.2,
          0.3,
          null,
          0.4,
          0.3500000000000001,
          0.3,
          0.4,
          null,
          0.5,
          0.45,
          0.4,
          0.5,
          null,
          0.6,
          0.55,
          0.5,
          0.6,
          null,
          0.7,
          0.65,
          0.6,
          0.7,
          null,
          0.8,
          0.75,
          0.7,
          0.8,
          null,
          0.9,
          0.85,
          0.8,
          0.9,
          null,
          1,
          0.95,
          0.9,
          1,
          null,
          1.1,
          1.05,
          1,
          1.1,
          null,
          1.2,
          1.15,
          1.1,
          1.2,
          null,
          1.3,
          1.25,
          1.2,
          1.3,
          null,
          1.4,
          1.35,
          1.3,
          1.4,
          null,
          1.5,
          1.45,
          1.4,
          1.5,
          null,
          1.6,
          1.55,
          1.5,
          1.6,
          null,
          1.7,
          1.65,
          1.6,
          1.7,
          null,
          1.8,
          1.75,
          1.7,
          1.8,
          null,
          1.9,
          1.85,
          1.8,
          1.9,
          null,
          1.8,
          1.85,
          1.9,
          1.8,
          null,
          1.7,
          1.75,
          1.8,
          1.7,
          null,
          1.6,
          1.65,
          1.7,
          1.6,
          null,
          1.5,
          1.55,
          1.6,
          1.5,
          null,
          1.4,
          1.45,
          1.5,
          1.4,
          null,
          1.3,
          1.35,
          1.4,
          1.3,
          null,
          1.2,
          1.25,
          1.3,
          1.2,
          null,
          1.1,
          1.15,
          1.2,
          1.1,
          null,
          1,
          1.05,
          1.1,
          1,
          null,
          0.8999999999999999,
          0.95,
          1,
          0.8999999999999999,
          null,
          0.8,
          0.85,
          0.8999999999999999,
          0.8,
          null,
          0.7,
          0.75,
          0.8,
          0.7,
          null,
          0.6000000000000001,
          0.65,
          0.7,
          0.6000000000000001,
          null,
          0.5,
          0.55,
          0.6000000000000001,
          0.5,
          null,
          0.3999999999999999,
          0.45,
          0.5,
          0.3999999999999999,
          null,
          0.3,
          0.3500000000000001,
          0.3999999999999999,
          0.3,
          null,
          0.2,
          0.25,
          0.3,
          0.2,
          null,
          0.1000000000000001,
          0.15,
          0.2,
          0.1000000000000001,
          null
         ],
         "z": [
          0,
          0,
          0,
          0,
          null,
          0,
          0,
          0,
          0,
          null,
          0,
          0,
          0,
          0,
          null,
          0,
          0,
          0,
          0,
          null,
          0,
          0,
          0,
          0,
          null,
          0,
          0,
          0,
          0,
          null,
          0,
          0,
          0,
          0,
          null,
          0,
          0,
          0,
          0,
          null,
          0,
          0,
          0,
          0,
          null,
          0,
          0,
          0,
          0,
          null,
          0,
          0,
          0,
          0,
          null,
          0,
          0,
          0,
          0,
          null,
          0,
          0,
          0,
          0,
          null,
          0,
          0,
          0,
          0,
          null,
          0,
          0,
          0,
          0,
          null,
          0,
          0,
          0,
          0,
          null,
          0,
          0,
          0,
          0,
          null,
          0,
          0,
          0,
          0,
          null,
          0,
          0,
          0,
          0,
          null,
          0,
          0,
          0,
          0,
          null,
          0,
          0,
          0,
          0,
          null,
          0,
          0,
          0,
          0,
          null,
          0,
          0,
          0,
          0,
          null,
          0,
          0,
          0,
          0,
          null,
          0,
          0,
          0,
          0,
          null,
          0,
          0,
          0,
          0,
          null,
          0,
          0,
          0,
          0,
          null,
          0,
          0,
          0,
          0,
          null,
          0,
          0,
          0,
          0,
          null,
          0,
          0,
          0,
          0,
          null,
          0,
          0,
          0,
          0,
          null,
          0,
          0,
          0,
          0,
          null,
          0,
          0,
          0,
          0,
          null,
          0,
          0,
          0,
          0,
          null,
          0,
          0,
          0,
          0,
          null,
          0,
          0,
          0,
          0,
          null,
          0,
          0,
          0,
          0,
          null,
          0,
          0,
          0,
          0,
          null,
          0,
          0,
          0,
          0,
          null,
          0,
          0,
          0,
          0,
          null,
          0,
          0,
          0,
          0,
          null,
          0,
          0,
          0,
          0,
          null,
          0,
          0,
          0,
          0,
          null,
          0,
          0,
          0,
          0,
          null,
          0,
          0,
          0,
          0,
          null,
          0,
          0,
          0,
          0,
          null,
          0,
          0,
          0,
          0,
          null,
          0,
          0,
          0,
          0,
          null,
          0,
          0,
          0,
          0,
          null,
          0,
          0,
          0,
          0,
          null,
          0,
          0,
          0,
          0,
          null,
          0,
          0,
          0,
          0,
          null,
          0,
          0,
          0,
          0,
          null,
          0,
          0,
          0,
          0,
          null,
          0,
          0,
          0,
          0,
          null,
          0,
          0,
          0,
          0,
          null,
          0,
          0,
          0,
          0,
          null,
          0,
          0,
          0,
          0,
          null,
          0,
          0,
          0,
          0,
          null,
          0,
          0,
          0,
          0,
          null,
          0,
          0,
          0,
          0,
          null,
          0,
          0,
          0,
          0,
          null,
          0,
          0,
          0,
          0,
          null,
          0,
          0,
          0,
          0,
          null,
          0,
          0,
          0,
          0,
          null,
          0,
          0,
          0,
          0,
          null,
          0,
          0,
          0,
          0,
          null,
          0,
          0,
          0,
          0,
          null,
          0,
          0,
          0,
          0,
          null,
          0,
          0,
          0,
          0,
          null,
          0,
          0,
          0,
          0,
          null,
          0,
          0,
          0,
          0,
          null,
          0,
          0,
          0,
          0,
          null,
          0,
          0,
          0,
          0,
          null,
          0,
          0,
          0,
          0,
          null,
          0,
          0,
          0,
          0,
          null,
          0,
          0,
          0,
          0,
          null,
          0,
          0,
          0,
          0,
          null,
          0,
          0,
          0,
          0,
          null,
          0,
          0,
          0,
          0,
          null
         ]
        },
        {
         "hoverinfo": "none",
         "marker": {
          "color": [
           0.00707536725359782,
           0.28325291108610456
          ],
          "colorscale": [
           [
            0,
            "rgb(150, 0, 90)"
           ],
           [
            0.125,
            "rgb(0, 0, 200)"
           ],
           [
            0.25,
            "rgb(0, 25, 255)"
           ],
           [
            0.375,
            "rgb(0, 152, 255)"
           ],
           [
            0.5,
            "rgb(44, 255, 150)"
           ],
           [
            0.625,
            "rgb(151, 255, 0)"
           ],
           [
            0.75,
            "rgb(255, 234, 0)"
           ],
           [
            0.875,
            "rgb(255, 111, 0)"
           ],
           [
            1,
            "rgb(255, 0, 0)"
           ]
          ],
          "showscale": true,
          "size": 0.1
         },
         "mode": "markers",
         "showlegend": false,
         "type": "scatter3d",
         "x": [
          0
         ],
         "y": [
          0
         ],
         "z": [
          0
         ]
        }
       ],
       "layout": {
        "height": 800,
        "scene": {
         "aspectratio": {
          "x": 0.025,
          "y": 1,
          "z": 0.3
         },
         "xaxis": {
          "backgroundcolor": "rgb(230, 230, 230)",
          "gridcolor": "rgb(255, 255, 255)",
          "showbackground": true,
          "zerolinecolor": "rgb(255, 255, 255)"
         },
         "yaxis": {
          "backgroundcolor": "rgb(230, 230, 230)",
          "gridcolor": "rgb(255, 255, 255)",
          "showbackground": true,
          "zerolinecolor": "rgb(255, 255, 255)"
         },
         "zaxis": {
          "backgroundcolor": "rgb(230, 230, 230)",
          "gridcolor": "rgb(255, 255, 255)",
          "showbackground": true,
          "zerolinecolor": "rgb(255, 255, 255)"
         }
        },
        "template": {
         "data": {
          "bar": [
           {
            "error_x": {
             "color": "#2a3f5f"
            },
            "error_y": {
             "color": "#2a3f5f"
            },
            "marker": {
             "line": {
              "color": "#E5ECF6",
              "width": 0.5
             },
             "pattern": {
              "fillmode": "overlay",
              "size": 10,
              "solidity": 0.2
             }
            },
            "type": "bar"
           }
          ],
          "barpolar": [
           {
            "marker": {
             "line": {
              "color": "#E5ECF6",
              "width": 0.5
             },
             "pattern": {
              "fillmode": "overlay",
              "size": 10,
              "solidity": 0.2
             }
            },
            "type": "barpolar"
           }
          ],
          "carpet": [
           {
            "aaxis": {
             "endlinecolor": "#2a3f5f",
             "gridcolor": "white",
             "linecolor": "white",
             "minorgridcolor": "white",
             "startlinecolor": "#2a3f5f"
            },
            "baxis": {
             "endlinecolor": "#2a3f5f",
             "gridcolor": "white",
             "linecolor": "white",
             "minorgridcolor": "white",
             "startlinecolor": "#2a3f5f"
            },
            "type": "carpet"
           }
          ],
          "choropleth": [
           {
            "colorbar": {
             "outlinewidth": 0,
             "ticks": ""
            },
            "type": "choropleth"
           }
          ],
          "contour": [
           {
            "colorbar": {
             "outlinewidth": 0,
             "ticks": ""
            },
            "colorscale": [
             [
              0,
              "#0d0887"
             ],
             [
              0.1111111111111111,
              "#46039f"
             ],
             [
              0.2222222222222222,
              "#7201a8"
             ],
             [
              0.3333333333333333,
              "#9c179e"
             ],
             [
              0.4444444444444444,
              "#bd3786"
             ],
             [
              0.5555555555555556,
              "#d8576b"
             ],
             [
              0.6666666666666666,
              "#ed7953"
             ],
             [
              0.7777777777777778,
              "#fb9f3a"
             ],
             [
              0.8888888888888888,
              "#fdca26"
             ],
             [
              1,
              "#f0f921"
             ]
            ],
            "type": "contour"
           }
          ],
          "contourcarpet": [
           {
            "colorbar": {
             "outlinewidth": 0,
             "ticks": ""
            },
            "type": "contourcarpet"
           }
          ],
          "heatmap": [
           {
            "colorbar": {
             "outlinewidth": 0,
             "ticks": ""
            },
            "colorscale": [
             [
              0,
              "#0d0887"
             ],
             [
              0.1111111111111111,
              "#46039f"
             ],
             [
              0.2222222222222222,
              "#7201a8"
             ],
             [
              0.3333333333333333,
              "#9c179e"
             ],
             [
              0.4444444444444444,
              "#bd3786"
             ],
             [
              0.5555555555555556,
              "#d8576b"
             ],
             [
              0.6666666666666666,
              "#ed7953"
             ],
             [
              0.7777777777777778,
              "#fb9f3a"
             ],
             [
              0.8888888888888888,
              "#fdca26"
             ],
             [
              1,
              "#f0f921"
             ]
            ],
            "type": "heatmap"
           }
          ],
          "heatmapgl": [
           {
            "colorbar": {
             "outlinewidth": 0,
             "ticks": ""
            },
            "colorscale": [
             [
              0,
              "#0d0887"
             ],
             [
              0.1111111111111111,
              "#46039f"
             ],
             [
              0.2222222222222222,
              "#7201a8"
             ],
             [
              0.3333333333333333,
              "#9c179e"
             ],
             [
              0.4444444444444444,
              "#bd3786"
             ],
             [
              0.5555555555555556,
              "#d8576b"
             ],
             [
              0.6666666666666666,
              "#ed7953"
             ],
             [
              0.7777777777777778,
              "#fb9f3a"
             ],
             [
              0.8888888888888888,
              "#fdca26"
             ],
             [
              1,
              "#f0f921"
             ]
            ],
            "type": "heatmapgl"
           }
          ],
          "histogram": [
           {
            "marker": {
             "pattern": {
              "fillmode": "overlay",
              "size": 10,
              "solidity": 0.2
             }
            },
            "type": "histogram"
           }
          ],
          "histogram2d": [
           {
            "colorbar": {
             "outlinewidth": 0,
             "ticks": ""
            },
            "colorscale": [
             [
              0,
              "#0d0887"
             ],
             [
              0.1111111111111111,
              "#46039f"
             ],
             [
              0.2222222222222222,
              "#7201a8"
             ],
             [
              0.3333333333333333,
              "#9c179e"
             ],
             [
              0.4444444444444444,
              "#bd3786"
             ],
             [
              0.5555555555555556,
              "#d8576b"
             ],
             [
              0.6666666666666666,
              "#ed7953"
             ],
             [
              0.7777777777777778,
              "#fb9f3a"
             ],
             [
              0.8888888888888888,
              "#fdca26"
             ],
             [
              1,
              "#f0f921"
             ]
            ],
            "type": "histogram2d"
           }
          ],
          "histogram2dcontour": [
           {
            "colorbar": {
             "outlinewidth": 0,
             "ticks": ""
            },
            "colorscale": [
             [
              0,
              "#0d0887"
             ],
             [
              0.1111111111111111,
              "#46039f"
             ],
             [
              0.2222222222222222,
              "#7201a8"
             ],
             [
              0.3333333333333333,
              "#9c179e"
             ],
             [
              0.4444444444444444,
              "#bd3786"
             ],
             [
              0.5555555555555556,
              "#d8576b"
             ],
             [
              0.6666666666666666,
              "#ed7953"
             ],
             [
              0.7777777777777778,
              "#fb9f3a"
             ],
             [
              0.8888888888888888,
              "#fdca26"
             ],
             [
              1,
              "#f0f921"
             ]
            ],
            "type": "histogram2dcontour"
           }
          ],
          "mesh3d": [
           {
            "colorbar": {
             "outlinewidth": 0,
             "ticks": ""
            },
            "type": "mesh3d"
           }
          ],
          "parcoords": [
           {
            "line": {
             "colorbar": {
              "outlinewidth": 0,
              "ticks": ""
             }
            },
            "type": "parcoords"
           }
          ],
          "pie": [
           {
            "automargin": true,
            "type": "pie"
           }
          ],
          "scatter": [
           {
            "fillpattern": {
             "fillmode": "overlay",
             "size": 10,
             "solidity": 0.2
            },
            "type": "scatter"
           }
          ],
          "scatter3d": [
           {
            "line": {
             "colorbar": {
              "outlinewidth": 0,
              "ticks": ""
             }
            },
            "marker": {
             "colorbar": {
              "outlinewidth": 0,
              "ticks": ""
             }
            },
            "type": "scatter3d"
           }
          ],
          "scattercarpet": [
           {
            "marker": {
             "colorbar": {
              "outlinewidth": 0,
              "ticks": ""
             }
            },
            "type": "scattercarpet"
           }
          ],
          "scattergeo": [
           {
            "marker": {
             "colorbar": {
              "outlinewidth": 0,
              "ticks": ""
             }
            },
            "type": "scattergeo"
           }
          ],
          "scattergl": [
           {
            "marker": {
             "colorbar": {
              "outlinewidth": 0,
              "ticks": ""
             }
            },
            "type": "scattergl"
           }
          ],
          "scattermapbox": [
           {
            "marker": {
             "colorbar": {
              "outlinewidth": 0,
              "ticks": ""
             }
            },
            "type": "scattermapbox"
           }
          ],
          "scatterpolar": [
           {
            "marker": {
             "colorbar": {
              "outlinewidth": 0,
              "ticks": ""
             }
            },
            "type": "scatterpolar"
           }
          ],
          "scatterpolargl": [
           {
            "marker": {
             "colorbar": {
              "outlinewidth": 0,
              "ticks": ""
             }
            },
            "type": "scatterpolargl"
           }
          ],
          "scatterternary": [
           {
            "marker": {
             "colorbar": {
              "outlinewidth": 0,
              "ticks": ""
             }
            },
            "type": "scatterternary"
           }
          ],
          "surface": [
           {
            "colorbar": {
             "outlinewidth": 0,
             "ticks": ""
            },
            "colorscale": [
             [
              0,
              "#0d0887"
             ],
             [
              0.1111111111111111,
              "#46039f"
             ],
             [
              0.2222222222222222,
              "#7201a8"
             ],
             [
              0.3333333333333333,
              "#9c179e"
             ],
             [
              0.4444444444444444,
              "#bd3786"
             ],
             [
              0.5555555555555556,
              "#d8576b"
             ],
             [
              0.6666666666666666,
              "#ed7953"
             ],
             [
              0.7777777777777778,
              "#fb9f3a"
             ],
             [
              0.8888888888888888,
              "#fdca26"
             ],
             [
              1,
              "#f0f921"
             ]
            ],
            "type": "surface"
           }
          ],
          "table": [
           {
            "cells": {
             "fill": {
              "color": "#EBF0F8"
             },
             "line": {
              "color": "white"
             }
            },
            "header": {
             "fill": {
              "color": "#C8D4E3"
             },
             "line": {
              "color": "white"
             }
            },
            "type": "table"
           }
          ]
         },
         "layout": {
          "annotationdefaults": {
           "arrowcolor": "#2a3f5f",
           "arrowhead": 0,
           "arrowwidth": 1
          },
          "autotypenumbers": "strict",
          "coloraxis": {
           "colorbar": {
            "outlinewidth": 0,
            "ticks": ""
           }
          },
          "colorscale": {
           "diverging": [
            [
             0,
             "#8e0152"
            ],
            [
             0.1,
             "#c51b7d"
            ],
            [
             0.2,
             "#de77ae"
            ],
            [
             0.3,
             "#f1b6da"
            ],
            [
             0.4,
             "#fde0ef"
            ],
            [
             0.5,
             "#f7f7f7"
            ],
            [
             0.6,
             "#e6f5d0"
            ],
            [
             0.7,
             "#b8e186"
            ],
            [
             0.8,
             "#7fbc41"
            ],
            [
             0.9,
             "#4d9221"
            ],
            [
             1,
             "#276419"
            ]
           ],
           "sequential": [
            [
             0,
             "#0d0887"
            ],
            [
             0.1111111111111111,
             "#46039f"
            ],
            [
             0.2222222222222222,
             "#7201a8"
            ],
            [
             0.3333333333333333,
             "#9c179e"
            ],
            [
             0.4444444444444444,
             "#bd3786"
            ],
            [
             0.5555555555555556,
             "#d8576b"
            ],
            [
             0.6666666666666666,
             "#ed7953"
            ],
            [
             0.7777777777777778,
             "#fb9f3a"
            ],
            [
             0.8888888888888888,
             "#fdca26"
            ],
            [
             1,
             "#f0f921"
            ]
           ],
           "sequentialminus": [
            [
             0,
             "#0d0887"
            ],
            [
             0.1111111111111111,
             "#46039f"
            ],
            [
             0.2222222222222222,
             "#7201a8"
            ],
            [
             0.3333333333333333,
             "#9c179e"
            ],
            [
             0.4444444444444444,
             "#bd3786"
            ],
            [
             0.5555555555555556,
             "#d8576b"
            ],
            [
             0.6666666666666666,
             "#ed7953"
            ],
            [
             0.7777777777777778,
             "#fb9f3a"
            ],
            [
             0.8888888888888888,
             "#fdca26"
            ],
            [
             1,
             "#f0f921"
            ]
           ]
          },
          "colorway": [
           "#636efa",
           "#EF553B",
           "#00cc96",
           "#ab63fa",
           "#FFA15A",
           "#19d3f3",
           "#FF6692",
           "#B6E880",
           "#FF97FF",
           "#FECB52"
          ],
          "font": {
           "color": "#2a3f5f"
          },
          "geo": {
           "bgcolor": "white",
           "lakecolor": "white",
           "landcolor": "#E5ECF6",
           "showlakes": true,
           "showland": true,
           "subunitcolor": "white"
          },
          "hoverlabel": {
           "align": "left"
          },
          "hovermode": "closest",
          "mapbox": {
           "style": "light"
          },
          "paper_bgcolor": "white",
          "plot_bgcolor": "#E5ECF6",
          "polar": {
           "angularaxis": {
            "gridcolor": "white",
            "linecolor": "white",
            "ticks": ""
           },
           "bgcolor": "#E5ECF6",
           "radialaxis": {
            "gridcolor": "white",
            "linecolor": "white",
            "ticks": ""
           }
          },
          "scene": {
           "xaxis": {
            "backgroundcolor": "#E5ECF6",
            "gridcolor": "white",
            "gridwidth": 2,
            "linecolor": "white",
            "showbackground": true,
            "ticks": "",
            "zerolinecolor": "white"
           },
           "yaxis": {
            "backgroundcolor": "#E5ECF6",
            "gridcolor": "white",
            "gridwidth": 2,
            "linecolor": "white",
            "showbackground": true,
            "ticks": "",
            "zerolinecolor": "white"
           },
           "zaxis": {
            "backgroundcolor": "#E5ECF6",
            "gridcolor": "white",
            "gridwidth": 2,
            "linecolor": "white",
            "showbackground": true,
            "ticks": "",
            "zerolinecolor": "white"
           }
          },
          "shapedefaults": {
           "line": {
            "color": "#2a3f5f"
           }
          },
          "ternary": {
           "aaxis": {
            "gridcolor": "white",
            "linecolor": "white",
            "ticks": ""
           },
           "baxis": {
            "gridcolor": "white",
            "linecolor": "white",
            "ticks": ""
           },
           "bgcolor": "#E5ECF6",
           "caxis": {
            "gridcolor": "white",
            "linecolor": "white",
            "ticks": ""
           }
          },
          "title": {
           "x": 0.05
          },
          "xaxis": {
           "automargin": true,
           "gridcolor": "white",
           "linecolor": "white",
           "ticks": "",
           "title": {
            "standoff": 15
           },
           "zerolinecolor": "white",
           "zerolinewidth": 2
          },
          "yaxis": {
           "automargin": true,
           "gridcolor": "white",
           "linecolor": "white",
           "ticks": "",
           "title": {
            "standoff": 15
           },
           "zerolinecolor": "white",
           "zerolinewidth": 2
          }
         }
        },
        "title": {
         "text": "strip_gmsh antenna surface current in receiving mode"
        },
        "width": 800
       }
      },
      "text/html": [
       "<div>                            <div id=\"4f75c111-0745-4c63-af2e-aa3184912e57\" class=\"plotly-graph-div\" style=\"height:800px; width:800px;\"></div>            <script type=\"text/javascript\">                require([\"plotly\"], function(Plotly) {                    window.PLOTLYENV=window.PLOTLYENV || {};                                    if (document.getElementById(\"4f75c111-0745-4c63-af2e-aa3184912e57\")) {                    Plotly.newPlot(                        \"4f75c111-0745-4c63-af2e-aa3184912e57\",                        [{\"facecolor\":[\"rgb(36, 237, 168)\",\"rgb(0, 16, 234)\",\"rgb(0, 16, 234)\",\"rgb(36, 237, 168)\",\"rgb(45, 255, 148)\",\"rgb(255, 168, 0)\",\"rgb(255, 153, 0)\",\"rgb(246, 236, 0)\",\"rgb(231, 239, 0)\",\"rgb(255, 0, 0)\",\"rgb(150, 0, 90)\",\"rgb(150, 0, 90)\",\"rgb(255, 84, 0)\",\"rgb(255, 43, 0)\",\"rgb(255, 0, 0)\",\"rgb(255, 8, 0)\",\"rgb(255, 43, 0)\",\"rgb(255, 36, 0)\",\"rgb(255, 84, 0)\",\"rgb(255, 153, 0)\",\"rgb(255, 168, 0)\",\"rgb(246, 236, 0)\",\"rgb(231, 239, 0)\",\"rgb(153, 255, 0)\",\"rgb(45, 255, 148)\",\"rgb(0, 10, 222)\",\"rgb(0, 10, 222)\",\"rgb(153, 255, 0)\",\"rgb(255, 94, 0)\",\"rgb(255, 36, 0)\",\"rgb(136, 255, 21)\",\"rgb(255, 8, 0)\",\"rgb(255, 12, 0)\",\"rgb(0, 137, 255)\",\"rgb(255, 12, 0)\",\"rgb(255, 94, 0)\",\"rgb(136, 255, 21)\",\"rgb(0, 137, 255)\",\"rgb(0, 111, 255)\",\"rgb(0, 111, 255)\",\"rgb(32, 0, 177)\",\"rgb(32, 0, 177)\",\"rgb(32, 0, 177)\",\"rgb(32, 0, 177)\",\"rgb(0, 45, 255)\",\"rgb(16, 189, 217)\",\"rgb(91, 255, 83)\",\"rgb(193, 246, 0)\",\"rgb(255, 205, 0)\",\"rgb(255, 121, 0)\",\"rgb(255, 62, 0)\",\"rgb(255, 23, 0)\",\"rgb(255, 3, 0)\",\"rgb(255, 3, 0)\",\"rgb(255, 23, 0)\",\"rgb(255, 62, 0)\",\"rgb(255, 121, 0)\",\"rgb(255, 205, 0)\",\"rgb(193, 246, 0)\",\"rgb(91, 255, 83)\",\"rgb(16, 189, 217)\",\"rgb(0, 45, 255)\",\"rgb(0, 45, 255)\",\"rgb(16, 189, 217)\",\"rgb(91, 255, 83)\",\"rgb(193, 246, 0)\",\"rgb(255, 205, 0)\",\"rgb(255, 121, 0)\",\"rgb(255, 62, 0)\",\"rgb(255, 23, 0)\",\"rgb(255, 3, 0)\",\"rgb(255, 3, 0)\",\"rgb(255, 23, 0)\",\"rgb(255, 62, 0)\",\"rgb(255, 121, 0)\",\"rgb(255, 205, 0)\",\"rgb(193, 246, 0)\",\"rgb(91, 255, 83)\",\"rgb(16, 189, 217)\",\"rgb(0, 45, 255)\"],\"i\":[20,23,4,39,6,36,9,8,37,32,1,3,10,34,13,31,15,30,29,28,17,27,18,26,25,22,41,7,35,11,38,12,33,5,14,16,19,24,40,21,0,4,2,23,5,6,7,8,9,10,11,12,13,14,15,16,17,18,19,20,21,22,24,25,26,27,28,29,30,31,32,33,34,35,36,37,38,39,40,41],\"j\":[52,61,54,44,55,42,58,42,56,57,53,43,45,45,46,46,47,60,47,48,49,49,50,50,51,43,53,56,58,59,55,57,59,44,60,48,51,52,54,61,53,53,43,43,54,44,55,56,42,58,45,59,57,46,60,47,48,49,50,51,52,61,61,52,51,50,49,48,47,60,46,57,59,45,58,42,56,55,44,54],\"k\":[25,22,41,6,39,9,36,37,8,13,0,2,35,11,32,14,30,15,16,17,28,18,27,19,20,23,4,38,10,34,7,33,12,40,31,29,26,21,5,24,41,1,22,3,4,5,6,7,8,9,10,11,12,13,14,15,16,17,18,19,20,21,23,24,25,26,27,28,29,30,31,32,33,34,35,36,37,38,39,40],\"name\":\"\",\"x\":[0.0,0.05,0.05,0.0,0.05,0.05,0.05,0.05,0.05,0.05,0.05,0.05,0.05,0.05,0.05,0.05,0.05,0.05,0.05,0.05,0.05,0.05,0.05,0.0,0.0,0.0,0.0,0.0,0.0,0.0,0.0,0.0,0.0,0.0,0.0,0.0,0.0,0.0,0.0,0.0,0.0,0.0,0.025,0.025,0.025,0.025,0.025,0.025,0.025,0.025,0.025,0.025,0.025,0.025,0.025,0.025,0.025,0.025,0.025,0.025,0.025,0.025],\"y\":[0.0,0.0,2.0,2.0,0.1,0.2,0.3,0.4,0.5,0.6,0.7,0.8,0.9,1.0,1.1,1.2,1.3,1.4,1.5,1.6,1.7,1.8,1.9,1.9,1.8,1.7,1.6,1.5,1.4,1.3,1.2,1.1,1.0,0.8999999999999999,0.8,0.7,0.6000000000000001,0.5,0.3999999999999999,0.3,0.2,0.1000000000000001,0.55,1.95,0.25,0.75,1.05,1.25,1.35,1.45,1.55,1.65,1.75,0.05000000000000004,0.15,0.3500000000000001,0.45,0.95,0.65,0.85,1.15,1.85],\"z\":[0.0,0.0,0.0,0.0,0.0,0.0,0.0,0.0,0.0,0.0,0.0,0.0,0.0,0.0,0.0,0.0,0.0,0.0,0.0,0.0,0.0,0.0,0.0,0.0,0.0,0.0,0.0,0.0,0.0,0.0,0.0,0.0,0.0,0.0,0.0,0.0,0.0,0.0,0.0,0.0,0.0,0.0,0.0,0.0,0.0,0.0,0.0,0.0,0.0,0.0,0.0,0.0,0.0,0.0,0.0,0.0,0.0,0.0,0.0,0.0,0.0,0.0],\"type\":\"mesh3d\"},{\"line\":{\"color\":\"rgb(50, 50, 50)\",\"width\":1.5},\"mode\":\"lines\",\"showlegend\":false,\"x\":[0.05,0.025,0.0,0.05,null,0.0,0.025,0.05,0.0,null,0.05,0.025,0.0,0.05,null,0.0,0.025,0.05,0.0,null,0.05,0.025,0.0,0.05,null,0.0,0.025,0.05,0.0,null,0.05,0.025,0.0,0.05,null,0.05,0.025,0.0,0.05,null,0.0,0.025,0.05,0.0,null,0.0,0.025,0.05,0.0,null,0.05,0.025,0.0,0.05,null,0.0,0.025,0.05,0.0,null,0.05,0.025,0.0,0.05,null,0.0,0.025,0.05,0.0,null,0.05,0.025,0.0,0.05,null,0.0,0.025,0.05,0.0,null,0.05,0.025,0.0,0.05,null,0.0,0.025,0.05,0.0,null,0.0,0.025,0.05,0.0,null,0.0,0.025,0.05,0.0,null,0.05,0.025,0.0,0.05,null,0.0,0.025,0.05,0.0,null,0.05,0.025,0.0,0.05,null,0.0,0.025,0.05,0.0,null,0.0,0.025,0.05,0.0,null,0.05,0.025,0.0,0.05,null,0.0,0.025,0.05,0.0,null,0.05,0.025,0.0,0.05,null,0.0,0.025,0.05,0.0,null,0.05,0.025,0.0,0.05,null,0.0,0.025,0.05,0.0,null,0.05,0.025,0.0,0.05,null,0.0,0.025,0.05,0.0,null,0.05,0.025,0.0,0.05,null,0.05,0.025,0.0,0.05,null,0.05,0.025,0.0,0.05,null,0.05,0.025,0.0,0.05,null,0.0,0.025,0.05,0.0,null,0.0,0.025,0.05,0.0,null,0.05,0.025,0.0,0.05,null,0.0,0.025,0.0,0.0,null,0.05,0.025,0.05,0.05,null,0.05,0.025,0.05,0.05,null,0.0,0.025,0.0,0.0,null,0.05,0.025,0.05,0.05,null,0.05,0.025,0.05,0.05,null,0.05,0.025,0.05,0.05,null,0.05,0.025,0.05,0.05,null,0.05,0.025,0.05,0.05,null,0.05,0.025,0.05,0.05,null,0.05,0.025,0.05,0.05,null,0.05,0.025,0.05,0.05,null,0.05,0.025,0.05,0.05,null,0.05,0.025,0.05,0.05,null,0.05,0.025,0.05,0.05,null,0.05,0.025,0.05,0.05,null,0.05,0.025,0.05,0.05,null,0.05,0.025,0.05,0.05,null,0.05,0.025,0.05,0.05,null,0.05,0.025,0.05,0.05,null,0.05,0.025,0.05,0.05,null,0.05,0.025,0.05,0.05,null,0.0,0.025,0.0,0.0,null,0.0,0.025,0.0,0.0,null,0.0,0.025,0.0,0.0,null,0.0,0.025,0.0,0.0,null,0.0,0.025,0.0,0.0,null,0.0,0.025,0.0,0.0,null,0.0,0.025,0.0,0.0,null,0.0,0.025,0.0,0.0,null,0.0,0.025,0.0,0.0,null,0.0,0.025,0.0,0.0,null,0.0,0.025,0.0,0.0,null,0.0,0.025,0.0,0.0,null,0.0,0.025,0.0,0.0,null,0.0,0.025,0.0,0.0,null,0.0,0.025,0.0,0.0,null,0.0,0.025,0.0,0.0,null,0.0,0.025,0.0,0.0,null,0.0,0.025,0.0,0.0,null],\"y\":[1.7,1.75,1.7,1.7,null,1.9,1.85,1.9,1.9,null,0.1,0.15,0.1000000000000001,0.1,null,0.3,0.25,0.3,0.3,null,0.3,0.3500000000000001,0.3,0.3,null,0.6000000000000001,0.55,0.6,0.6000000000000001,null,0.6,0.65,0.6000000000000001,0.6,null,0.5,0.55,0.5,0.5,null,0.5,0.45,0.5,0.5,null,1.0,0.95,1.0,1.0,null,0.0,0.05000000000000004,0.0,0.0,null,2.0,1.95,2.0,2.0,null,0.7,0.75,0.7,0.7,null,0.8,0.75,0.8,0.8,null,1.0,1.05,1.0,1.0,null,1.1,1.05,1.1,1.1,null,1.2,1.25,1.2,1.2,null,1.2,1.15,1.2,1.2,null,1.3,1.25,1.3,1.3,null,1.4,1.35,1.4,1.4,null,1.4,1.45,1.4,1.4,null,1.5,1.45,1.5,1.5,null,1.5,1.55,1.5,1.5,null,1.6,1.55,1.6,1.6,null,1.7,1.65,1.7,1.7,null,1.9,1.95,1.9,1.9,null,0.1000000000000001,0.05000000000000004,0.1,0.1000000000000001,null,0.4,0.45,0.3999999999999999,0.4,null,0.7,0.65,0.7,0.7,null,0.8,0.85,0.8,0.8,null,0.3999999999999999,0.3500000000000001,0.4,0.3999999999999999,null,0.9,0.95,0.8999999999999999,0.9,null,0.8999999999999999,0.85,0.9,0.8999999999999999,null,0.2,0.25,0.2,0.2,null,1.1,1.15,1.1,1.1,null,1.3,1.35,1.3,1.3,null,1.6,1.65,1.6,1.6,null,1.8,1.75,1.8,1.8,null,0.2,0.15,0.2,0.2,null,1.8,1.85,1.8,1.8,null,0.0,0.05000000000000004,0.1000000000000001,0.0,null,0.1,0.05000000000000004,0.0,0.1,null,2.0,1.95,1.9,2.0,null,1.9,1.95,2.0,1.9,null,0.2,0.15,0.1,0.2,null,0.3,0.25,0.2,0.3,null,0.4,0.3500000000000001,0.3,0.4,null,0.5,0.45,0.4,0.5,null,0.6,0.55,0.5,0.6,null,0.7,0.65,0.6,0.7,null,0.8,0.75,0.7,0.8,null,0.9,0.85,0.8,0.9,null,1.0,0.95,0.9,1.0,null,1.1,1.05,1.0,1.1,null,1.2,1.15,1.1,1.2,null,1.3,1.25,1.2,1.3,null,1.4,1.35,1.3,1.4,null,1.5,1.45,1.4,1.5,null,1.6,1.55,1.5,1.6,null,1.7,1.65,1.6,1.7,null,1.8,1.75,1.7,1.8,null,1.9,1.85,1.8,1.9,null,1.8,1.85,1.9,1.8,null,1.7,1.75,1.8,1.7,null,1.6,1.65,1.7,1.6,null,1.5,1.55,1.6,1.5,null,1.4,1.45,1.5,1.4,null,1.3,1.35,1.4,1.3,null,1.2,1.25,1.3,1.2,null,1.1,1.15,1.2,1.1,null,1.0,1.05,1.1,1.0,null,0.8999999999999999,0.95,1.0,0.8999999999999999,null,0.8,0.85,0.8999999999999999,0.8,null,0.7,0.75,0.8,0.7,null,0.6000000000000001,0.65,0.7,0.6000000000000001,null,0.5,0.55,0.6000000000000001,0.5,null,0.3999999999999999,0.45,0.5,0.3999999999999999,null,0.3,0.3500000000000001,0.3999999999999999,0.3,null,0.2,0.25,0.3,0.2,null,0.1000000000000001,0.15,0.2,0.1000000000000001,null],\"z\":[0.0,0.0,0.0,0.0,null,0.0,0.0,0.0,0.0,null,0.0,0.0,0.0,0.0,null,0.0,0.0,0.0,0.0,null,0.0,0.0,0.0,0.0,null,0.0,0.0,0.0,0.0,null,0.0,0.0,0.0,0.0,null,0.0,0.0,0.0,0.0,null,0.0,0.0,0.0,0.0,null,0.0,0.0,0.0,0.0,null,0.0,0.0,0.0,0.0,null,0.0,0.0,0.0,0.0,null,0.0,0.0,0.0,0.0,null,0.0,0.0,0.0,0.0,null,0.0,0.0,0.0,0.0,null,0.0,0.0,0.0,0.0,null,0.0,0.0,0.0,0.0,null,0.0,0.0,0.0,0.0,null,0.0,0.0,0.0,0.0,null,0.0,0.0,0.0,0.0,null,0.0,0.0,0.0,0.0,null,0.0,0.0,0.0,0.0,null,0.0,0.0,0.0,0.0,null,0.0,0.0,0.0,0.0,null,0.0,0.0,0.0,0.0,null,0.0,0.0,0.0,0.0,null,0.0,0.0,0.0,0.0,null,0.0,0.0,0.0,0.0,null,0.0,0.0,0.0,0.0,null,0.0,0.0,0.0,0.0,null,0.0,0.0,0.0,0.0,null,0.0,0.0,0.0,0.0,null,0.0,0.0,0.0,0.0,null,0.0,0.0,0.0,0.0,null,0.0,0.0,0.0,0.0,null,0.0,0.0,0.0,0.0,null,0.0,0.0,0.0,0.0,null,0.0,0.0,0.0,0.0,null,0.0,0.0,0.0,0.0,null,0.0,0.0,0.0,0.0,null,0.0,0.0,0.0,0.0,null,0.0,0.0,0.0,0.0,null,0.0,0.0,0.0,0.0,null,0.0,0.0,0.0,0.0,null,0.0,0.0,0.0,0.0,null,0.0,0.0,0.0,0.0,null,0.0,0.0,0.0,0.0,null,0.0,0.0,0.0,0.0,null,0.0,0.0,0.0,0.0,null,0.0,0.0,0.0,0.0,null,0.0,0.0,0.0,0.0,null,0.0,0.0,0.0,0.0,null,0.0,0.0,0.0,0.0,null,0.0,0.0,0.0,0.0,null,0.0,0.0,0.0,0.0,null,0.0,0.0,0.0,0.0,null,0.0,0.0,0.0,0.0,null,0.0,0.0,0.0,0.0,null,0.0,0.0,0.0,0.0,null,0.0,0.0,0.0,0.0,null,0.0,0.0,0.0,0.0,null,0.0,0.0,0.0,0.0,null,0.0,0.0,0.0,0.0,null,0.0,0.0,0.0,0.0,null,0.0,0.0,0.0,0.0,null,0.0,0.0,0.0,0.0,null,0.0,0.0,0.0,0.0,null,0.0,0.0,0.0,0.0,null,0.0,0.0,0.0,0.0,null,0.0,0.0,0.0,0.0,null,0.0,0.0,0.0,0.0,null,0.0,0.0,0.0,0.0,null,0.0,0.0,0.0,0.0,null,0.0,0.0,0.0,0.0,null,0.0,0.0,0.0,0.0,null,0.0,0.0,0.0,0.0,null,0.0,0.0,0.0,0.0,null,0.0,0.0,0.0,0.0,null,0.0,0.0,0.0,0.0,null,0.0,0.0,0.0,0.0,null],\"type\":\"scatter3d\"},{\"hoverinfo\":\"none\",\"marker\":{\"color\":[0.00707536725359782,0.28325291108610456],\"colorscale\":[[0,\"rgb(150, 0, 90)\"],[0.125,\"rgb(0, 0, 200)\"],[0.25,\"rgb(0, 25, 255)\"],[0.375,\"rgb(0, 152, 255)\"],[0.5,\"rgb(44, 255, 150)\"],[0.625,\"rgb(151, 255, 0)\"],[0.75,\"rgb(255, 234, 0)\"],[0.875,\"rgb(255, 111, 0)\"],[1,\"rgb(255, 0, 0)\"]],\"showscale\":true,\"size\":0.1},\"mode\":\"markers\",\"showlegend\":false,\"x\":[0.0],\"y\":[0.0],\"z\":[0.0],\"type\":\"scatter3d\"}],                        {\"height\":800,\"scene\":{\"aspectratio\":{\"x\":0.025,\"y\":1.0,\"z\":0.3},\"xaxis\":{\"backgroundcolor\":\"rgb(230, 230, 230)\",\"gridcolor\":\"rgb(255, 255, 255)\",\"showbackground\":true,\"zerolinecolor\":\"rgb(255, 255, 255)\"},\"yaxis\":{\"backgroundcolor\":\"rgb(230, 230, 230)\",\"gridcolor\":\"rgb(255, 255, 255)\",\"showbackground\":true,\"zerolinecolor\":\"rgb(255, 255, 255)\"},\"zaxis\":{\"backgroundcolor\":\"rgb(230, 230, 230)\",\"gridcolor\":\"rgb(255, 255, 255)\",\"showbackground\":true,\"zerolinecolor\":\"rgb(255, 255, 255)\"}},\"title\":{\"text\":\"strip_gmsh antenna surface current in receiving mode\"},\"width\":800,\"template\":{\"data\":{\"histogram2dcontour\":[{\"type\":\"histogram2dcontour\",\"colorbar\":{\"outlinewidth\":0,\"ticks\":\"\"},\"colorscale\":[[0.0,\"#0d0887\"],[0.1111111111111111,\"#46039f\"],[0.2222222222222222,\"#7201a8\"],[0.3333333333333333,\"#9c179e\"],[0.4444444444444444,\"#bd3786\"],[0.5555555555555556,\"#d8576b\"],[0.6666666666666666,\"#ed7953\"],[0.7777777777777778,\"#fb9f3a\"],[0.8888888888888888,\"#fdca26\"],[1.0,\"#f0f921\"]]}],\"choropleth\":[{\"type\":\"choropleth\",\"colorbar\":{\"outlinewidth\":0,\"ticks\":\"\"}}],\"histogram2d\":[{\"type\":\"histogram2d\",\"colorbar\":{\"outlinewidth\":0,\"ticks\":\"\"},\"colorscale\":[[0.0,\"#0d0887\"],[0.1111111111111111,\"#46039f\"],[0.2222222222222222,\"#7201a8\"],[0.3333333333333333,\"#9c179e\"],[0.4444444444444444,\"#bd3786\"],[0.5555555555555556,\"#d8576b\"],[0.6666666666666666,\"#ed7953\"],[0.7777777777777778,\"#fb9f3a\"],[0.8888888888888888,\"#fdca26\"],[1.0,\"#f0f921\"]]}],\"heatmap\":[{\"type\":\"heatmap\",\"colorbar\":{\"outlinewidth\":0,\"ticks\":\"\"},\"colorscale\":[[0.0,\"#0d0887\"],[0.1111111111111111,\"#46039f\"],[0.2222222222222222,\"#7201a8\"],[0.3333333333333333,\"#9c179e\"],[0.4444444444444444,\"#bd3786\"],[0.5555555555555556,\"#d8576b\"],[0.6666666666666666,\"#ed7953\"],[0.7777777777777778,\"#fb9f3a\"],[0.8888888888888888,\"#fdca26\"],[1.0,\"#f0f921\"]]}],\"heatmapgl\":[{\"type\":\"heatmapgl\",\"colorbar\":{\"outlinewidth\":0,\"ticks\":\"\"},\"colorscale\":[[0.0,\"#0d0887\"],[0.1111111111111111,\"#46039f\"],[0.2222222222222222,\"#7201a8\"],[0.3333333333333333,\"#9c179e\"],[0.4444444444444444,\"#bd3786\"],[0.5555555555555556,\"#d8576b\"],[0.6666666666666666,\"#ed7953\"],[0.7777777777777778,\"#fb9f3a\"],[0.8888888888888888,\"#fdca26\"],[1.0,\"#f0f921\"]]}],\"contourcarpet\":[{\"type\":\"contourcarpet\",\"colorbar\":{\"outlinewidth\":0,\"ticks\":\"\"}}],\"contour\":[{\"type\":\"contour\",\"colorbar\":{\"outlinewidth\":0,\"ticks\":\"\"},\"colorscale\":[[0.0,\"#0d0887\"],[0.1111111111111111,\"#46039f\"],[0.2222222222222222,\"#7201a8\"],[0.3333333333333333,\"#9c179e\"],[0.4444444444444444,\"#bd3786\"],[0.5555555555555556,\"#d8576b\"],[0.6666666666666666,\"#ed7953\"],[0.7777777777777778,\"#fb9f3a\"],[0.8888888888888888,\"#fdca26\"],[1.0,\"#f0f921\"]]}],\"surface\":[{\"type\":\"surface\",\"colorbar\":{\"outlinewidth\":0,\"ticks\":\"\"},\"colorscale\":[[0.0,\"#0d0887\"],[0.1111111111111111,\"#46039f\"],[0.2222222222222222,\"#7201a8\"],[0.3333333333333333,\"#9c179e\"],[0.4444444444444444,\"#bd3786\"],[0.5555555555555556,\"#d8576b\"],[0.6666666666666666,\"#ed7953\"],[0.7777777777777778,\"#fb9f3a\"],[0.8888888888888888,\"#fdca26\"],[1.0,\"#f0f921\"]]}],\"mesh3d\":[{\"type\":\"mesh3d\",\"colorbar\":{\"outlinewidth\":0,\"ticks\":\"\"}}],\"scatter\":[{\"fillpattern\":{\"fillmode\":\"overlay\",\"size\":10,\"solidity\":0.2},\"type\":\"scatter\"}],\"parcoords\":[{\"type\":\"parcoords\",\"line\":{\"colorbar\":{\"outlinewidth\":0,\"ticks\":\"\"}}}],\"scatterpolargl\":[{\"type\":\"scatterpolargl\",\"marker\":{\"colorbar\":{\"outlinewidth\":0,\"ticks\":\"\"}}}],\"bar\":[{\"error_x\":{\"color\":\"#2a3f5f\"},\"error_y\":{\"color\":\"#2a3f5f\"},\"marker\":{\"line\":{\"color\":\"#E5ECF6\",\"width\":0.5},\"pattern\":{\"fillmode\":\"overlay\",\"size\":10,\"solidity\":0.2}},\"type\":\"bar\"}],\"scattergeo\":[{\"type\":\"scattergeo\",\"marker\":{\"colorbar\":{\"outlinewidth\":0,\"ticks\":\"\"}}}],\"scatterpolar\":[{\"type\":\"scatterpolar\",\"marker\":{\"colorbar\":{\"outlinewidth\":0,\"ticks\":\"\"}}}],\"histogram\":[{\"marker\":{\"pattern\":{\"fillmode\":\"overlay\",\"size\":10,\"solidity\":0.2}},\"type\":\"histogram\"}],\"scattergl\":[{\"type\":\"scattergl\",\"marker\":{\"colorbar\":{\"outlinewidth\":0,\"ticks\":\"\"}}}],\"scatter3d\":[{\"type\":\"scatter3d\",\"line\":{\"colorbar\":{\"outlinewidth\":0,\"ticks\":\"\"}},\"marker\":{\"colorbar\":{\"outlinewidth\":0,\"ticks\":\"\"}}}],\"scattermapbox\":[{\"type\":\"scattermapbox\",\"marker\":{\"colorbar\":{\"outlinewidth\":0,\"ticks\":\"\"}}}],\"scatterternary\":[{\"type\":\"scatterternary\",\"marker\":{\"colorbar\":{\"outlinewidth\":0,\"ticks\":\"\"}}}],\"scattercarpet\":[{\"type\":\"scattercarpet\",\"marker\":{\"colorbar\":{\"outlinewidth\":0,\"ticks\":\"\"}}}],\"carpet\":[{\"aaxis\":{\"endlinecolor\":\"#2a3f5f\",\"gridcolor\":\"white\",\"linecolor\":\"white\",\"minorgridcolor\":\"white\",\"startlinecolor\":\"#2a3f5f\"},\"baxis\":{\"endlinecolor\":\"#2a3f5f\",\"gridcolor\":\"white\",\"linecolor\":\"white\",\"minorgridcolor\":\"white\",\"startlinecolor\":\"#2a3f5f\"},\"type\":\"carpet\"}],\"table\":[{\"cells\":{\"fill\":{\"color\":\"#EBF0F8\"},\"line\":{\"color\":\"white\"}},\"header\":{\"fill\":{\"color\":\"#C8D4E3\"},\"line\":{\"color\":\"white\"}},\"type\":\"table\"}],\"barpolar\":[{\"marker\":{\"line\":{\"color\":\"#E5ECF6\",\"width\":0.5},\"pattern\":{\"fillmode\":\"overlay\",\"size\":10,\"solidity\":0.2}},\"type\":\"barpolar\"}],\"pie\":[{\"automargin\":true,\"type\":\"pie\"}]},\"layout\":{\"autotypenumbers\":\"strict\",\"colorway\":[\"#636efa\",\"#EF553B\",\"#00cc96\",\"#ab63fa\",\"#FFA15A\",\"#19d3f3\",\"#FF6692\",\"#B6E880\",\"#FF97FF\",\"#FECB52\"],\"font\":{\"color\":\"#2a3f5f\"},\"hovermode\":\"closest\",\"hoverlabel\":{\"align\":\"left\"},\"paper_bgcolor\":\"white\",\"plot_bgcolor\":\"#E5ECF6\",\"polar\":{\"bgcolor\":\"#E5ECF6\",\"angularaxis\":{\"gridcolor\":\"white\",\"linecolor\":\"white\",\"ticks\":\"\"},\"radialaxis\":{\"gridcolor\":\"white\",\"linecolor\":\"white\",\"ticks\":\"\"}},\"ternary\":{\"bgcolor\":\"#E5ECF6\",\"aaxis\":{\"gridcolor\":\"white\",\"linecolor\":\"white\",\"ticks\":\"\"},\"baxis\":{\"gridcolor\":\"white\",\"linecolor\":\"white\",\"ticks\":\"\"},\"caxis\":{\"gridcolor\":\"white\",\"linecolor\":\"white\",\"ticks\":\"\"}},\"coloraxis\":{\"colorbar\":{\"outlinewidth\":0,\"ticks\":\"\"}},\"colorscale\":{\"sequential\":[[0.0,\"#0d0887\"],[0.1111111111111111,\"#46039f\"],[0.2222222222222222,\"#7201a8\"],[0.3333333333333333,\"#9c179e\"],[0.4444444444444444,\"#bd3786\"],[0.5555555555555556,\"#d8576b\"],[0.6666666666666666,\"#ed7953\"],[0.7777777777777778,\"#fb9f3a\"],[0.8888888888888888,\"#fdca26\"],[1.0,\"#f0f921\"]],\"sequentialminus\":[[0.0,\"#0d0887\"],[0.1111111111111111,\"#46039f\"],[0.2222222222222222,\"#7201a8\"],[0.3333333333333333,\"#9c179e\"],[0.4444444444444444,\"#bd3786\"],[0.5555555555555556,\"#d8576b\"],[0.6666666666666666,\"#ed7953\"],[0.7777777777777778,\"#fb9f3a\"],[0.8888888888888888,\"#fdca26\"],[1.0,\"#f0f921\"]],\"diverging\":[[0,\"#8e0152\"],[0.1,\"#c51b7d\"],[0.2,\"#de77ae\"],[0.3,\"#f1b6da\"],[0.4,\"#fde0ef\"],[0.5,\"#f7f7f7\"],[0.6,\"#e6f5d0\"],[0.7,\"#b8e186\"],[0.8,\"#7fbc41\"],[0.9,\"#4d9221\"],[1,\"#276419\"]]},\"xaxis\":{\"gridcolor\":\"white\",\"linecolor\":\"white\",\"ticks\":\"\",\"title\":{\"standoff\":15},\"zerolinecolor\":\"white\",\"automargin\":true,\"zerolinewidth\":2},\"yaxis\":{\"gridcolor\":\"white\",\"linecolor\":\"white\",\"ticks\":\"\",\"title\":{\"standoff\":15},\"zerolinecolor\":\"white\",\"automargin\":true,\"zerolinewidth\":2},\"scene\":{\"xaxis\":{\"backgroundcolor\":\"#E5ECF6\",\"gridcolor\":\"white\",\"linecolor\":\"white\",\"showbackground\":true,\"ticks\":\"\",\"zerolinecolor\":\"white\",\"gridwidth\":2},\"yaxis\":{\"backgroundcolor\":\"#E5ECF6\",\"gridcolor\":\"white\",\"linecolor\":\"white\",\"showbackground\":true,\"ticks\":\"\",\"zerolinecolor\":\"white\",\"gridwidth\":2},\"zaxis\":{\"backgroundcolor\":\"#E5ECF6\",\"gridcolor\":\"white\",\"linecolor\":\"white\",\"showbackground\":true,\"ticks\":\"\",\"zerolinecolor\":\"white\",\"gridwidth\":2}},\"shapedefaults\":{\"line\":{\"color\":\"#2a3f5f\"}},\"annotationdefaults\":{\"arrowcolor\":\"#2a3f5f\",\"arrowhead\":0,\"arrowwidth\":1},\"geo\":{\"bgcolor\":\"white\",\"landcolor\":\"#E5ECF6\",\"subunitcolor\":\"white\",\"showland\":true,\"showlakes\":true,\"lakecolor\":\"white\"},\"title\":{\"x\":0.05},\"mapbox\":{\"style\":\"light\"}}}},                        {\"responsive\": true}                    ).then(function(){\n",
       "                            \n",
       "var gd = document.getElementById('4f75c111-0745-4c63-af2e-aa3184912e57');\n",
       "var x = new MutationObserver(function (mutations, observer) {{\n",
       "        var display = window.getComputedStyle(gd).display;\n",
       "        if (!display || display === 'none') {{\n",
       "            console.log([gd, 'removed!']);\n",
       "            Plotly.purge(gd);\n",
       "            observer.disconnect();\n",
       "        }}\n",
       "}});\n",
       "\n",
       "// Listen for the removal of the full notebook cells\n",
       "var notebookContainer = gd.closest('#notebook-container');\n",
       "if (notebookContainer) {{\n",
       "    x.observe(notebookContainer, {childList: true});\n",
       "}}\n",
       "\n",
       "// Listen for the clearing of the current output cell\n",
       "var outputEl = gd.closest('.output');\n",
       "if (outputEl) {{\n",
       "    x.observe(outputEl, {childList: true});\n",
       "}}\n",
       "\n",
       "                        })                };                });            </script>        </div>"
      ]
     },
     "metadata": {},
     "output_type": "display_data"
    },
    {
     "name": "stdout",
     "output_type": "stream",
     "text": [
      "\n",
      "Temps écoulé pour le traitement de l'antenne étudiée : 0.353677 secondes\n",
      "\n",
      "\n"
     ]
    }
   ],
   "source": [
    "traitement_de_(strip_mat_gmsh)\n",
    "print(\"\\n\")\n",
    "\n",
    "start_time = time.time()\n",
    "\n",
    "scattering_algorithm(strip_mat_gmsh, 75e6, wave_incident_direction, polarization, load_from_matlab=True)\n",
    "\n",
    "elapsed_time = time.time() - start_time\n",
    "print(f\"\\nTemps écoulé pour le traitement de l'antenne étudiée : {elapsed_time:.6f} secondes\")\n",
    "print('\\n')"
   ]
  }
 ],
 "metadata": {
  "kernelspec": {
   "display_name": "Python 3 (ipykernel)",
   "language": "python",
   "name": "python3"
  },
  "language_info": {
   "codemirror_mode": {
    "name": "ipython",
    "version": 3
   },
   "file_extension": ".py",
   "mimetype": "text/x-python",
   "name": "python",
   "nbconvert_exporter": "python",
   "pygments_lexer": "ipython3",
   "version": "3.13.0"
  }
 },
 "nbformat": 4,
 "nbformat_minor": 2
}
