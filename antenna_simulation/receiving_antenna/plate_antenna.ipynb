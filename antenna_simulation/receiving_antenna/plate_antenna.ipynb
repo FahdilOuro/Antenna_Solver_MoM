{
 "cells": [
  {
   "cell_type": "code",
   "execution_count": null,
   "metadata": {},
   "outputs": [],
   "source": [
    "from mesh.uniform_mesh.create_plate_antenna import plate_gmsh\n",
    "from utils.gmsh_function import *\n",
    "from src.scattering_algorithm.scattering_algorithm import *"
   ]
  },
  {
   "cell_type": "code",
   "execution_count": null,
   "metadata": {},
   "outputs": [],
   "source": [
    "def traitement_de_(filename):\n",
    "    base_name = os.path.splitext(os.path.basename(filename))[0]\n",
    "    print(f\"Traitement de l'antenne {base_name}\")"
   ]
  },
  {
   "cell_type": "code",
   "execution_count": null,
   "metadata": {},
   "outputs": [],
   "source": [
    "longueur = 4\n",
    "hauteur = 8\n",
    "mesh_size = 0.05\n",
    "mesh_name = \"plate_gmsh.msh\"\n",
    "save_mesh_folder = 'data/gmsh_files/'"
   ]
  },
  {
   "cell_type": "code",
   "execution_count": null,
   "metadata": {},
   "outputs": [],
   "source": [
    "plate_msh_gmsh = plate_gmsh(longueur, hauteur, mesh_name, save_mesh_folder, mesh_size)"
   ]
  },
  {
   "cell_type": "code",
   "execution_count": null,
   "metadata": {},
   "outputs": [],
   "source": [
    "# open_mesh(plate_msh_gmsh)\n",
    "plate_mat_gmsh = 'data/antennas_mesh/plate_gmsh.mat'\n",
    "extract_msh_to_msh(plate_msh_gmsh, plate_mat_gmsh)"
   ]
  },
  {
   "cell_type": "code",
   "execution_count": null,
   "metadata": {},
   "outputs": [],
   "source": [
    "wave_incident_direction = np.array([0, 0, -1])"
   ]
  },
  {
   "cell_type": "code",
   "execution_count": null,
   "metadata": {},
   "outputs": [],
   "source": [
    "start_time = time.time()\n",
    "\n",
    "traitement_de_(plate_mat_gmsh)\n",
    "scattering_algorithm(plate_mat_gmsh, 75e6, wave_incident_direction, polarization=np.array([0, 1, 0]), load_from_matlab=True)\n",
    "\n",
    "elapsed_time = time.time() - start_time\n",
    "print(f\"Temps écoulé pour le traitement de l'antenne étudiée : {elapsed_time:.6f} secondes\")\n",
    "print('\\n')"
   ]
  }
 ],
 "metadata": {
  "kernelspec": {
   "display_name": "Python 3 (ipykernel)",
   "language": "python",
   "name": "python3"
  },
  "language_info": {
   "codemirror_mode": {
    "name": "ipython",
    "version": 3
   },
   "file_extension": ".py",
   "mimetype": "text/x-python",
   "name": "python",
   "nbconvert_exporter": "python",
   "pygments_lexer": "ipython3",
   "version": "3.13.0"
  }
 },
 "nbformat": 4,
 "nbformat_minor": 2
}
