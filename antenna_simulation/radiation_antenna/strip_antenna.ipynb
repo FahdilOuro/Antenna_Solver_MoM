{
 "cells": [
  {
   "cell_type": "code",
   "execution_count": 1,
   "metadata": {},
   "outputs": [],
   "source": [
    "from mesh.adaptative_mesh.create_antenna_for_radiation import strip_gmsh\n",
    "from utils.gmsh_function import *\n",
    "from src.radiation_algorithm.radiation_algorithm import *"
   ]
  },
  {
   "cell_type": "code",
   "execution_count": 2,
   "metadata": {},
   "outputs": [],
   "source": [
    "def traitement_de_(filename):\n",
    "    base_name = os.path.splitext(os.path.basename(filename))[0]\n",
    "    print(f\"Traitement de l'antenne {base_name}\")"
   ]
  },
  {
   "cell_type": "code",
   "execution_count": 3,
   "metadata": {},
   "outputs": [],
   "source": [
    "longueur = 0.02\n",
    "hauteur = 2\n",
    "mesh_name = \"strip_gmsh.msh\"\n",
    "save_mesh_folder = 'data/gmsh_files/'\n",
    "radiate_strip_mat_gmsh = 'data/antennas_mesh/radiate_strip_gmsh.mat'\n",
    "\n",
    "feed_point = [0, 0, 0]\n",
    "length_feed_edge = longueur\n",
    "angle = 0"
   ]
  },
  {
   "cell_type": "markdown",
   "metadata": {},
   "source": [
    "radiate_strip_msh_gmsh = strip_gmsh(longueur, hauteur, mesh_name, feed_point, length_feed_edge, angle, save_mesh_folder)\n",
    "open_mesh(radiate_strip_msh_gmsh)"
   ]
  },
  {
   "cell_type": "code",
   "execution_count": 4,
   "metadata": {},
   "outputs": [
    {
     "name": "stdout",
     "output_type": "stream",
     "text": [
      "Traitement de l'antenne radiate_strip_gmsh\n",
      "Json File saved to the path : data/json/feed_edge_info_strip_gmsh.json\n",
      "Ajout de feed_edge reussie ...!\n",
      "strip_gmsh.msh saved in data/gmsh_files/strip_gmsh.msh successfully\n",
      "Log saved in: data/gmsh_log/mesh_log_strip_gmsh.txt\n",
      "matlab file stored in data/antennas_mesh/radiate_strip_gmsh.mat successfully\n",
      "Aucune jonction complexe trouvée....\n",
      "\n",
      "Nombre d'elements de maillage (edges) = 9\n",
      "\n",
      "\n",
      "Nombre de triangles = 10\n",
      "\n",
      "Data saved successfully to data/antennas_mesh1/radiate_strip_gmsh_mesh1.mat\n",
      "Data saved successfully to data/antennas_mesh2/radiate_strip_gmsh_mesh2.mat\n",
      "Temps écoulé pour le calcul de la matrice Z : 0.003892 secondes\n",
      "Data saved successfully to data/antennas_impedance/radiate_strip_gmsh_impedance.mat\n",
      "Data loaded from data/antennas_mesh2/radiate_strip_gmsh_mesh2.mat\n",
      "Data loaded from data/antennas_impedance/radiate_strip_gmsh_impedance.mat\n",
      "The index edge where the antenna is feed are :  []\n"
     ]
    },
    {
     "ename": "IndexError",
     "evalue": "arrays used as indices must be of integer (or boolean) type",
     "output_type": "error",
     "traceback": [
      "\u001b[1;31m---------------------------------------------------------------------------\u001b[0m",
      "\u001b[1;31mIndexError\u001b[0m                                Traceback (most recent call last)",
      "Cell \u001b[1;32mIn[4], line 13\u001b[0m\n\u001b[0;32m     11\u001b[0m     open_mesh(radiate_strip_msh_gmsh)\n\u001b[0;32m     12\u001b[0m     extract_radiation_msh_to_mat(radiate_strip_msh_gmsh, mesh_name, radiate_strip_mat_gmsh)\n\u001b[1;32m---> 13\u001b[0m     impedance, high_current_points_list \u001b[38;5;241m=\u001b[39m \u001b[43mradiation_algorithm\u001b[49m\u001b[43m(\u001b[49m\u001b[43mradiate_strip_mat_gmsh\u001b[49m\u001b[43m,\u001b[49m\u001b[43m \u001b[49m\u001b[38;5;241;43m75e6\u001b[39;49m\u001b[43m,\u001b[49m\u001b[43m \u001b[49m\u001b[43mfeed_point\u001b[49m\u001b[43m,\u001b[49m\u001b[43m \u001b[49m\u001b[43mvoltage_amplitude\u001b[49m\u001b[43m,\u001b[49m\u001b[43m \u001b[49m\u001b[43mload_from_matlab\u001b[49m\u001b[38;5;241;43m=\u001b[39;49m\u001b[38;5;28;43;01mTrue\u001b[39;49;00m\u001b[43m)\u001b[49m\n\u001b[0;32m     15\u001b[0m elapsed_time \u001b[38;5;241m=\u001b[39m time\u001b[38;5;241m.\u001b[39mtime() \u001b[38;5;241m-\u001b[39m start_time\n\u001b[0;32m     16\u001b[0m \u001b[38;5;28mprint\u001b[39m(\u001b[38;5;124mf\u001b[39m\u001b[38;5;124m\"\u001b[39m\u001b[38;5;130;01m\\n\u001b[39;00m\u001b[38;5;124mTemps écoulé pour le traitement de l\u001b[39m\u001b[38;5;124m'\u001b[39m\u001b[38;5;124mantenne étudiée : \u001b[39m\u001b[38;5;132;01m{\u001b[39;00melapsed_time\u001b[38;5;132;01m:\u001b[39;00m\u001b[38;5;124m.6f\u001b[39m\u001b[38;5;132;01m}\u001b[39;00m\u001b[38;5;124m secondes\u001b[39m\u001b[38;5;124m\"\u001b[39m)\n",
      "File \u001b[1;32mD:\\Doctorat_LEAT\\Projets_Github\\Antenna_Solver_MoM\\src\\radiation_algorithm\\radiation_algorithm.py:77\u001b[0m, in \u001b[0;36mradiation_algorithm\u001b[1;34m(mesh1, frequency, feed_point, voltage_amplitude, load_from_matlab, monopole)\u001b[0m\n\u001b[0;32m     74\u001b[0m filename_impedance \u001b[38;5;241m=\u001b[39m save_folder_name_impedance \u001b[38;5;241m+\u001b[39m save_file_name_impedance\n\u001b[0;32m     76\u001b[0m \u001b[38;5;66;03m# Calcul du courant induit sur l'antenne par l'onde incidente\u001b[39;00m\n\u001b[1;32m---> 77\u001b[0m frequency, omega, mu, epsilon, light_speed_c, eta, voltage, current, gap_current, gap_voltage, impedance, feed_power \u001b[38;5;241m=\u001b[39m \u001b[43mcalculate_current_radiation\u001b[49m\u001b[43m(\u001b[49m\u001b[43mfilename_mesh2_to_load\u001b[49m\u001b[43m,\u001b[49m\u001b[43m \u001b[49m\u001b[43mfilename_impedance\u001b[49m\u001b[43m,\u001b[49m\u001b[43m \u001b[49m\u001b[43mfeed_point\u001b[49m\u001b[43m,\u001b[49m\u001b[43m \u001b[49m\u001b[43mvoltage_amplitude\u001b[49m\u001b[43m,\u001b[49m\u001b[43m \u001b[49m\u001b[43mmonopole\u001b[49m\u001b[43m)\u001b[49m\n\u001b[0;32m     79\u001b[0m \u001b[38;5;28mprint\u001b[39m(\u001b[38;5;124mf\u001b[39m\u001b[38;5;124m\"\u001b[39m\u001b[38;5;130;01m\\n\u001b[39;00m\u001b[38;5;124mLa valeur de l\u001b[39m\u001b[38;5;124m'\u001b[39m\u001b[38;5;124mimpédance d\u001b[39m\u001b[38;5;124m'\u001b[39m\u001b[38;5;124mentrée de l\u001b[39m\u001b[38;5;124m'\u001b[39m\u001b[38;5;124mantenne \u001b[39m\u001b[38;5;132;01m{\u001b[39;00mbase_name\u001b[38;5;132;01m}\u001b[39;00m\u001b[38;5;124m = \u001b[39m\u001b[38;5;132;01m{\u001b[39;00mimpedance\u001b[38;5;241m.\u001b[39mreal\u001b[38;5;250m \u001b[39m\u001b[38;5;132;01m:\u001b[39;00m\u001b[38;5;124m .7f\u001b[39m\u001b[38;5;132;01m}\u001b[39;00m\u001b[38;5;124m \u001b[39m\u001b[38;5;132;01m{\u001b[39;00m\u001b[38;5;124m\"\u001b[39m\u001b[38;5;124m+\u001b[39m\u001b[38;5;124m\"\u001b[39m\u001b[38;5;250m \u001b[39m\u001b[38;5;28;01mif\u001b[39;00m\u001b[38;5;250m \u001b[39mimpedance\u001b[38;5;241m.\u001b[39mimag\u001b[38;5;250m \u001b[39m\u001b[38;5;241m>\u001b[39m\u001b[38;5;241m=\u001b[39m\u001b[38;5;250m \u001b[39m\u001b[38;5;241m0\u001b[39m\u001b[38;5;250m \u001b[39m\u001b[38;5;28;01melse\u001b[39;00m\u001b[38;5;250m \u001b[39m\u001b[38;5;124m\"\u001b[39m\u001b[38;5;124m-\u001b[39m\u001b[38;5;124m\"\u001b[39m\u001b[38;5;132;01m}\u001b[39;00m\u001b[38;5;132;01m{\u001b[39;00m\u001b[38;5;28mabs\u001b[39m(impedance\u001b[38;5;241m.\u001b[39mimag)\u001b[38;5;250m \u001b[39m\u001b[38;5;132;01m:\u001b[39;00m\u001b[38;5;124m .7f\u001b[39m\u001b[38;5;132;01m}\u001b[39;00m\u001b[38;5;124mi Ohm\u001b[39m\u001b[38;5;124m\"\u001b[39m)\n\u001b[0;32m     80\u001b[0m \u001b[38;5;28mprint\u001b[39m(\u001b[38;5;124mf\u001b[39m\u001b[38;5;124m\"\u001b[39m\u001b[38;5;124mGap current of \u001b[39m\u001b[38;5;132;01m{\u001b[39;00mbase_name\u001b[38;5;132;01m}\u001b[39;00m\u001b[38;5;124m = \u001b[39m\u001b[38;5;132;01m{\u001b[39;00mgap_current\u001b[38;5;132;01m}\u001b[39;00m\u001b[38;5;124m\"\u001b[39m)\n",
      "File \u001b[1;32mD:\\Doctorat_LEAT\\Projets_Github\\Antenna_Solver_MoM\\rwg\\rwg4.py:159\u001b[0m, in \u001b[0;36mcalculate_current_radiation\u001b[1;34m(filename_mesh_2, filename_impedance, feed_point, voltage_amplitude, monopole)\u001b[0m\n\u001b[0;32m    156\u001b[0m \u001b[38;5;28mprint\u001b[39m(\u001b[38;5;124m\"\u001b[39m\u001b[38;5;124mThe index edge where the antenna is feed are : \u001b[39m\u001b[38;5;124m\"\u001b[39m, index_feeding_edges)\n\u001b[0;32m    158\u001b[0m \u001b[38;5;66;03m# Définition du vecteur \"voltage\" au niveau de l'arête alimentée\u001b[39;00m\n\u001b[1;32m--> 159\u001b[0m voltage[index_feeding_edges] \u001b[38;5;241m=\u001b[39m voltage_amplitude \u001b[38;5;241m*\u001b[39m \u001b[43medges\u001b[49m\u001b[38;5;241;43m.\u001b[39;49m\u001b[43medges_length\u001b[49m\u001b[43m[\u001b[49m\u001b[43mindex_feeding_edges\u001b[49m\u001b[43m]\u001b[49m\n\u001b[0;32m    161\u001b[0m \u001b[38;5;66;03m# Résolution du système linéaire (Z * I = V) pour obtenir les courants\u001b[39;00m\n\u001b[0;32m    162\u001b[0m current \u001b[38;5;241m=\u001b[39m np\u001b[38;5;241m.\u001b[39mlinalg\u001b[38;5;241m.\u001b[39msolve(matrice_z, voltage)\n",
      "\u001b[1;31mIndexError\u001b[0m: arrays used as indices must be of integer (or boolean) type"
     ]
    }
   ],
   "source": [
    "# Mesure du temps de début\n",
    "start_time = time.time()\n",
    "voltage_amplitude = 1  # Valeur de l'amplitude égale à 1 volt\n",
    "\n",
    "traitement_de_(radiate_strip_mat_gmsh)\n",
    "\n",
    "high_current_points_list = np.array([3, 0])\n",
    "\n",
    "for iteration in range(4):\n",
    "    radiate_strip_msh_gmsh = strip_gmsh(longueur, hauteur, mesh_name, feed_point, length_feed_edge, angle, save_mesh_folder)\n",
    "    open_mesh(radiate_strip_msh_gmsh)\n",
    "    extract_radiation_msh_to_mat(radiate_strip_msh_gmsh, mesh_name, radiate_strip_mat_gmsh)\n",
    "    impedance, high_current_points_list = radiation_algorithm(radiate_strip_mat_gmsh, 75e6, feed_point, voltage_amplitude, load_from_matlab=True)\n",
    "\n",
    "elapsed_time = time.time() - start_time\n",
    "print(f\"\\nTemps écoulé pour le traitement de l'antenne étudiée : {elapsed_time:.6f} secondes\")\n",
    "print('\\n')"
   ]
  }
 ],
 "metadata": {
  "kernelspec": {
   "display_name": "Python 3 (ipykernel)",
   "language": "python",
   "name": "python3"
  },
  "language_info": {
   "codemirror_mode": {
    "name": "ipython",
    "version": 3
   },
   "file_extension": ".py",
   "mimetype": "text/x-python",
   "name": "python",
   "nbconvert_exporter": "python",
   "pygments_lexer": "ipython3",
   "version": "3.13.0"
  }
 },
 "nbformat": 4,
 "nbformat_minor": 2
}
