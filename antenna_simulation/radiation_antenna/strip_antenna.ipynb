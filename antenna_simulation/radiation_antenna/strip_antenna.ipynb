{
 "cells": [
  {
   "cell_type": "code",
   "execution_count": 1,
   "metadata": {},
   "outputs": [],
   "source": [
    "from utils.gmsh_function import *\n",
    "from src.radiation_algorithm.radiation_algorithm import *\n",
    "from utils.frequency_sweep import *"
   ]
  },
  {
   "cell_type": "code",
   "execution_count": 2,
   "metadata": {},
   "outputs": [],
   "source": [
    "mesh_name = \"strip_gmsh.msh\"\n",
    "save_mesh_folder = 'data/gmsh_files/'\n",
    "radiate_strip_mat_gmsh = 'data/antennas_mesh/radiate_strip_gmsh.mat'\n",
    "radiate_strip_msh_gmsh = save_mesh_folder + mesh_name"
   ]
  },
  {
   "cell_type": "code",
   "execution_count": 3,
   "metadata": {},
   "outputs": [
    {
     "name": "stdout",
     "output_type": "stream",
     "text": [
      "Longueur: 0.02 m, Hauteur: 2 m\n"
     ]
    }
   ],
   "source": [
    "\n",
    "gmsh.initialize()\n",
    "model_name  = \"strip_antenna\"\n",
    "longueur = 20 / 1000\n",
    "hauteur = 2\n",
    "print(f\"Longueur: {longueur} m, Hauteur: {hauteur} m\")\n",
    "feed_point = [0, 0, 0]\n",
    "\n",
    "# Création du modèle\n",
    "gmsh.model.add(model_name)\n",
    "strip_antenna = gmsh.model.occ.addRectangle(-longueur / 2, -hauteur / 2, 0, longueur, hauteur)\n",
    "\n",
    "apply_mesh_size(longueur*5)\n",
    "\n",
    "gmsh.model.mesh.generate(2)\n",
    "# run()\n",
    "\n",
    "write(save_mesh_folder, mesh_name)\n",
    "\n",
    "gmsh.finalize()\n",
    "\n",
    "extract_msh_to_mat(radiate_strip_msh_gmsh, radiate_strip_mat_gmsh)"
   ]
  },
  {
   "cell_type": "markdown",
   "metadata": {},
   "source": [
    "radiate_strip_msh_gmsh = create_antenna_surface(create_strip, feed_point, feed_lenght, angle, meshSize, mesh_name, save_mesh_folder, high_current_points_list=np.array([3, 0]), iteration=0)\n",
    "\n",
    "extract_radiation_msh_to_mat(radiate_strip_msh_gmsh, mesh_name, radiate_strip_mat_gmsh)"
   ]
  },
  {
   "cell_type": "markdown",
   "metadata": {},
   "source": [
    "impedance, current_strip = radiation_algorithm(radiate_strip_mat_gmsh, 75e6, feed_point)"
   ]
  },
  {
   "cell_type": "code",
   "execution_count": 4,
   "metadata": {},
   "outputs": [
    {
     "name": "stdout",
     "output_type": "stream",
     "text": [
      "Simulation 1/301 | f = 60.00 MHz | S11 = -2.06 dB\n",
      "Simulation 2/301 | f = 60.10 MHz | S11 = -2.10 dB\n",
      "Simulation 3/301 | f = 60.20 MHz | S11 = -2.14 dB\n",
      "Simulation 4/301 | f = 60.30 MHz | S11 = -2.18 dB\n",
      "Simulation 5/301 | f = 60.40 MHz | S11 = -2.22 dB\n",
      "Simulation 6/301 | f = 60.50 MHz | S11 = -2.27 dB\n",
      "Simulation 7/301 | f = 60.60 MHz | S11 = -2.31 dB\n",
      "Simulation 8/301 | f = 60.70 MHz | S11 = -2.35 dB\n",
      "Simulation 9/301 | f = 60.80 MHz | S11 = -2.40 dB\n",
      "Simulation 10/301 | f = 60.90 MHz | S11 = -2.45 dB\n",
      "Simulation 11/301 | f = 61.00 MHz | S11 = -2.49 dB\n",
      "Simulation 12/301 | f = 61.10 MHz | S11 = -2.54 dB\n",
      "Simulation 13/301 | f = 61.20 MHz | S11 = -2.59 dB\n",
      "Simulation 14/301 | f = 61.30 MHz | S11 = -2.64 dB\n",
      "Simulation 15/301 | f = 61.40 MHz | S11 = -2.70 dB\n",
      "Simulation 16/301 | f = 61.50 MHz | S11 = -2.75 dB\n",
      "Simulation 17/301 | f = 61.60 MHz | S11 = -2.80 dB\n",
      "Simulation 18/301 | f = 61.70 MHz | S11 = -2.86 dB\n",
      "Simulation 19/301 | f = 61.80 MHz | S11 = -2.92 dB\n",
      "Simulation 20/301 | f = 61.90 MHz | S11 = -2.98 dB\n",
      "Simulation 21/301 | f = 62.00 MHz | S11 = -3.04 dB\n",
      "Simulation 22/301 | f = 62.10 MHz | S11 = -3.10 dB\n",
      "Simulation 23/301 | f = 62.20 MHz | S11 = -3.16 dB\n",
      "Simulation 24/301 | f = 62.30 MHz | S11 = -3.22 dB\n",
      "Simulation 25/301 | f = 62.40 MHz | S11 = -3.29 dB\n",
      "Simulation 26/301 | f = 62.50 MHz | S11 = -3.35 dB\n",
      "Simulation 27/301 | f = 62.60 MHz | S11 = -3.42 dB\n",
      "Simulation 28/301 | f = 62.70 MHz | S11 = -3.49 dB\n",
      "Simulation 29/301 | f = 62.80 MHz | S11 = -3.56 dB\n",
      "Simulation 30/301 | f = 62.90 MHz | S11 = -3.64 dB\n",
      "Simulation 31/301 | f = 63.00 MHz | S11 = -3.71 dB\n",
      "Simulation 32/301 | f = 63.10 MHz | S11 = -3.79 dB\n",
      "Simulation 33/301 | f = 63.20 MHz | S11 = -3.86 dB\n",
      "Simulation 34/301 | f = 63.30 MHz | S11 = -3.94 dB\n",
      "Simulation 35/301 | f = 63.40 MHz | S11 = -4.03 dB\n",
      "Simulation 36/301 | f = 63.50 MHz | S11 = -4.11 dB\n",
      "Simulation 37/301 | f = 63.60 MHz | S11 = -4.19 dB\n",
      "Simulation 38/301 | f = 63.70 MHz | S11 = -4.28 dB\n",
      "Simulation 39/301 | f = 63.80 MHz | S11 = -4.37 dB\n",
      "Simulation 40/301 | f = 63.90 MHz | S11 = -4.46 dB\n",
      "Simulation 41/301 | f = 64.00 MHz | S11 = -4.55 dB\n",
      "Simulation 42/301 | f = 64.10 MHz | S11 = -4.65 dB\n",
      "Simulation 43/301 | f = 64.20 MHz | S11 = -4.75 dB\n",
      "Simulation 44/301 | f = 64.30 MHz | S11 = -4.85 dB\n",
      "Simulation 45/301 | f = 64.40 MHz | S11 = -4.95 dB\n",
      "Simulation 46/301 | f = 64.50 MHz | S11 = -5.05 dB\n",
      "Simulation 47/301 | f = 64.60 MHz | S11 = -5.16 dB\n",
      "Simulation 48/301 | f = 64.70 MHz | S11 = -5.27 dB\n",
      "Simulation 49/301 | f = 64.80 MHz | S11 = -5.38 dB\n",
      "Simulation 50/301 | f = 64.90 MHz | S11 = -5.50 dB\n",
      "Simulation 51/301 | f = 65.00 MHz | S11 = -5.61 dB\n",
      "Simulation 52/301 | f = 65.10 MHz | S11 = -5.73 dB\n",
      "Simulation 53/301 | f = 65.20 MHz | S11 = -5.86 dB\n",
      "Simulation 54/301 | f = 65.30 MHz | S11 = -5.98 dB\n",
      "Simulation 55/301 | f = 65.40 MHz | S11 = -6.11 dB\n",
      "Simulation 56/301 | f = 65.50 MHz | S11 = -6.24 dB\n",
      "Simulation 57/301 | f = 65.60 MHz | S11 = -6.37 dB\n",
      "Simulation 58/301 | f = 65.70 MHz | S11 = -6.51 dB\n",
      "Simulation 59/301 | f = 65.80 MHz | S11 = -6.65 dB\n",
      "Simulation 60/301 | f = 65.90 MHz | S11 = -6.79 dB\n",
      "Simulation 61/301 | f = 66.00 MHz | S11 = -6.94 dB\n",
      "Simulation 62/301 | f = 66.10 MHz | S11 = -7.09 dB\n",
      "Simulation 63/301 | f = 66.20 MHz | S11 = -7.24 dB\n",
      "Simulation 64/301 | f = 66.30 MHz | S11 = -7.40 dB\n",
      "Simulation 65/301 | f = 66.40 MHz | S11 = -7.56 dB\n",
      "Simulation 66/301 | f = 66.50 MHz | S11 = -7.72 dB\n",
      "Simulation 67/301 | f = 66.60 MHz | S11 = -7.89 dB\n",
      "Simulation 68/301 | f = 66.70 MHz | S11 = -8.06 dB\n",
      "Simulation 69/301 | f = 66.80 MHz | S11 = -8.24 dB\n",
      "Simulation 70/301 | f = 66.90 MHz | S11 = -8.42 dB\n",
      "Simulation 71/301 | f = 67.00 MHz | S11 = -8.60 dB\n",
      "Simulation 72/301 | f = 67.10 MHz | S11 = -8.79 dB\n",
      "Simulation 73/301 | f = 67.20 MHz | S11 = -8.98 dB\n",
      "Simulation 74/301 | f = 67.30 MHz | S11 = -9.17 dB\n",
      "Simulation 75/301 | f = 67.40 MHz | S11 = -9.37 dB\n",
      "Simulation 76/301 | f = 67.50 MHz | S11 = -9.57 dB\n",
      "Simulation 77/301 | f = 67.60 MHz | S11 = -9.77 dB\n",
      "Simulation 78/301 | f = 67.70 MHz | S11 = -9.98 dB\n",
      "Simulation 79/301 | f = 67.80 MHz | S11 = -10.20 dB\n",
      "Simulation 80/301 | f = 67.90 MHz | S11 = -10.41 dB\n",
      "Simulation 81/301 | f = 68.00 MHz | S11 = -10.63 dB\n",
      "Simulation 82/301 | f = 68.10 MHz | S11 = -10.85 dB\n",
      "Simulation 83/301 | f = 68.20 MHz | S11 = -11.08 dB\n",
      "Simulation 84/301 | f = 68.30 MHz | S11 = -11.31 dB\n",
      "Simulation 85/301 | f = 68.40 MHz | S11 = -11.54 dB\n",
      "Simulation 86/301 | f = 68.50 MHz | S11 = -11.77 dB\n",
      "Simulation 87/301 | f = 68.60 MHz | S11 = -12.00 dB\n",
      "Simulation 88/301 | f = 68.70 MHz | S11 = -12.24 dB\n",
      "Simulation 89/301 | f = 68.80 MHz | S11 = -12.47 dB\n",
      "Simulation 90/301 | f = 68.90 MHz | S11 = -12.70 dB\n",
      "Simulation 91/301 | f = 69.00 MHz | S11 = -12.94 dB\n",
      "Simulation 92/301 | f = 69.10 MHz | S11 = -13.16 dB\n",
      "Simulation 93/301 | f = 69.20 MHz | S11 = -13.39 dB\n",
      "Simulation 94/301 | f = 69.30 MHz | S11 = -13.60 dB\n",
      "Simulation 95/301 | f = 69.40 MHz | S11 = -13.81 dB\n",
      "Simulation 96/301 | f = 69.50 MHz | S11 = -14.01 dB\n",
      "Simulation 97/301 | f = 69.60 MHz | S11 = -14.20 dB\n",
      "Simulation 98/301 | f = 69.70 MHz | S11 = -14.38 dB\n",
      "Simulation 99/301 | f = 69.80 MHz | S11 = -14.55 dB\n",
      "Simulation 100/301 | f = 69.90 MHz | S11 = -14.69 dB\n",
      "Simulation 101/301 | f = 70.00 MHz | S11 = -14.82 dB\n",
      "Simulation 102/301 | f = 70.10 MHz | S11 = -14.93 dB\n",
      "Simulation 103/301 | f = 70.20 MHz | S11 = -15.02 dB\n",
      "Simulation 104/301 | f = 70.30 MHz | S11 = -15.08 dB\n",
      "Simulation 105/301 | f = 70.40 MHz | S11 = -15.13 dB\n",
      "Simulation 106/301 | f = 70.50 MHz | S11 = -15.14 dB\n",
      "Simulation 107/301 | f = 70.60 MHz | S11 = -15.14 dB\n",
      "Simulation 108/301 | f = 70.70 MHz | S11 = -15.11 dB\n",
      "Simulation 109/301 | f = 70.80 MHz | S11 = -15.06 dB\n",
      "Simulation 110/301 | f = 70.90 MHz | S11 = -14.99 dB\n",
      "Simulation 111/301 | f = 71.00 MHz | S11 = -14.90 dB\n",
      "Simulation 112/301 | f = 71.10 MHz | S11 = -14.79 dB\n",
      "Simulation 113/301 | f = 71.20 MHz | S11 = -14.66 dB\n",
      "Simulation 114/301 | f = 71.30 MHz | S11 = -14.52 dB\n",
      "Simulation 115/301 | f = 71.40 MHz | S11 = -14.37 dB\n",
      "Simulation 116/301 | f = 71.50 MHz | S11 = -14.20 dB\n",
      "Simulation 117/301 | f = 71.60 MHz | S11 = -14.03 dB\n",
      "Simulation 118/301 | f = 71.70 MHz | S11 = -13.85 dB\n",
      "Simulation 119/301 | f = 71.80 MHz | S11 = -13.66 dB\n",
      "Simulation 120/301 | f = 71.90 MHz | S11 = -13.47 dB\n",
      "Simulation 121/301 | f = 72.00 MHz | S11 = -13.27 dB\n",
      "Simulation 122/301 | f = 72.10 MHz | S11 = -13.07 dB\n",
      "Simulation 123/301 | f = 72.20 MHz | S11 = -12.87 dB\n",
      "Simulation 124/301 | f = 72.30 MHz | S11 = -12.67 dB\n",
      "Simulation 125/301 | f = 72.40 MHz | S11 = -12.47 dB\n",
      "Simulation 126/301 | f = 72.50 MHz | S11 = -12.27 dB\n",
      "Simulation 127/301 | f = 72.60 MHz | S11 = -12.08 dB\n",
      "Simulation 128/301 | f = 72.70 MHz | S11 = -11.88 dB\n",
      "Simulation 129/301 | f = 72.80 MHz | S11 = -11.69 dB\n",
      "Simulation 130/301 | f = 72.90 MHz | S11 = -11.50 dB\n",
      "Simulation 131/301 | f = 73.00 MHz | S11 = -11.31 dB\n",
      "Simulation 132/301 | f = 73.10 MHz | S11 = -11.12 dB\n",
      "Simulation 133/301 | f = 73.20 MHz | S11 = -10.94 dB\n",
      "Simulation 134/301 | f = 73.30 MHz | S11 = -10.76 dB\n",
      "Simulation 135/301 | f = 73.40 MHz | S11 = -10.59 dB\n",
      "Simulation 136/301 | f = 73.50 MHz | S11 = -10.41 dB\n",
      "Simulation 137/301 | f = 73.60 MHz | S11 = -10.25 dB\n",
      "Simulation 138/301 | f = 73.70 MHz | S11 = -10.08 dB\n",
      "Simulation 139/301 | f = 73.80 MHz | S11 = -9.92 dB\n",
      "Simulation 140/301 | f = 73.90 MHz | S11 = -9.76 dB\n",
      "Simulation 141/301 | f = 74.00 MHz | S11 = -9.60 dB\n",
      "Simulation 142/301 | f = 74.10 MHz | S11 = -9.45 dB\n",
      "Simulation 143/301 | f = 74.20 MHz | S11 = -9.30 dB\n",
      "Simulation 144/301 | f = 74.30 MHz | S11 = -9.16 dB\n",
      "Simulation 145/301 | f = 74.40 MHz | S11 = -9.01 dB\n",
      "Simulation 146/301 | f = 74.50 MHz | S11 = -8.88 dB\n",
      "Simulation 147/301 | f = 74.60 MHz | S11 = -8.74 dB\n",
      "Simulation 148/301 | f = 74.70 MHz | S11 = -8.61 dB\n",
      "Simulation 149/301 | f = 74.80 MHz | S11 = -8.48 dB\n",
      "Simulation 150/301 | f = 74.90 MHz | S11 = -8.35 dB\n"
     ]
    },
    {
     "data": {
      "application/vnd.plotly.v1+json": {
       "config": {
        "plotlyServerURL": "https://plot.ly"
       },
       "data": [
        {
         "facecolor": [
          "rgb(150, 0, 90)",
          "rgb(4, 162, 245)",
          "rgb(255, 199, 0)",
          "rgb(255, 234, 0)",
          "rgb(155, 254, 0)",
          "rgb(155, 254, 0)",
          "rgb(255, 199, 0)",
          "rgb(41, 247, 158)",
          "rgb(255, 68, 0)",
          "rgb(0, 18, 239)",
          "rgb(255, 50, 0)",
          "rgb(150, 0, 90)",
          "rgb(255, 23, 0)",
          "rgb(78, 255, 103)",
          "rgb(255, 13, 0)",
          "rgb(0, 108, 255)",
          "rgb(255, 2, 0)",
          "rgb(4, 161, 245)",
          "rgb(255, 0, 0)",
          "rgb(191, 247, 0)",
          "rgb(255, 137, 0)",
          "rgb(255, 110, 0)",
          "rgb(255, 2, 0)",
          "rgb(255, 68, 0)",
          "rgb(255, 23, 0)",
          "rgb(255, 50, 0)",
          "rgb(0, 5, 212)",
          "rgb(255, 13, 0)",
          "rgb(255, 0, 0)",
          "rgb(255, 9, 0)",
          "rgb(255, 110, 0)",
          "rgb(0, 5, 212)",
          "rgb(255, 137, 0)",
          "rgb(255, 9, 0)",
          "rgb(255, 234, 0)",
          "rgb(0, 18, 239)",
          "rgb(191, 247, 0)",
          "rgb(0, 108, 255)",
          "rgb(78, 255, 103)",
          "rgb(41, 247, 158)"
         ],
         "i": [
          4,
          40,
          27,
          26,
          38,
          25,
          37,
          24,
          36,
          23,
          35,
          3,
          35,
          20,
          34,
          22,
          33,
          21,
          33,
          19,
          18,
          17,
          31,
          16,
          30,
          15,
          2,
          14,
          13,
          32,
          36,
          41,
          37,
          12,
          37,
          41,
          38,
          41,
          39,
          40
         ],
         "j": [
          0,
          5,
          28,
          27,
          6,
          26,
          8,
          25,
          10,
          24,
          10,
          23,
          11,
          25,
          11,
          24,
          11,
          24,
          12,
          26,
          28,
          28,
          14,
          17,
          15,
          16,
          23,
          15,
          14,
          13,
          9,
          0,
          9,
          13,
          7,
          4,
          7,
          5,
          6,
          6
         ],
         "k": [
          1,
          6,
          18,
          18,
          7,
          19,
          9,
          20,
          35,
          22,
          11,
          2,
          34,
          19,
          33,
          21,
          12,
          20,
          32,
          18,
          17,
          29,
          30,
          29,
          29,
          29,
          22,
          30,
          31,
          31,
          10,
          4,
          36,
          32,
          8,
          5,
          37,
          40,
          38,
          39
         ],
         "name": "",
         "type": "mesh3d",
         "x": [
          -0.01,
          0.01,
          0.01,
          -0.01,
          0.01,
          0.01,
          0.01,
          0.01,
          0.01,
          0.01,
          0.01,
          0.01,
          0.01,
          0.01,
          0.01,
          0.01,
          0.01,
          0.01,
          0.01,
          0.01,
          0.01,
          0.01,
          0.01,
          -0.01,
          -0.01,
          -0.01,
          -0.01,
          -0.01,
          -0.01,
          -0.01,
          -0.01,
          -0.01,
          -0.01,
          -0.01,
          -0.01,
          -0.01,
          -0.01,
          -0.01,
          -0.01,
          -0.01,
          -0.01,
          -0.01
         ],
         "y": [
          -1,
          -1,
          1,
          1,
          -0.9,
          -0.8,
          -0.7,
          -0.6,
          -0.5,
          -0.4,
          -0.3,
          -0.2,
          -0.09999999999999998,
          0,
          0.1000000000000001,
          0.2,
          0.3,
          0.3999999999999999,
          0.5,
          0.6000000000000001,
          0.7,
          0.8,
          0.8999999999999999,
          0.9,
          0.8,
          0.7,
          0.6,
          0.5,
          0.4,
          0.3,
          0.2,
          0.09999999999999998,
          0,
          -0.1000000000000001,
          -0.2,
          -0.3,
          -0.3999999999999999,
          -0.5,
          -0.6000000000000001,
          -0.7,
          -0.8,
          -0.8999999999999999
         ],
         "z": [
          0,
          0,
          0,
          0,
          0,
          0,
          0,
          0,
          0,
          0,
          0,
          0,
          0,
          0,
          0,
          0,
          0,
          0,
          0,
          0,
          0,
          0,
          0,
          0,
          0,
          0,
          0,
          0,
          0,
          0,
          0,
          0,
          0,
          0,
          0,
          0,
          0,
          0,
          0,
          0,
          0,
          0
         ]
        },
        {
         "line": {
          "color": "rgb(50, 50, 50)",
          "width": 1.5
         },
         "mode": "lines",
         "showlegend": false,
         "type": "scatter3d",
         "x": [
          0.01,
          -0.01,
          0.01,
          0.01,
          null,
          -0.01,
          0.01,
          0.01,
          -0.01,
          null,
          -0.01,
          -0.01,
          0.01,
          -0.01,
          null,
          -0.01,
          -0.01,
          0.01,
          -0.01,
          null,
          -0.01,
          0.01,
          0.01,
          -0.01,
          null,
          -0.01,
          -0.01,
          0.01,
          -0.01,
          null,
          -0.01,
          0.01,
          0.01,
          -0.01,
          null,
          -0.01,
          -0.01,
          0.01,
          -0.01,
          null,
          -0.01,
          0.01,
          -0.01,
          -0.01,
          null,
          -0.01,
          -0.01,
          0.01,
          -0.01,
          null,
          -0.01,
          0.01,
          0.01,
          -0.01,
          null,
          -0.01,
          -0.01,
          0.01,
          -0.01,
          null,
          -0.01,
          0.01,
          -0.01,
          -0.01,
          null,
          0.01,
          -0.01,
          0.01,
          0.01,
          null,
          -0.01,
          0.01,
          -0.01,
          -0.01,
          null,
          0.01,
          -0.01,
          0.01,
          0.01,
          null,
          -0.01,
          0.01,
          0.01,
          -0.01,
          null,
          0.01,
          -0.01,
          0.01,
          0.01,
          null,
          -0.01,
          0.01,
          -0.01,
          -0.01,
          null,
          0.01,
          -0.01,
          0.01,
          0.01,
          null,
          0.01,
          -0.01,
          0.01,
          0.01,
          null,
          0.01,
          -0.01,
          -0.01,
          0.01,
          null,
          -0.01,
          0.01,
          -0.01,
          -0.01,
          null,
          0.01,
          0.01,
          -0.01,
          0.01,
          null,
          -0.01,
          0.01,
          -0.01,
          -0.01,
          null,
          0.01,
          0.01,
          -0.01,
          0.01,
          null,
          0.01,
          -0.01,
          0.01,
          0.01,
          null,
          0.01,
          0.01,
          -0.01,
          0.01,
          null,
          0.01,
          0.01,
          -0.01,
          0.01,
          null,
          -0.01,
          0.01,
          -0.01,
          -0.01,
          null,
          -0.01,
          0.01,
          0.01,
          -0.01,
          null,
          -0.01,
          -0.01,
          0.01,
          -0.01,
          null,
          -0.01,
          0.01,
          -0.01,
          -0.01,
          null,
          0.01,
          0.01,
          -0.01,
          0.01,
          null,
          -0.01,
          0.01,
          0.01,
          -0.01,
          null,
          -0.01,
          0.01,
          0.01,
          -0.01,
          null,
          -0.01,
          0.01,
          -0.01,
          -0.01,
          null,
          -0.01,
          0.01,
          -0.01,
          -0.01,
          null,
          -0.01,
          0.01,
          -0.01,
          -0.01,
          null,
          -0.01,
          0.01,
          -0.01,
          -0.01,
          null
         ],
         "y": [
          -0.9,
          -1,
          -1,
          -0.9,
          null,
          -0.8,
          -0.8,
          -0.7,
          -0.8,
          null,
          0.5,
          0.4,
          0.5,
          0.5,
          null,
          0.6,
          0.5,
          0.5,
          0.6,
          null,
          -0.6000000000000001,
          -0.7,
          -0.6,
          -0.6000000000000001,
          null,
          0.7,
          0.6,
          0.6000000000000001,
          0.7,
          null,
          -0.5,
          -0.5,
          -0.4,
          -0.5,
          null,
          0.8,
          0.7,
          0.7,
          0.8,
          null,
          -0.3999999999999999,
          -0.3,
          -0.3,
          -0.3999999999999999,
          null,
          0.9,
          0.8,
          0.8999999999999999,
          0.9,
          null,
          -0.3,
          -0.3,
          -0.2,
          -0.3,
          null,
          1,
          0.9,
          1,
          1,
          null,
          -0.3,
          -0.2,
          -0.2,
          -0.3,
          null,
          0.7,
          0.7,
          0.6000000000000001,
          0.7,
          null,
          -0.2,
          -0.2,
          -0.1000000000000001,
          -0.2,
          null,
          0.8999999999999999,
          0.8,
          0.8,
          0.8999999999999999,
          null,
          -0.1000000000000001,
          -0.2,
          -0.09999999999999998,
          -0.1000000000000001,
          null,
          0.8,
          0.8,
          0.7,
          0.8,
          null,
          -0.1000000000000001,
          -0.09999999999999998,
          0,
          -0.1000000000000001,
          null,
          0.6000000000000001,
          0.6,
          0.5,
          0.6000000000000001,
          null,
          0.5,
          0.4,
          0.3999999999999999,
          0.5,
          null,
          0.3999999999999999,
          0.4,
          0.3,
          0.3999999999999999,
          null,
          0.09999999999999998,
          0.1000000000000001,
          0.2,
          0.09999999999999998,
          null,
          0.3,
          0.3999999999999999,
          0.3,
          0.3,
          null,
          0.2,
          0.2,
          0.3,
          0.2,
          null,
          0.2,
          0.3,
          0.3,
          0.2,
          null,
          1,
          0.9,
          0.8999999999999999,
          1,
          null,
          0.1000000000000001,
          0.2,
          0.2,
          0.1000000000000001,
          null,
          0,
          0.1000000000000001,
          0.09999999999999998,
          0,
          null,
          0,
          0,
          0.09999999999999998,
          0,
          null,
          -0.3999999999999999,
          -0.4,
          -0.3,
          -0.3999999999999999,
          null,
          -0.8999999999999999,
          -1,
          -0.9,
          -0.8999999999999999,
          null,
          -0.5,
          -0.4,
          -0.3999999999999999,
          -0.5,
          null,
          -0.09999999999999998,
          0,
          0,
          -0.09999999999999998,
          null,
          -0.5,
          -0.6,
          -0.5,
          -0.5,
          null,
          -0.8999999999999999,
          -0.9,
          -0.8,
          -0.8999999999999999,
          null,
          -0.6000000000000001,
          -0.6,
          -0.5,
          -0.6000000000000001,
          null,
          -0.8999999999999999,
          -0.8,
          -0.8,
          -0.8999999999999999,
          null,
          -0.7,
          -0.7,
          -0.6000000000000001,
          -0.7,
          null,
          -0.8,
          -0.7,
          -0.7,
          -0.8,
          null
         ],
         "z": [
          0,
          0,
          0,
          0,
          null,
          0,
          0,
          0,
          0,
          null,
          0,
          0,
          0,
          0,
          null,
          0,
          0,
          0,
          0,
          null,
          0,
          0,
          0,
          0,
          null,
          0,
          0,
          0,
          0,
          null,
          0,
          0,
          0,
          0,
          null,
          0,
          0,
          0,
          0,
          null,
          0,
          0,
          0,
          0,
          null,
          0,
          0,
          0,
          0,
          null,
          0,
          0,
          0,
          0,
          null,
          0,
          0,
          0,
          0,
          null,
          0,
          0,
          0,
          0,
          null,
          0,
          0,
          0,
          0,
          null,
          0,
          0,
          0,
          0,
          null,
          0,
          0,
          0,
          0,
          null,
          0,
          0,
          0,
          0,
          null,
          0,
          0,
          0,
          0,
          null,
          0,
          0,
          0,
          0,
          null,
          0,
          0,
          0,
          0,
          null,
          0,
          0,
          0,
          0,
          null,
          0,
          0,
          0,
          0,
          null,
          0,
          0,
          0,
          0,
          null,
          0,
          0,
          0,
          0,
          null,
          0,
          0,
          0,
          0,
          null,
          0,
          0,
          0,
          0,
          null,
          0,
          0,
          0,
          0,
          null,
          0,
          0,
          0,
          0,
          null,
          0,
          0,
          0,
          0,
          null,
          0,
          0,
          0,
          0,
          null,
          0,
          0,
          0,
          0,
          null,
          0,
          0,
          0,
          0,
          null,
          0,
          0,
          0,
          0,
          null,
          0,
          0,
          0,
          0,
          null,
          0,
          0,
          0,
          0,
          null,
          0,
          0,
          0,
          0,
          null,
          0,
          0,
          0,
          0,
          null,
          0,
          0,
          0,
          0,
          null,
          0,
          0,
          0,
          0,
          null,
          0,
          0,
          0,
          0,
          null
         ]
        },
        {
         "hoverinfo": "none",
         "marker": {
          "color": [
           0.011769061893443475,
           0.2624214725282062
          ],
          "colorscale": [
           [
            0,
            "rgb(150, 0, 90)"
           ],
           [
            0.125,
            "rgb(0, 0, 200)"
           ],
           [
            0.25,
            "rgb(0, 25, 255)"
           ],
           [
            0.375,
            "rgb(0, 152, 255)"
           ],
           [
            0.5,
            "rgb(44, 255, 150)"
           ],
           [
            0.625,
            "rgb(151, 255, 0)"
           ],
           [
            0.75,
            "rgb(255, 234, 0)"
           ],
           [
            0.875,
            "rgb(255, 111, 0)"
           ],
           [
            1,
            "rgb(255, 0, 0)"
           ]
          ],
          "showscale": true,
          "size": 0.1
         },
         "mode": "markers",
         "showlegend": false,
         "type": "scatter3d",
         "x": [
          -0.01
         ],
         "y": [
          -1
         ],
         "z": [
          0
         ]
        },
        {
         "marker": {
          "color": "red",
          "size": 6,
          "symbol": "circle"
         },
         "mode": "markers+text",
         "name": "Feed Point",
         "text": [
          "Feed Point"
         ],
         "textposition": "top center",
         "type": "scatter3d",
         "x": [
          0
         ],
         "y": [
          0
         ],
         "z": [
          0
         ]
        }
       ],
       "layout": {
        "height": 800,
        "scene": {
         "aspectratio": {
          "x": 0.01,
          "y": 1,
          "z": 0.3
         },
         "xaxis": {
          "backgroundcolor": "rgb(230, 230, 230)",
          "gridcolor": "rgb(255, 255, 255)",
          "showbackground": true,
          "zerolinecolor": "rgb(255, 255, 255)"
         },
         "yaxis": {
          "backgroundcolor": "rgb(230, 230, 230)",
          "gridcolor": "rgb(255, 255, 255)",
          "showbackground": true,
          "zerolinecolor": "rgb(255, 255, 255)"
         },
         "zaxis": {
          "backgroundcolor": "rgb(230, 230, 230)",
          "gridcolor": "rgb(255, 255, 255)",
          "showbackground": true,
          "zerolinecolor": "rgb(255, 255, 255)"
         }
        },
        "template": {
         "data": {
          "bar": [
           {
            "error_x": {
             "color": "#2a3f5f"
            },
            "error_y": {
             "color": "#2a3f5f"
            },
            "marker": {
             "line": {
              "color": "#E5ECF6",
              "width": 0.5
             },
             "pattern": {
              "fillmode": "overlay",
              "size": 10,
              "solidity": 0.2
             }
            },
            "type": "bar"
           }
          ],
          "barpolar": [
           {
            "marker": {
             "line": {
              "color": "#E5ECF6",
              "width": 0.5
             },
             "pattern": {
              "fillmode": "overlay",
              "size": 10,
              "solidity": 0.2
             }
            },
            "type": "barpolar"
           }
          ],
          "carpet": [
           {
            "aaxis": {
             "endlinecolor": "#2a3f5f",
             "gridcolor": "white",
             "linecolor": "white",
             "minorgridcolor": "white",
             "startlinecolor": "#2a3f5f"
            },
            "baxis": {
             "endlinecolor": "#2a3f5f",
             "gridcolor": "white",
             "linecolor": "white",
             "minorgridcolor": "white",
             "startlinecolor": "#2a3f5f"
            },
            "type": "carpet"
           }
          ],
          "choropleth": [
           {
            "colorbar": {
             "outlinewidth": 0,
             "ticks": ""
            },
            "type": "choropleth"
           }
          ],
          "contour": [
           {
            "colorbar": {
             "outlinewidth": 0,
             "ticks": ""
            },
            "colorscale": [
             [
              0,
              "#0d0887"
             ],
             [
              0.1111111111111111,
              "#46039f"
             ],
             [
              0.2222222222222222,
              "#7201a8"
             ],
             [
              0.3333333333333333,
              "#9c179e"
             ],
             [
              0.4444444444444444,
              "#bd3786"
             ],
             [
              0.5555555555555556,
              "#d8576b"
             ],
             [
              0.6666666666666666,
              "#ed7953"
             ],
             [
              0.7777777777777778,
              "#fb9f3a"
             ],
             [
              0.8888888888888888,
              "#fdca26"
             ],
             [
              1,
              "#f0f921"
             ]
            ],
            "type": "contour"
           }
          ],
          "contourcarpet": [
           {
            "colorbar": {
             "outlinewidth": 0,
             "ticks": ""
            },
            "type": "contourcarpet"
           }
          ],
          "heatmap": [
           {
            "colorbar": {
             "outlinewidth": 0,
             "ticks": ""
            },
            "colorscale": [
             [
              0,
              "#0d0887"
             ],
             [
              0.1111111111111111,
              "#46039f"
             ],
             [
              0.2222222222222222,
              "#7201a8"
             ],
             [
              0.3333333333333333,
              "#9c179e"
             ],
             [
              0.4444444444444444,
              "#bd3786"
             ],
             [
              0.5555555555555556,
              "#d8576b"
             ],
             [
              0.6666666666666666,
              "#ed7953"
             ],
             [
              0.7777777777777778,
              "#fb9f3a"
             ],
             [
              0.8888888888888888,
              "#fdca26"
             ],
             [
              1,
              "#f0f921"
             ]
            ],
            "type": "heatmap"
           }
          ],
          "heatmapgl": [
           {
            "colorbar": {
             "outlinewidth": 0,
             "ticks": ""
            },
            "colorscale": [
             [
              0,
              "#0d0887"
             ],
             [
              0.1111111111111111,
              "#46039f"
             ],
             [
              0.2222222222222222,
              "#7201a8"
             ],
             [
              0.3333333333333333,
              "#9c179e"
             ],
             [
              0.4444444444444444,
              "#bd3786"
             ],
             [
              0.5555555555555556,
              "#d8576b"
             ],
             [
              0.6666666666666666,
              "#ed7953"
             ],
             [
              0.7777777777777778,
              "#fb9f3a"
             ],
             [
              0.8888888888888888,
              "#fdca26"
             ],
             [
              1,
              "#f0f921"
             ]
            ],
            "type": "heatmapgl"
           }
          ],
          "histogram": [
           {
            "marker": {
             "pattern": {
              "fillmode": "overlay",
              "size": 10,
              "solidity": 0.2
             }
            },
            "type": "histogram"
           }
          ],
          "histogram2d": [
           {
            "colorbar": {
             "outlinewidth": 0,
             "ticks": ""
            },
            "colorscale": [
             [
              0,
              "#0d0887"
             ],
             [
              0.1111111111111111,
              "#46039f"
             ],
             [
              0.2222222222222222,
              "#7201a8"
             ],
             [
              0.3333333333333333,
              "#9c179e"
             ],
             [
              0.4444444444444444,
              "#bd3786"
             ],
             [
              0.5555555555555556,
              "#d8576b"
             ],
             [
              0.6666666666666666,
              "#ed7953"
             ],
             [
              0.7777777777777778,
              "#fb9f3a"
             ],
             [
              0.8888888888888888,
              "#fdca26"
             ],
             [
              1,
              "#f0f921"
             ]
            ],
            "type": "histogram2d"
           }
          ],
          "histogram2dcontour": [
           {
            "colorbar": {
             "outlinewidth": 0,
             "ticks": ""
            },
            "colorscale": [
             [
              0,
              "#0d0887"
             ],
             [
              0.1111111111111111,
              "#46039f"
             ],
             [
              0.2222222222222222,
              "#7201a8"
             ],
             [
              0.3333333333333333,
              "#9c179e"
             ],
             [
              0.4444444444444444,
              "#bd3786"
             ],
             [
              0.5555555555555556,
              "#d8576b"
             ],
             [
              0.6666666666666666,
              "#ed7953"
             ],
             [
              0.7777777777777778,
              "#fb9f3a"
             ],
             [
              0.8888888888888888,
              "#fdca26"
             ],
             [
              1,
              "#f0f921"
             ]
            ],
            "type": "histogram2dcontour"
           }
          ],
          "mesh3d": [
           {
            "colorbar": {
             "outlinewidth": 0,
             "ticks": ""
            },
            "type": "mesh3d"
           }
          ],
          "parcoords": [
           {
            "line": {
             "colorbar": {
              "outlinewidth": 0,
              "ticks": ""
             }
            },
            "type": "parcoords"
           }
          ],
          "pie": [
           {
            "automargin": true,
            "type": "pie"
           }
          ],
          "scatter": [
           {
            "fillpattern": {
             "fillmode": "overlay",
             "size": 10,
             "solidity": 0.2
            },
            "type": "scatter"
           }
          ],
          "scatter3d": [
           {
            "line": {
             "colorbar": {
              "outlinewidth": 0,
              "ticks": ""
             }
            },
            "marker": {
             "colorbar": {
              "outlinewidth": 0,
              "ticks": ""
             }
            },
            "type": "scatter3d"
           }
          ],
          "scattercarpet": [
           {
            "marker": {
             "colorbar": {
              "outlinewidth": 0,
              "ticks": ""
             }
            },
            "type": "scattercarpet"
           }
          ],
          "scattergeo": [
           {
            "marker": {
             "colorbar": {
              "outlinewidth": 0,
              "ticks": ""
             }
            },
            "type": "scattergeo"
           }
          ],
          "scattergl": [
           {
            "marker": {
             "colorbar": {
              "outlinewidth": 0,
              "ticks": ""
             }
            },
            "type": "scattergl"
           }
          ],
          "scattermapbox": [
           {
            "marker": {
             "colorbar": {
              "outlinewidth": 0,
              "ticks": ""
             }
            },
            "type": "scattermapbox"
           }
          ],
          "scatterpolar": [
           {
            "marker": {
             "colorbar": {
              "outlinewidth": 0,
              "ticks": ""
             }
            },
            "type": "scatterpolar"
           }
          ],
          "scatterpolargl": [
           {
            "marker": {
             "colorbar": {
              "outlinewidth": 0,
              "ticks": ""
             }
            },
            "type": "scatterpolargl"
           }
          ],
          "scatterternary": [
           {
            "marker": {
             "colorbar": {
              "outlinewidth": 0,
              "ticks": ""
             }
            },
            "type": "scatterternary"
           }
          ],
          "surface": [
           {
            "colorbar": {
             "outlinewidth": 0,
             "ticks": ""
            },
            "colorscale": [
             [
              0,
              "#0d0887"
             ],
             [
              0.1111111111111111,
              "#46039f"
             ],
             [
              0.2222222222222222,
              "#7201a8"
             ],
             [
              0.3333333333333333,
              "#9c179e"
             ],
             [
              0.4444444444444444,
              "#bd3786"
             ],
             [
              0.5555555555555556,
              "#d8576b"
             ],
             [
              0.6666666666666666,
              "#ed7953"
             ],
             [
              0.7777777777777778,
              "#fb9f3a"
             ],
             [
              0.8888888888888888,
              "#fdca26"
             ],
             [
              1,
              "#f0f921"
             ]
            ],
            "type": "surface"
           }
          ],
          "table": [
           {
            "cells": {
             "fill": {
              "color": "#EBF0F8"
             },
             "line": {
              "color": "white"
             }
            },
            "header": {
             "fill": {
              "color": "#C8D4E3"
             },
             "line": {
              "color": "white"
             }
            },
            "type": "table"
           }
          ]
         },
         "layout": {
          "annotationdefaults": {
           "arrowcolor": "#2a3f5f",
           "arrowhead": 0,
           "arrowwidth": 1
          },
          "autotypenumbers": "strict",
          "coloraxis": {
           "colorbar": {
            "outlinewidth": 0,
            "ticks": ""
           }
          },
          "colorscale": {
           "diverging": [
            [
             0,
             "#8e0152"
            ],
            [
             0.1,
             "#c51b7d"
            ],
            [
             0.2,
             "#de77ae"
            ],
            [
             0.3,
             "#f1b6da"
            ],
            [
             0.4,
             "#fde0ef"
            ],
            [
             0.5,
             "#f7f7f7"
            ],
            [
             0.6,
             "#e6f5d0"
            ],
            [
             0.7,
             "#b8e186"
            ],
            [
             0.8,
             "#7fbc41"
            ],
            [
             0.9,
             "#4d9221"
            ],
            [
             1,
             "#276419"
            ]
           ],
           "sequential": [
            [
             0,
             "#0d0887"
            ],
            [
             0.1111111111111111,
             "#46039f"
            ],
            [
             0.2222222222222222,
             "#7201a8"
            ],
            [
             0.3333333333333333,
             "#9c179e"
            ],
            [
             0.4444444444444444,
             "#bd3786"
            ],
            [
             0.5555555555555556,
             "#d8576b"
            ],
            [
             0.6666666666666666,
             "#ed7953"
            ],
            [
             0.7777777777777778,
             "#fb9f3a"
            ],
            [
             0.8888888888888888,
             "#fdca26"
            ],
            [
             1,
             "#f0f921"
            ]
           ],
           "sequentialminus": [
            [
             0,
             "#0d0887"
            ],
            [
             0.1111111111111111,
             "#46039f"
            ],
            [
             0.2222222222222222,
             "#7201a8"
            ],
            [
             0.3333333333333333,
             "#9c179e"
            ],
            [
             0.4444444444444444,
             "#bd3786"
            ],
            [
             0.5555555555555556,
             "#d8576b"
            ],
            [
             0.6666666666666666,
             "#ed7953"
            ],
            [
             0.7777777777777778,
             "#fb9f3a"
            ],
            [
             0.8888888888888888,
             "#fdca26"
            ],
            [
             1,
             "#f0f921"
            ]
           ]
          },
          "colorway": [
           "#636efa",
           "#EF553B",
           "#00cc96",
           "#ab63fa",
           "#FFA15A",
           "#19d3f3",
           "#FF6692",
           "#B6E880",
           "#FF97FF",
           "#FECB52"
          ],
          "font": {
           "color": "#2a3f5f"
          },
          "geo": {
           "bgcolor": "white",
           "lakecolor": "white",
           "landcolor": "#E5ECF6",
           "showlakes": true,
           "showland": true,
           "subunitcolor": "white"
          },
          "hoverlabel": {
           "align": "left"
          },
          "hovermode": "closest",
          "mapbox": {
           "style": "light"
          },
          "paper_bgcolor": "white",
          "plot_bgcolor": "#E5ECF6",
          "polar": {
           "angularaxis": {
            "gridcolor": "white",
            "linecolor": "white",
            "ticks": ""
           },
           "bgcolor": "#E5ECF6",
           "radialaxis": {
            "gridcolor": "white",
            "linecolor": "white",
            "ticks": ""
           }
          },
          "scene": {
           "xaxis": {
            "backgroundcolor": "#E5ECF6",
            "gridcolor": "white",
            "gridwidth": 2,
            "linecolor": "white",
            "showbackground": true,
            "ticks": "",
            "zerolinecolor": "white"
           },
           "yaxis": {
            "backgroundcolor": "#E5ECF6",
            "gridcolor": "white",
            "gridwidth": 2,
            "linecolor": "white",
            "showbackground": true,
            "ticks": "",
            "zerolinecolor": "white"
           },
           "zaxis": {
            "backgroundcolor": "#E5ECF6",
            "gridcolor": "white",
            "gridwidth": 2,
            "linecolor": "white",
            "showbackground": true,
            "ticks": "",
            "zerolinecolor": "white"
           }
          },
          "shapedefaults": {
           "line": {
            "color": "#2a3f5f"
           }
          },
          "ternary": {
           "aaxis": {
            "gridcolor": "white",
            "linecolor": "white",
            "ticks": ""
           },
           "baxis": {
            "gridcolor": "white",
            "linecolor": "white",
            "ticks": ""
           },
           "bgcolor": "#E5ECF6",
           "caxis": {
            "gridcolor": "white",
            "linecolor": "white",
            "ticks": ""
           }
          },
          "title": {
           "x": 0.05
          },
          "xaxis": {
           "automargin": true,
           "gridcolor": "white",
           "linecolor": "white",
           "ticks": "",
           "title": {
            "standoff": 15
           },
           "zerolinecolor": "white",
           "zerolinewidth": 2
          },
          "yaxis": {
           "automargin": true,
           "gridcolor": "white",
           "linecolor": "white",
           "ticks": "",
           "title": {
            "standoff": 15
           },
           "zerolinecolor": "white",
           "zerolinewidth": 2
          }
         }
        },
        "title": {
         "text": "radiate_strip_gmsh antenna surface current in radiation mode"
        },
        "width": 800
       }
      }
     },
     "metadata": {},
     "output_type": "display_data"
    },
    {
     "name": "stdout",
     "output_type": "stream",
     "text": [
      "Simulation 151/301 | f = 75.00 MHz | S11 = -8.22 dB\n",
      "Simulation 152/301 | f = 75.10 MHz | S11 = -8.10 dB\n",
      "Simulation 153/301 | f = 75.20 MHz | S11 = -7.98 dB\n",
      "Simulation 154/301 | f = 75.30 MHz | S11 = -7.87 dB\n",
      "Simulation 155/301 | f = 75.40 MHz | S11 = -7.75 dB\n",
      "Simulation 156/301 | f = 75.50 MHz | S11 = -7.64 dB\n",
      "Simulation 157/301 | f = 75.60 MHz | S11 = -7.53 dB\n",
      "Simulation 158/301 | f = 75.70 MHz | S11 = -7.42 dB\n",
      "Simulation 159/301 | f = 75.80 MHz | S11 = -7.32 dB\n",
      "Simulation 160/301 | f = 75.90 MHz | S11 = -7.22 dB\n",
      "Simulation 161/301 | f = 76.00 MHz | S11 = -7.12 dB\n",
      "Simulation 162/301 | f = 76.10 MHz | S11 = -7.02 dB\n",
      "Simulation 163/301 | f = 76.20 MHz | S11 = -6.92 dB\n",
      "Simulation 164/301 | f = 76.30 MHz | S11 = -6.83 dB\n",
      "Simulation 165/301 | f = 76.40 MHz | S11 = -6.74 dB\n",
      "Simulation 166/301 | f = 76.50 MHz | S11 = -6.65 dB\n",
      "Simulation 167/301 | f = 76.60 MHz | S11 = -6.56 dB\n",
      "Simulation 168/301 | f = 76.70 MHz | S11 = -6.47 dB\n",
      "Simulation 169/301 | f = 76.80 MHz | S11 = -6.39 dB\n",
      "Simulation 170/301 | f = 76.90 MHz | S11 = -6.31 dB\n",
      "Simulation 171/301 | f = 77.00 MHz | S11 = -6.23 dB\n",
      "Simulation 172/301 | f = 77.10 MHz | S11 = -6.15 dB\n",
      "Simulation 173/301 | f = 77.20 MHz | S11 = -6.07 dB\n",
      "Simulation 174/301 | f = 77.30 MHz | S11 = -5.99 dB\n",
      "Simulation 175/301 | f = 77.40 MHz | S11 = -5.92 dB\n",
      "Simulation 176/301 | f = 77.50 MHz | S11 = -5.85 dB\n",
      "Simulation 177/301 | f = 77.60 MHz | S11 = -5.77 dB\n",
      "Simulation 178/301 | f = 77.70 MHz | S11 = -5.70 dB\n",
      "Simulation 179/301 | f = 77.80 MHz | S11 = -5.63 dB\n",
      "Simulation 180/301 | f = 77.90 MHz | S11 = -5.57 dB\n",
      "Simulation 181/301 | f = 78.00 MHz | S11 = -5.50 dB\n",
      "Simulation 182/301 | f = 78.10 MHz | S11 = -5.44 dB\n",
      "Simulation 183/301 | f = 78.20 MHz | S11 = -5.37 dB\n",
      "Simulation 184/301 | f = 78.30 MHz | S11 = -5.31 dB\n",
      "Simulation 185/301 | f = 78.40 MHz | S11 = -5.25 dB\n",
      "Simulation 186/301 | f = 78.50 MHz | S11 = -5.19 dB\n",
      "Simulation 187/301 | f = 78.60 MHz | S11 = -5.13 dB\n",
      "Simulation 188/301 | f = 78.70 MHz | S11 = -5.07 dB\n",
      "Simulation 189/301 | f = 78.80 MHz | S11 = -5.01 dB\n",
      "Simulation 190/301 | f = 78.90 MHz | S11 = -4.96 dB\n",
      "Simulation 191/301 | f = 79.00 MHz | S11 = -4.90 dB\n",
      "Simulation 192/301 | f = 79.10 MHz | S11 = -4.85 dB\n",
      "Simulation 193/301 | f = 79.20 MHz | S11 = -4.80 dB\n",
      "Simulation 194/301 | f = 79.30 MHz | S11 = -4.75 dB\n",
      "Simulation 195/301 | f = 79.40 MHz | S11 = -4.69 dB\n",
      "Simulation 196/301 | f = 79.50 MHz | S11 = -4.64 dB\n",
      "Simulation 197/301 | f = 79.60 MHz | S11 = -4.60 dB\n",
      "Simulation 198/301 | f = 79.70 MHz | S11 = -4.55 dB\n",
      "Simulation 199/301 | f = 79.80 MHz | S11 = -4.50 dB\n",
      "Simulation 200/301 | f = 79.90 MHz | S11 = -4.45 dB\n",
      "Simulation 201/301 | f = 80.00 MHz | S11 = -4.41 dB\n",
      "Simulation 202/301 | f = 80.10 MHz | S11 = -4.36 dB\n",
      "Simulation 203/301 | f = 80.20 MHz | S11 = -4.32 dB\n",
      "Simulation 204/301 | f = 80.30 MHz | S11 = -4.28 dB\n",
      "Simulation 205/301 | f = 80.40 MHz | S11 = -4.23 dB\n",
      "Simulation 206/301 | f = 80.50 MHz | S11 = -4.19 dB\n",
      "Simulation 207/301 | f = 80.60 MHz | S11 = -4.15 dB\n",
      "Simulation 208/301 | f = 80.70 MHz | S11 = -4.11 dB\n",
      "Simulation 209/301 | f = 80.80 MHz | S11 = -4.07 dB\n",
      "Simulation 210/301 | f = 80.90 MHz | S11 = -4.03 dB\n",
      "Simulation 211/301 | f = 81.00 MHz | S11 = -3.99 dB\n",
      "Simulation 212/301 | f = 81.10 MHz | S11 = -3.95 dB\n",
      "Simulation 213/301 | f = 81.20 MHz | S11 = -3.92 dB\n",
      "Simulation 214/301 | f = 81.30 MHz | S11 = -3.88 dB\n",
      "Simulation 215/301 | f = 81.40 MHz | S11 = -3.84 dB\n",
      "Simulation 216/301 | f = 81.50 MHz | S11 = -3.81 dB\n",
      "Simulation 217/301 | f = 81.60 MHz | S11 = -3.77 dB\n",
      "Simulation 218/301 | f = 81.70 MHz | S11 = -3.74 dB\n",
      "Simulation 219/301 | f = 81.80 MHz | S11 = -3.71 dB\n",
      "Simulation 220/301 | f = 81.90 MHz | S11 = -3.67 dB\n",
      "Simulation 221/301 | f = 82.00 MHz | S11 = -3.64 dB\n",
      "Simulation 222/301 | f = 82.10 MHz | S11 = -3.61 dB\n",
      "Simulation 223/301 | f = 82.20 MHz | S11 = -3.58 dB\n",
      "Simulation 224/301 | f = 82.30 MHz | S11 = -3.55 dB\n",
      "Simulation 225/301 | f = 82.40 MHz | S11 = -3.51 dB\n",
      "Simulation 226/301 | f = 82.50 MHz | S11 = -3.48 dB\n",
      "Simulation 227/301 | f = 82.60 MHz | S11 = -3.45 dB\n",
      "Simulation 228/301 | f = 82.70 MHz | S11 = -3.42 dB\n",
      "Simulation 229/301 | f = 82.80 MHz | S11 = -3.40 dB\n",
      "Simulation 230/301 | f = 82.90 MHz | S11 = -3.37 dB\n",
      "Simulation 231/301 | f = 83.00 MHz | S11 = -3.34 dB\n",
      "Simulation 232/301 | f = 83.10 MHz | S11 = -3.31 dB\n",
      "Simulation 233/301 | f = 83.20 MHz | S11 = -3.28 dB\n",
      "Simulation 234/301 | f = 83.30 MHz | S11 = -3.26 dB\n",
      "Simulation 235/301 | f = 83.40 MHz | S11 = -3.23 dB\n",
      "Simulation 236/301 | f = 83.50 MHz | S11 = -3.21 dB\n",
      "Simulation 237/301 | f = 83.60 MHz | S11 = -3.18 dB\n",
      "Simulation 238/301 | f = 83.70 MHz | S11 = -3.15 dB\n",
      "Simulation 239/301 | f = 83.80 MHz | S11 = -3.13 dB\n",
      "Simulation 240/301 | f = 83.90 MHz | S11 = -3.11 dB\n",
      "Simulation 241/301 | f = 84.00 MHz | S11 = -3.08 dB\n",
      "Simulation 242/301 | f = 84.10 MHz | S11 = -3.06 dB\n",
      "Simulation 243/301 | f = 84.20 MHz | S11 = -3.03 dB\n",
      "Simulation 244/301 | f = 84.30 MHz | S11 = -3.01 dB\n",
      "Simulation 245/301 | f = 84.40 MHz | S11 = -2.99 dB\n",
      "Simulation 246/301 | f = 84.50 MHz | S11 = -2.97 dB\n",
      "Simulation 247/301 | f = 84.60 MHz | S11 = -2.94 dB\n",
      "Simulation 248/301 | f = 84.70 MHz | S11 = -2.92 dB\n",
      "Simulation 249/301 | f = 84.80 MHz | S11 = -2.90 dB\n",
      "Simulation 250/301 | f = 84.90 MHz | S11 = -2.88 dB\n",
      "Simulation 251/301 | f = 85.00 MHz | S11 = -2.86 dB\n",
      "Simulation 252/301 | f = 85.10 MHz | S11 = -2.84 dB\n",
      "Simulation 253/301 | f = 85.20 MHz | S11 = -2.82 dB\n",
      "Simulation 254/301 | f = 85.30 MHz | S11 = -2.80 dB\n",
      "Simulation 255/301 | f = 85.40 MHz | S11 = -2.78 dB\n",
      "Simulation 256/301 | f = 85.50 MHz | S11 = -2.76 dB\n",
      "Simulation 257/301 | f = 85.60 MHz | S11 = -2.74 dB\n",
      "Simulation 258/301 | f = 85.70 MHz | S11 = -2.72 dB\n",
      "Simulation 259/301 | f = 85.80 MHz | S11 = -2.70 dB\n",
      "Simulation 260/301 | f = 85.90 MHz | S11 = -2.68 dB\n",
      "Simulation 261/301 | f = 86.00 MHz | S11 = -2.66 dB\n",
      "Simulation 262/301 | f = 86.10 MHz | S11 = -2.64 dB\n",
      "Simulation 263/301 | f = 86.20 MHz | S11 = -2.63 dB\n",
      "Simulation 264/301 | f = 86.30 MHz | S11 = -2.61 dB\n",
      "Simulation 265/301 | f = 86.40 MHz | S11 = -2.59 dB\n",
      "Simulation 266/301 | f = 86.50 MHz | S11 = -2.57 dB\n",
      "Simulation 267/301 | f = 86.60 MHz | S11 = -2.56 dB\n",
      "Simulation 268/301 | f = 86.70 MHz | S11 = -2.54 dB\n",
      "Simulation 269/301 | f = 86.80 MHz | S11 = -2.52 dB\n",
      "Simulation 270/301 | f = 86.90 MHz | S11 = -2.51 dB\n",
      "Simulation 271/301 | f = 87.00 MHz | S11 = -2.49 dB\n",
      "Simulation 272/301 | f = 87.10 MHz | S11 = -2.48 dB\n",
      "Simulation 273/301 | f = 87.20 MHz | S11 = -2.46 dB\n",
      "Simulation 274/301 | f = 87.30 MHz | S11 = -2.44 dB\n",
      "Simulation 275/301 | f = 87.40 MHz | S11 = -2.43 dB\n",
      "Simulation 276/301 | f = 87.50 MHz | S11 = -2.41 dB\n",
      "Simulation 277/301 | f = 87.60 MHz | S11 = -2.40 dB\n",
      "Simulation 278/301 | f = 87.70 MHz | S11 = -2.38 dB\n",
      "Simulation 279/301 | f = 87.80 MHz | S11 = -2.37 dB\n",
      "Simulation 280/301 | f = 87.90 MHz | S11 = -2.35 dB\n",
      "Simulation 281/301 | f = 88.00 MHz | S11 = -2.34 dB\n",
      "Simulation 282/301 | f = 88.10 MHz | S11 = -2.33 dB\n",
      "Simulation 283/301 | f = 88.20 MHz | S11 = -2.31 dB\n",
      "Simulation 284/301 | f = 88.30 MHz | S11 = -2.30 dB\n",
      "Simulation 285/301 | f = 88.40 MHz | S11 = -2.28 dB\n",
      "Simulation 286/301 | f = 88.50 MHz | S11 = -2.27 dB\n",
      "Simulation 287/301 | f = 88.60 MHz | S11 = -2.26 dB\n",
      "Simulation 288/301 | f = 88.70 MHz | S11 = -2.24 dB\n",
      "Simulation 289/301 | f = 88.80 MHz | S11 = -2.23 dB\n",
      "Simulation 290/301 | f = 88.90 MHz | S11 = -2.22 dB\n",
      "Simulation 291/301 | f = 89.00 MHz | S11 = -2.21 dB\n",
      "Simulation 292/301 | f = 89.10 MHz | S11 = -2.19 dB\n",
      "Simulation 293/301 | f = 89.20 MHz | S11 = -2.18 dB\n",
      "Simulation 294/301 | f = 89.30 MHz | S11 = -2.17 dB\n",
      "Simulation 295/301 | f = 89.40 MHz | S11 = -2.16 dB\n",
      "Simulation 296/301 | f = 89.50 MHz | S11 = -2.14 dB\n",
      "Simulation 297/301 | f = 89.60 MHz | S11 = -2.13 dB\n",
      "Simulation 298/301 | f = 89.70 MHz | S11 = -2.12 dB\n",
      "Simulation 299/301 | f = 89.80 MHz | S11 = -2.11 dB\n",
      "Simulation 300/301 | f = 89.90 MHz | S11 = -2.10 dB\n",
      "Simulation 301/301 | f = 90.00 MHz | S11 = -2.09 dB\n"
     ]
    },
    {
     "data": {
      "application/vnd.plotly.v1+json": {
       "config": {
        "plotlyServerURL": "https://plot.ly"
       },
       "data": [
        {
         "hoverinfo": "text",
         "imag": [
          -2.3447694451224503,
          -2.322902868906145,
          -2.3010567474417942,
          -2.2792308365970233,
          -2.257424893372988,
          -2.2356386758939406,
          -2.2138719433982637,
          -2.1921244562282216,
          -2.1703959758211395,
          -2.1486862646996316,
          -2.126995086462284,
          -2.105322205775052,
          -2.0836673883616186,
          -2.062030400995185,
          -2.040411011488923,
          -2.0188089886881757,
          -1.9972241024612378,
          -1.975656123690986,
          -1.9541048242671253,
          -1.932569977077169,
          -1.9110513559988291,
          -1.8895487358919252,
          -1.8680618925905332,
          -1.846590602894818,
          -1.8251346445638583,
          -1.803693796307901,
          -1.7822678377805832,
          -1.7608565495720188,
          -1.7394597132012755,
          -1.718077111109266,
          -1.6967085266514135,
          -1.6753537440915478,
          -1.6540125485937656,
          -1.6326847262169795,
          -1.6113700639071455,
          -1.590068349491594,
          -1.5687793716720047,
          -1.5475029200183017,
          -1.5262387849624215,
          -1.5049867577919158,
          -1.483746630644333,
          -1.462518196500712,
          -1.441301249180237,
          -1.4200955833341318,
          -1.3989009944402935,
          -1.3777172787973893,
          -1.3565442335196607,
          -1.3353816565313152,
          -1.3142293465617632,
          -1.2930871031396791,
          -1.2719547265885542,
          -1.25083201802161,
          -1.2297187793365945,
          -1.2086148132113812,
          -1.1875199230987905,
          -1.1664339132228405,
          -1.1453565885732253,
          -1.1242877549019847,
          -1.1032272187181276,
          -1.0821747872841954,
          -1.0611302686117956,
          -1.040093471457967,
          -1.0190642053206451,
          -0.9980422804354033,
          -0.977027507771684,
          -0.9560196990286656,
          -0.9350186666321711,
          -0.9140242237315727,
          -0.8930361841956491,
          -0.8720543626098709,
          -0.8510785742730737,
          -0.8301086351947561,
          -0.809144362091632,
          -0.788185572385128,
          -0.7672320841986838,
          -0.7462837163546879,
          -0.7253402883727366,
          -0.7044016204661342,
          -0.68346753354071,
          -0.6625378491914479,
          -0.6416123897011806,
          -0.6206909780382616,
          -0.599773437854589,
          -0.5788595934837246,
          -0.557949269939487,
          -0.5370422929137478,
          -0.5161384887756728,
          -0.49523768456938927,
          -0.47433970801385456,
          -0.45344438750023913,
          -0.4325515520920751,
          -0.41166103152363676,
          -0.3907726561988397,
          -0.36988625719122203,
          -0.34900166624257795,
          -0.3281187157627278,
          -0.307237238829222,
          -0.28635706918625137,
          -0.26547804124541685,
          -0.24459999008505678,
          -0.22372275145019407,
          -0.20284616175288087,
          -0.18197005807237712,
          -0.16109427815536853,
          -0.14021866041650247,
          -0.1193430439391532,
          -0.09846726847577113,
          -0.07759117444877565,
          -0.05671460295193993,
          -0.03583739575082181,
          -0.014959395284223607,
          0.005919555334431927,
          0.026799612315697892,
          0.047680931192857254,
          0.06856366681944469,
          0.08944797336856268,
          0.11033400433009126,
          0.1312219125087842,
          0.15211185002227487,
          0.17300396829870252,
          0.19389841807397873,
          0.21479534938941008,
          0.23569491158907774,
          0.2565972533165294,
          0.2775025225122626,
          0.29841086641017767,
          0.3193224315343263,
          0.3402373636958068,
          0.36115580798867164,
          0.38207790878646203,
          0.4030038097384066,
          0.4239336537649661,
          0.444867583054235,
          0.46580573905704126,
          0.48674826248278974,
          0.5076952932945364,
          0.5286469707044571,
          0.5496034331685953,
          0.5705648183818114,
          0.5915312632726628,
          0.6125029039974954,
          0.6334798759353916,
          0.654462313681624,
          0.6754503510421576,
          0.6964441210274646,
          0.7174437558463072,
          0.7384493868983729,
          0.7594611447686291,
          0.7804791592199452,
          0.8015035591860142,
          0.8435720272076282,
          0.8646163489185398,
          0.8856675634395963,
          0.9067257954457401,
          0.9277911687365991,
          0.9488638062278959,
          0.9699438299423,
          0.9910313610008294,
          1.0121265196142177,
          1.0332294250730727,
          1.0543401957383587,
          1.0754589490321966,
          1.096585801427361,
          1.1177208684373832,
          1.1388642646061111,
          1.1600161034971423,
          1.181176497682771,
          1.2023455587330505,
          1.2235233972045514,
          1.244710122628244,
          1.265905843498499,
          1.287110667260199,
          1.308324700296754,
          1.3295480479176478,
          1.3507808143452618,
          1.3720231027019052,
          1.3932750149965338,
          1.4145366521106957,
          1.435808113785234,
          1.4570894986052172,
          1.478380903986052,
          1.4996824261586885,
          1.5209941601541317,
          1.5423161997883243,
          1.5636486376464505,
          1.5849915650667856,
          1.6063450721247658,
          1.627709247615873,
          1.6490841790389785,
          1.6704699525791846,
          1.6918666530899167,
          1.7132743640755907,
          1.734693167672455,
          1.756123144630833,
          1.777564374296033,
          1.7990169345885976,
          1.820480901985175,
          1.8419563514980672,
          1.8634433566555173,
          1.8849419894802668,
          1.9064523204685804,
          1.9279744185692766,
          1.9495083511612028,
          1.9710541840312794,
          1.992611981351731,
          2.0141818056569383,
          2.0357637178201617,
          2.057357777029258,
          2.0789640407627217,
          2.1005825647648906,
          2.12221340302014,
          2.143856607728266,
          2.1655122292773368,
          2.1871803162181327,
          2.208860915236308,
          2.2305540711253204,
          2.2522598267585625,
          2.2739782230606944,
          2.2957092989787906,
          2.3174530914529456,
          2.339209635386563,
          2.3609789636154765,
          2.3827611068773518,
          2.4045560937801738,
          2.4263639507700754,
          2.4481847020990766,
          2.4700183697914855,
          2.4918649736109,
          2.5137245310255985,
          2.535597057173673,
          2.5574825648279242,
          2.579381064359617,
          2.60129256370231,
          2.6232170683142813,
          2.645154581141006,
          2.6671051025763637,
          2.689068630424461,
          2.711045159858743,
          2.7330346833827504,
          2.7550371907882503,
          2.777052669114161,
          2.799081102603999,
          2.821122472662664,
          2.8431767578128633,
          2.865243933650758,
          2.887323972800461,
          2.9094168448681126,
          2.931522516395735,
          2.953640950813234,
          2.975772108390368,
          2.997915946188022,
          3.0200724180082674,
          3.0422414743435287,
          3.064423062325825,
          3.0866171256741466,
          3.108823604641434,
          3.131042435961198,
          3.1532735527920948,
          3.1755168846626503,
          3.197772357415001,
          3.220039893147129,
          3.242319410154952,
          3.2646108228727155,
          3.2869140418132856,
          3.3092289735065354,
          3.3315555204378025,
          3.353893580984571,
          3.376243049352509,
          3.398603815510589,
          3.420975765124807,
          3.443358779490974,
          3.465752735467487,
          3.488157505404884,
          3.5105729570764725,
          3.5329989536068247,
          3.5554353533989405,
          3.5778820100612587,
          3.600338772332389,
          3.6228054840057293,
          3.6452819838520236,
          3.6677681055412226,
          3.690263677563404,
          3.7127685231476426,
          3.7352824601805152,
          3.757805301122835,
          3.7803368529249832,
          3.8028769169418535,
          3.8254252888451443,
          3.847981758535746,
          3.8705461100533394,
          3.8931181214862387,
          3.9156975648780663,
          3.9382842061347856,
          3.9608778049293134,
          3.983478114604505,
          4.006084882075509,
          4.028697847729957,
          4.051316745327464,
          4.073941301896128,
          4.096571237629495
         ],
         "marker": {
          "color": "blue",
          "size": 4
         },
         "mode": "markers+lines",
         "name": "Impedance Points",
         "real": [
          0.8379125035182434,
          0.8420806554168084,
          0.8462680664337567,
          0.850474839022424,
          0.8547010763026962,
          0.8589468820659759,
          0.8632123607800835,
          0.8674976175943011,
          0.8718027583443758,
          0.876127889557599,
          0.8804731184579793,
          0.884838552971322,
          0.8892243017305158,
          0.8936304740807215,
          0.8980571800847038,
          0.9025045305281292,
          0.9069726369249765,
          0.911461611522968,
          0.9159715673089753,
          0.920502618014617,
          0.9250548781217581,
          0.9296284628681332,
          0.9342234882529954,
          0.9388400710428325,
          0.9434783287770747,
          0.9481383797739095,
          0.9528203431361462,
          0.9575243387570405,
          0.9622504873262921,
          0.9669989103359911,
          0.9717697300867042,
          0.9765630696934767,
          0.981379053092077,
          0.9862178050450607,
          0.9910794511481401,
          0.9959641178363592,
          1.000871932390508,
          1.0058030229434984,
          1.0107575184867907,
          1.0157355488769408,
          1.0207372448420962,
          1.025762737988666,
          1.0308121608079517,
          1.0358856466828714,
          1.0409833298947293,
          1.0461053456300828,
          1.0512518299875895,
          1.0564229199849875,
          1.0616187535660624,
          1.066839469607765,
          1.0720852079272793,
          1.077356109289216,
          1.0826523154128955,
          1.0879739689795782,
          1.0933212136399175,
          1.0986941940212778,
          1.1040930557353097,
          1.1095179453854203,
          1.1149690105744745,
          1.1204463999123841,
          1.1259502630239018,
          1.1314807505563804,
          1.1370380141876797,
          1.142622206634082,
          1.14823348165827,
          1.1538719940774536,
          1.1595378997714398,
          1.1652313556908573,
          1.1709525198654287,
          1.1767015514123151,
          1.182478610544524,
          1.1882838585793558,
          1.1941174579470089,
          1.1999795721991553,
          1.205870366017631,
          1.2117900052232558,
          1.2177386567845832,
          1.2237164888269203,
          1.2297236706411787,
          1.2357603726930813,
          1.2418267666322007,
          1.2479230253011964,
          1.2540493227451064,
          1.2602058342207314,
          1.266392736206037,
          1.2726102064097427,
          1.2788584237808391,
          1.2851375685183808,
          1.2914478220811028,
          1.2977893671974294,
          1.30416238787528,
          1.310567069412106,
          1.3170035984050608,
          1.3234721627610495,
          1.3299729517070877,
          1.336506155800599,
          1.3430719669398496,
          1.3496705783745317,
          1.3563021847162775,
          1.3629669819493861,
          1.3696651674416578,
          1.3763969399551905,
          1.383162499657388,
          1.3899620481320138,
          1.3967957883903213,
          1.403663924882279,
          1.4105666635079341,
          1.41750421162884,
          1.4244767780795033,
          1.4314845731790948,
          1.438527808743105,
          1.4456066980951607,
          1.452721456078913,
          1.459872299070091,
          1.467059444988504,
          1.4742831133103693,
          1.4815435250805273,
          1.488840902924844,
          1.4961754710627444,
          1.5035474553198318,
          1.5109570831405512,
          1.5184045836010145,
          1.5258901874219688,
          1.5334141269817474,
          1.5409766363294595,
          1.5485779511981994,
          1.5562183090183754,
          1.5638979489312277,
          1.5716171118023237,
          1.5793760402352606,
          1.587174978585472,
          1.5950141729740737,
          1.6028938713019238,
          1.6108143232637346,
          1.6187757803622822,
          1.6267784959227907,
          1.634822725107385,
          1.6429087249296848,
          1.6510367542694815,
          1.6592070738876306,
          1.6674199464408814,
          1.675675636497049,
          1.6839744105500927,
          1.6923165370354676,
          1.7007022863455714,
          1.709131930845291,
          1.7176057448875384,
          1.7261240048292408,
          1.7346869890471488,
          1.7432949779538738,
          1.7606471017609369,
          1.7693918078121345,
          1.7781826608869278,
          1.7870199518224594,
          1.7959039735907922,
          1.8048350213157989,
          1.8138133922901643,
          1.8228393859926482,
          1.8319133041055005,
          1.8410354505318696,
          1.8502061314133746,
          1.8594256551479647,
          1.868694332407748,
          1.878012476156979,
          1.8873804016702964,
          1.8967984265509943,
          1.9062668707494297,
          1.9157860565816487,
          1.9253563087480987,
          1.9349779543524164,
          1.944651322920578,
          1.9543767464199089,
          1.964154559278388,
          1.973985098404188,
          1.983868703205122,
          1.99380571560843,
          2.003796480080654,
          2.013841343647595,
          2.0239406559145756,
          2.0340947690865856,
          2.044304037988864,
          2.054568820087518,
          2.0648894755101455,
          2.07526636706684,
          2.085699860271209,
          2.096190323361552,
          2.106738127322259,
          2.1173436459052604,
          2.12800725565168,
          2.1387293359136863,
          2.149510268876343,
          2.160350439579911,
          2.171250235941834,
          2.182210048779355,
          2.193230271832067,
          2.2043113017844975,
          2.2154535382890983,
          2.226657383989162,
          2.237923244542181,
          2.2492515286429766,
          2.2606426480472255,
          2.272097017595216,
          2.283615055235491,
          2.295197182048879,
          2.306843822272544,
          2.318555403324213,
          2.3303323558266995,
          2.3421751136322695,
          2.3540841138474913,
          2.3660597968580954,
          2.3781026063538047,
          2.3902129893537865,
          2.4023913962316414,
          2.41463828074117,
          2.4269541000417556,
          2.4393393147242124,
          2.4517943888367073,
          2.4643197899108293,
          2.4769159889876864,
          2.48958346064439,
          2.502322683020483,
          2.515134137844568,
          2.528018310461106,
          2.5409756898573623,
          2.554006768690419,
          2.5671120433144385,
          2.580292013807932,
          2.5935471840013444,
          2.6068780615045783,
          2.620285157734784,
          2.6337689879441983,
          2.647330071248203,
          2.660968930653494,
          2.6746860930862466,
          2.688482089420636,
          2.7023574545071476,
          2.716312727201548,
          2.7303484503932536,
          2.7444651710345154,
          2.7586634401691956,
          2.7729438129619592,
          2.7873068487274737,
          2.801753110959682,
          2.816283167361219,
          2.8308975898730138,
          2.8455969547037068,
          2.860381842359455,
          2.8752528376738042,
          2.890210529837406,
          2.9052555124280155,
          2.920388383440656,
          2.9356097453175467,
          2.9509202049783068,
          2.966320373850317,
          2.9818108678989246,
          2.9973923076577735,
          3.0130653182593736,
          3.0288305294653934,
          3.044688575697112,
          3.0606400960662166,
          3.076685734405073,
          3.092826139297592,
          3.1090619641095305,
          3.1253938670194104,
          3.1418225110488898,
          3.1583485640935938,
          3.1749726989535687,
          3.1916955933640327,
          3.2085179300258617,
          3.2254403966361935,
          3.242463685918791,
          3.2595884956548837,
          3.2768155287131155,
          3.2941454930802685,
          3.3115791018914233,
          3.329117073460042,
          3.346760131308409,
          3.3645090041972723,
          3.3823644261561077,
          3.4003271365126135,
          3.418397879922602,
          3.4365774063994037,
          3.454866471343342,
          3.473265835570839,
          3.491776265343621,
          3.510398532397298,
          3.5291334139704174,
          3.5479816928325416,
          3.566944157312704,
          3.586021601327262,
          3.605214824407783,
          3.6245246317282738,
          3.643951834132597,
          3.663497248161329,
          3.6831616960781615,
          3.702946005896367,
          3.722851011404487,
          3.7428775521921995,
          3.7630264736750054,
          3.783298627119452
         ],
         "text": [
          "Z = 41.896-117.238j at 60.0 MHz",
          "Z = 42.104-116.145j at 60.099999999999994 MHz",
          "Z = 42.313-115.053j at 60.199999999999996 MHz",
          "Z = 42.524-113.962j at 60.3 MHz",
          "Z = 42.735-112.871j at 60.4 MHz",
          "Z = 42.947-111.782j at 60.5 MHz",
          "Z = 43.161-110.694j at 60.599999999999994 MHz",
          "Z = 43.375-109.606j at 60.699999999999996 MHz",
          "Z = 43.590-108.520j at 60.8 MHz",
          "Z = 43.806-107.434j at 60.9 MHz",
          "Z = 44.024-106.350j at 61.0 MHz",
          "Z = 44.242-105.266j at 61.099999999999994 MHz",
          "Z = 44.461-104.183j at 61.199999999999996 MHz",
          "Z = 44.682-103.102j at 61.3 MHz",
          "Z = 44.903-102.021j at 61.4 MHz",
          "Z = 45.125-100.940j at 61.5 MHz",
          "Z = 45.349-99.861j at 61.599999999999994 MHz",
          "Z = 45.573-98.783j at 61.699999999999996 MHz",
          "Z = 45.799-97.705j at 61.8 MHz",
          "Z = 46.025-96.628j at 61.9 MHz",
          "Z = 46.253-95.553j at 62.0 MHz",
          "Z = 46.481-94.477j at 62.099999999999994 MHz",
          "Z = 46.711-93.403j at 62.199999999999996 MHz",
          "Z = 46.942-92.330j at 62.3 MHz",
          "Z = 47.174-91.257j at 62.4 MHz",
          "Z = 47.407-90.185j at 62.5 MHz",
          "Z = 47.641-89.113j at 62.599999999999994 MHz",
          "Z = 47.876-88.043j at 62.699999999999996 MHz",
          "Z = 48.113-86.973j at 62.8 MHz",
          "Z = 48.350-85.904j at 62.9 MHz",
          "Z = 48.588-84.835j at 63.0 MHz",
          "Z = 48.828-83.768j at 63.099999999999994 MHz",
          "Z = 49.069-82.701j at 63.199999999999996 MHz",
          "Z = 49.311-81.634j at 63.3 MHz",
          "Z = 49.554-80.569j at 63.4 MHz",
          "Z = 49.798-79.503j at 63.5 MHz",
          "Z = 50.044-78.439j at 63.599999999999994 MHz",
          "Z = 50.290-77.375j at 63.699999999999996 MHz",
          "Z = 50.538-76.312j at 63.8 MHz",
          "Z = 50.787-75.249j at 63.9 MHz",
          "Z = 51.037-74.187j at 64.0 MHz",
          "Z = 51.288-73.126j at 64.1 MHz",
          "Z = 51.541-72.065j at 64.2 MHz",
          "Z = 51.794-71.005j at 64.3 MHz",
          "Z = 52.049-69.945j at 64.39999999999999 MHz",
          "Z = 52.305-68.886j at 64.5 MHz",
          "Z = 52.563-67.827j at 64.6 MHz",
          "Z = 52.821-66.769j at 64.7 MHz",
          "Z = 53.081-65.711j at 64.8 MHz",
          "Z = 53.342-64.654j at 64.89999999999999 MHz",
          "Z = 53.604-63.598j at 65.0 MHz",
          "Z = 53.868-62.542j at 65.1 MHz",
          "Z = 54.133-61.486j at 65.2 MHz",
          "Z = 54.399-60.431j at 65.3 MHz",
          "Z = 54.666-59.376j at 65.39999999999999 MHz",
          "Z = 54.935-58.322j at 65.5 MHz",
          "Z = 55.205-57.268j at 65.6 MHz",
          "Z = 55.476-56.214j at 65.7 MHz",
          "Z = 55.748-55.161j at 65.8 MHz",
          "Z = 56.022-54.109j at 65.89999999999999 MHz",
          "Z = 56.298-53.057j at 66.0 MHz",
          "Z = 56.574-52.005j at 66.1 MHz",
          "Z = 56.852-50.953j at 66.2 MHz",
          "Z = 57.131-49.902j at 66.3 MHz",
          "Z = 57.412-48.851j at 66.39999999999999 MHz",
          "Z = 57.694-47.801j at 66.5 MHz",
          "Z = 57.977-46.751j at 66.6 MHz",
          "Z = 58.262-45.701j at 66.7 MHz",
          "Z = 58.548-44.652j at 66.8 MHz",
          "Z = 58.835-43.603j at 66.89999999999999 MHz",
          "Z = 59.124-42.554j at 67.0 MHz",
          "Z = 59.414-41.505j at 67.1 MHz",
          "Z = 59.706-40.457j at 67.2 MHz",
          "Z = 59.999-39.409j at 67.3 MHz",
          "Z = 60.294-38.362j at 67.39999999999999 MHz",
          "Z = 60.590-37.314j at 67.5 MHz",
          "Z = 60.887-36.267j at 67.6 MHz",
          "Z = 61.186-35.220j at 67.7 MHz",
          "Z = 61.486-34.173j at 67.8 MHz",
          "Z = 61.788-33.127j at 67.89999999999999 MHz",
          "Z = 62.091-32.081j at 68.0 MHz",
          "Z = 62.396-31.035j at 68.1 MHz",
          "Z = 62.702-29.989j at 68.2 MHz",
          "Z = 63.010-28.943j at 68.3 MHz",
          "Z = 63.320-27.897j at 68.39999999999999 MHz",
          "Z = 63.631-26.852j at 68.5 MHz",
          "Z = 63.943-25.807j at 68.6 MHz",
          "Z = 64.257-24.762j at 68.7 MHz",
          "Z = 64.572-23.717j at 68.8 MHz",
          "Z = 64.889-22.672j at 68.89999999999999 MHz",
          "Z = 65.208-21.628j at 69.0 MHz",
          "Z = 65.528-20.583j at 69.1 MHz",
          "Z = 65.850-19.539j at 69.2 MHz",
          "Z = 66.174-18.494j at 69.3 MHz",
          "Z = 66.499-17.450j at 69.39999999999999 MHz",
          "Z = 66.825-16.406j at 69.5 MHz",
          "Z = 67.154-15.362j at 69.6 MHz",
          "Z = 67.484-14.318j at 69.7 MHz",
          "Z = 67.815-13.274j at 69.8 MHz",
          "Z = 68.148-12.230j at 69.89999999999999 MHz",
          "Z = 68.483-11.186j at 70.0 MHz",
          "Z = 68.820-10.142j at 70.1 MHz",
          "Z = 69.158-9.099j at 70.2 MHz",
          "Z = 69.498-8.055j at 70.3 MHz",
          "Z = 69.840-7.011j at 70.39999999999999 MHz",
          "Z = 70.183-5.967j at 70.5 MHz",
          "Z = 70.528-4.923j at 70.6 MHz",
          "Z = 70.875-3.880j at 70.7 MHz",
          "Z = 71.224-2.836j at 70.8 MHz",
          "Z = 71.574-1.792j at 70.89999999999999 MHz",
          "Z = 71.926-0.748j at 71.0 MHz",
          "Z = 72.280+0.296j at 71.1 MHz",
          "Z = 72.636+1.340j at 71.2 MHz",
          "Z = 72.994+2.384j at 71.3 MHz",
          "Z = 73.353+3.428j at 71.39999999999999 MHz",
          "Z = 73.714+4.472j at 71.5 MHz",
          "Z = 74.077+5.517j at 71.6 MHz",
          "Z = 74.442+6.561j at 71.7 MHz",
          "Z = 74.809+7.606j at 71.8 MHz",
          "Z = 75.177+8.650j at 71.89999999999999 MHz",
          "Z = 75.548+9.695j at 72.0 MHz",
          "Z = 75.920+10.740j at 72.1 MHz",
          "Z = 76.295+11.785j at 72.2 MHz",
          "Z = 76.671+12.830j at 72.3 MHz",
          "Z = 77.049+13.875j at 72.39999999999999 MHz",
          "Z = 77.429+14.921j at 72.5 MHz",
          "Z = 77.811+15.966j at 72.6 MHz",
          "Z = 78.195+17.012j at 72.7 MHz",
          "Z = 78.581+18.058j at 72.8 MHz",
          "Z = 78.969+19.104j at 72.89999999999999 MHz",
          "Z = 79.359+20.150j at 73.0 MHz",
          "Z = 79.751+21.197j at 73.1 MHz",
          "Z = 80.145+22.243j at 73.2 MHz",
          "Z = 80.541+23.290j at 73.3 MHz",
          "Z = 80.939+24.337j at 73.39999999999999 MHz",
          "Z = 81.339+25.385j at 73.5 MHz",
          "Z = 81.741+26.432j at 73.6 MHz",
          "Z = 82.145+27.480j at 73.7 MHz",
          "Z = 82.552+28.528j at 73.8 MHz",
          "Z = 82.960+29.577j at 73.89999999999999 MHz",
          "Z = 83.371+30.625j at 74.0 MHz",
          "Z = 83.784+31.674j at 74.1 MHz",
          "Z = 84.199+32.723j at 74.2 MHz",
          "Z = 84.616+33.773j at 74.3 MHz",
          "Z = 85.035+34.822j at 74.39999999999999 MHz",
          "Z = 85.457+35.872j at 74.5 MHz",
          "Z = 85.880+36.922j at 74.6 MHz",
          "Z = 86.306+37.973j at 74.7 MHz",
          "Z = 86.734+39.024j at 74.8 MHz",
          "Z = 87.165+40.075j at 74.89999999999999 MHz",
          "Z = 88.032+42.179j at 75.1 MHz",
          "Z = 88.470+43.231j at 75.2 MHz",
          "Z = 88.909+44.283j at 75.3 MHz",
          "Z = 89.351+45.336j at 75.39999999999999 MHz",
          "Z = 89.795+46.390j at 75.5 MHz",
          "Z = 90.242+47.443j at 75.6 MHz",
          "Z = 90.691+48.497j at 75.7 MHz",
          "Z = 91.142+49.552j at 75.8 MHz",
          "Z = 91.596+50.606j at 75.89999999999999 MHz",
          "Z = 92.052+51.661j at 76.0 MHz",
          "Z = 92.510+52.717j at 76.1 MHz",
          "Z = 92.971+53.773j at 76.2 MHz",
          "Z = 93.435+54.829j at 76.3 MHz",
          "Z = 93.901+55.886j at 76.39999999999999 MHz",
          "Z = 94.369+56.943j at 76.5 MHz",
          "Z = 94.840+58.001j at 76.6 MHz",
          "Z = 95.313+59.059j at 76.7 MHz",
          "Z = 95.789+60.117j at 76.8 MHz",
          "Z = 96.268+61.176j at 76.89999999999999 MHz",
          "Z = 96.749+62.236j at 77.0 MHz",
          "Z = 97.233+63.295j at 77.1 MHz",
          "Z = 97.719+64.356j at 77.2 MHz",
          "Z = 98.208+65.416j at 77.3 MHz",
          "Z = 98.699+66.477j at 77.39999999999999 MHz",
          "Z = 99.193+67.539j at 77.5 MHz",
          "Z = 99.690+68.601j at 77.6 MHz",
          "Z = 100.190+69.664j at 77.7 MHz",
          "Z = 100.692+70.727j at 77.8 MHz",
          "Z = 101.197+71.790j at 77.89999999999999 MHz",
          "Z = 101.705+72.854j at 78.0 MHz",
          "Z = 102.215+73.919j at 78.1 MHz",
          "Z = 102.728+74.984j at 78.2 MHz",
          "Z = 103.244+76.050j at 78.3 MHz",
          "Z = 103.763+77.116j at 78.39999999999999 MHz",
          "Z = 104.285+78.182j at 78.5 MHz",
          "Z = 104.810+79.250j at 78.6 MHz",
          "Z = 105.337+80.317j at 78.7 MHz",
          "Z = 105.867+81.385j at 78.8 MHz",
          "Z = 106.400+82.454j at 78.89999999999999 MHz",
          "Z = 106.936+83.523j at 79.0 MHz",
          "Z = 107.476+84.593j at 79.1 MHz",
          "Z = 108.018+85.664j at 79.2 MHz",
          "Z = 108.563+86.735j at 79.3 MHz",
          "Z = 109.111+87.806j at 79.39999999999999 MHz",
          "Z = 109.662+88.878j at 79.5 MHz",
          "Z = 110.216+89.951j at 79.6 MHz",
          "Z = 110.773+91.024j at 79.7 MHz",
          "Z = 111.333+92.098j at 79.8 MHz",
          "Z = 111.896+93.172j at 79.89999999999999 MHz",
          "Z = 112.463+94.247j at 80.0 MHz",
          "Z = 113.032+95.323j at 80.1 MHz",
          "Z = 113.605+96.399j at 80.2 MHz",
          "Z = 114.181+97.475j at 80.3 MHz",
          "Z = 114.760+98.553j at 80.39999999999999 MHz",
          "Z = 115.342+99.631j at 80.5 MHz",
          "Z = 115.928+100.709j at 80.6 MHz",
          "Z = 116.517+101.788j at 80.7 MHz",
          "Z = 117.109+102.868j at 80.8 MHz",
          "Z = 117.704+103.948j at 80.89999999999999 MHz",
          "Z = 118.303+105.029j at 81.0 MHz",
          "Z = 118.905+106.111j at 81.1 MHz",
          "Z = 119.511+107.193j at 81.2 MHz",
          "Z = 120.120+108.276j at 81.3 MHz",
          "Z = 120.732+109.359j at 81.39999999999999 MHz",
          "Z = 121.348+110.443j at 81.5 MHz",
          "Z = 121.967+111.528j at 81.6 MHz",
          "Z = 122.590+112.613j at 81.7 MHz",
          "Z = 123.216+113.699j at 81.8 MHz",
          "Z = 123.846+114.785j at 81.89999999999999 MHz",
          "Z = 124.479+115.873j at 82.0 MHz",
          "Z = 125.116+116.960j at 82.1 MHz",
          "Z = 125.757+118.049j at 82.2 MHz",
          "Z = 126.401+119.138j at 82.3 MHz",
          "Z = 127.049+120.228j at 82.39999999999999 MHz",
          "Z = 127.700+121.318j at 82.5 MHz",
          "Z = 128.356+122.409j at 82.6 MHz",
          "Z = 129.015+123.501j at 82.7 MHz",
          "Z = 129.677+124.593j at 82.8 MHz",
          "Z = 130.344+125.686j at 82.89999999999999 MHz",
          "Z = 131.014+126.780j at 83.0 MHz",
          "Z = 131.688+127.874j at 83.1 MHz",
          "Z = 132.367+128.969j at 83.2 MHz",
          "Z = 133.048+130.065j at 83.3 MHz",
          "Z = 133.734+131.161j at 83.39999999999999 MHz",
          "Z = 134.424+132.258j at 83.5 MHz",
          "Z = 135.118+133.355j at 83.6 MHz",
          "Z = 135.816+134.453j at 83.7 MHz",
          "Z = 136.517+135.552j at 83.8 MHz",
          "Z = 137.223+136.652j at 83.89999999999999 MHz",
          "Z = 137.933+137.752j at 84.0 MHz",
          "Z = 138.647+138.853j at 84.1 MHz",
          "Z = 139.365+139.954j at 84.2 MHz",
          "Z = 140.088+141.056j at 84.3 MHz",
          "Z = 140.814+142.159j at 84.39999999999999 MHz",
          "Z = 141.545+143.262j at 84.5 MHz",
          "Z = 142.280+144.366j at 84.6 MHz",
          "Z = 143.019+145.471j at 84.7 MHz",
          "Z = 143.763+146.576j at 84.8 MHz",
          "Z = 144.511+147.682j at 84.89999999999999 MHz",
          "Z = 145.263+148.789j at 85.0 MHz",
          "Z = 146.019+149.896j at 85.1 MHz",
          "Z = 146.780+151.004j at 85.2 MHz",
          "Z = 147.546+152.112j at 85.3 MHz",
          "Z = 148.316+153.221j at 85.39999999999999 MHz",
          "Z = 149.091+154.331j at 85.5 MHz",
          "Z = 149.870+155.441j at 85.6 MHz",
          "Z = 150.653+156.552j at 85.7 MHz",
          "Z = 151.442+157.664j at 85.8 MHz",
          "Z = 152.234+158.776j at 85.89999999999999 MHz",
          "Z = 153.032+159.889j at 86.0 MHz",
          "Z = 153.834+161.002j at 86.1 MHz",
          "Z = 154.641+162.116j at 86.2 MHz",
          "Z = 155.453+163.231j at 86.3 MHz",
          "Z = 156.270+164.346j at 86.39999999999999 MHz",
          "Z = 157.091+165.461j at 86.5 MHz",
          "Z = 157.917+166.578j at 86.6 MHz",
          "Z = 158.749+167.695j at 86.7 MHz",
          "Z = 159.585+168.812j at 86.8 MHz",
          "Z = 160.426+169.930j at 86.89999999999999 MHz",
          "Z = 161.272+171.049j at 87.0 MHz",
          "Z = 162.123+172.168j at 87.1 MHz",
          "Z = 162.979+173.288j at 87.2 MHz",
          "Z = 163.841+174.408j at 87.3 MHz",
          "Z = 164.707+175.529j at 87.39999999999999 MHz",
          "Z = 165.579+176.650j at 87.5 MHz",
          "Z = 166.456+177.772j at 87.6 MHz",
          "Z = 167.338+178.894j at 87.7 MHz",
          "Z = 168.225+180.017j at 87.8 MHz",
          "Z = 169.118+181.140j at 87.89999999999999 MHz",
          "Z = 170.016+182.264j at 88.0 MHz",
          "Z = 170.920+183.388j at 88.1 MHz",
          "Z = 171.829+184.513j at 88.2 MHz",
          "Z = 172.743+185.638j at 88.3 MHz",
          "Z = 173.663+186.764j at 88.39999999999999 MHz",
          "Z = 174.589+187.890j at 88.5 MHz",
          "Z = 175.520+189.017j at 88.6 MHz",
          "Z = 176.457+190.144j at 88.7 MHz",
          "Z = 177.399+191.271j at 88.8 MHz",
          "Z = 178.347+192.399j at 88.89999999999999 MHz",
          "Z = 179.301+193.527j at 89.0 MHz",
          "Z = 180.261+194.656j at 89.1 MHz",
          "Z = 181.226+195.785j at 89.2 MHz",
          "Z = 182.198+196.914j at 89.3 MHz",
          "Z = 183.175+198.044j at 89.39999999999999 MHz",
          "Z = 184.158+199.174j at 89.5 MHz",
          "Z = 185.147+200.304j at 89.6 MHz",
          "Z = 186.143+201.435j at 89.7 MHz",
          "Z = 187.144+202.566j at 89.8 MHz",
          "Z = 188.151+203.697j at 89.89999999999999 MHz",
          "Z = 189.165+204.829j at 90.0 MHz"
         ],
         "type": "scattersmith"
        },
        {
         "hoverinfo": "text",
         "imag": [
          0.8225344727640084
         ],
         "marker": {
          "color": "red",
          "size": 10,
          "symbol": "circle"
         },
         "mode": "markers",
         "name": "Impedance at fC=75.0 MHz",
         "real": [
          1.751948254014111
         ],
         "text": [
          "Z = 87.597+41.127j at 75.0 MHz"
         ],
         "type": "scattersmith"
        }
       ],
       "layout": {
        "showlegend": true,
        "template": {
         "data": {
          "bar": [
           {
            "error_x": {
             "color": "#2a3f5f"
            },
            "error_y": {
             "color": "#2a3f5f"
            },
            "marker": {
             "line": {
              "color": "#E5ECF6",
              "width": 0.5
             },
             "pattern": {
              "fillmode": "overlay",
              "size": 10,
              "solidity": 0.2
             }
            },
            "type": "bar"
           }
          ],
          "barpolar": [
           {
            "marker": {
             "line": {
              "color": "#E5ECF6",
              "width": 0.5
             },
             "pattern": {
              "fillmode": "overlay",
              "size": 10,
              "solidity": 0.2
             }
            },
            "type": "barpolar"
           }
          ],
          "carpet": [
           {
            "aaxis": {
             "endlinecolor": "#2a3f5f",
             "gridcolor": "white",
             "linecolor": "white",
             "minorgridcolor": "white",
             "startlinecolor": "#2a3f5f"
            },
            "baxis": {
             "endlinecolor": "#2a3f5f",
             "gridcolor": "white",
             "linecolor": "white",
             "minorgridcolor": "white",
             "startlinecolor": "#2a3f5f"
            },
            "type": "carpet"
           }
          ],
          "choropleth": [
           {
            "colorbar": {
             "outlinewidth": 0,
             "ticks": ""
            },
            "type": "choropleth"
           }
          ],
          "contour": [
           {
            "colorbar": {
             "outlinewidth": 0,
             "ticks": ""
            },
            "colorscale": [
             [
              0,
              "#0d0887"
             ],
             [
              0.1111111111111111,
              "#46039f"
             ],
             [
              0.2222222222222222,
              "#7201a8"
             ],
             [
              0.3333333333333333,
              "#9c179e"
             ],
             [
              0.4444444444444444,
              "#bd3786"
             ],
             [
              0.5555555555555556,
              "#d8576b"
             ],
             [
              0.6666666666666666,
              "#ed7953"
             ],
             [
              0.7777777777777778,
              "#fb9f3a"
             ],
             [
              0.8888888888888888,
              "#fdca26"
             ],
             [
              1,
              "#f0f921"
             ]
            ],
            "type": "contour"
           }
          ],
          "contourcarpet": [
           {
            "colorbar": {
             "outlinewidth": 0,
             "ticks": ""
            },
            "type": "contourcarpet"
           }
          ],
          "heatmap": [
           {
            "colorbar": {
             "outlinewidth": 0,
             "ticks": ""
            },
            "colorscale": [
             [
              0,
              "#0d0887"
             ],
             [
              0.1111111111111111,
              "#46039f"
             ],
             [
              0.2222222222222222,
              "#7201a8"
             ],
             [
              0.3333333333333333,
              "#9c179e"
             ],
             [
              0.4444444444444444,
              "#bd3786"
             ],
             [
              0.5555555555555556,
              "#d8576b"
             ],
             [
              0.6666666666666666,
              "#ed7953"
             ],
             [
              0.7777777777777778,
              "#fb9f3a"
             ],
             [
              0.8888888888888888,
              "#fdca26"
             ],
             [
              1,
              "#f0f921"
             ]
            ],
            "type": "heatmap"
           }
          ],
          "heatmapgl": [
           {
            "colorbar": {
             "outlinewidth": 0,
             "ticks": ""
            },
            "colorscale": [
             [
              0,
              "#0d0887"
             ],
             [
              0.1111111111111111,
              "#46039f"
             ],
             [
              0.2222222222222222,
              "#7201a8"
             ],
             [
              0.3333333333333333,
              "#9c179e"
             ],
             [
              0.4444444444444444,
              "#bd3786"
             ],
             [
              0.5555555555555556,
              "#d8576b"
             ],
             [
              0.6666666666666666,
              "#ed7953"
             ],
             [
              0.7777777777777778,
              "#fb9f3a"
             ],
             [
              0.8888888888888888,
              "#fdca26"
             ],
             [
              1,
              "#f0f921"
             ]
            ],
            "type": "heatmapgl"
           }
          ],
          "histogram": [
           {
            "marker": {
             "pattern": {
              "fillmode": "overlay",
              "size": 10,
              "solidity": 0.2
             }
            },
            "type": "histogram"
           }
          ],
          "histogram2d": [
           {
            "colorbar": {
             "outlinewidth": 0,
             "ticks": ""
            },
            "colorscale": [
             [
              0,
              "#0d0887"
             ],
             [
              0.1111111111111111,
              "#46039f"
             ],
             [
              0.2222222222222222,
              "#7201a8"
             ],
             [
              0.3333333333333333,
              "#9c179e"
             ],
             [
              0.4444444444444444,
              "#bd3786"
             ],
             [
              0.5555555555555556,
              "#d8576b"
             ],
             [
              0.6666666666666666,
              "#ed7953"
             ],
             [
              0.7777777777777778,
              "#fb9f3a"
             ],
             [
              0.8888888888888888,
              "#fdca26"
             ],
             [
              1,
              "#f0f921"
             ]
            ],
            "type": "histogram2d"
           }
          ],
          "histogram2dcontour": [
           {
            "colorbar": {
             "outlinewidth": 0,
             "ticks": ""
            },
            "colorscale": [
             [
              0,
              "#0d0887"
             ],
             [
              0.1111111111111111,
              "#46039f"
             ],
             [
              0.2222222222222222,
              "#7201a8"
             ],
             [
              0.3333333333333333,
              "#9c179e"
             ],
             [
              0.4444444444444444,
              "#bd3786"
             ],
             [
              0.5555555555555556,
              "#d8576b"
             ],
             [
              0.6666666666666666,
              "#ed7953"
             ],
             [
              0.7777777777777778,
              "#fb9f3a"
             ],
             [
              0.8888888888888888,
              "#fdca26"
             ],
             [
              1,
              "#f0f921"
             ]
            ],
            "type": "histogram2dcontour"
           }
          ],
          "mesh3d": [
           {
            "colorbar": {
             "outlinewidth": 0,
             "ticks": ""
            },
            "type": "mesh3d"
           }
          ],
          "parcoords": [
           {
            "line": {
             "colorbar": {
              "outlinewidth": 0,
              "ticks": ""
             }
            },
            "type": "parcoords"
           }
          ],
          "pie": [
           {
            "automargin": true,
            "type": "pie"
           }
          ],
          "scatter": [
           {
            "fillpattern": {
             "fillmode": "overlay",
             "size": 10,
             "solidity": 0.2
            },
            "type": "scatter"
           }
          ],
          "scatter3d": [
           {
            "line": {
             "colorbar": {
              "outlinewidth": 0,
              "ticks": ""
             }
            },
            "marker": {
             "colorbar": {
              "outlinewidth": 0,
              "ticks": ""
             }
            },
            "type": "scatter3d"
           }
          ],
          "scattercarpet": [
           {
            "marker": {
             "colorbar": {
              "outlinewidth": 0,
              "ticks": ""
             }
            },
            "type": "scattercarpet"
           }
          ],
          "scattergeo": [
           {
            "marker": {
             "colorbar": {
              "outlinewidth": 0,
              "ticks": ""
             }
            },
            "type": "scattergeo"
           }
          ],
          "scattergl": [
           {
            "marker": {
             "colorbar": {
              "outlinewidth": 0,
              "ticks": ""
             }
            },
            "type": "scattergl"
           }
          ],
          "scattermapbox": [
           {
            "marker": {
             "colorbar": {
              "outlinewidth": 0,
              "ticks": ""
             }
            },
            "type": "scattermapbox"
           }
          ],
          "scatterpolar": [
           {
            "marker": {
             "colorbar": {
              "outlinewidth": 0,
              "ticks": ""
             }
            },
            "type": "scatterpolar"
           }
          ],
          "scatterpolargl": [
           {
            "marker": {
             "colorbar": {
              "outlinewidth": 0,
              "ticks": ""
             }
            },
            "type": "scatterpolargl"
           }
          ],
          "scatterternary": [
           {
            "marker": {
             "colorbar": {
              "outlinewidth": 0,
              "ticks": ""
             }
            },
            "type": "scatterternary"
           }
          ],
          "surface": [
           {
            "colorbar": {
             "outlinewidth": 0,
             "ticks": ""
            },
            "colorscale": [
             [
              0,
              "#0d0887"
             ],
             [
              0.1111111111111111,
              "#46039f"
             ],
             [
              0.2222222222222222,
              "#7201a8"
             ],
             [
              0.3333333333333333,
              "#9c179e"
             ],
             [
              0.4444444444444444,
              "#bd3786"
             ],
             [
              0.5555555555555556,
              "#d8576b"
             ],
             [
              0.6666666666666666,
              "#ed7953"
             ],
             [
              0.7777777777777778,
              "#fb9f3a"
             ],
             [
              0.8888888888888888,
              "#fdca26"
             ],
             [
              1,
              "#f0f921"
             ]
            ],
            "type": "surface"
           }
          ],
          "table": [
           {
            "cells": {
             "fill": {
              "color": "#EBF0F8"
             },
             "line": {
              "color": "white"
             }
            },
            "header": {
             "fill": {
              "color": "#C8D4E3"
             },
             "line": {
              "color": "white"
             }
            },
            "type": "table"
           }
          ]
         },
         "layout": {
          "annotationdefaults": {
           "arrowcolor": "#2a3f5f",
           "arrowhead": 0,
           "arrowwidth": 1
          },
          "autotypenumbers": "strict",
          "coloraxis": {
           "colorbar": {
            "outlinewidth": 0,
            "ticks": ""
           }
          },
          "colorscale": {
           "diverging": [
            [
             0,
             "#8e0152"
            ],
            [
             0.1,
             "#c51b7d"
            ],
            [
             0.2,
             "#de77ae"
            ],
            [
             0.3,
             "#f1b6da"
            ],
            [
             0.4,
             "#fde0ef"
            ],
            [
             0.5,
             "#f7f7f7"
            ],
            [
             0.6,
             "#e6f5d0"
            ],
            [
             0.7,
             "#b8e186"
            ],
            [
             0.8,
             "#7fbc41"
            ],
            [
             0.9,
             "#4d9221"
            ],
            [
             1,
             "#276419"
            ]
           ],
           "sequential": [
            [
             0,
             "#0d0887"
            ],
            [
             0.1111111111111111,
             "#46039f"
            ],
            [
             0.2222222222222222,
             "#7201a8"
            ],
            [
             0.3333333333333333,
             "#9c179e"
            ],
            [
             0.4444444444444444,
             "#bd3786"
            ],
            [
             0.5555555555555556,
             "#d8576b"
            ],
            [
             0.6666666666666666,
             "#ed7953"
            ],
            [
             0.7777777777777778,
             "#fb9f3a"
            ],
            [
             0.8888888888888888,
             "#fdca26"
            ],
            [
             1,
             "#f0f921"
            ]
           ],
           "sequentialminus": [
            [
             0,
             "#0d0887"
            ],
            [
             0.1111111111111111,
             "#46039f"
            ],
            [
             0.2222222222222222,
             "#7201a8"
            ],
            [
             0.3333333333333333,
             "#9c179e"
            ],
            [
             0.4444444444444444,
             "#bd3786"
            ],
            [
             0.5555555555555556,
             "#d8576b"
            ],
            [
             0.6666666666666666,
             "#ed7953"
            ],
            [
             0.7777777777777778,
             "#fb9f3a"
            ],
            [
             0.8888888888888888,
             "#fdca26"
            ],
            [
             1,
             "#f0f921"
            ]
           ]
          },
          "colorway": [
           "#636efa",
           "#EF553B",
           "#00cc96",
           "#ab63fa",
           "#FFA15A",
           "#19d3f3",
           "#FF6692",
           "#B6E880",
           "#FF97FF",
           "#FECB52"
          ],
          "font": {
           "color": "#2a3f5f"
          },
          "geo": {
           "bgcolor": "white",
           "lakecolor": "white",
           "landcolor": "#E5ECF6",
           "showlakes": true,
           "showland": true,
           "subunitcolor": "white"
          },
          "hoverlabel": {
           "align": "left"
          },
          "hovermode": "closest",
          "mapbox": {
           "style": "light"
          },
          "paper_bgcolor": "white",
          "plot_bgcolor": "#E5ECF6",
          "polar": {
           "angularaxis": {
            "gridcolor": "white",
            "linecolor": "white",
            "ticks": ""
           },
           "bgcolor": "#E5ECF6",
           "radialaxis": {
            "gridcolor": "white",
            "linecolor": "white",
            "ticks": ""
           }
          },
          "scene": {
           "xaxis": {
            "backgroundcolor": "#E5ECF6",
            "gridcolor": "white",
            "gridwidth": 2,
            "linecolor": "white",
            "showbackground": true,
            "ticks": "",
            "zerolinecolor": "white"
           },
           "yaxis": {
            "backgroundcolor": "#E5ECF6",
            "gridcolor": "white",
            "gridwidth": 2,
            "linecolor": "white",
            "showbackground": true,
            "ticks": "",
            "zerolinecolor": "white"
           },
           "zaxis": {
            "backgroundcolor": "#E5ECF6",
            "gridcolor": "white",
            "gridwidth": 2,
            "linecolor": "white",
            "showbackground": true,
            "ticks": "",
            "zerolinecolor": "white"
           }
          },
          "shapedefaults": {
           "line": {
            "color": "#2a3f5f"
           }
          },
          "ternary": {
           "aaxis": {
            "gridcolor": "white",
            "linecolor": "white",
            "ticks": ""
           },
           "baxis": {
            "gridcolor": "white",
            "linecolor": "white",
            "ticks": ""
           },
           "bgcolor": "#E5ECF6",
           "caxis": {
            "gridcolor": "white",
            "linecolor": "white",
            "ticks": ""
           }
          },
          "title": {
           "x": 0.05
          },
          "xaxis": {
           "automargin": true,
           "gridcolor": "white",
           "linecolor": "white",
           "ticks": "",
           "title": {
            "standoff": 15
           },
           "zerolinecolor": "white",
           "zerolinewidth": 2
          },
          "yaxis": {
           "automargin": true,
           "gridcolor": "white",
           "linecolor": "white",
           "ticks": "",
           "title": {
            "standoff": 15
           },
           "zerolinecolor": "white",
           "zerolinewidth": 2
          }
         }
        },
        "title": {
         "text": "Abaque de Smith"
        }
       }
      }
     },
     "metadata": {},
     "output_type": "display_data"
    },
    {
     "data": {
      "image/png": "[encoded data removed]",
      "text/plain": [
       "<Figure size 1200x741.641 with 1 Axes>"
      ]
     },
     "metadata": {},
     "output_type": "display_data"
    },
    {
     "name": "stdout",
     "output_type": "stream",
     "text": [
      "\n",
      "Résultats de simulation :\n",
      "→ Fréquence de résonance = 70.50 MHz\n",
      "→ Impédance à f_res      = 70.18-5.97j Ω\n"
     ]
    },
    {
     "data": {
      "image/png": "[encoded data removed]",
      "text/plain": [
       "<Figure size 1200x741.641 with 1 Axes>"
      ]
     },
     "metadata": {},
     "output_type": "display_data"
    }
   ],
   "source": [
    "f_resonance, s11_db, R_res, X_res = frequency_sweep(radiate_strip_mat_gmsh, 60e6, 75e6, 90e6, feed_point)\n",
    "plot_s11_curve(s11_db, 60e6, 90e6)"
   ]
  },
  {
   "cell_type": "code",
   "execution_count": 5,
   "metadata": {},
   "outputs": [],
   "source": [
    "# Charger les données CST\n",
    "cst_data_1 = np.loadtxt(\"data/plot_file/Plot_S11_strip.txt\", skiprows=3)\n",
    "cst_freq_mhz = cst_data_1[:, 0]  # fréquence déjà en MHz\n",
    "cst_s11_db = cst_data_1[:, 1]"
   ]
  },
  {
   "cell_type": "code",
   "execution_count": 6,
   "metadata": {},
   "outputs": [
    {
     "data": {
      "image/png": "[encoded data removed]",
      "text/plain": [
       "<Figure size 1200x741.641 with 1 Axes>"
      ]
     },
     "metadata": {},
     "output_type": "display_data"
    }
   ],
   "source": [
    "plot_s11_curve_CST_MoM(s11_db, 60e6, 90e6, cst_freq_mhz=cst_freq_mhz, cst_s11_db=cst_s11_db)"
   ]
  }
 ],
 "metadata": {
  "kernelspec": {
   "display_name": "antenna_solver",
   "language": "python",
   "name": "python3"
  },
  "language_info": {
   "codemirror_mode": {
    "name": "ipython",
    "version": 3
   },
   "file_extension": ".py",
   "mimetype": "text/x-python",
   "name": "python",
   "nbconvert_exporter": "python",
   "pygments_lexer": "ipython3",
   "version": "3.12.9"
  }
 },
 "nbformat": 4,
 "nbformat_minor": 2
}
