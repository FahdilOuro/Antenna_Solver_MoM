{
 "cells": [
  {
   "cell_type": "code",
   "execution_count": 5,
   "id": "69fed607",
   "metadata": {},
   "outputs": [],
   "source": [
    "from utils.gmsh_function import *\n",
    "from src.radiation_algorithm.radiation_algorithm import *"
   ]
  },
  {
   "cell_type": "code",
   "execution_count": 6,
   "id": "78dc4cc2",
   "metadata": {},
   "outputs": [],
   "source": [
    "mesh_name = \"bowtie_2.msh\"\n",
    "save_mesh_folder = 'data/gmsh_files/'\n",
    "bowtie_2_mat = 'data/antennas_mesh/bowtie_2.mat'\n",
    "bowtie_2_msh = save_mesh_folder + mesh_name"
   ]
  },
  {
   "cell_type": "code",
   "execution_count": 7,
   "id": "aaf25544",
   "metadata": {},
   "outputs": [
    {
     "name": "stdout",
     "output_type": "stream",
     "text": [
      "The .msh file was successfully saved to: 'data/gmsh_files/bowtie_2.msh'\n",
      "matlab file stored in data/antennas_mesh/bowtie_2.mat successfully\n"
     ]
    }
   ],
   "source": [
    "gmsh.initialize()\n",
    "\n",
    "model_name  = \"bowtie_antenna_2\"\n",
    "gmsh.model.add(model_name)\n",
    "\n",
    "feed_point = [0, 0, 0]\n",
    "widht=4\n",
    "high=2\n",
    "lenght_feed=0.1\n",
    "\n",
    "p1 = gmsh.model.occ.addPoint(-widht/2, -high/2, 0)\n",
    "p2 = gmsh.model.occ.addPoint(-widht/2, high/2, 0)\n",
    "p3 = gmsh.model.occ.addPoint(0, lenght_feed/2, 0)\n",
    "p4 = gmsh.model.occ.addPoint(widht/2, high/2, 0)\n",
    "p5 = gmsh.model.occ.addPoint(widht/2, -high/2, 0)\n",
    "p6 = gmsh.model.occ.addPoint(0, -lenght_feed/2, 0)\n",
    "l1 = gmsh.model.occ.addLine(p1, p2)\n",
    "l2 = gmsh.model.occ.addLine(p2, p3)\n",
    "l3 = gmsh.model.occ.addLine(p3, p4)\n",
    "l4 = gmsh.model.occ.addLine(p4, p5)\n",
    "l5 = gmsh.model.occ.addLine(p5, p6)\n",
    "l6 = gmsh.model.occ.addLine(p6, p1)\n",
    "cl = gmsh.model.occ.addCurveLoop([l1, l2, l3, l4, l5, l6])\n",
    "bowtie = gmsh.model.occ.addPlaneSurface([cl])\n",
    "\n",
    "apply_mesh_size(lenght_feed)\n",
    "\n",
    "gmsh.model.mesh.generate(2)\n",
    "\n",
    "run()\n",
    "\n",
    "write(save_mesh_folder, mesh_name)\n",
    "\n",
    "gmsh.finalize()\n",
    "\n",
    "extract_msh_to_mat(bowtie_2_msh, bowtie_2_mat)"
   ]
  }
 ],
 "metadata": {
  "kernelspec": {
   "display_name": "Python 3 (ipykernel)",
   "language": "python",
   "name": "python3"
  }
 },
 "nbformat": 4,
 "nbformat_minor": 5
}
