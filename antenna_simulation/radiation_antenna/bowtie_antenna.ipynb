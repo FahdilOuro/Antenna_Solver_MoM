{
 "cells": [
  {
   "cell_type": "code",
   "execution_count": 12,
   "metadata": {},
   "outputs": [],
   "source": [
    "from mesh.uniform_mesh.create_antenna_for_radiation import bowtie_gmsh\n",
    "from utils.gmsh_function import *"
   ]
  },
  {
   "cell_type": "code",
   "execution_count": 13,
   "metadata": {},
   "outputs": [],
   "source": [
    "# Paramètres de l'antenne Bowtie\n",
    "width = 2   # Largeur totale\n",
    "hight = 4   # Hauteur totale\n",
    "width_finite = 20 / 100   # Largeur de la ligne d'alimentation\n",
    "mesh_size = 0.03\n",
    "mesh_name = \"radiate_bowtie_gmsh.msh\"\n",
    "save_mesh_folder = 'data/gmsh_files/'\n",
    "\n",
    "feed_point = [0, 0, 0]\n",
    "length_feed_edge = width_finite\n",
    "angle = 0"
   ]
  },
  {
   "cell_type": "code",
   "execution_count": 14,
   "metadata": {},
   "outputs": [
    {
     "name": "stdout",
     "output_type": "stream",
     "text": [
      "Json File saved to the path : data/json/feed_edge_info_radiate_bowtie_gmsh.json\n",
      "Ajout de feed_edge reussie ...!\n",
      "radiate_bowtie_gmsh.msh saved in data/gmsh_files/radiate_bowtie_gmsh.msh successfully\n"
     ]
    }
   ],
   "source": [
    "radiate_bowtie_msh_gmsh = bowtie_gmsh(width, hight, width_finite, mesh_name, feed_point, length_feed_edge, angle, save_mesh_folder, mesh_size)\n",
    "open_mesh(radiate_bowtie_msh_gmsh)"
   ]
  },
  {
   "cell_type": "code",
   "execution_count": 15,
   "metadata": {},
   "outputs": [
    {
     "name": "stdout",
     "output_type": "stream",
     "text": [
      "matlab file stored in data/antennas_mesh/radiate_bowtie_gmsh.mat successfully\n"
     ]
    }
   ],
   "source": [
    "radiate_bowtie_mat_gmsh = 'data/antennas_mesh/radiate_bowtie_gmsh.mat'\n",
    "extract_radiation_msh_to_mat(radiate_bowtie_msh_gmsh, mesh_name, radiate_bowtie_mat_gmsh)"
   ]
  }
 ],
 "metadata": {
  "kernelspec": {
   "display_name": "Python 3 (ipykernel)",
   "language": "python",
   "name": "python3"
  },
  "language_info": {
   "codemirror_mode": {
    "name": "ipython",
    "version": 3
   },
   "file_extension": ".py",
   "mimetype": "text/x-python",
   "name": "python",
   "nbconvert_exporter": "python",
   "pygments_lexer": "ipython3",
   "version": "3.13.0"
  }
 },
 "nbformat": 4,
 "nbformat_minor": 2
}
