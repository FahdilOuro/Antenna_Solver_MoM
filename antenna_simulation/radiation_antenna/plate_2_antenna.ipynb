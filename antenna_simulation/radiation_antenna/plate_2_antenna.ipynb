{
 "cells": [
  {
   "cell_type": "code",
   "execution_count": 1,
   "metadata": {},
   "outputs": [],
   "source": [
    "from mesh.uniform_mesh.create_antenna_for_radiation import plate_2_gmsh\n",
    "from utils.gmsh_function import *"
   ]
  },
  {
   "cell_type": "code",
   "execution_count": 2,
   "metadata": {},
   "outputs": [],
   "source": [
    "longueur = 1\n",
    "hauteur = 1\n",
    "mesh_name = \"radiate_plate_2_gmsh.msh\"\n",
    "save_mesh_folder = 'data/gmsh_files/'\n",
    "\n",
    "feed_point = [0.7, 0.2, 0]\n",
    "length_feed_edge = 0.07\n",
    "angle = math.pi / 3"
   ]
  },
  {
   "cell_type": "code",
   "execution_count": 3,
   "metadata": {},
   "outputs": [
    {
     "name": "stdout",
     "output_type": "stream",
     "text": [
      "Ajout de feed_edge reussie ...!\n",
      "radiate_plate_2_gmsh.msh saved in data/gmsh_files/radiate_plate_2_gmsh.msh successfully\n"
     ]
    }
   ],
   "source": [
    "radiate_plate_2_msh_gmsh = plate_2_gmsh(longueur, hauteur, mesh_name, feed_point, length_feed_edge, angle, save_mesh_folder)\n",
    "open_mesh(radiate_plate_2_msh_gmsh)"
   ]
  },
  {
   "cell_type": "code",
   "execution_count": 4,
   "metadata": {},
   "outputs": [
    {
     "name": "stdout",
     "output_type": "stream",
     "text": [
      "Nouveau fichier généré : data/antennas_mesh/radiate_plate_2_gmsh.mat\n"
     ]
    }
   ],
   "source": [
    "radiate_plate_2_mat_gmsh = 'data/antennas_mesh/radiate_plate_2_gmsh.mat'\n",
    "extract_radiation_msh_to_msh(radiate_plate_2_msh_gmsh, mesh_name, radiate_plate_2_mat_gmsh)"
   ]
  }
 ],
 "metadata": {
  "kernelspec": {
   "display_name": "Python 3 (ipykernel)",
   "language": "python",
   "name": "python3"
  },
  "language_info": {
   "codemirror_mode": {
    "name": "ipython",
    "version": 3
   },
   "file_extension": ".py",
   "mimetype": "text/x-python",
   "name": "python",
   "nbconvert_exporter": "python",
   "pygments_lexer": "ipython3",
   "version": "3.13.0"
  }
 },
 "nbformat": 4,
 "nbformat_minor": 2
}
