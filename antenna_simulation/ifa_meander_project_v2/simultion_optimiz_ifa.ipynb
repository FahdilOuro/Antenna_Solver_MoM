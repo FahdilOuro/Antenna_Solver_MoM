{
 "cells": [
  {
   "cell_type": "code",
   "execution_count": 1,
   "id": "93252699",
   "metadata": {},
   "outputs": [
    {
     "data": {
      "text/plain": [
       "'Ce fichier permet de simuller une antenne ifa avec les parametres optimisés obtenue du script ifa_meander_optimize.py'"
      ]
     },
     "execution_count": 1,
     "metadata": {},
     "output_type": "execute_result"
    }
   ],
   "source": [
    "\"Ce fichier permet de simuller une antenne ifa avec les parametres optimisés obtenue du script ifa_meander_optimize.py\""
   ]
  },
  {
   "cell_type": "code",
   "execution_count": 2,
   "id": "a6efb20a",
   "metadata": {},
   "outputs": [],
   "source": [
    "from utils.ifa_meander_project_v2.geometry import *\n",
    "from utils.ifa_meander_project_v2.meshing import *\n",
    "from utils.ifa_meander_project_v2.frequency import *\n",
    "from utils.ifa_meander_project_v2.simulation import *\n",
    "from utils.gmsh_function import extract_msh_to_mat\n",
    "from efield.efield4 import plot_s11_curve, plot_s11_curve_MoM_vs_Experiment, plot_s11_curve_CST_MoM"
   ]
  },
  {
   "cell_type": "code",
   "execution_count": null,
   "id": "19eaf20a",
   "metadata": {},
   "outputs": [
    {
     "name": "stdout",
     "output_type": "stream",
     "text": [
      "Number of frequencies (nPoints) : 101\n",
      "Index of fC : 34\n"
     ]
    }
   ],
   "source": [
    "fLow = 700e6\n",
    "fHigh = 1000e6\n",
    "fC = 868e6\n",
    "step = 2e6\n",
    "\n",
    "frequencies, fc_index, nPoints = generate_frequencies(fLow, fHigh, fC, step)\n",
    "\n",
    "print(f\"Number of frequencies (nPoints) : {nPoints}\")\n",
    "print(f\"Index of fC : {fc_index}\")"
   ]
  },
  {
   "cell_type": "code",
   "execution_count": 4,
   "id": "f28f88c4",
   "metadata": {},
   "outputs": [],
   "source": [
    "mesh_name = \"sim_optimize_ifa.msh\"\n",
    "save_mesh_folder = 'data/gmsh_files/'\n",
    "ifa_meander_mat = 'data/antennas_mesh/sim_optimize_ifa.mat'\n",
    "ifa_meander_msh = save_mesh_folder + mesh_name"
   ]
  },
  {
   "cell_type": "code",
   "execution_count": 5,
   "id": "7f62b396",
   "metadata": {},
   "outputs": [
    {
     "name": "stdout",
     "output_type": "stream",
     "text": [
      "Mesh size : 16.20 mm\n"
     ]
    }
   ],
   "source": [
    "a = 27 / 1000  # Width\n",
    "b = 55 / 1000  # Height\n",
    "\n",
    "terminal_a = 92 / 1000\n",
    "terminal_b = b\n",
    "x_t = np.array([-terminal_a + a, 0, 0, -terminal_a + a])\n",
    "y_t = np.array([terminal_b, terminal_b, 0, 0])\n",
    "\n",
    "# Fix the short feed and track width\n",
    "largeur_piste    = 5.400 / 1000\n",
    "distance_meandre = 8.100 / 1000\n",
    "feed = 33.552 / 1000\n",
    "feed_point = np.array([0, feed, 0])\n",
    "\n",
    "# mesh_size = 21.16 / 1000\n",
    "# mesh_size = 16.20 / 1000\n",
    "# mesh_size = 8.7 / 1000\n",
    "\n",
    "mesh_size = 3 * largeur_piste\n",
    "print(f\"Mesh size : {mesh_size * 1000:.2f} mm\")"
   ]
  },
  {
   "cell_type": "code",
   "execution_count": 6,
   "id": "53d379fc",
   "metadata": {},
   "outputs": [],
   "source": [
    "def creation_ifa(largeur, hauteur, width, dist_meandre, feed, x_t, y_t, save_mesh_folder, mesh_name, mesh_size):\n",
    "    x, y, N, distance_meandre = ifa_creation(largeur, hauteur, width, dist_meandre)\n",
    "    x_m, y_m = trace_meander(x, y, width)\n",
    "    feed_wid = width # The track width is the same everywhere\n",
    "    feed_x = np.array([0, distance_meandre, distance_meandre, 0])\n",
    "    feed_y = np.array([feed + feed_wid/2, feed + feed_wid/2, feed -feed_wid/2, feed - feed_wid/2])\n",
    "    antenna_ifa_meander(x_m, y_m, x_t, y_t, feed_x, feed_y, save_mesh_folder, mesh_name, mesh_size)\n",
    "    extract_msh_to_mat(ifa_meander_msh, ifa_meander_mat)\n",
    "    return N, distance_meandre"
   ]
  },
  {
   "cell_type": "code",
   "execution_count": 7,
   "id": "92c05b37",
   "metadata": {},
   "outputs": [
    {
     "name": "stdout",
     "output_type": "stream",
     "text": [
      "distance meandres 8.1 mm\n",
      "IFA track width 5.4 mm\n",
      "feed position = 33.552 mm\n",
      "\n",
      "Number of meanders 2\n",
      "New meander distance 8.1 mm\n",
      "Simulation 1/101 | f = 800.00 MHz | S11 = -3.81 dB\n",
      "Simulation 2/101 | f = 802.00 MHz | S11 = -3.97 dB\n",
      "Simulation 3/101 | f = 804.00 MHz | S11 = -4.13 dB\n",
      "Simulation 4/101 | f = 806.00 MHz | S11 = -4.31 dB\n",
      "Simulation 5/101 | f = 808.00 MHz | S11 = -4.49 dB\n",
      "Simulation 6/101 | f = 810.00 MHz | S11 = -4.68 dB\n",
      "Simulation 7/101 | f = 812.00 MHz | S11 = -4.88 dB\n",
      "Simulation 8/101 | f = 814.00 MHz | S11 = -5.09 dB\n",
      "Simulation 9/101 | f = 816.00 MHz | S11 = -5.31 dB\n",
      "Simulation 10/101 | f = 818.00 MHz | S11 = -5.55 dB\n",
      "Simulation 11/101 | f = 820.00 MHz | S11 = -5.80 dB\n",
      "Simulation 12/101 | f = 822.00 MHz | S11 = -6.06 dB\n",
      "Simulation 13/101 | f = 824.00 MHz | S11 = -6.33 dB\n",
      "Simulation 14/101 | f = 826.00 MHz | S11 = -6.62 dB\n",
      "Simulation 15/101 | f = 828.00 MHz | S11 = -6.93 dB\n",
      "Simulation 16/101 | f = 830.00 MHz | S11 = -7.25 dB\n",
      "Simulation 17/101 | f = 832.00 MHz | S11 = -7.60 dB\n",
      "Simulation 18/101 | f = 834.00 MHz | S11 = -7.96 dB\n",
      "Simulation 19/101 | f = 836.00 MHz | S11 = -8.35 dB\n",
      "Simulation 20/101 | f = 838.00 MHz | S11 = -8.76 dB\n",
      "Simulation 21/101 | f = 840.00 MHz | S11 = -9.20 dB\n",
      "Simulation 22/101 | f = 842.00 MHz | S11 = -9.68 dB\n",
      "Simulation 23/101 | f = 844.00 MHz | S11 = -10.18 dB\n",
      "Simulation 24/101 | f = 846.00 MHz | S11 = -10.72 dB\n",
      "Simulation 25/101 | f = 848.00 MHz | S11 = -11.31 dB\n",
      "Simulation 26/101 | f = 850.00 MHz | S11 = -11.94 dB\n",
      "Simulation 27/101 | f = 852.00 MHz | S11 = -12.63 dB\n",
      "Simulation 28/101 | f = 854.00 MHz | S11 = -13.38 dB\n",
      "Simulation 29/101 | f = 856.00 MHz | S11 = -14.21 dB\n",
      "Simulation 30/101 | f = 858.00 MHz | S11 = -15.14 dB\n",
      "Simulation 31/101 | f = 860.00 MHz | S11 = -16.17 dB\n",
      "Simulation 32/101 | f = 862.00 MHz | S11 = -17.34 dB\n",
      "Simulation 33/101 | f = 864.00 MHz | S11 = -18.70 dB\n",
      "Simulation 34/101 | f = 866.00 MHz | S11 = -20.30 dB\n"
     ]
    },
    {
     "data": {
      "application/vnd.plotly.v1+json": {
       "config": {
        "plotlyServerURL": "https://plot.ly"
       },
       "data": [
        {
         "facecolor": [
          "rgb(232, 239, 0)",
          "rgb(25, 0, 182)",
          "rgb(0, 11, 224)",
          "rgb(124, 0, 109)",
          "rgb(0, 100, 255)",
          "rgb(112, 0, 118)",
          "rgb(0, 120, 255)",
          "rgb(52, 0, 162)",
          "rgb(45, 255, 149)",
          "rgb(107, 0, 121)",
          "rgb(56, 0, 159)",
          "rgb(0, 109, 255)",
          "rgb(114, 0, 116)",
          "rgb(95, 0, 130)",
          "rgb(48, 0, 165)",
          "rgb(71, 0, 148)",
          "rgb(86, 0, 137)",
          "rgb(255, 219, 0)",
          "rgb(180, 249, 0)",
          "rgb(255, 185, 0)",
          "rgb(128, 0, 106)",
          "rgb(255, 170, 0)",
          "rgb(0, 24, 253)",
          "rgb(132, 0, 103)",
          "rgb(1, 155, 252)",
          "rgb(38, 241, 164)",
          "rgb(41, 247, 158)",
          "rgb(102, 0, 125)",
          "rgb(83, 255, 96)",
          "rgb(255, 0, 0)",
          "rgb(255, 164, 0)",
          "rgb(0, 124, 255)",
          "rgb(0, 138, 255)",
          "rgb(6, 165, 242)",
          "rgb(207, 244, 0)",
          "rgb(137, 255, 19)",
          "rgb(89, 0, 134)",
          "rgb(38, 241, 164)",
          "rgb(12, 180, 227)",
          "rgb(133, 0, 102)",
          "rgb(126, 0, 108)",
          "rgb(104, 0, 124)",
          "rgb(104, 0, 124)",
          "rgb(108, 0, 121)",
          "rgb(129, 0, 106)",
          "rgb(123, 0, 110)",
          "rgb(75, 0, 145)",
          "rgb(0, 11, 224)",
          "rgb(48, 0, 165)",
          "rgb(56, 0, 159)",
          "rgb(0, 3, 206)",
          "rgb(141, 0, 97)",
          "rgb(132, 0, 103)",
          "rgb(120, 0, 112)",
          "rgb(128, 0, 106)",
          "rgb(77, 0, 143)",
          "rgb(139, 0, 98)",
          "rgb(149, 0, 91)",
          "rgb(123, 0, 110)",
          "rgb(41, 0, 170)",
          "rgb(117, 0, 114)",
          "rgb(135, 0, 101)",
          "rgb(104, 0, 124)",
          "rgb(140, 0, 98)",
          "rgb(116, 0, 115)",
          "rgb(0, 10, 221)",
          "rgb(142, 0, 96)",
          "rgb(150, 0, 90)",
          "rgb(87, 0, 137)",
          "rgb(123, 0, 110)",
          "rgb(139, 0, 98)"
         ],
         "i": {
          "bdata": "CCcLKCcrJictLi8PLRMlLjENDAgoGRwyDgIeHBoYGR0OAQkJEgEbMykrMzUvKy81EC8iFSojKTEzFSkPLjITNjYtFDMSLBU=",
          "dtype": "i1"
         },
         "j": {
          "bdata": "ICUdKiYoBwAAJxAmLDAnJCMhICEwIR0qFwMfCh8CAh4HFyAfMAIeMTQsIysoNREDLyIvMzIzKiQWMjEALDA2FBMDNhUoKDQ=",
          "dtype": "i1"
         },
         "k": {
          "bdata": "DSYcKQ8sDi0DLREOLhIuJSQICRkqAhswAQAaCwkBGBsXGAgMKAAaNDEtMS0rLygiBQU1NDQENC4EFC4nKTYwMgY1BhYRKTI=",
          "dtype": "i1"
         },
         "name": "",
         "type": "mesh3d",
         "x": {
          "bdata": "AAAAAAAAAACC4seYu5aAP4Lix5i7loA/AAAAAAAAAACkcD0K16OwvwAAAAAAAAAApHA9CtejsL/ZzvdT46WLP9nO91PjpYs/rthfdk8elj+u2F92Tx6WP9nO91PjpZs/2c73U+Olmz+C4seYu5aAP4Lix5i7loA/AAAAAAAAAAAutMh2vp+Kvyi0yHa+n5q/IYcW2c73o781tMh2vp+qv6RwPQrXo7C/pHA9CtejsL+kcD0K16Owv9nO91PjpYs/2c73U+Oliz/ZzvdT46WLP67YX3ZPHpY/rthfdk8elj+u2F92Tx6WP9nO91PjpZs/2c73U+Olmz/ZzvdT46WbPxPgLZCg+JE/guLHmLuWgD8AAAAAAAAAAK62Yn/ZPam/EIxK6gQ0ob/hwmSqYFSSvyFtowG8BWK/ilOtDYwWhL9FTWKFShOgv/fVoanUdqK/zXmPolv2pb/ohKxU+eaSv/G8zlxaiJm/oX6viwfrib/hqwkNCLmav63ynerltoy/82AvA76Yp78TJMWpVU+kv6W6Hvaaxqu/ESNi125nrL8js/2jXwipv8YQSQnxBYO/r4gspaUsrb8=",
          "dtype": "f8"
         },
         "y": {
          "bdata": "Z0XURJ+Poj9nRdREn4+iP6OUEKyql58/o5QQrKqXnz8pXI/C9SisPwAAAAAAAAAAAAAAAAAAAAApXI/C9SisP6/YX3ZPHnY/r9hfdk8edj8pXI/C9SisPylcj8L1KKw/AAAAAAAAMDwAAAAAAAAwPBNhw9MrZak/E2HD0ytlqT8AAAAAAAAAAAAAAAAAAAAAAAAAAAAAAAAAAAAAAAAAABhcj8L1KIw/I1yPwvUonD8dhetRuB6lP+SDns2qz6U/P1dbsb/snj+1pnnHKTqSP7WmeccpOpI/P1dbsb/snj/mg57Nqs+lPyOF61G4HqU/L1yPwvUonD8vXI/C9SiMPwAAAAAAADA8o5QQrKqXjz+jlBCsqpePPylcj8L1KKw/KVyPwvUorD8pXI/C9SisPylcj8L1KKw/4FauysLppj9H5cyf6YyOP3tpMsAjSp4/cjmcGEZHlT/rDFBr4+6VP+0nVQtwYZw/yy49ITNcoD87h2oGp9ekP/umJuHUkoU/x8bKK50bhT+qtO9EVIamP4OVen2Ux5I/e2q4YPGZpT95eLGQaiCfP+r0Roq7gJY/0EqMdSD2fz8=",
          "dtype": "f8"
         },
         "z": {
          "bdata": "AAAAAAAAAAAAAAAAAAAAAAAAAAAAAAAAAAAAAAAAAAAAAAAAAAAAAAAAAAAAAAAAAAAAAAAAAAAAAAAAAAAAAAAAAAAAAAAAAAAAAAAAAAAAAAAAAAAAAAAAAAAAAAAAAAAAAAAAAAAAAAAAAAAAAAAAAAAAAAAAAAAAAAAAAAAAAAAAAAAAAAAAAAAAAAAAAAAAAAAAAAAAAAAAAAAAAAAAAAAAAAAAAAAAAAAAAAAAAAAAAAAAAAAAAAAAAAAAAAAAAAAAAAAAAAAAAAAAAAAAAAAAAAAAAAAAAAAAAAAAAAAAAAAAAAAAAAAAAAAAAAAAAAAAAAAAAAAAAAAAAAAAAAAAAAAAAAAAAAAAAAAAAAAAAAAAAAAAAAAAAAAAAAAAAAAAAAAAAAAAAAAAAAAAAAAAAAAAAAAAAAAAAAAAAAAAAAAAAAAAAAAAAAAAAAAAAAAAAAAAAAAAAAAAAAAAAAAAAAAAAAAAAAAAAAAAAAAAAAAAAAAAAAAAAAAAAAAAAAAAAAAAAAAAAAAAAAAAAAAAAAAAAAAAAAAAAAAAAAAAAAAAAAAAAAAAAAAAAAAAAAAAAAA=",
          "dtype": "f8"
         }
        },
        {
         "line": {
          "color": "rgb(50, 50, 50)",
          "width": 1.5
         },
         "mode": "lines",
         "showlegend": false,
         "type": "scatter3d",
         "x": [
          0.0135,
          0.01755000000000002,
          0.0081,
          0.0135,
          null,
          -0.009808630149260162,
          -0.01789999999999992,
          -0.002199999999999883,
          -0.009808630149260162,
          null,
          0.027,
          0.027,
          0.0216,
          0.027,
          null,
          -0.03139717939589074,
          -0.04289518699055215,
          -0.03606285639481748,
          -0.03139717939589074,
          null,
          -0.009808630149260162,
          -0.002199999999999883,
          0,
          -0.009808630149260162,
          null,
          -0.01845922068890085,
          -0.03139717939589074,
          -0.02493420783474404,
          -0.01845922068890085,
          null,
          -0.002199999999999883,
          0.0135,
          0.0081,
          -0.002199999999999883,
          null,
          -0.009808630149260162,
          0,
          -0.01265531439815898,
          -0.009808630149260162,
          null,
          -0.01265531439815898,
          0,
          0,
          -0.01265531439815898,
          null,
          -0.02609646396232879,
          -0.009808630149260162,
          -0.01265531439815898,
          -0.02609646396232879,
          null,
          -0.0140207254623815,
          -0.01299999999999998,
          -0.02599999999999994,
          -0.0140207254623815,
          null,
          0,
          -0.002199999999999883,
          0.0081,
          0,
          null,
          -0.01265531439815898,
          -0.02493420783474404,
          -0.02609646396232879,
          -0.01265531439815898,
          null,
          -0.05199999999999997,
          -0.04608720578079497,
          -0.03899999999999993,
          -0.05199999999999997,
          null,
          -0.01789999999999992,
          -0.009808630149260162,
          -0.02609646396232879,
          -0.01789999999999992,
          null,
          -0.02609646396232879,
          -0.03359999999999996,
          -0.01789999999999992,
          -0.02609646396232879,
          null,
          -0.0396677751292104,
          -0.0493,
          -0.03359999999999996,
          -0.0396677751292104,
          null,
          0.0081,
          0.0081,
          0.0135,
          0.0081,
          null,
          0.027,
          0.01755000000000002,
          0.0216,
          0.027,
          null,
          0.0135,
          0.0081,
          0.0135,
          0.0135,
          null,
          -0.03139717939589074,
          -0.04608720578079497,
          -0.04289518699055215,
          -0.03139717939589074,
          null,
          0.0135,
          0.0081,
          0.0081,
          0.0135,
          null,
          0.0216,
          0.027,
          0.0216,
          0.0216,
          null,
          -0.05424961332697834,
          -0.04289518699055215,
          -0.04608720578079497,
          -0.05424961332697834,
          null,
          0.0081,
          0.0135,
          0.0081,
          0.0081,
          null,
          0.0081,
          0,
          0,
          0.0081,
          null,
          0.027,
          0.027,
          0.0216,
          0.027,
          null,
          0.0216,
          0.0216,
          0.027,
          0.0216,
          null,
          0.0216,
          0.027,
          0.0216,
          0.0216,
          null,
          0.0135,
          0.0081,
          0.0081,
          0.0135,
          null,
          0.0135,
          0.0081,
          0.0135,
          0.0135,
          null,
          0.027,
          0.027,
          0.0216,
          0.027,
          null,
          0.0081,
          0.0135,
          0.0135,
          0.0081,
          null,
          0.0081,
          0.0135,
          0.0135,
          0.0081,
          null,
          0.0216,
          0.01755000000000002,
          0.0135,
          0.0216,
          null,
          0.0216,
          0.027,
          0.027,
          0.0216,
          null,
          -0.03899999999999993,
          -0.04608720578079497,
          -0.03139717939589074,
          -0.03899999999999993,
          null,
          0.0081,
          0.0081,
          0,
          0.0081,
          null,
          0.0216,
          0.027,
          0.0216,
          0.0216,
          null,
          -0.05547663096610312,
          -0.0396677751292104,
          -0.04889201046794358,
          -0.05547663096610312,
          null,
          -0.03606285639481748,
          -0.04889201046794358,
          -0.0396677751292104,
          -0.03606285639481748,
          null,
          -0.01845922068890085,
          -0.02493420783474404,
          -0.01265531439815898,
          -0.01845922068890085,
          null,
          -0.05547663096610312,
          -0.0493,
          -0.0396677751292104,
          -0.05547663096610312,
          null,
          -0.009288676353328983,
          -0.01845922068890085,
          -0.01265531439815898,
          -0.009288676353328983,
          null,
          -0.0140207254623815,
          -0.03139717939589074,
          -0.01845922068890085,
          -0.0140207254623815,
          null,
          -0.01845922068890085,
          -0.009288676353328983,
          -0.0140207254623815,
          -0.01845922068890085,
          null,
          -0.0140207254623815,
          -0.02599999999999994,
          -0.03139717939589074,
          -0.0140207254623815,
          null,
          -0.009288676353328983,
          0,
          0,
          -0.009288676353328983,
          null,
          -0.01299999999999998,
          -0.0140207254623815,
          0,
          -0.01299999999999998,
          null,
          -0.0140207254623815,
          0,
          0,
          -0.0140207254623815,
          null,
          0,
          -0.0140207254623815,
          -0.009288676353328983,
          0,
          null,
          -0.065,
          -0.05547663096610312,
          -0.04889201046794358,
          -0.065,
          null,
          -0.04289518699055215,
          -0.05424961332697834,
          -0.04889201046794358,
          -0.04289518699055215,
          null,
          -0.0493,
          -0.05547663096610312,
          -0.065,
          -0.0493,
          null,
          -0.03606285639481748,
          -0.04289518699055215,
          -0.04889201046794358,
          -0.03606285639481748,
          null,
          -0.0396677751292104,
          -0.03359999999999996,
          -0.02609646396232879,
          -0.0396677751292104,
          null,
          -0.05547663096610312,
          -0.065,
          -0.065,
          -0.05547663096610312,
          null,
          -0.065,
          -0.05424961332697834,
          -0.065,
          -0.065,
          null,
          -0.03606285639481748,
          -0.0396677751292104,
          -0.02609646396232879,
          -0.03606285639481748,
          null,
          0,
          0,
          -0.009808630149260162,
          0,
          null,
          -0.02609646396232879,
          -0.02493420783474404,
          -0.03606285639481748,
          -0.02609646396232879,
          null,
          -0.05424961332697834,
          -0.04608720578079497,
          -0.05698125497134875,
          -0.05424961332697834,
          null,
          -0.05199999999999997,
          -0.05698125497134875,
          -0.04608720578079497,
          -0.05199999999999997,
          null,
          -0.05698125497134875,
          -0.065,
          -0.05424961332697834,
          -0.05698125497134875,
          null,
          -0.05698125497134875,
          -0.05199999999999997,
          -0.065,
          -0.05698125497134875,
          null,
          -0.01265531439815898,
          0,
          -0.009288676353328983,
          -0.01265531439815898,
          null,
          -0.065,
          -0.05698125497134875,
          -0.065,
          -0.065,
          null,
          -0.05547663096610312,
          -0.065,
          -0.065,
          -0.05547663096610312,
          null,
          -0.03899999999999993,
          -0.03139717939589074,
          -0.02599999999999994,
          -0.03899999999999993,
          null,
          -0.02493420783474404,
          -0.03139717939589074,
          -0.03606285639481748,
          -0.02493420783474404,
          null,
          -0.065,
          -0.04889201046794358,
          -0.05424961332697834,
          -0.065,
          null
         ],
         "y": [
          0.005400000000000001,
          8.673617379884035e-19,
          8.673617379884035e-19,
          0.005400000000000001,
          null,
          0.04475220417149983,
          0.055,
          0.055,
          0.04475220417149983,
          null,
          0.055,
          0.04125000000000003,
          0.04260000000000001,
          0.055,
          null,
          0.01491720694467581,
          0.02077970051964812,
          0.0295796953256313,
          0.01491720694467581,
          null,
          0.04475220417149983,
          0.055,
          0.0496,
          0.04475220417149983,
          null,
          0.02141909925923084,
          0.01491720694467581,
          0.02771544522446583,
          0.02141909925923084,
          null,
          0.055,
          0.055,
          0.0496,
          0.055,
          null,
          0.04475220417149983,
          0.036252,
          0.0319534280848451,
          0.04475220417149983,
          null,
          0.0319534280848451,
          0.036252,
          0.030852,
          0.0319534280848451,
          null,
          0.04070779755899286,
          0.04475220417149983,
          0.0319534280848451,
          0.04070779755899286,
          null,
          0.01053396522623328,
          0,
          0,
          0.01053396522623328,
          null,
          0.0496,
          0.055,
          0.0496,
          0.0496,
          null,
          0.0319534280848451,
          0.02771544522446583,
          0.04070779755899286,
          0.0319534280848451,
          null,
          0,
          0.01030657567875738,
          0,
          0,
          null,
          0.055,
          0.04475220417149983,
          0.04070779755899286,
          0.055,
          null,
          0.04070779755899286,
          0.055,
          0.055,
          0.04070779755899286,
          null,
          0.04399360028751549,
          0.055,
          0.055,
          0.04399360028751549,
          null,
          8.673617379884035e-19,
          0.015426,
          0.005400000000000001,
          8.673617379884035e-19,
          null,
          8.673617379884035e-19,
          8.673617379884035e-19,
          0.005400000000000001,
          8.673617379884035e-19,
          null,
          0.005400000000000001,
          0.015426,
          0.0178,
          0.005400000000000001,
          null,
          0.01491720694467581,
          0.01030657567875738,
          0.02077970051964812,
          0.01491720694467581,
          null,
          0.0178,
          0.015426,
          0.030852,
          0.0178,
          null,
          0.04260000000000001,
          0.04125000000000003,
          0.0302,
          0.04260000000000001,
          null,
          0.01833946243154606,
          0.02077970051964812,
          0.01030657567875738,
          0.01833946243154606,
          null,
          0.0496,
          0.0426,
          0.036252,
          0.0496,
          null,
          0.030852,
          0.030852,
          0.036252,
          0.030852,
          null,
          0.02750000000000002,
          0.01375000000000001,
          0.0178,
          0.02750000000000002,
          null,
          0.04260000000000001,
          0.055,
          0.055,
          0.04260000000000001,
          null,
          0.0178,
          0.01375000000000001,
          0.005400000000000001,
          0.0178,
          null,
          0.0302,
          0.030852,
          0.036252,
          0.0302,
          null,
          0.0178,
          0.030852,
          0.0302,
          0.0178,
          null,
          0.04125000000000003,
          0.02750000000000002,
          0.0302,
          0.04125000000000003,
          null,
          0.0496,
          0.055,
          0.0426,
          0.0496,
          null,
          0.036252,
          0.0426,
          0.0302,
          0.036252,
          null,
          0.005400000000000001,
          8.673617379884035e-19,
          0.005400000000000001,
          0.005400000000000001,
          null,
          0.005400000000000001,
          0.01375000000000001,
          8.673617379884035e-19,
          0.005400000000000001,
          null,
          0,
          0.01030657567875738,
          0.01491720694467581,
          0,
          null,
          0.036252,
          0.030852,
          0.036252,
          0.036252,
          null,
          0.0302,
          0.02750000000000002,
          0.0178,
          0.0302,
          null,
          0.04219011598271024,
          0.04399360028751549,
          0.03039709575784186,
          0.04219011598271024,
          null,
          0.0295796953256313,
          0.03039709575784186,
          0.04399360028751549,
          0.0295796953256313,
          null,
          0.02141909925923084,
          0.02771544522446583,
          0.0319534280848451,
          0.02141909925923084,
          null,
          0.04219011598271024,
          0.055,
          0.04399360028751549,
          0.04219011598271024,
          null,
          0.02197545081593414,
          0.02141909925923084,
          0.0319534280848451,
          0.02197545081593414,
          null,
          0.01053396522623328,
          0.01491720694467581,
          0.02141909925923084,
          0.01053396522623328,
          null,
          0.02141909925923084,
          0.02197545081593414,
          0.01053396522623328,
          0.02141909925923084,
          null,
          0.01053396522623328,
          0,
          0.01491720694467581,
          0.01053396522623328,
          null,
          0.02197545081593414,
          0.030852,
          0.015426,
          0.02197545081593414,
          null,
          0,
          0.01053396522623328,
          0,
          0,
          null,
          0.01053396522623328,
          0.015426,
          0,
          0.01053396522623328,
          null,
          0.015426,
          0.01053396522623328,
          0.02197545081593414,
          0.015426,
          null,
          0.02749999999999998,
          0.04219011598271024,
          0.03039709575784186,
          0.02749999999999998,
          null,
          0.02077970051964812,
          0.01833946243154606,
          0.03039709575784186,
          0.02077970051964812,
          null,
          0.055,
          0.04219011598271024,
          0.055,
          0.055,
          null,
          0.0295796953256313,
          0.02077970051964812,
          0.03039709575784186,
          0.0295796953256313,
          null,
          0.04399360028751549,
          0.055,
          0.04070779755899286,
          0.04399360028751549,
          null,
          0.04219011598271024,
          0.04124999999999999,
          0.055,
          0.04219011598271024,
          null,
          0.02749999999999998,
          0.01833946243154606,
          0.01374999999999997,
          0.02749999999999998,
          null,
          0.0295796953256313,
          0.04399360028751549,
          0.04070779755899286,
          0.0295796953256313,
          null,
          0.0496,
          0.036252,
          0.04475220417149983,
          0.0496,
          null,
          0.04070779755899286,
          0.02771544522446583,
          0.0295796953256313,
          0.04070779755899286,
          null,
          0.01833946243154606,
          0.01030657567875738,
          0.00780308417667426,
          0.01833946243154606,
          null,
          0,
          0.00780308417667426,
          0.01030657567875738,
          0,
          null,
          0.00780308417667426,
          0.01374999999999997,
          0.01833946243154606,
          0.00780308417667426,
          null,
          0.00780308417667426,
          0,
          0,
          0.00780308417667426,
          null,
          0.0319534280848451,
          0.030852,
          0.02197545081593414,
          0.0319534280848451,
          null,
          0.01374999999999997,
          0.00780308417667426,
          0,
          0.01374999999999997,
          null,
          0.04219011598271024,
          0.02749999999999998,
          0.04124999999999999,
          0.04219011598271024,
          null,
          0,
          0.01491720694467581,
          0,
          0,
          null,
          0.02771544522446583,
          0.01491720694467581,
          0.0295796953256313,
          0.02771544522446583,
          null,
          0.02749999999999998,
          0.03039709575784186,
          0.01833946243154606,
          0.02749999999999998,
          null
         ],
         "z": [
          0,
          0,
          0,
          0,
          null,
          0,
          0,
          0,
          0,
          null,
          0,
          0,
          0,
          0,
          null,
          0,
          0,
          0,
          0,
          null,
          0,
          0,
          0,
          0,
          null,
          0,
          0,
          0,
          0,
          null,
          0,
          0,
          0,
          0,
          null,
          0,
          0,
          0,
          0,
          null,
          0,
          0,
          0,
          0,
          null,
          0,
          0,
          0,
          0,
          null,
          0,
          0,
          0,
          0,
          null,
          0,
          0,
          0,
          0,
          null,
          0,
          0,
          0,
          0,
          null,
          0,
          0,
          0,
          0,
          null,
          0,
          0,
          0,
          0,
          null,
          0,
          0,
          0,
          0,
          null,
          0,
          0,
          0,
          0,
          null,
          0,
          0,
          0,
          0,
          null,
          0,
          0,
          0,
          0,
          null,
          0,
          0,
          0,
          0,
          null,
          0,
          0,
          0,
          0,
          null,
          0,
          0,
          0,
          0,
          null,
          0,
          0,
          0,
          0,
          null,
          0,
          0,
          0,
          0,
          null,
          0,
          0,
          0,
          0,
          null,
          0,
          0,
          0,
          0,
          null,
          0,
          0,
          0,
          0,
          null,
          0,
          0,
          0,
          0,
          null,
          0,
          0,
          0,
          0,
          null,
          0,
          0,
          0,
          0,
          null,
          0,
          0,
          0,
          0,
          null,
          0,
          0,
          0,
          0,
          null,
          0,
          0,
          0,
          0,
          null,
          0,
          0,
          0,
          0,
          null,
          0,
          0,
          0,
          0,
          null,
          0,
          0,
          0,
          0,
          null,
          0,
          0,
          0,
          0,
          null,
          0,
          0,
          0,
          0,
          null,
          0,
          0,
          0,
          0,
          null,
          0,
          0,
          0,
          0,
          null,
          0,
          0,
          0,
          0,
          null,
          0,
          0,
          0,
          0,
          null,
          0,
          0,
          0,
          0,
          null,
          0,
          0,
          0,
          0,
          null,
          0,
          0,
          0,
          0,
          null,
          0,
          0,
          0,
          0,
          null,
          0,
          0,
          0,
          0,
          null,
          0,
          0,
          0,
          0,
          null,
          0,
          0,
          0,
          0,
          null,
          0,
          0,
          0,
          0,
          null,
          0,
          0,
          0,
          0,
          null,
          0,
          0,
          0,
          0,
          null,
          0,
          0,
          0,
          0,
          null,
          0,
          0,
          0,
          0,
          null,
          0,
          0,
          0,
          0,
          null,
          0,
          0,
          0,
          0,
          null,
          0,
          0,
          0,
          0,
          null,
          0,
          0,
          0,
          0,
          null,
          0,
          0,
          0,
          0,
          null,
          0,
          0,
          0,
          0,
          null,
          0,
          0,
          0,
          0,
          null,
          0,
          0,
          0,
          0,
          null,
          0,
          0,
          0,
          0,
          null,
          0,
          0,
          0,
          0,
          null,
          0,
          0,
          0,
          0,
          null,
          0,
          0,
          0,
          0,
          null,
          0,
          0,
          0,
          0,
          null,
          0,
          0,
          0,
          0,
          null,
          0,
          0,
          0,
          0,
          null,
          0,
          0,
          0,
          0,
          null,
          0,
          0,
          0,
          0,
          null
         ]
        },
        {
         "hoverinfo": "none",
         "marker": {
          "color": [
           0.015423428646082059,
           3.6489490515674876
          ],
          "colorscale": [
           [
            0,
            "rgb(150, 0, 90)"
           ],
           [
            0.125,
            "rgb(0, 0, 200)"
           ],
           [
            0.25,
            "rgb(0, 25, 255)"
           ],
           [
            0.375,
            "rgb(0, 152, 255)"
           ],
           [
            0.5,
            "rgb(44, 255, 150)"
           ],
           [
            0.625,
            "rgb(151, 255, 0)"
           ],
           [
            0.75,
            "rgb(255, 234, 0)"
           ],
           [
            0.875,
            "rgb(255, 111, 0)"
           ],
           [
            1,
            "rgb(255, 0, 0)"
           ]
          ],
          "showscale": true,
          "size": 0.1
         },
         "mode": "markers",
         "showlegend": false,
         "type": "scatter3d",
         "x": {
          "bdata": "AAAAAAAAAAA=",
          "dtype": "f8"
         },
         "y": {
          "bdata": "Z0XURJ+Poj8=",
          "dtype": "f8"
         },
         "z": {
          "bdata": "AAAAAAAAAAA=",
          "dtype": "f8"
         }
        },
        {
         "marker": {
          "color": "red",
          "size": 6,
          "symbol": "circle"
         },
         "mode": "markers+text",
         "name": "Feed Point(s)",
         "type": "scatter3d",
         "x": {
          "bdata": "AAAAAAAAAAA=",
          "dtype": "f8"
         },
         "y": {
          "bdata": "3EduTbotoT8=",
          "dtype": "f8"
         },
         "z": {
          "bdata": "AAAAAAAAAAA=",
          "dtype": "f8"
         }
        }
       ],
       "layout": {
        "height": 800,
        "legend": {
         "bgcolor": "rgba(255,255,255,0.7)",
         "bordercolor": "lightgray",
         "borderwidth": 1,
         "x": 0.2,
         "xanchor": "left",
         "y": 0.9,
         "yanchor": "top"
        },
        "scene": {
         "aspectratio": {
          "x": 1,
          "y": 0.5978260869565217,
          "z": 0.3
         },
         "camera": {
          "eye": {
           "x": 0.65,
           "y": 0.65,
           "z": 0.65
          }
         },
         "xaxis": {
          "backgroundcolor": "rgb(230, 230, 230)",
          "gridcolor": "rgb(255, 255, 255)",
          "showbackground": true,
          "zerolinecolor": "rgb(255, 255, 255)"
         },
         "yaxis": {
          "backgroundcolor": "rgb(230, 230, 230)",
          "gridcolor": "rgb(255, 255, 255)",
          "showbackground": true,
          "zerolinecolor": "rgb(255, 255, 255)"
         },
         "zaxis": {
          "backgroundcolor": "rgb(230, 230, 230)",
          "gridcolor": "rgb(255, 255, 255)",
          "showbackground": true,
          "zerolinecolor": "rgb(255, 255, 255)"
         }
        },
        "template": {
         "data": {
          "bar": [
           {
            "error_x": {
             "color": "#2a3f5f"
            },
            "error_y": {
             "color": "#2a3f5f"
            },
            "marker": {
             "line": {
              "color": "#E5ECF6",
              "width": 0.5
             },
             "pattern": {
              "fillmode": "overlay",
              "size": 10,
              "solidity": 0.2
             }
            },
            "type": "bar"
           }
          ],
          "barpolar": [
           {
            "marker": {
             "line": {
              "color": "#E5ECF6",
              "width": 0.5
             },
             "pattern": {
              "fillmode": "overlay",
              "size": 10,
              "solidity": 0.2
             }
            },
            "type": "barpolar"
           }
          ],
          "carpet": [
           {
            "aaxis": {
             "endlinecolor": "#2a3f5f",
             "gridcolor": "white",
             "linecolor": "white",
             "minorgridcolor": "white",
             "startlinecolor": "#2a3f5f"
            },
            "baxis": {
             "endlinecolor": "#2a3f5f",
             "gridcolor": "white",
             "linecolor": "white",
             "minorgridcolor": "white",
             "startlinecolor": "#2a3f5f"
            },
            "type": "carpet"
           }
          ],
          "choropleth": [
           {
            "colorbar": {
             "outlinewidth": 0,
             "ticks": ""
            },
            "type": "choropleth"
           }
          ],
          "contour": [
           {
            "colorbar": {
             "outlinewidth": 0,
             "ticks": ""
            },
            "colorscale": [
             [
              0,
              "#0d0887"
             ],
             [
              0.1111111111111111,
              "#46039f"
             ],
             [
              0.2222222222222222,
              "#7201a8"
             ],
             [
              0.3333333333333333,
              "#9c179e"
             ],
             [
              0.4444444444444444,
              "#bd3786"
             ],
             [
              0.5555555555555556,
              "#d8576b"
             ],
             [
              0.6666666666666666,
              "#ed7953"
             ],
             [
              0.7777777777777778,
              "#fb9f3a"
             ],
             [
              0.8888888888888888,
              "#fdca26"
             ],
             [
              1,
              "#f0f921"
             ]
            ],
            "type": "contour"
           }
          ],
          "contourcarpet": [
           {
            "colorbar": {
             "outlinewidth": 0,
             "ticks": ""
            },
            "type": "contourcarpet"
           }
          ],
          "heatmap": [
           {
            "colorbar": {
             "outlinewidth": 0,
             "ticks": ""
            },
            "colorscale": [
             [
              0,
              "#0d0887"
             ],
             [
              0.1111111111111111,
              "#46039f"
             ],
             [
              0.2222222222222222,
              "#7201a8"
             ],
             [
              0.3333333333333333,
              "#9c179e"
             ],
             [
              0.4444444444444444,
              "#bd3786"
             ],
             [
              0.5555555555555556,
              "#d8576b"
             ],
             [
              0.6666666666666666,
              "#ed7953"
             ],
             [
              0.7777777777777778,
              "#fb9f3a"
             ],
             [
              0.8888888888888888,
              "#fdca26"
             ],
             [
              1,
              "#f0f921"
             ]
            ],
            "type": "heatmap"
           }
          ],
          "histogram": [
           {
            "marker": {
             "pattern": {
              "fillmode": "overlay",
              "size": 10,
              "solidity": 0.2
             }
            },
            "type": "histogram"
           }
          ],
          "histogram2d": [
           {
            "colorbar": {
             "outlinewidth": 0,
             "ticks": ""
            },
            "colorscale": [
             [
              0,
              "#0d0887"
             ],
             [
              0.1111111111111111,
              "#46039f"
             ],
             [
              0.2222222222222222,
              "#7201a8"
             ],
             [
              0.3333333333333333,
              "#9c179e"
             ],
             [
              0.4444444444444444,
              "#bd3786"
             ],
             [
              0.5555555555555556,
              "#d8576b"
             ],
             [
              0.6666666666666666,
              "#ed7953"
             ],
             [
              0.7777777777777778,
              "#fb9f3a"
             ],
             [
              0.8888888888888888,
              "#fdca26"
             ],
             [
              1,
              "#f0f921"
             ]
            ],
            "type": "histogram2d"
           }
          ],
          "histogram2dcontour": [
           {
            "colorbar": {
             "outlinewidth": 0,
             "ticks": ""
            },
            "colorscale": [
             [
              0,
              "#0d0887"
             ],
             [
              0.1111111111111111,
              "#46039f"
             ],
             [
              0.2222222222222222,
              "#7201a8"
             ],
             [
              0.3333333333333333,
              "#9c179e"
             ],
             [
              0.4444444444444444,
              "#bd3786"
             ],
             [
              0.5555555555555556,
              "#d8576b"
             ],
             [
              0.6666666666666666,
              "#ed7953"
             ],
             [
              0.7777777777777778,
              "#fb9f3a"
             ],
             [
              0.8888888888888888,
              "#fdca26"
             ],
             [
              1,
              "#f0f921"
             ]
            ],
            "type": "histogram2dcontour"
           }
          ],
          "mesh3d": [
           {
            "colorbar": {
             "outlinewidth": 0,
             "ticks": ""
            },
            "type": "mesh3d"
           }
          ],
          "parcoords": [
           {
            "line": {
             "colorbar": {
              "outlinewidth": 0,
              "ticks": ""
             }
            },
            "type": "parcoords"
           }
          ],
          "pie": [
           {
            "automargin": true,
            "type": "pie"
           }
          ],
          "scatter": [
           {
            "fillpattern": {
             "fillmode": "overlay",
             "size": 10,
             "solidity": 0.2
            },
            "type": "scatter"
           }
          ],
          "scatter3d": [
           {
            "line": {
             "colorbar": {
              "outlinewidth": 0,
              "ticks": ""
             }
            },
            "marker": {
             "colorbar": {
              "outlinewidth": 0,
              "ticks": ""
             }
            },
            "type": "scatter3d"
           }
          ],
          "scattercarpet": [
           {
            "marker": {
             "colorbar": {
              "outlinewidth": 0,
              "ticks": ""
             }
            },
            "type": "scattercarpet"
           }
          ],
          "scattergeo": [
           {
            "marker": {
             "colorbar": {
              "outlinewidth": 0,
              "ticks": ""
             }
            },
            "type": "scattergeo"
           }
          ],
          "scattergl": [
           {
            "marker": {
             "colorbar": {
              "outlinewidth": 0,
              "ticks": ""
             }
            },
            "type": "scattergl"
           }
          ],
          "scattermap": [
           {
            "marker": {
             "colorbar": {
              "outlinewidth": 0,
              "ticks": ""
             }
            },
            "type": "scattermap"
           }
          ],
          "scattermapbox": [
           {
            "marker": {
             "colorbar": {
              "outlinewidth": 0,
              "ticks": ""
             }
            },
            "type": "scattermapbox"
           }
          ],
          "scatterpolar": [
           {
            "marker": {
             "colorbar": {
              "outlinewidth": 0,
              "ticks": ""
             }
            },
            "type": "scatterpolar"
           }
          ],
          "scatterpolargl": [
           {
            "marker": {
             "colorbar": {
              "outlinewidth": 0,
              "ticks": ""
             }
            },
            "type": "scatterpolargl"
           }
          ],
          "scatterternary": [
           {
            "marker": {
             "colorbar": {
              "outlinewidth": 0,
              "ticks": ""
             }
            },
            "type": "scatterternary"
           }
          ],
          "surface": [
           {
            "colorbar": {
             "outlinewidth": 0,
             "ticks": ""
            },
            "colorscale": [
             [
              0,
              "#0d0887"
             ],
             [
              0.1111111111111111,
              "#46039f"
             ],
             [
              0.2222222222222222,
              "#7201a8"
             ],
             [
              0.3333333333333333,
              "#9c179e"
             ],
             [
              0.4444444444444444,
              "#bd3786"
             ],
             [
              0.5555555555555556,
              "#d8576b"
             ],
             [
              0.6666666666666666,
              "#ed7953"
             ],
             [
              0.7777777777777778,
              "#fb9f3a"
             ],
             [
              0.8888888888888888,
              "#fdca26"
             ],
             [
              1,
              "#f0f921"
             ]
            ],
            "type": "surface"
           }
          ],
          "table": [
           {
            "cells": {
             "fill": {
              "color": "#EBF0F8"
             },
             "line": {
              "color": "white"
             }
            },
            "header": {
             "fill": {
              "color": "#C8D4E3"
             },
             "line": {
              "color": "white"
             }
            },
            "type": "table"
           }
          ]
         },
         "layout": {
          "annotationdefaults": {
           "arrowcolor": "#2a3f5f",
           "arrowhead": 0,
           "arrowwidth": 1
          },
          "autotypenumbers": "strict",
          "coloraxis": {
           "colorbar": {
            "outlinewidth": 0,
            "ticks": ""
           }
          },
          "colorscale": {
           "diverging": [
            [
             0,
             "#8e0152"
            ],
            [
             0.1,
             "#c51b7d"
            ],
            [
             0.2,
             "#de77ae"
            ],
            [
             0.3,
             "#f1b6da"
            ],
            [
             0.4,
             "#fde0ef"
            ],
            [
             0.5,
             "#f7f7f7"
            ],
            [
             0.6,
             "#e6f5d0"
            ],
            [
             0.7,
             "#b8e186"
            ],
            [
             0.8,
             "#7fbc41"
            ],
            [
             0.9,
             "#4d9221"
            ],
            [
             1,
             "#276419"
            ]
           ],
           "sequential": [
            [
             0,
             "#0d0887"
            ],
            [
             0.1111111111111111,
             "#46039f"
            ],
            [
             0.2222222222222222,
             "#7201a8"
            ],
            [
             0.3333333333333333,
             "#9c179e"
            ],
            [
             0.4444444444444444,
             "#bd3786"
            ],
            [
             0.5555555555555556,
             "#d8576b"
            ],
            [
             0.6666666666666666,
             "#ed7953"
            ],
            [
             0.7777777777777778,
             "#fb9f3a"
            ],
            [
             0.8888888888888888,
             "#fdca26"
            ],
            [
             1,
             "#f0f921"
            ]
           ],
           "sequentialminus": [
            [
             0,
             "#0d0887"
            ],
            [
             0.1111111111111111,
             "#46039f"
            ],
            [
             0.2222222222222222,
             "#7201a8"
            ],
            [
             0.3333333333333333,
             "#9c179e"
            ],
            [
             0.4444444444444444,
             "#bd3786"
            ],
            [
             0.5555555555555556,
             "#d8576b"
            ],
            [
             0.6666666666666666,
             "#ed7953"
            ],
            [
             0.7777777777777778,
             "#fb9f3a"
            ],
            [
             0.8888888888888888,
             "#fdca26"
            ],
            [
             1,
             "#f0f921"
            ]
           ]
          },
          "colorway": [
           "#636efa",
           "#EF553B",
           "#00cc96",
           "#ab63fa",
           "#FFA15A",
           "#19d3f3",
           "#FF6692",
           "#B6E880",
           "#FF97FF",
           "#FECB52"
          ],
          "font": {
           "color": "#2a3f5f"
          },
          "geo": {
           "bgcolor": "white",
           "lakecolor": "white",
           "landcolor": "#E5ECF6",
           "showlakes": true,
           "showland": true,
           "subunitcolor": "white"
          },
          "hoverlabel": {
           "align": "left"
          },
          "hovermode": "closest",
          "mapbox": {
           "style": "light"
          },
          "paper_bgcolor": "white",
          "plot_bgcolor": "#E5ECF6",
          "polar": {
           "angularaxis": {
            "gridcolor": "white",
            "linecolor": "white",
            "ticks": ""
           },
           "bgcolor": "#E5ECF6",
           "radialaxis": {
            "gridcolor": "white",
            "linecolor": "white",
            "ticks": ""
           }
          },
          "scene": {
           "xaxis": {
            "backgroundcolor": "#E5ECF6",
            "gridcolor": "white",
            "gridwidth": 2,
            "linecolor": "white",
            "showbackground": true,
            "ticks": "",
            "zerolinecolor": "white"
           },
           "yaxis": {
            "backgroundcolor": "#E5ECF6",
            "gridcolor": "white",
            "gridwidth": 2,
            "linecolor": "white",
            "showbackground": true,
            "ticks": "",
            "zerolinecolor": "white"
           },
           "zaxis": {
            "backgroundcolor": "#E5ECF6",
            "gridcolor": "white",
            "gridwidth": 2,
            "linecolor": "white",
            "showbackground": true,
            "ticks": "",
            "zerolinecolor": "white"
           }
          },
          "shapedefaults": {
           "line": {
            "color": "#2a3f5f"
           }
          },
          "ternary": {
           "aaxis": {
            "gridcolor": "white",
            "linecolor": "white",
            "ticks": ""
           },
           "baxis": {
            "gridcolor": "white",
            "linecolor": "white",
            "ticks": ""
           },
           "bgcolor": "#E5ECF6",
           "caxis": {
            "gridcolor": "white",
            "linecolor": "white",
            "ticks": ""
           }
          },
          "title": {
           "x": 0.05
          },
          "xaxis": {
           "automargin": true,
           "gridcolor": "white",
           "linecolor": "white",
           "ticks": "",
           "title": {
            "standoff": 15
           },
           "zerolinecolor": "white",
           "zerolinewidth": 2
          },
          "yaxis": {
           "automargin": true,
           "gridcolor": "white",
           "linecolor": "white",
           "ticks": "",
           "title": {
            "standoff": 15
           },
           "zerolinecolor": "white",
           "zerolinewidth": 2
          }
         }
        },
        "title": {
         "text": ""
        },
        "width": 800
       }
      }
     },
     "metadata": {},
     "output_type": "display_data"
    },
    {
     "name": "stdout",
     "output_type": "stream",
     "text": [
      "\n",
      "Image saved in PDF format: data/fig_image/sim_optimize_ifa_antenna_surface_current_in_radiation_mode.pdf\n",
      "\n",
      "Simulation 35/101 | f = 868.00 MHz | S11 = -22.23 dB\n",
      "Simulation 36/101 | f = 870.00 MHz | S11 = -24.66 dB\n",
      "Simulation 37/101 | f = 872.00 MHz | S11 = -27.82 dB\n",
      "Simulation 38/101 | f = 874.00 MHz | S11 = -31.75 dB\n",
      "Simulation 39/101 | f = 876.00 MHz | S11 = -33.41 dB\n",
      "Simulation 40/101 | f = 878.00 MHz | S11 = -29.99 dB\n",
      "Simulation 41/101 | f = 880.00 MHz | S11 = -26.40 dB\n",
      "Simulation 42/101 | f = 882.00 MHz | S11 = -23.66 dB\n",
      "Simulation 43/101 | f = 884.00 MHz | S11 = -21.54 dB\n",
      "Simulation 44/101 | f = 886.00 MHz | S11 = -19.83 dB\n",
      "Simulation 45/101 | f = 888.00 MHz | S11 = -18.40 dB\n",
      "Simulation 46/101 | f = 890.00 MHz | S11 = -17.19 dB\n",
      "Simulation 47/101 | f = 892.00 MHz | S11 = -16.14 dB\n",
      "Simulation 48/101 | f = 894.00 MHz | S11 = -15.21 dB\n",
      "Simulation 49/101 | f = 896.00 MHz | S11 = -14.38 dB\n",
      "Simulation 50/101 | f = 898.00 MHz | S11 = -13.64 dB\n",
      "Simulation 51/101 | f = 900.00 MHz | S11 = -12.96 dB\n",
      "Simulation 52/101 | f = 902.00 MHz | S11 = -12.34 dB\n",
      "Simulation 53/101 | f = 904.00 MHz | S11 = -11.78 dB\n",
      "Simulation 54/101 | f = 906.00 MHz | S11 = -11.26 dB\n",
      "Simulation 55/101 | f = 908.00 MHz | S11 = -10.77 dB\n",
      "Simulation 56/101 | f = 910.00 MHz | S11 = -10.33 dB\n",
      "Simulation 57/101 | f = 912.00 MHz | S11 = -9.91 dB\n",
      "Simulation 58/101 | f = 914.00 MHz | S11 = -9.52 dB\n",
      "Simulation 59/101 | f = 916.00 MHz | S11 = -9.15 dB\n",
      "Simulation 60/101 | f = 918.00 MHz | S11 = -8.81 dB\n",
      "Simulation 61/101 | f = 920.00 MHz | S11 = -8.49 dB\n",
      "Simulation 62/101 | f = 922.00 MHz | S11 = -8.18 dB\n",
      "Simulation 63/101 | f = 924.00 MHz | S11 = -7.90 dB\n",
      "Simulation 64/101 | f = 926.00 MHz | S11 = -7.63 dB\n",
      "Simulation 65/101 | f = 928.00 MHz | S11 = -7.37 dB\n",
      "Simulation 66/101 | f = 930.00 MHz | S11 = -7.13 dB\n",
      "Simulation 67/101 | f = 932.00 MHz | S11 = -6.89 dB\n",
      "Simulation 68/101 | f = 934.00 MHz | S11 = -6.68 dB\n",
      "Simulation 69/101 | f = 936.00 MHz | S11 = -6.47 dB\n",
      "Simulation 70/101 | f = 938.00 MHz | S11 = -6.27 dB\n",
      "Simulation 71/101 | f = 940.00 MHz | S11 = -6.08 dB\n",
      "Simulation 72/101 | f = 942.00 MHz | S11 = -5.90 dB\n",
      "Simulation 73/101 | f = 944.00 MHz | S11 = -5.73 dB\n",
      "Simulation 74/101 | f = 946.00 MHz | S11 = -5.56 dB\n",
      "Simulation 75/101 | f = 948.00 MHz | S11 = -5.40 dB\n",
      "Simulation 76/101 | f = 950.00 MHz | S11 = -5.25 dB\n",
      "Simulation 77/101 | f = 952.00 MHz | S11 = -5.11 dB\n",
      "Simulation 78/101 | f = 954.00 MHz | S11 = -4.97 dB\n",
      "Simulation 79/101 | f = 956.00 MHz | S11 = -4.84 dB\n",
      "Simulation 80/101 | f = 958.00 MHz | S11 = -4.71 dB\n",
      "Simulation 81/101 | f = 960.00 MHz | S11 = -4.59 dB\n",
      "Simulation 82/101 | f = 962.00 MHz | S11 = -4.47 dB\n",
      "Simulation 83/101 | f = 964.00 MHz | S11 = -4.36 dB\n",
      "Simulation 84/101 | f = 966.00 MHz | S11 = -4.25 dB\n",
      "Simulation 85/101 | f = 968.00 MHz | S11 = -4.15 dB\n",
      "Simulation 86/101 | f = 970.00 MHz | S11 = -4.05 dB\n",
      "Simulation 87/101 | f = 972.00 MHz | S11 = -3.95 dB\n",
      "Simulation 88/101 | f = 974.00 MHz | S11 = -3.86 dB\n",
      "Simulation 89/101 | f = 976.00 MHz | S11 = -3.77 dB\n",
      "Simulation 90/101 | f = 978.00 MHz | S11 = -3.68 dB\n",
      "Simulation 91/101 | f = 980.00 MHz | S11 = -3.60 dB\n",
      "Simulation 92/101 | f = 982.00 MHz | S11 = -3.52 dB\n",
      "Simulation 93/101 | f = 984.00 MHz | S11 = -3.44 dB\n",
      "Simulation 94/101 | f = 986.00 MHz | S11 = -3.37 dB\n",
      "Simulation 95/101 | f = 988.00 MHz | S11 = -3.29 dB\n",
      "Simulation 96/101 | f = 990.00 MHz | S11 = -3.22 dB\n",
      "Simulation 97/101 | f = 992.00 MHz | S11 = -3.16 dB\n",
      "Simulation 98/101 | f = 994.00 MHz | S11 = -3.09 dB\n",
      "Simulation 99/101 | f = 996.00 MHz | S11 = -3.03 dB\n",
      "Simulation 100/101 | f = 998.00 MHz | S11 = -2.97 dB\n",
      "Simulation 101/101 | f = 1000.00 MHz | S11 = -2.91 dB\n"
     ]
    },
    {
     "data": {
      "application/vnd.plotly.v1+json": {
       "config": {
        "plotlyServerURL": "https://plot.ly"
       },
       "data": [
        {
         "hoverinfo": "text",
         "imag": [
          -2.1147554989452,
          -2.035689932316466,
          -1.9567853080607969,
          -1.878468748894839,
          -1.801068373768044,
          -1.7248327112182102,
          -1.6499464363747274,
          -1.576543110305501,
          -1.5047154829467189,
          -1.4345238200566421,
          -1.366002629841955,
          -1.2991660945145964,
          -1.2340124541965505,
          -1.1705275433535671,
          -1.1086876415717304,
          -1.0484617694137917,
          -0.9898135349842475,
          -0.9327026165708429,
          -0.8770859503910934,
          -0.8229186792990206,
          -0.7701549076842596,
          -0.718748299224714,
          -0.6686525472342514,
          -0.6198217417545671,
          -0.5722106530158414,
          -0.5257749472283366,
          -0.4804713476967575,
          -0.43625775183755056,
          -0.39309331272142095,
          -0.35093849216734946,
          -0.3097550911185511,
          -0.26950626197005745,
          -0.23015650665418078,
          -0.19167166358500487,
          -0.11716661363957048,
          -0.08108453976078911,
          -0.045743574279175775,
          -0.011115804680032202,
          0.02282554475759045,
          0.05610615461240008,
          0.08875065230560976,
          0.12078265397735864,
          0.15222480590946935,
          0.18309882522680315,
          0.21342553967322303,
          0.243224926310538,
          0.27251614903079263,
          0.30131759480622294,
          0.3296469086287462,
          0.35752102711364975,
          0.384956210758269,
          0.41196807486233245,
          0.43857161912591913,
          0.4647812559506195,
          0.49061083747460754,
          0.5160736813794271,
          0.5411825955060009,
          0.5659499013246507,
          0.590387456300174,
          0.6145066751977868,
          0.6383185503742275,
          0.6618336710973289,
          0.6850622419393495,
          0.7080141002845902,
          0.7306987329951824,
          0.7531252922737179,
          0.7753026107624776,
          0.7972392159170851,
          0.8189433436899164,
          0.8404229515588614,
          0.8616857309338242,
          0.8827391189729267,
          0.903590309838823,
          0.9242462654234,
          0.9447137255686987,
          0.9649992178099557,
          0.9851090666653144,
          1.0050494024960979,
          1.0248261699595034,
          1.0444451360751954,
          1.063911897925846,
          1.0832318900101685,
          1.1024103912672896,
          1.1214525317886928,
          1.140363299234505,
          1.159147544969112,
          1.1778099899308363,
          1.1963552302492806,
          1.2147877426234104,
          1.233111889472717,
          1.2513319238733493,
          1.269451994289759,
          1.287476149113045,
          1.305408341015687,
          1.3232524311315594,
          1.3410121930714274,
          1.3586913167809709,
          1.376293412250597,
          1.3938220130840597,
          1.4112805799332497
         ],
         "marker": {
          "color": "blue",
          "size": 4
         },
         "mode": "markers+lines",
         "name": "Impedance Points",
         "real": [
          3.0590439585868285,
          2.9125585063502384,
          2.7770366909689717,
          2.6515007338487573,
          2.535063906725958,
          2.4269236489357104,
          2.3263544989171314,
          2.2327011517376456,
          2.145371833405911,
          2.0638320999939,
          1.9875991139468174,
          1.916236413321792,
          1.8493491663108883,
          1.7865798891086382,
          1.7276045971026008,
          1.6721293554271595,
          1.6198871937067054,
          1.5706353503412276,
          1.5241528132651423,
          1.4802381262907867,
          1.4387074326124483,
          1.3993927296055324,
          1.3621403115694963,
          1.3268093794638625,
          1.2932707989203038,
          1.261405989872778,
          1.231105933011712,
          1.2022702799492242,
          1.1748065554897038,
          1.14862944173722,
          1.1236601349655462,
          1.0998257672271692,
          1.0770588856108292,
          1.0552969828784966,
          1.014560313234001,
          0.9954816487449417,
          0.9771995086826918,
          0.9596705175340224,
          0.942854238382317,
          0.9267129388286319,
          0.9112113781171661,
          0.8963166133357585,
          0.8819978227933767,
          0.8682261448829938,
          0.8549745309193791,
          0.8422176106019877,
          0.8299315688957846,
          0.8180940332488558,
          0.8066839701779921,
          0.795681590352647,
          0.7850682613964794,
          0.7748264277043474,
          0.7649395366424417,
          0.7553919705627307,
          0.7461689841179863,
          0.7372566464134658,
          0.728641787577409,
          0.7203119493700584,
          0.7122553394895297,
          0.7044607892628073,
          0.6969177144400753,
          0.6896160788366733,
          0.6825463605894138,
          0.6756995208163227,
          0.669066974486511,
          0.6626405633249307,
          0.6564125305920594,
          0.6503754975918399,
          0.6445224417750116,
          0.6388466763152061,
          0.6333418310464791,
          0.6280018346599814,
          0.6228208980656407,
          0.6177934988334154,
          0.6129143666348255,
          0.6081784696123197,
          0.6035810016099796,
          0.5991173702040484,
          0.5947831854769813,
          0.5905742494829527,
          0.5864865463568122,
          0.5825162330224988,
          0.5786596304597064,
          0.5749132154914638,
          0.5712736130574468,
          0.5677375889410469,
          0.564302042920113,
          0.5609640023138287,
          0.5577206159001864,
          0.554569148180143,
          0.5515069739664898,
          0.5485315732771083,
          0.5456405265133774,
          0.5428315099062241,
          0.5401022912134897,
          0.5374507256530515,
          0.5348747520578657,
          0.532372389239346,
          0.5299417325470044,
          0.5275809506127309
         ],
         "text": [
          "Z = 152.952-105.738j at 800.00 MHz",
          "Z = 145.628-101.784j at 802.00 MHz",
          "Z = 138.852-97.839j at 804.00 MHz",
          "Z = 132.575-93.923j at 806.00 MHz",
          "Z = 126.753-90.053j at 808.00 MHz",
          "Z = 121.346-86.242j at 810.00 MHz",
          "Z = 116.318-82.497j at 812.00 MHz",
          "Z = 111.635-78.827j at 814.00 MHz",
          "Z = 107.269-75.236j at 816.00 MHz",
          "Z = 103.192-71.726j at 818.00 MHz",
          "Z = 99.380-68.300j at 820.00 MHz",
          "Z = 95.812-64.958j at 822.00 MHz",
          "Z = 92.467-61.701j at 824.00 MHz",
          "Z = 89.329-58.526j at 826.00 MHz",
          "Z = 86.380-55.434j at 828.00 MHz",
          "Z = 83.606-52.423j at 830.00 MHz",
          "Z = 80.994-49.491j at 832.00 MHz",
          "Z = 78.532-46.635j at 834.00 MHz",
          "Z = 76.208-43.854j at 836.00 MHz",
          "Z = 74.012-41.146j at 838.00 MHz",
          "Z = 71.935-38.508j at 840.00 MHz",
          "Z = 69.970-35.937j at 842.00 MHz",
          "Z = 68.107-33.433j at 844.00 MHz",
          "Z = 66.340-30.991j at 846.00 MHz",
          "Z = 64.664-28.611j at 848.00 MHz",
          "Z = 63.070-26.289j at 850.00 MHz",
          "Z = 61.555-24.024j at 852.00 MHz",
          "Z = 60.114-21.813j at 854.00 MHz",
          "Z = 58.740-19.655j at 856.00 MHz",
          "Z = 57.431-17.547j at 858.00 MHz",
          "Z = 56.183-15.488j at 860.00 MHz",
          "Z = 54.991-13.475j at 862.00 MHz",
          "Z = 53.853-11.508j at 864.00 MHz",
          "Z = 52.765-9.584j at 866.00 MHz",
          "Z = 50.728-5.858j at 870.00 MHz",
          "Z = 49.774-4.054j at 872.00 MHz",
          "Z = 48.860-2.287j at 874.00 MHz",
          "Z = 47.984-0.556j at 876.00 MHz",
          "Z = 47.143+1.141j at 878.00 MHz",
          "Z = 46.336+2.805j at 880.00 MHz",
          "Z = 45.561+4.438j at 882.00 MHz",
          "Z = 44.816+6.039j at 884.00 MHz",
          "Z = 44.100+7.611j at 886.00 MHz",
          "Z = 43.411+9.155j at 888.00 MHz",
          "Z = 42.749+10.671j at 890.00 MHz",
          "Z = 42.111+12.161j at 892.00 MHz",
          "Z = 41.497+13.626j at 894.00 MHz",
          "Z = 40.905+15.066j at 896.00 MHz",
          "Z = 40.334+16.482j at 898.00 MHz",
          "Z = 39.784+17.876j at 900.00 MHz",
          "Z = 39.253+19.248j at 902.00 MHz",
          "Z = 38.741+20.598j at 904.00 MHz",
          "Z = 38.247+21.929j at 906.00 MHz",
          "Z = 37.770+23.239j at 908.00 MHz",
          "Z = 37.308+24.531j at 910.00 MHz",
          "Z = 36.863+25.804j at 912.00 MHz",
          "Z = 36.432+27.059j at 914.00 MHz",
          "Z = 36.016+28.297j at 916.00 MHz",
          "Z = 35.613+29.519j at 918.00 MHz",
          "Z = 35.223+30.725j at 920.00 MHz",
          "Z = 34.846+31.916j at 922.00 MHz",
          "Z = 34.481+33.092j at 924.00 MHz",
          "Z = 34.127+34.253j at 926.00 MHz",
          "Z = 33.785+35.401j at 928.00 MHz",
          "Z = 33.453+36.535j at 930.00 MHz",
          "Z = 33.132+37.656j at 932.00 MHz",
          "Z = 32.821+38.765j at 934.00 MHz",
          "Z = 32.519+39.862j at 936.00 MHz",
          "Z = 32.226+40.947j at 938.00 MHz",
          "Z = 31.942+42.021j at 940.00 MHz",
          "Z = 31.667+43.084j at 942.00 MHz",
          "Z = 31.400+44.137j at 944.00 MHz",
          "Z = 31.141+45.180j at 946.00 MHz",
          "Z = 30.890+46.212j at 948.00 MHz",
          "Z = 30.646+47.236j at 950.00 MHz",
          "Z = 30.409+48.250j at 952.00 MHz",
          "Z = 30.179+49.255j at 954.00 MHz",
          "Z = 29.956+50.252j at 956.00 MHz",
          "Z = 29.739+51.241j at 958.00 MHz",
          "Z = 29.529+52.222j at 960.00 MHz",
          "Z = 29.324+53.196j at 962.00 MHz",
          "Z = 29.126+54.162j at 964.00 MHz",
          "Z = 28.933+55.121j at 966.00 MHz",
          "Z = 28.746+56.073j at 968.00 MHz",
          "Z = 28.564+57.018j at 970.00 MHz",
          "Z = 28.387+57.957j at 972.00 MHz",
          "Z = 28.215+58.890j at 974.00 MHz",
          "Z = 28.048+59.818j at 976.00 MHz",
          "Z = 27.886+60.739j at 978.00 MHz",
          "Z = 27.728+61.656j at 980.00 MHz",
          "Z = 27.575+62.567j at 982.00 MHz",
          "Z = 27.427+63.473j at 984.00 MHz",
          "Z = 27.282+64.374j at 986.00 MHz",
          "Z = 27.142+65.270j at 988.00 MHz",
          "Z = 27.005+66.163j at 990.00 MHz",
          "Z = 26.873+67.051j at 992.00 MHz",
          "Z = 26.744+67.935j at 994.00 MHz",
          "Z = 26.619+68.815j at 996.00 MHz",
          "Z = 26.497+69.691j at 998.00 MHz",
          "Z = 26.379+70.564j at 1000.00 MHz"
         ],
         "type": "scattersmith"
        },
        {
         "hoverinfo": "text",
         "imag": [
          -0.15401888598419505
         ],
         "marker": {
          "color": "red",
          "size": 10,
          "symbol": "circle"
         },
         "mode": "markers",
         "name": "fC=868.00 MHz, Z=51.72-7.70j",
         "real": [
          1.0344820739364837
         ],
         "text": [
          "Z = 51.724-7.701j at 868.00 MHz"
         ],
         "type": "scattersmith"
        }
       ],
       "layout": {
        "height": 618,
        "showlegend": true,
        "template": {
         "data": {
          "bar": [
           {
            "error_x": {
             "color": "#2a3f5f"
            },
            "error_y": {
             "color": "#2a3f5f"
            },
            "marker": {
             "line": {
              "color": "#E5ECF6",
              "width": 0.5
             },
             "pattern": {
              "fillmode": "overlay",
              "size": 10,
              "solidity": 0.2
             }
            },
            "type": "bar"
           }
          ],
          "barpolar": [
           {
            "marker": {
             "line": {
              "color": "#E5ECF6",
              "width": 0.5
             },
             "pattern": {
              "fillmode": "overlay",
              "size": 10,
              "solidity": 0.2
             }
            },
            "type": "barpolar"
           }
          ],
          "carpet": [
           {
            "aaxis": {
             "endlinecolor": "#2a3f5f",
             "gridcolor": "white",
             "linecolor": "white",
             "minorgridcolor": "white",
             "startlinecolor": "#2a3f5f"
            },
            "baxis": {
             "endlinecolor": "#2a3f5f",
             "gridcolor": "white",
             "linecolor": "white",
             "minorgridcolor": "white",
             "startlinecolor": "#2a3f5f"
            },
            "type": "carpet"
           }
          ],
          "choropleth": [
           {
            "colorbar": {
             "outlinewidth": 0,
             "ticks": ""
            },
            "type": "choropleth"
           }
          ],
          "contour": [
           {
            "colorbar": {
             "outlinewidth": 0,
             "ticks": ""
            },
            "colorscale": [
             [
              0,
              "#0d0887"
             ],
             [
              0.1111111111111111,
              "#46039f"
             ],
             [
              0.2222222222222222,
              "#7201a8"
             ],
             [
              0.3333333333333333,
              "#9c179e"
             ],
             [
              0.4444444444444444,
              "#bd3786"
             ],
             [
              0.5555555555555556,
              "#d8576b"
             ],
             [
              0.6666666666666666,
              "#ed7953"
             ],
             [
              0.7777777777777778,
              "#fb9f3a"
             ],
             [
              0.8888888888888888,
              "#fdca26"
             ],
             [
              1,
              "#f0f921"
             ]
            ],
            "type": "contour"
           }
          ],
          "contourcarpet": [
           {
            "colorbar": {
             "outlinewidth": 0,
             "ticks": ""
            },
            "type": "contourcarpet"
           }
          ],
          "heatmap": [
           {
            "colorbar": {
             "outlinewidth": 0,
             "ticks": ""
            },
            "colorscale": [
             [
              0,
              "#0d0887"
             ],
             [
              0.1111111111111111,
              "#46039f"
             ],
             [
              0.2222222222222222,
              "#7201a8"
             ],
             [
              0.3333333333333333,
              "#9c179e"
             ],
             [
              0.4444444444444444,
              "#bd3786"
             ],
             [
              0.5555555555555556,
              "#d8576b"
             ],
             [
              0.6666666666666666,
              "#ed7953"
             ],
             [
              0.7777777777777778,
              "#fb9f3a"
             ],
             [
              0.8888888888888888,
              "#fdca26"
             ],
             [
              1,
              "#f0f921"
             ]
            ],
            "type": "heatmap"
           }
          ],
          "histogram": [
           {
            "marker": {
             "pattern": {
              "fillmode": "overlay",
              "size": 10,
              "solidity": 0.2
             }
            },
            "type": "histogram"
           }
          ],
          "histogram2d": [
           {
            "colorbar": {
             "outlinewidth": 0,
             "ticks": ""
            },
            "colorscale": [
             [
              0,
              "#0d0887"
             ],
             [
              0.1111111111111111,
              "#46039f"
             ],
             [
              0.2222222222222222,
              "#7201a8"
             ],
             [
              0.3333333333333333,
              "#9c179e"
             ],
             [
              0.4444444444444444,
              "#bd3786"
             ],
             [
              0.5555555555555556,
              "#d8576b"
             ],
             [
              0.6666666666666666,
              "#ed7953"
             ],
             [
              0.7777777777777778,
              "#fb9f3a"
             ],
             [
              0.8888888888888888,
              "#fdca26"
             ],
             [
              1,
              "#f0f921"
             ]
            ],
            "type": "histogram2d"
           }
          ],
          "histogram2dcontour": [
           {
            "colorbar": {
             "outlinewidth": 0,
             "ticks": ""
            },
            "colorscale": [
             [
              0,
              "#0d0887"
             ],
             [
              0.1111111111111111,
              "#46039f"
             ],
             [
              0.2222222222222222,
              "#7201a8"
             ],
             [
              0.3333333333333333,
              "#9c179e"
             ],
             [
              0.4444444444444444,
              "#bd3786"
             ],
             [
              0.5555555555555556,
              "#d8576b"
             ],
             [
              0.6666666666666666,
              "#ed7953"
             ],
             [
              0.7777777777777778,
              "#fb9f3a"
             ],
             [
              0.8888888888888888,
              "#fdca26"
             ],
             [
              1,
              "#f0f921"
             ]
            ],
            "type": "histogram2dcontour"
           }
          ],
          "mesh3d": [
           {
            "colorbar": {
             "outlinewidth": 0,
             "ticks": ""
            },
            "type": "mesh3d"
           }
          ],
          "parcoords": [
           {
            "line": {
             "colorbar": {
              "outlinewidth": 0,
              "ticks": ""
             }
            },
            "type": "parcoords"
           }
          ],
          "pie": [
           {
            "automargin": true,
            "type": "pie"
           }
          ],
          "scatter": [
           {
            "fillpattern": {
             "fillmode": "overlay",
             "size": 10,
             "solidity": 0.2
            },
            "type": "scatter"
           }
          ],
          "scatter3d": [
           {
            "line": {
             "colorbar": {
              "outlinewidth": 0,
              "ticks": ""
             }
            },
            "marker": {
             "colorbar": {
              "outlinewidth": 0,
              "ticks": ""
             }
            },
            "type": "scatter3d"
           }
          ],
          "scattercarpet": [
           {
            "marker": {
             "colorbar": {
              "outlinewidth": 0,
              "ticks": ""
             }
            },
            "type": "scattercarpet"
           }
          ],
          "scattergeo": [
           {
            "marker": {
             "colorbar": {
              "outlinewidth": 0,
              "ticks": ""
             }
            },
            "type": "scattergeo"
           }
          ],
          "scattergl": [
           {
            "marker": {
             "colorbar": {
              "outlinewidth": 0,
              "ticks": ""
             }
            },
            "type": "scattergl"
           }
          ],
          "scattermap": [
           {
            "marker": {
             "colorbar": {
              "outlinewidth": 0,
              "ticks": ""
             }
            },
            "type": "scattermap"
           }
          ],
          "scattermapbox": [
           {
            "marker": {
             "colorbar": {
              "outlinewidth": 0,
              "ticks": ""
             }
            },
            "type": "scattermapbox"
           }
          ],
          "scatterpolar": [
           {
            "marker": {
             "colorbar": {
              "outlinewidth": 0,
              "ticks": ""
             }
            },
            "type": "scatterpolar"
           }
          ],
          "scatterpolargl": [
           {
            "marker": {
             "colorbar": {
              "outlinewidth": 0,
              "ticks": ""
             }
            },
            "type": "scatterpolargl"
           }
          ],
          "scatterternary": [
           {
            "marker": {
             "colorbar": {
              "outlinewidth": 0,
              "ticks": ""
             }
            },
            "type": "scatterternary"
           }
          ],
          "surface": [
           {
            "colorbar": {
             "outlinewidth": 0,
             "ticks": ""
            },
            "colorscale": [
             [
              0,
              "#0d0887"
             ],
             [
              0.1111111111111111,
              "#46039f"
             ],
             [
              0.2222222222222222,
              "#7201a8"
             ],
             [
              0.3333333333333333,
              "#9c179e"
             ],
             [
              0.4444444444444444,
              "#bd3786"
             ],
             [
              0.5555555555555556,
              "#d8576b"
             ],
             [
              0.6666666666666666,
              "#ed7953"
             ],
             [
              0.7777777777777778,
              "#fb9f3a"
             ],
             [
              0.8888888888888888,
              "#fdca26"
             ],
             [
              1,
              "#f0f921"
             ]
            ],
            "type": "surface"
           }
          ],
          "table": [
           {
            "cells": {
             "fill": {
              "color": "#EBF0F8"
             },
             "line": {
              "color": "white"
             }
            },
            "header": {
             "fill": {
              "color": "#C8D4E3"
             },
             "line": {
              "color": "white"
             }
            },
            "type": "table"
           }
          ]
         },
         "layout": {
          "annotationdefaults": {
           "arrowcolor": "#2a3f5f",
           "arrowhead": 0,
           "arrowwidth": 1
          },
          "autotypenumbers": "strict",
          "coloraxis": {
           "colorbar": {
            "outlinewidth": 0,
            "ticks": ""
           }
          },
          "colorscale": {
           "diverging": [
            [
             0,
             "#8e0152"
            ],
            [
             0.1,
             "#c51b7d"
            ],
            [
             0.2,
             "#de77ae"
            ],
            [
             0.3,
             "#f1b6da"
            ],
            [
             0.4,
             "#fde0ef"
            ],
            [
             0.5,
             "#f7f7f7"
            ],
            [
             0.6,
             "#e6f5d0"
            ],
            [
             0.7,
             "#b8e186"
            ],
            [
             0.8,
             "#7fbc41"
            ],
            [
             0.9,
             "#4d9221"
            ],
            [
             1,
             "#276419"
            ]
           ],
           "sequential": [
            [
             0,
             "#0d0887"
            ],
            [
             0.1111111111111111,
             "#46039f"
            ],
            [
             0.2222222222222222,
             "#7201a8"
            ],
            [
             0.3333333333333333,
             "#9c179e"
            ],
            [
             0.4444444444444444,
             "#bd3786"
            ],
            [
             0.5555555555555556,
             "#d8576b"
            ],
            [
             0.6666666666666666,
             "#ed7953"
            ],
            [
             0.7777777777777778,
             "#fb9f3a"
            ],
            [
             0.8888888888888888,
             "#fdca26"
            ],
            [
             1,
             "#f0f921"
            ]
           ],
           "sequentialminus": [
            [
             0,
             "#0d0887"
            ],
            [
             0.1111111111111111,
             "#46039f"
            ],
            [
             0.2222222222222222,
             "#7201a8"
            ],
            [
             0.3333333333333333,
             "#9c179e"
            ],
            [
             0.4444444444444444,
             "#bd3786"
            ],
            [
             0.5555555555555556,
             "#d8576b"
            ],
            [
             0.6666666666666666,
             "#ed7953"
            ],
            [
             0.7777777777777778,
             "#fb9f3a"
            ],
            [
             0.8888888888888888,
             "#fdca26"
            ],
            [
             1,
             "#f0f921"
            ]
           ]
          },
          "colorway": [
           "#636efa",
           "#EF553B",
           "#00cc96",
           "#ab63fa",
           "#FFA15A",
           "#19d3f3",
           "#FF6692",
           "#B6E880",
           "#FF97FF",
           "#FECB52"
          ],
          "font": {
           "color": "#2a3f5f"
          },
          "geo": {
           "bgcolor": "white",
           "lakecolor": "white",
           "landcolor": "#E5ECF6",
           "showlakes": true,
           "showland": true,
           "subunitcolor": "white"
          },
          "hoverlabel": {
           "align": "left"
          },
          "hovermode": "closest",
          "mapbox": {
           "style": "light"
          },
          "paper_bgcolor": "white",
          "plot_bgcolor": "#E5ECF6",
          "polar": {
           "angularaxis": {
            "gridcolor": "white",
            "linecolor": "white",
            "ticks": ""
           },
           "bgcolor": "#E5ECF6",
           "radialaxis": {
            "gridcolor": "white",
            "linecolor": "white",
            "ticks": ""
           }
          },
          "scene": {
           "xaxis": {
            "backgroundcolor": "#E5ECF6",
            "gridcolor": "white",
            "gridwidth": 2,
            "linecolor": "white",
            "showbackground": true,
            "ticks": "",
            "zerolinecolor": "white"
           },
           "yaxis": {
            "backgroundcolor": "#E5ECF6",
            "gridcolor": "white",
            "gridwidth": 2,
            "linecolor": "white",
            "showbackground": true,
            "ticks": "",
            "zerolinecolor": "white"
           },
           "zaxis": {
            "backgroundcolor": "#E5ECF6",
            "gridcolor": "white",
            "gridwidth": 2,
            "linecolor": "white",
            "showbackground": true,
            "ticks": "",
            "zerolinecolor": "white"
           }
          },
          "shapedefaults": {
           "line": {
            "color": "#2a3f5f"
           }
          },
          "ternary": {
           "aaxis": {
            "gridcolor": "white",
            "linecolor": "white",
            "ticks": ""
           },
           "baxis": {
            "gridcolor": "white",
            "linecolor": "white",
            "ticks": ""
           },
           "bgcolor": "#E5ECF6",
           "caxis": {
            "gridcolor": "white",
            "linecolor": "white",
            "ticks": ""
           }
          },
          "title": {
           "x": 0.05
          },
          "xaxis": {
           "automargin": true,
           "gridcolor": "white",
           "linecolor": "white",
           "ticks": "",
           "title": {
            "standoff": 15
           },
           "zerolinecolor": "white",
           "zerolinewidth": 2
          },
          "yaxis": {
           "automargin": true,
           "gridcolor": "white",
           "linecolor": "white",
           "ticks": "",
           "title": {
            "standoff": 15
           },
           "zerolinecolor": "white",
           "zerolinewidth": 2
          }
         }
        },
        "title": {
         "text": ""
        },
        "width": 1000
       }
      }
     },
     "metadata": {},
     "output_type": "display_data"
    },
    {
     "name": "stdout",
     "output_type": "stream",
     "text": [
      "\n",
      "Image saved in PDF format (transparent background, minimal margins) : data/fig_image/ifa_M_opti3_Smith_chart.pdf\n",
      "\n",
      "\n",
      "📡 Simulation results:\n",
      "→ Resonance frequency = 876.00 MHz\n",
      "→ Impedance at f_res  = 47.98-0.56j Ω\n"
     ]
    },
    {
     "data": {
      "image/png": "[encoded data removed]",
      "text/plain": [
       "<Figure size 1200x741.641 with 1 Axes>"
      ]
     },
     "metadata": {},
     "output_type": "display_data"
    }
   ],
   "source": [
    "print(f\"distance meandres {distance_meandre * 1000} mm\")\n",
    "print(f\"IFA track width {largeur_piste * 1000} mm\")\n",
    "print(f\"feed position = {feed * 1000} mm\\n\")\n",
    "\n",
    "# Create the IFA antenna with meander\n",
    "N_list_elem, new_distance_meandre_elem = creation_ifa(a, b, largeur_piste, distance_meandre, feed, x_t, y_t, save_mesh_folder, mesh_name, mesh_size)\n",
    "\n",
    "print(f\"Number of meanders {N_list_elem}\")\n",
    "print(f\"New meander distance {new_distance_meandre_elem * 1000} mm\")\n",
    "\n",
    "# Simulate S11 and impedance at feed point\n",
    "frequence_resonance, s11_db, R_res, X_res = simulate(frequencies, ifa_meander_mat, fC, feed_point)\n",
    "\n",
    "# Plot S11 curve\n",
    "plot_s11_curve(s11_db, fLow, fHigh, fC)\n"
   ]
  },
  {
   "cell_type": "markdown",
   "id": "714100b2",
   "metadata": {},
   "source": [
    "# Load CST data\n",
    "cst_data_1 = np.loadtxt(\"data/plot_file/Plot_S11_Antenne_Ta_89_Tb_44_a_29.txt\", skiprows=3)\n",
    "# cst_data_1 = np.loadtxt(\"data/plot_file/Plot_S11_Antenne_Ta_92_Tb_55_a_27.txt\", skiprows=3)\n",
    "cst_freq_mhz = cst_data_1[:, 0]  # frequency already in MHz\n",
    "cst_s11_db = cst_data_1[:, 1]"
   ]
  },
  {
   "cell_type": "markdown",
   "id": "bede49a4",
   "metadata": {},
   "source": [
    "# Load S1P data\n",
    "s1p_data = np.loadtxt(\"data/plot_file/IFA_1.s1p\", comments='!', skiprows=5)\n",
    "Experimentation_freq_mhz = s1p_data[:, 0] / 1e6  # frequency in MHz\n",
    "Experimentation_s11_db = s1p_data[:, 1]\n",
    "\n",
    "# Mask between fLow and fHigh\n",
    "mask = (Experimentation_freq_mhz >= fLow / 1e6) & (Experimentation_freq_mhz <= fHigh / 1e6)\n",
    "Experimentation_freq_mhz = Experimentation_freq_mhz[mask]\n",
    "Experimentation_s11_db = Experimentation_s11_db[mask]\n",
    "\n",
    "# plot_s11_curve_CST_MoM(s11_db, fLow, fHigh, cst_freq_mhz=cst_freq_mhz, cst_s11_db=cst_s11_db)\n",
    "plot_s11_curve_MoM_vs_Experiment(s11_db, fLow, fHigh, s11_db_exp=Experimentation_s11_db, exp_freq_mhz=Experimentation_freq_mhz)\n"
   ]
  },
  {
   "cell_type": "code",
   "execution_count": 8,
   "id": "e5160651",
   "metadata": {},
   "outputs": [
    {
     "name": "stdout",
     "output_type": "stream",
     "text": [
      "Simulation 1/101 | f = 800.00 MHz | S11 = -3.81 dB\n",
      "Calculating radiation intensity distribution over sphere surface...\n",
      "\n",
      "Frequency = 800000000.0 Hz\n",
      "Wavelength lambda = 0.37469044247576155 m\n",
      "\n",
      "Total Power :  0.000572\n",
      "Gain Linear :  1.569386\n",
      "Gain Logarithmic (Max) :  1.957298 dBi\n",
      "\n",
      "gap_current = (0.0022118995384554033+0.0015291139242810405j)\n",
      "Radiation Resistance :  158.147592 Ohms\n",
      "Input Power (P_in) : 0.0007 W\n",
      "Total Efficiency : 0.8505\n",
      "Data saved successfully to data/antennas_gain_power/sim_optimize_ifa_gain_power.mat\n",
      "Generating antenna directivity pattern...\n",
      "Data loaded from data/antennas_gain_power/sim_optimize_ifa_gain_power.mat\n",
      "Data loaded from data/antennas_gain_power/sim_optimize_ifa_gain_power.mat\n",
      "Simulation 2/101 | f = 802.00 MHz | S11 = -3.97 dB\n",
      "Calculating radiation intensity distribution over sphere surface...\n",
      "\n",
      "Frequency = 802000000.0 Hz\n",
      "Wavelength lambda = 0.3737560523448993 m\n",
      "\n",
      "Total Power :  0.000596\n",
      "Gain Linear :  1.569857\n",
      "Gain Logarithmic (Max) :  1.958600 dBi\n",
      "\n",
      "gap_current = (0.002306606049634511+0.0016121683745832316j)\n",
      "Radiation Resistance :  150.576600 Ohms\n",
      "Input Power (P_in) : 0.0007 W\n",
      "Total Efficiency : 0.8475\n",
      "Data saved successfully to data/antennas_gain_power/sim_optimize_ifa_gain_power.mat\n",
      "Generating antenna directivity pattern...\n",
      "Data loaded from data/antennas_gain_power/sim_optimize_ifa_gain_power.mat\n",
      "Data loaded from data/antennas_gain_power/sim_optimize_ifa_gain_power.mat\n",
      "Simulation 3/101 | f = 804.00 MHz | S11 = -4.13 dB\n",
      "Calculating radiation intensity distribution over sphere surface...\n",
      "\n",
      "Frequency = 804000000.0 Hz\n",
      "Wavelength lambda = 0.37282631092115576 m\n",
      "\n",
      "Total Power :  0.000622\n",
      "Gain Linear :  1.570319\n",
      "Gain Logarithmic (Max) :  1.959879 dBi\n",
      "\n",
      "gap_current = (0.0024062479521225733+0.001695516179378215j)\n",
      "Radiation Resistance :  143.572173 Ohms\n",
      "Input Power (P_in) : 0.0007 W\n",
      "Total Efficiency : 0.8452\n",
      "Data saved successfully to data/antennas_gain_power/sim_optimize_ifa_gain_power.mat\n",
      "Generating antenna directivity pattern...\n",
      "Data loaded from data/antennas_gain_power/sim_optimize_ifa_gain_power.mat\n",
      "Data loaded from data/antennas_gain_power/sim_optimize_ifa_gain_power.mat\n",
      "Simulation 4/101 | f = 806.00 MHz | S11 = -4.31 dB\n",
      "Calculating radiation intensity distribution over sphere surface...\n",
      "\n",
      "Frequency = 806000000.0 Hz\n",
      "Wavelength lambda = 0.3719011835987708 m\n",
      "\n",
      "Total Power :  0.000649\n",
      "Gain Linear :  1.570774\n",
      "Gain Logarithmic (Max) :  1.961137 dBi\n",
      "\n",
      "gap_current = (0.0025111046274912904+0.0017790044361408299j)\n",
      "Radiation Resistance :  137.083787 Ohms\n",
      "Input Power (P_in) : 0.0008 W\n",
      "Total Efficiency : 0.8437\n",
      "Data saved successfully to data/antennas_gain_power/sim_optimize_ifa_gain_power.mat\n",
      "Generating antenna directivity pattern...\n",
      "Data loaded from data/antennas_gain_power/sim_optimize_ifa_gain_power.mat\n",
      "Data loaded from data/antennas_gain_power/sim_optimize_ifa_gain_power.mat\n",
      "Simulation 5/101 | f = 808.00 MHz | S11 = -4.49 dB\n",
      "Calculating radiation intensity distribution over sphere surface...\n",
      "\n",
      "Frequency = 808000000.0 Hz\n",
      "Wavelength lambda = 0.3709806361146154 m\n",
      "\n",
      "Total Power :  0.000678\n",
      "Gain Linear :  1.571221\n",
      "Gain Logarithmic (Max) :  1.962372 dBi\n",
      "\n",
      "gap_current = (0.002621468478189591+0.0018624555997859926j)\n",
      "Radiation Resistance :  131.065626 Ohms\n",
      "Input Power (P_in) : 0.0008 W\n",
      "Total Efficiency : 0.8429\n",
      "Data saved successfully to data/antennas_gain_power/sim_optimize_ifa_gain_power.mat\n",
      "Generating antenna directivity pattern...\n",
      "Data loaded from data/antennas_gain_power/sim_optimize_ifa_gain_power.mat\n",
      "Data loaded from data/antennas_gain_power/sim_optimize_ifa_gain_power.mat\n",
      "Simulation 6/101 | f = 810.00 MHz | S11 = -4.68 dB\n",
      "Calculating radiation intensity distribution over sphere surface...\n",
      "\n",
      "Frequency = 810000000.0 Hz\n",
      "Wavelength lambda = 0.37006463454396205 m\n",
      "\n",
      "Total Power :  0.000708\n",
      "Gain Linear :  1.571660\n",
      "Gain Logarithmic (Max) :  1.963585 dBi\n",
      "\n",
      "gap_current = (0.002737644590913693+0.0019456643987000924j)\n",
      "Radiation Resistance :  125.476218 Ohms\n",
      "Input Power (P_in) : 0.0008 W\n",
      "Total Efficiency : 0.8429\n",
      "Data saved successfully to data/antennas_gain_power/sim_optimize_ifa_gain_power.mat\n",
      "Generating antenna directivity pattern...\n",
      "Data loaded from data/antennas_gain_power/sim_optimize_ifa_gain_power.mat\n",
      "Data loaded from data/antennas_gain_power/sim_optimize_ifa_gain_power.mat\n",
      "Simulation 7/101 | f = 812.00 MHz | S11 = -4.88 dB\n",
      "Calculating radiation intensity distribution over sphere surface...\n",
      "\n",
      "Frequency = 812000000.0 Hz\n",
      "Wavelength lambda = 0.3691531452963168 m\n",
      "\n",
      "Total Power :  0.000739\n",
      "Gain Linear :  1.572091\n",
      "Gain Logarithmic (Max) :  1.964776 dBi\n",
      "\n",
      "gap_current = (0.0028599501227696135+0.002028394432348841j)\n",
      "Radiation Resistance :  120.278078 Ohms\n",
      "Input Power (P_in) : 0.0009 W\n",
      "Total Efficiency : 0.8434\n",
      "Data saved successfully to data/antennas_gain_power/sim_optimize_ifa_gain_power.mat\n",
      "Generating antenna directivity pattern...\n",
      "Data loaded from data/antennas_gain_power/sim_optimize_ifa_gain_power.mat\n",
      "Data loaded from data/antennas_gain_power/sim_optimize_ifa_gain_power.mat\n",
      "Simulation 8/101 | f = 814.00 MHz | S11 = -5.09 dB\n",
      "Calculating radiation intensity distribution over sphere surface...\n",
      "\n",
      "Frequency = 814000000.0 Hz\n",
      "Wavelength lambda = 0.36824613511131354 m\n",
      "\n",
      "Total Power :  0.000773\n",
      "Gain Linear :  1.572513\n",
      "Gain Logarithmic (Max) :  1.965944 dBi\n",
      "\n",
      "gap_current = (0.002988713343790444+0.002110374434645612j)\n",
      "Radiation Resistance :  115.437342 Ohms\n",
      "Input Power (P_in) : 0.0009 W\n",
      "Total Efficiency : 0.8447\n",
      "Data saved successfully to data/antennas_gain_power/sim_optimize_ifa_gain_power.mat\n",
      "Generating antenna directivity pattern...\n",
      "Data loaded from data/antennas_gain_power/sim_optimize_ifa_gain_power.mat\n",
      "Data loaded from data/antennas_gain_power/sim_optimize_ifa_gain_power.mat\n",
      "Simulation 9/101 | f = 816.00 MHz | S11 = -5.31 dB\n",
      "Calculating radiation intensity distribution over sphere surface...\n",
      "\n",
      "Frequency = 816000000.0 Hz\n",
      "Wavelength lambda = 0.3673435710546682 m\n",
      "\n",
      "Total Power :  0.000808\n",
      "Gain Linear :  1.572928\n",
      "Gain Logarithmic (Max) :  1.967089 dBi\n",
      "\n",
      "gap_current = (0.0031242722575214685+0.002191294192284654j)\n",
      "Radiation Resistance :  110.923433 Ohms\n",
      "Input Power (P_in) : 0.0010 W\n",
      "Total Efficiency : 0.8466\n",
      "Data saved successfully to data/antennas_gain_power/sim_optimize_ifa_gain_power.mat\n",
      "Generating antenna directivity pattern...\n",
      "Data loaded from data/antennas_gain_power/sim_optimize_ifa_gain_power.mat\n",
      "Data loaded from data/antennas_gain_power/sim_optimize_ifa_gain_power.mat\n",
      "Simulation 10/101 | f = 818.00 MHz | S11 = -5.55 dB\n",
      "Calculating radiation intensity distribution over sphere surface...\n",
      "\n",
      "Frequency = 818000000.0 Hz\n",
      "Wavelength lambda = 0.3664454205141922 m\n",
      "\n",
      "Total Power :  0.000845\n",
      "Gain Linear :  1.573335\n",
      "Gain Logarithmic (Max) :  1.968211 dBi\n",
      "\n",
      "gap_current = (0.0032669727081634796+0.002270800114674697j)\n",
      "Radiation Resistance :  106.708732 Ohms\n",
      "Input Power (P_in) : 0.0010 W\n",
      "Total Efficiency : 0.8491\n",
      "Data saved successfully to data/antennas_gain_power/sim_optimize_ifa_gain_power.mat\n",
      "Generating antenna directivity pattern...\n",
      "Data loaded from data/antennas_gain_power/sim_optimize_ifa_gain_power.mat\n",
      "Data loaded from data/antennas_gain_power/sim_optimize_ifa_gain_power.mat\n",
      "Simulation 11/101 | f = 820.00 MHz | S11 = -5.80 dB\n",
      "Calculating radiation intensity distribution over sphere surface...\n",
      "\n",
      "Frequency = 820000000.0 Hz\n",
      "Wavelength lambda = 0.3655516511958649 m\n",
      "\n",
      "Total Power :  0.000883\n",
      "Gain Linear :  1.573733\n",
      "Gain Logarithmic (Max) :  1.969310 dBi\n",
      "\n",
      "gap_current = (0.0034171658682314965+0.002348490462617146j)\n",
      "Radiation Resistance :  102.768288 Ohms\n",
      "Input Power (P_in) : 0.0010 W\n",
      "Total Efficiency : 0.8522\n",
      "Data saved successfully to data/antennas_gain_power/sim_optimize_ifa_gain_power.mat\n",
      "Generating antenna directivity pattern...\n",
      "Data loaded from data/antennas_gain_power/sim_optimize_ifa_gain_power.mat\n",
      "Data loaded from data/antennas_gain_power/sim_optimize_ifa_gain_power.mat\n",
      "Simulation 12/101 | f = 822.00 MHz | S11 = -6.06 dB\n",
      "Calculating radiation intensity distribution over sphere surface...\n",
      "\n",
      "Frequency = 822000000.0 Hz\n",
      "Wavelength lambda = 0.3646622311199626 m\n",
      "\n",
      "Total Power :  0.000924\n",
      "Gain Linear :  1.574123\n",
      "Gain Logarithmic (Max) :  1.970387 dBi\n",
      "\n",
      "gap_current = (0.003575204985130879+0.0024239102572786797j)\n",
      "Radiation Resistance :  99.079547 Ohms\n",
      "Input Power (P_in) : 0.0011 W\n",
      "Total Efficiency : 0.8559\n",
      "Data saved successfully to data/antennas_gain_power/sim_optimize_ifa_gain_power.mat\n",
      "Generating antenna directivity pattern...\n",
      "Data loaded from data/antennas_gain_power/sim_optimize_ifa_gain_power.mat\n",
      "Data loaded from data/antennas_gain_power/sim_optimize_ifa_gain_power.mat\n",
      "Simulation 13/101 | f = 824.00 MHz | S11 = -6.33 dB\n",
      "Calculating radiation intensity distribution over sphere surface...\n",
      "\n",
      "Frequency = 824000000.0 Hz\n",
      "Wavelength lambda = 0.3637771286172442 m\n",
      "\n",
      "Total Power :  0.000967\n",
      "Gain Linear :  1.574505\n",
      "Gain Logarithmic (Max) :  1.971440 dBi\n",
      "\n",
      "gap_current = (0.003741441248831624+0.002496545910209566j)\n",
      "Radiation Resistance :  95.622105 Ohms\n",
      "Input Power (P_in) : 0.0011 W\n",
      "Total Efficiency : 0.8602\n",
      "Data saved successfully to data/antennas_gain_power/sim_optimize_ifa_gain_power.mat\n",
      "Generating antenna directivity pattern...\n",
      "Data loaded from data/antennas_gain_power/sim_optimize_ifa_gain_power.mat\n",
      "Data loaded from data/antennas_gain_power/sim_optimize_ifa_gain_power.mat\n",
      "Simulation 14/101 | f = 826.00 MHz | S11 = -6.62 dB\n",
      "Calculating radiation intensity distribution over sphere surface...\n",
      "\n",
      "Frequency = 826000000.0 Hz\n",
      "Wavelength lambda = 0.36289631232519276 m\n",
      "\n",
      "Total Power :  0.001012\n",
      "Gain Linear :  1.574878\n",
      "Gain Logarithmic (Max) :  1.972470 dBi\n",
      "\n",
      "gap_current = (0.003916218626699049+0.0025658196402471496j)\n",
      "Radiation Resistance :  92.377488 Ohms\n",
      "Input Power (P_in) : 0.0012 W\n",
      "Total Efficiency : 0.8650\n",
      "Data saved successfully to data/antennas_gain_power/sim_optimize_ifa_gain_power.mat\n",
      "Generating antenna directivity pattern...\n",
      "Data loaded from data/antennas_gain_power/sim_optimize_ifa_gain_power.mat\n",
      "Data loaded from data/antennas_gain_power/sim_optimize_ifa_gain_power.mat\n",
      "Simulation 15/101 | f = 828.00 MHz | S11 = -6.93 dB\n",
      "Calculating radiation intensity distribution over sphere surface...\n",
      "\n",
      "Frequency = 828000000.0 Hz\n",
      "Wavelength lambda = 0.3620197511843107 m\n",
      "\n",
      "Total Power :  0.001060\n",
      "Gain Linear :  1.575243\n",
      "Gain Logarithmic (Max) :  1.973477 dBi\n",
      "\n",
      "gap_current = (0.004099867496498582+0.002631083775230112j)\n",
      "Radiation Resistance :  89.328954 Ohms\n",
      "Input Power (P_in) : 0.0012 W\n",
      "Total Efficiency : 0.8703\n",
      "Data saved successfully to data/antennas_gain_power/sim_optimize_ifa_gain_power.mat\n",
      "Generating antenna directivity pattern...\n",
      "Data loaded from data/antennas_gain_power/sim_optimize_ifa_gain_power.mat\n",
      "Data loaded from data/antennas_gain_power/sim_optimize_ifa_gain_power.mat\n",
      "Simulation 16/101 | f = 830.00 MHz | S11 = -7.25 dB\n",
      "Calculating radiation intensity distribution over sphere surface...\n",
      "\n",
      "Frequency = 830000000.0 Hz\n",
      "Wavelength lambda = 0.36114741443446896 m\n",
      "\n",
      "Total Power :  0.001110\n",
      "Gain Linear :  1.575600\n",
      "Gain Logarithmic (Max) :  1.974460 dBi\n",
      "\n",
      "gap_current = (0.004292696896183231+0.0026916150767412454j)\n",
      "Radiation Resistance :  86.461312 Ohms\n",
      "Input Power (P_in) : 0.0013 W\n",
      "Total Efficiency : 0.8762\n",
      "Data saved successfully to data/antennas_gain_power/sim_optimize_ifa_gain_power.mat\n",
      "Generating antenna directivity pattern...\n",
      "Data loaded from data/antennas_gain_power/sim_optimize_ifa_gain_power.mat\n",
      "Data loaded from data/antennas_gain_power/sim_optimize_ifa_gain_power.mat\n",
      "Simulation 17/101 | f = 832.00 MHz | S11 = -7.60 dB\n",
      "Calculating radiation intensity distribution over sphere surface...\n",
      "\n",
      "Frequency = 832000000.0 Hz\n",
      "Wavelength lambda = 0.3602792716113092 m\n",
      "\n",
      "Total Power :  0.001162\n",
      "Gain Linear :  1.575948\n",
      "Gain Logarithmic (Max) :  1.975419 dBi\n",
      "\n",
      "gap_current = (0.004494985201356269+0.002746609275720896j)\n",
      "Radiation Resistance :  83.760766 Ohms\n",
      "Input Power (P_in) : 0.0013 W\n",
      "Total Efficiency : 0.8825\n",
      "Data saved successfully to data/antennas_gain_power/sim_optimize_ifa_gain_power.mat\n",
      "Generating antenna directivity pattern...\n",
      "Data loaded from data/antennas_gain_power/sim_optimize_ifa_gain_power.mat\n",
      "Data loaded from data/antennas_gain_power/sim_optimize_ifa_gain_power.mat\n",
      "Simulation 18/101 | f = 834.00 MHz | S11 = -7.96 dB\n",
      "Calculating radiation intensity distribution over sphere surface...\n",
      "\n",
      "Frequency = 834000000.0 Hz\n",
      "Wavelength lambda = 0.35941529254269694 m\n",
      "\n",
      "Total Power :  0.001217\n",
      "Gain Linear :  1.576288\n",
      "Gain Logarithmic (Max) :  1.976355 dBi\n",
      "\n",
      "gap_current = (0.004706969041062342+0.00279517606665545j)\n",
      "Radiation Resistance :  81.214770 Ohms\n",
      "Input Power (P_in) : 0.0014 W\n",
      "Total Efficiency : 0.8892\n",
      "Data saved successfully to data/antennas_gain_power/sim_optimize_ifa_gain_power.mat\n",
      "Generating antenna directivity pattern...\n",
      "Data loaded from data/antennas_gain_power/sim_optimize_ifa_gain_power.mat\n",
      "Data loaded from data/antennas_gain_power/sim_optimize_ifa_gain_power.mat\n",
      "Simulation 19/101 | f = 836.00 MHz | S11 = -8.35 dB\n",
      "Calculating radiation intensity distribution over sphere surface...\n",
      "\n",
      "Frequency = 836000000.0 Hz\n",
      "Wavelength lambda = 0.3585554473452264 m\n",
      "\n",
      "Total Power :  0.001274\n",
      "Gain Linear :  1.576619\n",
      "Gain Logarithmic (Max) :  1.977267 dBi\n",
      "\n",
      "gap_current = (0.004928830273409847+0.0028363348786589397j)\n",
      "Radiation Resistance :  78.811903 Ohms\n",
      "Input Power (P_in) : 0.0014 W\n",
      "Total Efficiency : 0.8964\n",
      "Data saved successfully to data/antennas_gain_power/sim_optimize_ifa_gain_power.mat\n",
      "Generating antenna directivity pattern...\n",
      "Data loaded from data/antennas_gain_power/sim_optimize_ifa_gain_power.mat\n",
      "Data loaded from data/antennas_gain_power/sim_optimize_ifa_gain_power.mat\n",
      "Simulation 20/101 | f = 838.00 MHz | S11 = -8.76 dB\n",
      "Calculating radiation intensity distribution over sphere surface...\n",
      "\n",
      "Frequency = 838000000.0 Hz\n",
      "Wavelength lambda = 0.35769970642077475 m\n",
      "\n",
      "Total Power :  0.001334\n",
      "Gain Linear :  1.576941\n",
      "Gain Logarithmic (Max) :  1.978154 dBi\n",
      "\n",
      "gap_current = (0.00516068086895444+0.002869011822851426j)\n",
      "Radiation Resistance :  76.541752 Ohms\n",
      "Input Power (P_in) : 0.0015 W\n",
      "Total Efficiency : 0.9039\n",
      "Data saved successfully to data/antennas_gain_power/sim_optimize_ifa_gain_power.mat\n",
      "Generating antenna directivity pattern...\n",
      "Data loaded from data/antennas_gain_power/sim_optimize_ifa_gain_power.mat\n",
      "Data loaded from data/antennas_gain_power/sim_optimize_ifa_gain_power.mat\n",
      "Simulation 21/101 | f = 840.00 MHz | S11 = -9.20 dB\n",
      "Calculating radiation intensity distribution over sphere surface...\n",
      "\n",
      "Frequency = 840000000.0 Hz\n",
      "Wavelength lambda = 0.35684804045310625 m\n",
      "\n",
      "Total Power :  0.001397\n",
      "Gain Linear :  1.577254\n",
      "Gain Logarithmic (Max) :  1.979018 dBi\n",
      "\n",
      "gap_current = (0.00540254559720505+0.002892038305606136j)\n",
      "Radiation Resistance :  74.394817 Ohms\n",
      "Input Power (P_in) : 0.0015 W\n",
      "Total Efficiency : 0.9118\n",
      "Data saved successfully to data/antennas_gain_power/sim_optimize_ifa_gain_power.mat\n",
      "Generating antenna directivity pattern...\n",
      "Data loaded from data/antennas_gain_power/sim_optimize_ifa_gain_power.mat\n",
      "Data loaded from data/antennas_gain_power/sim_optimize_ifa_gain_power.mat\n",
      "Simulation 22/101 | f = 842.00 MHz | S11 = -9.68 dB\n",
      "Calculating radiation intensity distribution over sphere surface...\n",
      "\n",
      "Frequency = 842000000.0 Hz\n",
      "Wavelength lambda = 0.356000420404524 m\n",
      "\n",
      "Total Power :  0.001462\n",
      "Gain Linear :  1.577559\n",
      "Gain Logarithmic (Max) :  1.979856 dBi\n",
      "\n",
      "gap_current = (0.005654342486253086+0.002904151893353083j)\n",
      "Radiation Resistance :  72.362414 Ohms\n",
      "Input Power (P_in) : 0.0016 W\n",
      "Total Efficiency : 0.9200\n",
      "Data saved successfully to data/antennas_gain_power/sim_optimize_ifa_gain_power.mat\n",
      "Generating antenna directivity pattern...\n",
      "Data loaded from data/antennas_gain_power/sim_optimize_ifa_gain_power.mat\n",
      "Data loaded from data/antennas_gain_power/sim_optimize_ifa_gain_power.mat\n",
      "Simulation 23/101 | f = 844.00 MHz | S11 = -10.18 dB\n",
      "Calculating radiation intensity distribution over sphere surface...\n",
      "\n",
      "Frequency = 844000000.0 Hz\n",
      "Wavelength lambda = 0.35515681751257017 m\n",
      "\n",
      "Total Power :  0.001530\n",
      "Gain Linear :  1.577855\n",
      "Gain Logarithmic (Max) :  1.980671 dBi\n",
      "\n",
      "gap_current = (0.005915861134104616+0.0029040001112993576j)\n",
      "Radiation Resistance :  70.436601 Ohms\n",
      "Input Power (P_in) : 0.0016 W\n",
      "Total Efficiency : 0.9284\n",
      "Data saved successfully to data/antennas_gain_power/sim_optimize_ifa_gain_power.mat\n",
      "Generating antenna directivity pattern...\n",
      "Data loaded from data/antennas_gain_power/sim_optimize_ifa_gain_power.mat\n",
      "Data loaded from data/antennas_gain_power/sim_optimize_ifa_gain_power.mat\n",
      "Simulation 24/101 | f = 846.00 MHz | S11 = -10.72 dB\n",
      "Calculating radiation intensity distribution over sphere surface...\n",
      "\n",
      "Frequency = 846000000.0 Hz\n",
      "Wavelength lambda = 0.35431720328677213 m\n",
      "\n",
      "Total Power :  0.001600\n",
      "Gain Linear :  1.578142\n",
      "Gain Logarithmic (Max) :  1.981460 dBi\n",
      "\n",
      "gap_current = (0.006186739099439586+0.0028901479472094494j)\n",
      "Radiation Resistance :  68.610099 Ohms\n",
      "Input Power (P_in) : 0.0017 W\n",
      "Total Efficiency : 0.9370\n",
      "Data saved successfully to data/antennas_gain_power/sim_optimize_ifa_gain_power.mat\n",
      "Generating antenna directivity pattern...\n",
      "Data loaded from data/antennas_gain_power/sim_optimize_ifa_gain_power.mat\n",
      "Data loaded from data/antennas_gain_power/sim_optimize_ifa_gain_power.mat\n",
      "Simulation 25/101 | f = 848.00 MHz | S11 = -11.31 dB\n",
      "Calculating radiation intensity distribution over sphere surface...\n",
      "\n",
      "Frequency = 848000000.0 Hz\n",
      "Wavelength lambda = 0.3534815495054354 m\n",
      "\n",
      "Total Power :  0.001672\n",
      "Gain Linear :  1.578420\n",
      "Gain Logarithmic (Max) :  1.982225 dBi\n",
      "\n",
      "gap_current = (0.006466436794851987+0.0028610899002413323j)\n",
      "Radiation Resistance :  66.876236 Ohms\n",
      "Input Power (P_in) : 0.0018 W\n",
      "Total Efficiency : 0.9458\n",
      "Data saved successfully to data/antennas_gain_power/sim_optimize_ifa_gain_power.mat\n",
      "Generating antenna directivity pattern...\n",
      "Data loaded from data/antennas_gain_power/sim_optimize_ifa_gain_power.mat\n",
      "Data loaded from data/antennas_gain_power/sim_optimize_ifa_gain_power.mat\n",
      "Simulation 26/101 | f = 850.00 MHz | S11 = -11.94 dB\n",
      "Calculating radiation intensity distribution over sphere surface...\n",
      "\n",
      "Frequency = 850000000.0 Hz\n",
      "Wavelength lambda = 0.3526498282124815 m\n",
      "\n",
      "Total Power :  0.001746\n",
      "Gain Linear :  1.578688\n",
      "Gain Logarithmic (Max) :  1.982964 dBi\n",
      "\n",
      "gap_current = (0.0067542115502437225+0.0028152674475222512j)\n",
      "Radiation Resistance :  65.228883 Ohms\n",
      "Input Power (P_in) : 0.0018 W\n",
      "Total Efficiency : 0.9546\n",
      "Data saved successfully to data/antennas_gain_power/sim_optimize_ifa_gain_power.mat\n",
      "Generating antenna directivity pattern...\n",
      "Data loaded from data/antennas_gain_power/sim_optimize_ifa_gain_power.mat\n",
      "Data loaded from data/antennas_gain_power/sim_optimize_ifa_gain_power.mat\n",
      "Simulation 27/101 | f = 852.00 MHz | S11 = -12.63 dB\n",
      "Calculating radiation intensity distribution over sphere surface...\n",
      "\n",
      "Frequency = 852000000.0 Hz\n",
      "Wavelength lambda = 0.3518220117143301 m\n",
      "\n",
      "Total Power :  0.001823\n",
      "Gain Linear :  1.578948\n",
      "Gain Logarithmic (Max) :  1.983678 dBi\n",
      "\n",
      "gap_current = (0.007049091806754858+0.0027510927773243517j)\n",
      "Radiation Resistance :  63.662406 Ohms\n",
      "Input Power (P_in) : 0.0019 W\n",
      "Total Efficiency : 0.9635\n",
      "Data saved successfully to data/antennas_gain_power/sim_optimize_ifa_gain_power.mat\n",
      "Generating antenna directivity pattern...\n",
      "Data loaded from data/antennas_gain_power/sim_optimize_ifa_gain_power.mat\n",
      "Data loaded from data/antennas_gain_power/sim_optimize_ifa_gain_power.mat\n",
      "Simulation 28/101 | f = 854.00 MHz | S11 = -13.38 dB\n",
      "Calculating radiation intensity distribution over sphere surface...\n",
      "\n",
      "Frequency = 854000000.0 Hz\n",
      "Wavelength lambda = 0.3509980725768258 m\n",
      "\n",
      "Total Power :  0.001900\n",
      "Gain Linear :  1.579198\n",
      "Gain Logarithmic (Max) :  1.984367 dBi\n",
      "\n",
      "gap_current = (0.007349852734390481+0.002666979533402159j)\n",
      "Radiation Resistance :  62.171617 Ohms\n",
      "Input Power (P_in) : 0.0020 W\n",
      "Total Efficiency : 0.9722\n",
      "Data saved successfully to data/antennas_gain_power/sim_optimize_ifa_gain_power.mat\n",
      "Generating antenna directivity pattern...\n",
      "Data loaded from data/antennas_gain_power/sim_optimize_ifa_gain_power.mat\n",
      "Data loaded from data/antennas_gain_power/sim_optimize_ifa_gain_power.mat\n",
      "Simulation 29/101 | f = 856.00 MHz | S11 = -14.21 dB\n",
      "Calculating radiation intensity distribution over sphere surface...\n",
      "\n",
      "Frequency = 856000000.0 Hz\n",
      "Wavelength lambda = 0.35017798362220703 m\n",
      "\n",
      "Total Power :  0.001979\n",
      "Gain Linear :  1.579439\n",
      "Gain Logarithmic (Max) :  1.985030 dBi\n",
      "\n",
      "gap_current = (0.0076549949218906+0.002561381104531982j)\n",
      "Radiation Resistance :  60.751738 Ohms\n",
      "Input Power (P_in) : 0.0020 W\n",
      "Total Efficiency : 0.9808\n",
      "Data saved successfully to data/antennas_gain_power/sim_optimize_ifa_gain_power.mat\n",
      "Generating antenna directivity pattern...\n",
      "Data loaded from data/antennas_gain_power/sim_optimize_ifa_gain_power.mat\n",
      "Data loaded from data/antennas_gain_power/sim_optimize_ifa_gain_power.mat\n",
      "Simulation 30/101 | f = 858.00 MHz | S11 = -15.14 dB\n",
      "Calculating radiation intensity distribution over sphere surface...\n",
      "\n",
      "Frequency = 858000000.0 Hz\n",
      "Wavelength lambda = 0.349361717926118 m\n",
      "\n",
      "Total Power :  0.002059\n",
      "Gain Linear :  1.579671\n",
      "Gain Logarithmic (Max) :  1.985666 dBi\n",
      "\n",
      "gap_current = (0.007962728136039257+0.0024328366521528242j)\n",
      "Radiation Resistance :  59.398359 Ohms\n",
      "Input Power (P_in) : 0.0021 W\n",
      "Total Efficiency : 0.9891\n",
      "Data saved successfully to data/antennas_gain_power/sim_optimize_ifa_gain_power.mat\n",
      "Generating antenna directivity pattern...\n",
      "Data loaded from data/antennas_gain_power/sim_optimize_ifa_gain_power.mat\n",
      "Data loaded from data/antennas_gain_power/sim_optimize_ifa_gain_power.mat\n",
      "Simulation 31/101 | f = 860.00 MHz | S11 = -16.17 dB\n",
      "Calculating radiation intensity distribution over sphere surface...\n",
      "\n",
      "Frequency = 860000000.0 Hz\n",
      "Wavelength lambda = 0.3485492488146619 m\n",
      "\n",
      "Total Power :  0.002139\n",
      "Gain Linear :  1.579893\n",
      "Gain Logarithmic (Max) :  1.986277 dBi\n",
      "\n",
      "gap_current = (0.008270962446355593+0.0022800245790401265j)\n",
      "Radiation Resistance :  58.107407 Ohms\n",
      "Input Power (P_in) : 0.0021 W\n",
      "Total Efficiency : 0.9971\n",
      "Data saved successfully to data/antennas_gain_power/sim_optimize_ifa_gain_power.mat\n",
      "Generating antenna directivity pattern...\n",
      "Data loaded from data/antennas_gain_power/sim_optimize_ifa_gain_power.mat\n",
      "Data loaded from data/antennas_gain_power/sim_optimize_ifa_gain_power.mat\n",
      "Simulation 32/101 | f = 862.00 MHz | S11 = -17.34 dB\n",
      "Calculating radiation intensity distribution over sphere surface...\n",
      "\n",
      "Frequency = 862000000.0 Hz\n",
      "Wavelength lambda = 0.34774054986149566 m\n",
      "\n",
      "Total Power :  0.002218\n",
      "Gain Linear :  1.580106\n",
      "Gain Logarithmic (Max) :  1.986861 dBi\n",
      "\n",
      "gap_current = (0.008577309203340966+0.002101822497741431j)\n",
      "Radiation Resistance :  56.875117 Ohms\n",
      "Input Power (P_in) : 0.0022 W\n",
      "Total Efficiency : 1.0045\n",
      "Warning: Total Efficiency is greater than 1, which is physically impossible. Please check the calculations.\n",
      "Data saved successfully to data/antennas_gain_power/sim_optimize_ifa_gain_power.mat\n",
      "Generating antenna directivity pattern...\n",
      "Data loaded from data/antennas_gain_power/sim_optimize_ifa_gain_power.mat\n",
      "Data loaded from data/antennas_gain_power/sim_optimize_ifa_gain_power.mat\n",
      "Simulation 33/101 | f = 864.00 MHz | S11 = -18.70 dB\n",
      "Calculating radiation intensity distribution over sphere surface...\n",
      "\n",
      "Frequency = 864000000.0 Hz\n",
      "Wavelength lambda = 0.3469355948849644 m\n",
      "\n",
      "Total Power :  0.002296\n",
      "Gain Linear :  1.580308\n",
      "Gain Logarithmic (Max) :  1.987418 dBi\n",
      "\n",
      "gap_current = (0.008879094376717618+0.0018973719740858343j)\n",
      "Radiation Resistance :  55.698001 Ohms\n",
      "Input Power (P_in) : 0.0023 W\n",
      "Total Efficiency : 1.0114\n",
      "Warning: Total Efficiency is greater than 1, which is physically impossible. Please check the calculations.\n",
      "Data saved successfully to data/antennas_gain_power/sim_optimize_ifa_gain_power.mat\n",
      "Generating antenna directivity pattern...\n",
      "Data loaded from data/antennas_gain_power/sim_optimize_ifa_gain_power.mat\n",
      "Data loaded from data/antennas_gain_power/sim_optimize_ifa_gain_power.mat\n",
      "Simulation 34/101 | f = 866.00 MHz | S11 = -20.30 dB\n",
      "Calculating radiation intensity distribution over sphere surface...\n",
      "\n",
      "Frequency = 866000000.0 Hz\n",
      "Wavelength lambda = 0.34613435794527625 m\n",
      "\n",
      "Total Power :  0.002372\n",
      "Gain Linear :  1.580501\n",
      "Gain Logarithmic (Max) :  1.987949 dBi\n",
      "\n",
      "gap_current = (0.009173386533360816+0.001666145441600292j)\n",
      "Radiation Resistance :  54.572829 Ohms\n",
      "Input Power (P_in) : 0.0023 W\n",
      "Total Efficiency : 1.0176\n",
      "Warning: Total Efficiency is greater than 1, which is physically impossible. Please check the calculations.\n",
      "Data saved successfully to data/antennas_gain_power/sim_optimize_ifa_gain_power.mat\n",
      "Generating antenna directivity pattern...\n",
      "Data loaded from data/antennas_gain_power/sim_optimize_ifa_gain_power.mat\n",
      "Data loaded from data/antennas_gain_power/sim_optimize_ifa_gain_power.mat\n"
     ]
    },
    {
     "data": {
      "application/vnd.plotly.v1+json": {
       "config": {
        "plotlyServerURL": "https://plot.ly"
       },
       "data": [
        {
         "facecolor": [
          "rgb(232, 239, 0)",
          "rgb(25, 0, 182)",
          "rgb(0, 11, 224)",
          "rgb(124, 0, 109)",
          "rgb(0, 100, 255)",
          "rgb(112, 0, 118)",
          "rgb(0, 120, 255)",
          "rgb(52, 0, 162)",
          "rgb(45, 255, 149)",
          "rgb(107, 0, 121)",
          "rgb(56, 0, 159)",
          "rgb(0, 109, 255)",
          "rgb(114, 0, 116)",
          "rgb(95, 0, 130)",
          "rgb(48, 0, 165)",
          "rgb(71, 0, 148)",
          "rgb(86, 0, 137)",
          "rgb(255, 219, 0)",
          "rgb(180, 249, 0)",
          "rgb(255, 185, 0)",
          "rgb(128, 0, 106)",
          "rgb(255, 170, 0)",
          "rgb(0, 24, 253)",
          "rgb(132, 0, 103)",
          "rgb(1, 155, 252)",
          "rgb(38, 241, 164)",
          "rgb(41, 247, 158)",
          "rgb(102, 0, 125)",
          "rgb(83, 255, 96)",
          "rgb(255, 0, 0)",
          "rgb(255, 164, 0)",
          "rgb(0, 124, 255)",
          "rgb(0, 138, 255)",
          "rgb(6, 165, 242)",
          "rgb(207, 244, 0)",
          "rgb(137, 255, 19)",
          "rgb(89, 0, 134)",
          "rgb(38, 241, 164)",
          "rgb(12, 180, 227)",
          "rgb(133, 0, 102)",
          "rgb(126, 0, 108)",
          "rgb(104, 0, 124)",
          "rgb(104, 0, 124)",
          "rgb(108, 0, 121)",
          "rgb(129, 0, 106)",
          "rgb(123, 0, 110)",
          "rgb(75, 0, 145)",
          "rgb(0, 11, 224)",
          "rgb(48, 0, 165)",
          "rgb(56, 0, 159)",
          "rgb(0, 3, 206)",
          "rgb(141, 0, 97)",
          "rgb(132, 0, 103)",
          "rgb(120, 0, 112)",
          "rgb(128, 0, 106)",
          "rgb(77, 0, 143)",
          "rgb(139, 0, 98)",
          "rgb(149, 0, 91)",
          "rgb(123, 0, 110)",
          "rgb(41, 0, 170)",
          "rgb(117, 0, 114)",
          "rgb(135, 0, 101)",
          "rgb(104, 0, 124)",
          "rgb(140, 0, 98)",
          "rgb(116, 0, 115)",
          "rgb(0, 10, 221)",
          "rgb(142, 0, 96)",
          "rgb(150, 0, 90)",
          "rgb(87, 0, 137)",
          "rgb(123, 0, 110)",
          "rgb(139, 0, 98)"
         ],
         "i": {
          "bdata": "CCcLKCcrJictLi8PLRMlLjENDAgoGRwyDgIeHBoYGR0OAQkJEgEbMykrMzUvKy81EC8iFSojKTEzFSkPLjITNjYtFDMSLBU=",
          "dtype": "i1"
         },
         "j": {
          "bdata": "ICUdKiYoBwAAJxAmLDAnJCMhICEwIR0qFwMfCh8CAh4HFyAfMAIeMTQsIysoNREDLyIvMzIzKiQWMjEALDA2FBMDNhUoKDQ=",
          "dtype": "i1"
         },
         "k": {
          "bdata": "DSYcKQ8sDi0DLREOLhIuJSQICRkqAhswAQAaCwkBGBsXGAgMKAAaNDEtMS0rLygiBQU1NDQENC4EFC4nKTYwMgY1BhYRKTI=",
          "dtype": "i1"
         },
         "name": "",
         "type": "mesh3d",
         "x": {
          "bdata": "AAAAAAAAAACC4seYu5aAP4Lix5i7loA/AAAAAAAAAACkcD0K16OwvwAAAAAAAAAApHA9CtejsL/ZzvdT46WLP9nO91PjpYs/rthfdk8elj+u2F92Tx6WP9nO91PjpZs/2c73U+Olmz+C4seYu5aAP4Lix5i7loA/AAAAAAAAAAAutMh2vp+Kvyi0yHa+n5q/IYcW2c73o781tMh2vp+qv6RwPQrXo7C/pHA9CtejsL+kcD0K16Owv9nO91PjpYs/2c73U+Oliz/ZzvdT46WLP67YX3ZPHpY/rthfdk8elj+u2F92Tx6WP9nO91PjpZs/2c73U+Olmz/ZzvdT46WbPxPgLZCg+JE/guLHmLuWgD8AAAAAAAAAAK62Yn/ZPam/EIxK6gQ0ob/hwmSqYFSSvyFtowG8BWK/ilOtDYwWhL9FTWKFShOgv/fVoanUdqK/zXmPolv2pb/ohKxU+eaSv/G8zlxaiJm/oX6viwfrib/hqwkNCLmav63ynerltoy/82AvA76Yp78TJMWpVU+kv6W6Hvaaxqu/ESNi125nrL8js/2jXwipv8YQSQnxBYO/r4gspaUsrb8=",
          "dtype": "f8"
         },
         "y": {
          "bdata": "Z0XURJ+Poj9nRdREn4+iP6OUEKyql58/o5QQrKqXnz8pXI/C9SisPwAAAAAAAAAAAAAAAAAAAAApXI/C9SisP6/YX3ZPHnY/r9hfdk8edj8pXI/C9SisPylcj8L1KKw/AAAAAAAAMDwAAAAAAAAwPBNhw9MrZak/E2HD0ytlqT8AAAAAAAAAAAAAAAAAAAAAAAAAAAAAAAAAAAAAAAAAABhcj8L1KIw/I1yPwvUonD8dhetRuB6lP+SDns2qz6U/P1dbsb/snj+1pnnHKTqSP7WmeccpOpI/P1dbsb/snj/mg57Nqs+lPyOF61G4HqU/L1yPwvUonD8vXI/C9SiMPwAAAAAAADA8o5QQrKqXjz+jlBCsqpePPylcj8L1KKw/KVyPwvUorD8pXI/C9SisPylcj8L1KKw/4FauysLppj9H5cyf6YyOP3tpMsAjSp4/cjmcGEZHlT/rDFBr4+6VP+0nVQtwYZw/yy49ITNcoD87h2oGp9ekP/umJuHUkoU/x8bKK50bhT+qtO9EVIamP4OVen2Ux5I/e2q4YPGZpT95eLGQaiCfP+r0Roq7gJY/0EqMdSD2fz8=",
          "dtype": "f8"
         },
         "z": {
          "bdata": "AAAAAAAAAAAAAAAAAAAAAAAAAAAAAAAAAAAAAAAAAAAAAAAAAAAAAAAAAAAAAAAAAAAAAAAAAAAAAAAAAAAAAAAAAAAAAAAAAAAAAAAAAAAAAAAAAAAAAAAAAAAAAAAAAAAAAAAAAAAAAAAAAAAAAAAAAAAAAAAAAAAAAAAAAAAAAAAAAAAAAAAAAAAAAAAAAAAAAAAAAAAAAAAAAAAAAAAAAAAAAAAAAAAAAAAAAAAAAAAAAAAAAAAAAAAAAAAAAAAAAAAAAAAAAAAAAAAAAAAAAAAAAAAAAAAAAAAAAAAAAAAAAAAAAAAAAAAAAAAAAAAAAAAAAAAAAAAAAAAAAAAAAAAAAAAAAAAAAAAAAAAAAAAAAAAAAAAAAAAAAAAAAAAAAAAAAAAAAAAAAAAAAAAAAAAAAAAAAAAAAAAAAAAAAAAAAAAAAAAAAAAAAAAAAAAAAAAAAAAAAAAAAAAAAAAAAAAAAAAAAAAAAAAAAAAAAAAAAAAAAAAAAAAAAAAAAAAAAAAAAAAAAAAAAAAAAAAAAAAAAAAAAAAAAAAAAAAAAAAAAAAAAAAAAAAAAAAAAAAAAAAAAAA=",
          "dtype": "f8"
         }
        },
        {
         "line": {
          "color": "rgb(50, 50, 50)",
          "width": 1.5
         },
         "mode": "lines",
         "showlegend": false,
         "type": "scatter3d",
         "x": [
          0.0135,
          0.01755000000000002,
          0.0081,
          0.0135,
          null,
          -0.009808630149260162,
          -0.01789999999999992,
          -0.002199999999999883,
          -0.009808630149260162,
          null,
          0.027,
          0.027,
          0.0216,
          0.027,
          null,
          -0.03139717939589074,
          -0.04289518699055215,
          -0.03606285639481748,
          -0.03139717939589074,
          null,
          -0.009808630149260162,
          -0.002199999999999883,
          0,
          -0.009808630149260162,
          null,
          -0.01845922068890085,
          -0.03139717939589074,
          -0.02493420783474404,
          -0.01845922068890085,
          null,
          -0.002199999999999883,
          0.0135,
          0.0081,
          -0.002199999999999883,
          null,
          -0.009808630149260162,
          0,
          -0.01265531439815898,
          -0.009808630149260162,
          null,
          -0.01265531439815898,
          0,
          0,
          -0.01265531439815898,
          null,
          -0.02609646396232879,
          -0.009808630149260162,
          -0.01265531439815898,
          -0.02609646396232879,
          null,
          -0.0140207254623815,
          -0.01299999999999998,
          -0.02599999999999994,
          -0.0140207254623815,
          null,
          0,
          -0.002199999999999883,
          0.0081,
          0,
          null,
          -0.01265531439815898,
          -0.02493420783474404,
          -0.02609646396232879,
          -0.01265531439815898,
          null,
          -0.05199999999999997,
          -0.04608720578079497,
          -0.03899999999999993,
          -0.05199999999999997,
          null,
          -0.01789999999999992,
          -0.009808630149260162,
          -0.02609646396232879,
          -0.01789999999999992,
          null,
          -0.02609646396232879,
          -0.03359999999999996,
          -0.01789999999999992,
          -0.02609646396232879,
          null,
          -0.0396677751292104,
          -0.0493,
          -0.03359999999999996,
          -0.0396677751292104,
          null,
          0.0081,
          0.0081,
          0.0135,
          0.0081,
          null,
          0.027,
          0.01755000000000002,
          0.0216,
          0.027,
          null,
          0.0135,
          0.0081,
          0.0135,
          0.0135,
          null,
          -0.03139717939589074,
          -0.04608720578079497,
          -0.04289518699055215,
          -0.03139717939589074,
          null,
          0.0135,
          0.0081,
          0.0081,
          0.0135,
          null,
          0.0216,
          0.027,
          0.0216,
          0.0216,
          null,
          -0.05424961332697834,
          -0.04289518699055215,
          -0.04608720578079497,
          -0.05424961332697834,
          null,
          0.0081,
          0.0135,
          0.0081,
          0.0081,
          null,
          0.0081,
          0,
          0,
          0.0081,
          null,
          0.027,
          0.027,
          0.0216,
          0.027,
          null,
          0.0216,
          0.0216,
          0.027,
          0.0216,
          null,
          0.0216,
          0.027,
          0.0216,
          0.0216,
          null,
          0.0135,
          0.0081,
          0.0081,
          0.0135,
          null,
          0.0135,
          0.0081,
          0.0135,
          0.0135,
          null,
          0.027,
          0.027,
          0.0216,
          0.027,
          null,
          0.0081,
          0.0135,
          0.0135,
          0.0081,
          null,
          0.0081,
          0.0135,
          0.0135,
          0.0081,
          null,
          0.0216,
          0.01755000000000002,
          0.0135,
          0.0216,
          null,
          0.0216,
          0.027,
          0.027,
          0.0216,
          null,
          -0.03899999999999993,
          -0.04608720578079497,
          -0.03139717939589074,
          -0.03899999999999993,
          null,
          0.0081,
          0.0081,
          0,
          0.0081,
          null,
          0.0216,
          0.027,
          0.0216,
          0.0216,
          null,
          -0.05547663096610312,
          -0.0396677751292104,
          -0.04889201046794358,
          -0.05547663096610312,
          null,
          -0.03606285639481748,
          -0.04889201046794358,
          -0.0396677751292104,
          -0.03606285639481748,
          null,
          -0.01845922068890085,
          -0.02493420783474404,
          -0.01265531439815898,
          -0.01845922068890085,
          null,
          -0.05547663096610312,
          -0.0493,
          -0.0396677751292104,
          -0.05547663096610312,
          null,
          -0.009288676353328983,
          -0.01845922068890085,
          -0.01265531439815898,
          -0.009288676353328983,
          null,
          -0.0140207254623815,
          -0.03139717939589074,
          -0.01845922068890085,
          -0.0140207254623815,
          null,
          -0.01845922068890085,
          -0.009288676353328983,
          -0.0140207254623815,
          -0.01845922068890085,
          null,
          -0.0140207254623815,
          -0.02599999999999994,
          -0.03139717939589074,
          -0.0140207254623815,
          null,
          -0.009288676353328983,
          0,
          0,
          -0.009288676353328983,
          null,
          -0.01299999999999998,
          -0.0140207254623815,
          0,
          -0.01299999999999998,
          null,
          -0.0140207254623815,
          0,
          0,
          -0.0140207254623815,
          null,
          0,
          -0.0140207254623815,
          -0.009288676353328983,
          0,
          null,
          -0.065,
          -0.05547663096610312,
          -0.04889201046794358,
          -0.065,
          null,
          -0.04289518699055215,
          -0.05424961332697834,
          -0.04889201046794358,
          -0.04289518699055215,
          null,
          -0.0493,
          -0.05547663096610312,
          -0.065,
          -0.0493,
          null,
          -0.03606285639481748,
          -0.04289518699055215,
          -0.04889201046794358,
          -0.03606285639481748,
          null,
          -0.0396677751292104,
          -0.03359999999999996,
          -0.02609646396232879,
          -0.0396677751292104,
          null,
          -0.05547663096610312,
          -0.065,
          -0.065,
          -0.05547663096610312,
          null,
          -0.065,
          -0.05424961332697834,
          -0.065,
          -0.065,
          null,
          -0.03606285639481748,
          -0.0396677751292104,
          -0.02609646396232879,
          -0.03606285639481748,
          null,
          0,
          0,
          -0.009808630149260162,
          0,
          null,
          -0.02609646396232879,
          -0.02493420783474404,
          -0.03606285639481748,
          -0.02609646396232879,
          null,
          -0.05424961332697834,
          -0.04608720578079497,
          -0.05698125497134875,
          -0.05424961332697834,
          null,
          -0.05199999999999997,
          -0.05698125497134875,
          -0.04608720578079497,
          -0.05199999999999997,
          null,
          -0.05698125497134875,
          -0.065,
          -0.05424961332697834,
          -0.05698125497134875,
          null,
          -0.05698125497134875,
          -0.05199999999999997,
          -0.065,
          -0.05698125497134875,
          null,
          -0.01265531439815898,
          0,
          -0.009288676353328983,
          -0.01265531439815898,
          null,
          -0.065,
          -0.05698125497134875,
          -0.065,
          -0.065,
          null,
          -0.05547663096610312,
          -0.065,
          -0.065,
          -0.05547663096610312,
          null,
          -0.03899999999999993,
          -0.03139717939589074,
          -0.02599999999999994,
          -0.03899999999999993,
          null,
          -0.02493420783474404,
          -0.03139717939589074,
          -0.03606285639481748,
          -0.02493420783474404,
          null,
          -0.065,
          -0.04889201046794358,
          -0.05424961332697834,
          -0.065,
          null
         ],
         "y": [
          0.005400000000000001,
          8.673617379884035e-19,
          8.673617379884035e-19,
          0.005400000000000001,
          null,
          0.04475220417149983,
          0.055,
          0.055,
          0.04475220417149983,
          null,
          0.055,
          0.04125000000000003,
          0.04260000000000001,
          0.055,
          null,
          0.01491720694467581,
          0.02077970051964812,
          0.0295796953256313,
          0.01491720694467581,
          null,
          0.04475220417149983,
          0.055,
          0.0496,
          0.04475220417149983,
          null,
          0.02141909925923084,
          0.01491720694467581,
          0.02771544522446583,
          0.02141909925923084,
          null,
          0.055,
          0.055,
          0.0496,
          0.055,
          null,
          0.04475220417149983,
          0.036252,
          0.0319534280848451,
          0.04475220417149983,
          null,
          0.0319534280848451,
          0.036252,
          0.030852,
          0.0319534280848451,
          null,
          0.04070779755899286,
          0.04475220417149983,
          0.0319534280848451,
          0.04070779755899286,
          null,
          0.01053396522623328,
          0,
          0,
          0.01053396522623328,
          null,
          0.0496,
          0.055,
          0.0496,
          0.0496,
          null,
          0.0319534280848451,
          0.02771544522446583,
          0.04070779755899286,
          0.0319534280848451,
          null,
          0,
          0.01030657567875738,
          0,
          0,
          null,
          0.055,
          0.04475220417149983,
          0.04070779755899286,
          0.055,
          null,
          0.04070779755899286,
          0.055,
          0.055,
          0.04070779755899286,
          null,
          0.04399360028751549,
          0.055,
          0.055,
          0.04399360028751549,
          null,
          8.673617379884035e-19,
          0.015426,
          0.005400000000000001,
          8.673617379884035e-19,
          null,
          8.673617379884035e-19,
          8.673617379884035e-19,
          0.005400000000000001,
          8.673617379884035e-19,
          null,
          0.005400000000000001,
          0.015426,
          0.0178,
          0.005400000000000001,
          null,
          0.01491720694467581,
          0.01030657567875738,
          0.02077970051964812,
          0.01491720694467581,
          null,
          0.0178,
          0.015426,
          0.030852,
          0.0178,
          null,
          0.04260000000000001,
          0.04125000000000003,
          0.0302,
          0.04260000000000001,
          null,
          0.01833946243154606,
          0.02077970051964812,
          0.01030657567875738,
          0.01833946243154606,
          null,
          0.0496,
          0.0426,
          0.036252,
          0.0496,
          null,
          0.030852,
          0.030852,
          0.036252,
          0.030852,
          null,
          0.02750000000000002,
          0.01375000000000001,
          0.0178,
          0.02750000000000002,
          null,
          0.04260000000000001,
          0.055,
          0.055,
          0.04260000000000001,
          null,
          0.0178,
          0.01375000000000001,
          0.005400000000000001,
          0.0178,
          null,
          0.0302,
          0.030852,
          0.036252,
          0.0302,
          null,
          0.0178,
          0.030852,
          0.0302,
          0.0178,
          null,
          0.04125000000000003,
          0.02750000000000002,
          0.0302,
          0.04125000000000003,
          null,
          0.0496,
          0.055,
          0.0426,
          0.0496,
          null,
          0.036252,
          0.0426,
          0.0302,
          0.036252,
          null,
          0.005400000000000001,
          8.673617379884035e-19,
          0.005400000000000001,
          0.005400000000000001,
          null,
          0.005400000000000001,
          0.01375000000000001,
          8.673617379884035e-19,
          0.005400000000000001,
          null,
          0,
          0.01030657567875738,
          0.01491720694467581,
          0,
          null,
          0.036252,
          0.030852,
          0.036252,
          0.036252,
          null,
          0.0302,
          0.02750000000000002,
          0.0178,
          0.0302,
          null,
          0.04219011598271024,
          0.04399360028751549,
          0.03039709575784186,
          0.04219011598271024,
          null,
          0.0295796953256313,
          0.03039709575784186,
          0.04399360028751549,
          0.0295796953256313,
          null,
          0.02141909925923084,
          0.02771544522446583,
          0.0319534280848451,
          0.02141909925923084,
          null,
          0.04219011598271024,
          0.055,
          0.04399360028751549,
          0.04219011598271024,
          null,
          0.02197545081593414,
          0.02141909925923084,
          0.0319534280848451,
          0.02197545081593414,
          null,
          0.01053396522623328,
          0.01491720694467581,
          0.02141909925923084,
          0.01053396522623328,
          null,
          0.02141909925923084,
          0.02197545081593414,
          0.01053396522623328,
          0.02141909925923084,
          null,
          0.01053396522623328,
          0,
          0.01491720694467581,
          0.01053396522623328,
          null,
          0.02197545081593414,
          0.030852,
          0.015426,
          0.02197545081593414,
          null,
          0,
          0.01053396522623328,
          0,
          0,
          null,
          0.01053396522623328,
          0.015426,
          0,
          0.01053396522623328,
          null,
          0.015426,
          0.01053396522623328,
          0.02197545081593414,
          0.015426,
          null,
          0.02749999999999998,
          0.04219011598271024,
          0.03039709575784186,
          0.02749999999999998,
          null,
          0.02077970051964812,
          0.01833946243154606,
          0.03039709575784186,
          0.02077970051964812,
          null,
          0.055,
          0.04219011598271024,
          0.055,
          0.055,
          null,
          0.0295796953256313,
          0.02077970051964812,
          0.03039709575784186,
          0.0295796953256313,
          null,
          0.04399360028751549,
          0.055,
          0.04070779755899286,
          0.04399360028751549,
          null,
          0.04219011598271024,
          0.04124999999999999,
          0.055,
          0.04219011598271024,
          null,
          0.02749999999999998,
          0.01833946243154606,
          0.01374999999999997,
          0.02749999999999998,
          null,
          0.0295796953256313,
          0.04399360028751549,
          0.04070779755899286,
          0.0295796953256313,
          null,
          0.0496,
          0.036252,
          0.04475220417149983,
          0.0496,
          null,
          0.04070779755899286,
          0.02771544522446583,
          0.0295796953256313,
          0.04070779755899286,
          null,
          0.01833946243154606,
          0.01030657567875738,
          0.00780308417667426,
          0.01833946243154606,
          null,
          0,
          0.00780308417667426,
          0.01030657567875738,
          0,
          null,
          0.00780308417667426,
          0.01374999999999997,
          0.01833946243154606,
          0.00780308417667426,
          null,
          0.00780308417667426,
          0,
          0,
          0.00780308417667426,
          null,
          0.0319534280848451,
          0.030852,
          0.02197545081593414,
          0.0319534280848451,
          null,
          0.01374999999999997,
          0.00780308417667426,
          0,
          0.01374999999999997,
          null,
          0.04219011598271024,
          0.02749999999999998,
          0.04124999999999999,
          0.04219011598271024,
          null,
          0,
          0.01491720694467581,
          0,
          0,
          null,
          0.02771544522446583,
          0.01491720694467581,
          0.0295796953256313,
          0.02771544522446583,
          null,
          0.02749999999999998,
          0.03039709575784186,
          0.01833946243154606,
          0.02749999999999998,
          null
         ],
         "z": [
          0,
          0,
          0,
          0,
          null,
          0,
          0,
          0,
          0,
          null,
          0,
          0,
          0,
          0,
          null,
          0,
          0,
          0,
          0,
          null,
          0,
          0,
          0,
          0,
          null,
          0,
          0,
          0,
          0,
          null,
          0,
          0,
          0,
          0,
          null,
          0,
          0,
          0,
          0,
          null,
          0,
          0,
          0,
          0,
          null,
          0,
          0,
          0,
          0,
          null,
          0,
          0,
          0,
          0,
          null,
          0,
          0,
          0,
          0,
          null,
          0,
          0,
          0,
          0,
          null,
          0,
          0,
          0,
          0,
          null,
          0,
          0,
          0,
          0,
          null,
          0,
          0,
          0,
          0,
          null,
          0,
          0,
          0,
          0,
          null,
          0,
          0,
          0,
          0,
          null,
          0,
          0,
          0,
          0,
          null,
          0,
          0,
          0,
          0,
          null,
          0,
          0,
          0,
          0,
          null,
          0,
          0,
          0,
          0,
          null,
          0,
          0,
          0,
          0,
          null,
          0,
          0,
          0,
          0,
          null,
          0,
          0,
          0,
          0,
          null,
          0,
          0,
          0,
          0,
          null,
          0,
          0,
          0,
          0,
          null,
          0,
          0,
          0,
          0,
          null,
          0,
          0,
          0,
          0,
          null,
          0,
          0,
          0,
          0,
          null,
          0,
          0,
          0,
          0,
          null,
          0,
          0,
          0,
          0,
          null,
          0,
          0,
          0,
          0,
          null,
          0,
          0,
          0,
          0,
          null,
          0,
          0,
          0,
          0,
          null,
          0,
          0,
          0,
          0,
          null,
          0,
          0,
          0,
          0,
          null,
          0,
          0,
          0,
          0,
          null,
          0,
          0,
          0,
          0,
          null,
          0,
          0,
          0,
          0,
          null,
          0,
          0,
          0,
          0,
          null,
          0,
          0,
          0,
          0,
          null,
          0,
          0,
          0,
          0,
          null,
          0,
          0,
          0,
          0,
          null,
          0,
          0,
          0,
          0,
          null,
          0,
          0,
          0,
          0,
          null,
          0,
          0,
          0,
          0,
          null,
          0,
          0,
          0,
          0,
          null,
          0,
          0,
          0,
          0,
          null,
          0,
          0,
          0,
          0,
          null,
          0,
          0,
          0,
          0,
          null,
          0,
          0,
          0,
          0,
          null,
          0,
          0,
          0,
          0,
          null,
          0,
          0,
          0,
          0,
          null,
          0,
          0,
          0,
          0,
          null,
          0,
          0,
          0,
          0,
          null,
          0,
          0,
          0,
          0,
          null,
          0,
          0,
          0,
          0,
          null,
          0,
          0,
          0,
          0,
          null,
          0,
          0,
          0,
          0,
          null,
          0,
          0,
          0,
          0,
          null,
          0,
          0,
          0,
          0,
          null,
          0,
          0,
          0,
          0,
          null,
          0,
          0,
          0,
          0,
          null,
          0,
          0,
          0,
          0,
          null,
          0,
          0,
          0,
          0,
          null,
          0,
          0,
          0,
          0,
          null,
          0,
          0,
          0,
          0,
          null,
          0,
          0,
          0,
          0,
          null,
          0,
          0,
          0,
          0,
          null,
          0,
          0,
          0,
          0,
          null
         ]
        },
        {
         "hoverinfo": "none",
         "marker": {
          "color": [
           0.015423428646082059,
           3.6489490515674876
          ],
          "colorscale": [
           [
            0,
            "rgb(150, 0, 90)"
           ],
           [
            0.125,
            "rgb(0, 0, 200)"
           ],
           [
            0.25,
            "rgb(0, 25, 255)"
           ],
           [
            0.375,
            "rgb(0, 152, 255)"
           ],
           [
            0.5,
            "rgb(44, 255, 150)"
           ],
           [
            0.625,
            "rgb(151, 255, 0)"
           ],
           [
            0.75,
            "rgb(255, 234, 0)"
           ],
           [
            0.875,
            "rgb(255, 111, 0)"
           ],
           [
            1,
            "rgb(255, 0, 0)"
           ]
          ],
          "showscale": true,
          "size": 0.1
         },
         "mode": "markers",
         "showlegend": false,
         "type": "scatter3d",
         "x": {
          "bdata": "AAAAAAAAAAA=",
          "dtype": "f8"
         },
         "y": {
          "bdata": "Z0XURJ+Poj8=",
          "dtype": "f8"
         },
         "z": {
          "bdata": "AAAAAAAAAAA=",
          "dtype": "f8"
         }
        },
        {
         "marker": {
          "color": "red",
          "size": 6,
          "symbol": "circle"
         },
         "mode": "markers+text",
         "name": "Feed Point(s)",
         "type": "scatter3d",
         "x": {
          "bdata": "AAAAAAAAAAA=",
          "dtype": "f8"
         },
         "y": {
          "bdata": "3EduTbotoT8=",
          "dtype": "f8"
         },
         "z": {
          "bdata": "AAAAAAAAAAA=",
          "dtype": "f8"
         }
        }
       ],
       "layout": {
        "height": 800,
        "legend": {
         "bgcolor": "rgba(255,255,255,0.7)",
         "bordercolor": "lightgray",
         "borderwidth": 1,
         "x": 0.2,
         "xanchor": "left",
         "y": 0.9,
         "yanchor": "top"
        },
        "scene": {
         "aspectratio": {
          "x": 1,
          "y": 0.5978260869565217,
          "z": 0.3
         },
         "camera": {
          "eye": {
           "x": 0.65,
           "y": 0.65,
           "z": 0.65
          }
         },
         "xaxis": {
          "backgroundcolor": "rgb(230, 230, 230)",
          "gridcolor": "rgb(255, 255, 255)",
          "showbackground": true,
          "zerolinecolor": "rgb(255, 255, 255)"
         },
         "yaxis": {
          "backgroundcolor": "rgb(230, 230, 230)",
          "gridcolor": "rgb(255, 255, 255)",
          "showbackground": true,
          "zerolinecolor": "rgb(255, 255, 255)"
         },
         "zaxis": {
          "backgroundcolor": "rgb(230, 230, 230)",
          "gridcolor": "rgb(255, 255, 255)",
          "showbackground": true,
          "zerolinecolor": "rgb(255, 255, 255)"
         }
        },
        "template": {
         "data": {
          "bar": [
           {
            "error_x": {
             "color": "#2a3f5f"
            },
            "error_y": {
             "color": "#2a3f5f"
            },
            "marker": {
             "line": {
              "color": "#E5ECF6",
              "width": 0.5
             },
             "pattern": {
              "fillmode": "overlay",
              "size": 10,
              "solidity": 0.2
             }
            },
            "type": "bar"
           }
          ],
          "barpolar": [
           {
            "marker": {
             "line": {
              "color": "#E5ECF6",
              "width": 0.5
             },
             "pattern": {
              "fillmode": "overlay",
              "size": 10,
              "solidity": 0.2
             }
            },
            "type": "barpolar"
           }
          ],
          "carpet": [
           {
            "aaxis": {
             "endlinecolor": "#2a3f5f",
             "gridcolor": "white",
             "linecolor": "white",
             "minorgridcolor": "white",
             "startlinecolor": "#2a3f5f"
            },
            "baxis": {
             "endlinecolor": "#2a3f5f",
             "gridcolor": "white",
             "linecolor": "white",
             "minorgridcolor": "white",
             "startlinecolor": "#2a3f5f"
            },
            "type": "carpet"
           }
          ],
          "choropleth": [
           {
            "colorbar": {
             "outlinewidth": 0,
             "ticks": ""
            },
            "type": "choropleth"
           }
          ],
          "contour": [
           {
            "colorbar": {
             "outlinewidth": 0,
             "ticks": ""
            },
            "colorscale": [
             [
              0,
              "#0d0887"
             ],
             [
              0.1111111111111111,
              "#46039f"
             ],
             [
              0.2222222222222222,
              "#7201a8"
             ],
             [
              0.3333333333333333,
              "#9c179e"
             ],
             [
              0.4444444444444444,
              "#bd3786"
             ],
             [
              0.5555555555555556,
              "#d8576b"
             ],
             [
              0.6666666666666666,
              "#ed7953"
             ],
             [
              0.7777777777777778,
              "#fb9f3a"
             ],
             [
              0.8888888888888888,
              "#fdca26"
             ],
             [
              1,
              "#f0f921"
             ]
            ],
            "type": "contour"
           }
          ],
          "contourcarpet": [
           {
            "colorbar": {
             "outlinewidth": 0,
             "ticks": ""
            },
            "type": "contourcarpet"
           }
          ],
          "heatmap": [
           {
            "colorbar": {
             "outlinewidth": 0,
             "ticks": ""
            },
            "colorscale": [
             [
              0,
              "#0d0887"
             ],
             [
              0.1111111111111111,
              "#46039f"
             ],
             [
              0.2222222222222222,
              "#7201a8"
             ],
             [
              0.3333333333333333,
              "#9c179e"
             ],
             [
              0.4444444444444444,
              "#bd3786"
             ],
             [
              0.5555555555555556,
              "#d8576b"
             ],
             [
              0.6666666666666666,
              "#ed7953"
             ],
             [
              0.7777777777777778,
              "#fb9f3a"
             ],
             [
              0.8888888888888888,
              "#fdca26"
             ],
             [
              1,
              "#f0f921"
             ]
            ],
            "type": "heatmap"
           }
          ],
          "histogram": [
           {
            "marker": {
             "pattern": {
              "fillmode": "overlay",
              "size": 10,
              "solidity": 0.2
             }
            },
            "type": "histogram"
           }
          ],
          "histogram2d": [
           {
            "colorbar": {
             "outlinewidth": 0,
             "ticks": ""
            },
            "colorscale": [
             [
              0,
              "#0d0887"
             ],
             [
              0.1111111111111111,
              "#46039f"
             ],
             [
              0.2222222222222222,
              "#7201a8"
             ],
             [
              0.3333333333333333,
              "#9c179e"
             ],
             [
              0.4444444444444444,
              "#bd3786"
             ],
             [
              0.5555555555555556,
              "#d8576b"
             ],
             [
              0.6666666666666666,
              "#ed7953"
             ],
             [
              0.7777777777777778,
              "#fb9f3a"
             ],
             [
              0.8888888888888888,
              "#fdca26"
             ],
             [
              1,
              "#f0f921"
             ]
            ],
            "type": "histogram2d"
           }
          ],
          "histogram2dcontour": [
           {
            "colorbar": {
             "outlinewidth": 0,
             "ticks": ""
            },
            "colorscale": [
             [
              0,
              "#0d0887"
             ],
             [
              0.1111111111111111,
              "#46039f"
             ],
             [
              0.2222222222222222,
              "#7201a8"
             ],
             [
              0.3333333333333333,
              "#9c179e"
             ],
             [
              0.4444444444444444,
              "#bd3786"
             ],
             [
              0.5555555555555556,
              "#d8576b"
             ],
             [
              0.6666666666666666,
              "#ed7953"
             ],
             [
              0.7777777777777778,
              "#fb9f3a"
             ],
             [
              0.8888888888888888,
              "#fdca26"
             ],
             [
              1,
              "#f0f921"
             ]
            ],
            "type": "histogram2dcontour"
           }
          ],
          "mesh3d": [
           {
            "colorbar": {
             "outlinewidth": 0,
             "ticks": ""
            },
            "type": "mesh3d"
           }
          ],
          "parcoords": [
           {
            "line": {
             "colorbar": {
              "outlinewidth": 0,
              "ticks": ""
             }
            },
            "type": "parcoords"
           }
          ],
          "pie": [
           {
            "automargin": true,
            "type": "pie"
           }
          ],
          "scatter": [
           {
            "fillpattern": {
             "fillmode": "overlay",
             "size": 10,
             "solidity": 0.2
            },
            "type": "scatter"
           }
          ],
          "scatter3d": [
           {
            "line": {
             "colorbar": {
              "outlinewidth": 0,
              "ticks": ""
             }
            },
            "marker": {
             "colorbar": {
              "outlinewidth": 0,
              "ticks": ""
             }
            },
            "type": "scatter3d"
           }
          ],
          "scattercarpet": [
           {
            "marker": {
             "colorbar": {
              "outlinewidth": 0,
              "ticks": ""
             }
            },
            "type": "scattercarpet"
           }
          ],
          "scattergeo": [
           {
            "marker": {
             "colorbar": {
              "outlinewidth": 0,
              "ticks": ""
             }
            },
            "type": "scattergeo"
           }
          ],
          "scattergl": [
           {
            "marker": {
             "colorbar": {
              "outlinewidth": 0,
              "ticks": ""
             }
            },
            "type": "scattergl"
           }
          ],
          "scattermap": [
           {
            "marker": {
             "colorbar": {
              "outlinewidth": 0,
              "ticks": ""
             }
            },
            "type": "scattermap"
           }
          ],
          "scattermapbox": [
           {
            "marker": {
             "colorbar": {
              "outlinewidth": 0,
              "ticks": ""
             }
            },
            "type": "scattermapbox"
           }
          ],
          "scatterpolar": [
           {
            "marker": {
             "colorbar": {
              "outlinewidth": 0,
              "ticks": ""
             }
            },
            "type": "scatterpolar"
           }
          ],
          "scatterpolargl": [
           {
            "marker": {
             "colorbar": {
              "outlinewidth": 0,
              "ticks": ""
             }
            },
            "type": "scatterpolargl"
           }
          ],
          "scatterternary": [
           {
            "marker": {
             "colorbar": {
              "outlinewidth": 0,
              "ticks": ""
             }
            },
            "type": "scatterternary"
           }
          ],
          "surface": [
           {
            "colorbar": {
             "outlinewidth": 0,
             "ticks": ""
            },
            "colorscale": [
             [
              0,
              "#0d0887"
             ],
             [
              0.1111111111111111,
              "#46039f"
             ],
             [
              0.2222222222222222,
              "#7201a8"
             ],
             [
              0.3333333333333333,
              "#9c179e"
             ],
             [
              0.4444444444444444,
              "#bd3786"
             ],
             [
              0.5555555555555556,
              "#d8576b"
             ],
             [
              0.6666666666666666,
              "#ed7953"
             ],
             [
              0.7777777777777778,
              "#fb9f3a"
             ],
             [
              0.8888888888888888,
              "#fdca26"
             ],
             [
              1,
              "#f0f921"
             ]
            ],
            "type": "surface"
           }
          ],
          "table": [
           {
            "cells": {
             "fill": {
              "color": "#EBF0F8"
             },
             "line": {
              "color": "white"
             }
            },
            "header": {
             "fill": {
              "color": "#C8D4E3"
             },
             "line": {
              "color": "white"
             }
            },
            "type": "table"
           }
          ]
         },
         "layout": {
          "annotationdefaults": {
           "arrowcolor": "#2a3f5f",
           "arrowhead": 0,
           "arrowwidth": 1
          },
          "autotypenumbers": "strict",
          "coloraxis": {
           "colorbar": {
            "outlinewidth": 0,
            "ticks": ""
           }
          },
          "colorscale": {
           "diverging": [
            [
             0,
             "#8e0152"
            ],
            [
             0.1,
             "#c51b7d"
            ],
            [
             0.2,
             "#de77ae"
            ],
            [
             0.3,
             "#f1b6da"
            ],
            [
             0.4,
             "#fde0ef"
            ],
            [
             0.5,
             "#f7f7f7"
            ],
            [
             0.6,
             "#e6f5d0"
            ],
            [
             0.7,
             "#b8e186"
            ],
            [
             0.8,
             "#7fbc41"
            ],
            [
             0.9,
             "#4d9221"
            ],
            [
             1,
             "#276419"
            ]
           ],
           "sequential": [
            [
             0,
             "#0d0887"
            ],
            [
             0.1111111111111111,
             "#46039f"
            ],
            [
             0.2222222222222222,
             "#7201a8"
            ],
            [
             0.3333333333333333,
             "#9c179e"
            ],
            [
             0.4444444444444444,
             "#bd3786"
            ],
            [
             0.5555555555555556,
             "#d8576b"
            ],
            [
             0.6666666666666666,
             "#ed7953"
            ],
            [
             0.7777777777777778,
             "#fb9f3a"
            ],
            [
             0.8888888888888888,
             "#fdca26"
            ],
            [
             1,
             "#f0f921"
            ]
           ],
           "sequentialminus": [
            [
             0,
             "#0d0887"
            ],
            [
             0.1111111111111111,
             "#46039f"
            ],
            [
             0.2222222222222222,
             "#7201a8"
            ],
            [
             0.3333333333333333,
             "#9c179e"
            ],
            [
             0.4444444444444444,
             "#bd3786"
            ],
            [
             0.5555555555555556,
             "#d8576b"
            ],
            [
             0.6666666666666666,
             "#ed7953"
            ],
            [
             0.7777777777777778,
             "#fb9f3a"
            ],
            [
             0.8888888888888888,
             "#fdca26"
            ],
            [
             1,
             "#f0f921"
            ]
           ]
          },
          "colorway": [
           "#636efa",
           "#EF553B",
           "#00cc96",
           "#ab63fa",
           "#FFA15A",
           "#19d3f3",
           "#FF6692",
           "#B6E880",
           "#FF97FF",
           "#FECB52"
          ],
          "font": {
           "color": "#2a3f5f"
          },
          "geo": {
           "bgcolor": "white",
           "lakecolor": "white",
           "landcolor": "#E5ECF6",
           "showlakes": true,
           "showland": true,
           "subunitcolor": "white"
          },
          "hoverlabel": {
           "align": "left"
          },
          "hovermode": "closest",
          "mapbox": {
           "style": "light"
          },
          "paper_bgcolor": "white",
          "plot_bgcolor": "#E5ECF6",
          "polar": {
           "angularaxis": {
            "gridcolor": "white",
            "linecolor": "white",
            "ticks": ""
           },
           "bgcolor": "#E5ECF6",
           "radialaxis": {
            "gridcolor": "white",
            "linecolor": "white",
            "ticks": ""
           }
          },
          "scene": {
           "xaxis": {
            "backgroundcolor": "#E5ECF6",
            "gridcolor": "white",
            "gridwidth": 2,
            "linecolor": "white",
            "showbackground": true,
            "ticks": "",
            "zerolinecolor": "white"
           },
           "yaxis": {
            "backgroundcolor": "#E5ECF6",
            "gridcolor": "white",
            "gridwidth": 2,
            "linecolor": "white",
            "showbackground": true,
            "ticks": "",
            "zerolinecolor": "white"
           },
           "zaxis": {
            "backgroundcolor": "#E5ECF6",
            "gridcolor": "white",
            "gridwidth": 2,
            "linecolor": "white",
            "showbackground": true,
            "ticks": "",
            "zerolinecolor": "white"
           }
          },
          "shapedefaults": {
           "line": {
            "color": "#2a3f5f"
           }
          },
          "ternary": {
           "aaxis": {
            "gridcolor": "white",
            "linecolor": "white",
            "ticks": ""
           },
           "baxis": {
            "gridcolor": "white",
            "linecolor": "white",
            "ticks": ""
           },
           "bgcolor": "#E5ECF6",
           "caxis": {
            "gridcolor": "white",
            "linecolor": "white",
            "ticks": ""
           }
          },
          "title": {
           "x": 0.05
          },
          "xaxis": {
           "automargin": true,
           "gridcolor": "white",
           "linecolor": "white",
           "ticks": "",
           "title": {
            "standoff": 15
           },
           "zerolinecolor": "white",
           "zerolinewidth": 2
          },
          "yaxis": {
           "automargin": true,
           "gridcolor": "white",
           "linecolor": "white",
           "ticks": "",
           "title": {
            "standoff": 15
           },
           "zerolinecolor": "white",
           "zerolinewidth": 2
          }
         }
        },
        "title": {
         "text": ""
        },
        "width": 800
       }
      }
     },
     "metadata": {},
     "output_type": "display_data"
    },
    {
     "name": "stdout",
     "output_type": "stream",
     "text": [
      "Simulation 35/101 | f = 868.00 MHz | S11 = -22.23 dB\n",
      "Calculating radiation intensity distribution over sphere surface...\n",
      "\n",
      "Frequency = 868000000.0 Hz\n",
      "Wavelength lambda = 0.34533681334171573 m\n",
      "\n",
      "Total Power :  0.002445\n",
      "Gain Linear :  1.580685\n",
      "Gain Logarithmic (Max) :  1.988452 dBi\n",
      "\n",
      "gap_current = (0.009457041199728688+0.0014080117838545356j)\n",
      "Radiation Resistance :  53.496604 Ohms\n",
      "Input Power (P_in) : 0.0024 W\n",
      "Total Efficiency : 1.0230\n",
      "Warning: Total Efficiency is greater than 1, which is physically impossible. Please check the calculations.\n",
      "Data saved successfully to data/antennas_gain_power/sim_optimize_ifa_gain_power.mat\n",
      "Generating antenna directivity pattern...\n",
      "Data loaded from data/antennas_gain_power/sim_optimize_ifa_gain_power.mat\n",
      "Data loaded from data/antennas_gain_power/sim_optimize_ifa_gain_power.mat\n",
      "Simulation 36/101 | f = 870.00 MHz | S11 = -24.66 dB\n",
      "Calculating radiation intensity distribution over sphere surface...\n",
      "\n",
      "Frequency = 870000000.0 Hz\n",
      "Wavelength lambda = 0.3445429356098957 m\n",
      "\n",
      "Total Power :  0.002515\n",
      "Gain Linear :  1.580858\n",
      "Gain Logarithmic (Max) :  1.988928 dBi\n",
      "\n",
      "gap_current = (0.0097267624710376+0.0011232962747923729j)\n",
      "Radiation Resistance :  52.466543 Ohms\n",
      "Input Power (P_in) : 0.0024 W\n",
      "Total Efficiency : 1.0274\n",
      "Warning: Total Efficiency is greater than 1, which is physically impossible. Please check the calculations.\n",
      "Data saved successfully to data/antennas_gain_power/sim_optimize_ifa_gain_power.mat\n",
      "Generating antenna directivity pattern...\n",
      "Data loaded from data/antennas_gain_power/sim_optimize_ifa_gain_power.mat\n",
      "Data loaded from data/antennas_gain_power/sim_optimize_ifa_gain_power.mat\n",
      "Simulation 37/101 | f = 872.00 MHz | S11 = -27.82 dB\n",
      "Calculating radiation intensity distribution over sphere surface...\n",
      "\n",
      "Frequency = 872000000.0 Hz\n",
      "Wavelength lambda = 0.3437526995190473 m\n",
      "\n",
      "Total Power :  0.002580\n",
      "Gain Linear :  1.581021\n",
      "Gain Logarithmic (Max) :  1.989376 dBi\n",
      "\n",
      "gap_current = (0.009979181501566247+0.0008128299906522922j)\n",
      "Radiation Resistance :  51.480059 Ohms\n",
      "Input Power (P_in) : 0.0025 W\n",
      "Total Efficiency : 1.0309\n",
      "Warning: Total Efficiency is greater than 1, which is physically impossible. Please check the calculations.\n",
      "Data saved successfully to data/antennas_gain_power/sim_optimize_ifa_gain_power.mat\n",
      "Generating antenna directivity pattern...\n",
      "Data loaded from data/antennas_gain_power/sim_optimize_ifa_gain_power.mat\n",
      "Data loaded from data/antennas_gain_power/sim_optimize_ifa_gain_power.mat\n",
      "Simulation 38/101 | f = 874.00 MHz | S11 = -31.75 dB\n",
      "Calculating radiation intensity distribution over sphere surface...\n",
      "\n",
      "Frequency = 874000000.0 Hz\n",
      "Wavelength lambda = 0.342966080069347 m\n",
      "\n",
      "Total Power :  0.002640\n",
      "Gain Linear :  1.581175\n",
      "Gain Logarithmic (Max) :  1.989800 dBi\n",
      "\n",
      "gap_current = (0.010210949997962314+0.0004779836108620138j)\n",
      "Radiation Resistance :  50.534745 Ohms\n",
      "Input Power (P_in) : 0.0026 W\n",
      "Total Efficiency : 1.0331\n",
      "Warning: Total Efficiency is greater than 1, which is physically impossible. Please check the calculations.\n",
      "Data saved successfully to data/antennas_gain_power/sim_optimize_ifa_gain_power.mat\n",
      "Generating antenna directivity pattern...\n",
      "Data loaded from data/antennas_gain_power/sim_optimize_ifa_gain_power.mat\n",
      "Data loaded from data/antennas_gain_power/sim_optimize_ifa_gain_power.mat\n",
      "Simulation 39/101 | f = 876.00 MHz | S11 = -33.41 dB\n",
      "Calculating radiation intensity distribution over sphere surface...\n",
      "\n",
      "Frequency = 876000000.0 Hz\n",
      "Wavelength lambda = 0.34218305248927994 m\n",
      "\n",
      "Total Power :  0.002694\n",
      "Gain Linear :  1.581329\n",
      "Gain Logarithmic (Max) :  1.990222 dBi\n",
      "\n",
      "gap_current = (0.010418845168864425+0.0001206808438652365j)\n",
      "Radiation Resistance :  49.628359 Ohms\n",
      "Input Power (P_in) : 0.0026 W\n",
      "Total Efficiency : 1.0342\n",
      "Warning: Total Efficiency is greater than 1, which is physically impossible. Please check the calculations.\n",
      "Data saved successfully to data/antennas_gain_power/sim_optimize_ifa_gain_power.mat\n",
      "Generating antenna directivity pattern...\n",
      "Data loaded from data/antennas_gain_power/sim_optimize_ifa_gain_power.mat\n",
      "Data loaded from data/antennas_gain_power/sim_optimize_ifa_gain_power.mat\n",
      "Simulation 40/101 | f = 878.00 MHz | S11 = -29.99 dB\n",
      "Calculating radiation intensity distribution over sphere surface...\n",
      "\n",
      "Frequency = 878000000.0 Hz\n",
      "Wavelength lambda = 0.3414035922330401 m\n",
      "\n",
      "Total Power :  0.002741\n",
      "Gain Linear :  1.581472\n",
      "Gain Logarithmic (Max) :  1.990616 dBi\n",
      "\n",
      "gap_current = (0.010599880953069223-0.00025661236622802856j)\n",
      "Radiation Resistance :  48.758810 Ohms\n",
      "Input Power (P_in) : 0.0027 W\n",
      "Total Efficiency : 1.0340\n",
      "Warning: Total Efficiency is greater than 1, which is physically impossible. Please check the calculations.\n",
      "Data saved successfully to data/antennas_gain_power/sim_optimize_ifa_gain_power.mat\n",
      "Generating antenna directivity pattern...\n",
      "Data loaded from data/antennas_gain_power/sim_optimize_ifa_gain_power.mat\n",
      "Data loaded from data/antennas_gain_power/sim_optimize_ifa_gain_power.mat\n",
      "Simulation 41/101 | f = 880.00 MHz | S11 = -26.40 dB\n",
      "Calculating radiation intensity distribution over sphere surface...\n",
      "\n",
      "Frequency = 880000000.0 Hz\n",
      "Wavelength lambda = 0.34062767497796503 m\n",
      "\n",
      "Total Power :  0.002780\n",
      "Gain Linear :  1.581605\n",
      "Gain Logarithmic (Max) :  1.990980 dBi\n",
      "\n",
      "gap_current = (0.010751418993264306-0.0006509251690186337j)\n",
      "Radiation Resistance :  47.924149 Ohms\n",
      "Input Power (P_in) : 0.0027 W\n",
      "Total Efficiency : 1.0324\n",
      "Warning: Total Efficiency is greater than 1, which is physically impossible. Please check the calculations.\n",
      "Data saved successfully to data/antennas_gain_power/sim_optimize_ifa_gain_power.mat\n",
      "Generating antenna directivity pattern...\n",
      "Data loaded from data/antennas_gain_power/sim_optimize_ifa_gain_power.mat\n",
      "Data loaded from data/antennas_gain_power/sim_optimize_ifa_gain_power.mat\n",
      "Simulation 42/101 | f = 882.00 MHz | S11 = -23.66 dB\n",
      "Calculating radiation intensity distribution over sphere surface...\n",
      "\n",
      "Frequency = 882000000.0 Hz\n",
      "Wavelength lambda = 0.33985527662200593 m\n",
      "\n",
      "Total Power :  0.002811\n",
      "Gain Linear :  1.581727\n",
      "Gain Logarithmic (Max) :  1.991316 dBi\n",
      "\n",
      "gap_current = (0.010871271988957563-0.001058845953400317j)\n",
      "Radiation Resistance :  47.122554 Ohms\n",
      "Input Power (P_in) : 0.0027 W\n",
      "Total Efficiency : 1.0294\n",
      "Warning: Total Efficiency is greater than 1, which is physically impossible. Please check the calculations.\n",
      "Data saved successfully to data/antennas_gain_power/sim_optimize_ifa_gain_power.mat\n",
      "Generating antenna directivity pattern...\n",
      "Data loaded from data/antennas_gain_power/sim_optimize_ifa_gain_power.mat\n",
      "Data loaded from data/antennas_gain_power/sim_optimize_ifa_gain_power.mat\n",
      "Simulation 43/101 | f = 884.00 MHz | S11 = -21.54 dB\n",
      "Calculating radiation intensity distribution over sphere surface...\n",
      "\n",
      "Frequency = 884000000.0 Hz\n",
      "Wavelength lambda = 0.33908637328123215 m\n",
      "\n",
      "Total Power :  0.002833\n",
      "Gain Linear :  1.581839\n",
      "Gain Logarithmic (Max) :  1.991622 dBi\n",
      "\n",
      "gap_current = (0.01095779195466112-0.0014766112491099545j)\n",
      "Radiation Resistance :  46.352321 Ohms\n",
      "Input Power (P_in) : 0.0028 W\n",
      "Total Efficiency : 1.0250\n",
      "Warning: Total Efficiency is greater than 1, which is physically impossible. Please check the calculations.\n",
      "Data saved successfully to data/antennas_gain_power/sim_optimize_ifa_gain_power.mat\n",
      "Generating antenna directivity pattern...\n",
      "Data loaded from data/antennas_gain_power/sim_optimize_ifa_gain_power.mat\n",
      "Data loaded from data/antennas_gain_power/sim_optimize_ifa_gain_power.mat\n",
      "Simulation 44/101 | f = 886.00 MHz | S11 = -19.83 dB\n",
      "Calculating radiation intensity distribution over sphere surface...\n",
      "\n",
      "Frequency = 886000000.0 Hz\n",
      "Wavelength lambda = 0.33832094128736934 m\n",
      "\n",
      "Total Power :  0.002847\n",
      "Gain Linear :  1.581940\n",
      "Gain Logarithmic (Max) :  1.991899 dBi\n",
      "\n",
      "gap_current = (0.011009936639048269-0.001900214971786055j)\n",
      "Radiation Resistance :  45.611859 Ohms\n",
      "Input Power (P_in) : 0.0028 W\n",
      "Total Efficiency : 1.0192\n",
      "Warning: Total Efficiency is greater than 1, which is physically impossible. Please check the calculations.\n",
      "Data saved successfully to data/antennas_gain_power/sim_optimize_ifa_gain_power.mat\n",
      "Generating antenna directivity pattern...\n",
      "Data loaded from data/antennas_gain_power/sim_optimize_ifa_gain_power.mat\n",
      "Data loaded from data/antennas_gain_power/sim_optimize_ifa_gain_power.mat\n",
      "Simulation 45/101 | f = 888.00 MHz | S11 = -18.40 dB\n",
      "Calculating radiation intensity distribution over sphere surface...\n",
      "\n",
      "Frequency = 888000000.0 Hz\n",
      "Wavelength lambda = 0.33755895718537077 m\n",
      "\n",
      "Total Power :  0.002851\n",
      "Gain Linear :  1.582029\n",
      "Gain Logarithmic (Max) :  1.992145 dBi\n",
      "\n",
      "gap_current = (0.011027308908646597-0.0023255315662699307j)\n",
      "Radiation Resistance :  44.899675 Ohms\n",
      "Input Power (P_in) : 0.0028 W\n",
      "Total Efficiency : 1.0120\n",
      "Warning: Total Efficiency is greater than 1, which is physically impossible. Please check the calculations.\n",
      "Data saved successfully to data/antennas_gain_power/sim_optimize_ifa_gain_power.mat\n",
      "Generating antenna directivity pattern...\n",
      "Data loaded from data/antennas_gain_power/sim_optimize_ifa_gain_power.mat\n",
      "Data loaded from data/antennas_gain_power/sim_optimize_ifa_gain_power.mat\n",
      "Simulation 46/101 | f = 890.00 MHz | S11 = -17.19 dB\n",
      "Calculating radiation intensity distribution over sphere surface...\n",
      "\n",
      "Frequency = 890000000.0 Hz\n",
      "Wavelength lambda = 0.3368003977310216 m\n",
      "\n",
      "Total Power :  0.002847\n",
      "Gain Linear :  1.582108\n",
      "Gain Logarithmic (Max) :  1.992361 dBi\n",
      "\n",
      "gap_current = (0.011010166104618946-0.0027484451966578037j)\n",
      "Radiation Resistance :  44.214371 Ohms\n",
      "Input Power (P_in) : 0.0028 W\n",
      "Total Efficiency : 1.0035\n",
      "Warning: Total Efficiency is greater than 1, which is physically impossible. Please check the calculations.\n",
      "Data saved successfully to data/antennas_gain_power/sim_optimize_ifa_gain_power.mat\n",
      "Generating antenna directivity pattern...\n",
      "Data loaded from data/antennas_gain_power/sim_optimize_ifa_gain_power.mat\n",
      "Data loaded from data/antennas_gain_power/sim_optimize_ifa_gain_power.mat\n",
      "Simulation 47/101 | f = 892.00 MHz | S11 = -16.14 dB\n",
      "Calculating radiation intensity distribution over sphere surface...\n",
      "\n",
      "Frequency = 892000000.0 Hz\n",
      "Wavelength lambda = 0.3360452398885754 m\n",
      "\n",
      "Total Power :  0.002834\n",
      "Gain Linear :  1.582176\n",
      "Gain Logarithmic (Max) :  1.992547 dBi\n",
      "\n",
      "gap_current = (0.010959398961365068-0.003164976570462031j)\n",
      "Radiation Resistance :  43.554635 Ohms\n",
      "Input Power (P_in) : 0.0029 W\n",
      "Total Efficiency : 0.9937\n",
      "Data saved successfully to data/antennas_gain_power/sim_optimize_ifa_gain_power.mat\n",
      "Generating antenna directivity pattern...\n",
      "Data loaded from data/antennas_gain_power/sim_optimize_ifa_gain_power.mat\n",
      "Data loaded from data/antennas_gain_power/sim_optimize_ifa_gain_power.mat\n",
      "Simulation 48/101 | f = 894.00 MHz | S11 = -15.21 dB\n",
      "Calculating radiation intensity distribution over sphere surface...\n",
      "\n",
      "Frequency = 894000000.0 Hz\n",
      "Wavelength lambda = 0.335293460828422 m\n",
      "\n",
      "Total Power :  0.002812\n",
      "Gain Linear :  1.582232\n",
      "Gain Logarithmic (Max) :  1.992701 dBi\n",
      "\n",
      "gap_current = (0.010876482279671279-0.0035713993501913267j)\n",
      "Radiation Resistance :  42.919237 Ohms\n",
      "Input Power (P_in) : 0.0029 W\n",
      "Total Efficiency : 0.9827\n",
      "Data saved successfully to data/antennas_gain_power/sim_optimize_ifa_gain_power.mat\n",
      "Generating antenna directivity pattern...\n",
      "Data loaded from data/antennas_gain_power/sim_optimize_ifa_gain_power.mat\n",
      "Data loaded from data/antennas_gain_power/sim_optimize_ifa_gain_power.mat\n",
      "Simulation 49/101 | f = 896.00 MHz | S11 = -14.38 dB\n",
      "Calculating radiation intensity distribution over sphere surface...\n",
      "\n",
      "Frequency = 896000000.0 Hz\n",
      "Wavelength lambda = 0.33454503792478707 m\n",
      "\n",
      "Total Power :  0.002783\n",
      "Gain Linear :  1.582276\n",
      "Gain Logarithmic (Max) :  1.992824 dBi\n",
      "\n",
      "gap_current = (0.010763401823128353-0.003964339327104469j)\n",
      "Radiation Resistance :  42.307020 Ohms\n",
      "Input Power (P_in) : 0.0029 W\n",
      "Total Efficiency : 0.9705\n",
      "Data saved successfully to data/antennas_gain_power/sim_optimize_ifa_gain_power.mat\n",
      "Generating antenna directivity pattern...\n",
      "Data loaded from data/antennas_gain_power/sim_optimize_ifa_gain_power.mat\n",
      "Data loaded from data/antennas_gain_power/sim_optimize_ifa_gain_power.mat\n",
      "Simulation 50/101 | f = 898.00 MHz | S11 = -13.64 dB\n",
      "Calculating radiation intensity distribution over sphere surface...\n",
      "\n",
      "Frequency = 898000000.0 Hz\n",
      "Wavelength lambda = 0.3337999487534624 m\n",
      "\n",
      "Total Power :  0.002747\n",
      "Gain Linear :  1.582310\n",
      "Gain Logarithmic (Max) :  1.992915 dBi\n",
      "\n",
      "gap_current = (0.010622563570577226-0.004340851401795528j)\n",
      "Radiation Resistance :  41.716897 Ohms\n",
      "Input Power (P_in) : 0.0029 W\n",
      "Total Efficiency : 0.9574\n",
      "Data saved successfully to data/antennas_gain_power/sim_optimize_ifa_gain_power.mat\n",
      "Generating antenna directivity pattern...\n",
      "Data loaded from data/antennas_gain_power/sim_optimize_ifa_gain_power.mat\n",
      "Data loaded from data/antennas_gain_power/sim_optimize_ifa_gain_power.mat\n",
      "Simulation 51/101 | f = 900.00 MHz | S11 = -12.96 dB\n",
      "Calculating radiation intensity distribution over sphere surface...\n",
      "\n",
      "Frequency = 900000000.0 Hz\n",
      "Wavelength lambda = 0.3330581710895658 m\n",
      "\n",
      "Total Power :  0.002704\n",
      "Gain Linear :  1.582331\n",
      "Gain Logarithmic (Max) :  1.992973 dBi\n",
      "\n",
      "gap_current = (0.010456692343129417-0.004698471639981219j)\n",
      "Radiation Resistance :  41.147844 Ohms\n",
      "Input Power (P_in) : 0.0029 W\n",
      "Total Efficiency : 0.9434\n",
      "Data saved successfully to data/antennas_gain_power/sim_optimize_ifa_gain_power.mat\n",
      "Generating antenna directivity pattern...\n",
      "Data loaded from data/antennas_gain_power/sim_optimize_ifa_gain_power.mat\n",
      "Data loaded from data/antennas_gain_power/sim_optimize_ifa_gain_power.mat\n",
      "Simulation 52/101 | f = 902.00 MHz | S11 = -12.34 dB\n",
      "Calculating radiation intensity distribution over sphere surface...\n",
      "\n",
      "Frequency = 902000000.0 Hz\n",
      "Wavelength lambda = 0.33231968290533176 m\n",
      "\n",
      "Total Power :  0.002655\n",
      "Gain Linear :  1.582340\n",
      "Gain Logarithmic (Max) :  1.992999 dBi\n",
      "\n",
      "gap_current = (0.010268726902940105-0.005035243930044635j)\n",
      "Radiation Resistance :  40.598900 Ohms\n",
      "Input Power (P_in) : 0.0029 W\n",
      "Total Efficiency : 0.9286\n",
      "Data saved successfully to data/antennas_gain_power/sim_optimize_ifa_gain_power.mat\n",
      "Generating antenna directivity pattern...\n",
      "Data loaded from data/antennas_gain_power/sim_optimize_ifa_gain_power.mat\n",
      "Data loaded from data/antennas_gain_power/sim_optimize_ifa_gain_power.mat\n",
      "Simulation 53/101 | f = 904.00 MHz | S11 = -11.78 dB\n",
      "Calculating radiation intensity distribution over sphere surface...\n",
      "\n",
      "Frequency = 904000000.0 Hz\n",
      "Wavelength lambda = 0.3315844623679306 m\n",
      "\n",
      "Total Power :  0.002602\n",
      "Gain Linear :  1.582338\n",
      "Gain Logarithmic (Max) :  1.992992 dBi\n",
      "\n",
      "gap_current = (0.010061717988874857-0.005349722778513866j)\n",
      "Radiation Resistance :  40.069155 Ohms\n",
      "Input Power (P_in) : 0.0028 W\n",
      "Total Efficiency : 0.9132\n",
      "Data saved successfully to data/antennas_gain_power/sim_optimize_ifa_gain_power.mat\n",
      "Generating antenna directivity pattern...\n",
      "Data loaded from data/antennas_gain_power/sim_optimize_ifa_gain_power.mat\n",
      "Data loaded from data/antennas_gain_power/sim_optimize_ifa_gain_power.mat\n",
      "Simulation 54/101 | f = 906.00 MHz | S11 = -11.26 dB\n",
      "Calculating radiation intensity distribution over sphere surface...\n",
      "\n",
      "Frequency = 906000000.0 Hz\n",
      "Wavelength lambda = 0.330852487837317 m\n",
      "\n",
      "Total Power :  0.002544\n",
      "Gain Linear :  1.582323\n",
      "Gain Logarithmic (Max) :  1.992952 dBi\n",
      "\n",
      "gap_current = (0.00983873459727994-0.005640955338011547j)\n",
      "Radiation Resistance :  39.557755 Ohms\n",
      "Input Power (P_in) : 0.0028 W\n",
      "Total Efficiency : 0.8973\n",
      "Data saved successfully to data/antennas_gain_power/sim_optimize_ifa_gain_power.mat\n",
      "Generating antenna directivity pattern...\n",
      "Data loaded from data/antennas_gain_power/sim_optimize_ifa_gain_power.mat\n",
      "Data loaded from data/antennas_gain_power/sim_optimize_ifa_gain_power.mat\n",
      "Simulation 55/101 | f = 908.00 MHz | S11 = -10.77 dB\n",
      "Calculating radiation intensity distribution over sphere surface...\n",
      "\n",
      "Frequency = 908000000.0 Hz\n",
      "Wavelength lambda = 0.3301237378641071 m\n",
      "\n",
      "Total Power :  0.002483\n",
      "Gain Linear :  1.582296\n",
      "Gain Logarithmic (Max) :  1.992878 dBi\n",
      "\n",
      "gap_current = (0.009602782361295976-0.005908446767283924j)\n",
      "Radiation Resistance :  39.063892 Ohms\n",
      "Input Power (P_in) : 0.0028 W\n",
      "Total Efficiency : 0.8809\n",
      "Data saved successfully to data/antennas_gain_power/sim_optimize_ifa_gain_power.mat\n",
      "Generating antenna directivity pattern...\n",
      "Data loaded from data/antennas_gain_power/sim_optimize_ifa_gain_power.mat\n",
      "Data loaded from data/antennas_gain_power/sim_optimize_ifa_gain_power.mat\n",
      "Simulation 56/101 | f = 910.00 MHz | S11 = -10.33 dB\n",
      "Calculating radiation intensity distribution over sphere surface...\n",
      "\n",
      "Frequency = 910000000.0 Hz\n",
      "Wavelength lambda = 0.3293981911874827 m\n",
      "\n",
      "Total Power :  0.002419\n",
      "Gain Linear :  1.582256\n",
      "Gain Logarithmic (Max) :  1.992769 dBi\n",
      "\n",
      "gap_current = (0.009356736352073803-0.006152113469506216j)\n",
      "Radiation Resistance :  38.586804 Ohms\n",
      "Input Power (P_in) : 0.0028 W\n",
      "Total Efficiency : 0.8642\n",
      "Data saved successfully to data/antennas_gain_power/sim_optimize_ifa_gain_power.mat\n",
      "Generating antenna directivity pattern...\n",
      "Data loaded from data/antennas_gain_power/sim_optimize_ifa_gain_power.mat\n",
      "Data loaded from data/antennas_gain_power/sim_optimize_ifa_gain_power.mat\n",
      "Simulation 57/101 | f = 912.00 MHz | S11 = -9.91 dB\n",
      "Calculating radiation intensity distribution over sphere surface...\n",
      "\n",
      "Frequency = 912000000.0 Hz\n",
      "Wavelength lambda = 0.3286758267331242 m\n",
      "\n",
      "Total Power :  0.002354\n",
      "Gain Linear :  1.582204\n",
      "Gain Logarithmic (Max) :  1.992625 dBi\n",
      "\n",
      "gap_current = (0.009103289202986559-0.006372228713706523j)\n",
      "Radiation Resistance :  38.125771 Ohms\n",
      "Input Power (P_in) : 0.0028 W\n",
      "Total Efficiency : 0.8473\n",
      "Data saved successfully to data/antennas_gain_power/sim_optimize_ifa_gain_power.mat\n",
      "Generating antenna directivity pattern...\n",
      "Data loaded from data/antennas_gain_power/sim_optimize_ifa_gain_power.mat\n",
      "Data loaded from data/antennas_gain_power/sim_optimize_ifa_gain_power.mat\n",
      "Simulation 58/101 | f = 914.00 MHz | S11 = -9.52 dB\n",
      "Calculating radiation intensity distribution over sphere surface...\n",
      "\n",
      "Frequency = 914000000.0 Hz\n",
      "Wavelength lambda = 0.32795662361116984 m\n",
      "\n",
      "Total Power :  0.002287\n",
      "Gain Linear :  1.582139\n",
      "Gain Logarithmic (Max) :  1.992446 dBi\n",
      "\n",
      "gap_current = (0.008844914268919998-0.006569364731327132j)\n",
      "Radiation Resistance :  37.680111 Ohms\n",
      "Input Power (P_in) : 0.0028 W\n",
      "Total Efficiency : 0.8303\n",
      "Data saved successfully to data/antennas_gain_power/sim_optimize_ifa_gain_power.mat\n",
      "Generating antenna directivity pattern...\n",
      "Data loaded from data/antennas_gain_power/sim_optimize_ifa_gain_power.mat\n",
      "Data loaded from data/antennas_gain_power/sim_optimize_ifa_gain_power.mat\n",
      "Simulation 59/101 | f = 916.00 MHz | S11 = -9.15 dB\n",
      "Calculating radiation intensity distribution over sphere surface...\n",
      "\n",
      "Frequency = 916000000.0 Hz\n",
      "Wavelength lambda = 0.32724056111420224 m\n",
      "\n",
      "Total Power :  0.002219\n",
      "Gain Linear :  1.582061\n",
      "Gain Logarithmic (Max) :  1.992232 dBi\n",
      "\n",
      "gap_current = (0.008583842640954244-0.006744334728700421j)\n",
      "Radiation Resistance :  37.249181 Ohms\n",
      "Input Power (P_in) : 0.0027 W\n",
      "Total Efficiency : 0.8133\n",
      "Data saved successfully to data/antennas_gain_power/sim_optimize_ifa_gain_power.mat\n",
      "Generating antenna directivity pattern...\n",
      "Data loaded from data/antennas_gain_power/sim_optimize_ifa_gain_power.mat\n",
      "Data loaded from data/antennas_gain_power/sim_optimize_ifa_gain_power.mat\n",
      "Simulation 60/101 | f = 918.00 MHz | S11 = -8.81 dB\n",
      "Calculating radiation intensity distribution over sphere surface...\n",
      "\n",
      "Frequency = 918000000.0 Hz\n",
      "Wavelength lambda = 0.3265276187152606 m\n",
      "\n",
      "Total Power :  0.002152\n",
      "Gain Linear :  1.581969\n",
      "Gain Logarithmic (Max) :  1.991981 dBi\n",
      "\n",
      "gap_current = (0.008322052253400249-0.006898137491820557j)\n",
      "Radiation Resistance :  36.832372 Ohms\n",
      "Input Power (P_in) : 0.0027 W\n",
      "Total Efficiency : 0.7963\n",
      "Data saved successfully to data/antennas_gain_power/sim_optimize_ifa_gain_power.mat\n",
      "Generating antenna directivity pattern...\n",
      "Data loaded from data/antennas_gain_power/sim_optimize_ifa_gain_power.mat\n",
      "Data loaded from data/antennas_gain_power/sim_optimize_ifa_gain_power.mat\n",
      "Simulation 61/101 | f = 920.00 MHz | S11 = -8.49 dB\n",
      "Calculating radiation intensity distribution over sphere surface...\n",
      "\n",
      "Frequency = 920000000.0 Hz\n",
      "Wavelength lambda = 0.3258177760658796 m\n",
      "\n",
      "Total Power :  0.002084\n",
      "Gain Linear :  1.581865\n",
      "Gain Logarithmic (Max) :  1.991693 dBi\n",
      "\n",
      "gap_current = (0.008061267017242399-0.007031906485286536j)\n",
      "Radiation Resistance :  36.429105 Ohms\n",
      "Input Power (P_in) : 0.0027 W\n",
      "Total Efficiency : 0.7794\n",
      "Data saved successfully to data/antennas_gain_power/sim_optimize_ifa_gain_power.mat\n",
      "Generating antenna directivity pattern...\n",
      "Data loaded from data/antennas_gain_power/sim_optimize_ifa_gain_power.mat\n",
      "Data loaded from data/antennas_gain_power/sim_optimize_ifa_gain_power.mat\n",
      "Simulation 62/101 | f = 922.00 MHz | S11 = -8.18 dB\n",
      "Calculating radiation intensity distribution over sphere surface...\n",
      "\n",
      "Frequency = 922000000.0 Hz\n",
      "Wavelength lambda = 0.3251110129941532 m\n",
      "\n",
      "Total Power :  0.002018\n",
      "Gain Linear :  1.581746\n",
      "Gain Logarithmic (Max) :  1.991369 dBi\n",
      "\n",
      "gap_current = (0.0078029638408672304-0.007146864635987322j)\n",
      "Radiation Resistance :  36.038833 Ohms\n",
      "Input Power (P_in) : 0.0026 W\n",
      "Total Efficiency : 0.7627\n",
      "Data saved successfully to data/antennas_gain_power/sim_optimize_ifa_gain_power.mat\n",
      "Generating antenna directivity pattern...\n",
      "Data loaded from data/antennas_gain_power/sim_optimize_ifa_gain_power.mat\n",
      "Data loaded from data/antennas_gain_power/sim_optimize_ifa_gain_power.mat\n",
      "Simulation 63/101 | f = 924.00 MHz | S11 = -7.90 dB\n",
      "Calculating radiation intensity distribution over sphere surface...\n",
      "\n",
      "Frequency = 924000000.0 Hz\n",
      "Wavelength lambda = 0.32440730950282387 m\n",
      "\n",
      "Total Power :  0.001952\n",
      "Gain Linear :  1.581614\n",
      "Gain Logarithmic (Max) :  1.991006 dBi\n",
      "\n",
      "gap_current = (0.007548385495601617-0.007244285388239962j)\n",
      "Radiation Resistance :  35.661038 Ohms\n",
      "Input Power (P_in) : 0.0026 W\n",
      "Total Efficiency : 0.7462\n",
      "Data saved successfully to data/antennas_gain_power/sim_optimize_ifa_gain_power.mat\n",
      "Generating antenna directivity pattern...\n",
      "Data loaded from data/antennas_gain_power/sim_optimize_ifa_gain_power.mat\n",
      "Data loaded from data/antennas_gain_power/sim_optimize_ifa_gain_power.mat\n",
      "Simulation 64/101 | f = 926.00 MHz | S11 = -7.63 dB\n",
      "Calculating radiation intensity distribution over sphere surface...\n",
      "\n",
      "Frequency = 926000000.0 Hz\n",
      "Wavelength lambda = 0.3237066457673966 m\n",
      "\n",
      "Total Power :  0.001887\n",
      "Gain Linear :  1.581468\n",
      "Gain Logarithmic (Max) :  1.990605 dBi\n",
      "\n",
      "gap_current = (0.007298557491520784-0.0073254601398016934j)\n",
      "Radiation Resistance :  35.295228 Ohms\n",
      "Input Power (P_in) : 0.0026 W\n",
      "Total Efficiency : 0.7300\n",
      "Data saved successfully to data/antennas_gain_power/sim_optimize_ifa_gain_power.mat\n",
      "Generating antenna directivity pattern...\n",
      "Data loaded from data/antennas_gain_power/sim_optimize_ifa_gain_power.mat\n",
      "Data loaded from data/antennas_gain_power/sim_optimize_ifa_gain_power.mat\n",
      "Simulation 65/101 | f = 928.00 MHz | S11 = -7.37 dB\n",
      "Calculating radiation intensity distribution over sphere surface...\n",
      "\n",
      "Frequency = 928000000.0 Hz\n",
      "Wavelength lambda = 0.3230090021342772 m\n",
      "\n",
      "Total Power :  0.001824\n",
      "Gain Linear :  1.581308\n",
      "Gain Logarithmic (Max) :  1.990165 dBi\n",
      "\n",
      "gap_current = (0.007054307397707185-0.007391671817799416j)\n",
      "Radiation Resistance :  34.940935 Ohms\n",
      "Input Power (P_in) : 0.0026 W\n",
      "Total Efficiency : 0.7140\n",
      "Data saved successfully to data/antennas_gain_power/sim_optimize_ifa_gain_power.mat\n",
      "Generating antenna directivity pattern...\n",
      "Data loaded from data/antennas_gain_power/sim_optimize_ifa_gain_power.mat\n",
      "Data loaded from data/antennas_gain_power/sim_optimize_ifa_gain_power.mat\n",
      "Simulation 66/101 | f = 930.00 MHz | S11 = -7.13 dB\n",
      "Calculating radiation intensity distribution over sphere surface...\n",
      "\n",
      "Frequency = 930000000.0 Hz\n",
      "Wavelength lambda = 0.3223143591189347 m\n",
      "\n",
      "Total Power :  0.001762\n",
      "Gain Linear :  1.581134\n",
      "Gain Logarithmic (Max) :  1.989686 dBi\n",
      "\n",
      "gap_current = (0.006816285330782189-0.00744417411838134j)\n",
      "Radiation Resistance :  34.597714 Ohms\n",
      "Input Power (P_in) : 0.0025 W\n",
      "Total Efficiency : 0.6984\n",
      "Data saved successfully to data/antennas_gain_power/sim_optimize_ifa_gain_power.mat\n",
      "Generating antenna directivity pattern...\n",
      "Data loaded from data/antennas_gain_power/sim_optimize_ifa_gain_power.mat\n",
      "Data loaded from data/antennas_gain_power/sim_optimize_ifa_gain_power.mat\n",
      "Simulation 67/101 | f = 932.00 MHz | S11 = -6.89 dB\n",
      "Calculating radiation intensity distribution over sphere surface...\n",
      "\n",
      "Frequency = 932000000.0 Hz\n",
      "Wavelength lambda = 0.32162269740408717 m\n",
      "\n",
      "Total Power :  0.001703\n",
      "Gain Linear :  1.580945\n",
      "Gain Logarithmic (Max) :  1.989166 dBi\n",
      "\n",
      "gap_current = (0.0065849846179648125-0.0074841757953034455j)\n",
      "Radiation Resistance :  34.265145 Ohms\n",
      "Input Power (P_in) : 0.0025 W\n",
      "Total Efficiency : 0.6832\n",
      "Data saved successfully to data/antennas_gain_power/sim_optimize_ifa_gain_power.mat\n",
      "Generating antenna directivity pattern...\n",
      "Data loaded from data/antennas_gain_power/sim_optimize_ifa_gain_power.mat\n",
      "Data loaded from data/antennas_gain_power/sim_optimize_ifa_gain_power.mat\n",
      "Simulation 68/101 | f = 934.00 MHz | S11 = -6.68 dB\n",
      "Calculating radiation intensity distribution over sphere surface...\n",
      "\n",
      "Frequency = 934000000.0 Hz\n",
      "Wavelength lambda = 0.3209339978379114 m\n",
      "\n",
      "Total Power :  0.001645\n",
      "Gain Linear :  1.580741\n",
      "Gain Logarithmic (Max) :  1.988606 dBi\n",
      "\n",
      "gap_current = (0.006360761897936964-0.0075128293200938424j)\n",
      "Radiation Resistance :  33.942827 Ohms\n",
      "Input Power (P_in) : 0.0025 W\n",
      "Total Efficiency : 0.6683\n",
      "Data saved successfully to data/antennas_gain_power/sim_optimize_ifa_gain_power.mat\n",
      "Generating antenna directivity pattern...\n",
      "Data loaded from data/antennas_gain_power/sim_optimize_ifa_gain_power.mat\n",
      "Data loaded from data/antennas_gain_power/sim_optimize_ifa_gain_power.mat\n",
      "Simulation 69/101 | f = 936.00 MHz | S11 = -6.47 dB\n",
      "Calculating radiation intensity distribution over sphere surface...\n",
      "\n",
      "Frequency = 936000000.0 Hz\n",
      "Wavelength lambda = 0.3202482414322748 m\n",
      "\n",
      "Total Power :  0.001588\n",
      "Gain Linear :  1.580522\n",
      "Gain Logarithmic (Max) :  1.988005 dBi\n",
      "\n",
      "gap_current = (0.006143856144819867-0.007531223229872508j)\n",
      "Radiation Resistance :  33.630377 Ohms\n",
      "Input Power (P_in) : 0.0024 W\n",
      "Total Efficiency : 0.6537\n",
      "Data saved successfully to data/antennas_gain_power/sim_optimize_ifa_gain_power.mat\n",
      "Generating antenna directivity pattern...\n",
      "Data loaded from data/antennas_gain_power/sim_optimize_ifa_gain_power.mat\n",
      "Data loaded from data/antennas_gain_power/sim_optimize_ifa_gain_power.mat\n",
      "Simulation 70/101 | f = 938.00 MHz | S11 = -6.27 dB\n",
      "Calculating radiation intensity distribution over sphere surface...\n",
      "\n",
      "Frequency = 938000000.0 Hz\n",
      "Wavelength lambda = 0.31956540936099065 m\n",
      "\n",
      "Total Power :  0.001534\n",
      "Gain Linear :  1.580288\n",
      "Gain Logarithmic (Max) :  1.987362 dBi\n",
      "\n",
      "gap_current = (0.005934406284083836-0.0075403775107004975j)\n",
      "Radiation Resistance :  33.327432 Ohms\n",
      "Input Power (P_in) : 0.0024 W\n",
      "Total Efficiency : 0.6396\n",
      "Data saved successfully to data/antennas_gain_power/sim_optimize_ifa_gain_power.mat\n",
      "Generating antenna directivity pattern...\n",
      "Data loaded from data/antennas_gain_power/sim_optimize_ifa_gain_power.mat\n",
      "Data loaded from data/antennas_gain_power/sim_optimize_ifa_gain_power.mat\n",
      "Simulation 71/101 | f = 940.00 MHz | S11 = -6.08 dB\n",
      "Calculating radiation intensity distribution over sphere surface...\n",
      "\n",
      "Frequency = 940000000.0 Hz\n",
      "Wavelength lambda = 0.31888548295809493 m\n",
      "\n",
      "Total Power :  0.001482\n",
      "Gain Linear :  1.580038\n",
      "Gain Logarithmic (Max) :  1.986677 dBi\n",
      "\n",
      "gap_current = (0.00573246721493258-0.00754124142004771j)\n",
      "Radiation Resistance :  33.033648 Ohms\n",
      "Input Power (P_in) : 0.0024 W\n",
      "Total Efficiency : 0.6258\n",
      "Data saved successfully to data/antennas_gain_power/sim_optimize_ifa_gain_power.mat\n",
      "Generating antenna directivity pattern...\n",
      "Data loaded from data/antennas_gain_power/sim_optimize_ifa_gain_power.mat\n",
      "Data loaded from data/antennas_gain_power/sim_optimize_ifa_gain_power.mat\n",
      "Simulation 72/101 | f = 942.00 MHz | S11 = -5.90 dB\n",
      "Calculating radiation intensity distribution over sphere surface...\n",
      "\n",
      "Frequency = 942000000.0 Hz\n",
      "Wavelength lambda = 0.3182084437161457 m\n",
      "\n",
      "Total Power :  0.001432\n",
      "Gain Linear :  1.579773\n",
      "Gain Logarithmic (Max) :  1.985948 dBi\n",
      "\n",
      "gap_current = (0.005538024165013059-0.007534693220363417j)\n",
      "Radiation Resistance :  32.748694 Ohms\n",
      "Input Power (P_in) : 0.0023 W\n",
      "Total Efficiency : 0.6125\n",
      "Data saved successfully to data/antennas_gain_power/sim_optimize_ifa_gain_power.mat\n",
      "Generating antenna directivity pattern...\n",
      "Data loaded from data/antennas_gain_power/sim_optimize_ifa_gain_power.mat\n",
      "Data loaded from data/antennas_gain_power/sim_optimize_ifa_gain_power.mat\n",
      "Simulation 73/101 | f = 944.00 MHz | S11 = -5.73 dB\n",
      "Calculating radiation intensity distribution over sphere surface...\n",
      "\n",
      "Frequency = 944000000.0 Hz\n",
      "Wavelength lambda = 0.3175342732845437 m\n",
      "\n",
      "Total Power :  0.001383\n",
      "Gain Linear :  1.579492\n",
      "Gain Logarithmic (Max) :  1.985175 dBi\n",
      "\n",
      "gap_current = (0.005351005384783481-0.007521541368650014j)\n",
      "Radiation Resistance :  32.472256 Ohms\n",
      "Input Power (P_in) : 0.0023 W\n",
      "Total Efficiency : 0.5995\n",
      "Data saved successfully to data/antennas_gain_power/sim_optimize_ifa_gain_power.mat\n",
      "Generating antenna directivity pattern...\n",
      "Data loaded from data/antennas_gain_power/sim_optimize_ifa_gain_power.mat\n",
      "Data loaded from data/antennas_gain_power/sim_optimize_ifa_gain_power.mat\n",
      "Simulation 74/101 | f = 946.00 MHz | S11 = -5.56 dB\n",
      "Calculating radiation intensity distribution over sphere surface...\n",
      "\n",
      "Frequency = 946000000.0 Hz\n",
      "Wavelength lambda = 0.31686295346787446 m\n",
      "\n",
      "Total Power :  0.001337\n",
      "Gain Linear :  1.579195\n",
      "Gain Logarithmic (Max) :  1.984358 dBi\n",
      "\n",
      "gap_current = (0.005171293245648053-0.00750252677874991j)\n",
      "Radiation Resistance :  32.204035 Ohms\n",
      "Input Power (P_in) : 0.0023 W\n",
      "Total Efficiency : 0.5869\n",
      "Data saved successfully to data/antennas_gain_power/sim_optimize_ifa_gain_power.mat\n",
      "Generating antenna directivity pattern...\n",
      "Data loaded from data/antennas_gain_power/sim_optimize_ifa_gain_power.mat\n",
      "Data loaded from data/antennas_gain_power/sim_optimize_ifa_gain_power.mat\n",
      "Simulation 75/101 | f = 948.00 MHz | S11 = -5.40 dB\n",
      "Calculating radiation intensity distribution over sphere surface...\n",
      "\n",
      "Frequency = 948000000.0 Hz\n",
      "Wavelength lambda = 0.31619446622427133 m\n",
      "\n",
      "Total Power :  0.001292\n",
      "Gain Linear :  1.578882\n",
      "Gain Logarithmic (Max) :  1.983496 dBi\n",
      "\n",
      "gap_current = (0.004998733842982337-0.007478325840181364j)\n",
      "Radiation Resistance :  31.943746 Ohms\n",
      "Input Power (P_in) : 0.0022 W\n",
      "Total Efficiency : 0.5747\n",
      "Data saved successfully to data/antennas_gain_power/sim_optimize_ifa_gain_power.mat\n",
      "Generating antenna directivity pattern...\n",
      "Data loaded from data/antennas_gain_power/sim_optimize_ifa_gain_power.mat\n",
      "Data loaded from data/antennas_gain_power/sim_optimize_ifa_gain_power.mat\n",
      "Simulation 76/101 | f = 950.00 MHz | S11 = -5.25 dB\n",
      "Calculating radiation intensity distribution over sphere surface...\n",
      "\n",
      "Frequency = 950000000.0 Hz\n",
      "Wavelength lambda = 0.3155287936637992 m\n",
      "\n",
      "Total Power :  0.001250\n",
      "Gain Linear :  1.578551\n",
      "Gain Logarithmic (Max) :  1.982587 dBi\n",
      "\n",
      "gap_current = (0.004833145226882926-0.007449553937807318j)\n",
      "Radiation Resistance :  31.691116 Ohms\n",
      "Input Power (P_in) : 0.0022 W\n",
      "Total Efficiency : 0.5628\n",
      "Data saved successfully to data/antennas_gain_power/sim_optimize_ifa_gain_power.mat\n",
      "Generating antenna directivity pattern...\n",
      "Data loaded from data/antennas_gain_power/sim_optimize_ifa_gain_power.mat\n",
      "Data loaded from data/antennas_gain_power/sim_optimize_ifa_gain_power.mat\n",
      "Simulation 77/101 | f = 952.00 MHz | S11 = -5.11 dB\n",
      "Calculating radiation intensity distribution over sphere surface...\n",
      "\n",
      "Frequency = 952000000.0 Hz\n",
      "Wavelength lambda = 0.31486591804685843 m\n",
      "\n",
      "Total Power :  0.001208\n",
      "Gain Linear :  1.578210\n",
      "Gain Logarithmic (Max) :  1.981648 dBi\n",
      "\n",
      "gap_current = (0.0046743243937716165-0.007416769269479304j)\n",
      "Radiation Resistance :  31.445884 Ohms\n",
      "Input Power (P_in) : 0.0022 W\n",
      "Total Efficiency : 0.5514\n",
      "Data saved successfully to data/antennas_gain_power/sim_optimize_ifa_gain_power.mat\n",
      "Generating antenna directivity pattern...\n",
      "Data loaded from data/antennas_gain_power/sim_optimize_ifa_gain_power.mat\n",
      "Data loaded from data/antennas_gain_power/sim_optimize_ifa_gain_power.mat\n",
      "Simulation 78/101 | f = 954.00 MHz | S11 = -4.97 dB\n",
      "Calculating radiation intensity distribution over sphere surface...\n",
      "\n",
      "Frequency = 954000000.0 Hz\n",
      "Wavelength lambda = 0.31420582178260925 m\n",
      "\n",
      "Total Power :  0.001169\n",
      "Gain Linear :  1.577873\n",
      "Gain Logarithmic (Max) :  1.980721 dBi\n",
      "\n",
      "gap_current = (0.004522053174036258-0.00738047680394738j)\n",
      "Radiation Resistance :  31.207802 Ohms\n",
      "Input Power (P_in) : 0.0022 W\n",
      "Total Efficiency : 0.5402\n",
      "Data saved successfully to data/antennas_gain_power/sim_optimize_ifa_gain_power.mat\n",
      "Generating antenna directivity pattern...\n",
      "Data loaded from data/antennas_gain_power/sim_optimize_ifa_gain_power.mat\n",
      "Data loaded from data/antennas_gain_power/sim_optimize_ifa_gain_power.mat\n",
      "Simulation 79/101 | f = 956.00 MHz | S11 = -4.84 dB\n",
      "Calculating radiation intensity distribution over sphere surface...\n",
      "\n",
      "Frequency = 956000000.0 Hz\n",
      "Wavelength lambda = 0.31354848742741553 m\n",
      "\n",
      "Total Power :  0.001131\n",
      "Gain Linear :  1.577544\n",
      "Gain Logarithmic (Max) :  1.979814 dBi\n",
      "\n",
      "gap_current = (0.004376103147251378-0.007341132259123691j)\n",
      "Radiation Resistance :  30.976633 Ohms\n",
      "Input Power (P_in) : 0.0021 W\n",
      "Total Efficiency : 0.5295\n",
      "Data saved successfully to data/antennas_gain_power/sim_optimize_ifa_gain_power.mat\n",
      "Generating antenna directivity pattern...\n",
      "Data loaded from data/antennas_gain_power/sim_optimize_ifa_gain_power.mat\n",
      "Data loaded from data/antennas_gain_power/sim_optimize_ifa_gain_power.mat\n",
      "Simulation 80/101 | f = 958.00 MHz | S11 = -4.71 dB\n",
      "Calculating radiation intensity distribution over sphere surface...\n",
      "\n",
      "Frequency = 958000000.0 Hz\n",
      "Wavelength lambda = 0.31289389768330816 m\n",
      "\n",
      "Total Power :  0.001095\n",
      "Gain Linear :  1.577197\n",
      "Gain Logarithmic (Max) :  1.978859 dBi\n",
      "\n",
      "gap_current = (0.004236239709193213-0.007299146011872014j)\n",
      "Radiation Resistance :  30.752150 Ohms\n",
      "Input Power (P_in) : 0.0021 W\n",
      "Total Efficiency : 0.5191\n",
      "Data saved successfully to data/antennas_gain_power/sim_optimize_ifa_gain_power.mat\n",
      "Generating antenna directivity pattern...\n",
      "Data loaded from data/antennas_gain_power/sim_optimize_ifa_gain_power.mat\n",
      "Data loaded from data/antennas_gain_power/sim_optimize_ifa_gain_power.mat\n",
      "Simulation 81/101 | f = 960.00 MHz | S11 = -4.59 dB\n",
      "Calculating radiation intensity distribution over sphere surface...\n",
      "\n",
      "Frequency = 960000000.0 Hz\n",
      "Wavelength lambda = 0.31224203539646794 m\n",
      "\n",
      "Total Power :  0.001060\n",
      "Gain Linear :  1.576832\n",
      "Gain Logarithmic (Max) :  1.977855 dBi\n",
      "\n",
      "gap_current = (0.004102225405317988-0.007254886875646185j)\n",
      "Radiation Resistance :  30.534134 Ohms\n",
      "Input Power (P_in) : 0.0021 W\n",
      "Total Efficiency : 0.5090\n",
      "Data saved successfully to data/antennas_gain_power/sim_optimize_ifa_gain_power.mat\n",
      "Generating antenna directivity pattern...\n",
      "Data loaded from data/antennas_gain_power/sim_optimize_ifa_gain_power.mat\n",
      "Data loaded from data/antennas_gain_power/sim_optimize_ifa_gain_power.mat\n",
      "Simulation 82/101 | f = 962.00 MHz | S11 = -4.47 dB\n",
      "Calculating radiation intensity distribution over sphere surface...\n",
      "\n",
      "Frequency = 962000000.0 Hz\n",
      "Wavelength lambda = 0.31159288355572684 m\n",
      "\n",
      "Total Power :  0.001027\n",
      "Gain Linear :  1.576450\n",
      "Gain Logarithmic (Max) :  1.976801 dBi\n",
      "\n",
      "gap_current = (0.003973822634728702-0.007208685702336217j)\n",
      "Radiation Resistance :  30.322379 Ohms\n",
      "Input Power (P_in) : 0.0021 W\n",
      "Total Efficiency : 0.4992\n",
      "Data saved successfully to data/antennas_gain_power/sim_optimize_ifa_gain_power.mat\n",
      "Generating antenna directivity pattern...\n",
      "Data loaded from data/antennas_gain_power/sim_optimize_ifa_gain_power.mat\n",
      "Data loaded from data/antennas_gain_power/sim_optimize_ifa_gain_power.mat\n",
      "Simulation 83/101 | f = 964.00 MHz | S11 = -4.36 dB\n",
      "Calculating radiation intensity distribution over sphere surface...\n",
      "\n",
      "Frequency = 964000000.0 Hz\n",
      "Wavelength lambda = 0.3109464252910884 m\n",
      "\n",
      "Total Power :  0.000995\n",
      "Gain Linear :  1.576049\n",
      "Gain Logarithmic (Max) :  1.975697 dBi\n",
      "\n",
      "gap_current = (0.0038507958176863216-0.007160838780392402j)\n",
      "Radiation Resistance :  30.116686 Ohms\n",
      "Input Power (P_in) : 0.0020 W\n",
      "Total Efficiency : 0.4897\n",
      "Data saved successfully to data/antennas_gain_power/sim_optimize_ifa_gain_power.mat\n",
      "Generating antenna directivity pattern...\n",
      "Data loaded from data/antennas_gain_power/sim_optimize_ifa_gain_power.mat\n",
      "Data loaded from data/antennas_gain_power/sim_optimize_ifa_gain_power.mat\n",
      "Simulation 84/101 | f = 966.00 MHz | S11 = -4.25 dB\n",
      "Calculating radiation intensity distribution over sphere surface...\n",
      "\n",
      "Frequency = 966000000.0 Hz\n",
      "Wavelength lambda = 0.3103026438722663 m\n",
      "\n",
      "Total Power :  0.000965\n",
      "Gain Linear :  1.575630\n",
      "Gain Logarithmic (Max) :  1.974542 dBi\n",
      "\n",
      "gap_current = (0.0037329131089429385-0.0071116110134161695j)\n",
      "Radiation Resistance :  29.916865 Ohms\n",
      "Input Power (P_in) : 0.0020 W\n",
      "Total Efficiency : 0.4806\n",
      "Data saved successfully to data/antennas_gain_power/sim_optimize_ifa_gain_power.mat\n",
      "Generating antenna directivity pattern...\n",
      "Data loaded from data/antennas_gain_power/sim_optimize_ifa_gain_power.mat\n",
      "Data loaded from data/antennas_gain_power/sim_optimize_ifa_gain_power.mat\n",
      "Simulation 85/101 | f = 968.00 MHz | S11 = -4.15 dB\n",
      "Calculating radiation intensity distribution over sphere surface...\n",
      "\n",
      "Frequency = 968000000.0 Hz\n",
      "Wavelength lambda = 0.30966152270724095 m\n",
      "\n",
      "Total Power :  0.000936\n",
      "Gain Linear :  1.575192\n",
      "Gain Logarithmic (Max) :  1.973335 dBi\n",
      "\n",
      "gap_current = (0.0036199477289670856-0.007061238872587966j)\n",
      "Radiation Resistance :  29.722732 Ohms\n",
      "Input Power (P_in) : 0.0020 W\n",
      "Total Efficiency : 0.4717\n",
      "Data saved successfully to data/antennas_gain_power/sim_optimize_ifa_gain_power.mat\n",
      "Generating antenna directivity pattern...\n",
      "Data loaded from data/antennas_gain_power/sim_optimize_ifa_gain_power.mat\n",
      "Data loaded from data/antennas_gain_power/sim_optimize_ifa_gain_power.mat\n",
      "Simulation 86/101 | f = 970.00 MHz | S11 = -4.05 dB\n",
      "Calculating radiation intensity distribution over sphere surface...\n",
      "\n",
      "Frequency = 970000000.0 Hz\n",
      "Wavelength lambda = 0.30902304534083425 m\n",
      "\n",
      "Total Power :  0.000908\n",
      "Gain Linear :  1.574735\n",
      "Gain Logarithmic (Max) :  1.972074 dBi\n",
      "\n",
      "gap_current = (0.003511678975653672-0.007009933123107805j)\n",
      "Radiation Resistance :  29.534114 Ohms\n",
      "Input Power (P_in) : 0.0020 W\n",
      "Total Efficiency : 0.4631\n",
      "Data saved successfully to data/antennas_gain_power/sim_optimize_ifa_gain_power.mat\n",
      "Generating antenna directivity pattern...\n",
      "Data loaded from data/antennas_gain_power/sim_optimize_ifa_gain_power.mat\n",
      "Data loaded from data/antennas_gain_power/sim_optimize_ifa_gain_power.mat\n",
      "Simulation 87/101 | f = 972.00 MHz | S11 = -3.95 dB\n",
      "Calculating radiation intensity distribution over sphere surface...\n",
      "\n",
      "Frequency = 972000000.0 Hz\n",
      "Wavelength lambda = 0.3083871954533017 m\n",
      "\n",
      "Total Power :  0.000881\n",
      "Gain Linear :  1.574258\n",
      "Gain Logarithmic (Max) :  1.970759 dBi\n",
      "\n",
      "gap_current = (0.003407892970509894-0.006957881329739163j)\n",
      "Radiation Resistance :  29.350843 Ohms\n",
      "Input Power (P_in) : 0.0019 W\n",
      "Total Efficiency : 0.4548\n",
      "Data saved successfully to data/antennas_gain_power/sim_optimize_ifa_gain_power.mat\n",
      "Generating antenna directivity pattern...\n",
      "Data loaded from data/antennas_gain_power/sim_optimize_ifa_gain_power.mat\n",
      "Data loaded from data/antennas_gain_power/sim_optimize_ifa_gain_power.mat\n",
      "Simulation 88/101 | f = 974.00 MHz | S11 = -3.86 dB\n",
      "Calculating radiation intensity distribution over sphere surface...\n",
      "\n",
      "Frequency = 974000000.0 Hz\n",
      "Wavelength lambda = 0.30775395685894175 m\n",
      "\n",
      "Total Power :  0.000855\n",
      "Gain Linear :  1.573762\n",
      "Gain Logarithmic (Max) :  1.969389 dBi\n",
      "\n",
      "gap_current = (0.0033083831855877837-0.006905250149973558j)\n",
      "Radiation Resistance :  29.172759 Ohms\n",
      "Input Power (P_in) : 0.0019 W\n",
      "Total Efficiency : 0.4467\n",
      "Data saved successfully to data/antennas_gain_power/sim_optimize_ifa_gain_power.mat\n",
      "Generating antenna directivity pattern...\n",
      "Data loaded from data/antennas_gain_power/sim_optimize_ifa_gain_power.mat\n",
      "Data loaded from data/antennas_gain_power/sim_optimize_ifa_gain_power.mat\n",
      "Simulation 89/101 | f = 976.00 MHz | S11 = -3.77 dB\n",
      "Calculating radiation intensity distribution over sphere surface...\n",
      "\n",
      "Frequency = 976000000.0 Hz\n",
      "Wavelength lambda = 0.3071233135047226 m\n",
      "\n",
      "Total Power :  0.000830\n",
      "Gain Linear :  1.573245\n",
      "Gain Logarithmic (Max) :  1.967963 dBi\n",
      "\n",
      "gap_current = (0.0032129507906016965-0.006852187425601487j)\n",
      "Radiation Resistance :  28.999707 Ohms\n",
      "Input Power (P_in) : 0.0019 W\n",
      "Total Efficiency : 0.4389\n",
      "Data saved successfully to data/antennas_gain_power/sim_optimize_ifa_gain_power.mat\n",
      "Generating antenna directivity pattern...\n",
      "Data loaded from data/antennas_gain_power/sim_optimize_ifa_gain_power.mat\n",
      "Data loaded from data/antennas_gain_power/sim_optimize_ifa_gain_power.mat\n",
      "Simulation 90/101 | f = 978.00 MHz | S11 = -3.68 dB\n",
      "Calculating radiation intensity distribution over sphere surface...\n",
      "\n",
      "Frequency = 978000000.0 Hz\n",
      "Wavelength lambda = 0.3064952494689256 m\n",
      "\n",
      "Total Power :  0.000807\n",
      "Gain Linear :  1.572708\n",
      "Gain Logarithmic (Max) :  1.966480 dBi\n",
      "\n",
      "gap_current = (0.0031214048536700244-0.006798824084857175j)\n",
      "Radiation Resistance :  28.831541 Ohms\n",
      "Input Power (P_in) : 0.0019 W\n",
      "Total Efficiency : 0.4314\n",
      "Data saved successfully to data/antennas_gain_power/sim_optimize_ifa_gain_power.mat\n",
      "Generating antenna directivity pattern...\n",
      "Data loaded from data/antennas_gain_power/sim_optimize_ifa_gain_power.mat\n",
      "Data loaded from data/antennas_gain_power/sim_optimize_ifa_gain_power.mat\n",
      "Simulation 91/101 | f = 980.00 MHz | S11 = -3.60 dB\n",
      "Calculating radiation intensity distribution over sphere surface...\n",
      "\n",
      "Frequency = 980000000.0 Hz\n",
      "Wavelength lambda = 0.30586974895980534 m\n",
      "\n",
      "Total Power :  0.000784\n",
      "Gain Linear :  1.572150\n",
      "Gain Logarithmic (Max) :  1.964939 dBi\n",
      "\n",
      "gap_current = (0.0030335624238987135-0.00674527586801865j)\n",
      "Radiation Resistance :  28.668119 Ohms\n",
      "Input Power (P_in) : 0.0018 W\n",
      "Total Efficiency : 0.4241\n",
      "Data saved successfully to data/antennas_gain_power/sim_optimize_ifa_gain_power.mat\n",
      "Generating antenna directivity pattern...\n",
      "Data loaded from data/antennas_gain_power/sim_optimize_ifa_gain_power.mat\n",
      "Data loaded from data/antennas_gain_power/sim_optimize_ifa_gain_power.mat\n",
      "Simulation 92/101 | f = 982.00 MHz | S11 = -3.52 dB\n",
      "Calculating radiation intensity distribution over sphere surface...\n",
      "\n",
      "Frequency = 982000000.0 Hz\n",
      "Wavelength lambda = 0.30524679631426604 m\n",
      "\n",
      "Total Power :  0.000762\n",
      "Gain Linear :  1.571571\n",
      "Gain Logarithmic (Max) :  1.963339 dBi\n",
      "\n",
      "gap_current = (0.00294924851951018-0.006691644889559527j)\n",
      "Radiation Resistance :  28.509304 Ohms\n",
      "Input Power (P_in) : 0.0018 W\n",
      "Total Efficiency : 0.4170\n",
      "Data saved successfully to data/antennas_gain_power/sim_optimize_ifa_gain_power.mat\n",
      "Generating antenna directivity pattern...\n",
      "Data loaded from data/antennas_gain_power/sim_optimize_ifa_gain_power.mat\n",
      "Data loaded from data/antennas_gain_power/sim_optimize_ifa_gain_power.mat\n",
      "Simulation 93/101 | f = 984.00 MHz | S11 = -3.44 dB\n",
      "Calculating radiation intensity distribution over sphere surface...\n",
      "\n",
      "Frequency = 984000000.0 Hz\n",
      "Wavelength lambda = 0.3046263759965541 m\n",
      "\n",
      "Total Power :  0.000741\n",
      "Gain Linear :  1.570970\n",
      "Gain Logarithmic (Max) :  1.961679 dBi\n",
      "\n",
      "gap_current = (0.002868296041344381-0.00663802104980855j)\n",
      "Radiation Resistance :  28.354967 Ohms\n",
      "Input Power (P_in) : 0.0018 W\n",
      "Total Efficiency : 0.4101\n",
      "Data saved successfully to data/antennas_gain_power/sim_optimize_ifa_gain_power.mat\n",
      "Generating antenna directivity pattern...\n",
      "Data loaded from data/antennas_gain_power/sim_optimize_ifa_gain_power.mat\n",
      "Data loaded from data/antennas_gain_power/sim_optimize_ifa_gain_power.mat\n",
      "Simulation 94/101 | f = 986.00 MHz | S11 = -3.37 dB\n",
      "Calculating radiation intensity distribution over sphere surface...\n",
      "\n",
      "Frequency = 986000000.0 Hz\n",
      "Wavelength lambda = 0.3040084725969668 m\n",
      "\n",
      "Total Power :  0.000721\n",
      "Gain Linear :  1.570347\n",
      "Gain Logarithmic (Max) :  1.959957 dBi\n",
      "\n",
      "gap_current = (0.002790545628234332-0.006584483308673917j)\n",
      "Radiation Resistance :  28.204981 Ohms\n",
      "Input Power (P_in) : 0.0018 W\n",
      "Total Efficiency : 0.4034\n",
      "Data saved successfully to data/antennas_gain_power/sim_optimize_ifa_gain_power.mat\n",
      "Generating antenna directivity pattern...\n",
      "Data loaded from data/antennas_gain_power/sim_optimize_ifa_gain_power.mat\n",
      "Data loaded from data/antennas_gain_power/sim_optimize_ifa_gain_power.mat\n",
      "Simulation 95/101 | f = 988.00 MHz | S11 = -3.29 dB\n",
      "Calculating radiation intensity distribution over sphere surface...\n",
      "\n",
      "Frequency = 988000000.0 Hz\n",
      "Wavelength lambda = 0.30339307083057615 m\n",
      "\n",
      "Total Power :  0.000702\n",
      "Gain Linear :  1.569702\n",
      "Gain Logarithmic (Max) :  1.958172 dBi\n",
      "\n",
      "gap_current = (0.002715845467939219-0.006531100833424294j)\n",
      "Radiation Resistance :  28.059228 Ohms\n",
      "Input Power (P_in) : 0.0018 W\n",
      "Total Efficiency : 0.3969\n",
      "Data saved successfully to data/antennas_gain_power/sim_optimize_ifa_gain_power.mat\n",
      "Generating antenna directivity pattern...\n",
      "Data loaded from data/antennas_gain_power/sim_optimize_ifa_gain_power.mat\n",
      "Data loaded from data/antennas_gain_power/sim_optimize_ifa_gain_power.mat\n",
      "Simulation 96/101 | f = 990.00 MHz | S11 = -3.22 dB\n",
      "Calculating radiation intensity distribution over sphere surface...\n",
      "\n",
      "Frequency = 990000000.0 Hz\n",
      "Wavelength lambda = 0.30278015553596893 m\n",
      "\n",
      "Total Power :  0.000683\n",
      "Gain Linear :  1.569034\n",
      "Gain Logarithmic (Max) :  1.956324 dBi\n",
      "\n",
      "gap_current = (0.002644051074923896-0.00647793403184451j)\n",
      "Radiation Resistance :  27.917590 Ohms\n",
      "Input Power (P_in) : 0.0017 W\n",
      "Total Efficiency : 0.3907\n",
      "Data saved successfully to data/antennas_gain_power/sim_optimize_ifa_gain_power.mat\n",
      "Generating antenna directivity pattern...\n",
      "Data loaded from data/antennas_gain_power/sim_optimize_ifa_gain_power.mat\n",
      "Data loaded from data/antennas_gain_power/sim_optimize_ifa_gain_power.mat\n",
      "Simulation 97/101 | f = 992.00 MHz | S11 = -3.16 dB\n",
      "Calculating radiation intensity distribution over sphere surface...\n",
      "\n",
      "Frequency = 992000000.0 Hz\n",
      "Wavelength lambda = 0.30216971167400125 m\n",
      "\n",
      "Total Power :  0.000665\n",
      "Gain Linear :  1.568343\n",
      "Gain Logarithmic (Max) :  1.954411 dBi\n",
      "\n",
      "gap_current = (0.002575025044242978-0.006425035481342493j)\n",
      "Radiation Resistance :  27.779958 Ohms\n",
      "Input Power (P_in) : 0.0017 W\n",
      "Total Efficiency : 0.3846\n",
      "Data saved successfully to data/antennas_gain_power/sim_optimize_ifa_gain_power.mat\n",
      "Generating antenna directivity pattern...\n",
      "Data loaded from data/antennas_gain_power/sim_optimize_ifa_gain_power.mat\n",
      "Data loaded from data/antennas_gain_power/sim_optimize_ifa_gain_power.mat\n",
      "Simulation 98/101 | f = 994.00 MHz | S11 = -3.09 dB\n",
      "Calculating radiation intensity distribution over sphere surface...\n",
      "\n",
      "Frequency = 994000000.0 Hz\n",
      "Wavelength lambda = 0.30156172432656864 m\n",
      "\n",
      "Total Power :  0.000648\n",
      "Gain Linear :  1.567629\n",
      "Gain Logarithmic (Max) :  1.952432 dBi\n",
      "\n",
      "gap_current = (0.002508636789097328-0.006372450763828704j)\n",
      "Radiation Resistance :  27.646224 Ohms\n",
      "Input Power (P_in) : 0.0017 W\n",
      "Total Efficiency : 0.3787\n",
      "Data saved successfully to data/antennas_gain_power/sim_optimize_ifa_gain_power.mat\n",
      "Generating antenna directivity pattern...\n",
      "Data loaded from data/antennas_gain_power/sim_optimize_ifa_gain_power.mat\n",
      "Data loaded from data/antennas_gain_power/sim_optimize_ifa_gain_power.mat\n",
      "Simulation 99/101 | f = 996.00 MHz | S11 = -3.03 dB\n",
      "Calculating radiation intensity distribution over sphere surface...\n",
      "\n",
      "Frequency = 996000000.0 Hz\n",
      "Wavelength lambda = 0.3009561786953908 m\n",
      "\n",
      "Total Power :  0.000632\n",
      "Gain Linear :  1.566890\n",
      "Gain Logarithmic (Max) :  1.950386 dBi\n",
      "\n",
      "gap_current = (0.0024447622681903645-0.006320219215419353j)\n",
      "Radiation Resistance :  27.516285 Ohms\n",
      "Input Power (P_in) : 0.0017 W\n",
      "Total Efficiency : 0.3729\n",
      "Data saved successfully to data/antennas_gain_power/sim_optimize_ifa_gain_power.mat\n",
      "Generating antenna directivity pattern...\n",
      "Data loaded from data/antennas_gain_power/sim_optimize_ifa_gain_power.mat\n",
      "Data loaded from data/antennas_gain_power/sim_optimize_ifa_gain_power.mat\n",
      "Simulation 100/101 | f = 998.00 MHz | S11 = -2.97 dB\n",
      "Calculating radiation intensity distribution over sphere surface...\n",
      "\n",
      "Frequency = 998000000.0 Hz\n",
      "Wavelength lambda = 0.30035306010081086 m\n",
      "\n",
      "Total Power :  0.000616\n",
      "Gain Linear :  1.566127\n",
      "Gain Logarithmic (Max) :  1.948271 dBi\n",
      "\n",
      "gap_current = (0.0023832837078259224-0.006268374599273002j)\n",
      "Radiation Resistance :  27.390043 Ohms\n",
      "Input Power (P_in) : 0.0017 W\n",
      "Total Efficiency : 0.3674\n",
      "Data saved successfully to data/antennas_gain_power/sim_optimize_ifa_gain_power.mat\n",
      "Generating antenna directivity pattern...\n",
      "Data loaded from data/antennas_gain_power/sim_optimize_ifa_gain_power.mat\n",
      "Data loaded from data/antennas_gain_power/sim_optimize_ifa_gain_power.mat\n",
      "Simulation 101/101 | f = 1000.00 MHz | S11 = -2.91 dB\n",
      "Calculating radiation intensity distribution over sphere surface...\n",
      "\n",
      "Frequency = 1000000000.0 Hz\n",
      "Wavelength lambda = 0.29975235398060923 m\n",
      "\n",
      "Total Power :  0.000601\n",
      "Gain Linear :  1.565339\n",
      "Gain Logarithmic (Max) :  1.946085 dBi\n",
      "\n",
      "gap_current = (0.0023240893226898845-0.006216945709152574j)\n",
      "Radiation Resistance :  27.267404 Ohms\n",
      "Input Power (P_in) : 0.0017 W\n",
      "Total Efficiency : 0.3620\n",
      "Data saved successfully to data/antennas_gain_power/sim_optimize_ifa_gain_power.mat\n",
      "Generating antenna directivity pattern...\n",
      "Data loaded from data/antennas_gain_power/sim_optimize_ifa_gain_power.mat\n",
      "Data loaded from data/antennas_gain_power/sim_optimize_ifa_gain_power.mat\n"
     ]
    }
   ],
   "source": [
    "simulate_efficiency(frequencies, ifa_meander_mat, fC, feed_point, save_image=True)"
   ]
  },
  {
   "cell_type": "markdown",
   "id": "f22dcf44",
   "metadata": {},
   "source": [
    "# Étape 2 : Distribution de l'intensité du rayonnement sur une sphère\n",
    "from efield.efield2 import radiation_intensity_distribution_over_sphere_surface\n",
    "from efield.efield3 import antenna_directivity_pattern\n",
    "\n",
    "impedance, *_ = radiation_algorithm(ifa_meander_mat, 868e6, feed_point, voltage_amplitude=0.5, show=True)\n",
    "\n",
    "ifa_meander_mesh2 = 'data/antennas_mesh2/sim_optimize_ifa_mesh2.mat'\n",
    "ifa_meander_current = 'data/antennas_current/sim_optimize_ifa_current.mat'\n",
    "ifa_meander_gain_power = 'data/antennas_gain_power/sim_optimize_ifa_gain_power.mat'\n",
    "filename_sphere_dense = '../../data/sphere_mesh/sphere_dense.mat'\n",
    "\n",
    "# Étape 2 : Distribution de l'intensité du rayonnement sur une sphère\n",
    "print(\"Calculating radiation intensity distribution over sphere surface...\")\n",
    "radiation_intensity_distribution_over_sphere_surface(ifa_meander_mesh2, ifa_meander_current, filename_sphere_dense, radiation=True, save_image=False)\n",
    "\n",
    "# Étape 3 : Génération du diagramme de directivité\n",
    "print(\"Generating antenna directivity pattern...\")\n",
    "antenna_directivity_pattern(ifa_meander_mesh2, ifa_meander_current, ifa_meander_gain_power, radiation=True)"
   ]
  }
 ],
 "metadata": {
  "kernelspec": {
   "display_name": "antenna_solver",
   "language": "python",
   "name": "python3"
  },
  "language_info": {
   "codemirror_mode": {
    "name": "ipython",
    "version": 3
   },
   "file_extension": ".py",
   "mimetype": "text/x-python",
   "name": "python",
   "nbconvert_exporter": "python",
   "pygments_lexer": "ipython3",
   "version": "3.12.9"
  }
 },
 "nbformat": 4,
 "nbformat_minor": 5
}
