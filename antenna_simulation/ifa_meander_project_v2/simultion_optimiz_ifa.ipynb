{
 "cells": [
  {
   "cell_type": "code",
   "execution_count": 1,
   "id": "93252699",
   "metadata": {},
   "outputs": [
    {
     "data": {
      "text/plain": [
       "'Ce fichier permet de simuller une antenne ifa avec les parametres optimisés obtenue du script ifa_meander_optimize.py'"
      ]
     },
     "execution_count": 1,
     "metadata": {},
     "output_type": "execute_result"
    }
   ],
   "source": [
    "\"Ce fichier permet de simuller une antenne ifa avec les parametres optimisés obtenue du script ifa_meander_optimize.py\""
   ]
  },
  {
   "cell_type": "code",
   "execution_count": 2,
   "id": "a6efb20a",
   "metadata": {},
   "outputs": [],
   "source": [
    "from utils.ifa_meander_project_v2.geometry import *\n",
    "from utils.ifa_meander_project_v2.meshing import *\n",
    "from utils.ifa_meander_project_v2.frequency import *\n",
    "from utils.ifa_meander_project_v2.simulation import *"
   ]
  },
  {
   "cell_type": "code",
   "execution_count": 3,
   "id": "19eaf20a",
   "metadata": {},
   "outputs": [
    {
     "name": "stdout",
     "output_type": "stream",
     "text": [
      "Nombre de fréquences (nPoints) : 76\n",
      "Index de fC : 42\n"
     ]
    }
   ],
   "source": [
    "fLow = 700e6\n",
    "fHigh = 1000e6\n",
    "fC = 868e6\n",
    "step = 4e6\n",
    "\n",
    "frequencies, fc_index, nPoints = generate_frequencies(fLow, fHigh, fC, step)\n",
    "\n",
    "print(f\"Nombre de fréquences (nPoints) : {nPoints}\")\n",
    "print(f\"Index de fC : {fc_index}\")\n"
   ]
  },
  {
   "cell_type": "code",
   "execution_count": 4,
   "id": "f28f88c4",
   "metadata": {},
   "outputs": [],
   "source": [
    "mesh_name = \"sim_optimize_ifa.msh\"\n",
    "save_mesh_folder = 'data/gmsh_files/'\n",
    "ifa_meander_mat = 'data/antennas_mesh/sim_optimize_ifa.mat'\n",
    "ifa_meander_msh = save_mesh_folder + mesh_name"
   ]
  },
  {
   "cell_type": "code",
   "execution_count": 5,
   "id": "7f62b396",
   "metadata": {},
   "outputs": [],
   "source": [
    "a = 27 / 1000  # Largeur\n",
    "b = 55 / 1000  # Hauteur\n",
    "\n",
    "terminal_a = 92 / 1000\n",
    "terminal_b = b\n",
    "x_t = np.array([-terminal_a + a, 0, 0, -terminal_a + a])\n",
    "y_t = np.array([terminal_b, terminal_b, 0, 0])\n",
    "\n",
    "# On fixe le short feed et la largur de piste\n",
    "largeur_piste    = 5.400 / 1000\n",
    "distance_meandre = 8.100 / 1000\n",
    "feed = 31.239 / 1000  \n",
    "feed_point       = [0, feed, 0]\n",
    "\n",
    "mesh_size = 21.60 / 1000"
   ]
  },
  {
   "cell_type": "code",
   "execution_count": 6,
   "id": "53d379fc",
   "metadata": {},
   "outputs": [],
   "source": [
    "def creation_ifa(largeur, hauteur, width, dist_meandre, feed, x_t, y_t, save_mesh_folder, mesh_name, mesh_size):\n",
    "    x, y, N, distance_meandre = ifa_creation(largeur, hauteur, width, dist_meandre)\n",
    "    x_m, y_m = trace_meander(x, y, width)\n",
    "    feed_wid = width # La largeur de la piste est la meme partout\n",
    "    feed_x = np.array([0, distance_meandre, distance_meandre, 0])\n",
    "    feed_y = np.array([feed + feed_wid/2, feed + feed_wid/2, feed -feed_wid/2, feed - feed_wid/2])\n",
    "    antenna_ifa_meander(x_m, y_m, x_t, y_t, feed_x, feed_y, save_mesh_folder, mesh_name, mesh_size)\n",
    "    extract_msh_to_mat(ifa_meander_msh, ifa_meander_mat)\n",
    "    return N, distance_meandre\n",
    "\n",
    "def plot_s11_curve(fLow, fHigh, nPoints, s11_db, fC=None):\n",
    "    from matplotlib import pyplot as plt\n",
    "    frequencies = np.linspace(fLow, fHigh, nPoints)\n",
    "    frequencies_mhz = np.array(frequencies) / 1e6\n",
    "    s11_db = np.array(s11_db)\n",
    "\n",
    "    # Trouver le minimum de S11\n",
    "    min_index = np.argmin(s11_db)\n",
    "    f_resonance = frequencies[min_index] / 1e6\n",
    "    s11_min = s11_db[min_index]\n",
    "\n",
    "    # Tracé\n",
    "    fig_size = 7\n",
    "    Fibonacci = (1 + np.sqrt(5)) / 2\n",
    "    plt.figure(figsize=(fig_size, fig_size / Fibonacci))\n",
    "    plt.plot(frequencies_mhz, s11_db, label=\"S11 (dB)\", color='blue')\n",
    "    plt.plot(f_resonance, s11_min, 'ro', \n",
    "            label=f\"Résonance: {f_resonance:.2f} MHz (S11={s11_min:.2f} dB)\")\n",
    "    \n",
    "    if fC:\n",
    "        fC_mhz = fC / 1e6\n",
    "        idx_fc = np.argmin(np.abs(frequencies - fC))\n",
    "        s11_fc = s11_db[idx_fc]\n",
    "        plt.axvline(fC_mhz, color='green', linestyle='--', \n",
    "                   label=f\"fC = {fC_mhz:.2f} MHz (S11={s11_fc:.2f} dB)\")\n",
    "\n",
    "    plt.xlabel(\"Fréquence (MHz)\")\n",
    "    plt.ylabel(\"S11 (dB)\")\n",
    "    plt.title(\"Courbe de S11 vs Fréquence\")\n",
    "    plt.grid(True)\n",
    "    plt.legend()\n",
    "    plt.tight_layout()\n",
    "    plt.show()"
   ]
  },
  {
   "cell_type": "code",
   "execution_count": 7,
   "id": "92c05b37",
   "metadata": {},
   "outputs": [
    {
     "name": "stdout",
     "output_type": "stream",
     "text": [
      "distance meandres 8.1 mm\n",
      "Largeur de piste ifa 5.4 mm\n",
      "position feed = 31.239 mm\n",
      "\n",
      "Number of meanders 2\n",
      "New distance meandres 8.1 mm\n",
      "\n",
      "Nombre d'elements de maillage (edges) = 55\n",
      "\n",
      "Simulation 1/76 | f = 700.00 MHz | S11 = -0.71 dB\n",
      "\n",
      "Nombre d'elements de maillage (edges) = 55\n",
      "\n",
      "Simulation 2/76 | f = 704.00 MHz | S11 = -0.75 dB\n",
      "\n",
      "Nombre d'elements de maillage (edges) = 55\n",
      "\n",
      "Simulation 3/76 | f = 708.00 MHz | S11 = -0.80 dB\n",
      "\n",
      "Nombre d'elements de maillage (edges) = 55\n",
      "\n",
      "Simulation 4/76 | f = 712.00 MHz | S11 = -0.85 dB\n",
      "\n",
      "Nombre d'elements de maillage (edges) = 55\n",
      "\n",
      "Simulation 5/76 | f = 716.00 MHz | S11 = -0.91 dB\n",
      "\n",
      "Nombre d'elements de maillage (edges) = 55\n",
      "\n",
      "Simulation 6/76 | f = 720.00 MHz | S11 = -0.97 dB\n",
      "\n",
      "Nombre d'elements de maillage (edges) = 55\n",
      "\n",
      "Simulation 7/76 | f = 724.00 MHz | S11 = -1.04 dB\n",
      "\n",
      "Nombre d'elements de maillage (edges) = 55\n",
      "\n",
      "Simulation 8/76 | f = 728.00 MHz | S11 = -1.11 dB\n",
      "\n",
      "Nombre d'elements de maillage (edges) = 55\n",
      "\n",
      "Simulation 9/76 | f = 732.00 MHz | S11 = -1.18 dB\n",
      "\n",
      "Nombre d'elements de maillage (edges) = 55\n",
      "\n",
      "Simulation 10/76 | f = 736.00 MHz | S11 = -1.26 dB\n",
      "\n",
      "Nombre d'elements de maillage (edges) = 55\n",
      "\n",
      "Simulation 11/76 | f = 740.00 MHz | S11 = -1.35 dB\n",
      "\n",
      "Nombre d'elements de maillage (edges) = 55\n",
      "\n",
      "Simulation 12/76 | f = 744.00 MHz | S11 = -1.45 dB\n",
      "\n",
      "Nombre d'elements de maillage (edges) = 55\n",
      "\n",
      "Simulation 13/76 | f = 748.00 MHz | S11 = -1.55 dB\n",
      "\n",
      "Nombre d'elements de maillage (edges) = 55\n",
      "\n",
      "Simulation 14/76 | f = 752.00 MHz | S11 = -1.67 dB\n",
      "\n",
      "Nombre d'elements de maillage (edges) = 55\n",
      "\n",
      "Simulation 15/76 | f = 756.00 MHz | S11 = -1.79 dB\n",
      "\n",
      "Nombre d'elements de maillage (edges) = 55\n",
      "\n",
      "Simulation 16/76 | f = 760.00 MHz | S11 = -1.93 dB\n",
      "\n",
      "Nombre d'elements de maillage (edges) = 55\n",
      "\n",
      "Simulation 17/76 | f = 764.00 MHz | S11 = -2.07 dB\n",
      "\n",
      "Nombre d'elements de maillage (edges) = 55\n",
      "\n",
      "Simulation 18/76 | f = 768.00 MHz | S11 = -2.24 dB\n",
      "\n",
      "Nombre d'elements de maillage (edges) = 55\n",
      "\n",
      "Simulation 19/76 | f = 772.00 MHz | S11 = -2.41 dB\n",
      "\n",
      "Nombre d'elements de maillage (edges) = 55\n",
      "\n",
      "Simulation 20/76 | f = 776.00 MHz | S11 = -2.60 dB\n",
      "\n",
      "Nombre d'elements de maillage (edges) = 55\n",
      "\n",
      "Simulation 21/76 | f = 780.00 MHz | S11 = -2.82 dB\n",
      "\n",
      "Nombre d'elements de maillage (edges) = 55\n",
      "\n",
      "Simulation 22/76 | f = 784.00 MHz | S11 = -3.05 dB\n",
      "\n",
      "Nombre d'elements de maillage (edges) = 55\n",
      "\n",
      "Simulation 23/76 | f = 788.00 MHz | S11 = -3.31 dB\n",
      "\n",
      "Nombre d'elements de maillage (edges) = 55\n",
      "\n",
      "Simulation 24/76 | f = 792.00 MHz | S11 = -3.59 dB\n",
      "\n",
      "Nombre d'elements de maillage (edges) = 55\n",
      "\n",
      "Simulation 25/76 | f = 796.00 MHz | S11 = -3.90 dB\n",
      "\n",
      "Nombre d'elements de maillage (edges) = 55\n",
      "\n",
      "Simulation 26/76 | f = 800.00 MHz | S11 = -4.24 dB\n",
      "\n",
      "Nombre d'elements de maillage (edges) = 55\n",
      "\n",
      "Simulation 27/76 | f = 804.00 MHz | S11 = -4.62 dB\n",
      "\n",
      "Nombre d'elements de maillage (edges) = 55\n",
      "\n",
      "Simulation 28/76 | f = 808.00 MHz | S11 = -5.05 dB\n",
      "\n",
      "Nombre d'elements de maillage (edges) = 55\n",
      "\n",
      "Simulation 29/76 | f = 812.00 MHz | S11 = -5.52 dB\n",
      "\n",
      "Nombre d'elements de maillage (edges) = 55\n",
      "\n",
      "Simulation 30/76 | f = 816.00 MHz | S11 = -6.04 dB\n",
      "\n",
      "Nombre d'elements de maillage (edges) = 55\n",
      "\n",
      "Simulation 31/76 | f = 820.00 MHz | S11 = -6.63 dB\n",
      "\n",
      "Nombre d'elements de maillage (edges) = 55\n",
      "\n",
      "Simulation 32/76 | f = 824.00 MHz | S11 = -7.29 dB\n",
      "\n",
      "Nombre d'elements de maillage (edges) = 55\n",
      "\n",
      "Simulation 33/76 | f = 828.00 MHz | S11 = -8.04 dB\n",
      "\n",
      "Nombre d'elements de maillage (edges) = 55\n",
      "\n",
      "Simulation 34/76 | f = 832.00 MHz | S11 = -8.88 dB\n",
      "\n",
      "Nombre d'elements de maillage (edges) = 55\n",
      "\n",
      "Simulation 35/76 | f = 836.00 MHz | S11 = -9.86 dB\n",
      "\n",
      "Nombre d'elements de maillage (edges) = 55\n",
      "\n",
      "Simulation 36/76 | f = 840.00 MHz | S11 = -10.98 dB\n",
      "\n",
      "Nombre d'elements de maillage (edges) = 55\n",
      "\n",
      "Simulation 37/76 | f = 844.00 MHz | S11 = -12.31 dB\n",
      "\n",
      "Nombre d'elements de maillage (edges) = 55\n",
      "\n",
      "Simulation 38/76 | f = 848.00 MHz | S11 = -13.91 dB\n",
      "\n",
      "Nombre d'elements de maillage (edges) = 55\n",
      "\n",
      "Simulation 39/76 | f = 852.00 MHz | S11 = -15.88 dB\n",
      "\n",
      "Nombre d'elements de maillage (edges) = 55\n",
      "\n",
      "Simulation 40/76 | f = 856.00 MHz | S11 = -18.45 dB\n",
      "\n",
      "Nombre d'elements de maillage (edges) = 55\n",
      "\n",
      "Simulation 41/76 | f = 860.00 MHz | S11 = -22.06 dB\n",
      "\n",
      "Nombre d'elements de maillage (edges) = 55\n",
      "\n",
      "Simulation 42/76 | f = 864.00 MHz | S11 = -27.83 dB\n",
      "\n",
      "Nombre d'elements de maillage (edges) = 55\n",
      "\n"
     ]
    },
    {
     "data": {
      "application/vnd.plotly.v1+json": {
       "config": {
        "plotlyServerURL": "https://plot.ly"
       },
       "data": [
        {
         "facecolor": [
          "rgb(2, 157, 250)",
          "rgb(9, 172, 234)",
          "rgb(220, 241, 0)",
          "rgb(133, 255, 25)",
          "rgb(135, 0, 101)",
          "rgb(95, 0, 130)",
          "rgb(140, 0, 97)",
          "rgb(0, 140, 255)",
          "rgb(100, 0, 127)",
          "rgb(109, 0, 120)",
          "rgb(68, 0, 150)",
          "rgb(164, 252, 0)",
          "rgb(6, 165, 242)",
          "rgb(0, 22, 249)",
          "rgb(74, 0, 145)",
          "rgb(48, 0, 164)",
          "rgb(255, 0, 0)",
          "rgb(0, 62, 255)",
          "rgb(74, 0, 145)",
          "rgb(84, 0, 138)",
          "rgb(87, 255, 90)",
          "rgb(73, 0, 146)",
          "rgb(255, 142, 0)",
          "rgb(255, 226, 0)",
          "rgb(255, 73, 0)",
          "rgb(130, 255, 29)",
          "rgb(255, 48, 0)",
          "rgb(255, 13, 0)",
          "rgb(121, 0, 112)",
          "rgb(20, 199, 207)",
          "rgb(255, 4, 0)",
          "rgb(126, 0, 108)",
          "rgb(75, 0, 145)",
          "rgb(130, 0, 105)",
          "rgb(136, 0, 100)",
          "rgb(118, 0, 114)",
          "rgb(84, 0, 139)",
          "rgb(0, 5, 212)",
          "rgb(113, 0, 117)",
          "rgb(142, 0, 96)",
          "rgb(38, 0, 172)",
          "rgb(46, 0, 166)",
          "rgb(2, 0, 198)",
          "rgb(217, 242, 0)",
          "rgb(0, 8, 219)",
          "rgb(150, 0, 90)",
          "rgb(0, 15, 234)"
         ],
         "i": [
          7,
          20,
          2,
          0,
          31,
          31,
          32,
          15,
          33,
          35,
          35,
          25,
          24,
          35,
          23,
          35,
          21,
          24,
          37,
          34,
          25,
          29,
          13,
          12,
          13,
          2,
          13,
          8,
          34,
          1,
          21,
          36,
          16,
          31,
          18,
          33,
          31,
          38,
          28,
          32,
          16,
          29,
          3,
          3,
          38,
          19,
          35
         ],
         "j": [
          14,
          14,
          1,
          1,
          33,
          32,
          33,
          30,
          34,
          37,
          36,
          9,
          22,
          30,
          10,
          15,
          26,
          23,
          38,
          16,
          22,
          36,
          9,
          9,
          8,
          3,
          26,
          26,
          36,
          14,
          2,
          34,
          34,
          34,
          33,
          17,
          28,
          27,
          32,
          19,
          38,
          30,
          38,
          35,
          3,
          33,
          3
         ],
         "k": [
          15,
          7,
          20,
          2,
          32,
          28,
          19,
          7,
          17,
          36,
          29,
          22,
          23,
          15,
          11,
          0,
          2,
          11,
          16,
          17,
          24,
          31,
          12,
          25,
          9,
          0,
          8,
          21,
          37,
          20,
          20,
          31,
          37,
          33,
          6,
          6,
          29,
          5,
          4,
          4,
          5,
          35,
          37,
          0,
          27,
          18,
          37
         ],
         "name": "",
         "type": "mesh3d",
         "x": [
          0,
          0.0081,
          0.0081,
          0,
          -0.065,
          0,
          -0.065,
          0.0135,
          0.0135,
          0.0216,
          0.0216,
          0.027,
          0.027,
          0.0081,
          0.0081,
          0,
          -0.0216666666666667,
          -0.04333333333333338,
          -0.065,
          -0.065,
          0.0135,
          0.0135,
          0.0216,
          0.0216,
          0.027,
          0.027,
          0.0081,
          0,
          -0.04537500000000005,
          -0.02575000000000013,
          -0.006125000000000082,
          -0.03955003802849377,
          -0.05344597113676477,
          -0.05230481732033653,
          -0.03480437763704086,
          -0.01064273556367334,
          -0.02562006207682031,
          -0.01700408635944737,
          -0.009290676203902205
         ],
         "y": [
          0.033939,
          0.033939,
          0.028539,
          0.028539,
          0.055,
          0,
          0,
          0.055,
          0.005400000000000001,
          0.005400000000000001,
          0.055,
          0.055,
          8.673617379884035e-19,
          8.673617379884035e-19,
          0.0496,
          0.0496,
          0,
          0,
          0.01833333333333335,
          0.03666666666666669,
          0.0384666666666667,
          0.02193333333333334,
          0.0219333333333333,
          0.03846666666666666,
          0.03666666666666665,
          0.01833333333333331,
          0.0142695,
          0.01426949999999998,
          0.055,
          0.055,
          0.055,
          0.03796609055443392,
          0.04132050377950976,
          0.02196976169682625,
          0.01950173761120155,
          0.03994623225632705,
          0.03500454023906596,
          0.02254108494222896,
          0.01225499953555489
         ],
         "z": [
          0,
          0,
          0,
          0,
          0,
          0,
          0,
          0,
          0,
          0,
          0,
          0,
          0,
          0,
          0,
          0,
          0,
          0,
          0,
          0,
          0,
          0,
          0,
          0,
          0,
          0,
          0,
          0,
          0,
          0,
          0,
          0,
          0,
          0,
          0,
          0,
          0,
          0,
          0
         ]
        },
        {
         "line": {
          "color": "rgb(50, 50, 50)",
          "width": 1.5
         },
         "mode": "lines",
         "showlegend": false,
         "type": "scatter3d",
         "x": [
          0.0135,
          0.0081,
          0,
          0.0135,
          null,
          0.0135,
          0.0081,
          0.0135,
          0.0135,
          null,
          0.0081,
          0.0081,
          0.0135,
          0.0081,
          null,
          0,
          0.0081,
          0.0081,
          0,
          null,
          -0.03955003802849377,
          -0.05230481732033653,
          -0.05344597113676477,
          -0.03955003802849377,
          null,
          -0.03955003802849377,
          -0.05344597113676477,
          -0.04537500000000005,
          -0.03955003802849377,
          null,
          -0.05344597113676477,
          -0.05230481732033653,
          -0.065,
          -0.05344597113676477,
          null,
          0,
          -0.006125000000000082,
          0.0135,
          0,
          null,
          -0.05230481732033653,
          -0.03480437763704086,
          -0.04333333333333338,
          -0.05230481732033653,
          null,
          -0.01064273556367334,
          -0.01700408635944737,
          -0.02562006207682031,
          -0.01064273556367334,
          null,
          -0.01064273556367334,
          -0.02562006207682031,
          -0.02575000000000013,
          -0.01064273556367334,
          null,
          0.027,
          0.0216,
          0.0216,
          0.027,
          null,
          0.027,
          0.0216,
          0.0216,
          0.027,
          null,
          -0.01064273556367334,
          -0.006125000000000082,
          0,
          -0.01064273556367334,
          null,
          0.0216,
          0.0216,
          0.027,
          0.0216,
          null,
          -0.01064273556367334,
          0,
          0,
          -0.01064273556367334,
          null,
          0.0135,
          0.0081,
          0.0081,
          0.0135,
          null,
          0.027,
          0.0216,
          0.027,
          0.027,
          null,
          -0.01700408635944737,
          -0.009290676203902205,
          -0.0216666666666667,
          -0.01700408635944737,
          null,
          -0.03480437763704086,
          -0.0216666666666667,
          -0.04333333333333338,
          -0.03480437763704086,
          null,
          0.027,
          0.0216,
          0.027,
          0.027,
          null,
          -0.02575000000000013,
          -0.02562006207682031,
          -0.03955003802849377,
          -0.02575000000000013,
          null,
          0.0081,
          0.0216,
          0.027,
          0.0081,
          null,
          0.027,
          0.0216,
          0.027,
          0.027,
          null,
          0.0081,
          0.0135,
          0.0216,
          0.0081,
          null,
          0.0081,
          0,
          0,
          0.0081,
          null,
          0.0081,
          0.0081,
          0.0135,
          0.0081,
          null,
          0.0135,
          0.0081,
          0.0135,
          0.0135,
          null,
          -0.03480437763704086,
          -0.02562006207682031,
          -0.01700408635944737,
          -0.03480437763704086,
          null,
          0.0081,
          0.0081,
          0.0135,
          0.0081,
          null,
          0.0135,
          0.0081,
          0.0135,
          0.0135,
          null,
          -0.02562006207682031,
          -0.03480437763704086,
          -0.03955003802849377,
          -0.02562006207682031,
          null,
          -0.0216666666666667,
          -0.03480437763704086,
          -0.01700408635944737,
          -0.0216666666666667,
          null,
          -0.03955003802849377,
          -0.03480437763704086,
          -0.05230481732033653,
          -0.03955003802849377,
          null,
          -0.065,
          -0.05230481732033653,
          -0.065,
          -0.065,
          null,
          -0.05230481732033653,
          -0.04333333333333338,
          -0.065,
          -0.05230481732033653,
          null,
          -0.03955003802849377,
          -0.04537500000000005,
          -0.02575000000000013,
          -0.03955003802849377,
          null,
          -0.009290676203902205,
          0,
          0,
          -0.009290676203902205,
          null,
          -0.04537500000000005,
          -0.05344597113676477,
          -0.065,
          -0.04537500000000005,
          null,
          -0.05344597113676477,
          -0.065,
          -0.065,
          -0.05344597113676477,
          null,
          -0.0216666666666667,
          -0.009290676203902205,
          0,
          -0.0216666666666667,
          null,
          -0.02575000000000013,
          -0.006125000000000082,
          -0.01064273556367334,
          -0.02575000000000013,
          null,
          0,
          -0.009290676203902205,
          -0.01700408635944737,
          0,
          null,
          0,
          -0.01064273556367334,
          0,
          0,
          null,
          -0.009290676203902205,
          0,
          0,
          -0.009290676203902205,
          null,
          -0.065,
          -0.05230481732033653,
          -0.065,
          -0.065,
          null,
          -0.01064273556367334,
          0,
          -0.01700408635944737,
          -0.01064273556367334,
          null
         ],
         "y": [
          0.055,
          0.0496,
          0.0496,
          0.055,
          null,
          0.0384666666666667,
          0.0496,
          0.055,
          0.0384666666666667,
          null,
          0.028539,
          0.033939,
          0.0384666666666667,
          0.028539,
          null,
          0.033939,
          0.033939,
          0.028539,
          0.033939,
          null,
          0.03796609055443392,
          0.02196976169682625,
          0.04132050377950976,
          0.03796609055443392,
          null,
          0.03796609055443392,
          0.04132050377950976,
          0.055,
          0.03796609055443392,
          null,
          0.04132050377950976,
          0.02196976169682625,
          0.03666666666666669,
          0.04132050377950976,
          null,
          0.0496,
          0.055,
          0.055,
          0.0496,
          null,
          0.02196976169682625,
          0.01950173761120155,
          0,
          0.02196976169682625,
          null,
          0.03994623225632705,
          0.02254108494222896,
          0.03500454023906596,
          0.03994623225632705,
          null,
          0.03994623225632705,
          0.03500454023906596,
          0.055,
          0.03994623225632705,
          null,
          0.01833333333333331,
          0.005400000000000001,
          0.0219333333333333,
          0.01833333333333331,
          null,
          0.03666666666666665,
          0.0219333333333333,
          0.03846666666666666,
          0.03666666666666665,
          null,
          0.03994623225632705,
          0.055,
          0.0496,
          0.03994623225632705,
          null,
          0.03846666666666666,
          0.055,
          0.055,
          0.03846666666666666,
          null,
          0.03994623225632705,
          0.0496,
          0.033939,
          0.03994623225632705,
          null,
          0.02193333333333334,
          0.0142695,
          0.028539,
          0.02193333333333334,
          null,
          0.03666666666666665,
          0.03846666666666666,
          0.055,
          0.03666666666666665,
          null,
          0.02254108494222896,
          0.01225499953555489,
          0,
          0.02254108494222896,
          null,
          0.01950173761120155,
          0,
          0,
          0.01950173761120155,
          null,
          0.01833333333333331,
          0.0219333333333333,
          0.03666666666666665,
          0.01833333333333331,
          null,
          0.055,
          0.03500454023906596,
          0.03796609055443392,
          0.055,
          null,
          8.673617379884035e-19,
          0.005400000000000001,
          8.673617379884035e-19,
          8.673617379884035e-19,
          null,
          8.673617379884035e-19,
          0.005400000000000001,
          0.01833333333333331,
          8.673617379884035e-19,
          null,
          8.673617379884035e-19,
          0.005400000000000001,
          0.005400000000000001,
          8.673617379884035e-19,
          null,
          0.028539,
          0.028539,
          0.033939,
          0.028539,
          null,
          8.673617379884035e-19,
          0.0142695,
          0.005400000000000001,
          8.673617379884035e-19,
          null,
          0.005400000000000001,
          0.0142695,
          0.02193333333333334,
          0.005400000000000001,
          null,
          0.01950173761120155,
          0.03500454023906596,
          0.02254108494222896,
          0.01950173761120155,
          null,
          0.033939,
          0.0496,
          0.0384666666666667,
          0.033939,
          null,
          0.02193333333333334,
          0.028539,
          0.0384666666666667,
          0.02193333333333334,
          null,
          0.03500454023906596,
          0.01950173761120155,
          0.03796609055443392,
          0.03500454023906596,
          null,
          0,
          0.01950173761120155,
          0.02254108494222896,
          0,
          null,
          0.03796609055443392,
          0.01950173761120155,
          0.02196976169682625,
          0.03796609055443392,
          null,
          0.01833333333333335,
          0.02196976169682625,
          0,
          0.01833333333333335,
          null,
          0.02196976169682625,
          0,
          0,
          0.02196976169682625,
          null,
          0.03796609055443392,
          0.055,
          0.055,
          0.03796609055443392,
          null,
          0.01225499953555489,
          0.01426949999999998,
          0,
          0.01225499953555489,
          null,
          0.055,
          0.04132050377950976,
          0.055,
          0.055,
          null,
          0.04132050377950976,
          0.03666666666666669,
          0.055,
          0.04132050377950976,
          null,
          0,
          0.01225499953555489,
          0,
          0,
          null,
          0.055,
          0.055,
          0.03994623225632705,
          0.055,
          null,
          0.028539,
          0.01225499953555489,
          0.02254108494222896,
          0.028539,
          null,
          0.028539,
          0.03994623225632705,
          0.033939,
          0.028539,
          null,
          0.01225499953555489,
          0.028539,
          0.01426949999999998,
          0.01225499953555489,
          null,
          0.03666666666666669,
          0.02196976169682625,
          0.01833333333333335,
          0.03666666666666669,
          null,
          0.03994623225632705,
          0.028539,
          0.02254108494222896,
          0.03994623225632705,
          null
         ],
         "z": [
          0,
          0,
          0,
          0,
          null,
          0,
          0,
          0,
          0,
          null,
          0,
          0,
          0,
          0,
          null,
          0,
          0,
          0,
          0,
          null,
          0,
          0,
          0,
          0,
          null,
          0,
          0,
          0,
          0,
          null,
          0,
          0,
          0,
          0,
          null,
          0,
          0,
          0,
          0,
          null,
          0,
          0,
          0,
          0,
          null,
          0,
          0,
          0,
          0,
          null,
          0,
          0,
          0,
          0,
          null,
          0,
          0,
          0,
          0,
          null,
          0,
          0,
          0,
          0,
          null,
          0,
          0,
          0,
          0,
          null,
          0,
          0,
          0,
          0,
          null,
          0,
          0,
          0,
          0,
          null,
          0,
          0,
          0,
          0,
          null,
          0,
          0,
          0,
          0,
          null,
          0,
          0,
          0,
          0,
          null,
          0,
          0,
          0,
          0,
          null,
          0,
          0,
          0,
          0,
          null,
          0,
          0,
          0,
          0,
          null,
          0,
          0,
          0,
          0,
          null,
          0,
          0,
          0,
          0,
          null,
          0,
          0,
          0,
          0,
          null,
          0,
          0,
          0,
          0,
          null,
          0,
          0,
          0,
          0,
          null,
          0,
          0,
          0,
          0,
          null,
          0,
          0,
          0,
          0,
          null,
          0,
          0,
          0,
          0,
          null,
          0,
          0,
          0,
          0,
          null,
          0,
          0,
          0,
          0,
          null,
          0,
          0,
          0,
          0,
          null,
          0,
          0,
          0,
          0,
          null,
          0,
          0,
          0,
          0,
          null,
          0,
          0,
          0,
          0,
          null,
          0,
          0,
          0,
          0,
          null,
          0,
          0,
          0,
          0,
          null,
          0,
          0,
          0,
          0,
          null,
          0,
          0,
          0,
          0,
          null,
          0,
          0,
          0,
          0,
          null,
          0,
          0,
          0,
          0,
          null,
          0,
          0,
          0,
          0,
          null,
          0,
          0,
          0,
          0,
          null,
          0,
          0,
          0,
          0,
          null,
          0,
          0,
          0,
          0,
          null,
          0,
          0,
          0,
          0,
          null
         ]
        },
        {
         "hoverinfo": "none",
         "marker": {
          "color": [
           0.01823165096211884,
           3.2179570117078273
          ],
          "colorscale": [
           [
            0,
            "rgb(150, 0, 90)"
           ],
           [
            0.125,
            "rgb(0, 0, 200)"
           ],
           [
            0.25,
            "rgb(0, 25, 255)"
           ],
           [
            0.375,
            "rgb(0, 152, 255)"
           ],
           [
            0.5,
            "rgb(44, 255, 150)"
           ],
           [
            0.625,
            "rgb(151, 255, 0)"
           ],
           [
            0.75,
            "rgb(255, 234, 0)"
           ],
           [
            0.875,
            "rgb(255, 111, 0)"
           ],
           [
            1,
            "rgb(255, 0, 0)"
           ]
          ],
          "showscale": true,
          "size": 0.1
         },
         "mode": "markers",
         "showlegend": false,
         "type": "scatter3d",
         "x": [
          0
         ],
         "y": [
          0.033939
         ],
         "z": [
          0
         ]
        },
        {
         "marker": {
          "color": "red",
          "size": 6,
          "symbol": "circle"
         },
         "mode": "markers+text",
         "name": "Feed Point",
         "text": [
          "Feed Point"
         ],
         "textposition": "top center",
         "type": "scatter3d",
         "x": [
          0
         ],
         "y": [
          0.031239
         ],
         "z": [
          0
         ]
        }
       ],
       "layout": {
        "height": 800,
        "scene": {
         "aspectratio": {
          "x": 1,
          "y": 0.5978260869565217,
          "z": 0.3
         },
         "xaxis": {
          "backgroundcolor": "rgb(230, 230, 230)",
          "gridcolor": "rgb(255, 255, 255)",
          "showbackground": true,
          "zerolinecolor": "rgb(255, 255, 255)"
         },
         "yaxis": {
          "backgroundcolor": "rgb(230, 230, 230)",
          "gridcolor": "rgb(255, 255, 255)",
          "showbackground": true,
          "zerolinecolor": "rgb(255, 255, 255)"
         },
         "zaxis": {
          "backgroundcolor": "rgb(230, 230, 230)",
          "gridcolor": "rgb(255, 255, 255)",
          "showbackground": true,
          "zerolinecolor": "rgb(255, 255, 255)"
         }
        },
        "template": {
         "data": {
          "bar": [
           {
            "error_x": {
             "color": "#2a3f5f"
            },
            "error_y": {
             "color": "#2a3f5f"
            },
            "marker": {
             "line": {
              "color": "#E5ECF6",
              "width": 0.5
             },
             "pattern": {
              "fillmode": "overlay",
              "size": 10,
              "solidity": 0.2
             }
            },
            "type": "bar"
           }
          ],
          "barpolar": [
           {
            "marker": {
             "line": {
              "color": "#E5ECF6",
              "width": 0.5
             },
             "pattern": {
              "fillmode": "overlay",
              "size": 10,
              "solidity": 0.2
             }
            },
            "type": "barpolar"
           }
          ],
          "carpet": [
           {
            "aaxis": {
             "endlinecolor": "#2a3f5f",
             "gridcolor": "white",
             "linecolor": "white",
             "minorgridcolor": "white",
             "startlinecolor": "#2a3f5f"
            },
            "baxis": {
             "endlinecolor": "#2a3f5f",
             "gridcolor": "white",
             "linecolor": "white",
             "minorgridcolor": "white",
             "startlinecolor": "#2a3f5f"
            },
            "type": "carpet"
           }
          ],
          "choropleth": [
           {
            "colorbar": {
             "outlinewidth": 0,
             "ticks": ""
            },
            "type": "choropleth"
           }
          ],
          "contour": [
           {
            "colorbar": {
             "outlinewidth": 0,
             "ticks": ""
            },
            "colorscale": [
             [
              0,
              "#0d0887"
             ],
             [
              0.1111111111111111,
              "#46039f"
             ],
             [
              0.2222222222222222,
              "#7201a8"
             ],
             [
              0.3333333333333333,
              "#9c179e"
             ],
             [
              0.4444444444444444,
              "#bd3786"
             ],
             [
              0.5555555555555556,
              "#d8576b"
             ],
             [
              0.6666666666666666,
              "#ed7953"
             ],
             [
              0.7777777777777778,
              "#fb9f3a"
             ],
             [
              0.8888888888888888,
              "#fdca26"
             ],
             [
              1,
              "#f0f921"
             ]
            ],
            "type": "contour"
           }
          ],
          "contourcarpet": [
           {
            "colorbar": {
             "outlinewidth": 0,
             "ticks": ""
            },
            "type": "contourcarpet"
           }
          ],
          "heatmap": [
           {
            "colorbar": {
             "outlinewidth": 0,
             "ticks": ""
            },
            "colorscale": [
             [
              0,
              "#0d0887"
             ],
             [
              0.1111111111111111,
              "#46039f"
             ],
             [
              0.2222222222222222,
              "#7201a8"
             ],
             [
              0.3333333333333333,
              "#9c179e"
             ],
             [
              0.4444444444444444,
              "#bd3786"
             ],
             [
              0.5555555555555556,
              "#d8576b"
             ],
             [
              0.6666666666666666,
              "#ed7953"
             ],
             [
              0.7777777777777778,
              "#fb9f3a"
             ],
             [
              0.8888888888888888,
              "#fdca26"
             ],
             [
              1,
              "#f0f921"
             ]
            ],
            "type": "heatmap"
           }
          ],
          "heatmapgl": [
           {
            "colorbar": {
             "outlinewidth": 0,
             "ticks": ""
            },
            "colorscale": [
             [
              0,
              "#0d0887"
             ],
             [
              0.1111111111111111,
              "#46039f"
             ],
             [
              0.2222222222222222,
              "#7201a8"
             ],
             [
              0.3333333333333333,
              "#9c179e"
             ],
             [
              0.4444444444444444,
              "#bd3786"
             ],
             [
              0.5555555555555556,
              "#d8576b"
             ],
             [
              0.6666666666666666,
              "#ed7953"
             ],
             [
              0.7777777777777778,
              "#fb9f3a"
             ],
             [
              0.8888888888888888,
              "#fdca26"
             ],
             [
              1,
              "#f0f921"
             ]
            ],
            "type": "heatmapgl"
           }
          ],
          "histogram": [
           {
            "marker": {
             "pattern": {
              "fillmode": "overlay",
              "size": 10,
              "solidity": 0.2
             }
            },
            "type": "histogram"
           }
          ],
          "histogram2d": [
           {
            "colorbar": {
             "outlinewidth": 0,
             "ticks": ""
            },
            "colorscale": [
             [
              0,
              "#0d0887"
             ],
             [
              0.1111111111111111,
              "#46039f"
             ],
             [
              0.2222222222222222,
              "#7201a8"
             ],
             [
              0.3333333333333333,
              "#9c179e"
             ],
             [
              0.4444444444444444,
              "#bd3786"
             ],
             [
              0.5555555555555556,
              "#d8576b"
             ],
             [
              0.6666666666666666,
              "#ed7953"
             ],
             [
              0.7777777777777778,
              "#fb9f3a"
             ],
             [
              0.8888888888888888,
              "#fdca26"
             ],
             [
              1,
              "#f0f921"
             ]
            ],
            "type": "histogram2d"
           }
          ],
          "histogram2dcontour": [
           {
            "colorbar": {
             "outlinewidth": 0,
             "ticks": ""
            },
            "colorscale": [
             [
              0,
              "#0d0887"
             ],
             [
              0.1111111111111111,
              "#46039f"
             ],
             [
              0.2222222222222222,
              "#7201a8"
             ],
             [
              0.3333333333333333,
              "#9c179e"
             ],
             [
              0.4444444444444444,
              "#bd3786"
             ],
             [
              0.5555555555555556,
              "#d8576b"
             ],
             [
              0.6666666666666666,
              "#ed7953"
             ],
             [
              0.7777777777777778,
              "#fb9f3a"
             ],
             [
              0.8888888888888888,
              "#fdca26"
             ],
             [
              1,
              "#f0f921"
             ]
            ],
            "type": "histogram2dcontour"
           }
          ],
          "mesh3d": [
           {
            "colorbar": {
             "outlinewidth": 0,
             "ticks": ""
            },
            "type": "mesh3d"
           }
          ],
          "parcoords": [
           {
            "line": {
             "colorbar": {
              "outlinewidth": 0,
              "ticks": ""
             }
            },
            "type": "parcoords"
           }
          ],
          "pie": [
           {
            "automargin": true,
            "type": "pie"
           }
          ],
          "scatter": [
           {
            "fillpattern": {
             "fillmode": "overlay",
             "size": 10,
             "solidity": 0.2
            },
            "type": "scatter"
           }
          ],
          "scatter3d": [
           {
            "line": {
             "colorbar": {
              "outlinewidth": 0,
              "ticks": ""
             }
            },
            "marker": {
             "colorbar": {
              "outlinewidth": 0,
              "ticks": ""
             }
            },
            "type": "scatter3d"
           }
          ],
          "scattercarpet": [
           {
            "marker": {
             "colorbar": {
              "outlinewidth": 0,
              "ticks": ""
             }
            },
            "type": "scattercarpet"
           }
          ],
          "scattergeo": [
           {
            "marker": {
             "colorbar": {
              "outlinewidth": 0,
              "ticks": ""
             }
            },
            "type": "scattergeo"
           }
          ],
          "scattergl": [
           {
            "marker": {
             "colorbar": {
              "outlinewidth": 0,
              "ticks": ""
             }
            },
            "type": "scattergl"
           }
          ],
          "scattermapbox": [
           {
            "marker": {
             "colorbar": {
              "outlinewidth": 0,
              "ticks": ""
             }
            },
            "type": "scattermapbox"
           }
          ],
          "scatterpolar": [
           {
            "marker": {
             "colorbar": {
              "outlinewidth": 0,
              "ticks": ""
             }
            },
            "type": "scatterpolar"
           }
          ],
          "scatterpolargl": [
           {
            "marker": {
             "colorbar": {
              "outlinewidth": 0,
              "ticks": ""
             }
            },
            "type": "scatterpolargl"
           }
          ],
          "scatterternary": [
           {
            "marker": {
             "colorbar": {
              "outlinewidth": 0,
              "ticks": ""
             }
            },
            "type": "scatterternary"
           }
          ],
          "surface": [
           {
            "colorbar": {
             "outlinewidth": 0,
             "ticks": ""
            },
            "colorscale": [
             [
              0,
              "#0d0887"
             ],
             [
              0.1111111111111111,
              "#46039f"
             ],
             [
              0.2222222222222222,
              "#7201a8"
             ],
             [
              0.3333333333333333,
              "#9c179e"
             ],
             [
              0.4444444444444444,
              "#bd3786"
             ],
             [
              0.5555555555555556,
              "#d8576b"
             ],
             [
              0.6666666666666666,
              "#ed7953"
             ],
             [
              0.7777777777777778,
              "#fb9f3a"
             ],
             [
              0.8888888888888888,
              "#fdca26"
             ],
             [
              1,
              "#f0f921"
             ]
            ],
            "type": "surface"
           }
          ],
          "table": [
           {
            "cells": {
             "fill": {
              "color": "#EBF0F8"
             },
             "line": {
              "color": "white"
             }
            },
            "header": {
             "fill": {
              "color": "#C8D4E3"
             },
             "line": {
              "color": "white"
             }
            },
            "type": "table"
           }
          ]
         },
         "layout": {
          "annotationdefaults": {
           "arrowcolor": "#2a3f5f",
           "arrowhead": 0,
           "arrowwidth": 1
          },
          "autotypenumbers": "strict",
          "coloraxis": {
           "colorbar": {
            "outlinewidth": 0,
            "ticks": ""
           }
          },
          "colorscale": {
           "diverging": [
            [
             0,
             "#8e0152"
            ],
            [
             0.1,
             "#c51b7d"
            ],
            [
             0.2,
             "#de77ae"
            ],
            [
             0.3,
             "#f1b6da"
            ],
            [
             0.4,
             "#fde0ef"
            ],
            [
             0.5,
             "#f7f7f7"
            ],
            [
             0.6,
             "#e6f5d0"
            ],
            [
             0.7,
             "#b8e186"
            ],
            [
             0.8,
             "#7fbc41"
            ],
            [
             0.9,
             "#4d9221"
            ],
            [
             1,
             "#276419"
            ]
           ],
           "sequential": [
            [
             0,
             "#0d0887"
            ],
            [
             0.1111111111111111,
             "#46039f"
            ],
            [
             0.2222222222222222,
             "#7201a8"
            ],
            [
             0.3333333333333333,
             "#9c179e"
            ],
            [
             0.4444444444444444,
             "#bd3786"
            ],
            [
             0.5555555555555556,
             "#d8576b"
            ],
            [
             0.6666666666666666,
             "#ed7953"
            ],
            [
             0.7777777777777778,
             "#fb9f3a"
            ],
            [
             0.8888888888888888,
             "#fdca26"
            ],
            [
             1,
             "#f0f921"
            ]
           ],
           "sequentialminus": [
            [
             0,
             "#0d0887"
            ],
            [
             0.1111111111111111,
             "#46039f"
            ],
            [
             0.2222222222222222,
             "#7201a8"
            ],
            [
             0.3333333333333333,
             "#9c179e"
            ],
            [
             0.4444444444444444,
             "#bd3786"
            ],
            [
             0.5555555555555556,
             "#d8576b"
            ],
            [
             0.6666666666666666,
             "#ed7953"
            ],
            [
             0.7777777777777778,
             "#fb9f3a"
            ],
            [
             0.8888888888888888,
             "#fdca26"
            ],
            [
             1,
             "#f0f921"
            ]
           ]
          },
          "colorway": [
           "#636efa",
           "#EF553B",
           "#00cc96",
           "#ab63fa",
           "#FFA15A",
           "#19d3f3",
           "#FF6692",
           "#B6E880",
           "#FF97FF",
           "#FECB52"
          ],
          "font": {
           "color": "#2a3f5f"
          },
          "geo": {
           "bgcolor": "white",
           "lakecolor": "white",
           "landcolor": "#E5ECF6",
           "showlakes": true,
           "showland": true,
           "subunitcolor": "white"
          },
          "hoverlabel": {
           "align": "left"
          },
          "hovermode": "closest",
          "mapbox": {
           "style": "light"
          },
          "paper_bgcolor": "white",
          "plot_bgcolor": "#E5ECF6",
          "polar": {
           "angularaxis": {
            "gridcolor": "white",
            "linecolor": "white",
            "ticks": ""
           },
           "bgcolor": "#E5ECF6",
           "radialaxis": {
            "gridcolor": "white",
            "linecolor": "white",
            "ticks": ""
           }
          },
          "scene": {
           "xaxis": {
            "backgroundcolor": "#E5ECF6",
            "gridcolor": "white",
            "gridwidth": 2,
            "linecolor": "white",
            "showbackground": true,
            "ticks": "",
            "zerolinecolor": "white"
           },
           "yaxis": {
            "backgroundcolor": "#E5ECF6",
            "gridcolor": "white",
            "gridwidth": 2,
            "linecolor": "white",
            "showbackground": true,
            "ticks": "",
            "zerolinecolor": "white"
           },
           "zaxis": {
            "backgroundcolor": "#E5ECF6",
            "gridcolor": "white",
            "gridwidth": 2,
            "linecolor": "white",
            "showbackground": true,
            "ticks": "",
            "zerolinecolor": "white"
           }
          },
          "shapedefaults": {
           "line": {
            "color": "#2a3f5f"
           }
          },
          "ternary": {
           "aaxis": {
            "gridcolor": "white",
            "linecolor": "white",
            "ticks": ""
           },
           "baxis": {
            "gridcolor": "white",
            "linecolor": "white",
            "ticks": ""
           },
           "bgcolor": "#E5ECF6",
           "caxis": {
            "gridcolor": "white",
            "linecolor": "white",
            "ticks": ""
           }
          },
          "title": {
           "x": 0.05
          },
          "xaxis": {
           "automargin": true,
           "gridcolor": "white",
           "linecolor": "white",
           "ticks": "",
           "title": {
            "standoff": 15
           },
           "zerolinecolor": "white",
           "zerolinewidth": 2
          },
          "yaxis": {
           "automargin": true,
           "gridcolor": "white",
           "linecolor": "white",
           "ticks": "",
           "title": {
            "standoff": 15
           },
           "zerolinecolor": "white",
           "zerolinewidth": 2
          }
         }
        },
        "title": {
         "text": "sim_optimize_ifa antenna surface current in radiation mode"
        },
        "width": 800
       }
      }
     },
     "metadata": {},
     "output_type": "display_data"
    },
    {
     "name": "stdout",
     "output_type": "stream",
     "text": [
      "Simulation 43/76 | f = 868.00 MHz | S11 = -32.80 dB\n",
      "\n",
      "Nombre d'elements de maillage (edges) = 55\n",
      "\n",
      "Simulation 44/76 | f = 872.00 MHz | S11 = -25.61 dB\n",
      "\n",
      "Nombre d'elements de maillage (edges) = 55\n",
      "\n",
      "Simulation 45/76 | f = 876.00 MHz | S11 = -20.89 dB\n",
      "\n",
      "Nombre d'elements de maillage (edges) = 55\n",
      "\n",
      "Simulation 46/76 | f = 880.00 MHz | S11 = -17.83 dB\n",
      "\n",
      "Nombre d'elements de maillage (edges) = 55\n",
      "\n",
      "Simulation 47/76 | f = 884.00 MHz | S11 = -15.60 dB\n",
      "\n",
      "Nombre d'elements de maillage (edges) = 55\n",
      "\n",
      "Simulation 48/76 | f = 888.00 MHz | S11 = -13.87 dB\n",
      "\n",
      "Nombre d'elements de maillage (edges) = 55\n",
      "\n",
      "Simulation 49/76 | f = 892.00 MHz | S11 = -12.47 dB\n",
      "\n",
      "Nombre d'elements de maillage (edges) = 55\n",
      "\n",
      "Simulation 50/76 | f = 896.00 MHz | S11 = -11.31 dB\n",
      "\n",
      "Nombre d'elements de maillage (edges) = 55\n",
      "\n",
      "Simulation 51/76 | f = 900.00 MHz | S11 = -10.32 dB\n",
      "\n",
      "Nombre d'elements de maillage (edges) = 55\n",
      "\n",
      "Simulation 52/76 | f = 904.00 MHz | S11 = -9.47 dB\n",
      "\n",
      "Nombre d'elements de maillage (edges) = 55\n",
      "\n",
      "Simulation 53/76 | f = 908.00 MHz | S11 = -8.73 dB\n",
      "\n",
      "Nombre d'elements de maillage (edges) = 55\n",
      "\n",
      "Simulation 54/76 | f = 912.00 MHz | S11 = -8.08 dB\n",
      "\n",
      "Nombre d'elements de maillage (edges) = 55\n",
      "\n",
      "Simulation 55/76 | f = 916.00 MHz | S11 = -7.50 dB\n",
      "\n",
      "Nombre d'elements de maillage (edges) = 55\n",
      "\n",
      "Simulation 56/76 | f = 920.00 MHz | S11 = -6.99 dB\n",
      "\n",
      "Nombre d'elements de maillage (edges) = 55\n",
      "\n",
      "Simulation 57/76 | f = 924.00 MHz | S11 = -6.52 dB\n",
      "\n",
      "Nombre d'elements de maillage (edges) = 55\n",
      "\n",
      "Simulation 58/76 | f = 928.00 MHz | S11 = -6.11 dB\n",
      "\n",
      "Nombre d'elements de maillage (edges) = 55\n",
      "\n",
      "Simulation 59/76 | f = 932.00 MHz | S11 = -5.73 dB\n",
      "\n",
      "Nombre d'elements de maillage (edges) = 55\n",
      "\n",
      "Simulation 60/76 | f = 936.00 MHz | S11 = -5.39 dB\n",
      "\n",
      "Nombre d'elements de maillage (edges) = 55\n",
      "\n",
      "Simulation 61/76 | f = 940.00 MHz | S11 = -5.08 dB\n",
      "\n",
      "Nombre d'elements de maillage (edges) = 55\n",
      "\n",
      "Simulation 62/76 | f = 944.00 MHz | S11 = -4.79 dB\n",
      "\n",
      "Nombre d'elements de maillage (edges) = 55\n",
      "\n",
      "Simulation 63/76 | f = 948.00 MHz | S11 = -4.53 dB\n",
      "\n",
      "Nombre d'elements de maillage (edges) = 55\n",
      "\n",
      "Simulation 64/76 | f = 952.00 MHz | S11 = -4.29 dB\n",
      "\n",
      "Nombre d'elements de maillage (edges) = 55\n",
      "\n",
      "Simulation 65/76 | f = 956.00 MHz | S11 = -4.07 dB\n",
      "\n",
      "Nombre d'elements de maillage (edges) = 55\n",
      "\n",
      "Simulation 66/76 | f = 960.00 MHz | S11 = -3.87 dB\n",
      "\n",
      "Nombre d'elements de maillage (edges) = 55\n",
      "\n",
      "Simulation 67/76 | f = 964.00 MHz | S11 = -3.68 dB\n",
      "\n",
      "Nombre d'elements de maillage (edges) = 55\n",
      "\n",
      "Simulation 68/76 | f = 968.00 MHz | S11 = -3.51 dB\n",
      "\n",
      "Nombre d'elements de maillage (edges) = 55\n",
      "\n",
      "Simulation 69/76 | f = 972.00 MHz | S11 = -3.35 dB\n",
      "\n",
      "Nombre d'elements de maillage (edges) = 55\n",
      "\n",
      "Simulation 70/76 | f = 976.00 MHz | S11 = -3.20 dB\n",
      "\n",
      "Nombre d'elements de maillage (edges) = 55\n",
      "\n",
      "Simulation 71/76 | f = 980.00 MHz | S11 = -3.06 dB\n",
      "\n",
      "Nombre d'elements de maillage (edges) = 55\n",
      "\n",
      "Simulation 72/76 | f = 984.00 MHz | S11 = -2.93 dB\n",
      "\n",
      "Nombre d'elements de maillage (edges) = 55\n",
      "\n",
      "Simulation 73/76 | f = 988.00 MHz | S11 = -2.80 dB\n",
      "\n",
      "Nombre d'elements de maillage (edges) = 55\n",
      "\n",
      "Simulation 74/76 | f = 992.00 MHz | S11 = -2.69 dB\n",
      "\n",
      "Nombre d'elements de maillage (edges) = 55\n",
      "\n",
      "Simulation 75/76 | f = 996.00 MHz | S11 = -2.58 dB\n",
      "\n",
      "Nombre d'elements de maillage (edges) = 55\n",
      "\n",
      "Simulation 76/76 | f = 1000.00 MHz | S11 = -2.48 dB\n",
      "\n",
      "📡 Résultats de simulation :\n",
      "→ Fréquence de résonance = 868.00 MHz\n",
      "→ Impédance à f_res      = 47.77-0.26j Ω\n"
     ]
    },
    {
     "data": {
      "image/png": "[encoded data removed]",
      "text/plain": [
       "<Figure size 700x432.624 with 1 Axes>"
      ]
     },
     "metadata": {},
     "output_type": "display_data"
    }
   ],
   "source": [
    "print(f\"distance meandres {distance_meandre * 1000} mm\")\n",
    "print(f\"Largeur de piste ifa {largeur_piste * 1000} mm\")\n",
    "print(f\"position feed = {feed * 1000} mm\\n\")\n",
    "N_list_elem, new_distance_meandre_elem = creation_ifa(a, b, largeur_piste, distance_meandre, feed, x_t, y_t, save_mesh_folder, mesh_name, mesh_size)\n",
    "print(f\"Number of meanders {N_list_elem}\")\n",
    "print(f\"New distance meandres {new_distance_meandre_elem * 1000} mm\")\n",
    "feed_point    = [0, feed, 0]\n",
    "frequence_resonance, s11_db, R_res, X_res = simulate(frequencies, ifa_meander_mat, fC, feed_point)\n",
    "plot_s11_curve(fLow, fHigh, nPoints, s11_db, fC)\n"
   ]
  }
 ],
 "metadata": {
  "kernelspec": {
   "display_name": "antenna_solver",
   "language": "python",
   "name": "python3"
  },
  "language_info": {
   "codemirror_mode": {
    "name": "ipython",
    "version": 3
   },
   "file_extension": ".py",
   "mimetype": "text/x-python",
   "name": "python",
   "nbconvert_exporter": "python",
   "pygments_lexer": "ipython3",
   "version": "3.12.9"
  }
 },
 "nbformat": 4,
 "nbformat_minor": 5
}
