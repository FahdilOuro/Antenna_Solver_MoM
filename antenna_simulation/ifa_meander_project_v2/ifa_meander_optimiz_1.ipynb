{
 "cells": [
  {
   "cell_type": "code",
   "execution_count": 1,
   "id": "250c2240",
   "metadata": {},
   "outputs": [],
   "source": [
    "from utils.ifa_meander_project_v2.geometry import *\n",
    "from utils.ifa_meander_project_v2.meshing import *\n",
    "from utils.ifa_meander_project_v2.frequency import *\n",
    "from utils.ifa_meander_project_v2.simulation import *"
   ]
  },
  {
   "cell_type": "markdown",
   "id": "a77e64d0",
   "metadata": {},
   "source": [
    "fC      = 868e6  # Center frequency in Hz\n",
    "delta_f = 4e6    # Step between samples in Hz\n",
    "print(f\"delta_f = {delta_f/1e6:.2f} MHz\")\n",
    "nPoints = 31     # Number of samples\n",
    "\n",
    "fLow, fHigh, frequencies = calc_frequencies(fC, delta_f, nPoints)\n",
    "print(f\"fLow = {fLow/1e6:.2f} MHz, fHigh = {fHigh/1e6:.2f} MHz, nPoints = {nPoints}\")"
   ]
  },
  {
   "cell_type": "code",
   "execution_count": null,
   "id": "9d7a85b2",
   "metadata": {},
   "outputs": [
    {
     "name": "stdout",
     "output_type": "stream",
     "text": [
      "Nombre de fréquences (nPoints) : 76\n",
      "Index de fC : 42\n"
     ]
    }
   ],
   "source": [
    "\"\"\" fC      = 868e6\n",
    "fLow    = 700e6\n",
    "fHigh   = 1000e6\n",
    "\n",
    "nPoints = calculate_nPoints(fLow, fHigh, fC, 80)\n",
    "accuracy= 0.01\n",
    "print(f\"nPoints = {nPoints}\")\n",
    "frequencies = np.linspace(fLow, fHigh, nPoints)\n",
    "fc_index = np.where(frequencies == fC)[0][0]\n",
    "print(f\"fc_index = {fc_index}\") \"\"\"\n",
    "\n",
    "fLow = 700e6\n",
    "fHigh = 1000e6\n",
    "fC = 868e6\n",
    "step = 4e6\n",
    "\n",
    "frequencies, fc_index, nPoints = generate_frequencies(fLow, fHigh, fC, step)\n",
    "\n",
    "print(f\"Number of frequencies (nPoints): {nPoints}\")\n",
    "print(f\"Index of fC: {fc_index}\")"
   ]
  },
  {
   "cell_type": "code",
   "execution_count": 3,
   "id": "044e5d0e",
   "metadata": {},
   "outputs": [],
   "source": [
    "mesh_name = \"ifa_meander.msh\"\n",
    "save_mesh_folder = 'data/gmsh_files/'\n",
    "ifa_meander_mat = 'data/antennas_mesh/ifa_meander.mat'\n",
    "ifa_meander_msh = save_mesh_folder + mesh_name"
   ]
  },
  {
   "cell_type": "code",
   "execution_count": null,
   "id": "f8c7117d",
   "metadata": {},
   "outputs": [
    {
     "name": "stdout",
     "output_type": "stream",
     "text": [
      "largeur_piste = 5.00 mm\n",
      "distance_meandre = 5.00 mm\n",
      "feed = 22.50 mm\n",
      "mesh_size = 20.00\n"
     ]
    }
   ],
   "source": [
    "a = 25 / 1000  # Width\n",
    "b = 45 / 1000  # Height\n",
    "\n",
    "terminal_a = 55 / 1000\n",
    "terminal_b = b\n",
    "x_t = np.array([-terminal_a, 0, 0, -terminal_a])\n",
    "y_t = np.array([terminal_b, terminal_b, 0, 0])\n",
    "\n",
    "# Fix the short feed and track width\n",
    "largeur_piste    = a / 5          # Minimum value    \n",
    "distance_meandre = a / 5          # Value chosen based on analyse_dist_meandre.ipynb\n",
    "feed = 0.5 * b                     # Positioned at half of the ground plane\n",
    "feed_point       = np.array([0, feed, 0])  # Feed at short feed\n",
    "mesh_size = 4 * largeur_piste\n",
    "\n",
    "# Display values\n",
    "print(f\"Track width = {largeur_piste * 1000:.2f} mm\")\n",
    "print(f\"Meander distance = {distance_meandre * 1000:.2f} mm\")\n",
    "print(f\"Feed = {feed * 1000:.2f} mm\")\n",
    "print(f\"Mesh size = {mesh_size * 1000:.2f} mm\")"
   ]
  },
  {
   "cell_type": "code",
   "execution_count": null,
   "id": "e2d2f72c",
   "metadata": {},
   "outputs": [],
   "source": [
    "def creation_ifa(largeur, hauteur, width, dist_meandre, feed, x_t, y_t, save_mesh_folder, mesh_name, mesh_size):\n",
    "    x, y, N, distance_meandre = ifa_creation(largeur, hauteur, width, dist_meandre)\n",
    "    x_m, y_m = trace_meander(x, y, width)\n",
    "    feed_wid = width  # Track width is uniform everywhere\n",
    "    feed_x = np.array([0, distance_meandre, distance_meandre, 0])\n",
    "    feed_y = np.array([feed + feed_wid/2, feed + feed_wid/2, feed - feed_wid/2, feed - feed_wid/2])\n",
    "    antenna_ifa_meander(x_m, y_m, x_t, y_t, feed_x, feed_y, save_mesh_folder, mesh_name, mesh_size)\n",
    "    extract_msh_to_mat(ifa_meander_msh, ifa_meander_mat)\n",
    "    return N, distance_meandre\n",
    "\n",
    "def plot_s11_curve(fLow, fHigh, nPoints, s11_db, fC=None):\n",
    "    from matplotlib import pyplot as plt\n",
    "    frequencies = np.linspace(fLow, fHigh, nPoints)\n",
    "    frequencies_mhz = np.array(frequencies) / 1e6\n",
    "    s11_db = np.array(s11_db)\n",
    "\n",
    "    # Find minimum of S11\n",
    "    min_index = np.argmin(s11_db)\n",
    "    f_resonance = frequencies[min_index] / 1e6\n",
    "    s11_min = s11_db[min_index]\n",
    "\n",
    "    # Plot\n",
    "    fig_size = 7\n",
    "    Fibonacci = (1 + np.sqrt(5)) / 2\n",
    "    plt.figure(figsize=(fig_size, fig_size / Fibonacci))\n",
    "    plt.plot(frequencies_mhz, s11_db, label=\"S11 (dB)\", color='blue')\n",
    "    plt.plot(f_resonance, s11_min, 'ro', \n",
    "             label=f\"Resonance: {f_resonance:.2f} MHz (S11={s11_min:.2f} dB)\")\n",
    "    \n",
    "    if fC:\n",
    "        fC_mhz = fC / 1e6\n",
    "        idx_fc = np.argmin(np.abs(frequencies - fC))\n",
    "        s11_fc = s11_db[idx_fc]\n",
    "        plt.axvline(fC_mhz, color='green', linestyle='--', \n",
    "                    label=f\"fC = {fC_mhz:.2f} MHz (S11={s11_fc:.2f} dB)\")\n",
    "\n",
    "    plt.xlabel(\"Frequency (MHz)\")\n",
    "    plt.ylabel(\"S11 (dB)\")\n",
    "    plt.title(\"S11 Curve vs Frequency\")\n",
    "    plt.grid(True)\n",
    "    plt.legend()\n",
    "    plt.tight_layout()\n",
    "    plt.show()\n",
    "\n",
    "def adapt_with_ratio_square(distance_meandre, largeur_piste, ratio):\n",
    "    return distance_meandre / (ratio**2), largeur_piste / (ratio**2)\n",
    "\n",
    "def adapt_with_ratio_cube(distance_meandre, largeur_piste, ratio):\n",
    "    return distance_meandre / (ratio**3), largeur_piste / (ratio**3)"
   ]
  },
  {
   "cell_type": "code",
   "execution_count": null,
   "id": "80127129",
   "metadata": {},
   "outputs": [
    {
     "name": "stdout",
     "output_type": "stream",
     "text": [
      "\n",
      "------------------------------------------------------Iteration N°1------------------------------------------------------\n",
      "\n",
      "distance meandres = 5.000 mm\n",
      "\n",
      "Number of meanders = 2\n",
      "\n",
      "New distance meandres = 7.500 mm\n",
      "Largeur de piste ifa = 5.000 mm\n",
      "position feed = 22.500 mm\n",
      "\n",
      "Simulation 1/76 | f = 700.00 MHz | S11 = -0.15 dB\n",
      "Simulation 2/76 | f = 704.00 MHz | S11 = -0.15 dB\n",
      "Simulation 3/76 | f = 708.00 MHz | S11 = -0.16 dB\n",
      "Simulation 4/76 | f = 712.00 MHz | S11 = -0.17 dB\n",
      "Simulation 5/76 | f = 716.00 MHz | S11 = -0.17 dB\n",
      "Simulation 6/76 | f = 720.00 MHz | S11 = -0.18 dB\n",
      "Simulation 7/76 | f = 724.00 MHz | S11 = -0.19 dB\n",
      "Simulation 8/76 | f = 728.00 MHz | S11 = -0.20 dB\n",
      "Simulation 9/76 | f = 732.00 MHz | S11 = -0.20 dB\n",
      "Simulation 10/76 | f = 736.00 MHz | S11 = -0.21 dB\n",
      "Simulation 11/76 | f = 740.00 MHz | S11 = -0.22 dB\n",
      "Simulation 12/76 | f = 744.00 MHz | S11 = -0.23 dB\n",
      "Simulation 13/76 | f = 748.00 MHz | S11 = -0.24 dB\n",
      "Simulation 14/76 | f = 752.00 MHz | S11 = -0.25 dB\n",
      "Simulation 15/76 | f = 756.00 MHz | S11 = -0.26 dB\n",
      "Simulation 16/76 | f = 760.00 MHz | S11 = -0.27 dB\n",
      "Simulation 17/76 | f = 764.00 MHz | S11 = -0.28 dB\n",
      "Simulation 18/76 | f = 768.00 MHz | S11 = -0.29 dB\n",
      "Simulation 19/76 | f = 772.00 MHz | S11 = -0.30 dB\n",
      "Simulation 20/76 | f = 776.00 MHz | S11 = -0.32 dB\n",
      "Simulation 21/76 | f = 780.00 MHz | S11 = -0.33 dB\n",
      "Simulation 22/76 | f = 784.00 MHz | S11 = -0.34 dB\n",
      "Simulation 23/76 | f = 788.00 MHz | S11 = -0.36 dB\n",
      "Simulation 24/76 | f = 792.00 MHz | S11 = -0.37 dB\n",
      "Simulation 25/76 | f = 796.00 MHz | S11 = -0.39 dB\n",
      "Simulation 26/76 | f = 800.00 MHz | S11 = -0.40 dB\n",
      "Simulation 27/76 | f = 804.00 MHz | S11 = -0.42 dB\n",
      "Simulation 28/76 | f = 808.00 MHz | S11 = -0.44 dB\n",
      "Simulation 29/76 | f = 812.00 MHz | S11 = -0.46 dB\n",
      "Simulation 30/76 | f = 816.00 MHz | S11 = -0.48 dB\n",
      "Simulation 31/76 | f = 820.00 MHz | S11 = -0.50 dB\n",
      "Simulation 32/76 | f = 824.00 MHz | S11 = -0.52 dB\n",
      "Simulation 33/76 | f = 828.00 MHz | S11 = -0.54 dB\n",
      "Simulation 34/76 | f = 832.00 MHz | S11 = -0.57 dB\n",
      "Simulation 35/76 | f = 836.00 MHz | S11 = -0.59 dB\n",
      "Simulation 36/76 | f = 840.00 MHz | S11 = -0.62 dB\n",
      "Simulation 37/76 | f = 844.00 MHz | S11 = -0.65 dB\n",
      "Simulation 38/76 | f = 848.00 MHz | S11 = -0.68 dB\n",
      "Simulation 39/76 | f = 852.00 MHz | S11 = -0.71 dB\n",
      "Simulation 40/76 | f = 856.00 MHz | S11 = -0.74 dB\n",
      "Simulation 41/76 | f = 860.00 MHz | S11 = -0.77 dB\n",
      "Simulation 42/76 | f = 864.00 MHz | S11 = -0.81 dB\n"
     ]
    },
    {
     "data": {
      "application/vnd.plotly.v1+json": {
       "config": {
        "plotlyServerURL": "https://plot.ly"
       },
       "data": [
        {
         "facecolor": [
          "rgb(0, 18, 240)",
          "rgb(0, 23, 252)",
          "rgb(97, 255, 75)",
          "rgb(162, 253, 0)",
          "rgb(0, 17, 238)",
          "rgb(11, 0, 192)",
          "rgb(255, 16, 0)",
          "rgb(100, 0, 127)",
          "rgb(0, 74, 255)",
          "rgb(255, 10, 0)",
          "rgb(6, 167, 240)",
          "rgb(255, 19, 0)",
          "rgb(132, 0, 103)",
          "rgb(38, 240, 165)",
          "rgb(91, 0, 133)",
          "rgb(0, 16, 235)",
          "rgb(255, 0, 0)",
          "rgb(255, 228, 0)",
          "rgb(136, 0, 100)",
          "rgb(0, 9, 220)",
          "rgb(255, 15, 0)",
          "rgb(113, 0, 117)",
          "rgb(198, 245, 0)",
          "rgb(121, 0, 112)",
          "rgb(46, 0, 166)",
          "rgb(247, 236, 0)",
          "rgb(96, 0, 130)",
          "rgb(126, 0, 107)",
          "rgb(89, 0, 134)",
          "rgb(8, 0, 194)",
          "rgb(101, 0, 126)",
          "rgb(133, 0, 103)",
          "rgb(75, 0, 145)",
          "rgb(150, 0, 90)",
          "rgb(127, 0, 107)",
          "rgb(0, 66, 255)",
          "rgb(138, 0, 98)",
          "rgb(111, 0, 119)",
          "rgb(145, 0, 94)",
          "rgb(149, 0, 91)",
          "rgb(144, 0, 94)"
         ],
         "i": {
          "bdata": "ARsMCRscDgoWDhcPHRceFhQCHQEaIAgcHBwhGxAbER4eEiAPExgfEyA=",
          "dtype": "i1"
         },
         "j": {
          "bdata": "AhwNDQAZFAsXBwkaHwwfFQIUIQMHIQ0bHhobIRsDISEYIBEAHx8TIBM=",
          "dtype": "i1"
         },
         "k": {
          "bdata": "AwAJCAMaARYVFBUOHgkYCgEIIAAOEQIeGQ8QHgUFEB0ZBgYcHQQEEh0=",
          "dtype": "i1"
         },
         "name": "",
         "type": "mesh3d",
         "x": {
          "bdata": "AAAAAAAAAAC5HoXrUbh+P7kehetRuH4/AAAAAAAAAAApXI/C9SisvwAAAAAAAAAAKVyPwvUorL+amZmZmZmJP5qZmZmZmYk/exSuR+F6lD97FK5H4XqUP5qZmZmZmZk/mpmZmZmZmT+4HoXrUbh+P7gehetRuH4/AAAAAAAAAADRkl8s+cWSv8+SXyz5xaK/KVyPwvUorL8pXI/C9Sisv5qZmZmZmYk/exSuR+F6lD+amZmZmZmZP5qZmZmZmZk/gutRuB6Fo7+99Shcj8KVv9BRuB6F63G/IIgYjJciib8x0TX+exSHv+J4WJ5abaS/jx3GdM1znL/a9nRSQhmmv95Z41IfDKe/9vXbvQ01nb8=",
          "dtype": "f8"
         },
         "y": {
          "bdata": "mpmZmZmZmT+amZmZmZmZP3sUrkfhepQ/exSuR+F6lD8K16NwPQqnPwAAAAAAAAAAAAAAAAAAAAAK16NwPQqnP3YUrkfhenQ/dhSuR+F6dD8K16NwPQqnPwrXo3A9Cqc/AQAAAAAAVrwBAAAAAABWvHkUrkfheqQ/eRSuR+F6pD8AAAAAAAAAAAAAAAAAAAAAuB6F61G4jj+4HoXrUbieP5qZmZmZmZk/l5mZmZmZmT+1HoXrUbieP7MehetRuI4/CtejcD0Kpz8K16NwPQqnPwrXo3A9Cqc/6K8N6CM6kj+7FtJLgF+hP6Arph9PmJk/UAQUcMywnz8oPNEfPQSiP9UIUCV/6ow/goEE3mYljj8=",
          "dtype": "f8"
         },
         "z": {
          "bdata": "AAAAAAAAAAAAAAAAAAAAAAAAAAAAAAAAAAAAAAAAAAAAAAAAAAAAAAAAAAAAAAAAAAAAAAAAAAAAAAAAAAAAAAAAAAAAAAAAAAAAAAAAAAAAAAAAAAAAAAAAAAAAAAAAAAAAAAAAAAAAAAAAAAAAAAAAAAAAAAAAAAAAAAAAAAAAAAAAAAAAAAAAAAAAAAAAAAAAAAAAAAAAAAAAAAAAAAAAAAAAAAAAAAAAAAAAAAAAAAAAAAAAAAAAAAAAAAAAAAAAAAAAAAAAAAAAAAAAAAAAAAAAAAAAAAAAAAAAAAAAAAAAAAAAAAAAAAAAAAAAAAAAAAAAAAAAAAAAAAAAAAAAAAAAAAAAAAAAAAAAAAA=",
          "dtype": "f8"
         }
        },
        {
         "line": {
          "color": "rgb(50, 50, 50)",
          "width": 1.5
         },
         "mode": "lines",
         "showlegend": false,
         "type": "scatter3d",
         "x": [
          0.007500000000000001,
          0.007500000000000001,
          0,
          0.007500000000000001,
          null,
          -0.01227301021851096,
          -0.01126953954256091,
          0,
          -0.01227301021851096,
          null,
          0.025,
          0.0075,
          0.02,
          0.025,
          null,
          0.02,
          0.0075,
          0.0125,
          0.02,
          null,
          -0.01227301021851096,
          0,
          0,
          -0.01227301021851096,
          null,
          -0.01126953954256091,
          -0.02124999999999998,
          -0.004374999999999976,
          -0.01126953954256091,
          null,
          0.0075,
          0.0125,
          0.007500000000000001,
          0.0075,
          null,
          0.02,
          0.025,
          0.025,
          0.02,
          null,
          0.025,
          0.025,
          0.02,
          0.025,
          null,
          0.0075,
          0.0125,
          0.0125,
          0.0075,
          null,
          0.025,
          0.02,
          0.02,
          0.025,
          null,
          0,
          -0.004374999999999976,
          0.0075,
          0,
          null,
          -0.03989680464677449,
          -0.04316146141580442,
          -0.02778550172072652,
          -0.03989680464677449,
          null,
          0.025,
          0.025,
          0.02,
          0.025,
          null,
          -0.02778550172072652,
          -0.04316146141580442,
          -0.03812499999999998,
          -0.02778550172072652,
          null,
          0.025,
          0.02,
          0.02,
          0.025,
          null,
          0.0125,
          0.007500000000000001,
          0.007500000000000001,
          0.0125,
          null,
          0.007500000000000001,
          0.0125,
          0.0125,
          0.007500000000000001,
          null,
          -0.03989680464677449,
          -0.02852269622143485,
          -0.04501436125581269,
          -0.03989680464677449,
          null,
          0.007500000000000001,
          0,
          0,
          0.007500000000000001,
          null,
          -0.004374999999999976,
          0.0125,
          0.0075,
          -0.004374999999999976,
          null,
          -0.04501436125581269,
          -0.02852269622143485,
          -0.03666666666666673,
          -0.04501436125581269,
          null,
          0.0125,
          0.0075,
          0.007500000000000001,
          0.0125,
          null,
          -0.01126953954256091,
          -0.01227301021851096,
          -0.02778550172072652,
          -0.01126953954256091,
          null,
          -0.01126953954256091,
          -0.02778550172072652,
          -0.02124999999999998,
          -0.01126953954256091,
          null,
          -0.01126953954256091,
          -0.004374999999999976,
          0,
          -0.01126953954256091,
          null,
          -0.02852269622143485,
          -0.01227301021851096,
          -0.01833333333333337,
          -0.02852269622143485,
          null,
          -0.01227301021851096,
          -0.02852269622143485,
          -0.02778550172072652,
          -0.01227301021851096,
          null,
          -0.01833333333333337,
          -0.01227301021851096,
          0,
          -0.01833333333333337,
          null,
          -0.01227301021851096,
          0,
          0,
          -0.01227301021851096,
          null,
          -0.03666666666666673,
          -0.02852269622143485,
          -0.01833333333333337,
          -0.03666666666666673,
          null,
          -0.02778550172072652,
          -0.02852269622143485,
          -0.03989680464677449,
          -0.02778550172072652,
          null,
          -0.02778550172072652,
          -0.03812499999999998,
          -0.02124999999999998,
          -0.02778550172072652,
          null,
          -0.055,
          -0.04501436125581269,
          -0.055,
          -0.055,
          null,
          -0.04501436125581269,
          -0.03666666666666673,
          -0.055,
          -0.04501436125581269,
          null,
          0,
          0,
          -0.01126953954256091,
          0,
          null,
          -0.055,
          -0.04316146141580442,
          -0.03989680464677449,
          -0.055,
          null,
          -0.03812499999999998,
          -0.04316146141580442,
          -0.055,
          -0.03812499999999998,
          null,
          -0.04316146141580442,
          -0.055,
          -0.055,
          -0.04316146141580442,
          null,
          -0.055,
          -0.04501436125581269,
          -0.055,
          -0.055,
          null,
          -0.04501436125581269,
          -0.055,
          -0.03989680464677449,
          -0.04501436125581269,
          null
         ],
         "y": [
          0.025,
          0.02,
          0.02,
          0.025,
          null,
          0.01779991248933746,
          0.03393174100442083,
          0.025,
          0.01779991248933746,
          null,
          -4.77048955893622e-18,
          -4.77048955893622e-18,
          0.004999999999999996,
          -4.77048955893622e-18,
          null,
          0.004999999999999996,
          -4.77048955893622e-18,
          0.004999999999999996,
          0.004999999999999996,
          null,
          0.01779991248933746,
          0.025,
          0.02,
          0.01779991248933746,
          null,
          0.03393174100442083,
          0.045,
          0.045,
          0.03393174100442083,
          null,
          0.03999999999999999,
          0.025,
          0.025,
          0.03999999999999999,
          null,
          0.045,
          0.045,
          0.02999999999999999,
          0.045,
          null,
          0.02999999999999999,
          0.01499999999999999,
          0.02499999999999999,
          0.02999999999999999,
          null,
          0.03999999999999999,
          0.045,
          0.025,
          0.03999999999999999,
          null,
          0.01499999999999999,
          0.004999999999999996,
          0.02499999999999999,
          0.01499999999999999,
          null,
          0.03999999999999999,
          0.045,
          0.03999999999999999,
          0.03999999999999999,
          null,
          0.02499507551832958,
          0.03518858922381468,
          0.03094787057944287,
          0.02499507551832958,
          null,
          0.01499999999999999,
          -4.77048955893622e-18,
          0.004999999999999996,
          0.01499999999999999,
          null,
          0.03094787057944287,
          0.03518858922381468,
          0.045,
          0.03094787057944287,
          null,
          0.02999999999999999,
          0.02499999999999999,
          0.045,
          0.02999999999999999,
          null,
          0.025,
          0.02,
          0.025,
          0.025,
          null,
          0.02,
          0.025,
          0.004999999999999996,
          0.02,
          null,
          0.02499507551832958,
          0.01471977582019757,
          0.01411914188975453,
          0.02499507551832958,
          null,
          0.025,
          0.02,
          0.025,
          0.025,
          null,
          0.045,
          0.045,
          0.03999999999999999,
          0.045,
          null,
          0.01411914188975453,
          0.01471977582019757,
          0,
          0.01411914188975453,
          null,
          0.004999999999999996,
          -4.77048955893622e-18,
          0.02,
          0.004999999999999996,
          null,
          0.03393174100442083,
          0.01779991248933746,
          0.03094787057944287,
          0.03393174100442083,
          null,
          0.03393174100442083,
          0.03094787057944287,
          0.045,
          0.03393174100442083,
          null,
          0.03393174100442083,
          0.045,
          0.03999999999999999,
          0.03393174100442083,
          null,
          0.01471977582019757,
          0.01779991248933746,
          0,
          0.01471977582019757,
          null,
          0.01779991248933746,
          0.01471977582019757,
          0.03094787057944287,
          0.01779991248933746,
          null,
          0,
          0.01779991248933746,
          0,
          0,
          null,
          0.01779991248933746,
          0.02,
          0,
          0.01779991248933746,
          null,
          0,
          0.01471977582019757,
          0,
          0,
          null,
          0.03094787057944287,
          0.01471977582019757,
          0.02499507551832958,
          0.03094787057944287,
          null,
          0.03094787057944287,
          0.045,
          0.045,
          0.03094787057944287,
          null,
          0.015,
          0.01411914188975453,
          0,
          0.015,
          null,
          0.01411914188975453,
          0,
          0,
          0.01411914188975453,
          null,
          0.03999999999999999,
          0.025,
          0.03393174100442083,
          0.03999999999999999,
          null,
          0.03,
          0.03518858922381468,
          0.02499507551832958,
          0.03,
          null,
          0.045,
          0.03518858922381468,
          0.045,
          0.045,
          null,
          0.03518858922381468,
          0.03,
          0.045,
          0.03518858922381468,
          null,
          0.03,
          0.01411914188975453,
          0.015,
          0.03,
          null,
          0.01411914188975453,
          0.03,
          0.02499507551832958,
          0.01411914188975453,
          null
         ],
         "z": [
          0,
          0,
          0,
          0,
          null,
          0,
          0,
          0,
          0,
          null,
          0,
          0,
          0,
          0,
          null,
          0,
          0,
          0,
          0,
          null,
          0,
          0,
          0,
          0,
          null,
          0,
          0,
          0,
          0,
          null,
          0,
          0,
          0,
          0,
          null,
          0,
          0,
          0,
          0,
          null,
          0,
          0,
          0,
          0,
          null,
          0,
          0,
          0,
          0,
          null,
          0,
          0,
          0,
          0,
          null,
          0,
          0,
          0,
          0,
          null,
          0,
          0,
          0,
          0,
          null,
          0,
          0,
          0,
          0,
          null,
          0,
          0,
          0,
          0,
          null,
          0,
          0,
          0,
          0,
          null,
          0,
          0,
          0,
          0,
          null,
          0,
          0,
          0,
          0,
          null,
          0,
          0,
          0,
          0,
          null,
          0,
          0,
          0,
          0,
          null,
          0,
          0,
          0,
          0,
          null,
          0,
          0,
          0,
          0,
          null,
          0,
          0,
          0,
          0,
          null,
          0,
          0,
          0,
          0,
          null,
          0,
          0,
          0,
          0,
          null,
          0,
          0,
          0,
          0,
          null,
          0,
          0,
          0,
          0,
          null,
          0,
          0,
          0,
          0,
          null,
          0,
          0,
          0,
          0,
          null,
          0,
          0,
          0,
          0,
          null,
          0,
          0,
          0,
          0,
          null,
          0,
          0,
          0,
          0,
          null,
          0,
          0,
          0,
          0,
          null,
          0,
          0,
          0,
          0,
          null,
          0,
          0,
          0,
          0,
          null,
          0,
          0,
          0,
          0,
          null,
          0,
          0,
          0,
          0,
          null,
          0,
          0,
          0,
          0,
          null,
          0,
          0,
          0,
          0,
          null,
          0,
          0,
          0,
          0,
          null,
          0,
          0,
          0,
          0,
          null
         ]
        },
        {
         "hoverinfo": "none",
         "marker": {
          "color": [
           0.009251281901645175,
           1.0353963547137588
          ],
          "colorscale": [
           [
            0,
            "rgb(150, 0, 90)"
           ],
           [
            0.125,
            "rgb(0, 0, 200)"
           ],
           [
            0.25,
            "rgb(0, 25, 255)"
           ],
           [
            0.375,
            "rgb(0, 152, 255)"
           ],
           [
            0.5,
            "rgb(44, 255, 150)"
           ],
           [
            0.625,
            "rgb(151, 255, 0)"
           ],
           [
            0.75,
            "rgb(255, 234, 0)"
           ],
           [
            0.875,
            "rgb(255, 111, 0)"
           ],
           [
            1,
            "rgb(255, 0, 0)"
           ]
          ],
          "showscale": true,
          "size": 0.1
         },
         "mode": "markers",
         "showlegend": false,
         "type": "scatter3d",
         "x": {
          "bdata": "AAAAAAAAAAA=",
          "dtype": "f8"
         },
         "y": {
          "bdata": "mpmZmZmZmT8=",
          "dtype": "f8"
         },
         "z": {
          "bdata": "AAAAAAAAAAA=",
          "dtype": "f8"
         }
        },
        {
         "marker": {
          "color": "red",
          "size": 6,
          "symbol": "circle"
         },
         "mode": "markers+text",
         "name": "Feed Point(s)",
         "type": "scatter3d",
         "x": {
          "bdata": "AAAAAAAAAAA=",
          "dtype": "f8"
         },
         "y": {
          "bdata": "CtejcD0Klz8=",
          "dtype": "f8"
         },
         "z": {
          "bdata": "AAAAAAAAAAA=",
          "dtype": "f8"
         }
        }
       ],
       "layout": {
        "height": 800,
        "legend": {
         "bgcolor": "rgba(255,255,255,0.7)",
         "bordercolor": "lightgray",
         "borderwidth": 1,
         "x": 0.2,
         "xanchor": "left",
         "y": 0.9,
         "yanchor": "top"
        },
        "scene": {
         "aspectratio": {
          "x": 1,
          "y": 0.5625,
          "z": 0.3
         },
         "camera": {
          "eye": {
           "x": 0.65,
           "y": 0.65,
           "z": 0.65
          }
         },
         "xaxis": {
          "backgroundcolor": "rgb(230, 230, 230)",
          "gridcolor": "rgb(255, 255, 255)",
          "showbackground": true,
          "zerolinecolor": "rgb(255, 255, 255)"
         },
         "yaxis": {
          "backgroundcolor": "rgb(230, 230, 230)",
          "gridcolor": "rgb(255, 255, 255)",
          "showbackground": true,
          "zerolinecolor": "rgb(255, 255, 255)"
         },
         "zaxis": {
          "backgroundcolor": "rgb(230, 230, 230)",
          "gridcolor": "rgb(255, 255, 255)",
          "showbackground": true,
          "zerolinecolor": "rgb(255, 255, 255)"
         }
        },
        "template": {
         "data": {
          "bar": [
           {
            "error_x": {
             "color": "#2a3f5f"
            },
            "error_y": {
             "color": "#2a3f5f"
            },
            "marker": {
             "line": {
              "color": "#E5ECF6",
              "width": 0.5
             },
             "pattern": {
              "fillmode": "overlay",
              "size": 10,
              "solidity": 0.2
             }
            },
            "type": "bar"
           }
          ],
          "barpolar": [
           {
            "marker": {
             "line": {
              "color": "#E5ECF6",
              "width": 0.5
             },
             "pattern": {
              "fillmode": "overlay",
              "size": 10,
              "solidity": 0.2
             }
            },
            "type": "barpolar"
           }
          ],
          "carpet": [
           {
            "aaxis": {
             "endlinecolor": "#2a3f5f",
             "gridcolor": "white",
             "linecolor": "white",
             "minorgridcolor": "white",
             "startlinecolor": "#2a3f5f"
            },
            "baxis": {
             "endlinecolor": "#2a3f5f",
             "gridcolor": "white",
             "linecolor": "white",
             "minorgridcolor": "white",
             "startlinecolor": "#2a3f5f"
            },
            "type": "carpet"
           }
          ],
          "choropleth": [
           {
            "colorbar": {
             "outlinewidth": 0,
             "ticks": ""
            },
            "type": "choropleth"
           }
          ],
          "contour": [
           {
            "colorbar": {
             "outlinewidth": 0,
             "ticks": ""
            },
            "colorscale": [
             [
              0,
              "#0d0887"
             ],
             [
              0.1111111111111111,
              "#46039f"
             ],
             [
              0.2222222222222222,
              "#7201a8"
             ],
             [
              0.3333333333333333,
              "#9c179e"
             ],
             [
              0.4444444444444444,
              "#bd3786"
             ],
             [
              0.5555555555555556,
              "#d8576b"
             ],
             [
              0.6666666666666666,
              "#ed7953"
             ],
             [
              0.7777777777777778,
              "#fb9f3a"
             ],
             [
              0.8888888888888888,
              "#fdca26"
             ],
             [
              1,
              "#f0f921"
             ]
            ],
            "type": "contour"
           }
          ],
          "contourcarpet": [
           {
            "colorbar": {
             "outlinewidth": 0,
             "ticks": ""
            },
            "type": "contourcarpet"
           }
          ],
          "heatmap": [
           {
            "colorbar": {
             "outlinewidth": 0,
             "ticks": ""
            },
            "colorscale": [
             [
              0,
              "#0d0887"
             ],
             [
              0.1111111111111111,
              "#46039f"
             ],
             [
              0.2222222222222222,
              "#7201a8"
             ],
             [
              0.3333333333333333,
              "#9c179e"
             ],
             [
              0.4444444444444444,
              "#bd3786"
             ],
             [
              0.5555555555555556,
              "#d8576b"
             ],
             [
              0.6666666666666666,
              "#ed7953"
             ],
             [
              0.7777777777777778,
              "#fb9f3a"
             ],
             [
              0.8888888888888888,
              "#fdca26"
             ],
             [
              1,
              "#f0f921"
             ]
            ],
            "type": "heatmap"
           }
          ],
          "histogram": [
           {
            "marker": {
             "pattern": {
              "fillmode": "overlay",
              "size": 10,
              "solidity": 0.2
             }
            },
            "type": "histogram"
           }
          ],
          "histogram2d": [
           {
            "colorbar": {
             "outlinewidth": 0,
             "ticks": ""
            },
            "colorscale": [
             [
              0,
              "#0d0887"
             ],
             [
              0.1111111111111111,
              "#46039f"
             ],
             [
              0.2222222222222222,
              "#7201a8"
             ],
             [
              0.3333333333333333,
              "#9c179e"
             ],
             [
              0.4444444444444444,
              "#bd3786"
             ],
             [
              0.5555555555555556,
              "#d8576b"
             ],
             [
              0.6666666666666666,
              "#ed7953"
             ],
             [
              0.7777777777777778,
              "#fb9f3a"
             ],
             [
              0.8888888888888888,
              "#fdca26"
             ],
             [
              1,
              "#f0f921"
             ]
            ],
            "type": "histogram2d"
           }
          ],
          "histogram2dcontour": [
           {
            "colorbar": {
             "outlinewidth": 0,
             "ticks": ""
            },
            "colorscale": [
             [
              0,
              "#0d0887"
             ],
             [
              0.1111111111111111,
              "#46039f"
             ],
             [
              0.2222222222222222,
              "#7201a8"
             ],
             [
              0.3333333333333333,
              "#9c179e"
             ],
             [
              0.4444444444444444,
              "#bd3786"
             ],
             [
              0.5555555555555556,
              "#d8576b"
             ],
             [
              0.6666666666666666,
              "#ed7953"
             ],
             [
              0.7777777777777778,
              "#fb9f3a"
             ],
             [
              0.8888888888888888,
              "#fdca26"
             ],
             [
              1,
              "#f0f921"
             ]
            ],
            "type": "histogram2dcontour"
           }
          ],
          "mesh3d": [
           {
            "colorbar": {
             "outlinewidth": 0,
             "ticks": ""
            },
            "type": "mesh3d"
           }
          ],
          "parcoords": [
           {
            "line": {
             "colorbar": {
              "outlinewidth": 0,
              "ticks": ""
             }
            },
            "type": "parcoords"
           }
          ],
          "pie": [
           {
            "automargin": true,
            "type": "pie"
           }
          ],
          "scatter": [
           {
            "fillpattern": {
             "fillmode": "overlay",
             "size": 10,
             "solidity": 0.2
            },
            "type": "scatter"
           }
          ],
          "scatter3d": [
           {
            "line": {
             "colorbar": {
              "outlinewidth": 0,
              "ticks": ""
             }
            },
            "marker": {
             "colorbar": {
              "outlinewidth": 0,
              "ticks": ""
             }
            },
            "type": "scatter3d"
           }
          ],
          "scattercarpet": [
           {
            "marker": {
             "colorbar": {
              "outlinewidth": 0,
              "ticks": ""
             }
            },
            "type": "scattercarpet"
           }
          ],
          "scattergeo": [
           {
            "marker": {
             "colorbar": {
              "outlinewidth": 0,
              "ticks": ""
             }
            },
            "type": "scattergeo"
           }
          ],
          "scattergl": [
           {
            "marker": {
             "colorbar": {
              "outlinewidth": 0,
              "ticks": ""
             }
            },
            "type": "scattergl"
           }
          ],
          "scattermap": [
           {
            "marker": {
             "colorbar": {
              "outlinewidth": 0,
              "ticks": ""
             }
            },
            "type": "scattermap"
           }
          ],
          "scattermapbox": [
           {
            "marker": {
             "colorbar": {
              "outlinewidth": 0,
              "ticks": ""
             }
            },
            "type": "scattermapbox"
           }
          ],
          "scatterpolar": [
           {
            "marker": {
             "colorbar": {
              "outlinewidth": 0,
              "ticks": ""
             }
            },
            "type": "scatterpolar"
           }
          ],
          "scatterpolargl": [
           {
            "marker": {
             "colorbar": {
              "outlinewidth": 0,
              "ticks": ""
             }
            },
            "type": "scatterpolargl"
           }
          ],
          "scatterternary": [
           {
            "marker": {
             "colorbar": {
              "outlinewidth": 0,
              "ticks": ""
             }
            },
            "type": "scatterternary"
           }
          ],
          "surface": [
           {
            "colorbar": {
             "outlinewidth": 0,
             "ticks": ""
            },
            "colorscale": [
             [
              0,
              "#0d0887"
             ],
             [
              0.1111111111111111,
              "#46039f"
             ],
             [
              0.2222222222222222,
              "#7201a8"
             ],
             [
              0.3333333333333333,
              "#9c179e"
             ],
             [
              0.4444444444444444,
              "#bd3786"
             ],
             [
              0.5555555555555556,
              "#d8576b"
             ],
             [
              0.6666666666666666,
              "#ed7953"
             ],
             [
              0.7777777777777778,
              "#fb9f3a"
             ],
             [
              0.8888888888888888,
              "#fdca26"
             ],
             [
              1,
              "#f0f921"
             ]
            ],
            "type": "surface"
           }
          ],
          "table": [
           {
            "cells": {
             "fill": {
              "color": "#EBF0F8"
             },
             "line": {
              "color": "white"
             }
            },
            "header": {
             "fill": {
              "color": "#C8D4E3"
             },
             "line": {
              "color": "white"
             }
            },
            "type": "table"
           }
          ]
         },
         "layout": {
          "annotationdefaults": {
           "arrowcolor": "#2a3f5f",
           "arrowhead": 0,
           "arrowwidth": 1
          },
          "autotypenumbers": "strict",
          "coloraxis": {
           "colorbar": {
            "outlinewidth": 0,
            "ticks": ""
           }
          },
          "colorscale": {
           "diverging": [
            [
             0,
             "#8e0152"
            ],
            [
             0.1,
             "#c51b7d"
            ],
            [
             0.2,
             "#de77ae"
            ],
            [
             0.3,
             "#f1b6da"
            ],
            [
             0.4,
             "#fde0ef"
            ],
            [
             0.5,
             "#f7f7f7"
            ],
            [
             0.6,
             "#e6f5d0"
            ],
            [
             0.7,
             "#b8e186"
            ],
            [
             0.8,
             "#7fbc41"
            ],
            [
             0.9,
             "#4d9221"
            ],
            [
             1,
             "#276419"
            ]
           ],
           "sequential": [
            [
             0,
             "#0d0887"
            ],
            [
             0.1111111111111111,
             "#46039f"
            ],
            [
             0.2222222222222222,
             "#7201a8"
            ],
            [
             0.3333333333333333,
             "#9c179e"
            ],
            [
             0.4444444444444444,
             "#bd3786"
            ],
            [
             0.5555555555555556,
             "#d8576b"
            ],
            [
             0.6666666666666666,
             "#ed7953"
            ],
            [
             0.7777777777777778,
             "#fb9f3a"
            ],
            [
             0.8888888888888888,
             "#fdca26"
            ],
            [
             1,
             "#f0f921"
            ]
           ],
           "sequentialminus": [
            [
             0,
             "#0d0887"
            ],
            [
             0.1111111111111111,
             "#46039f"
            ],
            [
             0.2222222222222222,
             "#7201a8"
            ],
            [
             0.3333333333333333,
             "#9c179e"
            ],
            [
             0.4444444444444444,
             "#bd3786"
            ],
            [
             0.5555555555555556,
             "#d8576b"
            ],
            [
             0.6666666666666666,
             "#ed7953"
            ],
            [
             0.7777777777777778,
             "#fb9f3a"
            ],
            [
             0.8888888888888888,
             "#fdca26"
            ],
            [
             1,
             "#f0f921"
            ]
           ]
          },
          "colorway": [
           "#636efa",
           "#EF553B",
           "#00cc96",
           "#ab63fa",
           "#FFA15A",
           "#19d3f3",
           "#FF6692",
           "#B6E880",
           "#FF97FF",
           "#FECB52"
          ],
          "font": {
           "color": "#2a3f5f"
          },
          "geo": {
           "bgcolor": "white",
           "lakecolor": "white",
           "landcolor": "#E5ECF6",
           "showlakes": true,
           "showland": true,
           "subunitcolor": "white"
          },
          "hoverlabel": {
           "align": "left"
          },
          "hovermode": "closest",
          "mapbox": {
           "style": "light"
          },
          "paper_bgcolor": "white",
          "plot_bgcolor": "#E5ECF6",
          "polar": {
           "angularaxis": {
            "gridcolor": "white",
            "linecolor": "white",
            "ticks": ""
           },
           "bgcolor": "#E5ECF6",
           "radialaxis": {
            "gridcolor": "white",
            "linecolor": "white",
            "ticks": ""
           }
          },
          "scene": {
           "xaxis": {
            "backgroundcolor": "#E5ECF6",
            "gridcolor": "white",
            "gridwidth": 2,
            "linecolor": "white",
            "showbackground": true,
            "ticks": "",
            "zerolinecolor": "white"
           },
           "yaxis": {
            "backgroundcolor": "#E5ECF6",
            "gridcolor": "white",
            "gridwidth": 2,
            "linecolor": "white",
            "showbackground": true,
            "ticks": "",
            "zerolinecolor": "white"
           },
           "zaxis": {
            "backgroundcolor": "#E5ECF6",
            "gridcolor": "white",
            "gridwidth": 2,
            "linecolor": "white",
            "showbackground": true,
            "ticks": "",
            "zerolinecolor": "white"
           }
          },
          "shapedefaults": {
           "line": {
            "color": "#2a3f5f"
           }
          },
          "ternary": {
           "aaxis": {
            "gridcolor": "white",
            "linecolor": "white",
            "ticks": ""
           },
           "baxis": {
            "gridcolor": "white",
            "linecolor": "white",
            "ticks": ""
           },
           "bgcolor": "#E5ECF6",
           "caxis": {
            "gridcolor": "white",
            "linecolor": "white",
            "ticks": ""
           }
          },
          "title": {
           "x": 0.05
          },
          "xaxis": {
           "automargin": true,
           "gridcolor": "white",
           "linecolor": "white",
           "ticks": "",
           "title": {
            "standoff": 15
           },
           "zerolinecolor": "white",
           "zerolinewidth": 2
          },
          "yaxis": {
           "automargin": true,
           "gridcolor": "white",
           "linecolor": "white",
           "ticks": "",
           "title": {
            "standoff": 15
           },
           "zerolinecolor": "white",
           "zerolinewidth": 2
          }
         }
        },
        "title": {
         "text": ""
        },
        "width": 800
       }
      }
     },
     "metadata": {},
     "output_type": "display_data"
    },
    {
     "name": "stdout",
     "output_type": "stream",
     "text": [
      "Simulation 43/76 | f = 868.00 MHz | S11 = -0.85 dB\n",
      "Simulation 44/76 | f = 872.00 MHz | S11 = -0.89 dB\n",
      "Simulation 45/76 | f = 876.00 MHz | S11 = -0.93 dB\n",
      "Simulation 46/76 | f = 880.00 MHz | S11 = -0.97 dB\n",
      "Simulation 47/76 | f = 884.00 MHz | S11 = -1.02 dB\n",
      "Simulation 48/76 | f = 888.00 MHz | S11 = -1.07 dB\n",
      "Simulation 49/76 | f = 892.00 MHz | S11 = -1.12 dB\n",
      "Simulation 50/76 | f = 896.00 MHz | S11 = -1.18 dB\n",
      "Simulation 51/76 | f = 900.00 MHz | S11 = -1.24 dB\n",
      "Simulation 52/76 | f = 904.00 MHz | S11 = -1.30 dB\n",
      "Simulation 53/76 | f = 908.00 MHz | S11 = -1.37 dB\n",
      "Simulation 54/76 | f = 912.00 MHz | S11 = -1.44 dB\n",
      "Simulation 55/76 | f = 916.00 MHz | S11 = -1.51 dB\n",
      "Simulation 56/76 | f = 920.00 MHz | S11 = -1.59 dB\n",
      "Simulation 57/76 | f = 924.00 MHz | S11 = -1.67 dB\n",
      "Simulation 58/76 | f = 928.00 MHz | S11 = -1.76 dB\n",
      "Simulation 59/76 | f = 932.00 MHz | S11 = -1.86 dB\n",
      "Simulation 60/76 | f = 936.00 MHz | S11 = -1.96 dB\n",
      "Simulation 61/76 | f = 940.00 MHz | S11 = -2.06 dB\n",
      "Simulation 62/76 | f = 944.00 MHz | S11 = -2.18 dB\n",
      "Simulation 63/76 | f = 948.00 MHz | S11 = -2.30 dB\n",
      "Simulation 64/76 | f = 952.00 MHz | S11 = -2.43 dB\n",
      "Simulation 65/76 | f = 956.00 MHz | S11 = -2.56 dB\n",
      "Simulation 66/76 | f = 960.00 MHz | S11 = -2.71 dB\n",
      "Simulation 67/76 | f = 964.00 MHz | S11 = -2.87 dB\n",
      "Simulation 68/76 | f = 968.00 MHz | S11 = -3.03 dB\n",
      "Simulation 69/76 | f = 972.00 MHz | S11 = -3.21 dB\n",
      "Simulation 70/76 | f = 976.00 MHz | S11 = -3.40 dB\n",
      "Simulation 71/76 | f = 980.00 MHz | S11 = -3.61 dB\n",
      "Simulation 72/76 | f = 984.00 MHz | S11 = -3.83 dB\n",
      "Simulation 73/76 | f = 988.00 MHz | S11 = -4.06 dB\n",
      "Simulation 74/76 | f = 992.00 MHz | S11 = -4.31 dB\n",
      "Simulation 75/76 | f = 996.00 MHz | S11 = -4.58 dB\n",
      "Simulation 76/76 | f = 1000.00 MHz | S11 = -4.87 dB\n"
     ]
    },
    {
     "data": {
      "application/vnd.plotly.v1+json": {
       "config": {
        "plotlyServerURL": "https://plot.ly"
       },
       "data": [
        {
         "hoverinfo": "text",
         "imag": [
          3.4498434585997884,
          3.507308922670877,
          3.5666882890015823,
          3.6280929267597766,
          3.6916426675080825,
          3.757466573045582,
          3.8257037796669318,
          3.8965044260300075,
          3.9700306721097274,
          4.046457816811552,
          4.125975521625964,
          4.20878914706483,
          4.2951212073095375,
          4.385212946219977,
          4.479326034142364,
          4.577744379191227,
          4.680776037981911,
          4.788755197868512,
          4.902044183807396,
          5.021035415453515,
          5.146153200327905,
          5.277855191643682,
          5.416633257153869,
          5.563013387409998,
          5.717554102687934,
          5.880842575346745,
          6.053487336742101,
          6.236105939457347,
          6.429305231724121,
          6.633650880007767,
          6.8496213208032035,
          7.077539261790243,
          7.317470963024195,
          7.569079545218748,
          7.83141323043789,
          8.102602588441517,
          8.379432855550267,
          8.656749665779751,
          8.92665305912535,
          9.177444419974472,
          9.392332081360406,
          9.54800543533756,
          9.549347302870299,
          9.31027989508255,
          8.849595473609414,
          8.129924657511348,
          7.137676865023155,
          5.897446068151092,
          4.478226712509584,
          2.9842850414280515,
          1.531382765705522,
          0.21885106223227585,
          -0.8894093067574339,
          -1.768910534105813,
          -2.426702888528691,
          -2.888922738445121,
          -3.189563511238384,
          -3.3628834054638044,
          -3.4393884850061056,
          -3.4443454524754076,
          -3.3977408487756686,
          -3.3149085091835446,
          -3.2073669296285114,
          -3.083637098595452,
          -2.949947383442076,
          -2.810802681198394,
          -2.6694268580673532,
          -2.528098816549132,
          -2.388404125731904,
          -2.2514217681205193,
          -2.1178619958806393,
          -1.9881677827442283,
          -1.8625893585908608,
          -1.7412389179618812,
          -1.6241307514875296
         ],
         "marker": {
          "color": "blue",
          "size": 4
         },
         "mode": "markers+lines",
         "name": "Impedance Points",
         "real": [
          0.1107542444060039,
          0.11869045091275057,
          0.12727803456975686,
          0.13658004456444547,
          0.1466667640331468,
          0.15761668360158199,
          0.1695176261711937,
          0.18246804963557,
          0.19657855947528036,
          0.21197366958624184,
          0.22879385751618767,
          0.24719796985128717,
          0.26736604523087726,
          0.2895026368999134,
          0.3138407344942906,
          0.34064640671745466,
          0.3702243137403974,
          0.40292427181783574,
          0.439149094349155,
          0.47936398536681407,
          0.5241078255560488,
          0.5740067701839647,
          0.629790675932944,
          0.6923129930323992,
          0.7625749035989581,
          0.8417546591263338,
          0.9312432695244653,
          1.0326879174096648,
          1.1480446980066004,
          1.2796424798867934,
          1.43025976992029,
          1.60321630488895,
          1.8024804219181838,
          2.032791617894981,
          2.29979429449307,
          2.6101721550292045,
          2.971760890779487,
          3.3935963156081113,
          3.885821274829783,
          4.459321982896707,
          5.1248894805454945,
          5.891611334747154,
          7.7384287961960005,
          8.79621979209136,
          9.8987789500354,
          10.982798644846536,
          11.962301548953414,
          12.740583265033932,
          13.23209290382933,
          13.386876282909101,
          13.205419457814715,
          12.735713680204585,
          12.055170948024772,
          11.248032396018097,
          10.38816149192308,
          9.53091825948954,
          8.712484332414572,
          7.953172230582551,
          7.261869133668675,
          6.640060789851193,
          6.084892304856663,
          5.591262529555453,
          5.153150174710215,
          4.764397203707444,
          4.419136341862811,
          4.111997757232825,
          3.8381852896035706,
          3.593479698765072,
          3.374204082294854,
          3.1771722160435445,
          2.999631602520174,
          2.8392075779153054,
          2.69385161866102,
          2.5617951459643966,
          2.4415091084792424
         ],
         "text": [
          "Z = 5.538+172.492j at 700.0 MHz",
          "Z = 5.935+175.365j at 704.0 MHz",
          "Z = 6.364+178.334j at 708.0 MHz",
          "Z = 6.829+181.405j at 712.0 MHz",
          "Z = 7.333+184.582j at 716.0 MHz",
          "Z = 7.881+187.873j at 720.0 MHz",
          "Z = 8.476+191.285j at 724.0 MHz",
          "Z = 9.123+194.825j at 728.0 MHz",
          "Z = 9.829+198.502j at 732.0 MHz",
          "Z = 10.599+202.323j at 736.0 MHz",
          "Z = 11.440+206.299j at 740.0 MHz",
          "Z = 12.360+210.439j at 744.0 MHz",
          "Z = 13.368+214.756j at 748.0 MHz",
          "Z = 14.475+219.261j at 752.0 MHz",
          "Z = 15.692+223.966j at 756.0 MHz",
          "Z = 17.032+228.887j at 760.0 MHz",
          "Z = 18.511+234.039j at 764.0 MHz",
          "Z = 20.146+239.438j at 768.0 MHz",
          "Z = 21.957+245.102j at 772.0 MHz",
          "Z = 23.968+251.052j at 776.0 MHz",
          "Z = 26.205+257.308j at 780.0 MHz",
          "Z = 28.700+263.893j at 784.0 MHz",
          "Z = 31.490+270.832j at 788.0 MHz",
          "Z = 34.616+278.151j at 792.0 MHz",
          "Z = 38.129+285.878j at 796.0 MHz",
          "Z = 42.088+294.042j at 800.0 MHz",
          "Z = 46.562+302.674j at 804.0 MHz",
          "Z = 51.634+311.805j at 808.0 MHz",
          "Z = 57.402+321.465j at 812.0 MHz",
          "Z = 63.982+331.683j at 816.0 MHz",
          "Z = 71.513+342.481j at 820.0 MHz",
          "Z = 80.161+353.877j at 824.0 MHz",
          "Z = 90.124+365.874j at 828.0 MHz",
          "Z = 101.640+378.454j at 832.0 MHz",
          "Z = 114.990+391.571j at 836.0 MHz",
          "Z = 130.509+405.130j at 840.0 MHz",
          "Z = 148.588+418.972j at 844.0 MHz",
          "Z = 169.680+432.837j at 848.0 MHz",
          "Z = 194.291+446.333j at 852.0 MHz",
          "Z = 222.966+458.872j at 856.0 MHz",
          "Z = 256.244+469.617j at 860.0 MHz",
          "Z = 294.581+477.400j at 864.0 MHz",
          "Z = 386.921+477.467j at 872.0 MHz",
          "Z = 439.811+465.514j at 876.0 MHz",
          "Z = 494.939+442.480j at 880.0 MHz",
          "Z = 549.140+406.496j at 884.0 MHz",
          "Z = 598.115+356.884j at 888.0 MHz",
          "Z = 637.029+294.872j at 892.0 MHz",
          "Z = 661.605+223.911j at 896.0 MHz",
          "Z = 669.344+149.214j at 900.0 MHz",
          "Z = 660.271+76.569j at 904.0 MHz",
          "Z = 636.786+10.943j at 908.0 MHz",
          "Z = 602.759-44.470j at 912.0 MHz",
          "Z = 562.402-88.446j at 916.0 MHz",
          "Z = 519.408-121.335j at 920.0 MHz",
          "Z = 476.546-144.446j at 924.0 MHz",
          "Z = 435.624-159.478j at 928.0 MHz",
          "Z = 397.659-168.144j at 932.0 MHz",
          "Z = 363.093-171.969j at 936.0 MHz",
          "Z = 332.003-172.217j at 940.0 MHz",
          "Z = 304.245-169.887j at 944.0 MHz",
          "Z = 279.563-165.745j at 948.0 MHz",
          "Z = 257.658-160.368j at 952.0 MHz",
          "Z = 238.220-154.182j at 956.0 MHz",
          "Z = 220.957-147.497j at 960.0 MHz",
          "Z = 205.600-140.540j at 964.0 MHz",
          "Z = 191.909-133.471j at 968.0 MHz",
          "Z = 179.674-126.405j at 972.0 MHz",
          "Z = 168.710-119.420j at 976.0 MHz",
          "Z = 158.859-112.571j at 980.0 MHz",
          "Z = 149.982-105.893j at 984.0 MHz",
          "Z = 141.960-99.408j at 988.0 MHz",
          "Z = 134.693-93.129j at 992.0 MHz",
          "Z = 128.090-87.062j at 996.0 MHz",
          "Z = 122.075-81.207j at 1000.0 MHz"
         ],
         "type": "scattersmith"
        },
        {
         "hoverinfo": "text",
         "imag": [
          9.613400683737934
         ],
         "marker": {
          "color": "red",
          "size": 10,
          "symbol": "circle"
         },
         "mode": "markers",
         "name": "Impedance at fC=868.0 MHz",
         "real": [
          6.764127617277966
         ],
         "text": [
          "Z = 338.206+480.670j at 868.0 MHz"
         ],
         "type": "scattersmith"
        }
       ],
       "layout": {
        "height": 618,
        "showlegend": true,
        "template": {
         "data": {
          "bar": [
           {
            "error_x": {
             "color": "#2a3f5f"
            },
            "error_y": {
             "color": "#2a3f5f"
            },
            "marker": {
             "line": {
              "color": "#E5ECF6",
              "width": 0.5
             },
             "pattern": {
              "fillmode": "overlay",
              "size": 10,
              "solidity": 0.2
             }
            },
            "type": "bar"
           }
          ],
          "barpolar": [
           {
            "marker": {
             "line": {
              "color": "#E5ECF6",
              "width": 0.5
             },
             "pattern": {
              "fillmode": "overlay",
              "size": 10,
              "solidity": 0.2
             }
            },
            "type": "barpolar"
           }
          ],
          "carpet": [
           {
            "aaxis": {
             "endlinecolor": "#2a3f5f",
             "gridcolor": "white",
             "linecolor": "white",
             "minorgridcolor": "white",
             "startlinecolor": "#2a3f5f"
            },
            "baxis": {
             "endlinecolor": "#2a3f5f",
             "gridcolor": "white",
             "linecolor": "white",
             "minorgridcolor": "white",
             "startlinecolor": "#2a3f5f"
            },
            "type": "carpet"
           }
          ],
          "choropleth": [
           {
            "colorbar": {
             "outlinewidth": 0,
             "ticks": ""
            },
            "type": "choropleth"
           }
          ],
          "contour": [
           {
            "colorbar": {
             "outlinewidth": 0,
             "ticks": ""
            },
            "colorscale": [
             [
              0,
              "#0d0887"
             ],
             [
              0.1111111111111111,
              "#46039f"
             ],
             [
              0.2222222222222222,
              "#7201a8"
             ],
             [
              0.3333333333333333,
              "#9c179e"
             ],
             [
              0.4444444444444444,
              "#bd3786"
             ],
             [
              0.5555555555555556,
              "#d8576b"
             ],
             [
              0.6666666666666666,
              "#ed7953"
             ],
             [
              0.7777777777777778,
              "#fb9f3a"
             ],
             [
              0.8888888888888888,
              "#fdca26"
             ],
             [
              1,
              "#f0f921"
             ]
            ],
            "type": "contour"
           }
          ],
          "contourcarpet": [
           {
            "colorbar": {
             "outlinewidth": 0,
             "ticks": ""
            },
            "type": "contourcarpet"
           }
          ],
          "heatmap": [
           {
            "colorbar": {
             "outlinewidth": 0,
             "ticks": ""
            },
            "colorscale": [
             [
              0,
              "#0d0887"
             ],
             [
              0.1111111111111111,
              "#46039f"
             ],
             [
              0.2222222222222222,
              "#7201a8"
             ],
             [
              0.3333333333333333,
              "#9c179e"
             ],
             [
              0.4444444444444444,
              "#bd3786"
             ],
             [
              0.5555555555555556,
              "#d8576b"
             ],
             [
              0.6666666666666666,
              "#ed7953"
             ],
             [
              0.7777777777777778,
              "#fb9f3a"
             ],
             [
              0.8888888888888888,
              "#fdca26"
             ],
             [
              1,
              "#f0f921"
             ]
            ],
            "type": "heatmap"
           }
          ],
          "histogram": [
           {
            "marker": {
             "pattern": {
              "fillmode": "overlay",
              "size": 10,
              "solidity": 0.2
             }
            },
            "type": "histogram"
           }
          ],
          "histogram2d": [
           {
            "colorbar": {
             "outlinewidth": 0,
             "ticks": ""
            },
            "colorscale": [
             [
              0,
              "#0d0887"
             ],
             [
              0.1111111111111111,
              "#46039f"
             ],
             [
              0.2222222222222222,
              "#7201a8"
             ],
             [
              0.3333333333333333,
              "#9c179e"
             ],
             [
              0.4444444444444444,
              "#bd3786"
             ],
             [
              0.5555555555555556,
              "#d8576b"
             ],
             [
              0.6666666666666666,
              "#ed7953"
             ],
             [
              0.7777777777777778,
              "#fb9f3a"
             ],
             [
              0.8888888888888888,
              "#fdca26"
             ],
             [
              1,
              "#f0f921"
             ]
            ],
            "type": "histogram2d"
           }
          ],
          "histogram2dcontour": [
           {
            "colorbar": {
             "outlinewidth": 0,
             "ticks": ""
            },
            "colorscale": [
             [
              0,
              "#0d0887"
             ],
             [
              0.1111111111111111,
              "#46039f"
             ],
             [
              0.2222222222222222,
              "#7201a8"
             ],
             [
              0.3333333333333333,
              "#9c179e"
             ],
             [
              0.4444444444444444,
              "#bd3786"
             ],
             [
              0.5555555555555556,
              "#d8576b"
             ],
             [
              0.6666666666666666,
              "#ed7953"
             ],
             [
              0.7777777777777778,
              "#fb9f3a"
             ],
             [
              0.8888888888888888,
              "#fdca26"
             ],
             [
              1,
              "#f0f921"
             ]
            ],
            "type": "histogram2dcontour"
           }
          ],
          "mesh3d": [
           {
            "colorbar": {
             "outlinewidth": 0,
             "ticks": ""
            },
            "type": "mesh3d"
           }
          ],
          "parcoords": [
           {
            "line": {
             "colorbar": {
              "outlinewidth": 0,
              "ticks": ""
             }
            },
            "type": "parcoords"
           }
          ],
          "pie": [
           {
            "automargin": true,
            "type": "pie"
           }
          ],
          "scatter": [
           {
            "fillpattern": {
             "fillmode": "overlay",
             "size": 10,
             "solidity": 0.2
            },
            "type": "scatter"
           }
          ],
          "scatter3d": [
           {
            "line": {
             "colorbar": {
              "outlinewidth": 0,
              "ticks": ""
             }
            },
            "marker": {
             "colorbar": {
              "outlinewidth": 0,
              "ticks": ""
             }
            },
            "type": "scatter3d"
           }
          ],
          "scattercarpet": [
           {
            "marker": {
             "colorbar": {
              "outlinewidth": 0,
              "ticks": ""
             }
            },
            "type": "scattercarpet"
           }
          ],
          "scattergeo": [
           {
            "marker": {
             "colorbar": {
              "outlinewidth": 0,
              "ticks": ""
             }
            },
            "type": "scattergeo"
           }
          ],
          "scattergl": [
           {
            "marker": {
             "colorbar": {
              "outlinewidth": 0,
              "ticks": ""
             }
            },
            "type": "scattergl"
           }
          ],
          "scattermap": [
           {
            "marker": {
             "colorbar": {
              "outlinewidth": 0,
              "ticks": ""
             }
            },
            "type": "scattermap"
           }
          ],
          "scattermapbox": [
           {
            "marker": {
             "colorbar": {
              "outlinewidth": 0,
              "ticks": ""
             }
            },
            "type": "scattermapbox"
           }
          ],
          "scatterpolar": [
           {
            "marker": {
             "colorbar": {
              "outlinewidth": 0,
              "ticks": ""
             }
            },
            "type": "scatterpolar"
           }
          ],
          "scatterpolargl": [
           {
            "marker": {
             "colorbar": {
              "outlinewidth": 0,
              "ticks": ""
             }
            },
            "type": "scatterpolargl"
           }
          ],
          "scatterternary": [
           {
            "marker": {
             "colorbar": {
              "outlinewidth": 0,
              "ticks": ""
             }
            },
            "type": "scatterternary"
           }
          ],
          "surface": [
           {
            "colorbar": {
             "outlinewidth": 0,
             "ticks": ""
            },
            "colorscale": [
             [
              0,
              "#0d0887"
             ],
             [
              0.1111111111111111,
              "#46039f"
             ],
             [
              0.2222222222222222,
              "#7201a8"
             ],
             [
              0.3333333333333333,
              "#9c179e"
             ],
             [
              0.4444444444444444,
              "#bd3786"
             ],
             [
              0.5555555555555556,
              "#d8576b"
             ],
             [
              0.6666666666666666,
              "#ed7953"
             ],
             [
              0.7777777777777778,
              "#fb9f3a"
             ],
             [
              0.8888888888888888,
              "#fdca26"
             ],
             [
              1,
              "#f0f921"
             ]
            ],
            "type": "surface"
           }
          ],
          "table": [
           {
            "cells": {
             "fill": {
              "color": "#EBF0F8"
             },
             "line": {
              "color": "white"
             }
            },
            "header": {
             "fill": {
              "color": "#C8D4E3"
             },
             "line": {
              "color": "white"
             }
            },
            "type": "table"
           }
          ]
         },
         "layout": {
          "annotationdefaults": {
           "arrowcolor": "#2a3f5f",
           "arrowhead": 0,
           "arrowwidth": 1
          },
          "autotypenumbers": "strict",
          "coloraxis": {
           "colorbar": {
            "outlinewidth": 0,
            "ticks": ""
           }
          },
          "colorscale": {
           "diverging": [
            [
             0,
             "#8e0152"
            ],
            [
             0.1,
             "#c51b7d"
            ],
            [
             0.2,
             "#de77ae"
            ],
            [
             0.3,
             "#f1b6da"
            ],
            [
             0.4,
             "#fde0ef"
            ],
            [
             0.5,
             "#f7f7f7"
            ],
            [
             0.6,
             "#e6f5d0"
            ],
            [
             0.7,
             "#b8e186"
            ],
            [
             0.8,
             "#7fbc41"
            ],
            [
             0.9,
             "#4d9221"
            ],
            [
             1,
             "#276419"
            ]
           ],
           "sequential": [
            [
             0,
             "#0d0887"
            ],
            [
             0.1111111111111111,
             "#46039f"
            ],
            [
             0.2222222222222222,
             "#7201a8"
            ],
            [
             0.3333333333333333,
             "#9c179e"
            ],
            [
             0.4444444444444444,
             "#bd3786"
            ],
            [
             0.5555555555555556,
             "#d8576b"
            ],
            [
             0.6666666666666666,
             "#ed7953"
            ],
            [
             0.7777777777777778,
             "#fb9f3a"
            ],
            [
             0.8888888888888888,
             "#fdca26"
            ],
            [
             1,
             "#f0f921"
            ]
           ],
           "sequentialminus": [
            [
             0,
             "#0d0887"
            ],
            [
             0.1111111111111111,
             "#46039f"
            ],
            [
             0.2222222222222222,
             "#7201a8"
            ],
            [
             0.3333333333333333,
             "#9c179e"
            ],
            [
             0.4444444444444444,
             "#bd3786"
            ],
            [
             0.5555555555555556,
             "#d8576b"
            ],
            [
             0.6666666666666666,
             "#ed7953"
            ],
            [
             0.7777777777777778,
             "#fb9f3a"
            ],
            [
             0.8888888888888888,
             "#fdca26"
            ],
            [
             1,
             "#f0f921"
            ]
           ]
          },
          "colorway": [
           "#636efa",
           "#EF553B",
           "#00cc96",
           "#ab63fa",
           "#FFA15A",
           "#19d3f3",
           "#FF6692",
           "#B6E880",
           "#FF97FF",
           "#FECB52"
          ],
          "font": {
           "color": "#2a3f5f"
          },
          "geo": {
           "bgcolor": "white",
           "lakecolor": "white",
           "landcolor": "#E5ECF6",
           "showlakes": true,
           "showland": true,
           "subunitcolor": "white"
          },
          "hoverlabel": {
           "align": "left"
          },
          "hovermode": "closest",
          "mapbox": {
           "style": "light"
          },
          "paper_bgcolor": "white",
          "plot_bgcolor": "#E5ECF6",
          "polar": {
           "angularaxis": {
            "gridcolor": "white",
            "linecolor": "white",
            "ticks": ""
           },
           "bgcolor": "#E5ECF6",
           "radialaxis": {
            "gridcolor": "white",
            "linecolor": "white",
            "ticks": ""
           }
          },
          "scene": {
           "xaxis": {
            "backgroundcolor": "#E5ECF6",
            "gridcolor": "white",
            "gridwidth": 2,
            "linecolor": "white",
            "showbackground": true,
            "ticks": "",
            "zerolinecolor": "white"
           },
           "yaxis": {
            "backgroundcolor": "#E5ECF6",
            "gridcolor": "white",
            "gridwidth": 2,
            "linecolor": "white",
            "showbackground": true,
            "ticks": "",
            "zerolinecolor": "white"
           },
           "zaxis": {
            "backgroundcolor": "#E5ECF6",
            "gridcolor": "white",
            "gridwidth": 2,
            "linecolor": "white",
            "showbackground": true,
            "ticks": "",
            "zerolinecolor": "white"
           }
          },
          "shapedefaults": {
           "line": {
            "color": "#2a3f5f"
           }
          },
          "ternary": {
           "aaxis": {
            "gridcolor": "white",
            "linecolor": "white",
            "ticks": ""
           },
           "baxis": {
            "gridcolor": "white",
            "linecolor": "white",
            "ticks": ""
           },
           "bgcolor": "#E5ECF6",
           "caxis": {
            "gridcolor": "white",
            "linecolor": "white",
            "ticks": ""
           }
          },
          "title": {
           "x": 0.05
          },
          "xaxis": {
           "automargin": true,
           "gridcolor": "white",
           "linecolor": "white",
           "ticks": "",
           "title": {
            "standoff": 15
           },
           "zerolinecolor": "white",
           "zerolinewidth": 2
          },
          "yaxis": {
           "automargin": true,
           "gridcolor": "white",
           "linecolor": "white",
           "ticks": "",
           "title": {
            "standoff": 15
           },
           "zerolinecolor": "white",
           "zerolinewidth": 2
          }
         }
        },
        "title": {
         "text": ""
        },
        "width": 1000
       }
      }
     },
     "metadata": {},
     "output_type": "display_data"
    },
    {
     "name": "stdout",
     "output_type": "stream",
     "text": [
      "\n",
      "Image sauvegardée au format PDF (fond transparent, marges minimales) : data/fig_image/ifa_M_opti3_Smith_chart.pdf\n",
      "\n",
      "\n",
      "📡 Résultats de simulation :\n",
      "→ Fréquence de résonance = 1000.00 MHz\n",
      "→ Impédance à f_res      = 122.08-81.21j Ω\n"
     ]
    },
    {
     "data": {
      "image/png": "[encoded data removed]",
      "text/plain": [
       "<Figure size 700x432.624 with 1 Axes>"
      ]
     },
     "metadata": {},
     "output_type": "display_data"
    },
    {
     "name": "stdout",
     "output_type": "stream",
     "text": [
      "\n",
      "Ratio = 1.152073732718894\n",
      "\n",
      "\n",
      "We are FAR of fc!\n",
      "\n",
      "\n",
      "------------------------------------------------------Iteration N°2------------------------------------------------------\n",
      "\n",
      "distance meandres = 3.767 mm\n",
      "\n",
      "Number of meanders = 3\n",
      "\n",
      "New distance meandres = 4.566 mm\n",
      "Largeur de piste ifa = 3.767 mm\n",
      "position feed = 22.500 mm\n",
      "\n",
      "Simulation 1/76 | f = 700.00 MHz | S11 = -0.36 dB\n",
      "Simulation 2/76 | f = 704.00 MHz | S11 = -0.38 dB\n",
      "Simulation 3/76 | f = 708.00 MHz | S11 = -0.41 dB\n",
      "Simulation 4/76 | f = 712.00 MHz | S11 = -0.43 dB\n",
      "Simulation 5/76 | f = 716.00 MHz | S11 = -0.46 dB\n",
      "Simulation 6/76 | f = 720.00 MHz | S11 = -0.49 dB\n",
      "Simulation 7/76 | f = 724.00 MHz | S11 = -0.53 dB\n",
      "Simulation 8/76 | f = 728.00 MHz | S11 = -0.56 dB\n",
      "Simulation 9/76 | f = 732.00 MHz | S11 = -0.60 dB\n",
      "Simulation 10/76 | f = 736.00 MHz | S11 = -0.64 dB\n",
      "Simulation 11/76 | f = 740.00 MHz | S11 = -0.69 dB\n",
      "Simulation 12/76 | f = 744.00 MHz | S11 = -0.74 dB\n",
      "Simulation 13/76 | f = 748.00 MHz | S11 = -0.79 dB\n",
      "Simulation 14/76 | f = 752.00 MHz | S11 = -0.85 dB\n",
      "Simulation 15/76 | f = 756.00 MHz | S11 = -0.91 dB\n",
      "Simulation 16/76 | f = 760.00 MHz | S11 = -0.98 dB\n",
      "Simulation 17/76 | f = 764.00 MHz | S11 = -1.06 dB\n",
      "Simulation 18/76 | f = 768.00 MHz | S11 = -1.15 dB\n",
      "Simulation 19/76 | f = 772.00 MHz | S11 = -1.24 dB\n",
      "Simulation 20/76 | f = 776.00 MHz | S11 = -1.35 dB\n",
      "Simulation 21/76 | f = 780.00 MHz | S11 = -1.46 dB\n",
      "Simulation 22/76 | f = 784.00 MHz | S11 = -1.59 dB\n",
      "Simulation 23/76 | f = 788.00 MHz | S11 = -1.73 dB\n",
      "Simulation 24/76 | f = 792.00 MHz | S11 = -1.89 dB\n",
      "Simulation 25/76 | f = 796.00 MHz | S11 = -2.07 dB\n",
      "Simulation 26/76 | f = 800.00 MHz | S11 = -2.27 dB\n",
      "Simulation 27/76 | f = 804.00 MHz | S11 = -2.50 dB\n",
      "Simulation 28/76 | f = 808.00 MHz | S11 = -2.76 dB\n",
      "Simulation 29/76 | f = 812.00 MHz | S11 = -3.05 dB\n",
      "Simulation 30/76 | f = 816.00 MHz | S11 = -3.37 dB\n",
      "Simulation 31/76 | f = 820.00 MHz | S11 = -3.75 dB\n",
      "Simulation 32/76 | f = 824.00 MHz | S11 = -4.18 dB\n",
      "Simulation 33/76 | f = 828.00 MHz | S11 = -4.67 dB\n",
      "Simulation 34/76 | f = 832.00 MHz | S11 = -5.23 dB\n",
      "Simulation 35/76 | f = 836.00 MHz | S11 = -5.88 dB\n",
      "Simulation 36/76 | f = 840.00 MHz | S11 = -6.64 dB\n",
      "Simulation 37/76 | f = 844.00 MHz | S11 = -7.52 dB\n",
      "Simulation 38/76 | f = 848.00 MHz | S11 = -8.56 dB\n",
      "Simulation 39/76 | f = 852.00 MHz | S11 = -9.78 dB\n",
      "Simulation 40/76 | f = 856.00 MHz | S11 = -11.24 dB\n",
      "Simulation 41/76 | f = 860.00 MHz | S11 = -12.98 dB\n",
      "Simulation 42/76 | f = 864.00 MHz | S11 = -15.01 dB\n"
     ]
    },
    {
     "data": {
      "application/vnd.plotly.v1+json": {
       "config": {
        "plotlyServerURL": "https://plot.ly"
       },
       "data": [
        {
         "facecolor": [
          "rgb(142, 0, 96)",
          "rgb(145, 0, 94)",
          "rgb(102, 0, 125)",
          "rgb(36, 235, 170)",
          "rgb(17, 0, 188)",
          "rgb(0, 66, 255)",
          "rgb(60, 255, 128)",
          "rgb(124, 0, 109)",
          "rgb(172, 251, 0)",
          "rgb(123, 0, 109)",
          "rgb(160, 253, 0)",
          "rgb(0, 24, 254)",
          "rgb(139, 0, 98)",
          "rgb(158, 254, 0)",
          "rgb(125, 0, 108)",
          "rgb(173, 251, 0)",
          "rgb(129, 0, 105)",
          "rgb(146, 255, 8)",
          "rgb(136, 0, 100)",
          "rgb(19, 196, 210)",
          "rgb(101, 255, 70)",
          "rgb(109, 0, 120)",
          "rgb(10, 174, 232)",
          "rgb(0, 109, 255)",
          "rgb(0, 15, 232)",
          "rgb(0, 128, 255)",
          "rgb(124, 255, 38)",
          "rgb(176, 250, 0)",
          "rgb(34, 231, 174)",
          "rgb(168, 252, 0)",
          "rgb(255, 0, 0)",
          "rgb(0, 37, 255)",
          "rgb(154, 254, 0)",
          "rgb(0, 4, 209)",
          "rgb(0, 126, 255)",
          "rgb(0, 59, 255)",
          "rgb(0, 85, 255)",
          "rgb(0, 22, 248)",
          "rgb(112, 0, 118)",
          "rgb(51, 0, 163)",
          "rgb(116, 0, 115)",
          "rgb(109, 0, 120)",
          "rgb(100, 0, 127)",
          "rgb(102, 0, 125)",
          "rgb(134, 0, 102)",
          "rgb(144, 0, 94)",
          "rgb(45, 0, 167)",
          "rgb(150, 0, 90)",
          "rgb(132, 0, 103)",
          "rgb(146, 0, 93)",
          "rgb(117, 0, 114)"
         ],
         "i": {
          "bdata": "JygUAysYDysRJxATJwkpGSwaKw4bJRwcHgEgIgsJARIhDAIdASYNKiwUACUpFioXJCgn",
          "dtype": "i1"
         },
         "j": {
          "bdata": "KSkqKiYBGxMiKBEHLCEsIisgLA8PKw4fHwIaGQ8RGQcJHgMfGAceIxQsKiYVKQMpKBck",
          "dtype": "i1"
         },
         "k": {
          "bdata": "KBcFABMSCgAIJAkSKRAVAiohJwsgJwsOHQAbCAoIAhgaHQAcGRMMBRUqKysGBiMWBAQl",
          "dtype": "i1"
         },
         "name": "",
         "type": "mesh3d",
         "x": {
          "bdata": "AAAAAAAAAAAwfu6OBbRyPzB+7o4FtHI/AAAAAAAAAAApXI/C9SisvwAAAAAAAAAAKVyPwvUorL8RERERERGBPxEREREREYE/JlCI2BNrij8mUIjYE2uKP5eZmZmZmZk/l5mZmZmZmT+dsMx0Er6VP52wzHQSvpU/EhERERERkT8SERERERGRPzB+7o4FtHI/MH7ujgW0cj8AAAAAAAAAANGSXyz5xZK/z5JfLPnFor8pXI/C9Sisvylcj8L1KKy/ERERERERgT8RERERERGBPyZQiNgTa4o/JlCI2BNrij+XmZmZmZmZP5eZmZmZmZk/nbDMdBK+lT+dsMx0Er6VPxIREREREZE/EhERERERkT8wfu6OBbRyPwAAAAAAAAAACHTaQKcNpL/bF0t+seSXv6AehetRuH6/TBRwqyK+oL8lRZK1ShunvxcZchrAaqa/wze79J0ggr/XwBDnPQqRv4PvHsXxoZu/",
          "dtype": "f8"
         },
         "y": {
          "bdata": "iEsKAwH4mD+ISwoDAfiYP4xiPd55HJU/jGI93nkclT8K16NwPQqnPwAAAAAAAAAAAAAAAAAAAAAK16NwPQqnP+NHZyY53G4/40dnJjncbj8K16NwPQqnPwrXo3A9Cqc/AAAAAAAAMLwAAAAAAAAwvIxiPd55HKU/jGI93nkcpT8AAAAAAAAwvAAAAAAAADC8jGI93nkcpT+MYj3eeRylPwAAAAAAAAAAAAAAAAAAAAC4HoXrUbiOP7gehetRuJ4/Lrbke78AoD+rKksOg+6RP7QqSw6D7pE/Mbbke78AoD+1HoXrUbieP7gehetRuI4/b4P80vcljD9pg/zS9yWcP2GD/NL3JZw/XoP80vcljD+SYj3eeRyFP5hiPd55HIU/CtejcD0Kpz8K16NwPQqnPwrXo3A9Cqc/x9erH0rUnz/DFTvb1FChP/aGjsK+cpI/uz/ngEsUjj87HjPtwwWgPz/DXJjImJA/",
          "dtype": "f8"
         },
         "z": {
          "bdata": "AAAAAAAAAAAAAAAAAAAAAAAAAAAAAAAAAAAAAAAAAAAAAAAAAAAAAAAAAAAAAAAAAAAAAAAAAAAAAAAAAAAAAAAAAAAAAAAAAAAAAAAAAAAAAAAAAAAAAAAAAAAAAAAAAAAAAAAAAAAAAAAAAAAAAAAAAAAAAAAAAAAAAAAAAAAAAAAAAAAAAAAAAAAAAAAAAAAAAAAAAAAAAAAAAAAAAAAAAAAAAAAAAAAAAAAAAAAAAAAAAAAAAAAAAAAAAAAAAAAAAAAAAAAAAAAAAAAAAAAAAAAAAAAAAAAAAAAAAAAAAAAAAAAAAAAAAAAAAAAAAAAAAAAAAAAAAAAAAAAAAAAAAAAAAAAAAAAAAAAAAAAAAAAAAAAAAAAAAAAAAAAAAAAAAAAAAAAAAAAAAAAAAAAAAAAAAAAAAAAAAAAAAAAAAAAAAAAAAAAAAAAAAAAAAAAAAAAAAAAAAAAAAAAAAAAAAAAAAAAA",
          "dtype": "f8"
         }
        },
        {
         "line": {
          "color": "rgb(50, 50, 50)",
          "width": 1.5
         },
         "mode": "lines",
         "showlegend": false,
         "type": "scatter3d",
         "x": [
          -0.03270061819788647,
          -0.04378319094489507,
          -0.04513009516188963,
          -0.03270061819788647,
          null,
          -0.04513009516188963,
          -0.04378319094489507,
          -0.055,
          -0.04513009516188963,
          null,
          -0.01833333333333337,
          -0.00885127452002255,
          0,
          -0.01833333333333337,
          null,
          0,
          -0.00885127452002255,
          0,
          0,
          null,
          -0.016640631893268,
          -0.007499999999999979,
          0,
          -0.016640631893268,
          null,
          0.008333333333333333,
          0.004566213333333333,
          0.004566213333333333,
          0.008333333333333333,
          null,
          0.01666666666666667,
          0.01289954666666666,
          0.01289954666666666,
          0.01666666666666667,
          null,
          -0.016640631893268,
          0,
          0,
          -0.016640631893268,
          null,
          0.004566213333333333,
          0.004566213333333333,
          0.008333333333333333,
          0.004566213333333333,
          null,
          -0.03270061819788647,
          -0.04513009516188963,
          -0.03916666666666663,
          -0.03270061819788647,
          null,
          0.01666666666666667,
          0.004566213333333333,
          0.01289954666666666,
          0.01666666666666667,
          null,
          0,
          0.008333333333333333,
          0.004566213333333333,
          0,
          null,
          -0.03270061819788647,
          -0.02698495641355648,
          -0.04378319094489507,
          -0.03270061819788647,
          null,
          0.01289954666666666,
          0.01666666666666667,
          0.01666666666666667,
          0.01289954666666666,
          null,
          -0.04378319094489507,
          -0.02698495641355648,
          -0.03666666666666673,
          -0.04378319094489507,
          null,
          0.008333333333333333,
          0.004566213333333333,
          0.004566213333333333,
          0.008333333333333333,
          null,
          -0.02698495641355648,
          -0.016640631893268,
          -0.00885127452002255,
          -0.02698495641355648,
          null,
          0.01289954666666666,
          0.01666666666666667,
          0.01666666666666667,
          0.01289954666666666,
          null,
          -0.016640631893268,
          -0.02698495641355648,
          -0.03270061819788647,
          -0.016640631893268,
          null,
          0.02123288,
          0.01666666666666667,
          0.02499999999999999,
          0.02123288,
          null,
          0.01289954666666666,
          0.01666666666666667,
          0.01666666666666667,
          0.01289954666666666,
          null,
          -0.0233333333333333,
          -0.016640631893268,
          -0.03270061819788647,
          -0.0233333333333333,
          null,
          0.02499999999999999,
          0.02123288,
          0.02499999999999999,
          0.02499999999999999,
          null,
          0.02499999999999999,
          0.02123288,
          0.02123288,
          0.02499999999999999,
          null,
          0.02123288,
          0.02123288,
          0.02499999999999999,
          0.02123288,
          null,
          0.004566213333333333,
          0.004566213333333333,
          0,
          0.004566213333333333,
          null,
          0.01666666666666667,
          0.01289954666666666,
          0.01289954666666666,
          0.01666666666666667,
          null,
          0.004566213333333333,
          0.008333333333333333,
          0.008333333333333333,
          0.004566213333333333,
          null,
          0.02499999999999999,
          0.01666666666666667,
          0.01289954666666666,
          0.02499999999999999,
          null,
          0.01289954666666666,
          0.004566213333333333,
          0.008333333333333333,
          0.01289954666666666,
          null,
          0.004566213333333333,
          0.008333333333333333,
          0.004566213333333333,
          0.004566213333333333,
          null,
          0.004566213333333333,
          0.008333333333333333,
          0.008333333333333333,
          0.004566213333333333,
          null,
          0.01666666666666667,
          0.01289954666666666,
          0.01289954666666666,
          0.01666666666666667,
          null,
          0.02499999999999999,
          0.02123288,
          0.02499999999999999,
          0.02499999999999999,
          null,
          0.004566213333333333,
          0,
          0,
          0.004566213333333333,
          null,
          0.02499999999999999,
          0.02123288,
          0.02499999999999999,
          0.02499999999999999,
          null,
          0.004566213333333333,
          0.008333333333333333,
          0.008333333333333333,
          0.004566213333333333,
          null,
          -0.007499999999999979,
          0.008333333333333333,
          0,
          -0.007499999999999979,
          null,
          0.02123288,
          0.02123288,
          0.02499999999999999,
          0.02123288,
          null,
          -0.00885127452002255,
          0,
          0,
          -0.00885127452002255,
          null,
          -0.02698495641355648,
          -0.01833333333333337,
          -0.03666666666666673,
          -0.02698495641355648,
          null,
          -0.01833333333333337,
          -0.02698495641355648,
          -0.00885127452002255,
          -0.01833333333333337,
          null,
          0,
          -0.00885127452002255,
          -0.016640631893268,
          0,
          null,
          -0.0233333333333333,
          -0.007499999999999979,
          -0.016640631893268,
          -0.0233333333333333,
          null,
          -0.04378319094489507,
          -0.03666666666666673,
          -0.055,
          -0.04378319094489507,
          null,
          -0.055,
          -0.04378319094489507,
          -0.055,
          -0.055,
          null,
          -0.00885127452002255,
          0,
          0,
          -0.00885127452002255,
          null,
          -0.055,
          -0.04378319094489507,
          -0.055,
          -0.055,
          null,
          -0.03916666666666663,
          -0.04513009516188963,
          -0.055,
          -0.03916666666666663,
          null,
          -0.04513009516188963,
          -0.055,
          -0.055,
          -0.04513009516188963,
          null,
          -0.03270061819788647,
          -0.03916666666666663,
          -0.0233333333333333,
          -0.03270061819788647,
          null
         ],
         "y": [
          0.03108325784975088,
          0.01801584303360123,
          0.03381982017667042,
          0.03108325784975088,
          null,
          0.03381982017667042,
          0.01801584303360123,
          0.03,
          0.03381982017667042,
          null,
          0,
          0.01468714701778128,
          0,
          0,
          null,
          0.02061644,
          0.01468714701778128,
          0.02438356,
          0.02061644,
          null,
          0.03129398603919894,
          0.045,
          0.04123288,
          0.03129398603919894,
          null,
          0.03125570666666665,
          0.02438356,
          0.04123288,
          0.03125570666666665,
          null,
          0.04123288,
          0.03125570666666667,
          0.045,
          0.04123288,
          null,
          0.03129398603919894,
          0.04123288,
          0.02438356,
          0.03129398603919894,
          null,
          -8.673617379884035e-19,
          0.01030822000000001,
          0.00376712,
          -8.673617379884035e-19,
          null,
          0.03108325784975088,
          0.03381982017667042,
          0.045,
          0.03108325784975088,
          null,
          -8.673617379884035e-19,
          -8.673617379884035e-19,
          0.00376712,
          -8.673617379884035e-19,
          null,
          0.04123288,
          0.045,
          0.04123288,
          0.04123288,
          null,
          0.03108325784975088,
          0.01620782308527002,
          0.01801584303360123,
          0.03108325784975088,
          null,
          0.00376712,
          0.01374429333333332,
          -8.673617379884035e-19,
          0.00376712,
          null,
          0.01801584303360123,
          0.01620782308527002,
          0,
          0.01801584303360123,
          null,
          0.01751141333333332,
          0.01030822000000001,
          0.02061644,
          0.01751141333333332,
          null,
          0.01620782308527002,
          0.03129398603919894,
          0.01468714701778128,
          0.01620782308527002,
          null,
          0.01751141333333335,
          0.02748858666666665,
          0.01374429333333332,
          0.01751141333333335,
          null,
          0.03129398603919894,
          0.01620782308527002,
          0.03108325784975088,
          0.03129398603919894,
          null,
          0.04123288,
          0.04123288,
          0.045,
          0.04123288,
          null,
          0.03125570666666667,
          0.04123288,
          0.02748858666666665,
          0.03125570666666667,
          null,
          0.045,
          0.03129398603919894,
          0.03108325784975088,
          0.045,
          null,
          0.02999999999999999,
          0.04123288,
          0.045,
          0.02999999999999999,
          null,
          0.02999999999999999,
          0.02748858666666668,
          0.04123288,
          0.02999999999999999,
          null,
          0.01374429333333335,
          0.02748858666666668,
          0.015,
          0.01374429333333335,
          null,
          0.02438356,
          0.02061644,
          0.02438356,
          0.02438356,
          null,
          0.02748858666666665,
          0.01751141333333335,
          0.03125570666666667,
          0.02748858666666665,
          null,
          0.01030822000000001,
          0.01751141333333332,
          0.00376712,
          0.01030822000000001,
          null,
          0.045,
          0.04123288,
          0.045,
          0.045,
          null,
          0.00376712,
          -8.673617379884035e-19,
          0.00376712,
          0.00376712,
          null,
          0.02438356,
          0.01751141333333332,
          0.02061644,
          0.02438356,
          null,
          0.04123288,
          0.045,
          0.03125570666666665,
          0.04123288,
          null,
          0.01374429333333332,
          0.00376712,
          0.01751141333333335,
          0.01374429333333332,
          null,
          -8.673617379884035e-19,
          0.01374429333333335,
          0.015,
          -8.673617379884035e-19,
          null,
          0.02061644,
          0.02061644,
          0.02438356,
          0.02061644,
          null,
          0.015,
          0.02748858666666668,
          0.02999999999999999,
          0.015,
          null,
          0.02438356,
          0.03125570666666665,
          0.01751141333333332,
          0.02438356,
          null,
          0.045,
          0.045,
          0.04123288,
          0.045,
          null,
          -8.673617379884035e-19,
          0.01374429333333335,
          -8.673617379884035e-19,
          -8.673617379884035e-19,
          null,
          0.01468714701778128,
          0.01030822000000002,
          0,
          0.01468714701778128,
          null,
          0.01620782308527002,
          0,
          0,
          0.01620782308527002,
          null,
          0,
          0.01620782308527002,
          0.01468714701778128,
          0,
          null,
          0.02438356,
          0.01468714701778128,
          0.03129398603919894,
          0.02438356,
          null,
          0.045,
          0.045,
          0.03129398603919894,
          0.045,
          null,
          0.01801584303360123,
          0,
          0,
          0.01801584303360123,
          null,
          0.015,
          0.01801584303360123,
          0,
          0.015,
          null,
          0.01468714701778128,
          0.02061644,
          0.01030822000000002,
          0.01468714701778128,
          null,
          0.03,
          0.01801584303360123,
          0.015,
          0.03,
          null,
          0.045,
          0.03381982017667042,
          0.045,
          0.045,
          null,
          0.03381982017667042,
          0.03,
          0.045,
          0.03381982017667042,
          null,
          0.03108325784975088,
          0.045,
          0.045,
          0.03108325784975088,
          null
         ],
         "z": [
          0,
          0,
          0,
          0,
          null,
          0,
          0,
          0,
          0,
          null,
          0,
          0,
          0,
          0,
          null,
          0,
          0,
          0,
          0,
          null,
          0,
          0,
          0,
          0,
          null,
          0,
          0,
          0,
          0,
          null,
          0,
          0,
          0,
          0,
          null,
          0,
          0,
          0,
          0,
          null,
          0,
          0,
          0,
          0,
          null,
          0,
          0,
          0,
          0,
          null,
          0,
          0,
          0,
          0,
          null,
          0,
          0,
          0,
          0,
          null,
          0,
          0,
          0,
          0,
          null,
          0,
          0,
          0,
          0,
          null,
          0,
          0,
          0,
          0,
          null,
          0,
          0,
          0,
          0,
          null,
          0,
          0,
          0,
          0,
          null,
          0,
          0,
          0,
          0,
          null,
          0,
          0,
          0,
          0,
          null,
          0,
          0,
          0,
          0,
          null,
          0,
          0,
          0,
          0,
          null,
          0,
          0,
          0,
          0,
          null,
          0,
          0,
          0,
          0,
          null,
          0,
          0,
          0,
          0,
          null,
          0,
          0,
          0,
          0,
          null,
          0,
          0,
          0,
          0,
          null,
          0,
          0,
          0,
          0,
          null,
          0,
          0,
          0,
          0,
          null,
          0,
          0,
          0,
          0,
          null,
          0,
          0,
          0,
          0,
          null,
          0,
          0,
          0,
          0,
          null,
          0,
          0,
          0,
          0,
          null,
          0,
          0,
          0,
          0,
          null,
          0,
          0,
          0,
          0,
          null,
          0,
          0,
          0,
          0,
          null,
          0,
          0,
          0,
          0,
          null,
          0,
          0,
          0,
          0,
          null,
          0,
          0,
          0,
          0,
          null,
          0,
          0,
          0,
          0,
          null,
          0,
          0,
          0,
          0,
          null,
          0,
          0,
          0,
          0,
          null,
          0,
          0,
          0,
          0,
          null,
          0,
          0,
          0,
          0,
          null,
          0,
          0,
          0,
          0,
          null,
          0,
          0,
          0,
          0,
          null,
          0,
          0,
          0,
          0,
          null,
          0,
          0,
          0,
          0,
          null,
          0,
          0,
          0,
          0,
          null,
          0,
          0,
          0,
          0,
          null,
          0,
          0,
          0,
          0,
          null,
          0,
          0,
          0,
          0,
          null
         ]
        },
        {
         "hoverinfo": "none",
         "marker": {
          "color": [
           0.02177013030341274,
           8.482629284321575
          ],
          "colorscale": [
           [
            0,
            "rgb(150, 0, 90)"
           ],
           [
            0.125,
            "rgb(0, 0, 200)"
           ],
           [
            0.25,
            "rgb(0, 25, 255)"
           ],
           [
            0.375,
            "rgb(0, 152, 255)"
           ],
           [
            0.5,
            "rgb(44, 255, 150)"
           ],
           [
            0.625,
            "rgb(151, 255, 0)"
           ],
           [
            0.75,
            "rgb(255, 234, 0)"
           ],
           [
            0.875,
            "rgb(255, 111, 0)"
           ],
           [
            1,
            "rgb(255, 0, 0)"
           ]
          ],
          "showscale": true,
          "size": 0.1
         },
         "mode": "markers",
         "showlegend": false,
         "type": "scatter3d",
         "x": {
          "bdata": "AAAAAAAAAAA=",
          "dtype": "f8"
         },
         "y": {
          "bdata": "iEsKAwH4mD8=",
          "dtype": "f8"
         },
         "z": {
          "bdata": "AAAAAAAAAAA=",
          "dtype": "f8"
         }
        },
        {
         "marker": {
          "color": "red",
          "size": 6,
          "symbol": "circle"
         },
         "mode": "markers+text",
         "name": "Feed Point(s)",
         "type": "scatter3d",
         "x": {
          "bdata": "AAAAAAAAAAA=",
          "dtype": "f8"
         },
         "y": {
          "bdata": "CtejcD0Klz8=",
          "dtype": "f8"
         },
         "z": {
          "bdata": "AAAAAAAAAAA=",
          "dtype": "f8"
         }
        }
       ],
       "layout": {
        "height": 800,
        "legend": {
         "bgcolor": "rgba(255,255,255,0.7)",
         "bordercolor": "lightgray",
         "borderwidth": 1,
         "x": 0.2,
         "xanchor": "left",
         "y": 0.9,
         "yanchor": "top"
        },
        "scene": {
         "aspectratio": {
          "x": 1,
          "y": 0.5625000000000001,
          "z": 0.3
         },
         "camera": {
          "eye": {
           "x": 0.65,
           "y": 0.65,
           "z": 0.65
          }
         },
         "xaxis": {
          "backgroundcolor": "rgb(230, 230, 230)",
          "gridcolor": "rgb(255, 255, 255)",
          "showbackground": true,
          "zerolinecolor": "rgb(255, 255, 255)"
         },
         "yaxis": {
          "backgroundcolor": "rgb(230, 230, 230)",
          "gridcolor": "rgb(255, 255, 255)",
          "showbackground": true,
          "zerolinecolor": "rgb(255, 255, 255)"
         },
         "zaxis": {
          "backgroundcolor": "rgb(230, 230, 230)",
          "gridcolor": "rgb(255, 255, 255)",
          "showbackground": true,
          "zerolinecolor": "rgb(255, 255, 255)"
         }
        },
        "template": {
         "data": {
          "bar": [
           {
            "error_x": {
             "color": "#2a3f5f"
            },
            "error_y": {
             "color": "#2a3f5f"
            },
            "marker": {
             "line": {
              "color": "#E5ECF6",
              "width": 0.5
             },
             "pattern": {
              "fillmode": "overlay",
              "size": 10,
              "solidity": 0.2
             }
            },
            "type": "bar"
           }
          ],
          "barpolar": [
           {
            "marker": {
             "line": {
              "color": "#E5ECF6",
              "width": 0.5
             },
             "pattern": {
              "fillmode": "overlay",
              "size": 10,
              "solidity": 0.2
             }
            },
            "type": "barpolar"
           }
          ],
          "carpet": [
           {
            "aaxis": {
             "endlinecolor": "#2a3f5f",
             "gridcolor": "white",
             "linecolor": "white",
             "minorgridcolor": "white",
             "startlinecolor": "#2a3f5f"
            },
            "baxis": {
             "endlinecolor": "#2a3f5f",
             "gridcolor": "white",
             "linecolor": "white",
             "minorgridcolor": "white",
             "startlinecolor": "#2a3f5f"
            },
            "type": "carpet"
           }
          ],
          "choropleth": [
           {
            "colorbar": {
             "outlinewidth": 0,
             "ticks": ""
            },
            "type": "choropleth"
           }
          ],
          "contour": [
           {
            "colorbar": {
             "outlinewidth": 0,
             "ticks": ""
            },
            "colorscale": [
             [
              0,
              "#0d0887"
             ],
             [
              0.1111111111111111,
              "#46039f"
             ],
             [
              0.2222222222222222,
              "#7201a8"
             ],
             [
              0.3333333333333333,
              "#9c179e"
             ],
             [
              0.4444444444444444,
              "#bd3786"
             ],
             [
              0.5555555555555556,
              "#d8576b"
             ],
             [
              0.6666666666666666,
              "#ed7953"
             ],
             [
              0.7777777777777778,
              "#fb9f3a"
             ],
             [
              0.8888888888888888,
              "#fdca26"
             ],
             [
              1,
              "#f0f921"
             ]
            ],
            "type": "contour"
           }
          ],
          "contourcarpet": [
           {
            "colorbar": {
             "outlinewidth": 0,
             "ticks": ""
            },
            "type": "contourcarpet"
           }
          ],
          "heatmap": [
           {
            "colorbar": {
             "outlinewidth": 0,
             "ticks": ""
            },
            "colorscale": [
             [
              0,
              "#0d0887"
             ],
             [
              0.1111111111111111,
              "#46039f"
             ],
             [
              0.2222222222222222,
              "#7201a8"
             ],
             [
              0.3333333333333333,
              "#9c179e"
             ],
             [
              0.4444444444444444,
              "#bd3786"
             ],
             [
              0.5555555555555556,
              "#d8576b"
             ],
             [
              0.6666666666666666,
              "#ed7953"
             ],
             [
              0.7777777777777778,
              "#fb9f3a"
             ],
             [
              0.8888888888888888,
              "#fdca26"
             ],
             [
              1,
              "#f0f921"
             ]
            ],
            "type": "heatmap"
           }
          ],
          "histogram": [
           {
            "marker": {
             "pattern": {
              "fillmode": "overlay",
              "size": 10,
              "solidity": 0.2
             }
            },
            "type": "histogram"
           }
          ],
          "histogram2d": [
           {
            "colorbar": {
             "outlinewidth": 0,
             "ticks": ""
            },
            "colorscale": [
             [
              0,
              "#0d0887"
             ],
             [
              0.1111111111111111,
              "#46039f"
             ],
             [
              0.2222222222222222,
              "#7201a8"
             ],
             [
              0.3333333333333333,
              "#9c179e"
             ],
             [
              0.4444444444444444,
              "#bd3786"
             ],
             [
              0.5555555555555556,
              "#d8576b"
             ],
             [
              0.6666666666666666,
              "#ed7953"
             ],
             [
              0.7777777777777778,
              "#fb9f3a"
             ],
             [
              0.8888888888888888,
              "#fdca26"
             ],
             [
              1,
              "#f0f921"
             ]
            ],
            "type": "histogram2d"
           }
          ],
          "histogram2dcontour": [
           {
            "colorbar": {
             "outlinewidth": 0,
             "ticks": ""
            },
            "colorscale": [
             [
              0,
              "#0d0887"
             ],
             [
              0.1111111111111111,
              "#46039f"
             ],
             [
              0.2222222222222222,
              "#7201a8"
             ],
             [
              0.3333333333333333,
              "#9c179e"
             ],
             [
              0.4444444444444444,
              "#bd3786"
             ],
             [
              0.5555555555555556,
              "#d8576b"
             ],
             [
              0.6666666666666666,
              "#ed7953"
             ],
             [
              0.7777777777777778,
              "#fb9f3a"
             ],
             [
              0.8888888888888888,
              "#fdca26"
             ],
             [
              1,
              "#f0f921"
             ]
            ],
            "type": "histogram2dcontour"
           }
          ],
          "mesh3d": [
           {
            "colorbar": {
             "outlinewidth": 0,
             "ticks": ""
            },
            "type": "mesh3d"
           }
          ],
          "parcoords": [
           {
            "line": {
             "colorbar": {
              "outlinewidth": 0,
              "ticks": ""
             }
            },
            "type": "parcoords"
           }
          ],
          "pie": [
           {
            "automargin": true,
            "type": "pie"
           }
          ],
          "scatter": [
           {
            "fillpattern": {
             "fillmode": "overlay",
             "size": 10,
             "solidity": 0.2
            },
            "type": "scatter"
           }
          ],
          "scatter3d": [
           {
            "line": {
             "colorbar": {
              "outlinewidth": 0,
              "ticks": ""
             }
            },
            "marker": {
             "colorbar": {
              "outlinewidth": 0,
              "ticks": ""
             }
            },
            "type": "scatter3d"
           }
          ],
          "scattercarpet": [
           {
            "marker": {
             "colorbar": {
              "outlinewidth": 0,
              "ticks": ""
             }
            },
            "type": "scattercarpet"
           }
          ],
          "scattergeo": [
           {
            "marker": {
             "colorbar": {
              "outlinewidth": 0,
              "ticks": ""
             }
            },
            "type": "scattergeo"
           }
          ],
          "scattergl": [
           {
            "marker": {
             "colorbar": {
              "outlinewidth": 0,
              "ticks": ""
             }
            },
            "type": "scattergl"
           }
          ],
          "scattermap": [
           {
            "marker": {
             "colorbar": {
              "outlinewidth": 0,
              "ticks": ""
             }
            },
            "type": "scattermap"
           }
          ],
          "scattermapbox": [
           {
            "marker": {
             "colorbar": {
              "outlinewidth": 0,
              "ticks": ""
             }
            },
            "type": "scattermapbox"
           }
          ],
          "scatterpolar": [
           {
            "marker": {
             "colorbar": {
              "outlinewidth": 0,
              "ticks": ""
             }
            },
            "type": "scatterpolar"
           }
          ],
          "scatterpolargl": [
           {
            "marker": {
             "colorbar": {
              "outlinewidth": 0,
              "ticks": ""
             }
            },
            "type": "scatterpolargl"
           }
          ],
          "scatterternary": [
           {
            "marker": {
             "colorbar": {
              "outlinewidth": 0,
              "ticks": ""
             }
            },
            "type": "scatterternary"
           }
          ],
          "surface": [
           {
            "colorbar": {
             "outlinewidth": 0,
             "ticks": ""
            },
            "colorscale": [
             [
              0,
              "#0d0887"
             ],
             [
              0.1111111111111111,
              "#46039f"
             ],
             [
              0.2222222222222222,
              "#7201a8"
             ],
             [
              0.3333333333333333,
              "#9c179e"
             ],
             [
              0.4444444444444444,
              "#bd3786"
             ],
             [
              0.5555555555555556,
              "#d8576b"
             ],
             [
              0.6666666666666666,
              "#ed7953"
             ],
             [
              0.7777777777777778,
              "#fb9f3a"
             ],
             [
              0.8888888888888888,
              "#fdca26"
             ],
             [
              1,
              "#f0f921"
             ]
            ],
            "type": "surface"
           }
          ],
          "table": [
           {
            "cells": {
             "fill": {
              "color": "#EBF0F8"
             },
             "line": {
              "color": "white"
             }
            },
            "header": {
             "fill": {
              "color": "#C8D4E3"
             },
             "line": {
              "color": "white"
             }
            },
            "type": "table"
           }
          ]
         },
         "layout": {
          "annotationdefaults": {
           "arrowcolor": "#2a3f5f",
           "arrowhead": 0,
           "arrowwidth": 1
          },
          "autotypenumbers": "strict",
          "coloraxis": {
           "colorbar": {
            "outlinewidth": 0,
            "ticks": ""
           }
          },
          "colorscale": {
           "diverging": [
            [
             0,
             "#8e0152"
            ],
            [
             0.1,
             "#c51b7d"
            ],
            [
             0.2,
             "#de77ae"
            ],
            [
             0.3,
             "#f1b6da"
            ],
            [
             0.4,
             "#fde0ef"
            ],
            [
             0.5,
             "#f7f7f7"
            ],
            [
             0.6,
             "#e6f5d0"
            ],
            [
             0.7,
             "#b8e186"
            ],
            [
             0.8,
             "#7fbc41"
            ],
            [
             0.9,
             "#4d9221"
            ],
            [
             1,
             "#276419"
            ]
           ],
           "sequential": [
            [
             0,
             "#0d0887"
            ],
            [
             0.1111111111111111,
             "#46039f"
            ],
            [
             0.2222222222222222,
             "#7201a8"
            ],
            [
             0.3333333333333333,
             "#9c179e"
            ],
            [
             0.4444444444444444,
             "#bd3786"
            ],
            [
             0.5555555555555556,
             "#d8576b"
            ],
            [
             0.6666666666666666,
             "#ed7953"
            ],
            [
             0.7777777777777778,
             "#fb9f3a"
            ],
            [
             0.8888888888888888,
             "#fdca26"
            ],
            [
             1,
             "#f0f921"
            ]
           ],
           "sequentialminus": [
            [
             0,
             "#0d0887"
            ],
            [
             0.1111111111111111,
             "#46039f"
            ],
            [
             0.2222222222222222,
             "#7201a8"
            ],
            [
             0.3333333333333333,
             "#9c179e"
            ],
            [
             0.4444444444444444,
             "#bd3786"
            ],
            [
             0.5555555555555556,
             "#d8576b"
            ],
            [
             0.6666666666666666,
             "#ed7953"
            ],
            [
             0.7777777777777778,
             "#fb9f3a"
            ],
            [
             0.8888888888888888,
             "#fdca26"
            ],
            [
             1,
             "#f0f921"
            ]
           ]
          },
          "colorway": [
           "#636efa",
           "#EF553B",
           "#00cc96",
           "#ab63fa",
           "#FFA15A",
           "#19d3f3",
           "#FF6692",
           "#B6E880",
           "#FF97FF",
           "#FECB52"
          ],
          "font": {
           "color": "#2a3f5f"
          },
          "geo": {
           "bgcolor": "white",
           "lakecolor": "white",
           "landcolor": "#E5ECF6",
           "showlakes": true,
           "showland": true,
           "subunitcolor": "white"
          },
          "hoverlabel": {
           "align": "left"
          },
          "hovermode": "closest",
          "mapbox": {
           "style": "light"
          },
          "paper_bgcolor": "white",
          "plot_bgcolor": "#E5ECF6",
          "polar": {
           "angularaxis": {
            "gridcolor": "white",
            "linecolor": "white",
            "ticks": ""
           },
           "bgcolor": "#E5ECF6",
           "radialaxis": {
            "gridcolor": "white",
            "linecolor": "white",
            "ticks": ""
           }
          },
          "scene": {
           "xaxis": {
            "backgroundcolor": "#E5ECF6",
            "gridcolor": "white",
            "gridwidth": 2,
            "linecolor": "white",
            "showbackground": true,
            "ticks": "",
            "zerolinecolor": "white"
           },
           "yaxis": {
            "backgroundcolor": "#E5ECF6",
            "gridcolor": "white",
            "gridwidth": 2,
            "linecolor": "white",
            "showbackground": true,
            "ticks": "",
            "zerolinecolor": "white"
           },
           "zaxis": {
            "backgroundcolor": "#E5ECF6",
            "gridcolor": "white",
            "gridwidth": 2,
            "linecolor": "white",
            "showbackground": true,
            "ticks": "",
            "zerolinecolor": "white"
           }
          },
          "shapedefaults": {
           "line": {
            "color": "#2a3f5f"
           }
          },
          "ternary": {
           "aaxis": {
            "gridcolor": "white",
            "linecolor": "white",
            "ticks": ""
           },
           "baxis": {
            "gridcolor": "white",
            "linecolor": "white",
            "ticks": ""
           },
           "bgcolor": "#E5ECF6",
           "caxis": {
            "gridcolor": "white",
            "linecolor": "white",
            "ticks": ""
           }
          },
          "title": {
           "x": 0.05
          },
          "xaxis": {
           "automargin": true,
           "gridcolor": "white",
           "linecolor": "white",
           "ticks": "",
           "title": {
            "standoff": 15
           },
           "zerolinecolor": "white",
           "zerolinewidth": 2
          },
          "yaxis": {
           "automargin": true,
           "gridcolor": "white",
           "linecolor": "white",
           "ticks": "",
           "title": {
            "standoff": 15
           },
           "zerolinecolor": "white",
           "zerolinewidth": 2
          }
         }
        },
        "title": {
         "text": ""
        },
        "width": 800
       }
      }
     },
     "metadata": {},
     "output_type": "display_data"
    },
    {
     "name": "stdout",
     "output_type": "stream",
     "text": [
      "Simulation 43/76 | f = 868.00 MHz | S11 = -17.14 dB\n",
      "Simulation 44/76 | f = 872.00 MHz | S11 = -18.55 dB\n",
      "Simulation 45/76 | f = 876.00 MHz | S11 = -18.10 dB\n",
      "Simulation 46/76 | f = 880.00 MHz | S11 = -16.26 dB\n",
      "Simulation 47/76 | f = 884.00 MHz | S11 = -14.21 dB\n",
      "Simulation 48/76 | f = 888.00 MHz | S11 = -12.39 dB\n",
      "Simulation 49/76 | f = 892.00 MHz | S11 = -10.86 dB\n",
      "Simulation 50/76 | f = 896.00 MHz | S11 = -9.58 dB\n",
      "Simulation 51/76 | f = 900.00 MHz | S11 = -8.50 dB\n",
      "Simulation 52/76 | f = 904.00 MHz | S11 = -7.59 dB\n",
      "Simulation 53/76 | f = 908.00 MHz | S11 = -6.81 dB\n",
      "Simulation 54/76 | f = 912.00 MHz | S11 = -6.15 dB\n",
      "Simulation 55/76 | f = 916.00 MHz | S11 = -5.57 dB\n",
      "Simulation 56/76 | f = 920.00 MHz | S11 = -5.06 dB\n",
      "Simulation 57/76 | f = 924.00 MHz | S11 = -4.62 dB\n",
      "Simulation 58/76 | f = 928.00 MHz | S11 = -4.23 dB\n",
      "Simulation 59/76 | f = 932.00 MHz | S11 = -3.88 dB\n",
      "Simulation 60/76 | f = 936.00 MHz | S11 = -3.58 dB\n",
      "Simulation 61/76 | f = 940.00 MHz | S11 = -3.31 dB\n",
      "Simulation 62/76 | f = 944.00 MHz | S11 = -3.06 dB\n",
      "Simulation 63/76 | f = 948.00 MHz | S11 = -2.85 dB\n",
      "Simulation 64/76 | f = 952.00 MHz | S11 = -2.65 dB\n",
      "Simulation 65/76 | f = 956.00 MHz | S11 = -2.47 dB\n",
      "Simulation 66/76 | f = 960.00 MHz | S11 = -2.31 dB\n",
      "Simulation 67/76 | f = 964.00 MHz | S11 = -2.17 dB\n",
      "Simulation 68/76 | f = 968.00 MHz | S11 = -2.03 dB\n",
      "Simulation 69/76 | f = 972.00 MHz | S11 = -1.91 dB\n",
      "Simulation 70/76 | f = 976.00 MHz | S11 = -1.80 dB\n",
      "Simulation 71/76 | f = 980.00 MHz | S11 = -1.70 dB\n",
      "Simulation 72/76 | f = 984.00 MHz | S11 = -1.61 dB\n",
      "Simulation 73/76 | f = 988.00 MHz | S11 = -1.52 dB\n",
      "Simulation 74/76 | f = 992.00 MHz | S11 = -1.44 dB\n",
      "Simulation 75/76 | f = 996.00 MHz | S11 = -1.37 dB\n",
      "Simulation 76/76 | f = 1000.00 MHz | S11 = -1.30 dB\n"
     ]
    },
    {
     "data": {
      "application/vnd.plotly.v1+json": {
       "config": {
        "plotlyServerURL": "https://plot.ly"
       },
       "data": [
        {
         "hoverinfo": "text",
         "imag": [
          5.343185233196669,
          5.566523774496161,
          5.812105558321312,
          6.0829973832380775,
          6.382596018878916,
          6.714500789500967,
          7.082189599546219,
          7.488302288936077,
          7.933150484039242,
          8.411723074797285,
          8.907827916578796,
          9.38303312873864,
          9.757178576370801,
          9.879085968686868,
          9.49981894833457,
          8.302484007721784,
          6.089899287832099,
          3.1073970871422483,
          0.09102109020873587,
          -2.241590555845117,
          -3.6528783824582582,
          -4.302337986187091,
          -4.457478045566724,
          -4.335594524774951,
          -4.075841002805646,
          -3.757909120999828,
          -3.424584610607768,
          -3.0976224364470353,
          -2.787276259725425,
          -2.4976668588445805,
          -2.2297263949260153,
          -1.9827937839582597,
          -1.7554721042783483,
          -1.5460841090019946,
          -1.352908905650656,
          -1.1742995430226764,
          -1.0087360794451243,
          -0.8548441383713972,
          -0.7113955003532356,
          -0.5772998519245429,
          -0.45159268257806207,
          -0.33342201444679376,
          -0.11676757574168023,
          -0.017029911686997898,
          0.07769971386850846,
          0.16788522411521484,
          0.25393979643603015,
          0.3362322878935493,
          0.41509279387311954,
          0.4908174528921972,
          0.5636726002322634,
          0.6338983613638967,
          0.7017117645264443,
          0.7673094410105485,
          0.8308699719700372,
          0.8925559320443739,
          0.9525156726739271,
          1.0108848816304823,
          1.067787949868307,
          1.1233391721940114,
          1.1776438043449715,
          1.2307989957624559,
          1.2828946145442943,
          1.3340139786927656,
          1.384234505766115,
          1.4336282913393734,
          1.4822626252349453,
          1.5302004532552596,
          1.577500791101614,
          1.6242190962726042,
          1.6704076029715245,
          1.7161156243998152,
          1.7613898262531449,
          1.8062744747569306,
          1.8508116621633284
         ],
         "marker": {
          "color": "blue",
          "size": 4
         },
         "mode": "markers+lines",
         "name": "Impedance Points",
         "real": [
          0.6238394748289334,
          0.7191425315423707,
          0.834053297530841,
          0.9738303425374951,
          1.1454864390125952,
          1.3584795036723054,
          1.625702753726178,
          1.9648956556750514,
          2.400611691600604,
          2.9668136827314795,
          3.7098304608541492,
          4.69028089150753,
          5.979430687295674,
          7.638233581823723,
          9.656353929324661,
          11.83322118927377,
          13.668807641007556,
          14.505034740354285,
          14.02170494825732,
          12.533771369875954,
          10.653306842540237,
          8.839935558831309,
          7.292156848346462,
          6.042000735738103,
          5.0535896473954605,
          4.275287623121624,
          3.659586909347465,
          3.1682274358736238,
          2.771958307823566,
          2.4488507993499957,
          2.182538042228614,
          1.9607652112732308,
          1.7742911574724414,
          1.6160843182083247,
          1.480741601664654,
          1.3640693773343628,
          1.2627803473647108,
          1.1742728507213458,
          1.0964688946351688,
          1.0276942362298562,
          0.9665887848522193,
          0.9120390445323295,
          0.8190892467425165,
          0.7792893061427949,
          0.7431909594955612,
          0.7103409418021611,
          0.6803538228527415,
          0.6529001750821902,
          0.6276970729770788,
          0.6045004160953286,
          0.5830986881409884,
          0.5633078542652582,
          0.5449671661453317,
          0.5279356953507357,
          0.5120894543112804,
          0.49731899394913226,
          0.48352738998407657,
          0.4706285477356319,
          0.4585457691530896,
          0.44721053672457617,
          0.43656147753985997,
          0.4265434776226891,
          0.4171069221070177,
          0.4082070412059808,
          0.39980334544427193,
          0.3918591364741338,
          0.3843410821089861,
          0.37721884609661244,
          0.37046476469966444,
          0.3640535634223333,
          0.3579621082706246,
          0.3521691868020631,
          0.34665531494292723,
          0.34140256615207415,
          0.3363944200144666
         ],
         "text": [
          "Z = 31.192+267.159j at 700.0 MHz",
          "Z = 35.957+278.326j at 704.0 MHz",
          "Z = 41.703+290.605j at 708.0 MHz",
          "Z = 48.692+304.150j at 712.0 MHz",
          "Z = 57.274+319.130j at 716.0 MHz",
          "Z = 67.924+335.725j at 720.0 MHz",
          "Z = 81.285+354.109j at 724.0 MHz",
          "Z = 98.245+374.415j at 728.0 MHz",
          "Z = 120.031+396.658j at 732.0 MHz",
          "Z = 148.341+420.586j at 736.0 MHz",
          "Z = 185.492+445.391j at 740.0 MHz",
          "Z = 234.514+469.152j at 744.0 MHz",
          "Z = 298.972+487.859j at 748.0 MHz",
          "Z = 381.912+493.954j at 752.0 MHz",
          "Z = 482.818+474.991j at 756.0 MHz",
          "Z = 591.661+415.124j at 760.0 MHz",
          "Z = 683.440+304.495j at 764.0 MHz",
          "Z = 725.252+155.370j at 768.0 MHz",
          "Z = 701.085+4.551j at 772.0 MHz",
          "Z = 626.689-112.080j at 776.0 MHz",
          "Z = 532.665-182.644j at 780.0 MHz",
          "Z = 441.997-215.117j at 784.0 MHz",
          "Z = 364.608-222.874j at 788.0 MHz",
          "Z = 302.100-216.780j at 792.0 MHz",
          "Z = 252.679-203.792j at 796.0 MHz",
          "Z = 213.764-187.895j at 800.0 MHz",
          "Z = 182.979-171.229j at 804.0 MHz",
          "Z = 158.411-154.881j at 808.0 MHz",
          "Z = 138.598-139.364j at 812.0 MHz",
          "Z = 122.443-124.883j at 816.0 MHz",
          "Z = 109.127-111.486j at 820.0 MHz",
          "Z = 98.038-99.140j at 824.0 MHz",
          "Z = 88.715-87.774j at 828.0 MHz",
          "Z = 80.804-77.304j at 832.0 MHz",
          "Z = 74.037-67.645j at 836.0 MHz",
          "Z = 68.203-58.715j at 840.0 MHz",
          "Z = 63.139-50.437j at 844.0 MHz",
          "Z = 58.714-42.742j at 848.0 MHz",
          "Z = 54.823-35.570j at 852.0 MHz",
          "Z = 51.385-28.865j at 856.0 MHz",
          "Z = 48.329-22.580j at 860.0 MHz",
          "Z = 45.602-16.671j at 864.0 MHz",
          "Z = 40.954-5.838j at 872.0 MHz",
          "Z = 38.964-0.851j at 876.0 MHz",
          "Z = 37.160+3.885j at 880.0 MHz",
          "Z = 35.517+8.394j at 884.0 MHz",
          "Z = 34.018+12.697j at 888.0 MHz",
          "Z = 32.645+16.812j at 892.0 MHz",
          "Z = 31.385+20.755j at 896.0 MHz",
          "Z = 30.225+24.541j at 900.0 MHz",
          "Z = 29.155+28.184j at 904.0 MHz",
          "Z = 28.165+31.695j at 908.0 MHz",
          "Z = 27.248+35.086j at 912.0 MHz",
          "Z = 26.397+38.365j at 916.0 MHz",
          "Z = 25.604+41.543j at 920.0 MHz",
          "Z = 24.866+44.628j at 924.0 MHz",
          "Z = 24.176+47.626j at 928.0 MHz",
          "Z = 23.531+50.544j at 932.0 MHz",
          "Z = 22.927+53.389j at 936.0 MHz",
          "Z = 22.361+56.167j at 940.0 MHz",
          "Z = 21.828+58.882j at 944.0 MHz",
          "Z = 21.327+61.540j at 948.0 MHz",
          "Z = 20.855+64.145j at 952.0 MHz",
          "Z = 20.410+66.701j at 956.0 MHz",
          "Z = 19.990+69.212j at 960.0 MHz",
          "Z = 19.593+71.681j at 964.0 MHz",
          "Z = 19.217+74.113j at 968.0 MHz",
          "Z = 18.861+76.510j at 972.0 MHz",
          "Z = 18.523+78.875j at 976.0 MHz",
          "Z = 18.203+81.211j at 980.0 MHz",
          "Z = 17.898+83.520j at 984.0 MHz",
          "Z = 17.608+85.806j at 988.0 MHz",
          "Z = 17.333+88.069j at 992.0 MHz",
          "Z = 17.070+90.314j at 996.0 MHz",
          "Z = 16.820+92.541j at 1000.0 MHz"
         ],
         "type": "scattersmith"
        },
        {
         "hoverinfo": "text",
         "imag": [
          -0.22203535898883153
         ],
         "marker": {
          "color": "red",
          "size": 10,
          "symbol": "circle"
         },
         "mode": "markers",
         "name": "Impedance at fC=868.0 MHz",
         "real": [
          0.8631267154470459
         ],
         "text": [
          "Z = 43.156-11.102j at 868.0 MHz"
         ],
         "type": "scattersmith"
        }
       ],
       "layout": {
        "height": 618,
        "showlegend": true,
        "template": {
         "data": {
          "bar": [
           {
            "error_x": {
             "color": "#2a3f5f"
            },
            "error_y": {
             "color": "#2a3f5f"
            },
            "marker": {
             "line": {
              "color": "#E5ECF6",
              "width": 0.5
             },
             "pattern": {
              "fillmode": "overlay",
              "size": 10,
              "solidity": 0.2
             }
            },
            "type": "bar"
           }
          ],
          "barpolar": [
           {
            "marker": {
             "line": {
              "color": "#E5ECF6",
              "width": 0.5
             },
             "pattern": {
              "fillmode": "overlay",
              "size": 10,
              "solidity": 0.2
             }
            },
            "type": "barpolar"
           }
          ],
          "carpet": [
           {
            "aaxis": {
             "endlinecolor": "#2a3f5f",
             "gridcolor": "white",
             "linecolor": "white",
             "minorgridcolor": "white",
             "startlinecolor": "#2a3f5f"
            },
            "baxis": {
             "endlinecolor": "#2a3f5f",
             "gridcolor": "white",
             "linecolor": "white",
             "minorgridcolor": "white",
             "startlinecolor": "#2a3f5f"
            },
            "type": "carpet"
           }
          ],
          "choropleth": [
           {
            "colorbar": {
             "outlinewidth": 0,
             "ticks": ""
            },
            "type": "choropleth"
           }
          ],
          "contour": [
           {
            "colorbar": {
             "outlinewidth": 0,
             "ticks": ""
            },
            "colorscale": [
             [
              0,
              "#0d0887"
             ],
             [
              0.1111111111111111,
              "#46039f"
             ],
             [
              0.2222222222222222,
              "#7201a8"
             ],
             [
              0.3333333333333333,
              "#9c179e"
             ],
             [
              0.4444444444444444,
              "#bd3786"
             ],
             [
              0.5555555555555556,
              "#d8576b"
             ],
             [
              0.6666666666666666,
              "#ed7953"
             ],
             [
              0.7777777777777778,
              "#fb9f3a"
             ],
             [
              0.8888888888888888,
              "#fdca26"
             ],
             [
              1,
              "#f0f921"
             ]
            ],
            "type": "contour"
           }
          ],
          "contourcarpet": [
           {
            "colorbar": {
             "outlinewidth": 0,
             "ticks": ""
            },
            "type": "contourcarpet"
           }
          ],
          "heatmap": [
           {
            "colorbar": {
             "outlinewidth": 0,
             "ticks": ""
            },
            "colorscale": [
             [
              0,
              "#0d0887"
             ],
             [
              0.1111111111111111,
              "#46039f"
             ],
             [
              0.2222222222222222,
              "#7201a8"
             ],
             [
              0.3333333333333333,
              "#9c179e"
             ],
             [
              0.4444444444444444,
              "#bd3786"
             ],
             [
              0.5555555555555556,
              "#d8576b"
             ],
             [
              0.6666666666666666,
              "#ed7953"
             ],
             [
              0.7777777777777778,
              "#fb9f3a"
             ],
             [
              0.8888888888888888,
              "#fdca26"
             ],
             [
              1,
              "#f0f921"
             ]
            ],
            "type": "heatmap"
           }
          ],
          "histogram": [
           {
            "marker": {
             "pattern": {
              "fillmode": "overlay",
              "size": 10,
              "solidity": 0.2
             }
            },
            "type": "histogram"
           }
          ],
          "histogram2d": [
           {
            "colorbar": {
             "outlinewidth": 0,
             "ticks": ""
            },
            "colorscale": [
             [
              0,
              "#0d0887"
             ],
             [
              0.1111111111111111,
              "#46039f"
             ],
             [
              0.2222222222222222,
              "#7201a8"
             ],
             [
              0.3333333333333333,
              "#9c179e"
             ],
             [
              0.4444444444444444,
              "#bd3786"
             ],
             [
              0.5555555555555556,
              "#d8576b"
             ],
             [
              0.6666666666666666,
              "#ed7953"
             ],
             [
              0.7777777777777778,
              "#fb9f3a"
             ],
             [
              0.8888888888888888,
              "#fdca26"
             ],
             [
              1,
              "#f0f921"
             ]
            ],
            "type": "histogram2d"
           }
          ],
          "histogram2dcontour": [
           {
            "colorbar": {
             "outlinewidth": 0,
             "ticks": ""
            },
            "colorscale": [
             [
              0,
              "#0d0887"
             ],
             [
              0.1111111111111111,
              "#46039f"
             ],
             [
              0.2222222222222222,
              "#7201a8"
             ],
             [
              0.3333333333333333,
              "#9c179e"
             ],
             [
              0.4444444444444444,
              "#bd3786"
             ],
             [
              0.5555555555555556,
              "#d8576b"
             ],
             [
              0.6666666666666666,
              "#ed7953"
             ],
             [
              0.7777777777777778,
              "#fb9f3a"
             ],
             [
              0.8888888888888888,
              "#fdca26"
             ],
             [
              1,
              "#f0f921"
             ]
            ],
            "type": "histogram2dcontour"
           }
          ],
          "mesh3d": [
           {
            "colorbar": {
             "outlinewidth": 0,
             "ticks": ""
            },
            "type": "mesh3d"
           }
          ],
          "parcoords": [
           {
            "line": {
             "colorbar": {
              "outlinewidth": 0,
              "ticks": ""
             }
            },
            "type": "parcoords"
           }
          ],
          "pie": [
           {
            "automargin": true,
            "type": "pie"
           }
          ],
          "scatter": [
           {
            "fillpattern": {
             "fillmode": "overlay",
             "size": 10,
             "solidity": 0.2
            },
            "type": "scatter"
           }
          ],
          "scatter3d": [
           {
            "line": {
             "colorbar": {
              "outlinewidth": 0,
              "ticks": ""
             }
            },
            "marker": {
             "colorbar": {
              "outlinewidth": 0,
              "ticks": ""
             }
            },
            "type": "scatter3d"
           }
          ],
          "scattercarpet": [
           {
            "marker": {
             "colorbar": {
              "outlinewidth": 0,
              "ticks": ""
             }
            },
            "type": "scattercarpet"
           }
          ],
          "scattergeo": [
           {
            "marker": {
             "colorbar": {
              "outlinewidth": 0,
              "ticks": ""
             }
            },
            "type": "scattergeo"
           }
          ],
          "scattergl": [
           {
            "marker": {
             "colorbar": {
              "outlinewidth": 0,
              "ticks": ""
             }
            },
            "type": "scattergl"
           }
          ],
          "scattermap": [
           {
            "marker": {
             "colorbar": {
              "outlinewidth": 0,
              "ticks": ""
             }
            },
            "type": "scattermap"
           }
          ],
          "scattermapbox": [
           {
            "marker": {
             "colorbar": {
              "outlinewidth": 0,
              "ticks": ""
             }
            },
            "type": "scattermapbox"
           }
          ],
          "scatterpolar": [
           {
            "marker": {
             "colorbar": {
              "outlinewidth": 0,
              "ticks": ""
             }
            },
            "type": "scatterpolar"
           }
          ],
          "scatterpolargl": [
           {
            "marker": {
             "colorbar": {
              "outlinewidth": 0,
              "ticks": ""
             }
            },
            "type": "scatterpolargl"
           }
          ],
          "scatterternary": [
           {
            "marker": {
             "colorbar": {
              "outlinewidth": 0,
              "ticks": ""
             }
            },
            "type": "scatterternary"
           }
          ],
          "surface": [
           {
            "colorbar": {
             "outlinewidth": 0,
             "ticks": ""
            },
            "colorscale": [
             [
              0,
              "#0d0887"
             ],
             [
              0.1111111111111111,
              "#46039f"
             ],
             [
              0.2222222222222222,
              "#7201a8"
             ],
             [
              0.3333333333333333,
              "#9c179e"
             ],
             [
              0.4444444444444444,
              "#bd3786"
             ],
             [
              0.5555555555555556,
              "#d8576b"
             ],
             [
              0.6666666666666666,
              "#ed7953"
             ],
             [
              0.7777777777777778,
              "#fb9f3a"
             ],
             [
              0.8888888888888888,
              "#fdca26"
             ],
             [
              1,
              "#f0f921"
             ]
            ],
            "type": "surface"
           }
          ],
          "table": [
           {
            "cells": {
             "fill": {
              "color": "#EBF0F8"
             },
             "line": {
              "color": "white"
             }
            },
            "header": {
             "fill": {
              "color": "#C8D4E3"
             },
             "line": {
              "color": "white"
             }
            },
            "type": "table"
           }
          ]
         },
         "layout": {
          "annotationdefaults": {
           "arrowcolor": "#2a3f5f",
           "arrowhead": 0,
           "arrowwidth": 1
          },
          "autotypenumbers": "strict",
          "coloraxis": {
           "colorbar": {
            "outlinewidth": 0,
            "ticks": ""
           }
          },
          "colorscale": {
           "diverging": [
            [
             0,
             "#8e0152"
            ],
            [
             0.1,
             "#c51b7d"
            ],
            [
             0.2,
             "#de77ae"
            ],
            [
             0.3,
             "#f1b6da"
            ],
            [
             0.4,
             "#fde0ef"
            ],
            [
             0.5,
             "#f7f7f7"
            ],
            [
             0.6,
             "#e6f5d0"
            ],
            [
             0.7,
             "#b8e186"
            ],
            [
             0.8,
             "#7fbc41"
            ],
            [
             0.9,
             "#4d9221"
            ],
            [
             1,
             "#276419"
            ]
           ],
           "sequential": [
            [
             0,
             "#0d0887"
            ],
            [
             0.1111111111111111,
             "#46039f"
            ],
            [
             0.2222222222222222,
             "#7201a8"
            ],
            [
             0.3333333333333333,
             "#9c179e"
            ],
            [
             0.4444444444444444,
             "#bd3786"
            ],
            [
             0.5555555555555556,
             "#d8576b"
            ],
            [
             0.6666666666666666,
             "#ed7953"
            ],
            [
             0.7777777777777778,
             "#fb9f3a"
            ],
            [
             0.8888888888888888,
             "#fdca26"
            ],
            [
             1,
             "#f0f921"
            ]
           ],
           "sequentialminus": [
            [
             0,
             "#0d0887"
            ],
            [
             0.1111111111111111,
             "#46039f"
            ],
            [
             0.2222222222222222,
             "#7201a8"
            ],
            [
             0.3333333333333333,
             "#9c179e"
            ],
            [
             0.4444444444444444,
             "#bd3786"
            ],
            [
             0.5555555555555556,
             "#d8576b"
            ],
            [
             0.6666666666666666,
             "#ed7953"
            ],
            [
             0.7777777777777778,
             "#fb9f3a"
            ],
            [
             0.8888888888888888,
             "#fdca26"
            ],
            [
             1,
             "#f0f921"
            ]
           ]
          },
          "colorway": [
           "#636efa",
           "#EF553B",
           "#00cc96",
           "#ab63fa",
           "#FFA15A",
           "#19d3f3",
           "#FF6692",
           "#B6E880",
           "#FF97FF",
           "#FECB52"
          ],
          "font": {
           "color": "#2a3f5f"
          },
          "geo": {
           "bgcolor": "white",
           "lakecolor": "white",
           "landcolor": "#E5ECF6",
           "showlakes": true,
           "showland": true,
           "subunitcolor": "white"
          },
          "hoverlabel": {
           "align": "left"
          },
          "hovermode": "closest",
          "mapbox": {
           "style": "light"
          },
          "paper_bgcolor": "white",
          "plot_bgcolor": "#E5ECF6",
          "polar": {
           "angularaxis": {
            "gridcolor": "white",
            "linecolor": "white",
            "ticks": ""
           },
           "bgcolor": "#E5ECF6",
           "radialaxis": {
            "gridcolor": "white",
            "linecolor": "white",
            "ticks": ""
           }
          },
          "scene": {
           "xaxis": {
            "backgroundcolor": "#E5ECF6",
            "gridcolor": "white",
            "gridwidth": 2,
            "linecolor": "white",
            "showbackground": true,
            "ticks": "",
            "zerolinecolor": "white"
           },
           "yaxis": {
            "backgroundcolor": "#E5ECF6",
            "gridcolor": "white",
            "gridwidth": 2,
            "linecolor": "white",
            "showbackground": true,
            "ticks": "",
            "zerolinecolor": "white"
           },
           "zaxis": {
            "backgroundcolor": "#E5ECF6",
            "gridcolor": "white",
            "gridwidth": 2,
            "linecolor": "white",
            "showbackground": true,
            "ticks": "",
            "zerolinecolor": "white"
           }
          },
          "shapedefaults": {
           "line": {
            "color": "#2a3f5f"
           }
          },
          "ternary": {
           "aaxis": {
            "gridcolor": "white",
            "linecolor": "white",
            "ticks": ""
           },
           "baxis": {
            "gridcolor": "white",
            "linecolor": "white",
            "ticks": ""
           },
           "bgcolor": "#E5ECF6",
           "caxis": {
            "gridcolor": "white",
            "linecolor": "white",
            "ticks": ""
           }
          },
          "title": {
           "x": 0.05
          },
          "xaxis": {
           "automargin": true,
           "gridcolor": "white",
           "linecolor": "white",
           "ticks": "",
           "title": {
            "standoff": 15
           },
           "zerolinecolor": "white",
           "zerolinewidth": 2
          },
          "yaxis": {
           "automargin": true,
           "gridcolor": "white",
           "linecolor": "white",
           "ticks": "",
           "title": {
            "standoff": 15
           },
           "zerolinecolor": "white",
           "zerolinewidth": 2
          }
         }
        },
        "title": {
         "text": ""
        },
        "width": 1000
       }
      }
     },
     "metadata": {},
     "output_type": "display_data"
    },
    {
     "name": "stdout",
     "output_type": "stream",
     "text": [
      "\n",
      "Image sauvegardée au format PDF (fond transparent, marges minimales) : data/fig_image/ifa_M_opti3_Smith_chart.pdf\n",
      "\n",
      "\n",
      "📡 Résultats de simulation :\n",
      "→ Fréquence de résonance = 872.00 MHz\n",
      "→ Impédance à f_res      = 40.95-5.84j Ω\n"
     ]
    },
    {
     "data": {
      "image/png": "[encoded data removed]",
      "text/plain": [
       "<Figure size 700x432.624 with 1 Axes>"
      ]
     },
     "metadata": {},
     "output_type": "display_data"
    },
    {
     "name": "stdout",
     "output_type": "stream",
     "text": [
      "\n",
      "Ratio = 1.0046082949308757\n",
      "\n",
      "\n",
      "Required Accuracy is met!\n",
      "Temps de simulation : 0 minutes et 12.02 secondes\n",
      "Convergence atteinte à l'itération 2\n"
     ]
    }
   ],
   "source": [
    "import time\n",
    "start_time = time.time()\n",
    "iteration = 1\n",
    "max_iter = 20\n",
    "Accuracy = 0.01\n",
    "converged = False\n",
    "count = 0\n",
    "while iteration <= max_iter and not converged:\n",
    "    try:\n",
    "        print(f\"\\n------------------------------------------------------Iteration N°{iteration}------------------------------------------------------\\n\")\n",
    "        print(f\"distance meandres = {distance_meandre * 1000:.3f} mm\\n\")\n",
    "        \n",
    "        N_list_elem, new_distance_meandre_elem = creation_ifa(a, b, largeur_piste, distance_meandre, feed, x_t, y_t, save_mesh_folder, mesh_name, mesh_size)\n",
    "        print(f\"Number of meanders = {N_list_elem}\\n\")\n",
    "\n",
    "        print(f\"New distance meandres = {new_distance_meandre_elem * 1000:.3f} mm\")\n",
    "        print(f\"IFA track width = {largeur_piste * 1000:.3f} mm\")\n",
    "        print(f\"position feed = {feed * 1000:.3f} mm\\n\")\n",
    "\n",
    "        frequence_resonance, s11_db, R_res, X_res = simulate(frequencies, ifa_meander_mat, fC, feed_point)\n",
    "        plot_s11_curve(fLow, fHigh, nPoints, s11_db, fC)\n",
    "\n",
    "        ratio = frequence_resonance / fC\n",
    "        print(f\"\\nRatio = {ratio}\\n\")\n",
    "        # distance_meandre = distance_meandre / ratio\n",
    "\n",
    "        if (abs((fC - frequence_resonance)/fC) < Accuracy):\n",
    "            min_index = np.argmin(s11_db)\n",
    "            min_s11 = s11_db[min_index]\n",
    "            s11_fc = s11_db[fc_index]\n",
    "            if s11_fc < -10 or min_s11 < -20:\n",
    "                converged = True\n",
    "                print(\"\\nRequired Accuracy is met!\")\n",
    "                break\n",
    "            else:\n",
    "                print(\"\\nWe're looking for the perfect match!!!\")\n",
    "\n",
    "                if ratio == 1:\n",
    "                    print(\"Ratio == 1 we modify the feed because we don't have a good fit\")\n",
    "                    ratio_adapt_feed = math.sqrt(R_res / 50)\n",
    "                    feed = max(min(feed / ratio_adapt_feed, b - 3 * largeur_piste / 2 - 0.5 / 1000), largeur_piste / 2)\n",
    "                else:\n",
    "                    adapt_with_ratio_cube(distance_meandre, largeur_piste, ratio)             # New Addd ---- delete maybe\n",
    "\n",
    "                    feed = max(min(feed * ratio**2, b - 3 * largeur_piste / 2 - 0.5 / 1000), largeur_piste / 2)\n",
    "\n",
    "                    print(f\"\\nresultat feed = {feed * 1000:.3f} mm\")\n",
    "\n",
    "                if feed == b - 3 * largeur_piste / 2 - 0.5 / 1000 or feed == largeur_piste / 2:\n",
    "                    distance_meandre, largeur_piste = adapt_with_ratio_square(distance_meandre, largeur_piste, ratio)\n",
    "\n",
    "                feed_point       = [0, feed, 0]\n",
    "\n",
    "        elif abs(frequence_resonance - fC) < 0.02 * fC:\n",
    "            print(f\"\\nWe are within 2% of fc!\\n\")\n",
    "            count += 1\n",
    "            feed = max(min(feed * ratio**2, b - 3 * largeur_piste / 2 - 0.5 / 1000), largeur_piste / 2)\n",
    "\n",
    "            if feed == b - 3 * largeur_piste / 2 - 0.5 / 1000 or feed == largeur_piste / 2:\n",
    "                print(\"\\nExtreme edge reached\\n\")\n",
    "                distance_meandre, largeur_piste = adapt_with_ratio_square(distance_meandre, largeur_piste, ratio)\n",
    "            \n",
    "            feed_point       = [0, feed, 0]\n",
    "        else:\n",
    "            print(f\"\\nWe are FAR of fc!\\n\")\n",
    "            distance_meandre, largeur_piste = adapt_with_ratio_square(distance_meandre, largeur_piste, ratio)\n",
    "\n",
    "            \"\"\" # New Add    ---- delete maybe\n",
    "\n",
    "            feed = max(min(feed * ratio**3, b - 3 * largeur_piste / 2 - 0.5 / 1000), largeur_piste / 2)\n",
    "\n",
    "            if feed == b - 3 * largeur_piste / 2 - 0.5 / 1000 or feed == largeur_piste / 2:\n",
    "                print(\"\\nExtreme edge reached\\n\")\n",
    "                distance_meandre, largeur_piste = adapt_with_ratio_square(distance_meandre, largeur_piste, ratio)\n",
    "\n",
    "            # New Add   ---- delete maybe\n",
    "            \n",
    "            feed_point       = [0, feed, 0] \"\"\"\n",
    "\n",
    "        iteration += 1\n",
    "    except ValueError as e:\n",
    "        print(f\"Error: {e}\")\n",
    "\n",
    "end_time = time.time()\n",
    "simulation_time = end_time - start_time\n",
    "simulation_time_minutes = simulation_time / 60\n",
    "simulation_time_seconds = simulation_time % 60\n",
    "print(f\"Simulation time : {simulation_time_minutes:.0f} minutes et {simulation_time_seconds:.2f} seconds\")\n",
    "if converged:\n",
    "    print(f\"Convergence reached at iteration {iteration}\")\n",
    "else:\n",
    "    print(f\"Convergence not achieved after {max_iter} itérations\")"
   ]
  }
 ],
 "metadata": {
  "kernelspec": {
   "display_name": "antenna_solver",
   "language": "python",
   "name": "python3"
  },
  "language_info": {
   "codemirror_mode": {
    "name": "ipython",
    "version": 3
   },
   "file_extension": ".py",
   "mimetype": "text/x-python",
   "name": "python",
   "nbconvert_exporter": "python",
   "pygments_lexer": "ipython3",
   "version": "3.12.9"
  }
 },
 "nbformat": 4,
 "nbformat_minor": 5
}
