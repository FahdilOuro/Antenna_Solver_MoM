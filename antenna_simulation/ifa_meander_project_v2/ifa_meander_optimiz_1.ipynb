{
 "cells": [
  {
   "cell_type": "code",
   "execution_count": 1,
   "id": "250c2240",
   "metadata": {},
   "outputs": [],
   "source": [
    "from utils.ifa_meander_project_v2.geometry import *\n",
    "from utils.ifa_meander_project_v2.meshing import *\n",
    "from utils.ifa_meander_project_v2.frequency import *\n",
    "from utils.ifa_meander_project_v2.simulation import *"
   ]
  },
  {
   "cell_type": "markdown",
   "id": "a77e64d0",
   "metadata": {},
   "source": [
    "fC      = 868e6  # fréquence centrale en Hz\n",
    "delta_f = 4e6  # écart entre les échantillons en Hz\n",
    "print(f\"delta_f = {delta_f/1e6:.2f} MHz\")\n",
    "nPoints = 31     # nombre d'échantillons\n",
    "\n",
    "fLow, fHigh, frequencies = calc_frequencies(fC, delta_f, nPoints)\n",
    "print(f\"fLow = {fLow/1e6:.2f} MHz, fHigh = {fHigh/1e6:.2f} MHz, nPoints = {nPoints}\")"
   ]
  },
  {
   "cell_type": "code",
   "execution_count": 2,
   "id": "9d7a85b2",
   "metadata": {},
   "outputs": [
    {
     "name": "stdout",
     "output_type": "stream",
     "text": [
      "Nombre de fréquences (nPoints) : 76\n",
      "Index de fC : 42\n"
     ]
    }
   ],
   "source": [
    "\"\"\" fC      = 868e6\n",
    "fLow    = 700e6\n",
    "fHigh   = 1000e6\n",
    "\n",
    "nPoints = calculate_nPoints(fLow, fHigh, fC, 80)\n",
    "accuracy= 0.01\n",
    "print(f\"nPoints = {nPoints}\")\n",
    "frequencies = np.linspace(fLow, fHigh, nPoints)\n",
    "fc_index = np.where(frequencies == fC)[0][0]\n",
    "print(f\"fc_index = {fc_index}\") \"\"\"\n",
    "\n",
    "fLow = 700e6\n",
    "fHigh = 1000e6\n",
    "fC = 868e6\n",
    "step = 4e6\n",
    "\n",
    "frequencies, fc_index, nPoints = generate_frequencies(fLow, fHigh, fC, step)\n",
    "\n",
    "print(f\"Nombre de fréquences (nPoints) : {nPoints}\")\n",
    "print(f\"Index de fC : {fc_index}\")\n",
    "\n"
   ]
  },
  {
   "cell_type": "code",
   "execution_count": 3,
   "id": "044e5d0e",
   "metadata": {},
   "outputs": [],
   "source": [
    "mesh_name = \"ifa_meander.msh\"\n",
    "save_mesh_folder = 'data/gmsh_files/'\n",
    "ifa_meander_mat = 'data/antennas_mesh/ifa_meander.mat'\n",
    "ifa_meander_msh = save_mesh_folder + mesh_name"
   ]
  },
  {
   "cell_type": "code",
   "execution_count": 4,
   "id": "f8c7117d",
   "metadata": {},
   "outputs": [
    {
     "name": "stdout",
     "output_type": "stream",
     "text": [
      "largeur_piste = 5.00 mm\n",
      "distance_meandre = 5.00 mm\n",
      "feed = 22.50 mm\n",
      "mesh_size = 20.00\n"
     ]
    }
   ],
   "source": [
    "a = 25 / 1000  # Largeur\n",
    "b = 45 / 1000  # Hauteur\n",
    "\n",
    "terminal_a = 55 / 1000\n",
    "terminal_b = b\n",
    "x_t = np.array([-terminal_a, 0, 0, -terminal_a])\n",
    "y_t = np.array([terminal_b, terminal_b, 0, 0])\n",
    "\n",
    "# On fixe le short feed et la largur de piste\n",
    "largeur_piste    = a / 5          # Valeur Minimale    \n",
    "distance_meandre = a / 5          # Valeur choisie en fonction du resulat de analyse_dist_meandre.ipynb\n",
    "# feed             = 0.5 * b          # Valuer Positionné a la moitié du ground plane -- 25 mm\n",
    "# feed             = (1/3) * b + (1/3) * a\n",
    "# feed               = (-1/14) * b + (8/7) * a             # Best so far\n",
    "# feed = b - 3 * largeur_piste / 2 - 1 / 1000\n",
    "feed = 0.5 * b\n",
    "# feed = largeur_piste / 2\n",
    "feed_point       = [0, feed, 0]      # On alimente au short feed\n",
    "mesh_size = 4 * largeur_piste\n",
    "\n",
    "# Affichage des valeurs\n",
    "print(f\"largeur_piste = {largeur_piste * 1000:.2f} mm\")\n",
    "print(f\"distance_meandre = {distance_meandre * 1000:.2f} mm\")\n",
    "print(f\"feed = {feed * 1000:.2f} mm\")\n",
    "print(f\"mesh_size = {mesh_size * 1000:.2f}\")"
   ]
  },
  {
   "cell_type": "code",
   "execution_count": 5,
   "id": "e2d2f72c",
   "metadata": {},
   "outputs": [],
   "source": [
    "def creation_ifa(largeur, hauteur, width, dist_meandre, feed, x_t, y_t, save_mesh_folder, mesh_name, mesh_size):\n",
    "    x, y, N, distance_meandre = ifa_creation(largeur, hauteur, width, dist_meandre)\n",
    "    x_m, y_m = trace_meander(x, y, width)\n",
    "    feed_wid = width # La largeur de la piste est la meme partout\n",
    "    feed_x = np.array([0, distance_meandre, distance_meandre, 0])\n",
    "    feed_y = np.array([feed + feed_wid/2, feed + feed_wid/2, feed -feed_wid/2, feed - feed_wid/2])\n",
    "    antenna_ifa_meander(x_m, y_m, x_t, y_t, feed_x, feed_y, save_mesh_folder, mesh_name, mesh_size)\n",
    "    extract_msh_to_mat(ifa_meander_msh, ifa_meander_mat)\n",
    "    return N, distance_meandre\n",
    "\n",
    "def plot_s11_curve(fLow, fHigh, nPoints, s11_db, fC=None):\n",
    "    from matplotlib import pyplot as plt\n",
    "    frequencies = np.linspace(fLow, fHigh, nPoints)\n",
    "    frequencies_mhz = np.array(frequencies) / 1e6\n",
    "    s11_db = np.array(s11_db)\n",
    "\n",
    "    # Trouver le minimum de S11\n",
    "    min_index = np.argmin(s11_db)\n",
    "    f_resonance = frequencies[min_index] / 1e6\n",
    "    s11_min = s11_db[min_index]\n",
    "\n",
    "    # Tracé\n",
    "    fig_size = 7\n",
    "    Fibonacci = (1 + np.sqrt(5)) / 2\n",
    "    plt.figure(figsize=(fig_size, fig_size / Fibonacci))\n",
    "    plt.plot(frequencies_mhz, s11_db, label=\"S11 (dB)\", color='blue')\n",
    "    plt.plot(f_resonance, s11_min, 'ro', \n",
    "            label=f\"Résonance: {f_resonance:.2f} MHz (S11={s11_min:.2f} dB)\")\n",
    "    \n",
    "    if fC:\n",
    "        fC_mhz = fC / 1e6\n",
    "        idx_fc = np.argmin(np.abs(frequencies - fC))\n",
    "        s11_fc = s11_db[idx_fc]\n",
    "        plt.axvline(fC_mhz, color='green', linestyle='--', \n",
    "                   label=f\"fC = {fC_mhz:.2f} MHz (S11={s11_fc:.2f} dB)\")\n",
    "\n",
    "    plt.xlabel(\"Fréquence (MHz)\")\n",
    "    plt.ylabel(\"S11 (dB)\")\n",
    "    plt.title(\"Courbe de S11 vs Fréquence\")\n",
    "    plt.grid(True)\n",
    "    plt.legend()\n",
    "    plt.tight_layout()\n",
    "    plt.show()\n",
    "\n",
    "def adapt_with_ratio_square(distance_meandre, largeur_piste, ratio):\n",
    "    return distance_meandre / (ratio**2), largeur_piste / (ratio**2)\n",
    "\n",
    "def adapt_with_ratio_cube(distance_meandre, largeur_piste, ratio):\n",
    "    return distance_meandre / (ratio**3), largeur_piste / (ratio**3)"
   ]
  },
  {
   "cell_type": "code",
   "execution_count": 6,
   "id": "80127129",
   "metadata": {},
   "outputs": [
    {
     "name": "stdout",
     "output_type": "stream",
     "text": [
      "\n",
      "------------------------------------------------------Iteration N°1------------------------------------------------------\n",
      "\n",
      "distance meandres = 5.000 mm\n",
      "\n",
      "Number of meanders = 2\n",
      "\n",
      "New distance meandres = 7.500 mm\n",
      "Largeur de piste ifa = 5.000 mm\n",
      "position feed = 22.500 mm\n",
      "\n",
      "Simulation 1/76 | f = 700.00 MHz | S11 = -0.15 dB\n",
      "Simulation 2/76 | f = 704.00 MHz | S11 = -0.15 dB\n",
      "Simulation 3/76 | f = 708.00 MHz | S11 = -0.16 dB\n",
      "Simulation 4/76 | f = 712.00 MHz | S11 = -0.17 dB\n",
      "Simulation 5/76 | f = 716.00 MHz | S11 = -0.17 dB\n",
      "Simulation 6/76 | f = 720.00 MHz | S11 = -0.18 dB\n",
      "Simulation 7/76 | f = 724.00 MHz | S11 = -0.19 dB\n",
      "Simulation 8/76 | f = 728.00 MHz | S11 = -0.20 dB\n",
      "Simulation 9/76 | f = 732.00 MHz | S11 = -0.20 dB\n",
      "Simulation 10/76 | f = 736.00 MHz | S11 = -0.21 dB\n",
      "Simulation 11/76 | f = 740.00 MHz | S11 = -0.22 dB\n",
      "Simulation 12/76 | f = 744.00 MHz | S11 = -0.23 dB\n",
      "Simulation 13/76 | f = 748.00 MHz | S11 = -0.24 dB\n",
      "Simulation 14/76 | f = 752.00 MHz | S11 = -0.25 dB\n",
      "Simulation 15/76 | f = 756.00 MHz | S11 = -0.26 dB\n",
      "Simulation 16/76 | f = 760.00 MHz | S11 = -0.27 dB\n",
      "Simulation 17/76 | f = 764.00 MHz | S11 = -0.28 dB\n",
      "Simulation 18/76 | f = 768.00 MHz | S11 = -0.29 dB\n",
      "Simulation 19/76 | f = 772.00 MHz | S11 = -0.30 dB\n",
      "Simulation 20/76 | f = 776.00 MHz | S11 = -0.31 dB\n",
      "Simulation 21/76 | f = 780.00 MHz | S11 = -0.33 dB\n",
      "Simulation 22/76 | f = 784.00 MHz | S11 = -0.34 dB\n",
      "Simulation 23/76 | f = 788.00 MHz | S11 = -0.36 dB\n",
      "Simulation 24/76 | f = 792.00 MHz | S11 = -0.37 dB\n",
      "Simulation 25/76 | f = 796.00 MHz | S11 = -0.39 dB\n",
      "Simulation 26/76 | f = 800.00 MHz | S11 = -0.40 dB\n",
      "Simulation 27/76 | f = 804.00 MHz | S11 = -0.42 dB\n",
      "Simulation 28/76 | f = 808.00 MHz | S11 = -0.44 dB\n",
      "Simulation 29/76 | f = 812.00 MHz | S11 = -0.46 dB\n",
      "Simulation 30/76 | f = 816.00 MHz | S11 = -0.48 dB\n",
      "Simulation 31/76 | f = 820.00 MHz | S11 = -0.50 dB\n",
      "Simulation 32/76 | f = 824.00 MHz | S11 = -0.52 dB\n",
      "Simulation 33/76 | f = 828.00 MHz | S11 = -0.54 dB\n",
      "Simulation 34/76 | f = 832.00 MHz | S11 = -0.57 dB\n",
      "Simulation 35/76 | f = 836.00 MHz | S11 = -0.59 dB\n",
      "Simulation 36/76 | f = 840.00 MHz | S11 = -0.62 dB\n",
      "Simulation 37/76 | f = 844.00 MHz | S11 = -0.65 dB\n",
      "Simulation 38/76 | f = 848.00 MHz | S11 = -0.67 dB\n",
      "Simulation 39/76 | f = 852.00 MHz | S11 = -0.71 dB\n",
      "Simulation 40/76 | f = 856.00 MHz | S11 = -0.74 dB\n",
      "Simulation 41/76 | f = 860.00 MHz | S11 = -0.77 dB\n",
      "Simulation 42/76 | f = 864.00 MHz | S11 = -0.81 dB\n"
     ]
    },
    {
     "data": {
      "application/vnd.plotly.v1+json": {
       "config": {
        "plotlyServerURL": "https://plot.ly"
       },
       "data": [
        {
         "facecolor": [
          "rgb(0, 9, 221)",
          "rgb(0, 24, 252)",
          "rgb(0, 16, 235)",
          "rgb(0, 17, 238)",
          "rgb(11, 0, 192)",
          "rgb(132, 0, 103)",
          "rgb(255, 16, 0)",
          "rgb(98, 255, 75)",
          "rgb(163, 253, 0)",
          "rgb(100, 0, 127)",
          "rgb(0, 74, 255)",
          "rgb(255, 19, 0)",
          "rgb(91, 0, 133)",
          "rgb(255, 9, 0)",
          "rgb(136, 0, 100)",
          "rgb(6, 167, 240)",
          "rgb(38, 241, 165)",
          "rgb(255, 228, 0)",
          "rgb(113, 0, 117)",
          "rgb(255, 0, 0)",
          "rgb(199, 245, 0)",
          "rgb(121, 0, 112)",
          "rgb(0, 18, 240)",
          "rgb(46, 0, 167)",
          "rgb(247, 236, 0)",
          "rgb(255, 15, 0)",
          "rgb(96, 0, 130)",
          "rgb(127, 0, 107)",
          "rgb(89, 0, 134)",
          "rgb(7, 0, 195)",
          "rgb(101, 0, 126)",
          "rgb(133, 0, 103)",
          "rgb(75, 0, 145)",
          "rgb(150, 0, 90)",
          "rgb(127, 0, 107)",
          "rgb(0, 67, 255)",
          "rgb(138, 0, 98)",
          "rgb(111, 0, 119)",
          "rgb(145, 0, 94)",
          "rgb(149, 0, 91)",
          "rgb(144, 0, 94)"
         ],
         "i": [
          2,
          27,
          22,
          27,
          28,
          29,
          14,
          12,
          9,
          10,
          22,
          15,
          30,
          14,
          29,
          23,
          23,
          2,
          32,
          20,
          8,
          28,
          1,
          28,
          28,
          26,
          33,
          27,
          16,
          27,
          17,
          30,
          30,
          18,
          32,
          15,
          19,
          24,
          31,
          19,
          32
         ],
         "j": [
          3,
          28,
          21,
          0,
          25,
          31,
          20,
          13,
          13,
          11,
          23,
          26,
          31,
          7,
          33,
          9,
          12,
          20,
          33,
          2,
          13,
          27,
          2,
          30,
          26,
          7,
          27,
          33,
          27,
          3,
          33,
          33,
          24,
          32,
          17,
          0,
          31,
          31,
          19,
          32,
          19
         ],
         "k": [
          0,
          0,
          10,
          3,
          26,
          30,
          1,
          9,
          8,
          22,
          21,
          14,
          24,
          20,
          32,
          21,
          9,
          8,
          17,
          1,
          2,
          30,
          0,
          25,
          15,
          14,
          16,
          30,
          5,
          5,
          16,
          29,
          25,
          6,
          6,
          28,
          29,
          4,
          4,
          18,
          29
         ],
         "name": "",
         "type": "mesh3d",
         "x": [
          0,
          0.007500000000000001,
          0.007500000000000001,
          0,
          -0.055,
          0,
          -0.055,
          0.0125,
          0.0125,
          0.02,
          0.02,
          0.025,
          0.025,
          0.0075,
          0.0075,
          0,
          -0.01833333333333337,
          -0.03666666666666673,
          -0.055,
          -0.055,
          0.0125,
          0.02,
          0.025,
          0.025,
          -0.03812499999999998,
          -0.02124999999999998,
          -0.004374999999999976,
          -0.01227301021851096,
          -0.01126953954256091,
          -0.03989680464677449,
          -0.02778550172072652,
          -0.04316146141580442,
          -0.04501436125581269,
          -0.02852269622143485
         ],
         "y": [
          0.025,
          0.025,
          0.02,
          0.02,
          0.045,
          0,
          0,
          0.045,
          0.004999999999999996,
          0.004999999999999996,
          0.045,
          0.045,
          -4.77048955893622e-18,
          -4.77048955893622e-18,
          0.03999999999999999,
          0.03999999999999999,
          0,
          0,
          0.015,
          0.03,
          0.025,
          0.02499999999999999,
          0.02999999999999999,
          0.01499999999999999,
          0.045,
          0.045,
          0.045,
          0.01779991248933746,
          0.03393174100442083,
          0.02499507551832958,
          0.03094787057944287,
          0.03518858922381468,
          0.01411914188975453,
          0.01471977582019757
         ],
         "z": [
          0,
          0,
          0,
          0,
          0,
          0,
          0,
          0,
          0,
          0,
          0,
          0,
          0,
          0,
          0,
          0,
          0,
          0,
          0,
          0,
          0,
          0,
          0,
          0,
          0,
          0,
          0,
          0,
          0,
          0,
          0,
          0,
          0,
          0
         ]
        },
        {
         "line": {
          "color": "rgb(50, 50, 50)",
          "width": 1.5
         },
         "mode": "lines",
         "showlegend": false,
         "type": "scatter3d",
         "x": [
          0.007500000000000001,
          0,
          0,
          0.007500000000000001,
          null,
          -0.01227301021851096,
          -0.01126953954256091,
          0,
          -0.01227301021851096,
          null,
          0.025,
          0.02,
          0.02,
          0.025,
          null,
          -0.01227301021851096,
          0,
          0,
          -0.01227301021851096,
          null,
          -0.01126953954256091,
          -0.02124999999999998,
          -0.004374999999999976,
          -0.01126953954256091,
          null,
          -0.03989680464677449,
          -0.04316146141580442,
          -0.02778550172072652,
          -0.03989680464677449,
          null,
          0.0075,
          0.0125,
          0.007500000000000001,
          0.0075,
          null,
          0.025,
          0.0075,
          0.02,
          0.025,
          null,
          0.02,
          0.0075,
          0.0125,
          0.02,
          null,
          0.02,
          0.025,
          0.025,
          0.02,
          null,
          0.025,
          0.025,
          0.02,
          0.025,
          null,
          0,
          -0.004374999999999976,
          0.0075,
          0,
          null,
          -0.02778550172072652,
          -0.04316146141580442,
          -0.03812499999999998,
          -0.02778550172072652,
          null,
          0.0075,
          0.0125,
          0.0125,
          0.0075,
          null,
          -0.03989680464677449,
          -0.02852269622143485,
          -0.04501436125581269,
          -0.03989680464677449,
          null,
          0.025,
          0.02,
          0.02,
          0.025,
          null,
          0.025,
          0.025,
          0.02,
          0.025,
          null,
          0.007500000000000001,
          0.0125,
          0.0125,
          0.007500000000000001,
          null,
          -0.04501436125581269,
          -0.02852269622143485,
          -0.03666666666666673,
          -0.04501436125581269,
          null,
          0.0125,
          0.007500000000000001,
          0.007500000000000001,
          0.0125,
          null,
          0.0125,
          0.0075,
          0.007500000000000001,
          0.0125,
          null,
          -0.01126953954256091,
          -0.01227301021851096,
          -0.02778550172072652,
          -0.01126953954256091,
          null,
          0.007500000000000001,
          0.007500000000000001,
          0,
          0.007500000000000001,
          null,
          -0.01126953954256091,
          -0.02778550172072652,
          -0.02124999999999998,
          -0.01126953954256091,
          null,
          -0.01126953954256091,
          -0.004374999999999976,
          0,
          -0.01126953954256091,
          null,
          -0.004374999999999976,
          0.0125,
          0.0075,
          -0.004374999999999976,
          null,
          -0.02852269622143485,
          -0.01227301021851096,
          -0.01833333333333337,
          -0.02852269622143485,
          null,
          -0.01227301021851096,
          -0.02852269622143485,
          -0.02778550172072652,
          -0.01227301021851096,
          null,
          -0.01833333333333337,
          -0.01227301021851096,
          0,
          -0.01833333333333337,
          null,
          -0.01227301021851096,
          0,
          0,
          -0.01227301021851096,
          null,
          -0.03666666666666673,
          -0.02852269622143485,
          -0.01833333333333337,
          -0.03666666666666673,
          null,
          -0.02778550172072652,
          -0.02852269622143485,
          -0.03989680464677449,
          -0.02778550172072652,
          null,
          -0.02778550172072652,
          -0.03812499999999998,
          -0.02124999999999998,
          -0.02778550172072652,
          null,
          -0.055,
          -0.04501436125581269,
          -0.055,
          -0.055,
          null,
          -0.04501436125581269,
          -0.03666666666666673,
          -0.055,
          -0.04501436125581269,
          null,
          0,
          0,
          -0.01126953954256091,
          0,
          null,
          -0.055,
          -0.04316146141580442,
          -0.03989680464677449,
          -0.055,
          null,
          -0.03812499999999998,
          -0.04316146141580442,
          -0.055,
          -0.03812499999999998,
          null,
          -0.04316146141580442,
          -0.055,
          -0.055,
          -0.04316146141580442,
          null,
          -0.055,
          -0.04501436125581269,
          -0.055,
          -0.055,
          null,
          -0.04501436125581269,
          -0.055,
          -0.03989680464677449,
          -0.04501436125581269,
          null
         ],
         "y": [
          0.02,
          0.02,
          0.025,
          0.02,
          null,
          0.01779991248933746,
          0.03393174100442083,
          0.025,
          0.01779991248933746,
          null,
          0.02999999999999999,
          0.02499999999999999,
          0.045,
          0.02999999999999999,
          null,
          0.01779991248933746,
          0.025,
          0.02,
          0.01779991248933746,
          null,
          0.03393174100442083,
          0.045,
          0.045,
          0.03393174100442083,
          null,
          0.02499507551832958,
          0.03518858922381468,
          0.03094787057944287,
          0.02499507551832958,
          null,
          0.03999999999999999,
          0.025,
          0.025,
          0.03999999999999999,
          null,
          -4.77048955893622e-18,
          -4.77048955893622e-18,
          0.004999999999999996,
          -4.77048955893622e-18,
          null,
          0.004999999999999996,
          -4.77048955893622e-18,
          0.004999999999999996,
          0.004999999999999996,
          null,
          0.045,
          0.045,
          0.02999999999999999,
          0.045,
          null,
          0.02999999999999999,
          0.01499999999999999,
          0.02499999999999999,
          0.02999999999999999,
          null,
          0.03999999999999999,
          0.045,
          0.03999999999999999,
          0.03999999999999999,
          null,
          0.03094787057944287,
          0.03518858922381468,
          0.045,
          0.03094787057944287,
          null,
          0.03999999999999999,
          0.045,
          0.025,
          0.03999999999999999,
          null,
          0.02499507551832958,
          0.01471977582019757,
          0.01411914188975453,
          0.02499507551832958,
          null,
          0.01499999999999999,
          0.004999999999999996,
          0.02499999999999999,
          0.01499999999999999,
          null,
          0.01499999999999999,
          -4.77048955893622e-18,
          0.004999999999999996,
          0.01499999999999999,
          null,
          0.02,
          0.025,
          0.004999999999999996,
          0.02,
          null,
          0.01411914188975453,
          0.01471977582019757,
          0,
          0.01411914188975453,
          null,
          0.025,
          0.02,
          0.025,
          0.025,
          null,
          0.004999999999999996,
          -4.77048955893622e-18,
          0.02,
          0.004999999999999996,
          null,
          0.03393174100442083,
          0.01779991248933746,
          0.03094787057944287,
          0.03393174100442083,
          null,
          0.025,
          0.02,
          0.025,
          0.025,
          null,
          0.03393174100442083,
          0.03094787057944287,
          0.045,
          0.03393174100442083,
          null,
          0.03393174100442083,
          0.045,
          0.03999999999999999,
          0.03393174100442083,
          null,
          0.045,
          0.045,
          0.03999999999999999,
          0.045,
          null,
          0.01471977582019757,
          0.01779991248933746,
          0,
          0.01471977582019757,
          null,
          0.01779991248933746,
          0.01471977582019757,
          0.03094787057944287,
          0.01779991248933746,
          null,
          0,
          0.01779991248933746,
          0,
          0,
          null,
          0.01779991248933746,
          0.02,
          0,
          0.01779991248933746,
          null,
          0,
          0.01471977582019757,
          0,
          0,
          null,
          0.03094787057944287,
          0.01471977582019757,
          0.02499507551832958,
          0.03094787057944287,
          null,
          0.03094787057944287,
          0.045,
          0.045,
          0.03094787057944287,
          null,
          0.015,
          0.01411914188975453,
          0,
          0.015,
          null,
          0.01411914188975453,
          0,
          0,
          0.01411914188975453,
          null,
          0.03999999999999999,
          0.025,
          0.03393174100442083,
          0.03999999999999999,
          null,
          0.03,
          0.03518858922381468,
          0.02499507551832958,
          0.03,
          null,
          0.045,
          0.03518858922381468,
          0.045,
          0.045,
          null,
          0.03518858922381468,
          0.03,
          0.045,
          0.03518858922381468,
          null,
          0.03,
          0.01411914188975453,
          0.015,
          0.03,
          null,
          0.01411914188975453,
          0.03,
          0.02499507551832958,
          0.01411914188975453,
          null
         ],
         "z": [
          0,
          0,
          0,
          0,
          null,
          0,
          0,
          0,
          0,
          null,
          0,
          0,
          0,
          0,
          null,
          0,
          0,
          0,
          0,
          null,
          0,
          0,
          0,
          0,
          null,
          0,
          0,
          0,
          0,
          null,
          0,
          0,
          0,
          0,
          null,
          0,
          0,
          0,
          0,
          null,
          0,
          0,
          0,
          0,
          null,
          0,
          0,
          0,
          0,
          null,
          0,
          0,
          0,
          0,
          null,
          0,
          0,
          0,
          0,
          null,
          0,
          0,
          0,
          0,
          null,
          0,
          0,
          0,
          0,
          null,
          0,
          0,
          0,
          0,
          null,
          0,
          0,
          0,
          0,
          null,
          0,
          0,
          0,
          0,
          null,
          0,
          0,
          0,
          0,
          null,
          0,
          0,
          0,
          0,
          null,
          0,
          0,
          0,
          0,
          null,
          0,
          0,
          0,
          0,
          null,
          0,
          0,
          0,
          0,
          null,
          0,
          0,
          0,
          0,
          null,
          0,
          0,
          0,
          0,
          null,
          0,
          0,
          0,
          0,
          null,
          0,
          0,
          0,
          0,
          null,
          0,
          0,
          0,
          0,
          null,
          0,
          0,
          0,
          0,
          null,
          0,
          0,
          0,
          0,
          null,
          0,
          0,
          0,
          0,
          null,
          0,
          0,
          0,
          0,
          null,
          0,
          0,
          0,
          0,
          null,
          0,
          0,
          0,
          0,
          null,
          0,
          0,
          0,
          0,
          null,
          0,
          0,
          0,
          0,
          null,
          0,
          0,
          0,
          0,
          null,
          0,
          0,
          0,
          0,
          null,
          0,
          0,
          0,
          0,
          null,
          0,
          0,
          0,
          0,
          null,
          0,
          0,
          0,
          0,
          null,
          0,
          0,
          0,
          0,
          null
         ]
        },
        {
         "hoverinfo": "none",
         "marker": {
          "color": [
           0.009248371078769179,
           1.034344604237002
          ],
          "colorscale": [
           [
            0,
            "rgb(150, 0, 90)"
           ],
           [
            0.125,
            "rgb(0, 0, 200)"
           ],
           [
            0.25,
            "rgb(0, 25, 255)"
           ],
           [
            0.375,
            "rgb(0, 152, 255)"
           ],
           [
            0.5,
            "rgb(44, 255, 150)"
           ],
           [
            0.625,
            "rgb(151, 255, 0)"
           ],
           [
            0.75,
            "rgb(255, 234, 0)"
           ],
           [
            0.875,
            "rgb(255, 111, 0)"
           ],
           [
            1,
            "rgb(255, 0, 0)"
           ]
          ],
          "showscale": true,
          "size": 0.1
         },
         "mode": "markers",
         "showlegend": false,
         "type": "scatter3d",
         "x": [
          0
         ],
         "y": [
          0.025
         ],
         "z": [
          0
         ]
        },
        {
         "marker": {
          "color": "red",
          "size": 6,
          "symbol": "circle"
         },
         "mode": "markers+text",
         "name": "Feed Point",
         "text": [
          "Feed Point"
         ],
         "textposition": "top center",
         "type": "scatter3d",
         "x": [
          0
         ],
         "y": [
          0.0225
         ],
         "z": [
          0
         ]
        }
       ],
       "layout": {
        "height": 800,
        "scene": {
         "aspectratio": {
          "x": 1,
          "y": 0.5625,
          "z": 0.3
         },
         "xaxis": {
          "backgroundcolor": "rgb(230, 230, 230)",
          "gridcolor": "rgb(255, 255, 255)",
          "showbackground": true,
          "zerolinecolor": "rgb(255, 255, 255)"
         },
         "yaxis": {
          "backgroundcolor": "rgb(230, 230, 230)",
          "gridcolor": "rgb(255, 255, 255)",
          "showbackground": true,
          "zerolinecolor": "rgb(255, 255, 255)"
         },
         "zaxis": {
          "backgroundcolor": "rgb(230, 230, 230)",
          "gridcolor": "rgb(255, 255, 255)",
          "showbackground": true,
          "zerolinecolor": "rgb(255, 255, 255)"
         }
        },
        "template": {
         "data": {
          "bar": [
           {
            "error_x": {
             "color": "#2a3f5f"
            },
            "error_y": {
             "color": "#2a3f5f"
            },
            "marker": {
             "line": {
              "color": "#E5ECF6",
              "width": 0.5
             },
             "pattern": {
              "fillmode": "overlay",
              "size": 10,
              "solidity": 0.2
             }
            },
            "type": "bar"
           }
          ],
          "barpolar": [
           {
            "marker": {
             "line": {
              "color": "#E5ECF6",
              "width": 0.5
             },
             "pattern": {
              "fillmode": "overlay",
              "size": 10,
              "solidity": 0.2
             }
            },
            "type": "barpolar"
           }
          ],
          "carpet": [
           {
            "aaxis": {
             "endlinecolor": "#2a3f5f",
             "gridcolor": "white",
             "linecolor": "white",
             "minorgridcolor": "white",
             "startlinecolor": "#2a3f5f"
            },
            "baxis": {
             "endlinecolor": "#2a3f5f",
             "gridcolor": "white",
             "linecolor": "white",
             "minorgridcolor": "white",
             "startlinecolor": "#2a3f5f"
            },
            "type": "carpet"
           }
          ],
          "choropleth": [
           {
            "colorbar": {
             "outlinewidth": 0,
             "ticks": ""
            },
            "type": "choropleth"
           }
          ],
          "contour": [
           {
            "colorbar": {
             "outlinewidth": 0,
             "ticks": ""
            },
            "colorscale": [
             [
              0,
              "#0d0887"
             ],
             [
              0.1111111111111111,
              "#46039f"
             ],
             [
              0.2222222222222222,
              "#7201a8"
             ],
             [
              0.3333333333333333,
              "#9c179e"
             ],
             [
              0.4444444444444444,
              "#bd3786"
             ],
             [
              0.5555555555555556,
              "#d8576b"
             ],
             [
              0.6666666666666666,
              "#ed7953"
             ],
             [
              0.7777777777777778,
              "#fb9f3a"
             ],
             [
              0.8888888888888888,
              "#fdca26"
             ],
             [
              1,
              "#f0f921"
             ]
            ],
            "type": "contour"
           }
          ],
          "contourcarpet": [
           {
            "colorbar": {
             "outlinewidth": 0,
             "ticks": ""
            },
            "type": "contourcarpet"
           }
          ],
          "heatmap": [
           {
            "colorbar": {
             "outlinewidth": 0,
             "ticks": ""
            },
            "colorscale": [
             [
              0,
              "#0d0887"
             ],
             [
              0.1111111111111111,
              "#46039f"
             ],
             [
              0.2222222222222222,
              "#7201a8"
             ],
             [
              0.3333333333333333,
              "#9c179e"
             ],
             [
              0.4444444444444444,
              "#bd3786"
             ],
             [
              0.5555555555555556,
              "#d8576b"
             ],
             [
              0.6666666666666666,
              "#ed7953"
             ],
             [
              0.7777777777777778,
              "#fb9f3a"
             ],
             [
              0.8888888888888888,
              "#fdca26"
             ],
             [
              1,
              "#f0f921"
             ]
            ],
            "type": "heatmap"
           }
          ],
          "heatmapgl": [
           {
            "colorbar": {
             "outlinewidth": 0,
             "ticks": ""
            },
            "colorscale": [
             [
              0,
              "#0d0887"
             ],
             [
              0.1111111111111111,
              "#46039f"
             ],
             [
              0.2222222222222222,
              "#7201a8"
             ],
             [
              0.3333333333333333,
              "#9c179e"
             ],
             [
              0.4444444444444444,
              "#bd3786"
             ],
             [
              0.5555555555555556,
              "#d8576b"
             ],
             [
              0.6666666666666666,
              "#ed7953"
             ],
             [
              0.7777777777777778,
              "#fb9f3a"
             ],
             [
              0.8888888888888888,
              "#fdca26"
             ],
             [
              1,
              "#f0f921"
             ]
            ],
            "type": "heatmapgl"
           }
          ],
          "histogram": [
           {
            "marker": {
             "pattern": {
              "fillmode": "overlay",
              "size": 10,
              "solidity": 0.2
             }
            },
            "type": "histogram"
           }
          ],
          "histogram2d": [
           {
            "colorbar": {
             "outlinewidth": 0,
             "ticks": ""
            },
            "colorscale": [
             [
              0,
              "#0d0887"
             ],
             [
              0.1111111111111111,
              "#46039f"
             ],
             [
              0.2222222222222222,
              "#7201a8"
             ],
             [
              0.3333333333333333,
              "#9c179e"
             ],
             [
              0.4444444444444444,
              "#bd3786"
             ],
             [
              0.5555555555555556,
              "#d8576b"
             ],
             [
              0.6666666666666666,
              "#ed7953"
             ],
             [
              0.7777777777777778,
              "#fb9f3a"
             ],
             [
              0.8888888888888888,
              "#fdca26"
             ],
             [
              1,
              "#f0f921"
             ]
            ],
            "type": "histogram2d"
           }
          ],
          "histogram2dcontour": [
           {
            "colorbar": {
             "outlinewidth": 0,
             "ticks": ""
            },
            "colorscale": [
             [
              0,
              "#0d0887"
             ],
             [
              0.1111111111111111,
              "#46039f"
             ],
             [
              0.2222222222222222,
              "#7201a8"
             ],
             [
              0.3333333333333333,
              "#9c179e"
             ],
             [
              0.4444444444444444,
              "#bd3786"
             ],
             [
              0.5555555555555556,
              "#d8576b"
             ],
             [
              0.6666666666666666,
              "#ed7953"
             ],
             [
              0.7777777777777778,
              "#fb9f3a"
             ],
             [
              0.8888888888888888,
              "#fdca26"
             ],
             [
              1,
              "#f0f921"
             ]
            ],
            "type": "histogram2dcontour"
           }
          ],
          "mesh3d": [
           {
            "colorbar": {
             "outlinewidth": 0,
             "ticks": ""
            },
            "type": "mesh3d"
           }
          ],
          "parcoords": [
           {
            "line": {
             "colorbar": {
              "outlinewidth": 0,
              "ticks": ""
             }
            },
            "type": "parcoords"
           }
          ],
          "pie": [
           {
            "automargin": true,
            "type": "pie"
           }
          ],
          "scatter": [
           {
            "fillpattern": {
             "fillmode": "overlay",
             "size": 10,
             "solidity": 0.2
            },
            "type": "scatter"
           }
          ],
          "scatter3d": [
           {
            "line": {
             "colorbar": {
              "outlinewidth": 0,
              "ticks": ""
             }
            },
            "marker": {
             "colorbar": {
              "outlinewidth": 0,
              "ticks": ""
             }
            },
            "type": "scatter3d"
           }
          ],
          "scattercarpet": [
           {
            "marker": {
             "colorbar": {
              "outlinewidth": 0,
              "ticks": ""
             }
            },
            "type": "scattercarpet"
           }
          ],
          "scattergeo": [
           {
            "marker": {
             "colorbar": {
              "outlinewidth": 0,
              "ticks": ""
             }
            },
            "type": "scattergeo"
           }
          ],
          "scattergl": [
           {
            "marker": {
             "colorbar": {
              "outlinewidth": 0,
              "ticks": ""
             }
            },
            "type": "scattergl"
           }
          ],
          "scattermapbox": [
           {
            "marker": {
             "colorbar": {
              "outlinewidth": 0,
              "ticks": ""
             }
            },
            "type": "scattermapbox"
           }
          ],
          "scatterpolar": [
           {
            "marker": {
             "colorbar": {
              "outlinewidth": 0,
              "ticks": ""
             }
            },
            "type": "scatterpolar"
           }
          ],
          "scatterpolargl": [
           {
            "marker": {
             "colorbar": {
              "outlinewidth": 0,
              "ticks": ""
             }
            },
            "type": "scatterpolargl"
           }
          ],
          "scatterternary": [
           {
            "marker": {
             "colorbar": {
              "outlinewidth": 0,
              "ticks": ""
             }
            },
            "type": "scatterternary"
           }
          ],
          "surface": [
           {
            "colorbar": {
             "outlinewidth": 0,
             "ticks": ""
            },
            "colorscale": [
             [
              0,
              "#0d0887"
             ],
             [
              0.1111111111111111,
              "#46039f"
             ],
             [
              0.2222222222222222,
              "#7201a8"
             ],
             [
              0.3333333333333333,
              "#9c179e"
             ],
             [
              0.4444444444444444,
              "#bd3786"
             ],
             [
              0.5555555555555556,
              "#d8576b"
             ],
             [
              0.6666666666666666,
              "#ed7953"
             ],
             [
              0.7777777777777778,
              "#fb9f3a"
             ],
             [
              0.8888888888888888,
              "#fdca26"
             ],
             [
              1,
              "#f0f921"
             ]
            ],
            "type": "surface"
           }
          ],
          "table": [
           {
            "cells": {
             "fill": {
              "color": "#EBF0F8"
             },
             "line": {
              "color": "white"
             }
            },
            "header": {
             "fill": {
              "color": "#C8D4E3"
             },
             "line": {
              "color": "white"
             }
            },
            "type": "table"
           }
          ]
         },
         "layout": {
          "annotationdefaults": {
           "arrowcolor": "#2a3f5f",
           "arrowhead": 0,
           "arrowwidth": 1
          },
          "autotypenumbers": "strict",
          "coloraxis": {
           "colorbar": {
            "outlinewidth": 0,
            "ticks": ""
           }
          },
          "colorscale": {
           "diverging": [
            [
             0,
             "#8e0152"
            ],
            [
             0.1,
             "#c51b7d"
            ],
            [
             0.2,
             "#de77ae"
            ],
            [
             0.3,
             "#f1b6da"
            ],
            [
             0.4,
             "#fde0ef"
            ],
            [
             0.5,
             "#f7f7f7"
            ],
            [
             0.6,
             "#e6f5d0"
            ],
            [
             0.7,
             "#b8e186"
            ],
            [
             0.8,
             "#7fbc41"
            ],
            [
             0.9,
             "#4d9221"
            ],
            [
             1,
             "#276419"
            ]
           ],
           "sequential": [
            [
             0,
             "#0d0887"
            ],
            [
             0.1111111111111111,
             "#46039f"
            ],
            [
             0.2222222222222222,
             "#7201a8"
            ],
            [
             0.3333333333333333,
             "#9c179e"
            ],
            [
             0.4444444444444444,
             "#bd3786"
            ],
            [
             0.5555555555555556,
             "#d8576b"
            ],
            [
             0.6666666666666666,
             "#ed7953"
            ],
            [
             0.7777777777777778,
             "#fb9f3a"
            ],
            [
             0.8888888888888888,
             "#fdca26"
            ],
            [
             1,
             "#f0f921"
            ]
           ],
           "sequentialminus": [
            [
             0,
             "#0d0887"
            ],
            [
             0.1111111111111111,
             "#46039f"
            ],
            [
             0.2222222222222222,
             "#7201a8"
            ],
            [
             0.3333333333333333,
             "#9c179e"
            ],
            [
             0.4444444444444444,
             "#bd3786"
            ],
            [
             0.5555555555555556,
             "#d8576b"
            ],
            [
             0.6666666666666666,
             "#ed7953"
            ],
            [
             0.7777777777777778,
             "#fb9f3a"
            ],
            [
             0.8888888888888888,
             "#fdca26"
            ],
            [
             1,
             "#f0f921"
            ]
           ]
          },
          "colorway": [
           "#636efa",
           "#EF553B",
           "#00cc96",
           "#ab63fa",
           "#FFA15A",
           "#19d3f3",
           "#FF6692",
           "#B6E880",
           "#FF97FF",
           "#FECB52"
          ],
          "font": {
           "color": "#2a3f5f"
          },
          "geo": {
           "bgcolor": "white",
           "lakecolor": "white",
           "landcolor": "#E5ECF6",
           "showlakes": true,
           "showland": true,
           "subunitcolor": "white"
          },
          "hoverlabel": {
           "align": "left"
          },
          "hovermode": "closest",
          "mapbox": {
           "style": "light"
          },
          "paper_bgcolor": "white",
          "plot_bgcolor": "#E5ECF6",
          "polar": {
           "angularaxis": {
            "gridcolor": "white",
            "linecolor": "white",
            "ticks": ""
           },
           "bgcolor": "#E5ECF6",
           "radialaxis": {
            "gridcolor": "white",
            "linecolor": "white",
            "ticks": ""
           }
          },
          "scene": {
           "xaxis": {
            "backgroundcolor": "#E5ECF6",
            "gridcolor": "white",
            "gridwidth": 2,
            "linecolor": "white",
            "showbackground": true,
            "ticks": "",
            "zerolinecolor": "white"
           },
           "yaxis": {
            "backgroundcolor": "#E5ECF6",
            "gridcolor": "white",
            "gridwidth": 2,
            "linecolor": "white",
            "showbackground": true,
            "ticks": "",
            "zerolinecolor": "white"
           },
           "zaxis": {
            "backgroundcolor": "#E5ECF6",
            "gridcolor": "white",
            "gridwidth": 2,
            "linecolor": "white",
            "showbackground": true,
            "ticks": "",
            "zerolinecolor": "white"
           }
          },
          "shapedefaults": {
           "line": {
            "color": "#2a3f5f"
           }
          },
          "ternary": {
           "aaxis": {
            "gridcolor": "white",
            "linecolor": "white",
            "ticks": ""
           },
           "baxis": {
            "gridcolor": "white",
            "linecolor": "white",
            "ticks": ""
           },
           "bgcolor": "#E5ECF6",
           "caxis": {
            "gridcolor": "white",
            "linecolor": "white",
            "ticks": ""
           }
          },
          "title": {
           "x": 0.05
          },
          "xaxis": {
           "automargin": true,
           "gridcolor": "white",
           "linecolor": "white",
           "ticks": "",
           "title": {
            "standoff": 15
           },
           "zerolinecolor": "white",
           "zerolinewidth": 2
          },
          "yaxis": {
           "automargin": true,
           "gridcolor": "white",
           "linecolor": "white",
           "ticks": "",
           "title": {
            "standoff": 15
           },
           "zerolinecolor": "white",
           "zerolinewidth": 2
          }
         }
        },
        "title": {
         "text": "ifa_meander antenna surface current in radiation mode"
        },
        "width": 800
       }
      }
     },
     "metadata": {},
     "output_type": "display_data"
    },
    {
     "name": "stdout",
     "output_type": "stream",
     "text": [
      "Simulation 43/76 | f = 868.00 MHz | S11 = -0.85 dB\n",
      "Simulation 44/76 | f = 872.00 MHz | S11 = -0.89 dB\n",
      "Simulation 45/76 | f = 876.00 MHz | S11 = -0.93 dB\n",
      "Simulation 46/76 | f = 880.00 MHz | S11 = -0.97 dB\n",
      "Simulation 47/76 | f = 884.00 MHz | S11 = -1.02 dB\n",
      "Simulation 48/76 | f = 888.00 MHz | S11 = -1.07 dB\n",
      "Simulation 49/76 | f = 892.00 MHz | S11 = -1.12 dB\n",
      "Simulation 50/76 | f = 896.00 MHz | S11 = -1.18 dB\n",
      "Simulation 51/76 | f = 900.00 MHz | S11 = -1.24 dB\n",
      "Simulation 52/76 | f = 904.00 MHz | S11 = -1.30 dB\n",
      "Simulation 53/76 | f = 908.00 MHz | S11 = -1.37 dB\n",
      "Simulation 54/76 | f = 912.00 MHz | S11 = -1.44 dB\n",
      "Simulation 55/76 | f = 916.00 MHz | S11 = -1.51 dB\n",
      "Simulation 56/76 | f = 920.00 MHz | S11 = -1.59 dB\n",
      "Simulation 57/76 | f = 924.00 MHz | S11 = -1.67 dB\n",
      "Simulation 58/76 | f = 928.00 MHz | S11 = -1.76 dB\n",
      "Simulation 59/76 | f = 932.00 MHz | S11 = -1.86 dB\n",
      "Simulation 60/76 | f = 936.00 MHz | S11 = -1.96 dB\n",
      "Simulation 61/76 | f = 940.00 MHz | S11 = -2.06 dB\n",
      "Simulation 62/76 | f = 944.00 MHz | S11 = -2.18 dB\n",
      "Simulation 63/76 | f = 948.00 MHz | S11 = -2.30 dB\n",
      "Simulation 64/76 | f = 952.00 MHz | S11 = -2.43 dB\n",
      "Simulation 65/76 | f = 956.00 MHz | S11 = -2.56 dB\n",
      "Simulation 66/76 | f = 960.00 MHz | S11 = -2.71 dB\n",
      "Simulation 67/76 | f = 964.00 MHz | S11 = -2.87 dB\n",
      "Simulation 68/76 | f = 968.00 MHz | S11 = -3.03 dB\n",
      "Simulation 69/76 | f = 972.00 MHz | S11 = -3.21 dB\n",
      "Simulation 70/76 | f = 976.00 MHz | S11 = -3.40 dB\n",
      "Simulation 71/76 | f = 980.00 MHz | S11 = -3.61 dB\n",
      "Simulation 72/76 | f = 984.00 MHz | S11 = -3.83 dB\n",
      "Simulation 73/76 | f = 988.00 MHz | S11 = -4.06 dB\n",
      "Simulation 74/76 | f = 992.00 MHz | S11 = -4.31 dB\n",
      "Simulation 75/76 | f = 996.00 MHz | S11 = -4.58 dB\n",
      "Simulation 76/76 | f = 1000.00 MHz | S11 = -4.87 dB\n",
      "\n",
      "📡 Résultats de simulation :\n",
      "→ Fréquence de résonance = 1000.00 MHz\n",
      "→ Impédance à f_res      = 122.06-81.18j Ω\n"
     ]
    },
    {
     "data": {
      "image/png": "[encoded data removed]",
      "text/plain": [
       "<Figure size 700x432.624 with 1 Axes>"
      ]
     },
     "metadata": {},
     "output_type": "display_data"
    },
    {
     "name": "stdout",
     "output_type": "stream",
     "text": [
      "\n",
      "Ratio = 1.152073732718894\n",
      "\n",
      "\n",
      "We are FAR of fc!\n",
      "\n",
      "\n",
      "------------------------------------------------------Iteration N°2------------------------------------------------------\n",
      "\n",
      "distance meandres = 3.767 mm\n",
      "\n",
      "Number of meanders = 3\n",
      "\n",
      "New distance meandres = 4.566 mm\n",
      "Largeur de piste ifa = 3.767 mm\n",
      "position feed = 22.500 mm\n",
      "\n",
      "Simulation 1/76 | f = 700.00 MHz | S11 = -0.36 dB\n",
      "Simulation 2/76 | f = 704.00 MHz | S11 = -0.38 dB\n",
      "Simulation 3/76 | f = 708.00 MHz | S11 = -0.41 dB\n",
      "Simulation 4/76 | f = 712.00 MHz | S11 = -0.43 dB\n",
      "Simulation 5/76 | f = 716.00 MHz | S11 = -0.46 dB\n",
      "Simulation 6/76 | f = 720.00 MHz | S11 = -0.49 dB\n",
      "Simulation 7/76 | f = 724.00 MHz | S11 = -0.53 dB\n",
      "Simulation 8/76 | f = 728.00 MHz | S11 = -0.56 dB\n",
      "Simulation 9/76 | f = 732.00 MHz | S11 = -0.60 dB\n",
      "Simulation 10/76 | f = 736.00 MHz | S11 = -0.64 dB\n",
      "Simulation 11/76 | f = 740.00 MHz | S11 = -0.69 dB\n",
      "Simulation 12/76 | f = 744.00 MHz | S11 = -0.74 dB\n",
      "Simulation 13/76 | f = 748.00 MHz | S11 = -0.79 dB\n",
      "Simulation 14/76 | f = 752.00 MHz | S11 = -0.85 dB\n",
      "Simulation 15/76 | f = 756.00 MHz | S11 = -0.91 dB\n",
      "Simulation 16/76 | f = 760.00 MHz | S11 = -0.98 dB\n",
      "Simulation 17/76 | f = 764.00 MHz | S11 = -1.06 dB\n",
      "Simulation 18/76 | f = 768.00 MHz | S11 = -1.15 dB\n",
      "Simulation 19/76 | f = 772.00 MHz | S11 = -1.24 dB\n",
      "Simulation 20/76 | f = 776.00 MHz | S11 = -1.35 dB\n",
      "Simulation 21/76 | f = 780.00 MHz | S11 = -1.46 dB\n",
      "Simulation 22/76 | f = 784.00 MHz | S11 = -1.59 dB\n",
      "Simulation 23/76 | f = 788.00 MHz | S11 = -1.73 dB\n",
      "Simulation 24/76 | f = 792.00 MHz | S11 = -1.89 dB\n",
      "Simulation 25/76 | f = 796.00 MHz | S11 = -2.07 dB\n",
      "Simulation 26/76 | f = 800.00 MHz | S11 = -2.27 dB\n",
      "Simulation 27/76 | f = 804.00 MHz | S11 = -2.50 dB\n",
      "Simulation 28/76 | f = 808.00 MHz | S11 = -2.76 dB\n",
      "Simulation 29/76 | f = 812.00 MHz | S11 = -3.05 dB\n",
      "Simulation 30/76 | f = 816.00 MHz | S11 = -3.37 dB\n",
      "Simulation 31/76 | f = 820.00 MHz | S11 = -3.75 dB\n",
      "Simulation 32/76 | f = 824.00 MHz | S11 = -4.18 dB\n",
      "Simulation 33/76 | f = 828.00 MHz | S11 = -4.67 dB\n",
      "Simulation 34/76 | f = 832.00 MHz | S11 = -5.23 dB\n",
      "Simulation 35/76 | f = 836.00 MHz | S11 = -5.88 dB\n",
      "Simulation 36/76 | f = 840.00 MHz | S11 = -6.64 dB\n",
      "Simulation 37/76 | f = 844.00 MHz | S11 = -7.52 dB\n",
      "Simulation 38/76 | f = 848.00 MHz | S11 = -8.56 dB\n",
      "Simulation 39/76 | f = 852.00 MHz | S11 = -9.78 dB\n",
      "Simulation 40/76 | f = 856.00 MHz | S11 = -11.24 dB\n",
      "Simulation 41/76 | f = 860.00 MHz | S11 = -12.98 dB\n",
      "Simulation 42/76 | f = 864.00 MHz | S11 = -15.01 dB\n"
     ]
    },
    {
     "data": {
      "application/vnd.plotly.v1+json": {
       "config": {
        "plotlyServerURL": "https://plot.ly"
       },
       "data": [
        {
         "facecolor": [
          "rgb(142, 0, 96)",
          "rgb(145, 0, 94)",
          "rgb(102, 0, 125)",
          "rgb(36, 235, 170)",
          "rgb(17, 0, 188)",
          "rgb(0, 66, 255)",
          "rgb(60, 255, 128)",
          "rgb(124, 0, 109)",
          "rgb(172, 251, 0)",
          "rgb(160, 253, 0)",
          "rgb(158, 254, 0)",
          "rgb(0, 24, 254)",
          "rgb(123, 0, 109)",
          "rgb(173, 251, 0)",
          "rgb(139, 0, 98)",
          "rgb(146, 255, 8)",
          "rgb(125, 0, 108)",
          "rgb(19, 196, 210)",
          "rgb(129, 0, 105)",
          "rgb(101, 255, 70)",
          "rgb(0, 126, 255)",
          "rgb(136, 0, 100)",
          "rgb(10, 174, 232)",
          "rgb(0, 15, 232)",
          "rgb(0, 109, 255)",
          "rgb(176, 250, 0)",
          "rgb(124, 255, 38)",
          "rgb(34, 231, 174)",
          "rgb(0, 37, 255)",
          "rgb(109, 0, 120)",
          "rgb(0, 128, 255)",
          "rgb(0, 59, 255)",
          "rgb(154, 254, 0)",
          "rgb(0, 22, 248)",
          "rgb(168, 252, 0)",
          "rgb(112, 0, 118)",
          "rgb(0, 4, 209)",
          "rgb(0, 85, 255)",
          "rgb(255, 0, 0)",
          "rgb(51, 0, 163)",
          "rgb(116, 0, 115)",
          "rgb(109, 0, 120)",
          "rgb(100, 0, 127)",
          "rgb(102, 0, 125)",
          "rgb(144, 0, 94)",
          "rgb(134, 0, 102)",
          "rgb(45, 0, 167)",
          "rgb(132, 0, 103)",
          "rgb(150, 0, 90)",
          "rgb(146, 0, 93)",
          "rgb(117, 0, 114)"
         ],
         "i": [
          39,
          40,
          20,
          3,
          43,
          24,
          15,
          43,
          17,
          16,
          9,
          19,
          39,
          25,
          39,
          26,
          41,
          14,
          44,
          27,
          2,
          43,
          28,
          30,
          28,
          34,
          32,
          11,
          18,
          37,
          1,
          29,
          33,
          38,
          9,
          13,
          12,
          1,
          25,
          42,
          44,
          20,
          0,
          37,
          22,
          41,
          42,
          36,
          23,
          40,
          39
         ],
         "j": [
          41,
          41,
          42,
          42,
          38,
          1,
          27,
          19,
          34,
          17,
          33,
          7,
          40,
          34,
          44,
          32,
          44,
          15,
          43,
          15,
          3,
          44,
          14,
          31,
          31,
          25,
          26,
          15,
          7,
          43,
          2,
          31,
          9,
          7,
          17,
          30,
          30,
          24,
          2,
          35,
          20,
          44,
          42,
          38,
          41,
          21,
          3,
          40,
          41,
          23,
          36
         ],
         "k": [
          40,
          23,
          5,
          0,
          19,
          18,
          10,
          0,
          8,
          9,
          16,
          18,
          36,
          2,
          41,
          33,
          21,
          11,
          42,
          32,
          0,
          39,
          11,
          29,
          14,
          8,
          27,
          10,
          24,
          39,
          0,
          28,
          26,
          19,
          8,
          12,
          29,
          25,
          1,
          5,
          21,
          42,
          43,
          43,
          6,
          6,
          35,
          4,
          22,
          4,
          37
         ],
         "name": "",
         "type": "mesh3d",
         "x": [
          0,
          0.004566213333333333,
          0.004566213333333333,
          0,
          -0.055,
          0,
          -0.055,
          0.008333333333333333,
          0.008333333333333333,
          0.01289954666666666,
          0.01289954666666666,
          0.02499999999999999,
          0.02499999999999999,
          0.02123288,
          0.02123288,
          0.01666666666666667,
          0.01666666666666667,
          0.004566213333333333,
          0.004566213333333333,
          0,
          -0.01833333333333337,
          -0.03666666666666673,
          -0.055,
          -0.055,
          0.008333333333333333,
          0.008333333333333333,
          0.01289954666666666,
          0.01289954666666666,
          0.02499999999999999,
          0.02499999999999999,
          0.02123288,
          0.02123288,
          0.01666666666666667,
          0.01666666666666667,
          0.004566213333333333,
          0,
          -0.03916666666666663,
          -0.0233333333333333,
          -0.007499999999999979,
          -0.03270061819788647,
          -0.04513009516188963,
          -0.04378319094489506,
          -0.00885127452002255,
          -0.016640631893268,
          -0.02698495641355648
         ],
         "y": [
          0.02438356,
          0.02438356,
          0.02061644,
          0.02061644,
          0.045,
          0,
          0,
          0.045,
          0.00376712,
          0.00376712,
          0.045,
          0.045,
          -8.673617379884035e-19,
          -8.673617379884035e-19,
          0.04123288,
          0.04123288,
          -8.673617379884035e-19,
          -8.673617379884035e-19,
          0.04123288,
          0.04123288,
          0,
          0,
          0.015,
          0.03,
          0.03125570666666665,
          0.01751141333333332,
          0.01751141333333335,
          0.03125570666666667,
          0.02999999999999999,
          0.015,
          0.01374429333333335,
          0.02748858666666668,
          0.02748858666666665,
          0.01374429333333332,
          0.01030822000000001,
          0.01030822000000002,
          0.045,
          0.045,
          0.045,
          0.03108325784975088,
          0.03381982017667042,
          0.01801584303360123,
          0.01468714701778128,
          0.03129398603919894,
          0.01620782308527002
         ],
         "z": [
          0,
          0,
          0,
          0,
          0,
          0,
          0,
          0,
          0,
          0,
          0,
          0,
          0,
          0,
          0,
          0,
          0,
          0,
          0,
          0,
          0,
          0,
          0,
          0,
          0,
          0,
          0,
          0,
          0,
          0,
          0,
          0,
          0,
          0,
          0,
          0,
          0,
          0,
          0,
          0,
          0,
          0,
          0,
          0,
          0
         ]
        },
        {
         "line": {
          "color": "rgb(50, 50, 50)",
          "width": 1.5
         },
         "mode": "lines",
         "showlegend": false,
         "type": "scatter3d",
         "x": [
          -0.03270061819788647,
          -0.04378319094489506,
          -0.04513009516188963,
          -0.03270061819788647,
          null,
          -0.04513009516188963,
          -0.04378319094489506,
          -0.055,
          -0.04513009516188963,
          null,
          -0.01833333333333337,
          -0.00885127452002255,
          0,
          -0.01833333333333337,
          null,
          0,
          -0.00885127452002255,
          0,
          0,
          null,
          -0.016640631893268,
          -0.007499999999999979,
          0,
          -0.016640631893268,
          null,
          0.008333333333333333,
          0.004566213333333333,
          0.004566213333333333,
          0.008333333333333333,
          null,
          0.01666666666666667,
          0.01289954666666666,
          0.01289954666666666,
          0.01666666666666667,
          null,
          -0.016640631893268,
          0,
          0,
          -0.016640631893268,
          null,
          0.004566213333333333,
          0.004566213333333333,
          0.008333333333333333,
          0.004566213333333333,
          null,
          0.01666666666666667,
          0.004566213333333333,
          0.01289954666666666,
          0.01666666666666667,
          null,
          0.01289954666666666,
          0.01666666666666667,
          0.01666666666666667,
          0.01289954666666666,
          null,
          0,
          0.008333333333333333,
          0.004566213333333333,
          0,
          null,
          -0.03270061819788647,
          -0.04513009516188963,
          -0.03916666666666663,
          -0.03270061819788647,
          null,
          0.008333333333333333,
          0.004566213333333333,
          0.004566213333333333,
          0.008333333333333333,
          null,
          -0.03270061819788647,
          -0.02698495641355648,
          -0.04378319094489506,
          -0.03270061819788647,
          null,
          0.01289954666666666,
          0.01666666666666667,
          0.01666666666666667,
          0.01289954666666666,
          null,
          -0.04378319094489506,
          -0.02698495641355648,
          -0.03666666666666673,
          -0.04378319094489506,
          null,
          0.02123288,
          0.01666666666666667,
          0.02499999999999999,
          0.02123288,
          null,
          -0.02698495641355648,
          -0.016640631893268,
          -0.00885127452002255,
          -0.02698495641355648,
          null,
          0.01289954666666666,
          0.01666666666666667,
          0.01666666666666667,
          0.01289954666666666,
          null,
          0.004566213333333333,
          0,
          0,
          0.004566213333333333,
          null,
          -0.016640631893268,
          -0.02698495641355648,
          -0.03270061819788647,
          -0.016640631893268,
          null,
          0.02499999999999999,
          0.02123288,
          0.02499999999999999,
          0.02499999999999999,
          null,
          0.02123288,
          0.02123288,
          0.02499999999999999,
          0.02123288,
          null,
          0.02499999999999999,
          0.02123288,
          0.02123288,
          0.02499999999999999,
          null,
          0.004566213333333333,
          0.008333333333333333,
          0.008333333333333333,
          0.004566213333333333,
          null,
          0.01666666666666667,
          0.01289954666666666,
          0.01289954666666666,
          0.01666666666666667,
          null,
          0.02499999999999999,
          0.01666666666666667,
          0.01289954666666666,
          0.02499999999999999,
          null,
          0.004566213333333333,
          0.008333333333333333,
          0.008333333333333333,
          0.004566213333333333,
          null,
          -0.0233333333333333,
          -0.016640631893268,
          -0.03270061819788647,
          -0.0233333333333333,
          null,
          0.004566213333333333,
          0.004566213333333333,
          0,
          0.004566213333333333,
          null,
          0.02499999999999999,
          0.02123288,
          0.02499999999999999,
          0.02499999999999999,
          null,
          0.01666666666666667,
          0.01289954666666666,
          0.01289954666666666,
          0.01666666666666667,
          null,
          -0.007499999999999979,
          0.008333333333333333,
          0,
          -0.007499999999999979,
          null,
          0.01289954666666666,
          0.004566213333333333,
          0.008333333333333333,
          0.01289954666666666,
          null,
          0.02123288,
          0.02123288,
          0.02499999999999999,
          0.02123288,
          null,
          0.02499999999999999,
          0.02123288,
          0.02499999999999999,
          0.02499999999999999,
          null,
          0.004566213333333333,
          0.008333333333333333,
          0.008333333333333333,
          0.004566213333333333,
          null,
          0.008333333333333333,
          0.004566213333333333,
          0.004566213333333333,
          0.008333333333333333,
          null,
          -0.00885127452002255,
          0,
          0,
          -0.00885127452002255,
          null,
          -0.02698495641355648,
          -0.01833333333333337,
          -0.03666666666666673,
          -0.02698495641355648,
          null,
          -0.01833333333333337,
          -0.02698495641355648,
          -0.00885127452002255,
          -0.01833333333333337,
          null,
          0,
          -0.00885127452002255,
          -0.016640631893268,
          0,
          null,
          -0.0233333333333333,
          -0.007499999999999979,
          -0.016640631893268,
          -0.0233333333333333,
          null,
          -0.055,
          -0.04378319094489506,
          -0.055,
          -0.055,
          null,
          -0.04378319094489506,
          -0.03666666666666673,
          -0.055,
          -0.04378319094489506,
          null,
          -0.00885127452002255,
          0,
          0,
          -0.00885127452002255,
          null,
          -0.03916666666666663,
          -0.04513009516188963,
          -0.055,
          -0.03916666666666663,
          null,
          -0.055,
          -0.04378319094489506,
          -0.055,
          -0.055,
          null,
          -0.04513009516188963,
          -0.055,
          -0.055,
          -0.04513009516188963,
          null,
          -0.03270061819788647,
          -0.03916666666666663,
          -0.0233333333333333,
          -0.03270061819788647,
          null
         ],
         "y": [
          0.03108325784975088,
          0.01801584303360123,
          0.03381982017667042,
          0.03108325784975088,
          null,
          0.03381982017667042,
          0.01801584303360123,
          0.03,
          0.03381982017667042,
          null,
          0,
          0.01468714701778128,
          0,
          0,
          null,
          0.02061644,
          0.01468714701778128,
          0.02438356,
          0.02061644,
          null,
          0.03129398603919894,
          0.045,
          0.04123288,
          0.03129398603919894,
          null,
          0.03125570666666665,
          0.02438356,
          0.04123288,
          0.03125570666666665,
          null,
          0.04123288,
          0.03125570666666667,
          0.045,
          0.04123288,
          null,
          0.03129398603919894,
          0.04123288,
          0.02438356,
          0.03129398603919894,
          null,
          -8.673617379884035e-19,
          0.01030822000000001,
          0.00376712,
          -8.673617379884035e-19,
          null,
          -8.673617379884035e-19,
          -8.673617379884035e-19,
          0.00376712,
          -8.673617379884035e-19,
          null,
          0.00376712,
          0.01374429333333332,
          -8.673617379884035e-19,
          0.00376712,
          null,
          0.04123288,
          0.045,
          0.04123288,
          0.04123288,
          null,
          0.03108325784975088,
          0.03381982017667042,
          0.045,
          0.03108325784975088,
          null,
          0.01751141333333332,
          0.01030822000000001,
          0.02061644,
          0.01751141333333332,
          null,
          0.03108325784975088,
          0.01620782308527002,
          0.01801584303360123,
          0.03108325784975088,
          null,
          0.01751141333333335,
          0.02748858666666665,
          0.01374429333333332,
          0.01751141333333335,
          null,
          0.01801584303360123,
          0.01620782308527002,
          0,
          0.01801584303360123,
          null,
          0.04123288,
          0.04123288,
          0.045,
          0.04123288,
          null,
          0.01620782308527002,
          0.03129398603919894,
          0.01468714701778128,
          0.01620782308527002,
          null,
          0.03125570666666667,
          0.04123288,
          0.02748858666666665,
          0.03125570666666667,
          null,
          0.02061644,
          0.02061644,
          0.02438356,
          0.02061644,
          null,
          0.03129398603919894,
          0.01620782308527002,
          0.03108325784975088,
          0.03129398603919894,
          null,
          0.02999999999999999,
          0.04123288,
          0.045,
          0.02999999999999999,
          null,
          0.01374429333333335,
          0.02748858666666668,
          0.015,
          0.01374429333333335,
          null,
          0.02999999999999999,
          0.02748858666666668,
          0.04123288,
          0.02999999999999999,
          null,
          0.01030822000000001,
          0.01751141333333332,
          0.00376712,
          0.01030822000000001,
          null,
          0.02748858666666665,
          0.01751141333333335,
          0.03125570666666667,
          0.02748858666666665,
          null,
          0.045,
          0.04123288,
          0.045,
          0.045,
          null,
          0.04123288,
          0.045,
          0.03125570666666665,
          0.04123288,
          null,
          0.045,
          0.03129398603919894,
          0.03108325784975088,
          0.045,
          null,
          0.02438356,
          0.02061644,
          0.02438356,
          0.02438356,
          null,
          0.015,
          0.02748858666666668,
          0.02999999999999999,
          0.015,
          null,
          0.01374429333333332,
          0.00376712,
          0.01751141333333335,
          0.01374429333333332,
          null,
          0.045,
          0.045,
          0.04123288,
          0.045,
          null,
          0.00376712,
          -8.673617379884035e-19,
          0.00376712,
          0.00376712,
          null,
          -8.673617379884035e-19,
          0.01374429333333335,
          -8.673617379884035e-19,
          -8.673617379884035e-19,
          null,
          -8.673617379884035e-19,
          0.01374429333333335,
          0.015,
          -8.673617379884035e-19,
          null,
          0.02438356,
          0.03125570666666665,
          0.01751141333333332,
          0.02438356,
          null,
          0.01751141333333332,
          0.02061644,
          0.02438356,
          0.01751141333333332,
          null,
          0.01468714701778128,
          0.01030822000000002,
          0,
          0.01468714701778128,
          null,
          0.01620782308527002,
          0,
          0,
          0.01620782308527002,
          null,
          0,
          0.01620782308527002,
          0.01468714701778128,
          0,
          null,
          0.02438356,
          0.01468714701778128,
          0.03129398603919894,
          0.02438356,
          null,
          0.045,
          0.045,
          0.03129398603919894,
          0.045,
          null,
          0.015,
          0.01801584303360123,
          0,
          0.015,
          null,
          0.01801584303360123,
          0,
          0,
          0.01801584303360123,
          null,
          0.01468714701778128,
          0.02061644,
          0.01030822000000002,
          0.01468714701778128,
          null,
          0.045,
          0.03381982017667042,
          0.045,
          0.045,
          null,
          0.03,
          0.01801584303360123,
          0.015,
          0.03,
          null,
          0.03381982017667042,
          0.03,
          0.045,
          0.03381982017667042,
          null,
          0.03108325784975088,
          0.045,
          0.045,
          0.03108325784975088,
          null
         ],
         "z": [
          0,
          0,
          0,
          0,
          null,
          0,
          0,
          0,
          0,
          null,
          0,
          0,
          0,
          0,
          null,
          0,
          0,
          0,
          0,
          null,
          0,
          0,
          0,
          0,
          null,
          0,
          0,
          0,
          0,
          null,
          0,
          0,
          0,
          0,
          null,
          0,
          0,
          0,
          0,
          null,
          0,
          0,
          0,
          0,
          null,
          0,
          0,
          0,
          0,
          null,
          0,
          0,
          0,
          0,
          null,
          0,
          0,
          0,
          0,
          null,
          0,
          0,
          0,
          0,
          null,
          0,
          0,
          0,
          0,
          null,
          0,
          0,
          0,
          0,
          null,
          0,
          0,
          0,
          0,
          null,
          0,
          0,
          0,
          0,
          null,
          0,
          0,
          0,
          0,
          null,
          0,
          0,
          0,
          0,
          null,
          0,
          0,
          0,
          0,
          null,
          0,
          0,
          0,
          0,
          null,
          0,
          0,
          0,
          0,
          null,
          0,
          0,
          0,
          0,
          null,
          0,
          0,
          0,
          0,
          null,
          0,
          0,
          0,
          0,
          null,
          0,
          0,
          0,
          0,
          null,
          0,
          0,
          0,
          0,
          null,
          0,
          0,
          0,
          0,
          null,
          0,
          0,
          0,
          0,
          null,
          0,
          0,
          0,
          0,
          null,
          0,
          0,
          0,
          0,
          null,
          0,
          0,
          0,
          0,
          null,
          0,
          0,
          0,
          0,
          null,
          0,
          0,
          0,
          0,
          null,
          0,
          0,
          0,
          0,
          null,
          0,
          0,
          0,
          0,
          null,
          0,
          0,
          0,
          0,
          null,
          0,
          0,
          0,
          0,
          null,
          0,
          0,
          0,
          0,
          null,
          0,
          0,
          0,
          0,
          null,
          0,
          0,
          0,
          0,
          null,
          0,
          0,
          0,
          0,
          null,
          0,
          0,
          0,
          0,
          null,
          0,
          0,
          0,
          0,
          null,
          0,
          0,
          0,
          0,
          null,
          0,
          0,
          0,
          0,
          null,
          0,
          0,
          0,
          0,
          null,
          0,
          0,
          0,
          0,
          null,
          0,
          0,
          0,
          0,
          null,
          0,
          0,
          0,
          0,
          null,
          0,
          0,
          0,
          0,
          null
         ]
        },
        {
         "hoverinfo": "none",
         "marker": {
          "color": [
           0.02176958624623141,
           8.482232619682241
          ],
          "colorscale": [
           [
            0,
            "rgb(150, 0, 90)"
           ],
           [
            0.125,
            "rgb(0, 0, 200)"
           ],
           [
            0.25,
            "rgb(0, 25, 255)"
           ],
           [
            0.375,
            "rgb(0, 152, 255)"
           ],
           [
            0.5,
            "rgb(44, 255, 150)"
           ],
           [
            0.625,
            "rgb(151, 255, 0)"
           ],
           [
            0.75,
            "rgb(255, 234, 0)"
           ],
           [
            0.875,
            "rgb(255, 111, 0)"
           ],
           [
            1,
            "rgb(255, 0, 0)"
           ]
          ],
          "showscale": true,
          "size": 0.1
         },
         "mode": "markers",
         "showlegend": false,
         "type": "scatter3d",
         "x": [
          0
         ],
         "y": [
          0.02438356
         ],
         "z": [
          0
         ]
        },
        {
         "marker": {
          "color": "red",
          "size": 6,
          "symbol": "circle"
         },
         "mode": "markers+text",
         "name": "Feed Point",
         "text": [
          "Feed Point"
         ],
         "textposition": "top center",
         "type": "scatter3d",
         "x": [
          0
         ],
         "y": [
          0.0225
         ],
         "z": [
          0
         ]
        }
       ],
       "layout": {
        "height": 800,
        "scene": {
         "aspectratio": {
          "x": 1,
          "y": 0.5625000000000001,
          "z": 0.3
         },
         "xaxis": {
          "backgroundcolor": "rgb(230, 230, 230)",
          "gridcolor": "rgb(255, 255, 255)",
          "showbackground": true,
          "zerolinecolor": "rgb(255, 255, 255)"
         },
         "yaxis": {
          "backgroundcolor": "rgb(230, 230, 230)",
          "gridcolor": "rgb(255, 255, 255)",
          "showbackground": true,
          "zerolinecolor": "rgb(255, 255, 255)"
         },
         "zaxis": {
          "backgroundcolor": "rgb(230, 230, 230)",
          "gridcolor": "rgb(255, 255, 255)",
          "showbackground": true,
          "zerolinecolor": "rgb(255, 255, 255)"
         }
        },
        "template": {
         "data": {
          "bar": [
           {
            "error_x": {
             "color": "#2a3f5f"
            },
            "error_y": {
             "color": "#2a3f5f"
            },
            "marker": {
             "line": {
              "color": "#E5ECF6",
              "width": 0.5
             },
             "pattern": {
              "fillmode": "overlay",
              "size": 10,
              "solidity": 0.2
             }
            },
            "type": "bar"
           }
          ],
          "barpolar": [
           {
            "marker": {
             "line": {
              "color": "#E5ECF6",
              "width": 0.5
             },
             "pattern": {
              "fillmode": "overlay",
              "size": 10,
              "solidity": 0.2
             }
            },
            "type": "barpolar"
           }
          ],
          "carpet": [
           {
            "aaxis": {
             "endlinecolor": "#2a3f5f",
             "gridcolor": "white",
             "linecolor": "white",
             "minorgridcolor": "white",
             "startlinecolor": "#2a3f5f"
            },
            "baxis": {
             "endlinecolor": "#2a3f5f",
             "gridcolor": "white",
             "linecolor": "white",
             "minorgridcolor": "white",
             "startlinecolor": "#2a3f5f"
            },
            "type": "carpet"
           }
          ],
          "choropleth": [
           {
            "colorbar": {
             "outlinewidth": 0,
             "ticks": ""
            },
            "type": "choropleth"
           }
          ],
          "contour": [
           {
            "colorbar": {
             "outlinewidth": 0,
             "ticks": ""
            },
            "colorscale": [
             [
              0,
              "#0d0887"
             ],
             [
              0.1111111111111111,
              "#46039f"
             ],
             [
              0.2222222222222222,
              "#7201a8"
             ],
             [
              0.3333333333333333,
              "#9c179e"
             ],
             [
              0.4444444444444444,
              "#bd3786"
             ],
             [
              0.5555555555555556,
              "#d8576b"
             ],
             [
              0.6666666666666666,
              "#ed7953"
             ],
             [
              0.7777777777777778,
              "#fb9f3a"
             ],
             [
              0.8888888888888888,
              "#fdca26"
             ],
             [
              1,
              "#f0f921"
             ]
            ],
            "type": "contour"
           }
          ],
          "contourcarpet": [
           {
            "colorbar": {
             "outlinewidth": 0,
             "ticks": ""
            },
            "type": "contourcarpet"
           }
          ],
          "heatmap": [
           {
            "colorbar": {
             "outlinewidth": 0,
             "ticks": ""
            },
            "colorscale": [
             [
              0,
              "#0d0887"
             ],
             [
              0.1111111111111111,
              "#46039f"
             ],
             [
              0.2222222222222222,
              "#7201a8"
             ],
             [
              0.3333333333333333,
              "#9c179e"
             ],
             [
              0.4444444444444444,
              "#bd3786"
             ],
             [
              0.5555555555555556,
              "#d8576b"
             ],
             [
              0.6666666666666666,
              "#ed7953"
             ],
             [
              0.7777777777777778,
              "#fb9f3a"
             ],
             [
              0.8888888888888888,
              "#fdca26"
             ],
             [
              1,
              "#f0f921"
             ]
            ],
            "type": "heatmap"
           }
          ],
          "heatmapgl": [
           {
            "colorbar": {
             "outlinewidth": 0,
             "ticks": ""
            },
            "colorscale": [
             [
              0,
              "#0d0887"
             ],
             [
              0.1111111111111111,
              "#46039f"
             ],
             [
              0.2222222222222222,
              "#7201a8"
             ],
             [
              0.3333333333333333,
              "#9c179e"
             ],
             [
              0.4444444444444444,
              "#bd3786"
             ],
             [
              0.5555555555555556,
              "#d8576b"
             ],
             [
              0.6666666666666666,
              "#ed7953"
             ],
             [
              0.7777777777777778,
              "#fb9f3a"
             ],
             [
              0.8888888888888888,
              "#fdca26"
             ],
             [
              1,
              "#f0f921"
             ]
            ],
            "type": "heatmapgl"
           }
          ],
          "histogram": [
           {
            "marker": {
             "pattern": {
              "fillmode": "overlay",
              "size": 10,
              "solidity": 0.2
             }
            },
            "type": "histogram"
           }
          ],
          "histogram2d": [
           {
            "colorbar": {
             "outlinewidth": 0,
             "ticks": ""
            },
            "colorscale": [
             [
              0,
              "#0d0887"
             ],
             [
              0.1111111111111111,
              "#46039f"
             ],
             [
              0.2222222222222222,
              "#7201a8"
             ],
             [
              0.3333333333333333,
              "#9c179e"
             ],
             [
              0.4444444444444444,
              "#bd3786"
             ],
             [
              0.5555555555555556,
              "#d8576b"
             ],
             [
              0.6666666666666666,
              "#ed7953"
             ],
             [
              0.7777777777777778,
              "#fb9f3a"
             ],
             [
              0.8888888888888888,
              "#fdca26"
             ],
             [
              1,
              "#f0f921"
             ]
            ],
            "type": "histogram2d"
           }
          ],
          "histogram2dcontour": [
           {
            "colorbar": {
             "outlinewidth": 0,
             "ticks": ""
            },
            "colorscale": [
             [
              0,
              "#0d0887"
             ],
             [
              0.1111111111111111,
              "#46039f"
             ],
             [
              0.2222222222222222,
              "#7201a8"
             ],
             [
              0.3333333333333333,
              "#9c179e"
             ],
             [
              0.4444444444444444,
              "#bd3786"
             ],
             [
              0.5555555555555556,
              "#d8576b"
             ],
             [
              0.6666666666666666,
              "#ed7953"
             ],
             [
              0.7777777777777778,
              "#fb9f3a"
             ],
             [
              0.8888888888888888,
              "#fdca26"
             ],
             [
              1,
              "#f0f921"
             ]
            ],
            "type": "histogram2dcontour"
           }
          ],
          "mesh3d": [
           {
            "colorbar": {
             "outlinewidth": 0,
             "ticks": ""
            },
            "type": "mesh3d"
           }
          ],
          "parcoords": [
           {
            "line": {
             "colorbar": {
              "outlinewidth": 0,
              "ticks": ""
             }
            },
            "type": "parcoords"
           }
          ],
          "pie": [
           {
            "automargin": true,
            "type": "pie"
           }
          ],
          "scatter": [
           {
            "fillpattern": {
             "fillmode": "overlay",
             "size": 10,
             "solidity": 0.2
            },
            "type": "scatter"
           }
          ],
          "scatter3d": [
           {
            "line": {
             "colorbar": {
              "outlinewidth": 0,
              "ticks": ""
             }
            },
            "marker": {
             "colorbar": {
              "outlinewidth": 0,
              "ticks": ""
             }
            },
            "type": "scatter3d"
           }
          ],
          "scattercarpet": [
           {
            "marker": {
             "colorbar": {
              "outlinewidth": 0,
              "ticks": ""
             }
            },
            "type": "scattercarpet"
           }
          ],
          "scattergeo": [
           {
            "marker": {
             "colorbar": {
              "outlinewidth": 0,
              "ticks": ""
             }
            },
            "type": "scattergeo"
           }
          ],
          "scattergl": [
           {
            "marker": {
             "colorbar": {
              "outlinewidth": 0,
              "ticks": ""
             }
            },
            "type": "scattergl"
           }
          ],
          "scattermapbox": [
           {
            "marker": {
             "colorbar": {
              "outlinewidth": 0,
              "ticks": ""
             }
            },
            "type": "scattermapbox"
           }
          ],
          "scatterpolar": [
           {
            "marker": {
             "colorbar": {
              "outlinewidth": 0,
              "ticks": ""
             }
            },
            "type": "scatterpolar"
           }
          ],
          "scatterpolargl": [
           {
            "marker": {
             "colorbar": {
              "outlinewidth": 0,
              "ticks": ""
             }
            },
            "type": "scatterpolargl"
           }
          ],
          "scatterternary": [
           {
            "marker": {
             "colorbar": {
              "outlinewidth": 0,
              "ticks": ""
             }
            },
            "type": "scatterternary"
           }
          ],
          "surface": [
           {
            "colorbar": {
             "outlinewidth": 0,
             "ticks": ""
            },
            "colorscale": [
             [
              0,
              "#0d0887"
             ],
             [
              0.1111111111111111,
              "#46039f"
             ],
             [
              0.2222222222222222,
              "#7201a8"
             ],
             [
              0.3333333333333333,
              "#9c179e"
             ],
             [
              0.4444444444444444,
              "#bd3786"
             ],
             [
              0.5555555555555556,
              "#d8576b"
             ],
             [
              0.6666666666666666,
              "#ed7953"
             ],
             [
              0.7777777777777778,
              "#fb9f3a"
             ],
             [
              0.8888888888888888,
              "#fdca26"
             ],
             [
              1,
              "#f0f921"
             ]
            ],
            "type": "surface"
           }
          ],
          "table": [
           {
            "cells": {
             "fill": {
              "color": "#EBF0F8"
             },
             "line": {
              "color": "white"
             }
            },
            "header": {
             "fill": {
              "color": "#C8D4E3"
             },
             "line": {
              "color": "white"
             }
            },
            "type": "table"
           }
          ]
         },
         "layout": {
          "annotationdefaults": {
           "arrowcolor": "#2a3f5f",
           "arrowhead": 0,
           "arrowwidth": 1
          },
          "autotypenumbers": "strict",
          "coloraxis": {
           "colorbar": {
            "outlinewidth": 0,
            "ticks": ""
           }
          },
          "colorscale": {
           "diverging": [
            [
             0,
             "#8e0152"
            ],
            [
             0.1,
             "#c51b7d"
            ],
            [
             0.2,
             "#de77ae"
            ],
            [
             0.3,
             "#f1b6da"
            ],
            [
             0.4,
             "#fde0ef"
            ],
            [
             0.5,
             "#f7f7f7"
            ],
            [
             0.6,
             "#e6f5d0"
            ],
            [
             0.7,
             "#b8e186"
            ],
            [
             0.8,
             "#7fbc41"
            ],
            [
             0.9,
             "#4d9221"
            ],
            [
             1,
             "#276419"
            ]
           ],
           "sequential": [
            [
             0,
             "#0d0887"
            ],
            [
             0.1111111111111111,
             "#46039f"
            ],
            [
             0.2222222222222222,
             "#7201a8"
            ],
            [
             0.3333333333333333,
             "#9c179e"
            ],
            [
             0.4444444444444444,
             "#bd3786"
            ],
            [
             0.5555555555555556,
             "#d8576b"
            ],
            [
             0.6666666666666666,
             "#ed7953"
            ],
            [
             0.7777777777777778,
             "#fb9f3a"
            ],
            [
             0.8888888888888888,
             "#fdca26"
            ],
            [
             1,
             "#f0f921"
            ]
           ],
           "sequentialminus": [
            [
             0,
             "#0d0887"
            ],
            [
             0.1111111111111111,
             "#46039f"
            ],
            [
             0.2222222222222222,
             "#7201a8"
            ],
            [
             0.3333333333333333,
             "#9c179e"
            ],
            [
             0.4444444444444444,
             "#bd3786"
            ],
            [
             0.5555555555555556,
             "#d8576b"
            ],
            [
             0.6666666666666666,
             "#ed7953"
            ],
            [
             0.7777777777777778,
             "#fb9f3a"
            ],
            [
             0.8888888888888888,
             "#fdca26"
            ],
            [
             1,
             "#f0f921"
            ]
           ]
          },
          "colorway": [
           "#636efa",
           "#EF553B",
           "#00cc96",
           "#ab63fa",
           "#FFA15A",
           "#19d3f3",
           "#FF6692",
           "#B6E880",
           "#FF97FF",
           "#FECB52"
          ],
          "font": {
           "color": "#2a3f5f"
          },
          "geo": {
           "bgcolor": "white",
           "lakecolor": "white",
           "landcolor": "#E5ECF6",
           "showlakes": true,
           "showland": true,
           "subunitcolor": "white"
          },
          "hoverlabel": {
           "align": "left"
          },
          "hovermode": "closest",
          "mapbox": {
           "style": "light"
          },
          "paper_bgcolor": "white",
          "plot_bgcolor": "#E5ECF6",
          "polar": {
           "angularaxis": {
            "gridcolor": "white",
            "linecolor": "white",
            "ticks": ""
           },
           "bgcolor": "#E5ECF6",
           "radialaxis": {
            "gridcolor": "white",
            "linecolor": "white",
            "ticks": ""
           }
          },
          "scene": {
           "xaxis": {
            "backgroundcolor": "#E5ECF6",
            "gridcolor": "white",
            "gridwidth": 2,
            "linecolor": "white",
            "showbackground": true,
            "ticks": "",
            "zerolinecolor": "white"
           },
           "yaxis": {
            "backgroundcolor": "#E5ECF6",
            "gridcolor": "white",
            "gridwidth": 2,
            "linecolor": "white",
            "showbackground": true,
            "ticks": "",
            "zerolinecolor": "white"
           },
           "zaxis": {
            "backgroundcolor": "#E5ECF6",
            "gridcolor": "white",
            "gridwidth": 2,
            "linecolor": "white",
            "showbackground": true,
            "ticks": "",
            "zerolinecolor": "white"
           }
          },
          "shapedefaults": {
           "line": {
            "color": "#2a3f5f"
           }
          },
          "ternary": {
           "aaxis": {
            "gridcolor": "white",
            "linecolor": "white",
            "ticks": ""
           },
           "baxis": {
            "gridcolor": "white",
            "linecolor": "white",
            "ticks": ""
           },
           "bgcolor": "#E5ECF6",
           "caxis": {
            "gridcolor": "white",
            "linecolor": "white",
            "ticks": ""
           }
          },
          "title": {
           "x": 0.05
          },
          "xaxis": {
           "automargin": true,
           "gridcolor": "white",
           "linecolor": "white",
           "ticks": "",
           "title": {
            "standoff": 15
           },
           "zerolinecolor": "white",
           "zerolinewidth": 2
          },
          "yaxis": {
           "automargin": true,
           "gridcolor": "white",
           "linecolor": "white",
           "ticks": "",
           "title": {
            "standoff": 15
           },
           "zerolinecolor": "white",
           "zerolinewidth": 2
          }
         }
        },
        "title": {
         "text": "ifa_meander antenna surface current in radiation mode"
        },
        "width": 800
       }
      }
     },
     "metadata": {},
     "output_type": "display_data"
    },
    {
     "name": "stdout",
     "output_type": "stream",
     "text": [
      "Simulation 43/76 | f = 868.00 MHz | S11 = -17.14 dB\n",
      "Simulation 44/76 | f = 872.00 MHz | S11 = -18.55 dB\n",
      "Simulation 45/76 | f = 876.00 MHz | S11 = -18.10 dB\n",
      "Simulation 46/76 | f = 880.00 MHz | S11 = -16.26 dB\n",
      "Simulation 47/76 | f = 884.00 MHz | S11 = -14.21 dB\n",
      "Simulation 48/76 | f = 888.00 MHz | S11 = -12.39 dB\n",
      "Simulation 49/76 | f = 892.00 MHz | S11 = -10.86 dB\n",
      "Simulation 50/76 | f = 896.00 MHz | S11 = -9.58 dB\n",
      "Simulation 51/76 | f = 900.00 MHz | S11 = -8.50 dB\n",
      "Simulation 52/76 | f = 904.00 MHz | S11 = -7.59 dB\n",
      "Simulation 53/76 | f = 908.00 MHz | S11 = -6.82 dB\n",
      "Simulation 54/76 | f = 912.00 MHz | S11 = -6.15 dB\n",
      "Simulation 55/76 | f = 916.00 MHz | S11 = -5.57 dB\n",
      "Simulation 56/76 | f = 920.00 MHz | S11 = -5.06 dB\n",
      "Simulation 57/76 | f = 924.00 MHz | S11 = -4.62 dB\n",
      "Simulation 58/76 | f = 928.00 MHz | S11 = -4.23 dB\n",
      "Simulation 59/76 | f = 932.00 MHz | S11 = -3.88 dB\n",
      "Simulation 60/76 | f = 936.00 MHz | S11 = -3.58 dB\n",
      "Simulation 61/76 | f = 940.00 MHz | S11 = -3.31 dB\n",
      "Simulation 62/76 | f = 944.00 MHz | S11 = -3.06 dB\n",
      "Simulation 63/76 | f = 948.00 MHz | S11 = -2.85 dB\n",
      "Simulation 64/76 | f = 952.00 MHz | S11 = -2.65 dB\n",
      "Simulation 65/76 | f = 956.00 MHz | S11 = -2.47 dB\n",
      "Simulation 66/76 | f = 960.00 MHz | S11 = -2.31 dB\n",
      "Simulation 67/76 | f = 964.00 MHz | S11 = -2.17 dB\n",
      "Simulation 68/76 | f = 968.00 MHz | S11 = -2.03 dB\n",
      "Simulation 69/76 | f = 972.00 MHz | S11 = -1.91 dB\n",
      "Simulation 70/76 | f = 976.00 MHz | S11 = -1.80 dB\n",
      "Simulation 71/76 | f = 980.00 MHz | S11 = -1.70 dB\n",
      "Simulation 72/76 | f = 984.00 MHz | S11 = -1.60 dB\n",
      "Simulation 73/76 | f = 988.00 MHz | S11 = -1.52 dB\n",
      "Simulation 74/76 | f = 992.00 MHz | S11 = -1.44 dB\n",
      "Simulation 75/76 | f = 996.00 MHz | S11 = -1.37 dB\n",
      "Simulation 76/76 | f = 1000.00 MHz | S11 = -1.30 dB\n",
      "\n",
      "📡 Résultats de simulation :\n",
      "→ Fréquence de résonance = 872.00 MHz\n",
      "→ Impédance à f_res      = 40.96-5.84j Ω\n"
     ]
    },
    {
     "data": {
      "image/png": "[encoded data removed]",
      "text/plain": [
       "<Figure size 700x432.624 with 1 Axes>"
      ]
     },
     "metadata": {},
     "output_type": "display_data"
    },
    {
     "name": "stdout",
     "output_type": "stream",
     "text": [
      "\n",
      "Ratio = 1.0046082949308757\n",
      "\n",
      "\n",
      "Required Accuracy is met!\n",
      "Temps de simulation : 0 minutes et 3.07 secondes\n",
      "Convergence atteinte à l'itération 2\n"
     ]
    }
   ],
   "source": [
    "import time\n",
    "start_time = time.time()\n",
    "iteration = 1\n",
    "max_iter = 20\n",
    "Accuracy = 0.01\n",
    "converged = False\n",
    "count = 0\n",
    "while iteration <= max_iter and not converged:\n",
    "    try:\n",
    "        print(f\"\\n------------------------------------------------------Iteration N°{iteration}------------------------------------------------------\\n\")\n",
    "        print(f\"distance meandres = {distance_meandre * 1000:.3f} mm\\n\")\n",
    "        \n",
    "        N_list_elem, new_distance_meandre_elem = creation_ifa(a, b, largeur_piste, distance_meandre, feed, x_t, y_t, save_mesh_folder, mesh_name, mesh_size)\n",
    "        print(f\"Number of meanders = {N_list_elem}\\n\")\n",
    "\n",
    "        print(f\"New distance meandres = {new_distance_meandre_elem * 1000:.3f} mm\")\n",
    "        print(f\"Largeur de piste ifa = {largeur_piste * 1000:.3f} mm\")\n",
    "        print(f\"position feed = {feed * 1000:.3f} mm\\n\")\n",
    "\n",
    "        frequence_resonance, s11_db, R_res, X_res = simulate(frequencies, ifa_meander_mat, fC, feed_point)\n",
    "        plot_s11_curve(fLow, fHigh, nPoints, s11_db, fC)\n",
    "\n",
    "        ratio = frequence_resonance / fC\n",
    "        print(f\"\\nRatio = {ratio}\\n\")\n",
    "        # distance_meandre = distance_meandre / ratio\n",
    "\n",
    "        if (abs((fC - frequence_resonance)/fC) < Accuracy):\n",
    "            min_index = np.argmin(s11_db)\n",
    "            min_s11 = s11_db[min_index]\n",
    "            s11_fc = s11_db[fc_index]\n",
    "            if s11_fc < -10 or min_s11 < -20:\n",
    "                converged = True\n",
    "                print(\"\\nRequired Accuracy is met!\")\n",
    "                break\n",
    "            else:\n",
    "                print(\"\\nOn cherche le matching !!!\")\n",
    "\n",
    "                if ratio == 1:\n",
    "                    print(\"Ratio == 1 on modifie le feed parce quon a pas une bonne adaptation\")\n",
    "                    ratio_adapt_feed = math.sqrt(R_res / 50)\n",
    "                    feed = max(min(feed / ratio_adapt_feed, b - 3 * largeur_piste / 2 - 0.5 / 1000), largeur_piste / 2)\n",
    "                else:\n",
    "                    adapt_with_ratio_cube(distance_meandre, largeur_piste, ratio)             # New Addd ---- delete maybe\n",
    "\n",
    "                    feed = max(min(feed * ratio**2, b - 3 * largeur_piste / 2 - 0.5 / 1000), largeur_piste / 2)\n",
    "\n",
    "                    print(f\"\\nresultat feed = {feed * 1000:.3f} mm\")\n",
    "\n",
    "                if feed == b - 3 * largeur_piste / 2 - 0.5 / 1000 or feed == largeur_piste / 2:\n",
    "                    distance_meandre, largeur_piste = adapt_with_ratio_square(distance_meandre, largeur_piste, ratio)\n",
    "\n",
    "                feed_point       = [0, feed, 0]\n",
    "\n",
    "        elif abs(frequence_resonance - fC) < 0.02 * fC:\n",
    "            print(f\"\\nWe are within 2% of fc!\\n\")\n",
    "            count += 1\n",
    "            feed = max(min(feed * ratio**2, b - 3 * largeur_piste / 2 - 0.5 / 1000), largeur_piste / 2)\n",
    "\n",
    "            if feed == b - 3 * largeur_piste / 2 - 0.5 / 1000 or feed == largeur_piste / 2:\n",
    "                print(\"\\nBord extreme atteint\\n\")\n",
    "                distance_meandre, largeur_piste = adapt_with_ratio_square(distance_meandre, largeur_piste, ratio)\n",
    "            \n",
    "            feed_point       = [0, feed, 0]\n",
    "        else:\n",
    "            print(f\"\\nWe are FAR of fc!\\n\")\n",
    "            distance_meandre, largeur_piste = adapt_with_ratio_square(distance_meandre, largeur_piste, ratio)\n",
    "\n",
    "            \"\"\" # New Add    ---- delete maybe\n",
    "\n",
    "            feed = max(min(feed * ratio**3, b - 3 * largeur_piste / 2 - 0.5 / 1000), largeur_piste / 2)\n",
    "\n",
    "            if feed == b - 3 * largeur_piste / 2 - 0.5 / 1000 or feed == largeur_piste / 2:\n",
    "                print(\"\\nBord extreme atteint\\n\")\n",
    "                distance_meandre, largeur_piste = adapt_with_ratio_square(distance_meandre, largeur_piste, ratio)\n",
    "\n",
    "            # New Add   ---- delete maybe\n",
    "            \n",
    "            feed_point       = [0, feed, 0] \"\"\"\n",
    "\n",
    "        iteration += 1\n",
    "    except ValueError as e:\n",
    "        print(f\"Error: {e}\")\n",
    "\n",
    "end_time = time.time()\n",
    "simulation_time = end_time - start_time\n",
    "simulation_time_minutes = simulation_time / 60\n",
    "simulation_time_seconds = simulation_time % 60\n",
    "print(f\"Temps de simulation : {simulation_time_minutes:.0f} minutes et {simulation_time_seconds:.2f} secondes\")\n",
    "if converged:\n",
    "    print(f\"Convergence atteinte à l'itération {iteration}\")\n",
    "else:\n",
    "    print(f\"Convergence non atteinte après {max_iter} itérations\")"
   ]
  }
 ],
 "metadata": {
  "kernelspec": {
   "display_name": "antenna_solver",
   "language": "python",
   "name": "python3"
  },
  "language_info": {
   "codemirror_mode": {
    "name": "ipython",
    "version": 3
   },
   "file_extension": ".py",
   "mimetype": "text/x-python",
   "name": "python",
   "nbconvert_exporter": "python",
   "pygments_lexer": "ipython3",
   "version": "3.12.9"
  }
 },
 "nbformat": 4,
 "nbformat_minor": 5
}
