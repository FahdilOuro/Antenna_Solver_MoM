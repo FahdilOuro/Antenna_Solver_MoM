{
 "cells": [
  {
   "cell_type": "code",
   "execution_count": 1,
   "id": "250c2240",
   "metadata": {},
   "outputs": [],
   "source": [
    "from utils.ifa_meander_project_v2.geometry import *\n",
    "from utils.ifa_meander_project_v2.frequency import *\n",
    "from utils.ifa_meander_project_v2.algorithms import *"
   ]
  },
  {
   "cell_type": "code",
   "execution_count": 2,
   "id": "9d7a85b2",
   "metadata": {},
   "outputs": [
    {
     "name": "stdout",
     "output_type": "stream",
     "text": [
      "Nombre de fréquences (nPoints) : 101\n",
      "Index de fC : 42\n"
     ]
    }
   ],
   "source": [
    "fLow = 700e6\n",
    "fHigh = 1100e6\n",
    "fC = 868e6\n",
    "step = 4e6\n",
    "frequencies, fc_index, nPoints = generate_frequencies(fLow, fHigh, fC, step)\n",
    "\n",
    "print(f\"Nombre de fréquences (nPoints) : {nPoints}\")\n",
    "print(f\"Index de fC : {fc_index}\")"
   ]
  },
  {
   "cell_type": "code",
   "execution_count": 3,
   "id": "044e5d0e",
   "metadata": {},
   "outputs": [],
   "source": [
    "mesh_name = \"ifa_M_opti3.msh\"\n",
    "save_mesh_folder = 'data/gmsh_files/'\n",
    "ifa_meander_mat = 'data/antennas_mesh/ifa_M_opti3.mat'\n",
    "ifa_meander_msh = save_mesh_folder + mesh_name"
   ]
  },
  {
   "cell_type": "code",
   "execution_count": 4,
   "id": "f8c7117d",
   "metadata": {},
   "outputs": [
    {
     "name": "stdout",
     "output_type": "stream",
     "text": [
      "largeur_piste = 2.90 mm\n",
      "distance_meandre = 2.90 mm\n",
      "feed = 22.00 mm\n",
      "mesh_size = 8.70\n"
     ]
    }
   ],
   "source": [
    "a = 29 / 1000  # Largeur\n",
    "b = 44 / 1000  # Hauteur\n",
    "\n",
    "terminal_a = 89 / 1000\n",
    "terminal_b = b\n",
    "x_t = np.array([-terminal_a + a, 0, 0, -terminal_a + a])\n",
    "y_t = np.array([terminal_b, terminal_b, 0, 0])\n",
    "\n",
    "# On fixe le short feed et la largur de piste\n",
    "if b / a > 2:\n",
    "    largeur_piste    = a / 5          # Valeur Minimale    \n",
    "    distance_meandre = a / 5          # Valeur choisie en fonction du resulat de analyse_dist_meandre.ipynb\n",
    "else:\n",
    "    largeur_piste    = a / 10          # Valeur Minimale    \n",
    "    distance_meandre = a / 10          # Valeur choisie en fonction du resulat de analyse_dist_meandre.ipynb\n",
    "\n",
    "feed = 0.5 * b\n",
    "feed_point = [0, feed, 0]\n",
    "mesh_size = 3 * largeur_piste\n",
    "\n",
    "# Affichage des valeurs\n",
    "print(f\"largeur_piste = {largeur_piste * 1000:.2f} mm\")\n",
    "print(f\"distance_meandre = {distance_meandre * 1000:.2f} mm\")\n",
    "print(f\"feed = {feed * 1000:.2f} mm\")\n",
    "print(f\"mesh_size = {mesh_size * 1000:.2f}\")"
   ]
  },
  {
   "cell_type": "code",
   "execution_count": 5,
   "id": "80127129",
   "metadata": {},
   "outputs": [
    {
     "name": "stdout",
     "output_type": "stream",
     "text": [
      "\n",
      "------------------------------------------------------Iteration N°1------------------------------------------------------\n",
      "\n",
      "distance meandres = 2.900 mm\n",
      "\n",
      "Number of meanders = 5\n",
      "\n",
      "New distance meandres = 2.900 mm\n",
      "Largeur de piste ifa = 2.900 mm\n",
      "position feed = 22.000 mm\n",
      "\n"
     ]
    },
    {
     "ename": "AttributeError",
     "evalue": "'list' object has no attribute 'T'",
     "output_type": "error",
     "traceback": [
      "\u001b[31m---------------------------------------------------------------------------\u001b[39m",
      "\u001b[31mAttributeError\u001b[39m                            Traceback (most recent call last)",
      "\u001b[36mCell\u001b[39m\u001b[36m \u001b[39m\u001b[32mIn[5]\u001b[39m\u001b[32m, line 1\u001b[39m\n\u001b[32m----> \u001b[39m\u001b[32m1\u001b[39m \u001b[43moptimize_ifa\u001b[49m\u001b[43m(\u001b[49m\u001b[43mifa_meander_msh\u001b[49m\u001b[43m,\u001b[49m\u001b[43m \u001b[49m\u001b[43mifa_meander_mat\u001b[49m\u001b[43m,\u001b[49m\n\u001b[32m      2\u001b[39m \u001b[43m             \u001b[49m\u001b[43mfrequencies\u001b[49m\u001b[43m,\u001b[49m\u001b[43m \u001b[49m\u001b[43mfC\u001b[49m\u001b[43m,\u001b[49m\u001b[43m \u001b[49m\u001b[43mfLow\u001b[49m\u001b[43m,\u001b[49m\u001b[43m \u001b[49m\u001b[43mfHigh\u001b[49m\u001b[43m,\u001b[49m\u001b[43m \u001b[49m\u001b[43mnPoints\u001b[49m\u001b[43m,\u001b[49m\u001b[43m \u001b[49m\u001b[43mfc_index\u001b[49m\u001b[43m,\u001b[49m\n\u001b[32m      3\u001b[39m \u001b[43m             \u001b[49m\u001b[43ma\u001b[49m\u001b[43m,\u001b[49m\u001b[43m \u001b[49m\u001b[43mb\u001b[49m\u001b[43m,\u001b[49m\u001b[43m \u001b[49m\u001b[43mlargeur_piste\u001b[49m\u001b[43m,\u001b[49m\u001b[43m \u001b[49m\u001b[43mdistance_meandre\u001b[49m\u001b[43m,\u001b[49m\u001b[43m \u001b[49m\u001b[43mfeed\u001b[49m\u001b[43m,\u001b[49m\u001b[43m \u001b[49m\u001b[43mfeed_point\u001b[49m\u001b[43m,\u001b[49m\u001b[43m \u001b[49m\u001b[43mx_t\u001b[49m\u001b[43m,\u001b[49m\u001b[43m \u001b[49m\u001b[43my_t\u001b[49m\u001b[43m,\u001b[49m\u001b[43m \u001b[49m\u001b[43msave_mesh_folder\u001b[49m\u001b[43m,\u001b[49m\u001b[43m \u001b[49m\u001b[43mmesh_name\u001b[49m\u001b[43m,\u001b[49m\u001b[43m \u001b[49m\u001b[43mmesh_size\u001b[49m\u001b[43m)\u001b[49m\n",
      "\u001b[36mFile \u001b[39m\u001b[32md:\\phd_fahdilou_leat\\projets_github\\antenna_solver_mom\\utils\\ifa_meander_project_v2\\algorithms.py:82\u001b[39m, in \u001b[36moptimize_ifa\u001b[39m\u001b[34m(msh_file, mat_file, frequencies, frequence_Coupure, fLow, fHigh, nPoints, fc_index, a, b, largeur_piste, distance_meandre, feed, feed_point, x_t, y_t, save_mesh_folder, mesh_name, mesh_size)\u001b[39m\n\u001b[32m     79\u001b[39m \u001b[38;5;28mprint\u001b[39m(\u001b[33mf\u001b[39m\u001b[33m\"\u001b[39m\u001b[33mLargeur de piste ifa = \u001b[39m\u001b[38;5;132;01m{\u001b[39;00mlargeur_piste\u001b[38;5;250m \u001b[39m*\u001b[38;5;250m \u001b[39m\u001b[32m1000\u001b[39m\u001b[38;5;132;01m:\u001b[39;00m\u001b[33m.3f\u001b[39m\u001b[38;5;132;01m}\u001b[39;00m\u001b[33m mm\u001b[39m\u001b[33m\"\u001b[39m)\n\u001b[32m     80\u001b[39m \u001b[38;5;28mprint\u001b[39m(\u001b[33mf\u001b[39m\u001b[33m\"\u001b[39m\u001b[33mposition feed = \u001b[39m\u001b[38;5;132;01m{\u001b[39;00mfeed\u001b[38;5;250m \u001b[39m*\u001b[38;5;250m \u001b[39m\u001b[32m1000\u001b[39m\u001b[38;5;132;01m:\u001b[39;00m\u001b[33m.3f\u001b[39m\u001b[38;5;132;01m}\u001b[39;00m\u001b[33m mm\u001b[39m\u001b[38;5;130;01m\\n\u001b[39;00m\u001b[33m\"\u001b[39m)\n\u001b[32m---> \u001b[39m\u001b[32m82\u001b[39m frequence_resonance, s11_db, R_res, X_res = \u001b[43msimulate\u001b[49m\u001b[43m(\u001b[49m\u001b[43mfrequencies\u001b[49m\u001b[43m,\u001b[49m\u001b[43m \u001b[49m\u001b[43mmat_file\u001b[49m\u001b[43m,\u001b[49m\u001b[43m \u001b[49m\u001b[43mfrequence_Coupure\u001b[49m\u001b[43m,\u001b[49m\u001b[43m \u001b[49m\u001b[43mfeed_point\u001b[49m\u001b[43m)\u001b[49m\n\u001b[32m     83\u001b[39m \u001b[38;5;66;03m# Q = calculate_Q(frequencies, s11_db, frequence_resonance)\u001b[39;00m\n\u001b[32m     84\u001b[39m plot_s11_curve(fLow, fHigh, nPoints, s11_db, frequence_Coupure)\n",
      "\u001b[36mFile \u001b[39m\u001b[32md:\\phd_fahdilou_leat\\projets_github\\antenna_solver_mom\\utils\\ifa_meander_project_v2\\simulation.py:40\u001b[39m, in \u001b[36msimulate\u001b[39m\u001b[34m(frequencies, ifa_meander_mat, fC, feed_point)\u001b[39m\n\u001b[32m     38\u001b[39m \u001b[38;5;28;01mfor\u001b[39;00m idx, frequency \u001b[38;5;129;01min\u001b[39;00m \u001b[38;5;28menumerate\u001b[39m(frequencies):\n\u001b[32m     39\u001b[39m     visualiser = (frequency == fC)\n\u001b[32m---> \u001b[39m\u001b[32m40\u001b[39m     impedance, *_ = \u001b[43mradiation_algorithm\u001b[49m\u001b[43m(\u001b[49m\u001b[43mifa_meander_mat\u001b[49m\u001b[43m,\u001b[49m\u001b[43m \u001b[49m\u001b[43mfrequency\u001b[49m\u001b[43m,\u001b[49m\u001b[43m \u001b[49m\u001b[43mfeed_point\u001b[49m\u001b[43m,\u001b[49m\u001b[43m \u001b[49m\u001b[43mvoltage_amplitude\u001b[49m\u001b[43m=\u001b[49m\u001b[32;43m0.5\u001b[39;49m\u001b[43m,\u001b[49m\u001b[43m \u001b[49m\u001b[43mshow\u001b[49m\u001b[43m=\u001b[49m\u001b[43mvisualiser\u001b[49m\u001b[43m,\u001b[49m\u001b[43m \u001b[49m\u001b[43msave_image\u001b[49m\u001b[43m=\u001b[49m\u001b[38;5;28;43;01mTrue\u001b[39;49;00m\u001b[43m)\u001b[49m\n\u001b[32m     41\u001b[39m     impedances.append(impedance)\n\u001b[32m     42\u001b[39m     s11 = (impedance - Z0) / (impedance + Z0)\n",
      "\u001b[36mFile \u001b[39m\u001b[32md:\\phd_fahdilou_leat\\projets_github\\antenna_solver_mom\\src\\radiation_algorithm\\radiation_algorithm.py:106\u001b[39m, in \u001b[36mradiation_algorithm\u001b[39m\u001b[34m(mesh1, frequency, feed_point, voltage_amplitude, load_from_matlab, monopole, simulate_array_antenna, show, save_image, load_lumped_elements, LoadPoint, LoadValue, LoadDir)\u001b[39m\n\u001b[32m    103\u001b[39m filename_impedance = save_folder_name_impedance + save_file_name_impedance\n\u001b[32m    105\u001b[39m \u001b[38;5;66;03m# Calcul du courant induit sur l'antenne par l'onde incidente\u001b[39;00m\n\u001b[32m--> \u001b[39m\u001b[32m106\u001b[39m frequency, omega, mu, epsilon, light_speed_c, eta, voltage, current, gap_current, gap_voltage, impedance, feed_power, index_feeding_edges = \u001b[43mcalculate_current_radiation\u001b[49m\u001b[43m(\u001b[49m\u001b[43mfilename_mesh2_to_load\u001b[49m\u001b[43m,\u001b[49m\u001b[43m \u001b[49m\u001b[43mfilename_impedance\u001b[49m\u001b[43m,\u001b[49m\u001b[43m \u001b[49m\u001b[43mfeed_point\u001b[49m\u001b[43m,\u001b[49m\u001b[43m \u001b[49m\u001b[43mvoltage_amplitude\u001b[49m\u001b[43m,\u001b[49m\u001b[43m \u001b[49m\u001b[43mmonopole\u001b[49m\u001b[43m,\u001b[49m\u001b[43m \u001b[49m\u001b[43msimulate_array_antenna\u001b[49m\u001b[43m)\u001b[49m\n\u001b[32m    108\u001b[39m \u001b[38;5;250m\u001b[39m\u001b[33;03m\"\"\" # informations sur la donnee current a savoir le shape et le type et le nombre de lignes et columnes\u001b[39;00m\n\u001b[32m    109\u001b[39m \u001b[33;03mprint(f\"\\nShape of current data: {current.shape}, Type: {current.dtype}\") \"\"\"\u001b[39;00m\n\u001b[32m    111\u001b[39m \u001b[38;5;66;03m# Affichage des résultats, gestion des scalaires et des tableaux\u001b[39;00m\n",
      "\u001b[36mFile \u001b[39m\u001b[32md:\\phd_fahdilou_leat\\projets_github\\antenna_solver_mom\\rwg\\rwg4.py:173\u001b[39m, in \u001b[36mcalculate_current_radiation\u001b[39m\u001b[34m(filename_mesh_2, filename_impedance, feed_point, voltage_amplitude, monopole, simulate_array_antenna)\u001b[39m\n\u001b[32m    170\u001b[39m \u001b[38;5;66;03m# Initialisation du vecteur de tension\u001b[39;00m\n\u001b[32m    171\u001b[39m voltage = np.zeros(edges.total_number_of_edges, dtype=\u001b[38;5;28mcomplex\u001b[39m)\n\u001b[32m--> \u001b[39m\u001b[32m173\u001b[39m index_feeding_edges = \u001b[43mfind_feed_edges\u001b[49m\u001b[43m(\u001b[49m\u001b[43mpoints\u001b[49m\u001b[43m,\u001b[49m\u001b[43m \u001b[49m\u001b[43medges\u001b[49m\u001b[43m,\u001b[49m\u001b[43m \u001b[49m\u001b[43mfeed_point\u001b[49m\u001b[43m,\u001b[49m\u001b[43m \u001b[49m\u001b[43mmonopole\u001b[49m\u001b[43m)\u001b[49m\n\u001b[32m    175\u001b[39m \u001b[38;5;66;03m# --- Application de la tension avec phase progressive si simulate_array ---\u001b[39;00m\n\u001b[32m    176\u001b[39m \u001b[38;5;28;01mif\u001b[39;00m simulate_array_antenna:\n",
      "\u001b[36mFile \u001b[39m\u001b[32md:\\phd_fahdilou_leat\\projets_github\\antenna_solver_mom\\rwg\\rwg4.py:100\u001b[39m, in \u001b[36mfind_feed_edges\u001b[39m\u001b[34m(points, edges, feed_point, monopole)\u001b[39m\n\u001b[32m     98\u001b[39m \u001b[38;5;28;01mdef\u001b[39;00m\u001b[38;5;250m \u001b[39m\u001b[34mfind_feed_edges\u001b[39m(points, edges, feed_point, monopole=\u001b[38;5;28;01mFalse\u001b[39;00m):\n\u001b[32m     99\u001b[39m     \u001b[38;5;66;03m# --- Normalisation de feed_point / Feed ---\u001b[39;00m\n\u001b[32m--> \u001b[39m\u001b[32m100\u001b[39m     Feed = np.asarray(\u001b[43mfeed_point\u001b[49m\u001b[43m.\u001b[49m\u001b[43mT\u001b[49m)\n\u001b[32m    101\u001b[39m     \u001b[38;5;28;01mif\u001b[39;00m Feed.ndim == \u001b[32m1\u001b[39m:\n\u001b[32m    102\u001b[39m         Feed = Feed.reshape(\u001b[32m3\u001b[39m, \u001b[32m1\u001b[39m)\n",
      "\u001b[31mAttributeError\u001b[39m: 'list' object has no attribute 'T'"
     ]
    }
   ],
   "source": [
    "optimize_ifa(ifa_meander_msh, ifa_meander_mat,\n",
    "             frequencies, fC, fLow, fHigh, nPoints, fc_index,\n",
    "             a, b, largeur_piste, distance_meandre, feed, feed_point, x_t, y_t, save_mesh_folder, mesh_name, mesh_size)"
   ]
  }
 ],
 "metadata": {
  "kernelspec": {
   "display_name": "antenna_solver",
   "language": "python",
   "name": "python3"
  },
  "language_info": {
   "codemirror_mode": {
    "name": "ipython",
    "version": 3
   },
   "file_extension": ".py",
   "mimetype": "text/x-python",
   "name": "python",
   "nbconvert_exporter": "python",
   "pygments_lexer": "ipython3",
   "version": "3.12.9"
  }
 },
 "nbformat": 4,
 "nbformat_minor": 5
}
