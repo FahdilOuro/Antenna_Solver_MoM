{
 "cells": [
  {
   "cell_type": "code",
   "execution_count": null,
   "id": "86dd89ab",
   "metadata": {},
   "outputs": [],
   "source": [
    "\"This code simulate the antennas and optimize their parameters to get the best performance at 868 MHz\""
   ]
  },
  {
   "cell_type": "code",
   "execution_count": 1,
   "id": "250c2240",
   "metadata": {},
   "outputs": [],
   "source": [
    "from utils.ifa_meander_project_v2.geometry import *\n",
    "from utils.ifa_meander_project_v2.frequency import *\n",
    "from utils.ifa_meander_project_v2.algorithms import *"
   ]
  },
  {
   "cell_type": "code",
   "execution_count": 2,
   "id": "9d7a85b2",
   "metadata": {},
   "outputs": [
    {
     "name": "stdout",
     "output_type": "stream",
     "text": [
      "Number of frequencies (nPoints): 101\n",
      "Index of fC: 42\n"
     ]
    }
   ],
   "source": [
    "fLow = 700e6\n",
    "fHigh = 1100e6\n",
    "fC = 868e6\n",
    "step = 4e6\n",
    "\n",
    "frequencies, fc_index, nPoints = generate_frequencies(fLow, fHigh, fC, step)\n",
    "\n",
    "print(f\"Number of frequencies (nPoints): {nPoints}\")\n",
    "print(f\"Index of fC: {fc_index}\")"
   ]
  },
  {
   "cell_type": "code",
   "execution_count": 3,
   "id": "044e5d0e",
   "metadata": {},
   "outputs": [],
   "source": [
    "mesh_name = \"ifa_M_opti3.msh\"\n",
    "save_mesh_folder = 'data/gmsh_files/'\n",
    "ifa_meander_mat = 'data/antennas_mesh/ifa_M_opti3.mat'\n",
    "ifa_meander_msh = save_mesh_folder + mesh_name"
   ]
  },
  {
   "cell_type": "code",
   "execution_count": 4,
   "id": "f8c7117d",
   "metadata": {},
   "outputs": [
    {
     "name": "stdout",
     "output_type": "stream",
     "text": [
      "Track width = 5.40 mm\n",
      "Meander distance = 5.40 mm\n",
      "Feed = 27.50 mm\n",
      "Mesh size = 16.20 mm\n"
     ]
    }
   ],
   "source": [
    "a = 27 / 1000  # Width\n",
    "b = 55 / 1000  # Height\n",
    "\n",
    "terminal_a = 92 / 1000\n",
    "terminal_b = b\n",
    "x_t = np.array([-terminal_a + a, 0, 0, -terminal_a + a])\n",
    "y_t = np.array([terminal_b, terminal_b, 0, 0])\n",
    "\n",
    "# Fix the short feed and the track width\n",
    "if b / a > 2:\n",
    "    largeur_piste    = a / 5          # Minimum value    \n",
    "    distance_meandre = a / 5          # Value chosen based on the result from analyse_dist_meandre.ipynb\n",
    "else:\n",
    "    largeur_piste    = a / 10         # Minimum value    \n",
    "    distance_meandre = a / 10         # Value chosen based on the result from analyse_dist_meandre.ipynb\n",
    "\n",
    "feed = 0.5 * b\n",
    "feed_point = np.array([0, feed, 0])\n",
    "mesh_size = 3 * largeur_piste\n",
    "\n",
    "# Display values\n",
    "print(f\"Track width = {largeur_piste * 1000:.2f} mm\")\n",
    "print(f\"Meander distance = {distance_meandre * 1000:.2f} mm\")\n",
    "print(f\"Feed = {feed * 1000:.2f} mm\")\n",
    "print(f\"Mesh size = {mesh_size * 1000:.2f} mm\")"
   ]
  },
  {
   "cell_type": "code",
   "execution_count": 5,
   "id": "80127129",
   "metadata": {},
   "outputs": [
    {
     "name": "stdout",
     "output_type": "stream",
     "text": [
      "\n",
      "------------------------------------------------------Iteration N°1------------------------------------------------------\n",
      "\n",
      "distance meanders = 5.400 mm\n",
      "\n",
      "Number of meanders = 2\n",
      "\n",
      "New distance meanders = 8.100 mm\n",
      "IFA track width = 5.400 mm\n",
      "feed position = 27.500 mm\n",
      "\n",
      "Simulation 1/101 | f = 700.00 MHz | S11 = -0.54 dB\n",
      "Simulation 2/101 | f = 704.00 MHz | S11 = -0.57 dB\n",
      "Simulation 3/101 | f = 708.00 MHz | S11 = -0.60 dB\n",
      "Simulation 4/101 | f = 712.00 MHz | S11 = -0.64 dB\n",
      "Simulation 5/101 | f = 716.00 MHz | S11 = -0.67 dB\n",
      "Simulation 6/101 | f = 720.00 MHz | S11 = -0.71 dB\n",
      "Simulation 7/101 | f = 724.00 MHz | S11 = -0.75 dB\n",
      "Simulation 8/101 | f = 728.00 MHz | S11 = -0.79 dB\n",
      "Simulation 9/101 | f = 732.00 MHz | S11 = -0.84 dB\n",
      "Simulation 10/101 | f = 736.00 MHz | S11 = -0.88 dB\n",
      "Simulation 11/101 | f = 740.00 MHz | S11 = -0.94 dB\n",
      "Simulation 12/101 | f = 744.00 MHz | S11 = -0.99 dB\n",
      "Simulation 13/101 | f = 748.00 MHz | S11 = -1.05 dB\n",
      "Simulation 14/101 | f = 752.00 MHz | S11 = -1.11 dB\n",
      "Simulation 15/101 | f = 756.00 MHz | S11 = -1.18 dB\n",
      "Simulation 16/101 | f = 760.00 MHz | S11 = -1.25 dB\n",
      "Simulation 17/101 | f = 764.00 MHz | S11 = -1.33 dB\n",
      "Simulation 18/101 | f = 768.00 MHz | S11 = -1.41 dB\n",
      "Simulation 19/101 | f = 772.00 MHz | S11 = -1.50 dB\n",
      "Simulation 20/101 | f = 776.00 MHz | S11 = -1.59 dB\n",
      "Simulation 21/101 | f = 780.00 MHz | S11 = -1.70 dB\n",
      "Simulation 22/101 | f = 784.00 MHz | S11 = -1.81 dB\n",
      "Simulation 23/101 | f = 788.00 MHz | S11 = -1.93 dB\n",
      "Simulation 24/101 | f = 792.00 MHz | S11 = -2.05 dB\n",
      "Simulation 25/101 | f = 796.00 MHz | S11 = -2.19 dB\n",
      "Simulation 26/101 | f = 800.00 MHz | S11 = -2.34 dB\n",
      "Simulation 27/101 | f = 804.00 MHz | S11 = -2.50 dB\n",
      "Simulation 28/101 | f = 808.00 MHz | S11 = -2.68 dB\n",
      "Simulation 29/101 | f = 812.00 MHz | S11 = -2.87 dB\n",
      "Simulation 30/101 | f = 816.00 MHz | S11 = -3.08 dB\n",
      "Simulation 31/101 | f = 820.00 MHz | S11 = -3.30 dB\n",
      "Simulation 32/101 | f = 824.00 MHz | S11 = -3.55 dB\n",
      "Simulation 33/101 | f = 828.00 MHz | S11 = -3.81 dB\n",
      "Simulation 34/101 | f = 832.00 MHz | S11 = -4.10 dB\n",
      "Simulation 35/101 | f = 836.00 MHz | S11 = -4.42 dB\n",
      "Simulation 36/101 | f = 840.00 MHz | S11 = -4.76 dB\n",
      "Simulation 37/101 | f = 844.00 MHz | S11 = -5.14 dB\n",
      "Simulation 38/101 | f = 848.00 MHz | S11 = -5.55 dB\n",
      "Simulation 39/101 | f = 852.00 MHz | S11 = -6.01 dB\n",
      "Simulation 40/101 | f = 856.00 MHz | S11 = -6.51 dB\n",
      "Simulation 41/101 | f = 860.00 MHz | S11 = -7.06 dB\n",
      "Simulation 42/101 | f = 864.00 MHz | S11 = -7.68 dB\n"
     ]
    },
    {
     "data": {
      "application/vnd.plotly.v1+json": {
       "config": {
        "plotlyServerURL": "https://plot.ly"
       },
       "data": [
        {
         "facecolor": [
          "rgb(255, 100, 0)",
          "rgb(42, 0, 169)",
          "rgb(43, 253, 152)",
          "rgb(120, 0, 112)",
          "rgb(90, 0, 134)",
          "rgb(25, 0, 182)",
          "rgb(58, 0, 157)",
          "rgb(80, 0, 141)",
          "rgb(27, 0, 180)",
          "rgb(22, 0, 184)",
          "rgb(0, 5, 210)",
          "rgb(77, 255, 104)",
          "rgb(41, 0, 170)",
          "rgb(111, 0, 119)",
          "rgb(255, 173, 0)",
          "rgb(38, 242, 164)",
          "rgb(0, 24, 253)",
          "rgb(255, 57, 0)",
          "rgb(131, 0, 104)",
          "rgb(255, 0, 0)",
          "rgb(81, 0, 140)",
          "rgb(255, 7, 0)",
          "rgb(124, 0, 109)",
          "rgb(133, 255, 25)",
          "rgb(97, 0, 129)",
          "rgb(189, 247, 0)",
          "rgb(19, 195, 211)",
          "rgb(0, 78, 255)",
          "rgb(47, 255, 146)",
          "rgb(124, 0, 109)",
          "rgb(100, 255, 71)",
          "rgb(60, 255, 128)",
          "rgb(90, 0, 134)",
          "rgb(0, 19, 242)",
          "rgb(43, 252, 153)",
          "rgb(255, 135, 0)",
          "rgb(88, 255, 89)",
          "rgb(253, 234, 0)",
          "rgb(255, 25, 0)",
          "rgb(39, 243, 162)",
          "rgb(254, 234, 0)",
          "rgb(127, 0, 107)",
          "rgb(74, 0, 146)",
          "rgb(102, 0, 125)",
          "rgb(111, 0, 119)",
          "rgb(139, 0, 98)",
          "rgb(115, 0, 115)",
          "rgb(136, 0, 101)",
          "rgb(106, 0, 123)",
          "rgb(97, 0, 129)",
          "rgb(111, 0, 118)",
          "rgb(31, 0, 177)",
          "rgb(63, 0, 154)",
          "rgb(88, 0, 135)",
          "rgb(0, 2, 204)",
          "rgb(34, 0, 175)",
          "rgb(132, 0, 103)",
          "rgb(91, 0, 133)",
          "rgb(129, 0, 106)",
          "rgb(136, 0, 100)",
          "rgb(123, 0, 110)",
          "rgb(0, 3, 208)",
          "rgb(38, 240, 165)",
          "rgb(149, 0, 91)",
          "rgb(69, 0, 150)",
          "rgb(118, 0, 113)",
          "rgb(139, 0, 98)",
          "rgb(107, 0, 122)",
          "rgb(0, 8, 218)",
          "rgb(68, 0, 150)",
          "rgb(136, 0, 100)",
          "rgb(108, 0, 121)",
          "rgb(120, 0, 112)",
          "rgb(64, 0, 153)",
          "rgb(114, 0, 116)",
          "rgb(150, 0, 90)",
          "rgb(92, 0, 132)",
          "rgb(93, 0, 132)",
          "rgb(131, 255, 28)"
         ],
         "i": {
          "bdata": "CCUmKy4uJBMyMjIOLy4MDy4INBk2ISweNBodHRsrJw4cHAIJJxgZAQk3Eik4FSM0ODMzMjIvOiU3Ey07LDoPFRI4FDsoNhU4LDkpNCouLg==",
          "dtype": "i1"
         },
         "j": {
          "bdata": "ICoHLTAvJTEiBS4XKDIgJgMNNgIjAjUfIx8eGx4xGAcKCwMgFwIIAh8tMSopNDQWMzgyEBEqKDoxOzcULSU6NysrOxM6JDU5NhE4FS8zAA==",
          "dtype": "i1"
         },
         "k": {
          "bdata": "DSkOLC8AKRIFECInADMJDiIhNRgkGTYaNgkbHBotARcLHQAIGAEhAAwxKzAwNQQEOTA5ETk6Lyo7MTU3NSYmFBEsBgYPKTcrKSssFjAwAw==",
          "dtype": "i1"
         },
         "name": "",
         "type": "mesh3d",
         "x": {
          "bdata": "AAAAAAAAAACC4seYu5aAP4Lix5i7loA/AAAAAAAAAACkcD0K16OwvwAAAAAAAAAApHA9CtejsL/ZzvdT46WLP9nO91PjpYs/rthfdk8elj+u2F92Tx6WP9nO91PjpZs/2c73U+Olmz+C4seYu5aAP4Lix5i7loA/AAAAAAAAAAAutMh2vp+Kvyi0yHa+n5q/IYcW2c73o781tMh2vp+qv6RwPQrXo7C/pHA9CtejsL+kcD0K16Owv9nO91PjpYs/2c73U+Oliz/ZzvdT46WLP67YX3ZPHpY/rthfdk8elj+u2F92Tx6WP9nO91PjpZs/2c73U+Olmz/ZzvdT46WbPxPgLZCg+JE/guLHmLuWgD8AAAAAAAAAAK62Yn/ZPam/EIxK6gQ0ob/hwmSqYFSSvyFtowG8BWK/guLHmLuWgD8AAAAAAAAAAK2yunZ8FZy/88Ifwq2NkL9TCc0tp7ehvwADAalpEaO/7cHb/JoVpr+KEFW+JxSBv1wW2DhKW4O/SW2ZPHvfkr/1WCTlf/mnvw5bw7s+8om/45NCY0tAkr91mK0i0q2sv4yzBjB5a6m/tIQ344+Spb/hWAY3XNWrvx7I9qjgJJu/D5B/ct4VmL9oVMOwnDV/vwvDXsIfMK2/",
          "dtype": "f8"
         },
         "y": {
          "bdata": "P1dbsb/snj8/V1uxv+yePxNhw9MrZZk/E2HD0ytlmT8pXI/C9SisPwAAAAAAAAAAAAAAAAAAAAApXI/C9SisP6/YX3ZPHnY/r9hfdk8edj8pXI/C9SisPylcj8L1KKw/AAAAAAAAMDwAAAAAAAAwPBNhw9MrZak/E2HD0ytlqT8AAAAAAAAAAAAAAAAAAAAAAAAAAAAAAAAAAAAAAAAAABhcj8L1KIw/I1yPwvUonD8dhetRuB6lP+SDns2qz6U/P1dbsb/snj+1pnnHKTqSP7WmeccpOpI/P1dbsb/snj/mg57Nqs+lPyOF61G4HqU/L1yPwvUonD8vXI/C9SiMPwAAAAAAADA8E2HD0ytliT8TYcPTK2WJPylcj8L1KKw/KVyPwvUorD8pXI/C9SisPylcj8L1KKw/WYY41sVtpD9ZhjjWxW2kP71jEza3QKQ//RZX3v8ipT/WtDmOkVqMP3ujQ8RF+pw/fZ2anPzdlD8ZrxbbqAGYP6j0sOJT4aE/Ye+CsUG6nz9oHqtSli6EP+BaN7J7moQ/udqdPvU8lT+a3NcLGlqlP3ODd2dHZZ4/Z34B29lkpT/+2FxGtp6SPxZGWgLzIZk/eEPgJvlWjD+RHFt93YanPwiBHvhQ138/",
          "dtype": "f8"
         },
         "z": {
          "bdata": "AAAAAAAAAAAAAAAAAAAAAAAAAAAAAAAAAAAAAAAAAAAAAAAAAAAAAAAAAAAAAAAAAAAAAAAAAAAAAAAAAAAAAAAAAAAAAAAAAAAAAAAAAAAAAAAAAAAAAAAAAAAAAAAAAAAAAAAAAAAAAAAAAAAAAAAAAAAAAAAAAAAAAAAAAAAAAAAAAAAAAAAAAAAAAAAAAAAAAAAAAAAAAAAAAAAAAAAAAAAAAAAAAAAAAAAAAAAAAAAAAAAAAAAAAAAAAAAAAAAAAAAAAAAAAAAAAAAAAAAAAAAAAAAAAAAAAAAAAAAAAAAAAAAAAAAAAAAAAAAAAAAAAAAAAAAAAAAAAAAAAAAAAAAAAAAAAAAAAAAAAAAAAAAAAAAAAAAAAAAAAAAAAAAAAAAAAAAAAAAAAAAAAAAAAAAAAAAAAAAAAAAAAAAAAAAAAAAAAAAAAAAAAAAAAAAAAAAAAAAAAAAAAAAAAAAAAAAAAAAAAAAAAAAAAAAAAAAAAAAAAAAAAAAAAAAAAAAAAAAAAAAAAAAAAAAAAAAAAAAAAAAAAAAAAAAAAAAAAAAAAAAAAAAAAAAAAAAAAAAAAAAAAAAAAAAAAAAAAAAAAAAAAAAAAAAAAAAAAAAAAAAAAAAAAAAAAAAAAAAA",
          "dtype": "f8"
         }
        },
        {
         "line": {
          "color": "rgb(50, 50, 50)",
          "width": 1.5
         },
         "mode": "lines",
         "showlegend": false,
         "type": "scatter3d",
         "x": [
          0.0135,
          0.01755000000000002,
          0.0081,
          0.0135,
          null,
          -0.01789999999999992,
          -0.01616546151484761,
          -0.02742571329752035,
          -0.01789999999999992,
          null,
          -0.002199999999999883,
          0.0135,
          0.0081,
          -0.002199999999999883,
          null,
          -0.03460428651898675,
          -0.04313358627939921,
          -0.03724222362553142,
          -0.03460428651898675,
          null,
          -0.008339224334698043,
          -0.01843063886040611,
          -0.009451465472930902,
          -0.008339224334698043,
          null,
          -0.008339224334698043,
          -0.009451465472930902,
          0,
          -0.008339224334698043,
          null,
          -0.03359999999999996,
          -0.01789999999999992,
          -0.02742571329752035,
          -0.03359999999999996,
          null,
          -0.05199999999999997,
          -0.04682540580886211,
          -0.03899999999999993,
          -0.05199999999999997,
          null,
          -0.0126690770197633,
          0,
          0,
          -0.0126690770197633,
          null,
          -0.0126690770197633,
          0,
          -0.01299999999999998,
          -0.0126690770197633,
          null,
          -0.0126690770197633,
          -0.008339224334698043,
          0,
          -0.0126690770197633,
          null,
          0.0081,
          0.0135,
          0.0081,
          0.0081,
          null,
          -0.009451465472930902,
          0,
          0,
          -0.009451465472930902,
          null,
          -0.008339224334698043,
          -0.0126690770197633,
          -0.01782338898978598,
          -0.008339224334698043,
          null,
          0.027,
          0.01755000000000002,
          0.0216,
          0.027,
          null,
          0,
          -0.002199999999999883,
          0.0081,
          0,
          null,
          -0.008339224334698043,
          0,
          0,
          -0.008339224334698043,
          null,
          0.0135,
          0.0081,
          0.0081,
          0.0135,
          null,
          -0.05601364777867072,
          -0.04213380478518883,
          -0.04964808188683553,
          -0.05601364777867072,
          null,
          0.0135,
          0.0081,
          0.0135,
          0.0135,
          null,
          -0.04213380478518883,
          -0.0493,
          -0.03359999999999996,
          -0.04213380478518883,
          null,
          0.0081,
          0.0081,
          0.0135,
          0.0081,
          null,
          -0.03724222362553142,
          -0.04964808188683553,
          -0.04213380478518883,
          -0.03724222362553142,
          null,
          0.027,
          0.027,
          0.0216,
          0.027,
          null,
          -0.05601364777867072,
          -0.0493,
          -0.04213380478518883,
          -0.05601364777867072,
          null,
          0.0216,
          0.027,
          0.0216,
          0.0216,
          null,
          0.027,
          0.027,
          0.0216,
          0.027,
          null,
          0.027,
          0.0216,
          0.0216,
          0.027,
          null,
          0.0216,
          0.027,
          0.0216,
          0.0216,
          null,
          -0.03460428651898675,
          -0.04682540580886211,
          -0.04313358627939921,
          -0.03460428651898675,
          null,
          0.0081,
          0.0135,
          0.0081,
          0.0081,
          null,
          0.0081,
          0.0135,
          0.0135,
          0.0081,
          null,
          0.0216,
          0.0216,
          0.027,
          0.0216,
          null,
          0.0216,
          0.027,
          0.027,
          0.0216,
          null,
          0.0081,
          0,
          0,
          0.0081,
          null,
          0.0216,
          0.01755000000000002,
          0.0135,
          0.0216,
          null,
          0.0081,
          0.0135,
          0.0135,
          0.0081,
          null,
          0.0135,
          0.0081,
          0.0081,
          0.0135,
          null,
          0.0135,
          0.0135,
          0.0081,
          0.0135,
          null,
          0.0081,
          0.0081,
          0,
          0.0081,
          null,
          0.0216,
          0.027,
          0.027,
          0.0216,
          null,
          -0.05436218425454498,
          -0.04313358627939921,
          -0.04682540580886211,
          -0.05436218425454498,
          null,
          -0.03899999999999993,
          -0.04682540580886211,
          -0.03460428651898675,
          -0.03899999999999993,
          null,
          -0.02742571329752035,
          -0.01616546151484761,
          -0.01843063886040611,
          -0.02742571329752035,
          null,
          -0.02650786429666862,
          -0.02742571329752035,
          -0.01843063886040611,
          -0.02650786429666862,
          null,
          -0.065,
          -0.05601364777867072,
          -0.04964808188683553,
          -0.065,
          null,
          -0.0493,
          -0.05601364777867072,
          -0.065,
          -0.0493,
          null,
          -0.05601364777867072,
          -0.065,
          -0.065,
          -0.05601364777867072,
          null,
          -0.02650786429666862,
          -0.01782338898978598,
          -0.02352092336504091,
          -0.02650786429666862,
          null,
          -0.01782338898978598,
          -0.02650786429666862,
          -0.01843063886040611,
          -0.01782338898978598,
          null,
          -0.01782338898978598,
          -0.0126690770197633,
          -0.02352092336504091,
          -0.01782338898978598,
          null,
          -0.0126690770197633,
          -0.01299999999999998,
          -0.02599999999999994,
          -0.0126690770197633,
          null,
          -0.0126690770197633,
          -0.02599999999999994,
          -0.02352092336504091,
          -0.0126690770197633,
          null,
          -0.009451465472930902,
          -0.01616546151484761,
          -0.00761948783129638,
          -0.009451465472930902,
          null,
          -0.00761948783129638,
          0,
          -0.009451465472930902,
          -0.00761948783129638,
          null,
          -0.01789999999999992,
          -0.00761948783129638,
          -0.01616546151484761,
          -0.01789999999999992,
          null,
          -0.05436218425454498,
          -0.04682540580886211,
          -0.05700778243715917,
          -0.05436218425454498,
          null,
          -0.05199999999999997,
          -0.05700778243715917,
          -0.04682540580886211,
          -0.05199999999999997,
          null,
          -0.04313358627939921,
          -0.05436218425454498,
          -0.04964808188683553,
          -0.04313358627939921,
          null,
          -0.05700778243715917,
          -0.065,
          -0.05436218425454498,
          -0.05700778243715917,
          null,
          -0.03724222362553142,
          -0.04313358627939921,
          -0.04964808188683553,
          -0.03724222362553142,
          null,
          -0.00761948783129638,
          -0.01789999999999992,
          -0.002199999999999883,
          -0.00761948783129638,
          null,
          0,
          -0.00761948783129638,
          -0.002199999999999883,
          0,
          null,
          -0.065,
          -0.05436218425454498,
          -0.065,
          -0.065,
          null,
          -0.03899999999999993,
          -0.03460428651898675,
          -0.02599999999999994,
          -0.03899999999999993,
          null,
          -0.02650786429666862,
          -0.03460428651898675,
          -0.03724222362553142,
          -0.02650786429666862,
          null,
          -0.065,
          -0.05700778243715917,
          -0.065,
          -0.065,
          null,
          -0.05700778243715917,
          -0.05199999999999997,
          -0.065,
          -0.05700778243715917,
          null,
          0,
          -0.00761948783129638,
          0,
          0,
          null,
          -0.04213380478518883,
          -0.03359999999999996,
          -0.02742571329752035,
          -0.04213380478518883,
          null,
          -0.065,
          -0.04964808188683553,
          -0.05436218425454498,
          -0.065,
          null,
          -0.02650786429666862,
          -0.02352092336504091,
          -0.03460428651898675,
          -0.02650786429666862,
          null,
          -0.03724222362553142,
          -0.04213380478518883,
          -0.02742571329752035,
          -0.03724222362553142,
          null,
          -0.02352092336504091,
          -0.02599999999999994,
          -0.03460428651898675,
          -0.02352092336504091,
          null,
          -0.02742571329752035,
          -0.02650786429666862,
          -0.03724222362553142,
          -0.02742571329752035,
          null,
          -0.05601364777867072,
          -0.065,
          -0.065,
          -0.05601364777867072,
          null,
          -0.01616546151484761,
          -0.009451465472930902,
          -0.01843063886040611,
          -0.01616546151484761,
          null,
          -0.008339224334698043,
          -0.01782338898978598,
          -0.01843063886040611,
          -0.008339224334698043,
          null,
          -0.008339224334698043,
          0,
          0,
          -0.008339224334698043,
          null
         ],
         "y": [
          0.005400000000000001,
          8.673617379884035e-19,
          8.673617379884035e-19,
          0.005400000000000001,
          null,
          0.055,
          0.04128264989007666,
          0.0395562413702417,
          0.055,
          null,
          0.055,
          0.055,
          0.0496,
          0.055,
          null,
          0.01384462085044406,
          0.0203780623038745,
          0.0282984639206094,
          0.01384462085044406,
          null,
          0.02344383084498167,
          0.03098395009941102,
          0.03492223875262229,
          0.02344383084498167,
          null,
          0.02344383084498167,
          0.03492223875262229,
          0.0302,
          0.02344383084498167,
          null,
          0.055,
          0.055,
          0.0395562413702417,
          0.055,
          null,
          0,
          0.009854483030166963,
          0,
          0,
          null,
          0.0100602782976415,
          0.0124,
          0,
          0.0100602782976415,
          null,
          0.0100602782976415,
          0,
          0,
          0.0100602782976415,
          null,
          0.0100602782976415,
          0.02344383084498167,
          0.0124,
          0.0100602782976415,
          null,
          0.0496,
          0.0426,
          0.0399,
          0.0496,
          null,
          0.03492223875262229,
          0.0399,
          0.0302,
          0.03492223875262229,
          null,
          0.02344383084498167,
          0.0100602782976415,
          0.0207403487651969,
          0.02344383084498167,
          null,
          8.673617379884035e-19,
          8.673617379884035e-19,
          0.005400000000000001,
          8.673617379884035e-19,
          null,
          0.0496,
          0.055,
          0.0496,
          0.0496,
          null,
          0.02344383084498167,
          0.0248,
          0.0124,
          0.02344383084498167,
          null,
          0.005400000000000001,
          8.673617379884035e-19,
          0.0124,
          0.005400000000000001,
          null,
          0.04170304674692567,
          0.04178505705271789,
          0.02968322342883618,
          0.04170304674692567,
          null,
          0.0178,
          0.0248,
          0.0302,
          0.0178,
          null,
          0.04178505705271789,
          0.055,
          0.055,
          0.04178505705271789,
          null,
          0.0124,
          0.0248,
          0.0178,
          0.0124,
          null,
          0.0282984639206094,
          0.02968322342883618,
          0.04178505705271789,
          0.0282984639206094,
          null,
          0.02750000000000002,
          0.01375000000000001,
          0.0178,
          0.02750000000000002,
          null,
          0.04170304674692567,
          0.055,
          0.04178505705271789,
          0.04170304674692567,
          null,
          0.0178,
          0.01375000000000001,
          0.005400000000000001,
          0.0178,
          null,
          0.04125000000000003,
          0.02750000000000002,
          0.0302,
          0.04125000000000003,
          null,
          0.04125000000000003,
          0.0302,
          0.04260000000000001,
          0.04125000000000003,
          null,
          0.0302,
          0.02750000000000002,
          0.0178,
          0.0302,
          null,
          0.01384462085044406,
          0.009854483030166963,
          0.0203780623038745,
          0.01384462085044406,
          null,
          0.0399,
          0.0302,
          0.0302,
          0.0399,
          null,
          0.0496,
          0.055,
          0.0426,
          0.0496,
          null,
          0.04260000000000001,
          0.055,
          0.055,
          0.04260000000000001,
          null,
          0.04260000000000001,
          0.055,
          0.04125000000000003,
          0.04260000000000001,
          null,
          0.0248,
          0.0248,
          0.0302,
          0.0248,
          null,
          0.005400000000000001,
          8.673617379884035e-19,
          0.005400000000000001,
          0.005400000000000001,
          null,
          0.0399,
          0.0426,
          0.0302,
          0.0399,
          null,
          0.0302,
          0.0248,
          0.0302,
          0.0302,
          null,
          0.0178,
          0.005400000000000001,
          0.0124,
          0.0178,
          null,
          0.0302,
          0.0248,
          0.0302,
          0.0302,
          null,
          0.005400000000000001,
          0.01375000000000001,
          8.673617379884035e-19,
          0.005400000000000001,
          null,
          0.0181835632749534,
          0.0203780623038745,
          0.009854483030166963,
          0.0181835632749534,
          null,
          0,
          0.009854483030166963,
          0.01384462085044406,
          0,
          null,
          0.0395562413702417,
          0.04128264989007666,
          0.03098395009941102,
          0.0395562413702417,
          null,
          0.02454356862887693,
          0.0395562413702417,
          0.03098395009941102,
          0.02454356862887693,
          null,
          0.02749999999999998,
          0.04170304674692567,
          0.02968322342883618,
          0.02749999999999998,
          null,
          0.055,
          0.04170304674692567,
          0.055,
          0.055,
          null,
          0.04170304674692567,
          0.04124999999999999,
          0.055,
          0.04170304674692567,
          null,
          0.02454356862887693,
          0.0207403487651969,
          0.01383776330843188,
          0.02454356862887693,
          null,
          0.0207403487651969,
          0.02454356862887693,
          0.03098395009941102,
          0.0207403487651969,
          null,
          0.0207403487651969,
          0.0100602782976415,
          0.01383776330843188,
          0.0207403487651969,
          null,
          0.0100602782976415,
          0,
          0,
          0.0100602782976415,
          null,
          0.0100602782976415,
          0,
          0.01383776330843188,
          0.0100602782976415,
          null,
          0.03492223875262229,
          0.04128264989007666,
          0.04595081477378316,
          0.03492223875262229,
          null,
          0.04595081477378316,
          0.0399,
          0.03492223875262229,
          0.04595081477378316,
          null,
          0.055,
          0.04595081477378316,
          0.04128264989007666,
          0.055,
          null,
          0.0181835632749534,
          0.009854483030166963,
          0.007773700986860151,
          0.0181835632749534,
          null,
          0,
          0.007773700986860151,
          0.009854483030166963,
          0,
          null,
          0.0203780623038745,
          0.0181835632749534,
          0.02968322342883618,
          0.0203780623038745,
          null,
          0.007773700986860151,
          0.01374999999999997,
          0.0181835632749534,
          0.007773700986860151,
          null,
          0.0282984639206094,
          0.0203780623038745,
          0.02968322342883618,
          0.0282984639206094,
          null,
          0.04595081477378316,
          0.055,
          0.055,
          0.04595081477378316,
          null,
          0.0496,
          0.04595081477378316,
          0.055,
          0.0496,
          null,
          0.02749999999999998,
          0.0181835632749534,
          0.01374999999999997,
          0.02749999999999998,
          null,
          0,
          0.01384462085044406,
          0,
          0,
          null,
          0.02454356862887693,
          0.01384462085044406,
          0.0282984639206094,
          0.02454356862887693,
          null,
          0.01374999999999997,
          0.007773700986860151,
          0,
          0.01374999999999997,
          null,
          0.007773700986860151,
          0,
          0,
          0.007773700986860151,
          null,
          0.0399,
          0.04595081477378316,
          0.0496,
          0.0399,
          null,
          0.04178505705271789,
          0.055,
          0.0395562413702417,
          0.04178505705271789,
          null,
          0.02749999999999998,
          0.02968322342883618,
          0.0181835632749534,
          0.02749999999999998,
          null,
          0.02454356862887693,
          0.01383776330843188,
          0.01384462085044406,
          0.02454356862887693,
          null,
          0.0282984639206094,
          0.04178505705271789,
          0.0395562413702417,
          0.0282984639206094,
          null,
          0.01383776330843188,
          0,
          0.01384462085044406,
          0.01383776330843188,
          null,
          0.0395562413702417,
          0.02454356862887693,
          0.0282984639206094,
          0.0395562413702417,
          null,
          0.04170304674692567,
          0.02749999999999998,
          0.04124999999999999,
          0.04170304674692567,
          null,
          0.04128264989007666,
          0.03492223875262229,
          0.03098395009941102,
          0.04128264989007666,
          null,
          0.02344383084498167,
          0.0207403487651969,
          0.03098395009941102,
          0.02344383084498167,
          null,
          0.02344383084498167,
          0.0302,
          0.0248,
          0.02344383084498167,
          null
         ],
         "z": [
          0,
          0,
          0,
          0,
          null,
          0,
          0,
          0,
          0,
          null,
          0,
          0,
          0,
          0,
          null,
          0,
          0,
          0,
          0,
          null,
          0,
          0,
          0,
          0,
          null,
          0,
          0,
          0,
          0,
          null,
          0,
          0,
          0,
          0,
          null,
          0,
          0,
          0,
          0,
          null,
          0,
          0,
          0,
          0,
          null,
          0,
          0,
          0,
          0,
          null,
          0,
          0,
          0,
          0,
          null,
          0,
          0,
          0,
          0,
          null,
          0,
          0,
          0,
          0,
          null,
          0,
          0,
          0,
          0,
          null,
          0,
          0,
          0,
          0,
          null,
          0,
          0,
          0,
          0,
          null,
          0,
          0,
          0,
          0,
          null,
          0,
          0,
          0,
          0,
          null,
          0,
          0,
          0,
          0,
          null,
          0,
          0,
          0,
          0,
          null,
          0,
          0,
          0,
          0,
          null,
          0,
          0,
          0,
          0,
          null,
          0,
          0,
          0,
          0,
          null,
          0,
          0,
          0,
          0,
          null,
          0,
          0,
          0,
          0,
          null,
          0,
          0,
          0,
          0,
          null,
          0,
          0,
          0,
          0,
          null,
          0,
          0,
          0,
          0,
          null,
          0,
          0,
          0,
          0,
          null,
          0,
          0,
          0,
          0,
          null,
          0,
          0,
          0,
          0,
          null,
          0,
          0,
          0,
          0,
          null,
          0,
          0,
          0,
          0,
          null,
          0,
          0,
          0,
          0,
          null,
          0,
          0,
          0,
          0,
          null,
          0,
          0,
          0,
          0,
          null,
          0,
          0,
          0,
          0,
          null,
          0,
          0,
          0,
          0,
          null,
          0,
          0,
          0,
          0,
          null,
          0,
          0,
          0,
          0,
          null,
          0,
          0,
          0,
          0,
          null,
          0,
          0,
          0,
          0,
          null,
          0,
          0,
          0,
          0,
          null,
          0,
          0,
          0,
          0,
          null,
          0,
          0,
          0,
          0,
          null,
          0,
          0,
          0,
          0,
          null,
          0,
          0,
          0,
          0,
          null,
          0,
          0,
          0,
          0,
          null,
          0,
          0,
          0,
          0,
          null,
          0,
          0,
          0,
          0,
          null,
          0,
          0,
          0,
          0,
          null,
          0,
          0,
          0,
          0,
          null,
          0,
          0,
          0,
          0,
          null,
          0,
          0,
          0,
          0,
          null,
          0,
          0,
          0,
          0,
          null,
          0,
          0,
          0,
          0,
          null,
          0,
          0,
          0,
          0,
          null,
          0,
          0,
          0,
          0,
          null,
          0,
          0,
          0,
          0,
          null,
          0,
          0,
          0,
          0,
          null,
          0,
          0,
          0,
          0,
          null,
          0,
          0,
          0,
          0,
          null,
          0,
          0,
          0,
          0,
          null,
          0,
          0,
          0,
          0,
          null,
          0,
          0,
          0,
          0,
          null,
          0,
          0,
          0,
          0,
          null,
          0,
          0,
          0,
          0,
          null,
          0,
          0,
          0,
          0,
          null,
          0,
          0,
          0,
          0,
          null,
          0,
          0,
          0,
          0,
          null,
          0,
          0,
          0,
          0,
          null,
          0,
          0,
          0,
          0,
          null,
          0,
          0,
          0,
          0,
          null,
          0,
          0,
          0,
          0,
          null,
          0,
          0,
          0,
          0,
          null,
          0,
          0,
          0,
          0,
          null,
          0,
          0,
          0,
          0,
          null,
          0,
          0,
          0,
          0,
          null,
          0,
          0,
          0,
          0,
          null
         ]
        },
        {
         "hoverinfo": "none",
         "marker": {
          "color": [
           0.010840464594721745,
           2.1645121133107854
          ],
          "colorscale": [
           [
            0,
            "rgb(150, 0, 90)"
           ],
           [
            0.125,
            "rgb(0, 0, 200)"
           ],
           [
            0.25,
            "rgb(0, 25, 255)"
           ],
           [
            0.375,
            "rgb(0, 152, 255)"
           ],
           [
            0.5,
            "rgb(44, 255, 150)"
           ],
           [
            0.625,
            "rgb(151, 255, 0)"
           ],
           [
            0.75,
            "rgb(255, 234, 0)"
           ],
           [
            0.875,
            "rgb(255, 111, 0)"
           ],
           [
            1,
            "rgb(255, 0, 0)"
           ]
          ],
          "showscale": true,
          "size": 0.1
         },
         "mode": "markers",
         "showlegend": false,
         "type": "scatter3d",
         "x": {
          "bdata": "AAAAAAAAAAA=",
          "dtype": "f8"
         },
         "y": {
          "bdata": "P1dbsb/snj8=",
          "dtype": "f8"
         },
         "z": {
          "bdata": "AAAAAAAAAAA=",
          "dtype": "f8"
         }
        },
        {
         "marker": {
          "color": "red",
          "size": 6,
          "symbol": "circle"
         },
         "mode": "markers+text",
         "name": "Feed Point(s)",
         "type": "scatter3d",
         "x": {
          "bdata": "AAAAAAAAAAA=",
          "dtype": "f8"
         },
         "y": {
          "bdata": "KVyPwvUonD8=",
          "dtype": "f8"
         },
         "z": {
          "bdata": "AAAAAAAAAAA=",
          "dtype": "f8"
         }
        }
       ],
       "layout": {
        "height": 800,
        "legend": {
         "bgcolor": "rgba(255,255,255,0.7)",
         "bordercolor": "lightgray",
         "borderwidth": 1,
         "x": 0.2,
         "xanchor": "left",
         "y": 0.9,
         "yanchor": "top"
        },
        "scene": {
         "aspectratio": {
          "x": 1,
          "y": 0.5978260869565217,
          "z": 0.3
         },
         "camera": {
          "eye": {
           "x": 0.65,
           "y": 0.65,
           "z": 0.65
          }
         },
         "xaxis": {
          "backgroundcolor": "rgb(230, 230, 230)",
          "gridcolor": "rgb(255, 255, 255)",
          "showbackground": true,
          "zerolinecolor": "rgb(255, 255, 255)"
         },
         "yaxis": {
          "backgroundcolor": "rgb(230, 230, 230)",
          "gridcolor": "rgb(255, 255, 255)",
          "showbackground": true,
          "zerolinecolor": "rgb(255, 255, 255)"
         },
         "zaxis": {
          "backgroundcolor": "rgb(230, 230, 230)",
          "gridcolor": "rgb(255, 255, 255)",
          "showbackground": true,
          "zerolinecolor": "rgb(255, 255, 255)"
         }
        },
        "template": {
         "data": {
          "bar": [
           {
            "error_x": {
             "color": "#2a3f5f"
            },
            "error_y": {
             "color": "#2a3f5f"
            },
            "marker": {
             "line": {
              "color": "#E5ECF6",
              "width": 0.5
             },
             "pattern": {
              "fillmode": "overlay",
              "size": 10,
              "solidity": 0.2
             }
            },
            "type": "bar"
           }
          ],
          "barpolar": [
           {
            "marker": {
             "line": {
              "color": "#E5ECF6",
              "width": 0.5
             },
             "pattern": {
              "fillmode": "overlay",
              "size": 10,
              "solidity": 0.2
             }
            },
            "type": "barpolar"
           }
          ],
          "carpet": [
           {
            "aaxis": {
             "endlinecolor": "#2a3f5f",
             "gridcolor": "white",
             "linecolor": "white",
             "minorgridcolor": "white",
             "startlinecolor": "#2a3f5f"
            },
            "baxis": {
             "endlinecolor": "#2a3f5f",
             "gridcolor": "white",
             "linecolor": "white",
             "minorgridcolor": "white",
             "startlinecolor": "#2a3f5f"
            },
            "type": "carpet"
           }
          ],
          "choropleth": [
           {
            "colorbar": {
             "outlinewidth": 0,
             "ticks": ""
            },
            "type": "choropleth"
           }
          ],
          "contour": [
           {
            "colorbar": {
             "outlinewidth": 0,
             "ticks": ""
            },
            "colorscale": [
             [
              0,
              "#0d0887"
             ],
             [
              0.1111111111111111,
              "#46039f"
             ],
             [
              0.2222222222222222,
              "#7201a8"
             ],
             [
              0.3333333333333333,
              "#9c179e"
             ],
             [
              0.4444444444444444,
              "#bd3786"
             ],
             [
              0.5555555555555556,
              "#d8576b"
             ],
             [
              0.6666666666666666,
              "#ed7953"
             ],
             [
              0.7777777777777778,
              "#fb9f3a"
             ],
             [
              0.8888888888888888,
              "#fdca26"
             ],
             [
              1,
              "#f0f921"
             ]
            ],
            "type": "contour"
           }
          ],
          "contourcarpet": [
           {
            "colorbar": {
             "outlinewidth": 0,
             "ticks": ""
            },
            "type": "contourcarpet"
           }
          ],
          "heatmap": [
           {
            "colorbar": {
             "outlinewidth": 0,
             "ticks": ""
            },
            "colorscale": [
             [
              0,
              "#0d0887"
             ],
             [
              0.1111111111111111,
              "#46039f"
             ],
             [
              0.2222222222222222,
              "#7201a8"
             ],
             [
              0.3333333333333333,
              "#9c179e"
             ],
             [
              0.4444444444444444,
              "#bd3786"
             ],
             [
              0.5555555555555556,
              "#d8576b"
             ],
             [
              0.6666666666666666,
              "#ed7953"
             ],
             [
              0.7777777777777778,
              "#fb9f3a"
             ],
             [
              0.8888888888888888,
              "#fdca26"
             ],
             [
              1,
              "#f0f921"
             ]
            ],
            "type": "heatmap"
           }
          ],
          "histogram": [
           {
            "marker": {
             "pattern": {
              "fillmode": "overlay",
              "size": 10,
              "solidity": 0.2
             }
            },
            "type": "histogram"
           }
          ],
          "histogram2d": [
           {
            "colorbar": {
             "outlinewidth": 0,
             "ticks": ""
            },
            "colorscale": [
             [
              0,
              "#0d0887"
             ],
             [
              0.1111111111111111,
              "#46039f"
             ],
             [
              0.2222222222222222,
              "#7201a8"
             ],
             [
              0.3333333333333333,
              "#9c179e"
             ],
             [
              0.4444444444444444,
              "#bd3786"
             ],
             [
              0.5555555555555556,
              "#d8576b"
             ],
             [
              0.6666666666666666,
              "#ed7953"
             ],
             [
              0.7777777777777778,
              "#fb9f3a"
             ],
             [
              0.8888888888888888,
              "#fdca26"
             ],
             [
              1,
              "#f0f921"
             ]
            ],
            "type": "histogram2d"
           }
          ],
          "histogram2dcontour": [
           {
            "colorbar": {
             "outlinewidth": 0,
             "ticks": ""
            },
            "colorscale": [
             [
              0,
              "#0d0887"
             ],
             [
              0.1111111111111111,
              "#46039f"
             ],
             [
              0.2222222222222222,
              "#7201a8"
             ],
             [
              0.3333333333333333,
              "#9c179e"
             ],
             [
              0.4444444444444444,
              "#bd3786"
             ],
             [
              0.5555555555555556,
              "#d8576b"
             ],
             [
              0.6666666666666666,
              "#ed7953"
             ],
             [
              0.7777777777777778,
              "#fb9f3a"
             ],
             [
              0.8888888888888888,
              "#fdca26"
             ],
             [
              1,
              "#f0f921"
             ]
            ],
            "type": "histogram2dcontour"
           }
          ],
          "mesh3d": [
           {
            "colorbar": {
             "outlinewidth": 0,
             "ticks": ""
            },
            "type": "mesh3d"
           }
          ],
          "parcoords": [
           {
            "line": {
             "colorbar": {
              "outlinewidth": 0,
              "ticks": ""
             }
            },
            "type": "parcoords"
           }
          ],
          "pie": [
           {
            "automargin": true,
            "type": "pie"
           }
          ],
          "scatter": [
           {
            "fillpattern": {
             "fillmode": "overlay",
             "size": 10,
             "solidity": 0.2
            },
            "type": "scatter"
           }
          ],
          "scatter3d": [
           {
            "line": {
             "colorbar": {
              "outlinewidth": 0,
              "ticks": ""
             }
            },
            "marker": {
             "colorbar": {
              "outlinewidth": 0,
              "ticks": ""
             }
            },
            "type": "scatter3d"
           }
          ],
          "scattercarpet": [
           {
            "marker": {
             "colorbar": {
              "outlinewidth": 0,
              "ticks": ""
             }
            },
            "type": "scattercarpet"
           }
          ],
          "scattergeo": [
           {
            "marker": {
             "colorbar": {
              "outlinewidth": 0,
              "ticks": ""
             }
            },
            "type": "scattergeo"
           }
          ],
          "scattergl": [
           {
            "marker": {
             "colorbar": {
              "outlinewidth": 0,
              "ticks": ""
             }
            },
            "type": "scattergl"
           }
          ],
          "scattermap": [
           {
            "marker": {
             "colorbar": {
              "outlinewidth": 0,
              "ticks": ""
             }
            },
            "type": "scattermap"
           }
          ],
          "scattermapbox": [
           {
            "marker": {
             "colorbar": {
              "outlinewidth": 0,
              "ticks": ""
             }
            },
            "type": "scattermapbox"
           }
          ],
          "scatterpolar": [
           {
            "marker": {
             "colorbar": {
              "outlinewidth": 0,
              "ticks": ""
             }
            },
            "type": "scatterpolar"
           }
          ],
          "scatterpolargl": [
           {
            "marker": {
             "colorbar": {
              "outlinewidth": 0,
              "ticks": ""
             }
            },
            "type": "scatterpolargl"
           }
          ],
          "scatterternary": [
           {
            "marker": {
             "colorbar": {
              "outlinewidth": 0,
              "ticks": ""
             }
            },
            "type": "scatterternary"
           }
          ],
          "surface": [
           {
            "colorbar": {
             "outlinewidth": 0,
             "ticks": ""
            },
            "colorscale": [
             [
              0,
              "#0d0887"
             ],
             [
              0.1111111111111111,
              "#46039f"
             ],
             [
              0.2222222222222222,
              "#7201a8"
             ],
             [
              0.3333333333333333,
              "#9c179e"
             ],
             [
              0.4444444444444444,
              "#bd3786"
             ],
             [
              0.5555555555555556,
              "#d8576b"
             ],
             [
              0.6666666666666666,
              "#ed7953"
             ],
             [
              0.7777777777777778,
              "#fb9f3a"
             ],
             [
              0.8888888888888888,
              "#fdca26"
             ],
             [
              1,
              "#f0f921"
             ]
            ],
            "type": "surface"
           }
          ],
          "table": [
           {
            "cells": {
             "fill": {
              "color": "#EBF0F8"
             },
             "line": {
              "color": "white"
             }
            },
            "header": {
             "fill": {
              "color": "#C8D4E3"
             },
             "line": {
              "color": "white"
             }
            },
            "type": "table"
           }
          ]
         },
         "layout": {
          "annotationdefaults": {
           "arrowcolor": "#2a3f5f",
           "arrowhead": 0,
           "arrowwidth": 1
          },
          "autotypenumbers": "strict",
          "coloraxis": {
           "colorbar": {
            "outlinewidth": 0,
            "ticks": ""
           }
          },
          "colorscale": {
           "diverging": [
            [
             0,
             "#8e0152"
            ],
            [
             0.1,
             "#c51b7d"
            ],
            [
             0.2,
             "#de77ae"
            ],
            [
             0.3,
             "#f1b6da"
            ],
            [
             0.4,
             "#fde0ef"
            ],
            [
             0.5,
             "#f7f7f7"
            ],
            [
             0.6,
             "#e6f5d0"
            ],
            [
             0.7,
             "#b8e186"
            ],
            [
             0.8,
             "#7fbc41"
            ],
            [
             0.9,
             "#4d9221"
            ],
            [
             1,
             "#276419"
            ]
           ],
           "sequential": [
            [
             0,
             "#0d0887"
            ],
            [
             0.1111111111111111,
             "#46039f"
            ],
            [
             0.2222222222222222,
             "#7201a8"
            ],
            [
             0.3333333333333333,
             "#9c179e"
            ],
            [
             0.4444444444444444,
             "#bd3786"
            ],
            [
             0.5555555555555556,
             "#d8576b"
            ],
            [
             0.6666666666666666,
             "#ed7953"
            ],
            [
             0.7777777777777778,
             "#fb9f3a"
            ],
            [
             0.8888888888888888,
             "#fdca26"
            ],
            [
             1,
             "#f0f921"
            ]
           ],
           "sequentialminus": [
            [
             0,
             "#0d0887"
            ],
            [
             0.1111111111111111,
             "#46039f"
            ],
            [
             0.2222222222222222,
             "#7201a8"
            ],
            [
             0.3333333333333333,
             "#9c179e"
            ],
            [
             0.4444444444444444,
             "#bd3786"
            ],
            [
             0.5555555555555556,
             "#d8576b"
            ],
            [
             0.6666666666666666,
             "#ed7953"
            ],
            [
             0.7777777777777778,
             "#fb9f3a"
            ],
            [
             0.8888888888888888,
             "#fdca26"
            ],
            [
             1,
             "#f0f921"
            ]
           ]
          },
          "colorway": [
           "#636efa",
           "#EF553B",
           "#00cc96",
           "#ab63fa",
           "#FFA15A",
           "#19d3f3",
           "#FF6692",
           "#B6E880",
           "#FF97FF",
           "#FECB52"
          ],
          "font": {
           "color": "#2a3f5f"
          },
          "geo": {
           "bgcolor": "white",
           "lakecolor": "white",
           "landcolor": "#E5ECF6",
           "showlakes": true,
           "showland": true,
           "subunitcolor": "white"
          },
          "hoverlabel": {
           "align": "left"
          },
          "hovermode": "closest",
          "mapbox": {
           "style": "light"
          },
          "paper_bgcolor": "white",
          "plot_bgcolor": "#E5ECF6",
          "polar": {
           "angularaxis": {
            "gridcolor": "white",
            "linecolor": "white",
            "ticks": ""
           },
           "bgcolor": "#E5ECF6",
           "radialaxis": {
            "gridcolor": "white",
            "linecolor": "white",
            "ticks": ""
           }
          },
          "scene": {
           "xaxis": {
            "backgroundcolor": "#E5ECF6",
            "gridcolor": "white",
            "gridwidth": 2,
            "linecolor": "white",
            "showbackground": true,
            "ticks": "",
            "zerolinecolor": "white"
           },
           "yaxis": {
            "backgroundcolor": "#E5ECF6",
            "gridcolor": "white",
            "gridwidth": 2,
            "linecolor": "white",
            "showbackground": true,
            "ticks": "",
            "zerolinecolor": "white"
           },
           "zaxis": {
            "backgroundcolor": "#E5ECF6",
            "gridcolor": "white",
            "gridwidth": 2,
            "linecolor": "white",
            "showbackground": true,
            "ticks": "",
            "zerolinecolor": "white"
           }
          },
          "shapedefaults": {
           "line": {
            "color": "#2a3f5f"
           }
          },
          "ternary": {
           "aaxis": {
            "gridcolor": "white",
            "linecolor": "white",
            "ticks": ""
           },
           "baxis": {
            "gridcolor": "white",
            "linecolor": "white",
            "ticks": ""
           },
           "bgcolor": "#E5ECF6",
           "caxis": {
            "gridcolor": "white",
            "linecolor": "white",
            "ticks": ""
           }
          },
          "title": {
           "x": 0.05
          },
          "xaxis": {
           "automargin": true,
           "gridcolor": "white",
           "linecolor": "white",
           "ticks": "",
           "title": {
            "standoff": 15
           },
           "zerolinecolor": "white",
           "zerolinewidth": 2
          },
          "yaxis": {
           "automargin": true,
           "gridcolor": "white",
           "linecolor": "white",
           "ticks": "",
           "title": {
            "standoff": 15
           },
           "zerolinecolor": "white",
           "zerolinewidth": 2
          }
         }
        },
        "title": {
         "text": ""
        },
        "width": 800
       }
      }
     },
     "metadata": {},
     "output_type": "display_data"
    },
    {
     "name": "stdout",
     "output_type": "stream",
     "text": [
      "\n",
      "Image saved in PDF format: data/fig_image/ifa_M_opti3_antenna_surface_current_in_radiation_mode.pdf\n",
      "\n",
      "Simulation 43/101 | f = 868.00 MHz | S11 = -8.36 dB\n",
      "Simulation 44/101 | f = 872.00 MHz | S11 = -9.13 dB\n",
      "Simulation 45/101 | f = 876.00 MHz | S11 = -9.99 dB\n",
      "Simulation 46/101 | f = 880.00 MHz | S11 = -10.97 dB\n",
      "Simulation 47/101 | f = 884.00 MHz | S11 = -12.10 dB\n",
      "Simulation 48/101 | f = 888.00 MHz | S11 = -13.42 dB\n",
      "Simulation 49/101 | f = 892.00 MHz | S11 = -14.99 dB\n",
      "Simulation 50/101 | f = 896.00 MHz | S11 = -16.91 dB\n",
      "Simulation 51/101 | f = 900.00 MHz | S11 = -19.36 dB\n",
      "Simulation 52/101 | f = 904.00 MHz | S11 = -22.69 dB\n",
      "Simulation 53/101 | f = 908.00 MHz | S11 = -27.48 dB\n",
      "Simulation 54/101 | f = 912.00 MHz | S11 = -31.21 dB\n",
      "Simulation 55/101 | f = 916.00 MHz | S11 = -26.52 dB\n",
      "Simulation 56/101 | f = 920.00 MHz | S11 = -22.15 dB\n",
      "Simulation 57/101 | f = 924.00 MHz | S11 = -19.13 dB\n",
      "Simulation 58/101 | f = 928.00 MHz | S11 = -16.89 dB\n",
      "Simulation 59/101 | f = 932.00 MHz | S11 = -15.14 dB\n",
      "Simulation 60/101 | f = 936.00 MHz | S11 = -13.71 dB\n",
      "Simulation 61/101 | f = 940.00 MHz | S11 = -12.51 dB\n",
      "Simulation 62/101 | f = 944.00 MHz | S11 = -11.49 dB\n",
      "Simulation 63/101 | f = 948.00 MHz | S11 = -10.61 dB\n",
      "Simulation 64/101 | f = 952.00 MHz | S11 = -9.83 dB\n",
      "Simulation 65/101 | f = 956.00 MHz | S11 = -9.15 dB\n",
      "Simulation 66/101 | f = 960.00 MHz | S11 = -8.53 dB\n",
      "Simulation 67/101 | f = 964.00 MHz | S11 = -7.98 dB\n",
      "Simulation 68/101 | f = 968.00 MHz | S11 = -7.49 dB\n",
      "Simulation 69/101 | f = 972.00 MHz | S11 = -7.04 dB\n",
      "Simulation 70/101 | f = 976.00 MHz | S11 = -6.63 dB\n",
      "Simulation 71/101 | f = 980.00 MHz | S11 = -6.26 dB\n",
      "Simulation 72/101 | f = 984.00 MHz | S11 = -5.91 dB\n",
      "Simulation 73/101 | f = 988.00 MHz | S11 = -5.60 dB\n",
      "Simulation 74/101 | f = 992.00 MHz | S11 = -5.31 dB\n",
      "Simulation 75/101 | f = 996.00 MHz | S11 = -5.04 dB\n",
      "Simulation 76/101 | f = 1000.00 MHz | S11 = -4.79 dB\n",
      "Simulation 77/101 | f = 1004.00 MHz | S11 = -4.56 dB\n",
      "Simulation 78/101 | f = 1008.00 MHz | S11 = -4.35 dB\n",
      "Simulation 79/101 | f = 1012.00 MHz | S11 = -4.15 dB\n",
      "Simulation 80/101 | f = 1016.00 MHz | S11 = -3.97 dB\n",
      "Simulation 81/101 | f = 1020.00 MHz | S11 = -3.79 dB\n",
      "Simulation 82/101 | f = 1024.00 MHz | S11 = -3.63 dB\n",
      "Simulation 83/101 | f = 1028.00 MHz | S11 = -3.48 dB\n",
      "Simulation 84/101 | f = 1032.00 MHz | S11 = -3.34 dB\n",
      "Simulation 85/101 | f = 1036.00 MHz | S11 = -3.20 dB\n",
      "Simulation 86/101 | f = 1040.00 MHz | S11 = -3.08 dB\n",
      "Simulation 87/101 | f = 1044.00 MHz | S11 = -2.96 dB\n",
      "Simulation 88/101 | f = 1048.00 MHz | S11 = -2.85 dB\n",
      "Simulation 89/101 | f = 1052.00 MHz | S11 = -2.74 dB\n",
      "Simulation 90/101 | f = 1056.00 MHz | S11 = -2.64 dB\n",
      "Simulation 91/101 | f = 1060.00 MHz | S11 = -2.54 dB\n",
      "Simulation 92/101 | f = 1064.00 MHz | S11 = -2.45 dB\n",
      "Simulation 93/101 | f = 1068.00 MHz | S11 = -2.37 dB\n",
      "Simulation 94/101 | f = 1072.00 MHz | S11 = -2.29 dB\n",
      "Simulation 95/101 | f = 1076.00 MHz | S11 = -2.21 dB\n",
      "Simulation 96/101 | f = 1080.00 MHz | S11 = -2.14 dB\n",
      "Simulation 97/101 | f = 1084.00 MHz | S11 = -2.07 dB\n",
      "Simulation 98/101 | f = 1088.00 MHz | S11 = -2.00 dB\n",
      "Simulation 99/101 | f = 1092.00 MHz | S11 = -1.94 dB\n",
      "Simulation 100/101 | f = 1096.00 MHz | S11 = -1.88 dB\n",
      "Simulation 101/101 | f = 1100.00 MHz | S11 = -1.82 dB\n"
     ]
    },
    {
     "data": {
      "application/vnd.plotly.v1+json": {
       "config": {
        "plotlyServerURL": "https://plot.ly"
       },
       "data": [
        {
         "hoverinfo": "text",
         "imag": [
          8.400593274722851,
          8.811165795226069,
          9.238962687110881,
          9.671536149557879,
          10.086032960184685,
          10.443204938613583,
          10.679520723551853,
          10.699214661082557,
          10.372484874134823,
          9.553083197209085,
          8.131640346824852,
          6.121672092603809,
          3.7233888868010534,
          1.2816956634281282,
          -0.8631663688489304,
          -2.5125971785914594,
          -3.63552967042837,
          -4.308131203251872,
          -4.642533501733452,
          -4.743612046214223,
          -4.693298832871557,
          -4.549884546168753,
          -4.352664491852689,
          -4.127243650687643,
          -3.8898954351999215,
          -3.650723912376626,
          -3.4158255521619427,
          -3.188722716051562,
          -2.9712994552063865,
          -2.7644076586751076,
          -2.5682581738249706,
          -2.3826726022818674,
          -2.207245000306615,
          -2.0414452907345257,
          -1.8846849098589222,
          -1.7363579521328532,
          -1.5958664094620105,
          -1.4626350973864293,
          -1.3361199188471797,
          -1.2158118557792257,
          -1.1012382565384324,
          -0.9919624482665265,
          -0.7877285164364456,
          -0.6920619274658038,
          -0.6002716547900079,
          -0.5120725697229992,
          -0.42720313026854984,
          -0.3454232962567149,
          -0.2665125903782482,
          -0.1902683119195163,
          -0.11650390215369699,
          -0.04504745558537984,
          0.024259631466561352,
          0.09156388482868609,
          0.15700085935109429,
          0.2206961390254393,
          0.2827662402707358,
          0.3433194277333135,
          0.4024564512648642,
          0.4602712120234478,
          0.5168513649301241,
          0.57227886402514,
          0.6266304566209108,
          0.6799781315512686,
          0.7323895262691237,
          0.7839282970459471,
          0.834654456079817,
          0.884624678915169,
          0.9338925852158192,
          0.9825089956135352,
          1.030522167065442,
          1.0779780088996869,
          1.1249202815017825,
          1.17139077939302,
          1.2174295002733502,
          1.263074801443015,
          1.3083635448763966,
          1.3533312320966058,
          1.3980121298896404,
          1.4424393877984125,
          1.4866451482499952,
          1.5306606500933027,
          1.5745163262562099,
          1.6182418961707614,
          1.6618664535626884,
          1.7054185501552146,
          1.7489262757949149,
          1.7924173354734054,
          1.8359191236865637,
          1.8794587965462153,
          1.9230633420373424,
          1.9667596487926806,
          2.010574573742622,
          2.0545350089840064,
          2.098667948201824,
          2.1430005529699865,
          2.1875602192543004,
          2.2323746444357453,
          2.2774718951755686,
          2.3228804764441957
         ],
         "marker": {
          "color": "blue",
          "size": 4
         },
         "mode": "markers+lines",
         "name": "Impedance Points",
         "real": [
          2.4204388882469137,
          2.859065275022541,
          3.3984925099421237,
          4.064457179818095,
          4.88762775151352,
          5.901729111792715,
          7.137644770315936,
          8.60996561659249,
          10.292186489662875,
          12.081643166758205,
          13.771432171116574,
          15.06984934914858,
          15.701767474953842,
          15.550034400527148,
          14.71737452467426,
          13.450853751336762,
          12.010410468805262,
          10.585293953602326,
          9.279644365577491,
          8.134030171489666,
          7.152093900419751,
          6.320014383550353,
          5.6178331591096455,
          5.025111634438081,
          4.52333993324224,
          4.096694322842927,
          3.7320392762417565,
          3.4186316384308464,
          3.147743390953851,
          2.912296630358631,
          2.7065451571619987,
          2.5258102073912507,
          2.3662667500578958,
          2.2247730179971654,
          2.0987354185745017,
          1.9860017281963223,
          1.8847766168331201,
          1.7935546936159728,
          1.711067269099851,
          1.636239858262765,
          1.5681581095126589,
          1.5060403631133226,
          1.397104607154479,
          1.3492067821868015,
          1.305086468778991,
          1.264363750510279,
          1.2267060253733033,
          1.1918211260682576,
          1.159451572536147,
          1.129369750710559,
          1.101373852201292,
          1.0752844417295377,
          1.0509415445459502,
          1.028202166261681,
          1.0069381736456313,
          0.9870344778618696,
          0.9683874720211818,
          0.9509036833212069,
          0.9344986068651647,
          0.919095693797988,
          0.904625470932948,
          0.8910247727616938,
          0.8782360698022289,
          0.866206879768165,
          0.8548892501378438,
          0.8442393024452044,
          0.8342168300667767,
          0.8247849424953899,
          0.8159097501121518,
          0.807560084325922,
          0.7997072486756125,
          0.7923247971034171,
          0.785388336128267,
          0.7788753480918201,
          0.772765033027714,
          0.7670381670280871,
          0.7616769752593648,
          0.7566650180175819,
          0.7519870884197469,
          0.7476291205053736,
          0.7435781066768993,
          0.7398220235417515,
          0.7363497653355631,
          0.7331510842087485,
          0.7302165367482067,
          0.7275374361847127,
          0.7251058098072627,
          0.7229143611668302,
          0.7209564367081349,
          0.7192259965175247,
          0.7177175889198972,
          0.7164263286989452,
          0.7153478787520343,
          0.7144784350261597,
          0.7138147146137621,
          0.7133539469179928,
          0.7130938678262864,
          0.7130327168600077,
          0.7131692372955333,
          0.7135026792803992
         ],
         "text": [
          "Z = 121.022+420.030j at 700.00 MHz",
          "Z = 142.953+440.558j at 704.00 MHz",
          "Z = 169.925+461.948j at 708.00 MHz",
          "Z = 203.223+483.577j at 712.00 MHz",
          "Z = 244.381+504.302j at 716.00 MHz",
          "Z = 295.086+522.160j at 720.00 MHz",
          "Z = 356.882+533.976j at 724.00 MHz",
          "Z = 430.498+534.961j at 728.00 MHz",
          "Z = 514.609+518.624j at 732.00 MHz",
          "Z = 604.082+477.654j at 736.00 MHz",
          "Z = 688.572+406.582j at 740.00 MHz",
          "Z = 753.492+306.084j at 744.00 MHz",
          "Z = 785.088+186.169j at 748.00 MHz",
          "Z = 777.502+64.085j at 752.00 MHz",
          "Z = 735.869-43.158j at 756.00 MHz",
          "Z = 672.543-125.630j at 760.00 MHz",
          "Z = 600.521-181.776j at 764.00 MHz",
          "Z = 529.265-215.407j at 768.00 MHz",
          "Z = 463.982-232.127j at 772.00 MHz",
          "Z = 406.702-237.181j at 776.00 MHz",
          "Z = 357.605-234.665j at 780.00 MHz",
          "Z = 316.001-227.494j at 784.00 MHz",
          "Z = 280.892-217.633j at 788.00 MHz",
          "Z = 251.256-206.362j at 792.00 MHz",
          "Z = 226.167-194.495j at 796.00 MHz",
          "Z = 204.835-182.536j at 800.00 MHz",
          "Z = 186.602-170.791j at 804.00 MHz",
          "Z = 170.932-159.436j at 808.00 MHz",
          "Z = 157.387-148.565j at 812.00 MHz",
          "Z = 145.615-138.220j at 816.00 MHz",
          "Z = 135.327-128.413j at 820.00 MHz",
          "Z = 126.291-119.134j at 824.00 MHz",
          "Z = 118.313-110.362j at 828.00 MHz",
          "Z = 111.239-102.072j at 832.00 MHz",
          "Z = 104.937-94.234j at 836.00 MHz",
          "Z = 99.300-86.818j at 840.00 MHz",
          "Z = 94.239-79.793j at 844.00 MHz",
          "Z = 89.678-73.132j at 848.00 MHz",
          "Z = 85.553-66.806j at 852.00 MHz",
          "Z = 81.812-60.791j at 856.00 MHz",
          "Z = 78.408-55.062j at 860.00 MHz",
          "Z = 75.302-49.598j at 864.00 MHz",
          "Z = 69.855-39.386j at 872.00 MHz",
          "Z = 67.460-34.603j at 876.00 MHz",
          "Z = 65.254-30.014j at 880.00 MHz",
          "Z = 63.218-25.604j at 884.00 MHz",
          "Z = 61.335-21.360j at 888.00 MHz",
          "Z = 59.591-17.271j at 892.00 MHz",
          "Z = 57.973-13.326j at 896.00 MHz",
          "Z = 56.468-9.513j at 900.00 MHz",
          "Z = 55.069-5.825j at 904.00 MHz",
          "Z = 53.764-2.252j at 908.00 MHz",
          "Z = 52.547+1.213j at 912.00 MHz",
          "Z = 51.410+4.578j at 916.00 MHz",
          "Z = 50.347+7.850j at 920.00 MHz",
          "Z = 49.352+11.035j at 924.00 MHz",
          "Z = 48.419+14.138j at 928.00 MHz",
          "Z = 47.545+17.166j at 932.00 MHz",
          "Z = 46.725+20.123j at 936.00 MHz",
          "Z = 45.955+23.014j at 940.00 MHz",
          "Z = 45.231+25.843j at 944.00 MHz",
          "Z = 44.551+28.614j at 948.00 MHz",
          "Z = 43.912+31.332j at 952.00 MHz",
          "Z = 43.310+33.999j at 956.00 MHz",
          "Z = 42.744+36.619j at 960.00 MHz",
          "Z = 42.212+39.196j at 964.00 MHz",
          "Z = 41.711+41.733j at 968.00 MHz",
          "Z = 41.239+44.231j at 972.00 MHz",
          "Z = 40.795+46.695j at 976.00 MHz",
          "Z = 40.378+49.125j at 980.00 MHz",
          "Z = 39.985+51.526j at 984.00 MHz",
          "Z = 39.616+53.899j at 988.00 MHz",
          "Z = 39.269+56.246j at 992.00 MHz",
          "Z = 38.944+58.570j at 996.00 MHz",
          "Z = 38.638+60.871j at 1000.00 MHz",
          "Z = 38.352+63.154j at 1004.00 MHz",
          "Z = 38.084+65.418j at 1008.00 MHz",
          "Z = 37.833+67.667j at 1012.00 MHz",
          "Z = 37.599+69.901j at 1016.00 MHz",
          "Z = 37.381+72.122j at 1020.00 MHz",
          "Z = 37.179+74.332j at 1024.00 MHz",
          "Z = 36.991+76.533j at 1028.00 MHz",
          "Z = 36.817+78.726j at 1032.00 MHz",
          "Z = 36.658+80.912j at 1036.00 MHz",
          "Z = 36.511+83.093j at 1040.00 MHz",
          "Z = 36.377+85.271j at 1044.00 MHz",
          "Z = 36.255+87.446j at 1048.00 MHz",
          "Z = 36.146+89.621j at 1052.00 MHz",
          "Z = 36.048+91.796j at 1056.00 MHz",
          "Z = 35.961+93.973j at 1060.00 MHz",
          "Z = 35.886+96.153j at 1064.00 MHz",
          "Z = 35.821+98.338j at 1068.00 MHz",
          "Z = 35.767+100.529j at 1072.00 MHz",
          "Z = 35.724+102.727j at 1076.00 MHz",
          "Z = 35.691+104.933j at 1080.00 MHz",
          "Z = 35.668+107.150j at 1084.00 MHz",
          "Z = 35.655+109.378j at 1088.00 MHz",
          "Z = 35.652+111.619j at 1092.00 MHz",
          "Z = 35.658+113.874j at 1096.00 MHz",
          "Z = 35.675+116.144j at 1100.00 MHz"
         ],
         "type": "scattersmith"
        },
        {
         "hoverinfo": "text",
         "imag": [
          -0.8875823485566267
         ],
         "marker": {
          "color": "red",
          "size": 10,
          "symbol": "circle"
         },
         "mode": "markers",
         "name": "fC=868.00 MHz, Z=72.46-44.38j",
         "real": [
          1.4492154443737897
         ],
         "text": [
          "Z = 72.461-44.379j at 868.00 MHz"
         ],
         "type": "scattersmith"
        }
       ],
       "layout": {
        "height": 618,
        "showlegend": true,
        "template": {
         "data": {
          "bar": [
           {
            "error_x": {
             "color": "#2a3f5f"
            },
            "error_y": {
             "color": "#2a3f5f"
            },
            "marker": {
             "line": {
              "color": "#E5ECF6",
              "width": 0.5
             },
             "pattern": {
              "fillmode": "overlay",
              "size": 10,
              "solidity": 0.2
             }
            },
            "type": "bar"
           }
          ],
          "barpolar": [
           {
            "marker": {
             "line": {
              "color": "#E5ECF6",
              "width": 0.5
             },
             "pattern": {
              "fillmode": "overlay",
              "size": 10,
              "solidity": 0.2
             }
            },
            "type": "barpolar"
           }
          ],
          "carpet": [
           {
            "aaxis": {
             "endlinecolor": "#2a3f5f",
             "gridcolor": "white",
             "linecolor": "white",
             "minorgridcolor": "white",
             "startlinecolor": "#2a3f5f"
            },
            "baxis": {
             "endlinecolor": "#2a3f5f",
             "gridcolor": "white",
             "linecolor": "white",
             "minorgridcolor": "white",
             "startlinecolor": "#2a3f5f"
            },
            "type": "carpet"
           }
          ],
          "choropleth": [
           {
            "colorbar": {
             "outlinewidth": 0,
             "ticks": ""
            },
            "type": "choropleth"
           }
          ],
          "contour": [
           {
            "colorbar": {
             "outlinewidth": 0,
             "ticks": ""
            },
            "colorscale": [
             [
              0,
              "#0d0887"
             ],
             [
              0.1111111111111111,
              "#46039f"
             ],
             [
              0.2222222222222222,
              "#7201a8"
             ],
             [
              0.3333333333333333,
              "#9c179e"
             ],
             [
              0.4444444444444444,
              "#bd3786"
             ],
             [
              0.5555555555555556,
              "#d8576b"
             ],
             [
              0.6666666666666666,
              "#ed7953"
             ],
             [
              0.7777777777777778,
              "#fb9f3a"
             ],
             [
              0.8888888888888888,
              "#fdca26"
             ],
             [
              1,
              "#f0f921"
             ]
            ],
            "type": "contour"
           }
          ],
          "contourcarpet": [
           {
            "colorbar": {
             "outlinewidth": 0,
             "ticks": ""
            },
            "type": "contourcarpet"
           }
          ],
          "heatmap": [
           {
            "colorbar": {
             "outlinewidth": 0,
             "ticks": ""
            },
            "colorscale": [
             [
              0,
              "#0d0887"
             ],
             [
              0.1111111111111111,
              "#46039f"
             ],
             [
              0.2222222222222222,
              "#7201a8"
             ],
             [
              0.3333333333333333,
              "#9c179e"
             ],
             [
              0.4444444444444444,
              "#bd3786"
             ],
             [
              0.5555555555555556,
              "#d8576b"
             ],
             [
              0.6666666666666666,
              "#ed7953"
             ],
             [
              0.7777777777777778,
              "#fb9f3a"
             ],
             [
              0.8888888888888888,
              "#fdca26"
             ],
             [
              1,
              "#f0f921"
             ]
            ],
            "type": "heatmap"
           }
          ],
          "histogram": [
           {
            "marker": {
             "pattern": {
              "fillmode": "overlay",
              "size": 10,
              "solidity": 0.2
             }
            },
            "type": "histogram"
           }
          ],
          "histogram2d": [
           {
            "colorbar": {
             "outlinewidth": 0,
             "ticks": ""
            },
            "colorscale": [
             [
              0,
              "#0d0887"
             ],
             [
              0.1111111111111111,
              "#46039f"
             ],
             [
              0.2222222222222222,
              "#7201a8"
             ],
             [
              0.3333333333333333,
              "#9c179e"
             ],
             [
              0.4444444444444444,
              "#bd3786"
             ],
             [
              0.5555555555555556,
              "#d8576b"
             ],
             [
              0.6666666666666666,
              "#ed7953"
             ],
             [
              0.7777777777777778,
              "#fb9f3a"
             ],
             [
              0.8888888888888888,
              "#fdca26"
             ],
             [
              1,
              "#f0f921"
             ]
            ],
            "type": "histogram2d"
           }
          ],
          "histogram2dcontour": [
           {
            "colorbar": {
             "outlinewidth": 0,
             "ticks": ""
            },
            "colorscale": [
             [
              0,
              "#0d0887"
             ],
             [
              0.1111111111111111,
              "#46039f"
             ],
             [
              0.2222222222222222,
              "#7201a8"
             ],
             [
              0.3333333333333333,
              "#9c179e"
             ],
             [
              0.4444444444444444,
              "#bd3786"
             ],
             [
              0.5555555555555556,
              "#d8576b"
             ],
             [
              0.6666666666666666,
              "#ed7953"
             ],
             [
              0.7777777777777778,
              "#fb9f3a"
             ],
             [
              0.8888888888888888,
              "#fdca26"
             ],
             [
              1,
              "#f0f921"
             ]
            ],
            "type": "histogram2dcontour"
           }
          ],
          "mesh3d": [
           {
            "colorbar": {
             "outlinewidth": 0,
             "ticks": ""
            },
            "type": "mesh3d"
           }
          ],
          "parcoords": [
           {
            "line": {
             "colorbar": {
              "outlinewidth": 0,
              "ticks": ""
             }
            },
            "type": "parcoords"
           }
          ],
          "pie": [
           {
            "automargin": true,
            "type": "pie"
           }
          ],
          "scatter": [
           {
            "fillpattern": {
             "fillmode": "overlay",
             "size": 10,
             "solidity": 0.2
            },
            "type": "scatter"
           }
          ],
          "scatter3d": [
           {
            "line": {
             "colorbar": {
              "outlinewidth": 0,
              "ticks": ""
             }
            },
            "marker": {
             "colorbar": {
              "outlinewidth": 0,
              "ticks": ""
             }
            },
            "type": "scatter3d"
           }
          ],
          "scattercarpet": [
           {
            "marker": {
             "colorbar": {
              "outlinewidth": 0,
              "ticks": ""
             }
            },
            "type": "scattercarpet"
           }
          ],
          "scattergeo": [
           {
            "marker": {
             "colorbar": {
              "outlinewidth": 0,
              "ticks": ""
             }
            },
            "type": "scattergeo"
           }
          ],
          "scattergl": [
           {
            "marker": {
             "colorbar": {
              "outlinewidth": 0,
              "ticks": ""
             }
            },
            "type": "scattergl"
           }
          ],
          "scattermap": [
           {
            "marker": {
             "colorbar": {
              "outlinewidth": 0,
              "ticks": ""
             }
            },
            "type": "scattermap"
           }
          ],
          "scattermapbox": [
           {
            "marker": {
             "colorbar": {
              "outlinewidth": 0,
              "ticks": ""
             }
            },
            "type": "scattermapbox"
           }
          ],
          "scatterpolar": [
           {
            "marker": {
             "colorbar": {
              "outlinewidth": 0,
              "ticks": ""
             }
            },
            "type": "scatterpolar"
           }
          ],
          "scatterpolargl": [
           {
            "marker": {
             "colorbar": {
              "outlinewidth": 0,
              "ticks": ""
             }
            },
            "type": "scatterpolargl"
           }
          ],
          "scatterternary": [
           {
            "marker": {
             "colorbar": {
              "outlinewidth": 0,
              "ticks": ""
             }
            },
            "type": "scatterternary"
           }
          ],
          "surface": [
           {
            "colorbar": {
             "outlinewidth": 0,
             "ticks": ""
            },
            "colorscale": [
             [
              0,
              "#0d0887"
             ],
             [
              0.1111111111111111,
              "#46039f"
             ],
             [
              0.2222222222222222,
              "#7201a8"
             ],
             [
              0.3333333333333333,
              "#9c179e"
             ],
             [
              0.4444444444444444,
              "#bd3786"
             ],
             [
              0.5555555555555556,
              "#d8576b"
             ],
             [
              0.6666666666666666,
              "#ed7953"
             ],
             [
              0.7777777777777778,
              "#fb9f3a"
             ],
             [
              0.8888888888888888,
              "#fdca26"
             ],
             [
              1,
              "#f0f921"
             ]
            ],
            "type": "surface"
           }
          ],
          "table": [
           {
            "cells": {
             "fill": {
              "color": "#EBF0F8"
             },
             "line": {
              "color": "white"
             }
            },
            "header": {
             "fill": {
              "color": "#C8D4E3"
             },
             "line": {
              "color": "white"
             }
            },
            "type": "table"
           }
          ]
         },
         "layout": {
          "annotationdefaults": {
           "arrowcolor": "#2a3f5f",
           "arrowhead": 0,
           "arrowwidth": 1
          },
          "autotypenumbers": "strict",
          "coloraxis": {
           "colorbar": {
            "outlinewidth": 0,
            "ticks": ""
           }
          },
          "colorscale": {
           "diverging": [
            [
             0,
             "#8e0152"
            ],
            [
             0.1,
             "#c51b7d"
            ],
            [
             0.2,
             "#de77ae"
            ],
            [
             0.3,
             "#f1b6da"
            ],
            [
             0.4,
             "#fde0ef"
            ],
            [
             0.5,
             "#f7f7f7"
            ],
            [
             0.6,
             "#e6f5d0"
            ],
            [
             0.7,
             "#b8e186"
            ],
            [
             0.8,
             "#7fbc41"
            ],
            [
             0.9,
             "#4d9221"
            ],
            [
             1,
             "#276419"
            ]
           ],
           "sequential": [
            [
             0,
             "#0d0887"
            ],
            [
             0.1111111111111111,
             "#46039f"
            ],
            [
             0.2222222222222222,
             "#7201a8"
            ],
            [
             0.3333333333333333,
             "#9c179e"
            ],
            [
             0.4444444444444444,
             "#bd3786"
            ],
            [
             0.5555555555555556,
             "#d8576b"
            ],
            [
             0.6666666666666666,
             "#ed7953"
            ],
            [
             0.7777777777777778,
             "#fb9f3a"
            ],
            [
             0.8888888888888888,
             "#fdca26"
            ],
            [
             1,
             "#f0f921"
            ]
           ],
           "sequentialminus": [
            [
             0,
             "#0d0887"
            ],
            [
             0.1111111111111111,
             "#46039f"
            ],
            [
             0.2222222222222222,
             "#7201a8"
            ],
            [
             0.3333333333333333,
             "#9c179e"
            ],
            [
             0.4444444444444444,
             "#bd3786"
            ],
            [
             0.5555555555555556,
             "#d8576b"
            ],
            [
             0.6666666666666666,
             "#ed7953"
            ],
            [
             0.7777777777777778,
             "#fb9f3a"
            ],
            [
             0.8888888888888888,
             "#fdca26"
            ],
            [
             1,
             "#f0f921"
            ]
           ]
          },
          "colorway": [
           "#636efa",
           "#EF553B",
           "#00cc96",
           "#ab63fa",
           "#FFA15A",
           "#19d3f3",
           "#FF6692",
           "#B6E880",
           "#FF97FF",
           "#FECB52"
          ],
          "font": {
           "color": "#2a3f5f"
          },
          "geo": {
           "bgcolor": "white",
           "lakecolor": "white",
           "landcolor": "#E5ECF6",
           "showlakes": true,
           "showland": true,
           "subunitcolor": "white"
          },
          "hoverlabel": {
           "align": "left"
          },
          "hovermode": "closest",
          "mapbox": {
           "style": "light"
          },
          "paper_bgcolor": "white",
          "plot_bgcolor": "#E5ECF6",
          "polar": {
           "angularaxis": {
            "gridcolor": "white",
            "linecolor": "white",
            "ticks": ""
           },
           "bgcolor": "#E5ECF6",
           "radialaxis": {
            "gridcolor": "white",
            "linecolor": "white",
            "ticks": ""
           }
          },
          "scene": {
           "xaxis": {
            "backgroundcolor": "#E5ECF6",
            "gridcolor": "white",
            "gridwidth": 2,
            "linecolor": "white",
            "showbackground": true,
            "ticks": "",
            "zerolinecolor": "white"
           },
           "yaxis": {
            "backgroundcolor": "#E5ECF6",
            "gridcolor": "white",
            "gridwidth": 2,
            "linecolor": "white",
            "showbackground": true,
            "ticks": "",
            "zerolinecolor": "white"
           },
           "zaxis": {
            "backgroundcolor": "#E5ECF6",
            "gridcolor": "white",
            "gridwidth": 2,
            "linecolor": "white",
            "showbackground": true,
            "ticks": "",
            "zerolinecolor": "white"
           }
          },
          "shapedefaults": {
           "line": {
            "color": "#2a3f5f"
           }
          },
          "ternary": {
           "aaxis": {
            "gridcolor": "white",
            "linecolor": "white",
            "ticks": ""
           },
           "baxis": {
            "gridcolor": "white",
            "linecolor": "white",
            "ticks": ""
           },
           "bgcolor": "#E5ECF6",
           "caxis": {
            "gridcolor": "white",
            "linecolor": "white",
            "ticks": ""
           }
          },
          "title": {
           "x": 0.05
          },
          "xaxis": {
           "automargin": true,
           "gridcolor": "white",
           "linecolor": "white",
           "ticks": "",
           "title": {
            "standoff": 15
           },
           "zerolinecolor": "white",
           "zerolinewidth": 2
          },
          "yaxis": {
           "automargin": true,
           "gridcolor": "white",
           "linecolor": "white",
           "ticks": "",
           "title": {
            "standoff": 15
           },
           "zerolinecolor": "white",
           "zerolinewidth": 2
          }
         }
        },
        "title": {
         "text": ""
        },
        "width": 1000
       }
      }
     },
     "metadata": {},
     "output_type": "display_data"
    },
    {
     "name": "stdout",
     "output_type": "stream",
     "text": [
      "\n",
      "Image saved in PDF format (transparent background, minimal margins) : data/fig_image/ifa_M_opti3_Smith_chart.pdf\n",
      "\n",
      "\n",
      "📡 Simulation results:\n",
      "→ Resonance frequency = 912.00 MHz\n",
      "→ Impedance at f_res  = 52.55+1.21j Ω\n"
     ]
    },
    {
     "data": {
      "image/png": "[encoded data removed]",
      "text/plain": [
       "<Figure size 1200x741.641 with 1 Axes>"
      ]
     },
     "metadata": {},
     "output_type": "display_data"
    },
    {
     "name": "stdout",
     "output_type": "stream",
     "text": [
      "\n",
      "Ratio = 1.0506912442396312\n",
      "\n",
      "\n",
      "We are within 2% of fc!\n",
      "\n",
      "\n",
      "------------------------------------------------------Iteration N°2------------------------------------------------------\n",
      "\n",
      "distance meanders = 5.400 mm\n",
      "\n",
      "Number of meanders = 2\n",
      "\n",
      "New distance meanders = 8.100 mm\n",
      "IFA track width = 5.400 mm\n",
      "feed position = 30.359 mm\n",
      "\n",
      "Simulation 1/101 | f = 700.00 MHz | S11 = -0.61 dB\n",
      "Simulation 2/101 | f = 704.00 MHz | S11 = -0.64 dB\n",
      "Simulation 3/101 | f = 708.00 MHz | S11 = -0.68 dB\n",
      "Simulation 4/101 | f = 712.00 MHz | S11 = -0.72 dB\n",
      "Simulation 5/101 | f = 716.00 MHz | S11 = -0.76 dB\n",
      "Simulation 6/101 | f = 720.00 MHz | S11 = -0.80 dB\n",
      "Simulation 7/101 | f = 724.00 MHz | S11 = -0.85 dB\n",
      "Simulation 8/101 | f = 728.00 MHz | S11 = -0.90 dB\n",
      "Simulation 9/101 | f = 732.00 MHz | S11 = -0.96 dB\n",
      "Simulation 10/101 | f = 736.00 MHz | S11 = -1.02 dB\n",
      "Simulation 11/101 | f = 740.00 MHz | S11 = -1.08 dB\n",
      "Simulation 12/101 | f = 744.00 MHz | S11 = -1.15 dB\n",
      "Simulation 13/101 | f = 748.00 MHz | S11 = -1.22 dB\n",
      "Simulation 14/101 | f = 752.00 MHz | S11 = -1.30 dB\n",
      "Simulation 15/101 | f = 756.00 MHz | S11 = -1.39 dB\n",
      "Simulation 16/101 | f = 760.00 MHz | S11 = -1.48 dB\n",
      "Simulation 17/101 | f = 764.00 MHz | S11 = -1.58 dB\n",
      "Simulation 18/101 | f = 768.00 MHz | S11 = -1.68 dB\n",
      "Simulation 19/101 | f = 772.00 MHz | S11 = -1.80 dB\n",
      "Simulation 20/101 | f = 776.00 MHz | S11 = -1.92 dB\n",
      "Simulation 21/101 | f = 780.00 MHz | S11 = -2.05 dB\n",
      "Simulation 22/101 | f = 784.00 MHz | S11 = -2.20 dB\n",
      "Simulation 23/101 | f = 788.00 MHz | S11 = -2.36 dB\n",
      "Simulation 24/101 | f = 792.00 MHz | S11 = -2.53 dB\n",
      "Simulation 25/101 | f = 796.00 MHz | S11 = -2.71 dB\n",
      "Simulation 26/101 | f = 800.00 MHz | S11 = -2.92 dB\n",
      "Simulation 27/101 | f = 804.00 MHz | S11 = -3.14 dB\n",
      "Simulation 28/101 | f = 808.00 MHz | S11 = -3.38 dB\n",
      "Simulation 29/101 | f = 812.00 MHz | S11 = -3.64 dB\n",
      "Simulation 30/101 | f = 816.00 MHz | S11 = -3.93 dB\n",
      "Simulation 31/101 | f = 820.00 MHz | S11 = -4.24 dB\n",
      "Simulation 32/101 | f = 824.00 MHz | S11 = -4.58 dB\n",
      "Simulation 33/101 | f = 828.00 MHz | S11 = -4.96 dB\n",
      "Simulation 34/101 | f = 832.00 MHz | S11 = -5.38 dB\n",
      "Simulation 35/101 | f = 836.00 MHz | S11 = -5.83 dB\n",
      "Simulation 36/101 | f = 840.00 MHz | S11 = -6.34 dB\n",
      "Simulation 37/101 | f = 844.00 MHz | S11 = -6.90 dB\n",
      "Simulation 38/101 | f = 848.00 MHz | S11 = -7.53 dB\n",
      "Simulation 39/101 | f = 852.00 MHz | S11 = -8.23 dB\n",
      "Simulation 40/101 | f = 856.00 MHz | S11 = -9.01 dB\n",
      "Simulation 41/101 | f = 860.00 MHz | S11 = -9.90 dB\n",
      "Simulation 42/101 | f = 864.00 MHz | S11 = -10.92 dB\n"
     ]
    },
    {
     "data": {
      "application/vnd.plotly.v1+json": {
       "config": {
        "plotlyServerURL": "https://plot.ly"
       },
       "data": [
        {
         "facecolor": [
          "rgb(255, 105, 0)",
          "rgb(35, 0, 174)",
          "rgb(30, 222, 184)",
          "rgb(119, 0, 112)",
          "rgb(69, 255, 114)",
          "rgb(109, 255, 59)",
          "rgb(0, 14, 230)",
          "rgb(48, 0, 164)",
          "rgb(82, 0, 140)",
          "rgb(56, 0, 159)",
          "rgb(131, 0, 104)",
          "rgb(63, 255, 124)",
          "rgb(0, 19, 241)",
          "rgb(124, 0, 109)",
          "rgb(97, 0, 129)",
          "rgb(25, 211, 195)",
          "rgb(124, 0, 109)",
          "rgb(19, 0, 186)",
          "rgb(127, 0, 107)",
          "rgb(255, 61, 0)",
          "rgb(81, 0, 141)",
          "rgb(76, 0, 144)",
          "rgb(108, 0, 121)",
          "rgb(255, 179, 0)",
          "rgb(107, 0, 121)",
          "rgb(255, 25, 0)",
          "rgb(0, 75, 255)",
          "rgb(255, 0, 0)",
          "rgb(74, 255, 108)",
          "rgb(45, 255, 148)",
          "rgb(129, 255, 31)",
          "rgb(91, 0, 133)",
          "rgb(185, 248, 0)",
          "rgb(17, 192, 214)",
          "rgb(37, 240, 166)",
          "rgb(255, 8, 0)",
          "rgb(49, 255, 143)",
          "rgb(44, 254, 151)",
          "rgb(255, 141, 0)",
          "rgb(249, 235, 0)",
          "rgb(255, 59, 0)",
          "rgb(139, 0, 98)",
          "rgb(115, 0, 115)",
          "rgb(135, 0, 101)",
          "rgb(71, 0, 148)",
          "rgb(41, 0, 170)",
          "rgb(37, 0, 173)",
          "rgb(50, 0, 163)",
          "rgb(91, 0, 133)",
          "rgb(57, 0, 158)",
          "rgb(0, 10, 221)",
          "rgb(98, 0, 128)",
          "rgb(132, 0, 103)",
          "rgb(93, 0, 132)",
          "rgb(129, 0, 105)",
          "rgb(137, 0, 100)",
          "rgb(123, 0, 110)",
          "rgb(0, 17, 238)",
          "rgb(0, 4, 208)",
          "rgb(0, 3, 208)",
          "rgb(24, 209, 197)",
          "rgb(108, 0, 121)",
          "rgb(136, 0, 100)",
          "rgb(149, 0, 91)",
          "rgb(110, 0, 119)",
          "rgb(140, 0, 97)",
          "rgb(66, 0, 152)",
          "rgb(0, 6, 214)",
          "rgb(121, 0, 112)",
          "rgb(113, 0, 117)",
          "rgb(109, 0, 120)",
          "rgb(71, 0, 148)",
          "rgb(118, 0, 114)",
          "rgb(64, 0, 153)",
          "rgb(150, 0, 90)"
         ],
         "i": {
          "bdata": "CCkmKwEqIi8TMDIBCywyDyspNQ00EioMNwgcGQIOHhwaHQ4ZJxsJCRgVIzIpECUuLxAqKjUTLTksLjg4DzkVFTcUNCgsMDcSNzYy",
          "dtype": "i1"
         },
         "j": {
          "bdata": "IAAHLQIABTAxJDQXHTMjJjEoLSEjMS4gKiEdAgMXHwofHgchFx4gHwIyMhYvLjgQKREDNzE5NRQtAyglOBMzNTY5JDg0NzArKxEV",
          "dtype": "i1"
         },
         "k": {
          "bdata": "DSoOLAADLiUSJTMYHDQ0Di0AMQgkKzYJNhkbGAAnGgsJGxcCARoIDAEzBAQ4BS82KjYuLzkxMzUzIikmJgY1FCsGMA8wLC8RLCsW",
          "dtype": "i1"
         },
         "name": "",
         "type": "mesh3d",
         "x": {
          "bdata": "AAAAAAAAAACC4seYu5aAP4Lix5i7loA/AAAAAAAAAACkcD0K16OwvwAAAAAAAAAApHA9CtejsL/ZzvdT46WLP9nO91PjpYs/rthfdk8elj+u2F92Tx6WP9nO91PjpZs/2c73U+Olmz+C4seYu5aAP4Lix5i7loA/AAAAAAAAAAAutMh2vp+Kvyi0yHa+n5q/IYcW2c73o781tMh2vp+qv6RwPQrXo7C/pHA9CtejsL+kcD0K16Owv9nO91PjpYs/2c73U+Oliz/ZzvdT46WLP67YX3ZPHpY/rthfdk8elj+u2F92Tx6WP9nO91PjpZs/2c73U+Olmz/ZzvdT46WbPxPgLZCg+JE/guLHmLuWgD8AAAAAAAAAAK62Yn/ZPam/EIxK6gQ0ob/hwmSqYFSSvyFtowG8BWK/guLHmLuWgD8AAAAAAAAAAHRlyUS7v36/By26HXfKi78VGcdZOVyhv4NIAMKKAqO/uwcTjaADpr83s56Rwtx/vwSQl9J4KJG/6fp0fa2Anb9SYKpShfGnv6dNk+cgrKy/aVQt2QNiqb8AI3PX3ZGlv4MVErF+z6u/O5wsEAmWlL+wOplrXPaZv3RLxeT/SH6/aAL/7kourb8=",
          "dtype": "f8"
         },
         "y": {
          "bdata": "2BVUUBHtoD/YFVRQEe2gP4Y1EMOOUpw/hjUQw45SnD8pXI/C9SisPwAAAAAAAAAAAAAAAAAAAAApXI/C9SisP6/YX3ZPHnY/r9hfdk8edj8pXI/C9SisPylcj8L1KKw/AAAAAAAAMDwAAAAAAAAwPBNhw9MrZak/E2HD0ytlqT8AAAAAAAAAAAAAAAAAAAAAAAAAAAAAAAAAAAAAAAAAABhcj8L1KIw/I1yPwvUonD8dhetRuB6lP+SDns2qz6U/P1dbsb/snj+1pnnHKTqSP7WmeccpOpI/P1dbsb/snj/mg57Nqs+lPyOF61G4HqU/L1yPwvUonD8vXI/C9SiMPwAAAAAAADA8nzUQw45SjD9xNRDDjlKMPylcj8L1KKw/KVyPwvUorD8pXI/C9SisPylcj8L1KKw/dbsLkh4ppT93uwuSHimlP5zqMajKDqM/L5vTTAhlmz/5T6aKlUKNP3Dku1+kzp0/V48hd6cFlT/2Nmj+QvOLP3sqZyX24qM/oPAv1d8OpT86AdH+IWGEPwWXBXstZKU/twlbDxKZnj+7GSIiaYelP4KFCxN6sZI//3KZE9Xxiz/ghPMDRGubP2JdcXX+oqc/iM3A2JPkfz8=",
          "dtype": "f8"
         },
         "z": {
          "bdata": "AAAAAAAAAAAAAAAAAAAAAAAAAAAAAAAAAAAAAAAAAAAAAAAAAAAAAAAAAAAAAAAAAAAAAAAAAAAAAAAAAAAAAAAAAAAAAAAAAAAAAAAAAAAAAAAAAAAAAAAAAAAAAAAAAAAAAAAAAAAAAAAAAAAAAAAAAAAAAAAAAAAAAAAAAAAAAAAAAAAAAAAAAAAAAAAAAAAAAAAAAAAAAAAAAAAAAAAAAAAAAAAAAAAAAAAAAAAAAAAAAAAAAAAAAAAAAAAAAAAAAAAAAAAAAAAAAAAAAAAAAAAAAAAAAAAAAAAAAAAAAAAAAAAAAAAAAAAAAAAAAAAAAAAAAAAAAAAAAAAAAAAAAAAAAAAAAAAAAAAAAAAAAAAAAAAAAAAAAAAAAAAAAAAAAAAAAAAAAAAAAAAAAAAAAAAAAAAAAAAAAAAAAAAAAAAAAAAAAAAAAAAAAAAAAAAAAAAAAAAAAAAAAAAAAAAAAAAAAAAAAAAAAAAAAAAAAAAAAAAAAAAAAAAAAAAAAAAAAAAAAAAAAAAAAAAAAAAAAAAAAAAAAAAAAAAAAAAAAAAAAAAAAAAAAAAAAAAAAAAAAAAAAAAAAAAAAAAAAAAAAAAAAAAAAAAAAAAAAAA=",
          "dtype": "f8"
         }
        },
        {
         "line": {
          "color": "rgb(50, 50, 50)",
          "width": 1.5
         },
         "mode": "lines",
         "showlegend": false,
         "type": "scatter3d",
         "x": [
          0.0135,
          0.01755000000000002,
          0.0081,
          0.0135,
          null,
          -0.007507068174697696,
          0,
          -0.01356976565809599,
          -0.007507068174697696,
          null,
          -0.002199999999999883,
          0.0135,
          0.0081,
          -0.002199999999999883,
          null,
          -0.03390673848075402,
          -0.04299642297839009,
          -0.03712876909425324,
          -0.03390673848075402,
          null,
          0.0081,
          0.0081,
          0,
          0.0081,
          null,
          -0.01356976565809599,
          0,
          0,
          -0.01356976565809599,
          null,
          0,
          0,
          -0.007778892549976039,
          0,
          null,
          -0.01675595078803839,
          -0.02881117895344235,
          -0.01789999999999992,
          -0.01675595078803839,
          null,
          -0.05199999999999997,
          -0.04676453241444335,
          -0.03899999999999993,
          -0.05199999999999997,
          null,
          -0.02881117895344235,
          -0.03359999999999996,
          -0.01789999999999992,
          -0.02881117895344235,
          null,
          -0.05600073649261655,
          -0.04212849860193124,
          -0.04957592035376807,
          -0.05600073649261655,
          null,
          0.0081,
          0.0135,
          0.0135,
          0.0081,
          null,
          0.027,
          0.027,
          0.0216,
          0.027,
          null,
          -0.03712876909425324,
          -0.04957592035376807,
          -0.04212849860193124,
          -0.03712876909425324,
          null,
          -0.05600073649261655,
          -0.0493,
          -0.04212849860193124,
          -0.05600073649261655,
          null,
          0,
          -0.002199999999999883,
          0.0081,
          0,
          null,
          -0.03390673848075402,
          -0.04676453241444335,
          -0.04299642297839009,
          -0.03390673848075402,
          null,
          -0.007507068174697696,
          0,
          0,
          -0.007507068174697696,
          null,
          -0.05431743537432523,
          -0.04299642297839009,
          -0.04676453241444335,
          -0.05431743537432523,
          null,
          0.0081,
          0.0081,
          0.0135,
          0.0081,
          null,
          -0.04212849860193124,
          -0.0493,
          -0.03359999999999996,
          -0.04212849860193124,
          null,
          -0.03899999999999993,
          -0.04676453241444335,
          -0.03390673848075402,
          -0.03899999999999993,
          null,
          -0.01356976565809599,
          -0.007778892549976039,
          -0.02010358964176027,
          -0.01356976565809599,
          null,
          0.027,
          0.01755000000000002,
          0.0216,
          0.027,
          null,
          -0.0253538551972336,
          -0.01356976565809599,
          -0.02010358964176027,
          -0.0253538551972336,
          null,
          0.0135,
          0.0081,
          0.0135,
          0.0135,
          null,
          0.0216,
          0.027,
          0.0216,
          0.0216,
          null,
          0.0135,
          0.0081,
          0.0135,
          0.0135,
          null,
          0.0081,
          0,
          0,
          0.0081,
          null,
          0.0081,
          0.0135,
          0.0081,
          0.0081,
          null,
          0.027,
          0.027,
          0.0216,
          0.027,
          null,
          0.0216,
          0.0216,
          0.027,
          0.0216,
          null,
          0.0216,
          0.027,
          0.0216,
          0.0216,
          null,
          0.027,
          0.027,
          0.0216,
          0.027,
          null,
          0.0081,
          0.0135,
          0.0135,
          0.0081,
          null,
          0.0135,
          0.0081,
          0.0081,
          0.0135,
          null,
          0.0081,
          0.0135,
          0.0081,
          0.0081,
          null,
          0.0216,
          0.027,
          0.0216,
          0.0216,
          null,
          0.0216,
          0.01755000000000002,
          0.0135,
          0.0216,
          null,
          0.0216,
          0.027,
          0.027,
          0.0216,
          null,
          0.0135,
          0.0081,
          0.0081,
          0.0135,
          null,
          -0.065,
          -0.05600073649261655,
          -0.04957592035376807,
          -0.065,
          null,
          -0.0493,
          -0.05600073649261655,
          -0.065,
          -0.0493,
          null,
          -0.05600073649261655,
          -0.065,
          -0.065,
          -0.05600073649261655,
          null,
          -0.007507068174697696,
          -0.01675595078803839,
          -0.007393836578858937,
          -0.007507068174697696,
          null,
          -0.01299999999999998,
          -0.007778892549976039,
          0,
          -0.01299999999999998,
          null,
          -0.01789999999999992,
          -0.007393836578858937,
          -0.01675595078803839,
          -0.01789999999999992,
          null,
          -0.007778892549976039,
          -0.01299999999999998,
          -0.02010358964176027,
          -0.007778892549976039,
          null,
          -0.01675595078803839,
          -0.007507068174697696,
          -0.01356976565809599,
          -0.01675595078803839,
          null,
          -0.01299999999999998,
          -0.02599999999999994,
          -0.02010358964176027,
          -0.01299999999999998,
          null,
          -0.01356976565809599,
          0,
          -0.007778892549976039,
          -0.01356976565809599,
          null,
          -0.01356976565809599,
          -0.0253538551972336,
          -0.01675595078803839,
          -0.01356976565809599,
          null,
          -0.05431743537432523,
          -0.04676453241444335,
          -0.05699381034310563,
          -0.05431743537432523,
          null,
          -0.05199999999999997,
          -0.05699381034310563,
          -0.04676453241444335,
          -0.05199999999999997,
          null,
          -0.04299642297839009,
          -0.05431743537432523,
          -0.04957592035376807,
          -0.04299642297839009,
          null,
          -0.05699381034310563,
          -0.065,
          -0.05431743537432523,
          -0.05699381034310563,
          null,
          -0.03712876909425324,
          -0.04299642297839009,
          -0.04957592035376807,
          -0.03712876909425324,
          null,
          -0.007778892549976039,
          0,
          0,
          -0.007778892549976039,
          null,
          -0.007393836578858937,
          0,
          -0.007507068174697696,
          -0.007393836578858937,
          null,
          -0.007393836578858937,
          -0.01789999999999992,
          -0.002199999999999883,
          -0.007393836578858937,
          null,
          0,
          -0.007393836578858937,
          -0.002199999999999883,
          0,
          null,
          -0.05699381034310563,
          -0.05199999999999997,
          -0.065,
          -0.05699381034310563,
          null,
          -0.065,
          -0.04957592035376807,
          -0.05431743537432523,
          -0.065,
          null,
          -0.065,
          -0.05431743537432523,
          -0.065,
          -0.065,
          null,
          -0.0253538551972336,
          -0.02010358964176027,
          -0.03390673848075402,
          -0.0253538551972336,
          null,
          -0.065,
          -0.05699381034310563,
          -0.065,
          -0.065,
          null,
          -0.04212849860193124,
          -0.03359999999999996,
          -0.02881117895344235,
          -0.04212849860193124,
          null,
          0,
          -0.007393836578858937,
          0,
          0,
          null,
          -0.03712876909425324,
          -0.04212849860193124,
          -0.02881117895344235,
          -0.03712876909425324,
          null,
          -0.02881117895344235,
          -0.0253538551972336,
          -0.03712876909425324,
          -0.02881117895344235,
          null,
          -0.0253538551972336,
          -0.02881117895344235,
          -0.01675595078803839,
          -0.0253538551972336,
          null,
          -0.03899999999999993,
          -0.03390673848075402,
          -0.02599999999999994,
          -0.03899999999999993,
          null,
          -0.0253538551972336,
          -0.03390673848075402,
          -0.03712876909425324,
          -0.0253538551972336,
          null,
          -0.02010358964176027,
          -0.02599999999999994,
          -0.03390673848075402,
          -0.02010358964176027,
          null,
          -0.05600073649261655,
          -0.065,
          -0.065,
          -0.05600073649261655,
          null
         ],
         "y": [
          0.005400000000000001,
          8.673617379884035e-19,
          8.673617379884035e-19,
          0.005400000000000001,
          null,
          0.03722222617303325,
          0.03305868249485017,
          0.02675259560501358,
          0.03722222617303325,
          null,
          0.055,
          0.055,
          0.0496,
          0.055,
          null,
          0.0142871554315107,
          0.02052938141458979,
          0.0291085894996041,
          0.0142871554315107,
          null,
          0.03305868249485017,
          0.02765868249485017,
          0.03305868249485017,
          0.03305868249485017,
          null,
          0.02675259560501358,
          0.03305868249485017,
          0.02765868249485017,
          0.02675259560501358,
          null,
          0.01382934124742505,
          0,
          0.01364757861031361,
          0.01382934124742505,
          null,
          0.03884095388965122,
          0.04112910725959407,
          0.055,
          0.03884095388965122,
          null,
          0,
          0.00995089110267654,
          0,
          0,
          null,
          0.04112910725959407,
          0.055,
          0.055,
          0.04112910725959407,
          null,
          0.04177991987925903,
          0.04204872647919752,
          0.02988079279635666,
          0.04177991987925903,
          null,
          0.03305868249485017,
          0.0426,
          0.0302,
          0.03305868249485017,
          null,
          0.055,
          0.04125000000000003,
          0.04260000000000001,
          0.055,
          null,
          0.0291085894996041,
          0.02988079279635666,
          0.04204872647919752,
          0.0291085894996041,
          null,
          0.04177991987925903,
          0.055,
          0.04204872647919752,
          0.04177991987925903,
          null,
          0.0496,
          0.055,
          0.0496,
          0.0496,
          null,
          0.0142871554315107,
          0.00995089110267654,
          0.02052938141458979,
          0.0142871554315107,
          null,
          0.03722222617303325,
          0.04132934124742509,
          0.03305868249485017,
          0.03722222617303325,
          null,
          0.01825514546624652,
          0.02052938141458979,
          0.00995089110267654,
          0.01825514546624652,
          null,
          8.673617379884035e-19,
          0.01382934124742513,
          0.005400000000000001,
          8.673617379884035e-19,
          null,
          0.04204872647919752,
          0.055,
          0.055,
          0.04204872647919752,
          null,
          0,
          0.00995089110267654,
          0.0142871554315107,
          0,
          null,
          0.02675259560501358,
          0.01364757861031361,
          0.01364485231459289,
          0.02675259560501358,
          null,
          8.673617379884035e-19,
          8.673617379884035e-19,
          0.005400000000000001,
          8.673617379884035e-19,
          null,
          0.02677637361637586,
          0.02675259560501358,
          0.01364485231459289,
          0.02677637361637586,
          null,
          0.005400000000000001,
          0.01382934124742513,
          0.0178,
          0.005400000000000001,
          null,
          0.04260000000000001,
          0.04125000000000003,
          0.0302,
          0.04260000000000001,
          null,
          0.0178,
          0.02765868249485017,
          0.0302,
          0.0178,
          null,
          0.02765868249485017,
          0.02765868249485017,
          0.03305868249485017,
          0.02765868249485017,
          null,
          0.0496,
          0.0426,
          0.04132934124742508,
          0.0496,
          null,
          0.02750000000000002,
          0.01375000000000001,
          0.0178,
          0.02750000000000002,
          null,
          0.04260000000000001,
          0.055,
          0.055,
          0.04260000000000001,
          null,
          0.0178,
          0.01375000000000001,
          0.005400000000000001,
          0.0178,
          null,
          0.04125000000000003,
          0.02750000000000002,
          0.0302,
          0.04125000000000003,
          null,
          0.0496,
          0.055,
          0.0426,
          0.0496,
          null,
          0.0178,
          0.01382934124742513,
          0.02765868249485017,
          0.0178,
          null,
          0.04132934124742508,
          0.0426,
          0.03305868249485017,
          0.04132934124742508,
          null,
          0.0302,
          0.02750000000000002,
          0.0178,
          0.0302,
          null,
          0.005400000000000001,
          8.673617379884035e-19,
          0.005400000000000001,
          0.005400000000000001,
          null,
          0.005400000000000001,
          0.01375000000000001,
          8.673617379884035e-19,
          0.005400000000000001,
          null,
          0.0302,
          0.02765868249485017,
          0.03305868249485017,
          0.0302,
          null,
          0.02749999999999998,
          0.04177991987925903,
          0.02988079279635666,
          0.02749999999999998,
          null,
          0.055,
          0.04177991987925903,
          0.055,
          0.055,
          null,
          0.04177991987925903,
          0.04124999999999999,
          0.055,
          0.04177991987925903,
          null,
          0.03722222617303325,
          0.03884095388965122,
          0.04616542037609396,
          0.03722222617303325,
          null,
          0,
          0.01364757861031361,
          0,
          0,
          null,
          0.055,
          0.04616542037609396,
          0.03884095388965122,
          0.055,
          null,
          0.01364757861031361,
          0,
          0.01364485231459289,
          0.01364757861031361,
          null,
          0.03884095388965122,
          0.03722222617303325,
          0.02675259560501358,
          0.03884095388965122,
          null,
          0,
          0,
          0.01364485231459289,
          0,
          null,
          0.02675259560501358,
          0.02765868249485017,
          0.01364757861031361,
          0.02675259560501358,
          null,
          0.02675259560501358,
          0.02677637361637586,
          0.03884095388965122,
          0.02675259560501358,
          null,
          0.01825514546624652,
          0.00995089110267654,
          0.007786347890987762,
          0.01825514546624652,
          null,
          0,
          0.007786347890987762,
          0.00995089110267654,
          0,
          null,
          0.02052938141458979,
          0.01825514546624652,
          0.02988079279635666,
          0.02052938141458979,
          null,
          0.007786347890987762,
          0.01374999999999997,
          0.01825514546624652,
          0.007786347890987762,
          null,
          0.0291085894996041,
          0.02052938141458979,
          0.02988079279635666,
          0.0291085894996041,
          null,
          0.01364757861031361,
          0.02765868249485017,
          0.01382934124742505,
          0.01364757861031361,
          null,
          0.04616542037609396,
          0.04132934124742509,
          0.03722222617303325,
          0.04616542037609396,
          null,
          0.04616542037609396,
          0.055,
          0.055,
          0.04616542037609396,
          null,
          0.0496,
          0.04616542037609396,
          0.055,
          0.0496,
          null,
          0.007786347890987762,
          0,
          0,
          0.007786347890987762,
          null,
          0.02749999999999998,
          0.02988079279635666,
          0.01825514546624652,
          0.02749999999999998,
          null,
          0.02749999999999998,
          0.01825514546624652,
          0.01374999999999997,
          0.02749999999999998,
          null,
          0.02677637361637586,
          0.01364485231459289,
          0.0142871554315107,
          0.02677637361637586,
          null,
          0.01374999999999997,
          0.007786347890987762,
          0,
          0.01374999999999997,
          null,
          0.04204872647919752,
          0.055,
          0.04112910725959407,
          0.04204872647919752,
          null,
          0.04132934124742509,
          0.04616542037609396,
          0.0496,
          0.04132934124742509,
          null,
          0.0291085894996041,
          0.04204872647919752,
          0.04112910725959407,
          0.0291085894996041,
          null,
          0.04112910725959407,
          0.02677637361637586,
          0.0291085894996041,
          0.04112910725959407,
          null,
          0.02677637361637586,
          0.04112910725959407,
          0.03884095388965122,
          0.02677637361637586,
          null,
          0,
          0.0142871554315107,
          0,
          0,
          null,
          0.02677637361637586,
          0.0142871554315107,
          0.0291085894996041,
          0.02677637361637586,
          null,
          0.01364485231459289,
          0,
          0.0142871554315107,
          0.01364485231459289,
          null,
          0.04177991987925903,
          0.02749999999999998,
          0.04124999999999999,
          0.04177991987925903,
          null
         ],
         "z": [
          0,
          0,
          0,
          0,
          null,
          0,
          0,
          0,
          0,
          null,
          0,
          0,
          0,
          0,
          null,
          0,
          0,
          0,
          0,
          null,
          0,
          0,
          0,
          0,
          null,
          0,
          0,
          0,
          0,
          null,
          0,
          0,
          0,
          0,
          null,
          0,
          0,
          0,
          0,
          null,
          0,
          0,
          0,
          0,
          null,
          0,
          0,
          0,
          0,
          null,
          0,
          0,
          0,
          0,
          null,
          0,
          0,
          0,
          0,
          null,
          0,
          0,
          0,
          0,
          null,
          0,
          0,
          0,
          0,
          null,
          0,
          0,
          0,
          0,
          null,
          0,
          0,
          0,
          0,
          null,
          0,
          0,
          0,
          0,
          null,
          0,
          0,
          0,
          0,
          null,
          0,
          0,
          0,
          0,
          null,
          0,
          0,
          0,
          0,
          null,
          0,
          0,
          0,
          0,
          null,
          0,
          0,
          0,
          0,
          null,
          0,
          0,
          0,
          0,
          null,
          0,
          0,
          0,
          0,
          null,
          0,
          0,
          0,
          0,
          null,
          0,
          0,
          0,
          0,
          null,
          0,
          0,
          0,
          0,
          null,
          0,
          0,
          0,
          0,
          null,
          0,
          0,
          0,
          0,
          null,
          0,
          0,
          0,
          0,
          null,
          0,
          0,
          0,
          0,
          null,
          0,
          0,
          0,
          0,
          null,
          0,
          0,
          0,
          0,
          null,
          0,
          0,
          0,
          0,
          null,
          0,
          0,
          0,
          0,
          null,
          0,
          0,
          0,
          0,
          null,
          0,
          0,
          0,
          0,
          null,
          0,
          0,
          0,
          0,
          null,
          0,
          0,
          0,
          0,
          null,
          0,
          0,
          0,
          0,
          null,
          0,
          0,
          0,
          0,
          null,
          0,
          0,
          0,
          0,
          null,
          0,
          0,
          0,
          0,
          null,
          0,
          0,
          0,
          0,
          null,
          0,
          0,
          0,
          0,
          null,
          0,
          0,
          0,
          0,
          null,
          0,
          0,
          0,
          0,
          null,
          0,
          0,
          0,
          0,
          null,
          0,
          0,
          0,
          0,
          null,
          0,
          0,
          0,
          0,
          null,
          0,
          0,
          0,
          0,
          null,
          0,
          0,
          0,
          0,
          null,
          0,
          0,
          0,
          0,
          null,
          0,
          0,
          0,
          0,
          null,
          0,
          0,
          0,
          0,
          null,
          0,
          0,
          0,
          0,
          null,
          0,
          0,
          0,
          0,
          null,
          0,
          0,
          0,
          0,
          null,
          0,
          0,
          0,
          0,
          null,
          0,
          0,
          0,
          0,
          null,
          0,
          0,
          0,
          0,
          null,
          0,
          0,
          0,
          0,
          null,
          0,
          0,
          0,
          0,
          null,
          0,
          0,
          0,
          0,
          null,
          0,
          0,
          0,
          0,
          null,
          0,
          0,
          0,
          0,
          null,
          0,
          0,
          0,
          0,
          null,
          0,
          0,
          0,
          0,
          null,
          0,
          0,
          0,
          0,
          null,
          0,
          0,
          0,
          0,
          null,
          0,
          0,
          0,
          0,
          null,
          0,
          0,
          0,
          0,
          null,
          0,
          0,
          0,
          0,
          null,
          0,
          0,
          0,
          0,
          null,
          0,
          0,
          0,
          0,
          null
         ]
        },
        {
         "hoverinfo": "none",
         "marker": {
          "color": [
           0.013006154297644868,
           2.555443284238341
          ],
          "colorscale": [
           [
            0,
            "rgb(150, 0, 90)"
           ],
           [
            0.125,
            "rgb(0, 0, 200)"
           ],
           [
            0.25,
            "rgb(0, 25, 255)"
           ],
           [
            0.375,
            "rgb(0, 152, 255)"
           ],
           [
            0.5,
            "rgb(44, 255, 150)"
           ],
           [
            0.625,
            "rgb(151, 255, 0)"
           ],
           [
            0.75,
            "rgb(255, 234, 0)"
           ],
           [
            0.875,
            "rgb(255, 111, 0)"
           ],
           [
            1,
            "rgb(255, 0, 0)"
           ]
          ],
          "showscale": true,
          "size": 0.1
         },
         "mode": "markers",
         "showlegend": false,
         "type": "scatter3d",
         "x": {
          "bdata": "AAAAAAAAAAA=",
          "dtype": "f8"
         },
         "y": {
          "bdata": "2BVUUBHtoD8=",
          "dtype": "f8"
         },
         "z": {
          "bdata": "AAAAAAAAAAA=",
          "dtype": "f8"
         }
        },
        {
         "marker": {
          "color": "red",
          "size": 6,
          "symbol": "circle"
         },
         "mode": "markers+text",
         "name": "Feed Point(s)",
         "type": "scatter3d",
         "x": {
          "bdata": "AAAAAAAAAAA=",
          "dtype": "f8"
         },
         "y": {
          "bdata": "mzDcsVgWnz8=",
          "dtype": "f8"
         },
         "z": {
          "bdata": "AAAAAAAAAAA=",
          "dtype": "f8"
         }
        }
       ],
       "layout": {
        "height": 800,
        "legend": {
         "bgcolor": "rgba(255,255,255,0.7)",
         "bordercolor": "lightgray",
         "borderwidth": 1,
         "x": 0.2,
         "xanchor": "left",
         "y": 0.9,
         "yanchor": "top"
        },
        "scene": {
         "aspectratio": {
          "x": 1,
          "y": 0.5978260869565217,
          "z": 0.3
         },
         "camera": {
          "eye": {
           "x": 0.65,
           "y": 0.65,
           "z": 0.65
          }
         },
         "xaxis": {
          "backgroundcolor": "rgb(230, 230, 230)",
          "gridcolor": "rgb(255, 255, 255)",
          "showbackground": true,
          "zerolinecolor": "rgb(255, 255, 255)"
         },
         "yaxis": {
          "backgroundcolor": "rgb(230, 230, 230)",
          "gridcolor": "rgb(255, 255, 255)",
          "showbackground": true,
          "zerolinecolor": "rgb(255, 255, 255)"
         },
         "zaxis": {
          "backgroundcolor": "rgb(230, 230, 230)",
          "gridcolor": "rgb(255, 255, 255)",
          "showbackground": true,
          "zerolinecolor": "rgb(255, 255, 255)"
         }
        },
        "template": {
         "data": {
          "bar": [
           {
            "error_x": {
             "color": "#2a3f5f"
            },
            "error_y": {
             "color": "#2a3f5f"
            },
            "marker": {
             "line": {
              "color": "#E5ECF6",
              "width": 0.5
             },
             "pattern": {
              "fillmode": "overlay",
              "size": 10,
              "solidity": 0.2
             }
            },
            "type": "bar"
           }
          ],
          "barpolar": [
           {
            "marker": {
             "line": {
              "color": "#E5ECF6",
              "width": 0.5
             },
             "pattern": {
              "fillmode": "overlay",
              "size": 10,
              "solidity": 0.2
             }
            },
            "type": "barpolar"
           }
          ],
          "carpet": [
           {
            "aaxis": {
             "endlinecolor": "#2a3f5f",
             "gridcolor": "white",
             "linecolor": "white",
             "minorgridcolor": "white",
             "startlinecolor": "#2a3f5f"
            },
            "baxis": {
             "endlinecolor": "#2a3f5f",
             "gridcolor": "white",
             "linecolor": "white",
             "minorgridcolor": "white",
             "startlinecolor": "#2a3f5f"
            },
            "type": "carpet"
           }
          ],
          "choropleth": [
           {
            "colorbar": {
             "outlinewidth": 0,
             "ticks": ""
            },
            "type": "choropleth"
           }
          ],
          "contour": [
           {
            "colorbar": {
             "outlinewidth": 0,
             "ticks": ""
            },
            "colorscale": [
             [
              0,
              "#0d0887"
             ],
             [
              0.1111111111111111,
              "#46039f"
             ],
             [
              0.2222222222222222,
              "#7201a8"
             ],
             [
              0.3333333333333333,
              "#9c179e"
             ],
             [
              0.4444444444444444,
              "#bd3786"
             ],
             [
              0.5555555555555556,
              "#d8576b"
             ],
             [
              0.6666666666666666,
              "#ed7953"
             ],
             [
              0.7777777777777778,
              "#fb9f3a"
             ],
             [
              0.8888888888888888,
              "#fdca26"
             ],
             [
              1,
              "#f0f921"
             ]
            ],
            "type": "contour"
           }
          ],
          "contourcarpet": [
           {
            "colorbar": {
             "outlinewidth": 0,
             "ticks": ""
            },
            "type": "contourcarpet"
           }
          ],
          "heatmap": [
           {
            "colorbar": {
             "outlinewidth": 0,
             "ticks": ""
            },
            "colorscale": [
             [
              0,
              "#0d0887"
             ],
             [
              0.1111111111111111,
              "#46039f"
             ],
             [
              0.2222222222222222,
              "#7201a8"
             ],
             [
              0.3333333333333333,
              "#9c179e"
             ],
             [
              0.4444444444444444,
              "#bd3786"
             ],
             [
              0.5555555555555556,
              "#d8576b"
             ],
             [
              0.6666666666666666,
              "#ed7953"
             ],
             [
              0.7777777777777778,
              "#fb9f3a"
             ],
             [
              0.8888888888888888,
              "#fdca26"
             ],
             [
              1,
              "#f0f921"
             ]
            ],
            "type": "heatmap"
           }
          ],
          "histogram": [
           {
            "marker": {
             "pattern": {
              "fillmode": "overlay",
              "size": 10,
              "solidity": 0.2
             }
            },
            "type": "histogram"
           }
          ],
          "histogram2d": [
           {
            "colorbar": {
             "outlinewidth": 0,
             "ticks": ""
            },
            "colorscale": [
             [
              0,
              "#0d0887"
             ],
             [
              0.1111111111111111,
              "#46039f"
             ],
             [
              0.2222222222222222,
              "#7201a8"
             ],
             [
              0.3333333333333333,
              "#9c179e"
             ],
             [
              0.4444444444444444,
              "#bd3786"
             ],
             [
              0.5555555555555556,
              "#d8576b"
             ],
             [
              0.6666666666666666,
              "#ed7953"
             ],
             [
              0.7777777777777778,
              "#fb9f3a"
             ],
             [
              0.8888888888888888,
              "#fdca26"
             ],
             [
              1,
              "#f0f921"
             ]
            ],
            "type": "histogram2d"
           }
          ],
          "histogram2dcontour": [
           {
            "colorbar": {
             "outlinewidth": 0,
             "ticks": ""
            },
            "colorscale": [
             [
              0,
              "#0d0887"
             ],
             [
              0.1111111111111111,
              "#46039f"
             ],
             [
              0.2222222222222222,
              "#7201a8"
             ],
             [
              0.3333333333333333,
              "#9c179e"
             ],
             [
              0.4444444444444444,
              "#bd3786"
             ],
             [
              0.5555555555555556,
              "#d8576b"
             ],
             [
              0.6666666666666666,
              "#ed7953"
             ],
             [
              0.7777777777777778,
              "#fb9f3a"
             ],
             [
              0.8888888888888888,
              "#fdca26"
             ],
             [
              1,
              "#f0f921"
             ]
            ],
            "type": "histogram2dcontour"
           }
          ],
          "mesh3d": [
           {
            "colorbar": {
             "outlinewidth": 0,
             "ticks": ""
            },
            "type": "mesh3d"
           }
          ],
          "parcoords": [
           {
            "line": {
             "colorbar": {
              "outlinewidth": 0,
              "ticks": ""
             }
            },
            "type": "parcoords"
           }
          ],
          "pie": [
           {
            "automargin": true,
            "type": "pie"
           }
          ],
          "scatter": [
           {
            "fillpattern": {
             "fillmode": "overlay",
             "size": 10,
             "solidity": 0.2
            },
            "type": "scatter"
           }
          ],
          "scatter3d": [
           {
            "line": {
             "colorbar": {
              "outlinewidth": 0,
              "ticks": ""
             }
            },
            "marker": {
             "colorbar": {
              "outlinewidth": 0,
              "ticks": ""
             }
            },
            "type": "scatter3d"
           }
          ],
          "scattercarpet": [
           {
            "marker": {
             "colorbar": {
              "outlinewidth": 0,
              "ticks": ""
             }
            },
            "type": "scattercarpet"
           }
          ],
          "scattergeo": [
           {
            "marker": {
             "colorbar": {
              "outlinewidth": 0,
              "ticks": ""
             }
            },
            "type": "scattergeo"
           }
          ],
          "scattergl": [
           {
            "marker": {
             "colorbar": {
              "outlinewidth": 0,
              "ticks": ""
             }
            },
            "type": "scattergl"
           }
          ],
          "scattermap": [
           {
            "marker": {
             "colorbar": {
              "outlinewidth": 0,
              "ticks": ""
             }
            },
            "type": "scattermap"
           }
          ],
          "scattermapbox": [
           {
            "marker": {
             "colorbar": {
              "outlinewidth": 0,
              "ticks": ""
             }
            },
            "type": "scattermapbox"
           }
          ],
          "scatterpolar": [
           {
            "marker": {
             "colorbar": {
              "outlinewidth": 0,
              "ticks": ""
             }
            },
            "type": "scatterpolar"
           }
          ],
          "scatterpolargl": [
           {
            "marker": {
             "colorbar": {
              "outlinewidth": 0,
              "ticks": ""
             }
            },
            "type": "scatterpolargl"
           }
          ],
          "scatterternary": [
           {
            "marker": {
             "colorbar": {
              "outlinewidth": 0,
              "ticks": ""
             }
            },
            "type": "scatterternary"
           }
          ],
          "surface": [
           {
            "colorbar": {
             "outlinewidth": 0,
             "ticks": ""
            },
            "colorscale": [
             [
              0,
              "#0d0887"
             ],
             [
              0.1111111111111111,
              "#46039f"
             ],
             [
              0.2222222222222222,
              "#7201a8"
             ],
             [
              0.3333333333333333,
              "#9c179e"
             ],
             [
              0.4444444444444444,
              "#bd3786"
             ],
             [
              0.5555555555555556,
              "#d8576b"
             ],
             [
              0.6666666666666666,
              "#ed7953"
             ],
             [
              0.7777777777777778,
              "#fb9f3a"
             ],
             [
              0.8888888888888888,
              "#fdca26"
             ],
             [
              1,
              "#f0f921"
             ]
            ],
            "type": "surface"
           }
          ],
          "table": [
           {
            "cells": {
             "fill": {
              "color": "#EBF0F8"
             },
             "line": {
              "color": "white"
             }
            },
            "header": {
             "fill": {
              "color": "#C8D4E3"
             },
             "line": {
              "color": "white"
             }
            },
            "type": "table"
           }
          ]
         },
         "layout": {
          "annotationdefaults": {
           "arrowcolor": "#2a3f5f",
           "arrowhead": 0,
           "arrowwidth": 1
          },
          "autotypenumbers": "strict",
          "coloraxis": {
           "colorbar": {
            "outlinewidth": 0,
            "ticks": ""
           }
          },
          "colorscale": {
           "diverging": [
            [
             0,
             "#8e0152"
            ],
            [
             0.1,
             "#c51b7d"
            ],
            [
             0.2,
             "#de77ae"
            ],
            [
             0.3,
             "#f1b6da"
            ],
            [
             0.4,
             "#fde0ef"
            ],
            [
             0.5,
             "#f7f7f7"
            ],
            [
             0.6,
             "#e6f5d0"
            ],
            [
             0.7,
             "#b8e186"
            ],
            [
             0.8,
             "#7fbc41"
            ],
            [
             0.9,
             "#4d9221"
            ],
            [
             1,
             "#276419"
            ]
           ],
           "sequential": [
            [
             0,
             "#0d0887"
            ],
            [
             0.1111111111111111,
             "#46039f"
            ],
            [
             0.2222222222222222,
             "#7201a8"
            ],
            [
             0.3333333333333333,
             "#9c179e"
            ],
            [
             0.4444444444444444,
             "#bd3786"
            ],
            [
             0.5555555555555556,
             "#d8576b"
            ],
            [
             0.6666666666666666,
             "#ed7953"
            ],
            [
             0.7777777777777778,
             "#fb9f3a"
            ],
            [
             0.8888888888888888,
             "#fdca26"
            ],
            [
             1,
             "#f0f921"
            ]
           ],
           "sequentialminus": [
            [
             0,
             "#0d0887"
            ],
            [
             0.1111111111111111,
             "#46039f"
            ],
            [
             0.2222222222222222,
             "#7201a8"
            ],
            [
             0.3333333333333333,
             "#9c179e"
            ],
            [
             0.4444444444444444,
             "#bd3786"
            ],
            [
             0.5555555555555556,
             "#d8576b"
            ],
            [
             0.6666666666666666,
             "#ed7953"
            ],
            [
             0.7777777777777778,
             "#fb9f3a"
            ],
            [
             0.8888888888888888,
             "#fdca26"
            ],
            [
             1,
             "#f0f921"
            ]
           ]
          },
          "colorway": [
           "#636efa",
           "#EF553B",
           "#00cc96",
           "#ab63fa",
           "#FFA15A",
           "#19d3f3",
           "#FF6692",
           "#B6E880",
           "#FF97FF",
           "#FECB52"
          ],
          "font": {
           "color": "#2a3f5f"
          },
          "geo": {
           "bgcolor": "white",
           "lakecolor": "white",
           "landcolor": "#E5ECF6",
           "showlakes": true,
           "showland": true,
           "subunitcolor": "white"
          },
          "hoverlabel": {
           "align": "left"
          },
          "hovermode": "closest",
          "mapbox": {
           "style": "light"
          },
          "paper_bgcolor": "white",
          "plot_bgcolor": "#E5ECF6",
          "polar": {
           "angularaxis": {
            "gridcolor": "white",
            "linecolor": "white",
            "ticks": ""
           },
           "bgcolor": "#E5ECF6",
           "radialaxis": {
            "gridcolor": "white",
            "linecolor": "white",
            "ticks": ""
           }
          },
          "scene": {
           "xaxis": {
            "backgroundcolor": "#E5ECF6",
            "gridcolor": "white",
            "gridwidth": 2,
            "linecolor": "white",
            "showbackground": true,
            "ticks": "",
            "zerolinecolor": "white"
           },
           "yaxis": {
            "backgroundcolor": "#E5ECF6",
            "gridcolor": "white",
            "gridwidth": 2,
            "linecolor": "white",
            "showbackground": true,
            "ticks": "",
            "zerolinecolor": "white"
           },
           "zaxis": {
            "backgroundcolor": "#E5ECF6",
            "gridcolor": "white",
            "gridwidth": 2,
            "linecolor": "white",
            "showbackground": true,
            "ticks": "",
            "zerolinecolor": "white"
           }
          },
          "shapedefaults": {
           "line": {
            "color": "#2a3f5f"
           }
          },
          "ternary": {
           "aaxis": {
            "gridcolor": "white",
            "linecolor": "white",
            "ticks": ""
           },
           "baxis": {
            "gridcolor": "white",
            "linecolor": "white",
            "ticks": ""
           },
           "bgcolor": "#E5ECF6",
           "caxis": {
            "gridcolor": "white",
            "linecolor": "white",
            "ticks": ""
           }
          },
          "title": {
           "x": 0.05
          },
          "xaxis": {
           "automargin": true,
           "gridcolor": "white",
           "linecolor": "white",
           "ticks": "",
           "title": {
            "standoff": 15
           },
           "zerolinecolor": "white",
           "zerolinewidth": 2
          },
          "yaxis": {
           "automargin": true,
           "gridcolor": "white",
           "linecolor": "white",
           "ticks": "",
           "title": {
            "standoff": 15
           },
           "zerolinecolor": "white",
           "zerolinewidth": 2
          }
         }
        },
        "title": {
         "text": ""
        },
        "width": 800
       }
      }
     },
     "metadata": {},
     "output_type": "display_data"
    },
    {
     "name": "stdout",
     "output_type": "stream",
     "text": [
      "\n",
      "Image saved in PDF format: data/fig_image/ifa_M_opti3_antenna_surface_current_in_radiation_mode.pdf\n",
      "\n",
      "Simulation 43/101 | f = 868.00 MHz | S11 = -12.09 dB\n",
      "Simulation 44/101 | f = 872.00 MHz | S11 = -13.47 dB\n",
      "Simulation 45/101 | f = 876.00 MHz | S11 = -15.14 dB\n",
      "Simulation 46/101 | f = 880.00 MHz | S11 = -17.22 dB\n",
      "Simulation 47/101 | f = 884.00 MHz | S11 = -19.98 dB\n",
      "Simulation 48/101 | f = 888.00 MHz | S11 = -24.03 dB\n",
      "Simulation 49/101 | f = 892.00 MHz | S11 = -31.75 dB\n",
      "Simulation 50/101 | f = 896.00 MHz | S11 = -38.68 dB\n",
      "Simulation 51/101 | f = 900.00 MHz | S11 = -26.44 dB\n",
      "Simulation 52/101 | f = 904.00 MHz | S11 = -21.58 dB\n",
      "Simulation 53/101 | f = 908.00 MHz | S11 = -18.54 dB\n",
      "Simulation 54/101 | f = 912.00 MHz | S11 = -16.33 dB\n",
      "Simulation 55/101 | f = 916.00 MHz | S11 = -14.62 dB\n",
      "Simulation 56/101 | f = 920.00 MHz | S11 = -13.23 dB\n",
      "Simulation 57/101 | f = 924.00 MHz | S11 = -12.07 dB\n",
      "Simulation 58/101 | f = 928.00 MHz | S11 = -11.08 dB\n",
      "Simulation 59/101 | f = 932.00 MHz | S11 = -10.22 dB\n",
      "Simulation 60/101 | f = 936.00 MHz | S11 = -9.46 dB\n",
      "Simulation 61/101 | f = 940.00 MHz | S11 = -8.80 dB\n",
      "Simulation 62/101 | f = 944.00 MHz | S11 = -8.21 dB\n",
      "Simulation 63/101 | f = 948.00 MHz | S11 = -7.68 dB\n",
      "Simulation 64/101 | f = 952.00 MHz | S11 = -7.20 dB\n",
      "Simulation 65/101 | f = 956.00 MHz | S11 = -6.76 dB\n",
      "Simulation 66/101 | f = 960.00 MHz | S11 = -6.37 dB\n",
      "Simulation 67/101 | f = 964.00 MHz | S11 = -6.01 dB\n",
      "Simulation 68/101 | f = 968.00 MHz | S11 = -5.68 dB\n",
      "Simulation 69/101 | f = 972.00 MHz | S11 = -5.38 dB\n",
      "Simulation 70/101 | f = 976.00 MHz | S11 = -5.10 dB\n",
      "Simulation 71/101 | f = 980.00 MHz | S11 = -4.84 dB\n",
      "Simulation 72/101 | f = 984.00 MHz | S11 = -4.61 dB\n",
      "Simulation 73/101 | f = 988.00 MHz | S11 = -4.39 dB\n",
      "Simulation 74/101 | f = 992.00 MHz | S11 = -4.18 dB\n",
      "Simulation 75/101 | f = 996.00 MHz | S11 = -3.99 dB\n",
      "Simulation 76/101 | f = 1000.00 MHz | S11 = -3.82 dB\n",
      "Simulation 77/101 | f = 1004.00 MHz | S11 = -3.65 dB\n",
      "Simulation 78/101 | f = 1008.00 MHz | S11 = -3.50 dB\n",
      "Simulation 79/101 | f = 1012.00 MHz | S11 = -3.35 dB\n",
      "Simulation 80/101 | f = 1016.00 MHz | S11 = -3.22 dB\n",
      "Simulation 81/101 | f = 1020.00 MHz | S11 = -3.09 dB\n",
      "Simulation 82/101 | f = 1024.00 MHz | S11 = -2.97 dB\n",
      "Simulation 83/101 | f = 1028.00 MHz | S11 = -2.86 dB\n",
      "Simulation 84/101 | f = 1032.00 MHz | S11 = -2.75 dB\n",
      "Simulation 85/101 | f = 1036.00 MHz | S11 = -2.65 dB\n",
      "Simulation 86/101 | f = 1040.00 MHz | S11 = -2.56 dB\n",
      "Simulation 87/101 | f = 1044.00 MHz | S11 = -2.47 dB\n",
      "Simulation 88/101 | f = 1048.00 MHz | S11 = -2.38 dB\n",
      "Simulation 89/101 | f = 1052.00 MHz | S11 = -2.30 dB\n",
      "Simulation 90/101 | f = 1056.00 MHz | S11 = -2.23 dB\n",
      "Simulation 91/101 | f = 1060.00 MHz | S11 = -2.15 dB\n",
      "Simulation 92/101 | f = 1064.00 MHz | S11 = -2.08 dB\n",
      "Simulation 93/101 | f = 1068.00 MHz | S11 = -2.02 dB\n",
      "Simulation 94/101 | f = 1072.00 MHz | S11 = -1.95 dB\n",
      "Simulation 95/101 | f = 1076.00 MHz | S11 = -1.89 dB\n",
      "Simulation 96/101 | f = 1080.00 MHz | S11 = -1.84 dB\n",
      "Simulation 97/101 | f = 1084.00 MHz | S11 = -1.78 dB\n",
      "Simulation 98/101 | f = 1088.00 MHz | S11 = -1.73 dB\n",
      "Simulation 99/101 | f = 1092.00 MHz | S11 = -1.68 dB\n",
      "Simulation 100/101 | f = 1096.00 MHz | S11 = -1.63 dB\n",
      "Simulation 101/101 | f = 1100.00 MHz | S11 = -1.59 dB\n"
     ]
    },
    {
     "data": {
      "application/vnd.plotly.v1+json": {
       "config": {
        "plotlyServerURL": "https://plot.ly"
       },
       "data": [
        {
         "hoverinfo": "text",
         "imag": [
          7.149780793759536,
          7.487464966879039,
          7.840759418684697,
          8.200906282660561,
          8.55160513774384,
          8.864590716929051,
          9.093618811647639,
          9.167820115244668,
          8.98823078727716,
          8.436468873468568,
          7.408811098012499,
          5.880206490241667,
          3.96768912836245,
          1.9266551006182606,
          0.050128484404078015,
          -1.4564448939247712,
          -2.526588522853047,
          -3.2001967883646865,
          -3.5637944336861267,
          -3.70717361896778,
          -3.7041834157025333,
          -3.6089920876312123,
          -3.458861040735081,
          -3.2784376727249014,
          -3.0835929155769537,
          -2.884316922774019,
          -2.686742414850732,
          -2.494504502233951,
          -2.309636294487502,
          -2.1331527343942778,
          -1.9654292714505042,
          -1.8064468196644468,
          -1.6559498785399258,
          -1.5135482824769142,
          -1.3787823136317596,
          -1.2511639679392716,
          -1.13020268305993,
          -1.0154209441702793,
          -0.9063633105067153,
          -0.8026011878518797,
          -0.7037348767595932,
          -0.6093939042879642,
          -0.43294727214475714,
          -0.35023750842512785,
          -0.2708413856973025,
          -0.19451510525900523,
          -0.12103488638803928,
          -0.05019524097796965,
          0.018192644402702848,
          0.08430240824800547,
          0.14829389300009338,
          0.2103144055075269,
          0.2704998645165764,
          0.32897584233370075,
          0.3858585085894465,
          0.44125548424909916,
          0.4952666138727838,
          0.547984663765099,
          0.599495953172231,
          0.6498809251429798,
          0.6992146631117236,
          0.74756735871163,
          0.7950047358013722,
          0.8415884351965297,
          0.8873763641431951,
          0.9324230141564068,
          0.9767797504687944,
          1.0204950759970617,
          1.063614872427688,
          1.106182620750668,
          1.148239603327634,
          1.1898250893613975,
          1.2309765054423303,
          1.2717295926746004,
          1.3121185517316427,
          1.3521761770558276,
          1.3919339812953588,
          1.4314223109661883,
          1.4706704542296427,
          1.5097067415949765,
          1.548558640279011,
          1.587252842890367,
          1.625815351047499,
          1.664271554486689,
          1.7026463061723403,
          1.7409639938803623,
          1.7792486086909787,
          1.8175238107958591,
          1.8558129929983707,
          1.8941393422619714,
          1.9325258996419583,
          1.970995618918942,
          2.0095714242392257,
          2.048276267054057,
          2.0871331826428765,
          2.12616534649786,
          2.165396130842648,
          2.204849161556832,
          2.244548375776664,
          2.2845180804451446
         ],
         "marker": {
          "color": "blue",
          "size": 4
         },
         "mode": "markers+lines",
         "name": "Impedance Points",
         "real": [
          1.9503485307897486,
          2.2979924858875806,
          2.7243876684521093,
          3.2495772639971428,
          3.8976843257903457,
          4.695865083386548,
          5.670568299674959,
          6.838555677181599,
          8.189527305179862,
          9.65954893093522,
          11.10451111468178,
          12.301182566468583,
          13.009431917509069,
          13.084793666644861,
          12.557222306733689,
          11.602066755801893,
          10.437941744298053,
          9.241814615555112,
          8.1209937174163,
          7.124050178397041,
          6.262562811637759,
          5.529144911122654,
          4.908715842815892,
          4.384471513801566,
          3.9406201255667845,
          3.5633948014271315,
          3.2412384932199227,
          2.9646361739260167,
          2.72582745782146,
          2.5185054510241436,
          2.337544479569351,
          2.178769696930929,
          2.0387686320943716,
          1.9147397981456533,
          1.8043721907217871,
          1.7057497562119313,
          1.617275711939984,
          1.537612513144618,
          1.4656341044565386,
          1.4003878077022072,
          1.3410637769641789,
          1.2869704102268864,
          1.192184902122736,
          1.150539698787413,
          1.1121950324493002,
          1.0768163712260816,
          1.0441111004910566,
          1.0138223946178453,
          0.9857241019637573,
          0.9596164580281318,
          0.9353224784140075,
          0.9126849121301949,
          0.8915636586395012,
          0.871833570225402,
          0.8533825757397914,
          0.8361100734005278,
          0.8199255496398175,
          0.8047473885398976,
          0.7905018424995406,
          0.7771221397433848,
          0.7645477083442951,
          0.7527234997540256,
          0.7415993975731154,
          0.7311296995487675,
          0.7212726626584046,
          0.7119901026905205,
          0.703247041028897,
          0.6950113924283482,
          0.6872536884782562,
          0.6799468322135721,
          0.6730658799764251,
          0.6665878471768815,
          0.6604915350630114,
          0.6547573760031438,
          0.6493672951189623,
          0.6443045863939063,
          0.6395538016273801,
          0.635100650816078,
          0.6309319127260076,
          0.6270353545754064,
          0.6233996598855247,
          0.6200143636741263,
          0.6168697942696167,
          0.6139570211142101,
          0.6112678080029229,
          0.6087945712752186,
          0.6065303425371643,
          0.6044687355467687,
          0.6026039169433322,
          0.6009305805456082,
          0.5994439249825572,
          0.5981396344562999,
          0.5970138624693487,
          0.5960632183788142,
          0.5952847566676878,
          0.5946759688506291,
          0.5942347779565336,
          0.5939595355547952,
          0.5938490213161743,
          0.593902445123083
         ],
         "text": [
          "Z = 97.517+357.489j at 700.00 MHz",
          "Z = 114.900+374.373j at 704.00 MHz",
          "Z = 136.219+392.038j at 708.00 MHz",
          "Z = 162.479+410.045j at 712.00 MHz",
          "Z = 194.884+427.580j at 716.00 MHz",
          "Z = 234.793+443.230j at 720.00 MHz",
          "Z = 283.528+454.681j at 724.00 MHz",
          "Z = 341.928+458.391j at 728.00 MHz",
          "Z = 409.476+449.412j at 732.00 MHz",
          "Z = 482.977+421.823j at 736.00 MHz",
          "Z = 555.226+370.441j at 740.00 MHz",
          "Z = 615.059+294.010j at 744.00 MHz",
          "Z = 650.472+198.384j at 748.00 MHz",
          "Z = 654.240+96.333j at 752.00 MHz",
          "Z = 627.861+2.506j at 756.00 MHz",
          "Z = 580.103-72.822j at 760.00 MHz",
          "Z = 521.897-126.329j at 764.00 MHz",
          "Z = 462.091-160.010j at 768.00 MHz",
          "Z = 406.050-178.190j at 772.00 MHz",
          "Z = 356.203-185.359j at 776.00 MHz",
          "Z = 313.128-185.209j at 780.00 MHz",
          "Z = 276.457-180.450j at 784.00 MHz",
          "Z = 245.436-172.943j at 788.00 MHz",
          "Z = 219.224-163.922j at 792.00 MHz",
          "Z = 197.031-154.180j at 796.00 MHz",
          "Z = 178.170-144.216j at 800.00 MHz",
          "Z = 162.062-134.337j at 804.00 MHz",
          "Z = 148.232-124.725j at 808.00 MHz",
          "Z = 136.291-115.482j at 812.00 MHz",
          "Z = 125.925-106.658j at 816.00 MHz",
          "Z = 116.877-98.271j at 820.00 MHz",
          "Z = 108.938-90.322j at 824.00 MHz",
          "Z = 101.938-82.797j at 828.00 MHz",
          "Z = 95.737-75.677j at 832.00 MHz",
          "Z = 90.219-68.939j at 836.00 MHz",
          "Z = 85.287-62.558j at 840.00 MHz",
          "Z = 80.864-56.510j at 844.00 MHz",
          "Z = 76.881-50.771j at 848.00 MHz",
          "Z = 73.282-45.318j at 852.00 MHz",
          "Z = 70.019-40.130j at 856.00 MHz",
          "Z = 67.053-35.187j at 860.00 MHz",
          "Z = 64.349-30.470j at 864.00 MHz",
          "Z = 59.609-21.647j at 872.00 MHz",
          "Z = 57.527-17.512j at 876.00 MHz",
          "Z = 55.610-13.542j at 880.00 MHz",
          "Z = 53.841-9.726j at 884.00 MHz",
          "Z = 52.206-6.052j at 888.00 MHz",
          "Z = 50.691-2.510j at 892.00 MHz",
          "Z = 49.286+0.910j at 896.00 MHz",
          "Z = 47.981+4.215j at 900.00 MHz",
          "Z = 46.766+7.415j at 904.00 MHz",
          "Z = 45.634+10.516j at 908.00 MHz",
          "Z = 44.578+13.525j at 912.00 MHz",
          "Z = 43.592+16.449j at 916.00 MHz",
          "Z = 42.669+19.293j at 920.00 MHz",
          "Z = 41.806+22.063j at 924.00 MHz",
          "Z = 40.996+24.763j at 928.00 MHz",
          "Z = 40.237+27.399j at 932.00 MHz",
          "Z = 39.525+29.975j at 936.00 MHz",
          "Z = 38.856+32.494j at 940.00 MHz",
          "Z = 38.227+34.961j at 944.00 MHz",
          "Z = 37.636+37.378j at 948.00 MHz",
          "Z = 37.080+39.750j at 952.00 MHz",
          "Z = 36.556+42.079j at 956.00 MHz",
          "Z = 36.064+44.369j at 960.00 MHz",
          "Z = 35.600+46.621j at 964.00 MHz",
          "Z = 35.162+48.839j at 968.00 MHz",
          "Z = 34.751+51.025j at 972.00 MHz",
          "Z = 34.363+53.181j at 976.00 MHz",
          "Z = 33.997+55.309j at 980.00 MHz",
          "Z = 33.653+57.412j at 984.00 MHz",
          "Z = 33.329+59.491j at 988.00 MHz",
          "Z = 33.025+61.549j at 992.00 MHz",
          "Z = 32.738+63.586j at 996.00 MHz",
          "Z = 32.468+65.606j at 1000.00 MHz",
          "Z = 32.215+67.609j at 1004.00 MHz",
          "Z = 31.978+69.597j at 1008.00 MHz",
          "Z = 31.755+71.571j at 1012.00 MHz",
          "Z = 31.547+73.534j at 1016.00 MHz",
          "Z = 31.352+75.485j at 1020.00 MHz",
          "Z = 31.170+77.428j at 1024.00 MHz",
          "Z = 31.001+79.363j at 1028.00 MHz",
          "Z = 30.843+81.291j at 1032.00 MHz",
          "Z = 30.698+83.214j at 1036.00 MHz",
          "Z = 30.563+85.132j at 1040.00 MHz",
          "Z = 30.440+87.048j at 1044.00 MHz",
          "Z = 30.327+88.962j at 1048.00 MHz",
          "Z = 30.223+90.876j at 1052.00 MHz",
          "Z = 30.130+92.791j at 1056.00 MHz",
          "Z = 30.047+94.707j at 1060.00 MHz",
          "Z = 29.972+96.626j at 1064.00 MHz",
          "Z = 29.907+98.550j at 1068.00 MHz",
          "Z = 29.851+100.479j at 1072.00 MHz",
          "Z = 29.803+102.414j at 1076.00 MHz",
          "Z = 29.764+104.357j at 1080.00 MHz",
          "Z = 29.734+106.308j at 1084.00 MHz",
          "Z = 29.712+108.270j at 1088.00 MHz",
          "Z = 29.698+110.242j at 1092.00 MHz",
          "Z = 29.692+112.227j at 1096.00 MHz",
          "Z = 29.695+114.226j at 1100.00 MHz"
         ],
         "type": "scattersmith"
        },
        {
         "hoverinfo": "text",
         "imag": [
          -0.5192363028671327
         ],
         "marker": {
          "color": "red",
          "size": 10,
          "symbol": "circle"
         },
         "mode": "markers",
         "name": "fC=868.00 MHz, Z=61.88-25.96j",
         "real": [
          1.2375144649130787
         ],
         "text": [
          "Z = 61.876-25.962j at 868.00 MHz"
         ],
         "type": "scattersmith"
        }
       ],
       "layout": {
        "height": 618,
        "showlegend": true,
        "template": {
         "data": {
          "bar": [
           {
            "error_x": {
             "color": "#2a3f5f"
            },
            "error_y": {
             "color": "#2a3f5f"
            },
            "marker": {
             "line": {
              "color": "#E5ECF6",
              "width": 0.5
             },
             "pattern": {
              "fillmode": "overlay",
              "size": 10,
              "solidity": 0.2
             }
            },
            "type": "bar"
           }
          ],
          "barpolar": [
           {
            "marker": {
             "line": {
              "color": "#E5ECF6",
              "width": 0.5
             },
             "pattern": {
              "fillmode": "overlay",
              "size": 10,
              "solidity": 0.2
             }
            },
            "type": "barpolar"
           }
          ],
          "carpet": [
           {
            "aaxis": {
             "endlinecolor": "#2a3f5f",
             "gridcolor": "white",
             "linecolor": "white",
             "minorgridcolor": "white",
             "startlinecolor": "#2a3f5f"
            },
            "baxis": {
             "endlinecolor": "#2a3f5f",
             "gridcolor": "white",
             "linecolor": "white",
             "minorgridcolor": "white",
             "startlinecolor": "#2a3f5f"
            },
            "type": "carpet"
           }
          ],
          "choropleth": [
           {
            "colorbar": {
             "outlinewidth": 0,
             "ticks": ""
            },
            "type": "choropleth"
           }
          ],
          "contour": [
           {
            "colorbar": {
             "outlinewidth": 0,
             "ticks": ""
            },
            "colorscale": [
             [
              0,
              "#0d0887"
             ],
             [
              0.1111111111111111,
              "#46039f"
             ],
             [
              0.2222222222222222,
              "#7201a8"
             ],
             [
              0.3333333333333333,
              "#9c179e"
             ],
             [
              0.4444444444444444,
              "#bd3786"
             ],
             [
              0.5555555555555556,
              "#d8576b"
             ],
             [
              0.6666666666666666,
              "#ed7953"
             ],
             [
              0.7777777777777778,
              "#fb9f3a"
             ],
             [
              0.8888888888888888,
              "#fdca26"
             ],
             [
              1,
              "#f0f921"
             ]
            ],
            "type": "contour"
           }
          ],
          "contourcarpet": [
           {
            "colorbar": {
             "outlinewidth": 0,
             "ticks": ""
            },
            "type": "contourcarpet"
           }
          ],
          "heatmap": [
           {
            "colorbar": {
             "outlinewidth": 0,
             "ticks": ""
            },
            "colorscale": [
             [
              0,
              "#0d0887"
             ],
             [
              0.1111111111111111,
              "#46039f"
             ],
             [
              0.2222222222222222,
              "#7201a8"
             ],
             [
              0.3333333333333333,
              "#9c179e"
             ],
             [
              0.4444444444444444,
              "#bd3786"
             ],
             [
              0.5555555555555556,
              "#d8576b"
             ],
             [
              0.6666666666666666,
              "#ed7953"
             ],
             [
              0.7777777777777778,
              "#fb9f3a"
             ],
             [
              0.8888888888888888,
              "#fdca26"
             ],
             [
              1,
              "#f0f921"
             ]
            ],
            "type": "heatmap"
           }
          ],
          "histogram": [
           {
            "marker": {
             "pattern": {
              "fillmode": "overlay",
              "size": 10,
              "solidity": 0.2
             }
            },
            "type": "histogram"
           }
          ],
          "histogram2d": [
           {
            "colorbar": {
             "outlinewidth": 0,
             "ticks": ""
            },
            "colorscale": [
             [
              0,
              "#0d0887"
             ],
             [
              0.1111111111111111,
              "#46039f"
             ],
             [
              0.2222222222222222,
              "#7201a8"
             ],
             [
              0.3333333333333333,
              "#9c179e"
             ],
             [
              0.4444444444444444,
              "#bd3786"
             ],
             [
              0.5555555555555556,
              "#d8576b"
             ],
             [
              0.6666666666666666,
              "#ed7953"
             ],
             [
              0.7777777777777778,
              "#fb9f3a"
             ],
             [
              0.8888888888888888,
              "#fdca26"
             ],
             [
              1,
              "#f0f921"
             ]
            ],
            "type": "histogram2d"
           }
          ],
          "histogram2dcontour": [
           {
            "colorbar": {
             "outlinewidth": 0,
             "ticks": ""
            },
            "colorscale": [
             [
              0,
              "#0d0887"
             ],
             [
              0.1111111111111111,
              "#46039f"
             ],
             [
              0.2222222222222222,
              "#7201a8"
             ],
             [
              0.3333333333333333,
              "#9c179e"
             ],
             [
              0.4444444444444444,
              "#bd3786"
             ],
             [
              0.5555555555555556,
              "#d8576b"
             ],
             [
              0.6666666666666666,
              "#ed7953"
             ],
             [
              0.7777777777777778,
              "#fb9f3a"
             ],
             [
              0.8888888888888888,
              "#fdca26"
             ],
             [
              1,
              "#f0f921"
             ]
            ],
            "type": "histogram2dcontour"
           }
          ],
          "mesh3d": [
           {
            "colorbar": {
             "outlinewidth": 0,
             "ticks": ""
            },
            "type": "mesh3d"
           }
          ],
          "parcoords": [
           {
            "line": {
             "colorbar": {
              "outlinewidth": 0,
              "ticks": ""
             }
            },
            "type": "parcoords"
           }
          ],
          "pie": [
           {
            "automargin": true,
            "type": "pie"
           }
          ],
          "scatter": [
           {
            "fillpattern": {
             "fillmode": "overlay",
             "size": 10,
             "solidity": 0.2
            },
            "type": "scatter"
           }
          ],
          "scatter3d": [
           {
            "line": {
             "colorbar": {
              "outlinewidth": 0,
              "ticks": ""
             }
            },
            "marker": {
             "colorbar": {
              "outlinewidth": 0,
              "ticks": ""
             }
            },
            "type": "scatter3d"
           }
          ],
          "scattercarpet": [
           {
            "marker": {
             "colorbar": {
              "outlinewidth": 0,
              "ticks": ""
             }
            },
            "type": "scattercarpet"
           }
          ],
          "scattergeo": [
           {
            "marker": {
             "colorbar": {
              "outlinewidth": 0,
              "ticks": ""
             }
            },
            "type": "scattergeo"
           }
          ],
          "scattergl": [
           {
            "marker": {
             "colorbar": {
              "outlinewidth": 0,
              "ticks": ""
             }
            },
            "type": "scattergl"
           }
          ],
          "scattermap": [
           {
            "marker": {
             "colorbar": {
              "outlinewidth": 0,
              "ticks": ""
             }
            },
            "type": "scattermap"
           }
          ],
          "scattermapbox": [
           {
            "marker": {
             "colorbar": {
              "outlinewidth": 0,
              "ticks": ""
             }
            },
            "type": "scattermapbox"
           }
          ],
          "scatterpolar": [
           {
            "marker": {
             "colorbar": {
              "outlinewidth": 0,
              "ticks": ""
             }
            },
            "type": "scatterpolar"
           }
          ],
          "scatterpolargl": [
           {
            "marker": {
             "colorbar": {
              "outlinewidth": 0,
              "ticks": ""
             }
            },
            "type": "scatterpolargl"
           }
          ],
          "scatterternary": [
           {
            "marker": {
             "colorbar": {
              "outlinewidth": 0,
              "ticks": ""
             }
            },
            "type": "scatterternary"
           }
          ],
          "surface": [
           {
            "colorbar": {
             "outlinewidth": 0,
             "ticks": ""
            },
            "colorscale": [
             [
              0,
              "#0d0887"
             ],
             [
              0.1111111111111111,
              "#46039f"
             ],
             [
              0.2222222222222222,
              "#7201a8"
             ],
             [
              0.3333333333333333,
              "#9c179e"
             ],
             [
              0.4444444444444444,
              "#bd3786"
             ],
             [
              0.5555555555555556,
              "#d8576b"
             ],
             [
              0.6666666666666666,
              "#ed7953"
             ],
             [
              0.7777777777777778,
              "#fb9f3a"
             ],
             [
              0.8888888888888888,
              "#fdca26"
             ],
             [
              1,
              "#f0f921"
             ]
            ],
            "type": "surface"
           }
          ],
          "table": [
           {
            "cells": {
             "fill": {
              "color": "#EBF0F8"
             },
             "line": {
              "color": "white"
             }
            },
            "header": {
             "fill": {
              "color": "#C8D4E3"
             },
             "line": {
              "color": "white"
             }
            },
            "type": "table"
           }
          ]
         },
         "layout": {
          "annotationdefaults": {
           "arrowcolor": "#2a3f5f",
           "arrowhead": 0,
           "arrowwidth": 1
          },
          "autotypenumbers": "strict",
          "coloraxis": {
           "colorbar": {
            "outlinewidth": 0,
            "ticks": ""
           }
          },
          "colorscale": {
           "diverging": [
            [
             0,
             "#8e0152"
            ],
            [
             0.1,
             "#c51b7d"
            ],
            [
             0.2,
             "#de77ae"
            ],
            [
             0.3,
             "#f1b6da"
            ],
            [
             0.4,
             "#fde0ef"
            ],
            [
             0.5,
             "#f7f7f7"
            ],
            [
             0.6,
             "#e6f5d0"
            ],
            [
             0.7,
             "#b8e186"
            ],
            [
             0.8,
             "#7fbc41"
            ],
            [
             0.9,
             "#4d9221"
            ],
            [
             1,
             "#276419"
            ]
           ],
           "sequential": [
            [
             0,
             "#0d0887"
            ],
            [
             0.1111111111111111,
             "#46039f"
            ],
            [
             0.2222222222222222,
             "#7201a8"
            ],
            [
             0.3333333333333333,
             "#9c179e"
            ],
            [
             0.4444444444444444,
             "#bd3786"
            ],
            [
             0.5555555555555556,
             "#d8576b"
            ],
            [
             0.6666666666666666,
             "#ed7953"
            ],
            [
             0.7777777777777778,
             "#fb9f3a"
            ],
            [
             0.8888888888888888,
             "#fdca26"
            ],
            [
             1,
             "#f0f921"
            ]
           ],
           "sequentialminus": [
            [
             0,
             "#0d0887"
            ],
            [
             0.1111111111111111,
             "#46039f"
            ],
            [
             0.2222222222222222,
             "#7201a8"
            ],
            [
             0.3333333333333333,
             "#9c179e"
            ],
            [
             0.4444444444444444,
             "#bd3786"
            ],
            [
             0.5555555555555556,
             "#d8576b"
            ],
            [
             0.6666666666666666,
             "#ed7953"
            ],
            [
             0.7777777777777778,
             "#fb9f3a"
            ],
            [
             0.8888888888888888,
             "#fdca26"
            ],
            [
             1,
             "#f0f921"
            ]
           ]
          },
          "colorway": [
           "#636efa",
           "#EF553B",
           "#00cc96",
           "#ab63fa",
           "#FFA15A",
           "#19d3f3",
           "#FF6692",
           "#B6E880",
           "#FF97FF",
           "#FECB52"
          ],
          "font": {
           "color": "#2a3f5f"
          },
          "geo": {
           "bgcolor": "white",
           "lakecolor": "white",
           "landcolor": "#E5ECF6",
           "showlakes": true,
           "showland": true,
           "subunitcolor": "white"
          },
          "hoverlabel": {
           "align": "left"
          },
          "hovermode": "closest",
          "mapbox": {
           "style": "light"
          },
          "paper_bgcolor": "white",
          "plot_bgcolor": "#E5ECF6",
          "polar": {
           "angularaxis": {
            "gridcolor": "white",
            "linecolor": "white",
            "ticks": ""
           },
           "bgcolor": "#E5ECF6",
           "radialaxis": {
            "gridcolor": "white",
            "linecolor": "white",
            "ticks": ""
           }
          },
          "scene": {
           "xaxis": {
            "backgroundcolor": "#E5ECF6",
            "gridcolor": "white",
            "gridwidth": 2,
            "linecolor": "white",
            "showbackground": true,
            "ticks": "",
            "zerolinecolor": "white"
           },
           "yaxis": {
            "backgroundcolor": "#E5ECF6",
            "gridcolor": "white",
            "gridwidth": 2,
            "linecolor": "white",
            "showbackground": true,
            "ticks": "",
            "zerolinecolor": "white"
           },
           "zaxis": {
            "backgroundcolor": "#E5ECF6",
            "gridcolor": "white",
            "gridwidth": 2,
            "linecolor": "white",
            "showbackground": true,
            "ticks": "",
            "zerolinecolor": "white"
           }
          },
          "shapedefaults": {
           "line": {
            "color": "#2a3f5f"
           }
          },
          "ternary": {
           "aaxis": {
            "gridcolor": "white",
            "linecolor": "white",
            "ticks": ""
           },
           "baxis": {
            "gridcolor": "white",
            "linecolor": "white",
            "ticks": ""
           },
           "bgcolor": "#E5ECF6",
           "caxis": {
            "gridcolor": "white",
            "linecolor": "white",
            "ticks": ""
           }
          },
          "title": {
           "x": 0.05
          },
          "xaxis": {
           "automargin": true,
           "gridcolor": "white",
           "linecolor": "white",
           "ticks": "",
           "title": {
            "standoff": 15
           },
           "zerolinecolor": "white",
           "zerolinewidth": 2
          },
          "yaxis": {
           "automargin": true,
           "gridcolor": "white",
           "linecolor": "white",
           "ticks": "",
           "title": {
            "standoff": 15
           },
           "zerolinecolor": "white",
           "zerolinewidth": 2
          }
         }
        },
        "title": {
         "text": ""
        },
        "width": 1000
       }
      }
     },
     "metadata": {},
     "output_type": "display_data"
    },
    {
     "name": "stdout",
     "output_type": "stream",
     "text": [
      "\n",
      "Image saved in PDF format (transparent background, minimal margins) : data/fig_image/ifa_M_opti3_Smith_chart.pdf\n",
      "\n",
      "\n",
      "📡 Simulation results:\n",
      "→ Resonance frequency = 896.00 MHz\n",
      "→ Impedance at f_res  = 49.29+0.91j Ω\n"
     ]
    },
    {
     "data": {
      "image/png": "[encoded data removed]",
      "text/plain": [
       "<Figure size 1200x741.641 with 1 Axes>"
      ]
     },
     "metadata": {},
     "output_type": "display_data"
    },
    {
     "name": "stdout",
     "output_type": "stream",
     "text": [
      "\n",
      "Ratio = 1.032258064516129\n",
      "\n",
      "\n",
      "We are within 2% of fc!\n",
      "\n",
      "\n",
      "------------------------------------------------------Iteration N°3------------------------------------------------------\n",
      "\n",
      "distance meanders = 5.400 mm\n",
      "\n",
      "Number of meanders = 2\n",
      "\n",
      "New distance meanders = 8.100 mm\n",
      "IFA track width = 5.400 mm\n",
      "feed position = 32.349 mm\n",
      "\n",
      "Simulation 1/101 | f = 700.00 MHz | S11 = -0.65 dB\n",
      "Simulation 2/101 | f = 704.00 MHz | S11 = -0.69 dB\n",
      "Simulation 3/101 | f = 708.00 MHz | S11 = -0.73 dB\n",
      "Simulation 4/101 | f = 712.00 MHz | S11 = -0.78 dB\n",
      "Simulation 5/101 | f = 716.00 MHz | S11 = -0.83 dB\n",
      "Simulation 6/101 | f = 720.00 MHz | S11 = -0.88 dB\n",
      "Simulation 7/101 | f = 724.00 MHz | S11 = -0.93 dB\n",
      "Simulation 8/101 | f = 728.00 MHz | S11 = -0.99 dB\n",
      "Simulation 9/101 | f = 732.00 MHz | S11 = -1.05 dB\n",
      "Simulation 10/101 | f = 736.00 MHz | S11 = -1.12 dB\n",
      "Simulation 11/101 | f = 740.00 MHz | S11 = -1.20 dB\n",
      "Simulation 12/101 | f = 744.00 MHz | S11 = -1.28 dB\n",
      "Simulation 13/101 | f = 748.00 MHz | S11 = -1.36 dB\n",
      "Simulation 14/101 | f = 752.00 MHz | S11 = -1.45 dB\n",
      "Simulation 15/101 | f = 756.00 MHz | S11 = -1.55 dB\n",
      "Simulation 16/101 | f = 760.00 MHz | S11 = -1.66 dB\n",
      "Simulation 17/101 | f = 764.00 MHz | S11 = -1.78 dB\n",
      "Simulation 18/101 | f = 768.00 MHz | S11 = -1.91 dB\n",
      "Simulation 19/101 | f = 772.00 MHz | S11 = -2.04 dB\n",
      "Simulation 20/101 | f = 776.00 MHz | S11 = -2.19 dB\n",
      "Simulation 21/101 | f = 780.00 MHz | S11 = -2.36 dB\n",
      "Simulation 22/101 | f = 784.00 MHz | S11 = -2.53 dB\n",
      "Simulation 23/101 | f = 788.00 MHz | S11 = -2.73 dB\n",
      "Simulation 24/101 | f = 792.00 MHz | S11 = -2.94 dB\n",
      "Simulation 25/101 | f = 796.00 MHz | S11 = -3.17 dB\n",
      "Simulation 26/101 | f = 800.00 MHz | S11 = -3.42 dB\n",
      "Simulation 27/101 | f = 804.00 MHz | S11 = -3.69 dB\n",
      "Simulation 28/101 | f = 808.00 MHz | S11 = -4.00 dB\n",
      "Simulation 29/101 | f = 812.00 MHz | S11 = -4.33 dB\n",
      "Simulation 30/101 | f = 816.00 MHz | S11 = -4.70 dB\n",
      "Simulation 31/101 | f = 820.00 MHz | S11 = -5.10 dB\n",
      "Simulation 32/101 | f = 824.00 MHz | S11 = -5.55 dB\n",
      "Simulation 33/101 | f = 828.00 MHz | S11 = -6.04 dB\n",
      "Simulation 34/101 | f = 832.00 MHz | S11 = -6.59 dB\n",
      "Simulation 35/101 | f = 836.00 MHz | S11 = -7.20 dB\n",
      "Simulation 36/101 | f = 840.00 MHz | S11 = -7.88 dB\n",
      "Simulation 37/101 | f = 844.00 MHz | S11 = -8.65 dB\n",
      "Simulation 38/101 | f = 848.00 MHz | S11 = -9.53 dB\n",
      "Simulation 39/101 | f = 852.00 MHz | S11 = -10.52 dB\n",
      "Simulation 40/101 | f = 856.00 MHz | S11 = -11.68 dB\n",
      "Simulation 41/101 | f = 860.00 MHz | S11 = -13.04 dB\n",
      "Simulation 42/101 | f = 864.00 MHz | S11 = -14.67 dB\n"
     ]
    },
    {
     "data": {
      "application/vnd.plotly.v1+json": {
       "config": {
        "plotlyServerURL": "https://plot.ly"
       },
       "data": [
        {
         "facecolor": [
          "rgb(255, 184, 0)",
          "rgb(14, 0, 190)",
          "rgb(121, 0, 111)",
          "rgb(0, 151, 255)",
          "rgb(108, 0, 121)",
          "rgb(47, 0, 166)",
          "rgb(7, 168, 238)",
          "rgb(70, 255, 114)",
          "rgb(21, 200, 206)",
          "rgb(104, 0, 123)",
          "rgb(44, 0, 168)",
          "rgb(3, 159, 248)",
          "rgb(111, 0, 119)",
          "rgb(89, 0, 135)",
          "rgb(38, 0, 172)",
          "rgb(64, 0, 153)",
          "rgb(79, 0, 142)",
          "rgb(255, 87, 0)",
          "rgb(255, 138, 0)",
          "rgb(126, 0, 108)",
          "rgb(130, 0, 105)",
          "rgb(240, 237, 0)",
          "rgb(255, 102, 0)",
          "rgb(0, 47, 255)",
          "rgb(28, 216, 189)",
          "rgb(255, 0, 0)",
          "rgb(96, 0, 129)",
          "rgb(255, 81, 0)",
          "rgb(82, 255, 97)",
          "rgb(0, 15, 232)",
          "rgb(57, 255, 132)",
          "rgb(134, 255, 24)",
          "rgb(3, 160, 247)",
          "rgb(14, 185, 222)",
          "rgb(55, 255, 134)",
          "rgb(82, 0, 140)",
          "rgb(255, 216, 0)",
          "rgb(193, 247, 0)",
          "rgb(26, 213, 193)",
          "rgb(126, 0, 108)",
          "rgb(120, 0, 112)",
          "rgb(66, 0, 151)",
          "rgb(131, 0, 104)",
          "rgb(123, 0, 110)",
          "rgb(99, 0, 127)",
          "rgb(35, 0, 174)",
          "rgb(47, 0, 165)",
          "rgb(0, 5, 211)",
          "rgb(103, 0, 125)",
          "rgb(140, 0, 97)",
          "rgb(99, 0, 128)",
          "rgb(0, 14, 231)",
          "rgb(130, 0, 104)",
          "rgb(117, 0, 114)",
          "rgb(125, 0, 108)",
          "rgb(149, 0, 91)",
          "rgb(70, 0, 149)",
          "rgb(137, 0, 99)",
          "rgb(120, 0, 112)",
          "rgb(29, 0, 179)",
          "rgb(114, 0, 116)",
          "rgb(134, 0, 102)",
          "rgb(98, 0, 128)",
          "rgb(138, 0, 99)",
          "rgb(141, 0, 96)",
          "rgb(137, 0, 99)",
          "rgb(112, 0, 118)",
          "rgb(79, 0, 142)",
          "rgb(120, 0, 112)",
          "rgb(150, 0, 90)",
          "rgb(0, 13, 229)"
         ],
         "i": {
          "bdata": "CCcoJysnJi0OLi8PLRMlLjEZDSgyDAgdGxgcGR4dAhodDgESCQkXLysvNCk0EC8iMxUrMyojKRUxNCkPLjITNhQVNhIsNC0=",
          "dtype": "i1"
         },
         "j": {
          "bdata": "ICUqJigABwAXJxAmLDAnJCMhITAqICEbHgIKAh8cAx8eBwIwIB8YKDMRMTUjLyIvKzQsAzI0KjIkFjEALDA2FDY1EygoFQM=",
          "dtype": "i1"
         },
         "k": {
          "bdata": "DSYpDywtDgMBLREOLhIuJSQCCCowCRkcGgELGBoLAAkbFwAoCAwBKy8oNTExBQUzLTUtIjUENRQuBC4nKTYwMgYyBhEpFjM=",
          "dtype": "i1"
         },
         "name": "",
         "type": "mesh3d",
         "x": {
          "bdata": "AAAAAAAAAACC4seYu5aAP4Lix5i7loA/AAAAAAAAAACkcD0K16OwvwAAAAAAAAAApHA9CtejsL/ZzvdT46WLP9nO91PjpYs/rthfdk8elj+u2F92Tx6WP9nO91PjpZs/2c73U+Olmz+C4seYu5aAP4Lix5i7loA/AAAAAAAAAAAutMh2vp+Kvyi0yHa+n5q/IYcW2c73o781tMh2vp+qv6RwPQrXo7C/pHA9CtejsL+kcD0K16Owv9nO91PjpYs/2c73U+Oliz/ZzvdT46WLP67YX3ZPHpY/rthfdk8elj+u2F92Tx6WP9nO91PjpZs/2c73U+Olmz/ZzvdT46WbPxPgLZCg+JE/guLHmLuWgD8AAAAAAAAAAK62Yn/ZPam/EIxK6gQ0ob/hwmSqYFSSvyFtowG8BWK/nnnOnnkYhL8wZWOw9Bmgv+UNLnUdeaK/6GYiPAv3pb9f7I0aBfKSv7YfUnVMj5m/Z0kAec/2ib+rVU6t7Liav3R0GAZCxIy/FLqnXwSap7+9WXNtDU+kv3mKtKvNxqu/TKWnz7Uyg79f8ZCRd2esv55caz3cCKm/icrUVb8srb8=",
          "dtype": "f8"
         },
         "y": {
          "bdata": "Jydr3O3xoT8nJ2vc7fGhPyJYPttHXJ4/Ilg+20dcnj8pXI/C9SisPwAAAAAAAAAAAAAAAAAAAAApXI/C9SisP6/YX3ZPHnY/r9hfdk8edj8pXI/C9SisPylcj8L1KKw/AAAAAAAAMDwAAAAAAAAwPBNhw9MrZak/E2HD0ytlqT8AAAAAAAAAAAAAAAAAAAAAAAAAAAAAAAAAAAAAAAAAABhcj8L1KIw/I1yPwvUonD8dhetRuB6lP+SDns2qz6U/P1dbsb/snj+1pnnHKTqSP7WmeccpOpI/P1dbsb/snj/mg57Nqs+lPyOF61G4HqU/L1yPwvUonD8vXI/C9SiMPwAAAAAAADA8H1g+20dcjj8fWD7bR1yOPylcj8L1KKw/KVyPwvUorD8pXI/C9SisPylcj8L1KKw/UWjdq6S9pj/1U0FgpCGOP0fkHInLKJ4/w1MjBWs+lT9JYaw4H4KVP97xKrR7D5w/jcP56gQLoD+VdMny0b2kP07NfG5WBYU/KrMV3zgFhT9BKFWKOYGmP0YjBbOIw5I/NpdILJnRlT8g+v3mQpilP15/FFFyFp8/5OHf05Lzfz8=",
          "dtype": "f8"
         },
         "z": {
          "bdata": "AAAAAAAAAAAAAAAAAAAAAAAAAAAAAAAAAAAAAAAAAAAAAAAAAAAAAAAAAAAAAAAAAAAAAAAAAAAAAAAAAAAAAAAAAAAAAAAAAAAAAAAAAAAAAAAAAAAAAAAAAAAAAAAAAAAAAAAAAAAAAAAAAAAAAAAAAAAAAAAAAAAAAAAAAAAAAAAAAAAAAAAAAAAAAAAAAAAAAAAAAAAAAAAAAAAAAAAAAAAAAAAAAAAAAAAAAAAAAAAAAAAAAAAAAAAAAAAAAAAAAAAAAAAAAAAAAAAAAAAAAAAAAAAAAAAAAAAAAAAAAAAAAAAAAAAAAAAAAAAAAAAAAAAAAAAAAAAAAAAAAAAAAAAAAAAAAAAAAAAAAAAAAAAAAAAAAAAAAAAAAAAAAAAAAAAAAAAAAAAAAAAAAAAAAAAAAAAAAAAAAAAAAAAAAAAAAAAAAAAAAAAAAAAAAAAAAAAAAAAAAAAAAAAAAAAAAAAAAAAAAAAAAAAAAAAAAAAAAAAAAAAAAAAAAAAAAAAAAAAAAAAAAAAAAAAAAAAAAAAAAAAAAAAAAAAAAAAAAAAAAAAAAAAAAAAAAAAAAAAAAAAAAAA=",
          "dtype": "f8"
         }
        },
        {
         "line": {
          "color": "rgb(50, 50, 50)",
          "width": 1.5
         },
         "mode": "lines",
         "showlegend": false,
         "type": "scatter3d",
         "x": [
          0.0135,
          0.01755000000000002,
          0.0081,
          0.0135,
          null,
          -0.009812307509318437,
          -0.01789999999999992,
          -0.002199999999999883,
          -0.009812307509318437,
          null,
          -0.03144802716424022,
          -0.04290042027532853,
          -0.03608028464716621,
          -0.03144802716424022,
          null,
          -0.009812307509318437,
          -0.002199999999999883,
          0,
          -0.009812307509318437,
          null,
          -0.01850135778975603,
          -0.03144802716424022,
          -0.02496070352620424,
          -0.01850135778975603,
          null,
          -0.009812307509318437,
          0,
          -0.01267778480545152,
          -0.009812307509318437,
          null,
          -0.002199999999999883,
          0.0135,
          0.0081,
          -0.002199999999999883,
          null,
          -0.01267778480545152,
          0,
          0,
          -0.01267778480545152,
          null,
          0.0081,
          0.0135,
          0.0081,
          0.0081,
          null,
          -0.02609605605865332,
          -0.009812307509318437,
          -0.01267778480545152,
          -0.02609605605865332,
          null,
          -0.01404620724775383,
          -0.01299999999999998,
          -0.02599999999999994,
          -0.01404620724775383,
          null,
          0,
          -0.002199999999999883,
          0.0081,
          0,
          null,
          -0.01267778480545152,
          -0.02496070352620424,
          -0.02609605605865332,
          -0.01267778480545152,
          null,
          -0.05199999999999997,
          -0.04609693210283097,
          -0.03899999999999993,
          -0.05199999999999997,
          null,
          -0.01789999999999992,
          -0.009812307509318437,
          -0.02609605605865332,
          -0.01789999999999992,
          null,
          -0.02609605605865332,
          -0.03359999999999996,
          -0.01789999999999992,
          -0.02609605605865332,
          null,
          -0.03966562233988522,
          -0.0493,
          -0.03359999999999996,
          -0.03966562233988522,
          null,
          0.0135,
          0.0081,
          0.0081,
          0.0135,
          null,
          0.0081,
          0.0081,
          0.0135,
          0.0081,
          null,
          -0.03144802716424022,
          -0.04609693210283097,
          -0.04290042027532853,
          -0.03144802716424022,
          null,
          -0.05425112458239751,
          -0.04290042027532853,
          -0.04609693210283097,
          -0.05425112458239751,
          null,
          0.027,
          0.01755000000000002,
          0.0216,
          0.027,
          null,
          0.0135,
          0.0081,
          0.0135,
          0.0135,
          null,
          0.027,
          0.0216,
          0.0216,
          0.027,
          null,
          0.0216,
          0.027,
          0.0216,
          0.0216,
          null,
          0.0135,
          0.0081,
          0.0081,
          0.0135,
          null,
          0.0216,
          0.0216,
          0.027,
          0.0216,
          null,
          0.0135,
          0.0081,
          0.0135,
          0.0135,
          null,
          0.027,
          0.027,
          0.0216,
          0.027,
          null,
          0.027,
          0.0216,
          0.027,
          0.027,
          null,
          0.0081,
          0,
          0,
          0.0081,
          null,
          0.0216,
          0.027,
          0.0216,
          0.0216,
          null,
          0.027,
          0.027,
          0.0216,
          0.027,
          null,
          0.0081,
          0.0135,
          0.0135,
          0.0081,
          null,
          0.0081,
          0.0081,
          0,
          0.0081,
          null,
          -0.03899999999999993,
          -0.04609693210283097,
          -0.03144802716424022,
          -0.03899999999999993,
          null,
          0.0216,
          0.01755000000000002,
          0.0135,
          0.0216,
          null,
          0.0216,
          0.027,
          0.027,
          0.0216,
          null,
          0.0135,
          0.0135,
          0.0081,
          0.0135,
          null,
          -0.01404620724775383,
          -0.03144802716424022,
          -0.01850135778975603,
          -0.01404620724775383,
          null,
          -0.01850135778975603,
          -0.009374065780280681,
          -0.01404620724775383,
          -0.01850135778975603,
          null,
          -0.01404620724775383,
          -0.02599999999999994,
          -0.03144802716424022,
          -0.01404620724775383,
          null,
          -0.05547689105921693,
          -0.03966562233988522,
          -0.04889572381733241,
          -0.05547689105921693,
          null,
          -0.03608028464716621,
          -0.04889572381733241,
          -0.03966562233988522,
          -0.03608028464716621,
          null,
          -0.05547689105921693,
          -0.0493,
          -0.03966562233988522,
          -0.05547689105921693,
          null,
          -0.01299999999999998,
          -0.01404620724775383,
          0,
          -0.01299999999999998,
          null,
          -0.01404620724775383,
          0,
          0,
          -0.01404620724775383,
          null,
          0,
          -0.01404620724775383,
          -0.009374065780280681,
          0,
          null,
          -0.009374065780280681,
          -0.01850135778975603,
          -0.01267778480545152,
          -0.009374065780280681,
          null,
          -0.065,
          -0.05547689105921693,
          -0.04889572381733241,
          -0.065,
          null,
          -0.01850135778975603,
          -0.02496070352620424,
          -0.01267778480545152,
          -0.01850135778975603,
          null,
          -0.009374065780280681,
          0,
          0,
          -0.009374065780280681,
          null,
          -0.04290042027532853,
          -0.05425112458239751,
          -0.04889572381733241,
          -0.04290042027532853,
          null,
          -0.0493,
          -0.05547689105921693,
          -0.065,
          -0.0493,
          null,
          -0.03608028464716621,
          -0.04290042027532853,
          -0.04889572381733241,
          -0.03608028464716621,
          null,
          -0.065,
          -0.05425112458239751,
          -0.065,
          -0.065,
          null,
          -0.03966562233988522,
          -0.03359999999999996,
          -0.02609605605865332,
          -0.03966562233988522,
          null,
          -0.05547689105921693,
          -0.065,
          -0.065,
          -0.05547689105921693,
          null,
          -0.03608028464716621,
          -0.03966562233988522,
          -0.02609605605865332,
          -0.03608028464716621,
          null,
          0,
          0,
          -0.009812307509318437,
          0,
          null,
          -0.02609605605865332,
          -0.02496070352620424,
          -0.03608028464716621,
          -0.02609605605865332,
          null,
          -0.05425112458239751,
          -0.04609693210283097,
          -0.05698202059501962,
          -0.05425112458239751,
          null,
          -0.05199999999999997,
          -0.05698202059501962,
          -0.04609693210283097,
          -0.05199999999999997,
          null,
          -0.05698202059501962,
          -0.065,
          -0.05425112458239751,
          -0.05698202059501962,
          null,
          -0.065,
          -0.05698202059501962,
          -0.065,
          -0.065,
          null,
          -0.065,
          -0.04889572381733241,
          -0.05425112458239751,
          -0.065,
          null,
          -0.05698202059501962,
          -0.05199999999999997,
          -0.065,
          -0.05698202059501962,
          null,
          -0.03899999999999993,
          -0.03144802716424022,
          -0.02599999999999994,
          -0.03899999999999993,
          null,
          -0.02496070352620424,
          -0.03144802716424022,
          -0.03608028464716621,
          -0.02496070352620424,
          null,
          -0.05547689105921693,
          -0.065,
          -0.065,
          -0.05547689105921693,
          null,
          -0.01267778480545152,
          0,
          -0.009374065780280681,
          -0.01267778480545152,
          null
         ],
         "y": [
          0.005400000000000001,
          8.673617379884035e-19,
          8.673617379884035e-19,
          0.005400000000000001,
          null,
          0.04441561315498233,
          0.055,
          0.055,
          0.04441561315498233,
          null,
          0.01471260470149536,
          0.02074591845378727,
          0.02945249580736611,
          0.01471260470149536,
          null,
          0.04441561315498233,
          0.055,
          0.0496,
          0.04441561315498233,
          null,
          0.02100418837935195,
          0.01471260470149536,
          0.0274028137889547,
          0.02100418837935195,
          null,
          0.04441561315498233,
          0.03504889789253545,
          0.03133406990389807,
          0.04441561315498233,
          null,
          0.055,
          0.055,
          0.0496,
          0.055,
          null,
          0.03133406990389807,
          0.03504889789253545,
          0.02964889789253545,
          0.03133406990389807,
          null,
          0.0496,
          0.0426,
          0.03504889789253545,
          0.0496,
          null,
          0.04051071251590447,
          0.04441561315498233,
          0.03133406990389807,
          0.04051071251590447,
          null,
          0.01026408695870509,
          0,
          0,
          0.01026408695870509,
          null,
          0.0496,
          0.055,
          0.0496,
          0.0496,
          null,
          0.03133406990389807,
          0.0274028137889547,
          0.04051071251590447,
          0.03133406990389807,
          null,
          0,
          0.01026386671829867,
          0,
          0,
          null,
          0.055,
          0.04441561315498233,
          0.04051071251590447,
          0.055,
          null,
          0.04051071251590447,
          0.055,
          0.055,
          0.04051071251590447,
          null,
          0.04395465673094679,
          0.055,
          0.055,
          0.04395465673094679,
          null,
          0.0178,
          0.01482444894626772,
          0.02964889789253545,
          0.0178,
          null,
          8.673617379884035e-19,
          0.01482444894626772,
          0.005400000000000001,
          8.673617379884035e-19,
          null,
          0.01471260470149536,
          0.01026386671829867,
          0.02074591845378727,
          0.01471260470149536,
          null,
          0.01832402794505874,
          0.02074591845378727,
          0.01026386671829867,
          0.01832402794505874,
          null,
          8.673617379884035e-19,
          8.673617379884035e-19,
          0.005400000000000001,
          8.673617379884035e-19,
          null,
          0.005400000000000001,
          0.01482444894626772,
          0.0178,
          0.005400000000000001,
          null,
          0.04125000000000003,
          0.0302,
          0.04260000000000001,
          0.04125000000000003,
          null,
          0.0302,
          0.02750000000000002,
          0.0178,
          0.0302,
          null,
          0.0302,
          0.02964889789253545,
          0.03504889789253545,
          0.0302,
          null,
          0.04260000000000001,
          0.055,
          0.055,
          0.04260000000000001,
          null,
          0.0178,
          0.02964889789253545,
          0.0302,
          0.0178,
          null,
          0.02750000000000002,
          0.01375000000000001,
          0.0178,
          0.02750000000000002,
          null,
          0.04125000000000003,
          0.04260000000000001,
          0.055,
          0.04125000000000003,
          null,
          0.02964889789253545,
          0.02964889789253545,
          0.03504889789253545,
          0.02964889789253545,
          null,
          0.0178,
          0.01375000000000001,
          0.005400000000000001,
          0.0178,
          null,
          0.04125000000000003,
          0.02750000000000002,
          0.0302,
          0.04125000000000003,
          null,
          0.0496,
          0.055,
          0.0426,
          0.0496,
          null,
          0.03504889789253545,
          0.02964889789253545,
          0.03504889789253545,
          0.03504889789253545,
          null,
          0,
          0.01026386671829867,
          0.01471260470149536,
          0,
          null,
          0.005400000000000001,
          8.673617379884035e-19,
          0.005400000000000001,
          0.005400000000000001,
          null,
          0.005400000000000001,
          0.01375000000000001,
          8.673617379884035e-19,
          0.005400000000000001,
          null,
          0.0426,
          0.0302,
          0.03504889789253545,
          0.0426,
          null,
          0.01026408695870509,
          0.01471260470149536,
          0.02100418837935195,
          0.01026408695870509,
          null,
          0.02100418837935195,
          0.02130736668382057,
          0.01026408695870509,
          0.02100418837935195,
          null,
          0.01026408695870509,
          0,
          0.01471260470149536,
          0.01026408695870509,
          null,
          0.042177286813047,
          0.04395465673094679,
          0.03035906429170098,
          0.042177286813047,
          null,
          0.02945249580736611,
          0.03035906429170098,
          0.04395465673094679,
          0.02945249580736611,
          null,
          0.042177286813047,
          0.055,
          0.04395465673094679,
          0.042177286813047,
          null,
          0,
          0.01026408695870509,
          0,
          0,
          null,
          0.01026408695870509,
          0.01482444894626772,
          0,
          0.01026408695870509,
          null,
          0.01482444894626772,
          0.01026408695870509,
          0.02130736668382057,
          0.01482444894626772,
          null,
          0.02130736668382057,
          0.02100418837935195,
          0.03133406990389807,
          0.02130736668382057,
          null,
          0.02749999999999998,
          0.042177286813047,
          0.03035906429170098,
          0.02749999999999998,
          null,
          0.02100418837935195,
          0.0274028137889547,
          0.03133406990389807,
          0.02100418837935195,
          null,
          0.02130736668382057,
          0.02964889789253545,
          0.01482444894626772,
          0.02130736668382057,
          null,
          0.02074591845378727,
          0.01832402794505874,
          0.03035906429170098,
          0.02074591845378727,
          null,
          0.055,
          0.042177286813047,
          0.055,
          0.055,
          null,
          0.02945249580736611,
          0.02074591845378727,
          0.03035906429170098,
          0.02945249580736611,
          null,
          0.02749999999999998,
          0.01832402794505874,
          0.01374999999999997,
          0.02749999999999998,
          null,
          0.04395465673094679,
          0.055,
          0.04051071251590447,
          0.04395465673094679,
          null,
          0.042177286813047,
          0.04124999999999999,
          0.055,
          0.042177286813047,
          null,
          0.02945249580736611,
          0.04395465673094679,
          0.04051071251590447,
          0.02945249580736611,
          null,
          0.0496,
          0.03504889789253545,
          0.04441561315498233,
          0.0496,
          null,
          0.04051071251590447,
          0.0274028137889547,
          0.02945249580736611,
          0.04051071251590447,
          null,
          0.01832402794505874,
          0.01026386671829867,
          0.007800649209450648,
          0.01832402794505874,
          null,
          0,
          0.007800649209450648,
          0.01026386671829867,
          0,
          null,
          0.007800649209450648,
          0.01374999999999997,
          0.01832402794505874,
          0.007800649209450648,
          null,
          0.01374999999999997,
          0.007800649209450648,
          0,
          0.01374999999999997,
          null,
          0.02749999999999998,
          0.03035906429170098,
          0.01832402794505874,
          0.02749999999999998,
          null,
          0.007800649209450648,
          0,
          0,
          0.007800649209450648,
          null,
          0,
          0.01471260470149536,
          0,
          0,
          null,
          0.0274028137889547,
          0.01471260470149536,
          0.02945249580736611,
          0.0274028137889547,
          null,
          0.042177286813047,
          0.02749999999999998,
          0.04124999999999999,
          0.042177286813047,
          null,
          0.03133406990389807,
          0.02964889789253545,
          0.02130736668382057,
          0.03133406990389807,
          null
         ],
         "z": [
          0,
          0,
          0,
          0,
          null,
          0,
          0,
          0,
          0,
          null,
          0,
          0,
          0,
          0,
          null,
          0,
          0,
          0,
          0,
          null,
          0,
          0,
          0,
          0,
          null,
          0,
          0,
          0,
          0,
          null,
          0,
          0,
          0,
          0,
          null,
          0,
          0,
          0,
          0,
          null,
          0,
          0,
          0,
          0,
          null,
          0,
          0,
          0,
          0,
          null,
          0,
          0,
          0,
          0,
          null,
          0,
          0,
          0,
          0,
          null,
          0,
          0,
          0,
          0,
          null,
          0,
          0,
          0,
          0,
          null,
          0,
          0,
          0,
          0,
          null,
          0,
          0,
          0,
          0,
          null,
          0,
          0,
          0,
          0,
          null,
          0,
          0,
          0,
          0,
          null,
          0,
          0,
          0,
          0,
          null,
          0,
          0,
          0,
          0,
          null,
          0,
          0,
          0,
          0,
          null,
          0,
          0,
          0,
          0,
          null,
          0,
          0,
          0,
          0,
          null,
          0,
          0,
          0,
          0,
          null,
          0,
          0,
          0,
          0,
          null,
          0,
          0,
          0,
          0,
          null,
          0,
          0,
          0,
          0,
          null,
          0,
          0,
          0,
          0,
          null,
          0,
          0,
          0,
          0,
          null,
          0,
          0,
          0,
          0,
          null,
          0,
          0,
          0,
          0,
          null,
          0,
          0,
          0,
          0,
          null,
          0,
          0,
          0,
          0,
          null,
          0,
          0,
          0,
          0,
          null,
          0,
          0,
          0,
          0,
          null,
          0,
          0,
          0,
          0,
          null,
          0,
          0,
          0,
          0,
          null,
          0,
          0,
          0,
          0,
          null,
          0,
          0,
          0,
          0,
          null,
          0,
          0,
          0,
          0,
          null,
          0,
          0,
          0,
          0,
          null,
          0,
          0,
          0,
          0,
          null,
          0,
          0,
          0,
          0,
          null,
          0,
          0,
          0,
          0,
          null,
          0,
          0,
          0,
          0,
          null,
          0,
          0,
          0,
          0,
          null,
          0,
          0,
          0,
          0,
          null,
          0,
          0,
          0,
          0,
          null,
          0,
          0,
          0,
          0,
          null,
          0,
          0,
          0,
          0,
          null,
          0,
          0,
          0,
          0,
          null,
          0,
          0,
          0,
          0,
          null,
          0,
          0,
          0,
          0,
          null,
          0,
          0,
          0,
          0,
          null,
          0,
          0,
          0,
          0,
          null,
          0,
          0,
          0,
          0,
          null,
          0,
          0,
          0,
          0,
          null,
          0,
          0,
          0,
          0,
          null,
          0,
          0,
          0,
          0,
          null,
          0,
          0,
          0,
          0,
          null,
          0,
          0,
          0,
          0,
          null,
          0,
          0,
          0,
          0,
          null,
          0,
          0,
          0,
          0,
          null,
          0,
          0,
          0,
          0,
          null,
          0,
          0,
          0,
          0,
          null,
          0,
          0,
          0,
          0,
          null,
          0,
          0,
          0,
          0,
          null,
          0,
          0,
          0,
          0,
          null,
          0,
          0,
          0,
          0,
          null,
          0,
          0,
          0,
          0,
          null,
          0,
          0,
          0,
          0,
          null
         ]
        },
        {
         "hoverinfo": "none",
         "marker": {
          "color": [
           0.014419219824530687,
           3.1024300011637966
          ],
          "colorscale": [
           [
            0,
            "rgb(150, 0, 90)"
           ],
           [
            0.125,
            "rgb(0, 0, 200)"
           ],
           [
            0.25,
            "rgb(0, 25, 255)"
           ],
           [
            0.375,
            "rgb(0, 152, 255)"
           ],
           [
            0.5,
            "rgb(44, 255, 150)"
           ],
           [
            0.625,
            "rgb(151, 255, 0)"
           ],
           [
            0.75,
            "rgb(255, 234, 0)"
           ],
           [
            0.875,
            "rgb(255, 111, 0)"
           ],
           [
            1,
            "rgb(255, 0, 0)"
           ]
          ],
          "showscale": true,
          "size": 0.1
         },
         "mode": "markers",
         "showlegend": false,
         "type": "scatter3d",
         "x": {
          "bdata": "AAAAAAAAAAA=",
          "dtype": "f8"
         },
         "y": {
          "bdata": "Jydr3O3xoT8=",
          "dtype": "f8"
         },
         "z": {
          "bdata": "AAAAAAAAAAA=",
          "dtype": "f8"
         }
        },
        {
         "marker": {
          "color": "red",
          "size": 6,
          "symbol": "circle"
         },
         "mode": "markers+text",
         "name": "Feed Point(s)",
         "type": "scatter3d",
         "x": {
          "bdata": "AAAAAAAAAAA=",
          "dtype": "f8"
         },
         "y": {
          "bdata": "nCkF5QiQoD8=",
          "dtype": "f8"
         },
         "z": {
          "bdata": "AAAAAAAAAAA=",
          "dtype": "f8"
         }
        }
       ],
       "layout": {
        "height": 800,
        "legend": {
         "bgcolor": "rgba(255,255,255,0.7)",
         "bordercolor": "lightgray",
         "borderwidth": 1,
         "x": 0.2,
         "xanchor": "left",
         "y": 0.9,
         "yanchor": "top"
        },
        "scene": {
         "aspectratio": {
          "x": 1,
          "y": 0.5978260869565217,
          "z": 0.3
         },
         "camera": {
          "eye": {
           "x": 0.65,
           "y": 0.65,
           "z": 0.65
          }
         },
         "xaxis": {
          "backgroundcolor": "rgb(230, 230, 230)",
          "gridcolor": "rgb(255, 255, 255)",
          "showbackground": true,
          "zerolinecolor": "rgb(255, 255, 255)"
         },
         "yaxis": {
          "backgroundcolor": "rgb(230, 230, 230)",
          "gridcolor": "rgb(255, 255, 255)",
          "showbackground": true,
          "zerolinecolor": "rgb(255, 255, 255)"
         },
         "zaxis": {
          "backgroundcolor": "rgb(230, 230, 230)",
          "gridcolor": "rgb(255, 255, 255)",
          "showbackground": true,
          "zerolinecolor": "rgb(255, 255, 255)"
         }
        },
        "template": {
         "data": {
          "bar": [
           {
            "error_x": {
             "color": "#2a3f5f"
            },
            "error_y": {
             "color": "#2a3f5f"
            },
            "marker": {
             "line": {
              "color": "#E5ECF6",
              "width": 0.5
             },
             "pattern": {
              "fillmode": "overlay",
              "size": 10,
              "solidity": 0.2
             }
            },
            "type": "bar"
           }
          ],
          "barpolar": [
           {
            "marker": {
             "line": {
              "color": "#E5ECF6",
              "width": 0.5
             },
             "pattern": {
              "fillmode": "overlay",
              "size": 10,
              "solidity": 0.2
             }
            },
            "type": "barpolar"
           }
          ],
          "carpet": [
           {
            "aaxis": {
             "endlinecolor": "#2a3f5f",
             "gridcolor": "white",
             "linecolor": "white",
             "minorgridcolor": "white",
             "startlinecolor": "#2a3f5f"
            },
            "baxis": {
             "endlinecolor": "#2a3f5f",
             "gridcolor": "white",
             "linecolor": "white",
             "minorgridcolor": "white",
             "startlinecolor": "#2a3f5f"
            },
            "type": "carpet"
           }
          ],
          "choropleth": [
           {
            "colorbar": {
             "outlinewidth": 0,
             "ticks": ""
            },
            "type": "choropleth"
           }
          ],
          "contour": [
           {
            "colorbar": {
             "outlinewidth": 0,
             "ticks": ""
            },
            "colorscale": [
             [
              0,
              "#0d0887"
             ],
             [
              0.1111111111111111,
              "#46039f"
             ],
             [
              0.2222222222222222,
              "#7201a8"
             ],
             [
              0.3333333333333333,
              "#9c179e"
             ],
             [
              0.4444444444444444,
              "#bd3786"
             ],
             [
              0.5555555555555556,
              "#d8576b"
             ],
             [
              0.6666666666666666,
              "#ed7953"
             ],
             [
              0.7777777777777778,
              "#fb9f3a"
             ],
             [
              0.8888888888888888,
              "#fdca26"
             ],
             [
              1,
              "#f0f921"
             ]
            ],
            "type": "contour"
           }
          ],
          "contourcarpet": [
           {
            "colorbar": {
             "outlinewidth": 0,
             "ticks": ""
            },
            "type": "contourcarpet"
           }
          ],
          "heatmap": [
           {
            "colorbar": {
             "outlinewidth": 0,
             "ticks": ""
            },
            "colorscale": [
             [
              0,
              "#0d0887"
             ],
             [
              0.1111111111111111,
              "#46039f"
             ],
             [
              0.2222222222222222,
              "#7201a8"
             ],
             [
              0.3333333333333333,
              "#9c179e"
             ],
             [
              0.4444444444444444,
              "#bd3786"
             ],
             [
              0.5555555555555556,
              "#d8576b"
             ],
             [
              0.6666666666666666,
              "#ed7953"
             ],
             [
              0.7777777777777778,
              "#fb9f3a"
             ],
             [
              0.8888888888888888,
              "#fdca26"
             ],
             [
              1,
              "#f0f921"
             ]
            ],
            "type": "heatmap"
           }
          ],
          "histogram": [
           {
            "marker": {
             "pattern": {
              "fillmode": "overlay",
              "size": 10,
              "solidity": 0.2
             }
            },
            "type": "histogram"
           }
          ],
          "histogram2d": [
           {
            "colorbar": {
             "outlinewidth": 0,
             "ticks": ""
            },
            "colorscale": [
             [
              0,
              "#0d0887"
             ],
             [
              0.1111111111111111,
              "#46039f"
             ],
             [
              0.2222222222222222,
              "#7201a8"
             ],
             [
              0.3333333333333333,
              "#9c179e"
             ],
             [
              0.4444444444444444,
              "#bd3786"
             ],
             [
              0.5555555555555556,
              "#d8576b"
             ],
             [
              0.6666666666666666,
              "#ed7953"
             ],
             [
              0.7777777777777778,
              "#fb9f3a"
             ],
             [
              0.8888888888888888,
              "#fdca26"
             ],
             [
              1,
              "#f0f921"
             ]
            ],
            "type": "histogram2d"
           }
          ],
          "histogram2dcontour": [
           {
            "colorbar": {
             "outlinewidth": 0,
             "ticks": ""
            },
            "colorscale": [
             [
              0,
              "#0d0887"
             ],
             [
              0.1111111111111111,
              "#46039f"
             ],
             [
              0.2222222222222222,
              "#7201a8"
             ],
             [
              0.3333333333333333,
              "#9c179e"
             ],
             [
              0.4444444444444444,
              "#bd3786"
             ],
             [
              0.5555555555555556,
              "#d8576b"
             ],
             [
              0.6666666666666666,
              "#ed7953"
             ],
             [
              0.7777777777777778,
              "#fb9f3a"
             ],
             [
              0.8888888888888888,
              "#fdca26"
             ],
             [
              1,
              "#f0f921"
             ]
            ],
            "type": "histogram2dcontour"
           }
          ],
          "mesh3d": [
           {
            "colorbar": {
             "outlinewidth": 0,
             "ticks": ""
            },
            "type": "mesh3d"
           }
          ],
          "parcoords": [
           {
            "line": {
             "colorbar": {
              "outlinewidth": 0,
              "ticks": ""
             }
            },
            "type": "parcoords"
           }
          ],
          "pie": [
           {
            "automargin": true,
            "type": "pie"
           }
          ],
          "scatter": [
           {
            "fillpattern": {
             "fillmode": "overlay",
             "size": 10,
             "solidity": 0.2
            },
            "type": "scatter"
           }
          ],
          "scatter3d": [
           {
            "line": {
             "colorbar": {
              "outlinewidth": 0,
              "ticks": ""
             }
            },
            "marker": {
             "colorbar": {
              "outlinewidth": 0,
              "ticks": ""
             }
            },
            "type": "scatter3d"
           }
          ],
          "scattercarpet": [
           {
            "marker": {
             "colorbar": {
              "outlinewidth": 0,
              "ticks": ""
             }
            },
            "type": "scattercarpet"
           }
          ],
          "scattergeo": [
           {
            "marker": {
             "colorbar": {
              "outlinewidth": 0,
              "ticks": ""
             }
            },
            "type": "scattergeo"
           }
          ],
          "scattergl": [
           {
            "marker": {
             "colorbar": {
              "outlinewidth": 0,
              "ticks": ""
             }
            },
            "type": "scattergl"
           }
          ],
          "scattermap": [
           {
            "marker": {
             "colorbar": {
              "outlinewidth": 0,
              "ticks": ""
             }
            },
            "type": "scattermap"
           }
          ],
          "scattermapbox": [
           {
            "marker": {
             "colorbar": {
              "outlinewidth": 0,
              "ticks": ""
             }
            },
            "type": "scattermapbox"
           }
          ],
          "scatterpolar": [
           {
            "marker": {
             "colorbar": {
              "outlinewidth": 0,
              "ticks": ""
             }
            },
            "type": "scatterpolar"
           }
          ],
          "scatterpolargl": [
           {
            "marker": {
             "colorbar": {
              "outlinewidth": 0,
              "ticks": ""
             }
            },
            "type": "scatterpolargl"
           }
          ],
          "scatterternary": [
           {
            "marker": {
             "colorbar": {
              "outlinewidth": 0,
              "ticks": ""
             }
            },
            "type": "scatterternary"
           }
          ],
          "surface": [
           {
            "colorbar": {
             "outlinewidth": 0,
             "ticks": ""
            },
            "colorscale": [
             [
              0,
              "#0d0887"
             ],
             [
              0.1111111111111111,
              "#46039f"
             ],
             [
              0.2222222222222222,
              "#7201a8"
             ],
             [
              0.3333333333333333,
              "#9c179e"
             ],
             [
              0.4444444444444444,
              "#bd3786"
             ],
             [
              0.5555555555555556,
              "#d8576b"
             ],
             [
              0.6666666666666666,
              "#ed7953"
             ],
             [
              0.7777777777777778,
              "#fb9f3a"
             ],
             [
              0.8888888888888888,
              "#fdca26"
             ],
             [
              1,
              "#f0f921"
             ]
            ],
            "type": "surface"
           }
          ],
          "table": [
           {
            "cells": {
             "fill": {
              "color": "#EBF0F8"
             },
             "line": {
              "color": "white"
             }
            },
            "header": {
             "fill": {
              "color": "#C8D4E3"
             },
             "line": {
              "color": "white"
             }
            },
            "type": "table"
           }
          ]
         },
         "layout": {
          "annotationdefaults": {
           "arrowcolor": "#2a3f5f",
           "arrowhead": 0,
           "arrowwidth": 1
          },
          "autotypenumbers": "strict",
          "coloraxis": {
           "colorbar": {
            "outlinewidth": 0,
            "ticks": ""
           }
          },
          "colorscale": {
           "diverging": [
            [
             0,
             "#8e0152"
            ],
            [
             0.1,
             "#c51b7d"
            ],
            [
             0.2,
             "#de77ae"
            ],
            [
             0.3,
             "#f1b6da"
            ],
            [
             0.4,
             "#fde0ef"
            ],
            [
             0.5,
             "#f7f7f7"
            ],
            [
             0.6,
             "#e6f5d0"
            ],
            [
             0.7,
             "#b8e186"
            ],
            [
             0.8,
             "#7fbc41"
            ],
            [
             0.9,
             "#4d9221"
            ],
            [
             1,
             "#276419"
            ]
           ],
           "sequential": [
            [
             0,
             "#0d0887"
            ],
            [
             0.1111111111111111,
             "#46039f"
            ],
            [
             0.2222222222222222,
             "#7201a8"
            ],
            [
             0.3333333333333333,
             "#9c179e"
            ],
            [
             0.4444444444444444,
             "#bd3786"
            ],
            [
             0.5555555555555556,
             "#d8576b"
            ],
            [
             0.6666666666666666,
             "#ed7953"
            ],
            [
             0.7777777777777778,
             "#fb9f3a"
            ],
            [
             0.8888888888888888,
             "#fdca26"
            ],
            [
             1,
             "#f0f921"
            ]
           ],
           "sequentialminus": [
            [
             0,
             "#0d0887"
            ],
            [
             0.1111111111111111,
             "#46039f"
            ],
            [
             0.2222222222222222,
             "#7201a8"
            ],
            [
             0.3333333333333333,
             "#9c179e"
            ],
            [
             0.4444444444444444,
             "#bd3786"
            ],
            [
             0.5555555555555556,
             "#d8576b"
            ],
            [
             0.6666666666666666,
             "#ed7953"
            ],
            [
             0.7777777777777778,
             "#fb9f3a"
            ],
            [
             0.8888888888888888,
             "#fdca26"
            ],
            [
             1,
             "#f0f921"
            ]
           ]
          },
          "colorway": [
           "#636efa",
           "#EF553B",
           "#00cc96",
           "#ab63fa",
           "#FFA15A",
           "#19d3f3",
           "#FF6692",
           "#B6E880",
           "#FF97FF",
           "#FECB52"
          ],
          "font": {
           "color": "#2a3f5f"
          },
          "geo": {
           "bgcolor": "white",
           "lakecolor": "white",
           "landcolor": "#E5ECF6",
           "showlakes": true,
           "showland": true,
           "subunitcolor": "white"
          },
          "hoverlabel": {
           "align": "left"
          },
          "hovermode": "closest",
          "mapbox": {
           "style": "light"
          },
          "paper_bgcolor": "white",
          "plot_bgcolor": "#E5ECF6",
          "polar": {
           "angularaxis": {
            "gridcolor": "white",
            "linecolor": "white",
            "ticks": ""
           },
           "bgcolor": "#E5ECF6",
           "radialaxis": {
            "gridcolor": "white",
            "linecolor": "white",
            "ticks": ""
           }
          },
          "scene": {
           "xaxis": {
            "backgroundcolor": "#E5ECF6",
            "gridcolor": "white",
            "gridwidth": 2,
            "linecolor": "white",
            "showbackground": true,
            "ticks": "",
            "zerolinecolor": "white"
           },
           "yaxis": {
            "backgroundcolor": "#E5ECF6",
            "gridcolor": "white",
            "gridwidth": 2,
            "linecolor": "white",
            "showbackground": true,
            "ticks": "",
            "zerolinecolor": "white"
           },
           "zaxis": {
            "backgroundcolor": "#E5ECF6",
            "gridcolor": "white",
            "gridwidth": 2,
            "linecolor": "white",
            "showbackground": true,
            "ticks": "",
            "zerolinecolor": "white"
           }
          },
          "shapedefaults": {
           "line": {
            "color": "#2a3f5f"
           }
          },
          "ternary": {
           "aaxis": {
            "gridcolor": "white",
            "linecolor": "white",
            "ticks": ""
           },
           "baxis": {
            "gridcolor": "white",
            "linecolor": "white",
            "ticks": ""
           },
           "bgcolor": "#E5ECF6",
           "caxis": {
            "gridcolor": "white",
            "linecolor": "white",
            "ticks": ""
           }
          },
          "title": {
           "x": 0.05
          },
          "xaxis": {
           "automargin": true,
           "gridcolor": "white",
           "linecolor": "white",
           "ticks": "",
           "title": {
            "standoff": 15
           },
           "zerolinecolor": "white",
           "zerolinewidth": 2
          },
          "yaxis": {
           "automargin": true,
           "gridcolor": "white",
           "linecolor": "white",
           "ticks": "",
           "title": {
            "standoff": 15
           },
           "zerolinecolor": "white",
           "zerolinewidth": 2
          }
         }
        },
        "title": {
         "text": ""
        },
        "width": 800
       }
      }
     },
     "metadata": {},
     "output_type": "display_data"
    },
    {
     "name": "stdout",
     "output_type": "stream",
     "text": [
      "\n",
      "Image saved in PDF format: data/fig_image/ifa_M_opti3_antenna_surface_current_in_radiation_mode.pdf\n",
      "\n",
      "Simulation 43/101 | f = 868.00 MHz | S11 = -16.70 dB\n",
      "Simulation 44/101 | f = 872.00 MHz | S11 = -19.36 dB\n",
      "Simulation 45/101 | f = 876.00 MHz | S11 = -23.17 dB\n",
      "Simulation 46/101 | f = 880.00 MHz | S11 = -29.72 dB\n",
      "Simulation 47/101 | f = 884.00 MHz | S11 = -35.51 dB\n",
      "Simulation 48/101 | f = 888.00 MHz | S11 = -26.25 dB\n",
      "Simulation 49/101 | f = 892.00 MHz | S11 = -21.43 dB\n",
      "Simulation 50/101 | f = 896.00 MHz | S11 = -18.36 dB\n",
      "Simulation 51/101 | f = 900.00 MHz | S11 = -16.14 dB\n",
      "Simulation 52/101 | f = 904.00 MHz | S11 = -14.42 dB\n",
      "Simulation 53/101 | f = 908.00 MHz | S11 = -13.02 dB\n",
      "Simulation 54/101 | f = 912.00 MHz | S11 = -11.85 dB\n",
      "Simulation 55/101 | f = 916.00 MHz | S11 = -10.86 dB\n",
      "Simulation 56/101 | f = 920.00 MHz | S11 = -10.00 dB\n",
      "Simulation 57/101 | f = 924.00 MHz | S11 = -9.25 dB\n",
      "Simulation 58/101 | f = 928.00 MHz | S11 = -8.59 dB\n",
      "Simulation 59/101 | f = 932.00 MHz | S11 = -8.00 dB\n",
      "Simulation 60/101 | f = 936.00 MHz | S11 = -7.47 dB\n",
      "Simulation 61/101 | f = 940.00 MHz | S11 = -7.00 dB\n",
      "Simulation 62/101 | f = 944.00 MHz | S11 = -6.57 dB\n",
      "Simulation 63/101 | f = 948.00 MHz | S11 = -6.18 dB\n",
      "Simulation 64/101 | f = 952.00 MHz | S11 = -5.82 dB\n",
      "Simulation 65/101 | f = 956.00 MHz | S11 = -5.50 dB\n",
      "Simulation 66/101 | f = 960.00 MHz | S11 = -5.20 dB\n",
      "Simulation 67/101 | f = 964.00 MHz | S11 = -4.93 dB\n",
      "Simulation 68/101 | f = 968.00 MHz | S11 = -4.68 dB\n",
      "Simulation 69/101 | f = 972.00 MHz | S11 = -4.45 dB\n",
      "Simulation 70/101 | f = 976.00 MHz | S11 = -4.23 dB\n",
      "Simulation 71/101 | f = 980.00 MHz | S11 = -4.03 dB\n",
      "Simulation 72/101 | f = 984.00 MHz | S11 = -3.85 dB\n",
      "Simulation 73/101 | f = 988.00 MHz | S11 = -3.68 dB\n",
      "Simulation 74/101 | f = 992.00 MHz | S11 = -3.51 dB\n",
      "Simulation 75/101 | f = 996.00 MHz | S11 = -3.36 dB\n",
      "Simulation 76/101 | f = 1000.00 MHz | S11 = -3.22 dB\n",
      "Simulation 77/101 | f = 1004.00 MHz | S11 = -3.09 dB\n",
      "Simulation 78/101 | f = 1008.00 MHz | S11 = -2.97 dB\n",
      "Simulation 79/101 | f = 1012.00 MHz | S11 = -2.85 dB\n",
      "Simulation 80/101 | f = 1016.00 MHz | S11 = -2.75 dB\n",
      "Simulation 81/101 | f = 1020.00 MHz | S11 = -2.64 dB\n",
      "Simulation 82/101 | f = 1024.00 MHz | S11 = -2.55 dB\n",
      "Simulation 83/101 | f = 1028.00 MHz | S11 = -2.46 dB\n",
      "Simulation 84/101 | f = 1032.00 MHz | S11 = -2.37 dB\n",
      "Simulation 85/101 | f = 1036.00 MHz | S11 = -2.29 dB\n",
      "Simulation 86/101 | f = 1040.00 MHz | S11 = -2.21 dB\n",
      "Simulation 87/101 | f = 1044.00 MHz | S11 = -2.14 dB\n",
      "Simulation 88/101 | f = 1048.00 MHz | S11 = -2.07 dB\n",
      "Simulation 89/101 | f = 1052.00 MHz | S11 = -2.00 dB\n",
      "Simulation 90/101 | f = 1056.00 MHz | S11 = -1.94 dB\n",
      "Simulation 91/101 | f = 1060.00 MHz | S11 = -1.88 dB\n",
      "Simulation 92/101 | f = 1064.00 MHz | S11 = -1.82 dB\n",
      "Simulation 93/101 | f = 1068.00 MHz | S11 = -1.77 dB\n",
      "Simulation 94/101 | f = 1072.00 MHz | S11 = -1.71 dB\n",
      "Simulation 95/101 | f = 1076.00 MHz | S11 = -1.66 dB\n",
      "Simulation 96/101 | f = 1080.00 MHz | S11 = -1.62 dB\n",
      "Simulation 97/101 | f = 1084.00 MHz | S11 = -1.57 dB\n",
      "Simulation 98/101 | f = 1088.00 MHz | S11 = -1.53 dB\n",
      "Simulation 99/101 | f = 1092.00 MHz | S11 = -1.48 dB\n",
      "Simulation 100/101 | f = 1096.00 MHz | S11 = -1.44 dB\n",
      "Simulation 101/101 | f = 1100.00 MHz | S11 = -1.41 dB\n"
     ]
    },
    {
     "data": {
      "application/vnd.plotly.v1+json": {
       "config": {
        "plotlyServerURL": "https://plot.ly"
       },
       "data": [
        {
         "hoverinfo": "text",
         "imag": [
          6.400306184555708,
          6.692265278173381,
          6.998112292338472,
          7.311005880729185,
          7.618179934728912,
          7.897476587156916,
          8.11257104337961,
          8.207465964720836,
          8.102828137200298,
          7.700576173825501,
          6.907126091944296,
          5.681813278263236,
          4.093300502223845,
          2.3338133860901817,
          0.6531036477225096,
          -0.7484559654238432,
          -1.7827022578234284,
          -2.462253452867994,
          -2.852810730992801,
          -3.0316677224849253,
          -3.0662016975277915,
          -3.0075853102730594,
          -2.8918612582820264,
          -2.7433007418225275,
          -2.5777738716097325,
          -2.4054237987636884,
          -2.2325885918988444,
          -2.063116209189229,
          -1.8992414229354453,
          -1.7421628785893333,
          -1.5924202974374793,
          -1.45014022181956,
          -1.3151957851031266,
          -1.187310340382232,
          -1.0661244077135,
          -0.9512386198325632,
          -0.8422409414763894,
          -0.738723578601615,
          -0.6402931348881883,
          -0.5465763599946829,
          -0.4572230391537915,
          -0.3719070503633487,
          -0.21220177211080743,
          -0.13727663324109643,
          -0.06531451253736957,
          0.0039018420863425984,
          0.07057209653727776,
          0.13487978754686794,
          0.19699370585163747,
          0.25706919011453433,
          0.31524932497426994,
          0.37166604227013783,
          0.42644112802169476,
          0.4796871398374521,
          0.5315082405720928,
          0.5820009545666074,
          0.6312548529147481,
          0.6793531740548023,
          0.7263733856839982,
          0.77238769360896,
          0.8174635027208116,
          0.8616638348468457,
          0.9050477078046287,
          0.9476704795757778,
          0.9895841611355034,
          1.0308377011210084,
          1.0714772451996097,
          1.1115463727050274,
          1.1510863128448425,
          1.1901361425454398,
          1.2287329677870003,
          1.2669120900906732,
          1.3047071596494786,
          1.3421503164433406,
          1.3792723205434194,
          1.4161026726900316,
          1.452669726122352,
          1.4890007905431368,
          1.5251222290161877,
          1.561059548520998,
          1.5968374848212668,
          1.6324800822455887,
          1.6680107689266945,
          1.7034524279988201,
          1.7388274652126752,
          1.774157873391208,
          1.8094652941181792,
          1.844771077023311,
          1.8800963370049482,
          1.9154620097088746,
          1.9508889055658098,
          1.9863977626733134,
          2.022009298797058,
          2.0577442627549494,
          2.0936234854398803,
          2.129667930731739,
          2.1658987465445305,
          2.2023373162529243,
          2.239005310742395,
          2.2759247413293373
         ],
         "marker": {
          "color": "blue",
          "size": 4
         },
         "mode": "markers+lines",
         "name": "Impedance Points",
         "real": [
          1.6805675112472795,
          1.9752353706911874,
          2.335552078678503,
          2.7780269688702477,
          3.322586389821906,
          3.991890393777559,
          4.808673940016361,
          5.789193686883594,
          6.930242879110612,
          8.188447627037624,
          9.45717463837238,
          10.560249262532496,
          11.290956691267908,
          11.499515055964324,
          11.172403079957885,
          10.432034823324548,
          9.461345723697026,
          8.42409983274846,
          7.428508924297896,
          6.5292721197930765,
          5.744523684205551,
          5.072228334122957,
          4.5012717561290785,
          4.017695111969059,
          3.607741555190449,
          3.2591158932563014,
          2.961343742083908,
          2.7057215875895655,
          2.485108448803505,
          2.293678130771778,
          2.126683586647592,
          1.9802521264411619,
          1.8512152043305403,
          1.7369702656979558,
          1.6353700218248244,
          1.5446342517747118,
          1.4632797020309676,
          1.3900643521461875,
          1.3239430156535252,
          1.2640318642192732,
          1.2095799768003987,
          1.1599464284976713,
          1.0730129196596652,
          1.0348309792509849,
          0.9996810547257111,
          0.9672540104663208,
          0.9372795947082045,
          0.9095207367703414,
          0.8837687892499956,
          0.8598395423812366,
          0.8375698720186321,
          0.8168149097114248,
          0.7974456446989473,
          0.7793468846342333,
          0.7624155153820033,
          0.7465590110813313,
          0.731694154381929,
          0.7177459338002713,
          0.7046465908450383,
          0.6923347941993212,
          0.68075492203376,
          0.6698564366273543,
          0.6595933380235917,
          0.6499236855539753,
          0.6408091778034182,
          0.6322147830389357,
          0.6241084133283281,
          0.6164606365830847,
          0.6092444216046471,
          0.6024349119225473,
          0.5960092248121375,
          0.5899462723855512,
          0.584226602078814,
          0.5788322542227619,
          0.573746634696589,
          0.5689544009286898,
          0.5644413597369418,
          0.5601943756966796,
          0.5562012888929522,
          0.5524508410591578,
          0.5489326092304969,
          0.5456369461498719,
          0.542554926759422,
          0.5396783001941453,
          0.5369994467668768,
          0.5345113394984803,
          0.5322075098033434,
          0.5300820169910037,
          0.5281294212891501,
          0.5263447601336914,
          0.5247235275074323,
          0.5232616561422158,
          0.5219555024288557,
          0.520801833907298,
          0.5197978192353603,
          0.5189410205583275,
          0.5182293882253913,
          0.5176612578210675,
          0.5172353495017756,
          0.5169507696494829
         ],
         "text": [
          "Z = 84.028+320.015j at 700.00 MHz",
          "Z = 98.762+334.613j at 704.00 MHz",
          "Z = 116.778+349.906j at 708.00 MHz",
          "Z = 138.901+365.550j at 712.00 MHz",
          "Z = 166.129+380.909j at 716.00 MHz",
          "Z = 199.595+394.874j at 720.00 MHz",
          "Z = 240.434+405.629j at 724.00 MHz",
          "Z = 289.460+410.373j at 728.00 MHz",
          "Z = 346.512+405.141j at 732.00 MHz",
          "Z = 409.422+385.029j at 736.00 MHz",
          "Z = 472.859+345.356j at 740.00 MHz",
          "Z = 528.012+284.091j at 744.00 MHz",
          "Z = 564.548+204.665j at 748.00 MHz",
          "Z = 574.976+116.691j at 752.00 MHz",
          "Z = 558.620+32.655j at 756.00 MHz",
          "Z = 521.602-37.423j at 760.00 MHz",
          "Z = 473.067-89.135j at 764.00 MHz",
          "Z = 421.205-123.113j at 768.00 MHz",
          "Z = 371.425-142.641j at 772.00 MHz",
          "Z = 326.464-151.583j at 776.00 MHz",
          "Z = 287.226-153.310j at 780.00 MHz",
          "Z = 253.611-150.379j at 784.00 MHz",
          "Z = 225.064-144.593j at 788.00 MHz",
          "Z = 200.885-137.165j at 792.00 MHz",
          "Z = 180.387-128.889j at 796.00 MHz",
          "Z = 162.956-120.271j at 800.00 MHz",
          "Z = 148.067-111.629j at 804.00 MHz",
          "Z = 135.286-103.156j at 808.00 MHz",
          "Z = 124.255-94.962j at 812.00 MHz",
          "Z = 114.684-87.108j at 816.00 MHz",
          "Z = 106.334-79.621j at 820.00 MHz",
          "Z = 99.013-72.507j at 824.00 MHz",
          "Z = 92.561-65.760j at 828.00 MHz",
          "Z = 86.849-59.366j at 832.00 MHz",
          "Z = 81.769-53.306j at 836.00 MHz",
          "Z = 77.232-47.562j at 840.00 MHz",
          "Z = 73.164-42.112j at 844.00 MHz",
          "Z = 69.503-36.936j at 848.00 MHz",
          "Z = 66.197-32.015j at 852.00 MHz",
          "Z = 63.202-27.329j at 856.00 MHz",
          "Z = 60.479-22.861j at 860.00 MHz",
          "Z = 57.997-18.595j at 864.00 MHz",
          "Z = 53.651-10.610j at 872.00 MHz",
          "Z = 51.742-6.864j at 876.00 MHz",
          "Z = 49.984-3.266j at 880.00 MHz",
          "Z = 48.363+0.195j at 884.00 MHz",
          "Z = 46.864+3.529j at 888.00 MHz",
          "Z = 45.476+6.744j at 892.00 MHz",
          "Z = 44.188+9.850j at 896.00 MHz",
          "Z = 42.992+12.853j at 900.00 MHz",
          "Z = 41.878+15.762j at 904.00 MHz",
          "Z = 40.841+18.583j at 908.00 MHz",
          "Z = 39.872+21.322j at 912.00 MHz",
          "Z = 38.967+23.984j at 916.00 MHz",
          "Z = 38.121+26.575j at 920.00 MHz",
          "Z = 37.328+29.100j at 924.00 MHz",
          "Z = 36.585+31.563j at 928.00 MHz",
          "Z = 35.887+33.968j at 932.00 MHz",
          "Z = 35.232+36.319j at 936.00 MHz",
          "Z = 34.617+38.619j at 940.00 MHz",
          "Z = 34.038+40.873j at 944.00 MHz",
          "Z = 33.493+43.083j at 948.00 MHz",
          "Z = 32.980+45.252j at 952.00 MHz",
          "Z = 32.496+47.384j at 956.00 MHz",
          "Z = 32.040+49.479j at 960.00 MHz",
          "Z = 31.611+51.542j at 964.00 MHz",
          "Z = 31.205+53.574j at 968.00 MHz",
          "Z = 30.823+55.577j at 972.00 MHz",
          "Z = 30.462+57.554j at 976.00 MHz",
          "Z = 30.122+59.507j at 980.00 MHz",
          "Z = 29.800+61.437j at 984.00 MHz",
          "Z = 29.497+63.346j at 988.00 MHz",
          "Z = 29.211+65.235j at 992.00 MHz",
          "Z = 28.942+67.108j at 996.00 MHz",
          "Z = 28.687+68.964j at 1000.00 MHz",
          "Z = 28.448+70.805j at 1004.00 MHz",
          "Z = 28.222+72.633j at 1008.00 MHz",
          "Z = 28.010+74.450j at 1012.00 MHz",
          "Z = 27.810+76.256j at 1016.00 MHz",
          "Z = 27.623+78.053j at 1020.00 MHz",
          "Z = 27.447+79.842j at 1024.00 MHz",
          "Z = 27.282+81.624j at 1028.00 MHz",
          "Z = 27.128+83.401j at 1032.00 MHz",
          "Z = 26.984+85.173j at 1036.00 MHz",
          "Z = 26.850+86.941j at 1040.00 MHz",
          "Z = 26.726+88.708j at 1044.00 MHz",
          "Z = 26.610+90.473j at 1048.00 MHz",
          "Z = 26.504+92.239j at 1052.00 MHz",
          "Z = 26.406+94.005j at 1056.00 MHz",
          "Z = 26.317+95.773j at 1060.00 MHz",
          "Z = 26.236+97.544j at 1064.00 MHz",
          "Z = 26.163+99.320j at 1068.00 MHz",
          "Z = 26.098+101.100j at 1072.00 MHz",
          "Z = 26.040+102.887j at 1076.00 MHz",
          "Z = 25.990+104.681j at 1080.00 MHz",
          "Z = 25.947+106.483j at 1084.00 MHz",
          "Z = 25.911+108.295j at 1088.00 MHz",
          "Z = 25.883+110.117j at 1092.00 MHz",
          "Z = 25.862+111.950j at 1096.00 MHz",
          "Z = 25.848+113.796j at 1100.00 MHz"
         ],
         "type": "scattersmith"
        },
        {
         "hoverinfo": "text",
         "imag": [
          -0.290326269291255
         ],
         "marker": {
          "color": "red",
          "size": 10,
          "symbol": "circle"
         },
         "mode": "markers",
         "name": "fC=868.00 MHz, Z=55.73-14.52j",
         "real": [
          1.1145817595920016
         ],
         "text": [
          "Z = 55.729-14.516j at 868.00 MHz"
         ],
         "type": "scattersmith"
        }
       ],
       "layout": {
        "height": 618,
        "showlegend": true,
        "template": {
         "data": {
          "bar": [
           {
            "error_x": {
             "color": "#2a3f5f"
            },
            "error_y": {
             "color": "#2a3f5f"
            },
            "marker": {
             "line": {
              "color": "#E5ECF6",
              "width": 0.5
             },
             "pattern": {
              "fillmode": "overlay",
              "size": 10,
              "solidity": 0.2
             }
            },
            "type": "bar"
           }
          ],
          "barpolar": [
           {
            "marker": {
             "line": {
              "color": "#E5ECF6",
              "width": 0.5
             },
             "pattern": {
              "fillmode": "overlay",
              "size": 10,
              "solidity": 0.2
             }
            },
            "type": "barpolar"
           }
          ],
          "carpet": [
           {
            "aaxis": {
             "endlinecolor": "#2a3f5f",
             "gridcolor": "white",
             "linecolor": "white",
             "minorgridcolor": "white",
             "startlinecolor": "#2a3f5f"
            },
            "baxis": {
             "endlinecolor": "#2a3f5f",
             "gridcolor": "white",
             "linecolor": "white",
             "minorgridcolor": "white",
             "startlinecolor": "#2a3f5f"
            },
            "type": "carpet"
           }
          ],
          "choropleth": [
           {
            "colorbar": {
             "outlinewidth": 0,
             "ticks": ""
            },
            "type": "choropleth"
           }
          ],
          "contour": [
           {
            "colorbar": {
             "outlinewidth": 0,
             "ticks": ""
            },
            "colorscale": [
             [
              0,
              "#0d0887"
             ],
             [
              0.1111111111111111,
              "#46039f"
             ],
             [
              0.2222222222222222,
              "#7201a8"
             ],
             [
              0.3333333333333333,
              "#9c179e"
             ],
             [
              0.4444444444444444,
              "#bd3786"
             ],
             [
              0.5555555555555556,
              "#d8576b"
             ],
             [
              0.6666666666666666,
              "#ed7953"
             ],
             [
              0.7777777777777778,
              "#fb9f3a"
             ],
             [
              0.8888888888888888,
              "#fdca26"
             ],
             [
              1,
              "#f0f921"
             ]
            ],
            "type": "contour"
           }
          ],
          "contourcarpet": [
           {
            "colorbar": {
             "outlinewidth": 0,
             "ticks": ""
            },
            "type": "contourcarpet"
           }
          ],
          "heatmap": [
           {
            "colorbar": {
             "outlinewidth": 0,
             "ticks": ""
            },
            "colorscale": [
             [
              0,
              "#0d0887"
             ],
             [
              0.1111111111111111,
              "#46039f"
             ],
             [
              0.2222222222222222,
              "#7201a8"
             ],
             [
              0.3333333333333333,
              "#9c179e"
             ],
             [
              0.4444444444444444,
              "#bd3786"
             ],
             [
              0.5555555555555556,
              "#d8576b"
             ],
             [
              0.6666666666666666,
              "#ed7953"
             ],
             [
              0.7777777777777778,
              "#fb9f3a"
             ],
             [
              0.8888888888888888,
              "#fdca26"
             ],
             [
              1,
              "#f0f921"
             ]
            ],
            "type": "heatmap"
           }
          ],
          "histogram": [
           {
            "marker": {
             "pattern": {
              "fillmode": "overlay",
              "size": 10,
              "solidity": 0.2
             }
            },
            "type": "histogram"
           }
          ],
          "histogram2d": [
           {
            "colorbar": {
             "outlinewidth": 0,
             "ticks": ""
            },
            "colorscale": [
             [
              0,
              "#0d0887"
             ],
             [
              0.1111111111111111,
              "#46039f"
             ],
             [
              0.2222222222222222,
              "#7201a8"
             ],
             [
              0.3333333333333333,
              "#9c179e"
             ],
             [
              0.4444444444444444,
              "#bd3786"
             ],
             [
              0.5555555555555556,
              "#d8576b"
             ],
             [
              0.6666666666666666,
              "#ed7953"
             ],
             [
              0.7777777777777778,
              "#fb9f3a"
             ],
             [
              0.8888888888888888,
              "#fdca26"
             ],
             [
              1,
              "#f0f921"
             ]
            ],
            "type": "histogram2d"
           }
          ],
          "histogram2dcontour": [
           {
            "colorbar": {
             "outlinewidth": 0,
             "ticks": ""
            },
            "colorscale": [
             [
              0,
              "#0d0887"
             ],
             [
              0.1111111111111111,
              "#46039f"
             ],
             [
              0.2222222222222222,
              "#7201a8"
             ],
             [
              0.3333333333333333,
              "#9c179e"
             ],
             [
              0.4444444444444444,
              "#bd3786"
             ],
             [
              0.5555555555555556,
              "#d8576b"
             ],
             [
              0.6666666666666666,
              "#ed7953"
             ],
             [
              0.7777777777777778,
              "#fb9f3a"
             ],
             [
              0.8888888888888888,
              "#fdca26"
             ],
             [
              1,
              "#f0f921"
             ]
            ],
            "type": "histogram2dcontour"
           }
          ],
          "mesh3d": [
           {
            "colorbar": {
             "outlinewidth": 0,
             "ticks": ""
            },
            "type": "mesh3d"
           }
          ],
          "parcoords": [
           {
            "line": {
             "colorbar": {
              "outlinewidth": 0,
              "ticks": ""
             }
            },
            "type": "parcoords"
           }
          ],
          "pie": [
           {
            "automargin": true,
            "type": "pie"
           }
          ],
          "scatter": [
           {
            "fillpattern": {
             "fillmode": "overlay",
             "size": 10,
             "solidity": 0.2
            },
            "type": "scatter"
           }
          ],
          "scatter3d": [
           {
            "line": {
             "colorbar": {
              "outlinewidth": 0,
              "ticks": ""
             }
            },
            "marker": {
             "colorbar": {
              "outlinewidth": 0,
              "ticks": ""
             }
            },
            "type": "scatter3d"
           }
          ],
          "scattercarpet": [
           {
            "marker": {
             "colorbar": {
              "outlinewidth": 0,
              "ticks": ""
             }
            },
            "type": "scattercarpet"
           }
          ],
          "scattergeo": [
           {
            "marker": {
             "colorbar": {
              "outlinewidth": 0,
              "ticks": ""
             }
            },
            "type": "scattergeo"
           }
          ],
          "scattergl": [
           {
            "marker": {
             "colorbar": {
              "outlinewidth": 0,
              "ticks": ""
             }
            },
            "type": "scattergl"
           }
          ],
          "scattermap": [
           {
            "marker": {
             "colorbar": {
              "outlinewidth": 0,
              "ticks": ""
             }
            },
            "type": "scattermap"
           }
          ],
          "scattermapbox": [
           {
            "marker": {
             "colorbar": {
              "outlinewidth": 0,
              "ticks": ""
             }
            },
            "type": "scattermapbox"
           }
          ],
          "scatterpolar": [
           {
            "marker": {
             "colorbar": {
              "outlinewidth": 0,
              "ticks": ""
             }
            },
            "type": "scatterpolar"
           }
          ],
          "scatterpolargl": [
           {
            "marker": {
             "colorbar": {
              "outlinewidth": 0,
              "ticks": ""
             }
            },
            "type": "scatterpolargl"
           }
          ],
          "scatterternary": [
           {
            "marker": {
             "colorbar": {
              "outlinewidth": 0,
              "ticks": ""
             }
            },
            "type": "scatterternary"
           }
          ],
          "surface": [
           {
            "colorbar": {
             "outlinewidth": 0,
             "ticks": ""
            },
            "colorscale": [
             [
              0,
              "#0d0887"
             ],
             [
              0.1111111111111111,
              "#46039f"
             ],
             [
              0.2222222222222222,
              "#7201a8"
             ],
             [
              0.3333333333333333,
              "#9c179e"
             ],
             [
              0.4444444444444444,
              "#bd3786"
             ],
             [
              0.5555555555555556,
              "#d8576b"
             ],
             [
              0.6666666666666666,
              "#ed7953"
             ],
             [
              0.7777777777777778,
              "#fb9f3a"
             ],
             [
              0.8888888888888888,
              "#fdca26"
             ],
             [
              1,
              "#f0f921"
             ]
            ],
            "type": "surface"
           }
          ],
          "table": [
           {
            "cells": {
             "fill": {
              "color": "#EBF0F8"
             },
             "line": {
              "color": "white"
             }
            },
            "header": {
             "fill": {
              "color": "#C8D4E3"
             },
             "line": {
              "color": "white"
             }
            },
            "type": "table"
           }
          ]
         },
         "layout": {
          "annotationdefaults": {
           "arrowcolor": "#2a3f5f",
           "arrowhead": 0,
           "arrowwidth": 1
          },
          "autotypenumbers": "strict",
          "coloraxis": {
           "colorbar": {
            "outlinewidth": 0,
            "ticks": ""
           }
          },
          "colorscale": {
           "diverging": [
            [
             0,
             "#8e0152"
            ],
            [
             0.1,
             "#c51b7d"
            ],
            [
             0.2,
             "#de77ae"
            ],
            [
             0.3,
             "#f1b6da"
            ],
            [
             0.4,
             "#fde0ef"
            ],
            [
             0.5,
             "#f7f7f7"
            ],
            [
             0.6,
             "#e6f5d0"
            ],
            [
             0.7,
             "#b8e186"
            ],
            [
             0.8,
             "#7fbc41"
            ],
            [
             0.9,
             "#4d9221"
            ],
            [
             1,
             "#276419"
            ]
           ],
           "sequential": [
            [
             0,
             "#0d0887"
            ],
            [
             0.1111111111111111,
             "#46039f"
            ],
            [
             0.2222222222222222,
             "#7201a8"
            ],
            [
             0.3333333333333333,
             "#9c179e"
            ],
            [
             0.4444444444444444,
             "#bd3786"
            ],
            [
             0.5555555555555556,
             "#d8576b"
            ],
            [
             0.6666666666666666,
             "#ed7953"
            ],
            [
             0.7777777777777778,
             "#fb9f3a"
            ],
            [
             0.8888888888888888,
             "#fdca26"
            ],
            [
             1,
             "#f0f921"
            ]
           ],
           "sequentialminus": [
            [
             0,
             "#0d0887"
            ],
            [
             0.1111111111111111,
             "#46039f"
            ],
            [
             0.2222222222222222,
             "#7201a8"
            ],
            [
             0.3333333333333333,
             "#9c179e"
            ],
            [
             0.4444444444444444,
             "#bd3786"
            ],
            [
             0.5555555555555556,
             "#d8576b"
            ],
            [
             0.6666666666666666,
             "#ed7953"
            ],
            [
             0.7777777777777778,
             "#fb9f3a"
            ],
            [
             0.8888888888888888,
             "#fdca26"
            ],
            [
             1,
             "#f0f921"
            ]
           ]
          },
          "colorway": [
           "#636efa",
           "#EF553B",
           "#00cc96",
           "#ab63fa",
           "#FFA15A",
           "#19d3f3",
           "#FF6692",
           "#B6E880",
           "#FF97FF",
           "#FECB52"
          ],
          "font": {
           "color": "#2a3f5f"
          },
          "geo": {
           "bgcolor": "white",
           "lakecolor": "white",
           "landcolor": "#E5ECF6",
           "showlakes": true,
           "showland": true,
           "subunitcolor": "white"
          },
          "hoverlabel": {
           "align": "left"
          },
          "hovermode": "closest",
          "mapbox": {
           "style": "light"
          },
          "paper_bgcolor": "white",
          "plot_bgcolor": "#E5ECF6",
          "polar": {
           "angularaxis": {
            "gridcolor": "white",
            "linecolor": "white",
            "ticks": ""
           },
           "bgcolor": "#E5ECF6",
           "radialaxis": {
            "gridcolor": "white",
            "linecolor": "white",
            "ticks": ""
           }
          },
          "scene": {
           "xaxis": {
            "backgroundcolor": "#E5ECF6",
            "gridcolor": "white",
            "gridwidth": 2,
            "linecolor": "white",
            "showbackground": true,
            "ticks": "",
            "zerolinecolor": "white"
           },
           "yaxis": {
            "backgroundcolor": "#E5ECF6",
            "gridcolor": "white",
            "gridwidth": 2,
            "linecolor": "white",
            "showbackground": true,
            "ticks": "",
            "zerolinecolor": "white"
           },
           "zaxis": {
            "backgroundcolor": "#E5ECF6",
            "gridcolor": "white",
            "gridwidth": 2,
            "linecolor": "white",
            "showbackground": true,
            "ticks": "",
            "zerolinecolor": "white"
           }
          },
          "shapedefaults": {
           "line": {
            "color": "#2a3f5f"
           }
          },
          "ternary": {
           "aaxis": {
            "gridcolor": "white",
            "linecolor": "white",
            "ticks": ""
           },
           "baxis": {
            "gridcolor": "white",
            "linecolor": "white",
            "ticks": ""
           },
           "bgcolor": "#E5ECF6",
           "caxis": {
            "gridcolor": "white",
            "linecolor": "white",
            "ticks": ""
           }
          },
          "title": {
           "x": 0.05
          },
          "xaxis": {
           "automargin": true,
           "gridcolor": "white",
           "linecolor": "white",
           "ticks": "",
           "title": {
            "standoff": 15
           },
           "zerolinecolor": "white",
           "zerolinewidth": 2
          },
          "yaxis": {
           "automargin": true,
           "gridcolor": "white",
           "linecolor": "white",
           "ticks": "",
           "title": {
            "standoff": 15
           },
           "zerolinecolor": "white",
           "zerolinewidth": 2
          }
         }
        },
        "title": {
         "text": ""
        },
        "width": 1000
       }
      }
     },
     "metadata": {},
     "output_type": "display_data"
    },
    {
     "name": "stdout",
     "output_type": "stream",
     "text": [
      "\n",
      "Image saved in PDF format (transparent background, minimal margins) : data/fig_image/ifa_M_opti3_Smith_chart.pdf\n",
      "\n",
      "\n",
      "📡 Simulation results:\n",
      "→ Resonance frequency = 884.00 MHz\n",
      "→ Impedance at f_res  = 48.36+0.20j Ω\n"
     ]
    },
    {
     "data": {
      "image/png": "[encoded data removed]",
      "text/plain": [
       "<Figure size 1200x741.641 with 1 Axes>"
      ]
     },
     "metadata": {},
     "output_type": "display_data"
    },
    {
     "name": "stdout",
     "output_type": "stream",
     "text": [
      "\n",
      "Ratio = 1.0184331797235022\n",
      "\n",
      "\n",
      "We are within 2% of fc!\n",
      "\n",
      "\n",
      "------------------------------------------------------Iteration N°4------------------------------------------------------\n",
      "\n",
      "distance meanders = 5.400 mm\n",
      "\n",
      "Number of meanders = 2\n",
      "\n",
      "New distance meanders = 8.100 mm\n",
      "IFA track width = 5.400 mm\n",
      "feed position = 33.552 mm\n",
      "\n",
      "Simulation 1/101 | f = 700.00 MHz | S11 = -0.68 dB\n",
      "Simulation 2/101 | f = 704.00 MHz | S11 = -0.73 dB\n",
      "Simulation 3/101 | f = 708.00 MHz | S11 = -0.77 dB\n",
      "Simulation 4/101 | f = 712.00 MHz | S11 = -0.82 dB\n",
      "Simulation 5/101 | f = 716.00 MHz | S11 = -0.87 dB\n",
      "Simulation 6/101 | f = 720.00 MHz | S11 = -0.93 dB\n",
      "Simulation 7/101 | f = 724.00 MHz | S11 = -0.99 dB\n",
      "Simulation 8/101 | f = 728.00 MHz | S11 = -1.05 dB\n",
      "Simulation 9/101 | f = 732.00 MHz | S11 = -1.12 dB\n",
      "Simulation 10/101 | f = 736.00 MHz | S11 = -1.20 dB\n",
      "Simulation 11/101 | f = 740.00 MHz | S11 = -1.28 dB\n",
      "Simulation 12/101 | f = 744.00 MHz | S11 = -1.37 dB\n",
      "Simulation 13/101 | f = 748.00 MHz | S11 = -1.46 dB\n",
      "Simulation 14/101 | f = 752.00 MHz | S11 = -1.56 dB\n",
      "Simulation 15/101 | f = 756.00 MHz | S11 = -1.68 dB\n",
      "Simulation 16/101 | f = 760.00 MHz | S11 = -1.80 dB\n",
      "Simulation 17/101 | f = 764.00 MHz | S11 = -1.93 dB\n",
      "Simulation 18/101 | f = 768.00 MHz | S11 = -2.07 dB\n",
      "Simulation 19/101 | f = 772.00 MHz | S11 = -2.23 dB\n",
      "Simulation 20/101 | f = 776.00 MHz | S11 = -2.40 dB\n",
      "Simulation 21/101 | f = 780.00 MHz | S11 = -2.58 dB\n",
      "Simulation 22/101 | f = 784.00 MHz | S11 = -2.79 dB\n",
      "Simulation 23/101 | f = 788.00 MHz | S11 = -3.01 dB\n",
      "Simulation 24/101 | f = 792.00 MHz | S11 = -3.25 dB\n",
      "Simulation 25/101 | f = 796.00 MHz | S11 = -3.52 dB\n",
      "Simulation 26/101 | f = 800.00 MHz | S11 = -3.81 dB\n",
      "Simulation 27/101 | f = 804.00 MHz | S11 = -4.14 dB\n",
      "Simulation 28/101 | f = 808.00 MHz | S11 = -4.49 dB\n",
      "Simulation 29/101 | f = 812.00 MHz | S11 = -4.88 dB\n",
      "Simulation 30/101 | f = 816.00 MHz | S11 = -5.32 dB\n",
      "Simulation 31/101 | f = 820.00 MHz | S11 = -5.80 dB\n",
      "Simulation 32/101 | f = 824.00 MHz | S11 = -6.34 dB\n",
      "Simulation 33/101 | f = 828.00 MHz | S11 = -6.93 dB\n",
      "Simulation 34/101 | f = 832.00 MHz | S11 = -7.60 dB\n",
      "Simulation 35/101 | f = 836.00 MHz | S11 = -8.36 dB\n",
      "Simulation 36/101 | f = 840.00 MHz | S11 = -9.21 dB\n",
      "Simulation 37/101 | f = 844.00 MHz | S11 = -10.19 dB\n",
      "Simulation 38/101 | f = 848.00 MHz | S11 = -11.32 dB\n",
      "Simulation 39/101 | f = 852.00 MHz | S11 = -12.64 dB\n",
      "Simulation 40/101 | f = 856.00 MHz | S11 = -14.23 dB\n",
      "Simulation 41/101 | f = 860.00 MHz | S11 = -16.19 dB\n",
      "Simulation 42/101 | f = 864.00 MHz | S11 = -18.72 dB\n"
     ]
    },
    {
     "data": {
      "application/vnd.plotly.v1+json": {
       "config": {
        "plotlyServerURL": "https://plot.ly"
       },
       "data": [
        {
         "facecolor": [
          "rgb(232, 239, 0)",
          "rgb(25, 0, 182)",
          "rgb(124, 0, 109)",
          "rgb(0, 100, 255)",
          "rgb(112, 0, 118)",
          "rgb(52, 0, 162)",
          "rgb(0, 120, 255)",
          "rgb(45, 255, 149)",
          "rgb(1, 154, 253)",
          "rgb(107, 0, 121)",
          "rgb(56, 0, 159)",
          "rgb(0, 109, 255)",
          "rgb(114, 0, 116)",
          "rgb(95, 0, 130)",
          "rgb(48, 0, 165)",
          "rgb(71, 0, 148)",
          "rgb(86, 0, 137)",
          "rgb(128, 0, 106)",
          "rgb(255, 170, 0)",
          "rgb(255, 220, 0)",
          "rgb(132, 0, 103)",
          "rgb(180, 249, 0)",
          "rgb(255, 185, 0)",
          "rgb(0, 24, 253)",
          "rgb(12, 180, 227)",
          "rgb(255, 0, 0)",
          "rgb(102, 0, 125)",
          "rgb(255, 164, 0)",
          "rgb(41, 247, 158)",
          "rgb(0, 11, 224)",
          "rgb(38, 241, 164)",
          "rgb(83, 255, 96)",
          "rgb(0, 124, 255)",
          "rgb(0, 137, 255)",
          "rgb(6, 165, 242)",
          "rgb(38, 241, 164)",
          "rgb(207, 244, 0)",
          "rgb(137, 255, 20)",
          "rgb(89, 0, 134)",
          "rgb(133, 0, 102)",
          "rgb(126, 0, 108)",
          "rgb(104, 0, 124)",
          "rgb(104, 0, 124)",
          "rgb(108, 0, 121)",
          "rgb(129, 0, 106)",
          "rgb(123, 0, 110)",
          "rgb(75, 0, 145)",
          "rgb(0, 11, 224)",
          "rgb(48, 0, 165)",
          "rgb(56, 0, 159)",
          "rgb(0, 3, 206)",
          "rgb(141, 0, 97)",
          "rgb(132, 0, 103)",
          "rgb(120, 0, 112)",
          "rgb(128, 0, 106)",
          "rgb(77, 0, 143)",
          "rgb(139, 0, 98)",
          "rgb(149, 0, 91)",
          "rgb(123, 0, 110)",
          "rgb(41, 0, 170)",
          "rgb(117, 0, 114)",
          "rgb(135, 0, 101)",
          "rgb(104, 0, 124)",
          "rgb(140, 0, 98)",
          "rgb(116, 0, 115)",
          "rgb(0, 10, 221)",
          "rgb(142, 0, 96)",
          "rgb(150, 0, 90)",
          "rgb(87, 0, 137)",
          "rgb(123, 0, 110)",
          "rgb(139, 0, 98)"
         ],
         "i": {
          "bdata": "CCcoJysnJi0OLi8PLRMlLjEoGQ0yDAgdGxgcGR4dAhodDgEBCQkSMykrMzUvKy81EC8iFSojKTEzFSkPLjITNjYtFDMSLBU=",
          "dtype": "i1"
         },
         "j": {
          "bdata": "ICUqJigABwAXJxAmLDAnJCMwISEqICEbHgIKAh8cAx8eBxcCIB8wMTQsIysoNREDLyIvMzIzKiQWMjEALDA2FBMDNhUoKDQ=",
          "dtype": "i1"
         },
         "k": {
          "bdata": "DSYpDywtDgMBLREOLhIuJSQqAggwCRkcGgELGBoLAAkbFxgACAwoNDEtMS0rLygiBQU1NDQENC4EFC4nKTYwMgY1BhYRKTI=",
          "dtype": "i1"
         },
         "name": "",
         "type": "mesh3d",
         "x": {
          "bdata": "AAAAAAAAAACC4seYu5aAP4Lix5i7loA/AAAAAAAAAACkcD0K16OwvwAAAAAAAAAApHA9CtejsL/ZzvdT46WLP9nO91PjpYs/rthfdk8elj+u2F92Tx6WP9nO91PjpZs/2c73U+Olmz+C4seYu5aAP4Lix5i7loA/AAAAAAAAAAAutMh2vp+Kvyi0yHa+n5q/IYcW2c73o781tMh2vp+qv6RwPQrXo7C/pHA9CtejsL+kcD0K16Owv9nO91PjpYs/2c73U+Oliz/ZzvdT46WLP67YX3ZPHpY/rthfdk8elj+u2F92Tx6WP9nO91PjpZs/2c73U+Olmz/ZzvdT46WbPxPgLZCg+JE/guLHmLuWgD8AAAAAAAAAAK62Yn/ZPam/EIxK6gQ0ob/hwmSqYFSSvyFtowG8BWK/1OC5DYwWhL9LqYaAShOgvwCHRKXUdqK/22vykFv2pb+aLMJQ+eaSv6NrXVhaiJm/tP8niQfrib93E3MOCLmav16yK+bltoy/Fawo/r2Yp7+EwDmxVU+kv04ABfGaxqu/4LHQ125nrL9EENegXwipv4yPbAXxBYO/v7eWoqUsrb8=",
          "dtype": "f8"
         },
         "y": {
          "bdata": "duzqOa+Poj927Oo5r4+iP8HiPZbKl58/weI9lsqXnz8pXI/C9SisPwAAAAAAAAAAAAAAAAAAAAApXI/C9SisP6/YX3ZPHnY/r9hfdk8edj8pXI/C9SisPylcj8L1KKw/AAAAAAAAMDwAAAAAAAAwPBNhw9MrZak/E2HD0ytlqT8AAAAAAAAAAAAAAAAAAAAAAAAAAAAAAAAAAAAAAAAAABhcj8L1KIw/I1yPwvUonD8dhetRuB6lP+SDns2qz6U/P1dbsb/snj+1pnnHKTqSP7WmeccpOpI/P1dbsb/snj/mg57Nqs+lPyOF61G4HqU/L1yPwvUonD8vXI/C9SiMPwAAAAAAADA8pOI9lsqXjz/d4j2WypePPylcj8L1KKw/KVyPwvUorD8pXI/C9SisPylcj8L1KKw/xM3LLcfppj8TpwU/8IyOP3M7maQmSp4/Wqov/kZHlT+hAIMo7e6VP8kHBGF3YZw/VcJ+BTtcoD9iHsN/qdekP6U5rLLhkoU/0uOOup4bhT9//A/JVIamP8+7COSUx5I/eFKuivGZpT+aDWh9ayCfP1yGtGXLgJY/JMfFtyD2fz8=",
          "dtype": "f8"
         },
         "z": {
          "bdata": "AAAAAAAAAAAAAAAAAAAAAAAAAAAAAAAAAAAAAAAAAAAAAAAAAAAAAAAAAAAAAAAAAAAAAAAAAAAAAAAAAAAAAAAAAAAAAAAAAAAAAAAAAAAAAAAAAAAAAAAAAAAAAAAAAAAAAAAAAAAAAAAAAAAAAAAAAAAAAAAAAAAAAAAAAAAAAAAAAAAAAAAAAAAAAAAAAAAAAAAAAAAAAAAAAAAAAAAAAAAAAAAAAAAAAAAAAAAAAAAAAAAAAAAAAAAAAAAAAAAAAAAAAAAAAAAAAAAAAAAAAAAAAAAAAAAAAAAAAAAAAAAAAAAAAAAAAAAAAAAAAAAAAAAAAAAAAAAAAAAAAAAAAAAAAAAAAAAAAAAAAAAAAAAAAAAAAAAAAAAAAAAAAAAAAAAAAAAAAAAAAAAAAAAAAAAAAAAAAAAAAAAAAAAAAAAAAAAAAAAAAAAAAAAAAAAAAAAAAAAAAAAAAAAAAAAAAAAAAAAAAAAAAAAAAAAAAAAAAAAAAAAAAAAAAAAAAAAAAAAAAAAAAAAAAAAAAAAAAAAAAAAAAAAAAAAAAAAAAAAAAAAAAAAAAAAAAAAAAAAAAAAAAAA=",
          "dtype": "f8"
         }
        },
        {
         "line": {
          "color": "rgb(50, 50, 50)",
          "width": 1.5
         },
         "mode": "lines",
         "showlegend": false,
         "type": "scatter3d",
         "x": [
          0.0135,
          0.01755000000000002,
          0.0081,
          0.0135,
          null,
          -0.009808630150687149,
          -0.01789999999999992,
          -0.002199999999999883,
          -0.009808630150687149,
          null,
          -0.0313971788303485,
          -0.04289518494007157,
          -0.03606285588672442,
          -0.0313971788303485,
          null,
          -0.009808630150687149,
          -0.002199999999999883,
          0,
          -0.009808630150687149,
          null,
          -0.018459220460994,
          -0.0313971788303485,
          -0.02493420757614796,
          -0.018459220460994,
          null,
          -0.009808630150687149,
          0,
          -0.01265531432454723,
          -0.009808630150687149,
          null,
          -0.002199999999999883,
          0.0135,
          0.0081,
          -0.002199999999999883,
          null,
          -0.01265531432454723,
          0,
          0,
          -0.01265531432454723,
          null,
          0.0081,
          0.0135,
          0.0081,
          0.0081,
          null,
          -0.02609646404450269,
          -0.009808630150687149,
          -0.01265531432454723,
          -0.02609646404450269,
          null,
          -0.01402072533297732,
          -0.01299999999999998,
          -0.02599999999999994,
          -0.01402072533297732,
          null,
          0,
          -0.002199999999999883,
          0.0081,
          0,
          null,
          -0.01265531432454723,
          -0.02493420757614796,
          -0.02609646404450269,
          -0.01265531432454723,
          null,
          -0.05199999999999997,
          -0.04608720519566859,
          -0.03899999999999993,
          -0.05199999999999997,
          null,
          -0.01789999999999992,
          -0.009808630150687149,
          -0.02609646404450269,
          -0.01789999999999992,
          null,
          -0.02609646404450269,
          -0.03359999999999996,
          -0.01789999999999992,
          -0.02609646404450269,
          null,
          -0.03966777599714624,
          -0.0493,
          -0.03359999999999996,
          -0.03966777599714624,
          null,
          -0.0313971788303485,
          -0.04608720519566859,
          -0.04289518494007157,
          -0.0313971788303485,
          null,
          0.0135,
          0.0081,
          0.0081,
          0.0135,
          null,
          0.0081,
          0.0081,
          0.0135,
          0.0081,
          null,
          -0.05424961273320204,
          -0.04289518494007157,
          -0.04608720519566859,
          -0.05424961273320204,
          null,
          0.027,
          0.01755000000000002,
          0.0216,
          0.027,
          null,
          0.0135,
          0.0081,
          0.0135,
          0.0135,
          null,
          0.027,
          0.0216,
          0.0216,
          0.027,
          null,
          0.0216,
          0.027,
          0.0216,
          0.0216,
          null,
          0.0135,
          0.0081,
          0.0081,
          0.0135,
          null,
          0.0216,
          0.0216,
          0.027,
          0.0216,
          null,
          0.0135,
          0.0081,
          0.0135,
          0.0135,
          null,
          0.027,
          0.027,
          0.0216,
          0.027,
          null,
          0.027,
          0.0216,
          0.027,
          0.027,
          null,
          0.0081,
          0,
          0,
          0.0081,
          null,
          0.0216,
          0.027,
          0.0216,
          0.0216,
          null,
          0.027,
          0.027,
          0.0216,
          0.027,
          null,
          0.0081,
          0.0135,
          0.0135,
          0.0081,
          null,
          0.0081,
          0.0135,
          0.0135,
          0.0081,
          null,
          0.0081,
          0.0081,
          0,
          0.0081,
          null,
          0.0216,
          0.01755000000000002,
          0.0135,
          0.0216,
          null,
          0.0216,
          0.027,
          0.027,
          0.0216,
          null,
          -0.03899999999999993,
          -0.04608720519566859,
          -0.0313971788303485,
          -0.03899999999999993,
          null,
          -0.05547663101637901,
          -0.03966777599714624,
          -0.0488920101011279,
          -0.05547663101637901,
          null,
          -0.03606285588672442,
          -0.0488920101011279,
          -0.03966777599714624,
          -0.03606285588672442,
          null,
          -0.018459220460994,
          -0.02493420757614796,
          -0.01265531432454723,
          -0.018459220460994,
          null,
          -0.05547663101637901,
          -0.0493,
          -0.03966777599714624,
          -0.05547663101637901,
          null,
          -0.009288676240949,
          -0.018459220460994,
          -0.01265531432454723,
          -0.009288676240949,
          null,
          -0.01402072533297732,
          -0.0313971788303485,
          -0.018459220460994,
          -0.01402072533297732,
          null,
          -0.018459220460994,
          -0.009288676240949,
          -0.01402072533297732,
          -0.018459220460994,
          null,
          -0.01402072533297732,
          -0.02599999999999994,
          -0.0313971788303485,
          -0.01402072533297732,
          null,
          -0.009288676240949,
          0,
          0,
          -0.009288676240949,
          null,
          -0.01299999999999998,
          -0.01402072533297732,
          0,
          -0.01299999999999998,
          null,
          -0.01402072533297732,
          0,
          0,
          -0.01402072533297732,
          null,
          0,
          -0.01402072533297732,
          -0.009288676240949,
          0,
          null,
          -0.065,
          -0.05547663101637901,
          -0.0488920101011279,
          -0.065,
          null,
          -0.04289518494007157,
          -0.05424961273320204,
          -0.0488920101011279,
          -0.04289518494007157,
          null,
          -0.0493,
          -0.05547663101637901,
          -0.065,
          -0.0493,
          null,
          -0.03606285588672442,
          -0.04289518494007157,
          -0.0488920101011279,
          -0.03606285588672442,
          null,
          -0.03966777599714624,
          -0.03359999999999996,
          -0.02609646404450269,
          -0.03966777599714624,
          null,
          -0.05547663101637901,
          -0.065,
          -0.065,
          -0.05547663101637901,
          null,
          -0.065,
          -0.05424961273320204,
          -0.065,
          -0.065,
          null,
          -0.03606285588672442,
          -0.03966777599714624,
          -0.02609646404450269,
          -0.03606285588672442,
          null,
          0,
          0,
          -0.009808630150687149,
          0,
          null,
          -0.02609646404450269,
          -0.02493420757614796,
          -0.03606285588672442,
          -0.02609646404450269,
          null,
          -0.05424961273320204,
          -0.04608720519566859,
          -0.05698125467038961,
          -0.05424961273320204,
          null,
          -0.05199999999999997,
          -0.05698125467038961,
          -0.04608720519566859,
          -0.05199999999999997,
          null,
          -0.05698125467038961,
          -0.065,
          -0.05424961273320204,
          -0.05698125467038961,
          null,
          -0.05698125467038961,
          -0.05199999999999997,
          -0.065,
          -0.05698125467038961,
          null,
          -0.01265531432454723,
          0,
          -0.009288676240949,
          -0.01265531432454723,
          null,
          -0.065,
          -0.05698125467038961,
          -0.065,
          -0.065,
          null,
          -0.05547663101637901,
          -0.065,
          -0.065,
          -0.05547663101637901,
          null,
          -0.03899999999999993,
          -0.0313971788303485,
          -0.02599999999999994,
          -0.03899999999999993,
          null,
          -0.02493420757614796,
          -0.0313971788303485,
          -0.03606285588672442,
          -0.02493420757614796,
          null,
          -0.065,
          -0.0488920101011279,
          -0.05424961273320204,
          -0.065,
          null
         ],
         "y": [
          0.005400000000000001,
          8.673617379884035e-19,
          8.673617379884035e-19,
          0.005400000000000001,
          null,
          0.04475233491930511,
          0.055,
          0.055,
          0.04475233491930511,
          null,
          0.01491725628212096,
          0.02077971388272668,
          0.02957973842267898,
          0.01491725628212096,
          null,
          0.04475233491930511,
          0.055,
          0.0496,
          0.04475233491930511,
          null,
          0.02141924438251464,
          0.01491725628212096,
          0.02771555452000721,
          0.02141924438251464,
          null,
          0.04475233491930511,
          0.03625247556689086,
          0.03195366327361585,
          0.04475233491930511,
          null,
          0.055,
          0.055,
          0.0496,
          0.055,
          null,
          0.03195366327361585,
          0.03625247556689086,
          0.03085247556689086,
          0.03195366327361585,
          null,
          0.0496,
          0.0426,
          0.03625247556689086,
          0.0496,
          null,
          0.04070787129017785,
          0.04475233491930511,
          0.03195366327361585,
          0.04070787129017785,
          null,
          0.01053406073108649,
          0,
          0,
          0.01053406073108649,
          null,
          0.0496,
          0.055,
          0.0496,
          0.0496,
          null,
          0.03195366327361585,
          0.02771555452000721,
          0.04070787129017785,
          0.03195366327361585,
          null,
          0,
          0.01030658728437742,
          0,
          0,
          null,
          0.055,
          0.04475233491930511,
          0.04070787129017785,
          0.055,
          null,
          0.04070787129017785,
          0.055,
          0.055,
          0.04070787129017785,
          null,
          0.04399361566901749,
          0.055,
          0.055,
          0.04399361566901749,
          null,
          0.01491725628212096,
          0.01030658728437742,
          0.02077971388272668,
          0.01491725628212096,
          null,
          0.0178,
          0.01542623778344538,
          0.03085247556689086,
          0.0178,
          null,
          8.673617379884035e-19,
          0.01542623778344538,
          0.005400000000000001,
          8.673617379884035e-19,
          null,
          0.01833946840104855,
          0.02077971388272668,
          0.01030658728437742,
          0.01833946840104855,
          null,
          8.673617379884035e-19,
          8.673617379884035e-19,
          0.005400000000000001,
          8.673617379884035e-19,
          null,
          0.005400000000000001,
          0.01542623778344538,
          0.0178,
          0.005400000000000001,
          null,
          0.04125000000000003,
          0.0302,
          0.04260000000000001,
          0.04125000000000003,
          null,
          0.0302,
          0.02750000000000002,
          0.0178,
          0.0302,
          null,
          0.0302,
          0.03085247556689086,
          0.03625247556689086,
          0.0302,
          null,
          0.04260000000000001,
          0.055,
          0.055,
          0.04260000000000001,
          null,
          0.0178,
          0.03085247556689086,
          0.0302,
          0.0178,
          null,
          0.02750000000000002,
          0.01375000000000001,
          0.0178,
          0.02750000000000002,
          null,
          0.04125000000000003,
          0.04260000000000001,
          0.055,
          0.04125000000000003,
          null,
          0.03085247556689086,
          0.03085247556689086,
          0.03625247556689086,
          0.03085247556689086,
          null,
          0.0178,
          0.01375000000000001,
          0.005400000000000001,
          0.0178,
          null,
          0.04125000000000003,
          0.02750000000000002,
          0.0302,
          0.04125000000000003,
          null,
          0.0496,
          0.055,
          0.0426,
          0.0496,
          null,
          0.03625247556689086,
          0.0426,
          0.0302,
          0.03625247556689086,
          null,
          0.03625247556689086,
          0.03085247556689086,
          0.03625247556689086,
          0.03625247556689086,
          null,
          0.005400000000000001,
          8.673617379884035e-19,
          0.005400000000000001,
          0.005400000000000001,
          null,
          0.005400000000000001,
          0.01375000000000001,
          8.673617379884035e-19,
          0.005400000000000001,
          null,
          0,
          0.01030658728437742,
          0.01491725628212096,
          0,
          null,
          0.04219012086756363,
          0.04399361566901749,
          0.0303971095363643,
          0.04219012086756363,
          null,
          0.02957973842267898,
          0.0303971095363643,
          0.04399361566901749,
          0.02957973842267898,
          null,
          0.02141924438251464,
          0.02771555452000721,
          0.03195366327361585,
          0.02141924438251464,
          null,
          0.04219012086756363,
          0.055,
          0.04399361566901749,
          0.04219012086756363,
          null,
          0.0219756871057427,
          0.02141924438251464,
          0.03195366327361585,
          0.0219756871057427,
          null,
          0.01053406073108649,
          0.01491725628212096,
          0.02141924438251464,
          0.01053406073108649,
          null,
          0.02141924438251464,
          0.0219756871057427,
          0.01053406073108649,
          0.02141924438251464,
          null,
          0.01053406073108649,
          0,
          0.01491725628212096,
          0.01053406073108649,
          null,
          0.0219756871057427,
          0.03085247556689086,
          0.01542623778344548,
          0.0219756871057427,
          null,
          0,
          0.01053406073108649,
          0,
          0,
          null,
          0.01053406073108649,
          0.01542623778344548,
          0,
          0.01053406073108649,
          null,
          0.01542623778344548,
          0.01053406073108649,
          0.0219756871057427,
          0.01542623778344548,
          null,
          0.02749999999999998,
          0.04219012086756363,
          0.0303971095363643,
          0.02749999999999998,
          null,
          0.02077971388272668,
          0.01833946840104855,
          0.0303971095363643,
          0.02077971388272668,
          null,
          0.055,
          0.04219012086756363,
          0.055,
          0.055,
          null,
          0.02957973842267898,
          0.02077971388272668,
          0.0303971095363643,
          0.02957973842267898,
          null,
          0.04399361566901749,
          0.055,
          0.04070787129017785,
          0.04399361566901749,
          null,
          0.04219012086756363,
          0.04124999999999999,
          0.055,
          0.04219012086756363,
          null,
          0.02749999999999998,
          0.01833946840104855,
          0.01374999999999997,
          0.02749999999999998,
          null,
          0.02957973842267898,
          0.04399361566901749,
          0.04070787129017785,
          0.02957973842267898,
          null,
          0.0496,
          0.03625247556689086,
          0.04475233491930511,
          0.0496,
          null,
          0.04070787129017785,
          0.02771555452000721,
          0.02957973842267898,
          0.04070787129017785,
          null,
          0.01833946840104855,
          0.01030658728437742,
          0.007803085140368347,
          0.01833946840104855,
          null,
          0,
          0.007803085140368347,
          0.01030658728437742,
          0,
          null,
          0.007803085140368347,
          0.01374999999999997,
          0.01833946840104855,
          0.007803085140368347,
          null,
          0.007803085140368347,
          0,
          0,
          0.007803085140368347,
          null,
          0.03195366327361585,
          0.03085247556689086,
          0.0219756871057427,
          0.03195366327361585,
          null,
          0.01374999999999997,
          0.007803085140368347,
          0,
          0.01374999999999997,
          null,
          0.04219012086756363,
          0.02749999999999998,
          0.04124999999999999,
          0.04219012086756363,
          null,
          0,
          0.01491725628212096,
          0,
          0,
          null,
          0.02771555452000721,
          0.01491725628212096,
          0.02957973842267898,
          0.02771555452000721,
          null,
          0.02749999999999998,
          0.0303971095363643,
          0.01833946840104855,
          0.02749999999999998,
          null
         ],
         "z": [
          0,
          0,
          0,
          0,
          null,
          0,
          0,
          0,
          0,
          null,
          0,
          0,
          0,
          0,
          null,
          0,
          0,
          0,
          0,
          null,
          0,
          0,
          0,
          0,
          null,
          0,
          0,
          0,
          0,
          null,
          0,
          0,
          0,
          0,
          null,
          0,
          0,
          0,
          0,
          null,
          0,
          0,
          0,
          0,
          null,
          0,
          0,
          0,
          0,
          null,
          0,
          0,
          0,
          0,
          null,
          0,
          0,
          0,
          0,
          null,
          0,
          0,
          0,
          0,
          null,
          0,
          0,
          0,
          0,
          null,
          0,
          0,
          0,
          0,
          null,
          0,
          0,
          0,
          0,
          null,
          0,
          0,
          0,
          0,
          null,
          0,
          0,
          0,
          0,
          null,
          0,
          0,
          0,
          0,
          null,
          0,
          0,
          0,
          0,
          null,
          0,
          0,
          0,
          0,
          null,
          0,
          0,
          0,
          0,
          null,
          0,
          0,
          0,
          0,
          null,
          0,
          0,
          0,
          0,
          null,
          0,
          0,
          0,
          0,
          null,
          0,
          0,
          0,
          0,
          null,
          0,
          0,
          0,
          0,
          null,
          0,
          0,
          0,
          0,
          null,
          0,
          0,
          0,
          0,
          null,
          0,
          0,
          0,
          0,
          null,
          0,
          0,
          0,
          0,
          null,
          0,
          0,
          0,
          0,
          null,
          0,
          0,
          0,
          0,
          null,
          0,
          0,
          0,
          0,
          null,
          0,
          0,
          0,
          0,
          null,
          0,
          0,
          0,
          0,
          null,
          0,
          0,
          0,
          0,
          null,
          0,
          0,
          0,
          0,
          null,
          0,
          0,
          0,
          0,
          null,
          0,
          0,
          0,
          0,
          null,
          0,
          0,
          0,
          0,
          null,
          0,
          0,
          0,
          0,
          null,
          0,
          0,
          0,
          0,
          null,
          0,
          0,
          0,
          0,
          null,
          0,
          0,
          0,
          0,
          null,
          0,
          0,
          0,
          0,
          null,
          0,
          0,
          0,
          0,
          null,
          0,
          0,
          0,
          0,
          null,
          0,
          0,
          0,
          0,
          null,
          0,
          0,
          0,
          0,
          null,
          0,
          0,
          0,
          0,
          null,
          0,
          0,
          0,
          0,
          null,
          0,
          0,
          0,
          0,
          null,
          0,
          0,
          0,
          0,
          null,
          0,
          0,
          0,
          0,
          null,
          0,
          0,
          0,
          0,
          null,
          0,
          0,
          0,
          0,
          null,
          0,
          0,
          0,
          0,
          null,
          0,
          0,
          0,
          0,
          null,
          0,
          0,
          0,
          0,
          null,
          0,
          0,
          0,
          0,
          null,
          0,
          0,
          0,
          0,
          null,
          0,
          0,
          0,
          0,
          null,
          0,
          0,
          0,
          0,
          null,
          0,
          0,
          0,
          0,
          null,
          0,
          0,
          0,
          0,
          null,
          0,
          0,
          0,
          0,
          null,
          0,
          0,
          0,
          0,
          null,
          0,
          0,
          0,
          0,
          null,
          0,
          0,
          0,
          0,
          null,
          0,
          0,
          0,
          0,
          null
         ]
        },
        {
         "hoverinfo": "none",
         "marker": {
          "color": [
           0.015415699879048674,
           3.6503542585750663
          ],
          "colorscale": [
           [
            0,
            "rgb(150, 0, 90)"
           ],
           [
            0.125,
            "rgb(0, 0, 200)"
           ],
           [
            0.25,
            "rgb(0, 25, 255)"
           ],
           [
            0.375,
            "rgb(0, 152, 255)"
           ],
           [
            0.5,
            "rgb(44, 255, 150)"
           ],
           [
            0.625,
            "rgb(151, 255, 0)"
           ],
           [
            0.75,
            "rgb(255, 234, 0)"
           ],
           [
            0.875,
            "rgb(255, 111, 0)"
           ],
           [
            1,
            "rgb(255, 0, 0)"
           ]
          ],
          "showscale": true,
          "size": 0.1
         },
         "mode": "markers",
         "showlegend": false,
         "type": "scatter3d",
         "x": {
          "bdata": "AAAAAAAAAAA=",
          "dtype": "f8"
         },
         "y": {
          "bdata": "duzqOa+Poj8=",
          "dtype": "f8"
         },
         "z": {
          "bdata": "AAAAAAAAAAA=",
          "dtype": "f8"
         }
        },
        {
         "marker": {
          "color": "red",
          "size": 6,
          "symbol": "circle"
         },
         "mode": "markers+text",
         "name": "Feed Point(s)",
         "type": "scatter3d",
         "x": {
          "bdata": "AAAAAAAAAAA=",
          "dtype": "f8"
         },
         "y": {
          "bdata": "6+6EQsotoT8=",
          "dtype": "f8"
         },
         "z": {
          "bdata": "AAAAAAAAAAA=",
          "dtype": "f8"
         }
        }
       ],
       "layout": {
        "height": 800,
        "legend": {
         "bgcolor": "rgba(255,255,255,0.7)",
         "bordercolor": "lightgray",
         "borderwidth": 1,
         "x": 0.2,
         "xanchor": "left",
         "y": 0.9,
         "yanchor": "top"
        },
        "scene": {
         "aspectratio": {
          "x": 1,
          "y": 0.5978260869565217,
          "z": 0.3
         },
         "camera": {
          "eye": {
           "x": 0.65,
           "y": 0.65,
           "z": 0.65
          }
         },
         "xaxis": {
          "backgroundcolor": "rgb(230, 230, 230)",
          "gridcolor": "rgb(255, 255, 255)",
          "showbackground": true,
          "zerolinecolor": "rgb(255, 255, 255)"
         },
         "yaxis": {
          "backgroundcolor": "rgb(230, 230, 230)",
          "gridcolor": "rgb(255, 255, 255)",
          "showbackground": true,
          "zerolinecolor": "rgb(255, 255, 255)"
         },
         "zaxis": {
          "backgroundcolor": "rgb(230, 230, 230)",
          "gridcolor": "rgb(255, 255, 255)",
          "showbackground": true,
          "zerolinecolor": "rgb(255, 255, 255)"
         }
        },
        "template": {
         "data": {
          "bar": [
           {
            "error_x": {
             "color": "#2a3f5f"
            },
            "error_y": {
             "color": "#2a3f5f"
            },
            "marker": {
             "line": {
              "color": "#E5ECF6",
              "width": 0.5
             },
             "pattern": {
              "fillmode": "overlay",
              "size": 10,
              "solidity": 0.2
             }
            },
            "type": "bar"
           }
          ],
          "barpolar": [
           {
            "marker": {
             "line": {
              "color": "#E5ECF6",
              "width": 0.5
             },
             "pattern": {
              "fillmode": "overlay",
              "size": 10,
              "solidity": 0.2
             }
            },
            "type": "barpolar"
           }
          ],
          "carpet": [
           {
            "aaxis": {
             "endlinecolor": "#2a3f5f",
             "gridcolor": "white",
             "linecolor": "white",
             "minorgridcolor": "white",
             "startlinecolor": "#2a3f5f"
            },
            "baxis": {
             "endlinecolor": "#2a3f5f",
             "gridcolor": "white",
             "linecolor": "white",
             "minorgridcolor": "white",
             "startlinecolor": "#2a3f5f"
            },
            "type": "carpet"
           }
          ],
          "choropleth": [
           {
            "colorbar": {
             "outlinewidth": 0,
             "ticks": ""
            },
            "type": "choropleth"
           }
          ],
          "contour": [
           {
            "colorbar": {
             "outlinewidth": 0,
             "ticks": ""
            },
            "colorscale": [
             [
              0,
              "#0d0887"
             ],
             [
              0.1111111111111111,
              "#46039f"
             ],
             [
              0.2222222222222222,
              "#7201a8"
             ],
             [
              0.3333333333333333,
              "#9c179e"
             ],
             [
              0.4444444444444444,
              "#bd3786"
             ],
             [
              0.5555555555555556,
              "#d8576b"
             ],
             [
              0.6666666666666666,
              "#ed7953"
             ],
             [
              0.7777777777777778,
              "#fb9f3a"
             ],
             [
              0.8888888888888888,
              "#fdca26"
             ],
             [
              1,
              "#f0f921"
             ]
            ],
            "type": "contour"
           }
          ],
          "contourcarpet": [
           {
            "colorbar": {
             "outlinewidth": 0,
             "ticks": ""
            },
            "type": "contourcarpet"
           }
          ],
          "heatmap": [
           {
            "colorbar": {
             "outlinewidth": 0,
             "ticks": ""
            },
            "colorscale": [
             [
              0,
              "#0d0887"
             ],
             [
              0.1111111111111111,
              "#46039f"
             ],
             [
              0.2222222222222222,
              "#7201a8"
             ],
             [
              0.3333333333333333,
              "#9c179e"
             ],
             [
              0.4444444444444444,
              "#bd3786"
             ],
             [
              0.5555555555555556,
              "#d8576b"
             ],
             [
              0.6666666666666666,
              "#ed7953"
             ],
             [
              0.7777777777777778,
              "#fb9f3a"
             ],
             [
              0.8888888888888888,
              "#fdca26"
             ],
             [
              1,
              "#f0f921"
             ]
            ],
            "type": "heatmap"
           }
          ],
          "histogram": [
           {
            "marker": {
             "pattern": {
              "fillmode": "overlay",
              "size": 10,
              "solidity": 0.2
             }
            },
            "type": "histogram"
           }
          ],
          "histogram2d": [
           {
            "colorbar": {
             "outlinewidth": 0,
             "ticks": ""
            },
            "colorscale": [
             [
              0,
              "#0d0887"
             ],
             [
              0.1111111111111111,
              "#46039f"
             ],
             [
              0.2222222222222222,
              "#7201a8"
             ],
             [
              0.3333333333333333,
              "#9c179e"
             ],
             [
              0.4444444444444444,
              "#bd3786"
             ],
             [
              0.5555555555555556,
              "#d8576b"
             ],
             [
              0.6666666666666666,
              "#ed7953"
             ],
             [
              0.7777777777777778,
              "#fb9f3a"
             ],
             [
              0.8888888888888888,
              "#fdca26"
             ],
             [
              1,
              "#f0f921"
             ]
            ],
            "type": "histogram2d"
           }
          ],
          "histogram2dcontour": [
           {
            "colorbar": {
             "outlinewidth": 0,
             "ticks": ""
            },
            "colorscale": [
             [
              0,
              "#0d0887"
             ],
             [
              0.1111111111111111,
              "#46039f"
             ],
             [
              0.2222222222222222,
              "#7201a8"
             ],
             [
              0.3333333333333333,
              "#9c179e"
             ],
             [
              0.4444444444444444,
              "#bd3786"
             ],
             [
              0.5555555555555556,
              "#d8576b"
             ],
             [
              0.6666666666666666,
              "#ed7953"
             ],
             [
              0.7777777777777778,
              "#fb9f3a"
             ],
             [
              0.8888888888888888,
              "#fdca26"
             ],
             [
              1,
              "#f0f921"
             ]
            ],
            "type": "histogram2dcontour"
           }
          ],
          "mesh3d": [
           {
            "colorbar": {
             "outlinewidth": 0,
             "ticks": ""
            },
            "type": "mesh3d"
           }
          ],
          "parcoords": [
           {
            "line": {
             "colorbar": {
              "outlinewidth": 0,
              "ticks": ""
             }
            },
            "type": "parcoords"
           }
          ],
          "pie": [
           {
            "automargin": true,
            "type": "pie"
           }
          ],
          "scatter": [
           {
            "fillpattern": {
             "fillmode": "overlay",
             "size": 10,
             "solidity": 0.2
            },
            "type": "scatter"
           }
          ],
          "scatter3d": [
           {
            "line": {
             "colorbar": {
              "outlinewidth": 0,
              "ticks": ""
             }
            },
            "marker": {
             "colorbar": {
              "outlinewidth": 0,
              "ticks": ""
             }
            },
            "type": "scatter3d"
           }
          ],
          "scattercarpet": [
           {
            "marker": {
             "colorbar": {
              "outlinewidth": 0,
              "ticks": ""
             }
            },
            "type": "scattercarpet"
           }
          ],
          "scattergeo": [
           {
            "marker": {
             "colorbar": {
              "outlinewidth": 0,
              "ticks": ""
             }
            },
            "type": "scattergeo"
           }
          ],
          "scattergl": [
           {
            "marker": {
             "colorbar": {
              "outlinewidth": 0,
              "ticks": ""
             }
            },
            "type": "scattergl"
           }
          ],
          "scattermap": [
           {
            "marker": {
             "colorbar": {
              "outlinewidth": 0,
              "ticks": ""
             }
            },
            "type": "scattermap"
           }
          ],
          "scattermapbox": [
           {
            "marker": {
             "colorbar": {
              "outlinewidth": 0,
              "ticks": ""
             }
            },
            "type": "scattermapbox"
           }
          ],
          "scatterpolar": [
           {
            "marker": {
             "colorbar": {
              "outlinewidth": 0,
              "ticks": ""
             }
            },
            "type": "scatterpolar"
           }
          ],
          "scatterpolargl": [
           {
            "marker": {
             "colorbar": {
              "outlinewidth": 0,
              "ticks": ""
             }
            },
            "type": "scatterpolargl"
           }
          ],
          "scatterternary": [
           {
            "marker": {
             "colorbar": {
              "outlinewidth": 0,
              "ticks": ""
             }
            },
            "type": "scatterternary"
           }
          ],
          "surface": [
           {
            "colorbar": {
             "outlinewidth": 0,
             "ticks": ""
            },
            "colorscale": [
             [
              0,
              "#0d0887"
             ],
             [
              0.1111111111111111,
              "#46039f"
             ],
             [
              0.2222222222222222,
              "#7201a8"
             ],
             [
              0.3333333333333333,
              "#9c179e"
             ],
             [
              0.4444444444444444,
              "#bd3786"
             ],
             [
              0.5555555555555556,
              "#d8576b"
             ],
             [
              0.6666666666666666,
              "#ed7953"
             ],
             [
              0.7777777777777778,
              "#fb9f3a"
             ],
             [
              0.8888888888888888,
              "#fdca26"
             ],
             [
              1,
              "#f0f921"
             ]
            ],
            "type": "surface"
           }
          ],
          "table": [
           {
            "cells": {
             "fill": {
              "color": "#EBF0F8"
             },
             "line": {
              "color": "white"
             }
            },
            "header": {
             "fill": {
              "color": "#C8D4E3"
             },
             "line": {
              "color": "white"
             }
            },
            "type": "table"
           }
          ]
         },
         "layout": {
          "annotationdefaults": {
           "arrowcolor": "#2a3f5f",
           "arrowhead": 0,
           "arrowwidth": 1
          },
          "autotypenumbers": "strict",
          "coloraxis": {
           "colorbar": {
            "outlinewidth": 0,
            "ticks": ""
           }
          },
          "colorscale": {
           "diverging": [
            [
             0,
             "#8e0152"
            ],
            [
             0.1,
             "#c51b7d"
            ],
            [
             0.2,
             "#de77ae"
            ],
            [
             0.3,
             "#f1b6da"
            ],
            [
             0.4,
             "#fde0ef"
            ],
            [
             0.5,
             "#f7f7f7"
            ],
            [
             0.6,
             "#e6f5d0"
            ],
            [
             0.7,
             "#b8e186"
            ],
            [
             0.8,
             "#7fbc41"
            ],
            [
             0.9,
             "#4d9221"
            ],
            [
             1,
             "#276419"
            ]
           ],
           "sequential": [
            [
             0,
             "#0d0887"
            ],
            [
             0.1111111111111111,
             "#46039f"
            ],
            [
             0.2222222222222222,
             "#7201a8"
            ],
            [
             0.3333333333333333,
             "#9c179e"
            ],
            [
             0.4444444444444444,
             "#bd3786"
            ],
            [
             0.5555555555555556,
             "#d8576b"
            ],
            [
             0.6666666666666666,
             "#ed7953"
            ],
            [
             0.7777777777777778,
             "#fb9f3a"
            ],
            [
             0.8888888888888888,
             "#fdca26"
            ],
            [
             1,
             "#f0f921"
            ]
           ],
           "sequentialminus": [
            [
             0,
             "#0d0887"
            ],
            [
             0.1111111111111111,
             "#46039f"
            ],
            [
             0.2222222222222222,
             "#7201a8"
            ],
            [
             0.3333333333333333,
             "#9c179e"
            ],
            [
             0.4444444444444444,
             "#bd3786"
            ],
            [
             0.5555555555555556,
             "#d8576b"
            ],
            [
             0.6666666666666666,
             "#ed7953"
            ],
            [
             0.7777777777777778,
             "#fb9f3a"
            ],
            [
             0.8888888888888888,
             "#fdca26"
            ],
            [
             1,
             "#f0f921"
            ]
           ]
          },
          "colorway": [
           "#636efa",
           "#EF553B",
           "#00cc96",
           "#ab63fa",
           "#FFA15A",
           "#19d3f3",
           "#FF6692",
           "#B6E880",
           "#FF97FF",
           "#FECB52"
          ],
          "font": {
           "color": "#2a3f5f"
          },
          "geo": {
           "bgcolor": "white",
           "lakecolor": "white",
           "landcolor": "#E5ECF6",
           "showlakes": true,
           "showland": true,
           "subunitcolor": "white"
          },
          "hoverlabel": {
           "align": "left"
          },
          "hovermode": "closest",
          "mapbox": {
           "style": "light"
          },
          "paper_bgcolor": "white",
          "plot_bgcolor": "#E5ECF6",
          "polar": {
           "angularaxis": {
            "gridcolor": "white",
            "linecolor": "white",
            "ticks": ""
           },
           "bgcolor": "#E5ECF6",
           "radialaxis": {
            "gridcolor": "white",
            "linecolor": "white",
            "ticks": ""
           }
          },
          "scene": {
           "xaxis": {
            "backgroundcolor": "#E5ECF6",
            "gridcolor": "white",
            "gridwidth": 2,
            "linecolor": "white",
            "showbackground": true,
            "ticks": "",
            "zerolinecolor": "white"
           },
           "yaxis": {
            "backgroundcolor": "#E5ECF6",
            "gridcolor": "white",
            "gridwidth": 2,
            "linecolor": "white",
            "showbackground": true,
            "ticks": "",
            "zerolinecolor": "white"
           },
           "zaxis": {
            "backgroundcolor": "#E5ECF6",
            "gridcolor": "white",
            "gridwidth": 2,
            "linecolor": "white",
            "showbackground": true,
            "ticks": "",
            "zerolinecolor": "white"
           }
          },
          "shapedefaults": {
           "line": {
            "color": "#2a3f5f"
           }
          },
          "ternary": {
           "aaxis": {
            "gridcolor": "white",
            "linecolor": "white",
            "ticks": ""
           },
           "baxis": {
            "gridcolor": "white",
            "linecolor": "white",
            "ticks": ""
           },
           "bgcolor": "#E5ECF6",
           "caxis": {
            "gridcolor": "white",
            "linecolor": "white",
            "ticks": ""
           }
          },
          "title": {
           "x": 0.05
          },
          "xaxis": {
           "automargin": true,
           "gridcolor": "white",
           "linecolor": "white",
           "ticks": "",
           "title": {
            "standoff": 15
           },
           "zerolinecolor": "white",
           "zerolinewidth": 2
          },
          "yaxis": {
           "automargin": true,
           "gridcolor": "white",
           "linecolor": "white",
           "ticks": "",
           "title": {
            "standoff": 15
           },
           "zerolinecolor": "white",
           "zerolinewidth": 2
          }
         }
        },
        "title": {
         "text": ""
        },
        "width": 800
       }
      }
     },
     "metadata": {},
     "output_type": "display_data"
    },
    {
     "name": "stdout",
     "output_type": "stream",
     "text": [
      "\n",
      "Image saved in PDF format: data/fig_image/ifa_M_opti3_antenna_surface_current_in_radiation_mode.pdf\n",
      "\n",
      "Simulation 43/101 | f = 868.00 MHz | S11 = -22.26 dB\n",
      "Simulation 44/101 | f = 872.00 MHz | S11 = -27.86 dB\n",
      "Simulation 45/101 | f = 876.00 MHz | S11 = -33.34 dB\n",
      "Simulation 46/101 | f = 880.00 MHz | S11 = -26.33 dB\n",
      "Simulation 47/101 | f = 884.00 MHz | S11 = -21.50 dB\n",
      "Simulation 48/101 | f = 888.00 MHz | S11 = -18.38 dB\n",
      "Simulation 49/101 | f = 892.00 MHz | S11 = -16.12 dB\n",
      "Simulation 50/101 | f = 896.00 MHz | S11 = -14.37 dB\n",
      "Simulation 51/101 | f = 900.00 MHz | S11 = -12.95 dB\n",
      "Simulation 52/101 | f = 904.00 MHz | S11 = -11.77 dB\n",
      "Simulation 53/101 | f = 908.00 MHz | S11 = -10.77 dB\n",
      "Simulation 54/101 | f = 912.00 MHz | S11 = -9.90 dB\n",
      "Simulation 55/101 | f = 916.00 MHz | S11 = -9.15 dB\n",
      "Simulation 56/101 | f = 920.00 MHz | S11 = -8.48 dB\n",
      "Simulation 57/101 | f = 924.00 MHz | S11 = -7.89 dB\n",
      "Simulation 58/101 | f = 928.00 MHz | S11 = -7.37 dB\n",
      "Simulation 59/101 | f = 932.00 MHz | S11 = -6.89 dB\n",
      "Simulation 60/101 | f = 936.00 MHz | S11 = -6.46 dB\n",
      "Simulation 61/101 | f = 940.00 MHz | S11 = -6.08 dB\n",
      "Simulation 62/101 | f = 944.00 MHz | S11 = -5.72 dB\n",
      "Simulation 63/101 | f = 948.00 MHz | S11 = -5.40 dB\n",
      "Simulation 64/101 | f = 952.00 MHz | S11 = -5.11 dB\n",
      "Simulation 65/101 | f = 956.00 MHz | S11 = -4.84 dB\n",
      "Simulation 66/101 | f = 960.00 MHz | S11 = -4.59 dB\n",
      "Simulation 67/101 | f = 964.00 MHz | S11 = -4.36 dB\n",
      "Simulation 68/101 | f = 968.00 MHz | S11 = -4.15 dB\n",
      "Simulation 69/101 | f = 972.00 MHz | S11 = -3.95 dB\n",
      "Simulation 70/101 | f = 976.00 MHz | S11 = -3.77 dB\n",
      "Simulation 71/101 | f = 980.00 MHz | S11 = -3.60 dB\n",
      "Simulation 72/101 | f = 984.00 MHz | S11 = -3.44 dB\n",
      "Simulation 73/101 | f = 988.00 MHz | S11 = -3.29 dB\n",
      "Simulation 74/101 | f = 992.00 MHz | S11 = -3.16 dB\n",
      "Simulation 75/101 | f = 996.00 MHz | S11 = -3.03 dB\n",
      "Simulation 76/101 | f = 1000.00 MHz | S11 = -2.91 dB\n",
      "Simulation 77/101 | f = 1004.00 MHz | S11 = -2.79 dB\n",
      "Simulation 78/101 | f = 1008.00 MHz | S11 = -2.69 dB\n",
      "Simulation 79/101 | f = 1012.00 MHz | S11 = -2.59 dB\n",
      "Simulation 80/101 | f = 1016.00 MHz | S11 = -2.49 dB\n",
      "Simulation 81/101 | f = 1020.00 MHz | S11 = -2.40 dB\n",
      "Simulation 82/101 | f = 1024.00 MHz | S11 = -2.32 dB\n",
      "Simulation 83/101 | f = 1028.00 MHz | S11 = -2.24 dB\n",
      "Simulation 84/101 | f = 1032.00 MHz | S11 = -2.16 dB\n",
      "Simulation 85/101 | f = 1036.00 MHz | S11 = -2.09 dB\n",
      "Simulation 86/101 | f = 1040.00 MHz | S11 = -2.02 dB\n",
      "Simulation 87/101 | f = 1044.00 MHz | S11 = -1.96 dB\n",
      "Simulation 88/101 | f = 1048.00 MHz | S11 = -1.90 dB\n",
      "Simulation 89/101 | f = 1052.00 MHz | S11 = -1.84 dB\n",
      "Simulation 90/101 | f = 1056.00 MHz | S11 = -1.78 dB\n",
      "Simulation 91/101 | f = 1060.00 MHz | S11 = -1.73 dB\n",
      "Simulation 92/101 | f = 1064.00 MHz | S11 = -1.68 dB\n",
      "Simulation 93/101 | f = 1068.00 MHz | S11 = -1.63 dB\n",
      "Simulation 94/101 | f = 1072.00 MHz | S11 = -1.58 dB\n",
      "Simulation 95/101 | f = 1076.00 MHz | S11 = -1.54 dB\n",
      "Simulation 96/101 | f = 1080.00 MHz | S11 = -1.50 dB\n",
      "Simulation 97/101 | f = 1084.00 MHz | S11 = -1.46 dB\n",
      "Simulation 98/101 | f = 1088.00 MHz | S11 = -1.42 dB\n",
      "Simulation 99/101 | f = 1092.00 MHz | S11 = -1.38 dB\n",
      "Simulation 100/101 | f = 1096.00 MHz | S11 = -1.34 dB\n",
      "Simulation 101/101 | f = 1100.00 MHz | S11 = -1.31 dB\n"
     ]
    },
    {
     "data": {
      "application/vnd.plotly.v1+json": {
       "config": {
        "plotlyServerURL": "https://plot.ly"
       },
       "data": [
        {
         "hoverinfo": "text",
         "imag": [
          5.922282777407478,
          6.1867420925524765,
          6.464286465259088,
          6.74927464343762,
          7.031085854939885,
          7.291184028799588,
          7.499019901018204,
          7.6071391846248595,
          7.5474129531221035,
          7.233442696415072,
          6.577964465265077,
          5.5325208408082,
          4.1390222038523525,
          2.55267973908901,
          0.9957793147784167,
          -0.3366079983949954,
          -1.344471938329213,
          -2.0240694643514257,
          -2.428223385214549,
          -2.626416708845891,
          -2.6819737751786348,
          -2.644181784676078,
          -2.548294596254971,
          -2.4183084953102547,
          -2.270047084686358,
          -2.1137030310561045,
          -1.9557003872150551,
          -1.7999833089191812,
          -1.6488816882784965,
          -1.503683610132782,
          -1.3650109395934709,
          -1.2330647811136526,
          -1.1077855413982367,
          -0.9889570868124464,
          -0.8762742961382436,
          -0.7693866147917032,
          -0.6679258520113178,
          -0.5715236231284161,
          -0.47982198972691825,
          -0.3924796423399672,
          -0.30917517779347814,
          -0.2296085010371301,
          -0.08059519655051339,
          -0.010653427752377072,
          0.056543000152068756,
          0.12119530015162981,
          0.1834885056887025,
          0.24359278158615244,
          0.3016646778790313,
          0.35784830908301557,
          0.41227645050116224,
          0.4650715490517115,
          0.5163466498235638,
          0.5662062418346302,
          0.6147470277623639,
          0.662058623064328,
          0.7082241901298388,
          0.7533210130595367,
          0.7974210184560786,
          0.8405912473017352,
          0.8828942826388542,
          0.9243886373914101,
          0.9651291062897615,
          1.0051670854948933,
          1.0445508631770541,
          1.0833258839825985,
          1.1215349900299718,
          1.1592186408093963,
          1.1964151141163577,
          1.2331606899329004,
          1.269489818973331,
          1.3054352774354354,
          1.341028309341004,
          1.376298757710317,
          1.4112751856883836,
          1.4459849886317016,
          1.4804544980629308,
          1.514709078314892,
          1.5487732166054917,
          1.582670607216692,
          1.616424230388196,
          1.650056426482366,
          1.6835889659282364,
          1.7170431154092638,
          1.7504397007223949,
          1.7837991667019413,
          1.8171416345724858,
          1.850486957070049,
          1.8838547716476244,
          1.9172645520623581,
          1.950735658625024,
          1.9842873873781712,
          2.0179390184581982,
          2.0517098638863276,
          2.0856193150271722,
          2.1196868899466006,
          2.153932280898755,
          2.188375402168411,
          2.2230364384965378,
          2.2579358943168826
         ],
         "marker": {
          "color": "blue",
          "size": 4
         },
         "mode": "markers+lines",
         "name": "Impedance Points",
         "real": [
          1.5056499544301558,
          1.767060631985382,
          2.0861913142806183,
          2.477506201598764,
          2.9585365544459346,
          3.5494187748016874,
          4.2708556067424785,
          5.13891437607794,
          6.15445427369507,
          7.285667563336992,
          8.447077506825291,
          9.489725410316211,
          10.227672496248976,
          10.510490322182267,
          10.30075964367928,
          9.689256701197952,
          8.836306994735548,
          7.896660340107169,
          6.978559601786731,
          6.140240498152967,
          5.403750861928411,
          4.770258967658396,
          4.231015173702091,
          3.7737505857502587,
          3.3859164886602513,
          3.056094606091553,
          2.7744603378202406,
          2.5328019540104827,
          2.324357986291179,
          2.143600126866642,
          1.9860185661304113,
          1.847931901708088,
          1.7263274708789913,
          1.6187309255819398,
          1.523101278699996,
          1.4377470877425174,
          1.3612597285146442,
          1.292460290684792,
          1.2303572504447697,
          1.1741126419471035,
          1.1230149271013574,
          1.0764571510630505,
          0.99495384762073,
          0.95917426502147,
          0.9262452141568014,
          0.8958747586997222,
          0.8678078137669712,
          0.8418207244602065,
          0.8177167450484387,
          0.7953222537733925,
          0.7744835710198198,
          0.7550642744103958,
          0.7369429248077627,
          0.7200111334297035,
          0.7041719132180296,
          0.6893382679580017,
          0.6754319809685699,
          0.6623825719001925,
          0.6501263956165809,
          0.6386058615593381,
          0.6277687556045304,
          0.6175676493752494,
          0.6079593844038018,
          0.5989046205409272,
          0.5903674396668269,
          0.582314997135204,
          0.5747172145277311,
          0.567546508253481,
          0.5607775493307975,
          0.5543870503625545,
          0.5483535762846755,
          0.5426573759476531,
          0.5372802319982756,
          0.5322053268742554,
          0.527417123019784,
          0.5229012556812982,
          0.5186444368591302,
          0.5146343691753956,
          0.5108596685783967,
          0.5073097949414253,
          0.5039749897330946,
          0.5008462200398476,
          0.4979151283114134,
          0.4951739872786804,
          0.49261565956237363,
          0.490233561551564,
          0.48802163118461095,
          0.4859742993123713,
          0.48408646436599734,
          0.482353470089275,
          0.4807710861296016,
          0.4793354913126962,
          0.47804325945417053,
          0.47689134758752105,
          0.47587708651199195,
          0.4749981735869311,
          0.4742526677209149,
          0.47363898652496184,
          0.47315590561978355,
          0.4728025601073272
         ],
         "text": [
          "Z = 75.282+296.114j at 700.00 MHz",
          "Z = 88.353+309.337j at 704.00 MHz",
          "Z = 104.310+323.214j at 708.00 MHz",
          "Z = 123.875+337.464j at 712.00 MHz",
          "Z = 147.927+351.554j at 716.00 MHz",
          "Z = 177.471+364.559j at 720.00 MHz",
          "Z = 213.543+374.951j at 724.00 MHz",
          "Z = 256.946+380.357j at 728.00 MHz",
          "Z = 307.723+377.371j at 732.00 MHz",
          "Z = 364.283+361.672j at 736.00 MHz",
          "Z = 422.354+328.898j at 740.00 MHz",
          "Z = 474.486+276.626j at 744.00 MHz",
          "Z = 511.384+206.951j at 748.00 MHz",
          "Z = 525.525+127.634j at 752.00 MHz",
          "Z = 515.038+49.789j at 756.00 MHz",
          "Z = 484.463-16.830j at 760.00 MHz",
          "Z = 441.815-67.224j at 764.00 MHz",
          "Z = 394.833-101.203j at 768.00 MHz",
          "Z = 348.928-121.411j at 772.00 MHz",
          "Z = 307.012-131.321j at 776.00 MHz",
          "Z = 270.188-134.099j at 780.00 MHz",
          "Z = 238.513-132.209j at 784.00 MHz",
          "Z = 211.551-127.415j at 788.00 MHz",
          "Z = 188.688-120.915j at 792.00 MHz",
          "Z = 169.296-113.502j at 796.00 MHz",
          "Z = 152.805-105.685j at 800.00 MHz",
          "Z = 138.723-97.785j at 804.00 MHz",
          "Z = 126.640-89.999j at 808.00 MHz",
          "Z = 116.218-82.444j at 812.00 MHz",
          "Z = 107.180-75.184j at 816.00 MHz",
          "Z = 99.301-68.251j at 820.00 MHz",
          "Z = 92.397-61.653j at 824.00 MHz",
          "Z = 86.316-55.389j at 828.00 MHz",
          "Z = 80.937-49.448j at 832.00 MHz",
          "Z = 76.155-43.814j at 836.00 MHz",
          "Z = 71.887-38.469j at 840.00 MHz",
          "Z = 68.063-33.396j at 844.00 MHz",
          "Z = 64.623-28.576j at 848.00 MHz",
          "Z = 61.518-23.991j at 852.00 MHz",
          "Z = 58.706-19.624j at 856.00 MHz",
          "Z = 56.151-15.459j at 860.00 MHz",
          "Z = 53.823-11.480j at 864.00 MHz",
          "Z = 49.748-4.030j at 872.00 MHz",
          "Z = 47.959-0.533j at 876.00 MHz",
          "Z = 46.312+2.827j at 880.00 MHz",
          "Z = 44.794+6.060j at 884.00 MHz",
          "Z = 43.390+9.174j at 888.00 MHz",
          "Z = 42.091+12.180j at 892.00 MHz",
          "Z = 40.886+15.083j at 896.00 MHz",
          "Z = 39.766+17.892j at 900.00 MHz",
          "Z = 38.724+20.614j at 904.00 MHz",
          "Z = 37.753+23.254j at 908.00 MHz",
          "Z = 36.847+25.817j at 912.00 MHz",
          "Z = 36.001+28.310j at 916.00 MHz",
          "Z = 35.209+30.737j at 920.00 MHz",
          "Z = 34.467+33.103j at 924.00 MHz",
          "Z = 33.772+35.411j at 928.00 MHz",
          "Z = 33.119+37.666j at 932.00 MHz",
          "Z = 32.506+39.871j at 936.00 MHz",
          "Z = 31.930+42.030j at 940.00 MHz",
          "Z = 31.388+44.145j at 944.00 MHz",
          "Z = 30.878+46.219j at 948.00 MHz",
          "Z = 30.398+48.256j at 952.00 MHz",
          "Z = 29.945+50.258j at 956.00 MHz",
          "Z = 29.518+52.228j at 960.00 MHz",
          "Z = 29.116+54.166j at 964.00 MHz",
          "Z = 28.736+56.077j at 968.00 MHz",
          "Z = 28.377+57.961j at 972.00 MHz",
          "Z = 28.039+59.821j at 976.00 MHz",
          "Z = 27.719+61.658j at 980.00 MHz",
          "Z = 27.418+63.474j at 984.00 MHz",
          "Z = 27.133+65.272j at 988.00 MHz",
          "Z = 26.864+67.051j at 992.00 MHz",
          "Z = 26.610+68.815j at 996.00 MHz",
          "Z = 26.371+70.564j at 1000.00 MHz",
          "Z = 26.145+72.299j at 1004.00 MHz",
          "Z = 25.932+74.023j at 1008.00 MHz",
          "Z = 25.732+75.735j at 1012.00 MHz",
          "Z = 25.543+77.439j at 1016.00 MHz",
          "Z = 25.365+79.134j at 1020.00 MHz",
          "Z = 25.199+80.821j at 1024.00 MHz",
          "Z = 25.042+82.503j at 1028.00 MHz",
          "Z = 24.896+84.179j at 1032.00 MHz",
          "Z = 24.759+85.852j at 1036.00 MHz",
          "Z = 24.631+87.522j at 1040.00 MHz",
          "Z = 24.512+89.190j at 1044.00 MHz",
          "Z = 24.401+90.857j at 1048.00 MHz",
          "Z = 24.299+92.524j at 1052.00 MHz",
          "Z = 24.204+94.193j at 1056.00 MHz",
          "Z = 24.118+95.863j at 1060.00 MHz",
          "Z = 24.039+97.537j at 1064.00 MHz",
          "Z = 23.967+99.214j at 1068.00 MHz",
          "Z = 23.902+100.897j at 1072.00 MHz",
          "Z = 23.845+102.585j at 1076.00 MHz",
          "Z = 23.794+104.281j at 1080.00 MHz",
          "Z = 23.750+105.984j at 1084.00 MHz",
          "Z = 23.713+107.697j at 1088.00 MHz",
          "Z = 23.682+109.419j at 1092.00 MHz",
          "Z = 23.658+111.152j at 1096.00 MHz",
          "Z = 23.640+112.897j at 1100.00 MHz"
         ],
         "type": "scattersmith"
        },
        {
         "hoverinfo": "text",
         "imag": [
          -0.1535010355524361
         ],
         "marker": {
          "color": "red",
          "size": 10,
          "symbol": "circle"
         },
         "mode": "markers",
         "name": "fC=868.00 MHz, Z=51.70-7.68j",
         "real": [
          1.0339192785679814
         ],
         "text": [
          "Z = 51.696-7.675j at 868.00 MHz"
         ],
         "type": "scattersmith"
        }
       ],
       "layout": {
        "height": 618,
        "showlegend": true,
        "template": {
         "data": {
          "bar": [
           {
            "error_x": {
             "color": "#2a3f5f"
            },
            "error_y": {
             "color": "#2a3f5f"
            },
            "marker": {
             "line": {
              "color": "#E5ECF6",
              "width": 0.5
             },
             "pattern": {
              "fillmode": "overlay",
              "size": 10,
              "solidity": 0.2
             }
            },
            "type": "bar"
           }
          ],
          "barpolar": [
           {
            "marker": {
             "line": {
              "color": "#E5ECF6",
              "width": 0.5
             },
             "pattern": {
              "fillmode": "overlay",
              "size": 10,
              "solidity": 0.2
             }
            },
            "type": "barpolar"
           }
          ],
          "carpet": [
           {
            "aaxis": {
             "endlinecolor": "#2a3f5f",
             "gridcolor": "white",
             "linecolor": "white",
             "minorgridcolor": "white",
             "startlinecolor": "#2a3f5f"
            },
            "baxis": {
             "endlinecolor": "#2a3f5f",
             "gridcolor": "white",
             "linecolor": "white",
             "minorgridcolor": "white",
             "startlinecolor": "#2a3f5f"
            },
            "type": "carpet"
           }
          ],
          "choropleth": [
           {
            "colorbar": {
             "outlinewidth": 0,
             "ticks": ""
            },
            "type": "choropleth"
           }
          ],
          "contour": [
           {
            "colorbar": {
             "outlinewidth": 0,
             "ticks": ""
            },
            "colorscale": [
             [
              0,
              "#0d0887"
             ],
             [
              0.1111111111111111,
              "#46039f"
             ],
             [
              0.2222222222222222,
              "#7201a8"
             ],
             [
              0.3333333333333333,
              "#9c179e"
             ],
             [
              0.4444444444444444,
              "#bd3786"
             ],
             [
              0.5555555555555556,
              "#d8576b"
             ],
             [
              0.6666666666666666,
              "#ed7953"
             ],
             [
              0.7777777777777778,
              "#fb9f3a"
             ],
             [
              0.8888888888888888,
              "#fdca26"
             ],
             [
              1,
              "#f0f921"
             ]
            ],
            "type": "contour"
           }
          ],
          "contourcarpet": [
           {
            "colorbar": {
             "outlinewidth": 0,
             "ticks": ""
            },
            "type": "contourcarpet"
           }
          ],
          "heatmap": [
           {
            "colorbar": {
             "outlinewidth": 0,
             "ticks": ""
            },
            "colorscale": [
             [
              0,
              "#0d0887"
             ],
             [
              0.1111111111111111,
              "#46039f"
             ],
             [
              0.2222222222222222,
              "#7201a8"
             ],
             [
              0.3333333333333333,
              "#9c179e"
             ],
             [
              0.4444444444444444,
              "#bd3786"
             ],
             [
              0.5555555555555556,
              "#d8576b"
             ],
             [
              0.6666666666666666,
              "#ed7953"
             ],
             [
              0.7777777777777778,
              "#fb9f3a"
             ],
             [
              0.8888888888888888,
              "#fdca26"
             ],
             [
              1,
              "#f0f921"
             ]
            ],
            "type": "heatmap"
           }
          ],
          "histogram": [
           {
            "marker": {
             "pattern": {
              "fillmode": "overlay",
              "size": 10,
              "solidity": 0.2
             }
            },
            "type": "histogram"
           }
          ],
          "histogram2d": [
           {
            "colorbar": {
             "outlinewidth": 0,
             "ticks": ""
            },
            "colorscale": [
             [
              0,
              "#0d0887"
             ],
             [
              0.1111111111111111,
              "#46039f"
             ],
             [
              0.2222222222222222,
              "#7201a8"
             ],
             [
              0.3333333333333333,
              "#9c179e"
             ],
             [
              0.4444444444444444,
              "#bd3786"
             ],
             [
              0.5555555555555556,
              "#d8576b"
             ],
             [
              0.6666666666666666,
              "#ed7953"
             ],
             [
              0.7777777777777778,
              "#fb9f3a"
             ],
             [
              0.8888888888888888,
              "#fdca26"
             ],
             [
              1,
              "#f0f921"
             ]
            ],
            "type": "histogram2d"
           }
          ],
          "histogram2dcontour": [
           {
            "colorbar": {
             "outlinewidth": 0,
             "ticks": ""
            },
            "colorscale": [
             [
              0,
              "#0d0887"
             ],
             [
              0.1111111111111111,
              "#46039f"
             ],
             [
              0.2222222222222222,
              "#7201a8"
             ],
             [
              0.3333333333333333,
              "#9c179e"
             ],
             [
              0.4444444444444444,
              "#bd3786"
             ],
             [
              0.5555555555555556,
              "#d8576b"
             ],
             [
              0.6666666666666666,
              "#ed7953"
             ],
             [
              0.7777777777777778,
              "#fb9f3a"
             ],
             [
              0.8888888888888888,
              "#fdca26"
             ],
             [
              1,
              "#f0f921"
             ]
            ],
            "type": "histogram2dcontour"
           }
          ],
          "mesh3d": [
           {
            "colorbar": {
             "outlinewidth": 0,
             "ticks": ""
            },
            "type": "mesh3d"
           }
          ],
          "parcoords": [
           {
            "line": {
             "colorbar": {
              "outlinewidth": 0,
              "ticks": ""
             }
            },
            "type": "parcoords"
           }
          ],
          "pie": [
           {
            "automargin": true,
            "type": "pie"
           }
          ],
          "scatter": [
           {
            "fillpattern": {
             "fillmode": "overlay",
             "size": 10,
             "solidity": 0.2
            },
            "type": "scatter"
           }
          ],
          "scatter3d": [
           {
            "line": {
             "colorbar": {
              "outlinewidth": 0,
              "ticks": ""
             }
            },
            "marker": {
             "colorbar": {
              "outlinewidth": 0,
              "ticks": ""
             }
            },
            "type": "scatter3d"
           }
          ],
          "scattercarpet": [
           {
            "marker": {
             "colorbar": {
              "outlinewidth": 0,
              "ticks": ""
             }
            },
            "type": "scattercarpet"
           }
          ],
          "scattergeo": [
           {
            "marker": {
             "colorbar": {
              "outlinewidth": 0,
              "ticks": ""
             }
            },
            "type": "scattergeo"
           }
          ],
          "scattergl": [
           {
            "marker": {
             "colorbar": {
              "outlinewidth": 0,
              "ticks": ""
             }
            },
            "type": "scattergl"
           }
          ],
          "scattermap": [
           {
            "marker": {
             "colorbar": {
              "outlinewidth": 0,
              "ticks": ""
             }
            },
            "type": "scattermap"
           }
          ],
          "scattermapbox": [
           {
            "marker": {
             "colorbar": {
              "outlinewidth": 0,
              "ticks": ""
             }
            },
            "type": "scattermapbox"
           }
          ],
          "scatterpolar": [
           {
            "marker": {
             "colorbar": {
              "outlinewidth": 0,
              "ticks": ""
             }
            },
            "type": "scatterpolar"
           }
          ],
          "scatterpolargl": [
           {
            "marker": {
             "colorbar": {
              "outlinewidth": 0,
              "ticks": ""
             }
            },
            "type": "scatterpolargl"
           }
          ],
          "scatterternary": [
           {
            "marker": {
             "colorbar": {
              "outlinewidth": 0,
              "ticks": ""
             }
            },
            "type": "scatterternary"
           }
          ],
          "surface": [
           {
            "colorbar": {
             "outlinewidth": 0,
             "ticks": ""
            },
            "colorscale": [
             [
              0,
              "#0d0887"
             ],
             [
              0.1111111111111111,
              "#46039f"
             ],
             [
              0.2222222222222222,
              "#7201a8"
             ],
             [
              0.3333333333333333,
              "#9c179e"
             ],
             [
              0.4444444444444444,
              "#bd3786"
             ],
             [
              0.5555555555555556,
              "#d8576b"
             ],
             [
              0.6666666666666666,
              "#ed7953"
             ],
             [
              0.7777777777777778,
              "#fb9f3a"
             ],
             [
              0.8888888888888888,
              "#fdca26"
             ],
             [
              1,
              "#f0f921"
             ]
            ],
            "type": "surface"
           }
          ],
          "table": [
           {
            "cells": {
             "fill": {
              "color": "#EBF0F8"
             },
             "line": {
              "color": "white"
             }
            },
            "header": {
             "fill": {
              "color": "#C8D4E3"
             },
             "line": {
              "color": "white"
             }
            },
            "type": "table"
           }
          ]
         },
         "layout": {
          "annotationdefaults": {
           "arrowcolor": "#2a3f5f",
           "arrowhead": 0,
           "arrowwidth": 1
          },
          "autotypenumbers": "strict",
          "coloraxis": {
           "colorbar": {
            "outlinewidth": 0,
            "ticks": ""
           }
          },
          "colorscale": {
           "diverging": [
            [
             0,
             "#8e0152"
            ],
            [
             0.1,
             "#c51b7d"
            ],
            [
             0.2,
             "#de77ae"
            ],
            [
             0.3,
             "#f1b6da"
            ],
            [
             0.4,
             "#fde0ef"
            ],
            [
             0.5,
             "#f7f7f7"
            ],
            [
             0.6,
             "#e6f5d0"
            ],
            [
             0.7,
             "#b8e186"
            ],
            [
             0.8,
             "#7fbc41"
            ],
            [
             0.9,
             "#4d9221"
            ],
            [
             1,
             "#276419"
            ]
           ],
           "sequential": [
            [
             0,
             "#0d0887"
            ],
            [
             0.1111111111111111,
             "#46039f"
            ],
            [
             0.2222222222222222,
             "#7201a8"
            ],
            [
             0.3333333333333333,
             "#9c179e"
            ],
            [
             0.4444444444444444,
             "#bd3786"
            ],
            [
             0.5555555555555556,
             "#d8576b"
            ],
            [
             0.6666666666666666,
             "#ed7953"
            ],
            [
             0.7777777777777778,
             "#fb9f3a"
            ],
            [
             0.8888888888888888,
             "#fdca26"
            ],
            [
             1,
             "#f0f921"
            ]
           ],
           "sequentialminus": [
            [
             0,
             "#0d0887"
            ],
            [
             0.1111111111111111,
             "#46039f"
            ],
            [
             0.2222222222222222,
             "#7201a8"
            ],
            [
             0.3333333333333333,
             "#9c179e"
            ],
            [
             0.4444444444444444,
             "#bd3786"
            ],
            [
             0.5555555555555556,
             "#d8576b"
            ],
            [
             0.6666666666666666,
             "#ed7953"
            ],
            [
             0.7777777777777778,
             "#fb9f3a"
            ],
            [
             0.8888888888888888,
             "#fdca26"
            ],
            [
             1,
             "#f0f921"
            ]
           ]
          },
          "colorway": [
           "#636efa",
           "#EF553B",
           "#00cc96",
           "#ab63fa",
           "#FFA15A",
           "#19d3f3",
           "#FF6692",
           "#B6E880",
           "#FF97FF",
           "#FECB52"
          ],
          "font": {
           "color": "#2a3f5f"
          },
          "geo": {
           "bgcolor": "white",
           "lakecolor": "white",
           "landcolor": "#E5ECF6",
           "showlakes": true,
           "showland": true,
           "subunitcolor": "white"
          },
          "hoverlabel": {
           "align": "left"
          },
          "hovermode": "closest",
          "mapbox": {
           "style": "light"
          },
          "paper_bgcolor": "white",
          "plot_bgcolor": "#E5ECF6",
          "polar": {
           "angularaxis": {
            "gridcolor": "white",
            "linecolor": "white",
            "ticks": ""
           },
           "bgcolor": "#E5ECF6",
           "radialaxis": {
            "gridcolor": "white",
            "linecolor": "white",
            "ticks": ""
           }
          },
          "scene": {
           "xaxis": {
            "backgroundcolor": "#E5ECF6",
            "gridcolor": "white",
            "gridwidth": 2,
            "linecolor": "white",
            "showbackground": true,
            "ticks": "",
            "zerolinecolor": "white"
           },
           "yaxis": {
            "backgroundcolor": "#E5ECF6",
            "gridcolor": "white",
            "gridwidth": 2,
            "linecolor": "white",
            "showbackground": true,
            "ticks": "",
            "zerolinecolor": "white"
           },
           "zaxis": {
            "backgroundcolor": "#E5ECF6",
            "gridcolor": "white",
            "gridwidth": 2,
            "linecolor": "white",
            "showbackground": true,
            "ticks": "",
            "zerolinecolor": "white"
           }
          },
          "shapedefaults": {
           "line": {
            "color": "#2a3f5f"
           }
          },
          "ternary": {
           "aaxis": {
            "gridcolor": "white",
            "linecolor": "white",
            "ticks": ""
           },
           "baxis": {
            "gridcolor": "white",
            "linecolor": "white",
            "ticks": ""
           },
           "bgcolor": "#E5ECF6",
           "caxis": {
            "gridcolor": "white",
            "linecolor": "white",
            "ticks": ""
           }
          },
          "title": {
           "x": 0.05
          },
          "xaxis": {
           "automargin": true,
           "gridcolor": "white",
           "linecolor": "white",
           "ticks": "",
           "title": {
            "standoff": 15
           },
           "zerolinecolor": "white",
           "zerolinewidth": 2
          },
          "yaxis": {
           "automargin": true,
           "gridcolor": "white",
           "linecolor": "white",
           "ticks": "",
           "title": {
            "standoff": 15
           },
           "zerolinecolor": "white",
           "zerolinewidth": 2
          }
         }
        },
        "title": {
         "text": ""
        },
        "width": 1000
       }
      }
     },
     "metadata": {},
     "output_type": "display_data"
    },
    {
     "name": "stdout",
     "output_type": "stream",
     "text": [
      "\n",
      "Image saved in PDF format (transparent background, minimal margins) : data/fig_image/ifa_M_opti3_Smith_chart.pdf\n",
      "\n",
      "\n",
      "📡 Simulation results:\n",
      "→ Resonance frequency = 876.00 MHz\n",
      "→ Impedance at f_res  = 47.96-0.53j Ω\n"
     ]
    },
    {
     "data": {
      "image/png": "[encoded data removed]",
      "text/plain": [
       "<Figure size 1200x741.641 with 1 Axes>"
      ]
     },
     "metadata": {},
     "output_type": "display_data"
    },
    {
     "name": "stdout",
     "output_type": "stream",
     "text": [
      "\n",
      "Ratio = 1.0092165898617511\n",
      "\n",
      "\n",
      "Required accuracy is met!\n",
      "Simulation time: 0 minutes and 29.22 seconds\n",
      "Convergence reached at iteration 4\n"
     ]
    }
   ],
   "source": [
    "optimize_ifa(ifa_meander_msh, ifa_meander_mat,\n",
    "             frequencies, fC, fLow, fHigh, nPoints, fc_index,\n",
    "             a, b, largeur_piste, distance_meandre, feed, feed_point, x_t, y_t, save_mesh_folder, mesh_name, mesh_size)"
   ]
  }
 ],
 "metadata": {
  "kernelspec": {
   "display_name": "antenna_solver",
   "language": "python",
   "name": "python3"
  },
  "language_info": {
   "codemirror_mode": {
    "name": "ipython",
    "version": 3
   },
   "file_extension": ".py",
   "mimetype": "text/x-python",
   "name": "python",
   "nbconvert_exporter": "python",
   "pygments_lexer": "ipython3",
   "version": "3.12.9"
  }
 },
 "nbformat": 4,
 "nbformat_minor": 5
}
