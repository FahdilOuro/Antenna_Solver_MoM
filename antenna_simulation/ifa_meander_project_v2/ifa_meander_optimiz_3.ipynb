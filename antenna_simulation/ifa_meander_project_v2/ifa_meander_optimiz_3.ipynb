{
 "cells": [
  {
   "cell_type": "code",
   "execution_count": 1,
   "id": "250c2240",
   "metadata": {},
   "outputs": [],
   "source": [
    "from utils.ifa_meander_project_v2.geometry import *\n",
    "from utils.ifa_meander_project_v2.frequency import *\n",
    "from utils.ifa_meander_project_v2.algorithms import *"
   ]
  },
  {
   "cell_type": "code",
   "execution_count": 2,
   "id": "9d7a85b2",
   "metadata": {},
   "outputs": [
    {
     "name": "stdout",
     "output_type": "stream",
     "text": [
      "Nombre de fréquences (nPoints) : 101\n",
      "Index de fC : 42\n"
     ]
    }
   ],
   "source": [
    "fLow = 700e6\n",
    "fHigh = 1100e6\n",
    "fC = 868e6\n",
    "step = 4e6\n",
    "frequencies, fc_index, nPoints = generate_frequencies(fLow, fHigh, fC, step)\n",
    "\n",
    "print(f\"Nombre de fréquences (nPoints) : {nPoints}\")\n",
    "print(f\"Index de fC : {fc_index}\")"
   ]
  },
  {
   "cell_type": "code",
   "execution_count": 3,
   "id": "044e5d0e",
   "metadata": {},
   "outputs": [],
   "source": [
    "mesh_name = \"ifa_M_opti3.msh\"\n",
    "save_mesh_folder = 'data/gmsh_files/'\n",
    "ifa_meander_mat = 'data/antennas_mesh/ifa_M_opti3.mat'\n",
    "ifa_meander_msh = save_mesh_folder + mesh_name"
   ]
  },
  {
   "cell_type": "code",
   "execution_count": 4,
   "id": "f8c7117d",
   "metadata": {},
   "outputs": [
    {
     "name": "stdout",
     "output_type": "stream",
     "text": [
      "largeur_piste = 2.90 mm\n",
      "distance_meandre = 2.90 mm\n",
      "feed = 22.00 mm\n",
      "mesh_size = 8.70\n"
     ]
    }
   ],
   "source": [
    "a = 29 / 1000  # Largeur\n",
    "b = 44 / 1000  # Hauteur\n",
    "\n",
    "terminal_a = 89 / 1000\n",
    "terminal_b = b\n",
    "x_t = np.array([-terminal_a + a, 0, 0, -terminal_a + a])\n",
    "y_t = np.array([terminal_b, terminal_b, 0, 0])\n",
    "\n",
    "# On fixe le short feed et la largur de piste\n",
    "if b / a > 2:\n",
    "    largeur_piste    = a / 5          # Valeur Minimale    \n",
    "    distance_meandre = a / 5          # Valeur choisie en fonction du resulat de analyse_dist_meandre.ipynb\n",
    "else:\n",
    "    largeur_piste    = a / 10          # Valeur Minimale    \n",
    "    distance_meandre = a / 10          # Valeur choisie en fonction du resulat de analyse_dist_meandre.ipynb\n",
    "\n",
    "feed = 0.5 * b\n",
    "feed_point = [0, feed, 0]\n",
    "mesh_size = 3 * largeur_piste\n",
    "\n",
    "# Affichage des valeurs\n",
    "print(f\"largeur_piste = {largeur_piste * 1000:.2f} mm\")\n",
    "print(f\"distance_meandre = {distance_meandre * 1000:.2f} mm\")\n",
    "print(f\"feed = {feed * 1000:.2f} mm\")\n",
    "print(f\"mesh_size = {mesh_size * 1000:.2f}\")"
   ]
  },
  {
   "cell_type": "code",
   "execution_count": 5,
   "id": "80127129",
   "metadata": {},
   "outputs": [
    {
     "name": "stdout",
     "output_type": "stream",
     "text": [
      "\n",
      "------------------------------------------------------Iteration N°1------------------------------------------------------\n",
      "\n",
      "distance meandres = 2.900 mm\n",
      "\n",
      "Number of meanders = 5\n",
      "\n",
      "New distance meandres = 2.900 mm\n",
      "Largeur de piste ifa = 2.900 mm\n",
      "position feed = 22.000 mm\n",
      "\n",
      "Simulation 1/101 | f = 700.00 MHz | S11 = -8.46 dB\n",
      "Simulation 2/101 | f = 704.00 MHz | S11 = -6.91 dB\n",
      "Simulation 3/101 | f = 708.00 MHz | S11 = -5.72 dB\n",
      "Simulation 4/101 | f = 712.00 MHz | S11 = -4.79 dB\n",
      "Simulation 5/101 | f = 716.00 MHz | S11 = -4.06 dB\n",
      "Simulation 6/101 | f = 720.00 MHz | S11 = -3.47 dB\n",
      "Simulation 7/101 | f = 724.00 MHz | S11 = -3.00 dB\n",
      "Simulation 8/101 | f = 728.00 MHz | S11 = -2.62 dB\n",
      "Simulation 9/101 | f = 732.00 MHz | S11 = -2.30 dB\n",
      "Simulation 10/101 | f = 736.00 MHz | S11 = -2.04 dB\n",
      "Simulation 11/101 | f = 740.00 MHz | S11 = -1.82 dB\n",
      "Simulation 12/101 | f = 744.00 MHz | S11 = -1.63 dB\n",
      "Simulation 13/101 | f = 748.00 MHz | S11 = -1.47 dB\n",
      "Simulation 14/101 | f = 752.00 MHz | S11 = -1.33 dB\n",
      "Simulation 15/101 | f = 756.00 MHz | S11 = -1.21 dB\n",
      "Simulation 16/101 | f = 760.00 MHz | S11 = -1.11 dB\n",
      "Simulation 17/101 | f = 764.00 MHz | S11 = -1.02 dB\n",
      "Simulation 18/101 | f = 768.00 MHz | S11 = -0.94 dB\n",
      "Simulation 19/101 | f = 772.00 MHz | S11 = -0.87 dB\n",
      "Simulation 20/101 | f = 776.00 MHz | S11 = -0.81 dB\n",
      "Simulation 21/101 | f = 780.00 MHz | S11 = -0.75 dB\n",
      "Simulation 22/101 | f = 784.00 MHz | S11 = -0.70 dB\n",
      "Simulation 23/101 | f = 788.00 MHz | S11 = -0.66 dB\n",
      "Simulation 24/101 | f = 792.00 MHz | S11 = -0.61 dB\n",
      "Simulation 25/101 | f = 796.00 MHz | S11 = -0.58 dB\n",
      "Simulation 26/101 | f = 800.00 MHz | S11 = -0.54 dB\n",
      "Simulation 27/101 | f = 804.00 MHz | S11 = -0.51 dB\n",
      "Simulation 28/101 | f = 808.00 MHz | S11 = -0.48 dB\n",
      "Simulation 29/101 | f = 812.00 MHz | S11 = -0.46 dB\n",
      "Simulation 30/101 | f = 816.00 MHz | S11 = -0.43 dB\n",
      "Simulation 31/101 | f = 820.00 MHz | S11 = -0.41 dB\n",
      "Simulation 32/101 | f = 824.00 MHz | S11 = -0.39 dB\n",
      "Simulation 33/101 | f = 828.00 MHz | S11 = -0.37 dB\n",
      "Simulation 34/101 | f = 832.00 MHz | S11 = -0.35 dB\n",
      "Simulation 35/101 | f = 836.00 MHz | S11 = -0.34 dB\n",
      "Simulation 36/101 | f = 840.00 MHz | S11 = -0.32 dB\n",
      "Simulation 37/101 | f = 844.00 MHz | S11 = -0.31 dB\n",
      "Simulation 38/101 | f = 848.00 MHz | S11 = -0.29 dB\n",
      "Simulation 39/101 | f = 852.00 MHz | S11 = -0.28 dB\n",
      "Simulation 40/101 | f = 856.00 MHz | S11 = -0.27 dB\n",
      "Simulation 41/101 | f = 860.00 MHz | S11 = -0.26 dB\n",
      "Simulation 42/101 | f = 864.00 MHz | S11 = -0.25 dB\n"
     ]
    },
    {
     "data": {
      "application/vnd.plotly.v1+json": {
       "config": {
        "plotlyServerURL": "https://plot.ly"
       },
       "data": [
        {
         "facecolor": [
          "rgb(0, 143, 255)",
          "rgb(135, 0, 101)",
          "rgb(145, 0, 93)",
          "rgb(41, 248, 157)",
          "rgb(134, 0, 102)",
          "rgb(41, 248, 157)",
          "rgb(41, 249, 156)",
          "rgb(0, 134, 255)",
          "rgb(148, 0, 91)",
          "rgb(44, 254, 151)",
          "rgb(212, 243, 0)",
          "rgb(29, 219, 187)",
          "rgb(16, 191, 216)",
          "rgb(7, 169, 238)",
          "rgb(0, 99, 255)",
          "rgb(151, 255, 0)",
          "rgb(0, 137, 255)",
          "rgb(1, 154, 253)",
          "rgb(0, 26, 255)",
          "rgb(217, 242, 0)",
          "rgb(148, 0, 92)",
          "rgb(12, 180, 227)",
          "rgb(148, 0, 92)",
          "rgb(0, 17, 237)",
          "rgb(114, 0, 116)",
          "rgb(255, 0, 0)",
          "rgb(88, 0, 136)",
          "rgb(0, 2, 204)",
          "rgb(144, 0, 94)",
          "rgb(55, 0, 160)",
          "rgb(145, 0, 94)",
          "rgb(0, 44, 255)",
          "rgb(0, 112, 255)",
          "rgb(0, 75, 255)",
          "rgb(135, 0, 101)",
          "rgb(0, 66, 255)",
          "rgb(138, 0, 99)",
          "rgb(135, 0, 101)",
          "rgb(137, 0, 100)",
          "rgb(15, 0, 189)",
          "rgb(126, 0, 108)",
          "rgb(81, 0, 141)",
          "rgb(0, 8, 217)",
          "rgb(143, 0, 95)",
          "rgb(57, 255, 132)",
          "rgb(131, 0, 104)",
          "rgb(141, 0, 97)",
          "rgb(41, 249, 156)",
          "rgb(138, 0, 99)",
          "rgb(134, 255, 23)",
          "rgb(141, 0, 97)",
          "rgb(40, 246, 159)",
          "rgb(118, 0, 114)",
          "rgb(38, 241, 164)",
          "rgb(142, 0, 96)",
          "rgb(35, 235, 171)",
          "rgb(0, 89, 255)",
          "rgb(141, 0, 97)",
          "rgb(255, 190, 0)",
          "rgb(26, 214, 192)",
          "rgb(145, 0, 94)",
          "rgb(54, 255, 136)",
          "rgb(43, 252, 153)",
          "rgb(120, 0, 112)",
          "rgb(141, 0, 96)",
          "rgb(0, 23, 251)",
          "rgb(183, 248, 0)",
          "rgb(39, 244, 161)",
          "rgb(5, 165, 242)",
          "rgb(0, 111, 255)",
          "rgb(165, 252, 0)",
          "rgb(20, 199, 207)",
          "rgb(0, 21, 246)",
          "rgb(25, 211, 195)",
          "rgb(0, 12, 226)",
          "rgb(24, 208, 198)",
          "rgb(31, 224, 181)",
          "rgb(50, 255, 141)",
          "rgb(0, 123, 255)",
          "rgb(14, 184, 222)",
          "rgb(22, 204, 202)",
          "rgb(25, 211, 195)",
          "rgb(203, 245, 0)",
          "rgb(19, 198, 208)",
          "rgb(34, 231, 174)",
          "rgb(49, 255, 143)",
          "rgb(255, 171, 0)",
          "rgb(190, 247, 0)",
          "rgb(54, 255, 136)",
          "rgb(0, 50, 255)",
          "rgb(57, 255, 132)",
          "rgb(112, 0, 118)",
          "rgb(113, 0, 117)",
          "rgb(142, 0, 96)",
          "rgb(131, 0, 104)",
          "rgb(142, 0, 96)",
          "rgb(147, 0, 92)",
          "rgb(146, 0, 93)",
          "rgb(146, 0, 93)",
          "rgb(145, 0, 93)",
          "rgb(147, 0, 92)",
          "rgb(129, 0, 105)",
          "rgb(114, 0, 117)",
          "rgb(128, 0, 106)",
          "rgb(148, 0, 92)",
          "rgb(146, 0, 93)",
          "rgb(147, 0, 92)",
          "rgb(116, 0, 115)",
          "rgb(148, 0, 92)",
          "rgb(0, 128, 255)",
          "rgb(116, 0, 115)",
          "rgb(115, 0, 116)",
          "rgb(0, 86, 255)",
          "rgb(147, 0, 92)",
          "rgb(137, 0, 100)",
          "rgb(148, 0, 91)",
          "rgb(145, 0, 94)",
          "rgb(142, 0, 96)",
          "rgb(147, 0, 92)",
          "rgb(139, 0, 98)",
          "rgb(142, 0, 96)",
          "rgb(134, 0, 101)",
          "rgb(115, 0, 116)",
          "rgb(0, 118, 255)",
          "rgb(89, 255, 87)",
          "rgb(149, 0, 91)",
          "rgb(150, 0, 90)",
          "rgb(149, 0, 91)",
          "rgb(117, 0, 114)",
          "rgb(102, 0, 125)",
          "rgb(83, 0, 139)",
          "rgb(110, 0, 120)",
          "rgb(147, 0, 92)",
          "rgb(150, 0, 90)",
          "rgb(120, 0, 112)",
          "rgb(127, 0, 107)",
          "rgb(95, 0, 131)",
          "rgb(116, 0, 115)",
          "rgb(132, 0, 103)",
          "rgb(141, 0, 97)",
          "rgb(147, 0, 92)",
          "rgb(0, 97, 255)",
          "rgb(127, 0, 107)",
          "rgb(140, 0, 97)",
          "rgb(138, 0, 99)",
          "rgb(145, 0, 94)",
          "rgb(140, 0, 97)",
          "rgb(130, 0, 105)",
          "rgb(147, 0, 92)",
          "rgb(141, 0, 97)",
          "rgb(255, 174, 0)",
          "rgb(146, 0, 93)",
          "rgb(134, 0, 102)",
          "rgb(128, 0, 106)",
          "rgb(139, 0, 98)",
          "rgb(147, 0, 92)",
          "rgb(135, 0, 101)",
          "rgb(147, 0, 92)",
          "rgb(107, 0, 121)",
          "rgb(148, 0, 92)",
          "rgb(134, 0, 101)",
          "rgb(148, 0, 91)",
          "rgb(149, 0, 91)",
          "rgb(140, 0, 97)",
          "rgb(148, 0, 92)",
          "rgb(0, 61, 255)",
          "rgb(98, 0, 128)",
          "rgb(141, 0, 97)",
          "rgb(119, 0, 113)",
          "rgb(87, 0, 137)",
          "rgb(145, 0, 94)",
          "rgb(98, 0, 128)",
          "rgb(145, 0, 94)",
          "rgb(145, 0, 94)",
          "rgb(135, 0, 101)",
          "rgb(118, 0, 113)",
          "rgb(136, 0, 100)"
         ],
         "i": {
          "bdata": "GABbAF0AFgBbAC4ACwBeAF8ALwBWABQANABAABIAVwATADYANwAbAF8ANQBiAD4AYwApAGMAOgBmADsAZgAqAA4ADwBpAEwAagAQAG0APABtABEAPQBmADAAWwBwAAoAcAABAGsASAByAEkAcAAsAEwAcQABACsAaABFAEQAdQB2AE0AWAAMAEsACAAnAEsAOAANADkAQwBKAEcACQAJAEIAQwAHADQADAAyAAEAGgAwADcAMQAdAGQAcABqAGsAegBoAGIAYgB6AHgAZQBqAH0AXABiAH4AfQB+AH4AfwBaAH0AXACCAIQAUQBgAIEABgBuAG4AGwAbAIMAJgCCAHMATwByAHcAUACCAIAAVAByABwAgABRAHwAfwBtAHwAbQBoAGsAeQB7AHEAAwB7AHMAbwBUAH0AhQCBAHcAgwB4AF8AXwBSACQAXgB3AHQAYwBjAHYAfwBoAF0AagAeAHkA",
          "dtype": "i2"
         },
         "j": {
          "bdata": "GQAgAFsAFwAfABcAFgBaAGEAFgAHABUAQQBBABMAKABAAEAAPwBWAGAAQQBgAD8AZQACAGQAPQBbADwAZwBNABMAEgBrAE0AawARAGkAPQBuADwAPgBvAEYAbwBxABcAbAAoAG8ALQAcAC0AdAAtACoAdAADACwAdABGAEUAcwBsAAIAJwBEABgAGQAoACsAPwAUAD4ADQAsABYAGQArAEMAFAAnAEIAFQBFAAIAJwBHABIARgB1AHgAZgBlAGYAYQB7AHoAZwBiAGUAeABsAGAAfQBdAF4AIgBaAIAAgAB+AFwAIACEAIIAhAB9AFwAgQB5AHUAWQB/AF8AggBfAGMAcgBjAIAAggAmAHcAgABPAHIAVAB8AHsAWQAeAFIAawB8AG0AZQBhAFMAZABoAHUAHgCFAIEAbAAGAHgAhABsAIMAJAB8AGAAAABeAFIAcwADAFMAVQBnAGcAeQBuAG4A",
          "dtype": "i2"
         },
         "k": {
          "bdata": "CQBcAFwACgAgAEgACgAAAGAACwAaAAwAQgA1AA4AAQA2ADUAEgAaACQANABhADgAZAABAAMAOQBnADoAaAApADYADgBqACoAbAA7AG4AOgAeADsAOQBbAEcAHwBsAC4AawApAGYALgBzAEgAcQBJAAgAUwAAAEoAcAAxADIAHABxACkAVwAyAAkATABXAEoANwAMADgAMwBJAC8ACABLADMADQAaADMARAAxAAMAWAAvAA8AMAAcAHcAaAB5AHAAewB8AGcAXQBhAGoAZAB4AGIAXQB9AHcAIwBeAH8AVQBZAIEAIQCDAFAAUAAjACEAIQB1AB0AfwBWAIIAJQAlAHIATgBOAH4ABAAEAIUAhQAFAAUAVQCEAIQAfgBvAHQAaQB0AG8AcwCDAHYAAAB6AHkAHwB2ACIAdgAiAIUAewCFAGEAJQBRACMAZABkAFMAZQBOAFQAVgB6AFsAaQAdAGkA",
          "dtype": "i2"
         },
         "name": "",
         "type": "mesh3d",
         "x": {
          "bdata": "AAAAAAAAAADgnBGlvcFnP+CcEaW9wWc/AAAAAAAAAAC4HoXrUbiuvwAAAAAAAAAAuB6F61G4rr/gnBGlvcF3P+CcEaW9wXc/qTXNO07RgT+pNc07TtGBP6g1zTtO0ZE/qDXNO07RkT9EaW/whcmUP0Rpb/CFyZQ/GQRWDi2ynT8ZBFYOLbKdP33Qs1n1uZo/fdCzWfW5mj/gnBGlvcGXP+CcEaW9wZc/GQRWDi2yjT8ZBFYOLbKNP+CcEaW9wYc/4JwRpb3Bhz/jnBGlvcFnP+OcEaW9wWc/AAAAAAAAAABLfyer5Y2Bv0p/J6vljZG/9D67gNhUmr9Pfyer5Y2hvx5f8RVf8aW/7D67gNhUqr+4HoXrUbiuv7gehetRuK6/uB6F61G4rr+4HoXrUbiuv7gehetRuK6/4JwRpb3Bdz/gnBGlvcF3P+CcEaW9wXc/4JwRpb3Bdz+pNc07TtGBP6k1zTtO0YE/qTXNO07RgT+pNc07TtGBP6g1zTtO0ZE/qDXNO07RkT+oNc07TtGRP6g1zTtO0ZE/RGlv8IXJlD9EaW/whcmUP0Rpb/CFyZQ/RGlv8IXJlD8ZBFYOLbKdPxkEVg4tsp0/GQRWDi2ynT8ZBFYOLbKdPxkEVg4tsp0/fdCzWfW5mj990LNZ9bmaP33Qs1n1uZo/fdCzWfW5mj/gnBGlvcGXP+CcEaW9wZc/4JwRpb3Blz/gnBGlvcGXPxkEVg4tso0/GQRWDi2yjT8ZBFYOLbKNPxkEVg4tso0/4JwRpb3Bhz/gnBGlvcGHP+CcEaW9wYc/4JwRpb3Bhz/jnBGlvcFnP+OcEaW9wWc/AAAAAAAAAAAAAAAAAAAAAGw0gLdAgqq/IEp7gy9Mpr/WX3ZPHhaivxnr4jYawJu/hBbZzvdTk7/eg57Nqs+Fv+FqK/aX3WO/45wRpb3BZz/jnBGlvcFnPwAAAAAAAAAAAAAAAAAAAABiwi3uNSGkv45tlMPzmKi/jyU6CxNzp78ET2RsBuZzv3Wjb/cXDKy/jqjQELuiq7+Mq3ZamTapvyCgtmKof6i/vAKtyILDdr/6UDOpbld+v075kU/y8Ye//xzU/pxRob8blYWIvD6lv6oYXd48gaO/URG6wMEslb8fnNIFBbCSv5GvTYVFM5q/XeITwUxolr8/fTmN5P+YvxyV77ADCZS/OYUtS5NBn78ZoORIIT2ev387GWvHWpu/oFKz63pjcL8qARSyyTqEv/miAnxK06C/y98HxyzVjL+LKAnix7mWv8J1Aw07Z4S/+MTWWmtFjb/rg4aQNniPv+3A0fmfkaa/3S5cL3PEpr9mATRFYrCkvw8sQpFXMKu/YG5hR9Uud79waNE9M0B2v9dhS1pP3Ia//p2FIlvpq7+8QMBnnSusv3YCjCL60qm/8HOKQgWnqL9Pq0Q4wcmQvw==",
          "dtype": "f8"
         },
         "y": {
          "bdata": "iGNd3EYDmD+IY13cRgOYP+wvuycPC5U/7C+7Jw8LlT+6SQwCK4emPwAAAAAAAAAAAAAAAAAAAAC6SQwCK4emP+CcEaW9wWc/4JwRpb3BZz+6SQwCK4emP7pJDAIrh6Y/4JwRpb3BZz/gnBGlvcFnP7pJDAIrh6Y/ukkMAiuHpj8AAAAAAAAQvAAAAAAAABC87C+7Jw8LpT/sL7snDwulPwAAAAAAABC8AAAAAAAAELzsL7snDwulP+wvuycPC6U/AAAAAAAAELwAAAAAAAAQvOwvuycPC6U/7C+7Jw8LpT8AAAAAAAAAAAAAAAAAAAAAAAAAAAAAAAAAAAAAAAAAAAAAAAAAAAAAAAAAAAAAAACit2Wtjgl+P5+3Za2OCY4/vUkMAiuHlj+ut2WtjgmeP8uSXyz5xaI/jaazk8FRoj+9BrZKsDicP1bABG7dzZM/3vOmIhXGhj/v86YiFcaGP1PABG7dzZM/uwa2SrA4nD+RprOTwVGiP42ms5PBUaI/vQa2SrA4nD9WwARu3c2TP97zpiIVxoY/7/OmIhXGhj9TwARu3c2TP7sGtkqwOJw/kaazk8FRoj/Gkl8s+cWiP6K3Za2OCZ4/t0kMAiuHlj+Ot2WtjgmOP3i3Za2OCX4/uIxiuaXVgD+3jGK5pdWQPx7TE5Z4QJk/w4xiuaXVoD+/jGK5pdWgPyHTE5Z4QJk/uoxiuaXVkD+kjGK5pdWAP7iMYrml1YA/t4xiuaXVkD8e0xOWeECZP8OMYrml1aA/v4xiuaXVoD8h0xOWeECZP7qMYrml1ZA/pIxiuaXVgD/dP6Tfvg58P+w/pN++Dow/5j+k374OjD/YP6Tfvg58P7pJDAIrh6Y/ukkMAiuHpj+6SQwCK4emP7pJDAIrh6Y/ukkMAiuHpj+6SQwCK4emP7pJDAIrh6Y/ordlrY4Jnj/eBTc/6weiP98FNz/rB6I/pbdlrY4Jnj+ZQh7cWNKBP0TqsXNHTHg/saDLdhPWiD+EGtJPY8OcPxksAM8R/ps/FZk3UN0elD/OceTAt9OZP5k08ljfTZI/1QcQY2Xvjj/rYTwuBguXP6c/KWTGupE/nx8Lo79UkT8e7UQPbhCSP+8ZS48bSZs/5u1NAShHij8iUcO88/GSP54jSSqYZ5E/CqGH+nrdmz9ArvlmNWmCP1eN4LVQs3o/GgjgTwqegT9fonjvxomaP8owIdSVRqE/VTmrAH7afj9JXdhQ9omDP4hkC3zG+6E/qOEbNvXNdj8Z+N+yWqqiPwWVU++BrZ4/HCVr0fuGmT8OG0wemgKIP+cu4KajIpg/U4nlCgimnz+d/fjQSaiiP3dqjMXd/Yc/ocw8G5AnoT8R5YQWJkikPyDzSuMmJqM/XLEJvLZ2dD9Tq4VCF2CiP9TSM8p2WKA/DaiZmAxwoz/AQ+IoHBChPw==",
          "dtype": "f8"
         },
         "z": {
          "bdata": "AAAAAAAAAAAAAAAAAAAAAAAAAAAAAAAAAAAAAAAAAAAAAAAAAAAAAAAAAAAAAAAAAAAAAAAAAAAAAAAAAAAAAAAAAAAAAAAAAAAAAAAAAAAAAAAAAAAAAAAAAAAAAAAAAAAAAAAAAAAAAAAAAAAAAAAAAAAAAAAAAAAAAAAAAAAAAAAAAAAAAAAAAAAAAAAAAAAAAAAAAAAAAAAAAAAAAAAAAAAAAAAAAAAAAAAAAAAAAAAAAAAAAAAAAAAAAAAAAAAAAAAAAAAAAAAAAAAAAAAAAAAAAAAAAAAAAAAAAAAAAAAAAAAAAAAAAAAAAAAAAAAAAAAAAAAAAAAAAAAAAAAAAAAAAAAAAAAAAAAAAAAAAAAAAAAAAAAAAAAAAAAAAAAAAAAAAAAAAAAAAAAAAAAAAAAAAAAAAAAAAAAAAAAAAAAAAAAAAAAAAAAAAAAAAAAAAAAAAAAAAAAAAAAAAAAAAAAAAAAAAAAAAAAAAAAAAAAAAAAAAAAAAAAAAAAAAAAAAAAAAAAAAAAAAAAAAAAAAAAAAAAAAAAAAAAAAAAAAAAAAAAAAAAAAAAAAAAAAAAAAAAAAAAAAAAAAAAAAAAAAAAAAAAAAAAAAAAAAAAAAAAAAAAAAAAAAAAAAAAAAAAAAAAAAAAAAAAAAAAAAAAAAAAAAAAAAAAAAAAAAAAAAAAAAAAAAAAAAAAAAAAAAAAAAAAAAAAAAAAAAAAAAAAAAAAAAAAAAAAAAAAAAAAAAAAAAAAAAAAAAAAAAAAAAAAAAAAAAAAAAAAAAAAAAAAAAAAAAAAAAAAAAAAAAAAAAAAAAAAAAAAAAAAAAAAAAAAAAAAAAAAAAAAAAAAAAAAAAAAAAAAAAAAAAAAAAAAAAAAAAAAAAAAAAAAAAAAAAAAAAAAAAAAAAAAAAAAAAAAAAAAAAAAAAAAAAAAAAAAAAAAAAAAAAAAAAAAAAAAAAAAAAAAAAAAAAAAAAAAAAAAAAAAAAAAAAAAAAAAAAAAAAAAAAAAAAAAAAAAAAAAAAAAAAAAAAAAAAAAAAAAAAAAAAAAAAAAAAAAAAAAAAAAAAAAAAAAAAAAAAAAAAAAAAAAAAAAAAAAAAAAAAAAAAAAAAAAAAAAAAAAAAAAAAAAAAAAAAAAAAAAAAAAAAAAAAAAAAAAAAAAAAAAAAAAAAAAAAAAAAAAAAAAAAAAAAAAAAAAAAAAAAAAAAAAAAAAAAAAAAAAAAAAAAAAAAAAAAAAAAAAAAAAAAAAAAAAAAAAAAAAAAAAAAAAAAAAAAAAAAAAAAAAAAAAAAAAAAAAAAAAAAAAAAAAAAAAAAAAAAAAAAAAAAAAAAAAAAAAAAAAAAAAAAAAAAAAAAAAAAAAAAAAAAAAAAAAAAAAAAAAAAAAAAAAAAAAAAAAAAAAAAAAAAAAAAAAAAAAAAAAAAAAAAA==",
          "dtype": "f8"
         }
        },
        {
         "line": {
          "color": "rgb(50, 50, 50)",
          "width": 1.5
         },
         "mode": "lines",
         "showlegend": false,
         "type": "scatter3d",
         "x": [
          0.0116,
          0.002900000000000001,
          0.008700000000000001,
          0.0116,
          null,
          -0.03931587727027332,
          -0.04285714285714291,
          -0.04804193270157518,
          -0.03931587727027332,
          null,
          -0.04579982292222972,
          -0.03931587727027332,
          -0.04804193270157518,
          -0.04579982292222972,
          null,
          0.0145,
          0.0116,
          0.008700000000000001,
          0.0145,
          null,
          -0.03931587727027332,
          -0.03428571428571436,
          -0.04285714285714291,
          -0.03931587727027332,
          null,
          0.008700000000000001,
          0.0116,
          0.0116,
          0.008700000000000001,
          null,
          0.0174,
          0.0145,
          0.008700000000000001,
          0.0174,
          null,
          -0.00485804089682396,
          0,
          0,
          -0.00485804089682396,
          null,
          -0.05477976699314172,
          -0.0492446825913567,
          -0.05397591190588101,
          -0.05477976699314172,
          null,
          0.0174,
          0.0145,
          0.0174,
          0.0174,
          null,
          -0.002424999999999997,
          0.0058,
          0.002900000000000001,
          -0.002424999999999997,
          null,
          0.0232,
          0.0145,
          0.0174,
          0.0232,
          null,
          0.0203,
          0.0232,
          0.0232,
          0.0203,
          null,
          0.0232,
          0.0232,
          0.0203,
          0.0232,
          null,
          0.0261,
          0.0232,
          0.0203,
          0.0261,
          null,
          0.002900000000000001,
          0.0058,
          0.0029,
          0.002900000000000001,
          null,
          0.0232,
          0.0232,
          0.0203,
          0.0232,
          null,
          0.0203,
          0.0232,
          0.0203,
          0.0203,
          null,
          0.029,
          0.0261,
          0.0261,
          0.029,
          null,
          0,
          -0.002424999999999997,
          0.002900000000000001,
          0,
          null,
          -0.05477976699314172,
          -0.05397591190588101,
          -0.06,
          -0.05477976699314172,
          null,
          0.0203,
          0.0232,
          0.0203,
          0.0203,
          null,
          -0.04784895138737988,
          -0.05397591190588101,
          -0.0492446825913567,
          -0.04784895138737988,
          null,
          0.0261,
          0.0261,
          0.029,
          0.0261,
          null,
          -0.005557547449655583,
          -0.01169194512681018,
          -0.007407600659650843,
          -0.005557547449655583,
          null,
          0.0058,
          0.0029,
          0.0029,
          0.0058,
          null,
          -0.005557547449655583,
          -0.007407600659650843,
          0,
          -0.005557547449655583,
          null,
          0.029,
          0.0261,
          0.029,
          0.029,
          null,
          -0.03382578478527342,
          -0.03931587727027332,
          -0.04149426619077642,
          -0.03382578478527342,
          null,
          0.029,
          0.0261,
          0.029,
          0.029,
          null,
          -0.03382578478527342,
          -0.04149426619077642,
          -0.03809538092041127,
          -0.03382578478527342,
          null,
          0.0058,
          0.002900000000000001,
          0.0058,
          0.0058,
          null,
          0.0203,
          0.0232,
          0.0203,
          0.0203,
          null,
          0.029,
          0.0261,
          0.0203,
          0.029,
          null,
          -0.02067854632197569,
          -0.02558621049995186,
          -0.01824958656348141,
          -0.02067854632197569,
          null,
          0.002900000000000001,
          0.002900000000000001,
          0.0058,
          0.002900000000000001,
          null,
          -0.01824958656348141,
          -0.02558621049995186,
          -0.02188224724247544,
          -0.01824958656348141,
          null,
          0.029,
          0.0261,
          0.029,
          0.029,
          null,
          -0.0244136534878383,
          -0.02067854632197569,
          -0.01956563727789727,
          -0.0244136534878383,
          null,
          0.0261,
          0.0261,
          0.029,
          0.0261,
          null,
          -0.0244136534878383,
          -0.01956563727789727,
          -0.02571428571428576,
          -0.0244136534878383,
          null,
          0.0261,
          0.0261,
          0.029,
          0.0261,
          null,
          0.0261,
          0.0261,
          0.029,
          0.0261,
          null,
          -0.03382578478527342,
          -0.03052358766888583,
          -0.03931587727027332,
          -0.03382578478527342,
          null,
          0.0174,
          0.0145,
          0.0145,
          0.0174,
          null,
          -0.03931587727027332,
          -0.03052358766888583,
          -0.03428571428571436,
          -0.03931587727027332,
          null,
          -0.0295300675144575,
          -0.02671348181894073,
          -0.02188224724247544,
          -0.0295300675144575,
          null,
          0.008700000000000001,
          0.0116,
          0.008700000000000001,
          0.008700000000000001,
          null,
          -0.0295300675144575,
          -0.02188224724247544,
          -0.02558621049995186,
          -0.0295300675144575,
          null,
          0.0029,
          0.0058,
          0.0058,
          0.0029,
          null,
          -0.02558621049995186,
          -0.03052358766888583,
          -0.03382578478527342,
          -0.02558621049995186,
          null,
          0.0116,
          0.008700000000000001,
          0.008700000000000001,
          0.0116,
          null,
          -0.004001121672634028,
          -0.008571428571428582,
          -0.009877753970159182,
          -0.004001121672634028,
          null,
          0.0116,
          0.008700000000000001,
          0.0116,
          0.0116,
          null,
          -0.0295300675144575,
          -0.03286202205464934,
          -0.02671348181894073,
          -0.0295300675144575,
          null,
          0.008700000000000001,
          0.008700000000000001,
          0.0116,
          0.008700000000000001,
          null,
          0.002900000000000001,
          0.0058,
          0.0058,
          0.002900000000000001,
          null,
          -0.02671348181894073,
          -0.03286202205464934,
          -0.02709999999999999,
          -0.02671348181894073,
          null,
          0.0029,
          0,
          0,
          0.0029,
          null,
          0.008700000000000001,
          0.008700000000000001,
          0.0116,
          0.008700000000000001,
          null,
          -0.03809538092041127,
          -0.03286202205464934,
          -0.0295300675144575,
          -0.03809538092041127,
          null,
          0.0145,
          0.0145,
          0.0174,
          0.0145,
          null,
          0.0145,
          0.0145,
          0.0174,
          0.0145,
          null,
          -0.01407847387689278,
          -0.009877753970159182,
          -0.008571428571428582,
          -0.01407847387689278,
          null,
          -0.02219307248223194,
          -0.02188224724247544,
          -0.02671348181894073,
          -0.02219307248223194,
          null,
          0.002900000000000001,
          0.0029,
          0.0058,
          0.002900000000000001,
          null,
          0.002900000000000001,
          0.0058,
          0.002900000000000001,
          0.002900000000000001,
          null,
          0.0174,
          0.0145,
          0.0174,
          0.0174,
          null,
          0.0116,
          0.0116,
          0.008700000000000001,
          0.0116,
          null,
          0.0058,
          0.002900000000000001,
          0.002900000000000001,
          0.0058,
          null,
          0.0058,
          0.0058,
          0.002900000000000001,
          0.0058,
          null,
          0.0116,
          0.008700000000000001,
          0.0116,
          0.0116,
          null,
          0.029,
          0.0261,
          0.029,
          0.029,
          null,
          0.0203,
          0.0232,
          0.0174,
          0.0203,
          null,
          0.029,
          0.0261,
          0.029,
          0.029,
          null,
          0.0232,
          0.0203,
          0.0203,
          0.0232,
          null,
          0.0116,
          0.008700000000000001,
          0.0116,
          0.0116,
          null,
          0.0145,
          0.0145,
          0.0174,
          0.0145,
          null,
          0.008700000000000001,
          0.002900000000000001,
          0.0058,
          0.008700000000000001,
          null,
          0.008700000000000001,
          0.008700000000000001,
          0.0116,
          0.008700000000000001,
          null,
          0.0232,
          0.0232,
          0.0203,
          0.0232,
          null,
          0.0232,
          0.0232,
          0.0203,
          0.0232,
          null,
          0.0058,
          0.0058,
          0.002900000000000001,
          0.0058,
          null,
          0.0203,
          0.0232,
          0.0203,
          0.0203,
          null,
          0.0174,
          0.0145,
          0.0145,
          0.0174,
          null,
          0.0174,
          0.0145,
          0.0174,
          0.0174,
          null,
          0.0029,
          0.0029,
          0,
          0.0029,
          null,
          0.002900000000000001,
          0.0058,
          0.002900000000000001,
          0.002900000000000001,
          null,
          0.0174,
          0.0145,
          0.0174,
          0.0174,
          null,
          0.029,
          0.0261,
          0.029,
          0.029,
          null,
          0.0174,
          0.0145,
          0.0174,
          0.0174,
          null,
          -0.01714285714285716,
          -0.01407847387689278,
          -0.008571428571428582,
          -0.01714285714285716,
          null,
          -0.007407600659650843,
          -0.01429256316154913,
          -0.009962521872178057,
          -0.007407600659650843,
          null,
          -0.0295300675144575,
          -0.03382578478527342,
          -0.03809538092041127,
          -0.0295300675144575,
          null,
          -0.01824958656348141,
          -0.01169194512681018,
          -0.01536600712353394,
          -0.01824958656348141,
          null,
          -0.02558621049995186,
          -0.03382578478527342,
          -0.0295300675144575,
          -0.02558621049995186,
          null,
          -0.04407977985909093,
          -0.0492446825913567,
          -0.04446754410863971,
          -0.04407977985909093,
          null,
          -0.03809538092041127,
          -0.04446754410863971,
          -0.04040820212140055,
          -0.03809538092041127,
          null,
          -0.04784895138737988,
          -0.04407977985909093,
          -0.04149426619077642,
          -0.04784895138737988,
          null,
          -0.04784895138737988,
          -0.04149426619077642,
          -0.04579982292222972,
          -0.04784895138737988,
          null,
          -0.04407977985909093,
          -0.04784895138737988,
          -0.0492446825913567,
          -0.04407977985909093,
          null,
          -0.01429256316154913,
          -0.01169194512681018,
          -0.01824958656348141,
          -0.01429256316154913,
          null,
          -0.01169194512681018,
          -0.01429256316154913,
          -0.007407600659650843,
          -0.01169194512681018,
          null,
          -0.01824958656348141,
          -0.02188224724247544,
          -0.01429256316154913,
          -0.01824958656348141,
          null,
          -0.05310319564986098,
          -0.05397591190588101,
          -0.04784895138737988,
          -0.05310319564986098,
          null,
          -0.04804193270157518,
          -0.05310319564986098,
          -0.04579982292222972,
          -0.04804193270157518,
          null,
          -0.04784895138737988,
          -0.04579982292222972,
          -0.05310319564986098,
          -0.04784895138737988,
          null,
          -0.005659897919112561,
          -0.00485804089682396,
          -0.009962521872178057,
          -0.005659897919112561,
          null,
          -0.05310319564986098,
          -0.06,
          -0.06,
          -0.05310319564986098,
          null,
          -0.005659897919112561,
          0,
          -0.00485804089682396,
          -0.005659897919112561,
          null,
          -0.005659897919112561,
          -0.01116239542300061,
          -0.005432319795625515,
          -0.005659897919112561,
          null,
          -0.005432319795625515,
          -0.01116239542300061,
          -0.01064999999999999,
          -0.005432319795625515,
          null,
          0,
          -0.005659897919112561,
          0,
          0,
          null,
          -0.05310319564986098,
          -0.04804193270157518,
          -0.05451473995600152,
          -0.05310319564986098,
          null,
          -0.04804193270157518,
          -0.04285714285714291,
          -0.05142857142857146,
          -0.04804193270157518,
          null,
          -0.05502025500766325,
          -0.04814926564470301,
          -0.05043775245394937,
          -0.05502025500766325,
          null,
          -0.04814926564470301,
          -0.05502025500766325,
          -0.05177499999999999,
          -0.04814926564470301,
          null,
          -0.04354999999999998,
          -0.04814926564470301,
          -0.05177499999999999,
          -0.04354999999999998,
          null,
          -0.05397591190588101,
          -0.05310319564986098,
          -0.06,
          -0.05397591190588101,
          null,
          -0.05451473995600152,
          -0.04804193270157518,
          -0.05142857142857146,
          -0.05451473995600152,
          null,
          -0.06,
          -0.05451473995600152,
          -0.05142857142857146,
          -0.06,
          null,
          -0.01956563727789727,
          -0.01536600712353394,
          -0.01407847387689278,
          -0.01956563727789727,
          null,
          -0.01956563727789727,
          -0.01407847387689278,
          -0.01714285714285716,
          -0.01956563727789727,
          null,
          0,
          0,
          -0.005432319795625515,
          0,
          null,
          0,
          -0.005432319795625515,
          -0.002424999999999997,
          0,
          null,
          -0.05043775245394937,
          -0.05477976699314172,
          -0.05502025500766325,
          -0.05043775245394937,
          null,
          -0.06,
          -0.05502025500766325,
          -0.06,
          -0.06,
          null,
          -0.05502025500766325,
          -0.05477976699314172,
          -0.06,
          -0.05502025500766325,
          null,
          -0.009877753970159182,
          -0.005557547449655583,
          -0.004001121672634028,
          -0.009877753970159182,
          null,
          0,
          -0.004001121672634028,
          0,
          0,
          null,
          -0.004001121672634028,
          -0.005557547449655583,
          0,
          -0.004001121672634028,
          null,
          -0.009962521872178057,
          -0.01116239542300061,
          -0.005659897919112561,
          -0.009962521872178057,
          null,
          -0.05177499999999999,
          -0.05502025500766325,
          -0.06,
          -0.05177499999999999,
          null,
          -0.05502025500766325,
          -0.06,
          -0.06,
          -0.05502025500766325,
          null,
          -0.01116239542300061,
          -0.009962521872178057,
          -0.01639463334974361,
          -0.01116239542300061,
          null,
          -0.01887499999999999,
          -0.01116239542300061,
          -0.01639463334974361,
          -0.01887499999999999,
          null,
          -0.004001121672634028,
          0,
          0,
          -0.004001121672634028,
          null,
          -0.008571428571428582,
          -0.004001121672634028,
          0,
          -0.008571428571428582,
          null,
          -0.01116239542300061,
          -0.01887499999999999,
          -0.01064999999999999,
          -0.01116239542300061,
          null,
          -0.04354999999999998,
          -0.04040820212140055,
          -0.04814926564470301,
          -0.04354999999999998,
          null,
          -0.04040820212140055,
          -0.04446754410863971,
          -0.04814926564470301,
          -0.04040820212140055,
          null,
          -0.005432319795625515,
          0,
          -0.005659897919112561,
          -0.005432319795625515,
          null,
          -0.0244136534878383,
          -0.02571428571428576,
          -0.03052358766888583,
          -0.0244136534878383,
          null,
          -0.04040820212140055,
          -0.03532499999999998,
          -0.03286202205464934,
          -0.04040820212140055,
          null,
          -0.0244136534878383,
          -0.02558621049995186,
          -0.02067854632197569,
          -0.0244136534878383,
          null,
          -0.03809538092041127,
          -0.04040820212140055,
          -0.03286202205464934,
          -0.03809538092041127,
          null,
          -0.02558621049995186,
          -0.0244136534878383,
          -0.03052358766888583,
          -0.02558621049995186,
          null,
          -0.01536600712353394,
          -0.01169194512681018,
          -0.009877753970159182,
          -0.01536600712353394,
          null,
          -0.04446754410863971,
          -0.0492446825913567,
          -0.05043775245394937,
          -0.04446754410863971,
          null,
          -0.02671348181894073,
          -0.02709999999999999,
          -0.02219307248223194,
          -0.02671348181894073,
          null,
          0,
          -0.007407600659650843,
          0,
          0,
          null,
          -0.04446754410863971,
          -0.03809538092041127,
          -0.04407977985909093,
          -0.04446754410863971,
          null,
          -0.009877753970159182,
          -0.01407847387689278,
          -0.01536600712353394,
          -0.009877753970159182,
          null,
          -0.03052358766888583,
          -0.02571428571428576,
          -0.03428571428571436,
          -0.03052358766888583,
          null,
          -0.01887499999999999,
          -0.01639463334974361,
          -0.02219307248223194,
          -0.01887499999999999,
          null,
          -0.05310319564986098,
          -0.05451473995600152,
          -0.06,
          -0.05310319564986098,
          null,
          -0.01639463334974361,
          -0.02188224724247544,
          -0.02219307248223194,
          -0.01639463334974361,
          null,
          -0.05451473995600152,
          -0.06,
          -0.06,
          -0.05451473995600152,
          null,
          -0.009962521872178057,
          -0.01429256316154913,
          -0.01639463334974361,
          -0.009962521872178057,
          null,
          -0.05043775245394937,
          -0.04814926564470301,
          -0.04446754410863971,
          -0.05043775245394937,
          null,
          -0.01429256316154913,
          -0.02188224724247544,
          -0.01639463334974361,
          -0.01429256316154913,
          null,
          -0.05477976699314172,
          -0.05043775245394937,
          -0.0492446825913567,
          -0.05477976699314172,
          null,
          -0.05477976699314172,
          -0.06,
          -0.06,
          -0.05477976699314172,
          null,
          -0.03532499999999998,
          -0.04040820212140055,
          -0.04354999999999998,
          -0.03532499999999998,
          null,
          -0.06,
          -0.05397591190588101,
          -0.06,
          -0.06,
          null,
          -0.00485804089682396,
          0,
          -0.007407600659650843,
          -0.00485804089682396,
          null,
          -0.009962521872178057,
          -0.00485804089682396,
          -0.007407600659650843,
          -0.009962521872178057,
          null,
          -0.03286202205464934,
          -0.03532499999999998,
          -0.02709999999999999,
          -0.03286202205464934,
          null,
          -0.005557547449655583,
          -0.009877753970159182,
          -0.01169194512681018,
          -0.005557547449655583,
          null,
          -0.005557547449655583,
          0,
          0,
          -0.005557547449655583,
          null,
          -0.02219307248223194,
          -0.02709999999999999,
          -0.01887499999999999,
          -0.02219307248223194,
          null,
          -0.005432319795625515,
          -0.01064999999999999,
          -0.002424999999999997,
          -0.005432319795625515,
          null,
          -0.03809538092041127,
          -0.04149426619077642,
          -0.04407977985909093,
          -0.03809538092041127,
          null,
          -0.04579982292222972,
          -0.04149426619077642,
          -0.03931587727027332,
          -0.04579982292222972,
          null,
          -0.01824958656348141,
          -0.01536600712353394,
          -0.02067854632197569,
          -0.01824958656348141,
          null,
          -0.02571428571428576,
          -0.01956563727789727,
          -0.01714285714285716,
          -0.02571428571428576,
          null,
          -0.01536600712353394,
          -0.01956563727789727,
          -0.02067854632197569,
          -0.01536600712353394,
          null
         ],
         "y": [
          -2.168404344971009e-19,
          -2.168404344971009e-19,
          0.0029,
          -2.168404344971009e-19,
          null,
          0.008701986520266035,
          0,
          0.00593212042724162,
          0.008701986520266035,
          null,
          0.012127067625855,
          0.008701986520266035,
          0.00593212042724162,
          0.012127067625855,
          null,
          0.0411,
          0.0411,
          0.044,
          0.0411,
          null,
          0.008701986520266035,
          0,
          0,
          0.008701986520266035,
          null,
          0.03578000000000004,
          0.0411,
          0.03288000000000001,
          0.03578000000000004,
          null,
          0.044,
          0.0411,
          0.044,
          0.044,
          null,
          0.0280890958279323,
          0.02933333333333334,
          0.02345,
          0.0280890958279323,
          null,
          0.02733638597423402,
          0.02522170176335852,
          0.01964898874384698,
          0.02733638597423402,
          null,
          0.03578000000000001,
          0.0411,
          0.044,
          0.03578000000000001,
          null,
          0.044,
          0.044,
          0.0411,
          0.044,
          null,
          -2.168404344971009e-19,
          -2.168404344971009e-19,
          0.0029,
          -2.168404344971009e-19,
          null,
          0.01933999999999998,
          0.02466000000000002,
          0.01643999999999999,
          0.01933999999999998,
          null,
          0.03288000000000001,
          0.02466000000000002,
          0.02756000000000001,
          0.03288000000000001,
          null,
          0.0411,
          0.0411,
          0.044,
          0.0411,
          null,
          0.02933333333333333,
          0.02756000000000002,
          0.02345,
          0.02933333333333333,
          null,
          0.0411,
          0.03288000000000001,
          0.03578000000000004,
          0.0411,
          null,
          0.03578000000000004,
          0.03288000000000001,
          0.02756000000000001,
          0.03578000000000004,
          null,
          0.03666666666666667,
          0.03288000000000004,
          0.0411,
          0.03666666666666667,
          null,
          0.0411,
          0.044,
          0.0411,
          0.0411,
          null,
          0.02733638597423402,
          0.01964898874384698,
          0.02200000000000001,
          0.02733638597423402,
          null,
          0.02756000000000001,
          0.02466000000000002,
          0.01933999999999998,
          0.02756000000000001,
          null,
          0.01787518482574466,
          0.01964898874384698,
          0.02522170176335852,
          0.01787518482574466,
          null,
          0.02466000000000001,
          0.03288000000000004,
          0.02933333333333333,
          0.02466000000000001,
          null,
          0.01510504921498416,
          0.01731405245146758,
          0.02250299126817083,
          0.01510504921498416,
          null,
          0.01933999999999999,
          0.02055,
          0.02345,
          0.01933999999999999,
          null,
          0.01510504921498416,
          0.02250299126817083,
          0.02055,
          0.01510504921498416,
          null,
          0.01466666666666663,
          0.01643999999999998,
          0.02199999999999999,
          0.01466666666666663,
          null,
          0.01692485268247845,
          0.008701986520266035,
          0.01764080017276825,
          0.01692485268247845,
          null,
          0.007333333333333296,
          0.008219999999999991,
          0.01466666666666663,
          0.007333333333333296,
          null,
          0.01692485268247845,
          0.01764080017276825,
          0.02664607107251443,
          0.01692485268247845,
          null,
          0.01111999999999996,
          0.01370000000000001,
          0.01933999999999999,
          0.01111999999999996,
          null,
          0.044,
          0.0411,
          0.03578000000000004,
          0.044,
          null,
          0.044,
          0.0411,
          0.044,
          0.044,
          null,
          0.01283103231411693,
          0.01699674375621251,
          0.01850109901063591,
          0.01283103231411693,
          null,
          0.006849999999999992,
          0.01370000000000001,
          0.01111999999999996,
          0.006849999999999992,
          null,
          0.01850109901063591,
          0.01699674375621251,
          0.02721206812012248,
          0.01850109901063591,
          null,
          -2.168404344971009e-19,
          -2.168404344971009e-19,
          0.007333333333333296,
          -2.168404344971009e-19,
          null,
          0.008989731984193061,
          0.01283103231411693,
          0.006518664622521562,
          0.008989731984193061,
          null,
          0.008219999999999991,
          0.01643999999999998,
          0.01466666666666663,
          0.008219999999999991,
          null,
          0.008989731984193061,
          0.006518664622521562,
          0,
          0.008989731984193061,
          null,
          -2.168404344971009e-19,
          0.008219999999999991,
          0.007333333333333296,
          -2.168404344971009e-19,
          null,
          0.01643999999999998,
          0.02466000000000001,
          0.02199999999999999,
          0.01643999999999998,
          null,
          0.01692485268247845,
          0.0086022191644624,
          0.008701986520266035,
          0.01692485268247845,
          null,
          0.02756000000000002,
          0.02466000000000001,
          0.03288000000000004,
          0.02756000000000002,
          null,
          0.008701986520266035,
          0.0086022191644624,
          0,
          0.008701986520266035,
          null,
          0.02591620289436702,
          0.03374164785836482,
          0.02721206812012248,
          0.02591620289436702,
          null,
          0.044,
          0.0411,
          0.03578000000000004,
          0.044,
          null,
          0.02591620289436702,
          0.02721206812012248,
          0.01699674375621251,
          0.02591620289436702,
          null,
          0.02345,
          0.02756000000000002,
          0.01933999999999999,
          0.02345,
          null,
          0.01699674375621251,
          0.0086022191644624,
          0.01692485268247845,
          0.01699674375621251,
          null,
          0.03288000000000001,
          0.02756000000000001,
          0.03578000000000004,
          0.03288000000000001,
          null,
          0.007532589147287124,
          0,
          0.009540485708426376,
          0.007532589147287124,
          null,
          0.02466000000000002,
          0.02756000000000001,
          0.03288000000000001,
          0.02466000000000002,
          null,
          0.02591620289436702,
          0.03512401832785722,
          0.03374164785836482,
          0.02591620289436702,
          null,
          0.01933999999999998,
          0.02756000000000001,
          0.02466000000000002,
          0.01933999999999998,
          null,
          0.006849999999999992,
          0.01111999999999996,
          0.0029,
          0.006849999999999992,
          null,
          0.03374164785836482,
          0.03512401832785722,
          0.044,
          0.03374164785836482,
          null,
          0.02345,
          0.02055,
          0.02345,
          0.02345,
          null,
          0.01111999999999999,
          0.01933999999999998,
          0.01643999999999999,
          0.01111999999999999,
          null,
          0.02664607107251443,
          0.03512401832785722,
          0.02591620289436702,
          0.02664607107251443,
          null,
          0.01643999999999998,
          0.02466000000000001,
          0.01933999999999999,
          0.01643999999999998,
          null,
          0.008219999999999991,
          0.01643999999999998,
          0.01111999999999996,
          0.008219999999999991,
          null,
          0.005567510468374705,
          0.009540485708426376,
          0,
          0.005567510468374705,
          null,
          0.03645595010310405,
          0.02721206812012248,
          0.03374164785836482,
          0.03645595010310405,
          null,
          0.01370000000000001,
          0.02055,
          0.01933999999999999,
          0.01370000000000001,
          null,
          0.03521666666666666,
          0.03578000000000001,
          0.02933333333333333,
          0.03521666666666666,
          null,
          0.0029,
          0.008219999999999991,
          0.01111999999999996,
          0.0029,
          null,
          0.008219999999999957,
          -2.168404344971009e-19,
          0.0029,
          0.008219999999999957,
          null,
          0.0029,
          -2.168404344971009e-19,
          0.006849999999999992,
          0.0029,
          null,
          0.03578000000000001,
          0.02756000000000002,
          0.02933333333333333,
          0.03578000000000001,
          null,
          0.008219999999999957,
          0.01111999999999999,
          0.01643999999999999,
          0.008219999999999957,
          null,
          0.02933333333333333,
          0.03288000000000004,
          0.03666666666666667,
          0.02933333333333333,
          null,
          0.0029,
          -2.168404344971009e-19,
          0.0029,
          0.0029,
          null,
          0.02199999999999999,
          0.02466000000000001,
          0.02933333333333333,
          0.02199999999999999,
          null,
          0.008219999999999957,
          0.0029,
          0.01111999999999999,
          0.008219999999999957,
          null,
          0.01643999999999999,
          0.01933999999999998,
          0.02466000000000002,
          0.01643999999999999,
          null,
          0.03288000000000004,
          0.0411,
          0.03578000000000001,
          0.03288000000000004,
          null,
          0.0029,
          -2.168404344971009e-19,
          0.0029,
          0.0029,
          null,
          0.0029,
          0.01111999999999999,
          0.008219999999999957,
          0.0029,
          null,
          0.01643999999999999,
          0.008219999999999957,
          0.01111999999999999,
          0.01643999999999999,
          null,
          0.008219999999999957,
          -2.168404344971009e-19,
          0.0029,
          0.008219999999999957,
          null,
          0.044,
          0.03578000000000001,
          0.0411,
          0.044,
          null,
          0.01933999999999998,
          0.01643999999999999,
          0.01111999999999999,
          0.01933999999999998,
          null,
          0.0029,
          -2.168404344971009e-19,
          0.008219999999999991,
          0.0029,
          null,
          0.01111999999999996,
          0.01643999999999998,
          0.01933999999999999,
          0.01111999999999996,
          null,
          0.02345,
          0.02055,
          0.02055,
          0.02345,
          null,
          0.0411,
          0.03578000000000001,
          0.03521666666666666,
          0.0411,
          null,
          0.02756000000000002,
          0.03288000000000004,
          0.03578000000000001,
          0.02756000000000002,
          null,
          0.03666666666666667,
          0.0411,
          0.044,
          0.03666666666666667,
          null,
          0.01933999999999999,
          0.02466000000000001,
          0.02756000000000002,
          0.01933999999999999,
          null,
          0,
          0.005567510468374705,
          0,
          0,
          null,
          0.02250299126817083,
          0.02492898431481648,
          0.02995875380738246,
          0.02250299126817083,
          null,
          0.02591620289436702,
          0.01692485268247845,
          0.02664607107251443,
          0.02591620289436702,
          null,
          0.01850109901063591,
          0.01731405245146758,
          0.01172371296844468,
          0.01850109901063591,
          null,
          0.01699674375621251,
          0.01692485268247845,
          0.02591620289436702,
          0.01699674375621251,
          null,
          0.02356963830975092,
          0.02522170176335852,
          0.03090679708965045,
          0.02356963830975092,
          null,
          0.02664607107251443,
          0.03090679708965045,
          0.03644018817839909,
          0.02664607107251443,
          null,
          0.01787518482574466,
          0.02356963830975092,
          0.01764080017276825,
          0.01787518482574466,
          null,
          0.01787518482574466,
          0.01764080017276825,
          0.012127067625855,
          0.01787518482574466,
          null,
          0.02356963830975092,
          0.01787518482574466,
          0.02522170176335852,
          0.02356963830975092,
          null,
          0.02492898431481648,
          0.01731405245146758,
          0.01850109901063591,
          0.02492898431481648,
          null,
          0.01731405245146758,
          0.02492898431481648,
          0.02250299126817083,
          0.01731405245146758,
          null,
          0.01850109901063591,
          0.02721206812012248,
          0.02492898431481648,
          0.01850109901063591,
          null,
          0.01171468028183152,
          0.01964898874384698,
          0.01787518482574466,
          0.01171468028183152,
          null,
          0.00593212042724162,
          0.01171468028183152,
          0.012127067625855,
          0.00593212042724162,
          null,
          0.01787518482574466,
          0.012127067625855,
          0.01171468028183152,
          0.01787518482574466,
          null,
          0.0335049660920046,
          0.0280890958279323,
          0.02995875380738246,
          0.0335049660920046,
          null,
          0.01171468028183152,
          0.007333333333333332,
          0.01466666666666666,
          0.01171468028183152,
          null,
          0.0335049660920046,
          0.02933333333333334,
          0.0280890958279323,
          0.0335049660920046,
          null,
          0.0335049660920046,
          0.03740045094079947,
          0.03961295151607137,
          0.0335049660920046,
          null,
          0.03961295151607137,
          0.03740045094079947,
          0.044,
          0.03961295151607137,
          null,
          0.02933333333333334,
          0.0335049660920046,
          0.03521666666666667,
          0.02933333333333334,
          null,
          0.01171468028183152,
          0.00593212042724162,
          0.004996026808481293,
          0.01171468028183152,
          null,
          0.00593212042724162,
          0,
          0,
          0.00593212042724162,
          null,
          0.03588936507261189,
          0.03796424258037243,
          0.03192492693225338,
          0.03588936507261189,
          null,
          0.03796424258037243,
          0.03588936507261189,
          0.044,
          0.03796424258037243,
          null,
          0.044,
          0.03796424258037243,
          0.044,
          0.044,
          null,
          0.01964898874384698,
          0.01171468028183152,
          0.01466666666666666,
          0.01964898874384698,
          null,
          0.004996026808481293,
          0.00593212042724162,
          0,
          0.004996026808481293,
          null,
          0,
          0.004996026808481293,
          0,
          0,
          null,
          0.006518664622521562,
          0.01172371296844468,
          0.005567510468374705,
          0.006518664622521562,
          null,
          0.006518664622521562,
          0.005567510468374705,
          0,
          0.006518664622521562,
          null,
          0.0411,
          0.03521666666666667,
          0.03961295151607137,
          0.0411,
          null,
          0.0411,
          0.03961295151607137,
          0.044,
          0.0411,
          null,
          0.03192492693225338,
          0.02733638597423402,
          0.03588936507261189,
          0.03192492693225338,
          null,
          0.0366666666666667,
          0.03588936507261189,
          0.02933333333333337,
          0.0366666666666667,
          null,
          0.03588936507261189,
          0.02733638597423402,
          0.02933333333333337,
          0.03588936507261189,
          null,
          0.009540485708426376,
          0.01510504921498416,
          0.007532589147287124,
          0.009540485708426376,
          null,
          0.006849999999999988,
          0.007532589147287124,
          0.0137,
          0.006849999999999988,
          null,
          0.007532589147287124,
          0.01510504921498416,
          0.0137,
          0.007532589147287124,
          null,
          0.02995875380738246,
          0.03740045094079947,
          0.0335049660920046,
          0.02995875380738246,
          null,
          0.044,
          0.03588936507261189,
          0.044,
          0.044,
          null,
          0.03588936507261189,
          0.0366666666666667,
          0.044,
          0.03588936507261189,
          null,
          0.03740045094079947,
          0.02995875380738246,
          0.03332603453703298,
          0.03740045094079947,
          null,
          0.044,
          0.03740045094079947,
          0.03332603453703298,
          0.044,
          null,
          0.007532589147287124,
          0.006849999999999988,
          0,
          0.007532589147287124,
          null,
          0,
          0.007532589147287124,
          0,
          0,
          null,
          0.03740045094079947,
          0.044,
          0.044,
          0.03740045094079947,
          null,
          0.044,
          0.03644018817839909,
          0.03796424258037243,
          0.044,
          null,
          0.03644018817839909,
          0.03090679708965045,
          0.03796424258037243,
          0.03644018817839909,
          null,
          0.03961295151607137,
          0.03521666666666667,
          0.0335049660920046,
          0.03961295151607137,
          null,
          0.008989731984193061,
          0,
          0.0086022191644624,
          0.008989731984193061,
          null,
          0.03644018817839909,
          0.044,
          0.03512401832785722,
          0.03644018817839909,
          null,
          0.008989731984193061,
          0.01699674375621251,
          0.01283103231411693,
          0.008989731984193061,
          null,
          0.02664607107251443,
          0.03644018817839909,
          0.03512401832785722,
          0.02664607107251443,
          null,
          0.01699674375621251,
          0.008989731984193061,
          0.0086022191644624,
          0.01699674375621251,
          null,
          0.01172371296844468,
          0.01731405245146758,
          0.009540485708426376,
          0.01172371296844468,
          null,
          0.03090679708965045,
          0.02522170176335852,
          0.03192492693225338,
          0.03090679708965045,
          null,
          0.03374164785836482,
          0.044,
          0.03645595010310405,
          0.03374164785836482,
          null,
          0.02055,
          0.02250299126817083,
          0.02345,
          0.02055,
          null,
          0.03090679708965045,
          0.02664607107251443,
          0.02356963830975092,
          0.03090679708965045,
          null,
          0.009540485708426376,
          0.005567510468374705,
          0.01172371296844468,
          0.009540485708426376,
          null,
          0.0086022191644624,
          0,
          0,
          0.0086022191644624,
          null,
          0.044,
          0.03332603453703298,
          0.03645595010310405,
          0.044,
          null,
          0.01171468028183152,
          0.004996026808481293,
          0.007333333333333332,
          0.01171468028183152,
          null,
          0.03332603453703298,
          0.02721206812012248,
          0.03645595010310405,
          0.03332603453703298,
          null,
          0.004996026808481293,
          0,
          0.007333333333333332,
          0.004996026808481293,
          null,
          0.02995875380738246,
          0.02492898431481648,
          0.03332603453703298,
          0.02995875380738246,
          null,
          0.03192492693225338,
          0.03796424258037243,
          0.03090679708965045,
          0.03192492693225338,
          null,
          0.02492898431481648,
          0.02721206812012248,
          0.03332603453703298,
          0.02492898431481648,
          null,
          0.02733638597423402,
          0.03192492693225338,
          0.02522170176335852,
          0.02733638597423402,
          null,
          0.02733638597423402,
          0.02200000000000001,
          0.02933333333333337,
          0.02733638597423402,
          null,
          0.044,
          0.03644018817839909,
          0.044,
          0.044,
          null,
          0.02200000000000001,
          0.01964898874384698,
          0.01466666666666666,
          0.02200000000000001,
          null,
          0.0280890958279323,
          0.02345,
          0.02250299126817083,
          0.0280890958279323,
          null,
          0.02995875380738246,
          0.0280890958279323,
          0.02250299126817083,
          0.02995875380738246,
          null,
          0.03512401832785722,
          0.044,
          0.044,
          0.03512401832785722,
          null,
          0.01510504921498416,
          0.009540485708426376,
          0.01731405245146758,
          0.01510504921498416,
          null,
          0.01510504921498416,
          0.02055,
          0.0137,
          0.01510504921498416,
          null,
          0.03645595010310405,
          0.044,
          0.044,
          0.03645595010310405,
          null,
          0.03961295151607137,
          0.044,
          0.044,
          0.03961295151607137,
          null,
          0.02664607107251443,
          0.01764080017276825,
          0.02356963830975092,
          0.02664607107251443,
          null,
          0.012127067625855,
          0.01764080017276825,
          0.008701986520266035,
          0.012127067625855,
          null,
          0.01850109901063591,
          0.01172371296844468,
          0.01283103231411693,
          0.01850109901063591,
          null,
          0,
          0.006518664622521562,
          0,
          0,
          null,
          0.01172371296844468,
          0.006518664622521562,
          0.01283103231411693,
          0.01172371296844468,
          null
         ],
         "z": [
          0,
          0,
          0,
          0,
          null,
          0,
          0,
          0,
          0,
          null,
          0,
          0,
          0,
          0,
          null,
          0,
          0,
          0,
          0,
          null,
          0,
          0,
          0,
          0,
          null,
          0,
          0,
          0,
          0,
          null,
          0,
          0,
          0,
          0,
          null,
          0,
          0,
          0,
          0,
          null,
          0,
          0,
          0,
          0,
          null,
          0,
          0,
          0,
          0,
          null,
          0,
          0,
          0,
          0,
          null,
          0,
          0,
          0,
          0,
          null,
          0,
          0,
          0,
          0,
          null,
          0,
          0,
          0,
          0,
          null,
          0,
          0,
          0,
          0,
          null,
          0,
          0,
          0,
          0,
          null,
          0,
          0,
          0,
          0,
          null,
          0,
          0,
          0,
          0,
          null,
          0,
          0,
          0,
          0,
          null,
          0,
          0,
          0,
          0,
          null,
          0,
          0,
          0,
          0,
          null,
          0,
          0,
          0,
          0,
          null,
          0,
          0,
          0,
          0,
          null,
          0,
          0,
          0,
          0,
          null,
          0,
          0,
          0,
          0,
          null,
          0,
          0,
          0,
          0,
          null,
          0,
          0,
          0,
          0,
          null,
          0,
          0,
          0,
          0,
          null,
          0,
          0,
          0,
          0,
          null,
          0,
          0,
          0,
          0,
          null,
          0,
          0,
          0,
          0,
          null,
          0,
          0,
          0,
          0,
          null,
          0,
          0,
          0,
          0,
          null,
          0,
          0,
          0,
          0,
          null,
          0,
          0,
          0,
          0,
          null,
          0,
          0,
          0,
          0,
          null,
          0,
          0,
          0,
          0,
          null,
          0,
          0,
          0,
          0,
          null,
          0,
          0,
          0,
          0,
          null,
          0,
          0,
          0,
          0,
          null,
          0,
          0,
          0,
          0,
          null,
          0,
          0,
          0,
          0,
          null,
          0,
          0,
          0,
          0,
          null,
          0,
          0,
          0,
          0,
          null,
          0,
          0,
          0,
          0,
          null,
          0,
          0,
          0,
          0,
          null,
          0,
          0,
          0,
          0,
          null,
          0,
          0,
          0,
          0,
          null,
          0,
          0,
          0,
          0,
          null,
          0,
          0,
          0,
          0,
          null,
          0,
          0,
          0,
          0,
          null,
          0,
          0,
          0,
          0,
          null,
          0,
          0,
          0,
          0,
          null,
          0,
          0,
          0,
          0,
          null,
          0,
          0,
          0,
          0,
          null,
          0,
          0,
          0,
          0,
          null,
          0,
          0,
          0,
          0,
          null,
          0,
          0,
          0,
          0,
          null,
          0,
          0,
          0,
          0,
          null,
          0,
          0,
          0,
          0,
          null,
          0,
          0,
          0,
          0,
          null,
          0,
          0,
          0,
          0,
          null,
          0,
          0,
          0,
          0,
          null,
          0,
          0,
          0,
          0,
          null,
          0,
          0,
          0,
          0,
          null,
          0,
          0,
          0,
          0,
          null,
          0,
          0,
          0,
          0,
          null,
          0,
          0,
          0,
          0,
          null,
          0,
          0,
          0,
          0,
          null,
          0,
          0,
          0,
          0,
          null,
          0,
          0,
          0,
          0,
          null,
          0,
          0,
          0,
          0,
          null,
          0,
          0,
          0,
          0,
          null,
          0,
          0,
          0,
          0,
          null,
          0,
          0,
          0,
          0,
          null,
          0,
          0,
          0,
          0,
          null,
          0,
          0,
          0,
          0,
          null,
          0,
          0,
          0,
          0,
          null,
          0,
          0,
          0,
          0,
          null,
          0,
          0,
          0,
          0,
          null,
          0,
          0,
          0,
          0,
          null,
          0,
          0,
          0,
          0,
          null,
          0,
          0,
          0,
          0,
          null,
          0,
          0,
          0,
          0,
          null,
          0,
          0,
          0,
          0,
          null,
          0,
          0,
          0,
          0,
          null,
          0,
          0,
          0,
          0,
          null,
          0,
          0,
          0,
          0,
          null,
          0,
          0,
          0,
          0,
          null,
          0,
          0,
          0,
          0,
          null,
          0,
          0,
          0,
          0,
          null,
          0,
          0,
          0,
          0,
          null,
          0,
          0,
          0,
          0,
          null,
          0,
          0,
          0,
          0,
          null,
          0,
          0,
          0,
          0,
          null,
          0,
          0,
          0,
          0,
          null,
          0,
          0,
          0,
          0,
          null,
          0,
          0,
          0,
          0,
          null,
          0,
          0,
          0,
          0,
          null,
          0,
          0,
          0,
          0,
          null,
          0,
          0,
          0,
          0,
          null,
          0,
          0,
          0,
          0,
          null,
          0,
          0,
          0,
          0,
          null,
          0,
          0,
          0,
          0,
          null,
          0,
          0,
          0,
          0,
          null,
          0,
          0,
          0,
          0,
          null,
          0,
          0,
          0,
          0,
          null,
          0,
          0,
          0,
          0,
          null,
          0,
          0,
          0,
          0,
          null,
          0,
          0,
          0,
          0,
          null,
          0,
          0,
          0,
          0,
          null,
          0,
          0,
          0,
          0,
          null,
          0,
          0,
          0,
          0,
          null,
          0,
          0,
          0,
          0,
          null,
          0,
          0,
          0,
          0,
          null,
          0,
          0,
          0,
          0,
          null,
          0,
          0,
          0,
          0,
          null,
          0,
          0,
          0,
          0,
          null,
          0,
          0,
          0,
          0,
          null,
          0,
          0,
          0,
          0,
          null,
          0,
          0,
          0,
          0,
          null,
          0,
          0,
          0,
          0,
          null,
          0,
          0,
          0,
          0,
          null,
          0,
          0,
          0,
          0,
          null,
          0,
          0,
          0,
          0,
          null,
          0,
          0,
          0,
          0,
          null,
          0,
          0,
          0,
          0,
          null,
          0,
          0,
          0,
          0,
          null,
          0,
          0,
          0,
          0,
          null,
          0,
          0,
          0,
          0,
          null,
          0,
          0,
          0,
          0,
          null,
          0,
          0,
          0,
          0,
          null,
          0,
          0,
          0,
          0,
          null,
          0,
          0,
          0,
          0,
          null,
          0,
          0,
          0,
          0,
          null,
          0,
          0,
          0,
          0,
          null,
          0,
          0,
          0,
          0,
          null,
          0,
          0,
          0,
          0,
          null,
          0,
          0,
          0,
          0,
          null,
          0,
          0,
          0,
          0,
          null,
          0,
          0,
          0,
          0,
          null,
          0,
          0,
          0,
          0,
          null,
          0,
          0,
          0,
          0,
          null,
          0,
          0,
          0,
          0,
          null,
          0,
          0,
          0,
          0,
          null,
          0,
          0,
          0,
          0,
          null,
          0,
          0,
          0,
          0,
          null,
          0,
          0,
          0,
          0,
          null,
          0,
          0,
          0,
          0,
          null,
          0,
          0,
          0,
          0,
          null,
          0,
          0,
          0,
          0,
          null,
          0,
          0,
          0,
          0,
          null,
          0,
          0,
          0,
          0,
          null,
          0,
          0,
          0,
          0,
          null,
          0,
          0,
          0,
          0,
          null,
          0,
          0,
          0,
          0,
          null,
          0,
          0,
          0,
          0,
          null,
          0,
          0,
          0,
          0,
          null,
          0,
          0,
          0,
          0,
          null,
          0,
          0,
          0,
          0,
          null,
          0,
          0,
          0,
          0,
          null,
          0,
          0,
          0,
          0,
          null,
          0,
          0,
          0,
          0,
          null,
          0,
          0,
          0,
          0,
          null,
          0,
          0,
          0,
          0,
          null,
          0,
          0,
          0,
          0,
          null,
          0,
          0,
          0,
          0,
          null,
          0,
          0,
          0,
          0,
          null,
          0,
          0,
          0,
          0,
          null,
          0,
          0,
          0,
          0,
          null,
          0,
          0,
          0,
          0,
          null,
          0,
          0,
          0,
          0,
          null,
          0,
          0,
          0,
          0,
          null,
          0,
          0,
          0,
          0,
          null,
          0,
          0,
          0,
          0,
          null,
          0,
          0,
          0,
          0,
          null,
          0,
          0,
          0,
          0,
          null
         ]
        },
        {
         "hoverinfo": "none",
         "marker": {
          "color": [
           0.0035593419070799855,
           2.255689190345588
          ],
          "colorscale": [
           [
            0,
            "rgb(150, 0, 90)"
           ],
           [
            0.125,
            "rgb(0, 0, 200)"
           ],
           [
            0.25,
            "rgb(0, 25, 255)"
           ],
           [
            0.375,
            "rgb(0, 152, 255)"
           ],
           [
            0.5,
            "rgb(44, 255, 150)"
           ],
           [
            0.625,
            "rgb(151, 255, 0)"
           ],
           [
            0.75,
            "rgb(255, 234, 0)"
           ],
           [
            0.875,
            "rgb(255, 111, 0)"
           ],
           [
            1,
            "rgb(255, 0, 0)"
           ]
          ],
          "showscale": true,
          "size": 0.1
         },
         "mode": "markers",
         "showlegend": false,
         "type": "scatter3d",
         "x": {
          "bdata": "AAAAAAAAAAA=",
          "dtype": "f8"
         },
         "y": {
          "bdata": "iGNd3EYDmD8=",
          "dtype": "f8"
         },
         "z": {
          "bdata": "AAAAAAAAAAA=",
          "dtype": "f8"
         }
        },
        {
         "marker": {
          "color": "red",
          "size": 6,
          "symbol": "circle"
         },
         "mode": "markers+text",
         "name": "Feed Point",
         "type": "scatter3d",
         "x": [
          0
         ],
         "y": [
          0.022
         ],
         "z": [
          0
         ]
        }
       ],
       "layout": {
        "height": 800,
        "legend": {
         "bgcolor": "rgba(255,255,255,0.7)",
         "bordercolor": "lightgray",
         "borderwidth": 1,
         "x": 0.2,
         "xanchor": "left",
         "y": 0.9,
         "yanchor": "top"
        },
        "scene": {
         "aspectratio": {
          "x": 1,
          "y": 0.4943820224719101,
          "z": 0.3
         },
         "camera": {
          "eye": {
           "x": 0.8,
           "y": 0.8,
           "z": 0.7
          }
         },
         "xaxis": {
          "backgroundcolor": "rgb(230, 230, 230)",
          "gridcolor": "rgb(255, 255, 255)",
          "showbackground": true,
          "zerolinecolor": "rgb(255, 255, 255)"
         },
         "yaxis": {
          "backgroundcolor": "rgb(230, 230, 230)",
          "gridcolor": "rgb(255, 255, 255)",
          "showbackground": true,
          "zerolinecolor": "rgb(255, 255, 255)"
         },
         "zaxis": {
          "backgroundcolor": "rgb(230, 230, 230)",
          "gridcolor": "rgb(255, 255, 255)",
          "showbackground": true,
          "zerolinecolor": "rgb(255, 255, 255)"
         }
        },
        "template": {
         "data": {
          "bar": [
           {
            "error_x": {
             "color": "#2a3f5f"
            },
            "error_y": {
             "color": "#2a3f5f"
            },
            "marker": {
             "line": {
              "color": "#E5ECF6",
              "width": 0.5
             },
             "pattern": {
              "fillmode": "overlay",
              "size": 10,
              "solidity": 0.2
             }
            },
            "type": "bar"
           }
          ],
          "barpolar": [
           {
            "marker": {
             "line": {
              "color": "#E5ECF6",
              "width": 0.5
             },
             "pattern": {
              "fillmode": "overlay",
              "size": 10,
              "solidity": 0.2
             }
            },
            "type": "barpolar"
           }
          ],
          "carpet": [
           {
            "aaxis": {
             "endlinecolor": "#2a3f5f",
             "gridcolor": "white",
             "linecolor": "white",
             "minorgridcolor": "white",
             "startlinecolor": "#2a3f5f"
            },
            "baxis": {
             "endlinecolor": "#2a3f5f",
             "gridcolor": "white",
             "linecolor": "white",
             "minorgridcolor": "white",
             "startlinecolor": "#2a3f5f"
            },
            "type": "carpet"
           }
          ],
          "choropleth": [
           {
            "colorbar": {
             "outlinewidth": 0,
             "ticks": ""
            },
            "type": "choropleth"
           }
          ],
          "contour": [
           {
            "colorbar": {
             "outlinewidth": 0,
             "ticks": ""
            },
            "colorscale": [
             [
              0,
              "#0d0887"
             ],
             [
              0.1111111111111111,
              "#46039f"
             ],
             [
              0.2222222222222222,
              "#7201a8"
             ],
             [
              0.3333333333333333,
              "#9c179e"
             ],
             [
              0.4444444444444444,
              "#bd3786"
             ],
             [
              0.5555555555555556,
              "#d8576b"
             ],
             [
              0.6666666666666666,
              "#ed7953"
             ],
             [
              0.7777777777777778,
              "#fb9f3a"
             ],
             [
              0.8888888888888888,
              "#fdca26"
             ],
             [
              1,
              "#f0f921"
             ]
            ],
            "type": "contour"
           }
          ],
          "contourcarpet": [
           {
            "colorbar": {
             "outlinewidth": 0,
             "ticks": ""
            },
            "type": "contourcarpet"
           }
          ],
          "heatmap": [
           {
            "colorbar": {
             "outlinewidth": 0,
             "ticks": ""
            },
            "colorscale": [
             [
              0,
              "#0d0887"
             ],
             [
              0.1111111111111111,
              "#46039f"
             ],
             [
              0.2222222222222222,
              "#7201a8"
             ],
             [
              0.3333333333333333,
              "#9c179e"
             ],
             [
              0.4444444444444444,
              "#bd3786"
             ],
             [
              0.5555555555555556,
              "#d8576b"
             ],
             [
              0.6666666666666666,
              "#ed7953"
             ],
             [
              0.7777777777777778,
              "#fb9f3a"
             ],
             [
              0.8888888888888888,
              "#fdca26"
             ],
             [
              1,
              "#f0f921"
             ]
            ],
            "type": "heatmap"
           }
          ],
          "histogram": [
           {
            "marker": {
             "pattern": {
              "fillmode": "overlay",
              "size": 10,
              "solidity": 0.2
             }
            },
            "type": "histogram"
           }
          ],
          "histogram2d": [
           {
            "colorbar": {
             "outlinewidth": 0,
             "ticks": ""
            },
            "colorscale": [
             [
              0,
              "#0d0887"
             ],
             [
              0.1111111111111111,
              "#46039f"
             ],
             [
              0.2222222222222222,
              "#7201a8"
             ],
             [
              0.3333333333333333,
              "#9c179e"
             ],
             [
              0.4444444444444444,
              "#bd3786"
             ],
             [
              0.5555555555555556,
              "#d8576b"
             ],
             [
              0.6666666666666666,
              "#ed7953"
             ],
             [
              0.7777777777777778,
              "#fb9f3a"
             ],
             [
              0.8888888888888888,
              "#fdca26"
             ],
             [
              1,
              "#f0f921"
             ]
            ],
            "type": "histogram2d"
           }
          ],
          "histogram2dcontour": [
           {
            "colorbar": {
             "outlinewidth": 0,
             "ticks": ""
            },
            "colorscale": [
             [
              0,
              "#0d0887"
             ],
             [
              0.1111111111111111,
              "#46039f"
             ],
             [
              0.2222222222222222,
              "#7201a8"
             ],
             [
              0.3333333333333333,
              "#9c179e"
             ],
             [
              0.4444444444444444,
              "#bd3786"
             ],
             [
              0.5555555555555556,
              "#d8576b"
             ],
             [
              0.6666666666666666,
              "#ed7953"
             ],
             [
              0.7777777777777778,
              "#fb9f3a"
             ],
             [
              0.8888888888888888,
              "#fdca26"
             ],
             [
              1,
              "#f0f921"
             ]
            ],
            "type": "histogram2dcontour"
           }
          ],
          "mesh3d": [
           {
            "colorbar": {
             "outlinewidth": 0,
             "ticks": ""
            },
            "type": "mesh3d"
           }
          ],
          "parcoords": [
           {
            "line": {
             "colorbar": {
              "outlinewidth": 0,
              "ticks": ""
             }
            },
            "type": "parcoords"
           }
          ],
          "pie": [
           {
            "automargin": true,
            "type": "pie"
           }
          ],
          "scatter": [
           {
            "fillpattern": {
             "fillmode": "overlay",
             "size": 10,
             "solidity": 0.2
            },
            "type": "scatter"
           }
          ],
          "scatter3d": [
           {
            "line": {
             "colorbar": {
              "outlinewidth": 0,
              "ticks": ""
             }
            },
            "marker": {
             "colorbar": {
              "outlinewidth": 0,
              "ticks": ""
             }
            },
            "type": "scatter3d"
           }
          ],
          "scattercarpet": [
           {
            "marker": {
             "colorbar": {
              "outlinewidth": 0,
              "ticks": ""
             }
            },
            "type": "scattercarpet"
           }
          ],
          "scattergeo": [
           {
            "marker": {
             "colorbar": {
              "outlinewidth": 0,
              "ticks": ""
             }
            },
            "type": "scattergeo"
           }
          ],
          "scattergl": [
           {
            "marker": {
             "colorbar": {
              "outlinewidth": 0,
              "ticks": ""
             }
            },
            "type": "scattergl"
           }
          ],
          "scattermap": [
           {
            "marker": {
             "colorbar": {
              "outlinewidth": 0,
              "ticks": ""
             }
            },
            "type": "scattermap"
           }
          ],
          "scattermapbox": [
           {
            "marker": {
             "colorbar": {
              "outlinewidth": 0,
              "ticks": ""
             }
            },
            "type": "scattermapbox"
           }
          ],
          "scatterpolar": [
           {
            "marker": {
             "colorbar": {
              "outlinewidth": 0,
              "ticks": ""
             }
            },
            "type": "scatterpolar"
           }
          ],
          "scatterpolargl": [
           {
            "marker": {
             "colorbar": {
              "outlinewidth": 0,
              "ticks": ""
             }
            },
            "type": "scatterpolargl"
           }
          ],
          "scatterternary": [
           {
            "marker": {
             "colorbar": {
              "outlinewidth": 0,
              "ticks": ""
             }
            },
            "type": "scatterternary"
           }
          ],
          "surface": [
           {
            "colorbar": {
             "outlinewidth": 0,
             "ticks": ""
            },
            "colorscale": [
             [
              0,
              "#0d0887"
             ],
             [
              0.1111111111111111,
              "#46039f"
             ],
             [
              0.2222222222222222,
              "#7201a8"
             ],
             [
              0.3333333333333333,
              "#9c179e"
             ],
             [
              0.4444444444444444,
              "#bd3786"
             ],
             [
              0.5555555555555556,
              "#d8576b"
             ],
             [
              0.6666666666666666,
              "#ed7953"
             ],
             [
              0.7777777777777778,
              "#fb9f3a"
             ],
             [
              0.8888888888888888,
              "#fdca26"
             ],
             [
              1,
              "#f0f921"
             ]
            ],
            "type": "surface"
           }
          ],
          "table": [
           {
            "cells": {
             "fill": {
              "color": "#EBF0F8"
             },
             "line": {
              "color": "white"
             }
            },
            "header": {
             "fill": {
              "color": "#C8D4E3"
             },
             "line": {
              "color": "white"
             }
            },
            "type": "table"
           }
          ]
         },
         "layout": {
          "annotationdefaults": {
           "arrowcolor": "#2a3f5f",
           "arrowhead": 0,
           "arrowwidth": 1
          },
          "autotypenumbers": "strict",
          "coloraxis": {
           "colorbar": {
            "outlinewidth": 0,
            "ticks": ""
           }
          },
          "colorscale": {
           "diverging": [
            [
             0,
             "#8e0152"
            ],
            [
             0.1,
             "#c51b7d"
            ],
            [
             0.2,
             "#de77ae"
            ],
            [
             0.3,
             "#f1b6da"
            ],
            [
             0.4,
             "#fde0ef"
            ],
            [
             0.5,
             "#f7f7f7"
            ],
            [
             0.6,
             "#e6f5d0"
            ],
            [
             0.7,
             "#b8e186"
            ],
            [
             0.8,
             "#7fbc41"
            ],
            [
             0.9,
             "#4d9221"
            ],
            [
             1,
             "#276419"
            ]
           ],
           "sequential": [
            [
             0,
             "#0d0887"
            ],
            [
             0.1111111111111111,
             "#46039f"
            ],
            [
             0.2222222222222222,
             "#7201a8"
            ],
            [
             0.3333333333333333,
             "#9c179e"
            ],
            [
             0.4444444444444444,
             "#bd3786"
            ],
            [
             0.5555555555555556,
             "#d8576b"
            ],
            [
             0.6666666666666666,
             "#ed7953"
            ],
            [
             0.7777777777777778,
             "#fb9f3a"
            ],
            [
             0.8888888888888888,
             "#fdca26"
            ],
            [
             1,
             "#f0f921"
            ]
           ],
           "sequentialminus": [
            [
             0,
             "#0d0887"
            ],
            [
             0.1111111111111111,
             "#46039f"
            ],
            [
             0.2222222222222222,
             "#7201a8"
            ],
            [
             0.3333333333333333,
             "#9c179e"
            ],
            [
             0.4444444444444444,
             "#bd3786"
            ],
            [
             0.5555555555555556,
             "#d8576b"
            ],
            [
             0.6666666666666666,
             "#ed7953"
            ],
            [
             0.7777777777777778,
             "#fb9f3a"
            ],
            [
             0.8888888888888888,
             "#fdca26"
            ],
            [
             1,
             "#f0f921"
            ]
           ]
          },
          "colorway": [
           "#636efa",
           "#EF553B",
           "#00cc96",
           "#ab63fa",
           "#FFA15A",
           "#19d3f3",
           "#FF6692",
           "#B6E880",
           "#FF97FF",
           "#FECB52"
          ],
          "font": {
           "color": "#2a3f5f"
          },
          "geo": {
           "bgcolor": "white",
           "lakecolor": "white",
           "landcolor": "#E5ECF6",
           "showlakes": true,
           "showland": true,
           "subunitcolor": "white"
          },
          "hoverlabel": {
           "align": "left"
          },
          "hovermode": "closest",
          "mapbox": {
           "style": "light"
          },
          "paper_bgcolor": "white",
          "plot_bgcolor": "#E5ECF6",
          "polar": {
           "angularaxis": {
            "gridcolor": "white",
            "linecolor": "white",
            "ticks": ""
           },
           "bgcolor": "#E5ECF6",
           "radialaxis": {
            "gridcolor": "white",
            "linecolor": "white",
            "ticks": ""
           }
          },
          "scene": {
           "xaxis": {
            "backgroundcolor": "#E5ECF6",
            "gridcolor": "white",
            "gridwidth": 2,
            "linecolor": "white",
            "showbackground": true,
            "ticks": "",
            "zerolinecolor": "white"
           },
           "yaxis": {
            "backgroundcolor": "#E5ECF6",
            "gridcolor": "white",
            "gridwidth": 2,
            "linecolor": "white",
            "showbackground": true,
            "ticks": "",
            "zerolinecolor": "white"
           },
           "zaxis": {
            "backgroundcolor": "#E5ECF6",
            "gridcolor": "white",
            "gridwidth": 2,
            "linecolor": "white",
            "showbackground": true,
            "ticks": "",
            "zerolinecolor": "white"
           }
          },
          "shapedefaults": {
           "line": {
            "color": "#2a3f5f"
           }
          },
          "ternary": {
           "aaxis": {
            "gridcolor": "white",
            "linecolor": "white",
            "ticks": ""
           },
           "baxis": {
            "gridcolor": "white",
            "linecolor": "white",
            "ticks": ""
           },
           "bgcolor": "#E5ECF6",
           "caxis": {
            "gridcolor": "white",
            "linecolor": "white",
            "ticks": ""
           }
          },
          "title": {
           "x": 0.05
          },
          "xaxis": {
           "automargin": true,
           "gridcolor": "white",
           "linecolor": "white",
           "ticks": "",
           "title": {
            "standoff": 15
           },
           "zerolinecolor": "white",
           "zerolinewidth": 2
          },
          "yaxis": {
           "automargin": true,
           "gridcolor": "white",
           "linecolor": "white",
           "ticks": "",
           "title": {
            "standoff": 15
           },
           "zerolinecolor": "white",
           "zerolinewidth": 2
          }
         }
        },
        "title": {
         "text": "ifa_M_opti3 antenna surface current in radiation mode"
        },
        "width": 800
       }
      }
     },
     "metadata": {},
     "output_type": "display_data"
    },
    {
     "name": "stdout",
     "output_type": "stream",
     "text": [
      "Simulation 43/101 | f = 868.00 MHz | S11 = -0.24 dB\n",
      "Simulation 44/101 | f = 872.00 MHz | S11 = -0.23 dB\n",
      "Simulation 45/101 | f = 876.00 MHz | S11 = -0.22 dB\n",
      "Simulation 46/101 | f = 880.00 MHz | S11 = -0.21 dB\n",
      "Simulation 47/101 | f = 884.00 MHz | S11 = -0.20 dB\n",
      "Simulation 48/101 | f = 888.00 MHz | S11 = -0.19 dB\n",
      "Simulation 49/101 | f = 892.00 MHz | S11 = -0.19 dB\n",
      "Simulation 50/101 | f = 896.00 MHz | S11 = -0.18 dB\n",
      "Simulation 51/101 | f = 900.00 MHz | S11 = -0.17 dB\n",
      "Simulation 52/101 | f = 904.00 MHz | S11 = -0.17 dB\n",
      "Simulation 53/101 | f = 908.00 MHz | S11 = -0.16 dB\n",
      "Simulation 54/101 | f = 912.00 MHz | S11 = -0.15 dB\n",
      "Simulation 55/101 | f = 916.00 MHz | S11 = -0.15 dB\n",
      "Simulation 56/101 | f = 920.00 MHz | S11 = -0.14 dB\n",
      "Simulation 57/101 | f = 924.00 MHz | S11 = -0.14 dB\n",
      "Simulation 58/101 | f = 928.00 MHz | S11 = -0.13 dB\n",
      "Simulation 59/101 | f = 932.00 MHz | S11 = -0.13 dB\n",
      "Simulation 60/101 | f = 936.00 MHz | S11 = -0.12 dB\n",
      "Simulation 61/101 | f = 940.00 MHz | S11 = -0.12 dB\n",
      "Simulation 62/101 | f = 944.00 MHz | S11 = -0.11 dB\n",
      "Simulation 63/101 | f = 948.00 MHz | S11 = -0.11 dB\n",
      "Simulation 64/101 | f = 952.00 MHz | S11 = -0.11 dB\n",
      "Simulation 65/101 | f = 956.00 MHz | S11 = -0.10 dB\n",
      "Simulation 66/101 | f = 960.00 MHz | S11 = -0.10 dB\n",
      "Simulation 67/101 | f = 964.00 MHz | S11 = -0.09 dB\n",
      "Simulation 68/101 | f = 968.00 MHz | S11 = -0.09 dB\n",
      "Simulation 69/101 | f = 972.00 MHz | S11 = -0.09 dB\n",
      "Simulation 70/101 | f = 976.00 MHz | S11 = -0.08 dB\n",
      "Simulation 71/101 | f = 980.00 MHz | S11 = -0.08 dB\n",
      "Simulation 72/101 | f = 984.00 MHz | S11 = -0.08 dB\n",
      "Simulation 73/101 | f = 988.00 MHz | S11 = -0.07 dB\n",
      "Simulation 74/101 | f = 992.00 MHz | S11 = -0.07 dB\n",
      "Simulation 75/101 | f = 996.00 MHz | S11 = -0.07 dB\n",
      "Simulation 76/101 | f = 1000.00 MHz | S11 = -0.07 dB\n",
      "Simulation 77/101 | f = 1004.00 MHz | S11 = -0.06 dB\n",
      "Simulation 78/101 | f = 1008.00 MHz | S11 = -0.06 dB\n",
      "Simulation 79/101 | f = 1012.00 MHz | S11 = -0.06 dB\n",
      "Simulation 80/101 | f = 1016.00 MHz | S11 = -0.06 dB\n",
      "Simulation 81/101 | f = 1020.00 MHz | S11 = -0.05 dB\n",
      "Simulation 82/101 | f = 1024.00 MHz | S11 = -0.05 dB\n",
      "Simulation 83/101 | f = 1028.00 MHz | S11 = -0.05 dB\n",
      "Simulation 84/101 | f = 1032.00 MHz | S11 = -0.05 dB\n",
      "Simulation 85/101 | f = 1036.00 MHz | S11 = -0.04 dB\n",
      "Simulation 86/101 | f = 1040.00 MHz | S11 = -0.04 dB\n",
      "Simulation 87/101 | f = 1044.00 MHz | S11 = -0.04 dB\n",
      "Simulation 88/101 | f = 1048.00 MHz | S11 = -0.04 dB\n",
      "Simulation 89/101 | f = 1052.00 MHz | S11 = -0.04 dB\n",
      "Simulation 90/101 | f = 1056.00 MHz | S11 = -0.03 dB\n",
      "Simulation 91/101 | f = 1060.00 MHz | S11 = -0.03 dB\n",
      "Simulation 92/101 | f = 1064.00 MHz | S11 = -0.03 dB\n",
      "Simulation 93/101 | f = 1068.00 MHz | S11 = -0.03 dB\n",
      "Simulation 94/101 | f = 1072.00 MHz | S11 = -0.03 dB\n",
      "Simulation 95/101 | f = 1076.00 MHz | S11 = -0.03 dB\n",
      "Simulation 96/101 | f = 1080.00 MHz | S11 = -0.03 dB\n",
      "Simulation 97/101 | f = 1084.00 MHz | S11 = -0.03 dB\n",
      "Simulation 98/101 | f = 1088.00 MHz | S11 = -0.02 dB\n",
      "Simulation 99/101 | f = 1092.00 MHz | S11 = -0.02 dB\n",
      "Simulation 100/101 | f = 1096.00 MHz | S11 = -0.02 dB\n",
      "Simulation 101/101 | f = 1100.00 MHz | S11 = -0.02 dB\n"
     ]
    },
    {
     "data": {
      "application/vnd.plotly.v1+json": {
       "config": {
        "plotlyServerURL": "https://plot.ly"
       },
       "data": [
        {
         "hoverinfo": "text",
         "imag": [
          0.2152140192205907,
          0.31890952430000064,
          0.4122230921463446,
          0.4967663625509254,
          0.5738669646609067,
          0.6446192600042896,
          0.7099282416905397,
          0.7705457603240283,
          0.8270997692318147,
          0.880117705559186,
          0.9300451230151259,
          0.977260547468183,
          1.0220873520272276,
          1.0648032864076655,
          1.1056481591800302,
          1.1448300619468703,
          1.1825304383892108,
          1.2189082342325772,
          1.254103312502223,
          1.2882392785638583,
          1.3214258286630514,
          1.353760711853064,
          1.3853313767043967,
          1.4162163597705384,
          1.4464864615033195,
          1.4762057464307476,
          1.5054323974083672,
          1.534219448187191,
          1.562615414108975,
          1.590664837188054,
          1.618408758981127,
          1.645885132338359,
          1.673129181256507,
          1.700173716527575,
          1.7270494136306147,
          1.753785058286297,
          1.7804077642520204,
          1.8069431672353544,
          1.8334155982251528,
          1.8598482390547517,
          1.886263262614509,
          1.9126819597857538,
          1.9656118112406902,
          1.9921621280510504,
          2.018794630059804,
          2.0455277507438994,
          2.0723796101492864,
          2.0993680881276546,
          2.126510893722347,
          2.153825631370995,
          2.1813298645315142,
          2.209041177291048,
          2.2369772344759324,
          2.2651558407490775,
          2.2935949991568316,
          2.3223129695706106,
          2.3513283274538153,
          2.3806600233813926,
          2.4103274437375166,
          2.440350473020734,
          2.4707495581980257,
          2.501545775563523,
          2.532760900578319,
          2.564417481196009,
          2.59653891521108,
          2.6291495322072915,
          2.6622746807320072,
          2.695940821375503,
          2.73017562650169,
          2.7650080874518492,
          2.800468630127335,
          2.836589239961221,
          2.8734035974009986,
          2.910947225160306,
          2.949257648648108,
          2.9883745711643424,
          3.0283400656509514,
          3.0691987850248954,
          3.1109981933941344,
          3.153788820770099,
          3.1976245442621547,
          3.242562899164537,
          3.288665423847707,
          3.3359980429497744,
          3.3846314940517344,
          3.4346418038245328,
          3.4861108205891758,
          3.5391268113617143,
          3.5937851327837973,
          3.650188986941747,
          3.7084502749743624,
          3.7686905636536268,
          3.831042182872003,
          3.895649475286293,
          3.962670223398019,
          4.032277284256103,
          4.104660467973128,
          4.180028703624448,
          4.2586125452212285,
          4.340667081763838
         ],
         "marker": {
          "color": "blue",
          "size": 4
         },
         "mode": "markers+lines",
         "name": "Impedance Points",
         "real": [
          0.47865744961527557,
          0.424098198914883,
          0.3793037926804287,
          0.3420584421643617,
          0.31073863182248185,
          0.2841342144281245,
          0.26132894730809036,
          0.24161915512427362,
          0.2244573374763052,
          0.2094124068545268,
          0.19614121144320165,
          0.18436784299917783,
          0.17386839876912522,
          0.16445961959439173,
          0.15599031989801562,
          0.14833485378697955,
          0.14138808346414622,
          0.13506146820693096,
          0.12927999771752458,
          0.12397976782073544,
          0.11910604921365106,
          0.11461173786795507,
          0.11045610320304515,
          0.10660377032608118,
          0.10302388756391336,
          0.09968944165773308,
          0.09657669137678118,
          0.0936646966694676,
          0.09093492533030983,
          0.08837092290086171,
          0.08595803441999332,
          0.08368316889703134,
          0.08153459915254928,
          0.07950179106878848,
          0.07757525739992938,
          0.07574643217627108,
          0.07400756244448137,
          0.07235161465673165,
          0.07077219348297396,
          0.06926347119564152,
          0.06782012608236146,
          0.06643728859323873,
          0.06383564159979503,
          0.06260895684191058,
          0.061426960464700704,
          0.06028643933981675,
          0.05918442139383446,
          0.05811815325165423,
          0.05708508038893473,
          0.05608282949483476,
          0.05510919278862929,
          0.054162114069831346,
          0.05323967631241366,
          0.05234009064011125,
          0.05146168654332084,
          0.050602903217648404,
          0.04976228192224772,
          0.04893845927133971,
          0.04813016138630389,
          0.04733619884822817,
          0.04655546240216744,
          0.04578691937486519,
          0.04502961077777571,
          0.04428264907635796,
          0.043545216616317495,
          0.04281656470618485,
          0.04209601336533554,
          0.04138295175604316,
          0.040676839328375694,
          0.03997720771784477,
          0.039283663447665935,
          0.0385958915007859,
          0.03791365984182395,
          0.037236824986016014,
          0.03656533873167052,
          0.03589925619495081,
          0.035238745311925224,
          0.034584098003002925,
          0.033935743230615385,
          0.03329426222304514,
          0.03266040618689512,
          0.03203511688999468,
          0.03141955056713166,
          0.030815105685394462,
          0.030223455207789088,
          0.029646584116086564,
          0.02908683310261723,
          0.028546949520726127,
          0.028030146903750032,
          0.02754017463136611,
          0.02708139965308937,
          0.02665890258673304,
          0.026278591015390367,
          0.025947333435769323,
          0.025673118097397078,
          0.025465241960217974,
          0.025334536245160588,
          0.025293636634512607,
          0.025357308197019514,
          0.025542837701611143
         ],
         "text": [
          "Z = 23.933+10.761j at 700.0 MHz",
          "Z = 21.205+15.945j at 704.0 MHz",
          "Z = 18.965+20.611j at 708.0 MHz",
          "Z = 17.103+24.838j at 712.0 MHz",
          "Z = 15.537+28.693j at 716.0 MHz",
          "Z = 14.207+32.231j at 720.0 MHz",
          "Z = 13.066+35.496j at 724.0 MHz",
          "Z = 12.081+38.527j at 728.0 MHz",
          "Z = 11.223+41.355j at 732.0 MHz",
          "Z = 10.471+44.006j at 736.0 MHz",
          "Z = 9.807+46.502j at 740.0 MHz",
          "Z = 9.218+48.863j at 744.0 MHz",
          "Z = 8.693+51.104j at 748.0 MHz",
          "Z = 8.223+53.240j at 752.0 MHz",
          "Z = 7.800+55.282j at 756.0 MHz",
          "Z = 7.417+57.242j at 760.0 MHz",
          "Z = 7.069+59.127j at 764.0 MHz",
          "Z = 6.753+60.945j at 768.0 MHz",
          "Z = 6.464+62.705j at 772.0 MHz",
          "Z = 6.199+64.412j at 776.0 MHz",
          "Z = 5.955+66.071j at 780.0 MHz",
          "Z = 5.731+67.688j at 784.0 MHz",
          "Z = 5.523+69.267j at 788.0 MHz",
          "Z = 5.330+70.811j at 792.0 MHz",
          "Z = 5.151+72.324j at 796.0 MHz",
          "Z = 4.984+73.810j at 800.0 MHz",
          "Z = 4.829+75.272j at 804.0 MHz",
          "Z = 4.683+76.711j at 808.0 MHz",
          "Z = 4.547+78.131j at 812.0 MHz",
          "Z = 4.419+79.533j at 816.0 MHz",
          "Z = 4.298+80.920j at 820.0 MHz",
          "Z = 4.184+82.294j at 824.0 MHz",
          "Z = 4.077+83.656j at 828.0 MHz",
          "Z = 3.975+85.009j at 832.0 MHz",
          "Z = 3.879+86.352j at 836.0 MHz",
          "Z = 3.787+87.689j at 840.0 MHz",
          "Z = 3.700+89.020j at 844.0 MHz",
          "Z = 3.618+90.347j at 848.0 MHz",
          "Z = 3.539+91.671j at 852.0 MHz",
          "Z = 3.463+92.992j at 856.0 MHz",
          "Z = 3.391+94.313j at 860.0 MHz",
          "Z = 3.322+95.634j at 864.0 MHz",
          "Z = 3.192+98.281j at 872.0 MHz",
          "Z = 3.130+99.608j at 876.0 MHz",
          "Z = 3.071+100.940j at 880.0 MHz",
          "Z = 3.014+102.276j at 884.0 MHz",
          "Z = 2.959+103.619j at 888.0 MHz",
          "Z = 2.906+104.968j at 892.0 MHz",
          "Z = 2.854+106.326j at 896.0 MHz",
          "Z = 2.804+107.691j at 900.0 MHz",
          "Z = 2.755+109.066j at 904.0 MHz",
          "Z = 2.708+110.452j at 908.0 MHz",
          "Z = 2.662+111.849j at 912.0 MHz",
          "Z = 2.617+113.258j at 916.0 MHz",
          "Z = 2.573+114.680j at 920.0 MHz",
          "Z = 2.530+116.116j at 924.0 MHz",
          "Z = 2.488+117.566j at 928.0 MHz",
          "Z = 2.447+119.033j at 932.0 MHz",
          "Z = 2.407+120.516j at 936.0 MHz",
          "Z = 2.367+122.018j at 940.0 MHz",
          "Z = 2.328+123.537j at 944.0 MHz",
          "Z = 2.289+125.077j at 948.0 MHz",
          "Z = 2.251+126.638j at 952.0 MHz",
          "Z = 2.214+128.221j at 956.0 MHz",
          "Z = 2.177+129.827j at 960.0 MHz",
          "Z = 2.141+131.457j at 964.0 MHz",
          "Z = 2.105+133.114j at 968.0 MHz",
          "Z = 2.069+134.797j at 972.0 MHz",
          "Z = 2.034+136.509j at 976.0 MHz",
          "Z = 1.999+138.250j at 980.0 MHz",
          "Z = 1.964+140.023j at 984.0 MHz",
          "Z = 1.930+141.829j at 988.0 MHz",
          "Z = 1.896+143.670j at 992.0 MHz",
          "Z = 1.862+145.547j at 996.0 MHz",
          "Z = 1.828+147.463j at 1000.0 MHz",
          "Z = 1.795+149.419j at 1004.0 MHz",
          "Z = 1.762+151.417j at 1008.0 MHz",
          "Z = 1.729+153.460j at 1012.0 MHz",
          "Z = 1.697+155.550j at 1016.0 MHz",
          "Z = 1.665+157.689j at 1020.0 MHz",
          "Z = 1.633+159.881j at 1024.0 MHz",
          "Z = 1.602+162.128j at 1028.0 MHz",
          "Z = 1.571+164.433j at 1032.0 MHz",
          "Z = 1.541+166.800j at 1036.0 MHz",
          "Z = 1.511+169.232j at 1040.0 MHz",
          "Z = 1.482+171.732j at 1044.0 MHz",
          "Z = 1.454+174.306j at 1048.0 MHz",
          "Z = 1.427+176.956j at 1052.0 MHz",
          "Z = 1.402+179.689j at 1056.0 MHz",
          "Z = 1.377+182.509j at 1060.0 MHz",
          "Z = 1.354+185.423j at 1064.0 MHz",
          "Z = 1.333+188.435j at 1068.0 MHz",
          "Z = 1.314+191.552j at 1072.0 MHz",
          "Z = 1.297+194.782j at 1076.0 MHz",
          "Z = 1.284+198.134j at 1080.0 MHz",
          "Z = 1.273+201.614j at 1084.0 MHz",
          "Z = 1.267+205.233j at 1088.0 MHz",
          "Z = 1.265+209.001j at 1092.0 MHz",
          "Z = 1.268+212.931j at 1096.0 MHz",
          "Z = 1.277+217.033j at 1100.0 MHz"
         ],
         "type": "scattersmith"
        },
        {
         "hoverinfo": "text",
         "imag": [
          1.939124854895014
         ],
         "marker": {
          "color": "red",
          "size": 10,
          "symbol": "circle"
         },
         "mode": "markers",
         "name": "Impedance at fC=868.0 MHz",
         "real": [
          0.06511049413554625
         ],
         "text": [
          "Z = 3.256+96.956j at 868.0 MHz"
         ],
         "type": "scattersmith"
        }
       ],
       "layout": {
        "height": 618,
        "showlegend": true,
        "template": {
         "data": {
          "bar": [
           {
            "error_x": {
             "color": "#2a3f5f"
            },
            "error_y": {
             "color": "#2a3f5f"
            },
            "marker": {
             "line": {
              "color": "#E5ECF6",
              "width": 0.5
             },
             "pattern": {
              "fillmode": "overlay",
              "size": 10,
              "solidity": 0.2
             }
            },
            "type": "bar"
           }
          ],
          "barpolar": [
           {
            "marker": {
             "line": {
              "color": "#E5ECF6",
              "width": 0.5
             },
             "pattern": {
              "fillmode": "overlay",
              "size": 10,
              "solidity": 0.2
             }
            },
            "type": "barpolar"
           }
          ],
          "carpet": [
           {
            "aaxis": {
             "endlinecolor": "#2a3f5f",
             "gridcolor": "white",
             "linecolor": "white",
             "minorgridcolor": "white",
             "startlinecolor": "#2a3f5f"
            },
            "baxis": {
             "endlinecolor": "#2a3f5f",
             "gridcolor": "white",
             "linecolor": "white",
             "minorgridcolor": "white",
             "startlinecolor": "#2a3f5f"
            },
            "type": "carpet"
           }
          ],
          "choropleth": [
           {
            "colorbar": {
             "outlinewidth": 0,
             "ticks": ""
            },
            "type": "choropleth"
           }
          ],
          "contour": [
           {
            "colorbar": {
             "outlinewidth": 0,
             "ticks": ""
            },
            "colorscale": [
             [
              0,
              "#0d0887"
             ],
             [
              0.1111111111111111,
              "#46039f"
             ],
             [
              0.2222222222222222,
              "#7201a8"
             ],
             [
              0.3333333333333333,
              "#9c179e"
             ],
             [
              0.4444444444444444,
              "#bd3786"
             ],
             [
              0.5555555555555556,
              "#d8576b"
             ],
             [
              0.6666666666666666,
              "#ed7953"
             ],
             [
              0.7777777777777778,
              "#fb9f3a"
             ],
             [
              0.8888888888888888,
              "#fdca26"
             ],
             [
              1,
              "#f0f921"
             ]
            ],
            "type": "contour"
           }
          ],
          "contourcarpet": [
           {
            "colorbar": {
             "outlinewidth": 0,
             "ticks": ""
            },
            "type": "contourcarpet"
           }
          ],
          "heatmap": [
           {
            "colorbar": {
             "outlinewidth": 0,
             "ticks": ""
            },
            "colorscale": [
             [
              0,
              "#0d0887"
             ],
             [
              0.1111111111111111,
              "#46039f"
             ],
             [
              0.2222222222222222,
              "#7201a8"
             ],
             [
              0.3333333333333333,
              "#9c179e"
             ],
             [
              0.4444444444444444,
              "#bd3786"
             ],
             [
              0.5555555555555556,
              "#d8576b"
             ],
             [
              0.6666666666666666,
              "#ed7953"
             ],
             [
              0.7777777777777778,
              "#fb9f3a"
             ],
             [
              0.8888888888888888,
              "#fdca26"
             ],
             [
              1,
              "#f0f921"
             ]
            ],
            "type": "heatmap"
           }
          ],
          "histogram": [
           {
            "marker": {
             "pattern": {
              "fillmode": "overlay",
              "size": 10,
              "solidity": 0.2
             }
            },
            "type": "histogram"
           }
          ],
          "histogram2d": [
           {
            "colorbar": {
             "outlinewidth": 0,
             "ticks": ""
            },
            "colorscale": [
             [
              0,
              "#0d0887"
             ],
             [
              0.1111111111111111,
              "#46039f"
             ],
             [
              0.2222222222222222,
              "#7201a8"
             ],
             [
              0.3333333333333333,
              "#9c179e"
             ],
             [
              0.4444444444444444,
              "#bd3786"
             ],
             [
              0.5555555555555556,
              "#d8576b"
             ],
             [
              0.6666666666666666,
              "#ed7953"
             ],
             [
              0.7777777777777778,
              "#fb9f3a"
             ],
             [
              0.8888888888888888,
              "#fdca26"
             ],
             [
              1,
              "#f0f921"
             ]
            ],
            "type": "histogram2d"
           }
          ],
          "histogram2dcontour": [
           {
            "colorbar": {
             "outlinewidth": 0,
             "ticks": ""
            },
            "colorscale": [
             [
              0,
              "#0d0887"
             ],
             [
              0.1111111111111111,
              "#46039f"
             ],
             [
              0.2222222222222222,
              "#7201a8"
             ],
             [
              0.3333333333333333,
              "#9c179e"
             ],
             [
              0.4444444444444444,
              "#bd3786"
             ],
             [
              0.5555555555555556,
              "#d8576b"
             ],
             [
              0.6666666666666666,
              "#ed7953"
             ],
             [
              0.7777777777777778,
              "#fb9f3a"
             ],
             [
              0.8888888888888888,
              "#fdca26"
             ],
             [
              1,
              "#f0f921"
             ]
            ],
            "type": "histogram2dcontour"
           }
          ],
          "mesh3d": [
           {
            "colorbar": {
             "outlinewidth": 0,
             "ticks": ""
            },
            "type": "mesh3d"
           }
          ],
          "parcoords": [
           {
            "line": {
             "colorbar": {
              "outlinewidth": 0,
              "ticks": ""
             }
            },
            "type": "parcoords"
           }
          ],
          "pie": [
           {
            "automargin": true,
            "type": "pie"
           }
          ],
          "scatter": [
           {
            "fillpattern": {
             "fillmode": "overlay",
             "size": 10,
             "solidity": 0.2
            },
            "type": "scatter"
           }
          ],
          "scatter3d": [
           {
            "line": {
             "colorbar": {
              "outlinewidth": 0,
              "ticks": ""
             }
            },
            "marker": {
             "colorbar": {
              "outlinewidth": 0,
              "ticks": ""
             }
            },
            "type": "scatter3d"
           }
          ],
          "scattercarpet": [
           {
            "marker": {
             "colorbar": {
              "outlinewidth": 0,
              "ticks": ""
             }
            },
            "type": "scattercarpet"
           }
          ],
          "scattergeo": [
           {
            "marker": {
             "colorbar": {
              "outlinewidth": 0,
              "ticks": ""
             }
            },
            "type": "scattergeo"
           }
          ],
          "scattergl": [
           {
            "marker": {
             "colorbar": {
              "outlinewidth": 0,
              "ticks": ""
             }
            },
            "type": "scattergl"
           }
          ],
          "scattermap": [
           {
            "marker": {
             "colorbar": {
              "outlinewidth": 0,
              "ticks": ""
             }
            },
            "type": "scattermap"
           }
          ],
          "scattermapbox": [
           {
            "marker": {
             "colorbar": {
              "outlinewidth": 0,
              "ticks": ""
             }
            },
            "type": "scattermapbox"
           }
          ],
          "scatterpolar": [
           {
            "marker": {
             "colorbar": {
              "outlinewidth": 0,
              "ticks": ""
             }
            },
            "type": "scatterpolar"
           }
          ],
          "scatterpolargl": [
           {
            "marker": {
             "colorbar": {
              "outlinewidth": 0,
              "ticks": ""
             }
            },
            "type": "scatterpolargl"
           }
          ],
          "scatterternary": [
           {
            "marker": {
             "colorbar": {
              "outlinewidth": 0,
              "ticks": ""
             }
            },
            "type": "scatterternary"
           }
          ],
          "surface": [
           {
            "colorbar": {
             "outlinewidth": 0,
             "ticks": ""
            },
            "colorscale": [
             [
              0,
              "#0d0887"
             ],
             [
              0.1111111111111111,
              "#46039f"
             ],
             [
              0.2222222222222222,
              "#7201a8"
             ],
             [
              0.3333333333333333,
              "#9c179e"
             ],
             [
              0.4444444444444444,
              "#bd3786"
             ],
             [
              0.5555555555555556,
              "#d8576b"
             ],
             [
              0.6666666666666666,
              "#ed7953"
             ],
             [
              0.7777777777777778,
              "#fb9f3a"
             ],
             [
              0.8888888888888888,
              "#fdca26"
             ],
             [
              1,
              "#f0f921"
             ]
            ],
            "type": "surface"
           }
          ],
          "table": [
           {
            "cells": {
             "fill": {
              "color": "#EBF0F8"
             },
             "line": {
              "color": "white"
             }
            },
            "header": {
             "fill": {
              "color": "#C8D4E3"
             },
             "line": {
              "color": "white"
             }
            },
            "type": "table"
           }
          ]
         },
         "layout": {
          "annotationdefaults": {
           "arrowcolor": "#2a3f5f",
           "arrowhead": 0,
           "arrowwidth": 1
          },
          "autotypenumbers": "strict",
          "coloraxis": {
           "colorbar": {
            "outlinewidth": 0,
            "ticks": ""
           }
          },
          "colorscale": {
           "diverging": [
            [
             0,
             "#8e0152"
            ],
            [
             0.1,
             "#c51b7d"
            ],
            [
             0.2,
             "#de77ae"
            ],
            [
             0.3,
             "#f1b6da"
            ],
            [
             0.4,
             "#fde0ef"
            ],
            [
             0.5,
             "#f7f7f7"
            ],
            [
             0.6,
             "#e6f5d0"
            ],
            [
             0.7,
             "#b8e186"
            ],
            [
             0.8,
             "#7fbc41"
            ],
            [
             0.9,
             "#4d9221"
            ],
            [
             1,
             "#276419"
            ]
           ],
           "sequential": [
            [
             0,
             "#0d0887"
            ],
            [
             0.1111111111111111,
             "#46039f"
            ],
            [
             0.2222222222222222,
             "#7201a8"
            ],
            [
             0.3333333333333333,
             "#9c179e"
            ],
            [
             0.4444444444444444,
             "#bd3786"
            ],
            [
             0.5555555555555556,
             "#d8576b"
            ],
            [
             0.6666666666666666,
             "#ed7953"
            ],
            [
             0.7777777777777778,
             "#fb9f3a"
            ],
            [
             0.8888888888888888,
             "#fdca26"
            ],
            [
             1,
             "#f0f921"
            ]
           ],
           "sequentialminus": [
            [
             0,
             "#0d0887"
            ],
            [
             0.1111111111111111,
             "#46039f"
            ],
            [
             0.2222222222222222,
             "#7201a8"
            ],
            [
             0.3333333333333333,
             "#9c179e"
            ],
            [
             0.4444444444444444,
             "#bd3786"
            ],
            [
             0.5555555555555556,
             "#d8576b"
            ],
            [
             0.6666666666666666,
             "#ed7953"
            ],
            [
             0.7777777777777778,
             "#fb9f3a"
            ],
            [
             0.8888888888888888,
             "#fdca26"
            ],
            [
             1,
             "#f0f921"
            ]
           ]
          },
          "colorway": [
           "#636efa",
           "#EF553B",
           "#00cc96",
           "#ab63fa",
           "#FFA15A",
           "#19d3f3",
           "#FF6692",
           "#B6E880",
           "#FF97FF",
           "#FECB52"
          ],
          "font": {
           "color": "#2a3f5f"
          },
          "geo": {
           "bgcolor": "white",
           "lakecolor": "white",
           "landcolor": "#E5ECF6",
           "showlakes": true,
           "showland": true,
           "subunitcolor": "white"
          },
          "hoverlabel": {
           "align": "left"
          },
          "hovermode": "closest",
          "mapbox": {
           "style": "light"
          },
          "paper_bgcolor": "white",
          "plot_bgcolor": "#E5ECF6",
          "polar": {
           "angularaxis": {
            "gridcolor": "white",
            "linecolor": "white",
            "ticks": ""
           },
           "bgcolor": "#E5ECF6",
           "radialaxis": {
            "gridcolor": "white",
            "linecolor": "white",
            "ticks": ""
           }
          },
          "scene": {
           "xaxis": {
            "backgroundcolor": "#E5ECF6",
            "gridcolor": "white",
            "gridwidth": 2,
            "linecolor": "white",
            "showbackground": true,
            "ticks": "",
            "zerolinecolor": "white"
           },
           "yaxis": {
            "backgroundcolor": "#E5ECF6",
            "gridcolor": "white",
            "gridwidth": 2,
            "linecolor": "white",
            "showbackground": true,
            "ticks": "",
            "zerolinecolor": "white"
           },
           "zaxis": {
            "backgroundcolor": "#E5ECF6",
            "gridcolor": "white",
            "gridwidth": 2,
            "linecolor": "white",
            "showbackground": true,
            "ticks": "",
            "zerolinecolor": "white"
           }
          },
          "shapedefaults": {
           "line": {
            "color": "#2a3f5f"
           }
          },
          "ternary": {
           "aaxis": {
            "gridcolor": "white",
            "linecolor": "white",
            "ticks": ""
           },
           "baxis": {
            "gridcolor": "white",
            "linecolor": "white",
            "ticks": ""
           },
           "bgcolor": "#E5ECF6",
           "caxis": {
            "gridcolor": "white",
            "linecolor": "white",
            "ticks": ""
           }
          },
          "title": {
           "x": 0.05
          },
          "xaxis": {
           "automargin": true,
           "gridcolor": "white",
           "linecolor": "white",
           "ticks": "",
           "title": {
            "standoff": 15
           },
           "zerolinecolor": "white",
           "zerolinewidth": 2
          },
          "yaxis": {
           "automargin": true,
           "gridcolor": "white",
           "linecolor": "white",
           "ticks": "",
           "title": {
            "standoff": 15
           },
           "zerolinecolor": "white",
           "zerolinewidth": 2
          }
         }
        },
        "title": {
         "text": "Abaque de Smith"
        },
        "width": 1000
       }
      }
     },
     "metadata": {},
     "output_type": "display_data"
    },
    {
     "name": "stdout",
     "output_type": "stream",
     "text": [
      "\n",
      "📡 Résultats de simulation :\n",
      "→ Fréquence de résonance = 700.00 MHz\n",
      "→ Impédance à f_res      = 23.93+10.76j Ω\n"
     ]
    },
    {
     "data": {
      "image/png": "[encoded data removed]",
      "text/plain": [
       "<Figure size 1200x741.641 with 1 Axes>"
      ]
     },
     "metadata": {},
     "output_type": "display_data"
    },
    {
     "name": "stdout",
     "output_type": "stream",
     "text": [
      "\n",
      "Ratio = 0.8064516129032258\n",
      "\n",
      "\n",
      "We are FAR of fc!\n",
      "\n",
      "\n",
      "------------------------------------------------------Iteration N°2------------------------------------------------------\n",
      "\n",
      "distance meandres = 4.459 mm\n",
      "\n",
      "Number of meanders = 3\n",
      "\n",
      "New distance meandres = 5.208 mm\n",
      "Largeur de piste ifa = 4.459 mm\n",
      "position feed = 22.000 mm\n",
      "\n",
      "Simulation 1/101 | f = 700.00 MHz | S11 = -0.48 dB\n",
      "Simulation 2/101 | f = 704.00 MHz | S11 = -0.51 dB\n",
      "Simulation 3/101 | f = 708.00 MHz | S11 = -0.55 dB\n",
      "Simulation 4/101 | f = 712.00 MHz | S11 = -0.58 dB\n",
      "Simulation 5/101 | f = 716.00 MHz | S11 = -0.62 dB\n",
      "Simulation 6/101 | f = 720.00 MHz | S11 = -0.66 dB\n",
      "Simulation 7/101 | f = 724.00 MHz | S11 = -0.71 dB\n",
      "Simulation 8/101 | f = 728.00 MHz | S11 = -0.76 dB\n",
      "Simulation 9/101 | f = 732.00 MHz | S11 = -0.81 dB\n",
      "Simulation 10/101 | f = 736.00 MHz | S11 = -0.87 dB\n",
      "Simulation 11/101 | f = 740.00 MHz | S11 = -0.93 dB\n",
      "Simulation 12/101 | f = 744.00 MHz | S11 = -1.00 dB\n",
      "Simulation 13/101 | f = 748.00 MHz | S11 = -1.07 dB\n",
      "Simulation 14/101 | f = 752.00 MHz | S11 = -1.15 dB\n",
      "Simulation 15/101 | f = 756.00 MHz | S11 = -1.24 dB\n",
      "Simulation 16/101 | f = 760.00 MHz | S11 = -1.33 dB\n",
      "Simulation 17/101 | f = 764.00 MHz | S11 = -1.44 dB\n",
      "Simulation 18/101 | f = 768.00 MHz | S11 = -1.56 dB\n",
      "Simulation 19/101 | f = 772.00 MHz | S11 = -1.69 dB\n",
      "Simulation 20/101 | f = 776.00 MHz | S11 = -1.83 dB\n",
      "Simulation 21/101 | f = 780.00 MHz | S11 = -1.98 dB\n",
      "Simulation 22/101 | f = 784.00 MHz | S11 = -2.16 dB\n",
      "Simulation 23/101 | f = 788.00 MHz | S11 = -2.35 dB\n",
      "Simulation 24/101 | f = 792.00 MHz | S11 = -2.56 dB\n",
      "Simulation 25/101 | f = 796.00 MHz | S11 = -2.80 dB\n",
      "Simulation 26/101 | f = 800.00 MHz | S11 = -3.06 dB\n",
      "Simulation 27/101 | f = 804.00 MHz | S11 = -3.36 dB\n",
      "Simulation 28/101 | f = 808.00 MHz | S11 = -3.69 dB\n",
      "Simulation 29/101 | f = 812.00 MHz | S11 = -4.06 dB\n",
      "Simulation 30/101 | f = 816.00 MHz | S11 = -4.48 dB\n",
      "Simulation 31/101 | f = 820.00 MHz | S11 = -4.96 dB\n",
      "Simulation 32/101 | f = 824.00 MHz | S11 = -5.50 dB\n",
      "Simulation 33/101 | f = 828.00 MHz | S11 = -6.11 dB\n",
      "Simulation 34/101 | f = 832.00 MHz | S11 = -6.82 dB\n",
      "Simulation 35/101 | f = 836.00 MHz | S11 = -7.63 dB\n",
      "Simulation 36/101 | f = 840.00 MHz | S11 = -8.57 dB\n",
      "Simulation 37/101 | f = 844.00 MHz | S11 = -9.68 dB\n",
      "Simulation 38/101 | f = 848.00 MHz | S11 = -11.00 dB\n",
      "Simulation 39/101 | f = 852.00 MHz | S11 = -12.62 dB\n",
      "Simulation 40/101 | f = 856.00 MHz | S11 = -14.65 dB\n",
      "Simulation 41/101 | f = 860.00 MHz | S11 = -17.36 dB\n",
      "Simulation 42/101 | f = 864.00 MHz | S11 = -21.32 dB\n"
     ]
    },
    {
     "data": {
      "application/vnd.plotly.v1+json": {
       "config": {
        "plotlyServerURL": "https://plot.ly"
       },
       "data": [
        {
         "facecolor": [
          "rgb(129, 0, 106)",
          "rgb(129, 0, 105)",
          "rgb(163, 253, 0)",
          "rgb(140, 0, 97)",
          "rgb(32, 227, 179)",
          "rgb(143, 0, 95)",
          "rgb(136, 0, 101)",
          "rgb(86, 0, 137)",
          "rgb(0, 23, 251)",
          "rgb(255, 0, 0)",
          "rgb(124, 0, 109)",
          "rgb(234, 238, 0)",
          "rgb(121, 0, 112)",
          "rgb(112, 0, 118)",
          "rgb(113, 0, 117)",
          "rgb(7, 169, 238)",
          "rgb(5, 165, 242)",
          "rgb(121, 0, 111)",
          "rgb(74, 0, 145)",
          "rgb(118, 0, 114)",
          "rgb(40, 246, 160)",
          "rgb(115, 0, 115)",
          "rgb(117, 0, 114)",
          "rgb(67, 0, 151)",
          "rgb(0, 19, 242)",
          "rgb(255, 226, 0)",
          "rgb(121, 0, 111)",
          "rgb(115, 0, 115)",
          "rgb(133, 0, 102)",
          "rgb(89, 0, 135)",
          "rgb(11, 177, 229)",
          "rgb(0, 92, 255)",
          "rgb(22, 204, 202)",
          "rgb(105, 0, 123)",
          "rgb(11, 177, 230)",
          "rgb(109, 0, 120)",
          "rgb(88, 0, 135)",
          "rgb(24, 208, 198)",
          "rgb(17, 192, 214)",
          "rgb(255, 73, 0)",
          "rgb(129, 0, 106)",
          "rgb(255, 74, 0)",
          "rgb(255, 80, 0)",
          "rgb(0, 131, 255)",
          "rgb(83, 0, 139)",
          "rgb(255, 111, 0)",
          "rgb(255, 84, 0)",
          "rgb(255, 78, 0)",
          "rgb(27, 216, 190)",
          "rgb(255, 97, 0)",
          "rgb(36, 236, 170)",
          "rgb(255, 123, 0)",
          "rgb(255, 131, 0)",
          "rgb(0, 34, 255)",
          "rgb(255, 142, 0)",
          "rgb(255, 104, 0)",
          "rgb(255, 175, 0)",
          "rgb(0, 6, 213)",
          "rgb(67, 255, 117)",
          "rgb(110, 255, 57)",
          "rgb(255, 118, 0)",
          "rgb(12, 0, 191)",
          "rgb(255, 200, 0)",
          "rgb(204, 244, 0)",
          "rgb(137, 255, 20)",
          "rgb(117, 0, 114)",
          "rgb(255, 157, 0)",
          "rgb(51, 0, 162)",
          "rgb(49, 0, 164)",
          "rgb(147, 0, 92)",
          "rgb(19, 0, 186)",
          "rgb(138, 0, 99)",
          "rgb(132, 0, 104)",
          "rgb(134, 0, 102)",
          "rgb(98, 0, 128)",
          "rgb(0, 0, 201)",
          "rgb(98, 0, 128)",
          "rgb(16, 0, 189)",
          "rgb(0, 15, 233)",
          "rgb(0, 3, 206)",
          "rgb(112, 0, 118)",
          "rgb(141, 0, 97)",
          "rgb(95, 0, 130)",
          "rgb(137, 0, 100)",
          "rgb(109, 0, 120)",
          "rgb(95, 0, 130)",
          "rgb(104, 0, 124)",
          "rgb(25, 0, 182)",
          "rgb(55, 255, 135)",
          "rgb(52, 255, 138)",
          "rgb(136, 0, 100)",
          "rgb(103, 0, 125)",
          "rgb(81, 0, 140)",
          "rgb(141, 0, 97)",
          "rgb(146, 0, 93)",
          "rgb(142, 0, 96)",
          "rgb(13, 0, 191)",
          "rgb(22, 0, 184)",
          "rgb(0, 4, 209)",
          "rgb(0, 2, 205)",
          "rgb(96, 0, 129)",
          "rgb(0, 15, 233)",
          "rgb(0, 19, 242)",
          "rgb(135, 0, 101)",
          "rgb(124, 0, 109)",
          "rgb(0, 13, 229)",
          "rgb(41, 0, 170)",
          "rgb(103, 0, 124)",
          "rgb(128, 0, 106)",
          "rgb(80, 0, 141)",
          "rgb(122, 0, 111)",
          "rgb(79, 0, 142)",
          "rgb(113, 0, 117)",
          "rgb(62, 0, 154)",
          "rgb(61, 255, 126)",
          "rgb(96, 0, 130)",
          "rgb(97, 0, 129)",
          "rgb(133, 0, 102)",
          "rgb(118, 0, 113)",
          "rgb(136, 0, 101)",
          "rgb(150, 0, 90)",
          "rgb(104, 0, 124)",
          "rgb(129, 0, 105)",
          "rgb(132, 0, 103)",
          "rgb(149, 0, 91)",
          "rgb(102, 0, 125)",
          "rgb(0, 21, 245)",
          "rgb(66, 0, 151)",
          "rgb(114, 0, 116)",
          "rgb(107, 0, 121)",
          "rgb(92, 0, 132)",
          "rgb(104, 0, 124)",
          "rgb(0, 2, 203)",
          "rgb(108, 0, 121)",
          "rgb(99, 0, 127)",
          "rgb(104, 0, 124)",
          "rgb(98, 0, 128)",
          "rgb(69, 0, 149)",
          "rgb(105, 0, 123)",
          "rgb(30, 0, 178)",
          "rgb(68, 0, 150)",
          "rgb(68, 0, 150)",
          "rgb(127, 0, 107)",
          "rgb(126, 0, 107)",
          "rgb(126, 0, 108)",
          "rgb(124, 0, 109)",
          "rgb(126, 0, 108)",
          "rgb(71, 0, 148)",
          "rgb(123, 0, 110)",
          "rgb(88, 0, 135)",
          "rgb(124, 0, 109)",
          "rgb(141, 0, 97)",
          "rgb(139, 0, 98)"
         ],
         "i": {
          "bdata": "Q0MPQ0FHR0pKIU0xTlFTExNVVVUwT1dXLiVXU0lYMC8SWEBZOygHNk0iISk8EBEIHwgBIzMqJAklKw4nCSwxDycMMlxeHhVHX1tgP2E/YkJSXztkZmRnZwEBWlpqSGZIYGNqAF05XBpmXBRdRmtsF209A2FMZE9lHGhJQ0dKSj1pUmFoallZYWNnaBY9F1tQRkROa2sXTgRp",
          "dtype": "i1"
         },
         "j": {
          "bdata": "RUQKSCBISUxLAk8mT1NUQD9PTVYOVlNRKyZQUEVLKSofUgdSTSkfN1s3NypNNTY2IDUgNDQrMzUyLAsLNA0yJg4NMxRdX15fWkliYGNiP2JUR1pmZBhoXgIDX2lhZRpmYz1iakpcSmYZOVxeaxhQbFZtS0toZVRISExbRhxdA1UEaGpSAFZhWWEWZ2djV05ERFBbF0ZrUGlf",
          "dtype": "i1"
         },
         "k": {
          "bdata": "REYnRwEcQ0sDAU4PUFJSEkBNPE8oVFEWLTFTVENMLy5BWRJWWjASIlohAi87CQgiQREhCSMuIwgkLSgOEC0lCg8sJF0UHRRJW19hPmBgExNWHTplGRleFQMAaTpiZhsbPj5CQlw4OAYGBQVoZGRXV1VVAFhYRlBDG11FZR1MODw6UUtYS21YbW1RURVtFkVFbGxNGGxsRR4e",
          "dtype": "i1"
         },
         "name": "",
         "type": "mesh3d",
         "x": {
          "bdata": "AAAAAAAAAACo3JGjl1R1P6jckaOXVHU/AAAAAAAAAAC4HoXrUbiuvwAAAAAAAAAAuB6F61G4rr9mrY4JHsyDP2atjgkezIM/vptX22l2jj++m1fbaXaOPxkEVg4tsp0/GQRWDi2ynT+QJHPyQyGZP5Akc/JDIZk/Za2OCR7Mkz9lrY4JHsyTP6jckaOXVHU/qNyRo5dUdT8AAAAAAAAAAEt/J6vljYG/Sn8nq+WNkb/0PruA2FSav09/J6vljaG/Hl/xFV/xpb/sPruA2FSqv7gehetRuK6/uB6F61G4rr+4HoXrUbiuv7gehetRuK6/uB6F61G4rr9mrY4JHsyDP2atjgkezIM/Zq2OCR7Mgz9mrY4JHsyDP76bV9tpdo4/vptX22l2jj++m1fbaXaOP76bV9tpdo4/9ugA/rB2lj8ZBFYOLbKdPxkEVg4tsp0/GQRWDi2ynT8ZBFYOLbKdPxkEVg4tsp0/kCRz8kMhmT+QJHPyQyGZP5Akc/JDIZk/kCRz8kMhmT9lrY4JHsyTP2WtjgkezJM/Za2OCR7Mkz9lrY4JHsyTP5skc/JDIYk/qNyRo5dUdT+o3JGjl1R1PwAAAAAAAAAAAAAAAAAAAAB3Bci95kKqvzbsCpB7zaW/+tJNYhBYob93cyFpSsWZv+5Apw102pC/iDm0yHa+f79AhaQpFWdPP6jckaOXVHU/AAAAAAAAAADO+Hw6ariovxR8CGkLy6S/bk5OEQfJpb/gO95RzdWmv/8h7N5arKu/lEW/+r7zq79EFyTnwNaov+if3k2JvnW/1F6FHndQfL+NMBgezs6Fv0pcaHb+rKO/aujZX2K6o78R92HpVIygvwsMz8FSy6G/znQWrfnUl7+gDJThD0SVv+S0zbJmQJy/wURBGQPanL/Umm/Qur6dvzQgcbjVlZm/xzuFA2hJn7/r2a9ixRiNvywfbiQYuZK/viWtnAoLqL883FmsPtamv0gp6/OwHXC/Is/Ihujrg7+661B9+duMv7a8a39E86q/YlX3Kj0Vib97zevYnUKKv2CJLREvDXu/Bb3UemwGkr8xUQE9z2Oovwyx7kBDyqm/srIjrc0WrL9myZaXzqqTv2bdk11UMJC/ukxd6yfEq78sSF/UVSB2v8is7LCNNKW/bPSmJONNo78wWQtrctSVvw==",
          "dtype": "f8"
         },
         "y": {
          "bdata": "f7n9j5/PmD9/uf2Pn8+YP/bZGnS2PpQ/9tkadLY+lD+6SQwCK4emPwAAAAAAAAAAAAAAAAAAAAC6SQwCK4emPyJ+i2+kQ3I/In6Lb6RDcj+6SQwCK4emP7pJDAIrh6Y/AAAAAAAAQLwAAAAAAABAvPbZGnS2PqQ/9tkadLY+pD8AAAAAAABAvAAAAAAAAEC89tkadLY+pD/22Rp0tj6kPwAAAAAAAAAAAAAAAAAAAAAAAAAAAAAAAAAAAAAAAAAAAAAAAAAAAAAAAAAAAAAAAKK3Za2OCX4/n7dlrY4Jjj+9SQwCK4eWP663Za2OCZ4/y5JfLPnFoj/u6gYeoHqiP0cYA3Qq3Jw/tFr4qxTDlD89OtvH/VOJPz0628f9U4k/tFr4qxTDlD9KGAN0KtycP/DqBh6geqI/ukkMAiuHpj/Gkl8s+cWiP6K3Za2OCZ4/t0kMAiuHlj+Ot2WtjgmOP3i3Za2OCX4/LXsVkCsygD8rexWQKzKQP8E4IFhBS5g/K3sVkCsyoD8qexWQKzKgP8E4IFhBS5g/K3sVkCsykD8sexWQKzKAPwAAAAAAAEC883fOmkj+ej/zd86aSP6KP/N3zppI/oo/8HfOmkj+ej+6SQwCK4emP7pJDAIrh6Y/ukkMAiuHpj+6SQwCK4emP7pJDAIrh6Y/ukkMAiuHpj+6SQwCK4emP1vbDB5DU6A/WNsMHkNToD/XMrRnLCqTP0w3iUFg5ZA/gU4b5ek6lz8T7P36tv+HPzfCQesb4Zg/pjFd+jEhkT8essjnpm+aP0+OviIxm40/UtWH7LiHlj8FWHvOR0CQP3LnH/D6x6E/oNyeOxk9mz9uZGMNcMGbPx5OAQuRJ5M/WW1vU2/+hD8JEUzWU/+SP48qZqvwMZA/3f6PFXn5lT+n0Zg+u5KhPwCuD1wQdZs/git2NErMgj8ZR8q/0F+VPxcaqNGLz5o/89lMQWr7oj8yf1pMnX2eP0ucFuzsqX0/Znmisyjlgj8szAdfLUV2P75xzHKdQaA/uwb2LoeZoz+JKPr3MAKfPxOP+moaAKI/4uq9/xpwoz/ctXtkfIZ6P5VAwQtngYk/U3D5UHvegD/Eq5XqRPh2PyUvpkSmS4k/NKfmn8H1oz8EM/9b1jedPyxfI/WyV3c/66acN0oYhT8A709OkQehPw==",
          "dtype": "f8"
         },
         "z": {
          "bdata": "AAAAAAAAAAAAAAAAAAAAAAAAAAAAAAAAAAAAAAAAAAAAAAAAAAAAAAAAAAAAAAAAAAAAAAAAAAAAAAAAAAAAAAAAAAAAAAAAAAAAAAAAAAAAAAAAAAAAAAAAAAAAAAAAAAAAAAAAAAAAAAAAAAAAAAAAAAAAAAAAAAAAAAAAAAAAAAAAAAAAAAAAAAAAAAAAAAAAAAAAAAAAAAAAAAAAAAAAAAAAAAAAAAAAAAAAAAAAAAAAAAAAAAAAAAAAAAAAAAAAAAAAAAAAAAAAAAAAAAAAAAAAAAAAAAAAAAAAAAAAAAAAAAAAAAAAAAAAAAAAAAAAAAAAAAAAAAAAAAAAAAAAAAAAAAAAAAAAAAAAAAAAAAAAAAAAAAAAAAAAAAAAAAAAAAAAAAAAAAAAAAAAAAAAAAAAAAAAAAAAAAAAAAAAAAAAAAAAAAAAAAAAAAAAAAAAAAAAAAAAAAAAAAAAAAAAAAAAAAAAAAAAAAAAAAAAAAAAAAAAAAAAAAAAAAAAAAAAAAAAAAAAAAAAAAAAAAAAAAAAAAAAAAAAAAAAAAAAAAAAAAAAAAAAAAAAAAAAAAAAAAAAAAAAAAAAAAAAAAAAAAAAAAAAAAAAAAAAAAAAAAAAAAAAAAAAAAAAAAAAAAAAAAAAAAAAAAAAAAAAAAAAAAAAAAAAAAAAAAAAAAAAAAAAAAAAAAAAAAAAAAAAAAAAAAAAAAAAAAAAAAAAAAAAAAAAAAAAAAAAAAAAAAAAAAAAAAAAAAAAAAAAAAAAAAAAAAAAAAAAAAAAAAAAAAAAAAAAAAAAAAAAAAAAAAAAAAAAAAAAAAAAAAAAAAAAAAAAAAAAAAAAAAAAAAAAAAAAAAAAAAAAAAAAAAAAAAAAAAAAAAAAAAAAAAAAAAAAAAAAAAAAAAAAAAAAAAAAAAAAAAAAAAAAAAAAAAAAAAAAAAAAAAAAAAAAAAAAAAAAAAAAAAAAAAAAAAAAAAAAAAAAAAAAAAAAAAAAAAAAAAAAAAAAAAAAAAAAAAAAAAAAAAAAAAAAAAAAAAAAAAAAAAAAAAAAAAAAAAAAAAAAAAAAAAAAAAAAAAAAAAAAAAAAAAAAAAAAAAAAAAAAAAAAAAAAAAAAAAAAAAAAAAAAAAAAAAAAAAAAAAAAAAAAAAAAAAAAAAAAAAAAAAAAAAAAAA==",
          "dtype": "f8"
         }
        },
        {
         "line": {
          "color": "rgb(50, 50, 50)",
          "width": 1.5
         },
         "mode": "lines",
         "showlegend": false,
         "type": "scatter3d",
         "x": [
          -0.0482819744488424,
          -0.04254934393170805,
          -0.04061160714285719,
          -0.0482819744488424,
          null,
          -0.0482819744488424,
          -0.04061160714285719,
          -0.04459993004194707,
          -0.0482819744488424,
          null,
          0.01933333333333333,
          0.01487429333333334,
          0.02193714666666665,
          0.01933333333333333,
          null,
          -0.0482819744488424,
          -0.05459400950315821,
          -0.0540493390199721,
          -0.0482819744488424,
          null,
          0.005207626666666666,
          0.009666666666666667,
          0.005207626666666666,
          0.005207626666666666,
          null,
          -0.0540493390199721,
          -0.05459400950315821,
          -0.06,
          -0.0540493390199721,
          null,
          -0.0540493390199721,
          -0.04851343938393751,
          -0.0482819744488424,
          -0.0540493390199721,
          null,
          -0.005308662743040295,
          -0.0106483557638273,
          -0.006912675198996705,
          -0.005308662743040295,
          null,
          -0.005308662743040295,
          -0.006912675198996705,
          0,
          -0.005308662743040295,
          null,
          0.009666666666666667,
          0.005207626666666666,
          0.005207626666666666,
          0.009666666666666667,
          null,
          -0.03842921443372711,
          -0.03232064579877492,
          -0.03853137416895509,
          -0.03842921443372711,
          null,
          0.01933333333333333,
          0.01487429333333334,
          0.01933333333333333,
          0.01933333333333333,
          null,
          -0.03853137416895509,
          -0.03232064579877492,
          -0.03475435844259075,
          -0.03853137416895509,
          null,
          -0.02327337378448107,
          -0.02758942095117768,
          -0.02076744856186663,
          -0.02327337378448107,
          null,
          -0.02758942095117768,
          -0.02817540017742171,
          -0.02076744856186663,
          -0.02758942095117768,
          null,
          0,
          0.000958333333333318,
          0.005207626666666666,
          0,
          null,
          0,
          -0.007750000000000042,
          0.000958333333333318,
          0,
          null,
          -0.02904788872902027,
          -0.03232064579877492,
          -0.03842921443372711,
          -0.02904788872902027,
          null,
          -0.02904788872902027,
          -0.03842921443372711,
          -0.03387500000000006,
          -0.02904788872902027,
          null,
          -0.02904788872902027,
          -0.02498563707584385,
          -0.03232064579877492,
          -0.02904788872902027,
          null,
          0.02454096,
          0.02454096,
          0.029,
          0.02454096,
          null,
          -0.03232064579877492,
          -0.02498563707584385,
          -0.02817540017742171,
          -0.03232064579877492,
          null,
          -0.03055346032607156,
          -0.02758942095117768,
          -0.02327337378448107,
          -0.03055346032607156,
          null,
          -0.03055346032607156,
          -0.02327337378448107,
          -0.02571428571428576,
          -0.03055346032607156,
          null,
          0.02454096,
          0.029,
          0.02454096,
          0.02454096,
          null,
          0.01487429333333334,
          0.01487429333333334,
          0.01933333333333333,
          0.01487429333333334,
          null,
          -0.03055346032607156,
          -0.03475435844259075,
          -0.02758942095117768,
          -0.03055346032607156,
          null,
          -0.02758942095117768,
          -0.03475435844259075,
          -0.02817540017742171,
          -0.02758942095117768,
          null,
          -0.04851343938393751,
          -0.04254934393170805,
          -0.0482819744488424,
          -0.04851343938393751,
          null,
          -0.01420740325373245,
          -0.006912675198996705,
          -0.0106483557638273,
          -0.01420740325373245,
          null,
          0.02454096,
          0.029,
          0.02454096,
          0.02454096,
          null,
          0.02454096,
          0.029,
          0.02454096,
          0.02454096,
          null,
          0.005207626666666666,
          0.009666666666666667,
          0.005207626666666666,
          0.005207626666666666,
          null,
          -0.01420740325373245,
          -0.02076744856186663,
          -0.01828420374252386,
          -0.01420740325373245,
          null,
          0.000958333333333318,
          0.009666666666666667,
          0.005207626666666666,
          0.000958333333333318,
          null,
          -0.01828420374252386,
          -0.02076744856186663,
          -0.02498563707584385,
          -0.01828420374252386,
          null,
          -0.04258333333333335,
          -0.03842921443372711,
          -0.04695923960259617,
          -0.04258333333333335,
          null,
          0.029,
          0.029,
          0.02454096,
          0.029,
          null,
          0.009666666666666667,
          0.009666666666666667,
          0.005207626666666666,
          0.009666666666666667,
          null,
          0.005207626666666666,
          0.005207626666666666,
          0.009666666666666667,
          0.005207626666666666,
          null,
          -0.03842921443372711,
          -0.04460330823797462,
          -0.04695923960259617,
          -0.03842921443372711,
          null,
          0.009666666666666667,
          0.005207626666666666,
          0.009666666666666667,
          0.009666666666666667,
          null,
          0.009666666666666667,
          0.005207626666666666,
          0.005207626666666666,
          0.009666666666666667,
          null,
          0.029,
          0.029,
          0.02454096,
          0.029,
          null,
          -0.03387500000000006,
          -0.03842921443372711,
          -0.04258333333333335,
          -0.03387500000000006,
          null,
          0.01933333333333333,
          0.01227048000000002,
          0.01487429333333334,
          0.01933333333333333,
          null,
          0.005207626666666666,
          0.005207626666666666,
          0.009666666666666667,
          0.005207626666666666,
          null,
          0.009666666666666667,
          0.005207626666666666,
          0.009666666666666667,
          0.009666666666666667,
          null,
          0.009666666666666667,
          0.009666666666666667,
          0.005207626666666666,
          0.009666666666666667,
          null,
          0.009666666666666667,
          0.01227048000000002,
          0.005207626666666666,
          0.009666666666666667,
          null,
          0.005207626666666666,
          0.009666666666666667,
          0.009666666666666667,
          0.005207626666666666,
          null,
          0.01487429333333334,
          0.01933333333333333,
          0.01487429333333334,
          0.01487429333333334,
          null,
          0.01933333333333333,
          0.01933333333333333,
          0.01487429333333334,
          0.01933333333333333,
          null,
          0.029,
          0.029,
          0.02454096,
          0.029,
          null,
          0.01487429333333334,
          0.01933333333333333,
          0.01487429333333334,
          0.01487429333333334,
          null,
          0.01487429333333334,
          0.01227048000000002,
          0.009666666666666667,
          0.01487429333333334,
          null,
          0.01487429333333334,
          0.01933333333333333,
          0.01487429333333334,
          0.01487429333333334,
          null,
          0.029,
          0.029,
          0.02454096,
          0.029,
          null,
          0.02454096,
          0.029,
          0.029,
          0.02454096,
          null,
          0.02193714666666665,
          0.029,
          0.02454096,
          0.02193714666666665,
          null,
          0.01487429333333334,
          0.01933333333333333,
          0.01933333333333333,
          0.01487429333333334,
          null,
          0.029,
          0.02454096,
          0.02454096,
          0.029,
          null,
          0.01933333333333333,
          0.01933333333333333,
          0.01487429333333334,
          0.01933333333333333,
          null,
          0.01933333333333333,
          0.01487429333333334,
          0.01487429333333334,
          0.01933333333333333,
          null,
          0.02193714666666665,
          0.02454096,
          0.01933333333333333,
          0.02193714666666665,
          null,
          0.029,
          0.02454096,
          0.029,
          0.029,
          null,
          0.01933333333333333,
          0.01933333333333333,
          0.01487429333333334,
          0.01933333333333333,
          null,
          -0.003934565755751081,
          -0.008571428571428582,
          -0.009727303136152058,
          -0.003934565755751081,
          null,
          -0.01409144319233301,
          -0.009727303136152058,
          -0.008571428571428582,
          -0.01409144319233301,
          null,
          -0.06,
          -0.05263723426275517,
          -0.06,
          -0.06,
          null,
          -0.01714285714285716,
          -0.01409144319233301,
          -0.008571428571428582,
          -0.01714285714285716,
          null,
          -0.0540493390199721,
          -0.05263723426275517,
          -0.04851343938393751,
          -0.0540493390199721,
          null,
          -0.05263723426275517,
          -0.04695923960259617,
          -0.04460330823797462,
          -0.05263723426275517,
          null,
          -0.04460330823797462,
          -0.04851343938393751,
          -0.05263723426275517,
          -0.04460330823797462,
          null,
          -0.01224754130718492,
          -0.006604369979728325,
          -0.01282237356415438,
          -0.01224754130718492,
          null,
          -0.007750000000000042,
          -0.01224754130718492,
          -0.0164583333333334,
          -0.007750000000000042,
          null,
          -0.01282237356415438,
          -0.01760262965870842,
          -0.01224754130718492,
          -0.01282237356415438,
          null,
          -0.007750000000000042,
          -0.006604369979728325,
          -0.01224754130718492,
          -0.007750000000000042,
          null,
          -0.006604369979728325,
          -0.007750000000000042,
          0,
          -0.006604369979728325,
          null,
          0,
          -0.006604369979728325,
          0,
          0,
          null,
          -0.02076744856186663,
          -0.02817540017742171,
          -0.02498563707584385,
          -0.02076744856186663,
          null,
          -0.05263723426275517,
          -0.0540493390199721,
          -0.06,
          -0.05263723426275517,
          null,
          -0.04258333333333335,
          -0.04695923960259617,
          -0.05129166666666667,
          -0.04258333333333335,
          null,
          -0.04763648624126161,
          -0.05486147631186124,
          -0.05037126701003744,
          -0.04763648624126161,
          null,
          -0.05486147631186124,
          -0.04763648624126161,
          -0.05142857142857146,
          -0.05486147631186124,
          null,
          -0.04763648624126161,
          -0.04285714285714291,
          -0.05142857142857146,
          -0.04763648624126161,
          null,
          -0.01920626449800391,
          -0.01580936261322332,
          -0.01409144319233301,
          -0.01920626449800391,
          null,
          -0.01920626449800391,
          -0.01409144319233301,
          -0.01714285714285716,
          -0.01920626449800391,
          null,
          0.005207626666666666,
          0.005207626666666666,
          0,
          0.005207626666666666,
          null,
          0.005207626666666666,
          0,
          0,
          0.005207626666666666,
          null,
          -0.04695923960259617,
          -0.05263723426275517,
          -0.05423092601872655,
          -0.04695923960259617,
          null,
          -0.04695923960259617,
          -0.05423092601872655,
          -0.05129166666666667,
          -0.04695923960259617,
          null,
          -0.005401931068222548,
          -0.01282237356415438,
          -0.006604369979728325,
          -0.005401931068222548,
          null,
          -0.05459400950315821,
          -0.05037126701003744,
          -0.05486147631186124,
          -0.05459400950315821,
          null,
          -0.05486147631186124,
          -0.06,
          -0.06,
          -0.05486147631186124,
          null,
          -0.05459400950315821,
          -0.05486147631186124,
          -0.06,
          -0.05459400950315821,
          null,
          -0.01224754130718492,
          -0.01760262965870842,
          -0.0164583333333334,
          -0.01224754130718492,
          null,
          -0.01760262965870842,
          -0.02516666666666675,
          -0.0164583333333334,
          -0.01760262965870842,
          null,
          -0.005401931068222548,
          -0.006604369979728325,
          0,
          -0.005401931068222548,
          null,
          0,
          -0.005401931068222548,
          0,
          0,
          null,
          -0.009727303136152058,
          -0.005308662743040295,
          -0.003934565755751081,
          -0.009727303136152058,
          null,
          0,
          -0.003934565755751081,
          0,
          0,
          null,
          -0.003934565755751081,
          -0.005308662743040295,
          0,
          -0.003934565755751081,
          null,
          -0.06,
          -0.05486147631186124,
          -0.06,
          -0.06,
          null,
          -0.05486147631186124,
          -0.05142857142857146,
          -0.06,
          -0.05486147631186124,
          null,
          -0.003934565755751081,
          0,
          0,
          -0.003934565755751081,
          null,
          -0.008571428571428582,
          -0.003934565755751081,
          0,
          -0.008571428571428582,
          null,
          -0.009727303136152058,
          -0.01409144319233301,
          -0.01580936261322332,
          -0.009727303136152058,
          null,
          -0.04459993004194707,
          -0.0414165762398056,
          -0.04763648624126161,
          -0.04459993004194707,
          null,
          -0.0414165762398056,
          -0.04285714285714291,
          -0.04763648624126161,
          -0.0414165762398056,
          null,
          -0.03770360777296208,
          -0.03475435844259075,
          -0.03055346032607156,
          -0.03770360777296208,
          null,
          -0.03428571428571436,
          -0.03770360777296208,
          -0.03055346032607156,
          -0.03428571428571436,
          null,
          -0.02131823328348864,
          -0.02498563707584385,
          -0.02904788872902027,
          -0.02131823328348864,
          null,
          -0.02516666666666675,
          -0.02131823328348864,
          -0.02904788872902027,
          -0.02516666666666675,
          null,
          0,
          -0.006912675198996705,
          0,
          0,
          null,
          -0.01282237356415438,
          -0.006912675198996705,
          -0.01420740325373245,
          -0.01282237356415438,
          null,
          -0.0106483557638273,
          -0.01580936261322332,
          -0.01420740325373245,
          -0.0106483557638273,
          null,
          -0.04763648624126161,
          -0.05037126701003744,
          -0.04459993004194707,
          -0.04763648624126161,
          null,
          -0.03232064579877492,
          -0.02817540017742171,
          -0.03475435844259075,
          -0.03232064579877492,
          null,
          -0.05037126701003744,
          -0.05459400950315821,
          -0.0482819744488424,
          -0.05037126701003744,
          null,
          -0.06,
          -0.05459400950315821,
          -0.06,
          -0.06,
          null,
          -0.01580936261322332,
          -0.0106483557638273,
          -0.009727303136152058,
          -0.01580936261322332,
          null,
          -0.04851343938393751,
          -0.04460330823797462,
          -0.04254934393170805,
          -0.04851343938393751,
          null,
          -0.0482819744488424,
          -0.04459993004194707,
          -0.05037126701003744,
          -0.0482819744488424,
          null,
          -0.0540493390199721,
          -0.06,
          -0.06,
          -0.0540493390199721,
          null,
          -0.005308662743040295,
          -0.009727303136152058,
          -0.0106483557638273,
          -0.005308662743040295,
          null,
          -0.005308662743040295,
          0,
          0,
          -0.005308662743040295,
          null,
          -0.02516666666666675,
          -0.02904788872902027,
          -0.03387500000000006,
          -0.02516666666666675,
          null,
          -0.05423092601872655,
          -0.06,
          -0.05129166666666667,
          -0.05423092601872655,
          null,
          -0.02076744856186663,
          -0.01580936261322332,
          -0.02327337378448107,
          -0.02076744856186663,
          null,
          -0.01282237356415438,
          -0.005401931068222548,
          -0.006912675198996705,
          -0.01282237356415438,
          null,
          -0.01580936261322332,
          -0.02076744856186663,
          -0.01420740325373245,
          -0.01580936261322332,
          null,
          -0.005401931068222548,
          0,
          -0.006912675198996705,
          -0.005401931068222548,
          null,
          -0.01828420374252386,
          -0.02498563707584385,
          -0.02131823328348864,
          -0.01828420374252386,
          null,
          -0.01828420374252386,
          -0.01282237356415438,
          -0.01420740325373245,
          -0.01828420374252386,
          null,
          -0.01282237356415438,
          -0.01828420374252386,
          -0.02131823328348864,
          -0.01282237356415438,
          null,
          -0.01760262965870842,
          -0.01282237356415438,
          -0.02131823328348864,
          -0.01760262965870842,
          null,
          -0.01920626449800391,
          -0.02571428571428576,
          -0.02327337378448107,
          -0.01920626449800391,
          null,
          -0.01580936261322332,
          -0.01920626449800391,
          -0.02327337378448107,
          -0.01580936261322332,
          null,
          -0.02571428571428576,
          -0.01920626449800391,
          -0.01714285714285716,
          -0.02571428571428576,
          null,
          -0.02516666666666675,
          -0.01760262965870842,
          -0.02131823328348864,
          -0.02516666666666675,
          null,
          -0.03428571428571436,
          -0.03055346032607156,
          -0.02571428571428576,
          -0.03428571428571436,
          null,
          -0.04460330823797462,
          -0.03853137416895509,
          -0.04254934393170805,
          -0.04460330823797462,
          null,
          -0.03475435844259075,
          -0.04061160714285719,
          -0.04254934393170805,
          -0.03475435844259075,
          null,
          -0.04459993004194707,
          -0.04061160714285719,
          -0.03770360777296208,
          -0.04459993004194707,
          null,
          -0.04061160714285719,
          -0.03475435844259075,
          -0.03770360777296208,
          -0.04061160714285719,
          null,
          -0.03853137416895509,
          -0.04460330823797462,
          -0.03842921443372711,
          -0.03853137416895509,
          null,
          -0.0414165762398056,
          -0.03428571428571436,
          -0.04285714285714291,
          -0.0414165762398056,
          null,
          -0.0414165762398056,
          -0.04459993004194707,
          -0.03770360777296208,
          -0.0414165762398056,
          null,
          -0.03428571428571436,
          -0.0414165762398056,
          -0.03770360777296208,
          -0.03428571428571436,
          null,
          -0.03853137416895509,
          -0.03475435844259075,
          -0.04254934393170805,
          -0.03853137416895509,
          null,
          -0.06,
          -0.05423092601872655,
          -0.06,
          -0.06,
          null,
          -0.05423092601872655,
          -0.05263723426275517,
          -0.06,
          -0.05423092601872655,
          null
         ],
         "y": [
          0.01871556647261027,
          0.02268567524772758,
          0.0165,
          0.01871556647261027,
          null,
          0.01871556647261027,
          0.0165,
          0.01171820596186105,
          0.01871556647261027,
          null,
          0.03954096,
          0.044,
          0.044,
          0.03954096,
          null,
          0.01871556647261027,
          0.0167281922397692,
          0.02429622290986996,
          0.01871556647261027,
          null,
          0.03188524,
          0.02818361599999999,
          0.02422952,
          0.03188524,
          null,
          0.02429622290986996,
          0.0167281922397692,
          0.02200000000000001,
          0.02429622290986996,
          null,
          0.02429622290986996,
          0.02581654348084516,
          0.01871556647261027,
          0.02429622290986996,
          null,
          0.01445616137772912,
          0.01587021062626805,
          0.02200211471241193,
          0.01445616137772912,
          null,
          0.01445616137772912,
          0.02200211471241193,
          0.01977048,
          0.01445616137772912,
          null,
          0.020275424,
          0.01977048,
          0.02422952,
          0.020275424,
          null,
          0.03472885304650121,
          0.02710509378161812,
          0.02660026003260596,
          0.03472885304650121,
          null,
          0.03163276799999999,
          0.036091808,
          0.03954096,
          0.03163276799999999,
          null,
          0.02660026003260596,
          0.02710509378161812,
          0.01870562200231351,
          0.02660026003260596,
          null,
          0.01025092099546636,
          0.01581550642144208,
          0.01855212207284843,
          0.01025092099546636,
          null,
          0.01581550642144208,
          0.02145947641474676,
          0.01855212207284843,
          0.01581550642144208,
          null,
          0.03954096,
          0.044,
          0.03954096,
          0.03954096,
          null,
          0.03954096,
          0.044,
          0.044,
          0.03954096,
          null,
          0.03432259692309297,
          0.02710509378161812,
          0.03472885304650121,
          0.03432259692309297,
          null,
          0.03432259692309297,
          0.03472885304650121,
          0.044,
          0.03432259692309297,
          null,
          0.03432259692309297,
          0.02681375085732718,
          0.02710509378161812,
          0.03432259692309297,
          null,
          0.031632768,
          0.03954096,
          0.03666666666666667,
          0.031632768,
          null,
          0.02710509378161812,
          0.02681375085732718,
          0.02145947641474676,
          0.02710509378161812,
          null,
          0.009178714490891474,
          0.01581550642144208,
          0.01025092099546636,
          0.009178714490891474,
          null,
          0.009178714490891474,
          0.01025092099546636,
          0,
          0.009178714490891474,
          null,
          0.015816384,
          0.01466666666666663,
          0.007908192000000003,
          0.015816384,
          null,
          0.028183616,
          0.036091808,
          0.03163276799999999,
          0.028183616,
          null,
          0.009178714490891474,
          0.01870562200231351,
          0.01581550642144208,
          0.009178714490891474,
          null,
          0.01581550642144208,
          0.01870562200231351,
          0.02145947641474676,
          0.01581550642144208,
          null,
          0.02581654348084516,
          0.02268567524772758,
          0.01871556647261027,
          0.02581654348084516,
          null,
          0.02087331934541856,
          0.02200211471241193,
          0.01587021062626805,
          0.02087331934541856,
          null,
          0.031632768,
          0.02933333333333333,
          0.023724576,
          0.031632768,
          null,
          0.023724576,
          0.02199999999999999,
          0.015816384,
          0.023724576,
          null,
          0.03954096,
          0.03609180799999999,
          0.03188524,
          0.03954096,
          null,
          0.02087331934541856,
          0.01855212207284843,
          0.0261823507990134,
          0.02087331934541856,
          null,
          0.044,
          0.044,
          0.03954096,
          0.044,
          null,
          0.0261823507990134,
          0.01855212207284843,
          0.02681375085732718,
          0.0261823507990134,
          null,
          0.044,
          0.03472885304650121,
          0.03707439467546072,
          0.044,
          null,
          0.03666666666666667,
          0.02933333333333333,
          0.031632768,
          0.03666666666666667,
          null,
          0.044,
          0.03609180799999999,
          0.03954096,
          0.044,
          null,
          0.00659016,
          0.01318032,
          0.012367232,
          0.00659016,
          null,
          0.03472885304650121,
          0.02977605608486939,
          0.03707439467546072,
          0.03472885304650121,
          null,
          0.012367232,
          0.01318032,
          0.020275424,
          0.012367232,
          null,
          0.020275424,
          0.01318032,
          0.01977048,
          0.020275424,
          null,
          0.02933333333333333,
          0.02199999999999999,
          0.023724576,
          0.02933333333333333,
          null,
          0.044,
          0.03472885304650121,
          0.044,
          0.044,
          null,
          -1.734723475976807e-18,
          -1.734723475976807e-18,
          0.004459039999999999,
          -1.734723475976807e-18,
          null,
          -1.734723475976807e-18,
          0.00659016,
          0.004459039999999999,
          -1.734723475976807e-18,
          null,
          0.004459039999999999,
          0.00659016,
          0.012367232,
          0.004459039999999999,
          null,
          0.03609180799999999,
          0.02818361599999999,
          0.03188524,
          0.03609180799999999,
          null,
          0.004459039999999999,
          -1.734723475976807e-18,
          -1.734723475976807e-18,
          0.004459039999999999,
          null,
          0.02422952,
          0.02818361599999999,
          0.020275424,
          0.02422952,
          null,
          0.012367232,
          0.007908192000000001,
          0.004459039999999999,
          0.012367232,
          null,
          0.015816384,
          0.007908192000000001,
          0.012367232,
          0.015816384,
          null,
          0.02199999999999999,
          0.01466666666666663,
          0.015816384,
          0.02199999999999999,
          null,
          0.020275424,
          0.015816384,
          0.012367232,
          0.020275424,
          null,
          0.004459039999999999,
          -1.734723475976807e-18,
          0.004459039999999999,
          0.004459039999999999,
          null,
          0.028183616,
          0.023724576,
          0.020275424,
          0.028183616,
          null,
          0.01466666666666663,
          0.007333333333333296,
          0.007908192000000003,
          0.01466666666666663,
          null,
          0.03954096,
          0.044,
          0.03666666666666667,
          0.03954096,
          null,
          0.044,
          0.044,
          0.03954096,
          0.044,
          null,
          0.004459039999999999,
          0.007908192000000001,
          -1.734723475976807e-18,
          0.004459039999999999,
          null,
          0.007333333333333296,
          -1.734723475976807e-18,
          0.007908192000000003,
          0.007333333333333296,
          null,
          0.03163276799999999,
          0.023724576,
          0.028183616,
          0.03163276799999999,
          null,
          0.03954096,
          0.036091808,
          0.044,
          0.03954096,
          null,
          0.044,
          0.03954096,
          0.03954096,
          0.044,
          null,
          -1.734723475976807e-18,
          -1.734723475976807e-18,
          0.007333333333333296,
          -1.734723475976807e-18,
          null,
          0.023724576,
          0.015816384,
          0.020275424,
          0.023724576,
          null,
          0.007242131688520346,
          0,
          0.00922614858819477,
          0.007242131688520346,
          null,
          0.005437066298770648,
          0.00922614858819477,
          0,
          0.005437066298770648,
          null,
          0.0366666666666667,
          0.03175060297346331,
          0.02933333333333337,
          0.0366666666666667,
          null,
          0,
          0.005437066298770648,
          0,
          0,
          null,
          0.02429622290986996,
          0.03175060297346331,
          0.02581654348084516,
          0.02429622290986996,
          null,
          0.03175060297346331,
          0.03707439467546072,
          0.02977605608486939,
          0.03175060297346331,
          null,
          0.02977605608486939,
          0.02581654348084516,
          0.03175060297346331,
          0.02977605608486939,
          null,
          0.0382807011437882,
          0.03515703731434718,
          0.03028179658444022,
          0.0382807011437882,
          null,
          0.044,
          0.0382807011437882,
          0.044,
          0.044,
          null,
          0.03028179658444022,
          0.03796467182015363,
          0.0382807011437882,
          0.03028179658444022,
          null,
          0.044,
          0.03515703731434718,
          0.0382807011437882,
          0.044,
          null,
          0.03515703731434718,
          0.044,
          0.03954096,
          0.03515703731434718,
          null,
          0.03188523999999998,
          0.03515703731434718,
          0.03954096,
          0.03188523999999998,
          null,
          0.01855212207284843,
          0.02145947641474676,
          0.02681375085732718,
          0.01855212207284843,
          null,
          0.03175060297346331,
          0.02429622290986996,
          0.02933333333333337,
          0.03175060297346331,
          null,
          0.044,
          0.03707439467546072,
          0.044,
          0.044,
          null,
          0.006475912006619091,
          0.008236850174562138,
          0.01245384697554667,
          0.006475912006619091,
          null,
          0.008236850174562138,
          0.006475912006619091,
          0,
          0.008236850174562138,
          null,
          0.006475912006619091,
          0,
          0,
          0.006475912006619091,
          null,
          0.005607861713865018,
          0.01235132119179345,
          0.005437066298770648,
          0.005607861713865018,
          null,
          0.005607861713865018,
          0.005437066298770648,
          0,
          0.005607861713865018,
          null,
          0.02422952,
          0.01977048,
          0.01977048,
          0.02422952,
          null,
          0.02422952,
          0.01977048,
          0.02422952,
          0.02422952,
          null,
          0.03707439467546072,
          0.03175060297346331,
          0.03898434712330215,
          0.03707439467546072,
          null,
          0.03707439467546072,
          0.03898434712330215,
          0.044,
          0.03707439467546072,
          null,
          0.0285333150530276,
          0.03028179658444022,
          0.03515703731434718,
          0.0285333150530276,
          null,
          0.0167281922397692,
          0.01245384697554667,
          0.008236850174562138,
          0.0167281922397692,
          null,
          0.008236850174562138,
          0.007333333333333332,
          0.01466666666666666,
          0.008236850174562138,
          null,
          0.0167281922397692,
          0.008236850174562138,
          0.01466666666666666,
          0.0167281922397692,
          null,
          0.0382807011437882,
          0.03796467182015363,
          0.044,
          0.0382807011437882,
          null,
          0.03796467182015363,
          0.044,
          0.044,
          0.03796467182015363,
          null,
          0.0285333150530276,
          0.03515703731434718,
          0.03188523999999998,
          0.0285333150530276,
          null,
          0.02422952,
          0.0285333150530276,
          0.03188523999999998,
          0.02422952,
          null,
          0.00922614858819477,
          0.01445616137772912,
          0.007242131688520346,
          0.00922614858819477,
          null,
          0.006590159999999998,
          0.007242131688520346,
          0.01318032,
          0.006590159999999998,
          null,
          0.007242131688520346,
          0.01445616137772912,
          0.01318032,
          0.007242131688520346,
          null,
          0.007333333333333332,
          0.008236850174562138,
          0,
          0.007333333333333332,
          null,
          0.008236850174562138,
          0,
          0,
          0.008236850174562138,
          null,
          0.007242131688520346,
          0.006590159999999998,
          0,
          0.007242131688520346,
          null,
          0,
          0.007242131688520346,
          0,
          0,
          null,
          0.00922614858819477,
          0.005437066298770648,
          0.01235132119179345,
          0.00922614858819477,
          null,
          0.01171820596186105,
          0.005698870709430353,
          0.006475912006619091,
          0.01171820596186105,
          null,
          0.005698870709430353,
          0,
          0.006475912006619091,
          0.005698870709430353,
          null,
          0.01030023557867162,
          0.01870562200231351,
          0.009178714490891474,
          0.01030023557867162,
          null,
          0,
          0.01030023557867162,
          0.009178714490891474,
          0,
          null,
          0.03326086121520966,
          0.02681375085732718,
          0.03432259692309297,
          0.03326086121520966,
          null,
          0.044,
          0.03326086121520966,
          0.03432259692309297,
          0.044,
          null,
          0.01977048,
          0.02200211471241193,
          0.02422952,
          0.01977048,
          null,
          0.03028179658444022,
          0.02200211471241193,
          0.02087331934541856,
          0.03028179658444022,
          null,
          0.01587021062626805,
          0.01235132119179345,
          0.02087331934541856,
          0.01587021062626805,
          null,
          0.006475912006619091,
          0.01245384697554667,
          0.01171820596186105,
          0.006475912006619091,
          null,
          0.02710509378161812,
          0.02145947641474676,
          0.01870562200231351,
          0.02710509378161812,
          null,
          0.01245384697554667,
          0.0167281922397692,
          0.01871556647261027,
          0.01245384697554667,
          null,
          0.02200000000000001,
          0.0167281922397692,
          0.01466666666666666,
          0.02200000000000001,
          null,
          0.01235132119179345,
          0.01587021062626805,
          0.00922614858819477,
          0.01235132119179345,
          null,
          0.02581654348084516,
          0.02977605608486939,
          0.02268567524772758,
          0.02581654348084516,
          null,
          0.01871556647261027,
          0.01171820596186105,
          0.01245384697554667,
          0.01871556647261027,
          null,
          0.02429622290986996,
          0.02200000000000001,
          0.02933333333333337,
          0.02429622290986996,
          null,
          0.01445616137772912,
          0.00922614858819477,
          0.01587021062626805,
          0.01445616137772912,
          null,
          0.01445616137772912,
          0.01977048,
          0.01318032,
          0.01445616137772912,
          null,
          0.044,
          0.03432259692309297,
          0.044,
          0.044,
          null,
          0.03898434712330215,
          0.044,
          0.044,
          0.03898434712330215,
          null,
          0.01855212207284843,
          0.01235132119179345,
          0.01025092099546636,
          0.01855212207284843,
          null,
          0.03028179658444022,
          0.0285333150530276,
          0.02200211471241193,
          0.03028179658444022,
          null,
          0.01235132119179345,
          0.01855212207284843,
          0.02087331934541856,
          0.01235132119179345,
          null,
          0.0285333150530276,
          0.02422952,
          0.02200211471241193,
          0.0285333150530276,
          null,
          0.0261823507990134,
          0.02681375085732718,
          0.03326086121520966,
          0.0261823507990134,
          null,
          0.0261823507990134,
          0.03028179658444022,
          0.02087331934541856,
          0.0261823507990134,
          null,
          0.03028179658444022,
          0.0261823507990134,
          0.03326086121520966,
          0.03028179658444022,
          null,
          0.03796467182015363,
          0.03028179658444022,
          0.03326086121520966,
          0.03796467182015363,
          null,
          0.005607861713865018,
          0,
          0.01025092099546636,
          0.005607861713865018,
          null,
          0.01235132119179345,
          0.005607861713865018,
          0.01025092099546636,
          0.01235132119179345,
          null,
          0,
          0.005607861713865018,
          0,
          0,
          null,
          0.044,
          0.03796467182015363,
          0.03326086121520966,
          0.044,
          null,
          0,
          0.009178714490891474,
          0,
          0,
          null,
          0.02977605608486939,
          0.02660026003260596,
          0.02268567524772758,
          0.02977605608486939,
          null,
          0.01870562200231351,
          0.0165,
          0.02268567524772758,
          0.01870562200231351,
          null,
          0.01171820596186105,
          0.0165,
          0.01030023557867162,
          0.01171820596186105,
          null,
          0.0165,
          0.01870562200231351,
          0.01030023557867162,
          0.0165,
          null,
          0.02660026003260596,
          0.02977605608486939,
          0.03472885304650121,
          0.02660026003260596,
          null,
          0.005698870709430353,
          0,
          0,
          0.005698870709430353,
          null,
          0.005698870709430353,
          0.01171820596186105,
          0.01030023557867162,
          0.005698870709430353,
          null,
          0,
          0.005698870709430353,
          0.01030023557867162,
          0,
          null,
          0.02660026003260596,
          0.01870562200231351,
          0.02268567524772758,
          0.02660026003260596,
          null,
          0.044,
          0.03898434712330215,
          0.0366666666666667,
          0.044,
          null,
          0.03898434712330215,
          0.03175060297346331,
          0.0366666666666667,
          0.03898434712330215,
          null
         ],
         "z": [
          0,
          0,
          0,
          0,
          null,
          0,
          0,
          0,
          0,
          null,
          0,
          0,
          0,
          0,
          null,
          0,
          0,
          0,
          0,
          null,
          0,
          0,
          0,
          0,
          null,
          0,
          0,
          0,
          0,
          null,
          0,
          0,
          0,
          0,
          null,
          0,
          0,
          0,
          0,
          null,
          0,
          0,
          0,
          0,
          null,
          0,
          0,
          0,
          0,
          null,
          0,
          0,
          0,
          0,
          null,
          0,
          0,
          0,
          0,
          null,
          0,
          0,
          0,
          0,
          null,
          0,
          0,
          0,
          0,
          null,
          0,
          0,
          0,
          0,
          null,
          0,
          0,
          0,
          0,
          null,
          0,
          0,
          0,
          0,
          null,
          0,
          0,
          0,
          0,
          null,
          0,
          0,
          0,
          0,
          null,
          0,
          0,
          0,
          0,
          null,
          0,
          0,
          0,
          0,
          null,
          0,
          0,
          0,
          0,
          null,
          0,
          0,
          0,
          0,
          null,
          0,
          0,
          0,
          0,
          null,
          0,
          0,
          0,
          0,
          null,
          0,
          0,
          0,
          0,
          null,
          0,
          0,
          0,
          0,
          null,
          0,
          0,
          0,
          0,
          null,
          0,
          0,
          0,
          0,
          null,
          0,
          0,
          0,
          0,
          null,
          0,
          0,
          0,
          0,
          null,
          0,
          0,
          0,
          0,
          null,
          0,
          0,
          0,
          0,
          null,
          0,
          0,
          0,
          0,
          null,
          0,
          0,
          0,
          0,
          null,
          0,
          0,
          0,
          0,
          null,
          0,
          0,
          0,
          0,
          null,
          0,
          0,
          0,
          0,
          null,
          0,
          0,
          0,
          0,
          null,
          0,
          0,
          0,
          0,
          null,
          0,
          0,
          0,
          0,
          null,
          0,
          0,
          0,
          0,
          null,
          0,
          0,
          0,
          0,
          null,
          0,
          0,
          0,
          0,
          null,
          0,
          0,
          0,
          0,
          null,
          0,
          0,
          0,
          0,
          null,
          0,
          0,
          0,
          0,
          null,
          0,
          0,
          0,
          0,
          null,
          0,
          0,
          0,
          0,
          null,
          0,
          0,
          0,
          0,
          null,
          0,
          0,
          0,
          0,
          null,
          0,
          0,
          0,
          0,
          null,
          0,
          0,
          0,
          0,
          null,
          0,
          0,
          0,
          0,
          null,
          0,
          0,
          0,
          0,
          null,
          0,
          0,
          0,
          0,
          null,
          0,
          0,
          0,
          0,
          null,
          0,
          0,
          0,
          0,
          null,
          0,
          0,
          0,
          0,
          null,
          0,
          0,
          0,
          0,
          null,
          0,
          0,
          0,
          0,
          null,
          0,
          0,
          0,
          0,
          null,
          0,
          0,
          0,
          0,
          null,
          0,
          0,
          0,
          0,
          null,
          0,
          0,
          0,
          0,
          null,
          0,
          0,
          0,
          0,
          null,
          0,
          0,
          0,
          0,
          null,
          0,
          0,
          0,
          0,
          null,
          0,
          0,
          0,
          0,
          null,
          0,
          0,
          0,
          0,
          null,
          0,
          0,
          0,
          0,
          null,
          0,
          0,
          0,
          0,
          null,
          0,
          0,
          0,
          0,
          null,
          0,
          0,
          0,
          0,
          null,
          0,
          0,
          0,
          0,
          null,
          0,
          0,
          0,
          0,
          null,
          0,
          0,
          0,
          0,
          null,
          0,
          0,
          0,
          0,
          null,
          0,
          0,
          0,
          0,
          null,
          0,
          0,
          0,
          0,
          null,
          0,
          0,
          0,
          0,
          null,
          0,
          0,
          0,
          0,
          null,
          0,
          0,
          0,
          0,
          null,
          0,
          0,
          0,
          0,
          null,
          0,
          0,
          0,
          0,
          null,
          0,
          0,
          0,
          0,
          null,
          0,
          0,
          0,
          0,
          null,
          0,
          0,
          0,
          0,
          null,
          0,
          0,
          0,
          0,
          null,
          0,
          0,
          0,
          0,
          null,
          0,
          0,
          0,
          0,
          null,
          0,
          0,
          0,
          0,
          null,
          0,
          0,
          0,
          0,
          null,
          0,
          0,
          0,
          0,
          null,
          0,
          0,
          0,
          0,
          null,
          0,
          0,
          0,
          0,
          null,
          0,
          0,
          0,
          0,
          null,
          0,
          0,
          0,
          0,
          null,
          0,
          0,
          0,
          0,
          null,
          0,
          0,
          0,
          0,
          null,
          0,
          0,
          0,
          0,
          null,
          0,
          0,
          0,
          0,
          null,
          0,
          0,
          0,
          0,
          null,
          0,
          0,
          0,
          0,
          null,
          0,
          0,
          0,
          0,
          null,
          0,
          0,
          0,
          0,
          null,
          0,
          0,
          0,
          0,
          null,
          0,
          0,
          0,
          0,
          null,
          0,
          0,
          0,
          0,
          null,
          0,
          0,
          0,
          0,
          null,
          0,
          0,
          0,
          0,
          null,
          0,
          0,
          0,
          0,
          null,
          0,
          0,
          0,
          0,
          null,
          0,
          0,
          0,
          0,
          null,
          0,
          0,
          0,
          0,
          null,
          0,
          0,
          0,
          0,
          null,
          0,
          0,
          0,
          0,
          null,
          0,
          0,
          0,
          0,
          null,
          0,
          0,
          0,
          0,
          null,
          0,
          0,
          0,
          0,
          null,
          0,
          0,
          0,
          0,
          null,
          0,
          0,
          0,
          0,
          null,
          0,
          0,
          0,
          0,
          null,
          0,
          0,
          0,
          0,
          null,
          0,
          0,
          0,
          0,
          null,
          0,
          0,
          0,
          0,
          null,
          0,
          0,
          0,
          0,
          null,
          0,
          0,
          0,
          0,
          null,
          0,
          0,
          0,
          0,
          null,
          0,
          0,
          0,
          0,
          null,
          0,
          0,
          0,
          0,
          null,
          0,
          0,
          0,
          0,
          null,
          0,
          0,
          0,
          0,
          null,
          0,
          0,
          0,
          0,
          null,
          0,
          0,
          0,
          0,
          null,
          0,
          0,
          0,
          0,
          null,
          0,
          0,
          0,
          0,
          null,
          0,
          0,
          0,
          0,
          null,
          0,
          0,
          0,
          0,
          null,
          0,
          0,
          0,
          0,
          null,
          0,
          0,
          0,
          0,
          null,
          0,
          0,
          0,
          0,
          null,
          0,
          0,
          0,
          0,
          null,
          0,
          0,
          0,
          0,
          null,
          0,
          0,
          0,
          0,
          null,
          0,
          0,
          0,
          0,
          null,
          0,
          0,
          0,
          0,
          null,
          0,
          0,
          0,
          0,
          null,
          0,
          0,
          0,
          0,
          null,
          0,
          0,
          0,
          0,
          null,
          0,
          0,
          0,
          0,
          null,
          0,
          0,
          0,
          0,
          null,
          0,
          0,
          0,
          0,
          null
         ]
        },
        {
         "hoverinfo": "none",
         "marker": {
          "color": [
           0.01652853748545276,
           4.105256852471934
          ],
          "colorscale": [
           [
            0,
            "rgb(150, 0, 90)"
           ],
           [
            0.125,
            "rgb(0, 0, 200)"
           ],
           [
            0.25,
            "rgb(0, 25, 255)"
           ],
           [
            0.375,
            "rgb(0, 152, 255)"
           ],
           [
            0.5,
            "rgb(44, 255, 150)"
           ],
           [
            0.625,
            "rgb(151, 255, 0)"
           ],
           [
            0.75,
            "rgb(255, 234, 0)"
           ],
           [
            0.875,
            "rgb(255, 111, 0)"
           ],
           [
            1,
            "rgb(255, 0, 0)"
           ]
          ],
          "showscale": true,
          "size": 0.1
         },
         "mode": "markers",
         "showlegend": false,
         "type": "scatter3d",
         "x": {
          "bdata": "AAAAAAAAAAA=",
          "dtype": "f8"
         },
         "y": {
          "bdata": "f7n9j5/PmD8=",
          "dtype": "f8"
         },
         "z": {
          "bdata": "AAAAAAAAAAA=",
          "dtype": "f8"
         }
        },
        {
         "marker": {
          "color": "red",
          "size": 6,
          "symbol": "circle"
         },
         "mode": "markers+text",
         "name": "Feed Point",
         "type": "scatter3d",
         "x": [
          0
         ],
         "y": [
          0.022
         ],
         "z": [
          0
         ]
        }
       ],
       "layout": {
        "height": 800,
        "legend": {
         "bgcolor": "rgba(255,255,255,0.7)",
         "bordercolor": "lightgray",
         "borderwidth": 1,
         "x": 0.2,
         "xanchor": "left",
         "y": 0.9,
         "yanchor": "top"
        },
        "scene": {
         "aspectratio": {
          "x": 1,
          "y": 0.4943820224719101,
          "z": 0.3
         },
         "camera": {
          "eye": {
           "x": 0.8,
           "y": 0.8,
           "z": 0.7
          }
         },
         "xaxis": {
          "backgroundcolor": "rgb(230, 230, 230)",
          "gridcolor": "rgb(255, 255, 255)",
          "showbackground": true,
          "zerolinecolor": "rgb(255, 255, 255)"
         },
         "yaxis": {
          "backgroundcolor": "rgb(230, 230, 230)",
          "gridcolor": "rgb(255, 255, 255)",
          "showbackground": true,
          "zerolinecolor": "rgb(255, 255, 255)"
         },
         "zaxis": {
          "backgroundcolor": "rgb(230, 230, 230)",
          "gridcolor": "rgb(255, 255, 255)",
          "showbackground": true,
          "zerolinecolor": "rgb(255, 255, 255)"
         }
        },
        "template": {
         "data": {
          "bar": [
           {
            "error_x": {
             "color": "#2a3f5f"
            },
            "error_y": {
             "color": "#2a3f5f"
            },
            "marker": {
             "line": {
              "color": "#E5ECF6",
              "width": 0.5
             },
             "pattern": {
              "fillmode": "overlay",
              "size": 10,
              "solidity": 0.2
             }
            },
            "type": "bar"
           }
          ],
          "barpolar": [
           {
            "marker": {
             "line": {
              "color": "#E5ECF6",
              "width": 0.5
             },
             "pattern": {
              "fillmode": "overlay",
              "size": 10,
              "solidity": 0.2
             }
            },
            "type": "barpolar"
           }
          ],
          "carpet": [
           {
            "aaxis": {
             "endlinecolor": "#2a3f5f",
             "gridcolor": "white",
             "linecolor": "white",
             "minorgridcolor": "white",
             "startlinecolor": "#2a3f5f"
            },
            "baxis": {
             "endlinecolor": "#2a3f5f",
             "gridcolor": "white",
             "linecolor": "white",
             "minorgridcolor": "white",
             "startlinecolor": "#2a3f5f"
            },
            "type": "carpet"
           }
          ],
          "choropleth": [
           {
            "colorbar": {
             "outlinewidth": 0,
             "ticks": ""
            },
            "type": "choropleth"
           }
          ],
          "contour": [
           {
            "colorbar": {
             "outlinewidth": 0,
             "ticks": ""
            },
            "colorscale": [
             [
              0,
              "#0d0887"
             ],
             [
              0.1111111111111111,
              "#46039f"
             ],
             [
              0.2222222222222222,
              "#7201a8"
             ],
             [
              0.3333333333333333,
              "#9c179e"
             ],
             [
              0.4444444444444444,
              "#bd3786"
             ],
             [
              0.5555555555555556,
              "#d8576b"
             ],
             [
              0.6666666666666666,
              "#ed7953"
             ],
             [
              0.7777777777777778,
              "#fb9f3a"
             ],
             [
              0.8888888888888888,
              "#fdca26"
             ],
             [
              1,
              "#f0f921"
             ]
            ],
            "type": "contour"
           }
          ],
          "contourcarpet": [
           {
            "colorbar": {
             "outlinewidth": 0,
             "ticks": ""
            },
            "type": "contourcarpet"
           }
          ],
          "heatmap": [
           {
            "colorbar": {
             "outlinewidth": 0,
             "ticks": ""
            },
            "colorscale": [
             [
              0,
              "#0d0887"
             ],
             [
              0.1111111111111111,
              "#46039f"
             ],
             [
              0.2222222222222222,
              "#7201a8"
             ],
             [
              0.3333333333333333,
              "#9c179e"
             ],
             [
              0.4444444444444444,
              "#bd3786"
             ],
             [
              0.5555555555555556,
              "#d8576b"
             ],
             [
              0.6666666666666666,
              "#ed7953"
             ],
             [
              0.7777777777777778,
              "#fb9f3a"
             ],
             [
              0.8888888888888888,
              "#fdca26"
             ],
             [
              1,
              "#f0f921"
             ]
            ],
            "type": "heatmap"
           }
          ],
          "histogram": [
           {
            "marker": {
             "pattern": {
              "fillmode": "overlay",
              "size": 10,
              "solidity": 0.2
             }
            },
            "type": "histogram"
           }
          ],
          "histogram2d": [
           {
            "colorbar": {
             "outlinewidth": 0,
             "ticks": ""
            },
            "colorscale": [
             [
              0,
              "#0d0887"
             ],
             [
              0.1111111111111111,
              "#46039f"
             ],
             [
              0.2222222222222222,
              "#7201a8"
             ],
             [
              0.3333333333333333,
              "#9c179e"
             ],
             [
              0.4444444444444444,
              "#bd3786"
             ],
             [
              0.5555555555555556,
              "#d8576b"
             ],
             [
              0.6666666666666666,
              "#ed7953"
             ],
             [
              0.7777777777777778,
              "#fb9f3a"
             ],
             [
              0.8888888888888888,
              "#fdca26"
             ],
             [
              1,
              "#f0f921"
             ]
            ],
            "type": "histogram2d"
           }
          ],
          "histogram2dcontour": [
           {
            "colorbar": {
             "outlinewidth": 0,
             "ticks": ""
            },
            "colorscale": [
             [
              0,
              "#0d0887"
             ],
             [
              0.1111111111111111,
              "#46039f"
             ],
             [
              0.2222222222222222,
              "#7201a8"
             ],
             [
              0.3333333333333333,
              "#9c179e"
             ],
             [
              0.4444444444444444,
              "#bd3786"
             ],
             [
              0.5555555555555556,
              "#d8576b"
             ],
             [
              0.6666666666666666,
              "#ed7953"
             ],
             [
              0.7777777777777778,
              "#fb9f3a"
             ],
             [
              0.8888888888888888,
              "#fdca26"
             ],
             [
              1,
              "#f0f921"
             ]
            ],
            "type": "histogram2dcontour"
           }
          ],
          "mesh3d": [
           {
            "colorbar": {
             "outlinewidth": 0,
             "ticks": ""
            },
            "type": "mesh3d"
           }
          ],
          "parcoords": [
           {
            "line": {
             "colorbar": {
              "outlinewidth": 0,
              "ticks": ""
             }
            },
            "type": "parcoords"
           }
          ],
          "pie": [
           {
            "automargin": true,
            "type": "pie"
           }
          ],
          "scatter": [
           {
            "fillpattern": {
             "fillmode": "overlay",
             "size": 10,
             "solidity": 0.2
            },
            "type": "scatter"
           }
          ],
          "scatter3d": [
           {
            "line": {
             "colorbar": {
              "outlinewidth": 0,
              "ticks": ""
             }
            },
            "marker": {
             "colorbar": {
              "outlinewidth": 0,
              "ticks": ""
             }
            },
            "type": "scatter3d"
           }
          ],
          "scattercarpet": [
           {
            "marker": {
             "colorbar": {
              "outlinewidth": 0,
              "ticks": ""
             }
            },
            "type": "scattercarpet"
           }
          ],
          "scattergeo": [
           {
            "marker": {
             "colorbar": {
              "outlinewidth": 0,
              "ticks": ""
             }
            },
            "type": "scattergeo"
           }
          ],
          "scattergl": [
           {
            "marker": {
             "colorbar": {
              "outlinewidth": 0,
              "ticks": ""
             }
            },
            "type": "scattergl"
           }
          ],
          "scattermap": [
           {
            "marker": {
             "colorbar": {
              "outlinewidth": 0,
              "ticks": ""
             }
            },
            "type": "scattermap"
           }
          ],
          "scattermapbox": [
           {
            "marker": {
             "colorbar": {
              "outlinewidth": 0,
              "ticks": ""
             }
            },
            "type": "scattermapbox"
           }
          ],
          "scatterpolar": [
           {
            "marker": {
             "colorbar": {
              "outlinewidth": 0,
              "ticks": ""
             }
            },
            "type": "scatterpolar"
           }
          ],
          "scatterpolargl": [
           {
            "marker": {
             "colorbar": {
              "outlinewidth": 0,
              "ticks": ""
             }
            },
            "type": "scatterpolargl"
           }
          ],
          "scatterternary": [
           {
            "marker": {
             "colorbar": {
              "outlinewidth": 0,
              "ticks": ""
             }
            },
            "type": "scatterternary"
           }
          ],
          "surface": [
           {
            "colorbar": {
             "outlinewidth": 0,
             "ticks": ""
            },
            "colorscale": [
             [
              0,
              "#0d0887"
             ],
             [
              0.1111111111111111,
              "#46039f"
             ],
             [
              0.2222222222222222,
              "#7201a8"
             ],
             [
              0.3333333333333333,
              "#9c179e"
             ],
             [
              0.4444444444444444,
              "#bd3786"
             ],
             [
              0.5555555555555556,
              "#d8576b"
             ],
             [
              0.6666666666666666,
              "#ed7953"
             ],
             [
              0.7777777777777778,
              "#fb9f3a"
             ],
             [
              0.8888888888888888,
              "#fdca26"
             ],
             [
              1,
              "#f0f921"
             ]
            ],
            "type": "surface"
           }
          ],
          "table": [
           {
            "cells": {
             "fill": {
              "color": "#EBF0F8"
             },
             "line": {
              "color": "white"
             }
            },
            "header": {
             "fill": {
              "color": "#C8D4E3"
             },
             "line": {
              "color": "white"
             }
            },
            "type": "table"
           }
          ]
         },
         "layout": {
          "annotationdefaults": {
           "arrowcolor": "#2a3f5f",
           "arrowhead": 0,
           "arrowwidth": 1
          },
          "autotypenumbers": "strict",
          "coloraxis": {
           "colorbar": {
            "outlinewidth": 0,
            "ticks": ""
           }
          },
          "colorscale": {
           "diverging": [
            [
             0,
             "#8e0152"
            ],
            [
             0.1,
             "#c51b7d"
            ],
            [
             0.2,
             "#de77ae"
            ],
            [
             0.3,
             "#f1b6da"
            ],
            [
             0.4,
             "#fde0ef"
            ],
            [
             0.5,
             "#f7f7f7"
            ],
            [
             0.6,
             "#e6f5d0"
            ],
            [
             0.7,
             "#b8e186"
            ],
            [
             0.8,
             "#7fbc41"
            ],
            [
             0.9,
             "#4d9221"
            ],
            [
             1,
             "#276419"
            ]
           ],
           "sequential": [
            [
             0,
             "#0d0887"
            ],
            [
             0.1111111111111111,
             "#46039f"
            ],
            [
             0.2222222222222222,
             "#7201a8"
            ],
            [
             0.3333333333333333,
             "#9c179e"
            ],
            [
             0.4444444444444444,
             "#bd3786"
            ],
            [
             0.5555555555555556,
             "#d8576b"
            ],
            [
             0.6666666666666666,
             "#ed7953"
            ],
            [
             0.7777777777777778,
             "#fb9f3a"
            ],
            [
             0.8888888888888888,
             "#fdca26"
            ],
            [
             1,
             "#f0f921"
            ]
           ],
           "sequentialminus": [
            [
             0,
             "#0d0887"
            ],
            [
             0.1111111111111111,
             "#46039f"
            ],
            [
             0.2222222222222222,
             "#7201a8"
            ],
            [
             0.3333333333333333,
             "#9c179e"
            ],
            [
             0.4444444444444444,
             "#bd3786"
            ],
            [
             0.5555555555555556,
             "#d8576b"
            ],
            [
             0.6666666666666666,
             "#ed7953"
            ],
            [
             0.7777777777777778,
             "#fb9f3a"
            ],
            [
             0.8888888888888888,
             "#fdca26"
            ],
            [
             1,
             "#f0f921"
            ]
           ]
          },
          "colorway": [
           "#636efa",
           "#EF553B",
           "#00cc96",
           "#ab63fa",
           "#FFA15A",
           "#19d3f3",
           "#FF6692",
           "#B6E880",
           "#FF97FF",
           "#FECB52"
          ],
          "font": {
           "color": "#2a3f5f"
          },
          "geo": {
           "bgcolor": "white",
           "lakecolor": "white",
           "landcolor": "#E5ECF6",
           "showlakes": true,
           "showland": true,
           "subunitcolor": "white"
          },
          "hoverlabel": {
           "align": "left"
          },
          "hovermode": "closest",
          "mapbox": {
           "style": "light"
          },
          "paper_bgcolor": "white",
          "plot_bgcolor": "#E5ECF6",
          "polar": {
           "angularaxis": {
            "gridcolor": "white",
            "linecolor": "white",
            "ticks": ""
           },
           "bgcolor": "#E5ECF6",
           "radialaxis": {
            "gridcolor": "white",
            "linecolor": "white",
            "ticks": ""
           }
          },
          "scene": {
           "xaxis": {
            "backgroundcolor": "#E5ECF6",
            "gridcolor": "white",
            "gridwidth": 2,
            "linecolor": "white",
            "showbackground": true,
            "ticks": "",
            "zerolinecolor": "white"
           },
           "yaxis": {
            "backgroundcolor": "#E5ECF6",
            "gridcolor": "white",
            "gridwidth": 2,
            "linecolor": "white",
            "showbackground": true,
            "ticks": "",
            "zerolinecolor": "white"
           },
           "zaxis": {
            "backgroundcolor": "#E5ECF6",
            "gridcolor": "white",
            "gridwidth": 2,
            "linecolor": "white",
            "showbackground": true,
            "ticks": "",
            "zerolinecolor": "white"
           }
          },
          "shapedefaults": {
           "line": {
            "color": "#2a3f5f"
           }
          },
          "ternary": {
           "aaxis": {
            "gridcolor": "white",
            "linecolor": "white",
            "ticks": ""
           },
           "baxis": {
            "gridcolor": "white",
            "linecolor": "white",
            "ticks": ""
           },
           "bgcolor": "#E5ECF6",
           "caxis": {
            "gridcolor": "white",
            "linecolor": "white",
            "ticks": ""
           }
          },
          "title": {
           "x": 0.05
          },
          "xaxis": {
           "automargin": true,
           "gridcolor": "white",
           "linecolor": "white",
           "ticks": "",
           "title": {
            "standoff": 15
           },
           "zerolinecolor": "white",
           "zerolinewidth": 2
          },
          "yaxis": {
           "automargin": true,
           "gridcolor": "white",
           "linecolor": "white",
           "ticks": "",
           "title": {
            "standoff": 15
           },
           "zerolinecolor": "white",
           "zerolinewidth": 2
          }
         }
        },
        "title": {
         "text": "ifa_M_opti3 antenna surface current in radiation mode"
        },
        "width": 800
       }
      }
     },
     "metadata": {},
     "output_type": "display_data"
    },
    {
     "name": "stdout",
     "output_type": "stream",
     "text": [
      "Simulation 43/101 | f = 868.00 MHz | S11 = -28.48 dB\n",
      "Simulation 44/101 | f = 872.00 MHz | S11 = -33.03 dB\n",
      "Simulation 45/101 | f = 876.00 MHz | S11 = -23.49 dB\n",
      "Simulation 46/101 | f = 880.00 MHz | S11 = -18.84 dB\n",
      "Simulation 47/101 | f = 884.00 MHz | S11 = -15.87 dB\n",
      "Simulation 48/101 | f = 888.00 MHz | S11 = -13.72 dB\n",
      "Simulation 49/101 | f = 892.00 MHz | S11 = -12.06 dB\n",
      "Simulation 50/101 | f = 896.00 MHz | S11 = -10.72 dB\n",
      "Simulation 51/101 | f = 900.00 MHz | S11 = -9.61 dB\n",
      "Simulation 52/101 | f = 904.00 MHz | S11 = -8.67 dB\n",
      "Simulation 53/101 | f = 908.00 MHz | S11 = -7.87 dB\n",
      "Simulation 54/101 | f = 912.00 MHz | S11 = -7.18 dB\n",
      "Simulation 55/101 | f = 916.00 MHz | S11 = -6.58 dB\n",
      "Simulation 56/101 | f = 920.00 MHz | S11 = -6.05 dB\n",
      "Simulation 57/101 | f = 924.00 MHz | S11 = -5.58 dB\n",
      "Simulation 58/101 | f = 928.00 MHz | S11 = -5.16 dB\n",
      "Simulation 59/101 | f = 932.00 MHz | S11 = -4.79 dB\n",
      "Simulation 60/101 | f = 936.00 MHz | S11 = -4.46 dB\n",
      "Simulation 61/101 | f = 940.00 MHz | S11 = -4.16 dB\n",
      "Simulation 62/101 | f = 944.00 MHz | S11 = -3.89 dB\n",
      "Simulation 63/101 | f = 948.00 MHz | S11 = -3.64 dB\n",
      "Simulation 64/101 | f = 952.00 MHz | S11 = -3.42 dB\n",
      "Simulation 65/101 | f = 956.00 MHz | S11 = -3.22 dB\n",
      "Simulation 66/101 | f = 960.00 MHz | S11 = -3.03 dB\n",
      "Simulation 67/101 | f = 964.00 MHz | S11 = -2.86 dB\n",
      "Simulation 68/101 | f = 968.00 MHz | S11 = -2.71 dB\n",
      "Simulation 69/101 | f = 972.00 MHz | S11 = -2.56 dB\n",
      "Simulation 70/101 | f = 976.00 MHz | S11 = -2.43 dB\n",
      "Simulation 71/101 | f = 980.00 MHz | S11 = -2.31 dB\n",
      "Simulation 72/101 | f = 984.00 MHz | S11 = -2.19 dB\n",
      "Simulation 73/101 | f = 988.00 MHz | S11 = -2.09 dB\n",
      "Simulation 74/101 | f = 992.00 MHz | S11 = -1.99 dB\n",
      "Simulation 75/101 | f = 996.00 MHz | S11 = -1.90 dB\n",
      "Simulation 76/101 | f = 1000.00 MHz | S11 = -1.82 dB\n",
      "Simulation 77/101 | f = 1004.00 MHz | S11 = -1.74 dB\n",
      "Simulation 78/101 | f = 1008.00 MHz | S11 = -1.66 dB\n",
      "Simulation 79/101 | f = 1012.00 MHz | S11 = -1.59 dB\n",
      "Simulation 80/101 | f = 1016.00 MHz | S11 = -1.53 dB\n",
      "Simulation 81/101 | f = 1020.00 MHz | S11 = -1.47 dB\n",
      "Simulation 82/101 | f = 1024.00 MHz | S11 = -1.41 dB\n",
      "Simulation 83/101 | f = 1028.00 MHz | S11 = -1.35 dB\n",
      "Simulation 84/101 | f = 1032.00 MHz | S11 = -1.30 dB\n",
      "Simulation 85/101 | f = 1036.00 MHz | S11 = -1.25 dB\n",
      "Simulation 86/101 | f = 1040.00 MHz | S11 = -1.21 dB\n",
      "Simulation 87/101 | f = 1044.00 MHz | S11 = -1.16 dB\n",
      "Simulation 88/101 | f = 1048.00 MHz | S11 = -1.12 dB\n",
      "Simulation 89/101 | f = 1052.00 MHz | S11 = -1.08 dB\n",
      "Simulation 90/101 | f = 1056.00 MHz | S11 = -1.05 dB\n",
      "Simulation 91/101 | f = 1060.00 MHz | S11 = -1.01 dB\n",
      "Simulation 92/101 | f = 1064.00 MHz | S11 = -0.98 dB\n",
      "Simulation 93/101 | f = 1068.00 MHz | S11 = -0.94 dB\n",
      "Simulation 94/101 | f = 1072.00 MHz | S11 = -0.91 dB\n",
      "Simulation 95/101 | f = 1076.00 MHz | S11 = -0.88 dB\n",
      "Simulation 96/101 | f = 1080.00 MHz | S11 = -0.86 dB\n",
      "Simulation 97/101 | f = 1084.00 MHz | S11 = -0.83 dB\n",
      "Simulation 98/101 | f = 1088.00 MHz | S11 = -0.80 dB\n",
      "Simulation 99/101 | f = 1092.00 MHz | S11 = -0.78 dB\n",
      "Simulation 100/101 | f = 1096.00 MHz | S11 = -0.75 dB\n",
      "Simulation 101/101 | f = 1100.00 MHz | S11 = -0.73 dB\n"
     ]
    },
    {
     "data": {
      "application/vnd.plotly.v1+json": {
       "config": {
        "plotlyServerURL": "https://plot.ly"
       },
       "data": [
        {
         "hoverinfo": "text",
         "imag": [
          3.706155429997852,
          3.8223860724995506,
          3.947091341674991,
          4.0810453606976065,
          4.22502623830268,
          4.379760622108463,
          4.545827272714235,
          4.723494004421923,
          4.912447087716549,
          5.1113489085115695,
          5.317126070985892,
          5.523847292610181,
          5.721012001508918,
          5.89108593740824,
          6.006323113012968,
          6.025591839278044,
          5.893501070224375,
          5.546649537064082,
          4.933252358524061,
          4.04668617798374,
          2.955779742233392,
          1.7995735340178394,
          0.7348146971456387,
          -0.12730920967783188,
          -0.7480113548033844,
          -1.1456967630435952,
          -1.3656618503122744,
          -1.4568333356598604,
          -1.4606217014424356,
          -1.4081339214686606,
          -1.3212187616710347,
          -1.2146059914284186,
          -1.0979549780087583,
          -0.977460783299623,
          -0.857006935991667,
          -0.7389565369057287,
          -0.6246824163224667,
          -0.5149179961198559,
          -0.40998800651086403,
          -0.3099596937720174,
          -0.2147417004495024,
          -0.12414856246643875,
          0.04413904266147524,
          0.12236722307512744,
          0.19701000488276355,
          0.2683261805687035,
          0.3365615621575085,
          0.4019470974456187,
          0.4646981605764268,
          0.5250145859440525,
          0.5830811586045459,
          0.6390683709712432,
          0.6931333204598953,
          0.7454206664027104,
          0.7960635939250335,
          0.8451847522207765,
          0.8928971478768115,
          0.9393049826849164,
          0.9845044311639158,
          1.028584356755521,
          1.0716269680130721,
          1.1137084175305474,
          1.154899347150444,
          1.1952653833767362,
          1.23486758702668,
          1.2737628610936642,
          1.3120043206261405,
          1.3496416281993868,
          1.3867212982977797,
          1.4232869736574323,
          1.4593796763513864,
          1.4950380361453077,
          1.5302984984086934,
          1.5651955136456002,
          1.5997617105004411,
          1.6340280539106518,
          1.6680239899067502,
          1.7017775784091724,
          1.7353156152320284,
          1.7686637443848914,
          1.8018465616493649,
          1.8348877103139503,
          1.867809969858904,
          1.9006353383090777,
          1.9333851089002783,
          1.966079941645705,
          1.998739930332183,
          2.031384665429475,
          2.064033293351387,
          2.0967045724706406,
          2.1294169262540295,
          2.1621884938574794,
          2.195037178491131,
          2.227980693845053,
          2.2610366088428613,
          2.294222390976445,
          2.327555448457435,
          2.361053171409264,
          2.3947329723135637,
          2.4286123259146932
         ],
         "marker": {
          "color": "blue",
          "size": 4
         },
         "mode": "markers+lines",
         "name": "Impedance Points",
         "real": [
          0.4139979432876808,
          0.46754368256105844,
          0.5300095191304623,
          0.6032611692509176,
          0.6896316308913144,
          0.7920527522410322,
          0.914224140589413,
          1.060826709341641,
          1.2377847938359188,
          1.4525699180007927,
          1.7145120409832941,
          2.035023055294859,
          2.4275113363162655,
          2.906528476638313,
          3.4852986130192414,
          4.170303457875616,
          4.951501527986138,
          5.788414477138914,
          6.5978165661867525,
          7.257385347881317,
          7.640409996421673,
          7.673193782088273,
          7.373214991992251,
          6.833760006376877,
          6.172333917542548,
          5.486492518435869,
          4.837655875896972,
          4.255391417324038,
          3.7483238787301754,
          3.313790053148847,
          2.944176864561045,
          2.630440414771412,
          2.3638126395193226,
          2.136497585959024,
          1.9418584135116115,
          1.774372875940439,
          1.6294996160919542,
          1.5035232408240802,
          1.3934077754994896,
          1.2966692916821805,
          1.2112698113837088,
          1.1355309336869686,
          1.0077164628222839,
          0.9535238431986387,
          0.9046781862057796,
          0.8604979574169767,
          0.8204058066097036,
          0.783910382578526,
          0.7505916509809848,
          0.7200889903642432,
          0.6920914985514207,
          0.6663300640512675,
          0.6425708524411472,
          0.6206099317701088,
          0.6002688187063507,
          0.5813907721346419,
          0.5638376960888306,
          0.5474875414999117,
          0.5322321179641364,
          0.5179752438995032,
          0.5046311770722434,
          0.49212327831136027,
          0.48038286989499485,
          0.469348257040505,
          0.45896388653136533,
          0.4491796210406044,
          0.43995011138552603,
          0.4312342519411331,
          0.4229947068881891,
          0.4151974969785525,
          0.4078116381545472,
          0.4008088247240409,
          0.39416315092495485,
          0.38785086565375126,
          0.3818501559173283,
          0.37614095522412966,
          0.3707047736810777,
          0.36552454702609827,
          0.3605845022178532,
          0.35587003753389795,
          0.3513676154100566,
          0.3470646664921205,
          0.34294950357455795,
          0.3390112442743724,
          0.3352397414383323,
          0.33162552040826027,
          0.3281597223807703,
          0.32483405319148334,
          0.32164073693685713,
          0.3185724739173603,
          0.3156224024478978,
          0.3127840641347428,
          0.31005137226564394,
          0.30741858300016556,
          0.304880269083759,
          0.30243129584018913,
          0.3000667992246273,
          0.29778216574454974,
          0.2955730140766881,
          0.2934351782277933
         ],
         "text": [
          "Z = 20.700+185.308j at 700.0 MHz",
          "Z = 23.377+191.119j at 704.0 MHz",
          "Z = 26.500+197.355j at 708.0 MHz",
          "Z = 30.163+204.052j at 712.0 MHz",
          "Z = 34.482+211.251j at 716.0 MHz",
          "Z = 39.603+218.988j at 720.0 MHz",
          "Z = 45.711+227.291j at 724.0 MHz",
          "Z = 53.041+236.175j at 728.0 MHz",
          "Z = 61.889+245.622j at 732.0 MHz",
          "Z = 72.628+255.567j at 736.0 MHz",
          "Z = 85.726+265.856j at 740.0 MHz",
          "Z = 101.751+276.192j at 744.0 MHz",
          "Z = 121.376+286.051j at 748.0 MHz",
          "Z = 145.326+294.554j at 752.0 MHz",
          "Z = 174.265+300.316j at 756.0 MHz",
          "Z = 208.515+301.280j at 760.0 MHz",
          "Z = 247.575+294.675j at 764.0 MHz",
          "Z = 289.421+277.332j at 768.0 MHz",
          "Z = 329.891+246.663j at 772.0 MHz",
          "Z = 362.869+202.334j at 776.0 MHz",
          "Z = 382.020+147.789j at 780.0 MHz",
          "Z = 383.660+89.979j at 784.0 MHz",
          "Z = 368.661+36.741j at 788.0 MHz",
          "Z = 341.688-6.365j at 792.0 MHz",
          "Z = 308.617-37.401j at 796.0 MHz",
          "Z = 274.325-57.285j at 800.0 MHz",
          "Z = 241.883-68.283j at 804.0 MHz",
          "Z = 212.770-72.842j at 808.0 MHz",
          "Z = 187.416-73.031j at 812.0 MHz",
          "Z = 165.690-70.407j at 816.0 MHz",
          "Z = 147.209-66.061j at 820.0 MHz",
          "Z = 131.522-60.730j at 824.0 MHz",
          "Z = 118.191-54.898j at 828.0 MHz",
          "Z = 106.825-48.873j at 832.0 MHz",
          "Z = 97.093-42.850j at 836.0 MHz",
          "Z = 88.719-36.948j at 840.0 MHz",
          "Z = 81.475-31.234j at 844.0 MHz",
          "Z = 75.176-25.746j at 848.0 MHz",
          "Z = 69.670-20.499j at 852.0 MHz",
          "Z = 64.833-15.498j at 856.0 MHz",
          "Z = 60.563-10.737j at 860.0 MHz",
          "Z = 56.777-6.207j at 864.0 MHz",
          "Z = 50.386+2.207j at 872.0 MHz",
          "Z = 47.676+6.118j at 876.0 MHz",
          "Z = 45.234+9.851j at 880.0 MHz",
          "Z = 43.025+13.416j at 884.0 MHz",
          "Z = 41.020+16.828j at 888.0 MHz",
          "Z = 39.196+20.097j at 892.0 MHz",
          "Z = 37.530+23.235j at 896.0 MHz",
          "Z = 36.004+26.251j at 900.0 MHz",
          "Z = 34.605+29.154j at 904.0 MHz",
          "Z = 33.317+31.953j at 908.0 MHz",
          "Z = 32.129+34.657j at 912.0 MHz",
          "Z = 31.030+37.271j at 916.0 MHz",
          "Z = 30.013+39.803j at 920.0 MHz",
          "Z = 29.070+42.259j at 924.0 MHz",
          "Z = 28.192+44.645j at 928.0 MHz",
          "Z = 27.374+46.965j at 932.0 MHz",
          "Z = 26.612+49.225j at 936.0 MHz",
          "Z = 25.899+51.429j at 940.0 MHz",
          "Z = 25.232+53.581j at 944.0 MHz",
          "Z = 24.606+55.685j at 948.0 MHz",
          "Z = 24.019+57.745j at 952.0 MHz",
          "Z = 23.467+59.763j at 956.0 MHz",
          "Z = 22.948+61.743j at 960.0 MHz",
          "Z = 22.459+63.688j at 964.0 MHz",
          "Z = 21.998+65.600j at 968.0 MHz",
          "Z = 21.562+67.482j at 972.0 MHz",
          "Z = 21.150+69.336j at 976.0 MHz",
          "Z = 20.760+71.164j at 980.0 MHz",
          "Z = 20.391+72.969j at 984.0 MHz",
          "Z = 20.040+74.752j at 988.0 MHz",
          "Z = 19.708+76.515j at 992.0 MHz",
          "Z = 19.393+78.260j at 996.0 MHz",
          "Z = 19.093+79.988j at 1000.0 MHz",
          "Z = 18.807+81.701j at 1004.0 MHz",
          "Z = 18.535+83.401j at 1008.0 MHz",
          "Z = 18.276+85.089j at 1012.0 MHz",
          "Z = 18.029+86.766j at 1016.0 MHz",
          "Z = 17.794+88.433j at 1020.0 MHz",
          "Z = 17.568+90.092j at 1024.0 MHz",
          "Z = 17.353+91.744j at 1028.0 MHz",
          "Z = 17.147+93.390j at 1032.0 MHz",
          "Z = 16.951+95.032j at 1036.0 MHz",
          "Z = 16.762+96.669j at 1040.0 MHz",
          "Z = 16.581+98.304j at 1044.0 MHz",
          "Z = 16.408+99.937j at 1048.0 MHz",
          "Z = 16.242+101.569j at 1052.0 MHz",
          "Z = 16.082+103.202j at 1056.0 MHz",
          "Z = 15.929+104.835j at 1060.0 MHz",
          "Z = 15.781+106.471j at 1064.0 MHz",
          "Z = 15.639+108.109j at 1068.0 MHz",
          "Z = 15.503+109.752j at 1072.0 MHz",
          "Z = 15.371+111.399j at 1076.0 MHz",
          "Z = 15.244+113.052j at 1080.0 MHz",
          "Z = 15.122+114.711j at 1084.0 MHz",
          "Z = 15.003+116.378j at 1088.0 MHz",
          "Z = 14.889+118.053j at 1092.0 MHz",
          "Z = 14.779+119.737j at 1096.0 MHz",
          "Z = 14.672+121.431j at 1100.0 MHz"
         ],
         "type": "scattersmith"
        },
        {
         "hoverinfo": "text",
         "imag": [
          -0.03794260419879036
         ],
         "marker": {
          "color": "red",
          "size": 10,
          "symbol": "circle"
         },
         "mode": "markers",
         "name": "Impedance at fC=868.0 MHz",
         "real": [
          1.068064376955438
         ],
         "text": [
          "Z = 53.403-1.897j at 868.0 MHz"
         ],
         "type": "scattersmith"
        }
       ],
       "layout": {
        "height": 618,
        "showlegend": true,
        "template": {
         "data": {
          "bar": [
           {
            "error_x": {
             "color": "#2a3f5f"
            },
            "error_y": {
             "color": "#2a3f5f"
            },
            "marker": {
             "line": {
              "color": "#E5ECF6",
              "width": 0.5
             },
             "pattern": {
              "fillmode": "overlay",
              "size": 10,
              "solidity": 0.2
             }
            },
            "type": "bar"
           }
          ],
          "barpolar": [
           {
            "marker": {
             "line": {
              "color": "#E5ECF6",
              "width": 0.5
             },
             "pattern": {
              "fillmode": "overlay",
              "size": 10,
              "solidity": 0.2
             }
            },
            "type": "barpolar"
           }
          ],
          "carpet": [
           {
            "aaxis": {
             "endlinecolor": "#2a3f5f",
             "gridcolor": "white",
             "linecolor": "white",
             "minorgridcolor": "white",
             "startlinecolor": "#2a3f5f"
            },
            "baxis": {
             "endlinecolor": "#2a3f5f",
             "gridcolor": "white",
             "linecolor": "white",
             "minorgridcolor": "white",
             "startlinecolor": "#2a3f5f"
            },
            "type": "carpet"
           }
          ],
          "choropleth": [
           {
            "colorbar": {
             "outlinewidth": 0,
             "ticks": ""
            },
            "type": "choropleth"
           }
          ],
          "contour": [
           {
            "colorbar": {
             "outlinewidth": 0,
             "ticks": ""
            },
            "colorscale": [
             [
              0,
              "#0d0887"
             ],
             [
              0.1111111111111111,
              "#46039f"
             ],
             [
              0.2222222222222222,
              "#7201a8"
             ],
             [
              0.3333333333333333,
              "#9c179e"
             ],
             [
              0.4444444444444444,
              "#bd3786"
             ],
             [
              0.5555555555555556,
              "#d8576b"
             ],
             [
              0.6666666666666666,
              "#ed7953"
             ],
             [
              0.7777777777777778,
              "#fb9f3a"
             ],
             [
              0.8888888888888888,
              "#fdca26"
             ],
             [
              1,
              "#f0f921"
             ]
            ],
            "type": "contour"
           }
          ],
          "contourcarpet": [
           {
            "colorbar": {
             "outlinewidth": 0,
             "ticks": ""
            },
            "type": "contourcarpet"
           }
          ],
          "heatmap": [
           {
            "colorbar": {
             "outlinewidth": 0,
             "ticks": ""
            },
            "colorscale": [
             [
              0,
              "#0d0887"
             ],
             [
              0.1111111111111111,
              "#46039f"
             ],
             [
              0.2222222222222222,
              "#7201a8"
             ],
             [
              0.3333333333333333,
              "#9c179e"
             ],
             [
              0.4444444444444444,
              "#bd3786"
             ],
             [
              0.5555555555555556,
              "#d8576b"
             ],
             [
              0.6666666666666666,
              "#ed7953"
             ],
             [
              0.7777777777777778,
              "#fb9f3a"
             ],
             [
              0.8888888888888888,
              "#fdca26"
             ],
             [
              1,
              "#f0f921"
             ]
            ],
            "type": "heatmap"
           }
          ],
          "histogram": [
           {
            "marker": {
             "pattern": {
              "fillmode": "overlay",
              "size": 10,
              "solidity": 0.2
             }
            },
            "type": "histogram"
           }
          ],
          "histogram2d": [
           {
            "colorbar": {
             "outlinewidth": 0,
             "ticks": ""
            },
            "colorscale": [
             [
              0,
              "#0d0887"
             ],
             [
              0.1111111111111111,
              "#46039f"
             ],
             [
              0.2222222222222222,
              "#7201a8"
             ],
             [
              0.3333333333333333,
              "#9c179e"
             ],
             [
              0.4444444444444444,
              "#bd3786"
             ],
             [
              0.5555555555555556,
              "#d8576b"
             ],
             [
              0.6666666666666666,
              "#ed7953"
             ],
             [
              0.7777777777777778,
              "#fb9f3a"
             ],
             [
              0.8888888888888888,
              "#fdca26"
             ],
             [
              1,
              "#f0f921"
             ]
            ],
            "type": "histogram2d"
           }
          ],
          "histogram2dcontour": [
           {
            "colorbar": {
             "outlinewidth": 0,
             "ticks": ""
            },
            "colorscale": [
             [
              0,
              "#0d0887"
             ],
             [
              0.1111111111111111,
              "#46039f"
             ],
             [
              0.2222222222222222,
              "#7201a8"
             ],
             [
              0.3333333333333333,
              "#9c179e"
             ],
             [
              0.4444444444444444,
              "#bd3786"
             ],
             [
              0.5555555555555556,
              "#d8576b"
             ],
             [
              0.6666666666666666,
              "#ed7953"
             ],
             [
              0.7777777777777778,
              "#fb9f3a"
             ],
             [
              0.8888888888888888,
              "#fdca26"
             ],
             [
              1,
              "#f0f921"
             ]
            ],
            "type": "histogram2dcontour"
           }
          ],
          "mesh3d": [
           {
            "colorbar": {
             "outlinewidth": 0,
             "ticks": ""
            },
            "type": "mesh3d"
           }
          ],
          "parcoords": [
           {
            "line": {
             "colorbar": {
              "outlinewidth": 0,
              "ticks": ""
             }
            },
            "type": "parcoords"
           }
          ],
          "pie": [
           {
            "automargin": true,
            "type": "pie"
           }
          ],
          "scatter": [
           {
            "fillpattern": {
             "fillmode": "overlay",
             "size": 10,
             "solidity": 0.2
            },
            "type": "scatter"
           }
          ],
          "scatter3d": [
           {
            "line": {
             "colorbar": {
              "outlinewidth": 0,
              "ticks": ""
             }
            },
            "marker": {
             "colorbar": {
              "outlinewidth": 0,
              "ticks": ""
             }
            },
            "type": "scatter3d"
           }
          ],
          "scattercarpet": [
           {
            "marker": {
             "colorbar": {
              "outlinewidth": 0,
              "ticks": ""
             }
            },
            "type": "scattercarpet"
           }
          ],
          "scattergeo": [
           {
            "marker": {
             "colorbar": {
              "outlinewidth": 0,
              "ticks": ""
             }
            },
            "type": "scattergeo"
           }
          ],
          "scattergl": [
           {
            "marker": {
             "colorbar": {
              "outlinewidth": 0,
              "ticks": ""
             }
            },
            "type": "scattergl"
           }
          ],
          "scattermap": [
           {
            "marker": {
             "colorbar": {
              "outlinewidth": 0,
              "ticks": ""
             }
            },
            "type": "scattermap"
           }
          ],
          "scattermapbox": [
           {
            "marker": {
             "colorbar": {
              "outlinewidth": 0,
              "ticks": ""
             }
            },
            "type": "scattermapbox"
           }
          ],
          "scatterpolar": [
           {
            "marker": {
             "colorbar": {
              "outlinewidth": 0,
              "ticks": ""
             }
            },
            "type": "scatterpolar"
           }
          ],
          "scatterpolargl": [
           {
            "marker": {
             "colorbar": {
              "outlinewidth": 0,
              "ticks": ""
             }
            },
            "type": "scatterpolargl"
           }
          ],
          "scatterternary": [
           {
            "marker": {
             "colorbar": {
              "outlinewidth": 0,
              "ticks": ""
             }
            },
            "type": "scatterternary"
           }
          ],
          "surface": [
           {
            "colorbar": {
             "outlinewidth": 0,
             "ticks": ""
            },
            "colorscale": [
             [
              0,
              "#0d0887"
             ],
             [
              0.1111111111111111,
              "#46039f"
             ],
             [
              0.2222222222222222,
              "#7201a8"
             ],
             [
              0.3333333333333333,
              "#9c179e"
             ],
             [
              0.4444444444444444,
              "#bd3786"
             ],
             [
              0.5555555555555556,
              "#d8576b"
             ],
             [
              0.6666666666666666,
              "#ed7953"
             ],
             [
              0.7777777777777778,
              "#fb9f3a"
             ],
             [
              0.8888888888888888,
              "#fdca26"
             ],
             [
              1,
              "#f0f921"
             ]
            ],
            "type": "surface"
           }
          ],
          "table": [
           {
            "cells": {
             "fill": {
              "color": "#EBF0F8"
             },
             "line": {
              "color": "white"
             }
            },
            "header": {
             "fill": {
              "color": "#C8D4E3"
             },
             "line": {
              "color": "white"
             }
            },
            "type": "table"
           }
          ]
         },
         "layout": {
          "annotationdefaults": {
           "arrowcolor": "#2a3f5f",
           "arrowhead": 0,
           "arrowwidth": 1
          },
          "autotypenumbers": "strict",
          "coloraxis": {
           "colorbar": {
            "outlinewidth": 0,
            "ticks": ""
           }
          },
          "colorscale": {
           "diverging": [
            [
             0,
             "#8e0152"
            ],
            [
             0.1,
             "#c51b7d"
            ],
            [
             0.2,
             "#de77ae"
            ],
            [
             0.3,
             "#f1b6da"
            ],
            [
             0.4,
             "#fde0ef"
            ],
            [
             0.5,
             "#f7f7f7"
            ],
            [
             0.6,
             "#e6f5d0"
            ],
            [
             0.7,
             "#b8e186"
            ],
            [
             0.8,
             "#7fbc41"
            ],
            [
             0.9,
             "#4d9221"
            ],
            [
             1,
             "#276419"
            ]
           ],
           "sequential": [
            [
             0,
             "#0d0887"
            ],
            [
             0.1111111111111111,
             "#46039f"
            ],
            [
             0.2222222222222222,
             "#7201a8"
            ],
            [
             0.3333333333333333,
             "#9c179e"
            ],
            [
             0.4444444444444444,
             "#bd3786"
            ],
            [
             0.5555555555555556,
             "#d8576b"
            ],
            [
             0.6666666666666666,
             "#ed7953"
            ],
            [
             0.7777777777777778,
             "#fb9f3a"
            ],
            [
             0.8888888888888888,
             "#fdca26"
            ],
            [
             1,
             "#f0f921"
            ]
           ],
           "sequentialminus": [
            [
             0,
             "#0d0887"
            ],
            [
             0.1111111111111111,
             "#46039f"
            ],
            [
             0.2222222222222222,
             "#7201a8"
            ],
            [
             0.3333333333333333,
             "#9c179e"
            ],
            [
             0.4444444444444444,
             "#bd3786"
            ],
            [
             0.5555555555555556,
             "#d8576b"
            ],
            [
             0.6666666666666666,
             "#ed7953"
            ],
            [
             0.7777777777777778,
             "#fb9f3a"
            ],
            [
             0.8888888888888888,
             "#fdca26"
            ],
            [
             1,
             "#f0f921"
            ]
           ]
          },
          "colorway": [
           "#636efa",
           "#EF553B",
           "#00cc96",
           "#ab63fa",
           "#FFA15A",
           "#19d3f3",
           "#FF6692",
           "#B6E880",
           "#FF97FF",
           "#FECB52"
          ],
          "font": {
           "color": "#2a3f5f"
          },
          "geo": {
           "bgcolor": "white",
           "lakecolor": "white",
           "landcolor": "#E5ECF6",
           "showlakes": true,
           "showland": true,
           "subunitcolor": "white"
          },
          "hoverlabel": {
           "align": "left"
          },
          "hovermode": "closest",
          "mapbox": {
           "style": "light"
          },
          "paper_bgcolor": "white",
          "plot_bgcolor": "#E5ECF6",
          "polar": {
           "angularaxis": {
            "gridcolor": "white",
            "linecolor": "white",
            "ticks": ""
           },
           "bgcolor": "#E5ECF6",
           "radialaxis": {
            "gridcolor": "white",
            "linecolor": "white",
            "ticks": ""
           }
          },
          "scene": {
           "xaxis": {
            "backgroundcolor": "#E5ECF6",
            "gridcolor": "white",
            "gridwidth": 2,
            "linecolor": "white",
            "showbackground": true,
            "ticks": "",
            "zerolinecolor": "white"
           },
           "yaxis": {
            "backgroundcolor": "#E5ECF6",
            "gridcolor": "white",
            "gridwidth": 2,
            "linecolor": "white",
            "showbackground": true,
            "ticks": "",
            "zerolinecolor": "white"
           },
           "zaxis": {
            "backgroundcolor": "#E5ECF6",
            "gridcolor": "white",
            "gridwidth": 2,
            "linecolor": "white",
            "showbackground": true,
            "ticks": "",
            "zerolinecolor": "white"
           }
          },
          "shapedefaults": {
           "line": {
            "color": "#2a3f5f"
           }
          },
          "ternary": {
           "aaxis": {
            "gridcolor": "white",
            "linecolor": "white",
            "ticks": ""
           },
           "baxis": {
            "gridcolor": "white",
            "linecolor": "white",
            "ticks": ""
           },
           "bgcolor": "#E5ECF6",
           "caxis": {
            "gridcolor": "white",
            "linecolor": "white",
            "ticks": ""
           }
          },
          "title": {
           "x": 0.05
          },
          "xaxis": {
           "automargin": true,
           "gridcolor": "white",
           "linecolor": "white",
           "ticks": "",
           "title": {
            "standoff": 15
           },
           "zerolinecolor": "white",
           "zerolinewidth": 2
          },
          "yaxis": {
           "automargin": true,
           "gridcolor": "white",
           "linecolor": "white",
           "ticks": "",
           "title": {
            "standoff": 15
           },
           "zerolinecolor": "white",
           "zerolinewidth": 2
          }
         }
        },
        "title": {
         "text": "Abaque de Smith"
        },
        "width": 1000
       }
      }
     },
     "metadata": {},
     "output_type": "display_data"
    },
    {
     "name": "stdout",
     "output_type": "stream",
     "text": [
      "\n",
      "📡 Résultats de simulation :\n",
      "→ Fréquence de résonance = 872.00 MHz\n",
      "→ Impédance à f_res      = 50.39+2.21j Ω\n"
     ]
    },
    {
     "data": {
      "image/png": "[encoded data removed]",
      "text/plain": [
       "<Figure size 1200x741.641 with 1 Axes>"
      ]
     },
     "metadata": {},
     "output_type": "display_data"
    },
    {
     "name": "stdout",
     "output_type": "stream",
     "text": [
      "\n",
      "Ratio = 1.0046082949308757\n",
      "\n",
      "\n",
      "Required Accuracy is met!\n",
      "Temps de simulation : 0 minutes et 14.10 secondes\n",
      "Convergence atteinte à l'itération 2\n"
     ]
    }
   ],
   "source": [
    "optimize_ifa(ifa_meander_msh, ifa_meander_mat,\n",
    "             frequencies, fC, fLow, fHigh, nPoints, fc_index,\n",
    "             a, b, largeur_piste, distance_meandre, feed, feed_point, x_t, y_t, save_mesh_folder, mesh_name, mesh_size)"
   ]
  }
 ],
 "metadata": {
  "kernelspec": {
   "display_name": "antenna_solver",
   "language": "python",
   "name": "python3"
  },
  "language_info": {
   "codemirror_mode": {
    "name": "ipython",
    "version": 3
   },
   "file_extension": ".py",
   "mimetype": "text/x-python",
   "name": "python",
   "nbconvert_exporter": "python",
   "pygments_lexer": "ipython3",
   "version": "3.12.9"
  }
 },
 "nbformat": 4,
 "nbformat_minor": 5
}
