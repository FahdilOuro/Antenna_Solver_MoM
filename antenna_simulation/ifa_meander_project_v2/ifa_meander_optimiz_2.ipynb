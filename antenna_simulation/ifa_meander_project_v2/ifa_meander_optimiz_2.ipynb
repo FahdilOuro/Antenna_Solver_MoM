{
 "cells": [
  {
   "cell_type": "code",
   "execution_count": 1,
   "id": "250c2240",
   "metadata": {},
   "outputs": [],
   "source": [
    "from utils.ifa_meander_project_v2.geometry import *\n",
    "from utils.ifa_meander_project_v2.meshing import *\n",
    "from utils.ifa_meander_project_v2.frequency import *\n",
    "from utils.ifa_meander_project_v2.simulation import *"
   ]
  },
  {
   "cell_type": "markdown",
   "id": "a77e64d0",
   "metadata": {},
   "source": [
    "fC      = 868e6  # fréquence centrale en Hz\n",
    "delta_f = 4e6  # écart entre les échantillons en Hz\n",
    "print(f\"delta_f = {delta_f/1e6:.2f} MHz\")\n",
    "nPoints = 31     # nombre d'échantillons\n",
    "\n",
    "fLow, fHigh, frequencies = calc_frequencies(fC, delta_f, nPoints)\n",
    "print(f\"fLow = {fLow/1e6:.2f} MHz, fHigh = {fHigh/1e6:.2f} MHz, nPoints = {nPoints}\")"
   ]
  },
  {
   "cell_type": "code",
   "execution_count": 2,
   "id": "9d7a85b2",
   "metadata": {},
   "outputs": [
    {
     "name": "stdout",
     "output_type": "stream",
     "text": [
      "Nombre de fréquences (nPoints) : 76\n",
      "Index de fC : 42\n"
     ]
    }
   ],
   "source": [
    "\"\"\" fC      = 868e6\n",
    "fLow    = 700e6\n",
    "fHigh   = 1000e6\n",
    "\n",
    "nPoints = calculate_nPoints(fLow, fHigh, fC, 80)\n",
    "accuracy= 0.01\n",
    "print(f\"nPoints = {nPoints}\")\n",
    "frequencies = np.linspace(fLow, fHigh, nPoints)\n",
    "fc_index = np.where(frequencies == fC)[0][0]\n",
    "print(f\"fc_index = {fc_index}\") \"\"\"\n",
    "\n",
    "fLow = 700e6\n",
    "fHigh = 1000e6\n",
    "fC = 868e6\n",
    "step = 4e6\n",
    "\n",
    "frequencies, fc_index, nPoints = generate_frequencies(fLow, fHigh, fC, step)\n",
    "\n",
    "print(f\"Nombre de fréquences (nPoints) : {nPoints}\")\n",
    "print(f\"Index de fC : {fc_index}\")\n",
    "\n"
   ]
  },
  {
   "cell_type": "code",
   "execution_count": 3,
   "id": "044e5d0e",
   "metadata": {},
   "outputs": [],
   "source": [
    "mesh_name = \"ifa_meander.msh\"\n",
    "save_mesh_folder = 'data/gmsh_files/'\n",
    "ifa_meander_mat = 'data/antennas_mesh/ifa_meander.mat'\n",
    "ifa_meander_msh = save_mesh_folder + mesh_name"
   ]
  },
  {
   "cell_type": "code",
   "execution_count": 4,
   "id": "f8c7117d",
   "metadata": {},
   "outputs": [
    {
     "name": "stdout",
     "output_type": "stream",
     "text": [
      "On est dans le cas où b > 2*a -> 2.037037037037037\n",
      "largeur_piste = 5.40 mm\n",
      "distance_meandre = 5.40 mm\n",
      "feed = 27.50 mm\n",
      "mesh_size = 21.60\n"
     ]
    }
   ],
   "source": [
    "a = 27 / 1000  # Largeur\n",
    "b = 55 / 1000  # Hauteur\n",
    "\n",
    "terminal_a = 92 / 1000\n",
    "terminal_b = b\n",
    "x_t = np.array([-terminal_a + a, 0, 0, -terminal_a + a])\n",
    "y_t = np.array([terminal_b, terminal_b, 0, 0])\n",
    "\n",
    "# On fixe le short feed et la largur de piste\n",
    "if b / a > 2:\n",
    "    print(f\"On est dans le cas où b > 2*a -> {b / a}\")\n",
    "    largeur_piste    = a / 5          # Valeur Minimale    \n",
    "    distance_meandre = a / 5          # Valeur choisie en fonction du resulat de analyse_dist_meandre.ipynb\n",
    "    \"\"\" if b > 60 / 1000:\n",
    "        print(f\"On est dans le cas où b >= 2*a et b > 60 mm -> {b / a}\")\n",
    "        largeur_piste    = a / 20          # Valeur Minimale    \n",
    "        distance_meandre = a / 20          # Valeur choisie en fonction du resulat de analyse_dist_meandre.ipynb \"\"\"\n",
    "else:\n",
    "    print(f\"On est dans le cas où b <= 2*a -> {b / a}\")\n",
    "    largeur_piste    = a / 10          # Valeur Minimale    \n",
    "    distance_meandre = a / 10          # Valeur choisie en fonction du resulat de analyse_dist_meandre.ipynb\n",
    "# feed             = 0.5 * b          # Valuer Positionné a la moitié du ground plane -- 25 mm\n",
    "# feed             = (1/3) * b + (1/3) * a\n",
    "# feed               = (-1/14) * b + (8/7) * a             # Best so far\n",
    "# feed = b - 3 * largeur_piste / 2 - 1 / 1000\n",
    "feed = 0.5 * b\n",
    "# feed = largeur_piste / 2\n",
    "feed_point       = [0, feed, 0]      # On alimente au short feed\n",
    "mesh_size = 4 * largeur_piste\n",
    "\n",
    "# Affichage des valeurs\n",
    "print(f\"largeur_piste = {largeur_piste * 1000:.2f} mm\")\n",
    "print(f\"distance_meandre = {distance_meandre * 1000:.2f} mm\")\n",
    "print(f\"feed = {feed * 1000:.2f} mm\")\n",
    "print(f\"mesh_size = {mesh_size * 1000:.2f}\")"
   ]
  },
  {
   "cell_type": "code",
   "execution_count": 5,
   "id": "e2d2f72c",
   "metadata": {},
   "outputs": [],
   "source": [
    "def creation_ifa(largeur, hauteur, width, dist_meandre, feed, x_t, y_t, save_mesh_folder, mesh_name, mesh_size):\n",
    "    x, y, N, distance_meandre = ifa_creation(largeur, hauteur, width, dist_meandre)\n",
    "    x_m, y_m = trace_meander(x, y, width)\n",
    "    feed_wid = width # La largeur de la piste est la meme partout\n",
    "    feed_x = np.array([0, distance_meandre, distance_meandre, 0])\n",
    "    feed_y = np.array([feed + feed_wid/2, feed + feed_wid/2, feed -feed_wid/2, feed - feed_wid/2])\n",
    "    antenna_ifa_meander(x_m, y_m, x_t, y_t, feed_x, feed_y, save_mesh_folder, mesh_name, mesh_size)\n",
    "    extract_msh_to_mat(ifa_meander_msh, ifa_meander_mat)\n",
    "    return N, distance_meandre\n",
    "\n",
    "def plot_s11_curve(fLow, fHigh, nPoints, s11_db, fC=None):\n",
    "    from matplotlib import pyplot as plt\n",
    "    frequencies = np.linspace(fLow, fHigh, nPoints)\n",
    "    frequencies_mhz = np.array(frequencies) / 1e6\n",
    "    s11_db = np.array(s11_db)\n",
    "\n",
    "    # Trouver le minimum de S11\n",
    "    min_index = np.argmin(s11_db)\n",
    "    f_resonance = frequencies[min_index] / 1e6\n",
    "    s11_min = s11_db[min_index]\n",
    "\n",
    "    # Tracé\n",
    "    fig_size = 7\n",
    "    Fibonacci = (1 + np.sqrt(5)) / 2\n",
    "    plt.figure(figsize=(fig_size, fig_size / Fibonacci))\n",
    "    plt.plot(frequencies_mhz, s11_db, label=\"S11 (dB)\", color='blue')\n",
    "    plt.plot(f_resonance, s11_min, 'ro', \n",
    "            label=f\"Résonance: {f_resonance:.2f} MHz (S11={s11_min:.2f} dB)\")\n",
    "    \n",
    "    if fC:\n",
    "        fC_mhz = fC / 1e6\n",
    "        idx_fc = np.argmin(np.abs(frequencies - fC))\n",
    "        s11_fc = s11_db[idx_fc]\n",
    "        plt.axvline(fC_mhz, color='green', linestyle='--', \n",
    "                   label=f\"fC = {fC_mhz:.2f} MHz (S11={s11_fc:.2f} dB)\")\n",
    "\n",
    "    plt.xlabel(\"Fréquence (MHz)\")\n",
    "    plt.ylabel(\"S11 (dB)\")\n",
    "    plt.title(\"Courbe de S11 vs Fréquence\")\n",
    "    plt.grid(True)\n",
    "    plt.legend()\n",
    "    plt.tight_layout()\n",
    "    plt.show()\n",
    "\n",
    "def adapt_with_ratio_square(distance_meandre, largeur_piste, ratio):\n",
    "    return distance_meandre / (ratio**2), largeur_piste / (ratio**2)\n",
    "\n",
    "def adapt_with_ratio_cube(distance_meandre, largeur_piste, ratio):\n",
    "    return distance_meandre / (ratio**3), largeur_piste / (ratio**3)"
   ]
  },
  {
   "cell_type": "code",
   "execution_count": 6,
   "id": "80127129",
   "metadata": {},
   "outputs": [
    {
     "name": "stdout",
     "output_type": "stream",
     "text": [
      "\n",
      "------------------------------------------------------Iteration N°1------------------------------------------------------\n",
      "\n",
      "distance meandres = 5.400 mm\n",
      "\n",
      "Number of meanders = 2\n",
      "\n",
      "New distance meandres = 8.100 mm\n",
      "Largeur de piste ifa = 5.400 mm\n",
      "position feed = 27.500 mm\n",
      "\n",
      "Simulation 1/76 | f = 700.00 MHz | S11 = -0.60 dB\n",
      "Simulation 2/76 | f = 704.00 MHz | S11 = -0.64 dB\n",
      "Simulation 3/76 | f = 708.00 MHz | S11 = -0.67 dB\n",
      "Simulation 4/76 | f = 712.00 MHz | S11 = -0.71 dB\n",
      "Simulation 5/76 | f = 716.00 MHz | S11 = -0.75 dB\n",
      "Simulation 6/76 | f = 720.00 MHz | S11 = -0.80 dB\n",
      "Simulation 7/76 | f = 724.00 MHz | S11 = -0.85 dB\n",
      "Simulation 8/76 | f = 728.00 MHz | S11 = -0.90 dB\n",
      "Simulation 9/76 | f = 732.00 MHz | S11 = -0.95 dB\n",
      "Simulation 10/76 | f = 736.00 MHz | S11 = -1.01 dB\n",
      "Simulation 11/76 | f = 740.00 MHz | S11 = -1.07 dB\n",
      "Simulation 12/76 | f = 744.00 MHz | S11 = -1.14 dB\n",
      "Simulation 13/76 | f = 748.00 MHz | S11 = -1.21 dB\n",
      "Simulation 14/76 | f = 752.00 MHz | S11 = -1.29 dB\n",
      "Simulation 15/76 | f = 756.00 MHz | S11 = -1.37 dB\n",
      "Simulation 16/76 | f = 760.00 MHz | S11 = -1.46 dB\n",
      "Simulation 17/76 | f = 764.00 MHz | S11 = -1.55 dB\n",
      "Simulation 18/76 | f = 768.00 MHz | S11 = -1.66 dB\n",
      "Simulation 19/76 | f = 772.00 MHz | S11 = -1.77 dB\n",
      "Simulation 20/76 | f = 776.00 MHz | S11 = -1.89 dB\n",
      "Simulation 21/76 | f = 780.00 MHz | S11 = -2.02 dB\n",
      "Simulation 22/76 | f = 784.00 MHz | S11 = -2.16 dB\n",
      "Simulation 23/76 | f = 788.00 MHz | S11 = -2.32 dB\n",
      "Simulation 24/76 | f = 792.00 MHz | S11 = -2.49 dB\n",
      "Simulation 25/76 | f = 796.00 MHz | S11 = -2.67 dB\n",
      "Simulation 26/76 | f = 800.00 MHz | S11 = -2.87 dB\n",
      "Simulation 27/76 | f = 804.00 MHz | S11 = -3.09 dB\n",
      "Simulation 28/76 | f = 808.00 MHz | S11 = -3.32 dB\n",
      "Simulation 29/76 | f = 812.00 MHz | S11 = -3.58 dB\n",
      "Simulation 30/76 | f = 816.00 MHz | S11 = -3.86 dB\n",
      "Simulation 31/76 | f = 820.00 MHz | S11 = -4.17 dB\n",
      "Simulation 32/76 | f = 824.00 MHz | S11 = -4.51 dB\n",
      "Simulation 33/76 | f = 828.00 MHz | S11 = -4.89 dB\n",
      "Simulation 34/76 | f = 832.00 MHz | S11 = -5.30 dB\n",
      "Simulation 35/76 | f = 836.00 MHz | S11 = -5.75 dB\n",
      "Simulation 36/76 | f = 840.00 MHz | S11 = -6.26 dB\n",
      "Simulation 37/76 | f = 844.00 MHz | S11 = -6.82 dB\n",
      "Simulation 38/76 | f = 848.00 MHz | S11 = -7.44 dB\n",
      "Simulation 39/76 | f = 852.00 MHz | S11 = -8.14 dB\n",
      "Simulation 40/76 | f = 856.00 MHz | S11 = -8.92 dB\n",
      "Simulation 41/76 | f = 860.00 MHz | S11 = -9.81 dB\n",
      "Simulation 42/76 | f = 864.00 MHz | S11 = -10.84 dB\n"
     ]
    },
    {
     "data": {
      "application/vnd.plotly.v1+json": {
       "config": {
        "plotlyServerURL": "https://plot.ly"
       },
       "data": [
        {
         "facecolor": [
          "rgb(0, 84, 255)",
          "rgb(0, 99, 255)",
          "rgb(255, 0, 0)",
          "rgb(4, 161, 246)",
          "rgb(138, 0, 98)",
          "rgb(142, 0, 96)",
          "rgb(0, 13, 228)",
          "rgb(111, 0, 119)",
          "rgb(0, 70, 255)",
          "rgb(21, 0, 185)",
          "rgb(133, 0, 103)",
          "rgb(31, 225, 181)",
          "rgb(0, 59, 255)",
          "rgb(11, 178, 229)",
          "rgb(95, 0, 130)",
          "rgb(111, 0, 119)",
          "rgb(102, 0, 125)",
          "rgb(0, 16, 236)",
          "rgb(114, 0, 117)",
          "rgb(88, 0, 136)",
          "rgb(8, 171, 236)",
          "rgb(75, 0, 145)",
          "rgb(138, 255, 19)",
          "rgb(85, 255, 93)",
          "rgb(181, 249, 0)",
          "rgb(5, 164, 243)",
          "rgb(197, 246, 0)",
          "rgb(228, 239, 0)",
          "rgb(0, 123, 255)",
          "rgb(0, 137, 255)",
          "rgb(219, 241, 0)",
          "rgb(36, 0, 173)",
          "rgb(27, 0, 180)",
          "rgb(95, 0, 131)",
          "rgb(120, 0, 112)",
          "rgb(128, 0, 106)",
          "rgb(90, 0, 134)",
          "rgb(140, 0, 98)",
          "rgb(126, 0, 108)",
          "rgb(145, 0, 94)",
          "rgb(123, 0, 110)",
          "rgb(150, 0, 90)",
          "rgb(102, 0, 125)"
         ],
         "i": [
          7,
          20,
          2,
          0,
          31,
          32,
          30,
          34,
          15,
          35,
          31,
          25,
          24,
          3,
          23,
          31,
          36,
          24,
          33,
          16,
          25,
          16,
          13,
          12,
          13,
          2,
          13,
          21,
          20,
          21,
          8,
          35,
          35,
          29,
          36,
          34,
          30,
          18,
          33,
          32,
          28,
          19,
          31
         ],
         "j": [
          14,
          14,
          1,
          1,
          33,
          33,
          15,
          15,
          30,
          34,
          36,
          9,
          22,
          34,
          10,
          32,
          16,
          23,
          36,
          36,
          22,
          35,
          9,
          9,
          8,
          3,
          26,
          26,
          1,
          1,
          26,
          27,
          3,
          34,
          34,
          36,
          34,
          33,
          17,
          19,
          32,
          33,
          28
         ],
         "k": [
          15,
          7,
          21,
          2,
          32,
          19,
          34,
          0,
          7,
          3,
          33,
          22,
          23,
          0,
          11,
          28,
          17,
          11,
          17,
          35,
          24,
          5,
          12,
          25,
          9,
          0,
          8,
          2,
          14,
          20,
          21,
          5,
          27,
          31,
          35,
          31,
          29,
          6,
          6,
          4,
          4,
          18,
          29
         ],
         "name": "",
         "type": "mesh3d",
         "x": [
          0,
          0.0081,
          0.0081,
          0,
          -0.065,
          0,
          -0.065,
          0.0135,
          0.0135,
          0.0216,
          0.0216,
          0.027,
          0.027,
          0.0081,
          0.0081,
          0,
          -0.0216666666666667,
          -0.04333333333333338,
          -0.065,
          -0.065,
          0.0135,
          0.0135,
          0.0216,
          0.0216,
          0.027,
          0.027,
          0.0081,
          0,
          -0.04537500000000005,
          -0.02575000000000013,
          -0.006125000000000082,
          -0.03824662865916642,
          -0.05311418486203286,
          -0.05194929542606239,
          -0.01921831892951313,
          -0.01247265112068064,
          -0.03395092112790404
         ],
         "y": [
          0.0302,
          0.0302,
          0.0248,
          0.0248,
          0.055,
          0,
          0,
          0.055,
          0.005400000000000001,
          0.005400000000000001,
          0.055,
          0.055,
          8.673617379884035e-19,
          8.673617379884035e-19,
          0.0496,
          0.0496,
          0,
          0,
          0.01833333333333335,
          0.03666666666666669,
          0.0384666666666667,
          0.02193333333333334,
          0.0219333333333333,
          0.03846666666666666,
          0.03666666666666665,
          0.01833333333333331,
          0.01239999999999999,
          0.01240000000000002,
          0.055,
          0.055,
          0.055,
          0.03800001795931605,
          0.04131733965268304,
          0.02192001380417169,
          0.03573010820728921,
          0.01534214120408199,
          0.01912273901720273
         ],
         "z": [
          0,
          0,
          0,
          0,
          0,
          0,
          0,
          0,
          0,
          0,
          0,
          0,
          0,
          0,
          0,
          0,
          0,
          0,
          0,
          0,
          0,
          0,
          0,
          0,
          0,
          0,
          0,
          0,
          0,
          0,
          0,
          0,
          0,
          0,
          0,
          0,
          0
         ]
        },
        {
         "line": {
          "color": "rgb(50, 50, 50)",
          "width": 1.5
         },
         "mode": "lines",
         "showlegend": false,
         "type": "scatter3d",
         "x": [
          0.0135,
          0.0081,
          0,
          0.0135,
          null,
          0.0135,
          0.0081,
          0.0135,
          0.0135,
          null,
          0.0081,
          0.0081,
          0.0135,
          0.0081,
          null,
          0,
          0.0081,
          0.0081,
          0,
          null,
          -0.03824662865916642,
          -0.05194929542606239,
          -0.05311418486203286,
          -0.03824662865916642,
          null,
          -0.05311418486203286,
          -0.05194929542606239,
          -0.065,
          -0.05311418486203286,
          null,
          -0.006125000000000082,
          0,
          -0.01921831892951313,
          -0.006125000000000082,
          null,
          -0.01921831892951313,
          0,
          0,
          -0.01921831892951313,
          null,
          0,
          -0.006125000000000082,
          0.0135,
          0,
          null,
          -0.01247265112068064,
          -0.01921831892951313,
          0,
          -0.01247265112068064,
          null,
          -0.03824662865916642,
          -0.03395092112790404,
          -0.05194929542606239,
          -0.03824662865916642,
          null,
          0.027,
          0.0216,
          0.0216,
          0.027,
          null,
          0.027,
          0.0216,
          0.0216,
          0.027,
          null,
          0,
          -0.01921831892951313,
          0,
          0,
          null,
          0.0216,
          0.0216,
          0.027,
          0.0216,
          null,
          -0.03824662865916642,
          -0.05311418486203286,
          -0.04537500000000005,
          -0.03824662865916642,
          null,
          -0.03395092112790404,
          -0.0216666666666667,
          -0.04333333333333338,
          -0.03395092112790404,
          null,
          0.027,
          0.0216,
          0.027,
          0.027,
          null,
          -0.05194929542606239,
          -0.03395092112790404,
          -0.04333333333333338,
          -0.05194929542606239,
          null,
          -0.0216666666666667,
          -0.03395092112790404,
          -0.01247265112068064,
          -0.0216666666666667,
          null,
          0.027,
          0.0216,
          0.027,
          0.027,
          null,
          -0.0216666666666667,
          -0.01247265112068064,
          0,
          -0.0216666666666667,
          null,
          0.0081,
          0.0216,
          0.027,
          0.0081,
          null,
          0.027,
          0.0216,
          0.027,
          0.027,
          null,
          0.0081,
          0.0135,
          0.0216,
          0.0081,
          null,
          0.0081,
          0,
          0,
          0.0081,
          null,
          0.0081,
          0.0081,
          0.0135,
          0.0081,
          null,
          0.0135,
          0.0081,
          0.0081,
          0.0135,
          null,
          0.0135,
          0.0081,
          0.0081,
          0.0135,
          null,
          0.0135,
          0.0081,
          0.0135,
          0.0135,
          null,
          0.0135,
          0.0081,
          0.0135,
          0.0135,
          null,
          -0.01247265112068064,
          0,
          0,
          -0.01247265112068064,
          null,
          -0.01247265112068064,
          0,
          0,
          -0.01247265112068064,
          null,
          -0.02575000000000013,
          -0.01921831892951313,
          -0.03824662865916642,
          -0.02575000000000013,
          null,
          -0.03395092112790404,
          -0.01921831892951313,
          -0.01247265112068064,
          -0.03395092112790404,
          null,
          -0.01921831892951313,
          -0.03395092112790404,
          -0.03824662865916642,
          -0.01921831892951313,
          null,
          -0.006125000000000082,
          -0.01921831892951313,
          -0.02575000000000013,
          -0.006125000000000082,
          null,
          -0.065,
          -0.05194929542606239,
          -0.065,
          -0.065,
          null,
          -0.05194929542606239,
          -0.04333333333333338,
          -0.065,
          -0.05194929542606239,
          null,
          -0.05311418486203286,
          -0.065,
          -0.065,
          -0.05311418486203286,
          null,
          -0.04537500000000005,
          -0.05311418486203286,
          -0.065,
          -0.04537500000000005,
          null,
          -0.065,
          -0.05194929542606239,
          -0.065,
          -0.065,
          null,
          -0.03824662865916642,
          -0.04537500000000005,
          -0.02575000000000013,
          -0.03824662865916642,
          null
         ],
         "y": [
          0.055,
          0.0496,
          0.0496,
          0.055,
          null,
          0.0384666666666667,
          0.0496,
          0.055,
          0.0384666666666667,
          null,
          0.0248,
          0.0302,
          0.02193333333333334,
          0.0248,
          null,
          0.0302,
          0.0302,
          0.0248,
          0.0302,
          null,
          0.03800001795931605,
          0.02192001380417169,
          0.04131733965268304,
          0.03800001795931605,
          null,
          0.04131733965268304,
          0.02192001380417169,
          0.03666666666666669,
          0.04131733965268304,
          null,
          0.055,
          0.0496,
          0.03573010820728921,
          0.055,
          null,
          0.03573010820728921,
          0.0496,
          0.0302,
          0.03573010820728921,
          null,
          0.0496,
          0.055,
          0.055,
          0.0496,
          null,
          0.01534214120408199,
          0.03573010820728921,
          0.0248,
          0.01534214120408199,
          null,
          0.03800001795931605,
          0.01912273901720273,
          0.02192001380417169,
          0.03800001795931605,
          null,
          0.01833333333333331,
          0.005400000000000001,
          0.0219333333333333,
          0.01833333333333331,
          null,
          0.03666666666666665,
          0.0219333333333333,
          0.03846666666666666,
          0.03666666666666665,
          null,
          0.0248,
          0.03573010820728921,
          0.0302,
          0.0248,
          null,
          0.03846666666666666,
          0.055,
          0.055,
          0.03846666666666666,
          null,
          0.03800001795931605,
          0.04131733965268304,
          0.055,
          0.03800001795931605,
          null,
          0.01912273901720273,
          0,
          0,
          0.01912273901720273,
          null,
          0.03666666666666665,
          0.03846666666666666,
          0.055,
          0.03666666666666665,
          null,
          0.02192001380417169,
          0.01912273901720273,
          0,
          0.02192001380417169,
          null,
          0,
          0.01912273901720273,
          0.01534214120408199,
          0,
          null,
          0.01833333333333331,
          0.0219333333333333,
          0.03666666666666665,
          0.01833333333333331,
          null,
          0,
          0.01534214120408199,
          0,
          0,
          null,
          8.673617379884035e-19,
          0.005400000000000001,
          8.673617379884035e-19,
          8.673617379884035e-19,
          null,
          8.673617379884035e-19,
          0.005400000000000001,
          0.01833333333333331,
          8.673617379884035e-19,
          null,
          8.673617379884035e-19,
          0.005400000000000001,
          0.005400000000000001,
          8.673617379884035e-19,
          null,
          0.0248,
          0.0248,
          0.0302,
          0.0248,
          null,
          8.673617379884035e-19,
          0.01239999999999999,
          0.005400000000000001,
          8.673617379884035e-19,
          null,
          0.02193333333333334,
          0.01239999999999999,
          0.0248,
          0.02193333333333334,
          null,
          0.0384666666666667,
          0.0302,
          0.0496,
          0.0384666666666667,
          null,
          0.02193333333333334,
          0.0302,
          0.0384666666666667,
          0.02193333333333334,
          null,
          0.005400000000000001,
          0.01239999999999999,
          0.02193333333333334,
          0.005400000000000001,
          null,
          0.01534214120408199,
          0.01240000000000002,
          0,
          0.01534214120408199,
          null,
          0.01534214120408199,
          0.0248,
          0.01240000000000002,
          0.01534214120408199,
          null,
          0.055,
          0.03573010820728921,
          0.03800001795931605,
          0.055,
          null,
          0.01912273901720273,
          0.03573010820728921,
          0.01534214120408199,
          0.01912273901720273,
          null,
          0.03573010820728921,
          0.01912273901720273,
          0.03800001795931605,
          0.03573010820728921,
          null,
          0.055,
          0.03573010820728921,
          0.055,
          0.055,
          null,
          0.01833333333333335,
          0.02192001380417169,
          0,
          0.01833333333333335,
          null,
          0.02192001380417169,
          0,
          0,
          0.02192001380417169,
          null,
          0.04131733965268304,
          0.03666666666666669,
          0.055,
          0.04131733965268304,
          null,
          0.055,
          0.04131733965268304,
          0.055,
          0.055,
          null,
          0.03666666666666669,
          0.02192001380417169,
          0.01833333333333335,
          0.03666666666666669,
          null,
          0.03800001795931605,
          0.055,
          0.055,
          0.03800001795931605,
          null
         ],
         "z": [
          0,
          0,
          0,
          0,
          null,
          0,
          0,
          0,
          0,
          null,
          0,
          0,
          0,
          0,
          null,
          0,
          0,
          0,
          0,
          null,
          0,
          0,
          0,
          0,
          null,
          0,
          0,
          0,
          0,
          null,
          0,
          0,
          0,
          0,
          null,
          0,
          0,
          0,
          0,
          null,
          0,
          0,
          0,
          0,
          null,
          0,
          0,
          0,
          0,
          null,
          0,
          0,
          0,
          0,
          null,
          0,
          0,
          0,
          0,
          null,
          0,
          0,
          0,
          0,
          null,
          0,
          0,
          0,
          0,
          null,
          0,
          0,
          0,
          0,
          null,
          0,
          0,
          0,
          0,
          null,
          0,
          0,
          0,
          0,
          null,
          0,
          0,
          0,
          0,
          null,
          0,
          0,
          0,
          0,
          null,
          0,
          0,
          0,
          0,
          null,
          0,
          0,
          0,
          0,
          null,
          0,
          0,
          0,
          0,
          null,
          0,
          0,
          0,
          0,
          null,
          0,
          0,
          0,
          0,
          null,
          0,
          0,
          0,
          0,
          null,
          0,
          0,
          0,
          0,
          null,
          0,
          0,
          0,
          0,
          null,
          0,
          0,
          0,
          0,
          null,
          0,
          0,
          0,
          0,
          null,
          0,
          0,
          0,
          0,
          null,
          0,
          0,
          0,
          0,
          null,
          0,
          0,
          0,
          0,
          null,
          0,
          0,
          0,
          0,
          null,
          0,
          0,
          0,
          0,
          null,
          0,
          0,
          0,
          0,
          null,
          0,
          0,
          0,
          0,
          null,
          0,
          0,
          0,
          0,
          null,
          0,
          0,
          0,
          0,
          null,
          0,
          0,
          0,
          0,
          null,
          0,
          0,
          0,
          0,
          null,
          0,
          0,
          0,
          0,
          null,
          0,
          0,
          0,
          0,
          null,
          0,
          0,
          0,
          0,
          null
         ]
        },
        {
         "hoverinfo": "none",
         "marker": {
          "color": [
           0.014799354235255637,
           3.556994103762716
          ],
          "colorscale": [
           [
            0,
            "rgb(150, 0, 90)"
           ],
           [
            0.125,
            "rgb(0, 0, 200)"
           ],
           [
            0.25,
            "rgb(0, 25, 255)"
           ],
           [
            0.375,
            "rgb(0, 152, 255)"
           ],
           [
            0.5,
            "rgb(44, 255, 150)"
           ],
           [
            0.625,
            "rgb(151, 255, 0)"
           ],
           [
            0.75,
            "rgb(255, 234, 0)"
           ],
           [
            0.875,
            "rgb(255, 111, 0)"
           ],
           [
            1,
            "rgb(255, 0, 0)"
           ]
          ],
          "showscale": true,
          "size": 0.1
         },
         "mode": "markers",
         "showlegend": false,
         "type": "scatter3d",
         "x": [
          0
         ],
         "y": [
          0.0302
         ],
         "z": [
          0
         ]
        },
        {
         "marker": {
          "color": "red",
          "size": 6,
          "symbol": "circle"
         },
         "mode": "markers+text",
         "name": "Feed Point",
         "text": [
          "Feed Point"
         ],
         "textposition": "top center",
         "type": "scatter3d",
         "x": [
          0
         ],
         "y": [
          0.0275
         ],
         "z": [
          0
         ]
        }
       ],
       "layout": {
        "height": 800,
        "scene": {
         "aspectratio": {
          "x": 1,
          "y": 0.5978260869565217,
          "z": 0.3
         },
         "xaxis": {
          "backgroundcolor": "rgb(230, 230, 230)",
          "gridcolor": "rgb(255, 255, 255)",
          "showbackground": true,
          "zerolinecolor": "rgb(255, 255, 255)"
         },
         "yaxis": {
          "backgroundcolor": "rgb(230, 230, 230)",
          "gridcolor": "rgb(255, 255, 255)",
          "showbackground": true,
          "zerolinecolor": "rgb(255, 255, 255)"
         },
         "zaxis": {
          "backgroundcolor": "rgb(230, 230, 230)",
          "gridcolor": "rgb(255, 255, 255)",
          "showbackground": true,
          "zerolinecolor": "rgb(255, 255, 255)"
         }
        },
        "template": {
         "data": {
          "bar": [
           {
            "error_x": {
             "color": "#2a3f5f"
            },
            "error_y": {
             "color": "#2a3f5f"
            },
            "marker": {
             "line": {
              "color": "#E5ECF6",
              "width": 0.5
             },
             "pattern": {
              "fillmode": "overlay",
              "size": 10,
              "solidity": 0.2
             }
            },
            "type": "bar"
           }
          ],
          "barpolar": [
           {
            "marker": {
             "line": {
              "color": "#E5ECF6",
              "width": 0.5
             },
             "pattern": {
              "fillmode": "overlay",
              "size": 10,
              "solidity": 0.2
             }
            },
            "type": "barpolar"
           }
          ],
          "carpet": [
           {
            "aaxis": {
             "endlinecolor": "#2a3f5f",
             "gridcolor": "white",
             "linecolor": "white",
             "minorgridcolor": "white",
             "startlinecolor": "#2a3f5f"
            },
            "baxis": {
             "endlinecolor": "#2a3f5f",
             "gridcolor": "white",
             "linecolor": "white",
             "minorgridcolor": "white",
             "startlinecolor": "#2a3f5f"
            },
            "type": "carpet"
           }
          ],
          "choropleth": [
           {
            "colorbar": {
             "outlinewidth": 0,
             "ticks": ""
            },
            "type": "choropleth"
           }
          ],
          "contour": [
           {
            "colorbar": {
             "outlinewidth": 0,
             "ticks": ""
            },
            "colorscale": [
             [
              0,
              "#0d0887"
             ],
             [
              0.1111111111111111,
              "#46039f"
             ],
             [
              0.2222222222222222,
              "#7201a8"
             ],
             [
              0.3333333333333333,
              "#9c179e"
             ],
             [
              0.4444444444444444,
              "#bd3786"
             ],
             [
              0.5555555555555556,
              "#d8576b"
             ],
             [
              0.6666666666666666,
              "#ed7953"
             ],
             [
              0.7777777777777778,
              "#fb9f3a"
             ],
             [
              0.8888888888888888,
              "#fdca26"
             ],
             [
              1,
              "#f0f921"
             ]
            ],
            "type": "contour"
           }
          ],
          "contourcarpet": [
           {
            "colorbar": {
             "outlinewidth": 0,
             "ticks": ""
            },
            "type": "contourcarpet"
           }
          ],
          "heatmap": [
           {
            "colorbar": {
             "outlinewidth": 0,
             "ticks": ""
            },
            "colorscale": [
             [
              0,
              "#0d0887"
             ],
             [
              0.1111111111111111,
              "#46039f"
             ],
             [
              0.2222222222222222,
              "#7201a8"
             ],
             [
              0.3333333333333333,
              "#9c179e"
             ],
             [
              0.4444444444444444,
              "#bd3786"
             ],
             [
              0.5555555555555556,
              "#d8576b"
             ],
             [
              0.6666666666666666,
              "#ed7953"
             ],
             [
              0.7777777777777778,
              "#fb9f3a"
             ],
             [
              0.8888888888888888,
              "#fdca26"
             ],
             [
              1,
              "#f0f921"
             ]
            ],
            "type": "heatmap"
           }
          ],
          "heatmapgl": [
           {
            "colorbar": {
             "outlinewidth": 0,
             "ticks": ""
            },
            "colorscale": [
             [
              0,
              "#0d0887"
             ],
             [
              0.1111111111111111,
              "#46039f"
             ],
             [
              0.2222222222222222,
              "#7201a8"
             ],
             [
              0.3333333333333333,
              "#9c179e"
             ],
             [
              0.4444444444444444,
              "#bd3786"
             ],
             [
              0.5555555555555556,
              "#d8576b"
             ],
             [
              0.6666666666666666,
              "#ed7953"
             ],
             [
              0.7777777777777778,
              "#fb9f3a"
             ],
             [
              0.8888888888888888,
              "#fdca26"
             ],
             [
              1,
              "#f0f921"
             ]
            ],
            "type": "heatmapgl"
           }
          ],
          "histogram": [
           {
            "marker": {
             "pattern": {
              "fillmode": "overlay",
              "size": 10,
              "solidity": 0.2
             }
            },
            "type": "histogram"
           }
          ],
          "histogram2d": [
           {
            "colorbar": {
             "outlinewidth": 0,
             "ticks": ""
            },
            "colorscale": [
             [
              0,
              "#0d0887"
             ],
             [
              0.1111111111111111,
              "#46039f"
             ],
             [
              0.2222222222222222,
              "#7201a8"
             ],
             [
              0.3333333333333333,
              "#9c179e"
             ],
             [
              0.4444444444444444,
              "#bd3786"
             ],
             [
              0.5555555555555556,
              "#d8576b"
             ],
             [
              0.6666666666666666,
              "#ed7953"
             ],
             [
              0.7777777777777778,
              "#fb9f3a"
             ],
             [
              0.8888888888888888,
              "#fdca26"
             ],
             [
              1,
              "#f0f921"
             ]
            ],
            "type": "histogram2d"
           }
          ],
          "histogram2dcontour": [
           {
            "colorbar": {
             "outlinewidth": 0,
             "ticks": ""
            },
            "colorscale": [
             [
              0,
              "#0d0887"
             ],
             [
              0.1111111111111111,
              "#46039f"
             ],
             [
              0.2222222222222222,
              "#7201a8"
             ],
             [
              0.3333333333333333,
              "#9c179e"
             ],
             [
              0.4444444444444444,
              "#bd3786"
             ],
             [
              0.5555555555555556,
              "#d8576b"
             ],
             [
              0.6666666666666666,
              "#ed7953"
             ],
             [
              0.7777777777777778,
              "#fb9f3a"
             ],
             [
              0.8888888888888888,
              "#fdca26"
             ],
             [
              1,
              "#f0f921"
             ]
            ],
            "type": "histogram2dcontour"
           }
          ],
          "mesh3d": [
           {
            "colorbar": {
             "outlinewidth": 0,
             "ticks": ""
            },
            "type": "mesh3d"
           }
          ],
          "parcoords": [
           {
            "line": {
             "colorbar": {
              "outlinewidth": 0,
              "ticks": ""
             }
            },
            "type": "parcoords"
           }
          ],
          "pie": [
           {
            "automargin": true,
            "type": "pie"
           }
          ],
          "scatter": [
           {
            "fillpattern": {
             "fillmode": "overlay",
             "size": 10,
             "solidity": 0.2
            },
            "type": "scatter"
           }
          ],
          "scatter3d": [
           {
            "line": {
             "colorbar": {
              "outlinewidth": 0,
              "ticks": ""
             }
            },
            "marker": {
             "colorbar": {
              "outlinewidth": 0,
              "ticks": ""
             }
            },
            "type": "scatter3d"
           }
          ],
          "scattercarpet": [
           {
            "marker": {
             "colorbar": {
              "outlinewidth": 0,
              "ticks": ""
             }
            },
            "type": "scattercarpet"
           }
          ],
          "scattergeo": [
           {
            "marker": {
             "colorbar": {
              "outlinewidth": 0,
              "ticks": ""
             }
            },
            "type": "scattergeo"
           }
          ],
          "scattergl": [
           {
            "marker": {
             "colorbar": {
              "outlinewidth": 0,
              "ticks": ""
             }
            },
            "type": "scattergl"
           }
          ],
          "scattermapbox": [
           {
            "marker": {
             "colorbar": {
              "outlinewidth": 0,
              "ticks": ""
             }
            },
            "type": "scattermapbox"
           }
          ],
          "scatterpolar": [
           {
            "marker": {
             "colorbar": {
              "outlinewidth": 0,
              "ticks": ""
             }
            },
            "type": "scatterpolar"
           }
          ],
          "scatterpolargl": [
           {
            "marker": {
             "colorbar": {
              "outlinewidth": 0,
              "ticks": ""
             }
            },
            "type": "scatterpolargl"
           }
          ],
          "scatterternary": [
           {
            "marker": {
             "colorbar": {
              "outlinewidth": 0,
              "ticks": ""
             }
            },
            "type": "scatterternary"
           }
          ],
          "surface": [
           {
            "colorbar": {
             "outlinewidth": 0,
             "ticks": ""
            },
            "colorscale": [
             [
              0,
              "#0d0887"
             ],
             [
              0.1111111111111111,
              "#46039f"
             ],
             [
              0.2222222222222222,
              "#7201a8"
             ],
             [
              0.3333333333333333,
              "#9c179e"
             ],
             [
              0.4444444444444444,
              "#bd3786"
             ],
             [
              0.5555555555555556,
              "#d8576b"
             ],
             [
              0.6666666666666666,
              "#ed7953"
             ],
             [
              0.7777777777777778,
              "#fb9f3a"
             ],
             [
              0.8888888888888888,
              "#fdca26"
             ],
             [
              1,
              "#f0f921"
             ]
            ],
            "type": "surface"
           }
          ],
          "table": [
           {
            "cells": {
             "fill": {
              "color": "#EBF0F8"
             },
             "line": {
              "color": "white"
             }
            },
            "header": {
             "fill": {
              "color": "#C8D4E3"
             },
             "line": {
              "color": "white"
             }
            },
            "type": "table"
           }
          ]
         },
         "layout": {
          "annotationdefaults": {
           "arrowcolor": "#2a3f5f",
           "arrowhead": 0,
           "arrowwidth": 1
          },
          "autotypenumbers": "strict",
          "coloraxis": {
           "colorbar": {
            "outlinewidth": 0,
            "ticks": ""
           }
          },
          "colorscale": {
           "diverging": [
            [
             0,
             "#8e0152"
            ],
            [
             0.1,
             "#c51b7d"
            ],
            [
             0.2,
             "#de77ae"
            ],
            [
             0.3,
             "#f1b6da"
            ],
            [
             0.4,
             "#fde0ef"
            ],
            [
             0.5,
             "#f7f7f7"
            ],
            [
             0.6,
             "#e6f5d0"
            ],
            [
             0.7,
             "#b8e186"
            ],
            [
             0.8,
             "#7fbc41"
            ],
            [
             0.9,
             "#4d9221"
            ],
            [
             1,
             "#276419"
            ]
           ],
           "sequential": [
            [
             0,
             "#0d0887"
            ],
            [
             0.1111111111111111,
             "#46039f"
            ],
            [
             0.2222222222222222,
             "#7201a8"
            ],
            [
             0.3333333333333333,
             "#9c179e"
            ],
            [
             0.4444444444444444,
             "#bd3786"
            ],
            [
             0.5555555555555556,
             "#d8576b"
            ],
            [
             0.6666666666666666,
             "#ed7953"
            ],
            [
             0.7777777777777778,
             "#fb9f3a"
            ],
            [
             0.8888888888888888,
             "#fdca26"
            ],
            [
             1,
             "#f0f921"
            ]
           ],
           "sequentialminus": [
            [
             0,
             "#0d0887"
            ],
            [
             0.1111111111111111,
             "#46039f"
            ],
            [
             0.2222222222222222,
             "#7201a8"
            ],
            [
             0.3333333333333333,
             "#9c179e"
            ],
            [
             0.4444444444444444,
             "#bd3786"
            ],
            [
             0.5555555555555556,
             "#d8576b"
            ],
            [
             0.6666666666666666,
             "#ed7953"
            ],
            [
             0.7777777777777778,
             "#fb9f3a"
            ],
            [
             0.8888888888888888,
             "#fdca26"
            ],
            [
             1,
             "#f0f921"
            ]
           ]
          },
          "colorway": [
           "#636efa",
           "#EF553B",
           "#00cc96",
           "#ab63fa",
           "#FFA15A",
           "#19d3f3",
           "#FF6692",
           "#B6E880",
           "#FF97FF",
           "#FECB52"
          ],
          "font": {
           "color": "#2a3f5f"
          },
          "geo": {
           "bgcolor": "white",
           "lakecolor": "white",
           "landcolor": "#E5ECF6",
           "showlakes": true,
           "showland": true,
           "subunitcolor": "white"
          },
          "hoverlabel": {
           "align": "left"
          },
          "hovermode": "closest",
          "mapbox": {
           "style": "light"
          },
          "paper_bgcolor": "white",
          "plot_bgcolor": "#E5ECF6",
          "polar": {
           "angularaxis": {
            "gridcolor": "white",
            "linecolor": "white",
            "ticks": ""
           },
           "bgcolor": "#E5ECF6",
           "radialaxis": {
            "gridcolor": "white",
            "linecolor": "white",
            "ticks": ""
           }
          },
          "scene": {
           "xaxis": {
            "backgroundcolor": "#E5ECF6",
            "gridcolor": "white",
            "gridwidth": 2,
            "linecolor": "white",
            "showbackground": true,
            "ticks": "",
            "zerolinecolor": "white"
           },
           "yaxis": {
            "backgroundcolor": "#E5ECF6",
            "gridcolor": "white",
            "gridwidth": 2,
            "linecolor": "white",
            "showbackground": true,
            "ticks": "",
            "zerolinecolor": "white"
           },
           "zaxis": {
            "backgroundcolor": "#E5ECF6",
            "gridcolor": "white",
            "gridwidth": 2,
            "linecolor": "white",
            "showbackground": true,
            "ticks": "",
            "zerolinecolor": "white"
           }
          },
          "shapedefaults": {
           "line": {
            "color": "#2a3f5f"
           }
          },
          "ternary": {
           "aaxis": {
            "gridcolor": "white",
            "linecolor": "white",
            "ticks": ""
           },
           "baxis": {
            "gridcolor": "white",
            "linecolor": "white",
            "ticks": ""
           },
           "bgcolor": "#E5ECF6",
           "caxis": {
            "gridcolor": "white",
            "linecolor": "white",
            "ticks": ""
           }
          },
          "title": {
           "x": 0.05
          },
          "xaxis": {
           "automargin": true,
           "gridcolor": "white",
           "linecolor": "white",
           "ticks": "",
           "title": {
            "standoff": 15
           },
           "zerolinecolor": "white",
           "zerolinewidth": 2
          },
          "yaxis": {
           "automargin": true,
           "gridcolor": "white",
           "linecolor": "white",
           "ticks": "",
           "title": {
            "standoff": 15
           },
           "zerolinecolor": "white",
           "zerolinewidth": 2
          }
         }
        },
        "title": {
         "text": "ifa_meander antenna surface current in radiation mode"
        },
        "width": 800
       }
      }
     },
     "metadata": {},
     "output_type": "display_data"
    },
    {
     "name": "stdout",
     "output_type": "stream",
     "text": [
      "Simulation 43/76 | f = 868.00 MHz | S11 = -12.02 dB\n",
      "Simulation 44/76 | f = 872.00 MHz | S11 = -13.42 dB\n",
      "Simulation 45/76 | f = 876.00 MHz | S11 = -15.11 dB\n",
      "Simulation 46/76 | f = 880.00 MHz | S11 = -17.23 dB\n",
      "Simulation 47/76 | f = 884.00 MHz | S11 = -20.06 dB\n",
      "Simulation 48/76 | f = 888.00 MHz | S11 = -24.24 dB\n",
      "Simulation 49/76 | f = 892.00 MHz | S11 = -32.22 dB\n",
      "Simulation 50/76 | f = 896.00 MHz | S11 = -34.76 dB\n",
      "Simulation 51/76 | f = 900.00 MHz | S11 = -25.41 dB\n",
      "Simulation 52/76 | f = 904.00 MHz | S11 = -20.92 dB\n",
      "Simulation 53/76 | f = 908.00 MHz | S11 = -18.01 dB\n",
      "Simulation 54/76 | f = 912.00 MHz | S11 = -15.88 dB\n",
      "Simulation 55/76 | f = 916.00 MHz | S11 = -14.21 dB\n",
      "Simulation 56/76 | f = 920.00 MHz | S11 = -12.85 dB\n",
      "Simulation 57/76 | f = 924.00 MHz | S11 = -11.70 dB\n",
      "Simulation 58/76 | f = 928.00 MHz | S11 = -10.73 dB\n",
      "Simulation 59/76 | f = 932.00 MHz | S11 = -9.89 dB\n",
      "Simulation 60/76 | f = 936.00 MHz | S11 = -9.15 dB\n",
      "Simulation 61/76 | f = 940.00 MHz | S11 = -8.49 dB\n",
      "Simulation 62/76 | f = 944.00 MHz | S11 = -7.91 dB\n",
      "Simulation 63/76 | f = 948.00 MHz | S11 = -7.39 dB\n",
      "Simulation 64/76 | f = 952.00 MHz | S11 = -6.91 dB\n",
      "Simulation 65/76 | f = 956.00 MHz | S11 = -6.49 dB\n",
      "Simulation 66/76 | f = 960.00 MHz | S11 = -6.10 dB\n",
      "Simulation 67/76 | f = 964.00 MHz | S11 = -5.75 dB\n",
      "Simulation 68/76 | f = 968.00 MHz | S11 = -5.42 dB\n",
      "Simulation 69/76 | f = 972.00 MHz | S11 = -5.13 dB\n",
      "Simulation 70/76 | f = 976.00 MHz | S11 = -4.86 dB\n",
      "Simulation 71/76 | f = 980.00 MHz | S11 = -4.60 dB\n",
      "Simulation 72/76 | f = 984.00 MHz | S11 = -4.37 dB\n",
      "Simulation 73/76 | f = 988.00 MHz | S11 = -4.16 dB\n",
      "Simulation 74/76 | f = 992.00 MHz | S11 = -3.96 dB\n",
      "Simulation 75/76 | f = 996.00 MHz | S11 = -3.77 dB\n",
      "Simulation 76/76 | f = 1000.00 MHz | S11 = -3.60 dB\n"
     ]
    },
    {
     "data": {
      "application/vnd.plotly.v1+json": {
       "config": {
        "plotlyServerURL": "https://plot.ly"
       },
       "data": [
        {
         "hoverinfo": "text",
         "imag": [
          11.103669844265017,
          11.555837288415132,
          11.866822491301672,
          11.906423297882878,
          11.490565686132207,
          10.408034894105464,
          8.51158169098683,
          5.864522254361399,
          2.8250246789989233,
          -0.08033359483300843,
          -2.4278395465022915,
          -4.058658703975842,
          -5.035430844383404,
          -5.515735033217007,
          -5.659593806733451,
          -5.592568491595986,
          -5.401836582740506,
          -5.144014981787517,
          -4.854404260468727,
          -4.5543609876296145,
          -4.2564222898294215,
          -3.967652220064196,
          -3.6917615115444176,
          -3.4304306685033854,
          -3.1841300374436248,
          -2.952626230037731,
          -2.7352938455848683,
          -2.5313063780544103,
          -2.339752059037618,
          -2.1597030000192188,
          -1.990255275679593,
          -1.830550965656614,
          -1.6797890619573337,
          -1.537229585241504,
          -1.4021936448034362,
          -1.2740611627638196,
          -1.152267340395433,
          -1.0362985360232664,
          -0.9256879637981702,
          -0.8200114570044273,
          -0.7188834344095432,
          -0.6219531418557468,
          -0.4394364637137278,
          -0.3532931843407672,
          -0.27022845654489813,
          -0.19001992881710936,
          -0.11246375402586942,
          -0.037372757038560855,
          0.03542520274130643,
          0.10608869457552908,
          0.17476402427326804,
          0.24158640392360423,
          0.3066809989070541,
          0.3701638659738077,
          0.4321427946533511,
          0.49271806287537223,
          0.551983116435877,
          0.6100251808247602,
          0.6669258129414779,
          0.7227613993464476,
          0.777603606921973,
          0.8315197911326037,
          0.8845733664760708,
          0.9368241431855923,
          0.9883286337833407,
          1.0391403326750737,
          1.0893099716196089,
          1.1388857535912775,
          1.187913567278024,
          1.236437184213682,
          1.284498440329841,
          1.3321374035239781,
          1.379392528674859,
          1.426300801389505,
          1.4728978716382064
         ],
         "marker": {
          "color": "blue",
          "size": 10
         },
         "mode": "markers+lines",
         "name": "Impedance Points",
         "real": [
          5.291019910867508,
          6.474763686948069,
          7.945765361023717,
          9.730625934246554,
          11.797072980591125,
          13.99549894331116,
          16.0125447978243,
          17.416235612394452,
          17.848727262036036,
          17.249361556989903,
          15.879641378142558,
          14.13180399553851,
          12.331847376110234,
          10.669262990815325,
          9.220436093461576,
          7.995442770407261,
          6.974087723608606,
          6.126374976745792,
          5.422134914684935,
          4.834738310326866,
          4.342017355657782,
          3.9260312527846675,
          3.5724474165185685,
          3.2698687483324527,
          3.0092309814206697,
          2.7833037611509273,
          2.5862929650483846,
          2.413529632130873,
          2.2612287457794524,
          2.126302721330541,
          2.006217103352511,
          1.8988786115150649,
          1.802547927977258,
          1.7157714256111578,
          1.6373274365480845,
          1.5661837268737662,
          1.501463648152282,
          1.4424190416448974,
          1.3884084258753564,
          1.3388793404639738,
          1.293353977477863,
          1.2514174272417167,
          1.1769093141931062,
          1.143743525067324,
          1.112965943756873,
          1.0843603381736486,
          1.0577350568038169,
          1.0329197440403382,
          1.0097625564414712,
          0.988127794797249,
          0.9678938827380279,
          0.9489516352769798,
          0.931202770834319,
          0.9145586284708449,
          0.8989390586781565,
          0.8842714614494919,
          0.8704899497390509,
          0.8575346200087837,
          0.8453509145101973,
          0.8338890623818704,
          0.8231035886562789,
          0.812952881941147,
          0.8033988129328152,
          0.7944063970836374,
          0.785943495720204,
          0.77798055073047,
          0.7704903486292445,
          0.7634478103971121,
          0.7568298039838092,
          0.7506149767897473,
          0.7447836057988059,
          0.7393174633437793,
          0.7341996967495557,
          0.7294147203259104,
          0.7249481183774311
         ],
         "text": [
          "Z = 264.551+555.183j at 700.0 MHz",
          "Z = 323.738+577.792j at 704.0 MHz",
          "Z = 397.288+593.341j at 708.0 MHz",
          "Z = 486.531+595.321j at 712.0 MHz",
          "Z = 589.854+574.528j at 716.0 MHz",
          "Z = 699.775+520.402j at 720.0 MHz",
          "Z = 800.627+425.579j at 724.0 MHz",
          "Z = 870.812+293.226j at 728.0 MHz",
          "Z = 892.436+141.251j at 732.0 MHz",
          "Z = 862.468-4.017j at 736.0 MHz",
          "Z = 793.982-121.392j at 740.0 MHz",
          "Z = 706.590-202.933j at 744.0 MHz",
          "Z = 616.592-251.772j at 748.0 MHz",
          "Z = 533.463-275.787j at 752.0 MHz",
          "Z = 461.022-282.980j at 756.0 MHz",
          "Z = 399.772-279.628j at 760.0 MHz",
          "Z = 348.704-270.092j at 764.0 MHz",
          "Z = 306.319-257.201j at 768.0 MHz",
          "Z = 271.107-242.720j at 772.0 MHz",
          "Z = 241.737-227.718j at 776.0 MHz",
          "Z = 217.101-212.821j at 780.0 MHz",
          "Z = 196.302-198.383j at 784.0 MHz",
          "Z = 178.622-184.588j at 788.0 MHz",
          "Z = 163.493-171.522j at 792.0 MHz",
          "Z = 150.462-159.207j at 796.0 MHz",
          "Z = 139.165-147.631j at 800.0 MHz",
          "Z = 129.315-136.765j at 804.0 MHz",
          "Z = 120.676-126.565j at 808.0 MHz",
          "Z = 113.061-116.988j at 812.0 MHz",
          "Z = 106.315-107.985j at 816.0 MHz",
          "Z = 100.311-99.513j at 820.0 MHz",
          "Z = 94.944-91.528j at 824.0 MHz",
          "Z = 90.127-83.989j at 828.0 MHz",
          "Z = 85.789-76.861j at 832.0 MHz",
          "Z = 81.866-70.110j at 836.0 MHz",
          "Z = 78.309-63.703j at 840.0 MHz",
          "Z = 75.073-57.613j at 844.0 MHz",
          "Z = 72.121-51.815j at 848.0 MHz",
          "Z = 69.420-46.284j at 852.0 MHz",
          "Z = 66.944-41.001j at 856.0 MHz",
          "Z = 64.668-35.944j at 860.0 MHz",
          "Z = 62.571-31.098j at 864.0 MHz",
          "Z = 58.845-21.972j at 872.0 MHz",
          "Z = 57.187-17.665j at 876.0 MHz",
          "Z = 55.648-13.511j at 880.0 MHz",
          "Z = 54.218-9.501j at 884.0 MHz",
          "Z = 52.887-5.623j at 888.0 MHz",
          "Z = 51.646-1.869j at 892.0 MHz",
          "Z = 50.488+1.771j at 896.0 MHz",
          "Z = 49.406+5.304j at 900.0 MHz",
          "Z = 48.395+8.738j at 904.0 MHz",
          "Z = 47.448+12.079j at 908.0 MHz",
          "Z = 46.560+15.334j at 912.0 MHz",
          "Z = 45.728+18.508j at 916.0 MHz",
          "Z = 44.947+21.607j at 920.0 MHz",
          "Z = 44.214+24.636j at 924.0 MHz",
          "Z = 43.524+27.599j at 928.0 MHz",
          "Z = 42.877+30.501j at 932.0 MHz",
          "Z = 42.268+33.346j at 936.0 MHz",
          "Z = 41.694+36.138j at 940.0 MHz",
          "Z = 41.155+38.880j at 944.0 MHz",
          "Z = 40.648+41.576j at 948.0 MHz",
          "Z = 40.170+44.229j at 952.0 MHz",
          "Z = 39.720+46.841j at 956.0 MHz",
          "Z = 39.297+49.416j at 960.0 MHz",
          "Z = 38.899+51.957j at 964.0 MHz",
          "Z = 38.525+54.465j at 968.0 MHz",
          "Z = 38.172+56.944j at 972.0 MHz",
          "Z = 37.841+59.396j at 976.0 MHz",
          "Z = 37.531+61.822j at 980.0 MHz",
          "Z = 37.239+64.225j at 984.0 MHz",
          "Z = 36.966+66.607j at 988.0 MHz",
          "Z = 36.710+68.970j at 992.0 MHz",
          "Z = 36.471+71.315j at 996.0 MHz",
          "Z = 36.247+73.645j at 1000.0 MHz"
         ],
         "type": "scattersmith"
        },
        {
         "hoverinfo": "text",
         "imag": [
          -0.5289011999791703
         ],
         "marker": {
          "color": "red",
          "size": 14,
          "symbol": "circle"
         },
         "mode": "markers",
         "name": "Impedance at fC=868.0 MHz",
         "real": [
          1.2127080144452198
         ],
         "text": [
          "Z = 60.635-26.445j at 868.0 MHz"
         ],
         "type": "scattersmith"
        }
       ],
       "layout": {
        "showlegend": true,
        "template": {
         "data": {
          "bar": [
           {
            "error_x": {
             "color": "#2a3f5f"
            },
            "error_y": {
             "color": "#2a3f5f"
            },
            "marker": {
             "line": {
              "color": "#E5ECF6",
              "width": 0.5
             },
             "pattern": {
              "fillmode": "overlay",
              "size": 10,
              "solidity": 0.2
             }
            },
            "type": "bar"
           }
          ],
          "barpolar": [
           {
            "marker": {
             "line": {
              "color": "#E5ECF6",
              "width": 0.5
             },
             "pattern": {
              "fillmode": "overlay",
              "size": 10,
              "solidity": 0.2
             }
            },
            "type": "barpolar"
           }
          ],
          "carpet": [
           {
            "aaxis": {
             "endlinecolor": "#2a3f5f",
             "gridcolor": "white",
             "linecolor": "white",
             "minorgridcolor": "white",
             "startlinecolor": "#2a3f5f"
            },
            "baxis": {
             "endlinecolor": "#2a3f5f",
             "gridcolor": "white",
             "linecolor": "white",
             "minorgridcolor": "white",
             "startlinecolor": "#2a3f5f"
            },
            "type": "carpet"
           }
          ],
          "choropleth": [
           {
            "colorbar": {
             "outlinewidth": 0,
             "ticks": ""
            },
            "type": "choropleth"
           }
          ],
          "contour": [
           {
            "colorbar": {
             "outlinewidth": 0,
             "ticks": ""
            },
            "colorscale": [
             [
              0,
              "#0d0887"
             ],
             [
              0.1111111111111111,
              "#46039f"
             ],
             [
              0.2222222222222222,
              "#7201a8"
             ],
             [
              0.3333333333333333,
              "#9c179e"
             ],
             [
              0.4444444444444444,
              "#bd3786"
             ],
             [
              0.5555555555555556,
              "#d8576b"
             ],
             [
              0.6666666666666666,
              "#ed7953"
             ],
             [
              0.7777777777777778,
              "#fb9f3a"
             ],
             [
              0.8888888888888888,
              "#fdca26"
             ],
             [
              1,
              "#f0f921"
             ]
            ],
            "type": "contour"
           }
          ],
          "contourcarpet": [
           {
            "colorbar": {
             "outlinewidth": 0,
             "ticks": ""
            },
            "type": "contourcarpet"
           }
          ],
          "heatmap": [
           {
            "colorbar": {
             "outlinewidth": 0,
             "ticks": ""
            },
            "colorscale": [
             [
              0,
              "#0d0887"
             ],
             [
              0.1111111111111111,
              "#46039f"
             ],
             [
              0.2222222222222222,
              "#7201a8"
             ],
             [
              0.3333333333333333,
              "#9c179e"
             ],
             [
              0.4444444444444444,
              "#bd3786"
             ],
             [
              0.5555555555555556,
              "#d8576b"
             ],
             [
              0.6666666666666666,
              "#ed7953"
             ],
             [
              0.7777777777777778,
              "#fb9f3a"
             ],
             [
              0.8888888888888888,
              "#fdca26"
             ],
             [
              1,
              "#f0f921"
             ]
            ],
            "type": "heatmap"
           }
          ],
          "heatmapgl": [
           {
            "colorbar": {
             "outlinewidth": 0,
             "ticks": ""
            },
            "colorscale": [
             [
              0,
              "#0d0887"
             ],
             [
              0.1111111111111111,
              "#46039f"
             ],
             [
              0.2222222222222222,
              "#7201a8"
             ],
             [
              0.3333333333333333,
              "#9c179e"
             ],
             [
              0.4444444444444444,
              "#bd3786"
             ],
             [
              0.5555555555555556,
              "#d8576b"
             ],
             [
              0.6666666666666666,
              "#ed7953"
             ],
             [
              0.7777777777777778,
              "#fb9f3a"
             ],
             [
              0.8888888888888888,
              "#fdca26"
             ],
             [
              1,
              "#f0f921"
             ]
            ],
            "type": "heatmapgl"
           }
          ],
          "histogram": [
           {
            "marker": {
             "pattern": {
              "fillmode": "overlay",
              "size": 10,
              "solidity": 0.2
             }
            },
            "type": "histogram"
           }
          ],
          "histogram2d": [
           {
            "colorbar": {
             "outlinewidth": 0,
             "ticks": ""
            },
            "colorscale": [
             [
              0,
              "#0d0887"
             ],
             [
              0.1111111111111111,
              "#46039f"
             ],
             [
              0.2222222222222222,
              "#7201a8"
             ],
             [
              0.3333333333333333,
              "#9c179e"
             ],
             [
              0.4444444444444444,
              "#bd3786"
             ],
             [
              0.5555555555555556,
              "#d8576b"
             ],
             [
              0.6666666666666666,
              "#ed7953"
             ],
             [
              0.7777777777777778,
              "#fb9f3a"
             ],
             [
              0.8888888888888888,
              "#fdca26"
             ],
             [
              1,
              "#f0f921"
             ]
            ],
            "type": "histogram2d"
           }
          ],
          "histogram2dcontour": [
           {
            "colorbar": {
             "outlinewidth": 0,
             "ticks": ""
            },
            "colorscale": [
             [
              0,
              "#0d0887"
             ],
             [
              0.1111111111111111,
              "#46039f"
             ],
             [
              0.2222222222222222,
              "#7201a8"
             ],
             [
              0.3333333333333333,
              "#9c179e"
             ],
             [
              0.4444444444444444,
              "#bd3786"
             ],
             [
              0.5555555555555556,
              "#d8576b"
             ],
             [
              0.6666666666666666,
              "#ed7953"
             ],
             [
              0.7777777777777778,
              "#fb9f3a"
             ],
             [
              0.8888888888888888,
              "#fdca26"
             ],
             [
              1,
              "#f0f921"
             ]
            ],
            "type": "histogram2dcontour"
           }
          ],
          "mesh3d": [
           {
            "colorbar": {
             "outlinewidth": 0,
             "ticks": ""
            },
            "type": "mesh3d"
           }
          ],
          "parcoords": [
           {
            "line": {
             "colorbar": {
              "outlinewidth": 0,
              "ticks": ""
             }
            },
            "type": "parcoords"
           }
          ],
          "pie": [
           {
            "automargin": true,
            "type": "pie"
           }
          ],
          "scatter": [
           {
            "fillpattern": {
             "fillmode": "overlay",
             "size": 10,
             "solidity": 0.2
            },
            "type": "scatter"
           }
          ],
          "scatter3d": [
           {
            "line": {
             "colorbar": {
              "outlinewidth": 0,
              "ticks": ""
             }
            },
            "marker": {
             "colorbar": {
              "outlinewidth": 0,
              "ticks": ""
             }
            },
            "type": "scatter3d"
           }
          ],
          "scattercarpet": [
           {
            "marker": {
             "colorbar": {
              "outlinewidth": 0,
              "ticks": ""
             }
            },
            "type": "scattercarpet"
           }
          ],
          "scattergeo": [
           {
            "marker": {
             "colorbar": {
              "outlinewidth": 0,
              "ticks": ""
             }
            },
            "type": "scattergeo"
           }
          ],
          "scattergl": [
           {
            "marker": {
             "colorbar": {
              "outlinewidth": 0,
              "ticks": ""
             }
            },
            "type": "scattergl"
           }
          ],
          "scattermapbox": [
           {
            "marker": {
             "colorbar": {
              "outlinewidth": 0,
              "ticks": ""
             }
            },
            "type": "scattermapbox"
           }
          ],
          "scatterpolar": [
           {
            "marker": {
             "colorbar": {
              "outlinewidth": 0,
              "ticks": ""
             }
            },
            "type": "scatterpolar"
           }
          ],
          "scatterpolargl": [
           {
            "marker": {
             "colorbar": {
              "outlinewidth": 0,
              "ticks": ""
             }
            },
            "type": "scatterpolargl"
           }
          ],
          "scatterternary": [
           {
            "marker": {
             "colorbar": {
              "outlinewidth": 0,
              "ticks": ""
             }
            },
            "type": "scatterternary"
           }
          ],
          "surface": [
           {
            "colorbar": {
             "outlinewidth": 0,
             "ticks": ""
            },
            "colorscale": [
             [
              0,
              "#0d0887"
             ],
             [
              0.1111111111111111,
              "#46039f"
             ],
             [
              0.2222222222222222,
              "#7201a8"
             ],
             [
              0.3333333333333333,
              "#9c179e"
             ],
             [
              0.4444444444444444,
              "#bd3786"
             ],
             [
              0.5555555555555556,
              "#d8576b"
             ],
             [
              0.6666666666666666,
              "#ed7953"
             ],
             [
              0.7777777777777778,
              "#fb9f3a"
             ],
             [
              0.8888888888888888,
              "#fdca26"
             ],
             [
              1,
              "#f0f921"
             ]
            ],
            "type": "surface"
           }
          ],
          "table": [
           {
            "cells": {
             "fill": {
              "color": "#EBF0F8"
             },
             "line": {
              "color": "white"
             }
            },
            "header": {
             "fill": {
              "color": "#C8D4E3"
             },
             "line": {
              "color": "white"
             }
            },
            "type": "table"
           }
          ]
         },
         "layout": {
          "annotationdefaults": {
           "arrowcolor": "#2a3f5f",
           "arrowhead": 0,
           "arrowwidth": 1
          },
          "autotypenumbers": "strict",
          "coloraxis": {
           "colorbar": {
            "outlinewidth": 0,
            "ticks": ""
           }
          },
          "colorscale": {
           "diverging": [
            [
             0,
             "#8e0152"
            ],
            [
             0.1,
             "#c51b7d"
            ],
            [
             0.2,
             "#de77ae"
            ],
            [
             0.3,
             "#f1b6da"
            ],
            [
             0.4,
             "#fde0ef"
            ],
            [
             0.5,
             "#f7f7f7"
            ],
            [
             0.6,
             "#e6f5d0"
            ],
            [
             0.7,
             "#b8e186"
            ],
            [
             0.8,
             "#7fbc41"
            ],
            [
             0.9,
             "#4d9221"
            ],
            [
             1,
             "#276419"
            ]
           ],
           "sequential": [
            [
             0,
             "#0d0887"
            ],
            [
             0.1111111111111111,
             "#46039f"
            ],
            [
             0.2222222222222222,
             "#7201a8"
            ],
            [
             0.3333333333333333,
             "#9c179e"
            ],
            [
             0.4444444444444444,
             "#bd3786"
            ],
            [
             0.5555555555555556,
             "#d8576b"
            ],
            [
             0.6666666666666666,
             "#ed7953"
            ],
            [
             0.7777777777777778,
             "#fb9f3a"
            ],
            [
             0.8888888888888888,
             "#fdca26"
            ],
            [
             1,
             "#f0f921"
            ]
           ],
           "sequentialminus": [
            [
             0,
             "#0d0887"
            ],
            [
             0.1111111111111111,
             "#46039f"
            ],
            [
             0.2222222222222222,
             "#7201a8"
            ],
            [
             0.3333333333333333,
             "#9c179e"
            ],
            [
             0.4444444444444444,
             "#bd3786"
            ],
            [
             0.5555555555555556,
             "#d8576b"
            ],
            [
             0.6666666666666666,
             "#ed7953"
            ],
            [
             0.7777777777777778,
             "#fb9f3a"
            ],
            [
             0.8888888888888888,
             "#fdca26"
            ],
            [
             1,
             "#f0f921"
            ]
           ]
          },
          "colorway": [
           "#636efa",
           "#EF553B",
           "#00cc96",
           "#ab63fa",
           "#FFA15A",
           "#19d3f3",
           "#FF6692",
           "#B6E880",
           "#FF97FF",
           "#FECB52"
          ],
          "font": {
           "color": "#2a3f5f"
          },
          "geo": {
           "bgcolor": "white",
           "lakecolor": "white",
           "landcolor": "#E5ECF6",
           "showlakes": true,
           "showland": true,
           "subunitcolor": "white"
          },
          "hoverlabel": {
           "align": "left"
          },
          "hovermode": "closest",
          "mapbox": {
           "style": "light"
          },
          "paper_bgcolor": "white",
          "plot_bgcolor": "#E5ECF6",
          "polar": {
           "angularaxis": {
            "gridcolor": "white",
            "linecolor": "white",
            "ticks": ""
           },
           "bgcolor": "#E5ECF6",
           "radialaxis": {
            "gridcolor": "white",
            "linecolor": "white",
            "ticks": ""
           }
          },
          "scene": {
           "xaxis": {
            "backgroundcolor": "#E5ECF6",
            "gridcolor": "white",
            "gridwidth": 2,
            "linecolor": "white",
            "showbackground": true,
            "ticks": "",
            "zerolinecolor": "white"
           },
           "yaxis": {
            "backgroundcolor": "#E5ECF6",
            "gridcolor": "white",
            "gridwidth": 2,
            "linecolor": "white",
            "showbackground": true,
            "ticks": "",
            "zerolinecolor": "white"
           },
           "zaxis": {
            "backgroundcolor": "#E5ECF6",
            "gridcolor": "white",
            "gridwidth": 2,
            "linecolor": "white",
            "showbackground": true,
            "ticks": "",
            "zerolinecolor": "white"
           }
          },
          "shapedefaults": {
           "line": {
            "color": "#2a3f5f"
           }
          },
          "ternary": {
           "aaxis": {
            "gridcolor": "white",
            "linecolor": "white",
            "ticks": ""
           },
           "baxis": {
            "gridcolor": "white",
            "linecolor": "white",
            "ticks": ""
           },
           "bgcolor": "#E5ECF6",
           "caxis": {
            "gridcolor": "white",
            "linecolor": "white",
            "ticks": ""
           }
          },
          "title": {
           "x": 0.05
          },
          "xaxis": {
           "automargin": true,
           "gridcolor": "white",
           "linecolor": "white",
           "ticks": "",
           "title": {
            "standoff": 15
           },
           "zerolinecolor": "white",
           "zerolinewidth": 2
          },
          "yaxis": {
           "automargin": true,
           "gridcolor": "white",
           "linecolor": "white",
           "ticks": "",
           "title": {
            "standoff": 15
           },
           "zerolinecolor": "white",
           "zerolinewidth": 2
          }
         }
        },
        "title": {
         "text": "Abaque de Smith"
        }
       }
      }
     },
     "metadata": {},
     "output_type": "display_data"
    },
    {
     "name": "stdout",
     "output_type": "stream",
     "text": [
      "\n",
      "📡 Résultats de simulation :\n",
      "→ Fréquence de résonance = 896.00 MHz\n",
      "→ Impédance à f_res      = 50.49+1.77j Ω\n",
      "\n",
      "S11 en dB : [ -0.60453732  -0.63856268  -0.67482409  -0.71349653  -0.754771\n",
      "  -0.79885619  -0.84598027  -0.896393    -0.95036804  -1.00820548\n",
      "  -1.07023472  -1.13681769  -1.20835245  -1.28527721  -1.36807483\n",
      "  -1.45727793  -1.55347456  -1.65731468  -1.76951738  -1.89087913\n",
      "  -2.0222831   -2.16470982  -2.31924933  -2.4871152   -2.66966078\n",
      "  -2.86839816  -3.0850205   -3.32142866  -3.57976332  -3.86244428\n",
      "  -4.17221926  -4.51222549  -4.88606891  -5.29792787  -5.75269141\n",
      "  -6.25614778  -6.81524665  -7.43847278  -8.13639232  -8.92247553\n",
      "  -9.81437946 -10.83603296 -12.02120387 -13.42001074 -15.11185477\n",
      " -17.23420897 -20.05812736 -24.24458538 -32.21859803 -34.76009425\n",
      " -25.41380142 -20.92095587 -18.011088   -15.87775463 -14.20744541\n",
      " -12.84570833 -11.70493062 -10.73049532  -9.88595948  -9.14572277\n",
      "  -8.49106181  -7.90783233  -7.38506276  -6.91405389  -6.48778052\n",
      "  -6.1004808   -5.74736652  -5.42441363  -5.12820744  -4.85582614\n",
      "  -4.60475139  -4.37279883  -4.15806317  -3.95887432  -3.77376188\n",
      "  -3.6014261 ]\n",
      "Seuil pour la bande passante à -3 dB : -31.76 dB\n",
      "Indices où S11 <= -31.76 dB : [48 49]\n",
      "\n",
      "Calcul de Q :\n",
      "→ Bande passante (-3 dB) : 4.00 MHz\n",
      "→ Facteur de qualité Q  : 224.00\n"
     ]
    },
    {
     "data": {
      "image/png": "[encoded data removed]",
      "text/plain": [
       "<Figure size 700x432.624 with 1 Axes>"
      ]
     },
     "metadata": {},
     "output_type": "display_data"
    },
    {
     "name": "stdout",
     "output_type": "stream",
     "text": [
      "\n",
      "Ratio = 1.032258064516129\n",
      "\n",
      "\n",
      "We are within 2% of fc!\n",
      "\n",
      "\n",
      "------------------------------------------------------Iteration N°2------------------------------------------------------\n",
      "\n",
      "distance meandres = 5.400 mm\n",
      "\n",
      "Number of meanders = 2\n",
      "\n",
      "New distance meandres = 8.100 mm\n",
      "Largeur de piste ifa = 5.400 mm\n",
      "position feed = 29.303 mm\n",
      "\n",
      "Simulation 1/76 | f = 700.00 MHz | S11 = -0.63 dB\n",
      "Simulation 2/76 | f = 704.00 MHz | S11 = -0.67 dB\n",
      "Simulation 3/76 | f = 708.00 MHz | S11 = -0.71 dB\n",
      "Simulation 4/76 | f = 712.00 MHz | S11 = -0.75 dB\n",
      "Simulation 5/76 | f = 716.00 MHz | S11 = -0.80 dB\n",
      "Simulation 6/76 | f = 720.00 MHz | S11 = -0.85 dB\n",
      "Simulation 7/76 | f = 724.00 MHz | S11 = -0.90 dB\n",
      "Simulation 8/76 | f = 728.00 MHz | S11 = -0.96 dB\n",
      "Simulation 9/76 | f = 732.00 MHz | S11 = -1.02 dB\n",
      "Simulation 10/76 | f = 736.00 MHz | S11 = -1.08 dB\n",
      "Simulation 11/76 | f = 740.00 MHz | S11 = -1.16 dB\n",
      "Simulation 12/76 | f = 744.00 MHz | S11 = -1.23 dB\n",
      "Simulation 13/76 | f = 748.00 MHz | S11 = -1.31 dB\n",
      "Simulation 14/76 | f = 752.00 MHz | S11 = -1.40 dB\n",
      "Simulation 15/76 | f = 756.00 MHz | S11 = -1.50 dB\n",
      "Simulation 16/76 | f = 760.00 MHz | S11 = -1.60 dB\n",
      "Simulation 17/76 | f = 764.00 MHz | S11 = -1.72 dB\n",
      "Simulation 18/76 | f = 768.00 MHz | S11 = -1.84 dB\n",
      "Simulation 19/76 | f = 772.00 MHz | S11 = -1.97 dB\n",
      "Simulation 20/76 | f = 776.00 MHz | S11 = -2.12 dB\n",
      "Simulation 21/76 | f = 780.00 MHz | S11 = -2.27 dB\n",
      "Simulation 22/76 | f = 784.00 MHz | S11 = -2.45 dB\n",
      "Simulation 23/76 | f = 788.00 MHz | S11 = -2.63 dB\n",
      "Simulation 24/76 | f = 792.00 MHz | S11 = -2.84 dB\n",
      "Simulation 25/76 | f = 796.00 MHz | S11 = -3.06 dB\n",
      "Simulation 26/76 | f = 800.00 MHz | S11 = -3.31 dB\n",
      "Simulation 27/76 | f = 804.00 MHz | S11 = -3.58 dB\n",
      "Simulation 28/76 | f = 808.00 MHz | S11 = -3.88 dB\n",
      "Simulation 29/76 | f = 812.00 MHz | S11 = -4.20 dB\n",
      "Simulation 30/76 | f = 816.00 MHz | S11 = -4.57 dB\n",
      "Simulation 31/76 | f = 820.00 MHz | S11 = -4.96 dB\n",
      "Simulation 32/76 | f = 824.00 MHz | S11 = -5.41 dB\n",
      "Simulation 33/76 | f = 828.00 MHz | S11 = -5.90 dB\n",
      "Simulation 34/76 | f = 832.00 MHz | S11 = -6.44 dB\n",
      "Simulation 35/76 | f = 836.00 MHz | S11 = -7.05 dB\n",
      "Simulation 36/76 | f = 840.00 MHz | S11 = -7.74 dB\n",
      "Simulation 37/76 | f = 844.00 MHz | S11 = -8.52 dB\n",
      "Simulation 38/76 | f = 848.00 MHz | S11 = -9.40 dB\n",
      "Simulation 39/76 | f = 852.00 MHz | S11 = -10.41 dB\n",
      "Simulation 40/76 | f = 856.00 MHz | S11 = -11.59 dB\n",
      "Simulation 41/76 | f = 860.00 MHz | S11 = -12.98 dB\n",
      "Simulation 42/76 | f = 864.00 MHz | S11 = -14.67 dB\n"
     ]
    },
    {
     "data": {
      "application/vnd.plotly.v1+json": {
       "config": {
        "plotlyServerURL": "https://plot.ly"
       },
       "data": [
        {
         "facecolor": [
          "rgb(0, 35, 255)",
          "rgb(0, 48, 255)",
          "rgb(255, 0, 0)",
          "rgb(0, 131, 255)",
          "rgb(140, 0, 97)",
          "rgb(97, 0, 129)",
          "rgb(144, 0, 95)",
          "rgb(0, 25, 254)",
          "rgb(0, 135, 255)",
          "rgb(129, 0, 105)",
          "rgb(115, 0, 116)",
          "rgb(11, 179, 228)",
          "rgb(0, 25, 255)",
          "rgb(109, 0, 120)",
          "rgb(102, 0, 125)",
          "rgb(118, 0, 113)",
          "rgb(149, 255, 3)",
          "rgb(0, 11, 225)",
          "rgb(96, 0, 130)",
          "rgb(137, 0, 100)",
          "rgb(0, 127, 255)",
          "rgb(141, 0, 97)",
          "rgb(75, 255, 107)",
          "rgb(38, 240, 165)",
          "rgb(114, 255, 52)",
          "rgb(0, 131, 255)",
          "rgb(129, 255, 31)",
          "rgb(156, 254, 0)",
          "rgb(0, 7, 216)",
          "rgb(0, 70, 255)",
          "rgb(0, 82, 255)",
          "rgb(92, 0, 132)",
          "rgb(101, 0, 126)",
          "rgb(125, 0, 109)",
          "rgb(132, 0, 103)",
          "rgb(129, 0, 105)",
          "rgb(44, 0, 167)",
          "rgb(83, 0, 139)",
          "rgb(120, 0, 112)",
          "rgb(108, 0, 121)",
          "rgb(91, 0, 133)",
          "rgb(126, 0, 107)",
          "rgb(145, 0, 93)",
          "rgb(74, 0, 145)",
          "rgb(20, 0, 185)",
          "rgb(36, 0, 174)",
          "rgb(150, 0, 90)"
         ],
         "i": [
          7,
          20,
          2,
          0,
          31,
          34,
          32,
          15,
          36,
          37,
          31,
          25,
          24,
          37,
          23,
          33,
          8,
          24,
          37,
          31,
          25,
          18,
          13,
          12,
          13,
          2,
          13,
          21,
          30,
          1,
          21,
          34,
          29,
          37,
          35,
          33,
          38,
          16,
          34,
          31,
          34,
          28,
          32,
          34,
          3,
          38,
          19
         ],
         "j": [
          14,
          14,
          1,
          1,
          33,
          35,
          33,
          30,
          0,
          36,
          32,
          9,
          22,
          16,
          10,
          37,
          26,
          23,
          38,
          37,
          22,
          33,
          9,
          9,
          8,
          3,
          26,
          26,
          15,
          14,
          1,
          15,
          35,
          35,
          37,
          17,
          27,
          38,
          36,
          28,
          0,
          32,
          19,
          29,
          38,
          3,
          33
         ],
         "k": [
          15,
          7,
          21,
          2,
          32,
          29,
          19,
          7,
          3,
          38,
          28,
          22,
          23,
          17,
          11,
          17,
          21,
          11,
          16,
          33,
          24,
          6,
          12,
          25,
          9,
          0,
          8,
          2,
          34,
          20,
          20,
          0,
          31,
          36,
          31,
          6,
          5,
          5,
          35,
          29,
          36,
          4,
          4,
          30,
          36,
          27,
          18
         ],
         "name": "",
         "type": "mesh3d",
         "x": [
          0,
          0.0081,
          0.0081,
          0,
          -0.065,
          0,
          -0.065,
          0.0135,
          0.0135,
          0.0216,
          0.0216,
          0.027,
          0.027,
          0.0081,
          0.0081,
          0,
          -0.0216666666666667,
          -0.04333333333333338,
          -0.065,
          -0.065,
          0.0135,
          0.0135,
          0.0216,
          0.0216,
          0.027,
          0.027,
          0.0081,
          0,
          -0.04537500000000005,
          -0.02575000000000013,
          -0.006125000000000082,
          -0.03924700202996943,
          -0.05334572281798993,
          -0.05210661205998018,
          -0.01241487523372469,
          -0.02508445077883321,
          -0.01381154871218594,
          -0.03382022606127185,
          -0.01154974019928589
         ],
         "y": [
          0.03200280957336108,
          0.03200280957336108,
          0.02660280957336108,
          0.02660280957336108,
          0.055,
          0,
          0,
          0.055,
          0.005400000000000001,
          0.005400000000000001,
          0.055,
          0.055,
          8.673617379884035e-19,
          8.673617379884035e-19,
          0.0496,
          0.0496,
          0,
          0,
          0.01833333333333335,
          0.03666666666666669,
          0.0384666666666667,
          0.02193333333333334,
          0.0219333333333333,
          0.03846666666666666,
          0.03666666666666665,
          0.01833333333333331,
          0.01330140478668055,
          0.01330140478668054,
          0.055,
          0.055,
          0.055,
          0.03846395453004542,
          0.04145276602487775,
          0.02213320892767662,
          0.04227700919523053,
          0.03718201066675539,
          0.02881149266717329,
          0.02001574217452232,
          0.01478857481980936
         ],
         "z": [
          0,
          0,
          0,
          0,
          0,
          0,
          0,
          0,
          0,
          0,
          0,
          0,
          0,
          0,
          0,
          0,
          0,
          0,
          0,
          0,
          0,
          0,
          0,
          0,
          0,
          0,
          0,
          0,
          0,
          0,
          0,
          0,
          0,
          0,
          0,
          0,
          0,
          0,
          0
         ]
        },
        {
         "line": {
          "color": "rgb(50, 50, 50)",
          "width": 1.5
         },
         "mode": "lines",
         "showlegend": false,
         "type": "scatter3d",
         "x": [
          0.0135,
          0.0081,
          0,
          0.0135,
          null,
          0.0135,
          0.0081,
          0.0135,
          0.0135,
          null,
          0.0081,
          0.0081,
          0.0135,
          0.0081,
          null,
          0,
          0.0081,
          0.0081,
          0,
          null,
          -0.03924700202996943,
          -0.05210661205998018,
          -0.05334572281798993,
          -0.03924700202996943,
          null,
          -0.01241487523372469,
          -0.02508445077883321,
          -0.02575000000000013,
          -0.01241487523372469,
          null,
          -0.05334572281798993,
          -0.05210661205998018,
          -0.065,
          -0.05334572281798993,
          null,
          0,
          -0.006125000000000082,
          0.0135,
          0,
          null,
          -0.01381154871218594,
          0,
          0,
          -0.01381154871218594,
          null,
          -0.03382022606127185,
          -0.01381154871218594,
          -0.01154974019928589,
          -0.03382022606127185,
          null,
          -0.03924700202996943,
          -0.05334572281798993,
          -0.04537500000000005,
          -0.03924700202996943,
          null,
          0.027,
          0.0216,
          0.0216,
          0.027,
          null,
          0.027,
          0.0216,
          0.0216,
          0.027,
          null,
          -0.03382022606127185,
          -0.0216666666666667,
          -0.04333333333333338,
          -0.03382022606127185,
          null,
          0.0216,
          0.0216,
          0.027,
          0.0216,
          null,
          -0.05210661205998018,
          -0.03382022606127185,
          -0.04333333333333338,
          -0.05210661205998018,
          null,
          0.0135,
          0.0081,
          0.0135,
          0.0135,
          null,
          0.027,
          0.0216,
          0.027,
          0.027,
          null,
          -0.03382022606127185,
          -0.01154974019928589,
          -0.0216666666666667,
          -0.03382022606127185,
          null,
          -0.03924700202996943,
          -0.03382022606127185,
          -0.05210661205998018,
          -0.03924700202996943,
          null,
          0.027,
          0.0216,
          0.027,
          0.027,
          null,
          -0.065,
          -0.05210661205998018,
          -0.065,
          -0.065,
          null,
          0.0081,
          0.0216,
          0.027,
          0.0081,
          null,
          0.027,
          0.0216,
          0.027,
          0.027,
          null,
          0.0081,
          0.0135,
          0.0216,
          0.0081,
          null,
          0.0081,
          0,
          0,
          0.0081,
          null,
          0.0081,
          0.0081,
          0.0135,
          0.0081,
          null,
          0.0135,
          0.0081,
          0.0081,
          0.0135,
          null,
          -0.006125000000000082,
          0,
          -0.01241487523372469,
          -0.006125000000000082,
          null,
          0.0081,
          0.0081,
          0.0135,
          0.0081,
          null,
          0.0135,
          0.0081,
          0.0135,
          0.0135,
          null,
          -0.01241487523372469,
          0,
          0,
          -0.01241487523372469,
          null,
          -0.02575000000000013,
          -0.02508445077883321,
          -0.03924700202996943,
          -0.02575000000000013,
          null,
          -0.03382022606127185,
          -0.02508445077883321,
          -0.01381154871218594,
          -0.03382022606127185,
          null,
          -0.02508445077883321,
          -0.03382022606127185,
          -0.03924700202996943,
          -0.02508445077883321,
          null,
          -0.05210661205998018,
          -0.04333333333333338,
          -0.065,
          -0.05210661205998018,
          null,
          -0.01154974019928589,
          0,
          0,
          -0.01154974019928589,
          null,
          -0.0216666666666667,
          -0.01154974019928589,
          0,
          -0.0216666666666667,
          null,
          -0.01241487523372469,
          -0.01381154871218594,
          -0.02508445077883321,
          -0.01241487523372469,
          null,
          -0.03924700202996943,
          -0.04537500000000005,
          -0.02575000000000013,
          -0.03924700202996943,
          null,
          -0.01241487523372469,
          0,
          -0.01381154871218594,
          -0.01241487523372469,
          null,
          -0.04537500000000005,
          -0.05334572281798993,
          -0.065,
          -0.04537500000000005,
          null,
          -0.05334572281798993,
          -0.065,
          -0.065,
          -0.05334572281798993,
          null,
          -0.01241487523372469,
          -0.02575000000000013,
          -0.006125000000000082,
          -0.01241487523372469,
          null,
          0,
          -0.01154974019928589,
          -0.01381154871218594,
          0,
          null,
          -0.01154974019928589,
          0,
          0,
          -0.01154974019928589,
          null,
          -0.065,
          -0.05210661205998018,
          -0.065,
          -0.065,
          null
         ],
         "y": [
          0.055,
          0.0496,
          0.0496,
          0.055,
          null,
          0.0384666666666667,
          0.0496,
          0.055,
          0.0384666666666667,
          null,
          0.02660280957336108,
          0.03200280957336108,
          0.02193333333333334,
          0.02660280957336108,
          null,
          0.03200280957336108,
          0.03200280957336108,
          0.02660280957336108,
          0.03200280957336108,
          null,
          0.03846395453004542,
          0.02213320892767662,
          0.04145276602487775,
          0.03846395453004542,
          null,
          0.04227700919523053,
          0.03718201066675539,
          0.055,
          0.04227700919523053,
          null,
          0.04145276602487775,
          0.02213320892767662,
          0.03666666666666669,
          0.04145276602487775,
          null,
          0.0496,
          0.055,
          0.055,
          0.0496,
          null,
          0.02881149266717329,
          0.03200280957336108,
          0.02660280957336108,
          0.02881149266717329,
          null,
          0.02001574217452232,
          0.02881149266717329,
          0.01478857481980936,
          0.02001574217452232,
          null,
          0.03846395453004542,
          0.04145276602487775,
          0.055,
          0.03846395453004542,
          null,
          0.01833333333333331,
          0.005400000000000001,
          0.0219333333333333,
          0.01833333333333331,
          null,
          0.03666666666666665,
          0.0219333333333333,
          0.03846666666666666,
          0.03666666666666665,
          null,
          0.02001574217452232,
          0,
          0,
          0.02001574217452232,
          null,
          0.03846666666666666,
          0.055,
          0.055,
          0.03846666666666666,
          null,
          0.02213320892767662,
          0.02001574217452232,
          0,
          0.02213320892767662,
          null,
          0.005400000000000001,
          0.01330140478668055,
          0.02193333333333334,
          0.005400000000000001,
          null,
          0.03666666666666665,
          0.03846666666666666,
          0.055,
          0.03666666666666665,
          null,
          0.02001574217452232,
          0.01478857481980936,
          0,
          0.02001574217452232,
          null,
          0.03846395453004542,
          0.02001574217452232,
          0.02213320892767662,
          0.03846395453004542,
          null,
          0.01833333333333331,
          0.0219333333333333,
          0.03666666666666665,
          0.01833333333333331,
          null,
          0.01833333333333335,
          0.02213320892767662,
          0,
          0.01833333333333335,
          null,
          8.673617379884035e-19,
          0.005400000000000001,
          8.673617379884035e-19,
          8.673617379884035e-19,
          null,
          8.673617379884035e-19,
          0.005400000000000001,
          0.01833333333333331,
          8.673617379884035e-19,
          null,
          8.673617379884035e-19,
          0.005400000000000001,
          0.005400000000000001,
          8.673617379884035e-19,
          null,
          0.02660280957336108,
          0.02660280957336108,
          0.03200280957336108,
          0.02660280957336108,
          null,
          8.673617379884035e-19,
          0.01330140478668055,
          0.005400000000000001,
          8.673617379884035e-19,
          null,
          0.02193333333333334,
          0.01330140478668055,
          0.02660280957336108,
          0.02193333333333334,
          null,
          0.055,
          0.0496,
          0.04227700919523053,
          0.055,
          null,
          0.03200280957336108,
          0.0496,
          0.0384666666666667,
          0.03200280957336108,
          null,
          0.02193333333333334,
          0.03200280957336108,
          0.0384666666666667,
          0.02193333333333334,
          null,
          0.04227700919523053,
          0.0496,
          0.03200280957336108,
          0.04227700919523053,
          null,
          0.055,
          0.03718201066675539,
          0.03846395453004542,
          0.055,
          null,
          0.02001574217452232,
          0.03718201066675539,
          0.02881149266717329,
          0.02001574217452232,
          null,
          0.03718201066675539,
          0.02001574217452232,
          0.03846395453004542,
          0.03718201066675539,
          null,
          0.02213320892767662,
          0,
          0,
          0.02213320892767662,
          null,
          0.01478857481980936,
          0.01330140478668054,
          0,
          0.01478857481980936,
          null,
          0,
          0.01478857481980936,
          0,
          0,
          null,
          0.04227700919523053,
          0.02881149266717329,
          0.03718201066675539,
          0.04227700919523053,
          null,
          0.03846395453004542,
          0.055,
          0.055,
          0.03846395453004542,
          null,
          0.04227700919523053,
          0.03200280957336108,
          0.02881149266717329,
          0.04227700919523053,
          null,
          0.055,
          0.04145276602487775,
          0.055,
          0.055,
          null,
          0.04145276602487775,
          0.03666666666666669,
          0.055,
          0.04145276602487775,
          null,
          0.04227700919523053,
          0.055,
          0.055,
          0.04227700919523053,
          null,
          0.02660280957336108,
          0.01478857481980936,
          0.02881149266717329,
          0.02660280957336108,
          null,
          0.01478857481980936,
          0.02660280957336108,
          0.01330140478668054,
          0.01478857481980936,
          null,
          0.03666666666666669,
          0.02213320892767662,
          0.01833333333333335,
          0.03666666666666669,
          null
         ],
         "z": [
          0,
          0,
          0,
          0,
          null,
          0,
          0,
          0,
          0,
          null,
          0,
          0,
          0,
          0,
          null,
          0,
          0,
          0,
          0,
          null,
          0,
          0,
          0,
          0,
          null,
          0,
          0,
          0,
          0,
          null,
          0,
          0,
          0,
          0,
          null,
          0,
          0,
          0,
          0,
          null,
          0,
          0,
          0,
          0,
          null,
          0,
          0,
          0,
          0,
          null,
          0,
          0,
          0,
          0,
          null,
          0,
          0,
          0,
          0,
          null,
          0,
          0,
          0,
          0,
          null,
          0,
          0,
          0,
          0,
          null,
          0,
          0,
          0,
          0,
          null,
          0,
          0,
          0,
          0,
          null,
          0,
          0,
          0,
          0,
          null,
          0,
          0,
          0,
          0,
          null,
          0,
          0,
          0,
          0,
          null,
          0,
          0,
          0,
          0,
          null,
          0,
          0,
          0,
          0,
          null,
          0,
          0,
          0,
          0,
          null,
          0,
          0,
          0,
          0,
          null,
          0,
          0,
          0,
          0,
          null,
          0,
          0,
          0,
          0,
          null,
          0,
          0,
          0,
          0,
          null,
          0,
          0,
          0,
          0,
          null,
          0,
          0,
          0,
          0,
          null,
          0,
          0,
          0,
          0,
          null,
          0,
          0,
          0,
          0,
          null,
          0,
          0,
          0,
          0,
          null,
          0,
          0,
          0,
          0,
          null,
          0,
          0,
          0,
          0,
          null,
          0,
          0,
          0,
          0,
          null,
          0,
          0,
          0,
          0,
          null,
          0,
          0,
          0,
          0,
          null,
          0,
          0,
          0,
          0,
          null,
          0,
          0,
          0,
          0,
          null,
          0,
          0,
          0,
          0,
          null,
          0,
          0,
          0,
          0,
          null,
          0,
          0,
          0,
          0,
          null,
          0,
          0,
          0,
          0,
          null,
          0,
          0,
          0,
          0,
          null,
          0,
          0,
          0,
          0,
          null,
          0,
          0,
          0,
          0,
          null,
          0,
          0,
          0,
          0,
          null,
          0,
          0,
          0,
          0,
          null
         ]
        },
        {
         "hoverinfo": "none",
         "marker": {
          "color": [
           0.016582976815802754,
           4.466398750675988
          ],
          "colorscale": [
           [
            0,
            "rgb(150, 0, 90)"
           ],
           [
            0.125,
            "rgb(0, 0, 200)"
           ],
           [
            0.25,
            "rgb(0, 25, 255)"
           ],
           [
            0.375,
            "rgb(0, 152, 255)"
           ],
           [
            0.5,
            "rgb(44, 255, 150)"
           ],
           [
            0.625,
            "rgb(151, 255, 0)"
           ],
           [
            0.75,
            "rgb(255, 234, 0)"
           ],
           [
            0.875,
            "rgb(255, 111, 0)"
           ],
           [
            1,
            "rgb(255, 0, 0)"
           ]
          ],
          "showscale": true,
          "size": 0.1
         },
         "mode": "markers",
         "showlegend": false,
         "type": "scatter3d",
         "x": [
          0
         ],
         "y": [
          0.03200280957336108
         ],
         "z": [
          0
         ]
        },
        {
         "marker": {
          "color": "red",
          "size": 6,
          "symbol": "circle"
         },
         "mode": "markers+text",
         "name": "Feed Point",
         "text": [
          "Feed Point"
         ],
         "textposition": "top center",
         "type": "scatter3d",
         "x": [
          0
         ],
         "y": [
          0.02930280957336108
         ],
         "z": [
          0
         ]
        }
       ],
       "layout": {
        "height": 800,
        "scene": {
         "aspectratio": {
          "x": 1,
          "y": 0.5978260869565217,
          "z": 0.3
         },
         "xaxis": {
          "backgroundcolor": "rgb(230, 230, 230)",
          "gridcolor": "rgb(255, 255, 255)",
          "showbackground": true,
          "zerolinecolor": "rgb(255, 255, 255)"
         },
         "yaxis": {
          "backgroundcolor": "rgb(230, 230, 230)",
          "gridcolor": "rgb(255, 255, 255)",
          "showbackground": true,
          "zerolinecolor": "rgb(255, 255, 255)"
         },
         "zaxis": {
          "backgroundcolor": "rgb(230, 230, 230)",
          "gridcolor": "rgb(255, 255, 255)",
          "showbackground": true,
          "zerolinecolor": "rgb(255, 255, 255)"
         }
        },
        "template": {
         "data": {
          "bar": [
           {
            "error_x": {
             "color": "#2a3f5f"
            },
            "error_y": {
             "color": "#2a3f5f"
            },
            "marker": {
             "line": {
              "color": "#E5ECF6",
              "width": 0.5
             },
             "pattern": {
              "fillmode": "overlay",
              "size": 10,
              "solidity": 0.2
             }
            },
            "type": "bar"
           }
          ],
          "barpolar": [
           {
            "marker": {
             "line": {
              "color": "#E5ECF6",
              "width": 0.5
             },
             "pattern": {
              "fillmode": "overlay",
              "size": 10,
              "solidity": 0.2
             }
            },
            "type": "barpolar"
           }
          ],
          "carpet": [
           {
            "aaxis": {
             "endlinecolor": "#2a3f5f",
             "gridcolor": "white",
             "linecolor": "white",
             "minorgridcolor": "white",
             "startlinecolor": "#2a3f5f"
            },
            "baxis": {
             "endlinecolor": "#2a3f5f",
             "gridcolor": "white",
             "linecolor": "white",
             "minorgridcolor": "white",
             "startlinecolor": "#2a3f5f"
            },
            "type": "carpet"
           }
          ],
          "choropleth": [
           {
            "colorbar": {
             "outlinewidth": 0,
             "ticks": ""
            },
            "type": "choropleth"
           }
          ],
          "contour": [
           {
            "colorbar": {
             "outlinewidth": 0,
             "ticks": ""
            },
            "colorscale": [
             [
              0,
              "#0d0887"
             ],
             [
              0.1111111111111111,
              "#46039f"
             ],
             [
              0.2222222222222222,
              "#7201a8"
             ],
             [
              0.3333333333333333,
              "#9c179e"
             ],
             [
              0.4444444444444444,
              "#bd3786"
             ],
             [
              0.5555555555555556,
              "#d8576b"
             ],
             [
              0.6666666666666666,
              "#ed7953"
             ],
             [
              0.7777777777777778,
              "#fb9f3a"
             ],
             [
              0.8888888888888888,
              "#fdca26"
             ],
             [
              1,
              "#f0f921"
             ]
            ],
            "type": "contour"
           }
          ],
          "contourcarpet": [
           {
            "colorbar": {
             "outlinewidth": 0,
             "ticks": ""
            },
            "type": "contourcarpet"
           }
          ],
          "heatmap": [
           {
            "colorbar": {
             "outlinewidth": 0,
             "ticks": ""
            },
            "colorscale": [
             [
              0,
              "#0d0887"
             ],
             [
              0.1111111111111111,
              "#46039f"
             ],
             [
              0.2222222222222222,
              "#7201a8"
             ],
             [
              0.3333333333333333,
              "#9c179e"
             ],
             [
              0.4444444444444444,
              "#bd3786"
             ],
             [
              0.5555555555555556,
              "#d8576b"
             ],
             [
              0.6666666666666666,
              "#ed7953"
             ],
             [
              0.7777777777777778,
              "#fb9f3a"
             ],
             [
              0.8888888888888888,
              "#fdca26"
             ],
             [
              1,
              "#f0f921"
             ]
            ],
            "type": "heatmap"
           }
          ],
          "heatmapgl": [
           {
            "colorbar": {
             "outlinewidth": 0,
             "ticks": ""
            },
            "colorscale": [
             [
              0,
              "#0d0887"
             ],
             [
              0.1111111111111111,
              "#46039f"
             ],
             [
              0.2222222222222222,
              "#7201a8"
             ],
             [
              0.3333333333333333,
              "#9c179e"
             ],
             [
              0.4444444444444444,
              "#bd3786"
             ],
             [
              0.5555555555555556,
              "#d8576b"
             ],
             [
              0.6666666666666666,
              "#ed7953"
             ],
             [
              0.7777777777777778,
              "#fb9f3a"
             ],
             [
              0.8888888888888888,
              "#fdca26"
             ],
             [
              1,
              "#f0f921"
             ]
            ],
            "type": "heatmapgl"
           }
          ],
          "histogram": [
           {
            "marker": {
             "pattern": {
              "fillmode": "overlay",
              "size": 10,
              "solidity": 0.2
             }
            },
            "type": "histogram"
           }
          ],
          "histogram2d": [
           {
            "colorbar": {
             "outlinewidth": 0,
             "ticks": ""
            },
            "colorscale": [
             [
              0,
              "#0d0887"
             ],
             [
              0.1111111111111111,
              "#46039f"
             ],
             [
              0.2222222222222222,
              "#7201a8"
             ],
             [
              0.3333333333333333,
              "#9c179e"
             ],
             [
              0.4444444444444444,
              "#bd3786"
             ],
             [
              0.5555555555555556,
              "#d8576b"
             ],
             [
              0.6666666666666666,
              "#ed7953"
             ],
             [
              0.7777777777777778,
              "#fb9f3a"
             ],
             [
              0.8888888888888888,
              "#fdca26"
             ],
             [
              1,
              "#f0f921"
             ]
            ],
            "type": "histogram2d"
           }
          ],
          "histogram2dcontour": [
           {
            "colorbar": {
             "outlinewidth": 0,
             "ticks": ""
            },
            "colorscale": [
             [
              0,
              "#0d0887"
             ],
             [
              0.1111111111111111,
              "#46039f"
             ],
             [
              0.2222222222222222,
              "#7201a8"
             ],
             [
              0.3333333333333333,
              "#9c179e"
             ],
             [
              0.4444444444444444,
              "#bd3786"
             ],
             [
              0.5555555555555556,
              "#d8576b"
             ],
             [
              0.6666666666666666,
              "#ed7953"
             ],
             [
              0.7777777777777778,
              "#fb9f3a"
             ],
             [
              0.8888888888888888,
              "#fdca26"
             ],
             [
              1,
              "#f0f921"
             ]
            ],
            "type": "histogram2dcontour"
           }
          ],
          "mesh3d": [
           {
            "colorbar": {
             "outlinewidth": 0,
             "ticks": ""
            },
            "type": "mesh3d"
           }
          ],
          "parcoords": [
           {
            "line": {
             "colorbar": {
              "outlinewidth": 0,
              "ticks": ""
             }
            },
            "type": "parcoords"
           }
          ],
          "pie": [
           {
            "automargin": true,
            "type": "pie"
           }
          ],
          "scatter": [
           {
            "fillpattern": {
             "fillmode": "overlay",
             "size": 10,
             "solidity": 0.2
            },
            "type": "scatter"
           }
          ],
          "scatter3d": [
           {
            "line": {
             "colorbar": {
              "outlinewidth": 0,
              "ticks": ""
             }
            },
            "marker": {
             "colorbar": {
              "outlinewidth": 0,
              "ticks": ""
             }
            },
            "type": "scatter3d"
           }
          ],
          "scattercarpet": [
           {
            "marker": {
             "colorbar": {
              "outlinewidth": 0,
              "ticks": ""
             }
            },
            "type": "scattercarpet"
           }
          ],
          "scattergeo": [
           {
            "marker": {
             "colorbar": {
              "outlinewidth": 0,
              "ticks": ""
             }
            },
            "type": "scattergeo"
           }
          ],
          "scattergl": [
           {
            "marker": {
             "colorbar": {
              "outlinewidth": 0,
              "ticks": ""
             }
            },
            "type": "scattergl"
           }
          ],
          "scattermapbox": [
           {
            "marker": {
             "colorbar": {
              "outlinewidth": 0,
              "ticks": ""
             }
            },
            "type": "scattermapbox"
           }
          ],
          "scatterpolar": [
           {
            "marker": {
             "colorbar": {
              "outlinewidth": 0,
              "ticks": ""
             }
            },
            "type": "scatterpolar"
           }
          ],
          "scatterpolargl": [
           {
            "marker": {
             "colorbar": {
              "outlinewidth": 0,
              "ticks": ""
             }
            },
            "type": "scatterpolargl"
           }
          ],
          "scatterternary": [
           {
            "marker": {
             "colorbar": {
              "outlinewidth": 0,
              "ticks": ""
             }
            },
            "type": "scatterternary"
           }
          ],
          "surface": [
           {
            "colorbar": {
             "outlinewidth": 0,
             "ticks": ""
            },
            "colorscale": [
             [
              0,
              "#0d0887"
             ],
             [
              0.1111111111111111,
              "#46039f"
             ],
             [
              0.2222222222222222,
              "#7201a8"
             ],
             [
              0.3333333333333333,
              "#9c179e"
             ],
             [
              0.4444444444444444,
              "#bd3786"
             ],
             [
              0.5555555555555556,
              "#d8576b"
             ],
             [
              0.6666666666666666,
              "#ed7953"
             ],
             [
              0.7777777777777778,
              "#fb9f3a"
             ],
             [
              0.8888888888888888,
              "#fdca26"
             ],
             [
              1,
              "#f0f921"
             ]
            ],
            "type": "surface"
           }
          ],
          "table": [
           {
            "cells": {
             "fill": {
              "color": "#EBF0F8"
             },
             "line": {
              "color": "white"
             }
            },
            "header": {
             "fill": {
              "color": "#C8D4E3"
             },
             "line": {
              "color": "white"
             }
            },
            "type": "table"
           }
          ]
         },
         "layout": {
          "annotationdefaults": {
           "arrowcolor": "#2a3f5f",
           "arrowhead": 0,
           "arrowwidth": 1
          },
          "autotypenumbers": "strict",
          "coloraxis": {
           "colorbar": {
            "outlinewidth": 0,
            "ticks": ""
           }
          },
          "colorscale": {
           "diverging": [
            [
             0,
             "#8e0152"
            ],
            [
             0.1,
             "#c51b7d"
            ],
            [
             0.2,
             "#de77ae"
            ],
            [
             0.3,
             "#f1b6da"
            ],
            [
             0.4,
             "#fde0ef"
            ],
            [
             0.5,
             "#f7f7f7"
            ],
            [
             0.6,
             "#e6f5d0"
            ],
            [
             0.7,
             "#b8e186"
            ],
            [
             0.8,
             "#7fbc41"
            ],
            [
             0.9,
             "#4d9221"
            ],
            [
             1,
             "#276419"
            ]
           ],
           "sequential": [
            [
             0,
             "#0d0887"
            ],
            [
             0.1111111111111111,
             "#46039f"
            ],
            [
             0.2222222222222222,
             "#7201a8"
            ],
            [
             0.3333333333333333,
             "#9c179e"
            ],
            [
             0.4444444444444444,
             "#bd3786"
            ],
            [
             0.5555555555555556,
             "#d8576b"
            ],
            [
             0.6666666666666666,
             "#ed7953"
            ],
            [
             0.7777777777777778,
             "#fb9f3a"
            ],
            [
             0.8888888888888888,
             "#fdca26"
            ],
            [
             1,
             "#f0f921"
            ]
           ],
           "sequentialminus": [
            [
             0,
             "#0d0887"
            ],
            [
             0.1111111111111111,
             "#46039f"
            ],
            [
             0.2222222222222222,
             "#7201a8"
            ],
            [
             0.3333333333333333,
             "#9c179e"
            ],
            [
             0.4444444444444444,
             "#bd3786"
            ],
            [
             0.5555555555555556,
             "#d8576b"
            ],
            [
             0.6666666666666666,
             "#ed7953"
            ],
            [
             0.7777777777777778,
             "#fb9f3a"
            ],
            [
             0.8888888888888888,
             "#fdca26"
            ],
            [
             1,
             "#f0f921"
            ]
           ]
          },
          "colorway": [
           "#636efa",
           "#EF553B",
           "#00cc96",
           "#ab63fa",
           "#FFA15A",
           "#19d3f3",
           "#FF6692",
           "#B6E880",
           "#FF97FF",
           "#FECB52"
          ],
          "font": {
           "color": "#2a3f5f"
          },
          "geo": {
           "bgcolor": "white",
           "lakecolor": "white",
           "landcolor": "#E5ECF6",
           "showlakes": true,
           "showland": true,
           "subunitcolor": "white"
          },
          "hoverlabel": {
           "align": "left"
          },
          "hovermode": "closest",
          "mapbox": {
           "style": "light"
          },
          "paper_bgcolor": "white",
          "plot_bgcolor": "#E5ECF6",
          "polar": {
           "angularaxis": {
            "gridcolor": "white",
            "linecolor": "white",
            "ticks": ""
           },
           "bgcolor": "#E5ECF6",
           "radialaxis": {
            "gridcolor": "white",
            "linecolor": "white",
            "ticks": ""
           }
          },
          "scene": {
           "xaxis": {
            "backgroundcolor": "#E5ECF6",
            "gridcolor": "white",
            "gridwidth": 2,
            "linecolor": "white",
            "showbackground": true,
            "ticks": "",
            "zerolinecolor": "white"
           },
           "yaxis": {
            "backgroundcolor": "#E5ECF6",
            "gridcolor": "white",
            "gridwidth": 2,
            "linecolor": "white",
            "showbackground": true,
            "ticks": "",
            "zerolinecolor": "white"
           },
           "zaxis": {
            "backgroundcolor": "#E5ECF6",
            "gridcolor": "white",
            "gridwidth": 2,
            "linecolor": "white",
            "showbackground": true,
            "ticks": "",
            "zerolinecolor": "white"
           }
          },
          "shapedefaults": {
           "line": {
            "color": "#2a3f5f"
           }
          },
          "ternary": {
           "aaxis": {
            "gridcolor": "white",
            "linecolor": "white",
            "ticks": ""
           },
           "baxis": {
            "gridcolor": "white",
            "linecolor": "white",
            "ticks": ""
           },
           "bgcolor": "#E5ECF6",
           "caxis": {
            "gridcolor": "white",
            "linecolor": "white",
            "ticks": ""
           }
          },
          "title": {
           "x": 0.05
          },
          "xaxis": {
           "automargin": true,
           "gridcolor": "white",
           "linecolor": "white",
           "ticks": "",
           "title": {
            "standoff": 15
           },
           "zerolinecolor": "white",
           "zerolinewidth": 2
          },
          "yaxis": {
           "automargin": true,
           "gridcolor": "white",
           "linecolor": "white",
           "ticks": "",
           "title": {
            "standoff": 15
           },
           "zerolinecolor": "white",
           "zerolinewidth": 2
          }
         }
        },
        "title": {
         "text": "ifa_meander antenna surface current in radiation mode"
        },
        "width": 800
       }
      }
     },
     "metadata": {},
     "output_type": "display_data"
    },
    {
     "name": "stdout",
     "output_type": "stream",
     "text": [
      "Simulation 43/76 | f = 868.00 MHz | S11 = -16.79 dB\n",
      "Simulation 44/76 | f = 872.00 MHz | S11 = -19.62 dB\n",
      "Simulation 45/76 | f = 876.00 MHz | S11 = -23.83 dB\n",
      "Simulation 46/76 | f = 880.00 MHz | S11 = -32.21 dB\n",
      "Simulation 47/76 | f = 884.00 MHz | S11 = -35.68 dB\n",
      "Simulation 48/76 | f = 888.00 MHz | S11 = -25.17 dB\n",
      "Simulation 49/76 | f = 892.00 MHz | S11 = -20.58 dB\n",
      "Simulation 50/76 | f = 896.00 MHz | S11 = -17.64 dB\n",
      "Simulation 51/76 | f = 900.00 MHz | S11 = -15.50 dB\n",
      "Simulation 52/76 | f = 904.00 MHz | S11 = -13.83 dB\n",
      "Simulation 53/76 | f = 908.00 MHz | S11 = -12.47 dB\n",
      "Simulation 54/76 | f = 912.00 MHz | S11 = -11.34 dB\n",
      "Simulation 55/76 | f = 916.00 MHz | S11 = -10.37 dB\n",
      "Simulation 56/76 | f = 920.00 MHz | S11 = -9.53 dB\n",
      "Simulation 57/76 | f = 924.00 MHz | S11 = -8.80 dB\n",
      "Simulation 58/76 | f = 928.00 MHz | S11 = -8.15 dB\n",
      "Simulation 59/76 | f = 932.00 MHz | S11 = -7.58 dB\n",
      "Simulation 60/76 | f = 936.00 MHz | S11 = -7.07 dB\n",
      "Simulation 61/76 | f = 940.00 MHz | S11 = -6.61 dB\n",
      "Simulation 62/76 | f = 944.00 MHz | S11 = -6.19 dB\n",
      "Simulation 63/76 | f = 948.00 MHz | S11 = -5.81 dB\n",
      "Simulation 64/76 | f = 952.00 MHz | S11 = -5.47 dB\n",
      "Simulation 65/76 | f = 956.00 MHz | S11 = -5.16 dB\n",
      "Simulation 66/76 | f = 960.00 MHz | S11 = -4.87 dB\n",
      "Simulation 67/76 | f = 964.00 MHz | S11 = -4.61 dB\n",
      "Simulation 68/76 | f = 968.00 MHz | S11 = -4.37 dB\n",
      "Simulation 69/76 | f = 972.00 MHz | S11 = -4.14 dB\n",
      "Simulation 70/76 | f = 976.00 MHz | S11 = -3.94 dB\n",
      "Simulation 71/76 | f = 980.00 MHz | S11 = -3.75 dB\n",
      "Simulation 72/76 | f = 984.00 MHz | S11 = -3.57 dB\n",
      "Simulation 73/76 | f = 988.00 MHz | S11 = -3.40 dB\n",
      "Simulation 74/76 | f = 992.00 MHz | S11 = -3.25 dB\n",
      "Simulation 75/76 | f = 996.00 MHz | S11 = -3.11 dB\n",
      "Simulation 76/76 | f = 1000.00 MHz | S11 = -2.97 dB\n"
     ]
    },
    {
     "data": {
      "application/vnd.plotly.v1+json": {
       "config": {
        "plotlyServerURL": "https://plot.ly"
       },
       "data": [
        {
         "hoverinfo": "text",
         "imag": [
          8.949601378706799,
          9.374731238121148,
          9.771557774775491,
          10.09000796054969,
          10.248768874532256,
          10.127010885984273,
          9.569296738989674,
          8.42469278235425,
          6.635207709984498,
          4.337608219284593,
          1.8722441262043148,
          -0.3636191196266293,
          -2.104474414687179,
          -3.284600089986363,
          -3.97808137387969,
          -4.309090137719304,
          -4.39513264697898,
          -4.326714112870976,
          -4.166702428554652,
          -3.9562994093305366,
          -3.7215399057417056,
          -3.4784269387897178,
          -3.236527049676746,
          -3.0013486979444286,
          -2.7758718127814013,
          -2.5615177971404894,
          -2.3587605519406396,
          -2.167510037524776,
          -1.9873523765582375,
          -1.8176995368238338,
          -1.6578819578653805,
          -1.5072051220083211,
          -1.3649833259515467,
          -1.230559052328992,
          -1.1033132837019906,
          -0.9826701679958555,
          -0.868098215064346,
          -0.7591094183511341,
          -0.6552571911135529,
          -0.5561336814812062,
          -0.4613668204964707,
          -0.3706173213625392,
          -0.19995981301027502,
          -0.11951168427840636,
          -0.04199574626111588,
          0.0328036139664126,
          0.10508394462848988,
          0.17502648930501516,
          0.24279777110933815,
          0.3085510161102006,
          0.3724274310296287,
          0.434557349616116,
          0.4950612611600821,
          0.5540507335463741,
          0.6116292421228015,
          0.667892914566081,
          0.722931200884641,
          0.7768274767269777,
          0.8296595872755613,
          0.8815003382032187,
          0.93241793944419,
          0.9824764068861483,
          1.031735926515284,
          1.080253185034793,
          1.1280816705263106,
          1.1752719463251553,
          1.2218719009256584,
          1.2679269764245173,
          1.3134803777339,
          1.3585732645544146,
          1.403244927885562,
          1.447532952661842,
          1.4914733679380567,
          1.5351007858992727,
          1.5784485308432046
         ],
         "marker": {
          "color": "blue",
          "size": 10
         },
         "mode": "markers+lines",
         "name": "Impedance Points",
         "real": [
          3.3632893506283836,
          4.060866521787724,
          4.93187111574112,
          6.013361595703279,
          7.335272951065522,
          8.89964715809806,
          10.644594519874307,
          12.40127004729281,
          13.881709100488624,
          14.75644750129202,
          14.820961516404997,
          14.12011841148714,
          12.902591560936507,
          11.463849248511726,
          10.027005879687238,
          8.714577340739554,
          7.572730539628177,
          6.604276457560442,
          5.792514951962761,
          5.114601920667526,
          4.547866019940243,
          4.072275148170034,
          3.671056303314532,
          3.3305332138572106,
          3.039693834176413,
          2.7897135054618962,
          2.5735219919911105,
          2.3854405361798086,
          2.2208892234809547,
          2.076155665846105,
          1.9482139032778354,
          1.8345831459465334,
          1.7332176069388003,
          1.642420403106572,
          1.5607760312838608,
          1.4870971816402598,
          1.4203826394984993,
          1.3597837913741182,
          1.3045778349929877,
          1.2541462367950085,
          1.2079573170283189,
          1.1655520979785765,
          1.0905530792531481,
          1.0573107507892376,
          1.0265407552809793,
          0.9980100357730096,
          0.9715129705219923,
          0.9468675850214276,
          0.9239123592739231,
          0.9025035263481246,
          0.8825127781047787,
          0.8638253097367824,
          0.846338147342056,
          0.8299587128198492,
          0.8146035884868467,
          0.8001974503579526,
          0.7866721443482915,
          0.7739658839803225,
          0.7620225517169785,
          0.750791088943958,
          0.740224962015157,
          0.730281693750621,
          0.7209224514144791,
          0.7121116835634388,
          0.7038167992941108,
          0.6960078843694746,
          0.6886574495054514,
          0.6817402067716496,
          0.6752328706297949,
          0.6691139806157019,
          0.6633637430798663,
          0.657963889750818,
          0.6528975511834717,
          0.6481491434096824,
          0.643704266327413
         ],
         "text": [
          "Z = 168.164+447.480j at 700.0 MHz",
          "Z = 203.043+468.737j at 704.0 MHz",
          "Z = 246.594+488.578j at 708.0 MHz",
          "Z = 300.668+504.500j at 712.0 MHz",
          "Z = 366.764+512.438j at 716.0 MHz",
          "Z = 444.982+506.351j at 720.0 MHz",
          "Z = 532.230+478.465j at 724.0 MHz",
          "Z = 620.064+421.235j at 728.0 MHz",
          "Z = 694.085+331.760j at 732.0 MHz",
          "Z = 737.822+216.880j at 736.0 MHz",
          "Z = 741.048+93.612j at 740.0 MHz",
          "Z = 706.006-18.181j at 744.0 MHz",
          "Z = 645.130-105.224j at 748.0 MHz",
          "Z = 573.192-164.230j at 752.0 MHz",
          "Z = 501.350-198.904j at 756.0 MHz",
          "Z = 435.729-215.455j at 760.0 MHz",
          "Z = 378.637-219.757j at 764.0 MHz",
          "Z = 330.214-216.336j at 768.0 MHz",
          "Z = 289.626-208.335j at 772.0 MHz",
          "Z = 255.730-197.815j at 776.0 MHz",
          "Z = 227.393-186.077j at 780.0 MHz",
          "Z = 203.614-173.921j at 784.0 MHz",
          "Z = 183.553-161.826j at 788.0 MHz",
          "Z = 166.527-150.067j at 792.0 MHz",
          "Z = 151.985-138.794j at 796.0 MHz",
          "Z = 139.486-128.076j at 800.0 MHz",
          "Z = 128.676-117.938j at 804.0 MHz",
          "Z = 119.272-108.376j at 808.0 MHz",
          "Z = 111.044-99.368j at 812.0 MHz",
          "Z = 103.808-90.885j at 816.0 MHz",
          "Z = 97.411-82.894j at 820.0 MHz",
          "Z = 91.729-75.360j at 824.0 MHz",
          "Z = 86.661-68.249j at 828.0 MHz",
          "Z = 82.121-61.528j at 832.0 MHz",
          "Z = 78.039-55.166j at 836.0 MHz",
          "Z = 74.355-49.134j at 840.0 MHz",
          "Z = 71.019-43.405j at 844.0 MHz",
          "Z = 67.989-37.955j at 848.0 MHz",
          "Z = 65.229-32.763j at 852.0 MHz",
          "Z = 62.707-27.807j at 856.0 MHz",
          "Z = 60.398-23.068j at 860.0 MHz",
          "Z = 58.278-18.531j at 864.0 MHz",
          "Z = 54.528-9.998j at 872.0 MHz",
          "Z = 52.866-5.976j at 876.0 MHz",
          "Z = 51.327-2.100j at 880.0 MHz",
          "Z = 49.901+1.640j at 884.0 MHz",
          "Z = 48.576+5.254j at 888.0 MHz",
          "Z = 47.343+8.751j at 892.0 MHz",
          "Z = 46.196+12.140j at 896.0 MHz",
          "Z = 45.125+15.428j at 900.0 MHz",
          "Z = 44.126+18.621j at 904.0 MHz",
          "Z = 43.191+21.728j at 908.0 MHz",
          "Z = 42.317+24.753j at 912.0 MHz",
          "Z = 41.498+27.703j at 916.0 MHz",
          "Z = 40.730+30.581j at 920.0 MHz",
          "Z = 40.010+33.395j at 924.0 MHz",
          "Z = 39.334+36.147j at 928.0 MHz",
          "Z = 38.698+38.841j at 932.0 MHz",
          "Z = 38.101+41.483j at 936.0 MHz",
          "Z = 37.540+44.075j at 940.0 MHz",
          "Z = 37.011+46.621j at 944.0 MHz",
          "Z = 36.514+49.124j at 948.0 MHz",
          "Z = 36.046+51.587j at 952.0 MHz",
          "Z = 35.606+54.013j at 956.0 MHz",
          "Z = 35.191+56.404j at 960.0 MHz",
          "Z = 34.800+58.764j at 964.0 MHz",
          "Z = 34.433+61.094j at 968.0 MHz",
          "Z = 34.087+63.396j at 972.0 MHz",
          "Z = 33.762+65.674j at 976.0 MHz",
          "Z = 33.456+67.929j at 980.0 MHz",
          "Z = 33.168+70.162j at 984.0 MHz",
          "Z = 32.898+72.377j at 988.0 MHz",
          "Z = 32.645+74.574j at 992.0 MHz",
          "Z = 32.407+76.755j at 996.0 MHz",
          "Z = 32.185+78.922j at 1000.0 MHz"
         ],
         "type": "scattersmith"
        },
        {
         "hoverinfo": "text",
         "imag": [
          -0.28357576031351406
         ],
         "marker": {
          "color": "red",
          "size": 14,
          "symbol": "circle"
         },
         "mode": "markers",
         "name": "Impedance at fC=868.0 MHz",
         "real": [
          1.126532745132749
         ],
         "text": [
          "Z = 56.327-14.179j at 868.0 MHz"
         ],
         "type": "scattersmith"
        }
       ],
       "layout": {
        "showlegend": true,
        "template": {
         "data": {
          "bar": [
           {
            "error_x": {
             "color": "#2a3f5f"
            },
            "error_y": {
             "color": "#2a3f5f"
            },
            "marker": {
             "line": {
              "color": "#E5ECF6",
              "width": 0.5
             },
             "pattern": {
              "fillmode": "overlay",
              "size": 10,
              "solidity": 0.2
             }
            },
            "type": "bar"
           }
          ],
          "barpolar": [
           {
            "marker": {
             "line": {
              "color": "#E5ECF6",
              "width": 0.5
             },
             "pattern": {
              "fillmode": "overlay",
              "size": 10,
              "solidity": 0.2
             }
            },
            "type": "barpolar"
           }
          ],
          "carpet": [
           {
            "aaxis": {
             "endlinecolor": "#2a3f5f",
             "gridcolor": "white",
             "linecolor": "white",
             "minorgridcolor": "white",
             "startlinecolor": "#2a3f5f"
            },
            "baxis": {
             "endlinecolor": "#2a3f5f",
             "gridcolor": "white",
             "linecolor": "white",
             "minorgridcolor": "white",
             "startlinecolor": "#2a3f5f"
            },
            "type": "carpet"
           }
          ],
          "choropleth": [
           {
            "colorbar": {
             "outlinewidth": 0,
             "ticks": ""
            },
            "type": "choropleth"
           }
          ],
          "contour": [
           {
            "colorbar": {
             "outlinewidth": 0,
             "ticks": ""
            },
            "colorscale": [
             [
              0,
              "#0d0887"
             ],
             [
              0.1111111111111111,
              "#46039f"
             ],
             [
              0.2222222222222222,
              "#7201a8"
             ],
             [
              0.3333333333333333,
              "#9c179e"
             ],
             [
              0.4444444444444444,
              "#bd3786"
             ],
             [
              0.5555555555555556,
              "#d8576b"
             ],
             [
              0.6666666666666666,
              "#ed7953"
             ],
             [
              0.7777777777777778,
              "#fb9f3a"
             ],
             [
              0.8888888888888888,
              "#fdca26"
             ],
             [
              1,
              "#f0f921"
             ]
            ],
            "type": "contour"
           }
          ],
          "contourcarpet": [
           {
            "colorbar": {
             "outlinewidth": 0,
             "ticks": ""
            },
            "type": "contourcarpet"
           }
          ],
          "heatmap": [
           {
            "colorbar": {
             "outlinewidth": 0,
             "ticks": ""
            },
            "colorscale": [
             [
              0,
              "#0d0887"
             ],
             [
              0.1111111111111111,
              "#46039f"
             ],
             [
              0.2222222222222222,
              "#7201a8"
             ],
             [
              0.3333333333333333,
              "#9c179e"
             ],
             [
              0.4444444444444444,
              "#bd3786"
             ],
             [
              0.5555555555555556,
              "#d8576b"
             ],
             [
              0.6666666666666666,
              "#ed7953"
             ],
             [
              0.7777777777777778,
              "#fb9f3a"
             ],
             [
              0.8888888888888888,
              "#fdca26"
             ],
             [
              1,
              "#f0f921"
             ]
            ],
            "type": "heatmap"
           }
          ],
          "heatmapgl": [
           {
            "colorbar": {
             "outlinewidth": 0,
             "ticks": ""
            },
            "colorscale": [
             [
              0,
              "#0d0887"
             ],
             [
              0.1111111111111111,
              "#46039f"
             ],
             [
              0.2222222222222222,
              "#7201a8"
             ],
             [
              0.3333333333333333,
              "#9c179e"
             ],
             [
              0.4444444444444444,
              "#bd3786"
             ],
             [
              0.5555555555555556,
              "#d8576b"
             ],
             [
              0.6666666666666666,
              "#ed7953"
             ],
             [
              0.7777777777777778,
              "#fb9f3a"
             ],
             [
              0.8888888888888888,
              "#fdca26"
             ],
             [
              1,
              "#f0f921"
             ]
            ],
            "type": "heatmapgl"
           }
          ],
          "histogram": [
           {
            "marker": {
             "pattern": {
              "fillmode": "overlay",
              "size": 10,
              "solidity": 0.2
             }
            },
            "type": "histogram"
           }
          ],
          "histogram2d": [
           {
            "colorbar": {
             "outlinewidth": 0,
             "ticks": ""
            },
            "colorscale": [
             [
              0,
              "#0d0887"
             ],
             [
              0.1111111111111111,
              "#46039f"
             ],
             [
              0.2222222222222222,
              "#7201a8"
             ],
             [
              0.3333333333333333,
              "#9c179e"
             ],
             [
              0.4444444444444444,
              "#bd3786"
             ],
             [
              0.5555555555555556,
              "#d8576b"
             ],
             [
              0.6666666666666666,
              "#ed7953"
             ],
             [
              0.7777777777777778,
              "#fb9f3a"
             ],
             [
              0.8888888888888888,
              "#fdca26"
             ],
             [
              1,
              "#f0f921"
             ]
            ],
            "type": "histogram2d"
           }
          ],
          "histogram2dcontour": [
           {
            "colorbar": {
             "outlinewidth": 0,
             "ticks": ""
            },
            "colorscale": [
             [
              0,
              "#0d0887"
             ],
             [
              0.1111111111111111,
              "#46039f"
             ],
             [
              0.2222222222222222,
              "#7201a8"
             ],
             [
              0.3333333333333333,
              "#9c179e"
             ],
             [
              0.4444444444444444,
              "#bd3786"
             ],
             [
              0.5555555555555556,
              "#d8576b"
             ],
             [
              0.6666666666666666,
              "#ed7953"
             ],
             [
              0.7777777777777778,
              "#fb9f3a"
             ],
             [
              0.8888888888888888,
              "#fdca26"
             ],
             [
              1,
              "#f0f921"
             ]
            ],
            "type": "histogram2dcontour"
           }
          ],
          "mesh3d": [
           {
            "colorbar": {
             "outlinewidth": 0,
             "ticks": ""
            },
            "type": "mesh3d"
           }
          ],
          "parcoords": [
           {
            "line": {
             "colorbar": {
              "outlinewidth": 0,
              "ticks": ""
             }
            },
            "type": "parcoords"
           }
          ],
          "pie": [
           {
            "automargin": true,
            "type": "pie"
           }
          ],
          "scatter": [
           {
            "fillpattern": {
             "fillmode": "overlay",
             "size": 10,
             "solidity": 0.2
            },
            "type": "scatter"
           }
          ],
          "scatter3d": [
           {
            "line": {
             "colorbar": {
              "outlinewidth": 0,
              "ticks": ""
             }
            },
            "marker": {
             "colorbar": {
              "outlinewidth": 0,
              "ticks": ""
             }
            },
            "type": "scatter3d"
           }
          ],
          "scattercarpet": [
           {
            "marker": {
             "colorbar": {
              "outlinewidth": 0,
              "ticks": ""
             }
            },
            "type": "scattercarpet"
           }
          ],
          "scattergeo": [
           {
            "marker": {
             "colorbar": {
              "outlinewidth": 0,
              "ticks": ""
             }
            },
            "type": "scattergeo"
           }
          ],
          "scattergl": [
           {
            "marker": {
             "colorbar": {
              "outlinewidth": 0,
              "ticks": ""
             }
            },
            "type": "scattergl"
           }
          ],
          "scattermapbox": [
           {
            "marker": {
             "colorbar": {
              "outlinewidth": 0,
              "ticks": ""
             }
            },
            "type": "scattermapbox"
           }
          ],
          "scatterpolar": [
           {
            "marker": {
             "colorbar": {
              "outlinewidth": 0,
              "ticks": ""
             }
            },
            "type": "scatterpolar"
           }
          ],
          "scatterpolargl": [
           {
            "marker": {
             "colorbar": {
              "outlinewidth": 0,
              "ticks": ""
             }
            },
            "type": "scatterpolargl"
           }
          ],
          "scatterternary": [
           {
            "marker": {
             "colorbar": {
              "outlinewidth": 0,
              "ticks": ""
             }
            },
            "type": "scatterternary"
           }
          ],
          "surface": [
           {
            "colorbar": {
             "outlinewidth": 0,
             "ticks": ""
            },
            "colorscale": [
             [
              0,
              "#0d0887"
             ],
             [
              0.1111111111111111,
              "#46039f"
             ],
             [
              0.2222222222222222,
              "#7201a8"
             ],
             [
              0.3333333333333333,
              "#9c179e"
             ],
             [
              0.4444444444444444,
              "#bd3786"
             ],
             [
              0.5555555555555556,
              "#d8576b"
             ],
             [
              0.6666666666666666,
              "#ed7953"
             ],
             [
              0.7777777777777778,
              "#fb9f3a"
             ],
             [
              0.8888888888888888,
              "#fdca26"
             ],
             [
              1,
              "#f0f921"
             ]
            ],
            "type": "surface"
           }
          ],
          "table": [
           {
            "cells": {
             "fill": {
              "color": "#EBF0F8"
             },
             "line": {
              "color": "white"
             }
            },
            "header": {
             "fill": {
              "color": "#C8D4E3"
             },
             "line": {
              "color": "white"
             }
            },
            "type": "table"
           }
          ]
         },
         "layout": {
          "annotationdefaults": {
           "arrowcolor": "#2a3f5f",
           "arrowhead": 0,
           "arrowwidth": 1
          },
          "autotypenumbers": "strict",
          "coloraxis": {
           "colorbar": {
            "outlinewidth": 0,
            "ticks": ""
           }
          },
          "colorscale": {
           "diverging": [
            [
             0,
             "#8e0152"
            ],
            [
             0.1,
             "#c51b7d"
            ],
            [
             0.2,
             "#de77ae"
            ],
            [
             0.3,
             "#f1b6da"
            ],
            [
             0.4,
             "#fde0ef"
            ],
            [
             0.5,
             "#f7f7f7"
            ],
            [
             0.6,
             "#e6f5d0"
            ],
            [
             0.7,
             "#b8e186"
            ],
            [
             0.8,
             "#7fbc41"
            ],
            [
             0.9,
             "#4d9221"
            ],
            [
             1,
             "#276419"
            ]
           ],
           "sequential": [
            [
             0,
             "#0d0887"
            ],
            [
             0.1111111111111111,
             "#46039f"
            ],
            [
             0.2222222222222222,
             "#7201a8"
            ],
            [
             0.3333333333333333,
             "#9c179e"
            ],
            [
             0.4444444444444444,
             "#bd3786"
            ],
            [
             0.5555555555555556,
             "#d8576b"
            ],
            [
             0.6666666666666666,
             "#ed7953"
            ],
            [
             0.7777777777777778,
             "#fb9f3a"
            ],
            [
             0.8888888888888888,
             "#fdca26"
            ],
            [
             1,
             "#f0f921"
            ]
           ],
           "sequentialminus": [
            [
             0,
             "#0d0887"
            ],
            [
             0.1111111111111111,
             "#46039f"
            ],
            [
             0.2222222222222222,
             "#7201a8"
            ],
            [
             0.3333333333333333,
             "#9c179e"
            ],
            [
             0.4444444444444444,
             "#bd3786"
            ],
            [
             0.5555555555555556,
             "#d8576b"
            ],
            [
             0.6666666666666666,
             "#ed7953"
            ],
            [
             0.7777777777777778,
             "#fb9f3a"
            ],
            [
             0.8888888888888888,
             "#fdca26"
            ],
            [
             1,
             "#f0f921"
            ]
           ]
          },
          "colorway": [
           "#636efa",
           "#EF553B",
           "#00cc96",
           "#ab63fa",
           "#FFA15A",
           "#19d3f3",
           "#FF6692",
           "#B6E880",
           "#FF97FF",
           "#FECB52"
          ],
          "font": {
           "color": "#2a3f5f"
          },
          "geo": {
           "bgcolor": "white",
           "lakecolor": "white",
           "landcolor": "#E5ECF6",
           "showlakes": true,
           "showland": true,
           "subunitcolor": "white"
          },
          "hoverlabel": {
           "align": "left"
          },
          "hovermode": "closest",
          "mapbox": {
           "style": "light"
          },
          "paper_bgcolor": "white",
          "plot_bgcolor": "#E5ECF6",
          "polar": {
           "angularaxis": {
            "gridcolor": "white",
            "linecolor": "white",
            "ticks": ""
           },
           "bgcolor": "#E5ECF6",
           "radialaxis": {
            "gridcolor": "white",
            "linecolor": "white",
            "ticks": ""
           }
          },
          "scene": {
           "xaxis": {
            "backgroundcolor": "#E5ECF6",
            "gridcolor": "white",
            "gridwidth": 2,
            "linecolor": "white",
            "showbackground": true,
            "ticks": "",
            "zerolinecolor": "white"
           },
           "yaxis": {
            "backgroundcolor": "#E5ECF6",
            "gridcolor": "white",
            "gridwidth": 2,
            "linecolor": "white",
            "showbackground": true,
            "ticks": "",
            "zerolinecolor": "white"
           },
           "zaxis": {
            "backgroundcolor": "#E5ECF6",
            "gridcolor": "white",
            "gridwidth": 2,
            "linecolor": "white",
            "showbackground": true,
            "ticks": "",
            "zerolinecolor": "white"
           }
          },
          "shapedefaults": {
           "line": {
            "color": "#2a3f5f"
           }
          },
          "ternary": {
           "aaxis": {
            "gridcolor": "white",
            "linecolor": "white",
            "ticks": ""
           },
           "baxis": {
            "gridcolor": "white",
            "linecolor": "white",
            "ticks": ""
           },
           "bgcolor": "#E5ECF6",
           "caxis": {
            "gridcolor": "white",
            "linecolor": "white",
            "ticks": ""
           }
          },
          "title": {
           "x": 0.05
          },
          "xaxis": {
           "automargin": true,
           "gridcolor": "white",
           "linecolor": "white",
           "ticks": "",
           "title": {
            "standoff": 15
           },
           "zerolinecolor": "white",
           "zerolinewidth": 2
          },
          "yaxis": {
           "automargin": true,
           "gridcolor": "white",
           "linecolor": "white",
           "ticks": "",
           "title": {
            "standoff": 15
           },
           "zerolinecolor": "white",
           "zerolinewidth": 2
          }
         }
        },
        "title": {
         "text": "Abaque de Smith"
        }
       }
      }
     },
     "metadata": {},
     "output_type": "display_data"
    },
    {
     "name": "stdout",
     "output_type": "stream",
     "text": [
      "\n",
      "📡 Résultats de simulation :\n",
      "→ Fréquence de résonance = 884.00 MHz\n",
      "→ Impédance à f_res      = 49.90+1.64j Ω\n",
      "\n",
      "S11 en dB : [ -0.63339136  -0.6707838   -0.71077624  -0.75358484  -0.79944677\n",
      "  -0.84862255  -0.90139865  -0.95809038  -1.0190452   -1.08464637\n",
      "  -1.15531709  -1.23152519  -1.31378838  -1.40268018  -1.49883664\n",
      "  -1.60296394  -1.71584703  -1.83835945  -1.9714745   -2.11627808\n",
      "  -2.27398346  -2.44594829  -2.63369448  -2.83893153  -3.06358413\n",
      "  -3.3098253   -3.58011669  -3.87725823  -4.20445048  -4.56537427\n",
      "  -4.96429448  -5.40619805  -5.89698154  -6.44371193  -7.05499816\n",
      "  -7.74153489  -8.51692246  -9.39894758 -10.41166905 -11.58899418\n",
      " -12.98122486 -14.66810716 -16.78806136 -19.61576666 -23.83351324\n",
      " -32.21342419 -35.67873729 -25.16961083 -20.57677595 -17.64059557\n",
      " -15.49941258 -13.82864093 -12.4702507  -11.33510695 -10.36780824\n",
      "  -9.53144456  -8.80010553  -8.15484515  -7.58135043  -7.0685175\n",
      "  -6.60754133  -6.19131125  -5.8139963   -5.47075257  -5.1575115\n",
      "  -4.87082341  -4.6077394   -4.36572083  -4.1425687   -3.93636783\n",
      "  -3.74544218  -3.56831868  -3.40369758  -3.2504281   -3.10748802\n",
      "  -2.97396666]\n",
      "Seuil pour la bande passante à -3 dB : -32.68 dB\n",
      "Indices où S11 <= -32.68 dB : [46]\n",
      "Impossible de déterminer la bande passante à -3 dB.\n"
     ]
    },
    {
     "data": {
      "image/png": "[encoded data removed]",
      "text/plain": [
       "<Figure size 700x432.624 with 1 Axes>"
      ]
     },
     "metadata": {},
     "output_type": "display_data"
    },
    {
     "name": "stdout",
     "output_type": "stream",
     "text": [
      "\n",
      "Ratio = 1.0184331797235022\n",
      "\n",
      "\n",
      "We are within 2% of fc!\n",
      "\n",
      "\n",
      "------------------------------------------------------Iteration N°3------------------------------------------------------\n",
      "\n",
      "distance meandres = 5.400 mm\n",
      "\n",
      "Number of meanders = 2\n",
      "\n",
      "New distance meandres = 8.100 mm\n",
      "Largeur de piste ifa = 5.400 mm\n",
      "position feed = 30.393 mm\n",
      "\n",
      "Simulation 1/76 | f = 700.00 MHz | S11 = -0.65 dB\n",
      "Simulation 2/76 | f = 704.00 MHz | S11 = -0.69 dB\n",
      "Simulation 3/76 | f = 708.00 MHz | S11 = -0.73 dB\n",
      "Simulation 4/76 | f = 712.00 MHz | S11 = -0.78 dB\n",
      "Simulation 5/76 | f = 716.00 MHz | S11 = -0.83 dB\n",
      "Simulation 6/76 | f = 720.00 MHz | S11 = -0.88 dB\n",
      "Simulation 7/76 | f = 724.00 MHz | S11 = -0.93 dB\n",
      "Simulation 8/76 | f = 728.00 MHz | S11 = -0.99 dB\n",
      "Simulation 9/76 | f = 732.00 MHz | S11 = -1.06 dB\n",
      "Simulation 10/76 | f = 736.00 MHz | S11 = -1.13 dB\n",
      "Simulation 11/76 | f = 740.00 MHz | S11 = -1.20 dB\n",
      "Simulation 12/76 | f = 744.00 MHz | S11 = -1.28 dB\n",
      "Simulation 13/76 | f = 748.00 MHz | S11 = -1.37 dB\n",
      "Simulation 14/76 | f = 752.00 MHz | S11 = -1.46 dB\n",
      "Simulation 15/76 | f = 756.00 MHz | S11 = -1.57 dB\n",
      "Simulation 16/76 | f = 760.00 MHz | S11 = -1.68 dB\n",
      "Simulation 17/76 | f = 764.00 MHz | S11 = -1.80 dB\n",
      "Simulation 18/76 | f = 768.00 MHz | S11 = -1.93 dB\n",
      "Simulation 19/76 | f = 772.00 MHz | S11 = -2.07 dB\n",
      "Simulation 20/76 | f = 776.00 MHz | S11 = -2.22 dB\n",
      "Simulation 21/76 | f = 780.00 MHz | S11 = -2.39 dB\n",
      "Simulation 22/76 | f = 784.00 MHz | S11 = -2.58 dB\n",
      "Simulation 23/76 | f = 788.00 MHz | S11 = -2.78 dB\n",
      "Simulation 24/76 | f = 792.00 MHz | S11 = -3.00 dB\n",
      "Simulation 25/76 | f = 796.00 MHz | S11 = -3.24 dB\n",
      "Simulation 26/76 | f = 800.00 MHz | S11 = -3.51 dB\n",
      "Simulation 27/76 | f = 804.00 MHz | S11 = -3.80 dB\n",
      "Simulation 28/76 | f = 808.00 MHz | S11 = -4.12 dB\n",
      "Simulation 29/76 | f = 812.00 MHz | S11 = -4.47 dB\n",
      "Simulation 30/76 | f = 816.00 MHz | S11 = -4.86 dB\n",
      "Simulation 31/76 | f = 820.00 MHz | S11 = -5.29 dB\n",
      "Simulation 32/76 | f = 824.00 MHz | S11 = -5.77 dB\n",
      "Simulation 33/76 | f = 828.00 MHz | S11 = -6.31 dB\n",
      "Simulation 34/76 | f = 832.00 MHz | S11 = -6.90 dB\n",
      "Simulation 35/76 | f = 836.00 MHz | S11 = -7.57 dB\n",
      "Simulation 36/76 | f = 840.00 MHz | S11 = -8.33 dB\n",
      "Simulation 37/76 | f = 844.00 MHz | S11 = -9.18 dB\n",
      "Simulation 38/76 | f = 848.00 MHz | S11 = -10.17 dB\n",
      "Simulation 39/76 | f = 852.00 MHz | S11 = -11.30 dB\n",
      "Simulation 40/76 | f = 856.00 MHz | S11 = -12.64 dB\n",
      "Simulation 41/76 | f = 860.00 MHz | S11 = -14.25 dB\n",
      "Simulation 42/76 | f = 864.00 MHz | S11 = -16.25 dB\n"
     ]
    },
    {
     "data": {
      "application/vnd.plotly.v1+json": {
       "config": {
        "plotlyServerURL": "https://plot.ly"
       },
       "data": [
        {
         "facecolor": [
          "rgb(12, 181, 226)",
          "rgb(19, 196, 210)",
          "rgb(201, 245, 0)",
          "rgb(102, 255, 68)",
          "rgb(134, 0, 102)",
          "rgb(94, 0, 131)",
          "rgb(139, 0, 98)",
          "rgb(6, 166, 241)",
          "rgb(99, 0, 127)",
          "rgb(97, 0, 129)",
          "rgb(66, 0, 152)",
          "rgb(165, 252, 0)",
          "rgb(6, 166, 241)",
          "rgb(0, 30, 255)",
          "rgb(74, 0, 145)",
          "rgb(50, 0, 163)",
          "rgb(255, 0, 0)",
          "rgb(0, 62, 255)",
          "rgb(118, 0, 114)",
          "rgb(81, 0, 141)",
          "rgb(87, 255, 89)",
          "rgb(71, 0, 148)",
          "rgb(255, 141, 0)",
          "rgb(255, 225, 0)",
          "rgb(255, 72, 0)",
          "rgb(102, 255, 69)",
          "rgb(255, 48, 0)",
          "rgb(255, 14, 0)",
          "rgb(107, 0, 122)",
          "rgb(31, 224, 182)",
          "rgb(255, 4, 0)",
          "rgb(119, 0, 113)",
          "rgb(66, 0, 152)",
          "rgb(127, 0, 107)",
          "rgb(137, 0, 100)",
          "rgb(117, 0, 115)",
          "rgb(82, 0, 140)",
          "rgb(0, 5, 212)",
          "rgb(112, 0, 118)",
          "rgb(143, 0, 95)",
          "rgb(46, 0, 166)",
          "rgb(25, 0, 182)",
          "rgb(0, 13, 228)",
          "rgb(45, 0, 167)",
          "rgb(0, 8, 217)",
          "rgb(150, 0, 90)",
          "rgb(115, 255, 51)"
         ],
         "i": [
          7,
          20,
          2,
          0,
          31,
          31,
          32,
          15,
          33,
          35,
          35,
          25,
          24,
          35,
          23,
          35,
          21,
          24,
          34,
          34,
          25,
          29,
          13,
          12,
          13,
          2,
          13,
          8,
          34,
          1,
          21,
          36,
          34,
          31,
          18,
          33,
          31,
          38,
          28,
          32,
          16,
          29,
          3,
          35,
          38,
          19,
          37
         ],
         "j": [
          14,
          14,
          1,
          1,
          33,
          32,
          33,
          30,
          34,
          37,
          36,
          9,
          22,
          30,
          10,
          15,
          26,
          23,
          37,
          16,
          22,
          36,
          9,
          9,
          8,
          3,
          26,
          26,
          36,
          14,
          2,
          34,
          38,
          34,
          33,
          17,
          28,
          27,
          32,
          19,
          38,
          30,
          38,
          0,
          3,
          33,
          0
         ],
         "k": [
          15,
          7,
          20,
          2,
          32,
          28,
          19,
          7,
          17,
          36,
          29,
          22,
          23,
          15,
          11,
          0,
          2,
          11,
          38,
          17,
          24,
          31,
          12,
          25,
          9,
          0,
          8,
          21,
          37,
          20,
          20,
          31,
          16,
          33,
          6,
          6,
          29,
          5,
          4,
          4,
          5,
          35,
          37,
          37,
          27,
          18,
          3
         ],
         "name": "",
         "type": "mesh3d",
         "x": [
          0,
          0.0081,
          0.0081,
          0,
          -0.065,
          0,
          -0.065,
          0.0135,
          0.0135,
          0.0216,
          0.0216,
          0.027,
          0.027,
          0.0081,
          0.0081,
          0,
          -0.0216666666666667,
          -0.04333333333333338,
          -0.065,
          -0.065,
          0.0135,
          0.0135,
          0.0216,
          0.0216,
          0.027,
          0.027,
          0.0081,
          0,
          -0.04537500000000005,
          -0.02575000000000013,
          -0.006125000000000082,
          -0.03799753951190744,
          -0.05291811070492492,
          -0.05121639898268675,
          -0.02926077458164659,
          -0.01144769182307849,
          -0.02346495280218621,
          -0.01245623304384913,
          -0.0105639457153604
         ],
         "y": [
          0.03309305405450377,
          0.03309305405450377,
          0.02769305405450377,
          0.02769305405450377,
          0.055,
          0,
          0,
          0.055,
          0.005400000000000001,
          0.005400000000000001,
          0.055,
          0.055,
          8.673617379884035e-19,
          8.673617379884035e-19,
          0.0496,
          0.0496,
          0,
          0,
          0.01833333333333335,
          0.03666666666666669,
          0.0384666666666667,
          0.02193333333333334,
          0.0219333333333333,
          0.03846666666666666,
          0.03666666666666665,
          0.01833333333333331,
          0.01384652702725189,
          0.0138465270272519,
          0.055,
          0.055,
          0.055,
          0.03816833890346907,
          0.04135414528657561,
          0.02193791965550394,
          0.0190496203915545,
          0.04279179069402974,
          0.03666834808718039,
          0.02903897254207906,
          0.01493802900256487
         ],
         "z": [
          0,
          0,
          0,
          0,
          0,
          0,
          0,
          0,
          0,
          0,
          0,
          0,
          0,
          0,
          0,
          0,
          0,
          0,
          0,
          0,
          0,
          0,
          0,
          0,
          0,
          0,
          0,
          0,
          0,
          0,
          0,
          0,
          0,
          0,
          0,
          0,
          0,
          0,
          0
         ]
        },
        {
         "line": {
          "color": "rgb(50, 50, 50)",
          "width": 1.5
         },
         "mode": "lines",
         "showlegend": false,
         "type": "scatter3d",
         "x": [
          0.0135,
          0.0081,
          0,
          0.0135,
          null,
          0.0135,
          0.0081,
          0.0135,
          0.0135,
          null,
          0.0081,
          0.0081,
          0.0135,
          0.0081,
          null,
          0,
          0.0081,
          0.0081,
          0,
          null,
          -0.03799753951190744,
          -0.05121639898268675,
          -0.05291811070492492,
          -0.03799753951190744,
          null,
          -0.03799753951190744,
          -0.05291811070492492,
          -0.04537500000000005,
          -0.03799753951190744,
          null,
          -0.05291811070492492,
          -0.05121639898268675,
          -0.065,
          -0.05291811070492492,
          null,
          0,
          -0.006125000000000082,
          0.0135,
          0,
          null,
          -0.05121639898268675,
          -0.02926077458164659,
          -0.04333333333333338,
          -0.05121639898268675,
          null,
          -0.01144769182307849,
          -0.01245623304384913,
          -0.02346495280218621,
          -0.01144769182307849,
          null,
          -0.01144769182307849,
          -0.02346495280218621,
          -0.02575000000000013,
          -0.01144769182307849,
          null,
          0.027,
          0.0216,
          0.0216,
          0.027,
          null,
          0.027,
          0.0216,
          0.0216,
          0.027,
          null,
          -0.01144769182307849,
          -0.006125000000000082,
          0,
          -0.01144769182307849,
          null,
          0.0216,
          0.0216,
          0.027,
          0.0216,
          null,
          -0.01144769182307849,
          0,
          0,
          -0.01144769182307849,
          null,
          0.0135,
          0.0081,
          0.0081,
          0.0135,
          null,
          0.027,
          0.0216,
          0.027,
          0.027,
          null,
          -0.02926077458164659,
          -0.01245623304384913,
          -0.0105639457153604,
          -0.02926077458164659,
          null,
          -0.02926077458164659,
          -0.0216666666666667,
          -0.04333333333333338,
          -0.02926077458164659,
          null,
          0.027,
          0.0216,
          0.027,
          0.027,
          null,
          -0.02575000000000013,
          -0.02346495280218621,
          -0.03799753951190744,
          -0.02575000000000013,
          null,
          0.0081,
          0.0216,
          0.027,
          0.0081,
          null,
          0.027,
          0.0216,
          0.027,
          0.027,
          null,
          0.0081,
          0.0135,
          0.0216,
          0.0081,
          null,
          0.0081,
          0,
          0,
          0.0081,
          null,
          0.0081,
          0.0081,
          0.0135,
          0.0081,
          null,
          0.0135,
          0.0081,
          0.0135,
          0.0135,
          null,
          -0.02926077458164659,
          -0.02346495280218621,
          -0.01245623304384913,
          -0.02926077458164659,
          null,
          0.0081,
          0.0081,
          0.0135,
          0.0081,
          null,
          0.0135,
          0.0081,
          0.0135,
          0.0135,
          null,
          -0.02346495280218621,
          -0.02926077458164659,
          -0.03799753951190744,
          -0.02346495280218621,
          null,
          -0.02926077458164659,
          -0.0105639457153604,
          -0.0216666666666667,
          -0.02926077458164659,
          null,
          -0.03799753951190744,
          -0.02926077458164659,
          -0.05121639898268675,
          -0.03799753951190744,
          null,
          -0.065,
          -0.05121639898268675,
          -0.065,
          -0.065,
          null,
          -0.05121639898268675,
          -0.04333333333333338,
          -0.065,
          -0.05121639898268675,
          null,
          -0.03799753951190744,
          -0.04537500000000005,
          -0.02575000000000013,
          -0.03799753951190744,
          null,
          -0.0105639457153604,
          0,
          0,
          -0.0105639457153604,
          null,
          -0.04537500000000005,
          -0.05291811070492492,
          -0.065,
          -0.04537500000000005,
          null,
          -0.05291811070492492,
          -0.065,
          -0.065,
          -0.05291811070492492,
          null,
          -0.0216666666666667,
          -0.0105639457153604,
          0,
          -0.0216666666666667,
          null,
          -0.02575000000000013,
          -0.006125000000000082,
          -0.01144769182307849,
          -0.02575000000000013,
          null,
          0,
          -0.0105639457153604,
          -0.01245623304384913,
          0,
          null,
          -0.01144769182307849,
          0,
          -0.01245623304384913,
          -0.01144769182307849,
          null,
          -0.0105639457153604,
          0,
          0,
          -0.0105639457153604,
          null,
          -0.065,
          -0.05121639898268675,
          -0.065,
          -0.065,
          null,
          -0.01245623304384913,
          0,
          0,
          -0.01245623304384913,
          null
         ],
         "y": [
          0.055,
          0.0496,
          0.0496,
          0.055,
          null,
          0.0384666666666667,
          0.0496,
          0.055,
          0.0384666666666667,
          null,
          0.02769305405450377,
          0.03309305405450377,
          0.0384666666666667,
          0.02769305405450377,
          null,
          0.03309305405450377,
          0.03309305405450377,
          0.02769305405450377,
          0.03309305405450377,
          null,
          0.03816833890346907,
          0.02193791965550394,
          0.04135414528657561,
          0.03816833890346907,
          null,
          0.03816833890346907,
          0.04135414528657561,
          0.055,
          0.03816833890346907,
          null,
          0.04135414528657561,
          0.02193791965550394,
          0.03666666666666669,
          0.04135414528657561,
          null,
          0.0496,
          0.055,
          0.055,
          0.0496,
          null,
          0.02193791965550394,
          0.0190496203915545,
          0,
          0.02193791965550394,
          null,
          0.04279179069402974,
          0.02903897254207906,
          0.03666834808718039,
          0.04279179069402974,
          null,
          0.04279179069402974,
          0.03666834808718039,
          0.055,
          0.04279179069402974,
          null,
          0.01833333333333331,
          0.005400000000000001,
          0.0219333333333333,
          0.01833333333333331,
          null,
          0.03666666666666665,
          0.0219333333333333,
          0.03846666666666666,
          0.03666666666666665,
          null,
          0.04279179069402974,
          0.055,
          0.0496,
          0.04279179069402974,
          null,
          0.03846666666666666,
          0.055,
          0.055,
          0.03846666666666666,
          null,
          0.04279179069402974,
          0.0496,
          0.03309305405450377,
          0.04279179069402974,
          null,
          0.02193333333333334,
          0.01384652702725189,
          0.02769305405450377,
          0.02193333333333334,
          null,
          0.03666666666666665,
          0.03846666666666666,
          0.055,
          0.03666666666666665,
          null,
          0.0190496203915545,
          0.02903897254207906,
          0.01493802900256487,
          0.0190496203915545,
          null,
          0.0190496203915545,
          0,
          0,
          0.0190496203915545,
          null,
          0.01833333333333331,
          0.0219333333333333,
          0.03666666666666665,
          0.01833333333333331,
          null,
          0.055,
          0.03666834808718039,
          0.03816833890346907,
          0.055,
          null,
          8.673617379884035e-19,
          0.005400000000000001,
          8.673617379884035e-19,
          8.673617379884035e-19,
          null,
          8.673617379884035e-19,
          0.005400000000000001,
          0.01833333333333331,
          8.673617379884035e-19,
          null,
          8.673617379884035e-19,
          0.005400000000000001,
          0.005400000000000001,
          8.673617379884035e-19,
          null,
          0.02769305405450377,
          0.02769305405450377,
          0.03309305405450377,
          0.02769305405450377,
          null,
          8.673617379884035e-19,
          0.01384652702725189,
          0.005400000000000001,
          8.673617379884035e-19,
          null,
          0.005400000000000001,
          0.01384652702725189,
          0.02193333333333334,
          0.005400000000000001,
          null,
          0.0190496203915545,
          0.03666834808718039,
          0.02903897254207906,
          0.0190496203915545,
          null,
          0.03309305405450377,
          0.0496,
          0.0384666666666667,
          0.03309305405450377,
          null,
          0.02193333333333334,
          0.02769305405450377,
          0.0384666666666667,
          0.02193333333333334,
          null,
          0.03666834808718039,
          0.0190496203915545,
          0.03816833890346907,
          0.03666834808718039,
          null,
          0.0190496203915545,
          0.01493802900256487,
          0,
          0.0190496203915545,
          null,
          0.03816833890346907,
          0.0190496203915545,
          0.02193791965550394,
          0.03816833890346907,
          null,
          0.01833333333333335,
          0.02193791965550394,
          0,
          0.01833333333333335,
          null,
          0.02193791965550394,
          0,
          0,
          0.02193791965550394,
          null,
          0.03816833890346907,
          0.055,
          0.055,
          0.03816833890346907,
          null,
          0.01493802900256487,
          0.0138465270272519,
          0,
          0.01493802900256487,
          null,
          0.055,
          0.04135414528657561,
          0.055,
          0.055,
          null,
          0.04135414528657561,
          0.03666666666666669,
          0.055,
          0.04135414528657561,
          null,
          0,
          0.01493802900256487,
          0,
          0,
          null,
          0.055,
          0.055,
          0.04279179069402974,
          0.055,
          null,
          0.02769305405450377,
          0.01493802900256487,
          0.02903897254207906,
          0.02769305405450377,
          null,
          0.04279179069402974,
          0.03309305405450377,
          0.02903897254207906,
          0.04279179069402974,
          null,
          0.01493802900256487,
          0.02769305405450377,
          0.0138465270272519,
          0.01493802900256487,
          null,
          0.03666666666666669,
          0.02193791965550394,
          0.01833333333333335,
          0.03666666666666669,
          null,
          0.02903897254207906,
          0.03309305405450377,
          0.02769305405450377,
          0.02903897254207906,
          null
         ],
         "z": [
          0,
          0,
          0,
          0,
          null,
          0,
          0,
          0,
          0,
          null,
          0,
          0,
          0,
          0,
          null,
          0,
          0,
          0,
          0,
          null,
          0,
          0,
          0,
          0,
          null,
          0,
          0,
          0,
          0,
          null,
          0,
          0,
          0,
          0,
          null,
          0,
          0,
          0,
          0,
          null,
          0,
          0,
          0,
          0,
          null,
          0,
          0,
          0,
          0,
          null,
          0,
          0,
          0,
          0,
          null,
          0,
          0,
          0,
          0,
          null,
          0,
          0,
          0,
          0,
          null,
          0,
          0,
          0,
          0,
          null,
          0,
          0,
          0,
          0,
          null,
          0,
          0,
          0,
          0,
          null,
          0,
          0,
          0,
          0,
          null,
          0,
          0,
          0,
          0,
          null,
          0,
          0,
          0,
          0,
          null,
          0,
          0,
          0,
          0,
          null,
          0,
          0,
          0,
          0,
          null,
          0,
          0,
          0,
          0,
          null,
          0,
          0,
          0,
          0,
          null,
          0,
          0,
          0,
          0,
          null,
          0,
          0,
          0,
          0,
          null,
          0,
          0,
          0,
          0,
          null,
          0,
          0,
          0,
          0,
          null,
          0,
          0,
          0,
          0,
          null,
          0,
          0,
          0,
          0,
          null,
          0,
          0,
          0,
          0,
          null,
          0,
          0,
          0,
          0,
          null,
          0,
          0,
          0,
          0,
          null,
          0,
          0,
          0,
          0,
          null,
          0,
          0,
          0,
          0,
          null,
          0,
          0,
          0,
          0,
          null,
          0,
          0,
          0,
          0,
          null,
          0,
          0,
          0,
          0,
          null,
          0,
          0,
          0,
          0,
          null,
          0,
          0,
          0,
          0,
          null,
          0,
          0,
          0,
          0,
          null,
          0,
          0,
          0,
          0,
          null,
          0,
          0,
          0,
          0,
          null,
          0,
          0,
          0,
          0,
          null,
          0,
          0,
          0,
          0,
          null,
          0,
          0,
          0,
          0,
          null,
          0,
          0,
          0,
          0,
          null,
          0,
          0,
          0,
          0,
          null
         ]
        },
        {
         "hoverinfo": "none",
         "marker": {
          "color": [
           0.01712496840543653,
           2.9558634932202326
          ],
          "colorscale": [
           [
            0,
            "rgb(150, 0, 90)"
           ],
           [
            0.125,
            "rgb(0, 0, 200)"
           ],
           [
            0.25,
            "rgb(0, 25, 255)"
           ],
           [
            0.375,
            "rgb(0, 152, 255)"
           ],
           [
            0.5,
            "rgb(44, 255, 150)"
           ],
           [
            0.625,
            "rgb(151, 255, 0)"
           ],
           [
            0.75,
            "rgb(255, 234, 0)"
           ],
           [
            0.875,
            "rgb(255, 111, 0)"
           ],
           [
            1,
            "rgb(255, 0, 0)"
           ]
          ],
          "showscale": true,
          "size": 0.1
         },
         "mode": "markers",
         "showlegend": false,
         "type": "scatter3d",
         "x": [
          0
         ],
         "y": [
          0.03309305405450377
         ],
         "z": [
          0
         ]
        },
        {
         "marker": {
          "color": "red",
          "size": 6,
          "symbol": "circle"
         },
         "mode": "markers+text",
         "name": "Feed Point",
         "text": [
          "Feed Point"
         ],
         "textposition": "top center",
         "type": "scatter3d",
         "x": [
          0
         ],
         "y": [
          0.030393054054503772
         ],
         "z": [
          0
         ]
        }
       ],
       "layout": {
        "height": 800,
        "scene": {
         "aspectratio": {
          "x": 1,
          "y": 0.5978260869565217,
          "z": 0.3
         },
         "xaxis": {
          "backgroundcolor": "rgb(230, 230, 230)",
          "gridcolor": "rgb(255, 255, 255)",
          "showbackground": true,
          "zerolinecolor": "rgb(255, 255, 255)"
         },
         "yaxis": {
          "backgroundcolor": "rgb(230, 230, 230)",
          "gridcolor": "rgb(255, 255, 255)",
          "showbackground": true,
          "zerolinecolor": "rgb(255, 255, 255)"
         },
         "zaxis": {
          "backgroundcolor": "rgb(230, 230, 230)",
          "gridcolor": "rgb(255, 255, 255)",
          "showbackground": true,
          "zerolinecolor": "rgb(255, 255, 255)"
         }
        },
        "template": {
         "data": {
          "bar": [
           {
            "error_x": {
             "color": "#2a3f5f"
            },
            "error_y": {
             "color": "#2a3f5f"
            },
            "marker": {
             "line": {
              "color": "#E5ECF6",
              "width": 0.5
             },
             "pattern": {
              "fillmode": "overlay",
              "size": 10,
              "solidity": 0.2
             }
            },
            "type": "bar"
           }
          ],
          "barpolar": [
           {
            "marker": {
             "line": {
              "color": "#E5ECF6",
              "width": 0.5
             },
             "pattern": {
              "fillmode": "overlay",
              "size": 10,
              "solidity": 0.2
             }
            },
            "type": "barpolar"
           }
          ],
          "carpet": [
           {
            "aaxis": {
             "endlinecolor": "#2a3f5f",
             "gridcolor": "white",
             "linecolor": "white",
             "minorgridcolor": "white",
             "startlinecolor": "#2a3f5f"
            },
            "baxis": {
             "endlinecolor": "#2a3f5f",
             "gridcolor": "white",
             "linecolor": "white",
             "minorgridcolor": "white",
             "startlinecolor": "#2a3f5f"
            },
            "type": "carpet"
           }
          ],
          "choropleth": [
           {
            "colorbar": {
             "outlinewidth": 0,
             "ticks": ""
            },
            "type": "choropleth"
           }
          ],
          "contour": [
           {
            "colorbar": {
             "outlinewidth": 0,
             "ticks": ""
            },
            "colorscale": [
             [
              0,
              "#0d0887"
             ],
             [
              0.1111111111111111,
              "#46039f"
             ],
             [
              0.2222222222222222,
              "#7201a8"
             ],
             [
              0.3333333333333333,
              "#9c179e"
             ],
             [
              0.4444444444444444,
              "#bd3786"
             ],
             [
              0.5555555555555556,
              "#d8576b"
             ],
             [
              0.6666666666666666,
              "#ed7953"
             ],
             [
              0.7777777777777778,
              "#fb9f3a"
             ],
             [
              0.8888888888888888,
              "#fdca26"
             ],
             [
              1,
              "#f0f921"
             ]
            ],
            "type": "contour"
           }
          ],
          "contourcarpet": [
           {
            "colorbar": {
             "outlinewidth": 0,
             "ticks": ""
            },
            "type": "contourcarpet"
           }
          ],
          "heatmap": [
           {
            "colorbar": {
             "outlinewidth": 0,
             "ticks": ""
            },
            "colorscale": [
             [
              0,
              "#0d0887"
             ],
             [
              0.1111111111111111,
              "#46039f"
             ],
             [
              0.2222222222222222,
              "#7201a8"
             ],
             [
              0.3333333333333333,
              "#9c179e"
             ],
             [
              0.4444444444444444,
              "#bd3786"
             ],
             [
              0.5555555555555556,
              "#d8576b"
             ],
             [
              0.6666666666666666,
              "#ed7953"
             ],
             [
              0.7777777777777778,
              "#fb9f3a"
             ],
             [
              0.8888888888888888,
              "#fdca26"
             ],
             [
              1,
              "#f0f921"
             ]
            ],
            "type": "heatmap"
           }
          ],
          "heatmapgl": [
           {
            "colorbar": {
             "outlinewidth": 0,
             "ticks": ""
            },
            "colorscale": [
             [
              0,
              "#0d0887"
             ],
             [
              0.1111111111111111,
              "#46039f"
             ],
             [
              0.2222222222222222,
              "#7201a8"
             ],
             [
              0.3333333333333333,
              "#9c179e"
             ],
             [
              0.4444444444444444,
              "#bd3786"
             ],
             [
              0.5555555555555556,
              "#d8576b"
             ],
             [
              0.6666666666666666,
              "#ed7953"
             ],
             [
              0.7777777777777778,
              "#fb9f3a"
             ],
             [
              0.8888888888888888,
              "#fdca26"
             ],
             [
              1,
              "#f0f921"
             ]
            ],
            "type": "heatmapgl"
           }
          ],
          "histogram": [
           {
            "marker": {
             "pattern": {
              "fillmode": "overlay",
              "size": 10,
              "solidity": 0.2
             }
            },
            "type": "histogram"
           }
          ],
          "histogram2d": [
           {
            "colorbar": {
             "outlinewidth": 0,
             "ticks": ""
            },
            "colorscale": [
             [
              0,
              "#0d0887"
             ],
             [
              0.1111111111111111,
              "#46039f"
             ],
             [
              0.2222222222222222,
              "#7201a8"
             ],
             [
              0.3333333333333333,
              "#9c179e"
             ],
             [
              0.4444444444444444,
              "#bd3786"
             ],
             [
              0.5555555555555556,
              "#d8576b"
             ],
             [
              0.6666666666666666,
              "#ed7953"
             ],
             [
              0.7777777777777778,
              "#fb9f3a"
             ],
             [
              0.8888888888888888,
              "#fdca26"
             ],
             [
              1,
              "#f0f921"
             ]
            ],
            "type": "histogram2d"
           }
          ],
          "histogram2dcontour": [
           {
            "colorbar": {
             "outlinewidth": 0,
             "ticks": ""
            },
            "colorscale": [
             [
              0,
              "#0d0887"
             ],
             [
              0.1111111111111111,
              "#46039f"
             ],
             [
              0.2222222222222222,
              "#7201a8"
             ],
             [
              0.3333333333333333,
              "#9c179e"
             ],
             [
              0.4444444444444444,
              "#bd3786"
             ],
             [
              0.5555555555555556,
              "#d8576b"
             ],
             [
              0.6666666666666666,
              "#ed7953"
             ],
             [
              0.7777777777777778,
              "#fb9f3a"
             ],
             [
              0.8888888888888888,
              "#fdca26"
             ],
             [
              1,
              "#f0f921"
             ]
            ],
            "type": "histogram2dcontour"
           }
          ],
          "mesh3d": [
           {
            "colorbar": {
             "outlinewidth": 0,
             "ticks": ""
            },
            "type": "mesh3d"
           }
          ],
          "parcoords": [
           {
            "line": {
             "colorbar": {
              "outlinewidth": 0,
              "ticks": ""
             }
            },
            "type": "parcoords"
           }
          ],
          "pie": [
           {
            "automargin": true,
            "type": "pie"
           }
          ],
          "scatter": [
           {
            "fillpattern": {
             "fillmode": "overlay",
             "size": 10,
             "solidity": 0.2
            },
            "type": "scatter"
           }
          ],
          "scatter3d": [
           {
            "line": {
             "colorbar": {
              "outlinewidth": 0,
              "ticks": ""
             }
            },
            "marker": {
             "colorbar": {
              "outlinewidth": 0,
              "ticks": ""
             }
            },
            "type": "scatter3d"
           }
          ],
          "scattercarpet": [
           {
            "marker": {
             "colorbar": {
              "outlinewidth": 0,
              "ticks": ""
             }
            },
            "type": "scattercarpet"
           }
          ],
          "scattergeo": [
           {
            "marker": {
             "colorbar": {
              "outlinewidth": 0,
              "ticks": ""
             }
            },
            "type": "scattergeo"
           }
          ],
          "scattergl": [
           {
            "marker": {
             "colorbar": {
              "outlinewidth": 0,
              "ticks": ""
             }
            },
            "type": "scattergl"
           }
          ],
          "scattermapbox": [
           {
            "marker": {
             "colorbar": {
              "outlinewidth": 0,
              "ticks": ""
             }
            },
            "type": "scattermapbox"
           }
          ],
          "scatterpolar": [
           {
            "marker": {
             "colorbar": {
              "outlinewidth": 0,
              "ticks": ""
             }
            },
            "type": "scatterpolar"
           }
          ],
          "scatterpolargl": [
           {
            "marker": {
             "colorbar": {
              "outlinewidth": 0,
              "ticks": ""
             }
            },
            "type": "scatterpolargl"
           }
          ],
          "scatterternary": [
           {
            "marker": {
             "colorbar": {
              "outlinewidth": 0,
              "ticks": ""
             }
            },
            "type": "scatterternary"
           }
          ],
          "surface": [
           {
            "colorbar": {
             "outlinewidth": 0,
             "ticks": ""
            },
            "colorscale": [
             [
              0,
              "#0d0887"
             ],
             [
              0.1111111111111111,
              "#46039f"
             ],
             [
              0.2222222222222222,
              "#7201a8"
             ],
             [
              0.3333333333333333,
              "#9c179e"
             ],
             [
              0.4444444444444444,
              "#bd3786"
             ],
             [
              0.5555555555555556,
              "#d8576b"
             ],
             [
              0.6666666666666666,
              "#ed7953"
             ],
             [
              0.7777777777777778,
              "#fb9f3a"
             ],
             [
              0.8888888888888888,
              "#fdca26"
             ],
             [
              1,
              "#f0f921"
             ]
            ],
            "type": "surface"
           }
          ],
          "table": [
           {
            "cells": {
             "fill": {
              "color": "#EBF0F8"
             },
             "line": {
              "color": "white"
             }
            },
            "header": {
             "fill": {
              "color": "#C8D4E3"
             },
             "line": {
              "color": "white"
             }
            },
            "type": "table"
           }
          ]
         },
         "layout": {
          "annotationdefaults": {
           "arrowcolor": "#2a3f5f",
           "arrowhead": 0,
           "arrowwidth": 1
          },
          "autotypenumbers": "strict",
          "coloraxis": {
           "colorbar": {
            "outlinewidth": 0,
            "ticks": ""
           }
          },
          "colorscale": {
           "diverging": [
            [
             0,
             "#8e0152"
            ],
            [
             0.1,
             "#c51b7d"
            ],
            [
             0.2,
             "#de77ae"
            ],
            [
             0.3,
             "#f1b6da"
            ],
            [
             0.4,
             "#fde0ef"
            ],
            [
             0.5,
             "#f7f7f7"
            ],
            [
             0.6,
             "#e6f5d0"
            ],
            [
             0.7,
             "#b8e186"
            ],
            [
             0.8,
             "#7fbc41"
            ],
            [
             0.9,
             "#4d9221"
            ],
            [
             1,
             "#276419"
            ]
           ],
           "sequential": [
            [
             0,
             "#0d0887"
            ],
            [
             0.1111111111111111,
             "#46039f"
            ],
            [
             0.2222222222222222,
             "#7201a8"
            ],
            [
             0.3333333333333333,
             "#9c179e"
            ],
            [
             0.4444444444444444,
             "#bd3786"
            ],
            [
             0.5555555555555556,
             "#d8576b"
            ],
            [
             0.6666666666666666,
             "#ed7953"
            ],
            [
             0.7777777777777778,
             "#fb9f3a"
            ],
            [
             0.8888888888888888,
             "#fdca26"
            ],
            [
             1,
             "#f0f921"
            ]
           ],
           "sequentialminus": [
            [
             0,
             "#0d0887"
            ],
            [
             0.1111111111111111,
             "#46039f"
            ],
            [
             0.2222222222222222,
             "#7201a8"
            ],
            [
             0.3333333333333333,
             "#9c179e"
            ],
            [
             0.4444444444444444,
             "#bd3786"
            ],
            [
             0.5555555555555556,
             "#d8576b"
            ],
            [
             0.6666666666666666,
             "#ed7953"
            ],
            [
             0.7777777777777778,
             "#fb9f3a"
            ],
            [
             0.8888888888888888,
             "#fdca26"
            ],
            [
             1,
             "#f0f921"
            ]
           ]
          },
          "colorway": [
           "#636efa",
           "#EF553B",
           "#00cc96",
           "#ab63fa",
           "#FFA15A",
           "#19d3f3",
           "#FF6692",
           "#B6E880",
           "#FF97FF",
           "#FECB52"
          ],
          "font": {
           "color": "#2a3f5f"
          },
          "geo": {
           "bgcolor": "white",
           "lakecolor": "white",
           "landcolor": "#E5ECF6",
           "showlakes": true,
           "showland": true,
           "subunitcolor": "white"
          },
          "hoverlabel": {
           "align": "left"
          },
          "hovermode": "closest",
          "mapbox": {
           "style": "light"
          },
          "paper_bgcolor": "white",
          "plot_bgcolor": "#E5ECF6",
          "polar": {
           "angularaxis": {
            "gridcolor": "white",
            "linecolor": "white",
            "ticks": ""
           },
           "bgcolor": "#E5ECF6",
           "radialaxis": {
            "gridcolor": "white",
            "linecolor": "white",
            "ticks": ""
           }
          },
          "scene": {
           "xaxis": {
            "backgroundcolor": "#E5ECF6",
            "gridcolor": "white",
            "gridwidth": 2,
            "linecolor": "white",
            "showbackground": true,
            "ticks": "",
            "zerolinecolor": "white"
           },
           "yaxis": {
            "backgroundcolor": "#E5ECF6",
            "gridcolor": "white",
            "gridwidth": 2,
            "linecolor": "white",
            "showbackground": true,
            "ticks": "",
            "zerolinecolor": "white"
           },
           "zaxis": {
            "backgroundcolor": "#E5ECF6",
            "gridcolor": "white",
            "gridwidth": 2,
            "linecolor": "white",
            "showbackground": true,
            "ticks": "",
            "zerolinecolor": "white"
           }
          },
          "shapedefaults": {
           "line": {
            "color": "#2a3f5f"
           }
          },
          "ternary": {
           "aaxis": {
            "gridcolor": "white",
            "linecolor": "white",
            "ticks": ""
           },
           "baxis": {
            "gridcolor": "white",
            "linecolor": "white",
            "ticks": ""
           },
           "bgcolor": "#E5ECF6",
           "caxis": {
            "gridcolor": "white",
            "linecolor": "white",
            "ticks": ""
           }
          },
          "title": {
           "x": 0.05
          },
          "xaxis": {
           "automargin": true,
           "gridcolor": "white",
           "linecolor": "white",
           "ticks": "",
           "title": {
            "standoff": 15
           },
           "zerolinecolor": "white",
           "zerolinewidth": 2
          },
          "yaxis": {
           "automargin": true,
           "gridcolor": "white",
           "linecolor": "white",
           "ticks": "",
           "title": {
            "standoff": 15
           },
           "zerolinecolor": "white",
           "zerolinewidth": 2
          }
         }
        },
        "title": {
         "text": "ifa_meander antenna surface current in radiation mode"
        },
        "width": 800
       }
      }
     },
     "metadata": {},
     "output_type": "display_data"
    },
    {
     "name": "stdout",
     "output_type": "stream",
     "text": [
      "Simulation 43/76 | f = 868.00 MHz | S11 = -18.87 dB\n",
      "Simulation 44/76 | f = 872.00 MHz | S11 = -22.64 dB\n",
      "Simulation 45/76 | f = 876.00 MHz | S11 = -29.26 dB\n",
      "Simulation 46/76 | f = 880.00 MHz | S11 = -38.64 dB\n",
      "Simulation 47/76 | f = 884.00 MHz | S11 = -26.56 dB\n",
      "Simulation 48/76 | f = 888.00 MHz | S11 = -21.40 dB\n",
      "Simulation 49/76 | f = 892.00 MHz | S11 = -18.22 dB\n",
      "Simulation 50/76 | f = 896.00 MHz | S11 = -15.94 dB\n",
      "Simulation 51/76 | f = 900.00 MHz | S11 = -14.19 dB\n",
      "Simulation 52/76 | f = 904.00 MHz | S11 = -12.77 dB\n",
      "Simulation 53/76 | f = 908.00 MHz | S11 = -11.60 dB\n",
      "Simulation 54/76 | f = 912.00 MHz | S11 = -10.60 dB\n",
      "Simulation 55/76 | f = 916.00 MHz | S11 = -9.73 dB\n",
      "Simulation 56/76 | f = 920.00 MHz | S11 = -8.98 dB\n",
      "Simulation 57/76 | f = 924.00 MHz | S11 = -8.32 dB\n",
      "Simulation 58/76 | f = 928.00 MHz | S11 = -7.73 dB\n",
      "Simulation 59/76 | f = 932.00 MHz | S11 = -7.21 dB\n",
      "Simulation 60/76 | f = 936.00 MHz | S11 = -6.74 dB\n",
      "Simulation 61/76 | f = 940.00 MHz | S11 = -6.31 dB\n",
      "Simulation 62/76 | f = 944.00 MHz | S11 = -5.93 dB\n",
      "Simulation 63/76 | f = 948.00 MHz | S11 = -5.58 dB\n",
      "Simulation 64/76 | f = 952.00 MHz | S11 = -5.26 dB\n",
      "Simulation 65/76 | f = 956.00 MHz | S11 = -4.96 dB\n",
      "Simulation 66/76 | f = 960.00 MHz | S11 = -4.70 dB\n",
      "Simulation 67/76 | f = 964.00 MHz | S11 = -4.45 dB\n",
      "Simulation 68/76 | f = 968.00 MHz | S11 = -4.22 dB\n",
      "Simulation 69/76 | f = 972.00 MHz | S11 = -4.01 dB\n",
      "Simulation 70/76 | f = 976.00 MHz | S11 = -3.82 dB\n",
      "Simulation 71/76 | f = 980.00 MHz | S11 = -3.64 dB\n",
      "Simulation 72/76 | f = 984.00 MHz | S11 = -3.47 dB\n",
      "Simulation 73/76 | f = 988.00 MHz | S11 = -3.32 dB\n",
      "Simulation 74/76 | f = 992.00 MHz | S11 = -3.17 dB\n",
      "Simulation 75/76 | f = 996.00 MHz | S11 = -3.03 dB\n",
      "Simulation 76/76 | f = 1000.00 MHz | S11 = -2.91 dB\n"
     ]
    },
    {
     "data": {
      "application/vnd.plotly.v1+json": {
       "config": {
        "plotlyServerURL": "https://plot.ly"
       },
       "data": [
        {
         "hoverinfo": "text",
         "imag": [
          8.217027660619392,
          8.612185780088856,
          8.994987700078026,
          9.329484552793268,
          9.555661608750638,
          9.580541450920016,
          9.275289793994489,
          8.493390083282733,
          7.129220749105468,
          5.212487183781503,
          2.9701134488273033,
          0.7609171418671109,
          -1.0963195861307533,
          -2.4501654747712003,
          -3.3126678093891355,
          -3.781633011437514,
          -3.9711504464054546,
          -3.9775439796398415,
          -3.8711864433295258,
          -3.6996573389184095,
          -3.4936873378126934,
          -3.272522599537631,
          -3.047905157271225,
          -2.8267868197499606,
          -2.613104545539807,
          -2.4089179967765837,
          -2.2151310238484885,
          -2.0319470077485815,
          -1.8591554128168386,
          -1.6963115779633688,
          -1.5428489609783793,
          -1.3981485860510525,
          -1.2615813409653795,
          -1.132533047810921,
          -1.010418625684614,
          -0.8946893830323468,
          -0.7848360271282036,
          -0.6803890513416768,
          -0.5809175654934857,
          -0.4860272505197938,
          -0.3953578700277751,
          -0.3085806100441971,
          -0.14552840887543173,
          -0.06872948634159173,
          0.005229948446367844,
          0.07655903627461293,
          0.14544934144776095,
          0.21207655221225483,
          0.2766020155634672,
          0.3391741192346514,
          0.3999295341813977,
          0.4589943306782422,
          0.5164849805273186,
          0.5725092570338566,
          0.6271670434602445,
          0.6805510596943395,
          0.732747515921329,
          0.7838367011875275,
          0.833893513909866,
          0.8829879406225006,
          0.9311854885591865,
          0.978547577050912,
          1.0251318921604764,
          1.0709927084833828,
          1.1161811816041647,
          1.1607456143091381,
          1.2047316993118227,
          1.248182740944202,
          1.2911398579975855,
          1.3336421696605738,
          1.3757269662919784,
          1.417429866581881,
          1.458784962491469,
          1.4998249532175167,
          1.540581269300697
         ],
         "marker": {
          "color": "blue",
          "size": 10
         },
         "mode": "markers+lines",
         "name": "Impedance Points",
         "real": [
          2.88175712089854,
          3.465631001422039,
          4.193870907830203,
          5.099910359955164,
          6.215513462910968,
          7.557358307400715,
          9.101039207584245,
          10.743060581957673,
          12.270554111422086,
          13.386739499665698,
          13.829332005762582,
          13.520675129032275,
          12.608205073932831,
          11.357135548549364,
          10.012549390098597,
          8.73296076236997,
          7.593415150622963,
          6.614398516328921,
          5.788405012187732,
          5.096756394342613,
          4.518339149499996,
          4.033456539900699,
          3.6251610054453316,
          3.2794314742951456,
          2.9848906459679103,
          2.732386614145353,
          2.514576777939153,
          2.3255642209569443,
          2.1605980177806465,
          2.015833410327084,
          1.8881427509252249,
          1.7749674962070017,
          1.6742025888668517,
          1.5841060702831111,
          1.5032282332070073,
          1.430355880620161,
          1.3644682726017243,
          1.3047021389478686,
          1.2503237485695466,
          1.20070649512859,
          1.1553128147362188,
          1.1136795223974314,
          1.0401437054802927,
          1.007589514196825,
          0.9774776535866601,
          0.9495748662936017,
          0.9236756498291789,
          0.8995983849262963,
          0.8771820779902771,
          0.8562836094687679,
          0.8367754007729706,
          0.8185434288813849,
          0.8014855308944067,
          0.7855099513153447,
          0.7705340932719495,
          0.7564834417004657,
          0.7432906320261068,
          0.7308946423568112,
          0.719240090865529,
          0.7082766230337308,
          0.6979583758937133,
          0.688243508440942,
          0.679093789071993,
          0.6704742323026273,
          0.6623527781867438,
          0.6547000088317716,
          0.6474888972242357,
          0.6406945842665482,
          0.6342941805067782,
          0.6282665895340529,
          0.6225923504284325,
          0.6172534970090663,
          0.6122334319260259,
          0.6075168139001623,
          0.6030894566369438
         ],
         "text": [
          "Z = 144.088+410.851j at 700.0 MHz",
          "Z = 173.282+430.609j at 704.0 MHz",
          "Z = 209.694+449.749j at 708.0 MHz",
          "Z = 254.996+466.474j at 712.0 MHz",
          "Z = 310.776+477.783j at 716.0 MHz",
          "Z = 377.868+479.027j at 720.0 MHz",
          "Z = 455.052+463.764j at 724.0 MHz",
          "Z = 537.153+424.670j at 728.0 MHz",
          "Z = 613.528+356.461j at 732.0 MHz",
          "Z = 669.337+260.624j at 736.0 MHz",
          "Z = 691.467+148.506j at 740.0 MHz",
          "Z = 676.034+38.046j at 744.0 MHz",
          "Z = 630.410-54.816j at 748.0 MHz",
          "Z = 567.857-122.508j at 752.0 MHz",
          "Z = 500.627-165.633j at 756.0 MHz",
          "Z = 436.648-189.082j at 760.0 MHz",
          "Z = 379.671-198.558j at 764.0 MHz",
          "Z = 330.720-198.877j at 768.0 MHz",
          "Z = 289.420-193.559j at 772.0 MHz",
          "Z = 254.838-184.983j at 776.0 MHz",
          "Z = 225.917-174.684j at 780.0 MHz",
          "Z = 201.673-163.626j at 784.0 MHz",
          "Z = 181.258-152.395j at 788.0 MHz",
          "Z = 163.972-141.339j at 792.0 MHz",
          "Z = 149.245-130.655j at 796.0 MHz",
          "Z = 136.619-120.446j at 800.0 MHz",
          "Z = 125.729-110.757j at 804.0 MHz",
          "Z = 116.278-101.597j at 808.0 MHz",
          "Z = 108.030-92.958j at 812.0 MHz",
          "Z = 100.792-84.816j at 816.0 MHz",
          "Z = 94.407-77.142j at 820.0 MHz",
          "Z = 88.748-69.907j at 824.0 MHz",
          "Z = 83.710-63.079j at 828.0 MHz",
          "Z = 79.205-56.627j at 832.0 MHz",
          "Z = 75.161-50.521j at 836.0 MHz",
          "Z = 71.518-44.734j at 840.0 MHz",
          "Z = 68.223-39.242j at 844.0 MHz",
          "Z = 65.235-34.019j at 848.0 MHz",
          "Z = 62.516-29.046j at 852.0 MHz",
          "Z = 60.035-24.301j at 856.0 MHz",
          "Z = 57.766-19.768j at 860.0 MHz",
          "Z = 55.684-15.429j at 864.0 MHz",
          "Z = 52.007-7.276j at 872.0 MHz",
          "Z = 50.379-3.436j at 876.0 MHz",
          "Z = 48.874+0.261j at 880.0 MHz",
          "Z = 47.479+3.828j at 884.0 MHz",
          "Z = 46.184+7.272j at 888.0 MHz",
          "Z = 44.980+10.604j at 892.0 MHz",
          "Z = 43.859+13.830j at 896.0 MHz",
          "Z = 42.814+16.959j at 900.0 MHz",
          "Z = 41.839+19.996j at 904.0 MHz",
          "Z = 40.927+22.950j at 908.0 MHz",
          "Z = 40.074+25.824j at 912.0 MHz",
          "Z = 39.275+28.625j at 916.0 MHz",
          "Z = 38.527+31.358j at 920.0 MHz",
          "Z = 37.824+34.028j at 924.0 MHz",
          "Z = 37.165+36.637j at 928.0 MHz",
          "Z = 36.545+39.192j at 932.0 MHz",
          "Z = 35.962+41.695j at 936.0 MHz",
          "Z = 35.414+44.149j at 940.0 MHz",
          "Z = 34.898+46.559j at 944.0 MHz",
          "Z = 34.412+48.927j at 948.0 MHz",
          "Z = 33.955+51.257j at 952.0 MHz",
          "Z = 33.524+53.550j at 956.0 MHz",
          "Z = 33.118+55.809j at 960.0 MHz",
          "Z = 32.735+58.037j at 964.0 MHz",
          "Z = 32.374+60.237j at 968.0 MHz",
          "Z = 32.035+62.409j at 972.0 MHz",
          "Z = 31.715+64.557j at 976.0 MHz",
          "Z = 31.413+66.682j at 980.0 MHz",
          "Z = 31.130+68.786j at 984.0 MHz",
          "Z = 30.863+70.871j at 988.0 MHz",
          "Z = 30.612+72.939j at 992.0 MHz",
          "Z = 30.376+74.991j at 996.0 MHz",
          "Z = 30.154+77.029j at 1000.0 MHz"
         ],
         "type": "scattersmith"
        },
        {
         "hoverinfo": "text",
         "imag": [
          -0.22539541358483636
         ],
         "marker": {
          "color": "red",
          "size": 14,
          "symbol": "circle"
         },
         "mode": "markers",
         "name": "Impedance at fC=868.0 MHz",
         "real": [
          1.0754058599587741
         ],
         "text": [
          "Z = 53.770-11.270j at 868.0 MHz"
         ],
         "type": "scattersmith"
        }
       ],
       "layout": {
        "showlegend": true,
        "template": {
         "data": {
          "bar": [
           {
            "error_x": {
             "color": "#2a3f5f"
            },
            "error_y": {
             "color": "#2a3f5f"
            },
            "marker": {
             "line": {
              "color": "#E5ECF6",
              "width": 0.5
             },
             "pattern": {
              "fillmode": "overlay",
              "size": 10,
              "solidity": 0.2
             }
            },
            "type": "bar"
           }
          ],
          "barpolar": [
           {
            "marker": {
             "line": {
              "color": "#E5ECF6",
              "width": 0.5
             },
             "pattern": {
              "fillmode": "overlay",
              "size": 10,
              "solidity": 0.2
             }
            },
            "type": "barpolar"
           }
          ],
          "carpet": [
           {
            "aaxis": {
             "endlinecolor": "#2a3f5f",
             "gridcolor": "white",
             "linecolor": "white",
             "minorgridcolor": "white",
             "startlinecolor": "#2a3f5f"
            },
            "baxis": {
             "endlinecolor": "#2a3f5f",
             "gridcolor": "white",
             "linecolor": "white",
             "minorgridcolor": "white",
             "startlinecolor": "#2a3f5f"
            },
            "type": "carpet"
           }
          ],
          "choropleth": [
           {
            "colorbar": {
             "outlinewidth": 0,
             "ticks": ""
            },
            "type": "choropleth"
           }
          ],
          "contour": [
           {
            "colorbar": {
             "outlinewidth": 0,
             "ticks": ""
            },
            "colorscale": [
             [
              0,
              "#0d0887"
             ],
             [
              0.1111111111111111,
              "#46039f"
             ],
             [
              0.2222222222222222,
              "#7201a8"
             ],
             [
              0.3333333333333333,
              "#9c179e"
             ],
             [
              0.4444444444444444,
              "#bd3786"
             ],
             [
              0.5555555555555556,
              "#d8576b"
             ],
             [
              0.6666666666666666,
              "#ed7953"
             ],
             [
              0.7777777777777778,
              "#fb9f3a"
             ],
             [
              0.8888888888888888,
              "#fdca26"
             ],
             [
              1,
              "#f0f921"
             ]
            ],
            "type": "contour"
           }
          ],
          "contourcarpet": [
           {
            "colorbar": {
             "outlinewidth": 0,
             "ticks": ""
            },
            "type": "contourcarpet"
           }
          ],
          "heatmap": [
           {
            "colorbar": {
             "outlinewidth": 0,
             "ticks": ""
            },
            "colorscale": [
             [
              0,
              "#0d0887"
             ],
             [
              0.1111111111111111,
              "#46039f"
             ],
             [
              0.2222222222222222,
              "#7201a8"
             ],
             [
              0.3333333333333333,
              "#9c179e"
             ],
             [
              0.4444444444444444,
              "#bd3786"
             ],
             [
              0.5555555555555556,
              "#d8576b"
             ],
             [
              0.6666666666666666,
              "#ed7953"
             ],
             [
              0.7777777777777778,
              "#fb9f3a"
             ],
             [
              0.8888888888888888,
              "#fdca26"
             ],
             [
              1,
              "#f0f921"
             ]
            ],
            "type": "heatmap"
           }
          ],
          "heatmapgl": [
           {
            "colorbar": {
             "outlinewidth": 0,
             "ticks": ""
            },
            "colorscale": [
             [
              0,
              "#0d0887"
             ],
             [
              0.1111111111111111,
              "#46039f"
             ],
             [
              0.2222222222222222,
              "#7201a8"
             ],
             [
              0.3333333333333333,
              "#9c179e"
             ],
             [
              0.4444444444444444,
              "#bd3786"
             ],
             [
              0.5555555555555556,
              "#d8576b"
             ],
             [
              0.6666666666666666,
              "#ed7953"
             ],
             [
              0.7777777777777778,
              "#fb9f3a"
             ],
             [
              0.8888888888888888,
              "#fdca26"
             ],
             [
              1,
              "#f0f921"
             ]
            ],
            "type": "heatmapgl"
           }
          ],
          "histogram": [
           {
            "marker": {
             "pattern": {
              "fillmode": "overlay",
              "size": 10,
              "solidity": 0.2
             }
            },
            "type": "histogram"
           }
          ],
          "histogram2d": [
           {
            "colorbar": {
             "outlinewidth": 0,
             "ticks": ""
            },
            "colorscale": [
             [
              0,
              "#0d0887"
             ],
             [
              0.1111111111111111,
              "#46039f"
             ],
             [
              0.2222222222222222,
              "#7201a8"
             ],
             [
              0.3333333333333333,
              "#9c179e"
             ],
             [
              0.4444444444444444,
              "#bd3786"
             ],
             [
              0.5555555555555556,
              "#d8576b"
             ],
             [
              0.6666666666666666,
              "#ed7953"
             ],
             [
              0.7777777777777778,
              "#fb9f3a"
             ],
             [
              0.8888888888888888,
              "#fdca26"
             ],
             [
              1,
              "#f0f921"
             ]
            ],
            "type": "histogram2d"
           }
          ],
          "histogram2dcontour": [
           {
            "colorbar": {
             "outlinewidth": 0,
             "ticks": ""
            },
            "colorscale": [
             [
              0,
              "#0d0887"
             ],
             [
              0.1111111111111111,
              "#46039f"
             ],
             [
              0.2222222222222222,
              "#7201a8"
             ],
             [
              0.3333333333333333,
              "#9c179e"
             ],
             [
              0.4444444444444444,
              "#bd3786"
             ],
             [
              0.5555555555555556,
              "#d8576b"
             ],
             [
              0.6666666666666666,
              "#ed7953"
             ],
             [
              0.7777777777777778,
              "#fb9f3a"
             ],
             [
              0.8888888888888888,
              "#fdca26"
             ],
             [
              1,
              "#f0f921"
             ]
            ],
            "type": "histogram2dcontour"
           }
          ],
          "mesh3d": [
           {
            "colorbar": {
             "outlinewidth": 0,
             "ticks": ""
            },
            "type": "mesh3d"
           }
          ],
          "parcoords": [
           {
            "line": {
             "colorbar": {
              "outlinewidth": 0,
              "ticks": ""
             }
            },
            "type": "parcoords"
           }
          ],
          "pie": [
           {
            "automargin": true,
            "type": "pie"
           }
          ],
          "scatter": [
           {
            "fillpattern": {
             "fillmode": "overlay",
             "size": 10,
             "solidity": 0.2
            },
            "type": "scatter"
           }
          ],
          "scatter3d": [
           {
            "line": {
             "colorbar": {
              "outlinewidth": 0,
              "ticks": ""
             }
            },
            "marker": {
             "colorbar": {
              "outlinewidth": 0,
              "ticks": ""
             }
            },
            "type": "scatter3d"
           }
          ],
          "scattercarpet": [
           {
            "marker": {
             "colorbar": {
              "outlinewidth": 0,
              "ticks": ""
             }
            },
            "type": "scattercarpet"
           }
          ],
          "scattergeo": [
           {
            "marker": {
             "colorbar": {
              "outlinewidth": 0,
              "ticks": ""
             }
            },
            "type": "scattergeo"
           }
          ],
          "scattergl": [
           {
            "marker": {
             "colorbar": {
              "outlinewidth": 0,
              "ticks": ""
             }
            },
            "type": "scattergl"
           }
          ],
          "scattermapbox": [
           {
            "marker": {
             "colorbar": {
              "outlinewidth": 0,
              "ticks": ""
             }
            },
            "type": "scattermapbox"
           }
          ],
          "scatterpolar": [
           {
            "marker": {
             "colorbar": {
              "outlinewidth": 0,
              "ticks": ""
             }
            },
            "type": "scatterpolar"
           }
          ],
          "scatterpolargl": [
           {
            "marker": {
             "colorbar": {
              "outlinewidth": 0,
              "ticks": ""
             }
            },
            "type": "scatterpolargl"
           }
          ],
          "scatterternary": [
           {
            "marker": {
             "colorbar": {
              "outlinewidth": 0,
              "ticks": ""
             }
            },
            "type": "scatterternary"
           }
          ],
          "surface": [
           {
            "colorbar": {
             "outlinewidth": 0,
             "ticks": ""
            },
            "colorscale": [
             [
              0,
              "#0d0887"
             ],
             [
              0.1111111111111111,
              "#46039f"
             ],
             [
              0.2222222222222222,
              "#7201a8"
             ],
             [
              0.3333333333333333,
              "#9c179e"
             ],
             [
              0.4444444444444444,
              "#bd3786"
             ],
             [
              0.5555555555555556,
              "#d8576b"
             ],
             [
              0.6666666666666666,
              "#ed7953"
             ],
             [
              0.7777777777777778,
              "#fb9f3a"
             ],
             [
              0.8888888888888888,
              "#fdca26"
             ],
             [
              1,
              "#f0f921"
             ]
            ],
            "type": "surface"
           }
          ],
          "table": [
           {
            "cells": {
             "fill": {
              "color": "#EBF0F8"
             },
             "line": {
              "color": "white"
             }
            },
            "header": {
             "fill": {
              "color": "#C8D4E3"
             },
             "line": {
              "color": "white"
             }
            },
            "type": "table"
           }
          ]
         },
         "layout": {
          "annotationdefaults": {
           "arrowcolor": "#2a3f5f",
           "arrowhead": 0,
           "arrowwidth": 1
          },
          "autotypenumbers": "strict",
          "coloraxis": {
           "colorbar": {
            "outlinewidth": 0,
            "ticks": ""
           }
          },
          "colorscale": {
           "diverging": [
            [
             0,
             "#8e0152"
            ],
            [
             0.1,
             "#c51b7d"
            ],
            [
             0.2,
             "#de77ae"
            ],
            [
             0.3,
             "#f1b6da"
            ],
            [
             0.4,
             "#fde0ef"
            ],
            [
             0.5,
             "#f7f7f7"
            ],
            [
             0.6,
             "#e6f5d0"
            ],
            [
             0.7,
             "#b8e186"
            ],
            [
             0.8,
             "#7fbc41"
            ],
            [
             0.9,
             "#4d9221"
            ],
            [
             1,
             "#276419"
            ]
           ],
           "sequential": [
            [
             0,
             "#0d0887"
            ],
            [
             0.1111111111111111,
             "#46039f"
            ],
            [
             0.2222222222222222,
             "#7201a8"
            ],
            [
             0.3333333333333333,
             "#9c179e"
            ],
            [
             0.4444444444444444,
             "#bd3786"
            ],
            [
             0.5555555555555556,
             "#d8576b"
            ],
            [
             0.6666666666666666,
             "#ed7953"
            ],
            [
             0.7777777777777778,
             "#fb9f3a"
            ],
            [
             0.8888888888888888,
             "#fdca26"
            ],
            [
             1,
             "#f0f921"
            ]
           ],
           "sequentialminus": [
            [
             0,
             "#0d0887"
            ],
            [
             0.1111111111111111,
             "#46039f"
            ],
            [
             0.2222222222222222,
             "#7201a8"
            ],
            [
             0.3333333333333333,
             "#9c179e"
            ],
            [
             0.4444444444444444,
             "#bd3786"
            ],
            [
             0.5555555555555556,
             "#d8576b"
            ],
            [
             0.6666666666666666,
             "#ed7953"
            ],
            [
             0.7777777777777778,
             "#fb9f3a"
            ],
            [
             0.8888888888888888,
             "#fdca26"
            ],
            [
             1,
             "#f0f921"
            ]
           ]
          },
          "colorway": [
           "#636efa",
           "#EF553B",
           "#00cc96",
           "#ab63fa",
           "#FFA15A",
           "#19d3f3",
           "#FF6692",
           "#B6E880",
           "#FF97FF",
           "#FECB52"
          ],
          "font": {
           "color": "#2a3f5f"
          },
          "geo": {
           "bgcolor": "white",
           "lakecolor": "white",
           "landcolor": "#E5ECF6",
           "showlakes": true,
           "showland": true,
           "subunitcolor": "white"
          },
          "hoverlabel": {
           "align": "left"
          },
          "hovermode": "closest",
          "mapbox": {
           "style": "light"
          },
          "paper_bgcolor": "white",
          "plot_bgcolor": "#E5ECF6",
          "polar": {
           "angularaxis": {
            "gridcolor": "white",
            "linecolor": "white",
            "ticks": ""
           },
           "bgcolor": "#E5ECF6",
           "radialaxis": {
            "gridcolor": "white",
            "linecolor": "white",
            "ticks": ""
           }
          },
          "scene": {
           "xaxis": {
            "backgroundcolor": "#E5ECF6",
            "gridcolor": "white",
            "gridwidth": 2,
            "linecolor": "white",
            "showbackground": true,
            "ticks": "",
            "zerolinecolor": "white"
           },
           "yaxis": {
            "backgroundcolor": "#E5ECF6",
            "gridcolor": "white",
            "gridwidth": 2,
            "linecolor": "white",
            "showbackground": true,
            "ticks": "",
            "zerolinecolor": "white"
           },
           "zaxis": {
            "backgroundcolor": "#E5ECF6",
            "gridcolor": "white",
            "gridwidth": 2,
            "linecolor": "white",
            "showbackground": true,
            "ticks": "",
            "zerolinecolor": "white"
           }
          },
          "shapedefaults": {
           "line": {
            "color": "#2a3f5f"
           }
          },
          "ternary": {
           "aaxis": {
            "gridcolor": "white",
            "linecolor": "white",
            "ticks": ""
           },
           "baxis": {
            "gridcolor": "white",
            "linecolor": "white",
            "ticks": ""
           },
           "bgcolor": "#E5ECF6",
           "caxis": {
            "gridcolor": "white",
            "linecolor": "white",
            "ticks": ""
           }
          },
          "title": {
           "x": 0.05
          },
          "xaxis": {
           "automargin": true,
           "gridcolor": "white",
           "linecolor": "white",
           "ticks": "",
           "title": {
            "standoff": 15
           },
           "zerolinecolor": "white",
           "zerolinewidth": 2
          },
          "yaxis": {
           "automargin": true,
           "gridcolor": "white",
           "linecolor": "white",
           "ticks": "",
           "title": {
            "standoff": 15
           },
           "zerolinecolor": "white",
           "zerolinewidth": 2
          }
         }
        },
        "title": {
         "text": "Abaque de Smith"
        }
       }
      }
     },
     "metadata": {},
     "output_type": "display_data"
    },
    {
     "name": "stdout",
     "output_type": "stream",
     "text": [
      "\n",
      "📡 Résultats de simulation :\n",
      "→ Fréquence de résonance = 880.00 MHz\n",
      "→ Impédance à f_res      = 48.87+0.26j Ω\n",
      "\n",
      "S11 en dB : [ -0.65286165  -0.69203113  -0.7339651   -0.77889641  -0.82708079\n",
      "  -0.87879943  -0.93436179  -0.99410883  -1.05841663  -1.12770038\n",
      "  -1.20241899  -1.28308021  -1.37024643  -1.46454121  -1.56665673\n",
      "  -1.67736215  -1.79751319  -1.92806297  -2.0700745   -2.22473489\n",
      "  -2.39337189  -2.57747298  -2.77870781  -2.99895468  -3.2403322\n",
      "  -3.50523762  -3.79639394  -4.11690878  -4.47034929  -4.86083924\n",
      "  -5.29318766  -5.7730627   -6.30723218  -6.90390424  -7.57322272\n",
      "  -8.32800841  -9.18490633 -10.16623319 -11.30310053 -12.64102655\n",
      " -14.25084774 -16.25230888 -18.87333511 -22.63780754 -29.26308641\n",
      " -38.64190389 -26.56064028 -21.39682727 -18.2189109  -15.94479361\n",
      " -14.18991993 -12.77349314 -11.59586828 -10.59612562  -9.73417993\n",
      "  -8.98216372  -8.31985808  -7.73208561  -7.20713409  -6.73575744\n",
      "  -6.31051698  -5.92533245  -5.57516684  -5.25579958  -4.9636595\n",
      "  -4.69569943  -4.44930033  -4.22219671  -4.01241798  -3.8182415\n",
      "  -3.63815473  -3.47082433  -3.31507065  -3.16984663  -3.0342201\n",
      "  -2.9073588 ]\n",
      "Seuil pour la bande passante à -3 dB : -35.64 dB\n",
      "Indices où S11 <= -35.64 dB : [45]\n",
      "Impossible de déterminer la bande passante à -3 dB.\n"
     ]
    },
    {
     "data": {
      "image/png": "[encoded data removed]",
      "text/plain": [
       "<Figure size 700x432.624 with 1 Axes>"
      ]
     },
     "metadata": {},
     "output_type": "display_data"
    },
    {
     "name": "stdout",
     "output_type": "stream",
     "text": [
      "\n",
      "Ratio = 1.0138248847926268\n",
      "\n",
      "\n",
      "We are within 2% of fc!\n",
      "\n",
      "\n",
      "------------------------------------------------------Iteration N°4------------------------------------------------------\n",
      "\n",
      "distance meandres = 5.400 mm\n",
      "\n",
      "Number of meanders = 2\n",
      "\n",
      "New distance meandres = 8.100 mm\n",
      "Largeur de piste ifa = 5.400 mm\n",
      "position feed = 31.239 mm\n",
      "\n",
      "Simulation 1/76 | f = 700.00 MHz | S11 = -0.71 dB\n",
      "Simulation 2/76 | f = 704.00 MHz | S11 = -0.75 dB\n",
      "Simulation 3/76 | f = 708.00 MHz | S11 = -0.80 dB\n",
      "Simulation 4/76 | f = 712.00 MHz | S11 = -0.85 dB\n",
      "Simulation 5/76 | f = 716.00 MHz | S11 = -0.91 dB\n",
      "Simulation 6/76 | f = 720.00 MHz | S11 = -0.97 dB\n",
      "Simulation 7/76 | f = 724.00 MHz | S11 = -1.03 dB\n",
      "Simulation 8/76 | f = 728.00 MHz | S11 = -1.10 dB\n",
      "Simulation 9/76 | f = 732.00 MHz | S11 = -1.18 dB\n",
      "Simulation 10/76 | f = 736.00 MHz | S11 = -1.26 dB\n",
      "Simulation 11/76 | f = 740.00 MHz | S11 = -1.35 dB\n",
      "Simulation 12/76 | f = 744.00 MHz | S11 = -1.44 dB\n",
      "Simulation 13/76 | f = 748.00 MHz | S11 = -1.55 dB\n",
      "Simulation 14/76 | f = 752.00 MHz | S11 = -1.66 dB\n",
      "Simulation 15/76 | f = 756.00 MHz | S11 = -1.78 dB\n",
      "Simulation 16/76 | f = 760.00 MHz | S11 = -1.92 dB\n",
      "Simulation 17/76 | f = 764.00 MHz | S11 = -2.07 dB\n",
      "Simulation 18/76 | f = 768.00 MHz | S11 = -2.23 dB\n",
      "Simulation 19/76 | f = 772.00 MHz | S11 = -2.40 dB\n",
      "Simulation 20/76 | f = 776.00 MHz | S11 = -2.59 dB\n",
      "Simulation 21/76 | f = 780.00 MHz | S11 = -2.80 dB\n",
      "Simulation 22/76 | f = 784.00 MHz | S11 = -3.03 dB\n",
      "Simulation 23/76 | f = 788.00 MHz | S11 = -3.29 dB\n",
      "Simulation 24/76 | f = 792.00 MHz | S11 = -3.57 dB\n",
      "Simulation 25/76 | f = 796.00 MHz | S11 = -3.88 dB\n",
      "Simulation 26/76 | f = 800.00 MHz | S11 = -4.22 dB\n",
      "Simulation 27/76 | f = 804.00 MHz | S11 = -4.59 dB\n",
      "Simulation 28/76 | f = 808.00 MHz | S11 = -5.01 dB\n",
      "Simulation 29/76 | f = 812.00 MHz | S11 = -5.48 dB\n",
      "Simulation 30/76 | f = 816.00 MHz | S11 = -6.00 dB\n",
      "Simulation 31/76 | f = 820.00 MHz | S11 = -6.58 dB\n",
      "Simulation 32/76 | f = 824.00 MHz | S11 = -7.23 dB\n",
      "Simulation 33/76 | f = 828.00 MHz | S11 = -7.97 dB\n",
      "Simulation 34/76 | f = 832.00 MHz | S11 = -8.80 dB\n",
      "Simulation 35/76 | f = 836.00 MHz | S11 = -9.76 dB\n",
      "Simulation 36/76 | f = 840.00 MHz | S11 = -10.87 dB\n",
      "Simulation 37/76 | f = 844.00 MHz | S11 = -12.17 dB\n",
      "Simulation 38/76 | f = 848.00 MHz | S11 = -13.73 dB\n",
      "Simulation 39/76 | f = 852.00 MHz | S11 = -15.65 dB\n",
      "Simulation 40/76 | f = 856.00 MHz | S11 = -18.12 dB\n",
      "Simulation 41/76 | f = 860.00 MHz | S11 = -21.54 dB\n",
      "Simulation 42/76 | f = 864.00 MHz | S11 = -26.82 dB\n"
     ]
    },
    {
     "data": {
      "application/vnd.plotly.v1+json": {
       "config": {
        "plotlyServerURL": "https://plot.ly"
       },
       "data": [
        {
         "facecolor": [
          "rgb(2, 157, 250)",
          "rgb(9, 173, 234)",
          "rgb(218, 242, 0)",
          "rgb(132, 255, 26)",
          "rgb(135, 0, 101)",
          "rgb(95, 0, 130)",
          "rgb(140, 0, 97)",
          "rgb(0, 140, 255)",
          "rgb(100, 0, 127)",
          "rgb(110, 0, 120)",
          "rgb(68, 0, 150)",
          "rgb(163, 252, 0)",
          "rgb(5, 165, 242)",
          "rgb(0, 22, 249)",
          "rgb(74, 0, 145)",
          "rgb(49, 0, 164)",
          "rgb(255, 0, 0)",
          "rgb(0, 62, 255)",
          "rgb(75, 0, 145)",
          "rgb(85, 0, 138)",
          "rgb(87, 255, 90)",
          "rgb(74, 0, 146)",
          "rgb(255, 142, 0)",
          "rgb(255, 227, 0)",
          "rgb(255, 74, 0)",
          "rgb(130, 255, 30)",
          "rgb(255, 48, 0)",
          "rgb(255, 13, 0)",
          "rgb(121, 0, 111)",
          "rgb(20, 200, 206)",
          "rgb(255, 4, 0)",
          "rgb(125, 0, 108)",
          "rgb(75, 0, 145)",
          "rgb(130, 0, 105)",
          "rgb(136, 0, 100)",
          "rgb(118, 0, 114)",
          "rgb(84, 0, 139)",
          "rgb(0, 12, 225)",
          "rgb(113, 0, 117)",
          "rgb(142, 0, 96)",
          "rgb(46, 0, 166)",
          "rgb(46, 0, 166)",
          "rgb(1, 0, 199)",
          "rgb(216, 242, 0)",
          "rgb(0, 15, 233)",
          "rgb(150, 0, 90)",
          "rgb(0, 16, 234)"
         ],
         "i": [
          7,
          20,
          2,
          0,
          31,
          31,
          32,
          15,
          33,
          35,
          35,
          25,
          24,
          35,
          23,
          35,
          21,
          24,
          37,
          34,
          25,
          29,
          13,
          12,
          13,
          2,
          13,
          8,
          34,
          1,
          21,
          36,
          16,
          31,
          18,
          33,
          31,
          38,
          28,
          32,
          16,
          29,
          3,
          3,
          38,
          19,
          35
         ],
         "j": [
          14,
          14,
          1,
          1,
          33,
          32,
          33,
          30,
          34,
          37,
          36,
          9,
          22,
          30,
          10,
          15,
          26,
          23,
          38,
          16,
          22,
          36,
          9,
          9,
          8,
          3,
          26,
          26,
          36,
          14,
          2,
          34,
          34,
          34,
          33,
          17,
          28,
          27,
          32,
          19,
          38,
          30,
          38,
          35,
          3,
          33,
          3
         ],
         "k": [
          15,
          7,
          20,
          2,
          32,
          28,
          19,
          7,
          17,
          36,
          29,
          22,
          23,
          15,
          11,
          0,
          2,
          11,
          16,
          17,
          24,
          31,
          12,
          25,
          9,
          0,
          8,
          21,
          37,
          20,
          20,
          31,
          37,
          33,
          6,
          6,
          29,
          5,
          4,
          4,
          5,
          35,
          37,
          0,
          27,
          18,
          37
         ],
         "name": "",
         "type": "mesh3d",
         "x": [
          0,
          0.0081,
          0.0081,
          0,
          -0.065,
          0,
          -0.065,
          0.0135,
          0.0135,
          0.0216,
          0.0216,
          0.027,
          0.027,
          0.0081,
          0.0081,
          0,
          -0.0216666666666667,
          -0.04333333333333338,
          -0.065,
          -0.065,
          0.0135,
          0.0135,
          0.0216,
          0.0216,
          0.027,
          0.027,
          0.0081,
          0,
          -0.04537500000000005,
          -0.02575000000000013,
          -0.006125000000000082,
          -0.03955003793436997,
          -0.05344597111162657,
          -0.05230481728876934,
          -0.03480437753533269,
          -0.01064273520838579,
          -0.02562006167049109,
          -0.01700408478820922,
          -0.007734150290975184
         ],
         "y": [
          0.03393922394270387,
          0.03393922394270387,
          0.02853922394270387,
          0.02853922394270387,
          0.055,
          0,
          0,
          0.055,
          0.005400000000000001,
          0.005400000000000001,
          0.055,
          0.055,
          8.673617379884035e-19,
          8.673617379884035e-19,
          0.0496,
          0.0496,
          0,
          0,
          0.01833333333333335,
          0.03666666666666669,
          0.0384666666666667,
          0.02193333333333334,
          0.0219333333333333,
          0.03846666666666666,
          0.03666666666666665,
          0.01833333333333331,
          0.01426961197135194,
          0.01426961197135194,
          0.055,
          0.055,
          0.055,
          0.03796610094147052,
          0.04132050677149358,
          0.02196976626970871,
          0.01950175624235829,
          0.03994631155746974,
          0.0350045763652625,
          0.02254115665161792,
          0.01306999851313475
         ],
         "z": [
          0,
          0,
          0,
          0,
          0,
          0,
          0,
          0,
          0,
          0,
          0,
          0,
          0,
          0,
          0,
          0,
          0,
          0,
          0,
          0,
          0,
          0,
          0,
          0,
          0,
          0,
          0,
          0,
          0,
          0,
          0,
          0,
          0,
          0,
          0,
          0,
          0,
          0,
          0
         ]
        },
        {
         "line": {
          "color": "rgb(50, 50, 50)",
          "width": 1.5
         },
         "mode": "lines",
         "showlegend": false,
         "type": "scatter3d",
         "x": [
          0.0135,
          0.0081,
          0,
          0.0135,
          null,
          0.0135,
          0.0081,
          0.0135,
          0.0135,
          null,
          0.0081,
          0.0081,
          0.0135,
          0.0081,
          null,
          0,
          0.0081,
          0.0081,
          0,
          null,
          -0.03955003793436997,
          -0.05230481728876934,
          -0.05344597111162657,
          -0.03955003793436997,
          null,
          -0.03955003793436997,
          -0.05344597111162657,
          -0.04537500000000005,
          -0.03955003793436997,
          null,
          -0.05344597111162657,
          -0.05230481728876934,
          -0.065,
          -0.05344597111162657,
          null,
          0,
          -0.006125000000000082,
          0.0135,
          0,
          null,
          -0.05230481728876934,
          -0.03480437753533269,
          -0.04333333333333338,
          -0.05230481728876934,
          null,
          -0.01064273520838579,
          -0.01700408478820922,
          -0.02562006167049109,
          -0.01064273520838579,
          null,
          -0.01064273520838579,
          -0.02562006167049109,
          -0.02575000000000013,
          -0.01064273520838579,
          null,
          0.027,
          0.0216,
          0.0216,
          0.027,
          null,
          0.027,
          0.0216,
          0.0216,
          0.027,
          null,
          -0.01064273520838579,
          -0.006125000000000082,
          0,
          -0.01064273520838579,
          null,
          0.0216,
          0.0216,
          0.027,
          0.0216,
          null,
          -0.01064273520838579,
          0,
          0,
          -0.01064273520838579,
          null,
          0.0135,
          0.0081,
          0.0081,
          0.0135,
          null,
          0.027,
          0.0216,
          0.027,
          0.027,
          null,
          -0.01700408478820922,
          -0.007734150290975184,
          -0.0216666666666667,
          -0.01700408478820922,
          null,
          -0.03480437753533269,
          -0.0216666666666667,
          -0.04333333333333338,
          -0.03480437753533269,
          null,
          0.027,
          0.0216,
          0.027,
          0.027,
          null,
          -0.02575000000000013,
          -0.02562006167049109,
          -0.03955003793436997,
          -0.02575000000000013,
          null,
          0.0081,
          0.0216,
          0.027,
          0.0081,
          null,
          0.027,
          0.0216,
          0.027,
          0.027,
          null,
          0.0081,
          0.0135,
          0.0216,
          0.0081,
          null,
          0.0081,
          0,
          0,
          0.0081,
          null,
          0.0081,
          0.0081,
          0.0135,
          0.0081,
          null,
          0.0135,
          0.0081,
          0.0135,
          0.0135,
          null,
          -0.03480437753533269,
          -0.02562006167049109,
          -0.01700408478820922,
          -0.03480437753533269,
          null,
          0.0081,
          0.0081,
          0.0135,
          0.0081,
          null,
          0.0135,
          0.0081,
          0.0135,
          0.0135,
          null,
          -0.02562006167049109,
          -0.03480437753533269,
          -0.03955003793436997,
          -0.02562006167049109,
          null,
          -0.0216666666666667,
          -0.03480437753533269,
          -0.01700408478820922,
          -0.0216666666666667,
          null,
          -0.03955003793436997,
          -0.03480437753533269,
          -0.05230481728876934,
          -0.03955003793436997,
          null,
          -0.065,
          -0.05230481728876934,
          -0.065,
          -0.065,
          null,
          -0.05230481728876934,
          -0.04333333333333338,
          -0.065,
          -0.05230481728876934,
          null,
          -0.03955003793436997,
          -0.04537500000000005,
          -0.02575000000000013,
          -0.03955003793436997,
          null,
          -0.007734150290975184,
          0,
          0,
          -0.007734150290975184,
          null,
          -0.04537500000000005,
          -0.05344597111162657,
          -0.065,
          -0.04537500000000005,
          null,
          -0.05344597111162657,
          -0.065,
          -0.065,
          -0.05344597111162657,
          null,
          -0.0216666666666667,
          -0.007734150290975184,
          0,
          -0.0216666666666667,
          null,
          -0.02575000000000013,
          -0.006125000000000082,
          -0.01064273520838579,
          -0.02575000000000013,
          null,
          0,
          -0.007734150290975184,
          -0.01700408478820922,
          0,
          null,
          0,
          -0.01064273520838579,
          0,
          0,
          null,
          -0.007734150290975184,
          0,
          0,
          -0.007734150290975184,
          null,
          -0.065,
          -0.05230481728876934,
          -0.065,
          -0.065,
          null,
          -0.01064273520838579,
          0,
          -0.01700408478820922,
          -0.01064273520838579,
          null
         ],
         "y": [
          0.055,
          0.0496,
          0.0496,
          0.055,
          null,
          0.0384666666666667,
          0.0496,
          0.055,
          0.0384666666666667,
          null,
          0.02853922394270387,
          0.03393922394270387,
          0.0384666666666667,
          0.02853922394270387,
          null,
          0.03393922394270387,
          0.03393922394270387,
          0.02853922394270387,
          0.03393922394270387,
          null,
          0.03796610094147052,
          0.02196976626970871,
          0.04132050677149358,
          0.03796610094147052,
          null,
          0.03796610094147052,
          0.04132050677149358,
          0.055,
          0.03796610094147052,
          null,
          0.04132050677149358,
          0.02196976626970871,
          0.03666666666666669,
          0.04132050677149358,
          null,
          0.0496,
          0.055,
          0.055,
          0.0496,
          null,
          0.02196976626970871,
          0.01950175624235829,
          0,
          0.02196976626970871,
          null,
          0.03994631155746974,
          0.02254115665161792,
          0.0350045763652625,
          0.03994631155746974,
          null,
          0.03994631155746974,
          0.0350045763652625,
          0.055,
          0.03994631155746974,
          null,
          0.01833333333333331,
          0.005400000000000001,
          0.0219333333333333,
          0.01833333333333331,
          null,
          0.03666666666666665,
          0.0219333333333333,
          0.03846666666666666,
          0.03666666666666665,
          null,
          0.03994631155746974,
          0.055,
          0.0496,
          0.03994631155746974,
          null,
          0.03846666666666666,
          0.055,
          0.055,
          0.03846666666666666,
          null,
          0.03994631155746974,
          0.0496,
          0.03393922394270387,
          0.03994631155746974,
          null,
          0.02193333333333334,
          0.01426961197135194,
          0.02853922394270387,
          0.02193333333333334,
          null,
          0.03666666666666665,
          0.03846666666666666,
          0.055,
          0.03666666666666665,
          null,
          0.02254115665161792,
          0.01306999851313475,
          0,
          0.02254115665161792,
          null,
          0.01950175624235829,
          0,
          0,
          0.01950175624235829,
          null,
          0.01833333333333331,
          0.0219333333333333,
          0.03666666666666665,
          0.01833333333333331,
          null,
          0.055,
          0.0350045763652625,
          0.03796610094147052,
          0.055,
          null,
          8.673617379884035e-19,
          0.005400000000000001,
          8.673617379884035e-19,
          8.673617379884035e-19,
          null,
          8.673617379884035e-19,
          0.005400000000000001,
          0.01833333333333331,
          8.673617379884035e-19,
          null,
          8.673617379884035e-19,
          0.005400000000000001,
          0.005400000000000001,
          8.673617379884035e-19,
          null,
          0.02853922394270387,
          0.02853922394270387,
          0.03393922394270387,
          0.02853922394270387,
          null,
          8.673617379884035e-19,
          0.01426961197135194,
          0.005400000000000001,
          8.673617379884035e-19,
          null,
          0.005400000000000001,
          0.01426961197135194,
          0.02193333333333334,
          0.005400000000000001,
          null,
          0.01950175624235829,
          0.0350045763652625,
          0.02254115665161792,
          0.01950175624235829,
          null,
          0.03393922394270387,
          0.0496,
          0.0384666666666667,
          0.03393922394270387,
          null,
          0.02193333333333334,
          0.02853922394270387,
          0.0384666666666667,
          0.02193333333333334,
          null,
          0.0350045763652625,
          0.01950175624235829,
          0.03796610094147052,
          0.0350045763652625,
          null,
          0,
          0.01950175624235829,
          0.02254115665161792,
          0,
          null,
          0.03796610094147052,
          0.01950175624235829,
          0.02196976626970871,
          0.03796610094147052,
          null,
          0.01833333333333335,
          0.02196976626970871,
          0,
          0.01833333333333335,
          null,
          0.02196976626970871,
          0,
          0,
          0.02196976626970871,
          null,
          0.03796610094147052,
          0.055,
          0.055,
          0.03796610094147052,
          null,
          0.01306999851313475,
          0.01426961197135194,
          0,
          0.01306999851313475,
          null,
          0.055,
          0.04132050677149358,
          0.055,
          0.055,
          null,
          0.04132050677149358,
          0.03666666666666669,
          0.055,
          0.04132050677149358,
          null,
          0,
          0.01306999851313475,
          0,
          0,
          null,
          0.055,
          0.055,
          0.03994631155746974,
          0.055,
          null,
          0.02853922394270387,
          0.01306999851313475,
          0.02254115665161792,
          0.02853922394270387,
          null,
          0.02853922394270387,
          0.03994631155746974,
          0.03393922394270387,
          0.02853922394270387,
          null,
          0.01306999851313475,
          0.02853922394270387,
          0.01426961197135194,
          0.01306999851313475,
          null,
          0.03666666666666669,
          0.02196976626970871,
          0.01833333333333335,
          0.03666666666666669,
          null,
          0.03994631155746974,
          0.02853922394270387,
          0.02254115665161792,
          0.03994631155746974,
          null
         ],
         "z": [
          0,
          0,
          0,
          0,
          null,
          0,
          0,
          0,
          0,
          null,
          0,
          0,
          0,
          0,
          null,
          0,
          0,
          0,
          0,
          null,
          0,
          0,
          0,
          0,
          null,
          0,
          0,
          0,
          0,
          null,
          0,
          0,
          0,
          0,
          null,
          0,
          0,
          0,
          0,
          null,
          0,
          0,
          0,
          0,
          null,
          0,
          0,
          0,
          0,
          null,
          0,
          0,
          0,
          0,
          null,
          0,
          0,
          0,
          0,
          null,
          0,
          0,
          0,
          0,
          null,
          0,
          0,
          0,
          0,
          null,
          0,
          0,
          0,
          0,
          null,
          0,
          0,
          0,
          0,
          null,
          0,
          0,
          0,
          0,
          null,
          0,
          0,
          0,
          0,
          null,
          0,
          0,
          0,
          0,
          null,
          0,
          0,
          0,
          0,
          null,
          0,
          0,
          0,
          0,
          null,
          0,
          0,
          0,
          0,
          null,
          0,
          0,
          0,
          0,
          null,
          0,
          0,
          0,
          0,
          null,
          0,
          0,
          0,
          0,
          null,
          0,
          0,
          0,
          0,
          null,
          0,
          0,
          0,
          0,
          null,
          0,
          0,
          0,
          0,
          null,
          0,
          0,
          0,
          0,
          null,
          0,
          0,
          0,
          0,
          null,
          0,
          0,
          0,
          0,
          null,
          0,
          0,
          0,
          0,
          null,
          0,
          0,
          0,
          0,
          null,
          0,
          0,
          0,
          0,
          null,
          0,
          0,
          0,
          0,
          null,
          0,
          0,
          0,
          0,
          null,
          0,
          0,
          0,
          0,
          null,
          0,
          0,
          0,
          0,
          null,
          0,
          0,
          0,
          0,
          null,
          0,
          0,
          0,
          0,
          null,
          0,
          0,
          0,
          0,
          null,
          0,
          0,
          0,
          0,
          null,
          0,
          0,
          0,
          0,
          null,
          0,
          0,
          0,
          0,
          null,
          0,
          0,
          0,
          0,
          null,
          0,
          0,
          0,
          0,
          null,
          0,
          0,
          0,
          0,
          null
         ]
        },
        {
         "hoverinfo": "none",
         "marker": {
          "color": [
           0.018236690382798546,
           3.223028258300107
          ],
          "colorscale": [
           [
            0,
            "rgb(150, 0, 90)"
           ],
           [
            0.125,
            "rgb(0, 0, 200)"
           ],
           [
            0.25,
            "rgb(0, 25, 255)"
           ],
           [
            0.375,
            "rgb(0, 152, 255)"
           ],
           [
            0.5,
            "rgb(44, 255, 150)"
           ],
           [
            0.625,
            "rgb(151, 255, 0)"
           ],
           [
            0.75,
            "rgb(255, 234, 0)"
           ],
           [
            0.875,
            "rgb(255, 111, 0)"
           ],
           [
            1,
            "rgb(255, 0, 0)"
           ]
          ],
          "showscale": true,
          "size": 0.1
         },
         "mode": "markers",
         "showlegend": false,
         "type": "scatter3d",
         "x": [
          0
         ],
         "y": [
          0.03393922394270387
         ],
         "z": [
          0
         ]
        },
        {
         "marker": {
          "color": "red",
          "size": 6,
          "symbol": "circle"
         },
         "mode": "markers+text",
         "name": "Feed Point",
         "text": [
          "Feed Point"
         ],
         "textposition": "top center",
         "type": "scatter3d",
         "x": [
          0
         ],
         "y": [
          0.031239223942703873
         ],
         "z": [
          0
         ]
        }
       ],
       "layout": {
        "height": 800,
        "scene": {
         "aspectratio": {
          "x": 1,
          "y": 0.5978260869565217,
          "z": 0.3
         },
         "xaxis": {
          "backgroundcolor": "rgb(230, 230, 230)",
          "gridcolor": "rgb(255, 255, 255)",
          "showbackground": true,
          "zerolinecolor": "rgb(255, 255, 255)"
         },
         "yaxis": {
          "backgroundcolor": "rgb(230, 230, 230)",
          "gridcolor": "rgb(255, 255, 255)",
          "showbackground": true,
          "zerolinecolor": "rgb(255, 255, 255)"
         },
         "zaxis": {
          "backgroundcolor": "rgb(230, 230, 230)",
          "gridcolor": "rgb(255, 255, 255)",
          "showbackground": true,
          "zerolinecolor": "rgb(255, 255, 255)"
         }
        },
        "template": {
         "data": {
          "bar": [
           {
            "error_x": {
             "color": "#2a3f5f"
            },
            "error_y": {
             "color": "#2a3f5f"
            },
            "marker": {
             "line": {
              "color": "#E5ECF6",
              "width": 0.5
             },
             "pattern": {
              "fillmode": "overlay",
              "size": 10,
              "solidity": 0.2
             }
            },
            "type": "bar"
           }
          ],
          "barpolar": [
           {
            "marker": {
             "line": {
              "color": "#E5ECF6",
              "width": 0.5
             },
             "pattern": {
              "fillmode": "overlay",
              "size": 10,
              "solidity": 0.2
             }
            },
            "type": "barpolar"
           }
          ],
          "carpet": [
           {
            "aaxis": {
             "endlinecolor": "#2a3f5f",
             "gridcolor": "white",
             "linecolor": "white",
             "minorgridcolor": "white",
             "startlinecolor": "#2a3f5f"
            },
            "baxis": {
             "endlinecolor": "#2a3f5f",
             "gridcolor": "white",
             "linecolor": "white",
             "minorgridcolor": "white",
             "startlinecolor": "#2a3f5f"
            },
            "type": "carpet"
           }
          ],
          "choropleth": [
           {
            "colorbar": {
             "outlinewidth": 0,
             "ticks": ""
            },
            "type": "choropleth"
           }
          ],
          "contour": [
           {
            "colorbar": {
             "outlinewidth": 0,
             "ticks": ""
            },
            "colorscale": [
             [
              0,
              "#0d0887"
             ],
             [
              0.1111111111111111,
              "#46039f"
             ],
             [
              0.2222222222222222,
              "#7201a8"
             ],
             [
              0.3333333333333333,
              "#9c179e"
             ],
             [
              0.4444444444444444,
              "#bd3786"
             ],
             [
              0.5555555555555556,
              "#d8576b"
             ],
             [
              0.6666666666666666,
              "#ed7953"
             ],
             [
              0.7777777777777778,
              "#fb9f3a"
             ],
             [
              0.8888888888888888,
              "#fdca26"
             ],
             [
              1,
              "#f0f921"
             ]
            ],
            "type": "contour"
           }
          ],
          "contourcarpet": [
           {
            "colorbar": {
             "outlinewidth": 0,
             "ticks": ""
            },
            "type": "contourcarpet"
           }
          ],
          "heatmap": [
           {
            "colorbar": {
             "outlinewidth": 0,
             "ticks": ""
            },
            "colorscale": [
             [
              0,
              "#0d0887"
             ],
             [
              0.1111111111111111,
              "#46039f"
             ],
             [
              0.2222222222222222,
              "#7201a8"
             ],
             [
              0.3333333333333333,
              "#9c179e"
             ],
             [
              0.4444444444444444,
              "#bd3786"
             ],
             [
              0.5555555555555556,
              "#d8576b"
             ],
             [
              0.6666666666666666,
              "#ed7953"
             ],
             [
              0.7777777777777778,
              "#fb9f3a"
             ],
             [
              0.8888888888888888,
              "#fdca26"
             ],
             [
              1,
              "#f0f921"
             ]
            ],
            "type": "heatmap"
           }
          ],
          "heatmapgl": [
           {
            "colorbar": {
             "outlinewidth": 0,
             "ticks": ""
            },
            "colorscale": [
             [
              0,
              "#0d0887"
             ],
             [
              0.1111111111111111,
              "#46039f"
             ],
             [
              0.2222222222222222,
              "#7201a8"
             ],
             [
              0.3333333333333333,
              "#9c179e"
             ],
             [
              0.4444444444444444,
              "#bd3786"
             ],
             [
              0.5555555555555556,
              "#d8576b"
             ],
             [
              0.6666666666666666,
              "#ed7953"
             ],
             [
              0.7777777777777778,
              "#fb9f3a"
             ],
             [
              0.8888888888888888,
              "#fdca26"
             ],
             [
              1,
              "#f0f921"
             ]
            ],
            "type": "heatmapgl"
           }
          ],
          "histogram": [
           {
            "marker": {
             "pattern": {
              "fillmode": "overlay",
              "size": 10,
              "solidity": 0.2
             }
            },
            "type": "histogram"
           }
          ],
          "histogram2d": [
           {
            "colorbar": {
             "outlinewidth": 0,
             "ticks": ""
            },
            "colorscale": [
             [
              0,
              "#0d0887"
             ],
             [
              0.1111111111111111,
              "#46039f"
             ],
             [
              0.2222222222222222,
              "#7201a8"
             ],
             [
              0.3333333333333333,
              "#9c179e"
             ],
             [
              0.4444444444444444,
              "#bd3786"
             ],
             [
              0.5555555555555556,
              "#d8576b"
             ],
             [
              0.6666666666666666,
              "#ed7953"
             ],
             [
              0.7777777777777778,
              "#fb9f3a"
             ],
             [
              0.8888888888888888,
              "#fdca26"
             ],
             [
              1,
              "#f0f921"
             ]
            ],
            "type": "histogram2d"
           }
          ],
          "histogram2dcontour": [
           {
            "colorbar": {
             "outlinewidth": 0,
             "ticks": ""
            },
            "colorscale": [
             [
              0,
              "#0d0887"
             ],
             [
              0.1111111111111111,
              "#46039f"
             ],
             [
              0.2222222222222222,
              "#7201a8"
             ],
             [
              0.3333333333333333,
              "#9c179e"
             ],
             [
              0.4444444444444444,
              "#bd3786"
             ],
             [
              0.5555555555555556,
              "#d8576b"
             ],
             [
              0.6666666666666666,
              "#ed7953"
             ],
             [
              0.7777777777777778,
              "#fb9f3a"
             ],
             [
              0.8888888888888888,
              "#fdca26"
             ],
             [
              1,
              "#f0f921"
             ]
            ],
            "type": "histogram2dcontour"
           }
          ],
          "mesh3d": [
           {
            "colorbar": {
             "outlinewidth": 0,
             "ticks": ""
            },
            "type": "mesh3d"
           }
          ],
          "parcoords": [
           {
            "line": {
             "colorbar": {
              "outlinewidth": 0,
              "ticks": ""
             }
            },
            "type": "parcoords"
           }
          ],
          "pie": [
           {
            "automargin": true,
            "type": "pie"
           }
          ],
          "scatter": [
           {
            "fillpattern": {
             "fillmode": "overlay",
             "size": 10,
             "solidity": 0.2
            },
            "type": "scatter"
           }
          ],
          "scatter3d": [
           {
            "line": {
             "colorbar": {
              "outlinewidth": 0,
              "ticks": ""
             }
            },
            "marker": {
             "colorbar": {
              "outlinewidth": 0,
              "ticks": ""
             }
            },
            "type": "scatter3d"
           }
          ],
          "scattercarpet": [
           {
            "marker": {
             "colorbar": {
              "outlinewidth": 0,
              "ticks": ""
             }
            },
            "type": "scattercarpet"
           }
          ],
          "scattergeo": [
           {
            "marker": {
             "colorbar": {
              "outlinewidth": 0,
              "ticks": ""
             }
            },
            "type": "scattergeo"
           }
          ],
          "scattergl": [
           {
            "marker": {
             "colorbar": {
              "outlinewidth": 0,
              "ticks": ""
             }
            },
            "type": "scattergl"
           }
          ],
          "scattermapbox": [
           {
            "marker": {
             "colorbar": {
              "outlinewidth": 0,
              "ticks": ""
             }
            },
            "type": "scattermapbox"
           }
          ],
          "scatterpolar": [
           {
            "marker": {
             "colorbar": {
              "outlinewidth": 0,
              "ticks": ""
             }
            },
            "type": "scatterpolar"
           }
          ],
          "scatterpolargl": [
           {
            "marker": {
             "colorbar": {
              "outlinewidth": 0,
              "ticks": ""
             }
            },
            "type": "scatterpolargl"
           }
          ],
          "scatterternary": [
           {
            "marker": {
             "colorbar": {
              "outlinewidth": 0,
              "ticks": ""
             }
            },
            "type": "scatterternary"
           }
          ],
          "surface": [
           {
            "colorbar": {
             "outlinewidth": 0,
             "ticks": ""
            },
            "colorscale": [
             [
              0,
              "#0d0887"
             ],
             [
              0.1111111111111111,
              "#46039f"
             ],
             [
              0.2222222222222222,
              "#7201a8"
             ],
             [
              0.3333333333333333,
              "#9c179e"
             ],
             [
              0.4444444444444444,
              "#bd3786"
             ],
             [
              0.5555555555555556,
              "#d8576b"
             ],
             [
              0.6666666666666666,
              "#ed7953"
             ],
             [
              0.7777777777777778,
              "#fb9f3a"
             ],
             [
              0.8888888888888888,
              "#fdca26"
             ],
             [
              1,
              "#f0f921"
             ]
            ],
            "type": "surface"
           }
          ],
          "table": [
           {
            "cells": {
             "fill": {
              "color": "#EBF0F8"
             },
             "line": {
              "color": "white"
             }
            },
            "header": {
             "fill": {
              "color": "#C8D4E3"
             },
             "line": {
              "color": "white"
             }
            },
            "type": "table"
           }
          ]
         },
         "layout": {
          "annotationdefaults": {
           "arrowcolor": "#2a3f5f",
           "arrowhead": 0,
           "arrowwidth": 1
          },
          "autotypenumbers": "strict",
          "coloraxis": {
           "colorbar": {
            "outlinewidth": 0,
            "ticks": ""
           }
          },
          "colorscale": {
           "diverging": [
            [
             0,
             "#8e0152"
            ],
            [
             0.1,
             "#c51b7d"
            ],
            [
             0.2,
             "#de77ae"
            ],
            [
             0.3,
             "#f1b6da"
            ],
            [
             0.4,
             "#fde0ef"
            ],
            [
             0.5,
             "#f7f7f7"
            ],
            [
             0.6,
             "#e6f5d0"
            ],
            [
             0.7,
             "#b8e186"
            ],
            [
             0.8,
             "#7fbc41"
            ],
            [
             0.9,
             "#4d9221"
            ],
            [
             1,
             "#276419"
            ]
           ],
           "sequential": [
            [
             0,
             "#0d0887"
            ],
            [
             0.1111111111111111,
             "#46039f"
            ],
            [
             0.2222222222222222,
             "#7201a8"
            ],
            [
             0.3333333333333333,
             "#9c179e"
            ],
            [
             0.4444444444444444,
             "#bd3786"
            ],
            [
             0.5555555555555556,
             "#d8576b"
            ],
            [
             0.6666666666666666,
             "#ed7953"
            ],
            [
             0.7777777777777778,
             "#fb9f3a"
            ],
            [
             0.8888888888888888,
             "#fdca26"
            ],
            [
             1,
             "#f0f921"
            ]
           ],
           "sequentialminus": [
            [
             0,
             "#0d0887"
            ],
            [
             0.1111111111111111,
             "#46039f"
            ],
            [
             0.2222222222222222,
             "#7201a8"
            ],
            [
             0.3333333333333333,
             "#9c179e"
            ],
            [
             0.4444444444444444,
             "#bd3786"
            ],
            [
             0.5555555555555556,
             "#d8576b"
            ],
            [
             0.6666666666666666,
             "#ed7953"
            ],
            [
             0.7777777777777778,
             "#fb9f3a"
            ],
            [
             0.8888888888888888,
             "#fdca26"
            ],
            [
             1,
             "#f0f921"
            ]
           ]
          },
          "colorway": [
           "#636efa",
           "#EF553B",
           "#00cc96",
           "#ab63fa",
           "#FFA15A",
           "#19d3f3",
           "#FF6692",
           "#B6E880",
           "#FF97FF",
           "#FECB52"
          ],
          "font": {
           "color": "#2a3f5f"
          },
          "geo": {
           "bgcolor": "white",
           "lakecolor": "white",
           "landcolor": "#E5ECF6",
           "showlakes": true,
           "showland": true,
           "subunitcolor": "white"
          },
          "hoverlabel": {
           "align": "left"
          },
          "hovermode": "closest",
          "mapbox": {
           "style": "light"
          },
          "paper_bgcolor": "white",
          "plot_bgcolor": "#E5ECF6",
          "polar": {
           "angularaxis": {
            "gridcolor": "white",
            "linecolor": "white",
            "ticks": ""
           },
           "bgcolor": "#E5ECF6",
           "radialaxis": {
            "gridcolor": "white",
            "linecolor": "white",
            "ticks": ""
           }
          },
          "scene": {
           "xaxis": {
            "backgroundcolor": "#E5ECF6",
            "gridcolor": "white",
            "gridwidth": 2,
            "linecolor": "white",
            "showbackground": true,
            "ticks": "",
            "zerolinecolor": "white"
           },
           "yaxis": {
            "backgroundcolor": "#E5ECF6",
            "gridcolor": "white",
            "gridwidth": 2,
            "linecolor": "white",
            "showbackground": true,
            "ticks": "",
            "zerolinecolor": "white"
           },
           "zaxis": {
            "backgroundcolor": "#E5ECF6",
            "gridcolor": "white",
            "gridwidth": 2,
            "linecolor": "white",
            "showbackground": true,
            "ticks": "",
            "zerolinecolor": "white"
           }
          },
          "shapedefaults": {
           "line": {
            "color": "#2a3f5f"
           }
          },
          "ternary": {
           "aaxis": {
            "gridcolor": "white",
            "linecolor": "white",
            "ticks": ""
           },
           "baxis": {
            "gridcolor": "white",
            "linecolor": "white",
            "ticks": ""
           },
           "bgcolor": "#E5ECF6",
           "caxis": {
            "gridcolor": "white",
            "linecolor": "white",
            "ticks": ""
           }
          },
          "title": {
           "x": 0.05
          },
          "xaxis": {
           "automargin": true,
           "gridcolor": "white",
           "linecolor": "white",
           "ticks": "",
           "title": {
            "standoff": 15
           },
           "zerolinecolor": "white",
           "zerolinewidth": 2
          },
          "yaxis": {
           "automargin": true,
           "gridcolor": "white",
           "linecolor": "white",
           "ticks": "",
           "title": {
            "standoff": 15
           },
           "zerolinecolor": "white",
           "zerolinewidth": 2
          }
         }
        },
        "title": {
         "text": "ifa_meander antenna surface current in radiation mode"
        },
        "width": 800
       }
      }
     },
     "metadata": {},
     "output_type": "display_data"
    },
    {
     "name": "stdout",
     "output_type": "stream",
     "text": [
      "Simulation 43/76 | f = 868.00 MHz | S11 = -32.32 dB\n",
      "Simulation 44/76 | f = 872.00 MHz | S11 = -26.14 dB\n",
      "Simulation 45/76 | f = 876.00 MHz | S11 = -21.28 dB\n",
      "Simulation 46/76 | f = 880.00 MHz | S11 = -18.11 dB\n",
      "Simulation 47/76 | f = 884.00 MHz | S11 = -15.83 dB\n",
      "Simulation 48/76 | f = 888.00 MHz | S11 = -14.06 dB\n",
      "Simulation 49/76 | f = 892.00 MHz | S11 = -12.63 dB\n",
      "Simulation 50/76 | f = 896.00 MHz | S11 = -11.45 dB\n",
      "Simulation 51/76 | f = 900.00 MHz | S11 = -10.45 dB\n",
      "Simulation 52/76 | f = 904.00 MHz | S11 = -9.58 dB\n",
      "Simulation 53/76 | f = 908.00 MHz | S11 = -8.83 dB\n",
      "Simulation 54/76 | f = 912.00 MHz | S11 = -8.17 dB\n",
      "Simulation 55/76 | f = 916.00 MHz | S11 = -7.58 dB\n",
      "Simulation 56/76 | f = 920.00 MHz | S11 = -7.06 dB\n",
      "Simulation 57/76 | f = 924.00 MHz | S11 = -6.59 dB\n",
      "Simulation 58/76 | f = 928.00 MHz | S11 = -6.17 dB\n",
      "Simulation 59/76 | f = 932.00 MHz | S11 = -5.79 dB\n",
      "Simulation 60/76 | f = 936.00 MHz | S11 = -5.44 dB\n",
      "Simulation 61/76 | f = 940.00 MHz | S11 = -5.13 dB\n",
      "Simulation 62/76 | f = 944.00 MHz | S11 = -4.84 dB\n",
      "Simulation 63/76 | f = 948.00 MHz | S11 = -4.58 dB\n",
      "Simulation 64/76 | f = 952.00 MHz | S11 = -4.34 dB\n",
      "Simulation 65/76 | f = 956.00 MHz | S11 = -4.11 dB\n",
      "Simulation 66/76 | f = 960.00 MHz | S11 = -3.91 dB\n",
      "Simulation 67/76 | f = 964.00 MHz | S11 = -3.72 dB\n",
      "Simulation 68/76 | f = 968.00 MHz | S11 = -3.54 dB\n",
      "Simulation 69/76 | f = 972.00 MHz | S11 = -3.38 dB\n",
      "Simulation 70/76 | f = 976.00 MHz | S11 = -3.23 dB\n",
      "Simulation 71/76 | f = 980.00 MHz | S11 = -3.09 dB\n",
      "Simulation 72/76 | f = 984.00 MHz | S11 = -2.95 dB\n",
      "Simulation 73/76 | f = 988.00 MHz | S11 = -2.83 dB\n",
      "Simulation 74/76 | f = 992.00 MHz | S11 = -2.72 dB\n",
      "Simulation 75/76 | f = 996.00 MHz | S11 = -2.61 dB\n",
      "Simulation 76/76 | f = 1000.00 MHz | S11 = -2.51 dB\n"
     ]
    },
    {
     "data": {
      "application/vnd.plotly.v1+json": {
       "config": {
        "plotlyServerURL": "https://plot.ly"
       },
       "data": [
        {
         "hoverinfo": "text",
         "imag": [
          7.6004006621147235,
          7.958364414969111,
          8.300415275221937,
          8.590339309120194,
          8.76830382831662,
          8.743053768260626,
          8.391638982299217,
          7.582166525224844,
          6.236063145340011,
          4.416010840297373,
          2.364243198368214,
          0.41456308972545775,
          -1.1697147088867386,
          -2.28788631930062,
          -2.975656357890924,
          -3.330272273766443,
          -3.4537527460118174,
          -3.4284539782050514,
          -3.313086757426813,
          -3.14674824358401,
          -2.9544234582752686,
          -2.751621373064464,
          -2.547715833316781,
          -2.3481889449352953,
          -2.1560858160776037,
          -1.9729416125620614,
          -1.7993673598593758,
          -1.6354185717973322,
          -1.4808265821631945,
          -1.3351432193771566,
          -1.197830745299444,
          -1.0683171690547781,
          -0.9460296348121513,
          -0.8304139308262171,
          -0.7209452391443021,
          -0.6171333941138989,
          -0.5185247412269391,
          -0.42470193609954326,
          -0.3352825407490085,
          -0.24991696319340267,
          -0.1682860852039005,
          -0.09009879273916249,
          0.0569839826661115,
          0.12634301991721197,
          0.19318977037951876,
          0.2577092214538237,
          0.32007082004263643,
          0.3804299822894342,
          0.43892945421370533,
          0.4957005354388992,
          0.5508641783983648,
          0.6045319750395237,
          0.6568070423696146,
          0.707784817348788,
          0.7575537707343016,
          0.8061960485742458,
          0.853788049180256,
          0.900400942588799,
          0.9461011387704513,
          0.9909507101592393,
          1.035007773457817,
          1.0783268351189956,
          1.1209591044118248,
          1.162952777540087,
          1.2043532958936405,
          1.2452035811671873,
          1.2855442497782845,
          1.3254138087473324,
          1.3648488349650103,
          1.4038841395640693,
          1.4425529189274513,
          1.480886893701967,
          1.5189164370436057,
          1.5566706931929508,
          1.594177687367673
         ],
         "marker": {
          "color": "blue",
          "size": 10
         },
         "mode": "markers+lines",
         "name": "Impedance Points",
         "real": [
          2.6835901701002585,
          3.2334269013312786,
          3.919793155643548,
          4.773444239077066,
          5.822003389421467,
          7.075740416017468,
          8.501177237407152,
          9.985279604711172,
          11.313713949454883,
          12.210719160483041,
          12.462669334103587,
          12.045223070158302,
          11.12807955102812,
          9.958580105988647,
          8.744913818127202,
          7.612362402011329,
          6.61511255807115,
          5.763816430369941,
          5.0480272020153105,
          4.449601566707587,
          3.9493691462010863,
          3.5299279259689467,
          3.176508128926612,
          2.8769806309193187,
          2.6215433903975254,
          2.402328566192957,
          2.213029921894604,
          2.0485840710292895,
          1.9049106999294674,
          1.778706009851105,
          1.667280486497942,
          1.5684321625511557,
          1.4803477224922401,
          1.4015252229274042,
          1.3307135194916164,
          1.2668645952725688,
          1.2090958666025138,
          1.1566602271848736,
          1.1089221170102528,
          1.065338302737408,
          1.0254423601444616,
          0.9888320800218702,
          0.9241209534879744,
          0.8954531872204788,
          0.8689245616993763,
          0.844331804344536,
          0.8214957163404643,
          0.8002578287325389,
          0.7804775868590142,
          0.7620299703733836,
          0.7448034738978626,
          0.7286983874606693,
          0.7136253271130178,
          0.6995039751208333,
          0.6862619963594523,
          0.6738341033777822,
          0.662161247329315,
          0.6511899158177908,
          0.6408715218487485,
          0.6311618706565416,
          0.62202069329687,
          0.6134112376465998,
          0.6052999089030746,
          0.5976559528818575,
          0.5904511764171155,
          0.5836597000110053,
          0.5772577385841039,
          0.5712234067733842,
          0.5655365457260969,
          0.5601785687622518,
          0.5551323236390701,
          0.5503819694575189,
          0.5459128665128091,
          0.5417114776147804,
          0.5377652795964047
         ],
         "text": [
          "Z = 134.180+380.020j at 700.0 MHz",
          "Z = 161.671+397.918j at 704.0 MHz",
          "Z = 195.990+415.021j at 708.0 MHz",
          "Z = 238.672+429.517j at 712.0 MHz",
          "Z = 291.100+438.415j at 716.0 MHz",
          "Z = 353.787+437.153j at 720.0 MHz",
          "Z = 425.059+419.582j at 724.0 MHz",
          "Z = 499.264+379.108j at 728.0 MHz",
          "Z = 565.686+311.803j at 732.0 MHz",
          "Z = 610.536+220.801j at 736.0 MHz",
          "Z = 623.133+118.212j at 740.0 MHz",
          "Z = 602.261+20.728j at 744.0 MHz",
          "Z = 556.404-58.486j at 748.0 MHz",
          "Z = 497.929-114.394j at 752.0 MHz",
          "Z = 437.246-148.783j at 756.0 MHz",
          "Z = 380.618-166.514j at 760.0 MHz",
          "Z = 330.756-172.688j at 764.0 MHz",
          "Z = 288.191-171.423j at 768.0 MHz",
          "Z = 252.401-165.654j at 772.0 MHz",
          "Z = 222.480-157.337j at 776.0 MHz",
          "Z = 197.468-147.721j at 780.0 MHz",
          "Z = 176.496-137.581j at 784.0 MHz",
          "Z = 158.825-127.386j at 788.0 MHz",
          "Z = 143.849-117.409j at 792.0 MHz",
          "Z = 131.077-107.804j at 796.0 MHz",
          "Z = 120.116-98.647j at 800.0 MHz",
          "Z = 110.651-89.968j at 804.0 MHz",
          "Z = 102.429-81.771j at 808.0 MHz",
          "Z = 95.246-74.041j at 812.0 MHz",
          "Z = 88.935-66.757j at 816.0 MHz",
          "Z = 83.364-59.892j at 820.0 MHz",
          "Z = 78.422-53.416j at 824.0 MHz",
          "Z = 74.017-47.301j at 828.0 MHz",
          "Z = 70.076-41.521j at 832.0 MHz",
          "Z = 66.536-36.047j at 836.0 MHz",
          "Z = 63.343-30.857j at 840.0 MHz",
          "Z = 60.455-25.926j at 844.0 MHz",
          "Z = 57.833-21.235j at 848.0 MHz",
          "Z = 55.446-16.764j at 852.0 MHz",
          "Z = 53.267-12.496j at 856.0 MHz",
          "Z = 51.272-8.414j at 860.0 MHz",
          "Z = 49.442-4.505j at 864.0 MHz",
          "Z = 46.206+2.849j at 872.0 MHz",
          "Z = 44.773+6.317j at 876.0 MHz",
          "Z = 43.446+9.659j at 880.0 MHz",
          "Z = 42.217+12.885j at 884.0 MHz",
          "Z = 41.075+16.004j at 888.0 MHz",
          "Z = 40.013+19.021j at 892.0 MHz",
          "Z = 39.024+21.946j at 896.0 MHz",
          "Z = 38.101+24.785j at 900.0 MHz",
          "Z = 37.240+27.543j at 904.0 MHz",
          "Z = 36.435+30.227j at 908.0 MHz",
          "Z = 35.681+32.840j at 912.0 MHz",
          "Z = 34.975+35.389j at 916.0 MHz",
          "Z = 34.313+37.878j at 920.0 MHz",
          "Z = 33.692+40.310j at 924.0 MHz",
          "Z = 33.108+42.689j at 928.0 MHz",
          "Z = 32.559+45.020j at 932.0 MHz",
          "Z = 32.044+47.305j at 936.0 MHz",
          "Z = 31.558+49.548j at 940.0 MHz",
          "Z = 31.101+51.750j at 944.0 MHz",
          "Z = 30.671+53.916j at 948.0 MHz",
          "Z = 30.265+56.048j at 952.0 MHz",
          "Z = 29.883+58.148j at 956.0 MHz",
          "Z = 29.523+60.218j at 960.0 MHz",
          "Z = 29.183+62.260j at 964.0 MHz",
          "Z = 28.863+64.277j at 968.0 MHz",
          "Z = 28.561+66.271j at 972.0 MHz",
          "Z = 28.277+68.242j at 976.0 MHz",
          "Z = 28.009+70.194j at 980.0 MHz",
          "Z = 27.757+72.128j at 984.0 MHz",
          "Z = 27.519+74.044j at 988.0 MHz",
          "Z = 27.296+75.946j at 992.0 MHz",
          "Z = 27.086+77.834j at 996.0 MHz",
          "Z = 26.888+79.709j at 1000.0 MHz"
         ],
         "type": "scattersmith"
        },
        {
         "hoverinfo": "text",
         "imag": [
          -0.015089539220499248
         ],
         "marker": {
          "color": "red",
          "size": 14,
          "symbol": "circle"
         },
         "mode": "markers",
         "name": "Impedance at fC=868.0 MHz",
         "real": [
          0.9551591943595015
         ],
         "text": [
          "Z = 47.758-0.754j at 868.0 MHz"
         ],
         "type": "scattersmith"
        }
       ],
       "layout": {
        "showlegend": true,
        "template": {
         "data": {
          "bar": [
           {
            "error_x": {
             "color": "#2a3f5f"
            },
            "error_y": {
             "color": "#2a3f5f"
            },
            "marker": {
             "line": {
              "color": "#E5ECF6",
              "width": 0.5
             },
             "pattern": {
              "fillmode": "overlay",
              "size": 10,
              "solidity": 0.2
             }
            },
            "type": "bar"
           }
          ],
          "barpolar": [
           {
            "marker": {
             "line": {
              "color": "#E5ECF6",
              "width": 0.5
             },
             "pattern": {
              "fillmode": "overlay",
              "size": 10,
              "solidity": 0.2
             }
            },
            "type": "barpolar"
           }
          ],
          "carpet": [
           {
            "aaxis": {
             "endlinecolor": "#2a3f5f",
             "gridcolor": "white",
             "linecolor": "white",
             "minorgridcolor": "white",
             "startlinecolor": "#2a3f5f"
            },
            "baxis": {
             "endlinecolor": "#2a3f5f",
             "gridcolor": "white",
             "linecolor": "white",
             "minorgridcolor": "white",
             "startlinecolor": "#2a3f5f"
            },
            "type": "carpet"
           }
          ],
          "choropleth": [
           {
            "colorbar": {
             "outlinewidth": 0,
             "ticks": ""
            },
            "type": "choropleth"
           }
          ],
          "contour": [
           {
            "colorbar": {
             "outlinewidth": 0,
             "ticks": ""
            },
            "colorscale": [
             [
              0,
              "#0d0887"
             ],
             [
              0.1111111111111111,
              "#46039f"
             ],
             [
              0.2222222222222222,
              "#7201a8"
             ],
             [
              0.3333333333333333,
              "#9c179e"
             ],
             [
              0.4444444444444444,
              "#bd3786"
             ],
             [
              0.5555555555555556,
              "#d8576b"
             ],
             [
              0.6666666666666666,
              "#ed7953"
             ],
             [
              0.7777777777777778,
              "#fb9f3a"
             ],
             [
              0.8888888888888888,
              "#fdca26"
             ],
             [
              1,
              "#f0f921"
             ]
            ],
            "type": "contour"
           }
          ],
          "contourcarpet": [
           {
            "colorbar": {
             "outlinewidth": 0,
             "ticks": ""
            },
            "type": "contourcarpet"
           }
          ],
          "heatmap": [
           {
            "colorbar": {
             "outlinewidth": 0,
             "ticks": ""
            },
            "colorscale": [
             [
              0,
              "#0d0887"
             ],
             [
              0.1111111111111111,
              "#46039f"
             ],
             [
              0.2222222222222222,
              "#7201a8"
             ],
             [
              0.3333333333333333,
              "#9c179e"
             ],
             [
              0.4444444444444444,
              "#bd3786"
             ],
             [
              0.5555555555555556,
              "#d8576b"
             ],
             [
              0.6666666666666666,
              "#ed7953"
             ],
             [
              0.7777777777777778,
              "#fb9f3a"
             ],
             [
              0.8888888888888888,
              "#fdca26"
             ],
             [
              1,
              "#f0f921"
             ]
            ],
            "type": "heatmap"
           }
          ],
          "heatmapgl": [
           {
            "colorbar": {
             "outlinewidth": 0,
             "ticks": ""
            },
            "colorscale": [
             [
              0,
              "#0d0887"
             ],
             [
              0.1111111111111111,
              "#46039f"
             ],
             [
              0.2222222222222222,
              "#7201a8"
             ],
             [
              0.3333333333333333,
              "#9c179e"
             ],
             [
              0.4444444444444444,
              "#bd3786"
             ],
             [
              0.5555555555555556,
              "#d8576b"
             ],
             [
              0.6666666666666666,
              "#ed7953"
             ],
             [
              0.7777777777777778,
              "#fb9f3a"
             ],
             [
              0.8888888888888888,
              "#fdca26"
             ],
             [
              1,
              "#f0f921"
             ]
            ],
            "type": "heatmapgl"
           }
          ],
          "histogram": [
           {
            "marker": {
             "pattern": {
              "fillmode": "overlay",
              "size": 10,
              "solidity": 0.2
             }
            },
            "type": "histogram"
           }
          ],
          "histogram2d": [
           {
            "colorbar": {
             "outlinewidth": 0,
             "ticks": ""
            },
            "colorscale": [
             [
              0,
              "#0d0887"
             ],
             [
              0.1111111111111111,
              "#46039f"
             ],
             [
              0.2222222222222222,
              "#7201a8"
             ],
             [
              0.3333333333333333,
              "#9c179e"
             ],
             [
              0.4444444444444444,
              "#bd3786"
             ],
             [
              0.5555555555555556,
              "#d8576b"
             ],
             [
              0.6666666666666666,
              "#ed7953"
             ],
             [
              0.7777777777777778,
              "#fb9f3a"
             ],
             [
              0.8888888888888888,
              "#fdca26"
             ],
             [
              1,
              "#f0f921"
             ]
            ],
            "type": "histogram2d"
           }
          ],
          "histogram2dcontour": [
           {
            "colorbar": {
             "outlinewidth": 0,
             "ticks": ""
            },
            "colorscale": [
             [
              0,
              "#0d0887"
             ],
             [
              0.1111111111111111,
              "#46039f"
             ],
             [
              0.2222222222222222,
              "#7201a8"
             ],
             [
              0.3333333333333333,
              "#9c179e"
             ],
             [
              0.4444444444444444,
              "#bd3786"
             ],
             [
              0.5555555555555556,
              "#d8576b"
             ],
             [
              0.6666666666666666,
              "#ed7953"
             ],
             [
              0.7777777777777778,
              "#fb9f3a"
             ],
             [
              0.8888888888888888,
              "#fdca26"
             ],
             [
              1,
              "#f0f921"
             ]
            ],
            "type": "histogram2dcontour"
           }
          ],
          "mesh3d": [
           {
            "colorbar": {
             "outlinewidth": 0,
             "ticks": ""
            },
            "type": "mesh3d"
           }
          ],
          "parcoords": [
           {
            "line": {
             "colorbar": {
              "outlinewidth": 0,
              "ticks": ""
             }
            },
            "type": "parcoords"
           }
          ],
          "pie": [
           {
            "automargin": true,
            "type": "pie"
           }
          ],
          "scatter": [
           {
            "fillpattern": {
             "fillmode": "overlay",
             "size": 10,
             "solidity": 0.2
            },
            "type": "scatter"
           }
          ],
          "scatter3d": [
           {
            "line": {
             "colorbar": {
              "outlinewidth": 0,
              "ticks": ""
             }
            },
            "marker": {
             "colorbar": {
              "outlinewidth": 0,
              "ticks": ""
             }
            },
            "type": "scatter3d"
           }
          ],
          "scattercarpet": [
           {
            "marker": {
             "colorbar": {
              "outlinewidth": 0,
              "ticks": ""
             }
            },
            "type": "scattercarpet"
           }
          ],
          "scattergeo": [
           {
            "marker": {
             "colorbar": {
              "outlinewidth": 0,
              "ticks": ""
             }
            },
            "type": "scattergeo"
           }
          ],
          "scattergl": [
           {
            "marker": {
             "colorbar": {
              "outlinewidth": 0,
              "ticks": ""
             }
            },
            "type": "scattergl"
           }
          ],
          "scattermapbox": [
           {
            "marker": {
             "colorbar": {
              "outlinewidth": 0,
              "ticks": ""
             }
            },
            "type": "scattermapbox"
           }
          ],
          "scatterpolar": [
           {
            "marker": {
             "colorbar": {
              "outlinewidth": 0,
              "ticks": ""
             }
            },
            "type": "scatterpolar"
           }
          ],
          "scatterpolargl": [
           {
            "marker": {
             "colorbar": {
              "outlinewidth": 0,
              "ticks": ""
             }
            },
            "type": "scatterpolargl"
           }
          ],
          "scatterternary": [
           {
            "marker": {
             "colorbar": {
              "outlinewidth": 0,
              "ticks": ""
             }
            },
            "type": "scatterternary"
           }
          ],
          "surface": [
           {
            "colorbar": {
             "outlinewidth": 0,
             "ticks": ""
            },
            "colorscale": [
             [
              0,
              "#0d0887"
             ],
             [
              0.1111111111111111,
              "#46039f"
             ],
             [
              0.2222222222222222,
              "#7201a8"
             ],
             [
              0.3333333333333333,
              "#9c179e"
             ],
             [
              0.4444444444444444,
              "#bd3786"
             ],
             [
              0.5555555555555556,
              "#d8576b"
             ],
             [
              0.6666666666666666,
              "#ed7953"
             ],
             [
              0.7777777777777778,
              "#fb9f3a"
             ],
             [
              0.8888888888888888,
              "#fdca26"
             ],
             [
              1,
              "#f0f921"
             ]
            ],
            "type": "surface"
           }
          ],
          "table": [
           {
            "cells": {
             "fill": {
              "color": "#EBF0F8"
             },
             "line": {
              "color": "white"
             }
            },
            "header": {
             "fill": {
              "color": "#C8D4E3"
             },
             "line": {
              "color": "white"
             }
            },
            "type": "table"
           }
          ]
         },
         "layout": {
          "annotationdefaults": {
           "arrowcolor": "#2a3f5f",
           "arrowhead": 0,
           "arrowwidth": 1
          },
          "autotypenumbers": "strict",
          "coloraxis": {
           "colorbar": {
            "outlinewidth": 0,
            "ticks": ""
           }
          },
          "colorscale": {
           "diverging": [
            [
             0,
             "#8e0152"
            ],
            [
             0.1,
             "#c51b7d"
            ],
            [
             0.2,
             "#de77ae"
            ],
            [
             0.3,
             "#f1b6da"
            ],
            [
             0.4,
             "#fde0ef"
            ],
            [
             0.5,
             "#f7f7f7"
            ],
            [
             0.6,
             "#e6f5d0"
            ],
            [
             0.7,
             "#b8e186"
            ],
            [
             0.8,
             "#7fbc41"
            ],
            [
             0.9,
             "#4d9221"
            ],
            [
             1,
             "#276419"
            ]
           ],
           "sequential": [
            [
             0,
             "#0d0887"
            ],
            [
             0.1111111111111111,
             "#46039f"
            ],
            [
             0.2222222222222222,
             "#7201a8"
            ],
            [
             0.3333333333333333,
             "#9c179e"
            ],
            [
             0.4444444444444444,
             "#bd3786"
            ],
            [
             0.5555555555555556,
             "#d8576b"
            ],
            [
             0.6666666666666666,
             "#ed7953"
            ],
            [
             0.7777777777777778,
             "#fb9f3a"
            ],
            [
             0.8888888888888888,
             "#fdca26"
            ],
            [
             1,
             "#f0f921"
            ]
           ],
           "sequentialminus": [
            [
             0,
             "#0d0887"
            ],
            [
             0.1111111111111111,
             "#46039f"
            ],
            [
             0.2222222222222222,
             "#7201a8"
            ],
            [
             0.3333333333333333,
             "#9c179e"
            ],
            [
             0.4444444444444444,
             "#bd3786"
            ],
            [
             0.5555555555555556,
             "#d8576b"
            ],
            [
             0.6666666666666666,
             "#ed7953"
            ],
            [
             0.7777777777777778,
             "#fb9f3a"
            ],
            [
             0.8888888888888888,
             "#fdca26"
            ],
            [
             1,
             "#f0f921"
            ]
           ]
          },
          "colorway": [
           "#636efa",
           "#EF553B",
           "#00cc96",
           "#ab63fa",
           "#FFA15A",
           "#19d3f3",
           "#FF6692",
           "#B6E880",
           "#FF97FF",
           "#FECB52"
          ],
          "font": {
           "color": "#2a3f5f"
          },
          "geo": {
           "bgcolor": "white",
           "lakecolor": "white",
           "landcolor": "#E5ECF6",
           "showlakes": true,
           "showland": true,
           "subunitcolor": "white"
          },
          "hoverlabel": {
           "align": "left"
          },
          "hovermode": "closest",
          "mapbox": {
           "style": "light"
          },
          "paper_bgcolor": "white",
          "plot_bgcolor": "#E5ECF6",
          "polar": {
           "angularaxis": {
            "gridcolor": "white",
            "linecolor": "white",
            "ticks": ""
           },
           "bgcolor": "#E5ECF6",
           "radialaxis": {
            "gridcolor": "white",
            "linecolor": "white",
            "ticks": ""
           }
          },
          "scene": {
           "xaxis": {
            "backgroundcolor": "#E5ECF6",
            "gridcolor": "white",
            "gridwidth": 2,
            "linecolor": "white",
            "showbackground": true,
            "ticks": "",
            "zerolinecolor": "white"
           },
           "yaxis": {
            "backgroundcolor": "#E5ECF6",
            "gridcolor": "white",
            "gridwidth": 2,
            "linecolor": "white",
            "showbackground": true,
            "ticks": "",
            "zerolinecolor": "white"
           },
           "zaxis": {
            "backgroundcolor": "#E5ECF6",
            "gridcolor": "white",
            "gridwidth": 2,
            "linecolor": "white",
            "showbackground": true,
            "ticks": "",
            "zerolinecolor": "white"
           }
          },
          "shapedefaults": {
           "line": {
            "color": "#2a3f5f"
           }
          },
          "ternary": {
           "aaxis": {
            "gridcolor": "white",
            "linecolor": "white",
            "ticks": ""
           },
           "baxis": {
            "gridcolor": "white",
            "linecolor": "white",
            "ticks": ""
           },
           "bgcolor": "#E5ECF6",
           "caxis": {
            "gridcolor": "white",
            "linecolor": "white",
            "ticks": ""
           }
          },
          "title": {
           "x": 0.05
          },
          "xaxis": {
           "automargin": true,
           "gridcolor": "white",
           "linecolor": "white",
           "ticks": "",
           "title": {
            "standoff": 15
           },
           "zerolinecolor": "white",
           "zerolinewidth": 2
          },
          "yaxis": {
           "automargin": true,
           "gridcolor": "white",
           "linecolor": "white",
           "ticks": "",
           "title": {
            "standoff": 15
           },
           "zerolinecolor": "white",
           "zerolinewidth": 2
          }
         }
        },
        "title": {
         "text": "Abaque de Smith"
        }
       }
      }
     },
     "metadata": {},
     "output_type": "display_data"
    },
    {
     "name": "stdout",
     "output_type": "stream",
     "text": [
      "\n",
      "📡 Résultats de simulation :\n",
      "→ Fréquence de résonance = 868.00 MHz\n",
      "→ Impédance à f_res      = 47.76-0.75j Ω\n",
      "\n",
      "S11 en dB : [ -0.70825539  -0.75291525  -0.80090684  -0.85252703  -0.90810351\n",
      "  -0.9679984   -1.03261225  -1.10238873  -1.17781969  -1.25945111\n",
      "  -1.34788967  -1.4438103   -1.54796469  -1.66119103  -1.78442503\n",
      "  -1.91871263  -2.06522447  -2.22527266  -2.4003301   -2.59205316\n",
      "  -2.8023082   -3.03320321  -3.28712577  -3.56678944  -3.87529117\n",
      "  -4.21618383  -4.59356956  -5.01222239  -5.47775303  -5.99683535\n",
      "  -6.57752537  -7.22972211  -7.9658526   -8.80192295  -9.75919224\n",
      " -10.86695985 -12.16746893 -13.72514961 -15.64566001 -18.1198997\n",
      " -21.54116223 -26.82026884 -32.32453963 -26.1437122  -21.27718715\n",
      " -18.11378602 -15.82724151 -14.05957713 -12.63354794 -11.44950681\n",
      " -10.44597371  -9.58230502  -8.83017235  -8.16899231  -7.58330117\n",
      "  -7.06116105  -6.59314682  -6.17167706  -5.79055715  -5.44465835\n",
      "  -5.12968644  -4.84201125  -4.57853855  -4.33661189  -4.11393638\n",
      "  -3.90851851  -3.71861806  -3.54270928  -3.37944918  -3.22765135\n",
      "  -3.08626434  -2.95435345  -2.83108543  -2.71571559  -2.60757672\n",
      "  -2.50606967]\n",
      "Seuil pour la bande passante à -3 dB : -29.32 dB\n",
      "Indices où S11 <= -29.32 dB : [42]\n",
      "Impossible de déterminer la bande passante à -3 dB.\n"
     ]
    },
    {
     "data": {
      "image/png": "[encoded data removed]",
      "text/plain": [
       "<Figure size 700x432.624 with 1 Axes>"
      ]
     },
     "metadata": {},
     "output_type": "display_data"
    },
    {
     "name": "stdout",
     "output_type": "stream",
     "text": [
      "\n",
      "Ratio = 1.0\n",
      "\n",
      "\n",
      "Required Accuracy is met!\n",
      "Temps de simulation : 0 minutes et 6.28 secondes\n",
      "Convergence atteinte à l'itération 4\n"
     ]
    }
   ],
   "source": [
    "import time\n",
    "start_time = time.time()\n",
    "iteration = 1\n",
    "max_iter = 20\n",
    "Accuracy = 0.01\n",
    "converged = False\n",
    "while iteration <= max_iter and not converged:\n",
    "    try:\n",
    "        print(f\"\\n------------------------------------------------------Iteration N°{iteration}------------------------------------------------------\\n\")\n",
    "        print(f\"distance meandres = {distance_meandre * 1000:.3f} mm\\n\")\n",
    "        \n",
    "        N_list_elem, new_distance_meandre_elem = creation_ifa(a, b, largeur_piste, distance_meandre, feed, x_t, y_t, save_mesh_folder, mesh_name, mesh_size)\n",
    "        print(f\"Number of meanders = {N_list_elem}\\n\")\n",
    "\n",
    "        print(f\"New distance meandres = {new_distance_meandre_elem * 1000:.3f} mm\")\n",
    "        print(f\"Largeur de piste ifa = {largeur_piste * 1000:.3f} mm\")\n",
    "        print(f\"position feed = {feed * 1000:.3f} mm\\n\")\n",
    "\n",
    "        frequence_resonance, s11_db, R_res, X_res = simulate(frequencies, ifa_meander_mat, fC, feed_point)\n",
    "        Q = calculate_Q(frequencies, s11_db, frequence_resonance)\n",
    "        plot_s11_curve(fLow, fHigh, nPoints, s11_db, fC)\n",
    "\n",
    "        ratio = frequence_resonance / fC\n",
    "        print(f\"\\nRatio = {ratio}\\n\")\n",
    "        # distance_meandre = distance_meandre / ratio\n",
    "\n",
    "        if (abs((fC - frequence_resonance)/fC) < Accuracy):\n",
    "            min_index = np.argmin(s11_db)\n",
    "            min_s11 = s11_db[min_index]\n",
    "            s11_fc = s11_db[fc_index]\n",
    "            if s11_fc < -10 or min_s11 < -20:\n",
    "                converged = True\n",
    "                print(\"\\nRequired Accuracy is met!\")\n",
    "                break\n",
    "            else:\n",
    "                print(\"\\nOn cherche le matching !!!\")\n",
    "\n",
    "                if ratio == 1:\n",
    "                    print(\"Ratio == 1 on modifie le feed parce quon a pas une bonne adaptation\")\n",
    "                    ratio_adapt_feed = math.sqrt(R_res / 50)\n",
    "                    feed = max(min(feed / ratio_adapt_feed, b - 3 * largeur_piste / 2 - 2.5 / 1000), largeur_piste / 2)\n",
    "                else:\n",
    "                    adapt_with_ratio_cube(distance_meandre, largeur_piste, ratio)             # New Addd ---- delete maybe\n",
    "\n",
    "                    feed = max(min(feed * ratio**2, b - 3 * largeur_piste / 2 - 2.5 / 1000), largeur_piste / 2)\n",
    "\n",
    "                    print(f\"\\nresultat feed = {feed * 1000:.3f} mm\")\n",
    "\n",
    "                if feed >= b - 3 * largeur_piste / 2 - 2.5 / 1000 or feed <= largeur_piste / 2:\n",
    "                    distance_meandre, largeur_piste = adapt_with_ratio_square(distance_meandre, largeur_piste, ratio)\n",
    "\n",
    "                feed_point       = [0, feed, 0]\n",
    "\n",
    "        elif abs(frequence_resonance - fC) < 0.07 * fC:\n",
    "            print(f\"\\nWe are within 2% of fc!\\n\")\n",
    "            feed = max(min(feed * ratio**2, b - 3 * largeur_piste / 2 - 2.5 / 1000), largeur_piste / 2)\n",
    "\n",
    "            if feed >= b - 3 * largeur_piste / 2 - 2.5 / 1000 or feed <= largeur_piste / 2:\n",
    "                print(\"\\nBord extreme atteint\\n\")\n",
    "                distance_meandre, largeur_piste = adapt_with_ratio_square(distance_meandre, largeur_piste, ratio)\n",
    "            \n",
    "            feed_point       = [0, feed, 0]\n",
    "        else:\n",
    "            print(f\"\\nWe are FAR of fc!\\n\")\n",
    "            distance_meandre, largeur_piste = adapt_with_ratio_square(distance_meandre, largeur_piste, ratio)\n",
    "\n",
    "            \"\"\" # New Add    ---- delete maybe\n",
    "\n",
    "            feed = max(min(feed * ratio**1, b - 3 * largeur_piste / 2 - 2.5 / 1000), largeur_piste / 2)\n",
    "\n",
    "            if feed >= b - 3 * largeur_piste / 2 - 0.5 / 1000 or feed <= largeur_piste / 2:\n",
    "                print(\"\\nBord extreme atteint\\n\")\n",
    "                distance_meandre, largeur_piste = adapt_with_ratio_square(distance_meandre, largeur_piste, ratio)\n",
    "            \n",
    "            feed_point       = [0, feed, 0]\n",
    "\n",
    "            # New Add   ---- delete maybe \"\"\"\n",
    "        \n",
    "        iteration += 1\n",
    "    except ValueError as e:\n",
    "        print(f\"Error: {e}\")\n",
    "\n",
    "end_time = time.time()\n",
    "simulation_time = end_time - start_time\n",
    "simulation_time_minutes = simulation_time / 60\n",
    "simulation_time_seconds = simulation_time % 60\n",
    "print(f\"Temps de simulation : {simulation_time_minutes:.0f} minutes et {simulation_time_seconds:.2f} secondes\")\n",
    "if converged:\n",
    "    print(f\"Convergence atteinte à l'itération {iteration}\")\n",
    "else:\n",
    "    print(f\"Convergence non atteinte après {max_iter} itérations\")"
   ]
  }
 ],
 "metadata": {
  "kernelspec": {
   "display_name": "antenna_solver",
   "language": "python",
   "name": "python3"
  },
  "language_info": {
   "codemirror_mode": {
    "name": "ipython",
    "version": 3
   },
   "file_extension": ".py",
   "mimetype": "text/x-python",
   "name": "python",
   "nbconvert_exporter": "python",
   "pygments_lexer": "ipython3",
   "version": "3.12.9"
  }
 },
 "nbformat": 4,
 "nbformat_minor": 5
}
