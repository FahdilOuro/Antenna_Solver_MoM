{
 "cells": [
  {
   "cell_type": "code",
   "execution_count": 1,
   "id": "250c2240",
   "metadata": {},
   "outputs": [],
   "source": [
    "from utils.ifa_meander_project_v2.geometry import *\n",
    "from utils.ifa_meander_project_v2.meshing import *\n",
    "from utils.ifa_meander_project_v2.frequency import *\n",
    "from utils.ifa_meander_project_v2.simulation import *"
   ]
  },
  {
   "cell_type": "markdown",
   "id": "a77e64d0",
   "metadata": {},
   "source": [
    "fC      = 868e6  # fréquence centrale en Hz\n",
    "delta_f = 4e6  # écart entre les échantillons en Hz\n",
    "print(f\"delta_f = {delta_f/1e6:.2f} MHz\")\n",
    "nPoints = 31     # nombre d'échantillons\n",
    "\n",
    "fLow, fHigh, frequencies = calc_frequencies(fC, delta_f, nPoints)\n",
    "print(f\"fLow = {fLow/1e6:.2f} MHz, fHigh = {fHigh/1e6:.2f} MHz, nPoints = {nPoints}\")"
   ]
  },
  {
   "cell_type": "code",
   "execution_count": null,
   "id": "1aebfdbd",
   "metadata": {},
   "outputs": [
    {
     "name": "stdout",
     "output_type": "stream",
     "text": [
      "Nombre de fréquences (nPoints) : 76\n",
      "Index de fC : 42\n"
     ]
    }
   ],
   "source": [
    "\"\"\" fC      = 868e6\n",
    "fLow    = 700e6\n",
    "fHigh   = 1000e6\n",
    "\n",
    "nPoints = calculate_nPoints(fLow, fHigh, fC, 80)\n",
    "accuracy= 0.01\n",
    "print(f\"nPoints = {nPoints}\")\n",
    "frequencies = np.linspace(fLow, fHigh, nPoints)\n",
    "fc_index = np.where(frequencies == fC)[0][0]\n",
    "print(f\"fc_index = {fc_index}\") \"\"\"\n",
    "\n",
    "fLow = 700e6\n",
    "fHigh = 1000e6\n",
    "fC = 868e6\n",
    "step = 4e6\n",
    "\n",
    "frequencies, fc_index, nPoints = generate_frequencies(fLow, fHigh, fC, step)\n",
    "\n",
    "print(f\"Number of frequencies (nPoints) : {nPoints}\")\n",
    "print(f\"Index of fC : {fc_index}\")"
   ]
  },
  {
   "cell_type": "code",
   "execution_count": 3,
   "id": "044e5d0e",
   "metadata": {},
   "outputs": [],
   "source": [
    "mesh_name = \"ifa_meander.msh\"\n",
    "save_mesh_folder = 'data/gmsh_files/'\n",
    "ifa_meander_mat = 'data/antennas_mesh/ifa_meander.mat'\n",
    "ifa_meander_msh = save_mesh_folder + mesh_name"
   ]
  },
  {
   "cell_type": "code",
   "execution_count": null,
   "id": "b85542e2",
   "metadata": {},
   "outputs": [
    {
     "name": "stdout",
     "output_type": "stream",
     "text": [
      "On est dans le cas où b > 2*a -> 2.037037037037037\n",
      "largeur_piste = 5.40 mm\n",
      "distance_meandre = 5.40 mm\n",
      "feed = 27.50 mm\n",
      "mesh_size = 21.60\n"
     ]
    }
   ],
   "source": [
    "a = 27 / 1000  # Width\n",
    "b = 55 / 1000  # Height\n",
    "\n",
    "terminal_a = 92 / 1000\n",
    "terminal_b = b\n",
    "x_t = np.array([-terminal_a + a, 0, 0, -terminal_a + a])\n",
    "y_t = np.array([terminal_b, terminal_b, 0, 0])\n",
    "\n",
    "# Fix the short feed and track width\n",
    "if b / a > 2:\n",
    "    print(f\"We are in the case where b > 2*a -> {b / a}\")\n",
    "    largeur_piste    = a / 5          # Minimum value    \n",
    "    distance_meandre = a / 5          # Value chosen based on the results of analyse_dist_meandre.ipynb\n",
    "    \"\"\" if b > 60 / 1000:\n",
    "        print(f\"We are in the case where b >= 2*a and b > 60 mm -> {b / a}\")\n",
    "        largeur_piste    = a / 20          # Minimum value    \n",
    "        distance_meandre = a / 20          # Value chosen based on the results of analyse_dist_meandre.ipynb \"\"\"\n",
    "else:\n",
    "    print(f\"We are in the case where b <= 2*a -> {b / a}\")\n",
    "    largeur_piste    = a / 10          # Minimum value    \n",
    "    distance_meandre = a / 10          # Value chosen based on the results of analyse_dist_meandre.ipynb\n",
    "# feed             = 0.5 * b          # Value positioned at half of the ground plane -- 25 mm\n",
    "# feed             = (1/3) * b + (1/3) * a\n",
    "# feed               = (-1/14) * b + (8/7) * a             # Best so far\n",
    "# feed = b - 3 * largeur_piste / 2 - 1 / 1000\n",
    "feed = 0.5 * b\n",
    "# feed = largeur_piste / 2\n",
    "feed_point       = np.array([0, feed, 0])      # Feed at the short feed\n",
    "mesh_size = 4 * largeur_piste\n",
    "\n",
    "# Display values\n",
    "print(f\"Track width = {largeur_piste * 1000:.2f} mm\")\n",
    "print(f\"Meander distance = {distance_meandre * 1000:.2f} mm\")\n",
    "print(f\"Feed = {feed * 1000:.2f} mm\")\n",
    "print(f\"Mesh size = {mesh_size * 1000:.2f}\")"
   ]
  },
  {
   "cell_type": "code",
   "execution_count": null,
   "id": "37ea6b39",
   "metadata": {},
   "outputs": [],
   "source": [
    "def creation_ifa(largeur, hauteur, width, dist_meandre, feed, x_t, y_t, save_mesh_folder, mesh_name, mesh_size):\n",
    "    x, y, N, distance_meandre = ifa_creation(largeur, hauteur, width, dist_meandre)\n",
    "    x_m, y_m = trace_meander(x, y, width)\n",
    "    feed_wid = width  # The track width is the same everywhere\n",
    "    feed_x = np.array([0, distance_meandre, distance_meandre, 0])\n",
    "    feed_y = np.array([feed + feed_wid/2, feed + feed_wid/2, feed - feed_wid/2, feed - feed_wid/2])\n",
    "    antenna_ifa_meander(x_m, y_m, x_t, y_t, feed_x, feed_y, save_mesh_folder, mesh_name, mesh_size)\n",
    "    extract_msh_to_mat(ifa_meander_msh, ifa_meander_mat)\n",
    "    return N, distance_meandre\n",
    "\n",
    "def plot_s11_curve(fLow, fHigh, nPoints, s11_db, fC=None):\n",
    "    from matplotlib import pyplot as plt\n",
    "    frequencies = np.linspace(fLow, fHigh, nPoints)\n",
    "    frequencies_mhz = np.array(frequencies) / 1e6\n",
    "    s11_db = np.array(s11_db)\n",
    "\n",
    "    # Find the minimum of S11\n",
    "    min_index = np.argmin(s11_db)\n",
    "    f_resonance = frequencies[min_index] / 1e6\n",
    "    s11_min = s11_db[min_index]\n",
    "\n",
    "    # Plot\n",
    "    fig_size = 7\n",
    "    Fibonacci = (1 + np.sqrt(5)) / 2\n",
    "    plt.figure(figsize=(fig_size, fig_size / Fibonacci))\n",
    "    plt.plot(frequencies_mhz, s11_db, label=\"S11 (dB)\", color='blue')\n",
    "    plt.plot(f_resonance, s11_min, 'ro', \n",
    "             label=f\"Resonance: {f_resonance:.2f} MHz (S11={s11_min:.2f} dB)\")\n",
    "    \n",
    "    if fC:\n",
    "        fC_mhz = fC / 1e6\n",
    "        idx_fc = np.argmin(np.abs(frequencies - fC))\n",
    "        s11_fc = s11_db[idx_fc]\n",
    "        plt.axvline(fC_mhz, color='green', linestyle='--', \n",
    "                    label=f\"fC = {fC_mhz:.2f} MHz (S11={s11_fc:.2f} dB)\")\n",
    "\n",
    "    plt.xlabel(\"Frequency (MHz)\")\n",
    "    plt.ylabel(\"S11 (dB)\")\n",
    "    plt.title(\"S11 Curve vs Frequency\")\n",
    "    plt.grid(True)\n",
    "    plt.legend()\n",
    "    plt.tight_layout()\n",
    "    plt.show()\n",
    "\n",
    "def adapt_with_ratio_square(distance_meandre, largeur_piste, ratio):\n",
    "    return distance_meandre / (ratio**2), largeur_piste / (ratio**2)\n",
    "\n",
    "def adapt_with_ratio_cube(distance_meandre, largeur_piste, ratio):\n",
    "    return distance_meandre / (ratio**3), largeur_piste / (ratio**3)"
   ]
  },
  {
   "cell_type": "code",
   "execution_count": null,
   "id": "33e837cc",
   "metadata": {},
   "outputs": [
    {
     "name": "stdout",
     "output_type": "stream",
     "text": [
      "\n",
      "------------------------------------------------------Iteration N°1------------------------------------------------------\n",
      "\n",
      "distance meandres = 5.400 mm\n",
      "\n",
      "Number of meanders = 2\n",
      "\n",
      "New distance meandres = 8.100 mm\n",
      "Largeur de piste ifa = 5.400 mm\n",
      "position feed = 27.500 mm\n",
      "\n",
      "Simulation 1/76 | f = 700.00 MHz | S11 = -0.61 dB\n",
      "Simulation 2/76 | f = 704.00 MHz | S11 = -0.64 dB\n",
      "Simulation 3/76 | f = 708.00 MHz | S11 = -0.68 dB\n",
      "Simulation 4/76 | f = 712.00 MHz | S11 = -0.71 dB\n",
      "Simulation 5/76 | f = 716.00 MHz | S11 = -0.76 dB\n",
      "Simulation 6/76 | f = 720.00 MHz | S11 = -0.80 dB\n",
      "Simulation 7/76 | f = 724.00 MHz | S11 = -0.85 dB\n",
      "Simulation 8/76 | f = 728.00 MHz | S11 = -0.90 dB\n",
      "Simulation 9/76 | f = 732.00 MHz | S11 = -0.95 dB\n",
      "Simulation 10/76 | f = 736.00 MHz | S11 = -1.01 dB\n",
      "Simulation 11/76 | f = 740.00 MHz | S11 = -1.07 dB\n",
      "Simulation 12/76 | f = 744.00 MHz | S11 = -1.14 dB\n",
      "Simulation 13/76 | f = 748.00 MHz | S11 = -1.21 dB\n",
      "Simulation 14/76 | f = 752.00 MHz | S11 = -1.29 dB\n",
      "Simulation 15/76 | f = 756.00 MHz | S11 = -1.37 dB\n",
      "Simulation 16/76 | f = 760.00 MHz | S11 = -1.46 dB\n",
      "Simulation 17/76 | f = 764.00 MHz | S11 = -1.56 dB\n",
      "Simulation 18/76 | f = 768.00 MHz | S11 = -1.66 dB\n",
      "Simulation 19/76 | f = 772.00 MHz | S11 = -1.77 dB\n",
      "Simulation 20/76 | f = 776.00 MHz | S11 = -1.89 dB\n",
      "Simulation 21/76 | f = 780.00 MHz | S11 = -2.03 dB\n",
      "Simulation 22/76 | f = 784.00 MHz | S11 = -2.17 dB\n",
      "Simulation 23/76 | f = 788.00 MHz | S11 = -2.32 dB\n",
      "Simulation 24/76 | f = 792.00 MHz | S11 = -2.49 dB\n",
      "Simulation 25/76 | f = 796.00 MHz | S11 = -2.68 dB\n",
      "Simulation 26/76 | f = 800.00 MHz | S11 = -2.88 dB\n",
      "Simulation 27/76 | f = 804.00 MHz | S11 = -3.09 dB\n",
      "Simulation 28/76 | f = 808.00 MHz | S11 = -3.33 dB\n",
      "Simulation 29/76 | f = 812.00 MHz | S11 = -3.59 dB\n",
      "Simulation 30/76 | f = 816.00 MHz | S11 = -3.87 dB\n",
      "Simulation 31/76 | f = 820.00 MHz | S11 = -4.18 dB\n",
      "Simulation 32/76 | f = 824.00 MHz | S11 = -4.53 dB\n",
      "Simulation 33/76 | f = 828.00 MHz | S11 = -4.90 dB\n",
      "Simulation 34/76 | f = 832.00 MHz | S11 = -5.31 dB\n",
      "Simulation 35/76 | f = 836.00 MHz | S11 = -5.77 dB\n",
      "Simulation 36/76 | f = 840.00 MHz | S11 = -6.28 dB\n",
      "Simulation 37/76 | f = 844.00 MHz | S11 = -6.84 dB\n",
      "Simulation 38/76 | f = 848.00 MHz | S11 = -7.47 dB\n",
      "Simulation 39/76 | f = 852.00 MHz | S11 = -8.17 dB\n",
      "Simulation 40/76 | f = 856.00 MHz | S11 = -8.96 dB\n",
      "Simulation 41/76 | f = 860.00 MHz | S11 = -9.86 dB\n",
      "Simulation 42/76 | f = 864.00 MHz | S11 = -10.88 dB\n"
     ]
    },
    {
     "data": {
      "application/vnd.plotly.v1+json": {
       "config": {
        "plotlyServerURL": "https://plot.ly"
       },
       "data": [
        {
         "facecolor": [
          "rgb(0, 83, 255)",
          "rgb(0, 98, 255)",
          "rgb(0, 17, 236)",
          "rgb(255, 0, 0)",
          "rgb(138, 0, 98)",
          "rgb(4, 161, 246)",
          "rgb(142, 0, 96)",
          "rgb(0, 13, 228)",
          "rgb(0, 69, 255)",
          "rgb(111, 0, 119)",
          "rgb(8, 171, 236)",
          "rgb(95, 0, 130)",
          "rgb(21, 0, 185)",
          "rgb(133, 0, 103)",
          "rgb(137, 255, 19)",
          "rgb(11, 178, 228)",
          "rgb(111, 0, 119)",
          "rgb(103, 0, 125)",
          "rgb(114, 0, 117)",
          "rgb(88, 0, 136)",
          "rgb(0, 59, 255)",
          "rgb(75, 0, 145)",
          "rgb(85, 255, 93)",
          "rgb(31, 225, 181)",
          "rgb(181, 249, 0)",
          "rgb(5, 164, 243)",
          "rgb(0, 122, 255)",
          "rgb(197, 246, 0)",
          "rgb(0, 136, 255)",
          "rgb(228, 239, 0)",
          "rgb(218, 241, 0)",
          "rgb(36, 0, 173)",
          "rgb(27, 0, 180)",
          "rgb(95, 0, 131)",
          "rgb(120, 0, 112)",
          "rgb(128, 0, 106)",
          "rgb(90, 0, 134)",
          "rgb(126, 0, 108)",
          "rgb(140, 0, 98)",
          "rgb(145, 0, 94)",
          "rgb(123, 0, 110)",
          "rgb(150, 0, 90)",
          "rgb(102, 0, 125)"
         ],
         "i": {
          "bdata": "BxQLAh8AIB4PIhYXIx8NAx8kIRAXEAwZDQIUDRUVCCMjHSQiHiESIBwTHw==",
          "dtype": "i1"
         },
         "j": {
          "bdata": "Dg4YASEBIQ8eDxgKIiQJIiAQJCQYIwkJCAMBGgEaGhsDIiIkIhEhEyAhHA==",
          "dtype": "i1"
         },
         "k": {
          "bdata": "DwcXFSACEyIHABkLAyEMABwRESMWBRkWCQAOCBQCFQUbHyMfHQYGBAQSHQ==",
          "dtype": "i1"
         },
         "name": "",
         "type": "mesh3d",
         "x": {
          "bdata": "AAAAAAAAAACC4seYu5aAP4Lix5i7loA/AAAAAAAAAACkcD0K16OwvwAAAAAAAAAApHA9CtejsL/ZzvdT46WLP9nO91PjpYs/rthfdk8elj+u2F92Tx6WP9nO91PjpZs/2c73U+Olmz+C4seYu5aAP4Lix5i7loA/AAAAAAAAAAA5lvxiyS+WvzeW/GLJL6a/pHA9CtejsL+kcD0K16Owv9nO91PjpYs/2c73U+Oliz+u2F92Tx6WP67YX3ZPHpY/2c73U+Olmz/ZzvdT46WbP4Lix5i7loA/AAAAAAAAAAAPrBxaZDunv7ftfD81Xpq/qAwCK4cWeb/094vmD5Wjv1lM303IMau/KBe+GxmZqr+sOiWN962Tv8QNQ+VCi4m/N6zT3wNiob8=",
          "dtype": "f8"
         },
         "y": {
          "bdata": "P1dbsb/snj8/V1uxv+yePxNhw9MrZZk/E2HD0ytlmT8pXI/C9SisPwAAAAAAAAAAAAAAAAAAAAApXI/C9SisP6/YX3ZPHnY/r9hfdk8edj8pXI/C9SisPylcj8L1KKw/AAAAAAAAMDwAAAAAAAAwPBNhw9MrZak/E2HD0ytlqT8AAAAAAAAAAAAAAAAAAAAAy5JfLPnFkj/Jkl8s+cWiPyeRoybnsaM/OoxvFbF1lj8vjG8VsXWWPyKRoybnsaM/xJJfLPnFoj+/kl8s+cWSPw1hw9MrZYk/H2HD0ytliT8pXI/C9SisPylcj8L1KKw/KVyPwvUorD/97cMEvXSjP3LKId2LJ6U/QXbNNjNylj/mN3d8N0uiP5f0xlWza48/XVzBSumUkz8=",
          "dtype": "f8"
         },
         "z": {
          "bdata": "AAAAAAAAAAAAAAAAAAAAAAAAAAAAAAAAAAAAAAAAAAAAAAAAAAAAAAAAAAAAAAAAAAAAAAAAAAAAAAAAAAAAAAAAAAAAAAAAAAAAAAAAAAAAAAAAAAAAAAAAAAAAAAAAAAAAAAAAAAAAAAAAAAAAAAAAAAAAAAAAAAAAAAAAAAAAAAAAAAAAAAAAAAAAAAAAAAAAAAAAAAAAAAAAAAAAAAAAAAAAAAAAAAAAAAAAAAAAAAAAAAAAAAAAAAAAAAAAAAAAAAAAAAAAAAAAAAAAAAAAAAAAAAAAAAAAAAAAAAAAAAAAAAAAAAAAAAAAAAAAAAAAAAAAAAAAAAAAAAAAAAAAAAAAAAAAAAAAAAAAAAAAAAAAAAAAAAAAAAAAAAAAAAAAAAAAAAA=",
          "dtype": "f8"
         }
        },
        {
         "line": {
          "color": "rgb(50, 50, 50)",
          "width": 1.5
         },
         "mode": "lines",
         "showlegend": false,
         "type": "scatter3d",
         "x": [
          0.0135,
          0.0081,
          0,
          0.0135,
          null,
          0.0135,
          0.0081,
          0.0135,
          0.0135,
          null,
          0.027,
          0.027,
          0.0216,
          0.027,
          null,
          0.0081,
          0.0081,
          0.0135,
          0.0081,
          null,
          -0.03824662865916642,
          -0.05194929565099776,
          -0.05311418486203285,
          -0.03824662865916642,
          null,
          0,
          0.0081,
          0.0081,
          0,
          null,
          -0.05311418486203285,
          -0.05194929565099776,
          -0.065,
          -0.05311418486203285,
          null,
          -0.006125000000000082,
          0,
          -0.01921831892951313,
          -0.006125000000000082,
          null,
          0,
          -0.006125000000000082,
          0.0135,
          0,
          null,
          -0.01921831892951313,
          0,
          0,
          -0.01921831892951313,
          null,
          0.0216,
          0.027,
          0.027,
          0.0216,
          null,
          0.0216,
          0.0216,
          0.027,
          0.0216,
          null,
          -0.01247265112068064,
          -0.01921831892951313,
          0,
          -0.01247265112068064,
          null,
          -0.03824662865916642,
          -0.03395092112790404,
          -0.05194929565099776,
          -0.03824662865916642,
          null,
          0.0081,
          0.0216,
          0.027,
          0.0081,
          null,
          0,
          -0.01921831892951313,
          0,
          0,
          null,
          -0.03824662865916642,
          -0.05311418486203285,
          -0.04537500000000005,
          -0.03824662865916642,
          null,
          -0.03395092112790404,
          -0.0216666666666667,
          -0.04333333333333338,
          -0.03395092112790404,
          null,
          -0.05194929565099776,
          -0.03395092112790404,
          -0.04333333333333338,
          -0.05194929565099776,
          null,
          -0.0216666666666667,
          -0.03395092112790404,
          -0.01247265112068064,
          -0.0216666666666667,
          null,
          0.0216,
          0.027,
          0.0216,
          0.0216,
          null,
          -0.0216666666666667,
          -0.01247265112068064,
          0,
          -0.0216666666666667,
          null,
          0.027,
          0.0216,
          0.027,
          0.027,
          null,
          0.027,
          0.0216,
          0.0216,
          0.027,
          null,
          0.0081,
          0.0135,
          0.0216,
          0.0081,
          null,
          0.0081,
          0,
          0,
          0.0081,
          null,
          0.0135,
          0.0081,
          0.0081,
          0.0135,
          null,
          0.0081,
          0.0081,
          0.0135,
          0.0081,
          null,
          0.0135,
          0.0081,
          0.0135,
          0.0135,
          null,
          0.0135,
          0.0081,
          0.0081,
          0.0135,
          null,
          0.0135,
          0.0081,
          0.0135,
          0.0135,
          null,
          -0.01247265112068064,
          0,
          0,
          -0.01247265112068064,
          null,
          -0.01247265112068064,
          0,
          0,
          -0.01247265112068064,
          null,
          -0.02575000000000013,
          -0.01921831892951313,
          -0.03824662865916642,
          -0.02575000000000013,
          null,
          -0.03395092112790404,
          -0.01921831892951313,
          -0.01247265112068064,
          -0.03395092112790404,
          null,
          -0.01921831892951313,
          -0.03395092112790404,
          -0.03824662865916642,
          -0.01921831892951313,
          null,
          -0.006125000000000082,
          -0.01921831892951313,
          -0.02575000000000013,
          -0.006125000000000082,
          null,
          -0.05194929565099776,
          -0.04333333333333338,
          -0.065,
          -0.05194929565099776,
          null,
          -0.065,
          -0.05194929565099776,
          -0.065,
          -0.065,
          null,
          -0.05311418486203285,
          -0.065,
          -0.065,
          -0.05311418486203285,
          null,
          -0.04537500000000005,
          -0.05311418486203285,
          -0.065,
          -0.04537500000000005,
          null,
          -0.065,
          -0.05194929565099776,
          -0.065,
          -0.065,
          null,
          -0.03824662865916642,
          -0.04537500000000005,
          -0.02575000000000013,
          -0.03824662865916642,
          null
         ],
         "y": [
          0.055,
          0.0496,
          0.0496,
          0.055,
          null,
          0.0384666666666667,
          0.0496,
          0.055,
          0.0384666666666667,
          null,
          0.055,
          0.03666666666666665,
          0.03846666666666666,
          0.055,
          null,
          0.0248,
          0.0302,
          0.02193333333333334,
          0.0248,
          null,
          0.03800001795931605,
          0.02192001363743246,
          0.04131733965268304,
          0.03800001795931605,
          null,
          0.0302,
          0.0302,
          0.0248,
          0.0302,
          null,
          0.04131733965268304,
          0.02192001363743246,
          0.03666666666666669,
          0.04131733965268304,
          null,
          0.055,
          0.0496,
          0.03573010820728921,
          0.055,
          null,
          0.0496,
          0.055,
          0.055,
          0.0496,
          null,
          0.03573010820728921,
          0.0496,
          0.0302,
          0.03573010820728921,
          null,
          0.0219333333333333,
          0.03666666666666665,
          0.01833333333333331,
          0.0219333333333333,
          null,
          0.03846666666666666,
          0.055,
          0.055,
          0.03846666666666666,
          null,
          0.01534214120408199,
          0.03573010820728921,
          0.0248,
          0.01534214120408199,
          null,
          0.03800001795931605,
          0.01912273901720273,
          0.02192001363743246,
          0.03800001795931605,
          null,
          8.673617379884035e-19,
          0.005400000000000001,
          8.673617379884035e-19,
          8.673617379884035e-19,
          null,
          0.0248,
          0.03573010820728921,
          0.0302,
          0.0248,
          null,
          0.03800001795931605,
          0.04131733965268304,
          0.055,
          0.03800001795931605,
          null,
          0.01912273901720273,
          0,
          0,
          0.01912273901720273,
          null,
          0.02192001363743246,
          0.01912273901720273,
          0,
          0.02192001363743246,
          null,
          0,
          0.01912273901720273,
          0.01534214120408199,
          0,
          null,
          0.03846666666666666,
          0.03666666666666665,
          0.0219333333333333,
          0.03846666666666666,
          null,
          0,
          0.01534214120408199,
          0,
          0,
          null,
          8.673617379884035e-19,
          0.005400000000000001,
          0.01833333333333331,
          8.673617379884035e-19,
          null,
          0.01833333333333331,
          0.005400000000000001,
          0.0219333333333333,
          0.01833333333333331,
          null,
          8.673617379884035e-19,
          0.005400000000000001,
          0.005400000000000001,
          8.673617379884035e-19,
          null,
          0.0248,
          0.0248,
          0.0302,
          0.0248,
          null,
          0.0384666666666667,
          0.0302,
          0.0496,
          0.0384666666666667,
          null,
          8.673617379884035e-19,
          0.01239999999999999,
          0.005400000000000001,
          8.673617379884035e-19,
          null,
          0.02193333333333334,
          0.0302,
          0.0384666666666667,
          0.02193333333333334,
          null,
          0.02193333333333334,
          0.01239999999999999,
          0.0248,
          0.02193333333333334,
          null,
          0.005400000000000001,
          0.01239999999999999,
          0.02193333333333334,
          0.005400000000000001,
          null,
          0.01534214120408199,
          0.01240000000000002,
          0,
          0.01534214120408199,
          null,
          0.01534214120408199,
          0.0248,
          0.01240000000000002,
          0.01534214120408199,
          null,
          0.055,
          0.03573010820728921,
          0.03800001795931605,
          0.055,
          null,
          0.01912273901720273,
          0.03573010820728921,
          0.01534214120408199,
          0.01912273901720273,
          null,
          0.03573010820728921,
          0.01912273901720273,
          0.03800001795931605,
          0.03573010820728921,
          null,
          0.055,
          0.03573010820728921,
          0.055,
          0.055,
          null,
          0.02192001363743246,
          0,
          0,
          0.02192001363743246,
          null,
          0.01833333333333335,
          0.02192001363743246,
          0,
          0.01833333333333335,
          null,
          0.04131733965268304,
          0.03666666666666669,
          0.055,
          0.04131733965268304,
          null,
          0.055,
          0.04131733965268304,
          0.055,
          0.055,
          null,
          0.03666666666666669,
          0.02192001363743246,
          0.01833333333333335,
          0.03666666666666669,
          null,
          0.03800001795931605,
          0.055,
          0.055,
          0.03800001795931605,
          null
         ],
         "z": [
          0,
          0,
          0,
          0,
          null,
          0,
          0,
          0,
          0,
          null,
          0,
          0,
          0,
          0,
          null,
          0,
          0,
          0,
          0,
          null,
          0,
          0,
          0,
          0,
          null,
          0,
          0,
          0,
          0,
          null,
          0,
          0,
          0,
          0,
          null,
          0,
          0,
          0,
          0,
          null,
          0,
          0,
          0,
          0,
          null,
          0,
          0,
          0,
          0,
          null,
          0,
          0,
          0,
          0,
          null,
          0,
          0,
          0,
          0,
          null,
          0,
          0,
          0,
          0,
          null,
          0,
          0,
          0,
          0,
          null,
          0,
          0,
          0,
          0,
          null,
          0,
          0,
          0,
          0,
          null,
          0,
          0,
          0,
          0,
          null,
          0,
          0,
          0,
          0,
          null,
          0,
          0,
          0,
          0,
          null,
          0,
          0,
          0,
          0,
          null,
          0,
          0,
          0,
          0,
          null,
          0,
          0,
          0,
          0,
          null,
          0,
          0,
          0,
          0,
          null,
          0,
          0,
          0,
          0,
          null,
          0,
          0,
          0,
          0,
          null,
          0,
          0,
          0,
          0,
          null,
          0,
          0,
          0,
          0,
          null,
          0,
          0,
          0,
          0,
          null,
          0,
          0,
          0,
          0,
          null,
          0,
          0,
          0,
          0,
          null,
          0,
          0,
          0,
          0,
          null,
          0,
          0,
          0,
          0,
          null,
          0,
          0,
          0,
          0,
          null,
          0,
          0,
          0,
          0,
          null,
          0,
          0,
          0,
          0,
          null,
          0,
          0,
          0,
          0,
          null,
          0,
          0,
          0,
          0,
          null,
          0,
          0,
          0,
          0,
          null,
          0,
          0,
          0,
          0,
          null,
          0,
          0,
          0,
          0,
          null,
          0,
          0,
          0,
          0,
          null,
          0,
          0,
          0,
          0,
          null,
          0,
          0,
          0,
          0,
          null
         ]
        },
        {
         "hoverinfo": "none",
         "marker": {
          "color": [
           0.014842305221942508,
           3.564645574875423
          ],
          "colorscale": [
           [
            0,
            "rgb(150, 0, 90)"
           ],
           [
            0.125,
            "rgb(0, 0, 200)"
           ],
           [
            0.25,
            "rgb(0, 25, 255)"
           ],
           [
            0.375,
            "rgb(0, 152, 255)"
           ],
           [
            0.5,
            "rgb(44, 255, 150)"
           ],
           [
            0.625,
            "rgb(151, 255, 0)"
           ],
           [
            0.75,
            "rgb(255, 234, 0)"
           ],
           [
            0.875,
            "rgb(255, 111, 0)"
           ],
           [
            1,
            "rgb(255, 0, 0)"
           ]
          ],
          "showscale": true,
          "size": 0.1
         },
         "mode": "markers",
         "showlegend": false,
         "type": "scatter3d",
         "x": {
          "bdata": "AAAAAAAAAAA=",
          "dtype": "f8"
         },
         "y": {
          "bdata": "P1dbsb/snj8=",
          "dtype": "f8"
         },
         "z": {
          "bdata": "AAAAAAAAAAA=",
          "dtype": "f8"
         }
        },
        {
         "marker": {
          "color": "red",
          "size": 6,
          "symbol": "circle"
         },
         "mode": "markers+text",
         "name": "Feed Point(s)",
         "type": "scatter3d",
         "x": {
          "bdata": "AAAAAAAAAAA=",
          "dtype": "f8"
         },
         "y": {
          "bdata": "KVyPwvUonD8=",
          "dtype": "f8"
         },
         "z": {
          "bdata": "AAAAAAAAAAA=",
          "dtype": "f8"
         }
        }
       ],
       "layout": {
        "height": 800,
        "legend": {
         "bgcolor": "rgba(255,255,255,0.7)",
         "bordercolor": "lightgray",
         "borderwidth": 1,
         "x": 0.2,
         "xanchor": "left",
         "y": 0.9,
         "yanchor": "top"
        },
        "scene": {
         "aspectratio": {
          "x": 1,
          "y": 0.5978260869565217,
          "z": 0.3
         },
         "camera": {
          "eye": {
           "x": 0.65,
           "y": 0.65,
           "z": 0.65
          }
         },
         "xaxis": {
          "backgroundcolor": "rgb(230, 230, 230)",
          "gridcolor": "rgb(255, 255, 255)",
          "showbackground": true,
          "zerolinecolor": "rgb(255, 255, 255)"
         },
         "yaxis": {
          "backgroundcolor": "rgb(230, 230, 230)",
          "gridcolor": "rgb(255, 255, 255)",
          "showbackground": true,
          "zerolinecolor": "rgb(255, 255, 255)"
         },
         "zaxis": {
          "backgroundcolor": "rgb(230, 230, 230)",
          "gridcolor": "rgb(255, 255, 255)",
          "showbackground": true,
          "zerolinecolor": "rgb(255, 255, 255)"
         }
        },
        "template": {
         "data": {
          "bar": [
           {
            "error_x": {
             "color": "#2a3f5f"
            },
            "error_y": {
             "color": "#2a3f5f"
            },
            "marker": {
             "line": {
              "color": "#E5ECF6",
              "width": 0.5
             },
             "pattern": {
              "fillmode": "overlay",
              "size": 10,
              "solidity": 0.2
             }
            },
            "type": "bar"
           }
          ],
          "barpolar": [
           {
            "marker": {
             "line": {
              "color": "#E5ECF6",
              "width": 0.5
             },
             "pattern": {
              "fillmode": "overlay",
              "size": 10,
              "solidity": 0.2
             }
            },
            "type": "barpolar"
           }
          ],
          "carpet": [
           {
            "aaxis": {
             "endlinecolor": "#2a3f5f",
             "gridcolor": "white",
             "linecolor": "white",
             "minorgridcolor": "white",
             "startlinecolor": "#2a3f5f"
            },
            "baxis": {
             "endlinecolor": "#2a3f5f",
             "gridcolor": "white",
             "linecolor": "white",
             "minorgridcolor": "white",
             "startlinecolor": "#2a3f5f"
            },
            "type": "carpet"
           }
          ],
          "choropleth": [
           {
            "colorbar": {
             "outlinewidth": 0,
             "ticks": ""
            },
            "type": "choropleth"
           }
          ],
          "contour": [
           {
            "colorbar": {
             "outlinewidth": 0,
             "ticks": ""
            },
            "colorscale": [
             [
              0,
              "#0d0887"
             ],
             [
              0.1111111111111111,
              "#46039f"
             ],
             [
              0.2222222222222222,
              "#7201a8"
             ],
             [
              0.3333333333333333,
              "#9c179e"
             ],
             [
              0.4444444444444444,
              "#bd3786"
             ],
             [
              0.5555555555555556,
              "#d8576b"
             ],
             [
              0.6666666666666666,
              "#ed7953"
             ],
             [
              0.7777777777777778,
              "#fb9f3a"
             ],
             [
              0.8888888888888888,
              "#fdca26"
             ],
             [
              1,
              "#f0f921"
             ]
            ],
            "type": "contour"
           }
          ],
          "contourcarpet": [
           {
            "colorbar": {
             "outlinewidth": 0,
             "ticks": ""
            },
            "type": "contourcarpet"
           }
          ],
          "heatmap": [
           {
            "colorbar": {
             "outlinewidth": 0,
             "ticks": ""
            },
            "colorscale": [
             [
              0,
              "#0d0887"
             ],
             [
              0.1111111111111111,
              "#46039f"
             ],
             [
              0.2222222222222222,
              "#7201a8"
             ],
             [
              0.3333333333333333,
              "#9c179e"
             ],
             [
              0.4444444444444444,
              "#bd3786"
             ],
             [
              0.5555555555555556,
              "#d8576b"
             ],
             [
              0.6666666666666666,
              "#ed7953"
             ],
             [
              0.7777777777777778,
              "#fb9f3a"
             ],
             [
              0.8888888888888888,
              "#fdca26"
             ],
             [
              1,
              "#f0f921"
             ]
            ],
            "type": "heatmap"
           }
          ],
          "histogram": [
           {
            "marker": {
             "pattern": {
              "fillmode": "overlay",
              "size": 10,
              "solidity": 0.2
             }
            },
            "type": "histogram"
           }
          ],
          "histogram2d": [
           {
            "colorbar": {
             "outlinewidth": 0,
             "ticks": ""
            },
            "colorscale": [
             [
              0,
              "#0d0887"
             ],
             [
              0.1111111111111111,
              "#46039f"
             ],
             [
              0.2222222222222222,
              "#7201a8"
             ],
             [
              0.3333333333333333,
              "#9c179e"
             ],
             [
              0.4444444444444444,
              "#bd3786"
             ],
             [
              0.5555555555555556,
              "#d8576b"
             ],
             [
              0.6666666666666666,
              "#ed7953"
             ],
             [
              0.7777777777777778,
              "#fb9f3a"
             ],
             [
              0.8888888888888888,
              "#fdca26"
             ],
             [
              1,
              "#f0f921"
             ]
            ],
            "type": "histogram2d"
           }
          ],
          "histogram2dcontour": [
           {
            "colorbar": {
             "outlinewidth": 0,
             "ticks": ""
            },
            "colorscale": [
             [
              0,
              "#0d0887"
             ],
             [
              0.1111111111111111,
              "#46039f"
             ],
             [
              0.2222222222222222,
              "#7201a8"
             ],
             [
              0.3333333333333333,
              "#9c179e"
             ],
             [
              0.4444444444444444,
              "#bd3786"
             ],
             [
              0.5555555555555556,
              "#d8576b"
             ],
             [
              0.6666666666666666,
              "#ed7953"
             ],
             [
              0.7777777777777778,
              "#fb9f3a"
             ],
             [
              0.8888888888888888,
              "#fdca26"
             ],
             [
              1,
              "#f0f921"
             ]
            ],
            "type": "histogram2dcontour"
           }
          ],
          "mesh3d": [
           {
            "colorbar": {
             "outlinewidth": 0,
             "ticks": ""
            },
            "type": "mesh3d"
           }
          ],
          "parcoords": [
           {
            "line": {
             "colorbar": {
              "outlinewidth": 0,
              "ticks": ""
             }
            },
            "type": "parcoords"
           }
          ],
          "pie": [
           {
            "automargin": true,
            "type": "pie"
           }
          ],
          "scatter": [
           {
            "fillpattern": {
             "fillmode": "overlay",
             "size": 10,
             "solidity": 0.2
            },
            "type": "scatter"
           }
          ],
          "scatter3d": [
           {
            "line": {
             "colorbar": {
              "outlinewidth": 0,
              "ticks": ""
             }
            },
            "marker": {
             "colorbar": {
              "outlinewidth": 0,
              "ticks": ""
             }
            },
            "type": "scatter3d"
           }
          ],
          "scattercarpet": [
           {
            "marker": {
             "colorbar": {
              "outlinewidth": 0,
              "ticks": ""
             }
            },
            "type": "scattercarpet"
           }
          ],
          "scattergeo": [
           {
            "marker": {
             "colorbar": {
              "outlinewidth": 0,
              "ticks": ""
             }
            },
            "type": "scattergeo"
           }
          ],
          "scattergl": [
           {
            "marker": {
             "colorbar": {
              "outlinewidth": 0,
              "ticks": ""
             }
            },
            "type": "scattergl"
           }
          ],
          "scattermap": [
           {
            "marker": {
             "colorbar": {
              "outlinewidth": 0,
              "ticks": ""
             }
            },
            "type": "scattermap"
           }
          ],
          "scattermapbox": [
           {
            "marker": {
             "colorbar": {
              "outlinewidth": 0,
              "ticks": ""
             }
            },
            "type": "scattermapbox"
           }
          ],
          "scatterpolar": [
           {
            "marker": {
             "colorbar": {
              "outlinewidth": 0,
              "ticks": ""
             }
            },
            "type": "scatterpolar"
           }
          ],
          "scatterpolargl": [
           {
            "marker": {
             "colorbar": {
              "outlinewidth": 0,
              "ticks": ""
             }
            },
            "type": "scatterpolargl"
           }
          ],
          "scatterternary": [
           {
            "marker": {
             "colorbar": {
              "outlinewidth": 0,
              "ticks": ""
             }
            },
            "type": "scatterternary"
           }
          ],
          "surface": [
           {
            "colorbar": {
             "outlinewidth": 0,
             "ticks": ""
            },
            "colorscale": [
             [
              0,
              "#0d0887"
             ],
             [
              0.1111111111111111,
              "#46039f"
             ],
             [
              0.2222222222222222,
              "#7201a8"
             ],
             [
              0.3333333333333333,
              "#9c179e"
             ],
             [
              0.4444444444444444,
              "#bd3786"
             ],
             [
              0.5555555555555556,
              "#d8576b"
             ],
             [
              0.6666666666666666,
              "#ed7953"
             ],
             [
              0.7777777777777778,
              "#fb9f3a"
             ],
             [
              0.8888888888888888,
              "#fdca26"
             ],
             [
              1,
              "#f0f921"
             ]
            ],
            "type": "surface"
           }
          ],
          "table": [
           {
            "cells": {
             "fill": {
              "color": "#EBF0F8"
             },
             "line": {
              "color": "white"
             }
            },
            "header": {
             "fill": {
              "color": "#C8D4E3"
             },
             "line": {
              "color": "white"
             }
            },
            "type": "table"
           }
          ]
         },
         "layout": {
          "annotationdefaults": {
           "arrowcolor": "#2a3f5f",
           "arrowhead": 0,
           "arrowwidth": 1
          },
          "autotypenumbers": "strict",
          "coloraxis": {
           "colorbar": {
            "outlinewidth": 0,
            "ticks": ""
           }
          },
          "colorscale": {
           "diverging": [
            [
             0,
             "#8e0152"
            ],
            [
             0.1,
             "#c51b7d"
            ],
            [
             0.2,
             "#de77ae"
            ],
            [
             0.3,
             "#f1b6da"
            ],
            [
             0.4,
             "#fde0ef"
            ],
            [
             0.5,
             "#f7f7f7"
            ],
            [
             0.6,
             "#e6f5d0"
            ],
            [
             0.7,
             "#b8e186"
            ],
            [
             0.8,
             "#7fbc41"
            ],
            [
             0.9,
             "#4d9221"
            ],
            [
             1,
             "#276419"
            ]
           ],
           "sequential": [
            [
             0,
             "#0d0887"
            ],
            [
             0.1111111111111111,
             "#46039f"
            ],
            [
             0.2222222222222222,
             "#7201a8"
            ],
            [
             0.3333333333333333,
             "#9c179e"
            ],
            [
             0.4444444444444444,
             "#bd3786"
            ],
            [
             0.5555555555555556,
             "#d8576b"
            ],
            [
             0.6666666666666666,
             "#ed7953"
            ],
            [
             0.7777777777777778,
             "#fb9f3a"
            ],
            [
             0.8888888888888888,
             "#fdca26"
            ],
            [
             1,
             "#f0f921"
            ]
           ],
           "sequentialminus": [
            [
             0,
             "#0d0887"
            ],
            [
             0.1111111111111111,
             "#46039f"
            ],
            [
             0.2222222222222222,
             "#7201a8"
            ],
            [
             0.3333333333333333,
             "#9c179e"
            ],
            [
             0.4444444444444444,
             "#bd3786"
            ],
            [
             0.5555555555555556,
             "#d8576b"
            ],
            [
             0.6666666666666666,
             "#ed7953"
            ],
            [
             0.7777777777777778,
             "#fb9f3a"
            ],
            [
             0.8888888888888888,
             "#fdca26"
            ],
            [
             1,
             "#f0f921"
            ]
           ]
          },
          "colorway": [
           "#636efa",
           "#EF553B",
           "#00cc96",
           "#ab63fa",
           "#FFA15A",
           "#19d3f3",
           "#FF6692",
           "#B6E880",
           "#FF97FF",
           "#FECB52"
          ],
          "font": {
           "color": "#2a3f5f"
          },
          "geo": {
           "bgcolor": "white",
           "lakecolor": "white",
           "landcolor": "#E5ECF6",
           "showlakes": true,
           "showland": true,
           "subunitcolor": "white"
          },
          "hoverlabel": {
           "align": "left"
          },
          "hovermode": "closest",
          "mapbox": {
           "style": "light"
          },
          "paper_bgcolor": "white",
          "plot_bgcolor": "#E5ECF6",
          "polar": {
           "angularaxis": {
            "gridcolor": "white",
            "linecolor": "white",
            "ticks": ""
           },
           "bgcolor": "#E5ECF6",
           "radialaxis": {
            "gridcolor": "white",
            "linecolor": "white",
            "ticks": ""
           }
          },
          "scene": {
           "xaxis": {
            "backgroundcolor": "#E5ECF6",
            "gridcolor": "white",
            "gridwidth": 2,
            "linecolor": "white",
            "showbackground": true,
            "ticks": "",
            "zerolinecolor": "white"
           },
           "yaxis": {
            "backgroundcolor": "#E5ECF6",
            "gridcolor": "white",
            "gridwidth": 2,
            "linecolor": "white",
            "showbackground": true,
            "ticks": "",
            "zerolinecolor": "white"
           },
           "zaxis": {
            "backgroundcolor": "#E5ECF6",
            "gridcolor": "white",
            "gridwidth": 2,
            "linecolor": "white",
            "showbackground": true,
            "ticks": "",
            "zerolinecolor": "white"
           }
          },
          "shapedefaults": {
           "line": {
            "color": "#2a3f5f"
           }
          },
          "ternary": {
           "aaxis": {
            "gridcolor": "white",
            "linecolor": "white",
            "ticks": ""
           },
           "baxis": {
            "gridcolor": "white",
            "linecolor": "white",
            "ticks": ""
           },
           "bgcolor": "#E5ECF6",
           "caxis": {
            "gridcolor": "white",
            "linecolor": "white",
            "ticks": ""
           }
          },
          "title": {
           "x": 0.05
          },
          "xaxis": {
           "automargin": true,
           "gridcolor": "white",
           "linecolor": "white",
           "ticks": "",
           "title": {
            "standoff": 15
           },
           "zerolinecolor": "white",
           "zerolinewidth": 2
          },
          "yaxis": {
           "automargin": true,
           "gridcolor": "white",
           "linecolor": "white",
           "ticks": "",
           "title": {
            "standoff": 15
           },
           "zerolinecolor": "white",
           "zerolinewidth": 2
          }
         }
        },
        "title": {
         "text": ""
        },
        "width": 800
       }
      }
     },
     "metadata": {},
     "output_type": "display_data"
    },
    {
     "name": "stdout",
     "output_type": "stream",
     "text": [
      "Simulation 43/76 | f = 868.00 MHz | S11 = -12.08 dB\n",
      "Simulation 44/76 | f = 872.00 MHz | S11 = -13.49 dB\n",
      "Simulation 45/76 | f = 876.00 MHz | S11 = -15.20 dB\n",
      "Simulation 46/76 | f = 880.00 MHz | S11 = -17.35 dB\n",
      "Simulation 47/76 | f = 884.00 MHz | S11 = -20.22 dB\n",
      "Simulation 48/76 | f = 888.00 MHz | S11 = -24.52 dB\n",
      "Simulation 49/76 | f = 892.00 MHz | S11 = -32.91 dB\n",
      "Simulation 50/76 | f = 896.00 MHz | S11 = -34.07 dB\n",
      "Simulation 51/76 | f = 900.00 MHz | S11 = -25.12 dB\n",
      "Simulation 52/76 | f = 904.00 MHz | S11 = -20.74 dB\n",
      "Simulation 53/76 | f = 908.00 MHz | S11 = -17.88 dB\n",
      "Simulation 54/76 | f = 912.00 MHz | S11 = -15.77 dB\n",
      "Simulation 55/76 | f = 916.00 MHz | S11 = -14.12 dB\n",
      "Simulation 56/76 | f = 920.00 MHz | S11 = -12.77 dB\n",
      "Simulation 57/76 | f = 924.00 MHz | S11 = -11.64 dB\n",
      "Simulation 58/76 | f = 928.00 MHz | S11 = -10.68 dB\n",
      "Simulation 59/76 | f = 932.00 MHz | S11 = -9.84 dB\n",
      "Simulation 60/76 | f = 936.00 MHz | S11 = -9.10 dB\n",
      "Simulation 61/76 | f = 940.00 MHz | S11 = -8.45 dB\n",
      "Simulation 62/76 | f = 944.00 MHz | S11 = -7.87 dB\n",
      "Simulation 63/76 | f = 948.00 MHz | S11 = -7.35 dB\n",
      "Simulation 64/76 | f = 952.00 MHz | S11 = -6.88 dB\n",
      "Simulation 65/76 | f = 956.00 MHz | S11 = -6.46 dB\n",
      "Simulation 66/76 | f = 960.00 MHz | S11 = -6.07 dB\n",
      "Simulation 67/76 | f = 964.00 MHz | S11 = -5.72 dB\n",
      "Simulation 68/76 | f = 968.00 MHz | S11 = -5.40 dB\n",
      "Simulation 69/76 | f = 972.00 MHz | S11 = -5.11 dB\n",
      "Simulation 70/76 | f = 976.00 MHz | S11 = -4.84 dB\n",
      "Simulation 71/76 | f = 980.00 MHz | S11 = -4.59 dB\n",
      "Simulation 72/76 | f = 984.00 MHz | S11 = -4.35 dB\n",
      "Simulation 73/76 | f = 988.00 MHz | S11 = -4.14 dB\n",
      "Simulation 74/76 | f = 992.00 MHz | S11 = -3.94 dB\n",
      "Simulation 75/76 | f = 996.00 MHz | S11 = -3.76 dB\n",
      "Simulation 76/76 | f = 1000.00 MHz | S11 = -3.59 dB\n"
     ]
    },
    {
     "data": {
      "application/vnd.plotly.v1+json": {
       "config": {
        "plotlyServerURL": "https://plot.ly"
       },
       "data": [
        {
         "hoverinfo": "text",
         "imag": [
          11.114006581396877,
          11.564496248166996,
          11.871479950610764,
          11.903397104722423,
          11.474805272182252,
          10.374257015872574,
          8.457292825500653,
          5.79380883041668,
          2.7490319541345967,
          -0.14869239297895945,
          -2.4803789714187383,
          -4.093760946067636,
          -5.055689238599324,
          -5.52504500436707,
          -5.661504535421134,
          -5.589767306394018,
          -5.396181405389776,
          -5.136728654542597,
          -4.846268601436071,
          -4.545865790513918,
          -4.247868574088094,
          -3.9592204660286483,
          -3.683555758778498,
          -3.4225067407750025,
          -3.17651355095989,
          -2.9453240821436584,
          -2.7283015503950674,
          -2.5246127515132106,
          -2.3333422062695273,
          -2.153560210881807,
          -1.9843622156170282,
          -1.824890410543627,
          -1.674344337623228,
          -1.5319848160610354,
          -1.3971338794829575,
          -1.2691724219393408,
          -1.1475366153227453,
          -1.0317137575732775,
          -0.9212379543369177,
          -0.8156858733418713,
          -0.7146727070875265,
          -0.6178484141078245,
          -0.43551972189247545,
          -0.3494595699506096,
          -0.26647140235582806,
          -0.18633331752883808,
          -0.10884187687592892,
          -0.033810275988383515,
          0.038933289477044095,
          0.10954708391089252,
          0.1781771368047897,
          0.24495840990887427,
          0.31001584191035436,
          0.3734652844051582,
          0.4354143414102203,
          0.49596312327959874,
          0.5552049246405306,
          0.6132268348503227,
          0.6701102884847958,
          0.7259315624926539,
          0.7807622258767304,
          0.8346695470801748,
          0.8877168636584876,
          0.9399639182892762,
          0.9914671647108012,
          1.0422800467721922,
          1.0924532534220681,
          1.1420349521485615,
          1.191071003107777,
          1.2396051559349859,
          1.2876792310195466,
          1.3353332868376973,
          1.3826057747702698,
          1.4295336826876996,
          1.4761526684561859
         ],
         "marker": {
          "color": "blue",
          "size": 4
         },
         "mode": "markers+lines",
         "name": "Impedance Points",
         "real": [
          5.312921429796687,
          6.502813459335889,
          7.981151402545322,
          9.773830837572028,
          11.846666218904637,
          14.046516021380352,
          16.05575332227019,
          17.44063724726815,
          17.847500535455584,
          17.224210439780325,
          15.83883859488617,
          14.084686447646584,
          12.285144240322847,
          10.626517532492748,
          9.1829198049244,
          7.963188475515091,
          6.9465871162551,
          6.102955220934328,
          5.402132659350592,
          4.817566633738736,
          4.327182243225609,
          3.913126871287901,
          3.561144076799204,
          3.259899654088538,
          3.000380153109754,
          2.775395854752209,
          2.5791850069554654,
          2.407104436885203,
          2.25538972203063,
          2.120969787399334,
          2.001323475318236,
          1.8943682719700228,
          1.798373624193236,
          1.711893079502974,
          1.633710875597477,
          1.56279966602803,
          1.4982868687702868,
          1.439427725852953,
          1.385583614088405,
          1.3362044870037235,
          1.2908145847167827,
          1.2490007429225145,
          1.1747055549594168,
          1.1416323735902123,
          1.11093949166998,
          1.0824115105758714,
          1.055857505657518,
          1.0311077573107004,
          1.0080109803700001,
          0.9864319671783471,
          0.9662495754482685,
          0.9473550046144943,
          0.9296503144741617,
          0.9130471480443813,
          0.8974656271494276,
          0.882833394596409,
          0.8690847811585871,
          0.8561600791565621,
          0.8440049073611259,
          0.8325696543612991,
          0.8218089895436753,
          0.8116814324925591,
          0.8021489730049828,
          0.7931767350739791,
          0.7847326791629226,
          0.776787337911382,
          0.7693135811009938,
          0.7622864062922805,
          0.7556827520373244,
          0.7494813309939417,
          0.7436624806245433,
          0.7382080294698163,
          0.7331011772500332,
          0.728326387272412,
          0.7238692898179363
         ],
         "text": [
          "Z = 265.646+555.700j at 700.0 MHz",
          "Z = 325.141+578.225j at 704.0 MHz",
          "Z = 399.058+593.574j at 708.0 MHz",
          "Z = 488.692+595.170j at 712.0 MHz",
          "Z = 592.333+573.740j at 716.0 MHz",
          "Z = 702.326+518.713j at 720.0 MHz",
          "Z = 802.788+422.865j at 724.0 MHz",
          "Z = 872.032+289.690j at 728.0 MHz",
          "Z = 892.375+137.452j at 732.0 MHz",
          "Z = 861.211-7.435j at 736.0 MHz",
          "Z = 791.942-124.019j at 740.0 MHz",
          "Z = 704.234-204.688j at 744.0 MHz",
          "Z = 614.257-252.784j at 748.0 MHz",
          "Z = 531.326-276.252j at 752.0 MHz",
          "Z = 459.146-283.075j at 756.0 MHz",
          "Z = 398.159-279.488j at 760.0 MHz",
          "Z = 347.329-269.809j at 764.0 MHz",
          "Z = 305.148-256.836j at 768.0 MHz",
          "Z = 270.107-242.313j at 772.0 MHz",
          "Z = 240.878-227.293j at 776.0 MHz",
          "Z = 216.359-212.393j at 780.0 MHz",
          "Z = 195.656-197.961j at 784.0 MHz",
          "Z = 178.057-184.178j at 788.0 MHz",
          "Z = 162.995-171.125j at 792.0 MHz",
          "Z = 150.019-158.826j at 796.0 MHz",
          "Z = 138.770-147.266j at 800.0 MHz",
          "Z = 128.959-136.415j at 804.0 MHz",
          "Z = 120.355-126.231j at 808.0 MHz",
          "Z = 112.769-116.667j at 812.0 MHz",
          "Z = 106.048-107.678j at 816.0 MHz",
          "Z = 100.066-99.218j at 820.0 MHz",
          "Z = 94.718-91.245j at 824.0 MHz",
          "Z = 89.919-83.717j at 828.0 MHz",
          "Z = 85.595-76.599j at 832.0 MHz",
          "Z = 81.686-69.857j at 836.0 MHz",
          "Z = 78.140-63.459j at 840.0 MHz",
          "Z = 74.914-57.377j at 844.0 MHz",
          "Z = 71.971-51.586j at 848.0 MHz",
          "Z = 69.279-46.062j at 852.0 MHz",
          "Z = 66.810-40.784j at 856.0 MHz",
          "Z = 64.541-35.734j at 860.0 MHz",
          "Z = 62.450-30.892j at 864.0 MHz",
          "Z = 58.735-21.776j at 872.0 MHz",
          "Z = 57.082-17.473j at 876.0 MHz",
          "Z = 55.547-13.324j at 880.0 MHz",
          "Z = 54.121-9.317j at 884.0 MHz",
          "Z = 52.793-5.442j at 888.0 MHz",
          "Z = 51.555-1.691j at 892.0 MHz",
          "Z = 50.401+1.947j at 896.0 MHz",
          "Z = 49.322+5.477j at 900.0 MHz",
          "Z = 48.312+8.909j at 904.0 MHz",
          "Z = 47.368+12.248j at 908.0 MHz",
          "Z = 46.483+15.501j at 912.0 MHz",
          "Z = 45.652+18.673j at 916.0 MHz",
          "Z = 44.873+21.771j at 920.0 MHz",
          "Z = 44.142+24.798j at 924.0 MHz",
          "Z = 43.454+27.760j at 928.0 MHz",
          "Z = 42.808+30.661j at 932.0 MHz",
          "Z = 42.200+33.506j at 936.0 MHz",
          "Z = 41.628+36.297j at 940.0 MHz",
          "Z = 41.090+39.038j at 944.0 MHz",
          "Z = 40.584+41.733j at 948.0 MHz",
          "Z = 40.107+44.386j at 952.0 MHz",
          "Z = 39.659+46.998j at 956.0 MHz",
          "Z = 39.237+49.573j at 960.0 MHz",
          "Z = 38.839+52.114j at 964.0 MHz",
          "Z = 38.466+54.623j at 968.0 MHz",
          "Z = 38.114+57.102j at 972.0 MHz",
          "Z = 37.784+59.554j at 976.0 MHz",
          "Z = 37.474+61.980j at 980.0 MHz",
          "Z = 37.183+64.384j at 984.0 MHz",
          "Z = 36.910+66.767j at 988.0 MHz",
          "Z = 36.655+69.130j at 992.0 MHz",
          "Z = 36.416+71.477j at 996.0 MHz",
          "Z = 36.193+73.808j at 1000.0 MHz"
         ],
         "type": "scattersmith"
        },
        {
         "hoverinfo": "text",
         "imag": [
          -0.5248942684096556
         ],
         "marker": {
          "color": "red",
          "size": 10,
          "symbol": "circle"
         },
         "mode": "markers",
         "name": "Impedance at fC=868.0 MHz",
         "real": [
          1.2104027800793007
         ],
         "text": [
          "Z = 60.520-26.245j at 868.0 MHz"
         ],
         "type": "scattersmith"
        }
       ],
       "layout": {
        "height": 618,
        "showlegend": true,
        "template": {
         "data": {
          "bar": [
           {
            "error_x": {
             "color": "#2a3f5f"
            },
            "error_y": {
             "color": "#2a3f5f"
            },
            "marker": {
             "line": {
              "color": "#E5ECF6",
              "width": 0.5
             },
             "pattern": {
              "fillmode": "overlay",
              "size": 10,
              "solidity": 0.2
             }
            },
            "type": "bar"
           }
          ],
          "barpolar": [
           {
            "marker": {
             "line": {
              "color": "#E5ECF6",
              "width": 0.5
             },
             "pattern": {
              "fillmode": "overlay",
              "size": 10,
              "solidity": 0.2
             }
            },
            "type": "barpolar"
           }
          ],
          "carpet": [
           {
            "aaxis": {
             "endlinecolor": "#2a3f5f",
             "gridcolor": "white",
             "linecolor": "white",
             "minorgridcolor": "white",
             "startlinecolor": "#2a3f5f"
            },
            "baxis": {
             "endlinecolor": "#2a3f5f",
             "gridcolor": "white",
             "linecolor": "white",
             "minorgridcolor": "white",
             "startlinecolor": "#2a3f5f"
            },
            "type": "carpet"
           }
          ],
          "choropleth": [
           {
            "colorbar": {
             "outlinewidth": 0,
             "ticks": ""
            },
            "type": "choropleth"
           }
          ],
          "contour": [
           {
            "colorbar": {
             "outlinewidth": 0,
             "ticks": ""
            },
            "colorscale": [
             [
              0,
              "#0d0887"
             ],
             [
              0.1111111111111111,
              "#46039f"
             ],
             [
              0.2222222222222222,
              "#7201a8"
             ],
             [
              0.3333333333333333,
              "#9c179e"
             ],
             [
              0.4444444444444444,
              "#bd3786"
             ],
             [
              0.5555555555555556,
              "#d8576b"
             ],
             [
              0.6666666666666666,
              "#ed7953"
             ],
             [
              0.7777777777777778,
              "#fb9f3a"
             ],
             [
              0.8888888888888888,
              "#fdca26"
             ],
             [
              1,
              "#f0f921"
             ]
            ],
            "type": "contour"
           }
          ],
          "contourcarpet": [
           {
            "colorbar": {
             "outlinewidth": 0,
             "ticks": ""
            },
            "type": "contourcarpet"
           }
          ],
          "heatmap": [
           {
            "colorbar": {
             "outlinewidth": 0,
             "ticks": ""
            },
            "colorscale": [
             [
              0,
              "#0d0887"
             ],
             [
              0.1111111111111111,
              "#46039f"
             ],
             [
              0.2222222222222222,
              "#7201a8"
             ],
             [
              0.3333333333333333,
              "#9c179e"
             ],
             [
              0.4444444444444444,
              "#bd3786"
             ],
             [
              0.5555555555555556,
              "#d8576b"
             ],
             [
              0.6666666666666666,
              "#ed7953"
             ],
             [
              0.7777777777777778,
              "#fb9f3a"
             ],
             [
              0.8888888888888888,
              "#fdca26"
             ],
             [
              1,
              "#f0f921"
             ]
            ],
            "type": "heatmap"
           }
          ],
          "histogram": [
           {
            "marker": {
             "pattern": {
              "fillmode": "overlay",
              "size": 10,
              "solidity": 0.2
             }
            },
            "type": "histogram"
           }
          ],
          "histogram2d": [
           {
            "colorbar": {
             "outlinewidth": 0,
             "ticks": ""
            },
            "colorscale": [
             [
              0,
              "#0d0887"
             ],
             [
              0.1111111111111111,
              "#46039f"
             ],
             [
              0.2222222222222222,
              "#7201a8"
             ],
             [
              0.3333333333333333,
              "#9c179e"
             ],
             [
              0.4444444444444444,
              "#bd3786"
             ],
             [
              0.5555555555555556,
              "#d8576b"
             ],
             [
              0.6666666666666666,
              "#ed7953"
             ],
             [
              0.7777777777777778,
              "#fb9f3a"
             ],
             [
              0.8888888888888888,
              "#fdca26"
             ],
             [
              1,
              "#f0f921"
             ]
            ],
            "type": "histogram2d"
           }
          ],
          "histogram2dcontour": [
           {
            "colorbar": {
             "outlinewidth": 0,
             "ticks": ""
            },
            "colorscale": [
             [
              0,
              "#0d0887"
             ],
             [
              0.1111111111111111,
              "#46039f"
             ],
             [
              0.2222222222222222,
              "#7201a8"
             ],
             [
              0.3333333333333333,
              "#9c179e"
             ],
             [
              0.4444444444444444,
              "#bd3786"
             ],
             [
              0.5555555555555556,
              "#d8576b"
             ],
             [
              0.6666666666666666,
              "#ed7953"
             ],
             [
              0.7777777777777778,
              "#fb9f3a"
             ],
             [
              0.8888888888888888,
              "#fdca26"
             ],
             [
              1,
              "#f0f921"
             ]
            ],
            "type": "histogram2dcontour"
           }
          ],
          "mesh3d": [
           {
            "colorbar": {
             "outlinewidth": 0,
             "ticks": ""
            },
            "type": "mesh3d"
           }
          ],
          "parcoords": [
           {
            "line": {
             "colorbar": {
              "outlinewidth": 0,
              "ticks": ""
             }
            },
            "type": "parcoords"
           }
          ],
          "pie": [
           {
            "automargin": true,
            "type": "pie"
           }
          ],
          "scatter": [
           {
            "fillpattern": {
             "fillmode": "overlay",
             "size": 10,
             "solidity": 0.2
            },
            "type": "scatter"
           }
          ],
          "scatter3d": [
           {
            "line": {
             "colorbar": {
              "outlinewidth": 0,
              "ticks": ""
             }
            },
            "marker": {
             "colorbar": {
              "outlinewidth": 0,
              "ticks": ""
             }
            },
            "type": "scatter3d"
           }
          ],
          "scattercarpet": [
           {
            "marker": {
             "colorbar": {
              "outlinewidth": 0,
              "ticks": ""
             }
            },
            "type": "scattercarpet"
           }
          ],
          "scattergeo": [
           {
            "marker": {
             "colorbar": {
              "outlinewidth": 0,
              "ticks": ""
             }
            },
            "type": "scattergeo"
           }
          ],
          "scattergl": [
           {
            "marker": {
             "colorbar": {
              "outlinewidth": 0,
              "ticks": ""
             }
            },
            "type": "scattergl"
           }
          ],
          "scattermap": [
           {
            "marker": {
             "colorbar": {
              "outlinewidth": 0,
              "ticks": ""
             }
            },
            "type": "scattermap"
           }
          ],
          "scattermapbox": [
           {
            "marker": {
             "colorbar": {
              "outlinewidth": 0,
              "ticks": ""
             }
            },
            "type": "scattermapbox"
           }
          ],
          "scatterpolar": [
           {
            "marker": {
             "colorbar": {
              "outlinewidth": 0,
              "ticks": ""
             }
            },
            "type": "scatterpolar"
           }
          ],
          "scatterpolargl": [
           {
            "marker": {
             "colorbar": {
              "outlinewidth": 0,
              "ticks": ""
             }
            },
            "type": "scatterpolargl"
           }
          ],
          "scatterternary": [
           {
            "marker": {
             "colorbar": {
              "outlinewidth": 0,
              "ticks": ""
             }
            },
            "type": "scatterternary"
           }
          ],
          "surface": [
           {
            "colorbar": {
             "outlinewidth": 0,
             "ticks": ""
            },
            "colorscale": [
             [
              0,
              "#0d0887"
             ],
             [
              0.1111111111111111,
              "#46039f"
             ],
             [
              0.2222222222222222,
              "#7201a8"
             ],
             [
              0.3333333333333333,
              "#9c179e"
             ],
             [
              0.4444444444444444,
              "#bd3786"
             ],
             [
              0.5555555555555556,
              "#d8576b"
             ],
             [
              0.6666666666666666,
              "#ed7953"
             ],
             [
              0.7777777777777778,
              "#fb9f3a"
             ],
             [
              0.8888888888888888,
              "#fdca26"
             ],
             [
              1,
              "#f0f921"
             ]
            ],
            "type": "surface"
           }
          ],
          "table": [
           {
            "cells": {
             "fill": {
              "color": "#EBF0F8"
             },
             "line": {
              "color": "white"
             }
            },
            "header": {
             "fill": {
              "color": "#C8D4E3"
             },
             "line": {
              "color": "white"
             }
            },
            "type": "table"
           }
          ]
         },
         "layout": {
          "annotationdefaults": {
           "arrowcolor": "#2a3f5f",
           "arrowhead": 0,
           "arrowwidth": 1
          },
          "autotypenumbers": "strict",
          "coloraxis": {
           "colorbar": {
            "outlinewidth": 0,
            "ticks": ""
           }
          },
          "colorscale": {
           "diverging": [
            [
             0,
             "#8e0152"
            ],
            [
             0.1,
             "#c51b7d"
            ],
            [
             0.2,
             "#de77ae"
            ],
            [
             0.3,
             "#f1b6da"
            ],
            [
             0.4,
             "#fde0ef"
            ],
            [
             0.5,
             "#f7f7f7"
            ],
            [
             0.6,
             "#e6f5d0"
            ],
            [
             0.7,
             "#b8e186"
            ],
            [
             0.8,
             "#7fbc41"
            ],
            [
             0.9,
             "#4d9221"
            ],
            [
             1,
             "#276419"
            ]
           ],
           "sequential": [
            [
             0,
             "#0d0887"
            ],
            [
             0.1111111111111111,
             "#46039f"
            ],
            [
             0.2222222222222222,
             "#7201a8"
            ],
            [
             0.3333333333333333,
             "#9c179e"
            ],
            [
             0.4444444444444444,
             "#bd3786"
            ],
            [
             0.5555555555555556,
             "#d8576b"
            ],
            [
             0.6666666666666666,
             "#ed7953"
            ],
            [
             0.7777777777777778,
             "#fb9f3a"
            ],
            [
             0.8888888888888888,
             "#fdca26"
            ],
            [
             1,
             "#f0f921"
            ]
           ],
           "sequentialminus": [
            [
             0,
             "#0d0887"
            ],
            [
             0.1111111111111111,
             "#46039f"
            ],
            [
             0.2222222222222222,
             "#7201a8"
            ],
            [
             0.3333333333333333,
             "#9c179e"
            ],
            [
             0.4444444444444444,
             "#bd3786"
            ],
            [
             0.5555555555555556,
             "#d8576b"
            ],
            [
             0.6666666666666666,
             "#ed7953"
            ],
            [
             0.7777777777777778,
             "#fb9f3a"
            ],
            [
             0.8888888888888888,
             "#fdca26"
            ],
            [
             1,
             "#f0f921"
            ]
           ]
          },
          "colorway": [
           "#636efa",
           "#EF553B",
           "#00cc96",
           "#ab63fa",
           "#FFA15A",
           "#19d3f3",
           "#FF6692",
           "#B6E880",
           "#FF97FF",
           "#FECB52"
          ],
          "font": {
           "color": "#2a3f5f"
          },
          "geo": {
           "bgcolor": "white",
           "lakecolor": "white",
           "landcolor": "#E5ECF6",
           "showlakes": true,
           "showland": true,
           "subunitcolor": "white"
          },
          "hoverlabel": {
           "align": "left"
          },
          "hovermode": "closest",
          "mapbox": {
           "style": "light"
          },
          "paper_bgcolor": "white",
          "plot_bgcolor": "#E5ECF6",
          "polar": {
           "angularaxis": {
            "gridcolor": "white",
            "linecolor": "white",
            "ticks": ""
           },
           "bgcolor": "#E5ECF6",
           "radialaxis": {
            "gridcolor": "white",
            "linecolor": "white",
            "ticks": ""
           }
          },
          "scene": {
           "xaxis": {
            "backgroundcolor": "#E5ECF6",
            "gridcolor": "white",
            "gridwidth": 2,
            "linecolor": "white",
            "showbackground": true,
            "ticks": "",
            "zerolinecolor": "white"
           },
           "yaxis": {
            "backgroundcolor": "#E5ECF6",
            "gridcolor": "white",
            "gridwidth": 2,
            "linecolor": "white",
            "showbackground": true,
            "ticks": "",
            "zerolinecolor": "white"
           },
           "zaxis": {
            "backgroundcolor": "#E5ECF6",
            "gridcolor": "white",
            "gridwidth": 2,
            "linecolor": "white",
            "showbackground": true,
            "ticks": "",
            "zerolinecolor": "white"
           }
          },
          "shapedefaults": {
           "line": {
            "color": "#2a3f5f"
           }
          },
          "ternary": {
           "aaxis": {
            "gridcolor": "white",
            "linecolor": "white",
            "ticks": ""
           },
           "baxis": {
            "gridcolor": "white",
            "linecolor": "white",
            "ticks": ""
           },
           "bgcolor": "#E5ECF6",
           "caxis": {
            "gridcolor": "white",
            "linecolor": "white",
            "ticks": ""
           }
          },
          "title": {
           "x": 0.05
          },
          "xaxis": {
           "automargin": true,
           "gridcolor": "white",
           "linecolor": "white",
           "ticks": "",
           "title": {
            "standoff": 15
           },
           "zerolinecolor": "white",
           "zerolinewidth": 2
          },
          "yaxis": {
           "automargin": true,
           "gridcolor": "white",
           "linecolor": "white",
           "ticks": "",
           "title": {
            "standoff": 15
           },
           "zerolinecolor": "white",
           "zerolinewidth": 2
          }
         }
        },
        "title": {
         "text": ""
        },
        "width": 1000
       }
      }
     },
     "metadata": {},
     "output_type": "display_data"
    },
    {
     "name": "stdout",
     "output_type": "stream",
     "text": [
      "\n",
      "Image sauvegardée au format PDF (fond transparent, marges minimales) : data/fig_image/ifa_M_opti3_Smith_chart.pdf\n",
      "\n",
      "\n",
      "📡 Résultats de simulation :\n",
      "→ Fréquence de résonance = 896.00 MHz\n",
      "→ Impédance à f_res      = 50.40+1.95j Ω\n",
      "\n",
      "S11 en dB : [ -0.60520624  -0.63928759  -0.67561031  -0.71434995  -0.75569815\n",
      "  -0.7998643   -0.84707738  -0.89758805  -0.95167097  -1.00962735\n",
      "  -1.07178788  -1.13851593  -1.21021116  -1.28731361  -1.37030821\n",
      "  -1.45972991  -1.55616941  -1.66027966  -1.77278315  -1.89448023\n",
      "  -2.02625847  -2.16910341  -2.32411085  -2.49250094  -2.6756346\n",
      "  -2.8750326   -3.09239821  -3.329644    -3.58892438  -3.87267531\n",
      "  -4.18366368  -4.52504975  -4.90046743  -5.31412943  -5.77096785\n",
      "  -6.2768257   -6.83872396  -7.46524234  -8.16707692  -8.9578814\n",
      "  -9.85558134 -10.88451569 -12.07911239 -13.49062489 -15.20058291\n",
      " -17.3509645  -20.22425315 -24.52078006 -32.91133547 -34.07044682\n",
      " -25.11652951 -20.73815492 -17.87913935 -15.77450156 -14.12268116\n",
      " -12.77389991 -11.64274103 -10.67575378  -9.83717144  -9.1018127\n",
      "  -8.45122777  -7.8714587   -7.35166535  -6.88324404  -6.45924075\n",
      "  -6.07394793  -5.72261956  -5.40126493  -5.10649618  -4.83541329\n",
      "  -4.5855159   -4.35463463  -4.14087679  -3.94258295  -3.75829185\n",
      "  -3.58671162]\n",
      "Seuil pour la bande passante à -3 dB : -31.07 dB\n",
      "Indices où S11 <= -31.07 dB : [48 49]\n",
      "\n",
      "Calcul de Q :\n",
      "→ Bande passante (-3 dB) : 4.00 MHz\n",
      "→ Facteur de qualité Q  : 224.00\n"
     ]
    },
    {
     "data": {
      "image/png": "[encoded data removed]",
      "text/plain": [
       "<Figure size 700x432.624 with 1 Axes>"
      ]
     },
     "metadata": {},
     "output_type": "display_data"
    },
    {
     "name": "stdout",
     "output_type": "stream",
     "text": [
      "\n",
      "Ratio = 1.032258064516129\n",
      "\n",
      "\n",
      "We are within 2% of fc!\n",
      "\n",
      "\n",
      "------------------------------------------------------Iteration N°2------------------------------------------------------\n",
      "\n",
      "distance meandres = 5.400 mm\n",
      "\n",
      "Number of meanders = 2\n",
      "\n",
      "New distance meandres = 8.100 mm\n",
      "Largeur de piste ifa = 5.400 mm\n",
      "position feed = 29.303 mm\n",
      "\n",
      "Simulation 1/76 | f = 700.00 MHz | S11 = -0.63 dB\n",
      "Simulation 2/76 | f = 704.00 MHz | S11 = -0.67 dB\n",
      "Simulation 3/76 | f = 708.00 MHz | S11 = -0.71 dB\n",
      "Simulation 4/76 | f = 712.00 MHz | S11 = -0.75 dB\n",
      "Simulation 5/76 | f = 716.00 MHz | S11 = -0.80 dB\n",
      "Simulation 6/76 | f = 720.00 MHz | S11 = -0.85 dB\n",
      "Simulation 7/76 | f = 724.00 MHz | S11 = -0.90 dB\n",
      "Simulation 8/76 | f = 728.00 MHz | S11 = -0.96 dB\n",
      "Simulation 9/76 | f = 732.00 MHz | S11 = -1.02 dB\n",
      "Simulation 10/76 | f = 736.00 MHz | S11 = -1.08 dB\n",
      "Simulation 11/76 | f = 740.00 MHz | S11 = -1.16 dB\n",
      "Simulation 12/76 | f = 744.00 MHz | S11 = -1.23 dB\n",
      "Simulation 13/76 | f = 748.00 MHz | S11 = -1.31 dB\n",
      "Simulation 14/76 | f = 752.00 MHz | S11 = -1.40 dB\n",
      "Simulation 15/76 | f = 756.00 MHz | S11 = -1.50 dB\n",
      "Simulation 16/76 | f = 760.00 MHz | S11 = -1.60 dB\n",
      "Simulation 17/76 | f = 764.00 MHz | S11 = -1.72 dB\n",
      "Simulation 18/76 | f = 768.00 MHz | S11 = -1.84 dB\n",
      "Simulation 19/76 | f = 772.00 MHz | S11 = -1.97 dB\n",
      "Simulation 20/76 | f = 776.00 MHz | S11 = -2.12 dB\n",
      "Simulation 21/76 | f = 780.00 MHz | S11 = -2.27 dB\n",
      "Simulation 22/76 | f = 784.00 MHz | S11 = -2.45 dB\n",
      "Simulation 23/76 | f = 788.00 MHz | S11 = -2.63 dB\n",
      "Simulation 24/76 | f = 792.00 MHz | S11 = -2.84 dB\n",
      "Simulation 25/76 | f = 796.00 MHz | S11 = -3.06 dB\n",
      "Simulation 26/76 | f = 800.00 MHz | S11 = -3.31 dB\n",
      "Simulation 27/76 | f = 804.00 MHz | S11 = -3.58 dB\n",
      "Simulation 28/76 | f = 808.00 MHz | S11 = -3.88 dB\n",
      "Simulation 29/76 | f = 812.00 MHz | S11 = -4.20 dB\n",
      "Simulation 30/76 | f = 816.00 MHz | S11 = -4.57 dB\n",
      "Simulation 31/76 | f = 820.00 MHz | S11 = -4.96 dB\n",
      "Simulation 32/76 | f = 824.00 MHz | S11 = -5.41 dB\n",
      "Simulation 33/76 | f = 828.00 MHz | S11 = -5.90 dB\n",
      "Simulation 34/76 | f = 832.00 MHz | S11 = -6.44 dB\n",
      "Simulation 35/76 | f = 836.00 MHz | S11 = -7.05 dB\n",
      "Simulation 36/76 | f = 840.00 MHz | S11 = -7.74 dB\n",
      "Simulation 37/76 | f = 844.00 MHz | S11 = -8.52 dB\n",
      "Simulation 38/76 | f = 848.00 MHz | S11 = -9.40 dB\n",
      "Simulation 39/76 | f = 852.00 MHz | S11 = -10.41 dB\n",
      "Simulation 40/76 | f = 856.00 MHz | S11 = -11.59 dB\n",
      "Simulation 41/76 | f = 860.00 MHz | S11 = -12.98 dB\n",
      "Simulation 42/76 | f = 864.00 MHz | S11 = -14.67 dB\n"
     ]
    },
    {
     "data": {
      "application/vnd.plotly.v1+json": {
       "config": {
        "plotlyServerURL": "https://plot.ly"
       },
       "data": [
        {
         "facecolor": [
          "rgb(0, 35, 255)",
          "rgb(0, 48, 255)",
          "rgb(255, 0, 0)",
          "rgb(0, 131, 255)",
          "rgb(140, 0, 97)",
          "rgb(97, 0, 129)",
          "rgb(144, 0, 95)",
          "rgb(0, 25, 254)",
          "rgb(0, 135, 255)",
          "rgb(129, 0, 105)",
          "rgb(115, 0, 116)",
          "rgb(11, 179, 228)",
          "rgb(0, 25, 255)",
          "rgb(109, 0, 120)",
          "rgb(102, 0, 125)",
          "rgb(118, 0, 113)",
          "rgb(149, 255, 3)",
          "rgb(0, 11, 225)",
          "rgb(96, 0, 130)",
          "rgb(137, 0, 100)",
          "rgb(0, 127, 255)",
          "rgb(141, 0, 97)",
          "rgb(75, 255, 107)",
          "rgb(38, 240, 165)",
          "rgb(114, 255, 52)",
          "rgb(0, 131, 255)",
          "rgb(0, 7, 216)",
          "rgb(129, 255, 31)",
          "rgb(0, 70, 255)",
          "rgb(156, 254, 0)",
          "rgb(0, 82, 255)",
          "rgb(92, 0, 132)",
          "rgb(101, 0, 126)",
          "rgb(125, 0, 109)",
          "rgb(132, 0, 103)",
          "rgb(129, 0, 105)",
          "rgb(44, 0, 167)",
          "rgb(83, 0, 139)",
          "rgb(120, 0, 112)",
          "rgb(108, 0, 121)",
          "rgb(91, 0, 133)",
          "rgb(126, 0, 107)",
          "rgb(145, 0, 93)",
          "rgb(74, 0, 145)",
          "rgb(20, 0, 185)",
          "rgb(36, 0, 174)",
          "rgb(150, 0, 90)"
         ],
         "i": {
          "bdata": "BxQCAB8iIA8kJR8ZGCUXIQgYJR8ZEg0MDQIeDQEVFSIdJSMhJhAiHyIcICIDJhM=",
          "dtype": "i1"
         },
         "j": {
          "bdata": "Dg4BASEjIR4AJCAJFhAKJRoXJiUWIQkJCAMPGg4aAQ8jIyURGyYkHAAgEx0mAyE=",
          "dtype": "i1"
         },
         "k": {
          "bdata": "DwcVAiAdEwcDJhwWFxELERULECEYBgwZCQAiCBQCFAAfJB8GBQUjHSQEBB4kGxI=",
          "dtype": "i1"
         },
         "name": "",
         "type": "mesh3d",
         "x": {
          "bdata": "AAAAAAAAAACC4seYu5aAP4Lix5i7loA/AAAAAAAAAACkcD0K16OwvwAAAAAAAAAApHA9CtejsL/ZzvdT46WLP9nO91PjpYs/rthfdk8elj+u2F92Tx6WP9nO91PjpZs/2c73U+Olmz+C4seYu5aAP4Lix5i7loA/AAAAAAAAAAA5lvxiyS+WvzeW/GLJL6a/pHA9CtejsL+kcD0K16Owv9nO91PjpYs/2c73U+Oliz+u2F92Tx6WP67YX3ZPHpY/2c73U+Olmz/ZzvdT46WbP4Lix5i7loA/AAAAAAAAAAAPrBxaZDunv7ftfD81Xpq/qAwCK4cWeb9umV7cLhikv6f9xG0hUKu/N+xnxbetqr/b8uZY+GyJv7PO7v68r5m/ByU1sDpJjL87w8B54lChv/xAd+Njp4e/",
          "dtype": "f8"
         },
         "y": {
          "bdata": "vdL+GKxioD+90v4YrGKgP06vZVTEPZs/Tq9lVMQ9mz8pXI/C9SisPwAAAAAAAAAAAAAAAAAAAAApXI/C9SisP6/YX3ZPHnY/r9hfdk8edj8pXI/C9SisPylcj8L1KKw/AAAAAAAAMDwAAAAAAAAwPBNhw9MrZak/E2HD0ytlqT8AAAAAAAAAAAAAAAAAAAAAy5JfLPnFkj/Jkl8s+cWiPyeRoybnsaM/OoxvFbF1lj8vjG8VsXWWPyKRoybnsaM/xJJfLPnFoj+/kl8s+cWSP1SvZVTEPYs/Tq9lVMQ9iz8pXI/C9SisPylcj8L1KKw/KVyPwvUorD+IEJAljLGjP3mpzwRMOaU/cef/gRaqlj9of7sHVaWlP6xgoD+FCaM/Wo8Ei8KAnT+p0C24AX+UPxHtpOl4SY4/",
          "dtype": "f8"
         },
         "z": {
          "bdata": "AAAAAAAAAAAAAAAAAAAAAAAAAAAAAAAAAAAAAAAAAAAAAAAAAAAAAAAAAAAAAAAAAAAAAAAAAAAAAAAAAAAAAAAAAAAAAAAAAAAAAAAAAAAAAAAAAAAAAAAAAAAAAAAAAAAAAAAAAAAAAAAAAAAAAAAAAAAAAAAAAAAAAAAAAAAAAAAAAAAAAAAAAAAAAAAAAAAAAAAAAAAAAAAAAAAAAAAAAAAAAAAAAAAAAAAAAAAAAAAAAAAAAAAAAAAAAAAAAAAAAAAAAAAAAAAAAAAAAAAAAAAAAAAAAAAAAAAAAAAAAAAAAAAAAAAAAAAAAAAAAAAAAAAAAAAAAAAAAAAAAAAAAAAAAAAAAAAAAAAAAAAAAAAAAAAAAAAAAAAAAAAAAAAAAAAAAAAAAAAAAAAAAAAAAAAAAAAA",
          "dtype": "f8"
         }
        },
        {
         "line": {
          "color": "rgb(50, 50, 50)",
          "width": 1.5
         },
         "mode": "lines",
         "showlegend": false,
         "type": "scatter3d",
         "x": [
          0.0135,
          0.0081,
          0,
          0.0135,
          null,
          0.0135,
          0.0081,
          0.0135,
          0.0135,
          null,
          0.0081,
          0.0081,
          0.0135,
          0.0081,
          null,
          0,
          0.0081,
          0.0081,
          0,
          null,
          -0.03924700202996943,
          -0.05210661205998018,
          -0.05334572281798993,
          -0.03924700202996943,
          null,
          -0.01241487523372469,
          -0.02508445077883321,
          -0.02575000000000013,
          -0.01241487523372469,
          null,
          -0.05334572281798993,
          -0.05210661205998018,
          -0.065,
          -0.05334572281798993,
          null,
          0,
          -0.006125000000000082,
          0.0135,
          0,
          null,
          -0.01381154871218594,
          0,
          0,
          -0.01381154871218594,
          null,
          -0.03382022606127185,
          -0.01381154871218594,
          -0.01154974019928589,
          -0.03382022606127185,
          null,
          -0.03924700202996943,
          -0.05334572281798993,
          -0.04537500000000005,
          -0.03924700202996943,
          null,
          0.027,
          0.0216,
          0.0216,
          0.027,
          null,
          0.027,
          0.0216,
          0.0216,
          0.027,
          null,
          -0.03382022606127185,
          -0.0216666666666667,
          -0.04333333333333338,
          -0.03382022606127185,
          null,
          0.0216,
          0.0216,
          0.027,
          0.0216,
          null,
          -0.05210661205998018,
          -0.03382022606127185,
          -0.04333333333333338,
          -0.05210661205998018,
          null,
          0.0135,
          0.0081,
          0.0135,
          0.0135,
          null,
          0.027,
          0.0216,
          0.027,
          0.027,
          null,
          -0.03382022606127185,
          -0.01154974019928589,
          -0.0216666666666667,
          -0.03382022606127185,
          null,
          -0.03924700202996943,
          -0.03382022606127185,
          -0.05210661205998018,
          -0.03924700202996943,
          null,
          0.027,
          0.0216,
          0.027,
          0.027,
          null,
          -0.065,
          -0.05210661205998018,
          -0.065,
          -0.065,
          null,
          0.0081,
          0.0216,
          0.027,
          0.0081,
          null,
          0.027,
          0.0216,
          0.027,
          0.027,
          null,
          0.0081,
          0.0135,
          0.0216,
          0.0081,
          null,
          0.0081,
          0,
          0,
          0.0081,
          null,
          -0.006125000000000082,
          0,
          -0.01241487523372469,
          -0.006125000000000082,
          null,
          0.0081,
          0.0081,
          0.0135,
          0.0081,
          null,
          0.0081,
          0.0081,
          0.0135,
          0.0081,
          null,
          0.0135,
          0.0081,
          0.0081,
          0.0135,
          null,
          0.0135,
          0.0081,
          0.0135,
          0.0135,
          null,
          -0.01241487523372469,
          0,
          0,
          -0.01241487523372469,
          null,
          -0.02575000000000013,
          -0.02508445077883321,
          -0.03924700202996943,
          -0.02575000000000013,
          null,
          -0.03382022606127185,
          -0.02508445077883321,
          -0.01381154871218594,
          -0.03382022606127185,
          null,
          -0.02508445077883321,
          -0.03382022606127185,
          -0.03924700202996943,
          -0.02508445077883321,
          null,
          -0.05210661205998018,
          -0.04333333333333338,
          -0.065,
          -0.05210661205998018,
          null,
          -0.01154974019928589,
          0,
          0,
          -0.01154974019928589,
          null,
          -0.0216666666666667,
          -0.01154974019928589,
          0,
          -0.0216666666666667,
          null,
          -0.01241487523372469,
          -0.01381154871218594,
          -0.02508445077883321,
          -0.01241487523372469,
          null,
          -0.03924700202996943,
          -0.04537500000000005,
          -0.02575000000000013,
          -0.03924700202996943,
          null,
          -0.01241487523372469,
          0,
          -0.01381154871218594,
          -0.01241487523372469,
          null,
          -0.04537500000000005,
          -0.05334572281798993,
          -0.065,
          -0.04537500000000005,
          null,
          -0.05334572281798993,
          -0.065,
          -0.065,
          -0.05334572281798993,
          null,
          -0.01241487523372469,
          -0.02575000000000013,
          -0.006125000000000082,
          -0.01241487523372469,
          null,
          0,
          -0.01154974019928589,
          -0.01381154871218594,
          0,
          null,
          -0.01154974019928589,
          0,
          0,
          -0.01154974019928589,
          null,
          -0.065,
          -0.05210661205998018,
          -0.065,
          -0.065,
          null
         ],
         "y": [
          0.055,
          0.0496,
          0.0496,
          0.055,
          null,
          0.0384666666666667,
          0.0496,
          0.055,
          0.0384666666666667,
          null,
          0.02660280957336108,
          0.03200280957336108,
          0.02193333333333334,
          0.02660280957336108,
          null,
          0.03200280957336108,
          0.03200280957336108,
          0.02660280957336108,
          0.03200280957336108,
          null,
          0.03846395453004542,
          0.02213320892767662,
          0.04145276602487775,
          0.03846395453004542,
          null,
          0.04227700919523053,
          0.03718201066675539,
          0.055,
          0.04227700919523053,
          null,
          0.04145276602487775,
          0.02213320892767662,
          0.03666666666666669,
          0.04145276602487775,
          null,
          0.0496,
          0.055,
          0.055,
          0.0496,
          null,
          0.02881149266717329,
          0.03200280957336108,
          0.02660280957336108,
          0.02881149266717329,
          null,
          0.02001574217452232,
          0.02881149266717329,
          0.01478857481980936,
          0.02001574217452232,
          null,
          0.03846395453004542,
          0.04145276602487775,
          0.055,
          0.03846395453004542,
          null,
          0.01833333333333331,
          0.005400000000000001,
          0.0219333333333333,
          0.01833333333333331,
          null,
          0.03666666666666665,
          0.0219333333333333,
          0.03846666666666666,
          0.03666666666666665,
          null,
          0.02001574217452232,
          0,
          0,
          0.02001574217452232,
          null,
          0.03846666666666666,
          0.055,
          0.055,
          0.03846666666666666,
          null,
          0.02213320892767662,
          0.02001574217452232,
          0,
          0.02213320892767662,
          null,
          0.005400000000000001,
          0.01330140478668055,
          0.02193333333333334,
          0.005400000000000001,
          null,
          0.03666666666666665,
          0.03846666666666666,
          0.055,
          0.03666666666666665,
          null,
          0.02001574217452232,
          0.01478857481980936,
          0,
          0.02001574217452232,
          null,
          0.03846395453004542,
          0.02001574217452232,
          0.02213320892767662,
          0.03846395453004542,
          null,
          0.01833333333333331,
          0.0219333333333333,
          0.03666666666666665,
          0.01833333333333331,
          null,
          0.01833333333333335,
          0.02213320892767662,
          0,
          0.01833333333333335,
          null,
          8.673617379884035e-19,
          0.005400000000000001,
          8.673617379884035e-19,
          8.673617379884035e-19,
          null,
          8.673617379884035e-19,
          0.005400000000000001,
          0.01833333333333331,
          8.673617379884035e-19,
          null,
          8.673617379884035e-19,
          0.005400000000000001,
          0.005400000000000001,
          8.673617379884035e-19,
          null,
          0.02660280957336108,
          0.02660280957336108,
          0.03200280957336108,
          0.02660280957336108,
          null,
          0.055,
          0.0496,
          0.04227700919523053,
          0.055,
          null,
          8.673617379884035e-19,
          0.01330140478668055,
          0.005400000000000001,
          8.673617379884035e-19,
          null,
          0.03200280957336108,
          0.0496,
          0.0384666666666667,
          0.03200280957336108,
          null,
          0.02193333333333334,
          0.01330140478668055,
          0.02660280957336108,
          0.02193333333333334,
          null,
          0.02193333333333334,
          0.03200280957336108,
          0.0384666666666667,
          0.02193333333333334,
          null,
          0.04227700919523053,
          0.0496,
          0.03200280957336108,
          0.04227700919523053,
          null,
          0.055,
          0.03718201066675539,
          0.03846395453004542,
          0.055,
          null,
          0.02001574217452232,
          0.03718201066675539,
          0.02881149266717329,
          0.02001574217452232,
          null,
          0.03718201066675539,
          0.02001574217452232,
          0.03846395453004542,
          0.03718201066675539,
          null,
          0.02213320892767662,
          0,
          0,
          0.02213320892767662,
          null,
          0.01478857481980936,
          0.01330140478668054,
          0,
          0.01478857481980936,
          null,
          0,
          0.01478857481980936,
          0,
          0,
          null,
          0.04227700919523053,
          0.02881149266717329,
          0.03718201066675539,
          0.04227700919523053,
          null,
          0.03846395453004542,
          0.055,
          0.055,
          0.03846395453004542,
          null,
          0.04227700919523053,
          0.03200280957336108,
          0.02881149266717329,
          0.04227700919523053,
          null,
          0.055,
          0.04145276602487775,
          0.055,
          0.055,
          null,
          0.04145276602487775,
          0.03666666666666669,
          0.055,
          0.04145276602487775,
          null,
          0.04227700919523053,
          0.055,
          0.055,
          0.04227700919523053,
          null,
          0.02660280957336108,
          0.01478857481980936,
          0.02881149266717329,
          0.02660280957336108,
          null,
          0.01478857481980936,
          0.02660280957336108,
          0.01330140478668054,
          0.01478857481980936,
          null,
          0.03666666666666669,
          0.02213320892767662,
          0.01833333333333335,
          0.03666666666666669,
          null
         ],
         "z": [
          0,
          0,
          0,
          0,
          null,
          0,
          0,
          0,
          0,
          null,
          0,
          0,
          0,
          0,
          null,
          0,
          0,
          0,
          0,
          null,
          0,
          0,
          0,
          0,
          null,
          0,
          0,
          0,
          0,
          null,
          0,
          0,
          0,
          0,
          null,
          0,
          0,
          0,
          0,
          null,
          0,
          0,
          0,
          0,
          null,
          0,
          0,
          0,
          0,
          null,
          0,
          0,
          0,
          0,
          null,
          0,
          0,
          0,
          0,
          null,
          0,
          0,
          0,
          0,
          null,
          0,
          0,
          0,
          0,
          null,
          0,
          0,
          0,
          0,
          null,
          0,
          0,
          0,
          0,
          null,
          0,
          0,
          0,
          0,
          null,
          0,
          0,
          0,
          0,
          null,
          0,
          0,
          0,
          0,
          null,
          0,
          0,
          0,
          0,
          null,
          0,
          0,
          0,
          0,
          null,
          0,
          0,
          0,
          0,
          null,
          0,
          0,
          0,
          0,
          null,
          0,
          0,
          0,
          0,
          null,
          0,
          0,
          0,
          0,
          null,
          0,
          0,
          0,
          0,
          null,
          0,
          0,
          0,
          0,
          null,
          0,
          0,
          0,
          0,
          null,
          0,
          0,
          0,
          0,
          null,
          0,
          0,
          0,
          0,
          null,
          0,
          0,
          0,
          0,
          null,
          0,
          0,
          0,
          0,
          null,
          0,
          0,
          0,
          0,
          null,
          0,
          0,
          0,
          0,
          null,
          0,
          0,
          0,
          0,
          null,
          0,
          0,
          0,
          0,
          null,
          0,
          0,
          0,
          0,
          null,
          0,
          0,
          0,
          0,
          null,
          0,
          0,
          0,
          0,
          null,
          0,
          0,
          0,
          0,
          null,
          0,
          0,
          0,
          0,
          null,
          0,
          0,
          0,
          0,
          null,
          0,
          0,
          0,
          0,
          null,
          0,
          0,
          0,
          0,
          null,
          0,
          0,
          0,
          0,
          null,
          0,
          0,
          0,
          0,
          null,
          0,
          0,
          0,
          0,
          null
         ]
        },
        {
         "hoverinfo": "none",
         "marker": {
          "color": [
           0.016582976815802754,
           4.466398750675988
          ],
          "colorscale": [
           [
            0,
            "rgb(150, 0, 90)"
           ],
           [
            0.125,
            "rgb(0, 0, 200)"
           ],
           [
            0.25,
            "rgb(0, 25, 255)"
           ],
           [
            0.375,
            "rgb(0, 152, 255)"
           ],
           [
            0.5,
            "rgb(44, 255, 150)"
           ],
           [
            0.625,
            "rgb(151, 255, 0)"
           ],
           [
            0.75,
            "rgb(255, 234, 0)"
           ],
           [
            0.875,
            "rgb(255, 111, 0)"
           ],
           [
            1,
            "rgb(255, 0, 0)"
           ]
          ],
          "showscale": true,
          "size": 0.1
         },
         "mode": "markers",
         "showlegend": false,
         "type": "scatter3d",
         "x": {
          "bdata": "AAAAAAAAAAA=",
          "dtype": "f8"
         },
         "y": {
          "bdata": "vdL+GKxioD8=",
          "dtype": "f8"
         },
         "z": {
          "bdata": "AAAAAAAAAAA=",
          "dtype": "f8"
         }
        },
        {
         "marker": {
          "color": "red",
          "size": 6,
          "symbol": "circle"
         },
         "mode": "markers+text",
         "name": "Feed Point(s)",
         "type": "scatter3d",
         "x": {
          "bdata": "AAAAAAAAAAA=",
          "dtype": "f8"
         },
         "y": {
          "bdata": "ZKoxQ44Bnj8=",
          "dtype": "f8"
         },
         "z": {
          "bdata": "AAAAAAAAAAA=",
          "dtype": "f8"
         }
        }
       ],
       "layout": {
        "height": 800,
        "legend": {
         "bgcolor": "rgba(255,255,255,0.7)",
         "bordercolor": "lightgray",
         "borderwidth": 1,
         "x": 0.2,
         "xanchor": "left",
         "y": 0.9,
         "yanchor": "top"
        },
        "scene": {
         "aspectratio": {
          "x": 1,
          "y": 0.5978260869565217,
          "z": 0.3
         },
         "camera": {
          "eye": {
           "x": 0.65,
           "y": 0.65,
           "z": 0.65
          }
         },
         "xaxis": {
          "backgroundcolor": "rgb(230, 230, 230)",
          "gridcolor": "rgb(255, 255, 255)",
          "showbackground": true,
          "zerolinecolor": "rgb(255, 255, 255)"
         },
         "yaxis": {
          "backgroundcolor": "rgb(230, 230, 230)",
          "gridcolor": "rgb(255, 255, 255)",
          "showbackground": true,
          "zerolinecolor": "rgb(255, 255, 255)"
         },
         "zaxis": {
          "backgroundcolor": "rgb(230, 230, 230)",
          "gridcolor": "rgb(255, 255, 255)",
          "showbackground": true,
          "zerolinecolor": "rgb(255, 255, 255)"
         }
        },
        "template": {
         "data": {
          "bar": [
           {
            "error_x": {
             "color": "#2a3f5f"
            },
            "error_y": {
             "color": "#2a3f5f"
            },
            "marker": {
             "line": {
              "color": "#E5ECF6",
              "width": 0.5
             },
             "pattern": {
              "fillmode": "overlay",
              "size": 10,
              "solidity": 0.2
             }
            },
            "type": "bar"
           }
          ],
          "barpolar": [
           {
            "marker": {
             "line": {
              "color": "#E5ECF6",
              "width": 0.5
             },
             "pattern": {
              "fillmode": "overlay",
              "size": 10,
              "solidity": 0.2
             }
            },
            "type": "barpolar"
           }
          ],
          "carpet": [
           {
            "aaxis": {
             "endlinecolor": "#2a3f5f",
             "gridcolor": "white",
             "linecolor": "white",
             "minorgridcolor": "white",
             "startlinecolor": "#2a3f5f"
            },
            "baxis": {
             "endlinecolor": "#2a3f5f",
             "gridcolor": "white",
             "linecolor": "white",
             "minorgridcolor": "white",
             "startlinecolor": "#2a3f5f"
            },
            "type": "carpet"
           }
          ],
          "choropleth": [
           {
            "colorbar": {
             "outlinewidth": 0,
             "ticks": ""
            },
            "type": "choropleth"
           }
          ],
          "contour": [
           {
            "colorbar": {
             "outlinewidth": 0,
             "ticks": ""
            },
            "colorscale": [
             [
              0,
              "#0d0887"
             ],
             [
              0.1111111111111111,
              "#46039f"
             ],
             [
              0.2222222222222222,
              "#7201a8"
             ],
             [
              0.3333333333333333,
              "#9c179e"
             ],
             [
              0.4444444444444444,
              "#bd3786"
             ],
             [
              0.5555555555555556,
              "#d8576b"
             ],
             [
              0.6666666666666666,
              "#ed7953"
             ],
             [
              0.7777777777777778,
              "#fb9f3a"
             ],
             [
              0.8888888888888888,
              "#fdca26"
             ],
             [
              1,
              "#f0f921"
             ]
            ],
            "type": "contour"
           }
          ],
          "contourcarpet": [
           {
            "colorbar": {
             "outlinewidth": 0,
             "ticks": ""
            },
            "type": "contourcarpet"
           }
          ],
          "heatmap": [
           {
            "colorbar": {
             "outlinewidth": 0,
             "ticks": ""
            },
            "colorscale": [
             [
              0,
              "#0d0887"
             ],
             [
              0.1111111111111111,
              "#46039f"
             ],
             [
              0.2222222222222222,
              "#7201a8"
             ],
             [
              0.3333333333333333,
              "#9c179e"
             ],
             [
              0.4444444444444444,
              "#bd3786"
             ],
             [
              0.5555555555555556,
              "#d8576b"
             ],
             [
              0.6666666666666666,
              "#ed7953"
             ],
             [
              0.7777777777777778,
              "#fb9f3a"
             ],
             [
              0.8888888888888888,
              "#fdca26"
             ],
             [
              1,
              "#f0f921"
             ]
            ],
            "type": "heatmap"
           }
          ],
          "histogram": [
           {
            "marker": {
             "pattern": {
              "fillmode": "overlay",
              "size": 10,
              "solidity": 0.2
             }
            },
            "type": "histogram"
           }
          ],
          "histogram2d": [
           {
            "colorbar": {
             "outlinewidth": 0,
             "ticks": ""
            },
            "colorscale": [
             [
              0,
              "#0d0887"
             ],
             [
              0.1111111111111111,
              "#46039f"
             ],
             [
              0.2222222222222222,
              "#7201a8"
             ],
             [
              0.3333333333333333,
              "#9c179e"
             ],
             [
              0.4444444444444444,
              "#bd3786"
             ],
             [
              0.5555555555555556,
              "#d8576b"
             ],
             [
              0.6666666666666666,
              "#ed7953"
             ],
             [
              0.7777777777777778,
              "#fb9f3a"
             ],
             [
              0.8888888888888888,
              "#fdca26"
             ],
             [
              1,
              "#f0f921"
             ]
            ],
            "type": "histogram2d"
           }
          ],
          "histogram2dcontour": [
           {
            "colorbar": {
             "outlinewidth": 0,
             "ticks": ""
            },
            "colorscale": [
             [
              0,
              "#0d0887"
             ],
             [
              0.1111111111111111,
              "#46039f"
             ],
             [
              0.2222222222222222,
              "#7201a8"
             ],
             [
              0.3333333333333333,
              "#9c179e"
             ],
             [
              0.4444444444444444,
              "#bd3786"
             ],
             [
              0.5555555555555556,
              "#d8576b"
             ],
             [
              0.6666666666666666,
              "#ed7953"
             ],
             [
              0.7777777777777778,
              "#fb9f3a"
             ],
             [
              0.8888888888888888,
              "#fdca26"
             ],
             [
              1,
              "#f0f921"
             ]
            ],
            "type": "histogram2dcontour"
           }
          ],
          "mesh3d": [
           {
            "colorbar": {
             "outlinewidth": 0,
             "ticks": ""
            },
            "type": "mesh3d"
           }
          ],
          "parcoords": [
           {
            "line": {
             "colorbar": {
              "outlinewidth": 0,
              "ticks": ""
             }
            },
            "type": "parcoords"
           }
          ],
          "pie": [
           {
            "automargin": true,
            "type": "pie"
           }
          ],
          "scatter": [
           {
            "fillpattern": {
             "fillmode": "overlay",
             "size": 10,
             "solidity": 0.2
            },
            "type": "scatter"
           }
          ],
          "scatter3d": [
           {
            "line": {
             "colorbar": {
              "outlinewidth": 0,
              "ticks": ""
             }
            },
            "marker": {
             "colorbar": {
              "outlinewidth": 0,
              "ticks": ""
             }
            },
            "type": "scatter3d"
           }
          ],
          "scattercarpet": [
           {
            "marker": {
             "colorbar": {
              "outlinewidth": 0,
              "ticks": ""
             }
            },
            "type": "scattercarpet"
           }
          ],
          "scattergeo": [
           {
            "marker": {
             "colorbar": {
              "outlinewidth": 0,
              "ticks": ""
             }
            },
            "type": "scattergeo"
           }
          ],
          "scattergl": [
           {
            "marker": {
             "colorbar": {
              "outlinewidth": 0,
              "ticks": ""
             }
            },
            "type": "scattergl"
           }
          ],
          "scattermap": [
           {
            "marker": {
             "colorbar": {
              "outlinewidth": 0,
              "ticks": ""
             }
            },
            "type": "scattermap"
           }
          ],
          "scattermapbox": [
           {
            "marker": {
             "colorbar": {
              "outlinewidth": 0,
              "ticks": ""
             }
            },
            "type": "scattermapbox"
           }
          ],
          "scatterpolar": [
           {
            "marker": {
             "colorbar": {
              "outlinewidth": 0,
              "ticks": ""
             }
            },
            "type": "scatterpolar"
           }
          ],
          "scatterpolargl": [
           {
            "marker": {
             "colorbar": {
              "outlinewidth": 0,
              "ticks": ""
             }
            },
            "type": "scatterpolargl"
           }
          ],
          "scatterternary": [
           {
            "marker": {
             "colorbar": {
              "outlinewidth": 0,
              "ticks": ""
             }
            },
            "type": "scatterternary"
           }
          ],
          "surface": [
           {
            "colorbar": {
             "outlinewidth": 0,
             "ticks": ""
            },
            "colorscale": [
             [
              0,
              "#0d0887"
             ],
             [
              0.1111111111111111,
              "#46039f"
             ],
             [
              0.2222222222222222,
              "#7201a8"
             ],
             [
              0.3333333333333333,
              "#9c179e"
             ],
             [
              0.4444444444444444,
              "#bd3786"
             ],
             [
              0.5555555555555556,
              "#d8576b"
             ],
             [
              0.6666666666666666,
              "#ed7953"
             ],
             [
              0.7777777777777778,
              "#fb9f3a"
             ],
             [
              0.8888888888888888,
              "#fdca26"
             ],
             [
              1,
              "#f0f921"
             ]
            ],
            "type": "surface"
           }
          ],
          "table": [
           {
            "cells": {
             "fill": {
              "color": "#EBF0F8"
             },
             "line": {
              "color": "white"
             }
            },
            "header": {
             "fill": {
              "color": "#C8D4E3"
             },
             "line": {
              "color": "white"
             }
            },
            "type": "table"
           }
          ]
         },
         "layout": {
          "annotationdefaults": {
           "arrowcolor": "#2a3f5f",
           "arrowhead": 0,
           "arrowwidth": 1
          },
          "autotypenumbers": "strict",
          "coloraxis": {
           "colorbar": {
            "outlinewidth": 0,
            "ticks": ""
           }
          },
          "colorscale": {
           "diverging": [
            [
             0,
             "#8e0152"
            ],
            [
             0.1,
             "#c51b7d"
            ],
            [
             0.2,
             "#de77ae"
            ],
            [
             0.3,
             "#f1b6da"
            ],
            [
             0.4,
             "#fde0ef"
            ],
            [
             0.5,
             "#f7f7f7"
            ],
            [
             0.6,
             "#e6f5d0"
            ],
            [
             0.7,
             "#b8e186"
            ],
            [
             0.8,
             "#7fbc41"
            ],
            [
             0.9,
             "#4d9221"
            ],
            [
             1,
             "#276419"
            ]
           ],
           "sequential": [
            [
             0,
             "#0d0887"
            ],
            [
             0.1111111111111111,
             "#46039f"
            ],
            [
             0.2222222222222222,
             "#7201a8"
            ],
            [
             0.3333333333333333,
             "#9c179e"
            ],
            [
             0.4444444444444444,
             "#bd3786"
            ],
            [
             0.5555555555555556,
             "#d8576b"
            ],
            [
             0.6666666666666666,
             "#ed7953"
            ],
            [
             0.7777777777777778,
             "#fb9f3a"
            ],
            [
             0.8888888888888888,
             "#fdca26"
            ],
            [
             1,
             "#f0f921"
            ]
           ],
           "sequentialminus": [
            [
             0,
             "#0d0887"
            ],
            [
             0.1111111111111111,
             "#46039f"
            ],
            [
             0.2222222222222222,
             "#7201a8"
            ],
            [
             0.3333333333333333,
             "#9c179e"
            ],
            [
             0.4444444444444444,
             "#bd3786"
            ],
            [
             0.5555555555555556,
             "#d8576b"
            ],
            [
             0.6666666666666666,
             "#ed7953"
            ],
            [
             0.7777777777777778,
             "#fb9f3a"
            ],
            [
             0.8888888888888888,
             "#fdca26"
            ],
            [
             1,
             "#f0f921"
            ]
           ]
          },
          "colorway": [
           "#636efa",
           "#EF553B",
           "#00cc96",
           "#ab63fa",
           "#FFA15A",
           "#19d3f3",
           "#FF6692",
           "#B6E880",
           "#FF97FF",
           "#FECB52"
          ],
          "font": {
           "color": "#2a3f5f"
          },
          "geo": {
           "bgcolor": "white",
           "lakecolor": "white",
           "landcolor": "#E5ECF6",
           "showlakes": true,
           "showland": true,
           "subunitcolor": "white"
          },
          "hoverlabel": {
           "align": "left"
          },
          "hovermode": "closest",
          "mapbox": {
           "style": "light"
          },
          "paper_bgcolor": "white",
          "plot_bgcolor": "#E5ECF6",
          "polar": {
           "angularaxis": {
            "gridcolor": "white",
            "linecolor": "white",
            "ticks": ""
           },
           "bgcolor": "#E5ECF6",
           "radialaxis": {
            "gridcolor": "white",
            "linecolor": "white",
            "ticks": ""
           }
          },
          "scene": {
           "xaxis": {
            "backgroundcolor": "#E5ECF6",
            "gridcolor": "white",
            "gridwidth": 2,
            "linecolor": "white",
            "showbackground": true,
            "ticks": "",
            "zerolinecolor": "white"
           },
           "yaxis": {
            "backgroundcolor": "#E5ECF6",
            "gridcolor": "white",
            "gridwidth": 2,
            "linecolor": "white",
            "showbackground": true,
            "ticks": "",
            "zerolinecolor": "white"
           },
           "zaxis": {
            "backgroundcolor": "#E5ECF6",
            "gridcolor": "white",
            "gridwidth": 2,
            "linecolor": "white",
            "showbackground": true,
            "ticks": "",
            "zerolinecolor": "white"
           }
          },
          "shapedefaults": {
           "line": {
            "color": "#2a3f5f"
           }
          },
          "ternary": {
           "aaxis": {
            "gridcolor": "white",
            "linecolor": "white",
            "ticks": ""
           },
           "baxis": {
            "gridcolor": "white",
            "linecolor": "white",
            "ticks": ""
           },
           "bgcolor": "#E5ECF6",
           "caxis": {
            "gridcolor": "white",
            "linecolor": "white",
            "ticks": ""
           }
          },
          "title": {
           "x": 0.05
          },
          "xaxis": {
           "automargin": true,
           "gridcolor": "white",
           "linecolor": "white",
           "ticks": "",
           "title": {
            "standoff": 15
           },
           "zerolinecolor": "white",
           "zerolinewidth": 2
          },
          "yaxis": {
           "automargin": true,
           "gridcolor": "white",
           "linecolor": "white",
           "ticks": "",
           "title": {
            "standoff": 15
           },
           "zerolinecolor": "white",
           "zerolinewidth": 2
          }
         }
        },
        "title": {
         "text": ""
        },
        "width": 800
       }
      }
     },
     "metadata": {},
     "output_type": "display_data"
    },
    {
     "name": "stdout",
     "output_type": "stream",
     "text": [
      "Simulation 43/76 | f = 868.00 MHz | S11 = -16.79 dB\n",
      "Simulation 44/76 | f = 872.00 MHz | S11 = -19.62 dB\n",
      "Simulation 45/76 | f = 876.00 MHz | S11 = -23.83 dB\n",
      "Simulation 46/76 | f = 880.00 MHz | S11 = -32.21 dB\n",
      "Simulation 47/76 | f = 884.00 MHz | S11 = -35.68 dB\n",
      "Simulation 48/76 | f = 888.00 MHz | S11 = -25.17 dB\n",
      "Simulation 49/76 | f = 892.00 MHz | S11 = -20.58 dB\n",
      "Simulation 50/76 | f = 896.00 MHz | S11 = -17.64 dB\n",
      "Simulation 51/76 | f = 900.00 MHz | S11 = -15.50 dB\n",
      "Simulation 52/76 | f = 904.00 MHz | S11 = -13.83 dB\n",
      "Simulation 53/76 | f = 908.00 MHz | S11 = -12.47 dB\n",
      "Simulation 54/76 | f = 912.00 MHz | S11 = -11.34 dB\n",
      "Simulation 55/76 | f = 916.00 MHz | S11 = -10.37 dB\n",
      "Simulation 56/76 | f = 920.00 MHz | S11 = -9.53 dB\n",
      "Simulation 57/76 | f = 924.00 MHz | S11 = -8.80 dB\n",
      "Simulation 58/76 | f = 928.00 MHz | S11 = -8.15 dB\n",
      "Simulation 59/76 | f = 932.00 MHz | S11 = -7.58 dB\n",
      "Simulation 60/76 | f = 936.00 MHz | S11 = -7.07 dB\n",
      "Simulation 61/76 | f = 940.00 MHz | S11 = -6.61 dB\n",
      "Simulation 62/76 | f = 944.00 MHz | S11 = -6.19 dB\n",
      "Simulation 63/76 | f = 948.00 MHz | S11 = -5.81 dB\n",
      "Simulation 64/76 | f = 952.00 MHz | S11 = -5.47 dB\n",
      "Simulation 65/76 | f = 956.00 MHz | S11 = -5.16 dB\n",
      "Simulation 66/76 | f = 960.00 MHz | S11 = -4.87 dB\n",
      "Simulation 67/76 | f = 964.00 MHz | S11 = -4.61 dB\n",
      "Simulation 68/76 | f = 968.00 MHz | S11 = -4.37 dB\n",
      "Simulation 69/76 | f = 972.00 MHz | S11 = -4.14 dB\n",
      "Simulation 70/76 | f = 976.00 MHz | S11 = -3.94 dB\n",
      "Simulation 71/76 | f = 980.00 MHz | S11 = -3.75 dB\n",
      "Simulation 72/76 | f = 984.00 MHz | S11 = -3.57 dB\n",
      "Simulation 73/76 | f = 988.00 MHz | S11 = -3.40 dB\n",
      "Simulation 74/76 | f = 992.00 MHz | S11 = -3.25 dB\n",
      "Simulation 75/76 | f = 996.00 MHz | S11 = -3.11 dB\n",
      "Simulation 76/76 | f = 1000.00 MHz | S11 = -2.97 dB\n"
     ]
    },
    {
     "data": {
      "application/vnd.plotly.v1+json": {
       "config": {
        "plotlyServerURL": "https://plot.ly"
       },
       "data": [
        {
         "hoverinfo": "text",
         "imag": [
          8.949601378706799,
          9.374731238121148,
          9.771557774775491,
          10.09000796054969,
          10.248768874532256,
          10.127010885984273,
          9.569296738989674,
          8.42469278235425,
          6.635207709984498,
          4.337608219284593,
          1.8722441262043148,
          -0.3636191196266293,
          -2.104474414687179,
          -3.284600089986363,
          -3.97808137387969,
          -4.309090137719304,
          -4.39513264697898,
          -4.326714112870976,
          -4.166702428554652,
          -3.9562994093305366,
          -3.7215399057417056,
          -3.4784269387897178,
          -3.236527049676746,
          -3.0013486979444286,
          -2.7758718127814013,
          -2.5615177971404894,
          -2.3587605519406396,
          -2.167510037524776,
          -1.9873523765582375,
          -1.8176995368238338,
          -1.6578819578653805,
          -1.5072051220083211,
          -1.3649833259515467,
          -1.230559052328992,
          -1.1033132837019906,
          -0.9826701679958555,
          -0.868098215064346,
          -0.7591094183511341,
          -0.6552571911135529,
          -0.5561336814812062,
          -0.4613668204964707,
          -0.3706173213625392,
          -0.19995981301027502,
          -0.11951168427840636,
          -0.04199574626111588,
          0.0328036139664126,
          0.10508394462848988,
          0.17502648930501516,
          0.24279777110933815,
          0.3085510161102006,
          0.3724274310296287,
          0.434557349616116,
          0.4950612611600821,
          0.5540507335463741,
          0.6116292421228015,
          0.667892914566081,
          0.722931200884641,
          0.7768274767269777,
          0.8296595872755613,
          0.8815003382032187,
          0.93241793944419,
          0.9824764068861483,
          1.031735926515284,
          1.080253185034793,
          1.1280816705263106,
          1.1752719463251553,
          1.2218719009256584,
          1.2679269764245173,
          1.3134803777339,
          1.3585732645544146,
          1.403244927885562,
          1.447532952661842,
          1.4914733679380567,
          1.5351007858992727,
          1.5784485308432046
         ],
         "marker": {
          "color": "blue",
          "size": 4
         },
         "mode": "markers+lines",
         "name": "Impedance Points",
         "real": [
          3.3632893506283836,
          4.060866521787724,
          4.93187111574112,
          6.013361595703279,
          7.335272951065522,
          8.89964715809806,
          10.644594519874307,
          12.40127004729281,
          13.881709100488624,
          14.75644750129202,
          14.820961516404997,
          14.12011841148714,
          12.902591560936507,
          11.463849248511726,
          10.027005879687238,
          8.714577340739554,
          7.572730539628177,
          6.604276457560442,
          5.792514951962761,
          5.114601920667526,
          4.547866019940243,
          4.072275148170034,
          3.671056303314532,
          3.3305332138572106,
          3.039693834176413,
          2.7897135054618962,
          2.5735219919911105,
          2.3854405361798086,
          2.2208892234809547,
          2.076155665846105,
          1.9482139032778354,
          1.8345831459465334,
          1.7332176069388003,
          1.642420403106572,
          1.5607760312838608,
          1.4870971816402598,
          1.4203826394984993,
          1.3597837913741182,
          1.3045778349929877,
          1.2541462367950085,
          1.2079573170283189,
          1.1655520979785765,
          1.0905530792531481,
          1.0573107507892376,
          1.0265407552809793,
          0.9980100357730096,
          0.9715129705219923,
          0.9468675850214276,
          0.9239123592739231,
          0.9025035263481246,
          0.8825127781047787,
          0.8638253097367824,
          0.846338147342056,
          0.8299587128198492,
          0.8146035884868467,
          0.8001974503579526,
          0.7866721443482915,
          0.7739658839803225,
          0.7620225517169785,
          0.750791088943958,
          0.740224962015157,
          0.730281693750621,
          0.7209224514144791,
          0.7121116835634388,
          0.7038167992941108,
          0.6960078843694746,
          0.6886574495054514,
          0.6817402067716496,
          0.6752328706297949,
          0.6691139806157019,
          0.6633637430798663,
          0.657963889750818,
          0.6528975511834717,
          0.6481491434096824,
          0.643704266327413
         ],
         "text": [
          "Z = 168.164+447.480j at 700.0 MHz",
          "Z = 203.043+468.737j at 704.0 MHz",
          "Z = 246.594+488.578j at 708.0 MHz",
          "Z = 300.668+504.500j at 712.0 MHz",
          "Z = 366.764+512.438j at 716.0 MHz",
          "Z = 444.982+506.351j at 720.0 MHz",
          "Z = 532.230+478.465j at 724.0 MHz",
          "Z = 620.064+421.235j at 728.0 MHz",
          "Z = 694.085+331.760j at 732.0 MHz",
          "Z = 737.822+216.880j at 736.0 MHz",
          "Z = 741.048+93.612j at 740.0 MHz",
          "Z = 706.006-18.181j at 744.0 MHz",
          "Z = 645.130-105.224j at 748.0 MHz",
          "Z = 573.192-164.230j at 752.0 MHz",
          "Z = 501.350-198.904j at 756.0 MHz",
          "Z = 435.729-215.455j at 760.0 MHz",
          "Z = 378.637-219.757j at 764.0 MHz",
          "Z = 330.214-216.336j at 768.0 MHz",
          "Z = 289.626-208.335j at 772.0 MHz",
          "Z = 255.730-197.815j at 776.0 MHz",
          "Z = 227.393-186.077j at 780.0 MHz",
          "Z = 203.614-173.921j at 784.0 MHz",
          "Z = 183.553-161.826j at 788.0 MHz",
          "Z = 166.527-150.067j at 792.0 MHz",
          "Z = 151.985-138.794j at 796.0 MHz",
          "Z = 139.486-128.076j at 800.0 MHz",
          "Z = 128.676-117.938j at 804.0 MHz",
          "Z = 119.272-108.376j at 808.0 MHz",
          "Z = 111.044-99.368j at 812.0 MHz",
          "Z = 103.808-90.885j at 816.0 MHz",
          "Z = 97.411-82.894j at 820.0 MHz",
          "Z = 91.729-75.360j at 824.0 MHz",
          "Z = 86.661-68.249j at 828.0 MHz",
          "Z = 82.121-61.528j at 832.0 MHz",
          "Z = 78.039-55.166j at 836.0 MHz",
          "Z = 74.355-49.134j at 840.0 MHz",
          "Z = 71.019-43.405j at 844.0 MHz",
          "Z = 67.989-37.955j at 848.0 MHz",
          "Z = 65.229-32.763j at 852.0 MHz",
          "Z = 62.707-27.807j at 856.0 MHz",
          "Z = 60.398-23.068j at 860.0 MHz",
          "Z = 58.278-18.531j at 864.0 MHz",
          "Z = 54.528-9.998j at 872.0 MHz",
          "Z = 52.866-5.976j at 876.0 MHz",
          "Z = 51.327-2.100j at 880.0 MHz",
          "Z = 49.901+1.640j at 884.0 MHz",
          "Z = 48.576+5.254j at 888.0 MHz",
          "Z = 47.343+8.751j at 892.0 MHz",
          "Z = 46.196+12.140j at 896.0 MHz",
          "Z = 45.125+15.428j at 900.0 MHz",
          "Z = 44.126+18.621j at 904.0 MHz",
          "Z = 43.191+21.728j at 908.0 MHz",
          "Z = 42.317+24.753j at 912.0 MHz",
          "Z = 41.498+27.703j at 916.0 MHz",
          "Z = 40.730+30.581j at 920.0 MHz",
          "Z = 40.010+33.395j at 924.0 MHz",
          "Z = 39.334+36.147j at 928.0 MHz",
          "Z = 38.698+38.841j at 932.0 MHz",
          "Z = 38.101+41.483j at 936.0 MHz",
          "Z = 37.540+44.075j at 940.0 MHz",
          "Z = 37.011+46.621j at 944.0 MHz",
          "Z = 36.514+49.124j at 948.0 MHz",
          "Z = 36.046+51.587j at 952.0 MHz",
          "Z = 35.606+54.013j at 956.0 MHz",
          "Z = 35.191+56.404j at 960.0 MHz",
          "Z = 34.800+58.764j at 964.0 MHz",
          "Z = 34.433+61.094j at 968.0 MHz",
          "Z = 34.087+63.396j at 972.0 MHz",
          "Z = 33.762+65.674j at 976.0 MHz",
          "Z = 33.456+67.929j at 980.0 MHz",
          "Z = 33.168+70.162j at 984.0 MHz",
          "Z = 32.898+72.377j at 988.0 MHz",
          "Z = 32.645+74.574j at 992.0 MHz",
          "Z = 32.407+76.755j at 996.0 MHz",
          "Z = 32.185+78.922j at 1000.0 MHz"
         ],
         "type": "scattersmith"
        },
        {
         "hoverinfo": "text",
         "imag": [
          -0.28357576031351406
         ],
         "marker": {
          "color": "red",
          "size": 10,
          "symbol": "circle"
         },
         "mode": "markers",
         "name": "Impedance at fC=868.0 MHz",
         "real": [
          1.126532745132749
         ],
         "text": [
          "Z = 56.327-14.179j at 868.0 MHz"
         ],
         "type": "scattersmith"
        }
       ],
       "layout": {
        "height": 618,
        "showlegend": true,
        "template": {
         "data": {
          "bar": [
           {
            "error_x": {
             "color": "#2a3f5f"
            },
            "error_y": {
             "color": "#2a3f5f"
            },
            "marker": {
             "line": {
              "color": "#E5ECF6",
              "width": 0.5
             },
             "pattern": {
              "fillmode": "overlay",
              "size": 10,
              "solidity": 0.2
             }
            },
            "type": "bar"
           }
          ],
          "barpolar": [
           {
            "marker": {
             "line": {
              "color": "#E5ECF6",
              "width": 0.5
             },
             "pattern": {
              "fillmode": "overlay",
              "size": 10,
              "solidity": 0.2
             }
            },
            "type": "barpolar"
           }
          ],
          "carpet": [
           {
            "aaxis": {
             "endlinecolor": "#2a3f5f",
             "gridcolor": "white",
             "linecolor": "white",
             "minorgridcolor": "white",
             "startlinecolor": "#2a3f5f"
            },
            "baxis": {
             "endlinecolor": "#2a3f5f",
             "gridcolor": "white",
             "linecolor": "white",
             "minorgridcolor": "white",
             "startlinecolor": "#2a3f5f"
            },
            "type": "carpet"
           }
          ],
          "choropleth": [
           {
            "colorbar": {
             "outlinewidth": 0,
             "ticks": ""
            },
            "type": "choropleth"
           }
          ],
          "contour": [
           {
            "colorbar": {
             "outlinewidth": 0,
             "ticks": ""
            },
            "colorscale": [
             [
              0,
              "#0d0887"
             ],
             [
              0.1111111111111111,
              "#46039f"
             ],
             [
              0.2222222222222222,
              "#7201a8"
             ],
             [
              0.3333333333333333,
              "#9c179e"
             ],
             [
              0.4444444444444444,
              "#bd3786"
             ],
             [
              0.5555555555555556,
              "#d8576b"
             ],
             [
              0.6666666666666666,
              "#ed7953"
             ],
             [
              0.7777777777777778,
              "#fb9f3a"
             ],
             [
              0.8888888888888888,
              "#fdca26"
             ],
             [
              1,
              "#f0f921"
             ]
            ],
            "type": "contour"
           }
          ],
          "contourcarpet": [
           {
            "colorbar": {
             "outlinewidth": 0,
             "ticks": ""
            },
            "type": "contourcarpet"
           }
          ],
          "heatmap": [
           {
            "colorbar": {
             "outlinewidth": 0,
             "ticks": ""
            },
            "colorscale": [
             [
              0,
              "#0d0887"
             ],
             [
              0.1111111111111111,
              "#46039f"
             ],
             [
              0.2222222222222222,
              "#7201a8"
             ],
             [
              0.3333333333333333,
              "#9c179e"
             ],
             [
              0.4444444444444444,
              "#bd3786"
             ],
             [
              0.5555555555555556,
              "#d8576b"
             ],
             [
              0.6666666666666666,
              "#ed7953"
             ],
             [
              0.7777777777777778,
              "#fb9f3a"
             ],
             [
              0.8888888888888888,
              "#fdca26"
             ],
             [
              1,
              "#f0f921"
             ]
            ],
            "type": "heatmap"
           }
          ],
          "histogram": [
           {
            "marker": {
             "pattern": {
              "fillmode": "overlay",
              "size": 10,
              "solidity": 0.2
             }
            },
            "type": "histogram"
           }
          ],
          "histogram2d": [
           {
            "colorbar": {
             "outlinewidth": 0,
             "ticks": ""
            },
            "colorscale": [
             [
              0,
              "#0d0887"
             ],
             [
              0.1111111111111111,
              "#46039f"
             ],
             [
              0.2222222222222222,
              "#7201a8"
             ],
             [
              0.3333333333333333,
              "#9c179e"
             ],
             [
              0.4444444444444444,
              "#bd3786"
             ],
             [
              0.5555555555555556,
              "#d8576b"
             ],
             [
              0.6666666666666666,
              "#ed7953"
             ],
             [
              0.7777777777777778,
              "#fb9f3a"
             ],
             [
              0.8888888888888888,
              "#fdca26"
             ],
             [
              1,
              "#f0f921"
             ]
            ],
            "type": "histogram2d"
           }
          ],
          "histogram2dcontour": [
           {
            "colorbar": {
             "outlinewidth": 0,
             "ticks": ""
            },
            "colorscale": [
             [
              0,
              "#0d0887"
             ],
             [
              0.1111111111111111,
              "#46039f"
             ],
             [
              0.2222222222222222,
              "#7201a8"
             ],
             [
              0.3333333333333333,
              "#9c179e"
             ],
             [
              0.4444444444444444,
              "#bd3786"
             ],
             [
              0.5555555555555556,
              "#d8576b"
             ],
             [
              0.6666666666666666,
              "#ed7953"
             ],
             [
              0.7777777777777778,
              "#fb9f3a"
             ],
             [
              0.8888888888888888,
              "#fdca26"
             ],
             [
              1,
              "#f0f921"
             ]
            ],
            "type": "histogram2dcontour"
           }
          ],
          "mesh3d": [
           {
            "colorbar": {
             "outlinewidth": 0,
             "ticks": ""
            },
            "type": "mesh3d"
           }
          ],
          "parcoords": [
           {
            "line": {
             "colorbar": {
              "outlinewidth": 0,
              "ticks": ""
             }
            },
            "type": "parcoords"
           }
          ],
          "pie": [
           {
            "automargin": true,
            "type": "pie"
           }
          ],
          "scatter": [
           {
            "fillpattern": {
             "fillmode": "overlay",
             "size": 10,
             "solidity": 0.2
            },
            "type": "scatter"
           }
          ],
          "scatter3d": [
           {
            "line": {
             "colorbar": {
              "outlinewidth": 0,
              "ticks": ""
             }
            },
            "marker": {
             "colorbar": {
              "outlinewidth": 0,
              "ticks": ""
             }
            },
            "type": "scatter3d"
           }
          ],
          "scattercarpet": [
           {
            "marker": {
             "colorbar": {
              "outlinewidth": 0,
              "ticks": ""
             }
            },
            "type": "scattercarpet"
           }
          ],
          "scattergeo": [
           {
            "marker": {
             "colorbar": {
              "outlinewidth": 0,
              "ticks": ""
             }
            },
            "type": "scattergeo"
           }
          ],
          "scattergl": [
           {
            "marker": {
             "colorbar": {
              "outlinewidth": 0,
              "ticks": ""
             }
            },
            "type": "scattergl"
           }
          ],
          "scattermap": [
           {
            "marker": {
             "colorbar": {
              "outlinewidth": 0,
              "ticks": ""
             }
            },
            "type": "scattermap"
           }
          ],
          "scattermapbox": [
           {
            "marker": {
             "colorbar": {
              "outlinewidth": 0,
              "ticks": ""
             }
            },
            "type": "scattermapbox"
           }
          ],
          "scatterpolar": [
           {
            "marker": {
             "colorbar": {
              "outlinewidth": 0,
              "ticks": ""
             }
            },
            "type": "scatterpolar"
           }
          ],
          "scatterpolargl": [
           {
            "marker": {
             "colorbar": {
              "outlinewidth": 0,
              "ticks": ""
             }
            },
            "type": "scatterpolargl"
           }
          ],
          "scatterternary": [
           {
            "marker": {
             "colorbar": {
              "outlinewidth": 0,
              "ticks": ""
             }
            },
            "type": "scatterternary"
           }
          ],
          "surface": [
           {
            "colorbar": {
             "outlinewidth": 0,
             "ticks": ""
            },
            "colorscale": [
             [
              0,
              "#0d0887"
             ],
             [
              0.1111111111111111,
              "#46039f"
             ],
             [
              0.2222222222222222,
              "#7201a8"
             ],
             [
              0.3333333333333333,
              "#9c179e"
             ],
             [
              0.4444444444444444,
              "#bd3786"
             ],
             [
              0.5555555555555556,
              "#d8576b"
             ],
             [
              0.6666666666666666,
              "#ed7953"
             ],
             [
              0.7777777777777778,
              "#fb9f3a"
             ],
             [
              0.8888888888888888,
              "#fdca26"
             ],
             [
              1,
              "#f0f921"
             ]
            ],
            "type": "surface"
           }
          ],
          "table": [
           {
            "cells": {
             "fill": {
              "color": "#EBF0F8"
             },
             "line": {
              "color": "white"
             }
            },
            "header": {
             "fill": {
              "color": "#C8D4E3"
             },
             "line": {
              "color": "white"
             }
            },
            "type": "table"
           }
          ]
         },
         "layout": {
          "annotationdefaults": {
           "arrowcolor": "#2a3f5f",
           "arrowhead": 0,
           "arrowwidth": 1
          },
          "autotypenumbers": "strict",
          "coloraxis": {
           "colorbar": {
            "outlinewidth": 0,
            "ticks": ""
           }
          },
          "colorscale": {
           "diverging": [
            [
             0,
             "#8e0152"
            ],
            [
             0.1,
             "#c51b7d"
            ],
            [
             0.2,
             "#de77ae"
            ],
            [
             0.3,
             "#f1b6da"
            ],
            [
             0.4,
             "#fde0ef"
            ],
            [
             0.5,
             "#f7f7f7"
            ],
            [
             0.6,
             "#e6f5d0"
            ],
            [
             0.7,
             "#b8e186"
            ],
            [
             0.8,
             "#7fbc41"
            ],
            [
             0.9,
             "#4d9221"
            ],
            [
             1,
             "#276419"
            ]
           ],
           "sequential": [
            [
             0,
             "#0d0887"
            ],
            [
             0.1111111111111111,
             "#46039f"
            ],
            [
             0.2222222222222222,
             "#7201a8"
            ],
            [
             0.3333333333333333,
             "#9c179e"
            ],
            [
             0.4444444444444444,
             "#bd3786"
            ],
            [
             0.5555555555555556,
             "#d8576b"
            ],
            [
             0.6666666666666666,
             "#ed7953"
            ],
            [
             0.7777777777777778,
             "#fb9f3a"
            ],
            [
             0.8888888888888888,
             "#fdca26"
            ],
            [
             1,
             "#f0f921"
            ]
           ],
           "sequentialminus": [
            [
             0,
             "#0d0887"
            ],
            [
             0.1111111111111111,
             "#46039f"
            ],
            [
             0.2222222222222222,
             "#7201a8"
            ],
            [
             0.3333333333333333,
             "#9c179e"
            ],
            [
             0.4444444444444444,
             "#bd3786"
            ],
            [
             0.5555555555555556,
             "#d8576b"
            ],
            [
             0.6666666666666666,
             "#ed7953"
            ],
            [
             0.7777777777777778,
             "#fb9f3a"
            ],
            [
             0.8888888888888888,
             "#fdca26"
            ],
            [
             1,
             "#f0f921"
            ]
           ]
          },
          "colorway": [
           "#636efa",
           "#EF553B",
           "#00cc96",
           "#ab63fa",
           "#FFA15A",
           "#19d3f3",
           "#FF6692",
           "#B6E880",
           "#FF97FF",
           "#FECB52"
          ],
          "font": {
           "color": "#2a3f5f"
          },
          "geo": {
           "bgcolor": "white",
           "lakecolor": "white",
           "landcolor": "#E5ECF6",
           "showlakes": true,
           "showland": true,
           "subunitcolor": "white"
          },
          "hoverlabel": {
           "align": "left"
          },
          "hovermode": "closest",
          "mapbox": {
           "style": "light"
          },
          "paper_bgcolor": "white",
          "plot_bgcolor": "#E5ECF6",
          "polar": {
           "angularaxis": {
            "gridcolor": "white",
            "linecolor": "white",
            "ticks": ""
           },
           "bgcolor": "#E5ECF6",
           "radialaxis": {
            "gridcolor": "white",
            "linecolor": "white",
            "ticks": ""
           }
          },
          "scene": {
           "xaxis": {
            "backgroundcolor": "#E5ECF6",
            "gridcolor": "white",
            "gridwidth": 2,
            "linecolor": "white",
            "showbackground": true,
            "ticks": "",
            "zerolinecolor": "white"
           },
           "yaxis": {
            "backgroundcolor": "#E5ECF6",
            "gridcolor": "white",
            "gridwidth": 2,
            "linecolor": "white",
            "showbackground": true,
            "ticks": "",
            "zerolinecolor": "white"
           },
           "zaxis": {
            "backgroundcolor": "#E5ECF6",
            "gridcolor": "white",
            "gridwidth": 2,
            "linecolor": "white",
            "showbackground": true,
            "ticks": "",
            "zerolinecolor": "white"
           }
          },
          "shapedefaults": {
           "line": {
            "color": "#2a3f5f"
           }
          },
          "ternary": {
           "aaxis": {
            "gridcolor": "white",
            "linecolor": "white",
            "ticks": ""
           },
           "baxis": {
            "gridcolor": "white",
            "linecolor": "white",
            "ticks": ""
           },
           "bgcolor": "#E5ECF6",
           "caxis": {
            "gridcolor": "white",
            "linecolor": "white",
            "ticks": ""
           }
          },
          "title": {
           "x": 0.05
          },
          "xaxis": {
           "automargin": true,
           "gridcolor": "white",
           "linecolor": "white",
           "ticks": "",
           "title": {
            "standoff": 15
           },
           "zerolinecolor": "white",
           "zerolinewidth": 2
          },
          "yaxis": {
           "automargin": true,
           "gridcolor": "white",
           "linecolor": "white",
           "ticks": "",
           "title": {
            "standoff": 15
           },
           "zerolinecolor": "white",
           "zerolinewidth": 2
          }
         }
        },
        "title": {
         "text": ""
        },
        "width": 1000
       }
      }
     },
     "metadata": {},
     "output_type": "display_data"
    },
    {
     "name": "stdout",
     "output_type": "stream",
     "text": [
      "\n",
      "Image sauvegardée au format PDF (fond transparent, marges minimales) : data/fig_image/ifa_M_opti3_Smith_chart.pdf\n",
      "\n",
      "\n",
      "📡 Résultats de simulation :\n",
      "→ Fréquence de résonance = 884.00 MHz\n",
      "→ Impédance à f_res      = 49.90+1.64j Ω\n",
      "\n",
      "S11 en dB : [ -0.63339136  -0.6707838   -0.71077624  -0.75358484  -0.79944677\n",
      "  -0.84862255  -0.90139865  -0.95809038  -1.0190452   -1.08464637\n",
      "  -1.15531709  -1.23152519  -1.31378838  -1.40268018  -1.49883664\n",
      "  -1.60296394  -1.71584703  -1.83835945  -1.9714745   -2.11627808\n",
      "  -2.27398346  -2.44594829  -2.63369448  -2.83893153  -3.06358413\n",
      "  -3.3098253   -3.58011669  -3.87725823  -4.20445048  -4.56537427\n",
      "  -4.96429448  -5.40619805  -5.89698154  -6.44371193  -7.05499816\n",
      "  -7.74153489  -8.51692246  -9.39894758 -10.41166905 -11.58899418\n",
      " -12.98122486 -14.66810716 -16.78806136 -19.61576666 -23.83351324\n",
      " -32.21342419 -35.67873729 -25.16961083 -20.57677595 -17.64059557\n",
      " -15.49941258 -13.82864093 -12.4702507  -11.33510695 -10.36780824\n",
      "  -9.53144456  -8.80010553  -8.15484515  -7.58135043  -7.0685175\n",
      "  -6.60754133  -6.19131125  -5.8139963   -5.47075257  -5.1575115\n",
      "  -4.87082341  -4.6077394   -4.36572083  -4.1425687   -3.93636783\n",
      "  -3.74544218  -3.56831868  -3.40369758  -3.2504281   -3.10748802\n",
      "  -2.97396666]\n",
      "Seuil pour la bande passante à -3 dB : -32.68 dB\n",
      "Indices où S11 <= -32.68 dB : [46]\n",
      "Impossible de déterminer la bande passante à -3 dB.\n"
     ]
    },
    {
     "data": {
      "image/png": "[encoded data removed]",
      "text/plain": [
       "<Figure size 700x432.624 with 1 Axes>"
      ]
     },
     "metadata": {},
     "output_type": "display_data"
    },
    {
     "name": "stdout",
     "output_type": "stream",
     "text": [
      "\n",
      "Ratio = 1.0184331797235022\n",
      "\n",
      "\n",
      "We are within 2% of fc!\n",
      "\n",
      "\n",
      "------------------------------------------------------Iteration N°3------------------------------------------------------\n",
      "\n",
      "distance meandres = 5.400 mm\n",
      "\n",
      "Number of meanders = 2\n",
      "\n",
      "New distance meandres = 8.100 mm\n",
      "Largeur de piste ifa = 5.400 mm\n",
      "position feed = 30.393 mm\n",
      "\n",
      "Simulation 1/76 | f = 700.00 MHz | S11 = -0.65 dB\n",
      "Simulation 2/76 | f = 704.00 MHz | S11 = -0.69 dB\n",
      "Simulation 3/76 | f = 708.00 MHz | S11 = -0.73 dB\n",
      "Simulation 4/76 | f = 712.00 MHz | S11 = -0.78 dB\n",
      "Simulation 5/76 | f = 716.00 MHz | S11 = -0.83 dB\n",
      "Simulation 6/76 | f = 720.00 MHz | S11 = -0.88 dB\n",
      "Simulation 7/76 | f = 724.00 MHz | S11 = -0.93 dB\n",
      "Simulation 8/76 | f = 728.00 MHz | S11 = -0.99 dB\n",
      "Simulation 9/76 | f = 732.00 MHz | S11 = -1.06 dB\n",
      "Simulation 10/76 | f = 736.00 MHz | S11 = -1.13 dB\n",
      "Simulation 11/76 | f = 740.00 MHz | S11 = -1.20 dB\n",
      "Simulation 12/76 | f = 744.00 MHz | S11 = -1.28 dB\n",
      "Simulation 13/76 | f = 748.00 MHz | S11 = -1.37 dB\n",
      "Simulation 14/76 | f = 752.00 MHz | S11 = -1.46 dB\n",
      "Simulation 15/76 | f = 756.00 MHz | S11 = -1.57 dB\n",
      "Simulation 16/76 | f = 760.00 MHz | S11 = -1.68 dB\n",
      "Simulation 17/76 | f = 764.00 MHz | S11 = -1.80 dB\n",
      "Simulation 18/76 | f = 768.00 MHz | S11 = -1.93 dB\n",
      "Simulation 19/76 | f = 772.00 MHz | S11 = -2.07 dB\n",
      "Simulation 20/76 | f = 776.00 MHz | S11 = -2.23 dB\n",
      "Simulation 21/76 | f = 780.00 MHz | S11 = -2.39 dB\n",
      "Simulation 22/76 | f = 784.00 MHz | S11 = -2.58 dB\n",
      "Simulation 23/76 | f = 788.00 MHz | S11 = -2.78 dB\n",
      "Simulation 24/76 | f = 792.00 MHz | S11 = -3.00 dB\n",
      "Simulation 25/76 | f = 796.00 MHz | S11 = -3.24 dB\n",
      "Simulation 26/76 | f = 800.00 MHz | S11 = -3.51 dB\n",
      "Simulation 27/76 | f = 804.00 MHz | S11 = -3.80 dB\n",
      "Simulation 28/76 | f = 808.00 MHz | S11 = -4.12 dB\n",
      "Simulation 29/76 | f = 812.00 MHz | S11 = -4.47 dB\n",
      "Simulation 30/76 | f = 816.00 MHz | S11 = -4.86 dB\n",
      "Simulation 31/76 | f = 820.00 MHz | S11 = -5.30 dB\n",
      "Simulation 32/76 | f = 824.00 MHz | S11 = -5.78 dB\n",
      "Simulation 33/76 | f = 828.00 MHz | S11 = -6.31 dB\n",
      "Simulation 34/76 | f = 832.00 MHz | S11 = -6.91 dB\n",
      "Simulation 35/76 | f = 836.00 MHz | S11 = -7.58 dB\n",
      "Simulation 36/76 | f = 840.00 MHz | S11 = -8.33 dB\n",
      "Simulation 37/76 | f = 844.00 MHz | S11 = -9.19 dB\n",
      "Simulation 38/76 | f = 848.00 MHz | S11 = -10.18 dB\n",
      "Simulation 39/76 | f = 852.00 MHz | S11 = -11.32 dB\n",
      "Simulation 40/76 | f = 856.00 MHz | S11 = -12.66 dB\n",
      "Simulation 41/76 | f = 860.00 MHz | S11 = -14.27 dB\n",
      "Simulation 42/76 | f = 864.00 MHz | S11 = -16.28 dB\n"
     ]
    },
    {
     "data": {
      "application/vnd.plotly.v1+json": {
       "config": {
        "plotlyServerURL": "https://plot.ly"
       },
       "data": [
        {
         "facecolor": [
          "rgb(12, 180, 226)",
          "rgb(19, 196, 210)",
          "rgb(201, 245, 0)",
          "rgb(102, 255, 68)",
          "rgb(134, 0, 102)",
          "rgb(94, 0, 131)",
          "rgb(88, 255, 89)",
          "rgb(139, 0, 98)",
          "rgb(255, 140, 0)",
          "rgb(6, 166, 241)",
          "rgb(255, 0, 0)",
          "rgb(99, 0, 127)",
          "rgb(74, 0, 145)",
          "rgb(0, 62, 255)",
          "rgb(97, 0, 129)",
          "rgb(66, 0, 152)",
          "rgb(0, 30, 255)",
          "rgb(50, 0, 163)",
          "rgb(118, 0, 114)",
          "rgb(81, 0, 141)",
          "rgb(6, 166, 241)",
          "rgb(71, 0, 148)",
          "rgb(255, 225, 0)",
          "rgb(165, 252, 0)",
          "rgb(255, 72, 0)",
          "rgb(102, 255, 69)",
          "rgb(107, 0, 122)",
          "rgb(255, 47, 0)",
          "rgb(31, 224, 182)",
          "rgb(255, 13, 0)",
          "rgb(255, 4, 0)",
          "rgb(119, 0, 113)",
          "rgb(66, 0, 152)",
          "rgb(127, 0, 107)",
          "rgb(137, 0, 100)",
          "rgb(117, 0, 115)",
          "rgb(82, 0, 140)",
          "rgb(0, 5, 212)",
          "rgb(112, 0, 118)",
          "rgb(143, 0, 95)",
          "rgb(46, 0, 166)",
          "rgb(25, 0, 182)",
          "rgb(0, 13, 228)",
          "rgb(45, 0, 167)",
          "rgb(0, 8, 217)",
          "rgb(150, 0, 90)",
          "rgb(115, 255, 51)"
         ],
         "i": {
          "bdata": "BxQCAB8fFiANDxUhFwsjIyMjIiIXHQwZDQIiDQEIFSQiHxIhHyYcIBAdAyMmEyU=",
          "dtype": "i1"
         },
         "j": {
          "bdata": "Dg4BASEgGCEJHhoiChglJB4PJRAYJAkJCAMkGg4aAiImIiERHBsgEyYeJgADIQA=",
          "dtype": "i1"
         },
         "k": {
          "bdata": "DwcUAiAcGRMMBwIRCxckHQ8AJhEWHxkWCQAlCBQVFB8QIQYGHQUEBAUjJSUbEgM=",
          "dtype": "i1"
         },
         "name": "",
         "type": "mesh3d",
         "x": {
          "bdata": "AAAAAAAAAACC4seYu5aAP4Lix5i7loA/AAAAAAAAAACkcD0K16OwvwAAAAAAAAAApHA9CtejsL/ZzvdT46WLP9nO91PjpYs/rthfdk8elj+u2F92Tx6WP9nO91PjpZs/2c73U+Olmz+C4seYu5aAP4Lix5i7loA/AAAAAAAAAAA5lvxiyS+WvzeW/GLJL6a/pHA9CtejsL+kcD0K16Owv9nO91PjpYs/2c73U+Oliz+u2F92Tx6WP67YX3ZPHpY/2c73U+Olmz/ZzvdT46WbP4Lix5i7loA/AAAAAAAAAAAPrBxaZDunv7ftfD81Xpq/qAwCK4cWeb/BcBDbaXSjv1EBsCUVGKu/1o5MLQk5qr/qAolXifadv0he9S/jcYe/BuCMUzIHmL+A/29Mp4KJv5/d6cqMooW/",
          "dtype": "f8"
         },
         "y": {
          "bdata": "3BfHoZLxoD/cF8ehkvGgP4w59mWRW5w/jDn2ZZFbnD8pXI/C9SisPwAAAAAAAAAAAAAAAAAAAAApXI/C9SisP6/YX3ZPHnY/r9hfdk8edj8pXI/C9SisPylcj8L1KKw/AAAAAAAAMDwAAAAAAAAwPBNhw9MrZak/E2HD0ytlqT8AAAAAAAAAAAAAAAAAAAAAy5JfLPnFkj/Jkl8s+cWiPyeRoybnsaM/OoxvFbF1lj8vjG8VsXWWPyKRoybnsaM/xJJfLPnFoj+/kl8s+cWSP4859mWRW4w/lDn2ZZFbjD8pXI/C9SisPylcj8L1KKw/KVyPwvUorD/EhKruzIqjP+mnHtteLKU/28TZ3eR2lj+Q7lRivoGTP5PiIjvO6KU/qGKqlzHGoj9UvIJ1ZLydP2gAQ1DUl44/",
          "dtype": "f8"
         },
         "z": {
          "bdata": "AAAAAAAAAAAAAAAAAAAAAAAAAAAAAAAAAAAAAAAAAAAAAAAAAAAAAAAAAAAAAAAAAAAAAAAAAAAAAAAAAAAAAAAAAAAAAAAAAAAAAAAAAAAAAAAAAAAAAAAAAAAAAAAAAAAAAAAAAAAAAAAAAAAAAAAAAAAAAAAAAAAAAAAAAAAAAAAAAAAAAAAAAAAAAAAAAAAAAAAAAAAAAAAAAAAAAAAAAAAAAAAAAAAAAAAAAAAAAAAAAAAAAAAAAAAAAAAAAAAAAAAAAAAAAAAAAAAAAAAAAAAAAAAAAAAAAAAAAAAAAAAAAAAAAAAAAAAAAAAAAAAAAAAAAAAAAAAAAAAAAAAAAAAAAAAAAAAAAAAAAAAAAAAAAAAAAAAAAAAAAAAAAAAAAAAAAAAAAAAAAAAAAAAAAAAAAAAA",
          "dtype": "f8"
         }
        },
        {
         "line": {
          "color": "rgb(50, 50, 50)",
          "width": 1.5
         },
         "mode": "lines",
         "showlegend": false,
         "type": "scatter3d",
         "x": [
          0.0135,
          0.0081,
          0,
          0.0135,
          null,
          0.0135,
          0.0081,
          0.0135,
          0.0135,
          null,
          0.0081,
          0.0081,
          0.0135,
          0.0081,
          null,
          0,
          0.0081,
          0.0081,
          0,
          null,
          -0.03799753951190744,
          -0.05121639898268675,
          -0.05291811070492492,
          -0.03799753951190744,
          null,
          -0.03799753951190744,
          -0.05291811070492492,
          -0.04537500000000005,
          -0.03799753951190744,
          null,
          0.0216,
          0.027,
          0.027,
          0.0216,
          null,
          -0.05291811070492492,
          -0.05121639898268675,
          -0.065,
          -0.05291811070492492,
          null,
          0.0081,
          0.0216,
          0.027,
          0.0081,
          null,
          0,
          -0.006125000000000082,
          0.0135,
          0,
          null,
          0.0135,
          0.0081,
          0.0081,
          0.0135,
          null,
          -0.05121639898268675,
          -0.02926077458164659,
          -0.04333333333333338,
          -0.05121639898268675,
          null,
          0.0216,
          0.0216,
          0.027,
          0.0216,
          null,
          0.027,
          0.027,
          0.0216,
          0.027,
          null,
          -0.01144769182307849,
          -0.01245623304384913,
          -0.02346495280218621,
          -0.01144769182307849,
          null,
          -0.01144769182307849,
          -0.02346495280218621,
          -0.02575000000000013,
          -0.01144769182307849,
          null,
          -0.01144769182307849,
          -0.006125000000000082,
          0,
          -0.01144769182307849,
          null,
          -0.01144769182307849,
          0,
          0,
          -0.01144769182307849,
          null,
          -0.02926077458164659,
          -0.01245623304384913,
          -0.0105639457153604,
          -0.02926077458164659,
          null,
          -0.02926077458164659,
          -0.0216666666666667,
          -0.04333333333333338,
          -0.02926077458164659,
          null,
          0.0216,
          0.027,
          0.0216,
          0.0216,
          null,
          -0.02575000000000013,
          -0.02346495280218621,
          -0.03799753951190744,
          -0.02575000000000013,
          null,
          0.027,
          0.0216,
          0.027,
          0.027,
          null,
          0.027,
          0.0216,
          0.0216,
          0.027,
          null,
          0.0081,
          0.0135,
          0.0216,
          0.0081,
          null,
          0.0081,
          0,
          0,
          0.0081,
          null,
          -0.02926077458164659,
          -0.02346495280218621,
          -0.01245623304384913,
          -0.02926077458164659,
          null,
          0.0081,
          0.0081,
          0.0135,
          0.0081,
          null,
          0.0081,
          0.0081,
          0.0135,
          0.0081,
          null,
          0.0135,
          0.0081,
          0.0135,
          0.0135,
          null,
          0.0135,
          0.0081,
          0.0135,
          0.0135,
          null,
          -0.02346495280218621,
          -0.02926077458164659,
          -0.03799753951190744,
          -0.02346495280218621,
          null,
          -0.02926077458164659,
          -0.0105639457153604,
          -0.0216666666666667,
          -0.02926077458164659,
          null,
          -0.03799753951190744,
          -0.02926077458164659,
          -0.05121639898268675,
          -0.03799753951190744,
          null,
          -0.065,
          -0.05121639898268675,
          -0.065,
          -0.065,
          null,
          -0.05121639898268675,
          -0.04333333333333338,
          -0.065,
          -0.05121639898268675,
          null,
          -0.03799753951190744,
          -0.04537500000000005,
          -0.02575000000000013,
          -0.03799753951190744,
          null,
          -0.0105639457153604,
          0,
          0,
          -0.0105639457153604,
          null,
          -0.04537500000000005,
          -0.05291811070492492,
          -0.065,
          -0.04537500000000005,
          null,
          -0.05291811070492492,
          -0.065,
          -0.065,
          -0.05291811070492492,
          null,
          -0.0216666666666667,
          -0.0105639457153604,
          0,
          -0.0216666666666667,
          null,
          -0.02575000000000013,
          -0.006125000000000082,
          -0.01144769182307849,
          -0.02575000000000013,
          null,
          0,
          -0.0105639457153604,
          -0.01245623304384913,
          0,
          null,
          -0.01144769182307849,
          0,
          -0.01245623304384913,
          -0.01144769182307849,
          null,
          -0.0105639457153604,
          0,
          0,
          -0.0105639457153604,
          null,
          -0.065,
          -0.05121639898268675,
          -0.065,
          -0.065,
          null,
          -0.01245623304384913,
          0,
          0,
          -0.01245623304384913,
          null
         ],
         "y": [
          0.055,
          0.0496,
          0.0496,
          0.055,
          null,
          0.0384666666666667,
          0.0496,
          0.055,
          0.0384666666666667,
          null,
          0.02769305405450377,
          0.03309305405450377,
          0.0384666666666667,
          0.02769305405450377,
          null,
          0.03309305405450377,
          0.03309305405450377,
          0.02769305405450377,
          0.03309305405450377,
          null,
          0.03816833890346907,
          0.02193791965550394,
          0.04135414528657561,
          0.03816833890346907,
          null,
          0.03816833890346907,
          0.04135414528657561,
          0.055,
          0.03816833890346907,
          null,
          0.0219333333333333,
          0.03666666666666665,
          0.01833333333333331,
          0.0219333333333333,
          null,
          0.04135414528657561,
          0.02193791965550394,
          0.03666666666666669,
          0.04135414528657561,
          null,
          8.673617379884035e-19,
          0.005400000000000001,
          8.673617379884035e-19,
          8.673617379884035e-19,
          null,
          0.0496,
          0.055,
          0.055,
          0.0496,
          null,
          0.02193333333333334,
          0.01384652702725189,
          0.02769305405450377,
          0.02193333333333334,
          null,
          0.02193791965550394,
          0.0190496203915545,
          0,
          0.02193791965550394,
          null,
          0.03846666666666666,
          0.055,
          0.055,
          0.03846666666666666,
          null,
          0.055,
          0.03666666666666665,
          0.03846666666666666,
          0.055,
          null,
          0.04279179069402974,
          0.02903897254207906,
          0.03666834808718039,
          0.04279179069402974,
          null,
          0.04279179069402974,
          0.03666834808718039,
          0.055,
          0.04279179069402974,
          null,
          0.04279179069402974,
          0.055,
          0.0496,
          0.04279179069402974,
          null,
          0.04279179069402974,
          0.0496,
          0.03309305405450377,
          0.04279179069402974,
          null,
          0.0190496203915545,
          0.02903897254207906,
          0.01493802900256487,
          0.0190496203915545,
          null,
          0.0190496203915545,
          0,
          0,
          0.0190496203915545,
          null,
          0.03846666666666666,
          0.03666666666666665,
          0.0219333333333333,
          0.03846666666666666,
          null,
          0.055,
          0.03666834808718039,
          0.03816833890346907,
          0.055,
          null,
          8.673617379884035e-19,
          0.005400000000000001,
          0.01833333333333331,
          8.673617379884035e-19,
          null,
          0.01833333333333331,
          0.005400000000000001,
          0.0219333333333333,
          0.01833333333333331,
          null,
          8.673617379884035e-19,
          0.005400000000000001,
          0.005400000000000001,
          8.673617379884035e-19,
          null,
          0.02769305405450377,
          0.02769305405450377,
          0.03309305405450377,
          0.02769305405450377,
          null,
          0.0190496203915545,
          0.03666834808718039,
          0.02903897254207906,
          0.0190496203915545,
          null,
          8.673617379884035e-19,
          0.01384652702725189,
          0.005400000000000001,
          8.673617379884035e-19,
          null,
          0.03309305405450377,
          0.0496,
          0.0384666666666667,
          0.03309305405450377,
          null,
          0.005400000000000001,
          0.01384652702725189,
          0.02193333333333334,
          0.005400000000000001,
          null,
          0.02193333333333334,
          0.02769305405450377,
          0.0384666666666667,
          0.02193333333333334,
          null,
          0.03666834808718039,
          0.0190496203915545,
          0.03816833890346907,
          0.03666834808718039,
          null,
          0.0190496203915545,
          0.01493802900256487,
          0,
          0.0190496203915545,
          null,
          0.03816833890346907,
          0.0190496203915545,
          0.02193791965550394,
          0.03816833890346907,
          null,
          0.01833333333333335,
          0.02193791965550394,
          0,
          0.01833333333333335,
          null,
          0.02193791965550394,
          0,
          0,
          0.02193791965550394,
          null,
          0.03816833890346907,
          0.055,
          0.055,
          0.03816833890346907,
          null,
          0.01493802900256487,
          0.0138465270272519,
          0,
          0.01493802900256487,
          null,
          0.055,
          0.04135414528657561,
          0.055,
          0.055,
          null,
          0.04135414528657561,
          0.03666666666666669,
          0.055,
          0.04135414528657561,
          null,
          0,
          0.01493802900256487,
          0,
          0,
          null,
          0.055,
          0.055,
          0.04279179069402974,
          0.055,
          null,
          0.02769305405450377,
          0.01493802900256487,
          0.02903897254207906,
          0.02769305405450377,
          null,
          0.04279179069402974,
          0.03309305405450377,
          0.02903897254207906,
          0.04279179069402974,
          null,
          0.01493802900256487,
          0.02769305405450377,
          0.0138465270272519,
          0.01493802900256487,
          null,
          0.03666666666666669,
          0.02193791965550394,
          0.01833333333333335,
          0.03666666666666669,
          null,
          0.02903897254207906,
          0.03309305405450377,
          0.02769305405450377,
          0.02903897254207906,
          null
         ],
         "z": [
          0,
          0,
          0,
          0,
          null,
          0,
          0,
          0,
          0,
          null,
          0,
          0,
          0,
          0,
          null,
          0,
          0,
          0,
          0,
          null,
          0,
          0,
          0,
          0,
          null,
          0,
          0,
          0,
          0,
          null,
          0,
          0,
          0,
          0,
          null,
          0,
          0,
          0,
          0,
          null,
          0,
          0,
          0,
          0,
          null,
          0,
          0,
          0,
          0,
          null,
          0,
          0,
          0,
          0,
          null,
          0,
          0,
          0,
          0,
          null,
          0,
          0,
          0,
          0,
          null,
          0,
          0,
          0,
          0,
          null,
          0,
          0,
          0,
          0,
          null,
          0,
          0,
          0,
          0,
          null,
          0,
          0,
          0,
          0,
          null,
          0,
          0,
          0,
          0,
          null,
          0,
          0,
          0,
          0,
          null,
          0,
          0,
          0,
          0,
          null,
          0,
          0,
          0,
          0,
          null,
          0,
          0,
          0,
          0,
          null,
          0,
          0,
          0,
          0,
          null,
          0,
          0,
          0,
          0,
          null,
          0,
          0,
          0,
          0,
          null,
          0,
          0,
          0,
          0,
          null,
          0,
          0,
          0,
          0,
          null,
          0,
          0,
          0,
          0,
          null,
          0,
          0,
          0,
          0,
          null,
          0,
          0,
          0,
          0,
          null,
          0,
          0,
          0,
          0,
          null,
          0,
          0,
          0,
          0,
          null,
          0,
          0,
          0,
          0,
          null,
          0,
          0,
          0,
          0,
          null,
          0,
          0,
          0,
          0,
          null,
          0,
          0,
          0,
          0,
          null,
          0,
          0,
          0,
          0,
          null,
          0,
          0,
          0,
          0,
          null,
          0,
          0,
          0,
          0,
          null,
          0,
          0,
          0,
          0,
          null,
          0,
          0,
          0,
          0,
          null,
          0,
          0,
          0,
          0,
          null,
          0,
          0,
          0,
          0,
          null,
          0,
          0,
          0,
          0,
          null,
          0,
          0,
          0,
          0,
          null,
          0,
          0,
          0,
          0,
          null,
          0,
          0,
          0,
          0,
          null
         ]
        },
        {
         "hoverinfo": "none",
         "marker": {
          "color": [
           0.01715590887124186,
           2.957173925301353
          ],
          "colorscale": [
           [
            0,
            "rgb(150, 0, 90)"
           ],
           [
            0.125,
            "rgb(0, 0, 200)"
           ],
           [
            0.25,
            "rgb(0, 25, 255)"
           ],
           [
            0.375,
            "rgb(0, 152, 255)"
           ],
           [
            0.5,
            "rgb(44, 255, 150)"
           ],
           [
            0.625,
            "rgb(151, 255, 0)"
           ],
           [
            0.75,
            "rgb(255, 234, 0)"
           ],
           [
            0.875,
            "rgb(255, 111, 0)"
           ],
           [
            1,
            "rgb(255, 0, 0)"
           ]
          ],
          "showscale": true,
          "size": 0.1
         },
         "mode": "markers",
         "showlegend": false,
         "type": "scatter3d",
         "x": {
          "bdata": "AAAAAAAAAAA=",
          "dtype": "f8"
         },
         "y": {
          "bdata": "3BfHoZLxoD8=",
          "dtype": "f8"
         },
         "z": {
          "bdata": "AAAAAAAAAAA=",
          "dtype": "f8"
         }
        },
        {
         "marker": {
          "color": "red",
          "size": 6,
          "symbol": "circle"
         },
         "mode": "markers+text",
         "name": "Feed Point(s)",
         "type": "scatter3d",
         "x": {
          "bdata": "AAAAAAAAAAA=",
          "dtype": "f8"
         },
         "y": {
          "bdata": "ojTCVFsfnz8=",
          "dtype": "f8"
         },
         "z": {
          "bdata": "AAAAAAAAAAA=",
          "dtype": "f8"
         }
        }
       ],
       "layout": {
        "height": 800,
        "legend": {
         "bgcolor": "rgba(255,255,255,0.7)",
         "bordercolor": "lightgray",
         "borderwidth": 1,
         "x": 0.2,
         "xanchor": "left",
         "y": 0.9,
         "yanchor": "top"
        },
        "scene": {
         "aspectratio": {
          "x": 1,
          "y": 0.5978260869565217,
          "z": 0.3
         },
         "camera": {
          "eye": {
           "x": 0.65,
           "y": 0.65,
           "z": 0.65
          }
         },
         "xaxis": {
          "backgroundcolor": "rgb(230, 230, 230)",
          "gridcolor": "rgb(255, 255, 255)",
          "showbackground": true,
          "zerolinecolor": "rgb(255, 255, 255)"
         },
         "yaxis": {
          "backgroundcolor": "rgb(230, 230, 230)",
          "gridcolor": "rgb(255, 255, 255)",
          "showbackground": true,
          "zerolinecolor": "rgb(255, 255, 255)"
         },
         "zaxis": {
          "backgroundcolor": "rgb(230, 230, 230)",
          "gridcolor": "rgb(255, 255, 255)",
          "showbackground": true,
          "zerolinecolor": "rgb(255, 255, 255)"
         }
        },
        "template": {
         "data": {
          "bar": [
           {
            "error_x": {
             "color": "#2a3f5f"
            },
            "error_y": {
             "color": "#2a3f5f"
            },
            "marker": {
             "line": {
              "color": "#E5ECF6",
              "width": 0.5
             },
             "pattern": {
              "fillmode": "overlay",
              "size": 10,
              "solidity": 0.2
             }
            },
            "type": "bar"
           }
          ],
          "barpolar": [
           {
            "marker": {
             "line": {
              "color": "#E5ECF6",
              "width": 0.5
             },
             "pattern": {
              "fillmode": "overlay",
              "size": 10,
              "solidity": 0.2
             }
            },
            "type": "barpolar"
           }
          ],
          "carpet": [
           {
            "aaxis": {
             "endlinecolor": "#2a3f5f",
             "gridcolor": "white",
             "linecolor": "white",
             "minorgridcolor": "white",
             "startlinecolor": "#2a3f5f"
            },
            "baxis": {
             "endlinecolor": "#2a3f5f",
             "gridcolor": "white",
             "linecolor": "white",
             "minorgridcolor": "white",
             "startlinecolor": "#2a3f5f"
            },
            "type": "carpet"
           }
          ],
          "choropleth": [
           {
            "colorbar": {
             "outlinewidth": 0,
             "ticks": ""
            },
            "type": "choropleth"
           }
          ],
          "contour": [
           {
            "colorbar": {
             "outlinewidth": 0,
             "ticks": ""
            },
            "colorscale": [
             [
              0,
              "#0d0887"
             ],
             [
              0.1111111111111111,
              "#46039f"
             ],
             [
              0.2222222222222222,
              "#7201a8"
             ],
             [
              0.3333333333333333,
              "#9c179e"
             ],
             [
              0.4444444444444444,
              "#bd3786"
             ],
             [
              0.5555555555555556,
              "#d8576b"
             ],
             [
              0.6666666666666666,
              "#ed7953"
             ],
             [
              0.7777777777777778,
              "#fb9f3a"
             ],
             [
              0.8888888888888888,
              "#fdca26"
             ],
             [
              1,
              "#f0f921"
             ]
            ],
            "type": "contour"
           }
          ],
          "contourcarpet": [
           {
            "colorbar": {
             "outlinewidth": 0,
             "ticks": ""
            },
            "type": "contourcarpet"
           }
          ],
          "heatmap": [
           {
            "colorbar": {
             "outlinewidth": 0,
             "ticks": ""
            },
            "colorscale": [
             [
              0,
              "#0d0887"
             ],
             [
              0.1111111111111111,
              "#46039f"
             ],
             [
              0.2222222222222222,
              "#7201a8"
             ],
             [
              0.3333333333333333,
              "#9c179e"
             ],
             [
              0.4444444444444444,
              "#bd3786"
             ],
             [
              0.5555555555555556,
              "#d8576b"
             ],
             [
              0.6666666666666666,
              "#ed7953"
             ],
             [
              0.7777777777777778,
              "#fb9f3a"
             ],
             [
              0.8888888888888888,
              "#fdca26"
             ],
             [
              1,
              "#f0f921"
             ]
            ],
            "type": "heatmap"
           }
          ],
          "histogram": [
           {
            "marker": {
             "pattern": {
              "fillmode": "overlay",
              "size": 10,
              "solidity": 0.2
             }
            },
            "type": "histogram"
           }
          ],
          "histogram2d": [
           {
            "colorbar": {
             "outlinewidth": 0,
             "ticks": ""
            },
            "colorscale": [
             [
              0,
              "#0d0887"
             ],
             [
              0.1111111111111111,
              "#46039f"
             ],
             [
              0.2222222222222222,
              "#7201a8"
             ],
             [
              0.3333333333333333,
              "#9c179e"
             ],
             [
              0.4444444444444444,
              "#bd3786"
             ],
             [
              0.5555555555555556,
              "#d8576b"
             ],
             [
              0.6666666666666666,
              "#ed7953"
             ],
             [
              0.7777777777777778,
              "#fb9f3a"
             ],
             [
              0.8888888888888888,
              "#fdca26"
             ],
             [
              1,
              "#f0f921"
             ]
            ],
            "type": "histogram2d"
           }
          ],
          "histogram2dcontour": [
           {
            "colorbar": {
             "outlinewidth": 0,
             "ticks": ""
            },
            "colorscale": [
             [
              0,
              "#0d0887"
             ],
             [
              0.1111111111111111,
              "#46039f"
             ],
             [
              0.2222222222222222,
              "#7201a8"
             ],
             [
              0.3333333333333333,
              "#9c179e"
             ],
             [
              0.4444444444444444,
              "#bd3786"
             ],
             [
              0.5555555555555556,
              "#d8576b"
             ],
             [
              0.6666666666666666,
              "#ed7953"
             ],
             [
              0.7777777777777778,
              "#fb9f3a"
             ],
             [
              0.8888888888888888,
              "#fdca26"
             ],
             [
              1,
              "#f0f921"
             ]
            ],
            "type": "histogram2dcontour"
           }
          ],
          "mesh3d": [
           {
            "colorbar": {
             "outlinewidth": 0,
             "ticks": ""
            },
            "type": "mesh3d"
           }
          ],
          "parcoords": [
           {
            "line": {
             "colorbar": {
              "outlinewidth": 0,
              "ticks": ""
             }
            },
            "type": "parcoords"
           }
          ],
          "pie": [
           {
            "automargin": true,
            "type": "pie"
           }
          ],
          "scatter": [
           {
            "fillpattern": {
             "fillmode": "overlay",
             "size": 10,
             "solidity": 0.2
            },
            "type": "scatter"
           }
          ],
          "scatter3d": [
           {
            "line": {
             "colorbar": {
              "outlinewidth": 0,
              "ticks": ""
             }
            },
            "marker": {
             "colorbar": {
              "outlinewidth": 0,
              "ticks": ""
             }
            },
            "type": "scatter3d"
           }
          ],
          "scattercarpet": [
           {
            "marker": {
             "colorbar": {
              "outlinewidth": 0,
              "ticks": ""
             }
            },
            "type": "scattercarpet"
           }
          ],
          "scattergeo": [
           {
            "marker": {
             "colorbar": {
              "outlinewidth": 0,
              "ticks": ""
             }
            },
            "type": "scattergeo"
           }
          ],
          "scattergl": [
           {
            "marker": {
             "colorbar": {
              "outlinewidth": 0,
              "ticks": ""
             }
            },
            "type": "scattergl"
           }
          ],
          "scattermap": [
           {
            "marker": {
             "colorbar": {
              "outlinewidth": 0,
              "ticks": ""
             }
            },
            "type": "scattermap"
           }
          ],
          "scattermapbox": [
           {
            "marker": {
             "colorbar": {
              "outlinewidth": 0,
              "ticks": ""
             }
            },
            "type": "scattermapbox"
           }
          ],
          "scatterpolar": [
           {
            "marker": {
             "colorbar": {
              "outlinewidth": 0,
              "ticks": ""
             }
            },
            "type": "scatterpolar"
           }
          ],
          "scatterpolargl": [
           {
            "marker": {
             "colorbar": {
              "outlinewidth": 0,
              "ticks": ""
             }
            },
            "type": "scatterpolargl"
           }
          ],
          "scatterternary": [
           {
            "marker": {
             "colorbar": {
              "outlinewidth": 0,
              "ticks": ""
             }
            },
            "type": "scatterternary"
           }
          ],
          "surface": [
           {
            "colorbar": {
             "outlinewidth": 0,
             "ticks": ""
            },
            "colorscale": [
             [
              0,
              "#0d0887"
             ],
             [
              0.1111111111111111,
              "#46039f"
             ],
             [
              0.2222222222222222,
              "#7201a8"
             ],
             [
              0.3333333333333333,
              "#9c179e"
             ],
             [
              0.4444444444444444,
              "#bd3786"
             ],
             [
              0.5555555555555556,
              "#d8576b"
             ],
             [
              0.6666666666666666,
              "#ed7953"
             ],
             [
              0.7777777777777778,
              "#fb9f3a"
             ],
             [
              0.8888888888888888,
              "#fdca26"
             ],
             [
              1,
              "#f0f921"
             ]
            ],
            "type": "surface"
           }
          ],
          "table": [
           {
            "cells": {
             "fill": {
              "color": "#EBF0F8"
             },
             "line": {
              "color": "white"
             }
            },
            "header": {
             "fill": {
              "color": "#C8D4E3"
             },
             "line": {
              "color": "white"
             }
            },
            "type": "table"
           }
          ]
         },
         "layout": {
          "annotationdefaults": {
           "arrowcolor": "#2a3f5f",
           "arrowhead": 0,
           "arrowwidth": 1
          },
          "autotypenumbers": "strict",
          "coloraxis": {
           "colorbar": {
            "outlinewidth": 0,
            "ticks": ""
           }
          },
          "colorscale": {
           "diverging": [
            [
             0,
             "#8e0152"
            ],
            [
             0.1,
             "#c51b7d"
            ],
            [
             0.2,
             "#de77ae"
            ],
            [
             0.3,
             "#f1b6da"
            ],
            [
             0.4,
             "#fde0ef"
            ],
            [
             0.5,
             "#f7f7f7"
            ],
            [
             0.6,
             "#e6f5d0"
            ],
            [
             0.7,
             "#b8e186"
            ],
            [
             0.8,
             "#7fbc41"
            ],
            [
             0.9,
             "#4d9221"
            ],
            [
             1,
             "#276419"
            ]
           ],
           "sequential": [
            [
             0,
             "#0d0887"
            ],
            [
             0.1111111111111111,
             "#46039f"
            ],
            [
             0.2222222222222222,
             "#7201a8"
            ],
            [
             0.3333333333333333,
             "#9c179e"
            ],
            [
             0.4444444444444444,
             "#bd3786"
            ],
            [
             0.5555555555555556,
             "#d8576b"
            ],
            [
             0.6666666666666666,
             "#ed7953"
            ],
            [
             0.7777777777777778,
             "#fb9f3a"
            ],
            [
             0.8888888888888888,
             "#fdca26"
            ],
            [
             1,
             "#f0f921"
            ]
           ],
           "sequentialminus": [
            [
             0,
             "#0d0887"
            ],
            [
             0.1111111111111111,
             "#46039f"
            ],
            [
             0.2222222222222222,
             "#7201a8"
            ],
            [
             0.3333333333333333,
             "#9c179e"
            ],
            [
             0.4444444444444444,
             "#bd3786"
            ],
            [
             0.5555555555555556,
             "#d8576b"
            ],
            [
             0.6666666666666666,
             "#ed7953"
            ],
            [
             0.7777777777777778,
             "#fb9f3a"
            ],
            [
             0.8888888888888888,
             "#fdca26"
            ],
            [
             1,
             "#f0f921"
            ]
           ]
          },
          "colorway": [
           "#636efa",
           "#EF553B",
           "#00cc96",
           "#ab63fa",
           "#FFA15A",
           "#19d3f3",
           "#FF6692",
           "#B6E880",
           "#FF97FF",
           "#FECB52"
          ],
          "font": {
           "color": "#2a3f5f"
          },
          "geo": {
           "bgcolor": "white",
           "lakecolor": "white",
           "landcolor": "#E5ECF6",
           "showlakes": true,
           "showland": true,
           "subunitcolor": "white"
          },
          "hoverlabel": {
           "align": "left"
          },
          "hovermode": "closest",
          "mapbox": {
           "style": "light"
          },
          "paper_bgcolor": "white",
          "plot_bgcolor": "#E5ECF6",
          "polar": {
           "angularaxis": {
            "gridcolor": "white",
            "linecolor": "white",
            "ticks": ""
           },
           "bgcolor": "#E5ECF6",
           "radialaxis": {
            "gridcolor": "white",
            "linecolor": "white",
            "ticks": ""
           }
          },
          "scene": {
           "xaxis": {
            "backgroundcolor": "#E5ECF6",
            "gridcolor": "white",
            "gridwidth": 2,
            "linecolor": "white",
            "showbackground": true,
            "ticks": "",
            "zerolinecolor": "white"
           },
           "yaxis": {
            "backgroundcolor": "#E5ECF6",
            "gridcolor": "white",
            "gridwidth": 2,
            "linecolor": "white",
            "showbackground": true,
            "ticks": "",
            "zerolinecolor": "white"
           },
           "zaxis": {
            "backgroundcolor": "#E5ECF6",
            "gridcolor": "white",
            "gridwidth": 2,
            "linecolor": "white",
            "showbackground": true,
            "ticks": "",
            "zerolinecolor": "white"
           }
          },
          "shapedefaults": {
           "line": {
            "color": "#2a3f5f"
           }
          },
          "ternary": {
           "aaxis": {
            "gridcolor": "white",
            "linecolor": "white",
            "ticks": ""
           },
           "baxis": {
            "gridcolor": "white",
            "linecolor": "white",
            "ticks": ""
           },
           "bgcolor": "#E5ECF6",
           "caxis": {
            "gridcolor": "white",
            "linecolor": "white",
            "ticks": ""
           }
          },
          "title": {
           "x": 0.05
          },
          "xaxis": {
           "automargin": true,
           "gridcolor": "white",
           "linecolor": "white",
           "ticks": "",
           "title": {
            "standoff": 15
           },
           "zerolinecolor": "white",
           "zerolinewidth": 2
          },
          "yaxis": {
           "automargin": true,
           "gridcolor": "white",
           "linecolor": "white",
           "ticks": "",
           "title": {
            "standoff": 15
           },
           "zerolinecolor": "white",
           "zerolinewidth": 2
          }
         }
        },
        "title": {
         "text": ""
        },
        "width": 800
       }
      }
     },
     "metadata": {},
     "output_type": "display_data"
    },
    {
     "name": "stdout",
     "output_type": "stream",
     "text": [
      "Simulation 43/76 | f = 868.00 MHz | S11 = -18.91 dB\n",
      "Simulation 44/76 | f = 872.00 MHz | S11 = -22.70 dB\n",
      "Simulation 45/76 | f = 876.00 MHz | S11 = -29.41 dB\n",
      "Simulation 46/76 | f = 880.00 MHz | S11 = -38.46 dB\n",
      "Simulation 47/76 | f = 884.00 MHz | S11 = -26.46 dB\n",
      "Simulation 48/76 | f = 888.00 MHz | S11 = -21.34 dB\n",
      "Simulation 49/76 | f = 892.00 MHz | S11 = -18.18 dB\n",
      "Simulation 50/76 | f = 896.00 MHz | S11 = -15.91 dB\n",
      "Simulation 51/76 | f = 900.00 MHz | S11 = -14.16 dB\n",
      "Simulation 52/76 | f = 904.00 MHz | S11 = -12.75 dB\n",
      "Simulation 53/76 | f = 908.00 MHz | S11 = -11.57 dB\n",
      "Simulation 54/76 | f = 912.00 MHz | S11 = -10.58 dB\n",
      "Simulation 55/76 | f = 916.00 MHz | S11 = -9.72 dB\n",
      "Simulation 56/76 | f = 920.00 MHz | S11 = -8.97 dB\n",
      "Simulation 57/76 | f = 924.00 MHz | S11 = -8.30 dB\n",
      "Simulation 58/76 | f = 928.00 MHz | S11 = -7.72 dB\n",
      "Simulation 59/76 | f = 932.00 MHz | S11 = -7.19 dB\n",
      "Simulation 60/76 | f = 936.00 MHz | S11 = -6.72 dB\n",
      "Simulation 61/76 | f = 940.00 MHz | S11 = -6.30 dB\n",
      "Simulation 62/76 | f = 944.00 MHz | S11 = -5.91 dB\n",
      "Simulation 63/76 | f = 948.00 MHz | S11 = -5.56 dB\n",
      "Simulation 64/76 | f = 952.00 MHz | S11 = -5.25 dB\n",
      "Simulation 65/76 | f = 956.00 MHz | S11 = -4.95 dB\n",
      "Simulation 66/76 | f = 960.00 MHz | S11 = -4.69 dB\n",
      "Simulation 67/76 | f = 964.00 MHz | S11 = -4.44 dB\n",
      "Simulation 68/76 | f = 968.00 MHz | S11 = -4.21 dB\n",
      "Simulation 69/76 | f = 972.00 MHz | S11 = -4.00 dB\n",
      "Simulation 70/76 | f = 976.00 MHz | S11 = -3.81 dB\n",
      "Simulation 71/76 | f = 980.00 MHz | S11 = -3.63 dB\n",
      "Simulation 72/76 | f = 984.00 MHz | S11 = -3.46 dB\n",
      "Simulation 73/76 | f = 988.00 MHz | S11 = -3.31 dB\n",
      "Simulation 74/76 | f = 992.00 MHz | S11 = -3.16 dB\n",
      "Simulation 75/76 | f = 996.00 MHz | S11 = -3.03 dB\n",
      "Simulation 76/76 | f = 1000.00 MHz | S11 = -2.90 dB\n"
     ]
    },
    {
     "data": {
      "application/vnd.plotly.v1+json": {
       "config": {
        "plotlyServerURL": "https://plot.ly"
       },
       "data": [
        {
         "hoverinfo": "text",
         "imag": [
          8.214968530456524,
          8.610038173107823,
          8.9928303478827,
          9.327462338329987,
          9.554019376698603,
          9.579656196831007,
          9.275668631076389,
          8.495569577357193,
          7.133510419082625,
          5.218642082613575,
          2.9772487886998498,
          0.7678915992023534,
          -1.0903475897429067,
          -2.4454988799407995,
          -3.309204533344156,
          -3.779103582417573,
          -3.9692772925423583,
          -3.976104548674621,
          -3.870021718361368,
          -3.698660358545272,
          -3.4927885167039596,
          -3.2716775407994465,
          -3.0470858962598326,
          -2.8259759316812447,
          -2.6122913050806678,
          -2.408095913239616,
          -2.214296269729931,
          -2.031097418935651,
          -1.8582898525529539,
          -1.6954295320988604,
          -1.5419502805455145,
          -1.3972333239506853,
          -1.2606496489507775,
          -1.1315851121918095,
          -1.0094546279186107,
          -0.8937094762940666,
          -0.7838403230953955,
          -0.6793776134601766,
          -0.5798904062921829,
          -0.4849843313962399,
          -0.39429910248097094,
          -0.30750585769336103,
          -0.14442109826564156,
          -0.06760551865910495,
          0.006370877043907574,
          0.07771726593539863,
          0.14662524682277875,
          0.21327054089824526,
          0.2778145267873652,
          0.3404056227702446,
          0.40118052948518107,
          0.46026534623054816,
          0.5177765733633835,
          0.5738220124522453,
          0.6285015748947856,
          0.6819080087385333,
          0.7341275524948572,
          0.7852405238359178,
          0.8353218502295502,
          0.8844415478054635,
          0.9326651540514611,
          0.9800541193210976,
          1.026666161575259,
          1.0725555882879605,
          1.11777358900643,
          1.1623685016670355,
          1.206386055424529,
          1.2498695924481522,
          1.2928602708692933,
          1.3353972508286467,
          1.3775178653616016,
          1.4192577776757187,
          1.4606511262113222,
          1.5017306587320614,
          1.542527856565038
         ],
         "marker": {
          "color": "blue",
          "size": 4
         },
         "mode": "markers+lines",
         "name": "Impedance Points",
         "real": [
          2.8797530013343815,
          3.463130377034366,
          4.190745156815728,
          5.0960154970273575,
          6.210715583936734,
          7.551593650309318,
          9.094423890264517,
          10.736032541591147,
          12.263941502126915,
          13.381570246778221,
          13.826350772360641,
          13.51993243158884,
          12.609128551026561,
          11.358954540169856,
          10.014643487898871,
          8.734961703081325,
          7.5951572910955925,
          6.615837215925129,
          5.789554568279018,
          5.097653844965727,
          4.519026267317854,
          4.03397209878045,
          3.6255381694855764,
          3.279697491905601,
          2.9850674495717318,
          2.7324916805405923,
          2.5146239769978593,
          2.3255645544279777,
          2.1605602265367145,
          2.01576445901951,
          1.8880482089108392,
          1.7748518347158722,
          1.674069412178285,
          1.5839582955803089,
          1.5030682307717327,
          1.4301855834493613,
          1.3642892624427965,
          1.3045157141129997,
          1.2501309776296103,
          1.2005082596239134,
          1.1551098433100493,
          1.113472418201385,
          1.0399297495602622,
          1.0073726829416416,
          0.9772582313878223,
          0.9493530883264986,
          0.9234517101096807,
          0.8993724429768511,
          0.8769542643779292,
          0.8560540304242423,
          0.8365441420586666,
          0.818310559043492,
          0.8012511040089296,
          0.7852740093164726,
          0.7702966679356625,
          0.7562445563426394,
          0.7430503029639488,
          0.7306528801740558,
          0.7189969015149232,
          0.7080320088044586,
          0.6977123362673764,
          0.6879960408556799,
          0.6788448896113229,
          0.6702238963232235,
          0.6621010008972839,
          0.6544467858334317,
          0.6472342250219192,
          0.64043846075897,
          0.6340366054625566,
          0.6280075650603716,
          0.6223318814381618,
          0.6169915916918456,
          0.6119701022285462,
          0.6072520760205552,
          0.6028233315381811
         ],
         "text": [
          "Z = 143.988+410.748j at 700.0 MHz",
          "Z = 173.157+430.502j at 704.0 MHz",
          "Z = 209.537+449.642j at 708.0 MHz",
          "Z = 254.801+466.373j at 712.0 MHz",
          "Z = 310.536+477.701j at 716.0 MHz",
          "Z = 377.580+478.983j at 720.0 MHz",
          "Z = 454.721+463.783j at 724.0 MHz",
          "Z = 536.802+424.778j at 728.0 MHz",
          "Z = 613.197+356.676j at 732.0 MHz",
          "Z = 669.079+260.932j at 736.0 MHz",
          "Z = 691.318+148.862j at 740.0 MHz",
          "Z = 675.997+38.395j at 744.0 MHz",
          "Z = 630.456-54.517j at 748.0 MHz",
          "Z = 567.948-122.275j at 752.0 MHz",
          "Z = 500.732-165.460j at 756.0 MHz",
          "Z = 436.748-188.955j at 760.0 MHz",
          "Z = 379.758-198.464j at 764.0 MHz",
          "Z = 330.792-198.805j at 768.0 MHz",
          "Z = 289.478-193.501j at 772.0 MHz",
          "Z = 254.883-184.933j at 776.0 MHz",
          "Z = 225.951-174.639j at 780.0 MHz",
          "Z = 201.699-163.584j at 784.0 MHz",
          "Z = 181.277-152.354j at 788.0 MHz",
          "Z = 163.985-141.299j at 792.0 MHz",
          "Z = 149.253-130.615j at 796.0 MHz",
          "Z = 136.625-120.405j at 800.0 MHz",
          "Z = 125.731-110.715j at 804.0 MHz",
          "Z = 116.278-101.555j at 808.0 MHz",
          "Z = 108.028-92.914j at 812.0 MHz",
          "Z = 100.788-84.771j at 816.0 MHz",
          "Z = 94.402-77.098j at 820.0 MHz",
          "Z = 88.743-69.862j at 824.0 MHz",
          "Z = 83.703-63.032j at 828.0 MHz",
          "Z = 79.198-56.579j at 832.0 MHz",
          "Z = 75.153-50.473j at 836.0 MHz",
          "Z = 71.509-44.685j at 840.0 MHz",
          "Z = 68.214-39.192j at 844.0 MHz",
          "Z = 65.226-33.969j at 848.0 MHz",
          "Z = 62.507-28.995j at 852.0 MHz",
          "Z = 60.025-24.249j at 856.0 MHz",
          "Z = 57.755-19.715j at 860.0 MHz",
          "Z = 55.674-15.375j at 864.0 MHz",
          "Z = 51.996-7.221j at 872.0 MHz",
          "Z = 50.369-3.380j at 876.0 MHz",
          "Z = 48.863+0.319j at 880.0 MHz",
          "Z = 47.468+3.886j at 884.0 MHz",
          "Z = 46.173+7.331j at 888.0 MHz",
          "Z = 44.969+10.664j at 892.0 MHz",
          "Z = 43.848+13.891j at 896.0 MHz",
          "Z = 42.803+17.020j at 900.0 MHz",
          "Z = 41.827+20.059j at 904.0 MHz",
          "Z = 40.916+23.013j at 908.0 MHz",
          "Z = 40.063+25.889j at 912.0 MHz",
          "Z = 39.264+28.691j at 916.0 MHz",
          "Z = 38.515+31.425j at 920.0 MHz",
          "Z = 37.812+34.095j at 924.0 MHz",
          "Z = 37.153+36.706j at 928.0 MHz",
          "Z = 36.533+39.262j at 932.0 MHz",
          "Z = 35.950+41.766j at 936.0 MHz",
          "Z = 35.402+44.222j at 940.0 MHz",
          "Z = 34.886+46.633j at 944.0 MHz",
          "Z = 34.400+49.003j at 948.0 MHz",
          "Z = 33.942+51.333j at 952.0 MHz",
          "Z = 33.511+53.628j at 956.0 MHz",
          "Z = 33.105+55.889j at 960.0 MHz",
          "Z = 32.722+58.118j at 964.0 MHz",
          "Z = 32.362+60.319j at 968.0 MHz",
          "Z = 32.022+62.493j at 972.0 MHz",
          "Z = 31.702+64.643j at 976.0 MHz",
          "Z = 31.400+66.770j at 980.0 MHz",
          "Z = 31.117+68.876j at 984.0 MHz",
          "Z = 30.850+70.963j at 988.0 MHz",
          "Z = 30.599+73.033j at 992.0 MHz",
          "Z = 30.363+75.087j at 996.0 MHz",
          "Z = 30.141+77.126j at 1000.0 MHz"
         ],
         "type": "scattersmith"
        },
        {
         "hoverinfo": "text",
         "imag": [
          -0.22430449455186188
         ],
         "marker": {
          "color": "red",
          "size": 10,
          "symbol": "circle"
         },
         "mode": "markers",
         "name": "Impedance at fC=868.0 MHz",
         "real": [
          1.0751951227573233
         ],
         "text": [
          "Z = 53.760-11.215j at 868.0 MHz"
         ],
         "type": "scattersmith"
        }
       ],
       "layout": {
        "height": 618,
        "showlegend": true,
        "template": {
         "data": {
          "bar": [
           {
            "error_x": {
             "color": "#2a3f5f"
            },
            "error_y": {
             "color": "#2a3f5f"
            },
            "marker": {
             "line": {
              "color": "#E5ECF6",
              "width": 0.5
             },
             "pattern": {
              "fillmode": "overlay",
              "size": 10,
              "solidity": 0.2
             }
            },
            "type": "bar"
           }
          ],
          "barpolar": [
           {
            "marker": {
             "line": {
              "color": "#E5ECF6",
              "width": 0.5
             },
             "pattern": {
              "fillmode": "overlay",
              "size": 10,
              "solidity": 0.2
             }
            },
            "type": "barpolar"
           }
          ],
          "carpet": [
           {
            "aaxis": {
             "endlinecolor": "#2a3f5f",
             "gridcolor": "white",
             "linecolor": "white",
             "minorgridcolor": "white",
             "startlinecolor": "#2a3f5f"
            },
            "baxis": {
             "endlinecolor": "#2a3f5f",
             "gridcolor": "white",
             "linecolor": "white",
             "minorgridcolor": "white",
             "startlinecolor": "#2a3f5f"
            },
            "type": "carpet"
           }
          ],
          "choropleth": [
           {
            "colorbar": {
             "outlinewidth": 0,
             "ticks": ""
            },
            "type": "choropleth"
           }
          ],
          "contour": [
           {
            "colorbar": {
             "outlinewidth": 0,
             "ticks": ""
            },
            "colorscale": [
             [
              0,
              "#0d0887"
             ],
             [
              0.1111111111111111,
              "#46039f"
             ],
             [
              0.2222222222222222,
              "#7201a8"
             ],
             [
              0.3333333333333333,
              "#9c179e"
             ],
             [
              0.4444444444444444,
              "#bd3786"
             ],
             [
              0.5555555555555556,
              "#d8576b"
             ],
             [
              0.6666666666666666,
              "#ed7953"
             ],
             [
              0.7777777777777778,
              "#fb9f3a"
             ],
             [
              0.8888888888888888,
              "#fdca26"
             ],
             [
              1,
              "#f0f921"
             ]
            ],
            "type": "contour"
           }
          ],
          "contourcarpet": [
           {
            "colorbar": {
             "outlinewidth": 0,
             "ticks": ""
            },
            "type": "contourcarpet"
           }
          ],
          "heatmap": [
           {
            "colorbar": {
             "outlinewidth": 0,
             "ticks": ""
            },
            "colorscale": [
             [
              0,
              "#0d0887"
             ],
             [
              0.1111111111111111,
              "#46039f"
             ],
             [
              0.2222222222222222,
              "#7201a8"
             ],
             [
              0.3333333333333333,
              "#9c179e"
             ],
             [
              0.4444444444444444,
              "#bd3786"
             ],
             [
              0.5555555555555556,
              "#d8576b"
             ],
             [
              0.6666666666666666,
              "#ed7953"
             ],
             [
              0.7777777777777778,
              "#fb9f3a"
             ],
             [
              0.8888888888888888,
              "#fdca26"
             ],
             [
              1,
              "#f0f921"
             ]
            ],
            "type": "heatmap"
           }
          ],
          "histogram": [
           {
            "marker": {
             "pattern": {
              "fillmode": "overlay",
              "size": 10,
              "solidity": 0.2
             }
            },
            "type": "histogram"
           }
          ],
          "histogram2d": [
           {
            "colorbar": {
             "outlinewidth": 0,
             "ticks": ""
            },
            "colorscale": [
             [
              0,
              "#0d0887"
             ],
             [
              0.1111111111111111,
              "#46039f"
             ],
             [
              0.2222222222222222,
              "#7201a8"
             ],
             [
              0.3333333333333333,
              "#9c179e"
             ],
             [
              0.4444444444444444,
              "#bd3786"
             ],
             [
              0.5555555555555556,
              "#d8576b"
             ],
             [
              0.6666666666666666,
              "#ed7953"
             ],
             [
              0.7777777777777778,
              "#fb9f3a"
             ],
             [
              0.8888888888888888,
              "#fdca26"
             ],
             [
              1,
              "#f0f921"
             ]
            ],
            "type": "histogram2d"
           }
          ],
          "histogram2dcontour": [
           {
            "colorbar": {
             "outlinewidth": 0,
             "ticks": ""
            },
            "colorscale": [
             [
              0,
              "#0d0887"
             ],
             [
              0.1111111111111111,
              "#46039f"
             ],
             [
              0.2222222222222222,
              "#7201a8"
             ],
             [
              0.3333333333333333,
              "#9c179e"
             ],
             [
              0.4444444444444444,
              "#bd3786"
             ],
             [
              0.5555555555555556,
              "#d8576b"
             ],
             [
              0.6666666666666666,
              "#ed7953"
             ],
             [
              0.7777777777777778,
              "#fb9f3a"
             ],
             [
              0.8888888888888888,
              "#fdca26"
             ],
             [
              1,
              "#f0f921"
             ]
            ],
            "type": "histogram2dcontour"
           }
          ],
          "mesh3d": [
           {
            "colorbar": {
             "outlinewidth": 0,
             "ticks": ""
            },
            "type": "mesh3d"
           }
          ],
          "parcoords": [
           {
            "line": {
             "colorbar": {
              "outlinewidth": 0,
              "ticks": ""
             }
            },
            "type": "parcoords"
           }
          ],
          "pie": [
           {
            "automargin": true,
            "type": "pie"
           }
          ],
          "scatter": [
           {
            "fillpattern": {
             "fillmode": "overlay",
             "size": 10,
             "solidity": 0.2
            },
            "type": "scatter"
           }
          ],
          "scatter3d": [
           {
            "line": {
             "colorbar": {
              "outlinewidth": 0,
              "ticks": ""
             }
            },
            "marker": {
             "colorbar": {
              "outlinewidth": 0,
              "ticks": ""
             }
            },
            "type": "scatter3d"
           }
          ],
          "scattercarpet": [
           {
            "marker": {
             "colorbar": {
              "outlinewidth": 0,
              "ticks": ""
             }
            },
            "type": "scattercarpet"
           }
          ],
          "scattergeo": [
           {
            "marker": {
             "colorbar": {
              "outlinewidth": 0,
              "ticks": ""
             }
            },
            "type": "scattergeo"
           }
          ],
          "scattergl": [
           {
            "marker": {
             "colorbar": {
              "outlinewidth": 0,
              "ticks": ""
             }
            },
            "type": "scattergl"
           }
          ],
          "scattermap": [
           {
            "marker": {
             "colorbar": {
              "outlinewidth": 0,
              "ticks": ""
             }
            },
            "type": "scattermap"
           }
          ],
          "scattermapbox": [
           {
            "marker": {
             "colorbar": {
              "outlinewidth": 0,
              "ticks": ""
             }
            },
            "type": "scattermapbox"
           }
          ],
          "scatterpolar": [
           {
            "marker": {
             "colorbar": {
              "outlinewidth": 0,
              "ticks": ""
             }
            },
            "type": "scatterpolar"
           }
          ],
          "scatterpolargl": [
           {
            "marker": {
             "colorbar": {
              "outlinewidth": 0,
              "ticks": ""
             }
            },
            "type": "scatterpolargl"
           }
          ],
          "scatterternary": [
           {
            "marker": {
             "colorbar": {
              "outlinewidth": 0,
              "ticks": ""
             }
            },
            "type": "scatterternary"
           }
          ],
          "surface": [
           {
            "colorbar": {
             "outlinewidth": 0,
             "ticks": ""
            },
            "colorscale": [
             [
              0,
              "#0d0887"
             ],
             [
              0.1111111111111111,
              "#46039f"
             ],
             [
              0.2222222222222222,
              "#7201a8"
             ],
             [
              0.3333333333333333,
              "#9c179e"
             ],
             [
              0.4444444444444444,
              "#bd3786"
             ],
             [
              0.5555555555555556,
              "#d8576b"
             ],
             [
              0.6666666666666666,
              "#ed7953"
             ],
             [
              0.7777777777777778,
              "#fb9f3a"
             ],
             [
              0.8888888888888888,
              "#fdca26"
             ],
             [
              1,
              "#f0f921"
             ]
            ],
            "type": "surface"
           }
          ],
          "table": [
           {
            "cells": {
             "fill": {
              "color": "#EBF0F8"
             },
             "line": {
              "color": "white"
             }
            },
            "header": {
             "fill": {
              "color": "#C8D4E3"
             },
             "line": {
              "color": "white"
             }
            },
            "type": "table"
           }
          ]
         },
         "layout": {
          "annotationdefaults": {
           "arrowcolor": "#2a3f5f",
           "arrowhead": 0,
           "arrowwidth": 1
          },
          "autotypenumbers": "strict",
          "coloraxis": {
           "colorbar": {
            "outlinewidth": 0,
            "ticks": ""
           }
          },
          "colorscale": {
           "diverging": [
            [
             0,
             "#8e0152"
            ],
            [
             0.1,
             "#c51b7d"
            ],
            [
             0.2,
             "#de77ae"
            ],
            [
             0.3,
             "#f1b6da"
            ],
            [
             0.4,
             "#fde0ef"
            ],
            [
             0.5,
             "#f7f7f7"
            ],
            [
             0.6,
             "#e6f5d0"
            ],
            [
             0.7,
             "#b8e186"
            ],
            [
             0.8,
             "#7fbc41"
            ],
            [
             0.9,
             "#4d9221"
            ],
            [
             1,
             "#276419"
            ]
           ],
           "sequential": [
            [
             0,
             "#0d0887"
            ],
            [
             0.1111111111111111,
             "#46039f"
            ],
            [
             0.2222222222222222,
             "#7201a8"
            ],
            [
             0.3333333333333333,
             "#9c179e"
            ],
            [
             0.4444444444444444,
             "#bd3786"
            ],
            [
             0.5555555555555556,
             "#d8576b"
            ],
            [
             0.6666666666666666,
             "#ed7953"
            ],
            [
             0.7777777777777778,
             "#fb9f3a"
            ],
            [
             0.8888888888888888,
             "#fdca26"
            ],
            [
             1,
             "#f0f921"
            ]
           ],
           "sequentialminus": [
            [
             0,
             "#0d0887"
            ],
            [
             0.1111111111111111,
             "#46039f"
            ],
            [
             0.2222222222222222,
             "#7201a8"
            ],
            [
             0.3333333333333333,
             "#9c179e"
            ],
            [
             0.4444444444444444,
             "#bd3786"
            ],
            [
             0.5555555555555556,
             "#d8576b"
            ],
            [
             0.6666666666666666,
             "#ed7953"
            ],
            [
             0.7777777777777778,
             "#fb9f3a"
            ],
            [
             0.8888888888888888,
             "#fdca26"
            ],
            [
             1,
             "#f0f921"
            ]
           ]
          },
          "colorway": [
           "#636efa",
           "#EF553B",
           "#00cc96",
           "#ab63fa",
           "#FFA15A",
           "#19d3f3",
           "#FF6692",
           "#B6E880",
           "#FF97FF",
           "#FECB52"
          ],
          "font": {
           "color": "#2a3f5f"
          },
          "geo": {
           "bgcolor": "white",
           "lakecolor": "white",
           "landcolor": "#E5ECF6",
           "showlakes": true,
           "showland": true,
           "subunitcolor": "white"
          },
          "hoverlabel": {
           "align": "left"
          },
          "hovermode": "closest",
          "mapbox": {
           "style": "light"
          },
          "paper_bgcolor": "white",
          "plot_bgcolor": "#E5ECF6",
          "polar": {
           "angularaxis": {
            "gridcolor": "white",
            "linecolor": "white",
            "ticks": ""
           },
           "bgcolor": "#E5ECF6",
           "radialaxis": {
            "gridcolor": "white",
            "linecolor": "white",
            "ticks": ""
           }
          },
          "scene": {
           "xaxis": {
            "backgroundcolor": "#E5ECF6",
            "gridcolor": "white",
            "gridwidth": 2,
            "linecolor": "white",
            "showbackground": true,
            "ticks": "",
            "zerolinecolor": "white"
           },
           "yaxis": {
            "backgroundcolor": "#E5ECF6",
            "gridcolor": "white",
            "gridwidth": 2,
            "linecolor": "white",
            "showbackground": true,
            "ticks": "",
            "zerolinecolor": "white"
           },
           "zaxis": {
            "backgroundcolor": "#E5ECF6",
            "gridcolor": "white",
            "gridwidth": 2,
            "linecolor": "white",
            "showbackground": true,
            "ticks": "",
            "zerolinecolor": "white"
           }
          },
          "shapedefaults": {
           "line": {
            "color": "#2a3f5f"
           }
          },
          "ternary": {
           "aaxis": {
            "gridcolor": "white",
            "linecolor": "white",
            "ticks": ""
           },
           "baxis": {
            "gridcolor": "white",
            "linecolor": "white",
            "ticks": ""
           },
           "bgcolor": "#E5ECF6",
           "caxis": {
            "gridcolor": "white",
            "linecolor": "white",
            "ticks": ""
           }
          },
          "title": {
           "x": 0.05
          },
          "xaxis": {
           "automargin": true,
           "gridcolor": "white",
           "linecolor": "white",
           "ticks": "",
           "title": {
            "standoff": 15
           },
           "zerolinecolor": "white",
           "zerolinewidth": 2
          },
          "yaxis": {
           "automargin": true,
           "gridcolor": "white",
           "linecolor": "white",
           "ticks": "",
           "title": {
            "standoff": 15
           },
           "zerolinecolor": "white",
           "zerolinewidth": 2
          }
         }
        },
        "title": {
         "text": ""
        },
        "width": 1000
       }
      }
     },
     "metadata": {},
     "output_type": "display_data"
    },
    {
     "name": "stdout",
     "output_type": "stream",
     "text": [
      "\n",
      "Image sauvegardée au format PDF (fond transparent, marges minimales) : data/fig_image/ifa_M_opti3_Smith_chart.pdf\n",
      "\n",
      "\n",
      "📡 Résultats de simulation :\n",
      "→ Fréquence de résonance = 880.00 MHz\n",
      "→ Impédance à f_res      = 48.86+0.32j Ω\n",
      "\n",
      "S11 en dB : [ -0.65279298  -0.6919626   -0.73389729  -0.77883004  -0.82701672\n",
      "  -0.87873869  -0.93430562  -0.9940587   -1.05837428  -1.12766788\n",
      "  -1.20239879  -1.28307521  -1.37026005  -1.46457749  -1.56672043\n",
      "  -1.67745888  -1.79764955  -1.92824676  -2.07031489  -2.22504268\n",
      "  -2.3937598   -2.577956    -2.77930362  -2.99968414  -3.24121997\n",
      "  -3.50631287  -3.79769127  -4.11846935  -4.47222223  -4.86308348\n",
      "  -5.29587432  -5.7762783   -6.31108301  -6.90852262  -7.578776\n",
      "  -8.3347126   -9.19304748 -10.17620246 -11.31545516 -12.65660338\n",
      " -14.27099466 -16.27941874 -18.91231796 -22.70149859 -29.40649503\n",
      " -38.45671381 -26.45715706 -21.33585051 -18.17506879 -15.91017902\n",
      " -14.16109763 -12.74866784 -11.57398463 -10.57651023  -9.71637614\n",
      "  -8.96584685  -8.30478835  -7.71808029  -7.19405025  -6.72348072\n",
      "  -6.29895416  -5.91440624  -5.56481226  -5.24596131  -4.95428994\n",
      "  -4.68675725  -4.44074933  -4.21400498  -4.00455719  -3.81068638\n",
      "  -3.63088263  -3.46381485  -3.30830536  -3.16330882  -3.02789455\n",
      "  -2.90123166]\n",
      "Seuil pour la bande passante à -3 dB : -35.46 dB\n",
      "Indices où S11 <= -35.46 dB : [45]\n",
      "Impossible de déterminer la bande passante à -3 dB.\n"
     ]
    },
    {
     "data": {
      "image/png": "[encoded data removed]",
      "text/plain": [
       "<Figure size 700x432.624 with 1 Axes>"
      ]
     },
     "metadata": {},
     "output_type": "display_data"
    },
    {
     "name": "stdout",
     "output_type": "stream",
     "text": [
      "\n",
      "Ratio = 1.0138248847926268\n",
      "\n",
      "\n",
      "We are within 2% of fc!\n",
      "\n",
      "\n",
      "------------------------------------------------------Iteration N°4------------------------------------------------------\n",
      "\n",
      "distance meandres = 5.400 mm\n",
      "\n",
      "Number of meanders = 2\n",
      "\n",
      "New distance meandres = 8.100 mm\n",
      "Largeur de piste ifa = 5.400 mm\n",
      "position feed = 31.239 mm\n",
      "\n",
      "Simulation 1/76 | f = 700.00 MHz | S11 = -0.71 dB\n",
      "Simulation 2/76 | f = 704.00 MHz | S11 = -0.75 dB\n",
      "Simulation 3/76 | f = 708.00 MHz | S11 = -0.80 dB\n",
      "Simulation 4/76 | f = 712.00 MHz | S11 = -0.85 dB\n",
      "Simulation 5/76 | f = 716.00 MHz | S11 = -0.91 dB\n",
      "Simulation 6/76 | f = 720.00 MHz | S11 = -0.97 dB\n",
      "Simulation 7/76 | f = 724.00 MHz | S11 = -1.03 dB\n",
      "Simulation 8/76 | f = 728.00 MHz | S11 = -1.10 dB\n",
      "Simulation 9/76 | f = 732.00 MHz | S11 = -1.18 dB\n",
      "Simulation 10/76 | f = 736.00 MHz | S11 = -1.26 dB\n",
      "Simulation 11/76 | f = 740.00 MHz | S11 = -1.35 dB\n",
      "Simulation 12/76 | f = 744.00 MHz | S11 = -1.44 dB\n",
      "Simulation 13/76 | f = 748.00 MHz | S11 = -1.55 dB\n",
      "Simulation 14/76 | f = 752.00 MHz | S11 = -1.66 dB\n",
      "Simulation 15/76 | f = 756.00 MHz | S11 = -1.78 dB\n",
      "Simulation 16/76 | f = 760.00 MHz | S11 = -1.92 dB\n",
      "Simulation 17/76 | f = 764.00 MHz | S11 = -2.07 dB\n",
      "Simulation 18/76 | f = 768.00 MHz | S11 = -2.23 dB\n",
      "Simulation 19/76 | f = 772.00 MHz | S11 = -2.40 dB\n",
      "Simulation 20/76 | f = 776.00 MHz | S11 = -2.59 dB\n",
      "Simulation 21/76 | f = 780.00 MHz | S11 = -2.80 dB\n",
      "Simulation 22/76 | f = 784.00 MHz | S11 = -3.03 dB\n",
      "Simulation 23/76 | f = 788.00 MHz | S11 = -3.29 dB\n",
      "Simulation 24/76 | f = 792.00 MHz | S11 = -3.57 dB\n",
      "Simulation 25/76 | f = 796.00 MHz | S11 = -3.88 dB\n",
      "Simulation 26/76 | f = 800.00 MHz | S11 = -4.22 dB\n",
      "Simulation 27/76 | f = 804.00 MHz | S11 = -4.59 dB\n",
      "Simulation 28/76 | f = 808.00 MHz | S11 = -5.01 dB\n",
      "Simulation 29/76 | f = 812.00 MHz | S11 = -5.48 dB\n",
      "Simulation 30/76 | f = 816.00 MHz | S11 = -6.00 dB\n",
      "Simulation 31/76 | f = 820.00 MHz | S11 = -6.58 dB\n",
      "Simulation 32/76 | f = 824.00 MHz | S11 = -7.23 dB\n",
      "Simulation 33/76 | f = 828.00 MHz | S11 = -7.97 dB\n",
      "Simulation 34/76 | f = 832.00 MHz | S11 = -8.80 dB\n",
      "Simulation 35/76 | f = 836.00 MHz | S11 = -9.76 dB\n",
      "Simulation 36/76 | f = 840.00 MHz | S11 = -10.87 dB\n",
      "Simulation 37/76 | f = 844.00 MHz | S11 = -12.17 dB\n",
      "Simulation 38/76 | f = 848.00 MHz | S11 = -13.73 dB\n",
      "Simulation 39/76 | f = 852.00 MHz | S11 = -15.65 dB\n",
      "Simulation 40/76 | f = 856.00 MHz | S11 = -18.12 dB\n",
      "Simulation 41/76 | f = 860.00 MHz | S11 = -21.54 dB\n",
      "Simulation 42/76 | f = 864.00 MHz | S11 = -26.82 dB\n"
     ]
    },
    {
     "data": {
      "application/vnd.plotly.v1+json": {
       "config": {
        "plotlyServerURL": "https://plot.ly"
       },
       "data": [
        {
         "facecolor": [
          "rgb(2, 157, 250)",
          "rgb(9, 173, 234)",
          "rgb(135, 0, 101)",
          "rgb(95, 0, 130)",
          "rgb(140, 0, 97)",
          "rgb(0, 140, 255)",
          "rgb(100, 0, 127)",
          "rgb(110, 0, 120)",
          "rgb(68, 0, 150)",
          "rgb(0, 22, 249)",
          "rgb(49, 0, 164)",
          "rgb(163, 252, 0)",
          "rgb(5, 165, 242)",
          "rgb(75, 0, 145)",
          "rgb(74, 0, 145)",
          "rgb(85, 0, 138)",
          "rgb(255, 0, 0)",
          "rgb(0, 62, 255)",
          "rgb(87, 255, 90)",
          "rgb(74, 0, 146)",
          "rgb(218, 242, 0)",
          "rgb(132, 255, 26)",
          "rgb(255, 13, 0)",
          "rgb(130, 255, 30)",
          "rgb(255, 142, 0)",
          "rgb(255, 227, 0)",
          "rgb(121, 0, 111)",
          "rgb(255, 48, 0)",
          "rgb(255, 74, 0)",
          "rgb(20, 200, 206)",
          "rgb(255, 4, 0)",
          "rgb(125, 0, 108)",
          "rgb(75, 0, 145)",
          "rgb(130, 0, 105)",
          "rgb(136, 0, 100)",
          "rgb(118, 0, 114)",
          "rgb(84, 0, 139)",
          "rgb(0, 12, 225)",
          "rgb(113, 0, 117)",
          "rgb(142, 0, 96)",
          "rgb(46, 0, 166)",
          "rgb(46, 0, 166)",
          "rgb(1, 0, 199)",
          "rgb(216, 242, 0)",
          "rgb(0, 15, 233)",
          "rgb(150, 0, 90)",
          "rgb(0, 16, 234)"
         ],
         "i": {
          "bdata": "BxQfHyAPISMjIyMZGCUXIhUYGR0CAAgCDQwiDQ0BFSQQHxIhHyYcIBAdAwMmEyM=",
          "dtype": "i1"
         },
         "j": {
          "bdata": "Dg4hICEeIiUkHg8JFiYKEBoXFiQBARoDCQkkGggOAiIiIiERHBsgEyYeJiMDIQM=",
          "dtype": "i1"
         },
         "k": {
          "bdata": "DwcgHBMHESQdDwAWFxALEQILGB8UAhUADBklCAkUFB8lIQYGHQUEBAUjJQAbEiU=",
          "dtype": "i1"
         },
         "name": "",
         "type": "mesh3d",
         "x": {
          "bdata": "AAAAAAAAAACC4seYu5aAP4Lix5i7loA/AAAAAAAAAACkcD0K16OwvwAAAAAAAAAApHA9CtejsL/ZzvdT46WLP9nO91PjpYs/rthfdk8elj+u2F92Tx6WP9nO91PjpZs/2c73U+Olmz+C4seYu5aAP4Lix5i7loA/AAAAAAAAAAA5lvxiyS+WvzeW/GLJL6a/pHA9CtejsL+kcD0K16Owv9nO91PjpYs/2c73U+Oliz+u2F92Tx6WP67YX3ZPHpY/2c73U+Olmz/ZzvdT46WbP4Lix5i7loA/AAAAAAAAAAAPrBxaZDunv7ftfD81Xpq/qAwCK4cWeb+zpPcO5z+kv/cGDjRFXau/72Zbb7LHqr9MNYse4dGhv42wR73by4W/Myz8OyU8mr/XTEHQhGmRv0BP/ijYrX+/",
          "dtype": "f8"
         },
         "y": {
          "bdata": "n2TFYXtgoT+fZMVhe2ChPxLT8uViOZ0/EtPy5WI5nT8pXI/C9SisPwAAAAAAAAAAAAAAAAAAAAApXI/C9SisP6/YX3ZPHnY/r9hfdk8edj8pXI/C9SisPylcj8L1KKw/AAAAAAAAMDwAAAAAAAAwPBNhw9MrZak/E2HD0ytlqT8AAAAAAAAAAAAAAAAAAAAAy5JfLPnFkj/Jkl8s+cWiPyeRoybnsaM/OoxvFbF1lj8vjG8VsXWWPyKRoybnsaM/xJJfLPnFoj+/kl8s+cWSPxXT8uViOY0/FdPy5WI5jT8pXI/C9SisPylcj8L1KKw/KVyPwvUorD+p7czzSnCjP1G1eSL2J6U/QkOEDj5/lj/DGhq1RPiTP89meMvXc6Q/SfVlrR7soT+c5YdqBxWXP0ynYYFxxIo/",
          "dtype": "f8"
         },
         "z": {
          "bdata": "AAAAAAAAAAAAAAAAAAAAAAAAAAAAAAAAAAAAAAAAAAAAAAAAAAAAAAAAAAAAAAAAAAAAAAAAAAAAAAAAAAAAAAAAAAAAAAAAAAAAAAAAAAAAAAAAAAAAAAAAAAAAAAAAAAAAAAAAAAAAAAAAAAAAAAAAAAAAAAAAAAAAAAAAAAAAAAAAAAAAAAAAAAAAAAAAAAAAAAAAAAAAAAAAAAAAAAAAAAAAAAAAAAAAAAAAAAAAAAAAAAAAAAAAAAAAAAAAAAAAAAAAAAAAAAAAAAAAAAAAAAAAAAAAAAAAAAAAAAAAAAAAAAAAAAAAAAAAAAAAAAAAAAAAAAAAAAAAAAAAAAAAAAAAAAAAAAAAAAAAAAAAAAAAAAAAAAAAAAAAAAAAAAAAAAAAAAAAAAAAAAAAAAAAAAAAAAAA",
          "dtype": "f8"
         }
        },
        {
         "line": {
          "color": "rgb(50, 50, 50)",
          "width": 1.5
         },
         "mode": "lines",
         "showlegend": false,
         "type": "scatter3d",
         "x": [
          0.0135,
          0.0081,
          0,
          0.0135,
          null,
          0.0135,
          0.0081,
          0.0135,
          0.0135,
          null,
          -0.03955003793436997,
          -0.05230481728876934,
          -0.05344597111162657,
          -0.03955003793436997,
          null,
          -0.03955003793436997,
          -0.05344597111162657,
          -0.04537500000000005,
          -0.03955003793436997,
          null,
          -0.05344597111162657,
          -0.05230481728876934,
          -0.065,
          -0.05344597111162657,
          null,
          0,
          -0.006125000000000082,
          0.0135,
          0,
          null,
          -0.05230481728876934,
          -0.03480437753533269,
          -0.04333333333333338,
          -0.05230481728876934,
          null,
          -0.01064273520838579,
          -0.01700408478820922,
          -0.02562006167049109,
          -0.01064273520838579,
          null,
          -0.01064273520838579,
          -0.02562006167049109,
          -0.02575000000000013,
          -0.01064273520838579,
          null,
          -0.01064273520838579,
          -0.006125000000000082,
          0,
          -0.01064273520838579,
          null,
          -0.01064273520838579,
          0,
          0,
          -0.01064273520838579,
          null,
          0.027,
          0.0216,
          0.0216,
          0.027,
          null,
          0.027,
          0.0216,
          0.0216,
          0.027,
          null,
          -0.01700408478820922,
          -0.007734150290975184,
          -0.0216666666666667,
          -0.01700408478820922,
          null,
          0.0216,
          0.0216,
          0.027,
          0.0216,
          null,
          -0.03480437753533269,
          -0.0216666666666667,
          -0.04333333333333338,
          -0.03480437753533269,
          null,
          0.0135,
          0.0081,
          0.0081,
          0.0135,
          null,
          0.027,
          0.0216,
          0.027,
          0.027,
          null,
          0.027,
          0.0216,
          0.027,
          0.027,
          null,
          -0.02575000000000013,
          -0.02562006167049109,
          -0.03955003793436997,
          -0.02575000000000013,
          null,
          0.0081,
          0.0081,
          0.0135,
          0.0081,
          null,
          0,
          0.0081,
          0.0081,
          0,
          null,
          0.0135,
          0.0081,
          0.0135,
          0.0135,
          null,
          0.0081,
          0,
          0,
          0.0081,
          null,
          0.0081,
          0.0216,
          0.027,
          0.0081,
          null,
          0.027,
          0.0216,
          0.027,
          0.027,
          null,
          -0.03480437753533269,
          -0.02562006167049109,
          -0.01700408478820922,
          -0.03480437753533269,
          null,
          0.0081,
          0.0081,
          0.0135,
          0.0081,
          null,
          0.0081,
          0.0135,
          0.0216,
          0.0081,
          null,
          0.0081,
          0.0081,
          0.0135,
          0.0081,
          null,
          0.0135,
          0.0081,
          0.0135,
          0.0135,
          null,
          -0.02562006167049109,
          -0.03480437753533269,
          -0.03955003793436997,
          -0.02562006167049109,
          null,
          -0.0216666666666667,
          -0.03480437753533269,
          -0.01700408478820922,
          -0.0216666666666667,
          null,
          -0.03955003793436997,
          -0.03480437753533269,
          -0.05230481728876934,
          -0.03955003793436997,
          null,
          -0.065,
          -0.05230481728876934,
          -0.065,
          -0.065,
          null,
          -0.05230481728876934,
          -0.04333333333333338,
          -0.065,
          -0.05230481728876934,
          null,
          -0.03955003793436997,
          -0.04537500000000005,
          -0.02575000000000013,
          -0.03955003793436997,
          null,
          -0.007734150290975184,
          0,
          0,
          -0.007734150290975184,
          null,
          -0.04537500000000005,
          -0.05344597111162657,
          -0.065,
          -0.04537500000000005,
          null,
          -0.05344597111162657,
          -0.065,
          -0.065,
          -0.05344597111162657,
          null,
          -0.0216666666666667,
          -0.007734150290975184,
          0,
          -0.0216666666666667,
          null,
          -0.02575000000000013,
          -0.006125000000000082,
          -0.01064273520838579,
          -0.02575000000000013,
          null,
          0,
          -0.007734150290975184,
          -0.01700408478820922,
          0,
          null,
          0,
          -0.01064273520838579,
          0,
          0,
          null,
          -0.007734150290975184,
          0,
          0,
          -0.007734150290975184,
          null,
          -0.065,
          -0.05230481728876934,
          -0.065,
          -0.065,
          null,
          -0.01064273520838579,
          0,
          -0.01700408478820922,
          -0.01064273520838579,
          null
         ],
         "y": [
          0.055,
          0.0496,
          0.0496,
          0.055,
          null,
          0.0384666666666667,
          0.0496,
          0.055,
          0.0384666666666667,
          null,
          0.03796610094147052,
          0.02196976626970871,
          0.04132050677149358,
          0.03796610094147052,
          null,
          0.03796610094147052,
          0.04132050677149358,
          0.055,
          0.03796610094147052,
          null,
          0.04132050677149358,
          0.02196976626970871,
          0.03666666666666669,
          0.04132050677149358,
          null,
          0.0496,
          0.055,
          0.055,
          0.0496,
          null,
          0.02196976626970871,
          0.01950175624235829,
          0,
          0.02196976626970871,
          null,
          0.03994631155746974,
          0.02254115665161792,
          0.0350045763652625,
          0.03994631155746974,
          null,
          0.03994631155746974,
          0.0350045763652625,
          0.055,
          0.03994631155746974,
          null,
          0.03994631155746974,
          0.055,
          0.0496,
          0.03994631155746974,
          null,
          0.03994631155746974,
          0.0496,
          0.03393922394270387,
          0.03994631155746974,
          null,
          0.01833333333333331,
          0.005400000000000001,
          0.0219333333333333,
          0.01833333333333331,
          null,
          0.03666666666666665,
          0.0219333333333333,
          0.03846666666666666,
          0.03666666666666665,
          null,
          0.02254115665161792,
          0.01306999851313475,
          0,
          0.02254115665161792,
          null,
          0.03846666666666666,
          0.055,
          0.055,
          0.03846666666666666,
          null,
          0.01950175624235829,
          0,
          0,
          0.01950175624235829,
          null,
          0.02193333333333334,
          0.01426961197135194,
          0.02853922394270387,
          0.02193333333333334,
          null,
          0.03666666666666665,
          0.03846666666666666,
          0.055,
          0.03666666666666665,
          null,
          0.01833333333333331,
          0.0219333333333333,
          0.03666666666666665,
          0.01833333333333331,
          null,
          0.055,
          0.0350045763652625,
          0.03796610094147052,
          0.055,
          null,
          0.02853922394270387,
          0.03393922394270387,
          0.0384666666666667,
          0.02853922394270387,
          null,
          0.03393922394270387,
          0.03393922394270387,
          0.02853922394270387,
          0.03393922394270387,
          null,
          0.005400000000000001,
          0.01426961197135194,
          0.02193333333333334,
          0.005400000000000001,
          null,
          0.02853922394270387,
          0.02853922394270387,
          0.03393922394270387,
          0.02853922394270387,
          null,
          8.673617379884035e-19,
          0.005400000000000001,
          8.673617379884035e-19,
          8.673617379884035e-19,
          null,
          8.673617379884035e-19,
          0.005400000000000001,
          0.01833333333333331,
          8.673617379884035e-19,
          null,
          0.01950175624235829,
          0.0350045763652625,
          0.02254115665161792,
          0.01950175624235829,
          null,
          8.673617379884035e-19,
          0.01426961197135194,
          0.005400000000000001,
          8.673617379884035e-19,
          null,
          8.673617379884035e-19,
          0.005400000000000001,
          0.005400000000000001,
          8.673617379884035e-19,
          null,
          0.03393922394270387,
          0.0496,
          0.0384666666666667,
          0.03393922394270387,
          null,
          0.02193333333333334,
          0.02853922394270387,
          0.0384666666666667,
          0.02193333333333334,
          null,
          0.0350045763652625,
          0.01950175624235829,
          0.03796610094147052,
          0.0350045763652625,
          null,
          0,
          0.01950175624235829,
          0.02254115665161792,
          0,
          null,
          0.03796610094147052,
          0.01950175624235829,
          0.02196976626970871,
          0.03796610094147052,
          null,
          0.01833333333333335,
          0.02196976626970871,
          0,
          0.01833333333333335,
          null,
          0.02196976626970871,
          0,
          0,
          0.02196976626970871,
          null,
          0.03796610094147052,
          0.055,
          0.055,
          0.03796610094147052,
          null,
          0.01306999851313475,
          0.01426961197135194,
          0,
          0.01306999851313475,
          null,
          0.055,
          0.04132050677149358,
          0.055,
          0.055,
          null,
          0.04132050677149358,
          0.03666666666666669,
          0.055,
          0.04132050677149358,
          null,
          0,
          0.01306999851313475,
          0,
          0,
          null,
          0.055,
          0.055,
          0.03994631155746974,
          0.055,
          null,
          0.02853922394270387,
          0.01306999851313475,
          0.02254115665161792,
          0.02853922394270387,
          null,
          0.02853922394270387,
          0.03994631155746974,
          0.03393922394270387,
          0.02853922394270387,
          null,
          0.01306999851313475,
          0.02853922394270387,
          0.01426961197135194,
          0.01306999851313475,
          null,
          0.03666666666666669,
          0.02196976626970871,
          0.01833333333333335,
          0.03666666666666669,
          null,
          0.03994631155746974,
          0.02853922394270387,
          0.02254115665161792,
          0.03994631155746974,
          null
         ],
         "z": [
          0,
          0,
          0,
          0,
          null,
          0,
          0,
          0,
          0,
          null,
          0,
          0,
          0,
          0,
          null,
          0,
          0,
          0,
          0,
          null,
          0,
          0,
          0,
          0,
          null,
          0,
          0,
          0,
          0,
          null,
          0,
          0,
          0,
          0,
          null,
          0,
          0,
          0,
          0,
          null,
          0,
          0,
          0,
          0,
          null,
          0,
          0,
          0,
          0,
          null,
          0,
          0,
          0,
          0,
          null,
          0,
          0,
          0,
          0,
          null,
          0,
          0,
          0,
          0,
          null,
          0,
          0,
          0,
          0,
          null,
          0,
          0,
          0,
          0,
          null,
          0,
          0,
          0,
          0,
          null,
          0,
          0,
          0,
          0,
          null,
          0,
          0,
          0,
          0,
          null,
          0,
          0,
          0,
          0,
          null,
          0,
          0,
          0,
          0,
          null,
          0,
          0,
          0,
          0,
          null,
          0,
          0,
          0,
          0,
          null,
          0,
          0,
          0,
          0,
          null,
          0,
          0,
          0,
          0,
          null,
          0,
          0,
          0,
          0,
          null,
          0,
          0,
          0,
          0,
          null,
          0,
          0,
          0,
          0,
          null,
          0,
          0,
          0,
          0,
          null,
          0,
          0,
          0,
          0,
          null,
          0,
          0,
          0,
          0,
          null,
          0,
          0,
          0,
          0,
          null,
          0,
          0,
          0,
          0,
          null,
          0,
          0,
          0,
          0,
          null,
          0,
          0,
          0,
          0,
          null,
          0,
          0,
          0,
          0,
          null,
          0,
          0,
          0,
          0,
          null,
          0,
          0,
          0,
          0,
          null,
          0,
          0,
          0,
          0,
          null,
          0,
          0,
          0,
          0,
          null,
          0,
          0,
          0,
          0,
          null,
          0,
          0,
          0,
          0,
          null,
          0,
          0,
          0,
          0,
          null,
          0,
          0,
          0,
          0,
          null,
          0,
          0,
          0,
          0,
          null,
          0,
          0,
          0,
          0,
          null,
          0,
          0,
          0,
          0,
          null,
          0,
          0,
          0,
          0,
          null
         ]
        },
        {
         "hoverinfo": "none",
         "marker": {
          "color": [
           0.01823669038279856,
           3.2230282583001237
          ],
          "colorscale": [
           [
            0,
            "rgb(150, 0, 90)"
           ],
           [
            0.125,
            "rgb(0, 0, 200)"
           ],
           [
            0.25,
            "rgb(0, 25, 255)"
           ],
           [
            0.375,
            "rgb(0, 152, 255)"
           ],
           [
            0.5,
            "rgb(44, 255, 150)"
           ],
           [
            0.625,
            "rgb(151, 255, 0)"
           ],
           [
            0.75,
            "rgb(255, 234, 0)"
           ],
           [
            0.875,
            "rgb(255, 111, 0)"
           ],
           [
            1,
            "rgb(255, 0, 0)"
           ]
          ],
          "showscale": true,
          "size": 0.1
         },
         "mode": "markers",
         "showlegend": false,
         "type": "scatter3d",
         "x": {
          "bdata": "AAAAAAAAAAA=",
          "dtype": "f8"
         },
         "y": {
          "bdata": "n2TFYXtgoT8=",
          "dtype": "f8"
         },
         "z": {
          "bdata": "AAAAAAAAAAA=",
          "dtype": "f8"
         }
        },
        {
         "marker": {
          "color": "red",
          "size": 6,
          "symbol": "circle"
         },
         "mode": "markers+text",
         "name": "Feed Point(s)",
         "type": "scatter3d",
         "x": {
          "bdata": "AAAAAAAAAAA=",
          "dtype": "f8"
         },
         "y": {
          "bdata": "Kc6+1Cz9nz8=",
          "dtype": "f8"
         },
         "z": {
          "bdata": "AAAAAAAAAAA=",
          "dtype": "f8"
         }
        }
       ],
       "layout": {
        "height": 800,
        "legend": {
         "bgcolor": "rgba(255,255,255,0.7)",
         "bordercolor": "lightgray",
         "borderwidth": 1,
         "x": 0.2,
         "xanchor": "left",
         "y": 0.9,
         "yanchor": "top"
        },
        "scene": {
         "aspectratio": {
          "x": 1,
          "y": 0.5978260869565217,
          "z": 0.3
         },
         "camera": {
          "eye": {
           "x": 0.65,
           "y": 0.65,
           "z": 0.65
          }
         },
         "xaxis": {
          "backgroundcolor": "rgb(230, 230, 230)",
          "gridcolor": "rgb(255, 255, 255)",
          "showbackground": true,
          "zerolinecolor": "rgb(255, 255, 255)"
         },
         "yaxis": {
          "backgroundcolor": "rgb(230, 230, 230)",
          "gridcolor": "rgb(255, 255, 255)",
          "showbackground": true,
          "zerolinecolor": "rgb(255, 255, 255)"
         },
         "zaxis": {
          "backgroundcolor": "rgb(230, 230, 230)",
          "gridcolor": "rgb(255, 255, 255)",
          "showbackground": true,
          "zerolinecolor": "rgb(255, 255, 255)"
         }
        },
        "template": {
         "data": {
          "bar": [
           {
            "error_x": {
             "color": "#2a3f5f"
            },
            "error_y": {
             "color": "#2a3f5f"
            },
            "marker": {
             "line": {
              "color": "#E5ECF6",
              "width": 0.5
             },
             "pattern": {
              "fillmode": "overlay",
              "size": 10,
              "solidity": 0.2
             }
            },
            "type": "bar"
           }
          ],
          "barpolar": [
           {
            "marker": {
             "line": {
              "color": "#E5ECF6",
              "width": 0.5
             },
             "pattern": {
              "fillmode": "overlay",
              "size": 10,
              "solidity": 0.2
             }
            },
            "type": "barpolar"
           }
          ],
          "carpet": [
           {
            "aaxis": {
             "endlinecolor": "#2a3f5f",
             "gridcolor": "white",
             "linecolor": "white",
             "minorgridcolor": "white",
             "startlinecolor": "#2a3f5f"
            },
            "baxis": {
             "endlinecolor": "#2a3f5f",
             "gridcolor": "white",
             "linecolor": "white",
             "minorgridcolor": "white",
             "startlinecolor": "#2a3f5f"
            },
            "type": "carpet"
           }
          ],
          "choropleth": [
           {
            "colorbar": {
             "outlinewidth": 0,
             "ticks": ""
            },
            "type": "choropleth"
           }
          ],
          "contour": [
           {
            "colorbar": {
             "outlinewidth": 0,
             "ticks": ""
            },
            "colorscale": [
             [
              0,
              "#0d0887"
             ],
             [
              0.1111111111111111,
              "#46039f"
             ],
             [
              0.2222222222222222,
              "#7201a8"
             ],
             [
              0.3333333333333333,
              "#9c179e"
             ],
             [
              0.4444444444444444,
              "#bd3786"
             ],
             [
              0.5555555555555556,
              "#d8576b"
             ],
             [
              0.6666666666666666,
              "#ed7953"
             ],
             [
              0.7777777777777778,
              "#fb9f3a"
             ],
             [
              0.8888888888888888,
              "#fdca26"
             ],
             [
              1,
              "#f0f921"
             ]
            ],
            "type": "contour"
           }
          ],
          "contourcarpet": [
           {
            "colorbar": {
             "outlinewidth": 0,
             "ticks": ""
            },
            "type": "contourcarpet"
           }
          ],
          "heatmap": [
           {
            "colorbar": {
             "outlinewidth": 0,
             "ticks": ""
            },
            "colorscale": [
             [
              0,
              "#0d0887"
             ],
             [
              0.1111111111111111,
              "#46039f"
             ],
             [
              0.2222222222222222,
              "#7201a8"
             ],
             [
              0.3333333333333333,
              "#9c179e"
             ],
             [
              0.4444444444444444,
              "#bd3786"
             ],
             [
              0.5555555555555556,
              "#d8576b"
             ],
             [
              0.6666666666666666,
              "#ed7953"
             ],
             [
              0.7777777777777778,
              "#fb9f3a"
             ],
             [
              0.8888888888888888,
              "#fdca26"
             ],
             [
              1,
              "#f0f921"
             ]
            ],
            "type": "heatmap"
           }
          ],
          "histogram": [
           {
            "marker": {
             "pattern": {
              "fillmode": "overlay",
              "size": 10,
              "solidity": 0.2
             }
            },
            "type": "histogram"
           }
          ],
          "histogram2d": [
           {
            "colorbar": {
             "outlinewidth": 0,
             "ticks": ""
            },
            "colorscale": [
             [
              0,
              "#0d0887"
             ],
             [
              0.1111111111111111,
              "#46039f"
             ],
             [
              0.2222222222222222,
              "#7201a8"
             ],
             [
              0.3333333333333333,
              "#9c179e"
             ],
             [
              0.4444444444444444,
              "#bd3786"
             ],
             [
              0.5555555555555556,
              "#d8576b"
             ],
             [
              0.6666666666666666,
              "#ed7953"
             ],
             [
              0.7777777777777778,
              "#fb9f3a"
             ],
             [
              0.8888888888888888,
              "#fdca26"
             ],
             [
              1,
              "#f0f921"
             ]
            ],
            "type": "histogram2d"
           }
          ],
          "histogram2dcontour": [
           {
            "colorbar": {
             "outlinewidth": 0,
             "ticks": ""
            },
            "colorscale": [
             [
              0,
              "#0d0887"
             ],
             [
              0.1111111111111111,
              "#46039f"
             ],
             [
              0.2222222222222222,
              "#7201a8"
             ],
             [
              0.3333333333333333,
              "#9c179e"
             ],
             [
              0.4444444444444444,
              "#bd3786"
             ],
             [
              0.5555555555555556,
              "#d8576b"
             ],
             [
              0.6666666666666666,
              "#ed7953"
             ],
             [
              0.7777777777777778,
              "#fb9f3a"
             ],
             [
              0.8888888888888888,
              "#fdca26"
             ],
             [
              1,
              "#f0f921"
             ]
            ],
            "type": "histogram2dcontour"
           }
          ],
          "mesh3d": [
           {
            "colorbar": {
             "outlinewidth": 0,
             "ticks": ""
            },
            "type": "mesh3d"
           }
          ],
          "parcoords": [
           {
            "line": {
             "colorbar": {
              "outlinewidth": 0,
              "ticks": ""
             }
            },
            "type": "parcoords"
           }
          ],
          "pie": [
           {
            "automargin": true,
            "type": "pie"
           }
          ],
          "scatter": [
           {
            "fillpattern": {
             "fillmode": "overlay",
             "size": 10,
             "solidity": 0.2
            },
            "type": "scatter"
           }
          ],
          "scatter3d": [
           {
            "line": {
             "colorbar": {
              "outlinewidth": 0,
              "ticks": ""
             }
            },
            "marker": {
             "colorbar": {
              "outlinewidth": 0,
              "ticks": ""
             }
            },
            "type": "scatter3d"
           }
          ],
          "scattercarpet": [
           {
            "marker": {
             "colorbar": {
              "outlinewidth": 0,
              "ticks": ""
             }
            },
            "type": "scattercarpet"
           }
          ],
          "scattergeo": [
           {
            "marker": {
             "colorbar": {
              "outlinewidth": 0,
              "ticks": ""
             }
            },
            "type": "scattergeo"
           }
          ],
          "scattergl": [
           {
            "marker": {
             "colorbar": {
              "outlinewidth": 0,
              "ticks": ""
             }
            },
            "type": "scattergl"
           }
          ],
          "scattermap": [
           {
            "marker": {
             "colorbar": {
              "outlinewidth": 0,
              "ticks": ""
             }
            },
            "type": "scattermap"
           }
          ],
          "scattermapbox": [
           {
            "marker": {
             "colorbar": {
              "outlinewidth": 0,
              "ticks": ""
             }
            },
            "type": "scattermapbox"
           }
          ],
          "scatterpolar": [
           {
            "marker": {
             "colorbar": {
              "outlinewidth": 0,
              "ticks": ""
             }
            },
            "type": "scatterpolar"
           }
          ],
          "scatterpolargl": [
           {
            "marker": {
             "colorbar": {
              "outlinewidth": 0,
              "ticks": ""
             }
            },
            "type": "scatterpolargl"
           }
          ],
          "scatterternary": [
           {
            "marker": {
             "colorbar": {
              "outlinewidth": 0,
              "ticks": ""
             }
            },
            "type": "scatterternary"
           }
          ],
          "surface": [
           {
            "colorbar": {
             "outlinewidth": 0,
             "ticks": ""
            },
            "colorscale": [
             [
              0,
              "#0d0887"
             ],
             [
              0.1111111111111111,
              "#46039f"
             ],
             [
              0.2222222222222222,
              "#7201a8"
             ],
             [
              0.3333333333333333,
              "#9c179e"
             ],
             [
              0.4444444444444444,
              "#bd3786"
             ],
             [
              0.5555555555555556,
              "#d8576b"
             ],
             [
              0.6666666666666666,
              "#ed7953"
             ],
             [
              0.7777777777777778,
              "#fb9f3a"
             ],
             [
              0.8888888888888888,
              "#fdca26"
             ],
             [
              1,
              "#f0f921"
             ]
            ],
            "type": "surface"
           }
          ],
          "table": [
           {
            "cells": {
             "fill": {
              "color": "#EBF0F8"
             },
             "line": {
              "color": "white"
             }
            },
            "header": {
             "fill": {
              "color": "#C8D4E3"
             },
             "line": {
              "color": "white"
             }
            },
            "type": "table"
           }
          ]
         },
         "layout": {
          "annotationdefaults": {
           "arrowcolor": "#2a3f5f",
           "arrowhead": 0,
           "arrowwidth": 1
          },
          "autotypenumbers": "strict",
          "coloraxis": {
           "colorbar": {
            "outlinewidth": 0,
            "ticks": ""
           }
          },
          "colorscale": {
           "diverging": [
            [
             0,
             "#8e0152"
            ],
            [
             0.1,
             "#c51b7d"
            ],
            [
             0.2,
             "#de77ae"
            ],
            [
             0.3,
             "#f1b6da"
            ],
            [
             0.4,
             "#fde0ef"
            ],
            [
             0.5,
             "#f7f7f7"
            ],
            [
             0.6,
             "#e6f5d0"
            ],
            [
             0.7,
             "#b8e186"
            ],
            [
             0.8,
             "#7fbc41"
            ],
            [
             0.9,
             "#4d9221"
            ],
            [
             1,
             "#276419"
            ]
           ],
           "sequential": [
            [
             0,
             "#0d0887"
            ],
            [
             0.1111111111111111,
             "#46039f"
            ],
            [
             0.2222222222222222,
             "#7201a8"
            ],
            [
             0.3333333333333333,
             "#9c179e"
            ],
            [
             0.4444444444444444,
             "#bd3786"
            ],
            [
             0.5555555555555556,
             "#d8576b"
            ],
            [
             0.6666666666666666,
             "#ed7953"
            ],
            [
             0.7777777777777778,
             "#fb9f3a"
            ],
            [
             0.8888888888888888,
             "#fdca26"
            ],
            [
             1,
             "#f0f921"
            ]
           ],
           "sequentialminus": [
            [
             0,
             "#0d0887"
            ],
            [
             0.1111111111111111,
             "#46039f"
            ],
            [
             0.2222222222222222,
             "#7201a8"
            ],
            [
             0.3333333333333333,
             "#9c179e"
            ],
            [
             0.4444444444444444,
             "#bd3786"
            ],
            [
             0.5555555555555556,
             "#d8576b"
            ],
            [
             0.6666666666666666,
             "#ed7953"
            ],
            [
             0.7777777777777778,
             "#fb9f3a"
            ],
            [
             0.8888888888888888,
             "#fdca26"
            ],
            [
             1,
             "#f0f921"
            ]
           ]
          },
          "colorway": [
           "#636efa",
           "#EF553B",
           "#00cc96",
           "#ab63fa",
           "#FFA15A",
           "#19d3f3",
           "#FF6692",
           "#B6E880",
           "#FF97FF",
           "#FECB52"
          ],
          "font": {
           "color": "#2a3f5f"
          },
          "geo": {
           "bgcolor": "white",
           "lakecolor": "white",
           "landcolor": "#E5ECF6",
           "showlakes": true,
           "showland": true,
           "subunitcolor": "white"
          },
          "hoverlabel": {
           "align": "left"
          },
          "hovermode": "closest",
          "mapbox": {
           "style": "light"
          },
          "paper_bgcolor": "white",
          "plot_bgcolor": "#E5ECF6",
          "polar": {
           "angularaxis": {
            "gridcolor": "white",
            "linecolor": "white",
            "ticks": ""
           },
           "bgcolor": "#E5ECF6",
           "radialaxis": {
            "gridcolor": "white",
            "linecolor": "white",
            "ticks": ""
           }
          },
          "scene": {
           "xaxis": {
            "backgroundcolor": "#E5ECF6",
            "gridcolor": "white",
            "gridwidth": 2,
            "linecolor": "white",
            "showbackground": true,
            "ticks": "",
            "zerolinecolor": "white"
           },
           "yaxis": {
            "backgroundcolor": "#E5ECF6",
            "gridcolor": "white",
            "gridwidth": 2,
            "linecolor": "white",
            "showbackground": true,
            "ticks": "",
            "zerolinecolor": "white"
           },
           "zaxis": {
            "backgroundcolor": "#E5ECF6",
            "gridcolor": "white",
            "gridwidth": 2,
            "linecolor": "white",
            "showbackground": true,
            "ticks": "",
            "zerolinecolor": "white"
           }
          },
          "shapedefaults": {
           "line": {
            "color": "#2a3f5f"
           }
          },
          "ternary": {
           "aaxis": {
            "gridcolor": "white",
            "linecolor": "white",
            "ticks": ""
           },
           "baxis": {
            "gridcolor": "white",
            "linecolor": "white",
            "ticks": ""
           },
           "bgcolor": "#E5ECF6",
           "caxis": {
            "gridcolor": "white",
            "linecolor": "white",
            "ticks": ""
           }
          },
          "title": {
           "x": 0.05
          },
          "xaxis": {
           "automargin": true,
           "gridcolor": "white",
           "linecolor": "white",
           "ticks": "",
           "title": {
            "standoff": 15
           },
           "zerolinecolor": "white",
           "zerolinewidth": 2
          },
          "yaxis": {
           "automargin": true,
           "gridcolor": "white",
           "linecolor": "white",
           "ticks": "",
           "title": {
            "standoff": 15
           },
           "zerolinecolor": "white",
           "zerolinewidth": 2
          }
         }
        },
        "title": {
         "text": ""
        },
        "width": 800
       }
      }
     },
     "metadata": {},
     "output_type": "display_data"
    },
    {
     "name": "stdout",
     "output_type": "stream",
     "text": [
      "Simulation 43/76 | f = 868.00 MHz | S11 = -32.32 dB\n",
      "Simulation 44/76 | f = 872.00 MHz | S11 = -26.14 dB\n",
      "Simulation 45/76 | f = 876.00 MHz | S11 = -21.28 dB\n",
      "Simulation 46/76 | f = 880.00 MHz | S11 = -18.11 dB\n",
      "Simulation 47/76 | f = 884.00 MHz | S11 = -15.83 dB\n",
      "Simulation 48/76 | f = 888.00 MHz | S11 = -14.06 dB\n",
      "Simulation 49/76 | f = 892.00 MHz | S11 = -12.63 dB\n",
      "Simulation 50/76 | f = 896.00 MHz | S11 = -11.45 dB\n",
      "Simulation 51/76 | f = 900.00 MHz | S11 = -10.45 dB\n",
      "Simulation 52/76 | f = 904.00 MHz | S11 = -9.58 dB\n",
      "Simulation 53/76 | f = 908.00 MHz | S11 = -8.83 dB\n",
      "Simulation 54/76 | f = 912.00 MHz | S11 = -8.17 dB\n",
      "Simulation 55/76 | f = 916.00 MHz | S11 = -7.58 dB\n",
      "Simulation 56/76 | f = 920.00 MHz | S11 = -7.06 dB\n",
      "Simulation 57/76 | f = 924.00 MHz | S11 = -6.59 dB\n",
      "Simulation 58/76 | f = 928.00 MHz | S11 = -6.17 dB\n",
      "Simulation 59/76 | f = 932.00 MHz | S11 = -5.79 dB\n",
      "Simulation 60/76 | f = 936.00 MHz | S11 = -5.44 dB\n",
      "Simulation 61/76 | f = 940.00 MHz | S11 = -5.13 dB\n",
      "Simulation 62/76 | f = 944.00 MHz | S11 = -4.84 dB\n",
      "Simulation 63/76 | f = 948.00 MHz | S11 = -4.58 dB\n",
      "Simulation 64/76 | f = 952.00 MHz | S11 = -4.34 dB\n",
      "Simulation 65/76 | f = 956.00 MHz | S11 = -4.11 dB\n",
      "Simulation 66/76 | f = 960.00 MHz | S11 = -3.91 dB\n",
      "Simulation 67/76 | f = 964.00 MHz | S11 = -3.72 dB\n",
      "Simulation 68/76 | f = 968.00 MHz | S11 = -3.54 dB\n",
      "Simulation 69/76 | f = 972.00 MHz | S11 = -3.38 dB\n",
      "Simulation 70/76 | f = 976.00 MHz | S11 = -3.23 dB\n",
      "Simulation 71/76 | f = 980.00 MHz | S11 = -3.09 dB\n",
      "Simulation 72/76 | f = 984.00 MHz | S11 = -2.95 dB\n",
      "Simulation 73/76 | f = 988.00 MHz | S11 = -2.83 dB\n",
      "Simulation 74/76 | f = 992.00 MHz | S11 = -2.72 dB\n",
      "Simulation 75/76 | f = 996.00 MHz | S11 = -2.61 dB\n",
      "Simulation 76/76 | f = 1000.00 MHz | S11 = -2.51 dB\n"
     ]
    },
    {
     "data": {
      "application/vnd.plotly.v1+json": {
       "config": {
        "plotlyServerURL": "https://plot.ly"
       },
       "data": [
        {
         "hoverinfo": "text",
         "imag": [
          7.600400662114805,
          7.9583644149689965,
          8.300415275222075,
          8.59033930912023,
          8.76830382831668,
          8.743053768260646,
          8.39163898229924,
          7.582166525224809,
          6.236063145340418,
          4.416010840297421,
          2.364243198368899,
          0.4145630897253181,
          -1.1697147088867565,
          -2.2878863193002226,
          -2.9756563578906845,
          -3.3302722737663273,
          -3.4537527460118342,
          -3.428453978205101,
          -3.3130867574268503,
          -3.1467482435839758,
          -2.954423458275236,
          -2.7516213730644523,
          -2.5477158333167607,
          -2.348188944935306,
          -2.1560858160775584,
          -1.9729416125620696,
          -1.7993673598593602,
          -1.6354185717972767,
          -1.4808265821631976,
          -1.3351432193771822,
          -1.1978307452994679,
          -1.0683171690547746,
          -0.9460296348120915,
          -0.8304139308262267,
          -0.7209452391443334,
          -0.6171333941139292,
          -0.5185247412269232,
          -0.42470193609948537,
          -0.33528254074900377,
          -0.24991696319337794,
          -0.1682860852039194,
          -0.09009879273912969,
          0.05698398266608707,
          0.12634301991719904,
          0.19318977037951185,
          0.2577092214538353,
          0.3200708200426316,
          0.3804299822894033,
          0.4389294542136868,
          0.49570053543889,
          0.5508641783983793,
          0.6045319750395004,
          0.6568070423696308,
          0.7077848173488023,
          0.7575537707343074,
          0.8061960485742733,
          0.8537880491802339,
          0.9004009425888043,
          0.9461011387704326,
          0.9909507101592446,
          1.0350077734577992,
          1.078326835118997,
          1.1209591044117961,
          1.1629527775400907,
          1.2043532958936611,
          1.2452035811671924,
          1.2855442497782925,
          1.3254138087473188,
          1.3648488349650012,
          1.4038841395640822,
          1.442552918927449,
          1.4808868937019781,
          1.5189164370436086,
          1.5566706931929435,
          1.5941776873676747
         ],
         "marker": {
          "color": "blue",
          "size": 4
         },
         "mode": "markers+lines",
         "name": "Impedance Points",
         "real": [
          2.6835901701003184,
          3.2334269013311063,
          3.9197931556438994,
          4.773444239077222,
          5.82200338942114,
          7.075740416017011,
          8.50117723740699,
          9.985279604711355,
          11.313713949454574,
          12.210719160483036,
          12.462669334103403,
          12.045223070158261,
          11.128079551027772,
          9.958580105989117,
          8.744913818127479,
          7.612362402011887,
          6.615112558071141,
          5.763816430369755,
          5.048027202015302,
          4.449601566707452,
          3.949369146201091,
          3.5299279259689205,
          3.176508128926548,
          2.8769806309193795,
          2.6215433903974095,
          2.402328566192989,
          2.2130299218946075,
          2.048584071029253,
          1.9049106999295196,
          1.7787060098511456,
          1.6672804864979396,
          1.5684321625511262,
          1.480347722492168,
          1.4015252229274235,
          1.3307135194916464,
          1.2668645952725854,
          1.2090958666025093,
          1.156660227184843,
          1.1089221170102541,
          1.0653383027374006,
          1.0254423601444753,
          0.9888320800218529,
          0.9241209534879878,
          0.8954531872204795,
          0.8689245616993837,
          0.8443318043445395,
          0.8214957163404709,
          0.8002578287325568,
          0.7804775868590204,
          0.7620299703733889,
          0.744803473897856,
          0.7286983874606778,
          0.713625327113011,
          0.6995039751208297,
          0.6862619963594586,
          0.6738341033777747,
          0.6621612473293248,
          0.6511899158177898,
          0.6408715218487478,
          0.6311618706565364,
          0.622020693296871,
          0.6134112376465969,
          0.6052999089030804,
          0.5976559528818527,
          0.5904511764171081,
          0.583659700011003,
          0.5772577385841011,
          0.5712234067733878,
          0.5655365457261007,
          0.5601785687622521,
          0.5551323236390715,
          0.5503819694575159,
          0.5459128665128081,
          0.5417114776147796,
          0.5377652795964061
         ],
         "text": [
          "Z = 134.180+380.020j at 700.0 MHz",
          "Z = 161.671+397.918j at 704.0 MHz",
          "Z = 195.990+415.021j at 708.0 MHz",
          "Z = 238.672+429.517j at 712.0 MHz",
          "Z = 291.100+438.415j at 716.0 MHz",
          "Z = 353.787+437.153j at 720.0 MHz",
          "Z = 425.059+419.582j at 724.0 MHz",
          "Z = 499.264+379.108j at 728.0 MHz",
          "Z = 565.686+311.803j at 732.0 MHz",
          "Z = 610.536+220.801j at 736.0 MHz",
          "Z = 623.133+118.212j at 740.0 MHz",
          "Z = 602.261+20.728j at 744.0 MHz",
          "Z = 556.404-58.486j at 748.0 MHz",
          "Z = 497.929-114.394j at 752.0 MHz",
          "Z = 437.246-148.783j at 756.0 MHz",
          "Z = 380.618-166.514j at 760.0 MHz",
          "Z = 330.756-172.688j at 764.0 MHz",
          "Z = 288.191-171.423j at 768.0 MHz",
          "Z = 252.401-165.654j at 772.0 MHz",
          "Z = 222.480-157.337j at 776.0 MHz",
          "Z = 197.468-147.721j at 780.0 MHz",
          "Z = 176.496-137.581j at 784.0 MHz",
          "Z = 158.825-127.386j at 788.0 MHz",
          "Z = 143.849-117.409j at 792.0 MHz",
          "Z = 131.077-107.804j at 796.0 MHz",
          "Z = 120.116-98.647j at 800.0 MHz",
          "Z = 110.651-89.968j at 804.0 MHz",
          "Z = 102.429-81.771j at 808.0 MHz",
          "Z = 95.246-74.041j at 812.0 MHz",
          "Z = 88.935-66.757j at 816.0 MHz",
          "Z = 83.364-59.892j at 820.0 MHz",
          "Z = 78.422-53.416j at 824.0 MHz",
          "Z = 74.017-47.301j at 828.0 MHz",
          "Z = 70.076-41.521j at 832.0 MHz",
          "Z = 66.536-36.047j at 836.0 MHz",
          "Z = 63.343-30.857j at 840.0 MHz",
          "Z = 60.455-25.926j at 844.0 MHz",
          "Z = 57.833-21.235j at 848.0 MHz",
          "Z = 55.446-16.764j at 852.0 MHz",
          "Z = 53.267-12.496j at 856.0 MHz",
          "Z = 51.272-8.414j at 860.0 MHz",
          "Z = 49.442-4.505j at 864.0 MHz",
          "Z = 46.206+2.849j at 872.0 MHz",
          "Z = 44.773+6.317j at 876.0 MHz",
          "Z = 43.446+9.659j at 880.0 MHz",
          "Z = 42.217+12.885j at 884.0 MHz",
          "Z = 41.075+16.004j at 888.0 MHz",
          "Z = 40.013+19.021j at 892.0 MHz",
          "Z = 39.024+21.946j at 896.0 MHz",
          "Z = 38.101+24.785j at 900.0 MHz",
          "Z = 37.240+27.543j at 904.0 MHz",
          "Z = 36.435+30.227j at 908.0 MHz",
          "Z = 35.681+32.840j at 912.0 MHz",
          "Z = 34.975+35.389j at 916.0 MHz",
          "Z = 34.313+37.878j at 920.0 MHz",
          "Z = 33.692+40.310j at 924.0 MHz",
          "Z = 33.108+42.689j at 928.0 MHz",
          "Z = 32.559+45.020j at 932.0 MHz",
          "Z = 32.044+47.305j at 936.0 MHz",
          "Z = 31.558+49.548j at 940.0 MHz",
          "Z = 31.101+51.750j at 944.0 MHz",
          "Z = 30.671+53.916j at 948.0 MHz",
          "Z = 30.265+56.048j at 952.0 MHz",
          "Z = 29.883+58.148j at 956.0 MHz",
          "Z = 29.523+60.218j at 960.0 MHz",
          "Z = 29.183+62.260j at 964.0 MHz",
          "Z = 28.863+64.277j at 968.0 MHz",
          "Z = 28.561+66.271j at 972.0 MHz",
          "Z = 28.277+68.242j at 976.0 MHz",
          "Z = 28.009+70.194j at 980.0 MHz",
          "Z = 27.757+72.128j at 984.0 MHz",
          "Z = 27.519+74.044j at 988.0 MHz",
          "Z = 27.296+75.946j at 992.0 MHz",
          "Z = 27.086+77.834j at 996.0 MHz",
          "Z = 26.888+79.709j at 1000.0 MHz"
         ],
         "type": "scattersmith"
        },
        {
         "hoverinfo": "text",
         "imag": [
          -0.015089539220481694
         ],
         "marker": {
          "color": "red",
          "size": 10,
          "symbol": "circle"
         },
         "mode": "markers",
         "name": "Impedance at fC=868.0 MHz",
         "real": [
          0.9551591943594978
         ],
         "text": [
          "Z = 47.758-0.754j at 868.0 MHz"
         ],
         "type": "scattersmith"
        }
       ],
       "layout": {
        "height": 618,
        "showlegend": true,
        "template": {
         "data": {
          "bar": [
           {
            "error_x": {
             "color": "#2a3f5f"
            },
            "error_y": {
             "color": "#2a3f5f"
            },
            "marker": {
             "line": {
              "color": "#E5ECF6",
              "width": 0.5
             },
             "pattern": {
              "fillmode": "overlay",
              "size": 10,
              "solidity": 0.2
             }
            },
            "type": "bar"
           }
          ],
          "barpolar": [
           {
            "marker": {
             "line": {
              "color": "#E5ECF6",
              "width": 0.5
             },
             "pattern": {
              "fillmode": "overlay",
              "size": 10,
              "solidity": 0.2
             }
            },
            "type": "barpolar"
           }
          ],
          "carpet": [
           {
            "aaxis": {
             "endlinecolor": "#2a3f5f",
             "gridcolor": "white",
             "linecolor": "white",
             "minorgridcolor": "white",
             "startlinecolor": "#2a3f5f"
            },
            "baxis": {
             "endlinecolor": "#2a3f5f",
             "gridcolor": "white",
             "linecolor": "white",
             "minorgridcolor": "white",
             "startlinecolor": "#2a3f5f"
            },
            "type": "carpet"
           }
          ],
          "choropleth": [
           {
            "colorbar": {
             "outlinewidth": 0,
             "ticks": ""
            },
            "type": "choropleth"
           }
          ],
          "contour": [
           {
            "colorbar": {
             "outlinewidth": 0,
             "ticks": ""
            },
            "colorscale": [
             [
              0,
              "#0d0887"
             ],
             [
              0.1111111111111111,
              "#46039f"
             ],
             [
              0.2222222222222222,
              "#7201a8"
             ],
             [
              0.3333333333333333,
              "#9c179e"
             ],
             [
              0.4444444444444444,
              "#bd3786"
             ],
             [
              0.5555555555555556,
              "#d8576b"
             ],
             [
              0.6666666666666666,
              "#ed7953"
             ],
             [
              0.7777777777777778,
              "#fb9f3a"
             ],
             [
              0.8888888888888888,
              "#fdca26"
             ],
             [
              1,
              "#f0f921"
             ]
            ],
            "type": "contour"
           }
          ],
          "contourcarpet": [
           {
            "colorbar": {
             "outlinewidth": 0,
             "ticks": ""
            },
            "type": "contourcarpet"
           }
          ],
          "heatmap": [
           {
            "colorbar": {
             "outlinewidth": 0,
             "ticks": ""
            },
            "colorscale": [
             [
              0,
              "#0d0887"
             ],
             [
              0.1111111111111111,
              "#46039f"
             ],
             [
              0.2222222222222222,
              "#7201a8"
             ],
             [
              0.3333333333333333,
              "#9c179e"
             ],
             [
              0.4444444444444444,
              "#bd3786"
             ],
             [
              0.5555555555555556,
              "#d8576b"
             ],
             [
              0.6666666666666666,
              "#ed7953"
             ],
             [
              0.7777777777777778,
              "#fb9f3a"
             ],
             [
              0.8888888888888888,
              "#fdca26"
             ],
             [
              1,
              "#f0f921"
             ]
            ],
            "type": "heatmap"
           }
          ],
          "histogram": [
           {
            "marker": {
             "pattern": {
              "fillmode": "overlay",
              "size": 10,
              "solidity": 0.2
             }
            },
            "type": "histogram"
           }
          ],
          "histogram2d": [
           {
            "colorbar": {
             "outlinewidth": 0,
             "ticks": ""
            },
            "colorscale": [
             [
              0,
              "#0d0887"
             ],
             [
              0.1111111111111111,
              "#46039f"
             ],
             [
              0.2222222222222222,
              "#7201a8"
             ],
             [
              0.3333333333333333,
              "#9c179e"
             ],
             [
              0.4444444444444444,
              "#bd3786"
             ],
             [
              0.5555555555555556,
              "#d8576b"
             ],
             [
              0.6666666666666666,
              "#ed7953"
             ],
             [
              0.7777777777777778,
              "#fb9f3a"
             ],
             [
              0.8888888888888888,
              "#fdca26"
             ],
             [
              1,
              "#f0f921"
             ]
            ],
            "type": "histogram2d"
           }
          ],
          "histogram2dcontour": [
           {
            "colorbar": {
             "outlinewidth": 0,
             "ticks": ""
            },
            "colorscale": [
             [
              0,
              "#0d0887"
             ],
             [
              0.1111111111111111,
              "#46039f"
             ],
             [
              0.2222222222222222,
              "#7201a8"
             ],
             [
              0.3333333333333333,
              "#9c179e"
             ],
             [
              0.4444444444444444,
              "#bd3786"
             ],
             [
              0.5555555555555556,
              "#d8576b"
             ],
             [
              0.6666666666666666,
              "#ed7953"
             ],
             [
              0.7777777777777778,
              "#fb9f3a"
             ],
             [
              0.8888888888888888,
              "#fdca26"
             ],
             [
              1,
              "#f0f921"
             ]
            ],
            "type": "histogram2dcontour"
           }
          ],
          "mesh3d": [
           {
            "colorbar": {
             "outlinewidth": 0,
             "ticks": ""
            },
            "type": "mesh3d"
           }
          ],
          "parcoords": [
           {
            "line": {
             "colorbar": {
              "outlinewidth": 0,
              "ticks": ""
             }
            },
            "type": "parcoords"
           }
          ],
          "pie": [
           {
            "automargin": true,
            "type": "pie"
           }
          ],
          "scatter": [
           {
            "fillpattern": {
             "fillmode": "overlay",
             "size": 10,
             "solidity": 0.2
            },
            "type": "scatter"
           }
          ],
          "scatter3d": [
           {
            "line": {
             "colorbar": {
              "outlinewidth": 0,
              "ticks": ""
             }
            },
            "marker": {
             "colorbar": {
              "outlinewidth": 0,
              "ticks": ""
             }
            },
            "type": "scatter3d"
           }
          ],
          "scattercarpet": [
           {
            "marker": {
             "colorbar": {
              "outlinewidth": 0,
              "ticks": ""
             }
            },
            "type": "scattercarpet"
           }
          ],
          "scattergeo": [
           {
            "marker": {
             "colorbar": {
              "outlinewidth": 0,
              "ticks": ""
             }
            },
            "type": "scattergeo"
           }
          ],
          "scattergl": [
           {
            "marker": {
             "colorbar": {
              "outlinewidth": 0,
              "ticks": ""
             }
            },
            "type": "scattergl"
           }
          ],
          "scattermap": [
           {
            "marker": {
             "colorbar": {
              "outlinewidth": 0,
              "ticks": ""
             }
            },
            "type": "scattermap"
           }
          ],
          "scattermapbox": [
           {
            "marker": {
             "colorbar": {
              "outlinewidth": 0,
              "ticks": ""
             }
            },
            "type": "scattermapbox"
           }
          ],
          "scatterpolar": [
           {
            "marker": {
             "colorbar": {
              "outlinewidth": 0,
              "ticks": ""
             }
            },
            "type": "scatterpolar"
           }
          ],
          "scatterpolargl": [
           {
            "marker": {
             "colorbar": {
              "outlinewidth": 0,
              "ticks": ""
             }
            },
            "type": "scatterpolargl"
           }
          ],
          "scatterternary": [
           {
            "marker": {
             "colorbar": {
              "outlinewidth": 0,
              "ticks": ""
             }
            },
            "type": "scatterternary"
           }
          ],
          "surface": [
           {
            "colorbar": {
             "outlinewidth": 0,
             "ticks": ""
            },
            "colorscale": [
             [
              0,
              "#0d0887"
             ],
             [
              0.1111111111111111,
              "#46039f"
             ],
             [
              0.2222222222222222,
              "#7201a8"
             ],
             [
              0.3333333333333333,
              "#9c179e"
             ],
             [
              0.4444444444444444,
              "#bd3786"
             ],
             [
              0.5555555555555556,
              "#d8576b"
             ],
             [
              0.6666666666666666,
              "#ed7953"
             ],
             [
              0.7777777777777778,
              "#fb9f3a"
             ],
             [
              0.8888888888888888,
              "#fdca26"
             ],
             [
              1,
              "#f0f921"
             ]
            ],
            "type": "surface"
           }
          ],
          "table": [
           {
            "cells": {
             "fill": {
              "color": "#EBF0F8"
             },
             "line": {
              "color": "white"
             }
            },
            "header": {
             "fill": {
              "color": "#C8D4E3"
             },
             "line": {
              "color": "white"
             }
            },
            "type": "table"
           }
          ]
         },
         "layout": {
          "annotationdefaults": {
           "arrowcolor": "#2a3f5f",
           "arrowhead": 0,
           "arrowwidth": 1
          },
          "autotypenumbers": "strict",
          "coloraxis": {
           "colorbar": {
            "outlinewidth": 0,
            "ticks": ""
           }
          },
          "colorscale": {
           "diverging": [
            [
             0,
             "#8e0152"
            ],
            [
             0.1,
             "#c51b7d"
            ],
            [
             0.2,
             "#de77ae"
            ],
            [
             0.3,
             "#f1b6da"
            ],
            [
             0.4,
             "#fde0ef"
            ],
            [
             0.5,
             "#f7f7f7"
            ],
            [
             0.6,
             "#e6f5d0"
            ],
            [
             0.7,
             "#b8e186"
            ],
            [
             0.8,
             "#7fbc41"
            ],
            [
             0.9,
             "#4d9221"
            ],
            [
             1,
             "#276419"
            ]
           ],
           "sequential": [
            [
             0,
             "#0d0887"
            ],
            [
             0.1111111111111111,
             "#46039f"
            ],
            [
             0.2222222222222222,
             "#7201a8"
            ],
            [
             0.3333333333333333,
             "#9c179e"
            ],
            [
             0.4444444444444444,
             "#bd3786"
            ],
            [
             0.5555555555555556,
             "#d8576b"
            ],
            [
             0.6666666666666666,
             "#ed7953"
            ],
            [
             0.7777777777777778,
             "#fb9f3a"
            ],
            [
             0.8888888888888888,
             "#fdca26"
            ],
            [
             1,
             "#f0f921"
            ]
           ],
           "sequentialminus": [
            [
             0,
             "#0d0887"
            ],
            [
             0.1111111111111111,
             "#46039f"
            ],
            [
             0.2222222222222222,
             "#7201a8"
            ],
            [
             0.3333333333333333,
             "#9c179e"
            ],
            [
             0.4444444444444444,
             "#bd3786"
            ],
            [
             0.5555555555555556,
             "#d8576b"
            ],
            [
             0.6666666666666666,
             "#ed7953"
            ],
            [
             0.7777777777777778,
             "#fb9f3a"
            ],
            [
             0.8888888888888888,
             "#fdca26"
            ],
            [
             1,
             "#f0f921"
            ]
           ]
          },
          "colorway": [
           "#636efa",
           "#EF553B",
           "#00cc96",
           "#ab63fa",
           "#FFA15A",
           "#19d3f3",
           "#FF6692",
           "#B6E880",
           "#FF97FF",
           "#FECB52"
          ],
          "font": {
           "color": "#2a3f5f"
          },
          "geo": {
           "bgcolor": "white",
           "lakecolor": "white",
           "landcolor": "#E5ECF6",
           "showlakes": true,
           "showland": true,
           "subunitcolor": "white"
          },
          "hoverlabel": {
           "align": "left"
          },
          "hovermode": "closest",
          "mapbox": {
           "style": "light"
          },
          "paper_bgcolor": "white",
          "plot_bgcolor": "#E5ECF6",
          "polar": {
           "angularaxis": {
            "gridcolor": "white",
            "linecolor": "white",
            "ticks": ""
           },
           "bgcolor": "#E5ECF6",
           "radialaxis": {
            "gridcolor": "white",
            "linecolor": "white",
            "ticks": ""
           }
          },
          "scene": {
           "xaxis": {
            "backgroundcolor": "#E5ECF6",
            "gridcolor": "white",
            "gridwidth": 2,
            "linecolor": "white",
            "showbackground": true,
            "ticks": "",
            "zerolinecolor": "white"
           },
           "yaxis": {
            "backgroundcolor": "#E5ECF6",
            "gridcolor": "white",
            "gridwidth": 2,
            "linecolor": "white",
            "showbackground": true,
            "ticks": "",
            "zerolinecolor": "white"
           },
           "zaxis": {
            "backgroundcolor": "#E5ECF6",
            "gridcolor": "white",
            "gridwidth": 2,
            "linecolor": "white",
            "showbackground": true,
            "ticks": "",
            "zerolinecolor": "white"
           }
          },
          "shapedefaults": {
           "line": {
            "color": "#2a3f5f"
           }
          },
          "ternary": {
           "aaxis": {
            "gridcolor": "white",
            "linecolor": "white",
            "ticks": ""
           },
           "baxis": {
            "gridcolor": "white",
            "linecolor": "white",
            "ticks": ""
           },
           "bgcolor": "#E5ECF6",
           "caxis": {
            "gridcolor": "white",
            "linecolor": "white",
            "ticks": ""
           }
          },
          "title": {
           "x": 0.05
          },
          "xaxis": {
           "automargin": true,
           "gridcolor": "white",
           "linecolor": "white",
           "ticks": "",
           "title": {
            "standoff": 15
           },
           "zerolinecolor": "white",
           "zerolinewidth": 2
          },
          "yaxis": {
           "automargin": true,
           "gridcolor": "white",
           "linecolor": "white",
           "ticks": "",
           "title": {
            "standoff": 15
           },
           "zerolinecolor": "white",
           "zerolinewidth": 2
          }
         }
        },
        "title": {
         "text": ""
        },
        "width": 1000
       }
      }
     },
     "metadata": {},
     "output_type": "display_data"
    },
    {
     "name": "stdout",
     "output_type": "stream",
     "text": [
      "\n",
      "Image sauvegardée au format PDF (fond transparent, marges minimales) : data/fig_image/ifa_M_opti3_Smith_chart.pdf\n",
      "\n",
      "\n",
      "📡 Résultats de simulation :\n",
      "→ Fréquence de résonance = 868.00 MHz\n",
      "→ Impédance à f_res      = 47.76-0.75j Ω\n",
      "\n",
      "S11 en dB : [ -0.70825539  -0.75291525  -0.80090684  -0.85252703  -0.90810351\n",
      "  -0.9679984   -1.03261225  -1.10238873  -1.17781969  -1.25945111\n",
      "  -1.34788967  -1.4438103   -1.54796469  -1.66119103  -1.78442503\n",
      "  -1.91871263  -2.06522447  -2.22527266  -2.4003301   -2.59205316\n",
      "  -2.8023082   -3.03320321  -3.28712577  -3.56678944  -3.87529117\n",
      "  -4.21618383  -4.59356956  -5.01222239  -5.47775303  -5.99683535\n",
      "  -6.57752537  -7.22972211  -7.9658526   -8.80192295  -9.75919224\n",
      " -10.86695985 -12.16746893 -13.72514961 -15.64566001 -18.1198997\n",
      " -21.54116223 -26.82026884 -32.32453963 -26.1437122  -21.27718715\n",
      " -18.11378602 -15.82724151 -14.05957713 -12.63354794 -11.44950681\n",
      " -10.44597371  -9.58230502  -8.83017235  -8.16899231  -7.58330117\n",
      "  -7.06116105  -6.59314682  -6.17167706  -5.79055715  -5.44465835\n",
      "  -5.12968644  -4.84201125  -4.57853855  -4.33661189  -4.11393638\n",
      "  -3.90851851  -3.71861806  -3.54270928  -3.37944918  -3.22765135\n",
      "  -3.08626434  -2.95435345  -2.83108543  -2.71571559  -2.60757672\n",
      "  -2.50606967]\n",
      "Seuil pour la bande passante à -3 dB : -29.32 dB\n",
      "Indices où S11 <= -29.32 dB : [42]\n",
      "Impossible de déterminer la bande passante à -3 dB.\n"
     ]
    },
    {
     "data": {
      "image/png": "[encoded data removed]",
      "text/plain": [
       "<Figure size 700x432.624 with 1 Axes>"
      ]
     },
     "metadata": {},
     "output_type": "display_data"
    },
    {
     "name": "stdout",
     "output_type": "stream",
     "text": [
      "\n",
      "Ratio = 1.0\n",
      "\n",
      "\n",
      "Required Accuracy is met!\n",
      "Temps de simulation : 0 minutes et 22.32 secondes\n",
      "Convergence atteinte à l'itération 4\n"
     ]
    }
   ],
   "source": [
    "import time\n",
    "start_time = time.time()\n",
    "iteration = 1\n",
    "max_iter = 20\n",
    "Accuracy = 0.01\n",
    "converged = False\n",
    "while iteration <= max_iter and not converged:\n",
    "    try:\n",
    "        print(f\"\\n------------------------------------------------------Iteration N°{iteration}------------------------------------------------------\\n\")\n",
    "        print(f\"distance meandres = {distance_meandre * 1000:.3f} mm\\n\")\n",
    "        \n",
    "        N_list_elem, new_distance_meandre_elem = creation_ifa(a, b, largeur_piste, distance_meandre, feed, x_t, y_t, save_mesh_folder, mesh_name, mesh_size)\n",
    "        print(f\"Number of meanders = {N_list_elem}\\n\")\n",
    "\n",
    "        print(f\"New distance meandres = {new_distance_meandre_elem * 1000:.3f} mm\")\n",
    "        print(f\"IFA track width = {largeur_piste * 1000:.3f} mm\")\n",
    "        print(f\"position feed = {feed * 1000:.3f} mm\\n\")\n",
    "\n",
    "        frequence_resonance, s11_db, R_res, X_res = simulate(frequencies, ifa_meander_mat, fC, feed_point)\n",
    "        Q = calculate_Q(frequencies, s11_db, frequence_resonance)\n",
    "        plot_s11_curve(fLow, fHigh, nPoints, s11_db, fC)\n",
    "\n",
    "        ratio = frequence_resonance / fC\n",
    "        print(f\"\\nRatio = {ratio}\\n\")\n",
    "        # distance_meandre = distance_meandre / ratio\n",
    "\n",
    "        if (abs((fC - frequence_resonance)/fC) < Accuracy):\n",
    "            min_index = np.argmin(s11_db)\n",
    "            min_s11 = s11_db[min_index]\n",
    "            s11_fc = s11_db[fc_index]\n",
    "            if s11_fc < -10 or min_s11 < -20:\n",
    "                converged = True\n",
    "                print(\"\\nRequired Accuracy is met!\")\n",
    "                break\n",
    "            else:\n",
    "                print(\"\\nWe're looking for the perfect match!!!\")\n",
    "\n",
    "                if ratio == 1:\n",
    "                    print(\"Ratio == 1 we modify the feed because we don't have a good fit\")\n",
    "                    ratio_adapt_feed = math.sqrt(R_res / 50)\n",
    "                    feed = max(min(feed / ratio_adapt_feed, b - 3 * largeur_piste / 2 - 2.5 / 1000), largeur_piste / 2)\n",
    "                else:\n",
    "                    adapt_with_ratio_cube(distance_meandre, largeur_piste, ratio)             # New Addd ---- delete maybe\n",
    "\n",
    "                    feed = max(min(feed * ratio**2, b - 3 * largeur_piste / 2 - 2.5 / 1000), largeur_piste / 2)\n",
    "\n",
    "                    print(f\"\\nresultat feed = {feed * 1000:.3f} mm\")\n",
    "\n",
    "                if feed >= b - 3 * largeur_piste / 2 - 2.5 / 1000 or feed <= largeur_piste / 2:\n",
    "                    distance_meandre, largeur_piste = adapt_with_ratio_square(distance_meandre, largeur_piste, ratio)\n",
    "\n",
    "                feed_point       = np.array([0, feed, 0])\n",
    "\n",
    "        elif abs(frequence_resonance - fC) < 0.07 * fC:\n",
    "            print(f\"\\nWe are within 2% of fc!\\n\")\n",
    "            feed = max(min(feed * ratio**2, b - 3 * largeur_piste / 2 - 2.5 / 1000), largeur_piste / 2)\n",
    "\n",
    "            if feed >= b - 3 * largeur_piste / 2 - 2.5 / 1000 or feed <= largeur_piste / 2:\n",
    "                print(\"\\nExtreme edge reached\\n\")\n",
    "                distance_meandre, largeur_piste = adapt_with_ratio_square(distance_meandre, largeur_piste, ratio)\n",
    "            \n",
    "            feed_point       = np.array([0, feed, 0])\n",
    "        else:\n",
    "            print(f\"\\nWe are FAR of fc!\\n\")\n",
    "            distance_meandre, largeur_piste = adapt_with_ratio_square(distance_meandre, largeur_piste, ratio)\n",
    "\n",
    "            \"\"\" # New Add    ---- delete maybe\n",
    "\n",
    "            feed = max(min(feed * ratio**1, b - 3 * largeur_piste / 2 - 2.5 / 1000), largeur_piste / 2)\n",
    "\n",
    "            if feed >= b - 3 * largeur_piste / 2 - 0.5 / 1000 or feed <= largeur_piste / 2:\n",
    "                print(\"\\nExtreme edge reached\\n\")\n",
    "                distance_meandre, largeur_piste = adapt_with_ratio_square(distance_meandre, largeur_piste, ratio)\n",
    "            \n",
    "            feed_point       = np.array([0, feed, 0])\n",
    "\n",
    "            # New Add   ---- delete maybe \"\"\"\n",
    "        \n",
    "        iteration += 1\n",
    "    except ValueError as e:\n",
    "        print(f\"Error: {e}\")\n",
    "\n",
    "end_time = time.time()\n",
    "simulation_time = end_time - start_time\n",
    "simulation_time_minutes = simulation_time / 60\n",
    "simulation_time_seconds = simulation_time % 60\n",
    "print(f\"Simulation time : {simulation_time_minutes:.0f} minutes et {simulation_time_seconds:.2f} seconds\")\n",
    "if converged:\n",
    "    print(f\"Convergence reached at iteration {iteration}\")\n",
    "else:\n",
    "    print(f\"Convergence not achieved after {max_iter} itérations\")"
   ]
  }
 ],
 "metadata": {
  "kernelspec": {
   "display_name": "antenna_solver",
   "language": "python",
   "name": "python3"
  },
  "language_info": {
   "codemirror_mode": {
    "name": "ipython",
    "version": 3
   },
   "file_extension": ".py",
   "mimetype": "text/x-python",
   "name": "python",
   "nbconvert_exporter": "python",
   "pygments_lexer": "ipython3",
   "version": "3.12.9"
  }
 },
 "nbformat": 4,
 "nbformat_minor": 5
}
