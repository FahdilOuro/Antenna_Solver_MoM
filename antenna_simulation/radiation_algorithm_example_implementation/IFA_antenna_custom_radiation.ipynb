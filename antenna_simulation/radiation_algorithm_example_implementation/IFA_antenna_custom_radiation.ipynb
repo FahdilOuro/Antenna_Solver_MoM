{
 "cells": [
  {
   "cell_type": "code",
   "execution_count": null,
   "metadata": {},
   "outputs": [],
   "source": [
    "from src.radiation_algorithm.radiation_algorithm import *\n",
    "from rwg.rwg6 import plot_surface_current_distribution\n",
    "from efield.efield1 import calculate_electric_magnetic_field_at_point\n",
    "from efield.efield2 import radiation_intensity_distribution_over_sphere_surface\n",
    "from efield.efield3 import antenna_directivity_pattern"
   ]
  },
  {
   "cell_type": "code",
   "execution_count": null,
   "metadata": {},
   "outputs": [],
   "source": [
    "def traitement_de_(filename):\n",
    "    base_name = os.path.splitext(os.path.basename(filename))[0]\n",
    "    print(f\"Traitement de l'antenne {base_name}\")"
   ]
  },
  {
   "cell_type": "code",
   "execution_count": null,
   "metadata": {},
   "outputs": [],
   "source": [
    "# filename_mesh1_IFA = 'data/antennas_mesh/IFA.mat'\n",
    "filename_mesh1_IFA = 'data/antennas_mesh/IFA2.mat'"
   ]
  },
  {
   "cell_type": "code",
   "execution_count": null,
   "metadata": {},
   "outputs": [],
   "source": [
    "# Mesure du temps de début\n",
    "start_time = time.time()\n",
    "\n",
    "# feed_point_IFA = [0.016, 0.046, 0]\n",
    "# feed_point_IFA = [0.004, 0.035, 0]\n",
    "feed_point_IFA = [0.016, 0.035, 0]\n",
    "voltage_amplitude = 1  # Valeur de l'amplitude égale à 1 volt\n",
    "\n",
    "traitement_de_(filename_mesh1_IFA)\n",
    "selected_triangles = radiation_algorithm(filename_mesh1_IFA, 2.4e9, feed_point_IFA, voltage_amplitude, load_from_matlab=False)\n",
    "\n",
    "elapsed_time = time.time() - start_time\n",
    "print(f\"Temps écoulé pour le traitement de l'antenne étudiée : {elapsed_time:.6f} secondes\")\n",
    "print('\\n')"
   ]
  },
  {
   "cell_type": "code",
   "execution_count": null,
   "metadata": {},
   "outputs": [],
   "source": [
    "filename_mesh2_IFA= 'data/antennas_mesh2/IFA2_mesh2.mat'\n",
    "filename_current_IFA = 'data/antennas_current/IFA2_current.mat'\n",
    "\n",
    "plot_surface_current_distribution(filename_mesh2_IFA, filename_current_IFA, radiation=True)"
   ]
  },
  {
   "cell_type": "code",
   "execution_count": null,
   "metadata": {},
   "outputs": [],
   "source": [
    "filename_gain_power_IFA = 'data/antennas_gain_power/IFA2_gain_power.mat'\n",
    "filename_sphere_dense = 'data/sphere_mesh/sphere_dense.mat'"
   ]
  },
  {
   "cell_type": "code",
   "execution_count": null,
   "metadata": {},
   "outputs": [],
   "source": [
    "# Point d'observation pour le calcul des champs\n",
    "observation_point = np.array([0, 0, 10])\n",
    "\n",
    "# Étape 1 : Calcul du champ électrique et magnétique à un point donné\n",
    "print(\"Calculating electric and magnetic fields at observation point...\")\n",
    "calculate_electric_magnetic_field_at_point(filename_mesh2_IFA, filename_current_IFA, observation_point, radiation=True)"
   ]
  },
  {
   "cell_type": "code",
   "execution_count": null,
   "metadata": {},
   "outputs": [],
   "source": [
    "# Étape 2 : Distribution de l'intensité du rayonnement sur une sphère\n",
    "print(\"Calculating radiation intensity distribution over sphere surface...\")\n",
    "radiation_intensity_distribution_over_sphere_surface(filename_mesh2_IFA, filename_current_IFA, filename_sphere_dense, radiation=True)"
   ]
  },
  {
   "cell_type": "code",
   "execution_count": null,
   "metadata": {},
   "outputs": [],
   "source": [
    "# Étape 3 : Génération du diagramme de directivité\n",
    "print(\"Generating antenna directivity pattern...\")\n",
    "antenna_directivity_pattern(filename_mesh2_IFA, filename_current_IFA, filename_gain_power_IFA, radiation=True)"
   ]
  }
 ],
 "metadata": {
  "kernelspec": {
   "display_name": "Python 3 (ipykernel)",
   "language": "python",
   "name": "python3"
  }
 },
 "nbformat": 4,
 "nbformat_minor": 2
}
