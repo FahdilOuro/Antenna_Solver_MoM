{
 "cells": [
  {
   "cell_type": "code",
   "execution_count": null,
   "metadata": {},
   "outputs": [],
   "source": [
    "from src.radiation_algorithm.radiation_algorithm import *"
   ]
  },
  {
   "cell_type": "code",
   "execution_count": null,
   "metadata": {},
   "outputs": [],
   "source": [
    "def traitement_de_(filename):\n",
    "    base_name = os.path.splitext(os.path.basename(filename))[0]\n",
    "    print(f\"Traitement de l'antenne {base_name}\")"
   ]
  },
  {
   "cell_type": "code",
   "execution_count": null,
   "metadata": {},
   "outputs": [],
   "source": [
    "filename_mesh_ifa = 'data/antennas_mesh/IFA_double.mat'"
   ]
  },
  {
   "cell_type": "code",
   "execution_count": null,
   "metadata": {},
   "outputs": [],
   "source": [
    "feed_point_ifa = [-0.0195, 0.025, 0]\n",
    "voltage_amplitude = 1  # Valeur de l'amplitude égale à 1 volt\n",
    "\n",
    "traitement_de_(filename_mesh_ifa)\n",
    "\n",
    "# Mesure du temps de début\n",
    "start_time = time.time()\n",
    "radiation_algorithm(filename_mesh_ifa, 1200e6, feed_point_ifa, voltage_amplitude)\n",
    "elapsed_time = time.time() - start_time\n",
    "\n",
    "print(f\"Temps écoulé pour le traitement de l'antenne étudiée : {elapsed_time:.6f} secondes\")\n",
    "print('\\n')"
   ]
  }
 ],
 "metadata": {
  "kernelspec": {
   "display_name": "Python 3 (ipykernel)",
   "language": "python",
   "name": "python3"
  }
 },
 "nbformat": 4,
 "nbformat_minor": 2
}
