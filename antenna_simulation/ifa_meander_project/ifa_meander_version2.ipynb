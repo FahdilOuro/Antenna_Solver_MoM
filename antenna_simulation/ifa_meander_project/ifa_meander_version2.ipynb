{
 "cells": [
  {
   "cell_type": "code",
   "execution_count": null,
   "id": "27933128",
   "metadata": {},
   "outputs": [],
   "source": [
    "import numpy as np"
   ]
  },
  {
   "cell_type": "code",
   "execution_count": null,
   "id": "4f1cf60c",
   "metadata": {},
   "outputs": [],
   "source": [
    "mesh_name = \"ifa_meander_test.msh\"\n",
    "save_mesh_folder = 'data/gmsh_files/'\n",
    "ifa_meander_mat = 'data/antennas_mesh/ifa_meander_test.mat'\n",
    "ifa_meander_msh = save_mesh_folder + mesh_name"
   ]
  },
  {
   "cell_type": "code",
   "execution_count": null,
   "id": "80b3e257",
   "metadata": {},
   "outputs": [],
   "source": [
    "fC      = 868e6\n",
    "fLow    = 820e6\n",
    "fHigh   = 940e6\n",
    "nPoints = 88"
   ]
  },
  {
   "cell_type": "code",
   "execution_count": null,
   "id": "35c4873b",
   "metadata": {},
   "outputs": [],
   "source": [
    "# Terminal size \n",
    "t_a = 49.22 / 1000   # Hauteur\n",
    "t_b = 13.51 / 1000  # Largeur\n",
    "x_t = np.array([-t_a, 0, 0, -t_a])\n",
    "y_t = np.array([t_b/2, t_b/2, -t_b/2, -t_b/2])"
   ]
  }
 ],
 "metadata": {
  "language_info": {
   "name": "python"
  }
 },
 "nbformat": 4,
 "nbformat_minor": 5
}
