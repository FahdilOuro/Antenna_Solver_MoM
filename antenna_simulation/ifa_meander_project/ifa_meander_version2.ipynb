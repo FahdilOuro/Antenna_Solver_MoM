{
 "cells": [
  {
   "cell_type": "code",
   "execution_count": 1,
   "id": "27933128",
   "metadata": {},
   "outputs": [],
   "source": [
    "import numpy as np\n",
    "from utils.ifa_meander_project.meander_function import *"
   ]
  },
  {
   "cell_type": "code",
   "execution_count": 2,
   "id": "4f1cf60c",
   "metadata": {},
   "outputs": [],
   "source": [
    "mesh_name = \"ifa_meander_2.msh\"\n",
    "save_mesh_folder = 'data/gmsh_files/'\n",
    "ifa_meander_mat = 'data/antennas_mesh/ifa_meander_2.mat'\n",
    "ifa_meander_msh = save_mesh_folder + mesh_name"
   ]
  },
  {
   "cell_type": "code",
   "execution_count": 3,
   "id": "80b3e257",
   "metadata": {},
   "outputs": [
    {
     "name": "stdout",
     "output_type": "stream",
     "text": [
      "nPoints = 11\n"
     ]
    }
   ],
   "source": [
    "fC      = 868e6\n",
    "fLow    = 820e6\n",
    "fHigh   = 940e6\n",
    "nPoints = calculate_nPoints(fLow, fHigh, fC)\n",
    "accuracy= 1e6\n",
    "print(f\"nPoints = {nPoints}\")"
   ]
  },
  {
   "cell_type": "code",
   "execution_count": 4,
   "id": "b5f7cd4d",
   "metadata": {},
   "outputs": [
    {
     "name": "stdout",
     "output_type": "stream",
     "text": [
      "Pour la fréquence de raisonnance 868000000.0 Hz :\n",
      "Longueur d'onde (λ) = 0.3456221198156682 m\n",
      "Quart d'onde (λ/4) = 0.1728110599078341 m\n"
     ]
    }
   ],
   "source": [
    "vitesse_lumiere = 3.0e8  # en mètres par seconde (m/s)\n",
    "longueur_onde = vitesse_lumiere / fC \n",
    "quart_d_onde = longueur_onde / 2\n",
    "\n",
    "print(f\"Pour la fréquence de raisonnance {fC} Hz :\")\n",
    "print(f\"Longueur d'onde (λ) = {longueur_onde} m\")\n",
    "print(f\"Quart d'onde (λ/4) = {quart_d_onde} m\")"
   ]
  },
  {
   "cell_type": "markdown",
   "id": "d96fbe45",
   "metadata": {},
   "source": [
    "frequencies = np.linspace(fLow, fHigh, nPoints)\n",
    "print(\"Liste des frequences : \")\n",
    "count = 1\n",
    "for frequency in frequencies:\n",
    "    print(f\"Simulation Numéro {count} = {frequency / 1e6:.2f} MHz\")\n",
    "    count += 1"
   ]
  },
  {
   "cell_type": "code",
   "execution_count": 5,
   "id": "35c4873b",
   "metadata": {},
   "outputs": [],
   "source": [
    "# Terminal size \n",
    "t_a = 50 / 1000   # Hauteur\n",
    "t_b = 30 / 1000  # Largeur\n",
    "x_t = np.array([-t_a, 0, 0, -t_a])\n",
    "y_t = np.array([t_b/2, t_b/2, -t_b/2, -t_b/2])"
   ]
  },
  {
   "cell_type": "code",
   "execution_count": 6,
   "id": "4418a995",
   "metadata": {},
   "outputs": [],
   "source": [
    "# Génération des points du contour IFA\n",
    "# wid has to be less than min_slot \n",
    "a = 15 / 1000    \n",
    "b = 30 / 1000       \n",
    "wid = 0.5 / 1000    # Largeur des branches\n",
    "min_slot = 3 / 1000\n",
    "Lenght_antenna = quart_d_onde\n",
    "\n",
    "# feed_wid = 1 / 1000\n",
    "feed_wid = wid\n",
    "# feed_point = [0, t_b/2 - wid/2, 0]\n",
    "feed = t_b/2 - 4.28 / 1000\n",
    "feed_point = [0, feed, 0]"
   ]
  },
  {
   "cell_type": "code",
   "execution_count": null,
   "id": "6875285c",
   "metadata": {},
   "outputs": [
    {
     "name": "stdout",
     "output_type": "stream",
     "text": [
      "longueur_meandre = 0.133 \n",
      "\n",
      "longueur_desiree = 0.1728110599078341\n",
      "Longueur Meandre = 0.133\n",
      "The .msh file was successfully saved to: 'data/gmsh_files/ifa_meander_2.msh'\n"
     ]
    }
   ],
   "source": [
    "redimensionner = True\n",
    "while redimensionner:\n",
    "    x, y, longueur_meandre = ifa_creation_center(Lenght_antenna, a, b, wid, min_slot)\n",
    "    if longueur_meandre < Lenght_antenna:\n",
    "        min_slot -= 0.5 / 1000\n",
    "    else:\n",
    "        redimensionner = False\n",
    "\n",
    "# print(f\"Longueur Meandre = {longueur_meandre}\")\n",
    "x_m, y_m = trace_meander(x, y, wid)\n",
    "feed_x = np.array([0, min_slot-wid/2, min_slot-wid/2,0])\n",
    "feed_y = np.array([feed_wid/2, feed_wid/2, -feed_wid/2, -feed_wid/2])\n",
    "antenna_ifa_meander(x_m, y_m, x_t, y_t, feed_x, feed_y, save_mesh_folder, mesh_name, 2.25/1000)"
   ]
  },
  {
   "cell_type": "code",
   "execution_count": null,
   "id": "802b8e88",
   "metadata": {},
   "outputs": [],
   "source": [
    "extract_msh_to_mat(ifa_meander_msh, ifa_meander_mat)\n",
    "s11_db, f_resonance, has_converged = simulate_freq_loop(fLow, fHigh, nPoints, fC, accuracy, ifa_meander_mat, feed_point)\n",
    "plot_s11_curve(fLow, fHigh, nPoints, s11_db, fC)"
   ]
  },
  {
   "cell_type": "code",
   "execution_count": null,
   "id": "4154b5a6",
   "metadata": {},
   "outputs": [],
   "source": [
    "has_converged = False\n",
    "max_iterations = 5\n",
    "iteration = 0\n",
    "\n",
    "while not has_converged and iteration < max_iterations:\n",
    "    print(f\"wid = {wid}\\n\")\n",
    "    print(f\"min_slot = {min_slot}\\n\")\n",
    "    x, y = ifa_creation_center(Lenght_antenna, a, b, wid, min_slot)\n",
    "    x_m, y_m = trace_meander(x, y, wid)\n",
    "    feed_x = np.array([0, min_slot-wid/2, min_slot-wid/2,0])\n",
    "    feed_y = np.array([feed + feed_wid/2, feed + feed_wid/2, feed -feed_wid/2, feed -feed_wid/2])\n",
    "    antenna_ifa_meander(x_m, y_m, x_t, y_t, feed_x, feed_y, save_mesh_folder, mesh_name, 2.25/1000)\n",
    "    extract_msh_to_mat(ifa_meander_msh, ifa_meander_mat)\n",
    "    s11_db, f_resonance, has_converged = simulate_freq_loop(fLow, fHigh, nPoints, fC, accuracy, ifa_meander_mat, feed_point)\n",
    "    plot_s11_curve(fLow, fHigh, nPoints, s11_db, fC)\n",
    "    iteration += 1\n",
    "\n",
    "    if has_converged:\n",
    "        print(f\"Convergence atteinte à l'itération {iteration}\")\n",
    "    else:\n",
    "        print(\"Convergence non atteinte\")\n",
    "        scale = f_resonance / fC\n",
    "        print(f\"Le Scale est : {scale}\")\n",
    "        # 5) Mise à jour des dimensions\n",
    "        # wid      /= scale\n",
    "        min_slot *= scale\n",
    "        print(f\"f_resonance / fC = {f_resonance / fC}\")\n",
    "        print(\"\\n\")\n"
   ]
  },
  {
   "cell_type": "code",
   "execution_count": null,
   "id": "a0fa4d5e",
   "metadata": {},
   "outputs": [],
   "source": [
    "scale = 2500 / 868\n",
    "print(f\"scale = {scale}\")\n",
    "min_slot = 3 / 1000\n",
    "print(f\"min_slot = {min_slot}\")\n",
    "min_slot *= scale\n",
    "print(f\"min_slot = {min_slot}\")"
   ]
  }
 ],
 "metadata": {
  "kernelspec": {
   "display_name": "Python 3 (ipykernel)",
   "language": "python",
   "name": "python3"
  }
 },
 "nbformat": 4,
 "nbformat_minor": 5
}
